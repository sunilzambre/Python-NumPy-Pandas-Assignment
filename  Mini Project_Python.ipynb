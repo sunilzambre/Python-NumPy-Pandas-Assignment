{
 "cells": [
  {
   "cell_type": "markdown",
   "id": "c2e791b1",
   "metadata": {},
   "source": [
    "## 1.Number Guessing Game"
   ]
  },
  {
   "cell_type": "code",
   "execution_count": 1,
   "id": "f9263609",
   "metadata": {},
   "outputs": [
    {
     "name": "stdout",
     "output_type": "stream",
     "text": [
      "Enter a number :5\n",
      "Guessed number is low\n",
      "Enter the number again: 7\n",
      "Guessed number is low\n",
      "Enter the number again: 9\n",
      "Guessed number is high\n",
      "Enter the number again: 8\n",
      "Hey! You guessed it correctly.\n"
     ]
    }
   ],
   "source": [
    "import random\n",
    "n=random.randrange(1,10)\n",
    "guess=int(input(\"Enter a number :\"))\n",
    "while n!=guess:\n",
    "    if guess<n:\n",
    "        print(\"Guessed number is low\")\n",
    "        guess=int(input(\"Enter the number again: \"))\n",
    "    elif guess>n:\n",
    "        print(\"Guessed number is high\")\n",
    "        guess=int(input(\"Enter the number again: \"))\n",
    "    else:\n",
    "        break\n",
    "print(\"Hey! You guessed it correctly.\")"
   ]
  },
  {
   "cell_type": "markdown",
   "id": "53817692",
   "metadata": {},
   "source": [
    "# 2. Find the missing number in an array using python"
   ]
  },
  {
   "cell_type": "code",
   "execution_count": 2,
   "id": "c260808a",
   "metadata": {},
   "outputs": [
    {
     "name": "stdout",
     "output_type": "stream",
     "text": [
      "[3, 6, 8, 10, 11]\n"
     ]
    }
   ],
   "source": [
    "def miss_num(n):\n",
    "    numbers=set(n)\n",
    "    length=len(n)\n",
    "    output=[]\n",
    "    for i in range(1,n[-1]):\n",
    "        if i not in numbers:\n",
    "            output.append(i)\n",
    "    return output\n",
    "list_of_numbers=[1,2,4,5,7,9,12,13,14,15]\n",
    "print(miss_num(list_of_numbers))"
   ]
  },
  {
   "cell_type": "markdown",
   "id": "627cfa8f",
   "metadata": {},
   "source": [
    "# 3.Calculate Mean Median Mode using python"
   ]
  },
  {
   "cell_type": "code",
   "execution_count": 3,
   "id": "d47ad0cb",
   "metadata": {},
   "outputs": [
    {
     "name": "stdout",
     "output_type": "stream",
     "text": [
      "The mean score is: 96.5\n"
     ]
    }
   ],
   "source": [
    "# Calculate the mean score\n",
    "Marks=[95, 96, 97, 93, 94, 98, 99, 100]\n",
    "mean=sum(Marks)/len(Marks)\n",
    "print(\"The mean score is:\",mean)"
   ]
  },
  {
   "cell_type": "code",
   "execution_count": 4,
   "id": "9dd96954",
   "metadata": {},
   "outputs": [
    {
     "name": "stdout",
     "output_type": "stream",
     "text": [
      "The median is: 97\n"
     ]
    }
   ],
   "source": [
    "# calculate the meadian of the score\n",
    "Marks=[95, 96, 97, 93, 94, 98, 99, 100,101]\n",
    "Marks.sort()\n",
    "if len(Marks )%2==0:\n",
    "    m1=Marks[len(Marks)//2]\n",
    "    m2=Marks[len(Marks)//2-1]\n",
    "    meadian=(m1+m2)/2\n",
    "else:\n",
    "    meadian=Marks[len(Marks)//2]\n",
    "print(\"The median is:\",meadian)"
   ]
  },
  {
   "cell_type": "code",
   "execution_count": 5,
   "id": "abb4e252",
   "metadata": {},
   "outputs": [
    {
     "name": "stdout",
     "output_type": "stream",
     "text": [
      "The mode is: 91\n"
     ]
    }
   ],
   "source": [
    "Marks = [91,93,92,91,92,95,94,93,95,96,98,91,96]\n",
    "frequency = {}\n",
    "for i in Marks:\n",
    "    frequency.setdefault(i, 0)\n",
    "    frequency[i]+=1\n",
    "\n",
    "frequent = max(frequency.values())\n",
    "for i, j in frequency.items():\n",
    "    if j == frequent:\n",
    "        mode = i\n",
    "print(\"The mode is:\",mode)"
   ]
  },
  {
   "cell_type": "markdown",
   "id": "f9454052",
   "metadata": {},
   "source": [
    "# 4.Checking the strength of password "
   ]
  },
  {
   "cell_type": "code",
   "execution_count": 6,
   "id": "f66917fc",
   "metadata": {},
   "outputs": [],
   "source": [
    " def get_password_strength(username,password):\n",
    "    c=0\n",
    "    capital='ABCDEFGHIJKLMNOPQRSTUVWXYZ'\n",
    "    c_flag=False\n",
    "    small='abcdefghijklmnopqrstuvwxyz'\n",
    "    s_flag=False\n",
    "    num='0123456789'\n",
    "    n_flag=False\n",
    "    nc_flag=True\n",
    "    if username in password:\n",
    "        print(\"PASSWORD SHOULD NOT CONTAIN USERNAME\")\n",
    "        return\n",
    "    if len(password)>7:\n",
    "        c=c+1\n",
    "    for i in range(len(password)):\n",
    "        if password[i] in small:\n",
    "            s_flag=True\n",
    "        elif password[i] in capital:\n",
    "            c_flag=True\n",
    "        elif password[i] in num:\n",
    "            n_flag=True\n",
    "        if n_flag:\n",
    "            if i!=(len(password)-1):\n",
    "                if num[((num.index(password[i]))+1)]==password[i+1]:\n",
    "                    nc_flag=False\n",
    "            if c_flag and s_flag:\n",
    "                c+=1\n",
    "            if n_flag and nc_flag:\n",
    "                c+=1\n",
    "            if not password.isalnum():\n",
    "                c+=1\n",
    "            if c==4:\n",
    "                print(\"Very Strong\")\n",
    "                return\n",
    "            if c==3:\n",
    "                print(\"Strong\")\n",
    "                return\n",
    "            if c==2:\n",
    "                print(\"moderate\")\n",
    "                return\n",
    "            if c==1:\n",
    "                print('week')\n",
    "                return\n",
    "            if c==0:\n",
    "                print(\"use a different password\")\n",
    "                return"
   ]
  },
  {
   "cell_type": "code",
   "execution_count": 7,
   "id": "d6450988",
   "metadata": {},
   "outputs": [
    {
     "name": "stdout",
     "output_type": "stream",
     "text": [
      "Very Strong\n"
     ]
    }
   ],
   "source": [
    "get_password_strength(\"sunil\",\"sun@B#1357\")"
   ]
  },
  {
   "cell_type": "code",
   "execution_count": 8,
   "id": "8702c42c",
   "metadata": {},
   "outputs": [
    {
     "name": "stdout",
     "output_type": "stream",
     "text": [
      "PASSWORD SHOULD NOT CONTAIN USERNAME\n"
     ]
    }
   ],
   "source": [
    "get_password_strength(\"Sunil\",\"Sunil@123\")"
   ]
  },
  {
   "cell_type": "code",
   "execution_count": 9,
   "id": "7cf1be8b",
   "metadata": {},
   "outputs": [
    {
     "name": "stdout",
     "output_type": "stream",
     "text": [
      "week\n"
     ]
    }
   ],
   "source": [
    "get_password_strength(\"sunil\",\"su@123\")"
   ]
  },
  {
   "cell_type": "code",
   "execution_count": 10,
   "id": "a94bb32c",
   "metadata": {},
   "outputs": [
    {
     "name": "stdout",
     "output_type": "stream",
     "text": [
      "moderate\n"
     ]
    }
   ],
   "source": [
    "get_password_strength(\"sunil\",\"suPN@12\")"
   ]
  },
  {
   "cell_type": "markdown",
   "id": "a28ee75f",
   "metadata": {},
   "source": [
    "# 5.Print emojis using python"
   ]
  },
  {
   "cell_type": "code",
   "execution_count": 11,
   "id": "8519cac9",
   "metadata": {},
   "outputs": [
    {
     "name": "stdout",
     "output_type": "stream",
     "text": [
      "Requirement already satisfied: emoji in c:\\users\\admin\\anaconda3\\lib\\site-packages (2.2.0)\n"
     ]
    }
   ],
   "source": [
    "!pip install emoji"
   ]
  },
  {
   "cell_type": "code",
   "execution_count": 12,
   "id": "fc8ef719",
   "metadata": {},
   "outputs": [],
   "source": [
    "import emoji"
   ]
  },
  {
   "cell_type": "code",
   "execution_count": 13,
   "id": "41fe74ef",
   "metadata": {},
   "outputs": [
    {
     "name": "stdout",
     "output_type": "stream",
     "text": [
      "I love farming💚\n",
      "Red heart❤️\n"
     ]
    }
   ],
   "source": [
    "print(emoji.emojize(\"I love farming:green_heart:\"))\n",
    "print(emoji.emojize(\"Red heart:red_heart:\"))"
   ]
  },
  {
   "cell_type": "code",
   "execution_count": 14,
   "id": "d50c9a6f",
   "metadata": {},
   "outputs": [
    {
     "name": "stdout",
     "output_type": "stream",
     "text": [
      "Red heart🚜\n"
     ]
    }
   ],
   "source": [
    "print(emoji.emojize(\"Red heart:tractor:\"))"
   ]
  },
  {
   "cell_type": "code",
   "execution_count": 15,
   "id": "51cf380f",
   "metadata": {},
   "outputs": [
    {
     "name": "stdout",
     "output_type": "stream",
     "text": [
      "bus--> 🚌\n"
     ]
    }
   ],
   "source": [
    "print(emoji.emojize(\"bus--> :bus:\"))"
   ]
  },
  {
   "cell_type": "code",
   "execution_count": 16,
   "id": "b20680ff",
   "metadata": {},
   "outputs": [
    {
     "name": "stdout",
     "output_type": "stream",
     "text": [
      "😀\n"
     ]
    }
   ],
   "source": [
    "print(emoji.emojize(\":grinning_face:\"))"
   ]
  },
  {
   "cell_type": "code",
   "execution_count": 17,
   "id": "8f913894",
   "metadata": {},
   "outputs": [
    {
     "name": "stdout",
     "output_type": "stream",
     "text": [
      "🙃\n"
     ]
    }
   ],
   "source": [
    "print(emoji.emojize(\":upside-down_face:\"))"
   ]
  },
  {
   "cell_type": "code",
   "execution_count": 18,
   "id": "1498187e",
   "metadata": {},
   "outputs": [
    {
     "name": "stdout",
     "output_type": "stream",
     "text": [
      "🤫\n"
     ]
    }
   ],
   "source": [
    "print(emoji.emojize(\":shushing_face:\"))"
   ]
  },
  {
   "cell_type": "code",
   "execution_count": 19,
   "id": "98e99fb7",
   "metadata": {},
   "outputs": [
    {
     "name": "stdout",
     "output_type": "stream",
     "text": [
      "🤪\n"
     ]
    }
   ],
   "source": [
    "print(emoji.emojize(\":zany_face:\"))"
   ]
  },
  {
   "cell_type": "code",
   "execution_count": 20,
   "id": "44a25157",
   "metadata": {},
   "outputs": [
    {
     "name": "stdout",
     "output_type": "stream",
     "text": [
      "            I love Jupyter Notebook 😍             \n"
     ]
    }
   ],
   "source": [
    "message = \"I love Jupyter Notebook \" + emoji.emojize(\":smiling_face_with_heart-eyes:\")\n",
    "\n",
    "print(f\"{message:^50}\")"
   ]
  },
  {
   "cell_type": "code",
   "execution_count": 21,
   "id": "1b2d6bfa",
   "metadata": {},
   "outputs": [
    {
     "name": "stdout",
     "output_type": "stream",
     "text": [
      ":happy_bouncing_ball:\n"
     ]
    }
   ],
   "source": [
    "print(emoji.emojize(\":happy_bouncing_ball:\"))"
   ]
  },
  {
   "cell_type": "markdown",
   "id": "df02bfd3",
   "metadata": {},
   "source": [
    "# 6. Rock Paper Scissors Game using python"
   ]
  },
  {
   "cell_type": "code",
   "execution_count": 22,
   "id": "964fb580",
   "metadata": {},
   "outputs": [
    {
     "name": "stdout",
     "output_type": "stream",
     "text": [
      "Select Rock, Paper, or Scissor :paper\n",
      "player 2 selected: rock\n",
      "player 1 won\n"
     ]
    }
   ],
   "source": [
    "import random\n",
    "player1=input(\"Select Rock, Paper, or Scissor :\").lower()\n",
    "player2=random.choice([\"Rock\",\"paper\",\"Scissor\"]).lower()\n",
    "print(\"player 2 selected:\",player2)\n",
    "\n",
    "if player1==\"rock\" and player2==\"paper\":\n",
    "    print(\"player 2 won\")\n",
    "elif player1==\"paper\" and player2==\"scissor\":\n",
    "    print(\"player 2 won\")\n",
    "elif player1==\"scissor\" and player2==\"rock\":\n",
    "    print(\"Player 2 won\")\n",
    "elif player1==player2:\n",
    "    print(\"Tie\")\n",
    "else:\n",
    "    print(\"player 1 won\")"
   ]
  }
 ],
 "metadata": {
  "kernelspec": {
   "display_name": "Python 3 (ipykernel)",
   "language": "python",
   "name": "python3"
  },
  "language_info": {
   "codemirror_mode": {
    "name": "ipython",
    "version": 3
   },
   "file_extension": ".py",
   "mimetype": "text/x-python",
   "name": "python",
   "nbconvert_exporter": "python",
   "pygments_lexer": "ipython3",
   "version": "3.9.12"
  }
 },
 "nbformat": 4,
 "nbformat_minor": 5
}
