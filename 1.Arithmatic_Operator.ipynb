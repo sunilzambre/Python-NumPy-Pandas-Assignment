{
 "cells": [
  {
   "cell_type": "markdown",
   "id": "8ad6220d",
   "metadata": {},
   "source": [
    "### 1.Arithmatic operators is used to perform mathematical calculation on numeric data-types "
   ]
  },
  {
   "cell_type": "markdown",
   "id": "6c9f9185",
   "metadata": {},
   "source": [
    "### 1. Addition '+' : it used to add two operands"
   ]
  },
  {
   "cell_type": "code",
   "execution_count": 1,
   "id": "19c0c491",
   "metadata": {},
   "outputs": [
    {
     "name": "stdout",
     "output_type": "stream",
     "text": [
      "Addition of 56 and 44 is: 100\n",
      "Sum of 12, 67, 68 is: 147\n"
     ]
    }
   ],
   "source": [
    "#Addition of two numbers\n",
    "a = 56\n",
    "b = 44\n",
    "c = a+b\n",
    "print(f\"Addition of {a} and {b} is: {c}\")\n",
    "\n",
    "# Addition of three no.\n",
    "d = 12\n",
    "e = 67\n",
    "f = 68\n",
    "g = d + e + f\n",
    "print(f\"Sum of 12, 67, 68 is: {g}\")"
   ]
  },
  {
   "cell_type": "code",
   "execution_count": 2,
   "id": "d91a0632",
   "metadata": {},
   "outputs": [
    {
     "name": "stdout",
     "output_type": "stream",
     "text": [
      "The sum of 15 and 25 is: 40\n",
      "The sum of 10, 20, and 30 is: 60\n"
     ]
    }
   ],
   "source": [
    "# Addition of two numbers\n",
    "num1 = 15\n",
    "num2 = 25\n",
    "result1 = num1 + num2\n",
    "print(f\"The sum of {num1} and {num2} is: {result1}\")\n",
    "\n",
    "# Addition of three numbers\n",
    "num3 = 10\n",
    "num4 = 20\n",
    "num5 = 30\n",
    "result2 = num3 + num4 + num5\n",
    "print(f\"The sum of {num3}, {num4}, and {num5} is: {result2}\")"
   ]
  },
  {
   "cell_type": "markdown",
   "id": "16fd92b1",
   "metadata": {},
   "source": [
    "## 2. Subtraction '-' : it is used to subtract two numbers"
   ]
  },
  {
   "cell_type": "code",
   "execution_count": 3,
   "id": "f6b73619",
   "metadata": {},
   "outputs": [
    {
     "name": "stdout",
     "output_type": "stream",
     "text": [
      "Subtraction of 122 and 23 is: 99\n",
      "Subtraction of 193, 67, 68 is:58\n"
     ]
    }
   ],
   "source": [
    "#Subtraction of two no.\n",
    "a = 122\n",
    "b = 23\n",
    "c = a - b\n",
    "print(f\"Subtraction of {a} and {b} is: {c}\")\n",
    "\n",
    "#Subtraction of three no.\n",
    "d = 193\n",
    "e = 67\n",
    "f = 68\n",
    "g = d - e - f\n",
    "print(f\"Subtraction of 193, 67, 68 is:{g}\")"
   ]
  },
  {
   "cell_type": "code",
   "execution_count": 4,
   "id": "36af74bf",
   "metadata": {},
   "outputs": [
    {
     "name": "stdout",
     "output_type": "stream",
     "text": [
      "Subtraction of 122 and 23 is: 99\n",
      "Subtraction of 193, 67, and 68 is: 58\n"
     ]
    }
   ],
   "source": [
    "def subtract_two_numbers(a, b):\n",
    "    return a - b\n",
    "\n",
    "def subtract_three_numbers(a, b, c):\n",
    "    return a - b - c\n",
    "\n",
    "# Subtraction of two numbers\n",
    "num1 = 122\n",
    "num2 = 23\n",
    "result1 = subtract_two_numbers(num1, num2)\n",
    "print(f\"Subtraction of {num1} and {num2} is: {result1}\")\n",
    "\n",
    "# Subtraction of three numbers\n",
    "num3 = 193\n",
    "num4 = 67\n",
    "num5 = 68\n",
    "result2 = subtract_three_numbers(num3, num4, num5)\n",
    "print(f\"Subtraction of {num3}, {num4}, and {num5} is: {result2}\")"
   ]
  },
  {
   "cell_type": "markdown",
   "id": "ac8c40ca",
   "metadata": {},
   "source": [
    "## 3.Multiplication '*' : it is used to multiply two or more operands"
   ]
  },
  {
   "cell_type": "code",
   "execution_count": 5,
   "id": "e1a33fc5",
   "metadata": {},
   "outputs": [
    {
     "name": "stdout",
     "output_type": "stream",
     "text": [
      "multuplication of 7 and 8 is:56\n"
     ]
    }
   ],
   "source": [
    "#Multiplicaton of two number.\n",
    "a = 7\n",
    "b = 8\n",
    "c = a * b\n",
    "print(f\"multuplication of 7 and 8 is:{c}\")"
   ]
  },
  {
   "cell_type": "code",
   "execution_count": 6,
   "id": "3957e669",
   "metadata": {},
   "outputs": [
    {
     "name": "stdout",
     "output_type": "stream",
     "text": [
      "Enter number1:12\n",
      "Enter number2:3\n",
      "multuplication of 12 and 3 is:36\n"
     ]
    }
   ],
   "source": [
    "# multiplication of two input number\n",
    "d = int(input(\"Enter number1:\"))\n",
    "e = int(input(\"Enter number2:\"))\n",
    "f = d * e\n",
    "print(f\"multuplication of {d} and {e} is:{f}\")"
   ]
  },
  {
   "cell_type": "code",
   "execution_count": 7,
   "id": "f2008590",
   "metadata": {},
   "outputs": [
    {
     "name": "stdout",
     "output_type": "stream",
     "text": [
      "Multiplication of 7 and 8 is: 56\n"
     ]
    }
   ],
   "source": [
    "def multiply_two_numbers(a, b):\n",
    "    return a * b\n",
    "\n",
    "# Multiplication of two numbers\n",
    "a = 7\n",
    "b = 8\n",
    "c = multiply_two_numbers(a, b)\n",
    "print(f\"Multiplication of {a} and {b} is: {c}\")"
   ]
  },
  {
   "cell_type": "code",
   "execution_count": 8,
   "id": "e5929c23",
   "metadata": {},
   "outputs": [
    {
     "name": "stdout",
     "output_type": "stream",
     "text": [
      "Enter number1: 300\n",
      "Enter number2: 15\n",
      "Multiplication of the input numbers is: 4500\n"
     ]
    }
   ],
   "source": [
    "def multiply_input_numbers():\n",
    "    d = int(input(\"Enter number1: \"))\n",
    "    e = int(input(\"Enter number2: \"))\n",
    "    return multiply_two_numbers(d, e)\n",
    "\n",
    "# Multiplication of two input numbers\n",
    "f = multiply_input_numbers()\n",
    "print(f\"Multiplication of the input numbers is: {f}\")"
   ]
  },
  {
   "cell_type": "code",
   "execution_count": 9,
   "id": "7e417519",
   "metadata": {},
   "outputs": [
    {
     "name": "stdout",
     "output_type": "stream",
     "text": [
      "Multiplication of 7 and 8 is: 56\n"
     ]
    }
   ],
   "source": [
    "multiply_two_numbers = lambda a, b: a * b\n",
    "\n",
    "# Multiplication of two numbers\n",
    "a = 7\n",
    "b = 8\n",
    "c = multiply_two_numbers(a, b)\n",
    "print(f\"Multiplication of {a} and {b} is: {c}\")"
   ]
  },
  {
   "cell_type": "code",
   "execution_count": 10,
   "id": "a36af979",
   "metadata": {},
   "outputs": [
    {
     "name": "stdout",
     "output_type": "stream",
     "text": [
      "Enter number1: 12\n",
      "Enter number2: 3\n",
      "Multiplication of 12 and 3 is: 36\n"
     ]
    }
   ],
   "source": [
    "# Multiplication of two input numbers\n",
    "d = int(input(\"Enter number1: \"))\n",
    "e = int(input(\"Enter number2: \"))\n",
    "\n",
    "f = (lambda x, y: x * y)(d, e)\n",
    "\n",
    "print(f\"Multiplication of {d} and {e} is: {f}\")"
   ]
  },
  {
   "cell_type": "code",
   "execution_count": 12,
   "id": "8154a805",
   "metadata": {},
   "outputs": [
    {
     "name": "stdout",
     "output_type": "stream",
     "text": [
      "Multiplication of 7 and 8 is: 56\n",
      "Program execution completed.\n"
     ]
    }
   ],
   "source": [
    "multiply_two_numbers = lambda a, b: a * b\n",
    "\n",
    "try:\n",
    "    # Multiplication of two numbers\n",
    "    a = 7\n",
    "    b = 8\n",
    "    c = multiply_two_numbers(a, b)\n",
    "    print(f\"Multiplication of {a} and {b} is: {c}\")  \n",
    "    \n",
    "except Exception as e:\n",
    "    print(f\"An error occurred: {e}\")\n",
    "\n",
    "finally:\n",
    "    print(\"Program execution completed.\")"
   ]
  },
  {
   "cell_type": "code",
   "execution_count": 13,
   "id": "4f17bffd",
   "metadata": {},
   "outputs": [
    {
     "name": "stdout",
     "output_type": "stream",
     "text": [
      "Enter number1: 120\n",
      "Enter number2: 4\n",
      "Multiplication of 120 and 4 is: 480\n",
      "Program execution completed.\n"
     ]
    }
   ],
   "source": [
    "# Multiplication of two input numbers\n",
    "try:\n",
    "    d = int(input(\"Enter number1: \"))\n",
    "    e = int(input(\"Enter number2: \"))\n",
    "    f = (lambda x, y: x * y)(d, e)\n",
    "    print(f\"Multiplication of {d} and {e} is: {f}\")\n",
    "\n",
    "except ValueError:\n",
    "        print(\"Invalid input. Please enter valid integers for number1 and number2.\")  \n",
    "finally:\n",
    "    print(\"Program execution completed.\")"
   ]
  },
  {
   "cell_type": "code",
   "execution_count": 15,
   "id": "4f3fe87f",
   "metadata": {},
   "outputs": [
    {
     "name": "stdout",
     "output_type": "stream",
     "text": [
      "Enter the first number: 300\n",
      "Enter the second number: 5\n",
      "The result of multiplication is: 1500\n",
      "Program execution completed.\n"
     ]
    }
   ],
   "source": [
    "try:\n",
    "    num1 = int(input(\"Enter the first number: \"))\n",
    "    num2 = int(input(\"Enter the second number: \"))\n",
    "    result = num1 * num2\n",
    "    print(f\"The result of multiplication is: {result}\")\n",
    "\n",
    "except ValueError:\n",
    "    print(\"Invalid input. Please enter valid integers.\")\n",
    "\n",
    "except Exception as e:\n",
    "    print(f\"An error occurred: {e}\")\n",
    "\n",
    "finally:\n",
    "    print(\"Program execution completed.\")"
   ]
  },
  {
   "cell_type": "code",
   "execution_count": 17,
   "id": "eff6b6d2",
   "metadata": {},
   "outputs": [
    {
     "name": "stdout",
     "output_type": "stream",
     "text": [
      "Enter the first number: 3500\n",
      "Enter the second number: 2\n"
     ]
    },
    {
     "name": "stderr",
     "output_type": "stream",
     "text": [
      "Progress: 100%|█████████████████████████████████████████████████████████████| 3500/3500 [06:18<00:00,  9.24iteration/s]"
     ]
    },
    {
     "name": "stdout",
     "output_type": "stream",
     "text": [
      "The result of multiplication is: 7000\n",
      "Program execution completed.\n"
     ]
    },
    {
     "name": "stderr",
     "output_type": "stream",
     "text": [
      "\n"
     ]
    }
   ],
   "source": [
    "from tqdm import tqdm\n",
    "import time\n",
    "\n",
    "try:\n",
    "    num1 = int(input(\"Enter the first number: \"))\n",
    "    num2 = int(input(\"Enter the second number: \"))\n",
    "    \n",
    "    # Initialize the progress bar\n",
    "    progress_bar = tqdm(total=num1, desc=\"Progress\", unit=\"iteration\")\n",
    "    \n",
    "    result = 0\n",
    "    for i in range(num1):\n",
    "        result += num2\n",
    "        time.sleep(0.1)  # Simulating some computation time\n",
    "        progress_bar.update(1)  # Update the progress bar\n",
    "    \n",
    "    progress_bar.close()\n",
    "    print(f\"The result of multiplication is: {result}\")\n",
    "\n",
    "except ValueError:\n",
    "    print(\"Invalid input. Please enter valid integers.\")\n",
    "\n",
    "except Exception as e:\n",
    "    print(f\"An error occurred: {e}\")\n",
    "\n",
    "finally:\n",
    "    print(\"Program execution completed.\")"
   ]
  },
  {
   "cell_type": "markdown",
   "id": "778ccec9",
   "metadata": {},
   "source": [
    "# 4. division '/' : it is used to divide two or more operands"
   ]
  },
  {
   "cell_type": "code",
   "execution_count": 19,
   "id": "d2a469aa",
   "metadata": {},
   "outputs": [
    {
     "name": "stdout",
     "output_type": "stream",
     "text": [
      "Division of 88 by 8 is:11.0\n"
     ]
    }
   ],
   "source": [
    "#Division of two number\n",
    "a = 88\n",
    "b = 8\n",
    "c = a / b\n",
    "print(f\"Division of 88 by 8 is:{c}\")"
   ]
  },
  {
   "cell_type": "code",
   "execution_count": 21,
   "id": "2354c7b6",
   "metadata": {},
   "outputs": [
    {
     "name": "stdout",
     "output_type": "stream",
     "text": [
      "Enter the first number: 120\n",
      "Enter the second number: 0\n",
      "Error: Division by zero is not allowed.\n",
      "Program execution completed.\n"
     ]
    }
   ],
   "source": [
    "try:\n",
    "    d = int(input(\"Enter the first number: \"))\n",
    "    e = int(input(\"Enter the second number: \"))\n",
    "    f = d / e\n",
    "    print(f\"The division of {d} and {e} is: {f}\")\n",
    "\n",
    "except ZeroDivisionError:\n",
    "    print(\"Error: Division by zero is not allowed.\")\n",
    "\n",
    "except ValueError:\n",
    "    print(\"Error: Invalid input. Please enter valid integers.\")\n",
    "\n",
    "except Exception as e:\n",
    "    print(f\"An error occurred: {e}\")\n",
    "finally:\n",
    "    print(\"Program execution completed.\")"
   ]
  },
  {
   "cell_type": "code",
   "execution_count": 22,
   "id": "cb8b8ebc",
   "metadata": {},
   "outputs": [
    {
     "name": "stdout",
     "output_type": "stream",
     "text": [
      "Enter the first number: 300\n",
      "Enter the second number: 5\n",
      "The division of 300 and 5 is: 60.0\n",
      "Program execution completed.\n"
     ]
    }
   ],
   "source": [
    "try:\n",
    "    d = int(input(\"Enter the first number: \"))\n",
    "    e = int(input(\"Enter the second number: \"))\n",
    "    f = d / e\n",
    "    print(f\"The division of {d} and {e} is: {f}\")\n",
    "\n",
    "except ZeroDivisionError:\n",
    "    print(\"Error: Division by zero is not allowed.\")\n",
    "\n",
    "except ValueError:\n",
    "    print(\"Error: Invalid input. Please enter valid integers.\")\n",
    "\n",
    "except Exception as e:\n",
    "    print(f\"An error occurred: {e}\")\n",
    "finally:\n",
    "    print(\"Program execution completed.\")"
   ]
  },
  {
   "cell_type": "code",
   "execution_count": 25,
   "id": "1c45a0f7",
   "metadata": {},
   "outputs": [
    {
     "name": "stdout",
     "output_type": "stream",
     "text": [
      "Enter no1: 400\n",
      "Enter no2: 2\n",
      "Division of 400 and 2 is: 200.0\n"
     ]
    }
   ],
   "source": [
    "# division of two input number\n",
    "d = int(input(\"Enter no1: \"))\n",
    "e = int(input(\"Enter no2: \"))\n",
    "f = d/e\n",
    "print(f\"Division of {d} and {e} is: {f}\")"
   ]
  },
  {
   "cell_type": "code",
   "execution_count": 26,
   "id": "b95428a4",
   "metadata": {},
   "outputs": [
    {
     "name": "stdout",
     "output_type": "stream",
     "text": [
      "Enter the first number: 200\n",
      "Enter the second number: 0\n",
      "Error: Division by zero is not allowed.\n"
     ]
    }
   ],
   "source": [
    "def divide_numbers(num1, num2):\n",
    "    try:\n",
    "        result = num1 / num2\n",
    "        return result\n",
    "    except ZeroDivisionError:\n",
    "        print(\"Error: Division by zero is not allowed.\")\n",
    "    except Exception as e:\n",
    "        print(f\"An error occurred: {e}\")\n",
    "\n",
    "# Get user input\n",
    "num1 = int(input(\"Enter the first number: \"))\n",
    "num2 = int(input(\"Enter the second number: \"))\n",
    "\n",
    "# Call the function to perform division\n",
    "division_result = divide_numbers(num1, num2)\n",
    "\n",
    "# Print the result if it's not None\n",
    "if division_result is not None:\n",
    "    print(f\"The division of {num1} and {num2} is: {division_result}\")"
   ]
  },
  {
   "cell_type": "code",
   "execution_count": 27,
   "id": "0057f956",
   "metadata": {},
   "outputs": [
    {
     "name": "stdout",
     "output_type": "stream",
     "text": [
      "Enter the first number: 300\n",
      "Enter the second number: 15.0\n"
     ]
    },
    {
     "ename": "ValueError",
     "evalue": "invalid literal for int() with base 10: '15.0'",
     "output_type": "error",
     "traceback": [
      "\u001b[1;31m---------------------------------------------------------------------------\u001b[0m",
      "\u001b[1;31mValueError\u001b[0m                                Traceback (most recent call last)",
      "Input \u001b[1;32mIn [27]\u001b[0m, in \u001b[0;36m<cell line: 12>\u001b[1;34m()\u001b[0m\n\u001b[0;32m     10\u001b[0m \u001b[38;5;66;03m# Get user input\u001b[39;00m\n\u001b[0;32m     11\u001b[0m num1 \u001b[38;5;241m=\u001b[39m \u001b[38;5;28mint\u001b[39m(\u001b[38;5;28minput\u001b[39m(\u001b[38;5;124m\"\u001b[39m\u001b[38;5;124mEnter the first number: \u001b[39m\u001b[38;5;124m\"\u001b[39m))\n\u001b[1;32m---> 12\u001b[0m num2 \u001b[38;5;241m=\u001b[39m \u001b[38;5;28;43mint\u001b[39;49m\u001b[43m(\u001b[49m\u001b[38;5;28;43minput\u001b[39;49m\u001b[43m(\u001b[49m\u001b[38;5;124;43m\"\u001b[39;49m\u001b[38;5;124;43mEnter the second number: \u001b[39;49m\u001b[38;5;124;43m\"\u001b[39;49m\u001b[43m)\u001b[49m\u001b[43m)\u001b[49m\n\u001b[0;32m     14\u001b[0m \u001b[38;5;66;03m# Call the function to perform division\u001b[39;00m\n\u001b[0;32m     15\u001b[0m division_result \u001b[38;5;241m=\u001b[39m divide_numbers(num1, num2)\n",
      "\u001b[1;31mValueError\u001b[0m: invalid literal for int() with base 10: '15.0'"
     ]
    }
   ],
   "source": [
    "def divide_numbers(num1, num2):\n",
    "    try:\n",
    "        result = num1 / num2\n",
    "        return result\n",
    "    except ZeroDivisionError:\n",
    "        print(\"Error: Division by zero is not allowed.\")\n",
    "    except Exception as e:\n",
    "        print(f\"An error occurred: {e}\")\n",
    "\n",
    "# Get user input\n",
    "num1 = int(input(\"Enter the first number: \"))\n",
    "num2 = int(input(\"Enter the second number: \"))\n",
    "\n",
    "# Call the function to perform division\n",
    "division_result = divide_numbers(num1, num2)\n",
    "\n",
    "# Print the result if it's not None\n",
    "if division_result is not None:\n",
    "    print(f\"The division of {num1} and {num2} is: {division_result}\")"
   ]
  },
  {
   "cell_type": "code",
   "execution_count": 28,
   "id": "88266161",
   "metadata": {},
   "outputs": [
    {
     "name": "stdout",
     "output_type": "stream",
     "text": [
      "Enter the first number: 300\n",
      "Enter the second number: 150\n",
      "The division of 300 and 150 is: 2.0\n"
     ]
    }
   ],
   "source": [
    "def divide_numbers(num1, num2):\n",
    "    try:\n",
    "        result = num1 / num2\n",
    "        return result\n",
    "    except ZeroDivisionError:\n",
    "        print(\"Error: Division by zero is not allowed.\")\n",
    "    except Exception as e:\n",
    "        print(f\"An error occurred: {e}\")\n",
    "\n",
    "# Get user input\n",
    "num1 = int(input(\"Enter the first number: \"))\n",
    "num2 = int(input(\"Enter the second number: \"))\n",
    "\n",
    "# Call the function to perform division\n",
    "division_result = divide_numbers(num1, num2)\n",
    "\n",
    "# Print the result if it's not None\n",
    "if division_result is not None:\n",
    "    print(f\"The division of {num1} and {num2} is: {division_result}\")"
   ]
  },
  {
   "cell_type": "markdown",
   "id": "b9aed9b3",
   "metadata": {},
   "source": [
    "## 5. modulus '%' : it return the remainder of division"
   ]
  },
  {
   "cell_type": "code",
   "execution_count": 29,
   "id": "b5ca8bda",
   "metadata": {},
   "outputs": [
    {
     "name": "stdout",
     "output_type": "stream",
     "text": [
      "Remainder is:0\n"
     ]
    }
   ],
   "source": [
    "#Division of two no. \n",
    "a = 8\n",
    "b = 2\n",
    "c = a % b\n",
    "print(f\"Remainder is:{c}\")"
   ]
  },
  {
   "cell_type": "code",
   "execution_count": 31,
   "id": "47952dad",
   "metadata": {},
   "outputs": [
    {
     "name": "stdout",
     "output_type": "stream",
     "text": [
      "Enter no1: 3600\n",
      "Enter no2: 21\n",
      "Remainder is:9\n"
     ]
    }
   ],
   "source": [
    "#Division of input no.\n",
    "d = int(input(\"Enter no1: \"))\n",
    "e = int(input(\"Enter no2: \"))\n",
    "f = d%e\n",
    "print(f\"Remainder is:{f}\")"
   ]
  },
  {
   "cell_type": "markdown",
   "id": "770310a7",
   "metadata": {},
   "source": [
    "## 6. floor_division '//' : it return the integer part of the answer of result"
   ]
  },
  {
   "cell_type": "code",
   "execution_count": 32,
   "id": "c98bd7cd",
   "metadata": {},
   "outputs": [
    {
     "name": "stdout",
     "output_type": "stream",
     "text": [
      "floor division is:2\n"
     ]
    }
   ],
   "source": [
    "a = 13\n",
    "b = 5\n",
    "c = a//b\n",
    "print(f\"floor division is:{c}\")"
   ]
  },
  {
   "cell_type": "code",
   "execution_count": 36,
   "id": "41d7b4a7",
   "metadata": {},
   "outputs": [
    {
     "name": "stdout",
     "output_type": "stream",
     "text": [
      "Enter no1: 13\n",
      "Enter no2: 2\n",
      "floor division is:6\n"
     ]
    }
   ],
   "source": [
    "#Division of two input no \n",
    "d = int(input(\"Enter no1: \"))\n",
    "e = int(input(\"Enter no2: \"))\n",
    "f = d // e\n",
    "print(f\"floor division is:{f}\")"
   ]
  },
  {
   "cell_type": "markdown",
   "id": "a7fc022a",
   "metadata": {},
   "source": [
    "### 7 exponential'**' : it is used to perform the raised to power canculation(square and cubes)"
   ]
  },
  {
   "cell_type": "code",
   "execution_count": 39,
   "id": "7c0f00a8",
   "metadata": {},
   "outputs": [
    {
     "name": "stdout",
     "output_type": "stream",
     "text": [
      "Enter no: 15\n",
      "Square of 15 is : 225\n"
     ]
    }
   ],
   "source": [
    "#Square of no.\n",
    "a = int(input(\"Enter no: \"))\n",
    "b = a**2\n",
    "print(f\"Square of {a} is : {b}\")"
   ]
  },
  {
   "cell_type": "code",
   "execution_count": 41,
   "id": "687ff25d",
   "metadata": {},
   "outputs": [
    {
     "name": "stdout",
     "output_type": "stream",
     "text": [
      "Enter no. :7\n",
      "Cube of 7 is: 343\n"
     ]
    }
   ],
   "source": [
    "#Cube of a no.\n",
    "c = int(input(\"Enter no. :\"))\n",
    "d = c**3\n",
    "print(f\"Cube of {c} is: {d}\")"
   ]
  },
  {
   "cell_type": "code",
   "execution_count": 42,
   "id": "36c2ddc2",
   "metadata": {},
   "outputs": [
    {
     "name": "stdout",
     "output_type": "stream",
     "text": [
      "Enter a number: 2\n",
      "The exponential of the square root of 2.0 is: 4.1132503787829275\n"
     ]
    }
   ],
   "source": [
    "import math\n",
    "\n",
    "# Get the input number\n",
    "num = float(input(\"Enter a number: \"))\n",
    "\n",
    "# Calculate the exponential of the square root\n",
    "result = math.exp(math.sqrt(num))\n",
    "\n",
    "# Print the result\n",
    "print(f\"The exponential of the square root of {num} is: {result}\")"
   ]
  },
  {
   "cell_type": "code",
   "execution_count": 43,
   "id": "2f224a00",
   "metadata": {},
   "outputs": [
    {
     "name": "stdout",
     "output_type": "stream",
     "text": [
      "The square root of 5 is: 2.23606797749979\n"
     ]
    }
   ],
   "source": [
    "# Calculate the square root of 5\n",
    "result = math.sqrt(5)\n",
    "\n",
    "# Print the result\n",
    "print(f\"The square root of 5 is: {result}\")"
   ]
  },
  {
   "cell_type": "code",
   "execution_count": 44,
   "id": "fac768c2",
   "metadata": {},
   "outputs": [
    {
     "name": "stdout",
     "output_type": "stream",
     "text": [
      "The cube of the square root of 15 is: 58.09475019311126\n"
     ]
    }
   ],
   "source": [
    "# Calculate the square root of 15\n",
    "sqrt_15 = math.sqrt(15)\n",
    "\n",
    "# Calculate the cube of the square root of 15\n",
    "cube_sqrt_15 = sqrt_15 ** 3\n",
    "\n",
    "# Print the result\n",
    "print(f\"The cube of the square root of 15 is: {cube_sqrt_15}\")"
   ]
  },
  {
   "cell_type": "code",
   "execution_count": 45,
   "id": "ef1a7f30",
   "metadata": {},
   "outputs": [
    {
     "name": "stderr",
     "output_type": "stream",
     "text": [
      "100%|████████████████████████████████████████████████████████████████████████████████████████| 100/100 [00:00<?, ?it/s]"
     ]
    },
    {
     "name": "stdout",
     "output_type": "stream",
     "text": [
      "The cube of the square root of 15 is: 58.09475019311126\n"
     ]
    },
    {
     "name": "stderr",
     "output_type": "stream",
     "text": [
      "\n"
     ]
    }
   ],
   "source": [
    "from tqdm import tqdm\n",
    "\n",
    "# Calculate the square root of 15\n",
    "sqrt_15 = math.sqrt(15)\n",
    "\n",
    "# Initialize the progress bar\n",
    "pbar = tqdm(total=100)\n",
    "\n",
    "# Perform the calculation and update the progress bar\n",
    "for i in range(100):\n",
    "    cube_sqrt_15 = sqrt_15 ** 3\n",
    "    pbar.update(1)\n",
    "\n",
    "# Close the progress bar\n",
    "pbar.close()\n",
    "\n",
    "# Print the result\n",
    "print(f\"The cube of the square root of 15 is: {cube_sqrt_15}\")"
   ]
  }
 ],
 "metadata": {
  "kernelspec": {
   "display_name": "Python 3 (ipykernel)",
   "language": "python",
   "name": "python3"
  },
  "language_info": {
   "codemirror_mode": {
    "name": "ipython",
    "version": 3
   },
   "file_extension": ".py",
   "mimetype": "text/x-python",
   "name": "python",
   "nbconvert_exporter": "python",
   "pygments_lexer": "ipython3",
   "version": "3.9.12"
  }
 },
 "nbformat": 4,
 "nbformat_minor": 5
}
