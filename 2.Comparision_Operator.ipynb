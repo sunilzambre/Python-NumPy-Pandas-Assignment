{
 "cells": [
  {
   "cell_type": "markdown",
   "id": "04437c88",
   "metadata": {},
   "source": [
    "## 2] Comparision operator: They are used to compare the operands"
   ]
  },
  {
   "cell_type": "markdown",
   "id": "c0ad0636",
   "metadata": {},
   "source": [
    "## 1 equal to '==' : it return true value when operands are true else false"
   ]
  },
  {
   "cell_type": "code",
   "execution_count": 1,
   "id": "56a235c6",
   "metadata": {},
   "outputs": [
    {
     "name": "stdout",
     "output_type": "stream",
     "text": [
      "True\n"
     ]
    }
   ],
   "source": [
    "e = 7\n",
    "f = 7\n",
    "c = bool(e==f)\n",
    "print(c)"
   ]
  },
  {
   "cell_type": "code",
   "execution_count": 3,
   "id": "9093c8f3",
   "metadata": {},
   "outputs": [
    {
     "name": "stdout",
     "output_type": "stream",
     "text": [
      "5 is equal to 5\n",
      "Input two equal no.\n"
     ]
    }
   ],
   "source": [
    "a = 5\n",
    "b = 5\n",
    "if a == b:\n",
    "    print(f\"{a} is equal to {b}\")\n",
    "print(f\"Input two equal no.\")"
   ]
  },
  {
   "cell_type": "markdown",
   "id": "cb9e036a",
   "metadata": {},
   "source": [
    "### 2. not equal to '!=' : it return true value when operands are not equal else return false value"
   ]
  },
  {
   "cell_type": "code",
   "execution_count": 5,
   "id": "d9c1e99a",
   "metadata": {},
   "outputs": [
    {
     "name": "stdout",
     "output_type": "stream",
     "text": [
      "True\n"
     ]
    }
   ],
   "source": [
    "e = 7\n",
    "f = 9\n",
    "g = e != f\n",
    "print(g)"
   ]
  },
  {
   "cell_type": "code",
   "execution_count": 6,
   "id": "e04165a9",
   "metadata": {},
   "outputs": [
    {
     "name": "stdout",
     "output_type": "stream",
     "text": [
      "7 is not equal to 4\n",
      "Enter two not equal no.\n"
     ]
    }
   ],
   "source": [
    "a=7\n",
    "b=4\n",
    "if a!=b:\n",
    "    print(f\"{a} is not equal to {b}\")\n",
    "print(\"Enter two not equal no.\")"
   ]
  },
  {
   "cell_type": "markdown",
   "id": "247924f9",
   "metadata": {},
   "source": [
    "## 3. grater than '>' : it return true value when left operand is greater than right operand"
   ]
  },
  {
   "cell_type": "code",
   "execution_count": 7,
   "id": "017c5eb1",
   "metadata": {},
   "outputs": [
    {
     "name": "stdout",
     "output_type": "stream",
     "text": [
      "True\n"
     ]
    }
   ],
   "source": [
    "e = 7\n",
    "f = 5\n",
    "print(e>f)"
   ]
  },
  {
   "cell_type": "code",
   "execution_count": 8,
   "id": "ea42fda5",
   "metadata": {},
   "outputs": [
    {
     "name": "stdout",
     "output_type": "stream",
     "text": [
      "8 is greater than 6\n",
      "Enter two no.\n"
     ]
    }
   ],
   "source": [
    "a = 8\n",
    "b = 6\n",
    "if a > b:\n",
    "    print(f\"{a} is greater than {b}\")\n",
    "print(\"Enter two no.\")"
   ]
  },
  {
   "cell_type": "markdown",
   "id": "22a0da6d",
   "metadata": {},
   "source": [
    "### 4. greater than or equal to '>=' : it return true value when left operand is greater than or equal to right operand"
   ]
  },
  {
   "cell_type": "code",
   "execution_count": 9,
   "id": "f4ddb53a",
   "metadata": {},
   "outputs": [
    {
     "name": "stdout",
     "output_type": "stream",
     "text": [
      "True\n"
     ]
    }
   ],
   "source": [
    "e = 8\n",
    "f = 8\n",
    "print(e >= f)"
   ]
  },
  {
   "cell_type": "code",
   "execution_count": 10,
   "id": "ca7e7ee9",
   "metadata": {},
   "outputs": [
    {
     "name": "stdout",
     "output_type": "stream",
     "text": [
      "9 is greater than or equal to 9\n",
      "Enter two no.\n"
     ]
    }
   ],
   "source": [
    "a = 9\n",
    "b = 9\n",
    "if a >= b:\n",
    "    print(f\"{a} is greater than or equal to {b}\")\n",
    "print(\"Enter two no.\")"
   ]
  },
  {
   "cell_type": "markdown",
   "id": "4cc6b62d",
   "metadata": {},
   "source": [
    "## 5. less than '<' : it return true value when left operand is less than right operand"
   ]
  },
  {
   "cell_type": "code",
   "execution_count": 11,
   "id": "b9127baf",
   "metadata": {},
   "outputs": [
    {
     "name": "stdout",
     "output_type": "stream",
     "text": [
      "True\n"
     ]
    }
   ],
   "source": [
    "e = 8\n",
    "f = 9\n",
    "print(e < f)"
   ]
  },
  {
   "cell_type": "code",
   "execution_count": 12,
   "id": "dc0e63a1",
   "metadata": {},
   "outputs": [
    {
     "name": "stdout",
     "output_type": "stream",
     "text": [
      "7 is less than 8\n",
      "enter two no. \n"
     ]
    }
   ],
   "source": [
    "a = 7\n",
    "b = 8\n",
    "if a<b:\n",
    "    print(a,\"is less than\",b)\n",
    "print(\"enter two no. \")"
   ]
  },
  {
   "cell_type": "markdown",
   "id": "581a1968",
   "metadata": {},
   "source": [
    "### 6. less than or equal to '<=' : it return true value when left operand is less than or equal to right operand."
   ]
  },
  {
   "cell_type": "code",
   "execution_count": 13,
   "id": "88365b82",
   "metadata": {},
   "outputs": [
    {
     "name": "stdout",
     "output_type": "stream",
     "text": [
      "True\n"
     ]
    }
   ],
   "source": [
    "e = 6\n",
    "f = 8\n",
    "print(e <= f)"
   ]
  },
  {
   "cell_type": "code",
   "execution_count": 14,
   "id": "b2c8b8d3",
   "metadata": {},
   "outputs": [
    {
     "name": "stdout",
     "output_type": "stream",
     "text": [
      "7 is less than or equal to 9\n",
      "Enter two no.\n"
     ]
    }
   ],
   "source": [
    "a = 7\n",
    "b = 9\n",
    "if a <= b:\n",
    "    print(f\"{a} is less than or equal to {b}\")\n",
    "print(\"Enter two no.\")"
   ]
  },
  {
   "cell_type": "code",
   "execution_count": 15,
   "id": "827435c8",
   "metadata": {},
   "outputs": [
    {
     "name": "stdout",
     "output_type": "stream",
     "text": [
      "False\n"
     ]
    }
   ],
   "source": [
    "#Equal to (==):\n",
    "x = 5\n",
    "y = 7\n",
    "print(x == y)  # Output: False"
   ]
  },
  {
   "cell_type": "code",
   "execution_count": 16,
   "id": "0e037eed",
   "metadata": {},
   "outputs": [
    {
     "name": "stdout",
     "output_type": "stream",
     "text": [
      "False\n"
     ]
    }
   ],
   "source": [
    "#Not equal to (!=):\n",
    "a = 10\n",
    "b = 10\n",
    "print(a != b)  # Output: False"
   ]
  },
  {
   "cell_type": "code",
   "execution_count": 17,
   "id": "bb72d15d",
   "metadata": {},
   "outputs": [
    {
     "name": "stdout",
     "output_type": "stream",
     "text": [
      "True\n"
     ]
    }
   ],
   "source": [
    "#Greater than (>)\n",
    "age = 25\n",
    "print(age > 18)  # Output: True"
   ]
  },
  {
   "cell_type": "code",
   "execution_count": 18,
   "id": "15d6a3de",
   "metadata": {},
   "outputs": [
    {
     "name": "stdout",
     "output_type": "stream",
     "text": [
      "True\n"
     ]
    }
   ],
   "source": [
    "#Less than (<):\n",
    "temperature = 15\n",
    "print(temperature < 30)  # Output: True"
   ]
  },
  {
   "cell_type": "code",
   "execution_count": 19,
   "id": "d4e4d43d",
   "metadata": {},
   "outputs": [
    {
     "name": "stdout",
     "output_type": "stream",
     "text": [
      "True\n"
     ]
    }
   ],
   "source": [
    "#Greater than or equal to (>=)\n",
    "count = 100\n",
    "print(count >= 100)  # Output: True"
   ]
  },
  {
   "cell_type": "code",
   "execution_count": 20,
   "id": "796d5623",
   "metadata": {},
   "outputs": [
    {
     "name": "stdout",
     "output_type": "stream",
     "text": [
      "False\n"
     ]
    }
   ],
   "source": [
    "#Less than or equal to (<=)\n",
    "marks = 80\n",
    "print(marks <= 75)  # Output: False"
   ]
  }
 ],
 "metadata": {
  "kernelspec": {
   "display_name": "Python 3 (ipykernel)",
   "language": "python",
   "name": "python3"
  },
  "language_info": {
   "codemirror_mode": {
    "name": "ipython",
    "version": 3
   },
   "file_extension": ".py",
   "mimetype": "text/x-python",
   "name": "python",
   "nbconvert_exporter": "python",
   "pygments_lexer": "ipython3",
   "version": "3.9.12"
  }
 },
 "nbformat": 4,
 "nbformat_minor": 5
}
