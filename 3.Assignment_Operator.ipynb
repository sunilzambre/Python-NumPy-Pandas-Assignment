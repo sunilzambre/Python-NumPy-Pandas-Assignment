{
 "cells": [
  {
   "cell_type": "markdown",
   "id": "3e52e782",
   "metadata": {},
   "source": [
    "## 3] Assignment operators: use to assign a value to variable."
   ]
  },
  {
   "cell_type": "markdown",
   "id": "083cdd1f",
   "metadata": {},
   "source": [
    "## 1.Assignment operator \"=\" : it assign value to a variable"
   ]
  },
  {
   "cell_type": "code",
   "execution_count": 1,
   "id": "ca23c981",
   "metadata": {},
   "outputs": [
    {
     "name": "stdout",
     "output_type": "stream",
     "text": [
      "value of a is 66.\n",
      "value of b is (7-9j).\n",
      "value of c is 99.7.\n"
     ]
    }
   ],
   "source": [
    "a = 66\n",
    "b = 7-9j\n",
    "c = 99.7\n",
    "print('''value of a is {0}.\n",
    "value of b is {1}.\n",
    "value of c is {2}.'''.format(a,b,c))"
   ]
  },
  {
   "cell_type": "markdown",
   "id": "96b3e305",
   "metadata": {},
   "source": [
    "## 2. Plus equal to operator +=\n",
    "#### it increment the current value of variable with specified value and store that value in the variable itself\n",
    "### a+=b is equal to a=a+b"
   ]
  },
  {
   "cell_type": "code",
   "execution_count": 4,
   "id": "3f3a6f44",
   "metadata": {},
   "outputs": [
    {
     "name": "stdout",
     "output_type": "stream",
     "text": [
      "a += b is equal to a = a + b: a = 10\n",
      "a = a + b is equal to a = 14: a = 10\n",
      "The final result is:14\n"
     ]
    }
   ],
   "source": [
    "a = 6\n",
    "b = 4\n",
    "a += b\n",
    "print(f\"a += b is equal to a = a + b: a = {a}\")\n",
    "print(f\"a = a + b is equal to a = {a + b}: a = {a}\")\n",
    "b += a\n",
    "print(f\"The final result is:{b}\")"
   ]
  },
  {
   "cell_type": "markdown",
   "id": "9d62ba65",
   "metadata": {},
   "source": [
    "## 3.Minus equal to \"-=\" :\n",
    "### it decrement the current value of variable with specified value and store that value in the variable itself\n",
    "# a-=b is equal to a=a-b"
   ]
  },
  {
   "cell_type": "code",
   "execution_count": 5,
   "id": "8be185a8",
   "metadata": {},
   "outputs": [
    {
     "name": "stdout",
     "output_type": "stream",
     "text": [
      "a -= b is equal to a = a - b\n",
      "a = a - b = -5\n",
      "b = b - a = 12\n"
     ]
    }
   ],
   "source": [
    "a, b = 2, 7\n",
    "a -= b\n",
    "b -= a\n",
    "print(\"a -= b is equal to a = a - b\")\n",
    "print(f\"a = a - b = {a}\")\n",
    "print(f\"b = b - a = {b}\")"
   ]
  },
  {
   "cell_type": "markdown",
   "id": "14ac7c51",
   "metadata": {},
   "source": [
    "## 4. asterisc equal to \"*=\"\n",
    "### it multiply the current value of variable with specified value and store that value in the variable itself\n",
    "# a*=b is equal to a=a*b"
   ]
  },
  {
   "cell_type": "code",
   "execution_count": 7,
   "id": "8ee49fbe",
   "metadata": {},
   "outputs": [
    {
     "name": "stdout",
     "output_type": "stream",
     "text": [
      "a*=b is equal to a=a*b\n",
      "a=a*b=36\n",
      "Final Result:324\n"
     ]
    }
   ],
   "source": [
    "a,b=4,9\n",
    "a*=b\n",
    "print(f\"a*=b is equal to a=a*b\")\n",
    "print(f\"a=a*b={a}\")\n",
    "b*=a\n",
    "print(f\"Final Result:{b}\")"
   ]
  },
  {
   "cell_type": "markdown",
   "id": "9025b2fd",
   "metadata": {},
   "source": [
    "# 5. slash equal to \"/=\"\n",
    "### it divide the current value of variable with specified value and store that value in the variable itself\n",
    "# a /= b is equal to a = a / b"
   ]
  },
  {
   "cell_type": "code",
   "execution_count": 8,
   "id": "027ad87d",
   "metadata": {},
   "outputs": [
    {
     "name": "stdout",
     "output_type": "stream",
     "text": [
      "a /= b is equal to a = a / b\n",
      "a=a*b=1.2\n",
      "Result is:4.166666666666667\n"
     ]
    }
   ],
   "source": [
    "a, b = 6, 5\n",
    "a /= b\n",
    "b /= a\n",
    "print(f\"a /= b is equal to a = a / b\")\n",
    "print(f\"a=a*b={a}\")\n",
    "print(f\"Result is:{b}\")"
   ]
  },
  {
   "cell_type": "markdown",
   "id": "8defe4a7",
   "metadata": {},
   "source": [
    "# 6. modulus equal to \"%=\"\n",
    "### it module divide the current value of variable with specified value and store that value in the variable itself\n",
    "# a %= b is equal to a = a % b"
   ]
  },
  {
   "cell_type": "code",
   "execution_count": 10,
   "id": "5941699b",
   "metadata": {},
   "outputs": [
    {
     "name": "stdout",
     "output_type": "stream",
     "text": [
      "a %= b is equal to a = a % b\n",
      "a = a % b = 7\n",
      "Result is:2\n"
     ]
    }
   ],
   "source": [
    "a, b = 7, 9\n",
    "a %= b\n",
    "b %= a\n",
    "print(f\"a %= b is equal to a = a % b\")\n",
    "print(f\"a = a % b = {a}\")\n",
    "print(f\"Result is:{b}\")"
   ]
  },
  {
   "cell_type": "markdown",
   "id": "242e8ac9",
   "metadata": {},
   "source": [
    "# 7. double asterisc equal to \"**=\"\n",
    "### it power multiply the current value of variable with specified value and store that value in the variable itself\n",
    "# a**= b is equal to a = a ** b"
   ]
  },
  {
   "cell_type": "code",
   "execution_count": 11,
   "id": "32ad27cd",
   "metadata": {},
   "outputs": [
    {
     "name": "stdout",
     "output_type": "stream",
     "text": [
      "a**=b is equal to a= a ** b\n",
      "a = a ** b =25\n",
      "Final result:33554432\n"
     ]
    }
   ],
   "source": [
    "a, b = 5, 2\n",
    "a **= b\n",
    "b **= a\n",
    "print(f\"a**=b is equal to a= a ** b\")\n",
    "print(f\"a = a ** b ={a}\")\n",
    "print(f\"Final result:{b}\")"
   ]
  },
  {
   "cell_type": "markdown",
   "id": "72d42b90",
   "metadata": {},
   "source": [
    "# 8.duble slash(floor division) equal to \"//=\"\n",
    "# a //= b is equal to a = a // b"
   ]
  },
  {
   "cell_type": "code",
   "execution_count": 13,
   "id": "f539a35a",
   "metadata": {},
   "outputs": [
    {
     "name": "stdout",
     "output_type": "stream",
     "text": [
      "a //= b is equal to a = a // b\n",
      "a = a // b = 1\n",
      "Result is:5\n"
     ]
    }
   ],
   "source": [
    "a, b = 9, 5\n",
    "a //= b\n",
    "b //= a\n",
    "print(f\"a //= b is equal to a = a // b\")\n",
    "print(f\"a = a // b = {a}\")\n",
    "print(f\"Result is:{b}\")"
   ]
  },
  {
   "cell_type": "code",
   "execution_count": 14,
   "id": "cacc851b",
   "metadata": {},
   "outputs": [
    {
     "name": "stdout",
     "output_type": "stream",
     "text": [
      "x += y: 15\n",
      "x -= y: 10\n",
      "x *= y: 50\n",
      "x /= y: 10.0\n",
      "x %= y: 0.0\n",
      "x **= y: 0.0\n",
      "x //= y: 0.0\n"
     ]
    }
   ],
   "source": [
    "x = 10\n",
    "y = 5\n",
    "\n",
    "# Addition assignment\n",
    "x += y\n",
    "print(\"x += y:\", x)  # Output: 15\n",
    "\n",
    "# Subtraction assignment\n",
    "x -= y\n",
    "print(\"x -= y:\", x)  # Output: 10\n",
    "\n",
    "# Multiplication assignment\n",
    "x *= y\n",
    "print(\"x *= y:\", x)  # Output: 50\n",
    "\n",
    "# Division assignment\n",
    "x /= y\n",
    "print(\"x /= y:\", x)  # Output: 10.0\n",
    "\n",
    "# Modulus assignment\n",
    "x %= y\n",
    "print(\"x %= y:\", x)  # Output: 0.0\n",
    "\n",
    "# Exponentiation assignment\n",
    "x **= y\n",
    "print(\"x **= y:\", x)  # Output: 0.0\n",
    "\n",
    "# Floor division assignment\n",
    "x //= y\n",
    "print(\"x //= y:\", x)  # Output: 0.0"
   ]
  }
 ],
 "metadata": {
  "kernelspec": {
   "display_name": "Python 3 (ipykernel)",
   "language": "python",
   "name": "python3"
  },
  "language_info": {
   "codemirror_mode": {
    "name": "ipython",
    "version": 3
   },
   "file_extension": ".py",
   "mimetype": "text/x-python",
   "name": "python",
   "nbconvert_exporter": "python",
   "pygments_lexer": "ipython3",
   "version": "3.9.12"
  }
 },
 "nbformat": 4,
 "nbformat_minor": 5
}
