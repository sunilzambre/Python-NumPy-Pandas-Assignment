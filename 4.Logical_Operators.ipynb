{
 "cells": [
  {
   "cell_type": "markdown",
   "id": "40817131",
   "metadata": {},
   "source": [
    "### '''1. logical and - only T and T is True rest of is False T and T=T '''"
   ]
  },
  {
   "cell_type": "code",
   "execution_count": 1,
   "id": "eae3cb9b",
   "metadata": {},
   "outputs": [
    {
     "name": "stdout",
     "output_type": "stream",
     "text": [
      "True\n",
      "False\n",
      "False\n"
     ]
    }
   ],
   "source": [
    "a=True\n",
    "b=False\n",
    "print(a and a)\n",
    "print(a and b)\n",
    "print(b and b)"
   ]
  },
  {
   "cell_type": "markdown",
   "id": "5a70ab44",
   "metadata": {},
   "source": [
    "## ''' 2. logical or -only F or  F is False rest of is True F or F=F '''"
   ]
  },
  {
   "cell_type": "code",
   "execution_count": 2,
   "id": "d44abeab",
   "metadata": {},
   "outputs": [
    {
     "name": "stdout",
     "output_type": "stream",
     "text": [
      "True\n",
      "False\n",
      "True\n"
     ]
    }
   ],
   "source": [
    "print(a or a)\n",
    "print(b or b)\n",
    "print(a or b)"
   ]
  },
  {
   "cell_type": "markdown",
   "id": "21fe350c",
   "metadata": {},
   "source": [
    "## ''' 3. logical not - it return the negation of passed value ~T=F and ~F=T '''"
   ]
  },
  {
   "cell_type": "code",
   "execution_count": 3,
   "id": "23306076",
   "metadata": {},
   "outputs": [
    {
     "name": "stdout",
     "output_type": "stream",
     "text": [
      "False\n",
      "True\n",
      "True\n"
     ]
    }
   ],
   "source": [
    "print(not a)\n",
    "print(not b)\n",
    "print(not(a and b))"
   ]
  },
  {
   "cell_type": "markdown",
   "id": "d7f15e9d",
   "metadata": {},
   "source": [
    "## Combined logical operation\n",
    "### The precedence order is - not > and > or   ''' the value \"0\" is always \"False\" and rest of every thing is \"True\" '''"
   ]
  },
  {
   "cell_type": "code",
   "execution_count": 4,
   "id": "bbeb1880",
   "metadata": {},
   "outputs": [
    {
     "name": "stdout",
     "output_type": "stream",
     "text": [
      "0\n",
      "hello\n",
      "True False\n",
      "True\n",
      "False\n",
      "True\n",
      "True\n",
      "True\n"
     ]
    }
   ],
   "source": [
    "c=0\n",
    "d=\"hello\"\n",
    "print(c and d)\n",
    "print(c or d)\n",
    "print(not c,not d)\n",
    "print(a and (b or a ))\n",
    "print(not(a or b and c))\n",
    "print((a or b)and(b or a))\n",
    "print(not a and b or a)\n",
    "print(a or b and d or not b)"
   ]
  },
  {
   "cell_type": "markdown",
   "id": "842112a2",
   "metadata": {},
   "source": [
    "## Logical AND (and)"
   ]
  },
  {
   "cell_type": "code",
   "execution_count": 5,
   "id": "1ac3417e",
   "metadata": {},
   "outputs": [
    {
     "name": "stdout",
     "output_type": "stream",
     "text": [
      "True\n"
     ]
    }
   ],
   "source": [
    "x = 5\n",
    "y = 10\n",
    "result = (x < 10) and (y > 5)\n",
    "print(result)  # Output: True"
   ]
  },
  {
   "cell_type": "markdown",
   "id": "2928bbfe",
   "metadata": {},
   "source": [
    "## Logical OR (or)"
   ]
  },
  {
   "cell_type": "code",
   "execution_count": 6,
   "id": "81893672",
   "metadata": {},
   "outputs": [
    {
     "name": "stdout",
     "output_type": "stream",
     "text": [
      "False\n"
     ]
    }
   ],
   "source": [
    "x = 5\n",
    "y = 10\n",
    "result = (x > 10) or (y < 5)\n",
    "print(result)  # Output: False"
   ]
  },
  {
   "cell_type": "markdown",
   "id": "8a7ca4a8",
   "metadata": {},
   "source": [
    "## Logical NOT (not)"
   ]
  },
  {
   "cell_type": "code",
   "execution_count": 7,
   "id": "813f89a4",
   "metadata": {},
   "outputs": [
    {
     "name": "stdout",
     "output_type": "stream",
     "text": [
      "False\n"
     ]
    }
   ],
   "source": [
    "x = True\n",
    "result = not x\n",
    "print(result)  # Output: False"
   ]
  }
 ],
 "metadata": {
  "kernelspec": {
   "display_name": "Python 3 (ipykernel)",
   "language": "python",
   "name": "python3"
  },
  "language_info": {
   "codemirror_mode": {
    "name": "ipython",
    "version": 3
   },
   "file_extension": ".py",
   "mimetype": "text/x-python",
   "name": "python",
   "nbconvert_exporter": "python",
   "pygments_lexer": "ipython3",
   "version": "3.9.12"
  }
 },
 "nbformat": 4,
 "nbformat_minor": 5
}
