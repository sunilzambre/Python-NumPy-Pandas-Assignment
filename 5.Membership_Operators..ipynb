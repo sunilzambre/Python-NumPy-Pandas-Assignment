{
 "cells": [
  {
   "cell_type": "markdown",
   "id": "9856807e",
   "metadata": {},
   "source": [
    "### Membership operator is used to check whether the value is present or not present in sequence.                  It return either true or false value"
   ]
  },
  {
   "cell_type": "markdown",
   "id": "1bf50ecc",
   "metadata": {},
   "source": [
    "- 1 \"in\" operator - it return true value when value is present in sequence else return false"
   ]
  },
  {
   "cell_type": "code",
   "execution_count": 1,
   "id": "cb869807",
   "metadata": {},
   "outputs": [
    {
     "name": "stdout",
     "output_type": "stream",
     "text": [
      "True\n",
      "True\n",
      "True\n",
      "False\n",
      "False\n",
      "False\n"
     ]
    }
   ],
   "source": [
    "list = [\"a\",\"e\",\"i\",\"o\",\"u\"]\n",
    "print(\"a\" in list)\n",
    "print(\"e\" in list)\n",
    "print(\"o\" in list)\n",
    "print(\"b\" in list)\n",
    "\n",
    "x =\"u\" in list\n",
    "print(x and False)\n",
    "print(\"c\" in list)"
   ]
  },
  {
   "cell_type": "markdown",
   "id": "51bef7d5",
   "metadata": {},
   "source": [
    "# 2. \"not in\" operator"
   ]
  },
  {
   "cell_type": "code",
   "execution_count": 2,
   "id": "73665240",
   "metadata": {},
   "outputs": [
    {
     "name": "stdout",
     "output_type": "stream",
     "text": [
      "True\n",
      "True\n",
      "False\n",
      "True\n",
      "True\n",
      "\n"
     ]
    }
   ],
   "source": [
    "tuple=(2,4,6,8,10)\n",
    "print(1 not in tuple)\n",
    "print(3 not in tuple)\n",
    "print(8 not in tuple)\n",
    "\n",
    "y=10 not in tuple\n",
    "print(y or True)\n",
    "print(\"h\" not in tuple)\n",
    "print()"
   ]
  },
  {
   "cell_type": "code",
   "execution_count": 3,
   "id": "dd98de05",
   "metadata": {},
   "outputs": [
    {
     "name": "stdout",
     "output_type": "stream",
     "text": [
      "True\n",
      "False\n",
      "True\n",
      "True\n"
     ]
    }
   ],
   "source": [
    "# string\n",
    "s=\"Sunil\"\n",
    "print(\"S\" in s)\n",
    "print(\"l\" not in s)\n",
    "print(\"Sun\" in s)\n",
    "\n",
    "n=56,56,67\n",
    "print(56 in n)"
   ]
  },
  {
   "cell_type": "code",
   "execution_count": 4,
   "id": "c84634fd",
   "metadata": {},
   "outputs": [
    {
     "name": "stdout",
     "output_type": "stream",
     "text": [
      "True\n",
      "\n"
     ]
    }
   ],
   "source": [
    "#dictionary\n",
    "dic={1:\"a\",2:\"b\",3:\"c\"}\n",
    "print(3 in dic)\n",
    "print()"
   ]
  },
  {
   "cell_type": "code",
   "execution_count": 5,
   "id": "d0122cab",
   "metadata": {},
   "outputs": [
    {
     "name": "stdout",
     "output_type": "stream",
     "text": [
      "True\n",
      "True\n",
      "False\n"
     ]
    }
   ],
   "source": [
    "# combined form\n",
    "print((\"a\" in list) and (9 not in tuple))\n",
    "print((\"x\" not in list) or (7 in tuple))\n",
    "print((\"b\" in list) and (5 not in tuple) or (not(\"u\" in list)))"
   ]
  },
  {
   "cell_type": "markdown",
   "id": "2cb880a0",
   "metadata": {},
   "source": [
    "### 1.In operator: It returns True if a value is found in the sequence, and False otherwise.  <br> 2.Not in operator: It returns True if a value is not found in the sequence, and False  otherwise."
   ]
  },
  {
   "cell_type": "code",
   "execution_count": 6,
   "id": "8715825c",
   "metadata": {},
   "outputs": [
    {
     "name": "stdout",
     "output_type": "stream",
     "text": [
      "True\n",
      "False\n",
      "False\n",
      "True\n"
     ]
    }
   ],
   "source": [
    "def is_member(value, sequence):\n",
    "    if value in sequence:\n",
    "        return True\n",
    "    else:\n",
    "        return False\n",
    "\n",
    "def is_not_member(value, sequence):\n",
    "    if value not in sequence:\n",
    "        return True\n",
    "    else:\n",
    "        return False\n",
    "my_list = [1, 2, 3, 4, 5]\n",
    "\n",
    "print(is_member(3, my_list))        # Output: True\n",
    "print(is_member(6, my_list))        # Output: False\n",
    "\n",
    "print(is_not_member(3, my_list))    # Output: False\n",
    "print(is_not_member(6, my_list))    # Output: True"
   ]
  },
  {
   "cell_type": "code",
   "execution_count": 8,
   "id": "36fc9c66",
   "metadata": {},
   "outputs": [
    {
     "name": "stdout",
     "output_type": "stream",
     "text": [
      "3 is present in the list\n",
      "6 is not present in the list\n"
     ]
    }
   ],
   "source": [
    "my_list = [1, 2, 3, 4, 5]\n",
    "\n",
    "if 3 in my_list:\n",
    "    print(\"3 is present in the list\")\n",
    "\n",
    "if 6 not in my_list:\n",
    "    print(\"6 is not present in the list\")"
   ]
  },
  {
   "cell_type": "code",
   "execution_count": 9,
   "id": "8e51039d",
   "metadata": {},
   "outputs": [
    {
     "name": "stdout",
     "output_type": "stream",
     "text": [
      "True\n",
      "False\n",
      "True\n",
      "False\n"
     ]
    }
   ],
   "source": [
    "def is_vowel(char):\n",
    "    vowels = ['a', 'e', 'i', 'o', 'u']\n",
    "    if char.lower() in vowels:\n",
    "        return True\n",
    "    else:\n",
    "        return False\n",
    "print(is_vowel('a'))    # Output: True\n",
    "print(is_vowel('b'))    # Output: False\n",
    "print(is_vowel('E'))    # Output: True\n",
    "print(is_vowel('Z'))    # Output: False"
   ]
  },
  {
   "cell_type": "code",
   "execution_count": 12,
   "id": "d65f8412",
   "metadata": {},
   "outputs": [
    {
     "name": "stdout",
     "output_type": "stream",
     "text": [
      "2\n",
      "1\n",
      "1\n",
      "5\n",
      "0\n",
      "2\n",
      "3\n",
      "3\n"
     ]
    }
   ],
   "source": [
    "def count_vowels(word):\n",
    "    vowels = 'aeiou'\n",
    "    count = 0\n",
    "    for char in word:\n",
    "        if char in vowels:\n",
    "            count += 1\n",
    "    return count\n",
    "print(count_vowels(\"hello\"))      # Output: 2\n",
    "print(count_vowels(\"python\"))     # Output: 1\n",
    "print(count_vowels(\"world\"))      # Output: 1\n",
    "print(count_vowels(\"aeiou\"))      # Output: 5\n",
    "print(count_vowels(\"xyz\"))        # Output: 0\n",
    "print(count_vowels(\"sunil\"))      #Output: 2\n",
    "print(count_vowels(\"zambare\"))    #Output: 2\n",
    "print(count_vowels(\"tasgaon\"))    #Output: 3"
   ]
  }
 ],
 "metadata": {
  "kernelspec": {
   "display_name": "Python 3 (ipykernel)",
   "language": "python",
   "name": "python3"
  },
  "language_info": {
   "codemirror_mode": {
    "name": "ipython",
    "version": 3
   },
   "file_extension": ".py",
   "mimetype": "text/x-python",
   "name": "python",
   "nbconvert_exporter": "python",
   "pygments_lexer": "ipython3",
   "version": "3.9.12"
  }
 },
 "nbformat": 4,
 "nbformat_minor": 5
}
