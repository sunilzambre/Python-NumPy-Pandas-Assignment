{
 "cells": [
  {
   "cell_type": "markdown",
   "id": "a605a9fa",
   "metadata": {},
   "source": [
    "### Identity Operator :- used to check whether operands has same memory location. It return either true or false value"
   ]
  },
  {
   "cell_type": "markdown",
   "id": "57b91e1b",
   "metadata": {},
   "source": [
    "## 1. \"is\" operator."
   ]
  },
  {
   "cell_type": "code",
   "execution_count": 1,
   "id": "09e8ab3a",
   "metadata": {},
   "outputs": [
    {
     "name": "stdout",
     "output_type": "stream",
     "text": [
      "True\n",
      "True\n",
      "False\n",
      "False\n",
      "True\n",
      "\n"
     ]
    }
   ],
   "source": [
    "a=\"Wow\"\n",
    "b=99.96\n",
    "c=b\n",
    "d=\"Wow\"\n",
    "color=[\"red\",\"blue\",\"green\"]\n",
    "color1=[\"red\",\"blue\",\"green\"]\n",
    "print(a is d)\n",
    "print(b is c)\n",
    "print(color is color1)\n",
    "print(d is b)\n",
    "print(d is d)\n",
    "print()"
   ]
  },
  {
   "cell_type": "markdown",
   "id": "ef592d28",
   "metadata": {},
   "source": [
    "## 2. \"is not\" operator"
   ]
  },
  {
   "cell_type": "code",
   "execution_count": 2,
   "id": "d6bf986b",
   "metadata": {},
   "outputs": [
    {
     "name": "stdout",
     "output_type": "stream",
     "text": [
      "True\n",
      "True\n",
      "False\n",
      "False\n",
      "False\n"
     ]
    }
   ],
   "source": [
    "p=56\n",
    "q=\"happy\"\n",
    "r=c\n",
    "s=\"Happy\"\n",
    "print(q is not s)\n",
    "print(p is not r)\n",
    "print(r is not b)\n",
    "print(r is not r)\n",
    "print(c is not b)"
   ]
  },
  {
   "cell_type": "code",
   "execution_count": 3,
   "id": "ff4cebd1",
   "metadata": {},
   "outputs": [
    {
     "name": "stdout",
     "output_type": "stream",
     "text": [
      "False\n",
      "True\n",
      "True\n",
      "False\n"
     ]
    }
   ],
   "source": [
    "def are_identical(obj1, obj2):\n",
    "    if obj1 is obj2:\n",
    "        return True\n",
    "    else:\n",
    "        return False\n",
    "\n",
    "def are_not_identical(obj1, obj2):\n",
    "    if obj1 is not obj2:\n",
    "        return True\n",
    "    else:\n",
    "        return False\n",
    "x = [1, 2, 3]\n",
    "y = [1, 2, 3]\n",
    "z = x\n",
    "\n",
    "print(are_identical(x, y))           # Output: False\n",
    "print(are_identical(x, z))           # Output: True\n",
    "\n",
    "print(are_not_identical(x, y))       # Output: True\n",
    "print(are_not_identical(x, z))       # Output: False"
   ]
  },
  {
   "cell_type": "code",
   "execution_count": 4,
   "id": "dda2334a",
   "metadata": {},
   "outputs": [
    {
     "name": "stdout",
     "output_type": "stream",
     "text": [
      "x and z have the same identity\n",
      "x and y do not have the same identity\n"
     ]
    }
   ],
   "source": [
    "x = [1, 2, 3]\n",
    "y = [1, 2, 3]\n",
    "z = x\n",
    "\n",
    "if x is y:\n",
    "    print(\"x and y have the same identity\")\n",
    "\n",
    "if x is z:\n",
    "    print(\"x and z have the same identity\")\n",
    "\n",
    "if x is not y:\n",
    "    print(\"x and y do not have the same identity\")\n",
    "\n",
    "if x is not z:\n",
    "    print(\"x and z do not have the same identity\")"
   ]
  },
  {
   "cell_type": "code",
   "execution_count": 5,
   "id": "25bb2e9e",
   "metadata": {},
   "outputs": [
    {
     "name": "stdout",
     "output_type": "stream",
     "text": [
      "The strings have the same identity.\n",
      "The strings have different identities.\n",
      "The strings have the same identity.\n",
      "The strings have different identities.\n"
     ]
    }
   ],
   "source": [
    "def check_same_string(str1, str2):\n",
    "    if str1 is str2:\n",
    "        return \"The strings have the same identity.\"\n",
    "    else:\n",
    "        return \"The strings have different identities.\"\n",
    "\n",
    "def check_different_string(str1, str2):\n",
    "    if str1 is not str2:\n",
    "        return \"The strings have different identities.\"\n",
    "    else:\n",
    "        return \"The strings have the same identity.\"\n",
    "a = \"Hello\"\n",
    "b = \"Hello\"\n",
    "c = \"World\"\n",
    "\n",
    "print(check_same_string(a, b))              # Output: The strings have the same identity.\n",
    "print(check_same_string(a, c))              # Output: The strings have different identities.\n",
    "\n",
    "print(check_different_string(a, b))         # Output: The strings have the same identity.\n",
    "print(check_different_string(a, c))         # Output: The strings have different identities."
   ]
  },
  {
   "cell_type": "code",
   "execution_count": 6,
   "id": "98f1ebac",
   "metadata": {},
   "outputs": [
    {
     "name": "stdout",
     "output_type": "stream",
     "text": [
      "True\n",
      "False\n",
      "False\n",
      "True\n"
     ]
    }
   ],
   "source": [
    "# Lambda function to check if a number is positive\n",
    "check_positive = lambda num: num > 0\n",
    "\n",
    "# Lambda function to check if two objects have the same identity\n",
    "check_same_identity = lambda obj1, obj2: obj1 is obj2\n",
    "print(check_positive(5))            # Output: True\n",
    "print(check_positive(-2))           # Output: False\n",
    "\n",
    "x = [1, 2, 3]\n",
    "y = [1, 2, 3]\n",
    "z = x\n",
    "\n",
    "print(check_same_identity(x, y))     # Output: False\n",
    "print(check_same_identity(x, z))     # Output: True"
   ]
  },
  {
   "cell_type": "code",
   "execution_count": 7,
   "id": "8464f265",
   "metadata": {},
   "outputs": [
    {
     "name": "stdout",
     "output_type": "stream",
     "text": [
      "The minimum value is 1\n"
     ]
    }
   ],
   "source": [
    "from functools import reduce\n",
    "\n",
    "my_list = [5, 2, 8, 3, 1]\n",
    "\n",
    "# Custom function that uses the identity operator to find the minimum value\n",
    "min_value = reduce(lambda x, y: x if x < y else y, my_list)\n",
    "\n",
    "print(f\"The minimum value is {min_value}\")  # Output: 1"
   ]
  }
 ],
 "metadata": {
  "kernelspec": {
   "display_name": "Python 3 (ipykernel)",
   "language": "python",
   "name": "python3"
  },
  "language_info": {
   "codemirror_mode": {
    "name": "ipython",
    "version": 3
   },
   "file_extension": ".py",
   "mimetype": "text/x-python",
   "name": "python",
   "nbconvert_exporter": "python",
   "pygments_lexer": "ipython3",
   "version": "3.9.12"
  }
 },
 "nbformat": 4,
 "nbformat_minor": 5
}
