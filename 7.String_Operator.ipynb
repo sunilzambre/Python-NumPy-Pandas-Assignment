{
 "cells": [
  {
   "cell_type": "markdown",
   "id": "e716caf9",
   "metadata": {},
   "source": [
    "## String Operator - there are two operator that can be performed on string                             '''1. concatenation - \"+\" use to add two or more string'''"
   ]
  },
  {
   "cell_type": "code",
   "execution_count": 3,
   "id": "b3ddb390",
   "metadata": {},
   "outputs": [
    {
     "name": "stdout",
     "output_type": "stream",
     "text": [
      "Hello How are you\n",
      "Hello Hello How are you\n",
      "23PN8@@#_& How are you\n",
      "Hello 23PN8@@#_& \n",
      "Hello Sunil\n"
     ]
    }
   ],
   "source": [
    "str1=\"Hello \"\n",
    "str2=\"How are you\"\n",
    "str3=\"23PN8@@#_& \"\n",
    "print(str1+str2)\n",
    "print(str1+str1+str2)\n",
    "print(str3+str2)\n",
    "print(str1+str3)\n",
    "print(str1+\"Sunil\")"
   ]
  },
  {
   "cell_type": "markdown",
   "id": "2c9988c5",
   "metadata": {},
   "source": [
    "## '''2. repetition - \"*\" use to repete a string.'''"
   ]
  },
  {
   "cell_type": "code",
   "execution_count": 6,
   "id": "88b751b6",
   "metadata": {},
   "outputs": [
    {
     "name": "stdout",
     "output_type": "stream",
     "text": [
      "Hello Hello Hello \n",
      "How are you How are you \n",
      "hiihiihiihiihii\n",
      "23PN8@@#_& 23PN8@@#_& \n",
      "Hello How are you Hello How are you Hello How are you \n",
      "Hello Hello Hello Maharashtra\n",
      "How are you How are you How are you \n"
     ]
    }
   ],
   "source": [
    "str1=\"Hello \"\n",
    "str2=\"How are you \"\n",
    "print(str1*3)\n",
    "print(str2*2)\n",
    "print(\"hii\"*5)\n",
    "print(str3*2)\n",
    "#conbined\n",
    "print((str1+str2)*3)\n",
    "print((str1*3)+\"Maharashtra\")\n",
    "print((str2*2)+str2)"
   ]
  },
  {
   "cell_type": "code",
   "execution_count": 7,
   "id": "67212b72",
   "metadata": {},
   "outputs": [
    {
     "name": "stdout",
     "output_type": "stream",
     "text": [
      "Hello Sunil\n"
     ]
    }
   ],
   "source": [
    "str1 = \"Hello\"\n",
    "str2 = \"Sunil\"\n",
    "concatenated_str = str1 + \" \" + str2\n",
    "print(concatenated_str)  # Output: \"Hello Sunil\""
   ]
  },
  {
   "cell_type": "code",
   "execution_count": 8,
   "id": "a2761eef",
   "metadata": {},
   "outputs": [
    {
     "name": "stdout",
     "output_type": "stream",
     "text": [
      "HelloHelloHello\n"
     ]
    }
   ],
   "source": [
    "str1 = \"Hello\"\n",
    "repeated_str = str1 * 3\n",
    "print(repeated_str)  # Output: \"HelloHelloHello\""
   ]
  },
  {
   "cell_type": "code",
   "execution_count": 9,
   "id": "62d5ef49",
   "metadata": {},
   "outputs": [
    {
     "name": "stdout",
     "output_type": "stream",
     "text": [
      "True\n",
      "True\n"
     ]
    }
   ],
   "source": [
    "str1 = \"Hello World\"\n",
    "print(\"Hello\" in str1)         # Output: True\n",
    "print(\"Goodbye\" not in str1)   # Output: True"
   ]
  },
  {
   "cell_type": "markdown",
   "id": "33fcfbc1",
   "metadata": {},
   "source": [
    "- Indexing ([]): The indexing operator [] is used to access individual characters or substrings within a string based on     their positions."
   ]
  },
  {
   "cell_type": "code",
   "execution_count": 10,
   "id": "4b745e73",
   "metadata": {},
   "outputs": [
    {
     "name": "stdout",
     "output_type": "stream",
     "text": [
      "H\n",
      "ell\n"
     ]
    }
   ],
   "source": [
    "str1 = \"Hello\"\n",
    "print(str1[0])        # Output: \"H\"\n",
    "print(str1[1:4])      # Output: \"ell\""
   ]
  },
  {
   "cell_type": "markdown",
   "id": "faafff87",
   "metadata": {},
   "source": [
    "- Length (len()): The len() function returns the length (number of characters) of a string"
   ]
  },
  {
   "cell_type": "code",
   "execution_count": 11,
   "id": "fc893958",
   "metadata": {},
   "outputs": [
    {
     "name": "stdout",
     "output_type": "stream",
     "text": [
      "5\n"
     ]
    }
   ],
   "source": [
    "str1 = \"Hello\"\n",
    "print(len(str1))      # Output: 5"
   ]
  }
 ],
 "metadata": {
  "kernelspec": {
   "display_name": "Python 3 (ipykernel)",
   "language": "python",
   "name": "python3"
  },
  "language_info": {
   "codemirror_mode": {
    "name": "ipython",
    "version": 3
   },
   "file_extension": ".py",
   "mimetype": "text/x-python",
   "name": "python",
   "nbconvert_exporter": "python",
   "pygments_lexer": "ipython3",
   "version": "3.9.12"
  }
 },
 "nbformat": 4,
 "nbformat_minor": 5
}
