{
 "cells": [
  {
   "cell_type": "markdown",
   "id": "62b575a4",
   "metadata": {},
   "source": [
    "### Bitwise Operator:- used to perform logical/boolean operation.\n",
    "### given value(binary)>> binary result >> normal value.\n",
    "### the value have to be input in binary.\n",
    "### if the value is in integer it get    '''1. Bitwise and = \"&\" : it perform boolean multiplication between bit of operand boolean and operation - (multiplication)'''"
   ]
  },
  {
   "cell_type": "code",
   "execution_count": 1,
   "id": "fd4204e4",
   "metadata": {},
   "outputs": [
    {
     "name": "stdout",
     "output_type": "stream",
     "text": [
      "Bitwise and = &\n",
      "9\n",
      "11\n",
      "11\n",
      "5\n",
      "8\n",
      "9\n"
     ]
    }
   ],
   "source": [
    "print(\"Bitwise and = &\")\n",
    "a=0b1011\n",
    "b=0b1001\n",
    "c=0b1111\n",
    "print(a & b)\n",
    "print(a&c)\n",
    "print(c & a)\n",
    "print(0b101 & 0b101)\n",
    "print(b & 0b1000)\n",
    "print(a&b&c)"
   ]
  },
  {
   "cell_type": "markdown",
   "id": "9023d29e",
   "metadata": {},
   "source": [
    "#### '''2. Bitwise or = \"|\" : it perform boolean addition between bits of operand boolean or operation - (addition)'''"
   ]
  },
  {
   "cell_type": "code",
   "execution_count": 2,
   "id": "80e765ab",
   "metadata": {},
   "outputs": [
    {
     "name": "stdout",
     "output_type": "stream",
     "text": [
      "Bitwise or = |\n",
      "11\n",
      "15\n",
      "11\n",
      "11\n",
      "15\n"
     ]
    }
   ],
   "source": [
    "print(\"Bitwise or = |\")\n",
    "a=0b1011\n",
    "b=0b1001\n",
    "c=0b1110\n",
    "print(a | b)\n",
    "print(b|c)\n",
    "print(b | 0b1010)\n",
    "print(0b0011 | 0b1000)\n",
    "print(a|b|c)"
   ]
  },
  {
   "cell_type": "markdown",
   "id": "050acfb5",
   "metadata": {},
   "source": [
    "### '''3. Bitwise not = \"~\" : it perform negation of bits of operand negation operation - opposite'''"
   ]
  },
  {
   "cell_type": "code",
   "execution_count": 3,
   "id": "7a621041",
   "metadata": {},
   "outputs": [
    {
     "name": "stdout",
     "output_type": "stream",
     "text": [
      "Bitwise not = ~\n",
      "-12\n",
      "-10\n",
      "-15\n",
      "-10\n",
      "11\n"
     ]
    }
   ],
   "source": [
    "print(\"Bitwise not = ~\")\n",
    "a=0b1011\n",
    "b=0b1001\n",
    "c=0b1110\n",
    "d=0b101\n",
    "print(~a)\n",
    "print(~b)\n",
    "print(~c)\n",
    "print(~0b1001)\n",
    "print(~(~a))"
   ]
  },
  {
   "cell_type": "markdown",
   "id": "5481086f",
   "metadata": {},
   "source": [
    "### '''4. Bitwise XOR = \"^\" : it perform bitwise xor operation on bits of operand boolean X-OR operation - a`b+ab` '''"
   ]
  },
  {
   "cell_type": "code",
   "execution_count": 4,
   "id": "915dc54c",
   "metadata": {},
   "outputs": [
    {
     "name": "stdout",
     "output_type": "stream",
     "text": [
      "Bitwise XOR = ^\n",
      "2\n",
      "7\n",
      "5\n",
      "2\n",
      "12\n"
     ]
    }
   ],
   "source": [
    "print(\"Bitwise XOR = ^\")\n",
    "a=0b1011\n",
    "b=0b1001\n",
    "c=0b1110\n",
    "print(a^b)\n",
    "print(b ^c)\n",
    "print(c ^ a)\n",
    "print(0b0100^0b0110)\n",
    "print(a^0b1001^c)"
   ]
  },
  {
   "cell_type": "markdown",
   "id": "c79a4478",
   "metadata": {},
   "source": [
    "### '''5. Left shift = \"<<\" : it shift the bits of operand to left side and zeros to right end shift all digit to left side'''"
   ]
  },
  {
   "cell_type": "code",
   "execution_count": 5,
   "id": "ed426f5a",
   "metadata": {},
   "outputs": [
    {
     "name": "stdout",
     "output_type": "stream",
     "text": [
      "left shift operator = <<\n",
      "22\n",
      "18\n",
      "56\n",
      "10\n",
      "8\n"
     ]
    }
   ],
   "source": [
    "print(\"left shift operator = <<\")\n",
    "a=0b1011\n",
    "b=0b1001\n",
    "c=0b1110\n",
    "print(a<<1)\n",
    "print(b<<1)\n",
    "print(c<<2)\n",
    "print(0b101<<1)\n",
    "print(0b0100^0b0110<<1)"
   ]
  },
  {
   "cell_type": "markdown",
   "id": "5e714b91",
   "metadata": {},
   "source": [
    "### '''6.Right shift = \">>\" : it shift the bits of operand to right side and add zeros to left end shift all digit to right side'''"
   ]
  },
  {
   "cell_type": "code",
   "execution_count": 6,
   "id": "6d339e8b",
   "metadata": {},
   "outputs": [
    {
     "name": "stdout",
     "output_type": "stream",
     "text": [
      "right shift operator = >>\n",
      "5\n",
      "2\n",
      "-6\n",
      "0\n"
     ]
    }
   ],
   "source": [
    "print(\"right shift operator = >>\")\n",
    "a=0b1011\n",
    "b=0b1001\n",
    "c=0b1110\n",
    "print(a>>1)\n",
    "print(b>>2)\n",
    "print(~a>>1)\n",
    "print(0b101>>3)"
   ]
  },
  {
   "cell_type": "code",
   "execution_count": 7,
   "id": "2ef7952d",
   "metadata": {},
   "outputs": [
    {
     "name": "stdout",
     "output_type": "stream",
     "text": [
      "1\n"
     ]
    }
   ],
   "source": [
    "#Bitwise AND (&): Performs a bitwise AND operation between corresponding bits of two integers.\n",
    "a = 5    # 101 in binary\n",
    "b = 3    # 011 in binary\n",
    "result = a & b\n",
    "print(result)    # Output: 1 (001 in binary)"
   ]
  },
  {
   "cell_type": "code",
   "execution_count": 8,
   "id": "d07b8671",
   "metadata": {},
   "outputs": [
    {
     "name": "stdout",
     "output_type": "stream",
     "text": [
      "7\n"
     ]
    }
   ],
   "source": [
    "#Bitwise OR (|): Performs a bitwise OR operation between corresponding bits of two integers.\n",
    "a = 5    # 101 in binary\n",
    "b = 3    # 011 in binary\n",
    "result = a | b\n",
    "print(result)    # Output: 7 (111 in binary)"
   ]
  },
  {
   "cell_type": "code",
   "execution_count": 9,
   "id": "33a800eb",
   "metadata": {},
   "outputs": [
    {
     "name": "stdout",
     "output_type": "stream",
     "text": [
      "6\n"
     ]
    }
   ],
   "source": [
    "#Bitwise XOR (^): Performs a bitwise XOR (exclusive OR) operation between corresponding bits of two integers\n",
    "a = 5    # 101 in binary\n",
    "b = 3    # 011 in binary\n",
    "result = a ^ b\n",
    "print(result)    # Output: 6 (110 in binary)"
   ]
  },
  {
   "cell_type": "code",
   "execution_count": 10,
   "id": "36cdbeb7",
   "metadata": {},
   "outputs": [
    {
     "name": "stdout",
     "output_type": "stream",
     "text": [
      "-6\n"
     ]
    }
   ],
   "source": [
    "#Bitwise NOT (~): Flips the bits of an integer, resulting in the one's complement of the number.\n",
    "a = 5    # 101 in binary\n",
    "result = ~a\n",
    "print(result)    # Output: -6 (in two's complement form)"
   ]
  },
  {
   "cell_type": "code",
   "execution_count": 11,
   "id": "4c804028",
   "metadata": {},
   "outputs": [
    {
     "name": "stdout",
     "output_type": "stream",
     "text": [
      "20\n"
     ]
    }
   ],
   "source": [
    "#Bitwise left shift (<<): Shifts the bits of an integer to the left by a specified number of positions.\n",
    "a = 5    # 101 in binary\n",
    "result = a << 2\n",
    "print(result)    # Output: 20 (10100 in binary)"
   ]
  },
  {
   "cell_type": "code",
   "execution_count": 12,
   "id": "c3b17a36",
   "metadata": {},
   "outputs": [
    {
     "name": "stdout",
     "output_type": "stream",
     "text": [
      "2\n"
     ]
    }
   ],
   "source": [
    "#Bitwise right shift (>>): Shifts the bits of an integer to the right by a specified number of positions\n",
    "a = 5    # 101 in binary\n",
    "result = a >> 1\n",
    "print(result)    # Output: 2 (10 in binary)"
   ]
  }
 ],
 "metadata": {
  "kernelspec": {
   "display_name": "Python 3 (ipykernel)",
   "language": "python",
   "name": "python3"
  },
  "language_info": {
   "codemirror_mode": {
    "name": "ipython",
    "version": 3
   },
   "file_extension": ".py",
   "mimetype": "text/x-python",
   "name": "python",
   "nbconvert_exporter": "python",
   "pygments_lexer": "ipython3",
   "version": "3.9.12"
  }
 },
 "nbformat": 4,
 "nbformat_minor": 5
}
