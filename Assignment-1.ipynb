{
 "cells": [
  {
   "cell_type": "markdown",
   "id": "24b000e1",
   "metadata": {},
   "source": [
    "# 1. Write a Python program to print \"Hello Python\"?"
   ]
  },
  {
   "cell_type": "code",
   "execution_count": 1,
   "id": "f25ce0d5",
   "metadata": {},
   "outputs": [
    {
     "name": "stdout",
     "output_type": "stream",
     "text": [
      "Hello World\n"
     ]
    }
   ],
   "source": [
    "print(\"Hello World\")"
   ]
  },
  {
   "cell_type": "markdown",
   "id": "eb0d93be",
   "metadata": {},
   "source": [
    "# 2. Write a Python program to do arithmetical operations addition and division.?"
   ]
  },
  {
   "cell_type": "code",
   "execution_count": 2,
   "id": "9383cb8f",
   "metadata": {},
   "outputs": [],
   "source": [
    "def arithmaticOperation(a,b):\n",
    "    \"\"\"Here the function takes two arguments as input values and performs and addition and division  \"\"\"\n",
    "    addition=a+b\n",
    "    division=a/b\n",
    "    print(\"Addition value of {0} and {1} is {2}\".format(a,b,addition))\n",
    "    print(\"Division value of {0} and {1} is {2}\".format(a,b,division))"
   ]
  },
  {
   "cell_type": "code",
   "execution_count": 3,
   "id": "c1d43601",
   "metadata": {},
   "outputs": [
    {
     "name": "stdout",
     "output_type": "stream",
     "text": [
      "Addition value of 100 and 200 is 300\n",
      "Division value of 100 and 200 is 0.5\n"
     ]
    }
   ],
   "source": [
    "arithmaticOperation(100,200)"
   ]
  },
  {
   "cell_type": "markdown",
   "id": "8497ae82",
   "metadata": {},
   "source": [
    "# 3. Write a Python program to find the area of a triangle?"
   ]
  },
  {
   "cell_type": "code",
   "execution_count": 4,
   "id": "40b70573",
   "metadata": {},
   "outputs": [
    {
     "name": "stdout",
     "output_type": "stream",
     "text": [
      "Enter the value of base:10\n",
      "Enter the value of height:5\n",
      "Area of the triangle is: 25.0\n"
     ]
    }
   ],
   "source": [
    "def areaOfTriangle(b,h):\n",
    "    area= 0.5*b*h\n",
    "    return area\n",
    "base=int(input(\"Enter the value of base:\"))\n",
    "height=int(input(\"Enter the value of height:\"))\n",
    "a=areaOfTriangle(base,height)\n",
    "print(\"Area of the triangle is:\",a)"
   ]
  },
  {
   "cell_type": "markdown",
   "id": "599a895b",
   "metadata": {},
   "source": [
    "# 4. Write a Python program to swap two variables?"
   ]
  },
  {
   "cell_type": "code",
   "execution_count": 5,
   "id": "d3044025",
   "metadata": {},
   "outputs": [],
   "source": [
    "def swap(a,b):\n",
    "    \"\"\"Function takes two argument values and swaps their values\"\"\"\n",
    "    temp=a\n",
    "    a=b\n",
    "    b=temp\n",
    "    print(\"The value of a and b after swapping\",a,b)"
   ]
  },
  {
   "cell_type": "code",
   "execution_count": 6,
   "id": "1a3ae216",
   "metadata": {},
   "outputs": [
    {
     "name": "stdout",
     "output_type": "stream",
     "text": [
      "The value of a and b after swapping 10 20\n"
     ]
    }
   ],
   "source": [
    "swap(20,10)"
   ]
  },
  {
   "cell_type": "markdown",
   "id": "76da2dca",
   "metadata": {},
   "source": [
    "# 5.Write a Python program to generate a random number"
   ]
  },
  {
   "cell_type": "code",
   "execution_count": 7,
   "id": "c0dcef88",
   "metadata": {},
   "outputs": [
    {
     "name": "stdout",
     "output_type": "stream",
     "text": [
      "3\n"
     ]
    }
   ],
   "source": [
    "import random\n",
    "list1=[1,2,3,4,5]\n",
    "a=random.choice(list1)\n",
    "print(a)"
   ]
  },
  {
   "cell_type": "code",
   "execution_count": 8,
   "id": "f5a2fbc9",
   "metadata": {},
   "outputs": [
    {
     "name": "stdout",
     "output_type": "stream",
     "text": [
      "0.8942216444756305\n"
     ]
    }
   ],
   "source": [
    "print(random.random())"
   ]
  }
 ],
 "metadata": {
  "kernelspec": {
   "display_name": "Python 3 (ipykernel)",
   "language": "python",
   "name": "python3"
  },
  "language_info": {
   "codemirror_mode": {
    "name": "ipython",
    "version": 3
   },
   "file_extension": ".py",
   "mimetype": "text/x-python",
   "name": "python",
   "nbconvert_exporter": "python",
   "pygments_lexer": "ipython3",
   "version": "3.9.12"
  }
 },
 "nbformat": 4,
 "nbformat_minor": 5
}
