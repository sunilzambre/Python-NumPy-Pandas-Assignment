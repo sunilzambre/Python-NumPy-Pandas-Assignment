{
 "cells": [
  {
   "cell_type": "markdown",
   "id": "48a12f4b",
   "metadata": {},
   "source": [
    "## 1. Write a Python Program to Check if a Number is Positive, Negative or Zero?"
   ]
  },
  {
   "cell_type": "code",
   "execution_count": 1,
   "id": "6e4b29ce",
   "metadata": {},
   "outputs": [
    {
     "name": "stdout",
     "output_type": "stream",
     "text": [
      "Enter a number: 7\n",
      "7 is a Positive number\n"
     ]
    }
   ],
   "source": [
    "def number_check(number):\n",
    "    \"\"\"Here function takes a number as a input value  and tells us about weather the number is positive,negative or zero.\"\"\"\n",
    "    if number>0:\n",
    "        print(f\"{number} is a Positive number\")\n",
    "    elif number<0:\n",
    "        print(f\"{number} is a nagative number\")\n",
    "    else:\n",
    "        print(\"Zero\")\n",
    "n=int(input(\"Enter a number: \"))\n",
    "number_check(n)"
   ]
  },
  {
   "cell_type": "markdown",
   "id": "c64441b4",
   "metadata": {},
   "source": [
    "## 2. Write a Python Program to Check if a Number is Odd or Even?"
   ]
  },
  {
   "cell_type": "code",
   "execution_count": 2,
   "id": "979d0702",
   "metadata": {},
   "outputs": [
    {
     "name": "stdout",
     "output_type": "stream",
     "text": [
      "Enter a number: 3\n",
      "3 is an odd number\n"
     ]
    }
   ],
   "source": [
    "def even_odd(number):\n",
    "    if number%2==0:\n",
    "        print(f\"{number} is an even number\")\n",
    "    else:\n",
    "        print(f\"{number} is an odd number\")\n",
    "n=int(input(\"Enter a number: \"))\n",
    "even_odd(n)"
   ]
  },
  {
   "cell_type": "markdown",
   "id": "d38edc9c",
   "metadata": {},
   "source": [
    "## 3.Write a Python Program to Check Leap Year?"
   ]
  },
  {
   "cell_type": "code",
   "execution_count": 3,
   "id": "0c06faa7",
   "metadata": {},
   "outputs": [
    {
     "name": "stdout",
     "output_type": "stream",
     "text": [
      "Enter a year:2023\n",
      "2023 is not a leap year\n"
     ]
    }
   ],
   "source": [
    "def check_year(year):\n",
    "    if year%400==0:\n",
    "        print(f\"{year} is a leap year\")\n",
    "    elif year%4==0 & year %100!=0:\n",
    "        print(f\"{year} is a leap year\")\n",
    "    else:\n",
    "        print(f\"{year} is not a leap year\")\n",
    "a=int(input(\"Enter a year:\"))\n",
    "check_year(a)"
   ]
  },
  {
   "cell_type": "markdown",
   "id": "6d3aca3a",
   "metadata": {},
   "source": [
    "## 4. Write a Python Program to Check Prime Number?"
   ]
  },
  {
   "cell_type": "code",
   "execution_count": 4,
   "id": "78a9f9b7",
   "metadata": {},
   "outputs": [
    {
     "name": "stdout",
     "output_type": "stream",
     "text": [
      "Enter a number: 11\n",
      "11 is a prime number\n"
     ]
    }
   ],
   "source": [
    "def check_prime(number):\n",
    "    if number > 1:\n",
    "        for i in range(2, number):\n",
    "            if number % i == 0:\n",
    "                print(f\"{number} is not a prime number\")\n",
    "                break\n",
    "        else:\n",
    "            print(f\"{number} is a prime number\")\n",
    "    else:\n",
    "        print(f\"{number} is not a prime number\")\n",
    "n=int(input(\"Enter a number: \"))\n",
    "check_prime(n)"
   ]
  },
  {
   "cell_type": "markdown",
   "id": "71fdfa5e",
   "metadata": {},
   "source": [
    "## 5. Write a Python Program to Print all Prime Numbers in an Interval of 1-100?"
   ]
  },
  {
   "cell_type": "code",
   "execution_count": 5,
   "id": "ee6306aa",
   "metadata": {},
   "outputs": [
    {
     "name": "stdout",
     "output_type": "stream",
     "text": [
      " 2   3   5   7   11   13   17   19   23   29   31   37   41   43   47   53   59   61   67   71   73   79   83   89   97  "
     ]
    }
   ],
   "source": [
    "for Number in range (1, 100 + 1):\n",
    "    count = 0\n",
    "    for i in range(2, (Number//2 + 1)):\n",
    "        if(Number % i == 0):\n",
    "            count = count + 1\n",
    "            break\n",
    "            \n",
    "    if (count == 0 and Number != 1):\n",
    "        print(\" %d\" %Number, end = '  ')"
   ]
  }
 ],
 "metadata": {
  "kernelspec": {
   "display_name": "Python 3 (ipykernel)",
   "language": "python",
   "name": "python3"
  },
  "language_info": {
   "codemirror_mode": {
    "name": "ipython",
    "version": 3
   },
   "file_extension": ".py",
   "mimetype": "text/x-python",
   "name": "python",
   "nbconvert_exporter": "python",
   "pygments_lexer": "ipython3",
   "version": "3.9.12"
  }
 },
 "nbformat": 4,
 "nbformat_minor": 5
}
