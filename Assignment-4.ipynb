{
 "cells": [
  {
   "cell_type": "markdown",
   "id": "c80854bd",
   "metadata": {},
   "source": [
    "## 1. Write a Python Program to Find the Factorial of a Number?"
   ]
  },
  {
   "cell_type": "code",
   "execution_count": 1,
   "id": "78ca6949",
   "metadata": {},
   "outputs": [
    {
     "name": "stdout",
     "output_type": "stream",
     "text": [
      "Factorial of number is: 120\n"
     ]
    }
   ],
   "source": [
    "def factorial(n):\n",
    "    try:\n",
    "        fact=1\n",
    "        for i in range(1,n+1):\n",
    "            fact=fact*i\n",
    "        return fact\n",
    "    except Exception as e:\n",
    "        print(e)\n",
    "print(\"Factorial of number is:\",factorial(5))"
   ]
  },
  {
   "cell_type": "markdown",
   "id": "ad718c47",
   "metadata": {},
   "source": [
    "## 2. Write a Python Program to Display the multiplication Table?"
   ]
  },
  {
   "cell_type": "code",
   "execution_count": 2,
   "id": "660c369b",
   "metadata": {},
   "outputs": [
    {
     "name": "stdout",
     "output_type": "stream",
     "text": [
      "Enter the table to be generate:7\n",
      "7 X 1 = 7\n",
      "7 X 2 = 14\n",
      "7 X 3 = 21\n",
      "7 X 4 = 28\n",
      "7 X 5 = 35\n",
      "7 X 6 = 42\n",
      "7 X 7 = 49\n",
      "7 X 8 = 56\n",
      "7 X 9 = 63\n",
      "7 X 10 = 70\n"
     ]
    }
   ],
   "source": [
    "try:\n",
    "    n=int(input(\"Enter the table to be generate:\"))\n",
    "    for i in range(1,11):\n",
    "        res=n*i\n",
    "        print(f\"{n} X {i} = {res}\")\n",
    "except Exception as e:\n",
    "    print(\"Error Occured:  \",e)"
   ]
  },
  {
   "cell_type": "markdown",
   "id": "05cca4b4",
   "metadata": {},
   "source": [
    "## 3. Write a Python Program to Print the Fibonacci sequence?"
   ]
  },
  {
   "cell_type": "code",
   "execution_count": 3,
   "id": "caaaa4d8",
   "metadata": {},
   "outputs": [
    {
     "name": "stdout",
     "output_type": "stream",
     "text": [
      "0 1 1 2 3 5 8 13 21 34 "
     ]
    }
   ],
   "source": [
    "def fibonacci(n):\n",
    "    try:\n",
    "        a=0\n",
    "        b=1\n",
    "        print(a,b,end=\" \")\n",
    "        for i in range(2,n):\n",
    "            c=a+b\n",
    "            a=b\n",
    "            b=c\n",
    "            print(c,end=\" \")\n",
    "    except Except as e:\n",
    "        print(e)\n",
    "fibonacci(10)"
   ]
  },
  {
   "cell_type": "markdown",
   "id": "4c84d7b8",
   "metadata": {},
   "source": [
    "## 4. Write a Python Program to Check Armstrong Number?"
   ]
  },
  {
   "cell_type": "code",
   "execution_count": 4,
   "id": "4e62905b",
   "metadata": {},
   "outputs": [
    {
     "name": "stdout",
     "output_type": "stream",
     "text": [
      "Enter a number: 407\n",
      "407 is an Armstrong number\n"
     ]
    }
   ],
   "source": [
    "try:\n",
    "    num = int(input(\"Enter a number: \"))\n",
    "    temp = num\n",
    "    sum = 0\n",
    "    while temp > 0:\n",
    "        digit = temp % 10\n",
    "        sum = sum + digit ** 3\n",
    "        temp = temp  // 10\n",
    "    if num == sum:\n",
    "        print(f\"{num} is an Armstrong number\")\n",
    "    else:\n",
    "        print(f\"{num} is not an Armstrong number\")\n",
    "except Exception as e:\n",
    "    print(\"Error occurred:\", e)"
   ]
  },
  {
   "cell_type": "markdown",
   "id": "2d1dc1d4",
   "metadata": {},
   "source": [
    "## 5.Write a Python Program to Find Armstrong Number in an Interval?"
   ]
  },
  {
   "cell_type": "code",
   "execution_count": 5,
   "id": "437935da",
   "metadata": {},
   "outputs": [
    {
     "name": "stdout",
     "output_type": "stream",
     "text": [
      "Enter the lower limit value:10\n",
      "Enter the upper limit value:30\n",
      "10 is not a armstrong number\n",
      "11 is not a armstrong number\n",
      "12 is not a armstrong number\n",
      "13 is not a armstrong number\n",
      "14 is not a armstrong number\n",
      "15 is not a armstrong number\n",
      "16 is not a armstrong number\n",
      "17 is not a armstrong number\n",
      "18 is not a armstrong number\n",
      "19 is not a armstrong number\n",
      "20 is not a armstrong number\n",
      "21 is not a armstrong number\n",
      "22 is not a armstrong number\n",
      "23 is not a armstrong number\n",
      "24 is not a armstrong number\n",
      "25 is not a armstrong number\n",
      "26 is not a armstrong number\n",
      "27 is not a armstrong number\n",
      "28 is not a armstrong number\n",
      "29 is not a armstrong number\n"
     ]
    }
   ],
   "source": [
    "try:\n",
    "    lower=int(input(\"Enter the lower limit value:\"))\n",
    "    upper=int(input(\"Enter the upper limit value:\"))\n",
    "    for num in range(lower,upper):\n",
    "        order=len(str(num))\n",
    "        sum=0\n",
    "        temp=num\n",
    "        while temp>0:\n",
    "            digit=temp%10\n",
    "            sum+=digit**order\n",
    "            temp=temp//10\n",
    "        if num==sum:\n",
    "            print(f\"{num} number is a armstrong number\")\n",
    "        else:\n",
    "            print(f\"{num} is not a armstrong number\")\n",
    "except Exception as e:\n",
    "    print(\"Error occured! Enter integer value\",e)"
   ]
  },
  {
   "cell_type": "markdown",
   "id": "ec493b83",
   "metadata": {},
   "source": [
    "## 6. Write a Python Program to Find the Sum of Natural Numbers?"
   ]
  },
  {
   "cell_type": "code",
   "execution_count": 6,
   "id": "514ce6b4",
   "metadata": {},
   "outputs": [
    {
     "name": "stdout",
     "output_type": "stream",
     "text": [
      "Enter the value of n: 10\n",
      "55\n"
     ]
    }
   ],
   "source": [
    "try:\n",
    "    n=int(input(\"Enter the value of n: \"))\n",
    "    sum=0\n",
    "    for i in range(1,n+1):\n",
    "        sum=sum+i\n",
    "    print(sum)\n",
    "except Exception as e:\n",
    "    print(e)"
   ]
  }
 ],
 "metadata": {
  "kernelspec": {
   "display_name": "Python 3 (ipykernel)",
   "language": "python",
   "name": "python3"
  },
  "language_info": {
   "codemirror_mode": {
    "name": "ipython",
    "version": 3
   },
   "file_extension": ".py",
   "mimetype": "text/x-python",
   "name": "python",
   "nbconvert_exporter": "python",
   "pygments_lexer": "ipython3",
   "version": "3.9.12"
  }
 },
 "nbformat": 4,
 "nbformat_minor": 5
}
