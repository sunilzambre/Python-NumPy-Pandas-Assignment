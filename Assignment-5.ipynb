{
 "cells": [
  {
   "cell_type": "markdown",
   "id": "85dc3e86",
   "metadata": {},
   "source": [
    "## 1. Write a Python Program to Display Fibonacci Sequence Using Recursion?"
   ]
  },
  {
   "cell_type": "code",
   "execution_count": 1,
   "id": "ef14d1c1",
   "metadata": {},
   "outputs": [
    {
     "name": "stdout",
     "output_type": "stream",
     "text": [
      "Enter number of iterations:10\n",
      "Fibonacci series is:\n",
      "0 1 1 2 3 5 8 13 21 34 "
     ]
    }
   ],
   "source": [
    "def fibonacci_sequence(n):\n",
    "    \"This function takes the n as input and gives fibonacci sequence\"\n",
    "    try:\n",
    "        if n==0:\n",
    "            return 0\n",
    "        elif n==1:\n",
    "            return 1\n",
    "        else:\n",
    "            return (fibonacci_sequence(n-1)+fibonacci_sequence(n-2))\n",
    "    except Exception as e:\n",
    "        print(e)\n",
    "n=int(input(\"Enter number of iterations:\"))\n",
    "if (n<=0):\n",
    "    print(\"Enter a positive number\")\n",
    "else:\n",
    "    print(\"Fibonacci series is:\")\n",
    "    for i in range(n):\n",
    "        print(fibonacci_sequence(i),end=\" \")"
   ]
  },
  {
   "cell_type": "markdown",
   "id": "4d1e73c5",
   "metadata": {},
   "source": [
    "## 2. Write a Python Program to Find Factorial of Number Using Recursion?"
   ]
  },
  {
   "cell_type": "code",
   "execution_count": 2,
   "id": "da5e5b9a",
   "metadata": {},
   "outputs": [
    {
     "name": "stdout",
     "output_type": "stream",
     "text": [
      "Factorial of number using recursion is:24\n"
     ]
    }
   ],
   "source": [
    "def factorial_recursion(n):\n",
    "    \"\"\"This function takes n as input and returns the factorial of a number\"\"\"\n",
    "    fact=1\n",
    "    if n==0 or n==1:\n",
    "        return fact\n",
    "    else:\n",
    "        fact=n*factorial_recursion(n-1)\n",
    "        return fact\n",
    "factorial=factorial_recursion(4)\n",
    "print(f\"Factorial of number using recursion is:{factorial}\")"
   ]
  },
  {
   "cell_type": "markdown",
   "id": "91ce3aaa",
   "metadata": {},
   "source": [
    "## 3. Write a Python Program to calculate your Body Mass Index?"
   ]
  },
  {
   "cell_type": "code",
   "execution_count": 3,
   "id": "be4e9146",
   "metadata": {},
   "outputs": [
    {
     "name": "stdout",
     "output_type": "stream",
     "text": [
      "Your BMI is  27.55  and you have over weight\n"
     ]
    }
   ],
   "source": [
    "def BMI_calc(weight,height):\n",
    "    \"\"\"\n",
    "    This func takes weight in kgs and height in cms of a person as an arg and\n",
    "    returns BMI of that Person.\n",
    "    \"\"\"\n",
    "    bmi = float((weight/(height/100)**2))\n",
    "\n",
    "    if bmi < 18.5:\n",
    "        print(\"Your BMI is \", round(bmi,2), \" and you are underweight\")\n",
    "    elif bmi>= 25:\n",
    "        print(\"Your BMI is \", round(bmi,2), \" and you have over weight\")\n",
    "    else :\n",
    "        print(\"Your BMI is \", round(bmi,2), \" and you have healthy weight\")\n",
    "BMI_calc(75,165)"
   ]
  },
  {
   "cell_type": "markdown",
   "id": "fda0996f",
   "metadata": {},
   "source": [
    "## 4. Write a Python Program to calculate the natural logarithm of any number?"
   ]
  },
  {
   "cell_type": "code",
   "execution_count": 4,
   "id": "cbc622f6",
   "metadata": {},
   "outputs": [
    {
     "data": {
      "text/plain": [
       "3.91"
      ]
     },
     "execution_count": 4,
     "metadata": {},
     "output_type": "execute_result"
    }
   ],
   "source": [
    "from math import log\n",
    "def natural_log(n):\n",
    "    \"\"\"\n",
    "    This func takes a no. as an arg and returns \n",
    "    its natural log.\n",
    "    \"\"\"\n",
    "    return round(log(n),2)\n",
    "natural_log(50)"
   ]
  },
  {
   "cell_type": "markdown",
   "id": "fedb5dea",
   "metadata": {},
   "source": [
    "## 5. Write a Python Program for cube sum of first n natural numbers?"
   ]
  },
  {
   "cell_type": "code",
   "execution_count": 5,
   "id": "e2309568",
   "metadata": {},
   "outputs": [
    {
     "name": "stdout",
     "output_type": "stream",
     "text": [
      "Entered natural number is:  20\n",
      "Sum cubes of first  20  natural numbers is:  44100\n"
     ]
    }
   ],
   "source": [
    "def cube_sum(n):\n",
    "    print(\"Entered natural number is: \", n)\n",
    "    sum = 0\n",
    "    for i in range(1, n+1):\n",
    "        cube_num = i**3\n",
    "        sum = sum + cube_num\n",
    "    print(\"Sum cubes of first \", n ,\" natural numbers is: \",sum)\n",
    "    #return sum\n",
    "cube_sum(20)"
   ]
  }
 ],
 "metadata": {
  "kernelspec": {
   "display_name": "Python 3 (ipykernel)",
   "language": "python",
   "name": "python3"
  },
  "language_info": {
   "codemirror_mode": {
    "name": "ipython",
    "version": 3
   },
   "file_extension": ".py",
   "mimetype": "text/x-python",
   "name": "python",
   "nbconvert_exporter": "python",
   "pygments_lexer": "ipython3",
   "version": "3.9.12"
  }
 },
 "nbformat": 4,
 "nbformat_minor": 5
}
