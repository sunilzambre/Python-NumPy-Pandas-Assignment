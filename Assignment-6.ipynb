{
 "cells": [
  {
   "cell_type": "markdown",
   "id": "196543bb",
   "metadata": {},
   "source": [
    "# 1)Program take a positive integer as an input and print its reverse."
   ]
  },
  {
   "cell_type": "code",
   "execution_count": 1,
   "id": "9fc05e85",
   "metadata": {},
   "outputs": [
    {
     "name": "stdout",
     "output_type": "stream",
     "text": [
      "Enter a number: 1234\n",
      "4321\n"
     ]
    }
   ],
   "source": [
    "num=int(input(\"Enter a number: \"))\n",
    "li=[]\n",
    "li_sum=0\n",
    "while num!=0:\n",
    "    li.append(num%10)\n",
    "    num=num//10\n",
    "print(*li,sep=\"\")"
   ]
  },
  {
   "cell_type": "markdown",
   "id": "17d605ad",
   "metadata": {},
   "source": [
    "# 2)Program take a positive integer as an input and print sum of all the digit."
   ]
  },
  {
   "cell_type": "code",
   "execution_count": 2,
   "id": "d89e0d7c",
   "metadata": {},
   "outputs": [
    {
     "name": "stdout",
     "output_type": "stream",
     "text": [
      "Enter a number:1234\n",
      "sum of digits:  10\n"
     ]
    }
   ],
   "source": [
    "num=int(input(\"Enter a number:\"))\n",
    "digit_sum=0\n",
    "while num!=0:\n",
    "    digit_sum +=(num%10)\n",
    "    num //=10\n",
    "print(\"sum of digits: \",digit_sum)"
   ]
  },
  {
   "cell_type": "markdown",
   "id": "31a2c2d1",
   "metadata": {},
   "source": [
    "# 3)pair of combination of two tuple."
   ]
  },
  {
   "cell_type": "code",
   "execution_count": 3,
   "id": "2b8e93ac",
   "metadata": {},
   "outputs": [
    {
     "name": "stdout",
     "output_type": "stream",
     "text": [
      "[(4, 7), (4, 8), (5, 7), (5, 8), (7, 4), (7, 5), (8, 4), (8, 5)]\n"
     ]
    }
   ],
   "source": [
    "tup1=(4,5)\n",
    "tup2=(7,8)\n",
    "\n",
    "li=[(a,b) for a in tup1 for b in tup2]\n",
    "li +=[(a,b) for a in tup2 for b in tup1]\n",
    "print(li)"
   ]
  },
  {
   "cell_type": "markdown",
   "id": "7ce7d4a7",
   "metadata": {},
   "source": [
    "# 4)Number of positive and negative numbers in the given list."
   ]
  },
  {
   "cell_type": "code",
   "execution_count": 4,
   "id": "2c134d78",
   "metadata": {},
   "outputs": [
    {
     "name": "stdout",
     "output_type": "stream",
     "text": [
      "Number of negative numbers:  3\n",
      "Number of positive numberd:  4\n"
     ]
    }
   ],
   "source": [
    "nums=[1,2,-1,-1,-2,3,4]\n",
    "negative=0\n",
    "positive=0\n",
    "for i in nums:\n",
    "    if i < 0:\n",
    "        negative+=1\n",
    "    elif i > 0:\n",
    "        positive +=1\n",
    "print(\"Number of negative numbers: \",negative)\n",
    "print(\"Number of positive numberd: \",positive)"
   ]
  },
  {
   "cell_type": "markdown",
   "id": "231ad783",
   "metadata": {},
   "source": [
    "# 5)Take a input and print two list one contaning all the letters in the input and another contaning the numbers."
   ]
  },
  {
   "cell_type": "code",
   "execution_count": 5,
   "id": "945b8334",
   "metadata": {},
   "outputs": [
    {
     "name": "stdout",
     "output_type": "stream",
     "text": [
      "Enter the numbers and letter:qwerty!@#$%^12345\n",
      "Letters: ['q', 'w', 'e', 'r', 't', 'y']\n",
      "numbers ['1', '2', '3', '4', '5']\n"
     ]
    }
   ],
   "source": [
    "inp=input(\"Enter the numbers and letter:\")\n",
    "letter=[]\n",
    "num=[]\n",
    "\n",
    "for i in inp:\n",
    "    if i.isalpha():\n",
    "        letter.append(i)\n",
    "    elif i.isnumeric():\n",
    "        num.append(i)\n",
    "print(\"Letters:\",letter)\n",
    "print(\"numbers\",num)"
   ]
  },
  {
   "cell_type": "markdown",
   "id": "8178cf14",
   "metadata": {},
   "source": [
    "# 6) Take an input and print out all the symbol and punctuation marks in the input in a list."
   ]
  },
  {
   "cell_type": "code",
   "execution_count": 6,
   "id": "d60924f4",
   "metadata": {},
   "outputs": [
    {
     "name": "stdout",
     "output_type": "stream",
     "text": [
      "Enter :!@#$%1234qwerty\n",
      "Symbol and puctuation mark : ['!', '@', '#', '$', '%']\n"
     ]
    }
   ],
   "source": [
    "word=input(\"Enter :\")\n",
    "symbol=[]\n",
    "for i in word:\n",
    "    if i.isalnum()==False:\n",
    "        if i != ' ':\n",
    "            symbol.append(i)\n",
    "print(\"Symbol and puctuation mark :\",symbol)\n"
   ]
  },
  {
   "cell_type": "markdown",
   "id": "345b6236",
   "metadata": {},
   "source": [
    "# 7)Take a sentence as input and print the number of spaces in that sentence."
   ]
  },
  {
   "cell_type": "code",
   "execution_count": 7,
   "id": "41fccd3b",
   "metadata": {},
   "outputs": [
    {
     "name": "stdout",
     "output_type": "stream",
     "text": [
      "Enter a sentence:i love india \n",
      "Number of spaces:  3\n"
     ]
    }
   ],
   "source": [
    "inp=input(\"Enter a sentence:\")\n",
    "count=0\n",
    "for i in inp:\n",
    "    if i==' ':\n",
    "        count +=1\n",
    "print(\"Number of spaces: \",count)"
   ]
  },
  {
   "cell_type": "markdown",
   "id": "ec723128",
   "metadata": {},
   "source": [
    "# 8)Take a sentence as input and print out the second word of sentence."
   ]
  },
  {
   "cell_type": "code",
   "execution_count": 8,
   "id": "ea4d94b1",
   "metadata": {},
   "outputs": [
    {
     "name": "stdout",
     "output_type": "stream",
     "text": [
      "Enter a sentenceHappy birthday to you\n",
      "The second word is birthday\n"
     ]
    }
   ],
   "source": [
    "inp=input(\"Enter a sentence\").split()\n",
    "print(\"The second word is\",inp[1])"
   ]
  },
  {
   "cell_type": "markdown",
   "id": "e685f36c",
   "metadata": {},
   "source": [
    "# 9)Print the sum of every 2nd element of the given list."
   ]
  },
  {
   "cell_type": "code",
   "execution_count": 9,
   "id": "0f8bf469",
   "metadata": {},
   "outputs": [
    {
     "name": "stdout",
     "output_type": "stream",
     "text": [
      "Sum of every 2nd element in given list: 9\n"
     ]
    }
   ],
   "source": [
    "lis=[1,2,3,4,5]\n",
    "sum1=0\n",
    "for i in range(0,len(lis),2):\n",
    "    sum1+=lis[i]\n",
    "print(\"Sum of every 2nd element in given list:\",sum1)"
   ]
  },
  {
   "cell_type": "markdown",
   "id": "63b74d41",
   "metadata": {},
   "source": [
    "# 10)Print the value against the key 3 in the given dictionary."
   ]
  },
  {
   "cell_type": "code",
   "execution_count": 10,
   "id": "88d25628",
   "metadata": {},
   "outputs": [
    {
     "name": "stdout",
     "output_type": "stream",
     "text": [
      "value against the key 3 in the given dictionary:  orange\n"
     ]
    }
   ],
   "source": [
    "dic={1:'apple',2:'mango',3:'orange'}\n",
    "\n",
    "for key,value in dic.items():\n",
    "    if key==3:\n",
    "        print(\"value against the key 3 in the given dictionary: \",value)"
   ]
  },
  {
   "cell_type": "markdown",
   "id": "2755af49",
   "metadata": {},
   "source": [
    "# 11)Remove the last 2 elements from the given list."
   ]
  },
  {
   "cell_type": "code",
   "execution_count": 11,
   "id": "c39b93e4",
   "metadata": {},
   "outputs": [
    {
     "name": "stdout",
     "output_type": "stream",
     "text": [
      "[1, 2, 3]\n"
     ]
    }
   ],
   "source": [
    "li=[1,2,3,4,5]\n",
    "\n",
    "li.pop()\n",
    "li.pop()\n",
    "\n",
    "print(li)"
   ]
  },
  {
   "cell_type": "markdown",
   "id": "b59f12fe",
   "metadata": {},
   "source": [
    "# 12)Take a multiple sentences as input seperated by fullstop and print the number of sentence."
   ]
  },
  {
   "cell_type": "code",
   "execution_count": 12,
   "id": "ce812007",
   "metadata": {},
   "outputs": [
    {
     "name": "stdout",
     "output_type": "stream",
     "text": [
      "Enter the multiple sentences with full stop:Are you happy in your life.struggle is going on.\n",
      "There are 2 sentences in that paragraph.\n"
     ]
    }
   ],
   "source": [
    "inp=input(\"Enter the multiple sentences with full stop:\")\n",
    "count=0\n",
    "for i in inp:\n",
    "    if  i=='.':\n",
    "        count+=1\n",
    "print(\"There are %d sentences in that paragraph.\"%count)\n"
   ]
  },
  {
   "cell_type": "markdown",
   "id": "77ac8e3b",
   "metadata": {},
   "source": [
    "# 13) iterate the given list."
   ]
  },
  {
   "cell_type": "code",
   "execution_count": 13,
   "id": "79bfcf25",
   "metadata": {},
   "outputs": [
    {
     "name": "stdout",
     "output_type": "stream",
     "text": [
      "Following are the 6 noble gases:\n",
      "Helium\n",
      "Neon\n",
      "Argon\n",
      "Krypton\n",
      "Xenon\n",
      "Radon\n"
     ]
    }
   ],
   "source": [
    "elements=['Helium','Neon','Argon','Krypton','Xenon','Radon']\n",
    "print(\"Following are the 6 noble gases:\")\n",
    "for i in elements:\n",
    "    print(i)"
   ]
  },
  {
   "cell_type": "markdown",
   "id": "5b14771a",
   "metadata": {},
   "source": [
    "# 14)Take a list of shopping items as input and print list as numbered list."
   ]
  },
  {
   "cell_type": "code",
   "execution_count": 2,
   "id": "2e21069c",
   "metadata": {},
   "outputs": [
    {
     "name": "stdout",
     "output_type": "stream",
     "text": [
      "Number of inputs: 5\n",
      "Enter the list items:\n",
      "Tea\n",
      "Cofee\n",
      "Lemon Juice\n",
      "Butter Milk\n",
      "Solkadhi\n",
      "1. Tea\n",
      "2. Cofee\n",
      "3. Lemon Juice\n",
      "4. Butter Milk\n",
      "5. Solkadhi\n"
     ]
    }
   ],
   "source": [
    "num = int(input(\"Number of inputs: \"))\n",
    "di = {}\n",
    "print(\"Enter the list items:\")\n",
    "for i in range(num):\n",
    "    inp = input()\n",
    "    di[i+1] = inp\n",
    "for k, v in di.items():\n",
    "    print(\"%d. %s\" % (k, v))"
   ]
  },
  {
   "cell_type": "code",
   "execution_count": 1,
   "id": "14b6991d",
   "metadata": {},
   "outputs": [
    {
     "name": "stdout",
     "output_type": "stream",
     "text": [
      "Number of inputs: 4\n",
      "Enter the list items:\n",
      "Apple\n",
      "Banana\n",
      "Grapes\n",
      "Kiwi\n",
      "1. Apple\n",
      "2. Banana\n",
      "3. Grapes\n",
      "4. Kiwi\n"
     ]
    }
   ],
   "source": [
    "num = input(\"Number of inputs: \")\n",
    "try:\n",
    "    num = int(num)\n",
    "    if num <= 0:\n",
    "        raise ValueError\n",
    "except ValueError:\n",
    "    print(\"Invalid input for number of items. Please enter a positive integer.\")\n",
    "else:\n",
    "    di = {}\n",
    "    print(\"Enter the list items:\")\n",
    "    for i in range(num):\n",
    "        inp = input()\n",
    "        di[i + 1] = inp\n",
    "    for k, v in di.items():\n",
    "        print(\"%d. %s\" % (k, v))"
   ]
  }
 ],
 "metadata": {
  "kernelspec": {
   "display_name": "Python 3 (ipykernel)",
   "language": "python",
   "name": "python3"
  },
  "language_info": {
   "codemirror_mode": {
    "name": "ipython",
    "version": 3
   },
   "file_extension": ".py",
   "mimetype": "text/x-python",
   "name": "python",
   "nbconvert_exporter": "python",
   "pygments_lexer": "ipython3",
   "version": "3.9.12"
  }
 },
 "nbformat": 4,
 "nbformat_minor": 5
}
