{
 "cells": [
  {
   "cell_type": "markdown",
   "id": "1531083e-8ff4-4ef7-a124-f032c434860b",
   "metadata": {},
   "source": [
    "### Data Serialization"
   ]
  },
  {
   "cell_type": "code",
   "execution_count": 1,
   "id": "a03e5944-5059-4447-b759-95f770012c43",
   "metadata": {},
   "outputs": [
    {
     "name": "stdout",
     "output_type": "stream",
     "text": [
      "{\"name\": \"Sunil\", \"age\": 41}\n",
      "<class 'str'>\n",
      "{'name': 'Sunil', 'age': 41}\n",
      "<class 'dict'>\n"
     ]
    }
   ],
   "source": [
    "import json \n",
    "data ={'name':'Sunil','age':41}\n",
    "\n",
    "json_str =json.dumps(data)\n",
    "print(json_str)\n",
    "print(type(json_str))\n",
    "\n",
    "parsed_data=json.loads(json_str)\n",
    "print(parsed_data)\n",
    "print(type(parsed_data))"
   ]
  },
  {
   "cell_type": "markdown",
   "id": "bf26772b-5825-4941-b8f1-27932aaea45e",
   "metadata": {},
   "source": [
    "## Creating CSV file"
   ]
  },
  {
   "cell_type": "code",
   "execution_count": 2,
   "id": "d00bba44-83cc-4e3d-b19c-cfc06d17e00f",
   "metadata": {},
   "outputs": [
    {
     "name": "stdout",
     "output_type": "stream",
     "text": [
      "['name', 'age']\n",
      "['SUNIL', '41']\n"
     ]
    }
   ],
   "source": [
    "import csv\n",
    "with open('example.csv',mode='w',newline='') as file:\n",
    "    writer=csv.writer(file)\n",
    "    writer.writerow(['name','age'])\n",
    "    writer.writerow(['SUNIL',41])\n",
    "\n",
    "with open('example.csv',mode='r') as file:\n",
    "    reader = csv.reader(file)\n",
    "    for row in reader:\n",
    "        print(row)"
   ]
  },
  {
   "cell_type": "markdown",
   "id": "e66d81a6-dc2f-4303-ab32-c58167e8db67",
   "metadata": {},
   "source": [
    "### Import Datetime and timedelta"
   ]
  },
  {
   "cell_type": "code",
   "execution_count": 3,
   "id": "61bc3cc1-a23f-4d04-a9fa-1b72563bd70a",
   "metadata": {},
   "outputs": [
    {
     "name": "stdout",
     "output_type": "stream",
     "text": [
      "2025-03-09 11:46:56.233616\n",
      "2025-03-08 11:46:56.233616\n"
     ]
    }
   ],
   "source": [
    "from datetime import datetime,timedelta\n",
    "\n",
    "now=datetime.now()\n",
    "print(now)\n",
    "\n",
    "yesterday=now-timedelta(days=1)\n",
    "print(yesterday)"
   ]
  },
  {
   "cell_type": "code",
   "execution_count": null,
   "id": "a765c01d-d970-4c9a-ba00-70bd8ae09bb6",
   "metadata": {},
   "outputs": [
    {
     "name": "stdout",
     "output_type": "stream",
     "text": [
      "1741501043.1172035\n"
     ]
    }
   ],
   "source": [
    "## time\n",
    "import time\n",
    "print(time.time())\n",
    "time.sleep(4)\n",
    "print(time.time())"
   ]
  },
  {
   "cell_type": "code",
   "execution_count": null,
   "id": "637d965b-f8c9-43ae-b22e-4168d8cb9686",
   "metadata": {},
   "outputs": [],
   "source": []
  }
 ],
 "metadata": {
  "kernelspec": {
   "display_name": "Python 3 (ipykernel)",
   "language": "python",
   "name": "python3"
  },
  "language_info": {
   "codemirror_mode": {
    "name": "ipython",
    "version": 3
   },
   "file_extension": ".py",
   "mimetype": "text/x-python",
   "name": "python",
   "nbconvert_exporter": "python",
   "pygments_lexer": "ipython3",
   "version": "3.12.7"
  }
 },
 "nbformat": 4,
 "nbformat_minor": 5
}
