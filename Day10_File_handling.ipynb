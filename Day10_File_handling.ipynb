{
 "cells": [
  {
   "cell_type": "markdown",
   "id": "57b23533",
   "metadata": {},
   "source": [
    "## File Handling"
   ]
  },
  {
   "cell_type": "markdown",
   "id": "fabcfafe",
   "metadata": {},
   "source": [
    "**Files are used to store output data**\n",
    "- Types of Files\n",
    "- Text File"
   ]
  },
  {
   "cell_type": "markdown",
   "id": "792db774",
   "metadata": {},
   "source": [
    "## Binary File\n",
    "open()"
   ]
  },
  {
   "cell_type": "markdown",
   "id": "9b936260",
   "metadata": {},
   "source": [
    "## syntax:\n",
    "file_object=open(\"filename.taxt\",\"Access Mode\")"
   ]
  },
  {
   "cell_type": "markdown",
   "id": "837de71e",
   "metadata": {},
   "source": [
    "## Acess Modes"
   ]
  },
  {
   "cell_type": "markdown",
   "id": "55cf8e8f",
   "metadata": {},
   "source": [
    "- r -read mode - File is only for reading the content - Immediately after opening the file ,File pointer points at the beginning of the file - File should exist before opening in reading mode - Syntax : f=open(\"abc.txt\",\"r\")\n",
    "\n",
    "- w -write mode - Only for writing the content - file pointer points at the beginning of the file. - If the file exists the file is opened and pointer points at the beginning of the file data will be over written - If the file doesn't exist then new file will be created with given file name - Syntax : f=open(\"abc.txt\",\"w\")\n",
    "\n",
    "- a -append mode - To append and write the data - If file exists file pointer pointa at the end of content in the file - If file not exists new file will be created and file pointer points at the beginning. - Syntax : f=open(\"abc.txt\",\"a\")"
   ]
  },
  {
   "cell_type": "code",
   "execution_count": 2,
   "id": "9b97bf21",
   "metadata": {},
   "outputs": [
    {
     "name": "stdout",
     "output_type": "stream",
     "text": [
      "Python programming language...Something in your console\n"
     ]
    }
   ],
   "source": [
    "print(\"Python programming language...Something in your console\")"
   ]
  },
  {
   "cell_type": "code",
   "execution_count": 3,
   "id": "0e0ba8be",
   "metadata": {},
   "outputs": [],
   "source": [
    "f=open(\"file1.txt\",\"w\")"
   ]
  },
  {
   "cell_type": "code",
   "execution_count": 4,
   "id": "e55d57f0",
   "metadata": {},
   "outputs": [
    {
     "data": {
      "text/plain": [
       "'C:\\\\Users\\\\Admin'"
      ]
     },
     "execution_count": 4,
     "metadata": {},
     "output_type": "execute_result"
    }
   ],
   "source": [
    "pwd()"
   ]
  },
  {
   "cell_type": "code",
   "execution_count": 6,
   "id": "d1ed0ab3",
   "metadata": {},
   "outputs": [
    {
     "name": "stdout",
     "output_type": "stream",
     "text": [
      " Volume in drive C has no label.\n",
      " Volume Serial Number is E431-6D6B\n",
      "\n",
      " Directory of C:\\Users\\Admin\n",
      "\n",
      "05/06/2023  01:18 PM            12,007  Mini Project_Python.ipynb\n",
      "05/12/2023  09:18 PM    <DIR>          .\n",
      "05/12/2023  09:18 PM    <DIR>          ..\n",
      "07/26/2022  10:47 PM    <DIR>          .anaconda\n",
      "07/27/2022  03:41 PM    <DIR>          .conda\n",
      "07/26/2022  10:46 PM                25 .condarc\n",
      "07/26/2022  10:45 PM    <DIR>          .continuum\n",
      "04/17/2023  10:08 AM    <DIR>          .idlerc\n",
      "05/12/2023  09:12 PM    <DIR>          .ipynb_checkpoints\n",
      "07/05/2022  09:50 PM    <DIR>          .ipython\n",
      "04/07/2023  05:03 PM    <DIR>          .jupyter\n",
      "02/15/2023  02:07 PM    <DIR>          .keras\n",
      "07/19/2022  07:59 PM    <DIR>          .matplotlib\n",
      "04/01/2023  03:25 PM               489 .python_history\n",
      "04/01/2023  03:18 PM    <DIR>          .spyder-py3\n",
      "03/09/2023  01:28 PM               589 1.ipynb\n",
      "01/02/2023  03:25 PM             5,145 11N.ipynb\n",
      "01/12/2023  10:13 PM             4,886 12Jn.ipynb\n",
      "11/14/2022  01:59 PM             4,518 12N.py.ipynb\n",
      "01/14/2023  06:04 PM           204,492 13Jn.ipynb\n",
      "11/16/2022  01:41 PM             8,268 14N.py.ipynb\n",
      "11/15/2022  05:11 PM             8,552 15N.ipynb\n",
      "11/17/2022  10:54 AM             8,961 16N.ipynb\n",
      "11/17/2022  02:44 PM             3,163 17N.ipynb\n",
      "11/18/2022  02:00 PM             9,866 18N.ipynb\n",
      "12/29/2022  11:35 PM               161 2\n",
      "07/01/2022  10:43 AM    <DIR>          3D Objects\n",
      "04/01/2023  09:45 AM            54,091 A.jpg\n",
      "04/01/2023  09:46 AM            14,354 a1.jpg\n",
      "05/02/2023  07:13 PM                25 abcd.txt\n",
      "02/02/2023  12:47 PM             7,299 Ada-Boost Implementation.ipynb\n",
      "10/19/2019  05:04 PM             4,062 Advertising_dataset.csv\n",
      "05/02/2023  06:06 PM             6,970 AI_face.jpeg\n",
      "04/07/2023  11:37 AM           168,662 Algerian forest fire dataset.ipynb\n",
      "05/09/2023  02:51 PM            14,445 Algerian_forest_fires.csv\n",
      "05/10/2023  10:25 AM            14,759 Algerian_forest_fires_dataset.csv\n",
      "04/12/2023  11:31 AM           323,344 AlgerianForest Dataset.ipynb\n",
      "04/05/2023  02:54 PM    <DIR>          anaconda3\n",
      "01/24/2023  10:50 AM           187,169 apple.csv\n",
      "02/10/2023  05:26 PM            12,466 Arithmatic comparsion operator.ipynb\n",
      "03/15/2023  06:21 PM         4,122,465 Asian telecom churn project.ipynb\n",
      "05/06/2023  01:20 PM             4,321 Assignment-1.ipynb\n",
      "04/29/2023  10:53 AM             7,983 Assignment-2.ipynb\n",
      "04/29/2023  11:06 AM             4,673 Assignment-3.ipynb\n",
      "04/29/2023  11:17 AM             6,454 Assignment-4.ipynb\n",
      "04/29/2023  01:47 PM             5,160 Assignment-5.ipynb\n",
      "05/07/2023  10:44 AM            11,217 Assignment-6.ipynb\n",
      "04/25/2023  09:45 PM             5,233 Assignment-7.ipynb\n",
      "05/07/2023  11:03 AM             7,193 Assignment-8.ipynb\n",
      "01/21/2023  02:43 PM            11,051 Autoregression using ACF and PACP explained.ipynb\n",
      "05/07/2023  06:52 PM            84,984 Basic_Python.ipynb\n",
      "01/21/2023  05:11 PM             4,051 Basic_Python1.ipynb\n",
      "05/07/2023  10:48 AM            12,612 Basic_Python2.ipynb\n",
      "05/07/2023  10:51 AM             9,447 Basic_Python3.ipynb\n",
      "01/14/2023  11:20 AM            11,053 Basic_Python4.ipynb\n",
      "01/21/2023  05:13 PM             2,299 Basic_Python5.ipynb\n",
      "02/26/2023  05:21 PM             9,475 Basic_Python6.ipynb\n",
      "09/28/2019  05:45 PM            46,442 Bill Authentication DT.csv\n",
      "06/13/2022  12:12 PM            37,658 Boston.csv\n",
      "04/01/2023  09:32 AM           427,047 businessman-using-chatbot-smartphone-intelligence-ai-2248134023.html\n",
      "05/10/2023  10:14 AM                87 BuyerRatio.csv\n",
      "01/16/2023  09:34 AM           301,141 california housing test.csv\n",
      "01/16/2023  09:34 AM         1,706,430 california housing train.csv\n",
      "05/06/2022  12:48 PM            53,656 car evaluation.csv\n",
      "03/01/2022  11:57 AM            37,048 car_data.csv\n",
      "11/04/2022  08:00 AM            17,209 CarData.csv\n",
      "04/01/2023  09:28 AM            86,611 cat.jpg\n",
      "01/21/2023  02:41 PM            15,161 CatBoost Vs XGBoost Vs LightGBM - Part 1.ipynb\n",
      "03/19/2023  12:28 PM    <DIR>          catboost_info\n",
      "03/13/2023  06:24 PM            72,210 Categorical variable Outlier Imputation.ipynb\n",
      "10/21/2019  05:09 AM           684,858 Churn_Modelling.csv\n",
      "10/27/2019  04:15 AM            56,329 churn-bigml-20-Orange Telecom Customer Churn Dataset.csv\n",
      "10/27/2019  04:15 AM           223,998 churn-bigml-80-Orange Telecom Customer Churn Dataset.csv\n",
      "02/20/2020  04:07 AM               501 Classification Data.csv\n",
      "05/10/2023  01:20 PM               324 classifier_bal.pkl\n",
      "04/12/2023  10:58 AM             8,563 Cleaned_Algerian_Forest.csv\n",
      "01/21/2023  02:49 PM             9,651 Cleaning Text Data.ipynb\n",
      "01/23/2023  09:52 AM         6,265,883 CLTV leading insurance company train BRCpofr.csv\n",
      "01/23/2023  09:52 AM         1,538,872 CLTV sample_submission.csv\n",
      "01/23/2023  09:52 AM         3,861,619 CLTV test_koRSKBP.csv\n",
      "04/01/2023  11:47 AM            68,899 computer_vision.ipynb\n",
      "07/01/2022  10:43 AM    <DIR>          Contacts\n",
      "05/10/2023  10:14 AM            13,423 Costomer+OrderForm.csv\n",
      "01/24/2023  12:04 PM             3,040 COVID-19 India Satewise data.csv\n",
      "01/21/2023  02:57 PM            33,516 COVID-19 Positive patients Data Analysis - India .ipynb\n",
      "01/21/2023  02:55 PM            32,563 COVID-19 Positive patients Data Analysis - India.ipynb\n",
      "01/24/2023  12:15 PM           255,184 COVID-19 prediction using ML&DL with 90% accuracy.ipynb\n",
      "07/17/2020  06:32 AM           362,316 Creating Word Embedding Using Gensim.html\n",
      "07/17/2020  06:32 AM            69,609 Creating Word Embedding Using Gensim.ipynb\n",
      "03/13/2023  09:59 PM           635,087 Crude Oil Price Prediction Project.ipynb\n",
      "03/13/2023  09:27 PM            19,532 Cruide Oil Price Predict Gulf-Linear Regression Data.csv\n",
      "02/07/2023  06:42 PM            74,346 Customers.csv\n",
      "05/10/2023  10:14 AM               525 Cutlets.csv\n",
      "01/14/2023  07:05 PM                11 Data1.txt\n",
      "01/14/2023  07:25 PM                11 Data2.txt\n",
      "04/05/2023  02:43 PM            32,768 database.db\n",
      "05/04/2023  10:36 PM            43,735 Day1_Basic_Python.ipynb\n",
      "05/12/2023  09:18 PM            35,207 Day10_File_handling.ipynb\n",
      "05/04/2023  10:31 PM            41,730 Day2_Reserved_words_variable_user_input.ipynb\n",
      "05/05/2023  10:24 PM            37,936 Day3_Conditional_operators.ipynb\n",
      "05/06/2023  10:28 PM            58,669 Day4_String_Methods.ipynb\n",
      "05/07/2023  10:16 PM            33,781 Day5_Control_flow_statement.ipynb\n",
      "05/08/2023  11:37 PM            93,062 Day6_List_in_Python.ipynb\n",
      "05/09/2023  10:20 PM            26,278 Day7_Tuples_Set_data_type.ipynb\n",
      "05/10/2023  10:18 PM            33,056 Day8_Dictionary.ipynb\n",
      "05/11/2023  10:51 PM            73,562 Day9_Functions.ipynb\n",
      "01/21/2023  03:03 PM            13,682 DBSCAN .ipynb\n",
      "01/21/2023  03:06 PM            13,801 Decision tree classifier.ipynb\n",
      "01/29/2023  10:10 AM             9,219 Decission tree accuracy.ipynb\n",
      "02/15/2023  02:17 PM            11,651 Deep Learning.ipynb\n",
      "05/12/2023  04:24 PM    <DIR>          Desktop\n",
      "06/26/2020  02:58 AM            23,873 diabetes.csv\n",
      "05/09/2023  12:37 PM         2,814,957 Diamond_Price_Prediction.csv\n",
      "05/09/2023  04:35 PM           195,491 Diamond_Price_Prediction_Lasso_Ridge_Elasticnet.ipynb\n",
      "02/01/2023  05:51 PM            23,916 Dictionary data structure.ipynb\n",
      "11/29/2021  02:25 AM           383,571 disney_plus_titles.csv\n",
      "01/06/2023  11:33 AM    <DIR>          Documents\n",
      "05/12/2023  05:41 PM    <DIR>          Downloads\n",
      "10/01/2019  06:15 PM             5,918 drinksbycountry.csv\n",
      "01/24/2023  12:31 PM            36,960 ds_salaries.csv\n",
      "05/09/2023  04:08 PM           623,951 EDA_Diamond_Price.ipynb\n",
      "08/17/2021  06:35 AM           172,116 electronic-card-transactions-july-2021-csv-tables.csv\n",
      "04/30/2023  11:31 AM           589,717 End To End Project ML.ipynb\n",
      "01/21/2023  03:09 PM           374,849 End to End Time Series Analysis.ipynb\n",
      "05/03/2023  01:33 PM                95 example.csv\n",
      "05/03/2023  12:19 PM               336 example.txt\n",
      "07/01/2022  10:43 AM    <DIR>          Favorites\n",
      "01/21/2023  03:16 PM            29,251 Feature extraction from text.ipynb\n",
      "01/21/2023  10:07 AM            23,240 Feature Selection by Wrapper and Filter Method.ipynb\n",
      "11/28/2022  06:29 PM             1,945 fibo.py.ipynb\n",
      "05/03/2023  01:01 PM            33,051 file_handling.ipynb\n",
      "05/02/2023  06:39 PM               192 file1.py\n",
      "05/12/2023  09:17 PM                 0 file1.txt\n",
      "05/02/2023  07:17 PM               197 file2.txt\n",
      "05/03/2023  01:34 PM            68,849 FileHand.ipynb\n",
      "02/14/2022  11:49 AM             6,022 Fish.csv\n",
      "01/21/2023  04:25 PM               118 friend.csv\n",
      "01/21/2023  04:25 PM               107 friend123.csv\n",
      "01/16/2023  03:35 PM             3,864 function_codingQue.ipynb\n",
      "11/22/2022  12:49 PM             5,921 function_prog practice.ipynb\n",
      "05/07/2023  07:14 PM            17,226 Functions.ipynb\n",
      "06/18/2020  04:12 AM         2,772,143 Gemstone_Price_Prediction.csv\n",
      "04/07/2023  02:40 PM    <DIR>          gensim-data\n",
      "04/12/2022  10:00 AM            48,196 german credit.csv\n",
      "04/12/2022  10:00 AM            48,196 german_credit.csv\n",
      "01/21/2023  03:20 PM            22,865 Gradient-Boost Implementation.ipynb\n",
      "03/13/2023  11:25 PM           334,776 gru_model.h5\n",
      "03/12/2023  10:41 AM            82,918 Handling MIssing Data-TD.ipynb\n",
      "02/02/2021  12:01 PM           597,842 HCLTECH.csv\n",
      "01/28/2023  07:25 PM           353,822 Heart Disease Prediction using Neural Network.ipynb\n",
      "10/25/2019  01:10 AM            38,114 heart disease.csv\n",
      "04/02/2023  01:27 PM                20 hello.py\n",
      "01/21/2023  03:23 PM           142,419 hierarchical clustering.ipynb\n",
      "10/04/2019  12:36 PM           526,795 House price prediction dataset output.csv\n",
      "10/04/2019  12:36 PM           526,795 House price prediction dataset.csv\n",
      "01/28/2023  09:15 PM           303,527 House price prediction Linear Ridge Lasso.ipynb\n",
      "07/20/2022  03:15 PM            54,773 House_Price.csv\n",
      "01/29/2023  09:37 AM            75,589 Housing Price Prediction.ipynb\n",
      "04/20/2022  12:13 PM         1,423,529 housing.csv\n",
      "01/21/2023  03:25 PM            27,058 How to work with imbalanced Data.ipynb\n",
      "01/21/2023  03:26 PM           335,810 Hypothesis Test Practical Implementation .ipynb\n",
      "05/12/2023  05:44 PM            27,501 Hypothesis testing-Assignment.ipynb\n",
      "05/12/2023  04:47 PM           148,038 Hypothesis_testing.ipynb\n",
      "04/01/2023  09:36 AM             9,057 Image1.jpg\n",
      "04/01/2023  09:37 AM         2,630,045 Image2.jpg\n",
      "01/21/2023  03:30 PM            29,061 Implementing Logistics Regression.ipynb\n",
      "01/21/2023  03:50 PM           294,233 Implementing machine learning in Python.ipynb\n",
      "01/21/2023  03:44 PM               294 income expense data.csv\n",
      "02/20/2020  04:12 AM         1,111,971 income.csv\n",
      "02/20/2020  04:01 AM             9,668 Income_Expense_Data.xlsx\n",
      "05/07/2023  03:04 PM           309,245 Inferential_Statistics.ipynb\n",
      "02/14/2022  12:02 PM            55,628 insurance.csv\n",
      "09/10/2022  06:20 AM            20,982 InternetPricesAround200Countries.csv\n",
      "05/07/2023  05:07 PM            14,306 Introduction To Machine Learning.ipynb\n",
      "11/23/2020  06:53 AM        22,721,656 IPL Ball-by-Ball 2008-2020.csv\n",
      "01/24/2023  11:43 AM           150,820 IPL Matches 2008-2020.csv\n",
      "02/20/2020  04:09 AM             3,867 iris.csv\n",
      "01/21/2023  03:55 PM            20,940 Item based collaborative filtering python .ipynb\n",
      "04/01/2023  03:15 PM    <DIR>          Jedi\n",
      "01/21/2023  04:03 PM            30,347 k-means clustering.ipynb\n",
      "05/10/2023  10:14 AM             3,487 LabTAT.csv\n",
      "01/21/2023  04:05 PM             3,766 lambda Function python program.ipynb\n",
      "01/29/2023  03:13 PM            12,336 LambdaMapFilterReduceEval function in python.ipynb\n",
      "02/14/2022  01:02 PM           332,556 LE.csv\n",
      "02/14/2022  12:43 PM           333,442 Life Expectancy Data.csv\n",
      "02/01/2023  10:52 AM            72,892 Linear Regression Algorithm implementation.ipynb\n",
      "10/18/2022  06:56 AM            20,604 Linear Regression Data-Cruide Oil Price Predict Gulf.xlsx\n",
      "01/28/2023  04:12 PM            57,014 Linear Regression Supervised Learning.ipynb\n",
      "02/25/2023  03:04 PM            92,736 Linear Regression(CarData).ipynb\n",
      "07/01/2022  10:44 AM    <DIR>          Links\n",
      "01/24/2023  12:00 PM             3,567 List of most followed Instagram accounts.csv\n",
      "01/21/2023  04:46 PM             5,368 List python program pract.ipynb\n",
      "01/21/2023  04:11 PM             9,888 List python program.ipynb\n",
      "01/31/2023  10:17 AM            10,438 List Set Dict comprehension practice.ipynb\n",
      "05/09/2023  11:18 AM             8,827 List_data_type.ipynb\n",
      "05/04/2023  01:41 PM            64,323 Loan_Approval_Prediction_Project.ipynb\n",
      "12/20/2020  03:45 PM            38,013 LoanApprovalPrediction.csv\n",
      "01/29/2023  09:25 AM           186,859 Logistic regression- Heart disease dataset.ipynb\n",
      "02/01/2023  01:05 PM             1,799 Logistic regression implementation algorithm.ipynb\n",
      "05/08/2023  12:59 PM            28,557 Logistic_Regression_Assignment.ipynb\n",
      "05/10/2023  01:34 PM         5,312,733 Logistics_Regression_classification.ipynb\n",
      "01/29/2023  07:10 PM             8,724 Loop List Set Dictionary Comprehension.ipynb\n",
      "01/24/2023  12:35 PM            10,073 Lotus image classifier tuned CNN 70% accuracy.ipynb\n",
      "03/13/2023  11:24 PM           306,400 lstm_model.h5\n",
      "01/21/2023  04:11 PM            24,596 Machine Learning Pipeline.ipynb\n",
      "01/21/2023  04:13 PM           610,796 Making time series stationary python.ipynb\n",
      "05/28/2022  03:07 PM             2,047 Mall Customers updated.csv\n",
      "05/28/2022  03:26 AM             4,286 Mall_Customers.csv\n",
      "01/21/2023  04:13 PM            36,155 Market Basket Analysis.ipynb\n",
      "05/10/2023  05:07 PM           365,004 Matplotlib.ipynb\n",
      "02/22/2020  08:59 AM           302,908 MBA.csv\n",
      "05/12/2023  05:17 PM            32,826 Mean, Median, Mode _5Point summary.ipynb\n",
      "03/24/2022  07:33 PM            12,493 metro countries cities.csv\n",
      "03/24/2022  07:33 PM             1,533 metro_countries_in_progress.csv\n",
      "03/24/2022  07:33 PM             2,478 metro_countries_total.csv\n",
      "01/16/2023  09:36 AM        18,289,443 mnist_test.csv\n",
      "03/19/2023  03:33 PM            84,018 Model training student performance project.ipynb\n",
      "05/10/2023  01:15 PM                 0 model.pkl\n",
      "08/25/2021  06:15 AM             1,731 ModelTraining.py\n",
      "03/31/2020  07:31 AM            50,960 Movie_Titles.csv\n",
      "07/01/2022  10:44 AM    <DIR>          Music\n",
      "02/28/2023  09:12 AM            51,189 mvps.csv\n",
      "04/04/2023  01:25 PM                 0 mydatabase.db\n",
      "05/02/2023  07:13 PM                37 myfile.txt\n",
      "01/21/2023  03:49 PM                83 myfile1802.csv\n",
      "01/21/2023  04:28 PM               114 myfriend.csv\n",
      "01/21/2023  04:28 PM               103 myfriend_index.csv\n",
      "01/21/2023  03:49 PM            10,073 myimage.png\n",
      "08/30/2021  05:40 AM               822 mywrapper.sh\n",
      "02/28/2023  03:27 PM             7,384 NBA Stats Data.ipynb\n",
      "03/17/2023  03:17 PM           124,969 Netflix data .ipynb\n",
      "01/14/2023  05:03 PM         2,900,926 NetFlix Latest TV show movies.csv\n",
      "01/28/2023  05:35 PM           481,694 Netflix latest TV shows and movies with pandas.ipynb\n",
      "09/27/2021  04:44 AM         3,399,671 netflix_titles.csv\n",
      "06/03/2021  11:24 PM            38,678 NetflixOriginals.csv\n",
      "01/21/2023  04:14 PM           374,536 Neural network tuning.ipynb\n",
      "04/01/2023  05:54 PM                20 new 1.py\n",
      "05/05/2023  07:34 PM            88,388 New_Data.csv\n",
      "05/05/2023  07:34 PM            67,892 New_Excel.xlsx\n",
      "05/03/2023  12:47 PM               823 new_image.jpg\n",
      "05/02/2023  06:13 PM             6,970 new_image_AI.jpeg\n",
      "02/28/2023  10:00 AM               881 nicknames.txt\n",
      "01/21/2023  04:15 PM             3,495 NLP Data Import Part 2 - Document Parsing.ipynb\n",
      "01/21/2023  04:18 PM           236,240 NLP Data Import techniques.ipynb\n",
      "02/11/2023  04:20 PM            30,237 NLP practice Session.ipynb\n",
      "01/21/2023  04:19 PM            73,389 NLP.ipynb\n",
      "04/10/2023  07:36 PM           819,148 NLP_basic practice.ipynb\n",
      "02/14/2023  08:10 PM             7,829 NLP-Sentence Tokenization.ipynb\n",
      "01/21/2023  04:21 PM            39,887 Novel COVID 19 Spread Analysis and Forecast.ipynb\n",
      "03/20/2023  06:41 PM             6,762 Numpy Coding Question.ipynb\n",
      "02/24/2023  07:14 PM            24,622 Numpy Interview question practice.ipynb\n",
      "01/31/2023  03:26 PM             2,733 NumPy Laibrary practice.ipynb\n",
      "01/21/2023  04:24 PM            45,402 Numpy practice session.ipynb\n",
      "05/05/2023  02:31 PM            59,264 Numpy_Assignment.ipynb\n",
      "03/20/2023  06:37 PM             8,958 Numpy_Coding_Question.ipynb\n",
      "02/02/2023  07:03 PM            67,886 Numpy_Coding_Round.ipynb\n",
      "02/03/2023  10:07 AM            62,831 Numpy_matplotlib_seaborn_tensorflow.ipynb\n",
      "04/26/2023  06:57 PM            23,906 Numpy_Practice1.ipynb\n",
      "02/12/2023  08:32 PM           116,035 Numpy-pandas -seaborn library coding question.ipynb\n",
      "06/30/2022  10:17 PM    <DIR>          OneDrive\n",
      "03/14/2023  12:15 PM         4,849,648 Orange Telecom Company Churn Prediction Project.ipynb\n",
      "01/21/2023  04:26 PM            70,562 Pandas library practice session.ipynb\n",
      "05/06/2023  10:09 AM           275,855 Pandas_Assignment.ipynb\n",
      "01/21/2023  02:28 PM           190,702 Pandas_Iris_dataset.ipynb\n",
      "01/27/2023  01:12 PM           359,039 pandas_mall_customer_dataset.ipynb\n",
      "05/08/2023  12:58 PM            30,887 Pandas_Numpy_task1.ipynb\n",
      "05/12/2023  03:40 PM    <DIR>          Pictures\n",
      "09/28/2019  12:37 AM            24,045 pima-indians-diabetes.csv\n",
      "02/28/2023  09:13 AM         2,501,539 players.csv\n",
      "09/03/2020  05:20 PM            15,890 population_by_country.csv\n",
      "01/21/2023  04:54 PM             6,429 Practice PyPro Day-1.ipynb\n",
      "01/21/2023  05:45 PM            22,601 Practice PyPro Day-10.ipynb\n",
      "01/21/2023  05:49 PM             7,625 Practice PyPro Day-11.ipynb\n",
      "01/21/2023  05:54 PM            15,133 Practice PyPro Day-12.ipynb\n",
      "01/21/2023  04:57 PM             3,262 Practice PyPro day-2.ipynb\n",
      "01/21/2023  05:04 PM            17,678 Practice PyPro Day-3.ipynb\n",
      "01/21/2023  05:41 PM            26,846 Practice PyPro Day-4.ipynb\n",
      "01/21/2023  05:41 PM            20,788 Practice PyPro Day-5.ipynb\n",
      "01/21/2023  05:55 PM           238,421 Practice PyPro Day-6.ipynb\n",
      "01/21/2023  05:42 PM             2,795 Practice PyPro Day-7.ipynb\n",
      "01/21/2023  05:43 PM            44,484 Practice PyPro Day-8.ipynb\n",
      "01/21/2023  05:44 PM             6,270 Practice PyPro Day-9.ipynb\n",
      "08/25/2021  06:13 AM             1,166 prediction.py\n",
      "02/16/2023  04:45 PM             4,029 Prime number.ipynb\n",
      "05/10/2023  03:08 PM             8,869 Progress_bar_Coding.ipynb\n",
      "01/21/2023  05:39 PM            10,788 pysprk.ipynb\n",
      "01/21/2023  06:03 PM            16,924 Python Basics Data Types.ipynb\n",
      "03/18/2023  01:12 PM            17,524 Python Basics for DS - Data Types.ipynb\n",
      "01/25/2023  08:13 PM            57,062 Python Important packages for Data Science.ipynb\n",
      "01/24/2023  11:40 AM            37,128 Python pandas library.ipynb\n",
      "02/13/2023  07:02 PM             4,722 Python question solving.ipynb\n",
      "05/06/2023  01:17 PM             6,400 Python_code9.ipynb\n",
      "04/29/2023  04:03 PM            33,186 Python_Coding Practice.ipynb\n",
      "05/01/2023  05:49 PM            10,051 python_coding_task.ipynb\n",
      "02/07/2023  01:05 PM             5,392 Python_function1.ipynb\n",
      "05/07/2023  10:46 AM            12,157 Python_function2.ipynb\n",
      "05/07/2023  10:58 AM            16,694 Python_function3.ipynb\n",
      "02/16/2023  08:17 PM            23,781 Python_function4.ipynb\n",
      "05/10/2023  10:27 PM             3,219 Python_interview.ipynb\n",
      "03/08/2023  05:38 PM            11,876 Python_lambdaFilterMapReduce Function.ipynb\n",
      "03/11/2023  04:25 PM            18,523 Python_practice.ipynb\n",
      "01/24/2023  12:49 PM            14,122 Python_String1.ipynb\n",
      "01/02/2023  03:22 PM             5,299 Python_string2.ipynb\n",
      "08/25/2021  06:16 AM             1,010 PythonScriptParametrization.py\n",
      "01/21/2023  06:09 PM            31,738 Random Forest Estimator.ipynb\n",
      "05/02/2023  04:07 PM             3,491 random() function_coding_question.ipynb\n",
      "05/09/2023  11:17 AM                 5 result.pickle\n",
      "01/24/2023  11:53 AM         1,041,974 Revenue Profit of Fortune 500 companies year1955.csv\n",
      "05/03/2023  12:38 PM             5,892 rossum.jpeg\n",
      "04/07/2023  03:12 PM               544 sample.txt\n",
      "07/01/2022  10:44 AM    <DIR>          Saved Games\n",
      "05/12/2023  04:26 PM    <DIR>          seaborn-data\n",
      "07/01/2022  10:45 AM    <DIR>          Searches\n",
      "01/21/2023  06:11 PM           199,181 Seasonal Decompose and Adfuller test.ipynb\n",
      "01/21/2023  06:12 PM            62,694 Sentiment Analysis Using Hybrid Model.ipynb\n",
      "03/09/2023  12:21 PM            65,652 Shop Customer Analysis.csv\n",
      "03/09/2023  12:23 PM           358,769 Shop customer analysis_EDA.ipynb\n",
      "05/08/2023  12:00 PM           185,818 Simple Linear Regression .ipynb\n",
      "05/08/2023  12:18 PM            65,899 Simple_Linear_Regression_Assignment.ipynb\n",
      "05/08/2023  03:22 PM            84,969 Simple_Linear_Regression_HW_Dataset.ipynb\n",
      "02/01/2023  10:45 AM               444 simple_regression_model.sav\n",
      "05/08/2023  03:20 PM                 0 SimpleLinear_pickle_file.pkl\n",
      "03/16/2023  11:35 AM            22,757 Sklearn Library ML.ipynb\n",
      "02/10/2023  03:48 PM            25,031 Slice function in python.ipynb\n",
      "06/28/2020  11:02 AM           181,924 social media visitors.csv\n",
      "06/28/2020  11:02 AM           171,919 Social Title Page.csv\n",
      "06/28/2020  11:02 AM             2,513 social_media.csv\n",
      "04/05/2023  03:52 PM            75,794 SQL_practice.ipynb\n",
      "01/21/2023  06:15 PM           242,798 Standard Analytical Development -2023.ipynb\n",
      "01/22/2023  07:14 PM        10,942,450 Startup success fail  dataset crunchbase.csv\n",
      "05/07/2023  04:50 PM             6,296 Statistics_Assignment-1.ipynb\n",
      "05/07/2023  04:58 PM            16,156 Statistics_Basic1.ipynb\n",
      "05/08/2023  09:26 AM           511,825 Statistics_Basic2.ipynb\n",
      "02/15/2023  03:45 PM            45,218 Statistics-Mean Median Mode SD .ipynb\n",
      "02/20/2020  04:19 AM           171,737 STEPS.PNG\n",
      "03/13/2023  11:26 PM         1,042,311 Stock Price Prediction Project.ipynb\n",
      "01/21/2023  06:12 PM           758,519 Stock Price prediction using ARIMA -  End to End .ipynb\n",
      "10/11/2019  12:48 PM            72,036 StudentsPerformance.csv\n",
      "01/29/2023  10:09 AM             1,406 Submission.csv\n",
      "04/10/2023  06:59 PM            77,851 Sunflower.jpeg\n",
      "01/21/2023  04:28 PM               155 sunil.csv\n",
      "05/07/2023  11:12 AM               900 sunilmath.py.ipynb\n",
      "05/07/2023  11:19 AM             7,898 sunilmath_test.py.ipynb\n",
      "05/04/2023  02:14 PM           357,985 Supply Chain Shipment Price_Data Analysis.ipynb\n"
     ]
    },
    {
     "name": "stdout",
     "output_type": "stream",
     "text": [
      "10/08/2019  08:49 PM         3,785,904 Supply chain shipment pricing.csv\n",
      "04/28/2023  06:08 PM         5,387,450 Supply chain shipment project.ipynb\n",
      "10/08/2019  08:49 PM         3,785,904 SupplyChainService_Delivery_History.csv\n",
      "02/02/2023  10:01 AM             1,720 SVM algorithm practice.ipynb\n",
      "02/28/2023  09:12 AM            70,817 teams.csv\n",
      "03/14/2023  11:43 AM           892,809 Telco Churn Analysis Project.ipynb\n",
      "09/27/2019  07:30 PM           977,501 Telco Customer Churn.csv\n",
      "03/14/2023  07:58 PM         3,814,175 Telecom churn Indian and South east asian market project.ipynb\n",
      "11/21/2020  12:04 PM        79,156,935 telecom_churn_asian_data.csv\n",
      "03/18/2023  01:53 PM           762,564 Telecom_churn_EDA .ipynb\n",
      "03/18/2023  02:05 PM           616,103 telecom_customer_churn_prediction.ipynb\n",
      "03/09/2023  01:33 PM               773 TelecomChurn.csv\n",
      "03/18/2023  01:41 PM           715,474 telecom-churn_dummies_2.csv\n",
      "01/02/2023  03:20 PM             3,759 Ternary operator.ipynb\n",
      "01/20/2023  10:46 AM           210,984 Tesla Stock Price (2010 to 2023).csv\n",
      "03/08/2023  09:12 PM           105,922 TeslaStockPrice2010to2023_project.ipynb\n",
      "09/20/2019  03:24 PM             4,461 test_linearRegre.csv\n",
      "05/04/2023  10:37 AM         6,534,104 test_Loan_default_prediction.csv\n",
      "01/06/2023  11:33 AM                82 test1.csv\n",
      "08/25/2021  07:04 AM         5,908,706 TestData.csv\n",
      "01/21/2023  05:29 PM           506,498 Time Series Forecasting methods - Part 1.ipynb\n",
      "11/03/2020  07:51 AM             4,666 TimeSeries.csv\n",
      "10/19/2019  11:15 PM             7,943 tips.csv\n",
      "12/02/2021  04:11 PM            29,474 Titanic dataset.csv\n",
      "12/30/2022  03:57 PM            11,460 titanic.csv\n",
      "08/26/2022  02:56 PM    <DIR>          Tracing\n",
      "02/20/2020  04:11 AM            61,194 train.csv\n",
      "09/20/2019  03:24 PM            10,384 train_linearRegre.csv\n",
      "05/04/2023  10:37 AM        16,484,188 train_Loan_default_prediction.csv\n",
      "07/25/2021  02:16 AM         2,585,911 Tweets.csv\n",
      "01/24/2023  11:55 AM           101,238 Udacity_course_catlog.csv\n",
      "01/21/2023  05:27 PM            11,134 Understanding Functions.ipynb\n",
      "01/21/2023  05:23 PM            18,775 Understanding Loops.ipynb\n",
      "03/13/2023  11:08 AM            13,113 Untitled.ipynb\n",
      "08/08/2022  10:33 AM                 0 untitled.txt\n",
      "05/07/2023  06:21 PM             3,367 Untitled1.ipynb\n",
      "04/11/2023  12:51 PM            31,512 Untitled10.ipynb\n",
      "01/31/2023  05:33 PM               589 Untitled11.ipynb\n",
      "01/21/2023  05:10 PM             1,255 Untitled12.ipynb\n",
      "02/01/2023  02:46 PM             9,455 Untitled13.ipynb\n",
      "02/02/2023  04:58 PM                72 Untitled14.ipynb\n",
      "02/15/2023  02:04 PM             9,869 Untitled15.ipynb\n",
      "01/21/2023  11:52 AM                72 Untitled16.ipynb\n",
      "02/16/2023  08:03 PM           251,084 Untitled17.ipynb\n",
      "02/17/2023  12:14 PM             8,554 Untitled18.ipynb\n",
      "02/26/2023  12:32 PM            11,975 Untitled19.ipynb\n",
      "01/21/2023  05:16 PM             4,506 Untitled2.ipynb\n",
      "02/27/2023  07:24 PM            51,824 Untitled20.ipynb\n",
      "03/19/2023  10:52 AM                72 Untitled21.ipynb\n",
      "03/22/2023  11:53 AM               589 Untitled22.ipynb\n",
      "03/27/2023  03:40 PM            44,064 Untitled23.ipynb\n",
      "04/01/2023  09:29 AM           102,214 Untitled24.ipynb\n",
      "04/03/2023  07:26 PM            10,604 Untitled25.ipynb\n",
      "04/04/2023  01:30 PM            20,287 Untitled26.ipynb\n",
      "04/07/2023  05:11 PM            35,801 Untitled27.ipynb\n",
      "04/10/2023  11:51 AM             2,264 Untitled28.ipynb\n",
      "08/17/2022  09:08 PM             1,875 Untitled3.ipynb\n",
      "01/21/2023  05:19 PM             5,075 Untitled4.ipynb\n",
      "01/31/2023  03:52 PM                72 Untitled5.ipynb\n",
      "08/30/2022  06:50 PM               589 Untitled6.ipynb\n",
      "01/21/2023  05:12 PM            17,222 Untitled7.ipynb\n",
      "01/31/2023  04:20 PM            16,267 Untitled8.ipynb\n",
      "04/07/2023  03:45 PM           154,735 Untitled9.ipynb\n",
      "09/19/2019  11:33 PM         1,355,781 videogamesales.csv\n",
      "07/09/2022  03:38 PM    <DIR>          Videos\n",
      "05/08/2023  02:24 PM           307,746 Weight_height.csv\n",
      "09/15/2021  07:00 AM           390,376 Wine_Quality_Dataset.csv\n",
      "01/26/2023  11:03 AM           397,305 World GDP dataset Pandas.ipynb\n",
      "01/24/2023  12:14 PM            58,795 World GDP Dataset.csv\n",
      "01/28/2023  06:24 PM         4,036,164 World metro data analysis.ipynb\n",
      "10/20/2022  05:51 PM            29,247 world_population.csv\n",
      "09/10/2022  06:20 AM            15,542 worldwide internet prices in 2022 - IN 2022.csv\n",
      "02/21/2023  12:34 PM            61,416 Worldwide Internet pricess in 2022 dataset.ipynb\n",
      "09/10/2022  06:20 AM             2,272 worldwide internet speed in 2022  - avg speed.csv\n",
      "09/10/2022  06:20 AM            11,952 worldwide internet users - users.csv\n",
      "05/05/2023  07:34 PM            47,240 Write.h5\n",
      "01/21/2023  04:39 PM            13,539 XGBoost Demonstration.ipynb\n",
      "             390 File(s)    265,642,402 bytes\n",
      "              31 Dir(s)  57,396,490,240 bytes free\n"
     ]
    }
   ],
   "source": [
    "%ls"
   ]
  },
  {
   "cell_type": "markdown",
   "id": "04b80d68",
   "metadata": {},
   "source": [
    "## write()"
   ]
  },
  {
   "cell_type": "code",
   "execution_count": 7,
   "id": "bb33284a",
   "metadata": {},
   "outputs": [
    {
     "data": {
      "text/plain": [
       "31"
      ]
     },
     "execution_count": 7,
     "metadata": {},
     "output_type": "execute_result"
    }
   ],
   "source": [
    "f=open(\"File2.txt\",\"w\")\n",
    "f.write(\"This is my first file operation\")"
   ]
  },
  {
   "cell_type": "code",
   "execution_count": 8,
   "id": "c6dcd73c",
   "metadata": {},
   "outputs": [],
   "source": [
    "f.close()"
   ]
  },
  {
   "cell_type": "code",
   "execution_count": 9,
   "id": "523e2a59",
   "metadata": {},
   "outputs": [
    {
     "data": {
      "text/plain": [
       "285"
      ]
     },
     "execution_count": 9,
     "metadata": {},
     "output_type": "execute_result"
    }
   ],
   "source": [
    "f = open(\"File3.txt\",\"w\")\n",
    "f.write(\"\"\"A.P.J. Abdul Kalam was a prominent Indian\n",
    "        scientist who served as the 11th President of India \n",
    "        from 2002 to 2007. Renowned for his pivotal role in the nation’s \n",
    "        civilian space programme and military missile development, he was known as the Missile Man of India.\"\"\")"
   ]
  },
  {
   "cell_type": "code",
   "execution_count": 10,
   "id": "8d969626",
   "metadata": {},
   "outputs": [],
   "source": [
    "f.close()"
   ]
  },
  {
   "cell_type": "markdown",
   "id": "5cb1df13",
   "metadata": {},
   "source": [
    "## Another way of creating a file"
   ]
  },
  {
   "cell_type": "code",
   "execution_count": 11,
   "id": "d2818729",
   "metadata": {},
   "outputs": [
    {
     "name": "stdout",
     "output_type": "stream",
     "text": [
      "Writing File4.txt\n"
     ]
    }
   ],
   "source": [
    "%%writefile File4.txt\n",
    "I would like to store data related to mchine learning."
   ]
  },
  {
   "cell_type": "code",
   "execution_count": 12,
   "id": "be8a36ef",
   "metadata": {},
   "outputs": [
    {
     "name": "stdout",
     "output_type": "stream",
     "text": [
      " Volume in drive C has no label.\n",
      " Volume Serial Number is E431-6D6B\n",
      "\n",
      " Directory of C:\\Users\\Admin\n",
      "\n",
      "05/06/2023  01:18 PM            12,007  Mini Project_Python.ipynb\n",
      "05/12/2023  09:20 PM    <DIR>          .\n",
      "05/12/2023  09:20 PM    <DIR>          ..\n",
      "07/26/2022  10:47 PM    <DIR>          .anaconda\n",
      "07/27/2022  03:41 PM    <DIR>          .conda\n",
      "07/26/2022  10:46 PM                25 .condarc\n",
      "07/26/2022  10:45 PM    <DIR>          .continuum\n",
      "04/17/2023  10:08 AM    <DIR>          .idlerc\n",
      "05/12/2023  09:12 PM    <DIR>          .ipynb_checkpoints\n",
      "07/05/2022  09:50 PM    <DIR>          .ipython\n",
      "04/07/2023  05:03 PM    <DIR>          .jupyter\n",
      "02/15/2023  02:07 PM    <DIR>          .keras\n",
      "07/19/2022  07:59 PM    <DIR>          .matplotlib\n",
      "04/01/2023  03:25 PM               489 .python_history\n",
      "04/01/2023  03:18 PM    <DIR>          .spyder-py3\n",
      "03/09/2023  01:28 PM               589 1.ipynb\n",
      "01/02/2023  03:25 PM             5,145 11N.ipynb\n",
      "01/12/2023  10:13 PM             4,886 12Jn.ipynb\n",
      "11/14/2022  01:59 PM             4,518 12N.py.ipynb\n",
      "01/14/2023  06:04 PM           204,492 13Jn.ipynb\n",
      "11/16/2022  01:41 PM             8,268 14N.py.ipynb\n",
      "11/15/2022  05:11 PM             8,552 15N.ipynb\n",
      "11/17/2022  10:54 AM             8,961 16N.ipynb\n",
      "11/17/2022  02:44 PM             3,163 17N.ipynb\n",
      "11/18/2022  02:00 PM             9,866 18N.ipynb\n",
      "12/29/2022  11:35 PM               161 2\n",
      "07/01/2022  10:43 AM    <DIR>          3D Objects\n",
      "04/01/2023  09:45 AM            54,091 A.jpg\n",
      "04/01/2023  09:46 AM            14,354 a1.jpg\n",
      "05/02/2023  07:13 PM                25 abcd.txt\n",
      "02/02/2023  12:47 PM             7,299 Ada-Boost Implementation.ipynb\n",
      "10/19/2019  05:04 PM             4,062 Advertising_dataset.csv\n",
      "05/02/2023  06:06 PM             6,970 AI_face.jpeg\n",
      "04/07/2023  11:37 AM           168,662 Algerian forest fire dataset.ipynb\n",
      "05/09/2023  02:51 PM            14,445 Algerian_forest_fires.csv\n",
      "05/10/2023  10:25 AM            14,759 Algerian_forest_fires_dataset.csv\n",
      "04/12/2023  11:31 AM           323,344 AlgerianForest Dataset.ipynb\n",
      "04/05/2023  02:54 PM    <DIR>          anaconda3\n",
      "01/24/2023  10:50 AM           187,169 apple.csv\n",
      "02/10/2023  05:26 PM            12,466 Arithmatic comparsion operator.ipynb\n",
      "03/15/2023  06:21 PM         4,122,465 Asian telecom churn project.ipynb\n",
      "05/06/2023  01:20 PM             4,321 Assignment-1.ipynb\n",
      "04/29/2023  10:53 AM             7,983 Assignment-2.ipynb\n",
      "04/29/2023  11:06 AM             4,673 Assignment-3.ipynb\n",
      "04/29/2023  11:17 AM             6,454 Assignment-4.ipynb\n",
      "04/29/2023  01:47 PM             5,160 Assignment-5.ipynb\n",
      "05/07/2023  10:44 AM            11,217 Assignment-6.ipynb\n",
      "04/25/2023  09:45 PM             5,233 Assignment-7.ipynb\n",
      "05/07/2023  11:03 AM             7,193 Assignment-8.ipynb\n",
      "01/21/2023  02:43 PM            11,051 Autoregression using ACF and PACP explained.ipynb\n",
      "05/07/2023  06:52 PM            84,984 Basic_Python.ipynb\n",
      "01/21/2023  05:11 PM             4,051 Basic_Python1.ipynb\n",
      "05/07/2023  10:48 AM            12,612 Basic_Python2.ipynb\n",
      "05/07/2023  10:51 AM             9,447 Basic_Python3.ipynb\n",
      "01/14/2023  11:20 AM            11,053 Basic_Python4.ipynb\n",
      "01/21/2023  05:13 PM             2,299 Basic_Python5.ipynb\n",
      "02/26/2023  05:21 PM             9,475 Basic_Python6.ipynb\n",
      "09/28/2019  05:45 PM            46,442 Bill Authentication DT.csv\n",
      "06/13/2022  12:12 PM            37,658 Boston.csv\n",
      "04/01/2023  09:32 AM           427,047 businessman-using-chatbot-smartphone-intelligence-ai-2248134023.html\n",
      "05/10/2023  10:14 AM                87 BuyerRatio.csv\n",
      "01/16/2023  09:34 AM           301,141 california housing test.csv\n",
      "01/16/2023  09:34 AM         1,706,430 california housing train.csv\n",
      "05/06/2022  12:48 PM            53,656 car evaluation.csv\n",
      "03/01/2022  11:57 AM            37,048 car_data.csv\n",
      "11/04/2022  08:00 AM            17,209 CarData.csv\n",
      "04/01/2023  09:28 AM            86,611 cat.jpg\n",
      "01/21/2023  02:41 PM            15,161 CatBoost Vs XGBoost Vs LightGBM - Part 1.ipynb\n",
      "03/19/2023  12:28 PM    <DIR>          catboost_info\n",
      "03/13/2023  06:24 PM            72,210 Categorical variable Outlier Imputation.ipynb\n",
      "10/21/2019  05:09 AM           684,858 Churn_Modelling.csv\n",
      "10/27/2019  04:15 AM            56,329 churn-bigml-20-Orange Telecom Customer Churn Dataset.csv\n",
      "10/27/2019  04:15 AM           223,998 churn-bigml-80-Orange Telecom Customer Churn Dataset.csv\n",
      "02/20/2020  04:07 AM               501 Classification Data.csv\n",
      "05/10/2023  01:20 PM               324 classifier_bal.pkl\n",
      "04/12/2023  10:58 AM             8,563 Cleaned_Algerian_Forest.csv\n",
      "01/21/2023  02:49 PM             9,651 Cleaning Text Data.ipynb\n",
      "01/23/2023  09:52 AM         6,265,883 CLTV leading insurance company train BRCpofr.csv\n",
      "01/23/2023  09:52 AM         1,538,872 CLTV sample_submission.csv\n",
      "01/23/2023  09:52 AM         3,861,619 CLTV test_koRSKBP.csv\n",
      "04/01/2023  11:47 AM            68,899 computer_vision.ipynb\n",
      "07/01/2022  10:43 AM    <DIR>          Contacts\n",
      "05/10/2023  10:14 AM            13,423 Costomer+OrderForm.csv\n",
      "01/24/2023  12:04 PM             3,040 COVID-19 India Satewise data.csv\n",
      "01/21/2023  02:57 PM            33,516 COVID-19 Positive patients Data Analysis - India .ipynb\n",
      "01/21/2023  02:55 PM            32,563 COVID-19 Positive patients Data Analysis - India.ipynb\n",
      "01/24/2023  12:15 PM           255,184 COVID-19 prediction using ML&DL with 90% accuracy.ipynb\n",
      "07/17/2020  06:32 AM           362,316 Creating Word Embedding Using Gensim.html\n",
      "07/17/2020  06:32 AM            69,609 Creating Word Embedding Using Gensim.ipynb\n",
      "03/13/2023  09:59 PM           635,087 Crude Oil Price Prediction Project.ipynb\n",
      "03/13/2023  09:27 PM            19,532 Cruide Oil Price Predict Gulf-Linear Regression Data.csv\n",
      "02/07/2023  06:42 PM            74,346 Customers.csv\n",
      "05/10/2023  10:14 AM               525 Cutlets.csv\n",
      "01/14/2023  07:05 PM                11 Data1.txt\n",
      "01/14/2023  07:25 PM                11 Data2.txt\n",
      "04/05/2023  02:43 PM            32,768 database.db\n",
      "05/04/2023  10:36 PM            43,735 Day1_Basic_Python.ipynb\n",
      "05/12/2023  09:20 PM            36,741 Day10_File_handling.ipynb\n",
      "05/04/2023  10:31 PM            41,730 Day2_Reserved_words_variable_user_input.ipynb\n",
      "05/05/2023  10:24 PM            37,936 Day3_Conditional_operators.ipynb\n",
      "05/06/2023  10:28 PM            58,669 Day4_String_Methods.ipynb\n",
      "05/07/2023  10:16 PM            33,781 Day5_Control_flow_statement.ipynb\n",
      "05/08/2023  11:37 PM            93,062 Day6_List_in_Python.ipynb\n",
      "05/09/2023  10:20 PM            26,278 Day7_Tuples_Set_data_type.ipynb\n",
      "05/10/2023  10:18 PM            33,056 Day8_Dictionary.ipynb\n",
      "05/11/2023  10:51 PM            73,562 Day9_Functions.ipynb\n",
      "01/21/2023  03:03 PM            13,682 DBSCAN .ipynb\n",
      "01/21/2023  03:06 PM            13,801 Decision tree classifier.ipynb\n",
      "01/29/2023  10:10 AM             9,219 Decission tree accuracy.ipynb\n",
      "02/15/2023  02:17 PM            11,651 Deep Learning.ipynb\n",
      "05/12/2023  04:24 PM    <DIR>          Desktop\n",
      "06/26/2020  02:58 AM            23,873 diabetes.csv\n",
      "05/09/2023  12:37 PM         2,814,957 Diamond_Price_Prediction.csv\n",
      "05/09/2023  04:35 PM           195,491 Diamond_Price_Prediction_Lasso_Ridge_Elasticnet.ipynb\n",
      "02/01/2023  05:51 PM            23,916 Dictionary data structure.ipynb\n",
      "11/29/2021  02:25 AM           383,571 disney_plus_titles.csv\n",
      "01/06/2023  11:33 AM    <DIR>          Documents\n",
      "05/12/2023  05:41 PM    <DIR>          Downloads\n",
      "10/01/2019  06:15 PM             5,918 drinksbycountry.csv\n",
      "01/24/2023  12:31 PM            36,960 ds_salaries.csv\n",
      "05/09/2023  04:08 PM           623,951 EDA_Diamond_Price.ipynb\n",
      "08/17/2021  06:35 AM           172,116 electronic-card-transactions-july-2021-csv-tables.csv\n",
      "04/30/2023  11:31 AM           589,717 End To End Project ML.ipynb\n",
      "01/21/2023  03:09 PM           374,849 End to End Time Series Analysis.ipynb\n",
      "05/03/2023  01:33 PM                95 example.csv\n",
      "05/03/2023  12:19 PM               336 example.txt\n",
      "07/01/2022  10:43 AM    <DIR>          Favorites\n",
      "01/21/2023  03:16 PM            29,251 Feature extraction from text.ipynb\n",
      "01/21/2023  10:07 AM            23,240 Feature Selection by Wrapper and Filter Method.ipynb\n",
      "11/28/2022  06:29 PM             1,945 fibo.py.ipynb\n",
      "05/03/2023  01:01 PM            33,051 file_handling.ipynb\n",
      "05/02/2023  06:39 PM               192 file1.py\n",
      "05/12/2023  09:17 PM                 0 file1.txt\n",
      "05/12/2023  09:19 PM                31 file2.txt\n",
      "05/12/2023  09:19 PM               288 File3.txt\n",
      "05/12/2023  09:20 PM                56 File4.txt\n",
      "05/03/2023  01:34 PM            68,849 FileHand.ipynb\n",
      "02/14/2022  11:49 AM             6,022 Fish.csv\n",
      "01/21/2023  04:25 PM               118 friend.csv\n",
      "01/21/2023  04:25 PM               107 friend123.csv\n",
      "01/16/2023  03:35 PM             3,864 function_codingQue.ipynb\n",
      "11/22/2022  12:49 PM             5,921 function_prog practice.ipynb\n",
      "05/07/2023  07:14 PM            17,226 Functions.ipynb\n",
      "06/18/2020  04:12 AM         2,772,143 Gemstone_Price_Prediction.csv\n",
      "04/07/2023  02:40 PM    <DIR>          gensim-data\n",
      "04/12/2022  10:00 AM            48,196 german credit.csv\n",
      "04/12/2022  10:00 AM            48,196 german_credit.csv\n",
      "01/21/2023  03:20 PM            22,865 Gradient-Boost Implementation.ipynb\n",
      "03/13/2023  11:25 PM           334,776 gru_model.h5\n",
      "03/12/2023  10:41 AM            82,918 Handling MIssing Data-TD.ipynb\n",
      "02/02/2021  12:01 PM           597,842 HCLTECH.csv\n",
      "01/28/2023  07:25 PM           353,822 Heart Disease Prediction using Neural Network.ipynb\n",
      "10/25/2019  01:10 AM            38,114 heart disease.csv\n",
      "04/02/2023  01:27 PM                20 hello.py\n",
      "01/21/2023  03:23 PM           142,419 hierarchical clustering.ipynb\n",
      "10/04/2019  12:36 PM           526,795 House price prediction dataset output.csv\n",
      "10/04/2019  12:36 PM           526,795 House price prediction dataset.csv\n",
      "01/28/2023  09:15 PM           303,527 House price prediction Linear Ridge Lasso.ipynb\n",
      "07/20/2022  03:15 PM            54,773 House_Price.csv\n",
      "01/29/2023  09:37 AM            75,589 Housing Price Prediction.ipynb\n",
      "04/20/2022  12:13 PM         1,423,529 housing.csv\n",
      "01/21/2023  03:25 PM            27,058 How to work with imbalanced Data.ipynb\n",
      "01/21/2023  03:26 PM           335,810 Hypothesis Test Practical Implementation .ipynb\n",
      "05/12/2023  05:44 PM            27,501 Hypothesis testing-Assignment.ipynb\n",
      "05/12/2023  04:47 PM           148,038 Hypothesis_testing.ipynb\n",
      "04/01/2023  09:36 AM             9,057 Image1.jpg\n",
      "04/01/2023  09:37 AM         2,630,045 Image2.jpg\n",
      "01/21/2023  03:30 PM            29,061 Implementing Logistics Regression.ipynb\n",
      "01/21/2023  03:50 PM           294,233 Implementing machine learning in Python.ipynb\n",
      "01/21/2023  03:44 PM               294 income expense data.csv\n",
      "02/20/2020  04:12 AM         1,111,971 income.csv\n",
      "02/20/2020  04:01 AM             9,668 Income_Expense_Data.xlsx\n",
      "05/07/2023  03:04 PM           309,245 Inferential_Statistics.ipynb\n",
      "02/14/2022  12:02 PM            55,628 insurance.csv\n",
      "09/10/2022  06:20 AM            20,982 InternetPricesAround200Countries.csv\n",
      "05/07/2023  05:07 PM            14,306 Introduction To Machine Learning.ipynb\n",
      "11/23/2020  06:53 AM        22,721,656 IPL Ball-by-Ball 2008-2020.csv\n",
      "01/24/2023  11:43 AM           150,820 IPL Matches 2008-2020.csv\n",
      "02/20/2020  04:09 AM             3,867 iris.csv\n",
      "01/21/2023  03:55 PM            20,940 Item based collaborative filtering python .ipynb\n",
      "04/01/2023  03:15 PM    <DIR>          Jedi\n",
      "01/21/2023  04:03 PM            30,347 k-means clustering.ipynb\n",
      "05/10/2023  10:14 AM             3,487 LabTAT.csv\n",
      "01/21/2023  04:05 PM             3,766 lambda Function python program.ipynb\n",
      "01/29/2023  03:13 PM            12,336 LambdaMapFilterReduceEval function in python.ipynb\n",
      "02/14/2022  01:02 PM           332,556 LE.csv\n",
      "02/14/2022  12:43 PM           333,442 Life Expectancy Data.csv\n",
      "02/01/2023  10:52 AM            72,892 Linear Regression Algorithm implementation.ipynb\n",
      "10/18/2022  06:56 AM            20,604 Linear Regression Data-Cruide Oil Price Predict Gulf.xlsx\n",
      "01/28/2023  04:12 PM            57,014 Linear Regression Supervised Learning.ipynb\n",
      "02/25/2023  03:04 PM            92,736 Linear Regression(CarData).ipynb\n",
      "07/01/2022  10:44 AM    <DIR>          Links\n",
      "01/24/2023  12:00 PM             3,567 List of most followed Instagram accounts.csv\n",
      "01/21/2023  04:46 PM             5,368 List python program pract.ipynb\n",
      "01/21/2023  04:11 PM             9,888 List python program.ipynb\n",
      "01/31/2023  10:17 AM            10,438 List Set Dict comprehension practice.ipynb\n",
      "05/09/2023  11:18 AM             8,827 List_data_type.ipynb\n",
      "05/04/2023  01:41 PM            64,323 Loan_Approval_Prediction_Project.ipynb\n",
      "12/20/2020  03:45 PM            38,013 LoanApprovalPrediction.csv\n",
      "01/29/2023  09:25 AM           186,859 Logistic regression- Heart disease dataset.ipynb\n",
      "02/01/2023  01:05 PM             1,799 Logistic regression implementation algorithm.ipynb\n",
      "05/08/2023  12:59 PM            28,557 Logistic_Regression_Assignment.ipynb\n",
      "05/10/2023  01:34 PM         5,312,733 Logistics_Regression_classification.ipynb\n",
      "01/29/2023  07:10 PM             8,724 Loop List Set Dictionary Comprehension.ipynb\n",
      "01/24/2023  12:35 PM            10,073 Lotus image classifier tuned CNN 70% accuracy.ipynb\n",
      "03/13/2023  11:24 PM           306,400 lstm_model.h5\n",
      "01/21/2023  04:11 PM            24,596 Machine Learning Pipeline.ipynb\n",
      "01/21/2023  04:13 PM           610,796 Making time series stationary python.ipynb\n",
      "05/28/2022  03:07 PM             2,047 Mall Customers updated.csv\n",
      "05/28/2022  03:26 AM             4,286 Mall_Customers.csv\n",
      "01/21/2023  04:13 PM            36,155 Market Basket Analysis.ipynb\n",
      "05/10/2023  05:07 PM           365,004 Matplotlib.ipynb\n",
      "02/22/2020  08:59 AM           302,908 MBA.csv\n",
      "05/12/2023  05:17 PM            32,826 Mean, Median, Mode _5Point summary.ipynb\n",
      "03/24/2022  07:33 PM            12,493 metro countries cities.csv\n",
      "03/24/2022  07:33 PM             1,533 metro_countries_in_progress.csv\n",
      "03/24/2022  07:33 PM             2,478 metro_countries_total.csv\n",
      "01/16/2023  09:36 AM        18,289,443 mnist_test.csv\n",
      "03/19/2023  03:33 PM            84,018 Model training student performance project.ipynb\n",
      "05/10/2023  01:15 PM                 0 model.pkl\n",
      "08/25/2021  06:15 AM             1,731 ModelTraining.py\n",
      "03/31/2020  07:31 AM            50,960 Movie_Titles.csv\n",
      "07/01/2022  10:44 AM    <DIR>          Music\n",
      "02/28/2023  09:12 AM            51,189 mvps.csv\n",
      "04/04/2023  01:25 PM                 0 mydatabase.db\n",
      "05/02/2023  07:13 PM                37 myfile.txt\n",
      "01/21/2023  03:49 PM                83 myfile1802.csv\n",
      "01/21/2023  04:28 PM               114 myfriend.csv\n",
      "01/21/2023  04:28 PM               103 myfriend_index.csv\n",
      "01/21/2023  03:49 PM            10,073 myimage.png\n",
      "08/30/2021  05:40 AM               822 mywrapper.sh\n",
      "02/28/2023  03:27 PM             7,384 NBA Stats Data.ipynb\n",
      "03/17/2023  03:17 PM           124,969 Netflix data .ipynb\n",
      "01/14/2023  05:03 PM         2,900,926 NetFlix Latest TV show movies.csv\n",
      "01/28/2023  05:35 PM           481,694 Netflix latest TV shows and movies with pandas.ipynb\n",
      "09/27/2021  04:44 AM         3,399,671 netflix_titles.csv\n",
      "06/03/2021  11:24 PM            38,678 NetflixOriginals.csv\n",
      "01/21/2023  04:14 PM           374,536 Neural network tuning.ipynb\n",
      "04/01/2023  05:54 PM                20 new 1.py\n",
      "05/05/2023  07:34 PM            88,388 New_Data.csv\n",
      "05/05/2023  07:34 PM            67,892 New_Excel.xlsx\n",
      "05/03/2023  12:47 PM               823 new_image.jpg\n",
      "05/02/2023  06:13 PM             6,970 new_image_AI.jpeg\n",
      "02/28/2023  10:00 AM               881 nicknames.txt\n",
      "01/21/2023  04:15 PM             3,495 NLP Data Import Part 2 - Document Parsing.ipynb\n",
      "01/21/2023  04:18 PM           236,240 NLP Data Import techniques.ipynb\n",
      "02/11/2023  04:20 PM            30,237 NLP practice Session.ipynb\n",
      "01/21/2023  04:19 PM            73,389 NLP.ipynb\n",
      "04/10/2023  07:36 PM           819,148 NLP_basic practice.ipynb\n",
      "02/14/2023  08:10 PM             7,829 NLP-Sentence Tokenization.ipynb\n",
      "01/21/2023  04:21 PM            39,887 Novel COVID 19 Spread Analysis and Forecast.ipynb\n",
      "03/20/2023  06:41 PM             6,762 Numpy Coding Question.ipynb\n",
      "02/24/2023  07:14 PM            24,622 Numpy Interview question practice.ipynb\n",
      "01/31/2023  03:26 PM             2,733 NumPy Laibrary practice.ipynb\n",
      "01/21/2023  04:24 PM            45,402 Numpy practice session.ipynb\n",
      "05/05/2023  02:31 PM            59,264 Numpy_Assignment.ipynb\n",
      "03/20/2023  06:37 PM             8,958 Numpy_Coding_Question.ipynb\n",
      "02/02/2023  07:03 PM            67,886 Numpy_Coding_Round.ipynb\n",
      "02/03/2023  10:07 AM            62,831 Numpy_matplotlib_seaborn_tensorflow.ipynb\n",
      "04/26/2023  06:57 PM            23,906 Numpy_Practice1.ipynb\n",
      "02/12/2023  08:32 PM           116,035 Numpy-pandas -seaborn library coding question.ipynb\n",
      "06/30/2022  10:17 PM    <DIR>          OneDrive\n",
      "03/14/2023  12:15 PM         4,849,648 Orange Telecom Company Churn Prediction Project.ipynb\n",
      "01/21/2023  04:26 PM            70,562 Pandas library practice session.ipynb\n",
      "05/06/2023  10:09 AM           275,855 Pandas_Assignment.ipynb\n",
      "01/21/2023  02:28 PM           190,702 Pandas_Iris_dataset.ipynb\n",
      "01/27/2023  01:12 PM           359,039 pandas_mall_customer_dataset.ipynb\n",
      "05/08/2023  12:58 PM            30,887 Pandas_Numpy_task1.ipynb\n",
      "05/12/2023  03:40 PM    <DIR>          Pictures\n",
      "09/28/2019  12:37 AM            24,045 pima-indians-diabetes.csv\n",
      "02/28/2023  09:13 AM         2,501,539 players.csv\n",
      "09/03/2020  05:20 PM            15,890 population_by_country.csv\n",
      "01/21/2023  04:54 PM             6,429 Practice PyPro Day-1.ipynb\n",
      "01/21/2023  05:45 PM            22,601 Practice PyPro Day-10.ipynb\n",
      "01/21/2023  05:49 PM             7,625 Practice PyPro Day-11.ipynb\n",
      "01/21/2023  05:54 PM            15,133 Practice PyPro Day-12.ipynb\n",
      "01/21/2023  04:57 PM             3,262 Practice PyPro day-2.ipynb\n",
      "01/21/2023  05:04 PM            17,678 Practice PyPro Day-3.ipynb\n",
      "01/21/2023  05:41 PM            26,846 Practice PyPro Day-4.ipynb\n",
      "01/21/2023  05:41 PM            20,788 Practice PyPro Day-5.ipynb\n",
      "01/21/2023  05:55 PM           238,421 Practice PyPro Day-6.ipynb\n",
      "01/21/2023  05:42 PM             2,795 Practice PyPro Day-7.ipynb\n",
      "01/21/2023  05:43 PM            44,484 Practice PyPro Day-8.ipynb\n",
      "01/21/2023  05:44 PM             6,270 Practice PyPro Day-9.ipynb\n",
      "08/25/2021  06:13 AM             1,166 prediction.py\n",
      "02/16/2023  04:45 PM             4,029 Prime number.ipynb\n",
      "05/10/2023  03:08 PM             8,869 Progress_bar_Coding.ipynb\n",
      "01/21/2023  05:39 PM            10,788 pysprk.ipynb\n",
      "01/21/2023  06:03 PM            16,924 Python Basics Data Types.ipynb\n",
      "03/18/2023  01:12 PM            17,524 Python Basics for DS - Data Types.ipynb\n",
      "01/25/2023  08:13 PM            57,062 Python Important packages for Data Science.ipynb\n",
      "01/24/2023  11:40 AM            37,128 Python pandas library.ipynb\n",
      "02/13/2023  07:02 PM             4,722 Python question solving.ipynb\n",
      "05/06/2023  01:17 PM             6,400 Python_code9.ipynb\n",
      "04/29/2023  04:03 PM            33,186 Python_Coding Practice.ipynb\n",
      "05/01/2023  05:49 PM            10,051 python_coding_task.ipynb\n",
      "02/07/2023  01:05 PM             5,392 Python_function1.ipynb\n",
      "05/07/2023  10:46 AM            12,157 Python_function2.ipynb\n",
      "05/07/2023  10:58 AM            16,694 Python_function3.ipynb\n",
      "02/16/2023  08:17 PM            23,781 Python_function4.ipynb\n",
      "05/10/2023  10:27 PM             3,219 Python_interview.ipynb\n",
      "03/08/2023  05:38 PM            11,876 Python_lambdaFilterMapReduce Function.ipynb\n",
      "03/11/2023  04:25 PM            18,523 Python_practice.ipynb\n",
      "01/24/2023  12:49 PM            14,122 Python_String1.ipynb\n",
      "01/02/2023  03:22 PM             5,299 Python_string2.ipynb\n",
      "08/25/2021  06:16 AM             1,010 PythonScriptParametrization.py\n",
      "01/21/2023  06:09 PM            31,738 Random Forest Estimator.ipynb\n",
      "05/02/2023  04:07 PM             3,491 random() function_coding_question.ipynb\n",
      "05/09/2023  11:17 AM                 5 result.pickle\n",
      "01/24/2023  11:53 AM         1,041,974 Revenue Profit of Fortune 500 companies year1955.csv\n",
      "05/03/2023  12:38 PM             5,892 rossum.jpeg\n",
      "04/07/2023  03:12 PM               544 sample.txt\n",
      "07/01/2022  10:44 AM    <DIR>          Saved Games\n",
      "05/12/2023  04:26 PM    <DIR>          seaborn-data\n",
      "07/01/2022  10:45 AM    <DIR>          Searches\n",
      "01/21/2023  06:11 PM           199,181 Seasonal Decompose and Adfuller test.ipynb\n",
      "01/21/2023  06:12 PM            62,694 Sentiment Analysis Using Hybrid Model.ipynb\n",
      "03/09/2023  12:21 PM            65,652 Shop Customer Analysis.csv\n",
      "03/09/2023  12:23 PM           358,769 Shop customer analysis_EDA.ipynb\n",
      "05/08/2023  12:00 PM           185,818 Simple Linear Regression .ipynb\n",
      "05/08/2023  12:18 PM            65,899 Simple_Linear_Regression_Assignment.ipynb\n",
      "05/08/2023  03:22 PM            84,969 Simple_Linear_Regression_HW_Dataset.ipynb\n",
      "02/01/2023  10:45 AM               444 simple_regression_model.sav\n",
      "05/08/2023  03:20 PM                 0 SimpleLinear_pickle_file.pkl\n",
      "03/16/2023  11:35 AM            22,757 Sklearn Library ML.ipynb\n",
      "02/10/2023  03:48 PM            25,031 Slice function in python.ipynb\n",
      "06/28/2020  11:02 AM           181,924 social media visitors.csv\n",
      "06/28/2020  11:02 AM           171,919 Social Title Page.csv\n",
      "06/28/2020  11:02 AM             2,513 social_media.csv\n",
      "04/05/2023  03:52 PM            75,794 SQL_practice.ipynb\n",
      "01/21/2023  06:15 PM           242,798 Standard Analytical Development -2023.ipynb\n",
      "01/22/2023  07:14 PM        10,942,450 Startup success fail  dataset crunchbase.csv\n",
      "05/07/2023  04:50 PM             6,296 Statistics_Assignment-1.ipynb\n",
      "05/07/2023  04:58 PM            16,156 Statistics_Basic1.ipynb\n",
      "05/08/2023  09:26 AM           511,825 Statistics_Basic2.ipynb\n",
      "02/15/2023  03:45 PM            45,218 Statistics-Mean Median Mode SD .ipynb\n",
      "02/20/2020  04:19 AM           171,737 STEPS.PNG\n",
      "03/13/2023  11:26 PM         1,042,311 Stock Price Prediction Project.ipynb\n",
      "01/21/2023  06:12 PM           758,519 Stock Price prediction using ARIMA -  End to End .ipynb\n",
      "10/11/2019  12:48 PM            72,036 StudentsPerformance.csv\n",
      "01/29/2023  10:09 AM             1,406 Submission.csv\n",
      "04/10/2023  06:59 PM            77,851 Sunflower.jpeg\n",
      "01/21/2023  04:28 PM               155 sunil.csv\n",
      "05/07/2023  11:12 AM               900 sunilmath.py.ipynb\n",
      "05/07/2023  11:19 AM             7,898 sunilmath_test.py.ipynb\n",
      "05/04/2023  02:14 PM           357,985 Supply Chain Shipment Price_Data Analysis.ipynb\n",
      "10/08/2019  08:49 PM         3,785,904 Supply chain shipment pricing.csv\n",
      "04/28/2023  06:08 PM         5,387,450 Supply chain shipment project.ipynb\n",
      "10/08/2019  08:49 PM         3,785,904 SupplyChainService_Delivery_History.csv\n",
      "02/02/2023  10:01 AM             1,720 SVM algorithm practice.ipynb\n",
      "02/28/2023  09:12 AM            70,817 teams.csv\n",
      "03/14/2023  11:43 AM           892,809 Telco Churn Analysis Project.ipynb\n",
      "09/27/2019  07:30 PM           977,501 Telco Customer Churn.csv\n",
      "03/14/2023  07:58 PM         3,814,175 Telecom churn Indian and South east asian market project.ipynb\n",
      "11/21/2020  12:04 PM        79,156,935 telecom_churn_asian_data.csv\n",
      "03/18/2023  01:53 PM           762,564 Telecom_churn_EDA .ipynb\n",
      "03/18/2023  02:05 PM           616,103 telecom_customer_churn_prediction.ipynb\n",
      "03/09/2023  01:33 PM               773 TelecomChurn.csv\n",
      "03/18/2023  01:41 PM           715,474 telecom-churn_dummies_2.csv\n",
      "01/02/2023  03:20 PM             3,759 Ternary operator.ipynb\n",
      "01/20/2023  10:46 AM           210,984 Tesla Stock Price (2010 to 2023).csv\n",
      "03/08/2023  09:12 PM           105,922 TeslaStockPrice2010to2023_project.ipynb\n",
      "09/20/2019  03:24 PM             4,461 test_linearRegre.csv\n",
      "05/04/2023  10:37 AM         6,534,104 test_Loan_default_prediction.csv\n",
      "01/06/2023  11:33 AM                82 test1.csv\n",
      "08/25/2021  07:04 AM         5,908,706 TestData.csv\n",
      "01/21/2023  05:29 PM           506,498 Time Series Forecasting methods - Part 1.ipynb\n",
      "11/03/2020  07:51 AM             4,666 TimeSeries.csv\n",
      "10/19/2019  11:15 PM             7,943 tips.csv\n",
      "12/02/2021  04:11 PM            29,474 Titanic dataset.csv\n",
      "12/30/2022  03:57 PM            11,460 titanic.csv\n",
      "08/26/2022  02:56 PM    <DIR>          Tracing\n",
      "02/20/2020  04:11 AM            61,194 train.csv\n",
      "09/20/2019  03:24 PM            10,384 train_linearRegre.csv\n",
      "05/04/2023  10:37 AM        16,484,188 train_Loan_default_prediction.csv\n",
      "07/25/2021  02:16 AM         2,585,911 Tweets.csv\n",
      "01/24/2023  11:55 AM           101,238 Udacity_course_catlog.csv\n"
     ]
    },
    {
     "name": "stdout",
     "output_type": "stream",
     "text": [
      "01/21/2023  05:27 PM            11,134 Understanding Functions.ipynb\n",
      "01/21/2023  05:23 PM            18,775 Understanding Loops.ipynb\n",
      "03/13/2023  11:08 AM            13,113 Untitled.ipynb\n",
      "08/08/2022  10:33 AM                 0 untitled.txt\n",
      "05/07/2023  06:21 PM             3,367 Untitled1.ipynb\n",
      "04/11/2023  12:51 PM            31,512 Untitled10.ipynb\n",
      "01/31/2023  05:33 PM               589 Untitled11.ipynb\n",
      "01/21/2023  05:10 PM             1,255 Untitled12.ipynb\n",
      "02/01/2023  02:46 PM             9,455 Untitled13.ipynb\n",
      "02/02/2023  04:58 PM                72 Untitled14.ipynb\n",
      "02/15/2023  02:04 PM             9,869 Untitled15.ipynb\n",
      "01/21/2023  11:52 AM                72 Untitled16.ipynb\n",
      "02/16/2023  08:03 PM           251,084 Untitled17.ipynb\n",
      "02/17/2023  12:14 PM             8,554 Untitled18.ipynb\n",
      "02/26/2023  12:32 PM            11,975 Untitled19.ipynb\n",
      "01/21/2023  05:16 PM             4,506 Untitled2.ipynb\n",
      "02/27/2023  07:24 PM            51,824 Untitled20.ipynb\n",
      "03/19/2023  10:52 AM                72 Untitled21.ipynb\n",
      "03/22/2023  11:53 AM               589 Untitled22.ipynb\n",
      "03/27/2023  03:40 PM            44,064 Untitled23.ipynb\n",
      "04/01/2023  09:29 AM           102,214 Untitled24.ipynb\n",
      "04/03/2023  07:26 PM            10,604 Untitled25.ipynb\n",
      "04/04/2023  01:30 PM            20,287 Untitled26.ipynb\n",
      "04/07/2023  05:11 PM            35,801 Untitled27.ipynb\n",
      "04/10/2023  11:51 AM             2,264 Untitled28.ipynb\n",
      "08/17/2022  09:08 PM             1,875 Untitled3.ipynb\n",
      "01/21/2023  05:19 PM             5,075 Untitled4.ipynb\n",
      "01/31/2023  03:52 PM                72 Untitled5.ipynb\n",
      "08/30/2022  06:50 PM               589 Untitled6.ipynb\n",
      "01/21/2023  05:12 PM            17,222 Untitled7.ipynb\n",
      "01/31/2023  04:20 PM            16,267 Untitled8.ipynb\n",
      "04/07/2023  03:45 PM           154,735 Untitled9.ipynb\n",
      "09/19/2019  11:33 PM         1,355,781 videogamesales.csv\n",
      "07/09/2022  03:38 PM    <DIR>          Videos\n",
      "05/08/2023  02:24 PM           307,746 Weight_height.csv\n",
      "09/15/2021  07:00 AM           390,376 Wine_Quality_Dataset.csv\n",
      "01/26/2023  11:03 AM           397,305 World GDP dataset Pandas.ipynb\n",
      "01/24/2023  12:14 PM            58,795 World GDP Dataset.csv\n",
      "01/28/2023  06:24 PM         4,036,164 World metro data analysis.ipynb\n",
      "10/20/2022  05:51 PM            29,247 world_population.csv\n",
      "09/10/2022  06:20 AM            15,542 worldwide internet prices in 2022 - IN 2022.csv\n",
      "02/21/2023  12:34 PM            61,416 Worldwide Internet pricess in 2022 dataset.ipynb\n",
      "09/10/2022  06:20 AM             2,272 worldwide internet speed in 2022  - avg speed.csv\n",
      "09/10/2022  06:20 AM            11,952 worldwide internet users - users.csv\n",
      "05/05/2023  07:34 PM            47,240 Write.h5\n",
      "01/21/2023  04:39 PM            13,539 XGBoost Demonstration.ipynb\n",
      "             392 File(s)    265,644,114 bytes\n",
      "              31 Dir(s)  57,395,453,952 bytes free\n"
     ]
    }
   ],
   "source": [
    "ls"
   ]
  },
  {
   "cell_type": "markdown",
   "id": "4cd4df17",
   "metadata": {},
   "source": [
    "## read()"
   ]
  },
  {
   "cell_type": "code",
   "execution_count": 13,
   "id": "e829e73c",
   "metadata": {},
   "outputs": [],
   "source": [
    "f = open(\"file2.txt\",'r')"
   ]
  },
  {
   "cell_type": "code",
   "execution_count": 17,
   "id": "768dac4e",
   "metadata": {},
   "outputs": [
    {
     "data": {
      "text/plain": [
       "<_io.TextIOWrapper name='file2.txt' mode='r' encoding='cp1252'>"
      ]
     },
     "execution_count": 17,
     "metadata": {},
     "output_type": "execute_result"
    }
   ],
   "source": [
    "f"
   ]
  },
  {
   "cell_type": "code",
   "execution_count": 15,
   "id": "2dc682a2",
   "metadata": {},
   "outputs": [
    {
     "data": {
      "text/plain": [
       "'This is my first file operation'"
      ]
     },
     "execution_count": 15,
     "metadata": {},
     "output_type": "execute_result"
    }
   ],
   "source": [
    "f.read()"
   ]
  },
  {
   "cell_type": "code",
   "execution_count": 16,
   "id": "d6332943",
   "metadata": {},
   "outputs": [
    {
     "data": {
      "text/plain": [
       "''"
      ]
     },
     "execution_count": 16,
     "metadata": {},
     "output_type": "execute_result"
    }
   ],
   "source": [
    "f.read()"
   ]
  },
  {
   "cell_type": "code",
   "execution_count": 18,
   "id": "116aba7d",
   "metadata": {},
   "outputs": [
    {
     "data": {
      "text/plain": [
       "5"
      ]
     },
     "execution_count": 18,
     "metadata": {},
     "output_type": "execute_result"
    }
   ],
   "source": [
    "f.seek(5) #seek() method is used to reset the curser to the particular point of interest."
   ]
  },
  {
   "cell_type": "code",
   "execution_count": 19,
   "id": "0301b925",
   "metadata": {},
   "outputs": [
    {
     "data": {
      "text/plain": [
       "'is my first file operation'"
      ]
     },
     "execution_count": 19,
     "metadata": {},
     "output_type": "execute_result"
    }
   ],
   "source": [
    "f.read()"
   ]
  },
  {
   "cell_type": "code",
   "execution_count": 20,
   "id": "3a49c355",
   "metadata": {},
   "outputs": [
    {
     "data": {
      "text/plain": [
       "''"
      ]
     },
     "execution_count": 20,
     "metadata": {},
     "output_type": "execute_result"
    }
   ],
   "source": [
    "f.read()"
   ]
  },
  {
   "cell_type": "code",
   "execution_count": 21,
   "id": "e03234cb",
   "metadata": {},
   "outputs": [
    {
     "data": {
      "text/plain": [
       "1"
      ]
     },
     "execution_count": 21,
     "metadata": {},
     "output_type": "execute_result"
    }
   ],
   "source": [
    "f.seek(1)"
   ]
  },
  {
   "cell_type": "code",
   "execution_count": 22,
   "id": "ccc306f9",
   "metadata": {},
   "outputs": [
    {
     "data": {
      "text/plain": [
       "'his is my first file operation'"
      ]
     },
     "execution_count": 22,
     "metadata": {},
     "output_type": "execute_result"
    }
   ],
   "source": [
    "f.read()"
   ]
  },
  {
   "cell_type": "code",
   "execution_count": 23,
   "id": "b502b566",
   "metadata": {},
   "outputs": [
    {
     "data": {
      "text/plain": [
       "''"
      ]
     },
     "execution_count": 23,
     "metadata": {},
     "output_type": "execute_result"
    }
   ],
   "source": [
    "f.read()"
   ]
  },
  {
   "cell_type": "code",
   "execution_count": 24,
   "id": "9fa645e6",
   "metadata": {},
   "outputs": [
    {
     "data": {
      "text/plain": [
       "3"
      ]
     },
     "execution_count": 24,
     "metadata": {},
     "output_type": "execute_result"
    }
   ],
   "source": [
    "f.seek(3)"
   ]
  },
  {
   "cell_type": "code",
   "execution_count": 25,
   "id": "afa678df",
   "metadata": {},
   "outputs": [
    {
     "data": {
      "text/plain": [
       "'s is my first file operation'"
      ]
     },
     "execution_count": 25,
     "metadata": {},
     "output_type": "execute_result"
    }
   ],
   "source": [
    "f.read()"
   ]
  },
  {
   "cell_type": "code",
   "execution_count": 26,
   "id": "801f90c2",
   "metadata": {},
   "outputs": [
    {
     "data": {
      "text/plain": [
       "0"
      ]
     },
     "execution_count": 26,
     "metadata": {},
     "output_type": "execute_result"
    }
   ],
   "source": [
    "f.seek(0)"
   ]
  },
  {
   "cell_type": "code",
   "execution_count": 27,
   "id": "cfac7ccb",
   "metadata": {},
   "outputs": [],
   "source": [
    "f.close()"
   ]
  },
  {
   "cell_type": "code",
   "execution_count": 28,
   "id": "30e9730a",
   "metadata": {},
   "outputs": [],
   "source": [
    "f=open(\"File2.txt\",\"r+\")"
   ]
  },
  {
   "cell_type": "code",
   "execution_count": 29,
   "id": "499d60ce",
   "metadata": {},
   "outputs": [
    {
     "data": {
      "text/plain": [
       "'This is my first file operation'"
      ]
     },
     "execution_count": 29,
     "metadata": {},
     "output_type": "execute_result"
    }
   ],
   "source": [
    "f.read()"
   ]
  },
  {
   "cell_type": "code",
   "execution_count": 30,
   "id": "5e654a78",
   "metadata": {},
   "outputs": [
    {
     "data": {
      "text/plain": [
       "''"
      ]
     },
     "execution_count": 30,
     "metadata": {},
     "output_type": "execute_result"
    }
   ],
   "source": [
    "f.readline()"
   ]
  },
  {
   "cell_type": "code",
   "execution_count": 31,
   "id": "115f3bba",
   "metadata": {},
   "outputs": [
    {
     "data": {
      "text/plain": [
       "31"
      ]
     },
     "execution_count": 31,
     "metadata": {},
     "output_type": "execute_result"
    }
   ],
   "source": [
    "f.tell()"
   ]
  },
  {
   "cell_type": "code",
   "execution_count": 32,
   "id": "1a793d3e",
   "metadata": {},
   "outputs": [
    {
     "data": {
      "text/plain": [
       "0"
      ]
     },
     "execution_count": 32,
     "metadata": {},
     "output_type": "execute_result"
    }
   ],
   "source": [
    "f.seek(0)"
   ]
  },
  {
   "cell_type": "code",
   "execution_count": 33,
   "id": "597ed646",
   "metadata": {},
   "outputs": [
    {
     "data": {
      "text/plain": [
       "'This is my first file operation'"
      ]
     },
     "execution_count": 33,
     "metadata": {},
     "output_type": "execute_result"
    }
   ],
   "source": [
    "f.readline()"
   ]
  },
  {
   "cell_type": "code",
   "execution_count": 34,
   "id": "63c83434",
   "metadata": {},
   "outputs": [
    {
     "data": {
      "text/plain": [
       "''"
      ]
     },
     "execution_count": 34,
     "metadata": {},
     "output_type": "execute_result"
    }
   ],
   "source": [
    "f.readline()"
   ]
  },
  {
   "cell_type": "code",
   "execution_count": 35,
   "id": "f19144bc",
   "metadata": {},
   "outputs": [],
   "source": [
    "f = open(\"file5.txt\",\"w\")"
   ]
  },
  {
   "cell_type": "code",
   "execution_count": 36,
   "id": "9259980a",
   "metadata": {},
   "outputs": [
    {
     "data": {
      "text/plain": [
       "81"
      ]
     },
     "execution_count": 36,
     "metadata": {},
     "output_type": "execute_result"
    }
   ],
   "source": [
    "f.write(\"\"\"I am Sunil Zambare\n",
    " Currently learning data science\n",
    " Currently working for an MNC\"\"\")"
   ]
  },
  {
   "cell_type": "code",
   "execution_count": 37,
   "id": "63214cb6",
   "metadata": {},
   "outputs": [],
   "source": [
    "f.close()"
   ]
  },
  {
   "cell_type": "code",
   "execution_count": 38,
   "id": "c5ebf0a0",
   "metadata": {},
   "outputs": [],
   "source": [
    "f = open(\"file5.txt\",\"r\")"
   ]
  },
  {
   "cell_type": "code",
   "execution_count": 39,
   "id": "511d0b28",
   "metadata": {},
   "outputs": [
    {
     "data": {
      "text/plain": [
       "<_io.TextIOWrapper name='file5.txt' mode='r' encoding='cp1252'>"
      ]
     },
     "execution_count": 39,
     "metadata": {},
     "output_type": "execute_result"
    }
   ],
   "source": [
    "f"
   ]
  },
  {
   "cell_type": "code",
   "execution_count": 40,
   "id": "0697d330",
   "metadata": {},
   "outputs": [
    {
     "data": {
      "text/plain": [
       "'I am Sunil Zambare\\n Currently learning data science\\n Currently working for an MNC'"
      ]
     },
     "execution_count": 40,
     "metadata": {},
     "output_type": "execute_result"
    }
   ],
   "source": [
    "f.read()"
   ]
  },
  {
   "cell_type": "code",
   "execution_count": 41,
   "id": "002be38f",
   "metadata": {},
   "outputs": [
    {
     "data": {
      "text/plain": [
       "''"
      ]
     },
     "execution_count": 41,
     "metadata": {},
     "output_type": "execute_result"
    }
   ],
   "source": [
    "f.readline()"
   ]
  },
  {
   "cell_type": "code",
   "execution_count": 42,
   "id": "202e5ef8",
   "metadata": {},
   "outputs": [
    {
     "data": {
      "text/plain": [
       "0"
      ]
     },
     "execution_count": 42,
     "metadata": {},
     "output_type": "execute_result"
    }
   ],
   "source": [
    "f.seek(0)"
   ]
  },
  {
   "cell_type": "code",
   "execution_count": 43,
   "id": "82577fb9",
   "metadata": {},
   "outputs": [
    {
     "data": {
      "text/plain": [
       "'I am Sunil Zambare\\n'"
      ]
     },
     "execution_count": 43,
     "metadata": {},
     "output_type": "execute_result"
    }
   ],
   "source": [
    "f.readline()"
   ]
  },
  {
   "cell_type": "code",
   "execution_count": 44,
   "id": "8cb6a6d1",
   "metadata": {},
   "outputs": [
    {
     "data": {
      "text/plain": [
       "' Currently learning data science\\n'"
      ]
     },
     "execution_count": 44,
     "metadata": {},
     "output_type": "execute_result"
    }
   ],
   "source": [
    "f.readline()"
   ]
  },
  {
   "cell_type": "code",
   "execution_count": 45,
   "id": "fe6b5e97",
   "metadata": {},
   "outputs": [
    {
     "data": {
      "text/plain": [
       "' Currently working for an MNC'"
      ]
     },
     "execution_count": 45,
     "metadata": {},
     "output_type": "execute_result"
    }
   ],
   "source": [
    "f.readline()"
   ]
  },
  {
   "cell_type": "code",
   "execution_count": 46,
   "id": "dc28fd74",
   "metadata": {},
   "outputs": [],
   "source": [
    "f.close()"
   ]
  },
  {
   "cell_type": "code",
   "execution_count": 47,
   "id": "f3871e6b",
   "metadata": {},
   "outputs": [],
   "source": [
    "f = open(\"google.txt\",\"w\")"
   ]
  },
  {
   "cell_type": "code",
   "execution_count": 49,
   "id": "ede608ae",
   "metadata": {},
   "outputs": [
    {
     "data": {
      "text/plain": [
       "1198"
      ]
     },
     "execution_count": 49,
     "metadata": {},
     "output_type": "execute_result"
    }
   ],
   "source": [
    "f.write(\"\"\"When Rodrigo was still a youth, his father, Diego Laynez, was grossly insulted by Don Gomez. The custom in those days was to avenge such an insult by slaying the offender; but Diego was too old and feeble to bear arms. When he finally told his son of the wrong, Rodrigo sought out Don Gomez and challenged him to fight. So bravely and skilfully did Rodrigo manage his weapons that he slew his father's enemy. Then he cut off the head and carried it to Diego.\n",
    "\n",
    "Soon after this Diego bade his son do homage at King Ferdinand's court. Rodrigo appeared before the king, but his bearing was so defiant that Ferdinand was frightened, and banished him.\n",
    "\n",
    "Rodrigo departed with three hundred followers, encountered some Moors, who were invading Castile, defeated them and took five of their kings captive, releasing them only after they had promised to pay tribute and to refrain from further warfare. It was these kings who first called him \"Cid.\"\n",
    "\n",
    "In return for his brave service Rodrigo was restored to favor and given place among the king's courtiers.\n",
    "\n",
    "One day Dona Ximena, daughter of Don Gomez, appeared and demanded justice from the king. Recognizing Rodrigo among the courtiers, she called to him to\"\"\")"
   ]
  },
  {
   "cell_type": "code",
   "execution_count": 51,
   "id": "b406c845",
   "metadata": {},
   "outputs": [],
   "source": [
    "f.close()"
   ]
  },
  {
   "cell_type": "code",
   "execution_count": 52,
   "id": "14cae673",
   "metadata": {},
   "outputs": [],
   "source": [
    "f=open(\"google.txt\",\"r+\")"
   ]
  },
  {
   "cell_type": "code",
   "execution_count": 53,
   "id": "8ae1f227",
   "metadata": {},
   "outputs": [
    {
     "data": {
      "text/plain": [
       "'When Rodrigo was still a youth, his father, Diego Laynez, was grossly insulted by Don Gomez. The custom in those days was to avenge such an insult by slaying the offender; but Diego was too old and feeble to bear arms. When he finally told his son of the wrong, Rodrigo sought out Don Gomez and challenged him to fight. So bravely and skilfully did Rodrigo manage his weapons that he slew his father\\'s enemy. Then he cut off the head and carried it to Diego.\\n\\nSoon after this Diego bade his son do homage at King Ferdinand\\'s court. Rodrigo appeared before the king, but his bearing was so defiant that Ferdinand was frightened, and banished him.\\n\\nRodrigo departed with three hundred followers, encountered some Moors, who were invading Castile, defeated them and took five of their kings captive, releasing them only after they had promised to pay tribute and to refrain from further warfare. It was these kings who first called him \"Cid.\"\\n\\nIn return for his brave service Rodrigo was restored to favor and given place among the king\\'s courtiers.\\n\\nOne day Dona Ximena, daughter of Don Gomez, appeared and demanded justice from the king. Recognizing Rodrigo among the courtiers, she called to him to'"
      ]
     },
     "execution_count": 53,
     "metadata": {},
     "output_type": "execute_result"
    }
   ],
   "source": [
    "f.read()"
   ]
  },
  {
   "cell_type": "code",
   "execution_count": 54,
   "id": "2d8fea5e",
   "metadata": {},
   "outputs": [
    {
     "data": {
      "text/plain": [
       "''"
      ]
     },
     "execution_count": 54,
     "metadata": {},
     "output_type": "execute_result"
    }
   ],
   "source": [
    "f.readline()"
   ]
  },
  {
   "cell_type": "code",
   "execution_count": 55,
   "id": "3277773c",
   "metadata": {},
   "outputs": [
    {
     "data": {
      "text/plain": [
       "0"
      ]
     },
     "execution_count": 55,
     "metadata": {},
     "output_type": "execute_result"
    }
   ],
   "source": [
    "f.seek(0)"
   ]
  },
  {
   "cell_type": "code",
   "execution_count": 56,
   "id": "5671e8df",
   "metadata": {},
   "outputs": [
    {
     "data": {
      "text/plain": [
       "\"When Rodrigo was still a youth, his father, Diego Laynez, was grossly insulted by Don Gomez. The custom in those days was to avenge such an insult by slaying the offender; but Diego was too old and feeble to bear arms. When he finally told his son of the wrong, Rodrigo sought out Don Gomez and challenged him to fight. So bravely and skilfully did Rodrigo manage his weapons that he slew his father's enemy. Then he cut off the head and carried it to Diego.\\n\""
      ]
     },
     "execution_count": 56,
     "metadata": {},
     "output_type": "execute_result"
    }
   ],
   "source": [
    "f.readline()"
   ]
  },
  {
   "cell_type": "code",
   "execution_count": 57,
   "id": "96e82d79",
   "metadata": {},
   "outputs": [
    {
     "data": {
      "text/plain": [
       "'\\n'"
      ]
     },
     "execution_count": 57,
     "metadata": {},
     "output_type": "execute_result"
    }
   ],
   "source": [
    "f.readline()"
   ]
  },
  {
   "cell_type": "code",
   "execution_count": 58,
   "id": "3118d638",
   "metadata": {},
   "outputs": [
    {
     "data": {
      "text/plain": [
       "\"Soon after this Diego bade his son do homage at King Ferdinand's court. Rodrigo appeared before the king, but his bearing was so defiant that Ferdinand was frightened, and banished him.\\n\""
      ]
     },
     "execution_count": 58,
     "metadata": {},
     "output_type": "execute_result"
    }
   ],
   "source": [
    "f.readline()"
   ]
  },
  {
   "cell_type": "code",
   "execution_count": 59,
   "id": "e086d64c",
   "metadata": {},
   "outputs": [
    {
     "data": {
      "text/plain": [
       "'\\n'"
      ]
     },
     "execution_count": 59,
     "metadata": {},
     "output_type": "execute_result"
    }
   ],
   "source": [
    "f.readline()"
   ]
  },
  {
   "cell_type": "code",
   "execution_count": 60,
   "id": "b45f84ed",
   "metadata": {},
   "outputs": [],
   "source": [
    "f.close()"
   ]
  },
  {
   "cell_type": "code",
   "execution_count": 61,
   "id": "180a9eee",
   "metadata": {},
   "outputs": [
    {
     "name": "stdout",
     "output_type": "stream",
     "text": [
      "When Rodrigo was still a youth, his father, Diego Laynez, was grossly insulted by Don Gomez. The custom in those days was to avenge such an insult by slaying the offender; but Diego was too old and feeble to bear arms. When he finally told his son of the wrong, Rodrigo sought out Don Gomez and challenged him to fight. So bravely and skilfully did Rodrigo manage his weapons that he slew his father's enemy. Then he cut off the head and carried it to Diego.\n",
      "\n",
      "Soon after this Diego bade his son do homage at King Ferdinand's court. Rodrigo appeared before the king, but his bearing was so defiant that Ferdinand was frightened, and banished him.\n",
      "\n",
      "Rodrigo departed with three hundred followers, encountered some Moors, who were invading Castile, defeated them and took five of their kings captive, releasing them only after they had promised to pay tribute and to refrain from further warfare. It was these kings who first called him \"Cid.\"\n",
      "\n",
      "In return for his brave service Rodrigo was restored to favor and given place among the king's courtiers.\n",
      "\n",
      "One day Dona Ximena, daughter of Don Gomez, appeared and demanded justice from the king. Recognizing Rodrigo among the courtiers, she called to him to"
     ]
    }
   ],
   "source": [
    "f=open(\"google.txt\",\"r+\")\n",
    "for line in f:\n",
    "    print(line,end=\"\")"
   ]
  },
  {
   "cell_type": "code",
   "execution_count": 62,
   "id": "05a0fe5a",
   "metadata": {},
   "outputs": [
    {
     "data": {
      "text/plain": [
       "51"
      ]
     },
     "execution_count": 62,
     "metadata": {},
     "output_type": "execute_result"
    }
   ],
   "source": [
    "f.write(\"-----------------This is Tom Cruise----------------\")"
   ]
  },
  {
   "cell_type": "code",
   "execution_count": 63,
   "id": "1302c443",
   "metadata": {},
   "outputs": [
    {
     "data": {
      "text/plain": [
       "0"
      ]
     },
     "execution_count": 63,
     "metadata": {},
     "output_type": "execute_result"
    }
   ],
   "source": [
    "f.seek(0)"
   ]
  },
  {
   "cell_type": "code",
   "execution_count": 64,
   "id": "0fada060",
   "metadata": {},
   "outputs": [
    {
     "data": {
      "text/plain": [
       "'When Rodrigo was still a youth, his father, Diego Laynez, was grossly insulted by Don Gomez. The custom in those days was to avenge such an insult by slaying the offender; but Diego was too old and feeble to bear arms. When he finally told his son of the wrong, Rodrigo sought out Don Gomez and challenged him to fight. So bravely and skilfully did Rodrigo manage his weapons that he slew his father\\'s enemy. Then he cut off the head and carried it to Diego.\\n\\nSoon after this Diego bade his son do homage at King Ferdinand\\'s court. Rodrigo appeared before the king, but his bearing was so defiant that Ferdinand was frightened, and banished him.\\n\\nRodrigo departed with three hundred followers, encountered some Moors, who were invading Castile, defeated them and took five of their kings captive, releasing them only after they had promised to pay tribute and to refrain from further warfare. It was these kings who first called him \"Cid.\"\\n\\nIn return for his brave service Rodrigo was restored to favor and given place among the king\\'s courtiers.\\n\\nOne day Dona Ximena, daughter of Don Gomez, appeared and demanded justice from the king. Recognizing Rodrigo among the courtiers, she called to him to-----------------This is Tom Cruise----------------'"
      ]
     },
     "execution_count": 64,
     "metadata": {},
     "output_type": "execute_result"
    }
   ],
   "source": [
    "f.read()"
   ]
  },
  {
   "cell_type": "code",
   "execution_count": 65,
   "id": "576780e4",
   "metadata": {},
   "outputs": [],
   "source": [
    "f.close()"
   ]
  },
  {
   "cell_type": "code",
   "execution_count": 66,
   "id": "0793f309",
   "metadata": {},
   "outputs": [],
   "source": [
    "f=open(\"File2.txt\",\"r+\")"
   ]
  },
  {
   "cell_type": "code",
   "execution_count": 67,
   "id": "712bfb89",
   "metadata": {},
   "outputs": [
    {
     "data": {
      "text/plain": [
       "57"
      ]
     },
     "execution_count": 67,
     "metadata": {},
     "output_type": "execute_result"
    }
   ],
   "source": [
    "f.write(\"-------------Writing this at 5th position----------------\")"
   ]
  },
  {
   "cell_type": "code",
   "execution_count": 68,
   "id": "a0891706",
   "metadata": {},
   "outputs": [],
   "source": [
    "f.close()"
   ]
  },
  {
   "cell_type": "code",
   "execution_count": 69,
   "id": "0f65601d",
   "metadata": {},
   "outputs": [],
   "source": [
    "f=open(\"google.txt\",\"r+\")"
   ]
  },
  {
   "cell_type": "code",
   "execution_count": 70,
   "id": "927568cd",
   "metadata": {},
   "outputs": [],
   "source": [
    "a=f.readlines()"
   ]
  },
  {
   "cell_type": "code",
   "execution_count": 71,
   "id": "05f55b33",
   "metadata": {},
   "outputs": [
    {
     "data": {
      "text/plain": [
       "9"
      ]
     },
     "execution_count": 71,
     "metadata": {},
     "output_type": "execute_result"
    }
   ],
   "source": [
    "len(a)"
   ]
  },
  {
   "cell_type": "code",
   "execution_count": 72,
   "id": "0c0a2478",
   "metadata": {},
   "outputs": [
    {
     "data": {
      "text/plain": [
       "0"
      ]
     },
     "execution_count": 72,
     "metadata": {},
     "output_type": "execute_result"
    }
   ],
   "source": [
    "f.seek(0)"
   ]
  },
  {
   "cell_type": "code",
   "execution_count": 73,
   "id": "2233e812",
   "metadata": {},
   "outputs": [],
   "source": [
    "b=a[0].split()"
   ]
  },
  {
   "cell_type": "code",
   "execution_count": 75,
   "id": "8468bbcf",
   "metadata": {},
   "outputs": [
    {
     "data": {
      "text/plain": [
       "['When',\n",
       " 'Rodrigo',\n",
       " 'was',\n",
       " 'still',\n",
       " 'a',\n",
       " 'youth,',\n",
       " 'his',\n",
       " 'father,',\n",
       " 'Diego',\n",
       " 'Laynez,',\n",
       " 'was',\n",
       " 'grossly',\n",
       " 'insulted',\n",
       " 'by',\n",
       " 'Don',\n",
       " 'Gomez.',\n",
       " 'The',\n",
       " 'custom',\n",
       " 'in',\n",
       " 'those',\n",
       " 'days',\n",
       " 'was',\n",
       " 'to',\n",
       " 'avenge',\n",
       " 'such',\n",
       " 'an',\n",
       " 'insult',\n",
       " 'by',\n",
       " 'slaying',\n",
       " 'the',\n",
       " 'offender;',\n",
       " 'but',\n",
       " 'Diego',\n",
       " 'was',\n",
       " 'too',\n",
       " 'old',\n",
       " 'and',\n",
       " 'feeble',\n",
       " 'to',\n",
       " 'bear',\n",
       " 'arms.',\n",
       " 'When',\n",
       " 'he',\n",
       " 'finally',\n",
       " 'told',\n",
       " 'his',\n",
       " 'son',\n",
       " 'of',\n",
       " 'the',\n",
       " 'wrong,',\n",
       " 'Rodrigo',\n",
       " 'sought',\n",
       " 'out',\n",
       " 'Don',\n",
       " 'Gomez',\n",
       " 'and',\n",
       " 'challenged',\n",
       " 'him',\n",
       " 'to',\n",
       " 'fight.',\n",
       " 'So',\n",
       " 'bravely',\n",
       " 'and',\n",
       " 'skilfully',\n",
       " 'did',\n",
       " 'Rodrigo',\n",
       " 'manage',\n",
       " 'his',\n",
       " 'weapons',\n",
       " 'that',\n",
       " 'he',\n",
       " 'slew',\n",
       " 'his',\n",
       " \"father's\",\n",
       " 'enemy.',\n",
       " 'Then',\n",
       " 'he',\n",
       " 'cut',\n",
       " 'off',\n",
       " 'the',\n",
       " 'head',\n",
       " 'and',\n",
       " 'carried',\n",
       " 'it',\n",
       " 'to',\n",
       " 'Diego.']"
      ]
     },
     "execution_count": 75,
     "metadata": {},
     "output_type": "execute_result"
    }
   ],
   "source": [
    "b"
   ]
  },
  {
   "cell_type": "code",
   "execution_count": 76,
   "id": "d04dd19d",
   "metadata": {},
   "outputs": [],
   "source": [
    "l=[]\n",
    "for i in b:\n",
    "    l.append(i[0])"
   ]
  },
  {
   "cell_type": "code",
   "execution_count": 77,
   "id": "080a6896",
   "metadata": {},
   "outputs": [
    {
     "data": {
      "text/plain": [
       "['W',\n",
       " 'R',\n",
       " 'w',\n",
       " 's',\n",
       " 'a',\n",
       " 'y',\n",
       " 'h',\n",
       " 'f',\n",
       " 'D',\n",
       " 'L',\n",
       " 'w',\n",
       " 'g',\n",
       " 'i',\n",
       " 'b',\n",
       " 'D',\n",
       " 'G',\n",
       " 'T',\n",
       " 'c',\n",
       " 'i',\n",
       " 't',\n",
       " 'd',\n",
       " 'w',\n",
       " 't',\n",
       " 'a',\n",
       " 's',\n",
       " 'a',\n",
       " 'i',\n",
       " 'b',\n",
       " 's',\n",
       " 't',\n",
       " 'o',\n",
       " 'b',\n",
       " 'D',\n",
       " 'w',\n",
       " 't',\n",
       " 'o',\n",
       " 'a',\n",
       " 'f',\n",
       " 't',\n",
       " 'b',\n",
       " 'a',\n",
       " 'W',\n",
       " 'h',\n",
       " 'f',\n",
       " 't',\n",
       " 'h',\n",
       " 's',\n",
       " 'o',\n",
       " 't',\n",
       " 'w',\n",
       " 'R',\n",
       " 's',\n",
       " 'o',\n",
       " 'D',\n",
       " 'G',\n",
       " 'a',\n",
       " 'c',\n",
       " 'h',\n",
       " 't',\n",
       " 'f',\n",
       " 'S',\n",
       " 'b',\n",
       " 'a',\n",
       " 's',\n",
       " 'd',\n",
       " 'R',\n",
       " 'm',\n",
       " 'h',\n",
       " 'w',\n",
       " 't',\n",
       " 'h',\n",
       " 's',\n",
       " 'h',\n",
       " 'f',\n",
       " 'e',\n",
       " 'T',\n",
       " 'h',\n",
       " 'c',\n",
       " 'o',\n",
       " 't',\n",
       " 'h',\n",
       " 'a',\n",
       " 'c',\n",
       " 'i',\n",
       " 't',\n",
       " 'D']"
      ]
     },
     "execution_count": 77,
     "metadata": {},
     "output_type": "execute_result"
    }
   ],
   "source": [
    "l"
   ]
  },
  {
   "cell_type": "code",
   "execution_count": 78,
   "id": "822659a4",
   "metadata": {},
   "outputs": [],
   "source": [
    "f.close()"
   ]
  },
  {
   "cell_type": "code",
   "execution_count": 79,
   "id": "9838c90c",
   "metadata": {},
   "outputs": [],
   "source": [
    "f=open(\"File1.txt\",\"r+\")"
   ]
  },
  {
   "cell_type": "code",
   "execution_count": 80,
   "id": "5127fa71",
   "metadata": {},
   "outputs": [
    {
     "data": {
      "text/plain": [
       "'File1.txt'"
      ]
     },
     "execution_count": 80,
     "metadata": {},
     "output_type": "execute_result"
    }
   ],
   "source": [
    "f.name"
   ]
  },
  {
   "cell_type": "code",
   "execution_count": 81,
   "id": "8f654f68",
   "metadata": {},
   "outputs": [
    {
     "data": {
      "text/plain": [
       "10"
      ]
     },
     "execution_count": 81,
     "metadata": {},
     "output_type": "execute_result"
    }
   ],
   "source": [
    "f.write(\"I am sunil\")"
   ]
  },
  {
   "cell_type": "code",
   "execution_count": 82,
   "id": "c263ef07",
   "metadata": {},
   "outputs": [],
   "source": [
    "l=[\" Ganesh \",\"Balaji \",\" Venkat \"]"
   ]
  },
  {
   "cell_type": "code",
   "execution_count": 88,
   "id": "08a8e8f0",
   "metadata": {},
   "outputs": [
    {
     "data": {
      "text/plain": [
       "['Ganesh ', 'Balaji ', ' Venkat ']"
      ]
     },
     "execution_count": 88,
     "metadata": {},
     "output_type": "execute_result"
    }
   ],
   "source": [
    "l"
   ]
  },
  {
   "cell_type": "code",
   "execution_count": 89,
   "id": "095272b3",
   "metadata": {},
   "outputs": [],
   "source": [
    "f.writelines(l)"
   ]
  },
  {
   "cell_type": "code",
   "execution_count": 90,
   "id": "c767f6a7",
   "metadata": {},
   "outputs": [
    {
     "data": {
      "text/plain": [
       "''"
      ]
     },
     "execution_count": 90,
     "metadata": {},
     "output_type": "execute_result"
    }
   ],
   "source": [
    "f.read()"
   ]
  },
  {
   "cell_type": "code",
   "execution_count": 91,
   "id": "9f48c4c3",
   "metadata": {},
   "outputs": [
    {
     "data": {
      "text/plain": [
       "0"
      ]
     },
     "execution_count": 91,
     "metadata": {},
     "output_type": "execute_result"
    }
   ],
   "source": [
    "f.seek(0)"
   ]
  },
  {
   "cell_type": "code",
   "execution_count": 92,
   "id": "1ce275c0",
   "metadata": {},
   "outputs": [
    {
     "data": {
      "text/plain": [
       "'I am sunilGanesh Balaji  Venkat Ganesh Balaji  Venkat '"
      ]
     },
     "execution_count": 92,
     "metadata": {},
     "output_type": "execute_result"
    }
   ],
   "source": [
    "f.read()"
   ]
  },
  {
   "cell_type": "code",
   "execution_count": 93,
   "id": "3151e40e",
   "metadata": {},
   "outputs": [],
   "source": [
    "import os"
   ]
  },
  {
   "cell_type": "code",
   "execution_count": 96,
   "id": "6f48faac",
   "metadata": {},
   "outputs": [],
   "source": [
    "os.remove(\"File2.txt\")"
   ]
  },
  {
   "cell_type": "code",
   "execution_count": 97,
   "id": "aee8063c",
   "metadata": {},
   "outputs": [
    {
     "name": "stdout",
     "output_type": "stream",
     "text": [
      " Volume in drive C has no label.\n",
      " Volume Serial Number is E431-6D6B\n",
      "\n",
      " Directory of C:\\Users\\Admin\n",
      "\n",
      "05/06/2023  01:18 PM            12,007  Mini Project_Python.ipynb\n",
      "05/12/2023  09:37 PM    <DIR>          .\n",
      "05/12/2023  09:37 PM    <DIR>          ..\n",
      "07/26/2022  10:47 PM    <DIR>          .anaconda\n",
      "07/27/2022  03:41 PM    <DIR>          .conda\n",
      "07/26/2022  10:46 PM                25 .condarc\n",
      "07/26/2022  10:45 PM    <DIR>          .continuum\n",
      "04/17/2023  10:08 AM    <DIR>          .idlerc\n",
      "05/12/2023  09:12 PM    <DIR>          .ipynb_checkpoints\n",
      "07/05/2022  09:50 PM    <DIR>          .ipython\n",
      "04/07/2023  05:03 PM    <DIR>          .jupyter\n",
      "02/15/2023  02:07 PM    <DIR>          .keras\n",
      "07/19/2022  07:59 PM    <DIR>          .matplotlib\n",
      "04/01/2023  03:25 PM               489 .python_history\n",
      "04/01/2023  03:18 PM    <DIR>          .spyder-py3\n",
      "03/09/2023  01:28 PM               589 1.ipynb\n",
      "01/02/2023  03:25 PM             5,145 11N.ipynb\n",
      "01/12/2023  10:13 PM             4,886 12Jn.ipynb\n",
      "11/14/2022  01:59 PM             4,518 12N.py.ipynb\n",
      "01/14/2023  06:04 PM           204,492 13Jn.ipynb\n",
      "11/16/2022  01:41 PM             8,268 14N.py.ipynb\n",
      "11/15/2022  05:11 PM             8,552 15N.ipynb\n",
      "11/17/2022  10:54 AM             8,961 16N.ipynb\n",
      "11/17/2022  02:44 PM             3,163 17N.ipynb\n",
      "11/18/2022  02:00 PM             9,866 18N.ipynb\n",
      "12/29/2022  11:35 PM               161 2\n",
      "07/01/2022  10:43 AM    <DIR>          3D Objects\n",
      "04/01/2023  09:45 AM            54,091 A.jpg\n",
      "04/01/2023  09:46 AM            14,354 a1.jpg\n",
      "05/02/2023  07:13 PM                25 abcd.txt\n",
      "02/02/2023  12:47 PM             7,299 Ada-Boost Implementation.ipynb\n",
      "10/19/2019  05:04 PM             4,062 Advertising_dataset.csv\n",
      "05/02/2023  06:06 PM             6,970 AI_face.jpeg\n",
      "04/07/2023  11:37 AM           168,662 Algerian forest fire dataset.ipynb\n",
      "05/09/2023  02:51 PM            14,445 Algerian_forest_fires.csv\n",
      "05/10/2023  10:25 AM            14,759 Algerian_forest_fires_dataset.csv\n",
      "04/12/2023  11:31 AM           323,344 AlgerianForest Dataset.ipynb\n",
      "04/05/2023  02:54 PM    <DIR>          anaconda3\n",
      "01/24/2023  10:50 AM           187,169 apple.csv\n",
      "02/10/2023  05:26 PM            12,466 Arithmatic comparsion operator.ipynb\n",
      "03/15/2023  06:21 PM         4,122,465 Asian telecom churn project.ipynb\n",
      "05/06/2023  01:20 PM             4,321 Assignment-1.ipynb\n",
      "04/29/2023  10:53 AM             7,983 Assignment-2.ipynb\n",
      "04/29/2023  11:06 AM             4,673 Assignment-3.ipynb\n",
      "04/29/2023  11:17 AM             6,454 Assignment-4.ipynb\n",
      "04/29/2023  01:47 PM             5,160 Assignment-5.ipynb\n",
      "05/07/2023  10:44 AM            11,217 Assignment-6.ipynb\n",
      "04/25/2023  09:45 PM             5,233 Assignment-7.ipynb\n",
      "05/07/2023  11:03 AM             7,193 Assignment-8.ipynb\n",
      "01/21/2023  02:43 PM            11,051 Autoregression using ACF and PACP explained.ipynb\n",
      "05/07/2023  06:52 PM            84,984 Basic_Python.ipynb\n",
      "01/21/2023  05:11 PM             4,051 Basic_Python1.ipynb\n",
      "05/07/2023  10:48 AM            12,612 Basic_Python2.ipynb\n",
      "05/07/2023  10:51 AM             9,447 Basic_Python3.ipynb\n",
      "01/14/2023  11:20 AM            11,053 Basic_Python4.ipynb\n",
      "01/21/2023  05:13 PM             2,299 Basic_Python5.ipynb\n",
      "02/26/2023  05:21 PM             9,475 Basic_Python6.ipynb\n",
      "09/28/2019  05:45 PM            46,442 Bill Authentication DT.csv\n",
      "06/13/2022  12:12 PM            37,658 Boston.csv\n",
      "04/01/2023  09:32 AM           427,047 businessman-using-chatbot-smartphone-intelligence-ai-2248134023.html\n",
      "05/10/2023  10:14 AM                87 BuyerRatio.csv\n",
      "01/16/2023  09:34 AM           301,141 california housing test.csv\n",
      "01/16/2023  09:34 AM         1,706,430 california housing train.csv\n",
      "05/06/2022  12:48 PM            53,656 car evaluation.csv\n",
      "03/01/2022  11:57 AM            37,048 car_data.csv\n",
      "11/04/2022  08:00 AM            17,209 CarData.csv\n",
      "04/01/2023  09:28 AM            86,611 cat.jpg\n",
      "01/21/2023  02:41 PM            15,161 CatBoost Vs XGBoost Vs LightGBM - Part 1.ipynb\n",
      "03/19/2023  12:28 PM    <DIR>          catboost_info\n",
      "03/13/2023  06:24 PM            72,210 Categorical variable Outlier Imputation.ipynb\n",
      "10/21/2019  05:09 AM           684,858 Churn_Modelling.csv\n",
      "10/27/2019  04:15 AM            56,329 churn-bigml-20-Orange Telecom Customer Churn Dataset.csv\n",
      "10/27/2019  04:15 AM           223,998 churn-bigml-80-Orange Telecom Customer Churn Dataset.csv\n",
      "02/20/2020  04:07 AM               501 Classification Data.csv\n",
      "05/10/2023  01:20 PM               324 classifier_bal.pkl\n",
      "04/12/2023  10:58 AM             8,563 Cleaned_Algerian_Forest.csv\n",
      "01/21/2023  02:49 PM             9,651 Cleaning Text Data.ipynb\n",
      "01/23/2023  09:52 AM         6,265,883 CLTV leading insurance company train BRCpofr.csv\n",
      "01/23/2023  09:52 AM         1,538,872 CLTV sample_submission.csv\n",
      "01/23/2023  09:52 AM         3,861,619 CLTV test_koRSKBP.csv\n",
      "04/01/2023  11:47 AM            68,899 computer_vision.ipynb\n",
      "07/01/2022  10:43 AM    <DIR>          Contacts\n",
      "05/10/2023  10:14 AM            13,423 Costomer+OrderForm.csv\n",
      "01/24/2023  12:04 PM             3,040 COVID-19 India Satewise data.csv\n",
      "01/21/2023  02:57 PM            33,516 COVID-19 Positive patients Data Analysis - India .ipynb\n",
      "01/21/2023  02:55 PM            32,563 COVID-19 Positive patients Data Analysis - India.ipynb\n",
      "01/24/2023  12:15 PM           255,184 COVID-19 prediction using ML&DL with 90% accuracy.ipynb\n",
      "07/17/2020  06:32 AM           362,316 Creating Word Embedding Using Gensim.html\n",
      "07/17/2020  06:32 AM            69,609 Creating Word Embedding Using Gensim.ipynb\n",
      "03/13/2023  09:59 PM           635,087 Crude Oil Price Prediction Project.ipynb\n",
      "03/13/2023  09:27 PM            19,532 Cruide Oil Price Predict Gulf-Linear Regression Data.csv\n",
      "02/07/2023  06:42 PM            74,346 Customers.csv\n",
      "05/10/2023  10:14 AM               525 Cutlets.csv\n",
      "01/14/2023  07:05 PM                11 Data1.txt\n",
      "01/14/2023  07:25 PM                11 Data2.txt\n",
      "04/05/2023  02:43 PM            32,768 database.db\n",
      "05/04/2023  10:36 PM            43,735 Day1_Basic_Python.ipynb\n",
      "05/12/2023  09:36 PM            98,371 Day10_File_handling.ipynb\n",
      "05/04/2023  10:31 PM            41,730 Day2_Reserved_words_variable_user_input.ipynb\n",
      "05/05/2023  10:24 PM            37,936 Day3_Conditional_operators.ipynb\n",
      "05/06/2023  10:28 PM            58,669 Day4_String_Methods.ipynb\n",
      "05/07/2023  10:16 PM            33,781 Day5_Control_flow_statement.ipynb\n",
      "05/08/2023  11:37 PM            93,062 Day6_List_in_Python.ipynb\n",
      "05/09/2023  10:20 PM            26,278 Day7_Tuples_Set_data_type.ipynb\n",
      "05/10/2023  10:18 PM            33,056 Day8_Dictionary.ipynb\n",
      "05/11/2023  10:51 PM            73,562 Day9_Functions.ipynb\n",
      "01/21/2023  03:03 PM            13,682 DBSCAN .ipynb\n",
      "01/21/2023  03:06 PM            13,801 Decision tree classifier.ipynb\n",
      "01/29/2023  10:10 AM             9,219 Decission tree accuracy.ipynb\n",
      "02/15/2023  02:17 PM            11,651 Deep Learning.ipynb\n",
      "05/12/2023  04:24 PM    <DIR>          Desktop\n",
      "06/26/2020  02:58 AM            23,873 diabetes.csv\n",
      "05/09/2023  12:37 PM         2,814,957 Diamond_Price_Prediction.csv\n",
      "05/09/2023  04:35 PM           195,491 Diamond_Price_Prediction_Lasso_Ridge_Elasticnet.ipynb\n",
      "02/01/2023  05:51 PM            23,916 Dictionary data structure.ipynb\n",
      "11/29/2021  02:25 AM           383,571 disney_plus_titles.csv\n",
      "01/06/2023  11:33 AM    <DIR>          Documents\n",
      "05/12/2023  05:41 PM    <DIR>          Downloads\n",
      "10/01/2019  06:15 PM             5,918 drinksbycountry.csv\n",
      "01/24/2023  12:31 PM            36,960 ds_salaries.csv\n",
      "05/09/2023  04:08 PM           623,951 EDA_Diamond_Price.ipynb\n",
      "08/17/2021  06:35 AM           172,116 electronic-card-transactions-july-2021-csv-tables.csv\n",
      "04/30/2023  11:31 AM           589,717 End To End Project ML.ipynb\n",
      "01/21/2023  03:09 PM           374,849 End to End Time Series Analysis.ipynb\n",
      "05/03/2023  01:33 PM                95 example.csv\n",
      "05/03/2023  12:19 PM               336 example.txt\n",
      "07/01/2022  10:43 AM    <DIR>          Favorites\n",
      "01/21/2023  03:16 PM            29,251 Feature extraction from text.ipynb\n",
      "01/21/2023  10:07 AM            23,240 Feature Selection by Wrapper and Filter Method.ipynb\n",
      "11/28/2022  06:29 PM             1,945 fibo.py.ipynb\n",
      "05/03/2023  01:01 PM            33,051 file_handling.ipynb\n",
      "05/02/2023  06:39 PM               192 file1.py\n",
      "05/12/2023  09:17 PM                 0 file1.txt\n",
      "05/12/2023  09:19 PM               288 File3.txt\n",
      "05/12/2023  09:20 PM                56 File4.txt\n",
      "05/12/2023  09:26 PM                83 file5.txt\n",
      "05/03/2023  01:34 PM            68,849 FileHand.ipynb\n",
      "02/14/2022  11:49 AM             6,022 Fish.csv\n",
      "01/21/2023  04:25 PM               118 friend.csv\n",
      "01/21/2023  04:25 PM               107 friend123.csv\n",
      "01/16/2023  03:35 PM             3,864 function_codingQue.ipynb\n",
      "11/22/2022  12:49 PM             5,921 function_prog practice.ipynb\n",
      "05/07/2023  07:14 PM            17,226 Functions.ipynb\n",
      "06/18/2020  04:12 AM         2,772,143 Gemstone_Price_Prediction.csv\n",
      "04/07/2023  02:40 PM    <DIR>          gensim-data\n",
      "04/12/2022  10:00 AM            48,196 german credit.csv\n",
      "04/12/2022  10:00 AM            48,196 german_credit.csv\n",
      "05/12/2023  09:31 PM             1,257 google.txt\n",
      "01/21/2023  03:20 PM            22,865 Gradient-Boost Implementation.ipynb\n",
      "03/13/2023  11:25 PM           334,776 gru_model.h5\n",
      "03/12/2023  10:41 AM            82,918 Handling MIssing Data-TD.ipynb\n",
      "02/02/2021  12:01 PM           597,842 HCLTECH.csv\n",
      "01/28/2023  07:25 PM           353,822 Heart Disease Prediction using Neural Network.ipynb\n",
      "10/25/2019  01:10 AM            38,114 heart disease.csv\n",
      "04/02/2023  01:27 PM                20 hello.py\n",
      "01/21/2023  03:23 PM           142,419 hierarchical clustering.ipynb\n",
      "10/04/2019  12:36 PM           526,795 House price prediction dataset output.csv\n",
      "10/04/2019  12:36 PM           526,795 House price prediction dataset.csv\n",
      "01/28/2023  09:15 PM           303,527 House price prediction Linear Ridge Lasso.ipynb\n",
      "07/20/2022  03:15 PM            54,773 House_Price.csv\n",
      "01/29/2023  09:37 AM            75,589 Housing Price Prediction.ipynb\n",
      "04/20/2022  12:13 PM         1,423,529 housing.csv\n",
      "01/21/2023  03:25 PM            27,058 How to work with imbalanced Data.ipynb\n",
      "01/21/2023  03:26 PM           335,810 Hypothesis Test Practical Implementation .ipynb\n",
      "05/12/2023  05:44 PM            27,501 Hypothesis testing-Assignment.ipynb\n",
      "05/12/2023  04:47 PM           148,038 Hypothesis_testing.ipynb\n",
      "04/01/2023  09:36 AM             9,057 Image1.jpg\n",
      "04/01/2023  09:37 AM         2,630,045 Image2.jpg\n",
      "01/21/2023  03:30 PM            29,061 Implementing Logistics Regression.ipynb\n",
      "01/21/2023  03:50 PM           294,233 Implementing machine learning in Python.ipynb\n",
      "01/21/2023  03:44 PM               294 income expense data.csv\n",
      "02/20/2020  04:12 AM         1,111,971 income.csv\n",
      "02/20/2020  04:01 AM             9,668 Income_Expense_Data.xlsx\n",
      "05/07/2023  03:04 PM           309,245 Inferential_Statistics.ipynb\n",
      "02/14/2022  12:02 PM            55,628 insurance.csv\n",
      "09/10/2022  06:20 AM            20,982 InternetPricesAround200Countries.csv\n",
      "05/07/2023  05:07 PM            14,306 Introduction To Machine Learning.ipynb\n",
      "11/23/2020  06:53 AM        22,721,656 IPL Ball-by-Ball 2008-2020.csv\n",
      "01/24/2023  11:43 AM           150,820 IPL Matches 2008-2020.csv\n",
      "02/20/2020  04:09 AM             3,867 iris.csv\n",
      "01/21/2023  03:55 PM            20,940 Item based collaborative filtering python .ipynb\n",
      "04/01/2023  03:15 PM    <DIR>          Jedi\n",
      "01/21/2023  04:03 PM            30,347 k-means clustering.ipynb\n",
      "05/10/2023  10:14 AM             3,487 LabTAT.csv\n",
      "01/21/2023  04:05 PM             3,766 lambda Function python program.ipynb\n",
      "01/29/2023  03:13 PM            12,336 LambdaMapFilterReduceEval function in python.ipynb\n",
      "02/14/2022  01:02 PM           332,556 LE.csv\n",
      "02/14/2022  12:43 PM           333,442 Life Expectancy Data.csv\n",
      "02/01/2023  10:52 AM            72,892 Linear Regression Algorithm implementation.ipynb\n",
      "10/18/2022  06:56 AM            20,604 Linear Regression Data-Cruide Oil Price Predict Gulf.xlsx\n",
      "01/28/2023  04:12 PM            57,014 Linear Regression Supervised Learning.ipynb\n",
      "02/25/2023  03:04 PM            92,736 Linear Regression(CarData).ipynb\n",
      "07/01/2022  10:44 AM    <DIR>          Links\n",
      "01/24/2023  12:00 PM             3,567 List of most followed Instagram accounts.csv\n",
      "01/21/2023  04:46 PM             5,368 List python program pract.ipynb\n",
      "01/21/2023  04:11 PM             9,888 List python program.ipynb\n",
      "01/31/2023  10:17 AM            10,438 List Set Dict comprehension practice.ipynb\n",
      "05/09/2023  11:18 AM             8,827 List_data_type.ipynb\n",
      "05/04/2023  01:41 PM            64,323 Loan_Approval_Prediction_Project.ipynb\n",
      "12/20/2020  03:45 PM            38,013 LoanApprovalPrediction.csv\n",
      "01/29/2023  09:25 AM           186,859 Logistic regression- Heart disease dataset.ipynb\n",
      "02/01/2023  01:05 PM             1,799 Logistic regression implementation algorithm.ipynb\n",
      "05/08/2023  12:59 PM            28,557 Logistic_Regression_Assignment.ipynb\n",
      "05/10/2023  01:34 PM         5,312,733 Logistics_Regression_classification.ipynb\n",
      "01/29/2023  07:10 PM             8,724 Loop List Set Dictionary Comprehension.ipynb\n",
      "01/24/2023  12:35 PM            10,073 Lotus image classifier tuned CNN 70% accuracy.ipynb\n",
      "03/13/2023  11:24 PM           306,400 lstm_model.h5\n",
      "01/21/2023  04:11 PM            24,596 Machine Learning Pipeline.ipynb\n",
      "01/21/2023  04:13 PM           610,796 Making time series stationary python.ipynb\n",
      "05/28/2022  03:07 PM             2,047 Mall Customers updated.csv\n",
      "05/28/2022  03:26 AM             4,286 Mall_Customers.csv\n",
      "01/21/2023  04:13 PM            36,155 Market Basket Analysis.ipynb\n",
      "05/10/2023  05:07 PM           365,004 Matplotlib.ipynb\n",
      "02/22/2020  08:59 AM           302,908 MBA.csv\n",
      "05/12/2023  05:17 PM            32,826 Mean, Median, Mode _5Point summary.ipynb\n",
      "03/24/2022  07:33 PM            12,493 metro countries cities.csv\n",
      "03/24/2022  07:33 PM             1,533 metro_countries_in_progress.csv\n",
      "03/24/2022  07:33 PM             2,478 metro_countries_total.csv\n",
      "01/16/2023  09:36 AM        18,289,443 mnist_test.csv\n",
      "03/19/2023  03:33 PM            84,018 Model training student performance project.ipynb\n",
      "05/10/2023  01:15 PM                 0 model.pkl\n",
      "08/25/2021  06:15 AM             1,731 ModelTraining.py\n",
      "03/31/2020  07:31 AM            50,960 Movie_Titles.csv\n",
      "07/01/2022  10:44 AM    <DIR>          Music\n",
      "02/28/2023  09:12 AM            51,189 mvps.csv\n",
      "04/04/2023  01:25 PM                 0 mydatabase.db\n",
      "05/02/2023  07:13 PM                37 myfile.txt\n",
      "01/21/2023  03:49 PM                83 myfile1802.csv\n"
     ]
    },
    {
     "name": "stdout",
     "output_type": "stream",
     "text": [
      "01/21/2023  04:28 PM               114 myfriend.csv\n",
      "01/21/2023  04:28 PM               103 myfriend_index.csv\n",
      "01/21/2023  03:49 PM            10,073 myimage.png\n",
      "08/30/2021  05:40 AM               822 mywrapper.sh\n",
      "02/28/2023  03:27 PM             7,384 NBA Stats Data.ipynb\n",
      "03/17/2023  03:17 PM           124,969 Netflix data .ipynb\n",
      "01/14/2023  05:03 PM         2,900,926 NetFlix Latest TV show movies.csv\n",
      "01/28/2023  05:35 PM           481,694 Netflix latest TV shows and movies with pandas.ipynb\n",
      "09/27/2021  04:44 AM         3,399,671 netflix_titles.csv\n",
      "06/03/2021  11:24 PM            38,678 NetflixOriginals.csv\n",
      "01/21/2023  04:14 PM           374,536 Neural network tuning.ipynb\n",
      "04/01/2023  05:54 PM                20 new 1.py\n",
      "05/05/2023  07:34 PM            88,388 New_Data.csv\n",
      "05/05/2023  07:34 PM            67,892 New_Excel.xlsx\n",
      "05/03/2023  12:47 PM               823 new_image.jpg\n",
      "05/02/2023  06:13 PM             6,970 new_image_AI.jpeg\n",
      "02/28/2023  10:00 AM               881 nicknames.txt\n",
      "01/21/2023  04:15 PM             3,495 NLP Data Import Part 2 - Document Parsing.ipynb\n",
      "01/21/2023  04:18 PM           236,240 NLP Data Import techniques.ipynb\n",
      "02/11/2023  04:20 PM            30,237 NLP practice Session.ipynb\n",
      "01/21/2023  04:19 PM            73,389 NLP.ipynb\n",
      "04/10/2023  07:36 PM           819,148 NLP_basic practice.ipynb\n",
      "02/14/2023  08:10 PM             7,829 NLP-Sentence Tokenization.ipynb\n",
      "01/21/2023  04:21 PM            39,887 Novel COVID 19 Spread Analysis and Forecast.ipynb\n",
      "03/20/2023  06:41 PM             6,762 Numpy Coding Question.ipynb\n",
      "02/24/2023  07:14 PM            24,622 Numpy Interview question practice.ipynb\n",
      "01/31/2023  03:26 PM             2,733 NumPy Laibrary practice.ipynb\n",
      "01/21/2023  04:24 PM            45,402 Numpy practice session.ipynb\n",
      "05/05/2023  02:31 PM            59,264 Numpy_Assignment.ipynb\n",
      "03/20/2023  06:37 PM             8,958 Numpy_Coding_Question.ipynb\n",
      "02/02/2023  07:03 PM            67,886 Numpy_Coding_Round.ipynb\n",
      "02/03/2023  10:07 AM            62,831 Numpy_matplotlib_seaborn_tensorflow.ipynb\n",
      "04/26/2023  06:57 PM            23,906 Numpy_Practice1.ipynb\n",
      "02/12/2023  08:32 PM           116,035 Numpy-pandas -seaborn library coding question.ipynb\n",
      "06/30/2022  10:17 PM    <DIR>          OneDrive\n",
      "03/14/2023  12:15 PM         4,849,648 Orange Telecom Company Churn Prediction Project.ipynb\n",
      "01/21/2023  04:26 PM            70,562 Pandas library practice session.ipynb\n",
      "05/06/2023  10:09 AM           275,855 Pandas_Assignment.ipynb\n",
      "01/21/2023  02:28 PM           190,702 Pandas_Iris_dataset.ipynb\n",
      "01/27/2023  01:12 PM           359,039 pandas_mall_customer_dataset.ipynb\n",
      "05/08/2023  12:58 PM            30,887 Pandas_Numpy_task1.ipynb\n",
      "05/12/2023  03:40 PM    <DIR>          Pictures\n",
      "09/28/2019  12:37 AM            24,045 pima-indians-diabetes.csv\n",
      "02/28/2023  09:13 AM         2,501,539 players.csv\n",
      "09/03/2020  05:20 PM            15,890 population_by_country.csv\n",
      "01/21/2023  04:54 PM             6,429 Practice PyPro Day-1.ipynb\n",
      "01/21/2023  05:45 PM            22,601 Practice PyPro Day-10.ipynb\n",
      "01/21/2023  05:49 PM             7,625 Practice PyPro Day-11.ipynb\n",
      "01/21/2023  05:54 PM            15,133 Practice PyPro Day-12.ipynb\n",
      "01/21/2023  04:57 PM             3,262 Practice PyPro day-2.ipynb\n",
      "01/21/2023  05:04 PM            17,678 Practice PyPro Day-3.ipynb\n",
      "01/21/2023  05:41 PM            26,846 Practice PyPro Day-4.ipynb\n",
      "01/21/2023  05:41 PM            20,788 Practice PyPro Day-5.ipynb\n",
      "01/21/2023  05:55 PM           238,421 Practice PyPro Day-6.ipynb\n",
      "01/21/2023  05:42 PM             2,795 Practice PyPro Day-7.ipynb\n",
      "01/21/2023  05:43 PM            44,484 Practice PyPro Day-8.ipynb\n",
      "01/21/2023  05:44 PM             6,270 Practice PyPro Day-9.ipynb\n",
      "08/25/2021  06:13 AM             1,166 prediction.py\n",
      "02/16/2023  04:45 PM             4,029 Prime number.ipynb\n",
      "05/10/2023  03:08 PM             8,869 Progress_bar_Coding.ipynb\n",
      "01/21/2023  05:39 PM            10,788 pysprk.ipynb\n",
      "01/21/2023  06:03 PM            16,924 Python Basics Data Types.ipynb\n",
      "03/18/2023  01:12 PM            17,524 Python Basics for DS - Data Types.ipynb\n",
      "01/25/2023  08:13 PM            57,062 Python Important packages for Data Science.ipynb\n",
      "01/24/2023  11:40 AM            37,128 Python pandas library.ipynb\n",
      "02/13/2023  07:02 PM             4,722 Python question solving.ipynb\n",
      "05/06/2023  01:17 PM             6,400 Python_code9.ipynb\n",
      "04/29/2023  04:03 PM            33,186 Python_Coding Practice.ipynb\n",
      "05/01/2023  05:49 PM            10,051 python_coding_task.ipynb\n",
      "02/07/2023  01:05 PM             5,392 Python_function1.ipynb\n",
      "05/07/2023  10:46 AM            12,157 Python_function2.ipynb\n",
      "05/07/2023  10:58 AM            16,694 Python_function3.ipynb\n",
      "02/16/2023  08:17 PM            23,781 Python_function4.ipynb\n",
      "05/10/2023  10:27 PM             3,219 Python_interview.ipynb\n",
      "03/08/2023  05:38 PM            11,876 Python_lambdaFilterMapReduce Function.ipynb\n",
      "03/11/2023  04:25 PM            18,523 Python_practice.ipynb\n",
      "01/24/2023  12:49 PM            14,122 Python_String1.ipynb\n",
      "01/02/2023  03:22 PM             5,299 Python_string2.ipynb\n",
      "08/25/2021  06:16 AM             1,010 PythonScriptParametrization.py\n",
      "01/21/2023  06:09 PM            31,738 Random Forest Estimator.ipynb\n",
      "05/02/2023  04:07 PM             3,491 random() function_coding_question.ipynb\n",
      "05/09/2023  11:17 AM                 5 result.pickle\n",
      "01/24/2023  11:53 AM         1,041,974 Revenue Profit of Fortune 500 companies year1955.csv\n",
      "05/03/2023  12:38 PM             5,892 rossum.jpeg\n",
      "04/07/2023  03:12 PM               544 sample.txt\n",
      "07/01/2022  10:44 AM    <DIR>          Saved Games\n",
      "05/12/2023  04:26 PM    <DIR>          seaborn-data\n",
      "07/01/2022  10:45 AM    <DIR>          Searches\n",
      "01/21/2023  06:11 PM           199,181 Seasonal Decompose and Adfuller test.ipynb\n",
      "01/21/2023  06:12 PM            62,694 Sentiment Analysis Using Hybrid Model.ipynb\n",
      "03/09/2023  12:21 PM            65,652 Shop Customer Analysis.csv\n",
      "03/09/2023  12:23 PM           358,769 Shop customer analysis_EDA.ipynb\n",
      "05/08/2023  12:00 PM           185,818 Simple Linear Regression .ipynb\n",
      "05/08/2023  12:18 PM            65,899 Simple_Linear_Regression_Assignment.ipynb\n",
      "05/08/2023  03:22 PM            84,969 Simple_Linear_Regression_HW_Dataset.ipynb\n",
      "02/01/2023  10:45 AM               444 simple_regression_model.sav\n",
      "05/08/2023  03:20 PM                 0 SimpleLinear_pickle_file.pkl\n",
      "03/16/2023  11:35 AM            22,757 Sklearn Library ML.ipynb\n",
      "02/10/2023  03:48 PM            25,031 Slice function in python.ipynb\n",
      "06/28/2020  11:02 AM           181,924 social media visitors.csv\n",
      "06/28/2020  11:02 AM           171,919 Social Title Page.csv\n",
      "06/28/2020  11:02 AM             2,513 social_media.csv\n",
      "04/05/2023  03:52 PM            75,794 SQL_practice.ipynb\n",
      "01/21/2023  06:15 PM           242,798 Standard Analytical Development -2023.ipynb\n",
      "01/22/2023  07:14 PM        10,942,450 Startup success fail  dataset crunchbase.csv\n",
      "05/07/2023  04:50 PM             6,296 Statistics_Assignment-1.ipynb\n",
      "05/07/2023  04:58 PM            16,156 Statistics_Basic1.ipynb\n",
      "05/08/2023  09:26 AM           511,825 Statistics_Basic2.ipynb\n",
      "02/15/2023  03:45 PM            45,218 Statistics-Mean Median Mode SD .ipynb\n",
      "02/20/2020  04:19 AM           171,737 STEPS.PNG\n",
      "03/13/2023  11:26 PM         1,042,311 Stock Price Prediction Project.ipynb\n",
      "01/21/2023  06:12 PM           758,519 Stock Price prediction using ARIMA -  End to End .ipynb\n",
      "10/11/2019  12:48 PM            72,036 StudentsPerformance.csv\n",
      "01/29/2023  10:09 AM             1,406 Submission.csv\n",
      "04/10/2023  06:59 PM            77,851 Sunflower.jpeg\n",
      "01/21/2023  04:28 PM               155 sunil.csv\n",
      "05/07/2023  11:12 AM               900 sunilmath.py.ipynb\n",
      "05/07/2023  11:19 AM             7,898 sunilmath_test.py.ipynb\n",
      "05/04/2023  02:14 PM           357,985 Supply Chain Shipment Price_Data Analysis.ipynb\n",
      "10/08/2019  08:49 PM         3,785,904 Supply chain shipment pricing.csv\n",
      "04/28/2023  06:08 PM         5,387,450 Supply chain shipment project.ipynb\n",
      "10/08/2019  08:49 PM         3,785,904 SupplyChainService_Delivery_History.csv\n",
      "02/02/2023  10:01 AM             1,720 SVM algorithm practice.ipynb\n",
      "02/28/2023  09:12 AM            70,817 teams.csv\n",
      "03/14/2023  11:43 AM           892,809 Telco Churn Analysis Project.ipynb\n",
      "09/27/2019  07:30 PM           977,501 Telco Customer Churn.csv\n",
      "03/14/2023  07:58 PM         3,814,175 Telecom churn Indian and South east asian market project.ipynb\n",
      "11/21/2020  12:04 PM        79,156,935 telecom_churn_asian_data.csv\n",
      "03/18/2023  01:53 PM           762,564 Telecom_churn_EDA .ipynb\n",
      "03/18/2023  02:05 PM           616,103 telecom_customer_churn_prediction.ipynb\n",
      "03/09/2023  01:33 PM               773 TelecomChurn.csv\n",
      "03/18/2023  01:41 PM           715,474 telecom-churn_dummies_2.csv\n",
      "01/02/2023  03:20 PM             3,759 Ternary operator.ipynb\n",
      "01/20/2023  10:46 AM           210,984 Tesla Stock Price (2010 to 2023).csv\n",
      "03/08/2023  09:12 PM           105,922 TeslaStockPrice2010to2023_project.ipynb\n",
      "09/20/2019  03:24 PM             4,461 test_linearRegre.csv\n",
      "05/04/2023  10:37 AM         6,534,104 test_Loan_default_prediction.csv\n",
      "01/06/2023  11:33 AM                82 test1.csv\n",
      "08/25/2021  07:04 AM         5,908,706 TestData.csv\n",
      "01/21/2023  05:29 PM           506,498 Time Series Forecasting methods - Part 1.ipynb\n",
      "11/03/2020  07:51 AM             4,666 TimeSeries.csv\n",
      "10/19/2019  11:15 PM             7,943 tips.csv\n",
      "12/02/2021  04:11 PM            29,474 Titanic dataset.csv\n",
      "12/30/2022  03:57 PM            11,460 titanic.csv\n",
      "08/26/2022  02:56 PM    <DIR>          Tracing\n",
      "02/20/2020  04:11 AM            61,194 train.csv\n",
      "09/20/2019  03:24 PM            10,384 train_linearRegre.csv\n",
      "05/04/2023  10:37 AM        16,484,188 train_Loan_default_prediction.csv\n",
      "07/25/2021  02:16 AM         2,585,911 Tweets.csv\n",
      "01/24/2023  11:55 AM           101,238 Udacity_course_catlog.csv\n",
      "01/21/2023  05:27 PM            11,134 Understanding Functions.ipynb\n",
      "01/21/2023  05:23 PM            18,775 Understanding Loops.ipynb\n",
      "03/13/2023  11:08 AM            13,113 Untitled.ipynb\n",
      "08/08/2022  10:33 AM                 0 untitled.txt\n",
      "05/07/2023  06:21 PM             3,367 Untitled1.ipynb\n",
      "04/11/2023  12:51 PM            31,512 Untitled10.ipynb\n",
      "01/31/2023  05:33 PM               589 Untitled11.ipynb\n",
      "01/21/2023  05:10 PM             1,255 Untitled12.ipynb\n",
      "02/01/2023  02:46 PM             9,455 Untitled13.ipynb\n",
      "02/02/2023  04:58 PM                72 Untitled14.ipynb\n",
      "02/15/2023  02:04 PM             9,869 Untitled15.ipynb\n",
      "01/21/2023  11:52 AM                72 Untitled16.ipynb\n",
      "02/16/2023  08:03 PM           251,084 Untitled17.ipynb\n",
      "02/17/2023  12:14 PM             8,554 Untitled18.ipynb\n",
      "02/26/2023  12:32 PM            11,975 Untitled19.ipynb\n",
      "01/21/2023  05:16 PM             4,506 Untitled2.ipynb\n",
      "02/27/2023  07:24 PM            51,824 Untitled20.ipynb\n",
      "03/19/2023  10:52 AM                72 Untitled21.ipynb\n",
      "03/22/2023  11:53 AM               589 Untitled22.ipynb\n",
      "03/27/2023  03:40 PM            44,064 Untitled23.ipynb\n",
      "04/01/2023  09:29 AM           102,214 Untitled24.ipynb\n",
      "04/03/2023  07:26 PM            10,604 Untitled25.ipynb\n",
      "04/04/2023  01:30 PM            20,287 Untitled26.ipynb\n",
      "04/07/2023  05:11 PM            35,801 Untitled27.ipynb\n",
      "04/10/2023  11:51 AM             2,264 Untitled28.ipynb\n",
      "08/17/2022  09:08 PM             1,875 Untitled3.ipynb\n",
      "01/21/2023  05:19 PM             5,075 Untitled4.ipynb\n",
      "01/31/2023  03:52 PM                72 Untitled5.ipynb\n",
      "08/30/2022  06:50 PM               589 Untitled6.ipynb\n",
      "01/21/2023  05:12 PM            17,222 Untitled7.ipynb\n",
      "01/31/2023  04:20 PM            16,267 Untitled8.ipynb\n",
      "04/07/2023  03:45 PM           154,735 Untitled9.ipynb\n",
      "09/19/2019  11:33 PM         1,355,781 videogamesales.csv\n",
      "07/09/2022  03:38 PM    <DIR>          Videos\n",
      "05/08/2023  02:24 PM           307,746 Weight_height.csv\n",
      "09/15/2021  07:00 AM           390,376 Wine_Quality_Dataset.csv\n",
      "01/26/2023  11:03 AM           397,305 World GDP dataset Pandas.ipynb\n",
      "01/24/2023  12:14 PM            58,795 World GDP Dataset.csv\n",
      "01/28/2023  06:24 PM         4,036,164 World metro data analysis.ipynb\n",
      "10/20/2022  05:51 PM            29,247 world_population.csv\n",
      "09/10/2022  06:20 AM            15,542 worldwide internet prices in 2022 - IN 2022.csv\n",
      "02/21/2023  12:34 PM            61,416 Worldwide Internet pricess in 2022 dataset.ipynb\n",
      "09/10/2022  06:20 AM             2,272 worldwide internet speed in 2022  - avg speed.csv\n",
      "09/10/2022  06:20 AM            11,952 worldwide internet users - users.csv\n",
      "05/05/2023  07:34 PM            47,240 Write.h5\n",
      "01/21/2023  04:39 PM            13,539 XGBoost Demonstration.ipynb\n",
      "             393 File(s)    265,707,053 bytes\n",
      "              31 Dir(s)  57,393,549,312 bytes free\n"
     ]
    }
   ],
   "source": [
    "ls"
   ]
  },
  {
   "cell_type": "code",
   "execution_count": 98,
   "id": "0019ffeb",
   "metadata": {},
   "outputs": [
    {
     "data": {
      "text/plain": [
       "'C:\\\\Users\\\\Admin'"
      ]
     },
     "execution_count": 98,
     "metadata": {},
     "output_type": "execute_result"
    }
   ],
   "source": [
    "os.getcwd()"
   ]
  },
  {
   "cell_type": "code",
   "execution_count": 99,
   "id": "4a525413",
   "metadata": {},
   "outputs": [
    {
     "data": {
      "text/plain": [
       "'C:\\\\Users\\\\Admin'"
      ]
     },
     "execution_count": 99,
     "metadata": {},
     "output_type": "execute_result"
    }
   ],
   "source": [
    "pwd()"
   ]
  },
  {
   "cell_type": "code",
   "execution_count": 100,
   "id": "8c24d103",
   "metadata": {},
   "outputs": [
    {
     "data": {
      "text/plain": [
       "[' Mini Project_Python.ipynb',\n",
       " '.anaconda',\n",
       " '.conda',\n",
       " '.condarc',\n",
       " '.continuum',\n",
       " '.idlerc',\n",
       " '.ipynb_checkpoints',\n",
       " '.ipython',\n",
       " '.jupyter',\n",
       " '.keras',\n",
       " '.matplotlib',\n",
       " '.opera',\n",
       " '.python_history',\n",
       " '.spyder-py3',\n",
       " '1.ipynb',\n",
       " '11N.ipynb',\n",
       " '12Jn.ipynb',\n",
       " '12N.py.ipynb',\n",
       " '13Jn.ipynb',\n",
       " '14N.py.ipynb',\n",
       " '15N.ipynb',\n",
       " '16N.ipynb',\n",
       " '17N.ipynb',\n",
       " '18N.ipynb',\n",
       " '2',\n",
       " '3D Objects',\n",
       " 'A.jpg',\n",
       " 'a1.jpg',\n",
       " 'abcd.txt',\n",
       " 'Ada-Boost Implementation.ipynb',\n",
       " 'Advertising_dataset.csv',\n",
       " 'AI_face.jpeg',\n",
       " 'Algerian forest fire dataset.ipynb',\n",
       " 'AlgerianForest Dataset.ipynb',\n",
       " 'Algerian_forest_fires.csv',\n",
       " 'Algerian_forest_fires_dataset.csv',\n",
       " 'anaconda3',\n",
       " 'AppData',\n",
       " 'apple.csv',\n",
       " 'Application Data',\n",
       " 'Arithmatic comparsion operator.ipynb',\n",
       " 'Asian telecom churn project.ipynb',\n",
       " 'Assignment-1.ipynb',\n",
       " 'Assignment-2.ipynb',\n",
       " 'Assignment-3.ipynb',\n",
       " 'Assignment-4.ipynb',\n",
       " 'Assignment-5.ipynb',\n",
       " 'Assignment-6.ipynb',\n",
       " 'Assignment-7.ipynb',\n",
       " 'Assignment-8.ipynb',\n",
       " 'Autoregression using ACF and PACP explained.ipynb',\n",
       " 'Basic_Python.ipynb',\n",
       " 'Basic_Python1.ipynb',\n",
       " 'Basic_Python2.ipynb',\n",
       " 'Basic_Python3.ipynb',\n",
       " 'Basic_Python4.ipynb',\n",
       " 'Basic_Python5.ipynb',\n",
       " 'Basic_Python6.ipynb',\n",
       " 'Bill Authentication DT.csv',\n",
       " 'Boston.csv',\n",
       " 'businessman-using-chatbot-smartphone-intelligence-ai-2248134023.html',\n",
       " 'BuyerRatio.csv',\n",
       " 'california housing test.csv',\n",
       " 'california housing train.csv',\n",
       " 'car evaluation.csv',\n",
       " 'CarData.csv',\n",
       " 'car_data.csv',\n",
       " 'cat.jpg',\n",
       " 'CatBoost Vs XGBoost Vs LightGBM - Part 1.ipynb',\n",
       " 'catboost_info',\n",
       " 'Categorical variable Outlier Imputation.ipynb',\n",
       " 'churn-bigml-20-Orange Telecom Customer Churn Dataset.csv',\n",
       " 'churn-bigml-80-Orange Telecom Customer Churn Dataset.csv',\n",
       " 'Churn_Modelling.csv',\n",
       " 'Classification Data.csv',\n",
       " 'classifier_bal.pkl',\n",
       " 'Cleaned_Algerian_Forest.csv',\n",
       " 'Cleaning Text Data.ipynb',\n",
       " 'CLTV leading insurance company train BRCpofr.csv',\n",
       " 'CLTV sample_submission.csv',\n",
       " 'CLTV test_koRSKBP.csv',\n",
       " 'computer_vision.ipynb',\n",
       " 'Contacts',\n",
       " 'Cookies',\n",
       " 'Costomer+OrderForm.csv',\n",
       " 'COVID-19 India Satewise data.csv',\n",
       " 'COVID-19 Positive patients Data Analysis - India .ipynb',\n",
       " 'COVID-19 Positive patients Data Analysis - India.ipynb',\n",
       " 'COVID-19 prediction using ML&DL with 90% accuracy.ipynb',\n",
       " 'Creating Word Embedding Using Gensim.html',\n",
       " 'Creating Word Embedding Using Gensim.ipynb',\n",
       " 'Crude Oil Price Prediction Project.ipynb',\n",
       " 'Cruide Oil Price Predict Gulf-Linear Regression Data.csv',\n",
       " 'Customers.csv',\n",
       " 'Cutlets.csv',\n",
       " 'Data1.txt',\n",
       " 'Data2.txt',\n",
       " 'database.db',\n",
       " 'Day10_File_handling.ipynb',\n",
       " 'Day1_Basic_Python.ipynb',\n",
       " 'Day2_Reserved_words_variable_user_input.ipynb',\n",
       " 'Day3_Conditional_operators.ipynb',\n",
       " 'Day4_String_Methods.ipynb',\n",
       " 'Day5_Control_flow_statement.ipynb',\n",
       " 'Day6_List_in_Python.ipynb',\n",
       " 'Day7_Tuples_Set_data_type.ipynb',\n",
       " 'Day8_Dictionary.ipynb',\n",
       " 'Day9_Functions.ipynb',\n",
       " 'DBSCAN .ipynb',\n",
       " 'Decision tree classifier.ipynb',\n",
       " 'Decission tree accuracy.ipynb',\n",
       " 'Deep Learning.ipynb',\n",
       " 'Desktop',\n",
       " 'diabetes.csv',\n",
       " 'Diamond_Price_Prediction.csv',\n",
       " 'Diamond_Price_Prediction_Lasso_Ridge_Elasticnet.ipynb',\n",
       " 'Dictionary data structure.ipynb',\n",
       " 'disney_plus_titles.csv',\n",
       " 'Documents',\n",
       " 'Downloads',\n",
       " 'drinksbycountry.csv',\n",
       " 'ds_salaries.csv',\n",
       " 'EDA_Diamond_Price.ipynb',\n",
       " 'electronic-card-transactions-july-2021-csv-tables.csv',\n",
       " 'End To End Project ML.ipynb',\n",
       " 'End to End Time Series Analysis.ipynb',\n",
       " 'example.csv',\n",
       " 'example.txt',\n",
       " 'Favorites',\n",
       " 'Feature extraction from text.ipynb',\n",
       " 'Feature Selection by Wrapper and Filter Method.ipynb',\n",
       " 'fibo.py.ipynb',\n",
       " 'file1.py',\n",
       " 'file1.txt',\n",
       " 'File3.txt',\n",
       " 'File4.txt',\n",
       " 'file5.txt',\n",
       " 'FileHand.ipynb',\n",
       " 'file_handling.ipynb',\n",
       " 'Fish.csv',\n",
       " 'friend.csv',\n",
       " 'friend123.csv',\n",
       " 'Functions.ipynb',\n",
       " 'function_codingQue.ipynb',\n",
       " 'function_prog practice.ipynb',\n",
       " 'Gemstone_Price_Prediction.csv',\n",
       " 'gensim-data',\n",
       " 'german credit.csv',\n",
       " 'german_credit.csv',\n",
       " 'google.txt',\n",
       " 'Gradient-Boost Implementation.ipynb',\n",
       " 'gru_model.h5',\n",
       " 'Handling MIssing Data-TD.ipynb',\n",
       " 'HCLTECH.csv',\n",
       " 'Heart Disease Prediction using Neural Network.ipynb',\n",
       " 'heart disease.csv',\n",
       " 'hello.py',\n",
       " 'hierarchical clustering.ipynb',\n",
       " 'House price prediction dataset output.csv',\n",
       " 'House price prediction dataset.csv',\n",
       " 'House price prediction Linear Ridge Lasso.ipynb',\n",
       " 'House_Price.csv',\n",
       " 'Housing Price Prediction.ipynb',\n",
       " 'housing.csv',\n",
       " 'How to work with imbalanced Data.ipynb',\n",
       " 'Hypothesis Test Practical Implementation .ipynb',\n",
       " 'Hypothesis testing-Assignment.ipynb',\n",
       " 'Hypothesis_testing.ipynb',\n",
       " 'Image1.jpg',\n",
       " 'Image2.jpg',\n",
       " 'Implementing Logistics Regression.ipynb',\n",
       " 'Implementing machine learning in Python.ipynb',\n",
       " 'income expense data.csv',\n",
       " 'income.csv',\n",
       " 'Income_Expense_Data.xlsx',\n",
       " 'Inferential_Statistics.ipynb',\n",
       " 'insurance.csv',\n",
       " 'IntelGraphicsProfiles',\n",
       " 'InternetPricesAround200Countries.csv',\n",
       " 'Introduction To Machine Learning.ipynb',\n",
       " 'IPL Ball-by-Ball 2008-2020.csv',\n",
       " 'IPL Matches 2008-2020.csv',\n",
       " 'iris.csv',\n",
       " 'Item based collaborative filtering python .ipynb',\n",
       " 'Jedi',\n",
       " 'k-means clustering.ipynb',\n",
       " 'LabTAT.csv',\n",
       " 'lambda Function python program.ipynb',\n",
       " 'LambdaMapFilterReduceEval function in python.ipynb',\n",
       " 'LE.csv',\n",
       " 'Life Expectancy Data.csv',\n",
       " 'Linear Regression Algorithm implementation.ipynb',\n",
       " 'Linear Regression Data-Cruide Oil Price Predict Gulf.xlsx',\n",
       " 'Linear Regression Supervised Learning.ipynb',\n",
       " 'Linear Regression(CarData).ipynb',\n",
       " 'Links',\n",
       " 'List of most followed Instagram accounts.csv',\n",
       " 'List python program pract.ipynb',\n",
       " 'List python program.ipynb',\n",
       " 'List Set Dict comprehension practice.ipynb',\n",
       " 'List_data_type.ipynb',\n",
       " 'LoanApprovalPrediction.csv',\n",
       " 'Loan_Approval_Prediction_Project.ipynb',\n",
       " 'Local Settings',\n",
       " 'Logistic regression implementation algorithm.ipynb',\n",
       " 'Logistic regression- Heart disease dataset.ipynb',\n",
       " 'Logistics_Regression_classification.ipynb',\n",
       " 'Logistic_Regression_Assignment.ipynb',\n",
       " 'Loop List Set Dictionary Comprehension.ipynb',\n",
       " 'Lotus image classifier tuned CNN 70% accuracy.ipynb',\n",
       " 'lstm_model.h5',\n",
       " 'Machine Learning Pipeline.ipynb',\n",
       " 'Making time series stationary python.ipynb',\n",
       " 'Mall Customers updated.csv',\n",
       " 'Mall_Customers.csv',\n",
       " 'Market Basket Analysis.ipynb',\n",
       " 'Matplotlib.ipynb',\n",
       " 'MBA.csv',\n",
       " 'Mean, Median, Mode _5Point summary.ipynb',\n",
       " 'metro countries cities.csv',\n",
       " 'metro_countries_in_progress.csv',\n",
       " 'metro_countries_total.csv',\n",
       " 'mnist_test.csv',\n",
       " 'Model training student performance project.ipynb',\n",
       " 'model.pkl',\n",
       " 'ModelTraining.py',\n",
       " 'Movie_Titles.csv',\n",
       " 'Music',\n",
       " 'mvps.csv',\n",
       " 'My Documents',\n",
       " 'mydatabase.db',\n",
       " 'myfile.txt',\n",
       " 'myfile1802.csv',\n",
       " 'myfriend.csv',\n",
       " 'myfriend_index.csv',\n",
       " 'myimage.png',\n",
       " 'mywrapper.sh',\n",
       " 'NBA Stats Data.ipynb',\n",
       " 'Netflix data .ipynb',\n",
       " 'NetFlix Latest TV show movies.csv',\n",
       " 'Netflix latest TV shows and movies with pandas.ipynb',\n",
       " 'NetflixOriginals.csv',\n",
       " 'netflix_titles.csv',\n",
       " 'NetHood',\n",
       " 'Neural network tuning.ipynb',\n",
       " 'new 1.py',\n",
       " 'New_Data.csv',\n",
       " 'New_Excel.xlsx',\n",
       " 'new_image.jpg',\n",
       " 'new_image_AI.jpeg',\n",
       " 'nicknames.txt',\n",
       " 'NLP Data Import Part 2 - Document Parsing.ipynb',\n",
       " 'NLP Data Import techniques.ipynb',\n",
       " 'NLP practice Session.ipynb',\n",
       " 'NLP-Sentence Tokenization.ipynb',\n",
       " 'NLP.ipynb',\n",
       " 'NLP_basic practice.ipynb',\n",
       " 'Novel COVID 19 Spread Analysis and Forecast.ipynb',\n",
       " 'NTUSER.DAT',\n",
       " 'ntuser.dat.LOG1',\n",
       " 'ntuser.dat.LOG2',\n",
       " 'NTUSER.DAT{53b39e88-18c4-11ea-a811-000d3aa4692b}.TM.blf',\n",
       " 'NTUSER.DAT{53b39e88-18c4-11ea-a811-000d3aa4692b}.TMContainer00000000000000000001.regtrans-ms',\n",
       " 'NTUSER.DAT{53b39e88-18c4-11ea-a811-000d3aa4692b}.TMContainer00000000000000000002.regtrans-ms',\n",
       " 'ntuser.ini',\n",
       " 'Numpy Coding Question.ipynb',\n",
       " 'Numpy Interview question practice.ipynb',\n",
       " 'NumPy Laibrary practice.ipynb',\n",
       " 'Numpy practice session.ipynb',\n",
       " 'Numpy-pandas -seaborn library coding question.ipynb',\n",
       " 'Numpy_Assignment.ipynb',\n",
       " 'Numpy_Coding_Question.ipynb',\n",
       " 'Numpy_Coding_Round.ipynb',\n",
       " 'Numpy_matplotlib_seaborn_tensorflow.ipynb',\n",
       " 'Numpy_Practice1.ipynb',\n",
       " 'OneDrive',\n",
       " 'Orange Telecom Company Churn Prediction Project.ipynb',\n",
       " 'Pandas library practice session.ipynb',\n",
       " 'Pandas_Assignment.ipynb',\n",
       " 'Pandas_Iris_dataset.ipynb',\n",
       " 'pandas_mall_customer_dataset.ipynb',\n",
       " 'Pandas_Numpy_task1.ipynb',\n",
       " 'Pictures',\n",
       " 'pima-indians-diabetes.csv',\n",
       " 'players.csv',\n",
       " 'population_by_country.csv',\n",
       " 'Practice PyPro Day-1.ipynb',\n",
       " 'Practice PyPro Day-10.ipynb',\n",
       " 'Practice PyPro Day-11.ipynb',\n",
       " 'Practice PyPro Day-12.ipynb',\n",
       " 'Practice PyPro day-2.ipynb',\n",
       " 'Practice PyPro Day-3.ipynb',\n",
       " 'Practice PyPro Day-4.ipynb',\n",
       " 'Practice PyPro Day-5.ipynb',\n",
       " 'Practice PyPro Day-6.ipynb',\n",
       " 'Practice PyPro Day-7.ipynb',\n",
       " 'Practice PyPro Day-8.ipynb',\n",
       " 'Practice PyPro Day-9.ipynb',\n",
       " 'prediction.py',\n",
       " 'Prime number.ipynb',\n",
       " 'PrintHood',\n",
       " 'Progress_bar_Coding.ipynb',\n",
       " 'pysprk.ipynb',\n",
       " 'Python Basics Data Types.ipynb',\n",
       " 'Python Basics for DS - Data Types.ipynb',\n",
       " 'Python Important packages for Data Science.ipynb',\n",
       " 'Python pandas library.ipynb',\n",
       " 'Python question solving.ipynb',\n",
       " 'PythonScriptParametrization.py',\n",
       " 'Python_code9.ipynb',\n",
       " 'Python_Coding Practice.ipynb',\n",
       " 'python_coding_task.ipynb',\n",
       " 'Python_function1.ipynb',\n",
       " 'Python_function2.ipynb',\n",
       " 'Python_function3.ipynb',\n",
       " 'Python_function4.ipynb',\n",
       " 'Python_interview.ipynb',\n",
       " 'Python_lambdaFilterMapReduce Function.ipynb',\n",
       " 'Python_practice.ipynb',\n",
       " 'Python_String1.ipynb',\n",
       " 'Python_string2.ipynb',\n",
       " 'Random Forest Estimator.ipynb',\n",
       " 'random() function_coding_question.ipynb',\n",
       " 'Recent',\n",
       " 'result.pickle',\n",
       " 'Revenue Profit of Fortune 500 companies year1955.csv',\n",
       " 'rossum.jpeg',\n",
       " 'sample.txt',\n",
       " 'Saved Games',\n",
       " 'seaborn-data',\n",
       " 'Searches',\n",
       " 'Seasonal Decompose and Adfuller test.ipynb',\n",
       " 'SendTo',\n",
       " 'Sentiment Analysis Using Hybrid Model.ipynb',\n",
       " 'Shop Customer Analysis.csv',\n",
       " 'Shop customer analysis_EDA.ipynb',\n",
       " 'Simple Linear Regression .ipynb',\n",
       " 'SimpleLinear_pickle_file.pkl',\n",
       " 'Simple_Linear_Regression_Assignment.ipynb',\n",
       " 'Simple_Linear_Regression_HW_Dataset.ipynb',\n",
       " 'simple_regression_model.sav',\n",
       " 'Sklearn Library ML.ipynb',\n",
       " 'Slice function in python.ipynb',\n",
       " 'social media visitors.csv',\n",
       " 'Social Title Page.csv',\n",
       " 'social_media.csv',\n",
       " 'SQL_practice.ipynb',\n",
       " 'Standard Analytical Development -2023.ipynb',\n",
       " 'Start Menu',\n",
       " 'Startup success fail  dataset crunchbase.csv',\n",
       " 'Statistics-Mean Median Mode SD .ipynb',\n",
       " 'Statistics_Assignment-1.ipynb',\n",
       " 'Statistics_Basic1.ipynb',\n",
       " 'Statistics_Basic2.ipynb',\n",
       " 'STEPS.PNG',\n",
       " 'Stock Price Prediction Project.ipynb',\n",
       " 'Stock Price prediction using ARIMA -  End to End .ipynb',\n",
       " 'StudentsPerformance.csv',\n",
       " 'Submission.csv',\n",
       " 'Sunflower.jpeg',\n",
       " 'sunil.csv',\n",
       " 'sunilmath.py.ipynb',\n",
       " 'sunilmath_test.py.ipynb',\n",
       " 'Supply Chain Shipment Price_Data Analysis.ipynb',\n",
       " 'Supply chain shipment pricing.csv',\n",
       " 'Supply chain shipment project.ipynb',\n",
       " 'SupplyChainService_Delivery_History.csv',\n",
       " 'SVM algorithm practice.ipynb',\n",
       " 'teams.csv',\n",
       " 'Telco Churn Analysis Project.ipynb',\n",
       " 'Telco Customer Churn.csv',\n",
       " 'Telecom churn Indian and South east asian market project.ipynb',\n",
       " 'telecom-churn_dummies_2.csv',\n",
       " 'TelecomChurn.csv',\n",
       " 'telecom_churn_asian_data.csv',\n",
       " 'Telecom_churn_EDA .ipynb',\n",
       " 'telecom_customer_churn_prediction.ipynb',\n",
       " 'Templates',\n",
       " 'Ternary operator.ipynb',\n",
       " 'Tesla Stock Price (2010 to 2023).csv',\n",
       " 'TeslaStockPrice2010to2023_project.ipynb',\n",
       " 'test1.csv',\n",
       " 'TestData.csv',\n",
       " 'test_linearRegre.csv',\n",
       " 'test_Loan_default_prediction.csv',\n",
       " 'Time Series Forecasting methods - Part 1.ipynb',\n",
       " 'TimeSeries.csv',\n",
       " 'tips.csv',\n",
       " 'Titanic dataset.csv',\n",
       " 'titanic.csv',\n",
       " 'Tracing',\n",
       " 'train.csv',\n",
       " 'train_linearRegre.csv',\n",
       " 'train_Loan_default_prediction.csv',\n",
       " 'Tweets.csv',\n",
       " 'Udacity_course_catlog.csv',\n",
       " 'Understanding Functions.ipynb',\n",
       " 'Understanding Loops.ipynb',\n",
       " 'Untitled.ipynb',\n",
       " 'untitled.txt',\n",
       " 'Untitled1.ipynb',\n",
       " 'Untitled10.ipynb',\n",
       " 'Untitled11.ipynb',\n",
       " 'Untitled12.ipynb',\n",
       " 'Untitled13.ipynb',\n",
       " 'Untitled14.ipynb',\n",
       " 'Untitled15.ipynb',\n",
       " 'Untitled16.ipynb',\n",
       " 'Untitled17.ipynb',\n",
       " 'Untitled18.ipynb',\n",
       " 'Untitled19.ipynb',\n",
       " 'Untitled2.ipynb',\n",
       " 'Untitled20.ipynb',\n",
       " 'Untitled21.ipynb',\n",
       " 'Untitled22.ipynb',\n",
       " 'Untitled23.ipynb',\n",
       " 'Untitled24.ipynb',\n",
       " 'Untitled25.ipynb',\n",
       " 'Untitled26.ipynb',\n",
       " 'Untitled27.ipynb',\n",
       " 'Untitled28.ipynb',\n",
       " 'Untitled3.ipynb',\n",
       " 'Untitled4.ipynb',\n",
       " 'Untitled5.ipynb',\n",
       " 'Untitled6.ipynb',\n",
       " 'Untitled7.ipynb',\n",
       " 'Untitled8.ipynb',\n",
       " 'Untitled9.ipynb',\n",
       " 'videogamesales.csv',\n",
       " 'Videos',\n",
       " 'Weight_height.csv',\n",
       " 'Wine_Quality_Dataset.csv',\n",
       " 'World GDP dataset Pandas.ipynb',\n",
       " 'World GDP Dataset.csv',\n",
       " 'World metro data analysis.ipynb',\n",
       " 'worldwide internet prices in 2022 - IN 2022.csv',\n",
       " 'Worldwide Internet pricess in 2022 dataset.ipynb',\n",
       " 'worldwide internet speed in 2022  - avg speed.csv',\n",
       " 'worldwide internet users - users.csv',\n",
       " 'world_population.csv',\n",
       " 'Write.h5',\n",
       " 'XGBoost Demonstration.ipynb']"
      ]
     },
     "execution_count": 100,
     "metadata": {},
     "output_type": "execute_result"
    }
   ],
   "source": [
    "os.listdir()"
   ]
  },
  {
   "cell_type": "markdown",
   "id": "64c1aa21",
   "metadata": {},
   "source": [
    " For text files\n",
    " --------------\n",
    "1.r- reading <br>\n",
    "2.w- writing   <br>\n",
    "3.a- appending/writing   <br>\n",
    "4.r+ - reading/writing    <br>\n",
    "5.w+ - reading/Writing    <br>\n",
    "6.a+ -reading/appending\n",
    "\n",
    "For Binary Files\n",
    "----------------\n",
    "rb- reading     <br>\n",
    "wb- writing      <br>\n",
    "ab- appending    <br>\n",
    "rb+ -reading& writing   <br>\n",
    "wb+ -reading& writing    <br>\n",
    "ab+ -Appending& Reading"
   ]
  }
 ],
 "metadata": {
  "kernelspec": {
   "display_name": "Python 3 (ipykernel)",
   "language": "python",
   "name": "python3"
  },
  "language_info": {
   "codemirror_mode": {
    "name": "ipython",
    "version": 3
   },
   "file_extension": ".py",
   "mimetype": "text/x-python",
   "name": "python",
   "nbconvert_exporter": "python",
   "pygments_lexer": "ipython3",
   "version": "3.9.12"
  }
 },
 "nbformat": 4,
 "nbformat_minor": 5
}
