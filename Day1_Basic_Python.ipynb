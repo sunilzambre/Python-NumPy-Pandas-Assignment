{
 "cells": [
  {
   "cell_type": "markdown",
   "id": "2eb7efc2",
   "metadata": {},
   "source": [
    "# Day-1: Python Programming Language"
   ]
  },
  {
   "cell_type": "code",
   "execution_count": 1,
   "id": "d33adf7a",
   "metadata": {},
   "outputs": [
    {
     "name": "stdout",
     "output_type": "stream",
     "text": [
      "Hello Sunil\n"
     ]
    }
   ],
   "source": [
    "print(\"Hello Sunil\")"
   ]
  },
  {
   "cell_type": "code",
   "execution_count": 2,
   "id": "1e6ca31a",
   "metadata": {},
   "outputs": [
    {
     "name": "stdout",
     "output_type": "stream",
     "text": [
      "Greetings from Sunil\n",
      "Good Morning\n"
     ]
    }
   ],
   "source": [
    "print(\"Greetings from Sunil\")\n",
    "print(\"Good Morning\")"
   ]
  },
  {
   "cell_type": "code",
   "execution_count": 3,
   "id": "e0c7f588",
   "metadata": {},
   "outputs": [
    {
     "name": "stdout",
     "output_type": "stream",
     "text": [
      "Greetings from Sunil\n",
      "Good Morning\n"
     ]
    }
   ],
   "source": [
    "print('Greetings from Sunil')\n",
    "print('Good Morning')"
   ]
  },
  {
   "cell_type": "code",
   "execution_count": 4,
   "id": "c13d30c0",
   "metadata": {},
   "outputs": [
    {
     "ename": "NameError",
     "evalue": "name 'Print' is not defined",
     "output_type": "error",
     "traceback": [
      "\u001b[1;31m---------------------------------------------------------------------------\u001b[0m",
      "\u001b[1;31mNameError\u001b[0m                                 Traceback (most recent call last)",
      "Input \u001b[1;32mIn [4]\u001b[0m, in \u001b[0;36m<cell line: 1>\u001b[1;34m()\u001b[0m\n\u001b[1;32m----> 1\u001b[0m \u001b[43mPrint\u001b[49m(\u001b[38;5;124m\"\u001b[39m\u001b[38;5;124mGood Morning\u001b[39m\u001b[38;5;124m\"\u001b[39m)\n",
      "\u001b[1;31mNameError\u001b[0m: name 'Print' is not defined"
     ]
    }
   ],
   "source": [
    "Print(\"Good Morning\")"
   ]
  },
  {
   "cell_type": "code",
   "execution_count": 5,
   "id": "7db58e7d",
   "metadata": {},
   "outputs": [
    {
     "ename": "SyntaxError",
     "evalue": "Missing parentheses in call to 'print'. Did you mean print(\"Good Morning\")? (501484024.py, line 1)",
     "output_type": "error",
     "traceback": [
      "\u001b[1;36m  Input \u001b[1;32mIn [5]\u001b[1;36m\u001b[0m\n\u001b[1;33m    print \"Good Morning\"\u001b[0m\n\u001b[1;37m          ^\u001b[0m\n\u001b[1;31mSyntaxError\u001b[0m\u001b[1;31m:\u001b[0m Missing parentheses in call to 'print'. Did you mean print(\"Good Morning\")?\n"
     ]
    }
   ],
   "source": [
    "print \"Good Morning\""
   ]
  },
  {
   "cell_type": "code",
   "execution_count": 6,
   "id": "1407a142",
   "metadata": {},
   "outputs": [
    {
     "ename": "SyntaxError",
     "evalue": "EOL while scanning string literal (1445869143.py, line 1)",
     "output_type": "error",
     "traceback": [
      "\u001b[1;36m  Input \u001b[1;32mIn [6]\u001b[1;36m\u001b[0m\n\u001b[1;33m    print(\"Good\u001b[0m\n\u001b[1;37m                ^\u001b[0m\n\u001b[1;31mSyntaxError\u001b[0m\u001b[1;31m:\u001b[0m EOL while scanning string literal\n"
     ]
    }
   ],
   "source": [
    "print(\"Good \n",
    "      Morning\")"
   ]
  },
  {
   "cell_type": "code",
   "execution_count": 7,
   "id": "048cb014",
   "metadata": {},
   "outputs": [
    {
     "data": {
      "text/plain": [
       "'Good Morning'"
      ]
     },
     "execution_count": 7,
     "metadata": {},
     "output_type": "execute_result"
    }
   ],
   "source": [
    "\"Good Morning\""
   ]
  },
  {
   "cell_type": "code",
   "execution_count": 8,
   "id": "08d4ee0e",
   "metadata": {},
   "outputs": [
    {
     "name": "stdout",
     "output_type": "stream",
     "text": [
      "HI Sunil\n"
     ]
    }
   ],
   "source": [
    "\"Good Morning\"\n",
    "print(\"HI Sunil\")"
   ]
  },
  {
   "cell_type": "code",
   "execution_count": 9,
   "id": "3bcb4db3",
   "metadata": {},
   "outputs": [
    {
     "name": "stdout",
     "output_type": "stream",
     "text": [
      "Good \n",
      "Morning\n"
     ]
    }
   ],
   "source": [
    "print(\"\"\"Good \n",
    "Morning\"\"\")"
   ]
  },
  {
   "cell_type": "code",
   "execution_count": 10,
   "id": "5f484a87",
   "metadata": {},
   "outputs": [
    {
     "name": "stdout",
     "output_type": "stream",
     "text": [
      " Independence Day is celebrated annually on 15 August as a public holiday in India commemorating the nation's independence from the United Kingdom on 15 August 1947, the day when the provisions of the Indian Independence Act, which transferred legislative sovereignty to the Indian Constituent Assembly, came into effect. India retained King George VI as head of state until its transition to a republic, when the Constitution of India came into effect on 26 January 1950 (celebrated as Indian Republic Day) and replaced the dominion prefix, Dominion of India, with the enactment of the sovereign law Constitution of India. India attained independence following the independence movement noted for largely non-violent resistance and civil disobedience.\n",
      "\n",
      "Independence coincided with the partition of India, in which British India was divided along religious lines into the Dominions of India and Pakistan; the partition was accompanied by violent riots and mass casualties, and the displacement of nearly 15 million people due to religious violence. On 15 August 1947, the first Prime Minister of India, Jawaharlal Nehru raised the Indian national flag above the Lahori Gate of the Red Fort in Delhi. On each subsequent Independence Day, the incumbent Prime Minister customarily raises the flag and gives an address to the nation.[1] The entire event is broadcast by Doordarshan, India's national broadcaster, and usually begins with the shehnai music of Ustad Bismillah Khan. Independence Day is observed throughout India with flag-hoisting ceremonies, parades and cultural events. It is a national holiday.\n"
     ]
    }
   ],
   "source": [
    "print(\"\"\" Independence Day is celebrated annually on 15 August as a public holiday in India commemorating the nation's independence from the United Kingdom on 15 August 1947, the day when the provisions of the Indian Independence Act, which transferred legislative sovereignty to the Indian Constituent Assembly, came into effect. India retained King George VI as head of state until its transition to a republic, when the Constitution of India came into effect on 26 January 1950 (celebrated as Indian Republic Day) and replaced the dominion prefix, Dominion of India, with the enactment of the sovereign law Constitution of India. India attained independence following the independence movement noted for largely non-violent resistance and civil disobedience.\n",
    "\n",
    "Independence coincided with the partition of India, in which British India was divided along religious lines into the Dominions of India and Pakistan; the partition was accompanied by violent riots and mass casualties, and the displacement of nearly 15 million people due to religious violence. On 15 August 1947, the first Prime Minister of India, Jawaharlal Nehru raised the Indian national flag above the Lahori Gate of the Red Fort in Delhi. On each subsequent Independence Day, the incumbent Prime Minister customarily raises the flag and gives an address to the nation.[1] The entire event is broadcast by Doordarshan, India's national broadcaster, and usually begins with the shehnai music of Ustad Bismillah Khan. Independence Day is observed throughout India with flag-hoisting ceremonies, parades and cultural events. It is a national holiday.\"\"\")"
   ]
  },
  {
   "cell_type": "code",
   "execution_count": 11,
   "id": "c2fbf0ad",
   "metadata": {},
   "outputs": [
    {
     "name": "stdout",
     "output_type": "stream",
     "text": [
      "Good\n",
      "Morning \n",
      "from\n",
      "to all\n",
      "peoples \n",
      "on \n",
      "planet\n",
      "\n"
     ]
    }
   ],
   "source": [
    "print(\"\"\"Good\n",
    "Morning \n",
    "from\n",
    "to all\n",
    "peoples \n",
    "on \n",
    "planet\n",
    "\"\"\")"
   ]
  },
  {
   "cell_type": "markdown",
   "id": "19ed06bb",
   "metadata": {},
   "source": [
    "## Comments"
   ]
  },
  {
   "cell_type": "code",
   "execution_count": 12,
   "id": "93231f71",
   "metadata": {},
   "outputs": [],
   "source": [
    "#Say hello to everybody\n",
    "#print(\"Hi Sunil\")"
   ]
  },
  {
   "cell_type": "code",
   "execution_count": 13,
   "id": "5899c4dd",
   "metadata": {},
   "outputs": [
    {
     "name": "stdout",
     "output_type": "stream",
     "text": [
      "Hi Sunil\n"
     ]
    }
   ],
   "source": [
    "#Say hello to everybody\n",
    "print(\"Hi Sunil\")"
   ]
  },
  {
   "cell_type": "markdown",
   "id": "66e94c06",
   "metadata": {},
   "source": [
    "# Multiline comments"
   ]
  },
  {
   "cell_type": "code",
   "execution_count": 14,
   "id": "77ef2933",
   "metadata": {},
   "outputs": [
    {
     "name": "stdout",
     "output_type": "stream",
     "text": [
      "Hi Sunil\n"
     ]
    }
   ],
   "source": [
    "\"\"\"\n",
    "Hello everyone python is easy language\n",
    "\n",
    "\"\"\"\n",
    "print(\"Hi Sunil\")"
   ]
  },
  {
   "cell_type": "code",
   "execution_count": 15,
   "id": "6d3c958a",
   "metadata": {},
   "outputs": [
    {
     "ename": "SyntaxError",
     "evalue": "invalid syntax (1461339017.py, line 2)",
     "output_type": "error",
     "traceback": [
      "\u001b[1;36m  Input \u001b[1;32mIn [15]\u001b[1;36m\u001b[0m\n\u001b[1;33m    print(\"Hi my name is \"Sunil\" \")\u001b[0m\n\u001b[1;37m                          ^\u001b[0m\n\u001b[1;31mSyntaxError\u001b[0m\u001b[1;31m:\u001b[0m invalid syntax\n"
     ]
    }
   ],
   "source": [
    "#more exceptional cases in print statement\n",
    "print(\"Hi my name is \"Sunil\" \")"
   ]
  },
  {
   "cell_type": "code",
   "execution_count": 16,
   "id": "29ea7269",
   "metadata": {},
   "outputs": [
    {
     "name": "stdout",
     "output_type": "stream",
     "text": [
      "My name is 'sunil' \n"
     ]
    }
   ],
   "source": [
    "print(\"My name is \\'sunil\\' \")"
   ]
  },
  {
   "cell_type": "code",
   "execution_count": 17,
   "id": "61f67d80",
   "metadata": {},
   "outputs": [
    {
     "name": "stdout",
     "output_type": "stream",
     "text": [
      "My name is \"sunil\" \n"
     ]
    }
   ],
   "source": [
    "print('My name is \"sunil\" ')"
   ]
  },
  {
   "cell_type": "code",
   "execution_count": 18,
   "id": "cefe5a03",
   "metadata": {},
   "outputs": [
    {
     "name": "stdout",
     "output_type": "stream",
     "text": [
      "My name is 'sunil' \n"
     ]
    }
   ],
   "source": [
    "print(\"My name is 'sunil' \")"
   ]
  },
  {
   "cell_type": "code",
   "execution_count": 19,
   "id": "cc55d7a5",
   "metadata": {},
   "outputs": [
    {
     "name": "stdout",
     "output_type": "stream",
     "text": [
      "Hi my name is \"sunil\"!!\n"
     ]
    }
   ],
   "source": [
    "print(\"\"\"Hi my name is \"sunil\"!!\"\"\" )"
   ]
  },
  {
   "cell_type": "markdown",
   "id": "93385da5",
   "metadata": {},
   "source": [
    "## Example to Run program in jupyter notebook use shortcut press [Shift + Enter]"
   ]
  },
  {
   "cell_type": "code",
   "execution_count": 20,
   "id": "b3fcd3f8",
   "metadata": {},
   "outputs": [
    {
     "data": {
      "text/plain": [
       "579"
      ]
     },
     "execution_count": 20,
     "metadata": {},
     "output_type": "execute_result"
    }
   ],
   "source": [
    "123 + 456 #Sum of two numbers"
   ]
  },
  {
   "cell_type": "code",
   "execution_count": 21,
   "id": "156d6791",
   "metadata": {},
   "outputs": [
    {
     "data": {
      "text/plain": [
       "56088"
      ]
     },
     "execution_count": 21,
     "metadata": {},
     "output_type": "execute_result"
    }
   ],
   "source": [
    "123 * 456"
   ]
  },
  {
   "cell_type": "code",
   "execution_count": 22,
   "id": "99885c8f",
   "metadata": {},
   "outputs": [
    {
     "data": {
      "text/plain": [
       "0.26973684210526316"
      ]
     },
     "execution_count": 22,
     "metadata": {},
     "output_type": "execute_result"
    }
   ],
   "source": [
    "123 / 456"
   ]
  },
  {
   "cell_type": "code",
   "execution_count": 23,
   "id": "fb157d71",
   "metadata": {},
   "outputs": [
    {
     "data": {
      "text/plain": [
       "15129"
      ]
     },
     "execution_count": 23,
     "metadata": {},
     "output_type": "execute_result"
    }
   ],
   "source": [
    "123 ** 2  #power of 123 raised to 2"
   ]
  },
  {
   "cell_type": "code",
   "execution_count": 24,
   "id": "39861db8",
   "metadata": {},
   "outputs": [
    {
     "data": {
      "text/plain": [
       "1"
      ]
     },
     "execution_count": 24,
     "metadata": {},
     "output_type": "execute_result"
    }
   ],
   "source": [
    "123 % 2 #modulo operator which gives you remainder "
   ]
  },
  {
   "cell_type": "code",
   "execution_count": 25,
   "id": "eb77f363",
   "metadata": {},
   "outputs": [
    {
     "data": {
      "text/plain": [
       "0"
      ]
     },
     "execution_count": 25,
     "metadata": {},
     "output_type": "execute_result"
    }
   ],
   "source": [
    "12 % 12 "
   ]
  },
  {
   "cell_type": "code",
   "execution_count": 26,
   "id": "3f413352",
   "metadata": {},
   "outputs": [
    {
     "data": {
      "text/plain": [
       "0"
      ]
     },
     "execution_count": 26,
     "metadata": {},
     "output_type": "execute_result"
    }
   ],
   "source": [
    "15 % 3"
   ]
  },
  {
   "cell_type": "code",
   "execution_count": 27,
   "id": "dc53e7aa",
   "metadata": {},
   "outputs": [
    {
     "data": {
      "text/plain": [
       "1"
      ]
     },
     "execution_count": 27,
     "metadata": {},
     "output_type": "execute_result"
    }
   ],
   "source": [
    "3 % 2"
   ]
  },
  {
   "cell_type": "code",
   "execution_count": 28,
   "id": "d29a5cdd",
   "metadata": {},
   "outputs": [
    {
     "name": "stdout",
     "output_type": "stream",
     "text": [
      "Result\n"
     ]
    }
   ],
   "source": [
    "123 * 456\n",
    "print(\"Result\")"
   ]
  },
  {
   "cell_type": "code",
   "execution_count": 29,
   "id": "6c9e0b83",
   "metadata": {},
   "outputs": [
    {
     "name": "stdout",
     "output_type": "stream",
     "text": [
      "56088\n",
      "Result\n"
     ]
    }
   ],
   "source": [
    "print(123 * 456)\n",
    "print(\"Result\")"
   ]
  },
  {
   "cell_type": "code",
   "execution_count": 30,
   "id": "5799a0fb",
   "metadata": {},
   "outputs": [
    {
     "name": "stdout",
     "output_type": "stream",
     "text": [
      "123 * 456 \n",
      "Result\n"
     ]
    }
   ],
   "source": [
    "print(\"123 * 456 \")\n",
    "print(\"Result\")"
   ]
  },
  {
   "cell_type": "markdown",
   "id": "b1f69bea",
   "metadata": {},
   "source": [
    "# Variables in python"
   ]
  },
  {
   "cell_type": "markdown",
   "id": "4a9af743",
   "metadata": {},
   "source": [
    "## Variables in python"
   ]
  },
  {
   "cell_type": "markdown",
   "id": "84e6ff34",
   "metadata": {},
   "source": [
    "### Variables in python"
   ]
  },
  {
   "cell_type": "markdown",
   "id": "05dff3e3",
   "metadata": {},
   "source": [
    "#### Variables in python"
   ]
  },
  {
   "cell_type": "markdown",
   "id": "95100161",
   "metadata": {},
   "source": [
    "##### Variables in python"
   ]
  },
  {
   "cell_type": "markdown",
   "id": "5d3cf44e",
   "metadata": {},
   "source": [
    "# Variables in python"
   ]
  },
  {
   "cell_type": "code",
   "execution_count": 31,
   "id": "a707a714",
   "metadata": {},
   "outputs": [
    {
     "name": "stdout",
     "output_type": "stream",
     "text": [
      "100\n"
     ]
    }
   ],
   "source": [
    "x = 100\n",
    "print(x)"
   ]
  },
  {
   "cell_type": "code",
   "execution_count": 32,
   "id": "7adf1fab",
   "metadata": {},
   "outputs": [
    {
     "name": "stdout",
     "output_type": "stream",
     "text": [
      "200\n"
     ]
    }
   ],
   "source": [
    "y = 200\n",
    "print(200)"
   ]
  },
  {
   "cell_type": "code",
   "execution_count": 33,
   "id": "da9f6dde",
   "metadata": {},
   "outputs": [
    {
     "name": "stdout",
     "output_type": "stream",
     "text": [
      "300\n"
     ]
    }
   ],
   "source": [
    "print(x + y)"
   ]
  },
  {
   "cell_type": "code",
   "execution_count": 34,
   "id": "925f000f",
   "metadata": {},
   "outputs": [
    {
     "name": "stdout",
     "output_type": "stream",
     "text": [
      "20000\n",
      "0.5\n"
     ]
    }
   ],
   "source": [
    "print(x * y)\n",
    "print(x / y)"
   ]
  },
  {
   "cell_type": "markdown",
   "id": "e4f439bc",
   "metadata": {},
   "source": [
    "1.Variable name should be starts with alphabets"
   ]
  },
  {
   "cell_type": "code",
   "execution_count": 35,
   "id": "84f85e9e",
   "metadata": {},
   "outputs": [],
   "source": [
    "seven = 7\n",
    "seven_number = 7\n",
    "sevenNumber = 7"
   ]
  },
  {
   "cell_type": "markdown",
   "id": "b775d5f6",
   "metadata": {},
   "source": [
    "2. Variable names should not contain any special characters like ^ % $ ! @ # ^ & * ( )"
   ]
  },
  {
   "cell_type": "code",
   "execution_count": 36,
   "id": "168a68a8",
   "metadata": {},
   "outputs": [
    {
     "ename": "SyntaxError",
     "evalue": "invalid syntax (4028414183.py, line 1)",
     "output_type": "error",
     "traceback": [
      "\u001b[1;36m  Input \u001b[1;32mIn [36]\u001b[1;36m\u001b[0m\n\u001b[1;33m    seven* = 7\u001b[0m\n\u001b[1;37m           ^\u001b[0m\n\u001b[1;31mSyntaxError\u001b[0m\u001b[1;31m:\u001b[0m invalid syntax\n"
     ]
    }
   ],
   "source": [
    "seven* = 7"
   ]
  },
  {
   "cell_type": "code",
   "execution_count": 37,
   "id": "3bbfb31e",
   "metadata": {},
   "outputs": [
    {
     "ename": "SyntaxError",
     "evalue": "cannot assign to operator (3088463594.py, line 1)",
     "output_type": "error",
     "traceback": [
      "\u001b[1;36m  Input \u001b[1;32mIn [37]\u001b[1;36m\u001b[0m\n\u001b[1;33m    seven % number = 7\u001b[0m\n\u001b[1;37m    ^\u001b[0m\n\u001b[1;31mSyntaxError\u001b[0m\u001b[1;31m:\u001b[0m cannot assign to operator\n"
     ]
    }
   ],
   "source": [
    "seven % number = 7"
   ]
  },
  {
   "cell_type": "code",
   "execution_count": 38,
   "id": "716c6338",
   "metadata": {},
   "outputs": [
    {
     "ename": "SyntaxError",
     "evalue": "cannot assign to operator (1471231486.py, line 3)",
     "output_type": "error",
     "traceback": [
      "\u001b[1;36m  Input \u001b[1;32mIn [38]\u001b[1;36m\u001b[0m\n\u001b[1;33m    six%number = 6\u001b[0m\n\u001b[1;37m    ^\u001b[0m\n\u001b[1;31mSyntaxError\u001b[0m\u001b[1;31m:\u001b[0m cannot assign to operator\n"
     ]
    }
   ],
   "source": [
    "six = 6\n",
    "six_number = 6\n",
    "six%number = 6\n",
    "sixNumber = 6"
   ]
  },
  {
   "cell_type": "code",
   "execution_count": 39,
   "id": "13eceec8",
   "metadata": {},
   "outputs": [
    {
     "ename": "SyntaxError",
     "evalue": "cannot assign to operator (2004592706.py, line 3)",
     "output_type": "error",
     "traceback": [
      "\u001b[1;36m  Input \u001b[1;32mIn [39]\u001b[1;36m\u001b[0m\n\u001b[1;33m    six/number = 6\u001b[0m\n\u001b[1;37m    ^\u001b[0m\n\u001b[1;31mSyntaxError\u001b[0m\u001b[1;31m:\u001b[0m cannot assign to operator\n"
     ]
    }
   ],
   "source": [
    "six = 6\n",
    "six_number = 6\n",
    "six/number = 6\n",
    "sixNumber = 6"
   ]
  },
  {
   "cell_type": "markdown",
   "id": "81c184dc",
   "metadata": {},
   "source": [
    "3.Variable names can contain numbers but you can't start with numbers."
   ]
  },
  {
   "cell_type": "code",
   "execution_count": 40,
   "id": "b56aa627",
   "metadata": {},
   "outputs": [],
   "source": [
    "ten10 = 10"
   ]
  },
  {
   "cell_type": "code",
   "execution_count": 41,
   "id": "e972c5f5",
   "metadata": {},
   "outputs": [
    {
     "ename": "SyntaxError",
     "evalue": "invalid syntax (3011706180.py, line 1)",
     "output_type": "error",
     "traceback": [
      "\u001b[1;36m  Input \u001b[1;32mIn [41]\u001b[1;36m\u001b[0m\n\u001b[1;33m    10ten = 10\u001b[0m\n\u001b[1;37m      ^\u001b[0m\n\u001b[1;31mSyntaxError\u001b[0m\u001b[1;31m:\u001b[0m invalid syntax\n"
     ]
    }
   ],
   "source": [
    "10ten = 10"
   ]
  },
  {
   "cell_type": "code",
   "execution_count": 42,
   "id": "ad17f46c",
   "metadata": {},
   "outputs": [],
   "source": [
    "__num = 100 #hidden variable"
   ]
  },
  {
   "cell_type": "markdown",
   "id": "ab6719a4",
   "metadata": {},
   "source": [
    "4. Its not a strict rule that you should variable names with a Captial letter. But its recommended to use small letters for the variables"
   ]
  },
  {
   "cell_type": "code",
   "execution_count": 43,
   "id": "da4fe1d2",
   "metadata": {},
   "outputs": [],
   "source": [
    "Ten = 10"
   ]
  },
  {
   "cell_type": "code",
   "execution_count": 44,
   "id": "289fbdec",
   "metadata": {},
   "outputs": [
    {
     "ename": "SyntaxError",
     "evalue": "invalid syntax (2602638772.py, line 1)",
     "output_type": "error",
     "traceback": [
      "\u001b[1;36m  Input \u001b[1;32mIn [44]\u001b[1;36m\u001b[0m\n\u001b[1;33m    ten number = 10\u001b[0m\n\u001b[1;37m        ^\u001b[0m\n\u001b[1;31mSyntaxError\u001b[0m\u001b[1;31m:\u001b[0m invalid syntax\n"
     ]
    }
   ],
   "source": [
    "ten number = 10 "
   ]
  },
  {
   "cell_type": "code",
   "execution_count": 45,
   "id": "0de16a95",
   "metadata": {},
   "outputs": [],
   "source": [
    "ten_number = 10"
   ]
  },
  {
   "cell_type": "code",
   "execution_count": 46,
   "id": "21e1feaf",
   "metadata": {},
   "outputs": [],
   "source": [
    "_ = 10 #dummy variable"
   ]
  },
  {
   "cell_type": "markdown",
   "id": "d06719c7",
   "metadata": {},
   "source": [
    "# Fundamental data types"
   ]
  },
  {
   "cell_type": "markdown",
   "id": "78695993",
   "metadata": {},
   "source": [
    "### 1. integer or int"
   ]
  },
  {
   "cell_type": "code",
   "execution_count": 47,
   "id": "a388fa34",
   "metadata": {},
   "outputs": [],
   "source": [
    "a = 7"
   ]
  },
  {
   "cell_type": "code",
   "execution_count": 48,
   "id": "b8e0ca91",
   "metadata": {},
   "outputs": [
    {
     "data": {
      "text/plain": [
       "int"
      ]
     },
     "execution_count": 48,
     "metadata": {},
     "output_type": "execute_result"
    }
   ],
   "source": [
    "type(a)"
   ]
  },
  {
   "cell_type": "code",
   "execution_count": 49,
   "id": "aa983f4e",
   "metadata": {},
   "outputs": [
    {
     "data": {
      "text/plain": [
       "int"
      ]
     },
     "execution_count": 49,
     "metadata": {},
     "output_type": "execute_result"
    }
   ],
   "source": [
    "b = 99999\n",
    "type(b)"
   ]
  },
  {
   "cell_type": "markdown",
   "id": "078faf4f",
   "metadata": {},
   "source": [
    "### 2.float - numbers containing decimal numbers"
   ]
  },
  {
   "cell_type": "code",
   "execution_count": 50,
   "id": "5c0f4b77",
   "metadata": {},
   "outputs": [],
   "source": [
    "pi = 3.14"
   ]
  },
  {
   "cell_type": "code",
   "execution_count": 51,
   "id": "a81b64ae",
   "metadata": {},
   "outputs": [
    {
     "data": {
      "text/plain": [
       "float"
      ]
     },
     "execution_count": 51,
     "metadata": {},
     "output_type": "execute_result"
    }
   ],
   "source": [
    "type(pi)"
   ]
  },
  {
   "cell_type": "code",
   "execution_count": 52,
   "id": "1efa987a",
   "metadata": {},
   "outputs": [],
   "source": [
    "pi = 22 / 7"
   ]
  },
  {
   "cell_type": "code",
   "execution_count": 53,
   "id": "89d99c26",
   "metadata": {},
   "outputs": [
    {
     "data": {
      "text/plain": [
       "3.142857142857143"
      ]
     },
     "execution_count": 53,
     "metadata": {},
     "output_type": "execute_result"
    }
   ],
   "source": [
    "pi"
   ]
  },
  {
   "cell_type": "code",
   "execution_count": 54,
   "id": "653c5a74",
   "metadata": {},
   "outputs": [
    {
     "data": {
      "text/plain": [
       "float"
      ]
     },
     "execution_count": 54,
     "metadata": {},
     "output_type": "execute_result"
    }
   ],
   "source": [
    "x = 4.0\n",
    "type(x)"
   ]
  },
  {
   "cell_type": "markdown",
   "id": "1272f939",
   "metadata": {},
   "source": [
    "### 3. complex numbers"
   ]
  },
  {
   "cell_type": "code",
   "execution_count": 55,
   "id": "d86f394e",
   "metadata": {},
   "outputs": [
    {
     "data": {
      "text/plain": [
       "(3+7j)"
      ]
     },
     "execution_count": 55,
     "metadata": {},
     "output_type": "execute_result"
    }
   ],
   "source": [
    "a = 3 + 7j\n",
    "a"
   ]
  },
  {
   "cell_type": "code",
   "execution_count": 56,
   "id": "ce8f4dee",
   "metadata": {},
   "outputs": [
    {
     "data": {
      "text/plain": [
       "complex"
      ]
     },
     "execution_count": 56,
     "metadata": {},
     "output_type": "execute_result"
    }
   ],
   "source": [
    "type(a)"
   ]
  },
  {
   "cell_type": "code",
   "execution_count": 57,
   "id": "cbab40d0",
   "metadata": {},
   "outputs": [
    {
     "data": {
      "text/plain": [
       "3.0"
      ]
     },
     "execution_count": 57,
     "metadata": {},
     "output_type": "execute_result"
    }
   ],
   "source": [
    "a.real"
   ]
  },
  {
   "cell_type": "code",
   "execution_count": 58,
   "id": "097b14a3",
   "metadata": {},
   "outputs": [
    {
     "data": {
      "text/plain": [
       "7.0"
      ]
     },
     "execution_count": 58,
     "metadata": {},
     "output_type": "execute_result"
    }
   ],
   "source": [
    "a.imag"
   ]
  },
  {
   "cell_type": "markdown",
   "id": "f54155cb",
   "metadata": {},
   "source": [
    "### 4. Dynamic typing"
   ]
  },
  {
   "cell_type": "code",
   "execution_count": 59,
   "id": "7e9b15d7",
   "metadata": {},
   "outputs": [
    {
     "data": {
      "text/plain": [
       "float"
      ]
     },
     "execution_count": 59,
     "metadata": {},
     "output_type": "execute_result"
    }
   ],
   "source": [
    "a = 27\n",
    "type(a)\n",
    "a = 27.2\n",
    "type(a)"
   ]
  },
  {
   "cell_type": "code",
   "execution_count": 60,
   "id": "2c811579",
   "metadata": {},
   "outputs": [
    {
     "name": "stdout",
     "output_type": "stream",
     "text": [
      "<class 'int'>\n",
      "<class 'float'>\n",
      "<class 'str'>\n",
      "<class 'str'>\n"
     ]
    }
   ],
   "source": [
    "a = 23\n",
    "print(type(a))\n",
    "a = 23.2\n",
    "print(type(a))\n",
    "a = \"Sunil\" \n",
    "print(type(a))\n",
    "a = 'Sunil' \n",
    "print(type(a))"
   ]
  },
  {
   "cell_type": "code",
   "execution_count": 61,
   "id": "63283f1f",
   "metadata": {},
   "outputs": [
    {
     "name": "stdout",
     "output_type": "stream",
     "text": [
      "Sunil\n"
     ]
    }
   ],
   "source": [
    "print(a)"
   ]
  },
  {
   "cell_type": "code",
   "execution_count": 62,
   "id": "40c0419d",
   "metadata": {},
   "outputs": [
    {
     "name": "stdout",
     "output_type": "stream",
     "text": [
      "<class 'int'>\n",
      "<class 'float'>\n",
      "<class 'str'>\n"
     ]
    }
   ],
   "source": [
    "a = 24\n",
    "print(type(a))\n",
    "a = 24.2\n",
    "print(type(a))\n",
    "a = \"24.2\" \n",
    "print(type(a))"
   ]
  },
  {
   "cell_type": "code",
   "execution_count": 63,
   "id": "8afffacc",
   "metadata": {},
   "outputs": [
    {
     "ename": "TypeError",
     "evalue": "can only concatenate str (not \"int\") to str",
     "output_type": "error",
     "traceback": [
      "\u001b[1;31m---------------------------------------------------------------------------\u001b[0m",
      "\u001b[1;31mTypeError\u001b[0m                                 Traceback (most recent call last)",
      "Input \u001b[1;32mIn [63]\u001b[0m, in \u001b[0;36m<cell line: 1>\u001b[1;34m()\u001b[0m\n\u001b[1;32m----> 1\u001b[0m \u001b[38;5;124;43m\"\u001b[39;49m\u001b[38;5;124;43mDay \u001b[39;49m\u001b[38;5;124;43m\"\u001b[39;49m\u001b[43m \u001b[49m\u001b[38;5;241;43m+\u001b[39;49m\u001b[43m \u001b[49m\u001b[38;5;241;43m1\u001b[39;49m\n",
      "\u001b[1;31mTypeError\u001b[0m: can only concatenate str (not \"int\") to str"
     ]
    }
   ],
   "source": [
    "\"Day \" + 1"
   ]
  },
  {
   "cell_type": "code",
   "execution_count": 64,
   "id": "53a59594",
   "metadata": {},
   "outputs": [
    {
     "data": {
      "text/plain": [
       "24.5"
      ]
     },
     "execution_count": 64,
     "metadata": {},
     "output_type": "execute_result"
    }
   ],
   "source": [
    "23.5 + 1"
   ]
  },
  {
   "cell_type": "code",
   "execution_count": 65,
   "id": "ab716aee",
   "metadata": {},
   "outputs": [
    {
     "data": {
      "text/plain": [
       "'Day 1'"
      ]
     },
     "execution_count": 65,
     "metadata": {},
     "output_type": "execute_result"
    }
   ],
   "source": [
    "\"Day \" + \"1\""
   ]
  },
  {
   "cell_type": "code",
   "execution_count": 66,
   "id": "95322561",
   "metadata": {},
   "outputs": [
    {
     "data": {
      "text/plain": [
       "47"
      ]
     },
     "execution_count": 66,
     "metadata": {},
     "output_type": "execute_result"
    }
   ],
   "source": [
    "23 + 24"
   ]
  },
  {
   "cell_type": "code",
   "execution_count": 67,
   "id": "c1565f95",
   "metadata": {},
   "outputs": [
    {
     "data": {
      "text/plain": [
       "'2324'"
      ]
     },
     "execution_count": 67,
     "metadata": {},
     "output_type": "execute_result"
    }
   ],
   "source": [
    "\"23\" + \"24\""
   ]
  },
  {
   "cell_type": "code",
   "execution_count": 68,
   "id": "34841892",
   "metadata": {},
   "outputs": [
    {
     "ename": "TypeError",
     "evalue": "can only concatenate str (not \"int\") to str",
     "output_type": "error",
     "traceback": [
      "\u001b[1;31m---------------------------------------------------------------------------\u001b[0m",
      "\u001b[1;31mTypeError\u001b[0m                                 Traceback (most recent call last)",
      "Input \u001b[1;32mIn [68]\u001b[0m, in \u001b[0;36m<cell line: 1>\u001b[1;34m()\u001b[0m\n\u001b[1;32m----> 1\u001b[0m \u001b[38;5;124;43m\"\u001b[39;49m\u001b[38;5;124;43m23\u001b[39;49m\u001b[38;5;124;43m\"\u001b[39;49m\u001b[43m \u001b[49m\u001b[38;5;241;43m+\u001b[39;49m\u001b[43m \u001b[49m\u001b[38;5;241;43m24\u001b[39;49m\n",
      "\u001b[1;31mTypeError\u001b[0m: can only concatenate str (not \"int\") to str"
     ]
    }
   ],
   "source": [
    "\"23\" + 24"
   ]
  },
  {
   "cell_type": "code",
   "execution_count": 69,
   "id": "fc2951d7",
   "metadata": {},
   "outputs": [
    {
     "data": {
      "text/plain": [
       "'2324'"
      ]
     },
     "execution_count": 69,
     "metadata": {},
     "output_type": "execute_result"
    }
   ],
   "source": [
    "'23' + \"24\""
   ]
  },
  {
   "cell_type": "code",
   "execution_count": 70,
   "id": "f330a5c4",
   "metadata": {},
   "outputs": [
    {
     "data": {
      "text/plain": [
       "'SunilZambare'"
      ]
     },
     "execution_count": 70,
     "metadata": {},
     "output_type": "execute_result"
    }
   ],
   "source": [
    "\"Sunil\" + \"Zambare\""
   ]
  },
  {
   "cell_type": "code",
   "execution_count": 71,
   "id": "b8cd6fa8",
   "metadata": {},
   "outputs": [
    {
     "data": {
      "text/plain": [
       "'Sunil Zambare'"
      ]
     },
     "execution_count": 71,
     "metadata": {},
     "output_type": "execute_result"
    }
   ],
   "source": [
    "\"Sunil \" + \"Zambare\""
   ]
  },
  {
   "cell_type": "code",
   "execution_count": 72,
   "id": "ddfba0cf",
   "metadata": {},
   "outputs": [],
   "source": [
    "a = 1 # int data type\n",
    "b = 1.2 # float data type\n",
    "c = \"Sunil\" # string data type \n",
    "f = 1 + 2j # complex data type # rarely used"
   ]
  },
  {
   "cell_type": "code",
   "execution_count": 73,
   "id": "f2808eeb",
   "metadata": {},
   "outputs": [
    {
     "name": "stdout",
     "output_type": "stream",
     "text": [
      "Learning is never ending process...!\n"
     ]
    }
   ],
   "source": [
    "print(\"Learning is never ending process...!\")"
   ]
  },
  {
   "cell_type": "code",
   "execution_count": 74,
   "id": "e5ec1684",
   "metadata": {},
   "outputs": [
    {
     "name": "stdout",
     "output_type": "stream",
     "text": [
      "i'm very happy beacuse python is very easy language\n"
     ]
    }
   ],
   "source": [
    "print(\"i'm very happy beacuse python is very easy language\")"
   ]
  },
  {
   "cell_type": "code",
   "execution_count": 75,
   "id": "8f15bc03",
   "metadata": {},
   "outputs": [
    {
     "name": "stdout",
     "output_type": "stream",
     "text": [
      "Today i learn basic of python language\n"
     ]
    }
   ],
   "source": [
    "language = \"python\"\n",
    "print(\"Today i learn basic of \" + language + \" language\" ) ## allowed but rarely used"
   ]
  },
  {
   "cell_type": "code",
   "execution_count": 76,
   "id": "ec6c1327",
   "metadata": {},
   "outputs": [
    {
     "name": "stdout",
     "output_type": "stream",
     "text": [
      "Today i learn basic concept of Python language\n"
     ]
    }
   ],
   "source": [
    "# f -> formatted string method\n",
    "language = \"Python\"\n",
    "print(f\"Today i learn basic concept of {language} language\") # current standard approach used in python"
   ]
  },
  {
   "cell_type": "code",
   "execution_count": 77,
   "id": "b9c8ee58",
   "metadata": {},
   "outputs": [
    {
     "name": "stdout",
     "output_type": "stream",
     "text": [
      "Today i learn basic concept of Python language\n"
     ]
    }
   ],
   "source": [
    "language = \"Python\"\n",
    "print(\"Today i learn basic concept of {} language\".format(language)) # old way"
   ]
  },
  {
   "cell_type": "code",
   "execution_count": 78,
   "id": "fb7bac44",
   "metadata": {},
   "outputs": [
    {
     "name": "stdout",
     "output_type": "stream",
     "text": [
      "Today i learn basic concept of programming {language}\n"
     ]
    }
   ],
   "source": [
    "language = \"Python\"\n",
    "print(\"Today i learn basic concept of programming {language}\")"
   ]
  },
  {
   "cell_type": "code",
   "execution_count": 79,
   "id": "0370dc98",
   "metadata": {},
   "outputs": [
    {
     "name": "stdout",
     "output_type": "stream",
     "text": [
      "Today is the first Day of Learning Python language\n"
     ]
    }
   ],
   "source": [
    "# f -> formatted string method\n",
    "num = \"first\"\n",
    "language = \"Python\"\n",
    "print(f\"Today is the {num} Day of Learning {language} language\") # current standard approach used in python"
   ]
  },
  {
   "cell_type": "code",
   "execution_count": 80,
   "id": "046e2550",
   "metadata": {},
   "outputs": [
    {
     "name": "stdout",
     "output_type": "stream",
     "text": [
      "Today is the first Day of Learning Python language\n"
     ]
    }
   ],
   "source": [
    "num = \"first\"\n",
    "language = \"Python\"\n",
    "print(\"Today is the {} Day of Learning {} language\".format(num, language))"
   ]
  },
  {
   "cell_type": "code",
   "execution_count": 81,
   "id": "733695d5",
   "metadata": {},
   "outputs": [
    {
     "name": "stdout",
     "output_type": "stream",
     "text": [
      "Today is the first Day of Learning Python language\n"
     ]
    }
   ],
   "source": [
    "num = \"first\"\n",
    "language = \"Python\"\n",
    "print(\"Today is the \"+num+\" Day of Learning \"+language+\" language\")"
   ]
  },
  {
   "cell_type": "code",
   "execution_count": 82,
   "id": "45ecc306",
   "metadata": {},
   "outputs": [
    {
     "name": "stdout",
     "output_type": "stream",
     "text": [
      "the result sum of two nums a: 200 and b: 400 is =600\n"
     ]
    }
   ],
   "source": [
    "a = 200\n",
    "b = 400\n",
    "c = a + b\n",
    "print(f\"the result sum of two nums a: {a} and b: {b} is ={c}\")"
   ]
  },
  {
   "cell_type": "markdown",
   "id": "b758a33e",
   "metadata": {},
   "source": [
    "### 5.Boolean ---->True False"
   ]
  },
  {
   "cell_type": "code",
   "execution_count": 83,
   "id": "2e204404",
   "metadata": {},
   "outputs": [
    {
     "name": "stdout",
     "output_type": "stream",
     "text": [
      "<class 'bool'>\n",
      "<class 'bool'>\n"
     ]
    }
   ],
   "source": [
    "one = True\n",
    "two = False\n",
    "\n",
    "print(type(one))\n",
    "print(type(two))"
   ]
  },
  {
   "cell_type": "code",
   "execution_count": 84,
   "id": "3cfb7631",
   "metadata": {},
   "outputs": [
    {
     "name": "stdout",
     "output_type": "stream",
     "text": [
      "Sunil You understood everything?: False\n"
     ]
    }
   ],
   "source": [
    "study_python_at = 1 \n",
    "you_start_at = 2\n",
    "\n",
    "Sunil_understood_all_concepts = you_start_at < study_python_at\n",
    "\n",
    "print(f\"Sunil You understood everything?: {Sunil_understood_all_concepts}\")"
   ]
  },
  {
   "cell_type": "code",
   "execution_count": 85,
   "id": "3ad0bcd7",
   "metadata": {},
   "outputs": [
    {
     "name": "stdout",
     "output_type": "stream",
     "text": [
      "Sunil You understood everything?: True\n"
     ]
    }
   ],
   "source": [
    "study_python_at = 5\n",
    "you_start_at = 2\n",
    "\n",
    "Sunil_understood_all_concepts = you_start_at < study_python_at\n",
    "\n",
    "print(f\"Sunil You understood everything?: {Sunil_understood_all_concepts}\")"
   ]
  },
  {
   "cell_type": "code",
   "execution_count": 86,
   "id": "b2f3fec0",
   "metadata": {},
   "outputs": [
    {
     "data": {
      "text/plain": [
       "True"
      ]
     },
     "execution_count": 86,
     "metadata": {},
     "output_type": "execute_result"
    }
   ],
   "source": [
    "# = means assignment\n",
    "# == means comparing equality\n",
    "is_raining = False\n",
    "\n",
    "umbralla_available = False\n",
    "\n",
    "go_to_college = is_raining == umbralla_available # Cop\n",
    "\n",
    "go_to_college"
   ]
  },
  {
   "cell_type": "code",
   "execution_count": 87,
   "id": "a918b96e",
   "metadata": {},
   "outputs": [
    {
     "data": {
      "text/plain": [
       "False"
      ]
     },
     "execution_count": 87,
     "metadata": {},
     "output_type": "execute_result"
    }
   ],
   "source": [
    "numA = 15\n",
    "numB = 7\n",
    "numA == numB"
   ]
  },
  {
   "cell_type": "code",
   "execution_count": 88,
   "id": "cbbc9fbe",
   "metadata": {},
   "outputs": [
    {
     "data": {
      "text/plain": [
       "True"
      ]
     },
     "execution_count": 88,
     "metadata": {},
     "output_type": "execute_result"
    }
   ],
   "source": [
    "numA = 9\n",
    "numB = 9\n",
    "numA == numB"
   ]
  },
  {
   "cell_type": "code",
   "execution_count": 89,
   "id": "3945180a",
   "metadata": {},
   "outputs": [
    {
     "data": {
      "text/plain": [
       "False"
      ]
     },
     "execution_count": 89,
     "metadata": {},
     "output_type": "execute_result"
    }
   ],
   "source": [
    "numA = 13\n",
    "numB = 13\n",
    "numA > numB"
   ]
  },
  {
   "cell_type": "code",
   "execution_count": 90,
   "id": "fe0da303",
   "metadata": {},
   "outputs": [
    {
     "data": {
      "text/plain": [
       "True"
      ]
     },
     "execution_count": 90,
     "metadata": {},
     "output_type": "execute_result"
    }
   ],
   "source": [
    "numA = 15\n",
    "numB = 15\n",
    "numA >= numB"
   ]
  },
  {
   "cell_type": "code",
   "execution_count": 91,
   "id": "57a62467",
   "metadata": {},
   "outputs": [
    {
     "data": {
      "text/plain": [
       "'Sunil  Shahaji Zambare'"
      ]
     },
     "execution_count": 91,
     "metadata": {},
     "output_type": "execute_result"
    }
   ],
   "source": [
    "\"Sunil \" + \" Shahaji\" + \" Zambare\""
   ]
  },
  {
   "cell_type": "code",
   "execution_count": 92,
   "id": "11e768b4",
   "metadata": {},
   "outputs": [
    {
     "data": {
      "text/plain": [
       "'My name is \"Sunil \" '"
      ]
     },
     "execution_count": 92,
     "metadata": {},
     "output_type": "execute_result"
    }
   ],
   "source": [
    "\"My name is \\\"Sunil \\\" \""
   ]
  },
  {
   "cell_type": "code",
   "execution_count": 93,
   "id": "5ec5c31a",
   "metadata": {},
   "outputs": [
    {
     "name": "stdout",
     "output_type": "stream",
     "text": [
      "\"\n"
     ]
    }
   ],
   "source": [
    "print(\"\\\"\")"
   ]
  },
  {
   "cell_type": "code",
   "execution_count": 94,
   "id": "a5304e48",
   "metadata": {},
   "outputs": [
    {
     "name": "stdout",
     "output_type": "stream",
     "text": [
      " \" \n"
     ]
    }
   ],
   "source": [
    "print(\"\"\" \" \"\"\")"
   ]
  },
  {
   "cell_type": "code",
   "execution_count": 95,
   "id": "4e17ac26",
   "metadata": {},
   "outputs": [
    {
     "name": "stdout",
     "output_type": "stream",
     "text": [
      " / \n"
     ]
    }
   ],
   "source": [
    "print(\"\"\" / \"\"\")"
   ]
  },
  {
   "cell_type": "code",
   "execution_count": 96,
   "id": "bc5feddf",
   "metadata": {},
   "outputs": [
    {
     "name": "stdout",
     "output_type": "stream",
     "text": [
      "Welcome to Grape City: Tasgaon\n"
     ]
    }
   ],
   "source": [
    "name = \"Tasgaon\"\n",
    "print(f\"Welcome to Grape City: {name}\")"
   ]
  },
  {
   "cell_type": "code",
   "execution_count": 97,
   "id": "ca71a308",
   "metadata": {},
   "outputs": [
    {
     "name": "stdout",
     "output_type": "stream",
     "text": [
      "My village pincode number is: 416311\n"
     ]
    }
   ],
   "source": [
    "pincode = 416311\n",
    "print(f\"My village pincode number is: {pincode}\")"
   ]
  },
  {
   "cell_type": "code",
   "execution_count": 98,
   "id": "9401019b",
   "metadata": {},
   "outputs": [
    {
     "name": "stdout",
     "output_type": "stream",
     "text": [
      "sum = 900\n"
     ]
    }
   ],
   "source": [
    "a = 200\n",
    "b = 300\n",
    "c = 400\n",
    "__result__ = a+b+c\n",
    "print(f\"sum = {__result__}\")"
   ]
  },
  {
   "cell_type": "code",
   "execution_count": 99,
   "id": "07cf71ba",
   "metadata": {},
   "outputs": [],
   "source": [
    "z = 2+5j"
   ]
  },
  {
   "cell_type": "code",
   "execution_count": 100,
   "id": "72d05f05",
   "metadata": {},
   "outputs": [
    {
     "data": {
      "text/plain": [
       "2.0"
      ]
     },
     "execution_count": 100,
     "metadata": {},
     "output_type": "execute_result"
    }
   ],
   "source": [
    "z.real"
   ]
  },
  {
   "cell_type": "code",
   "execution_count": 101,
   "id": "b0eb44cc",
   "metadata": {},
   "outputs": [
    {
     "data": {
      "text/plain": [
       "5.0"
      ]
     },
     "execution_count": 101,
     "metadata": {},
     "output_type": "execute_result"
    }
   ],
   "source": [
    "z.imag"
   ]
  },
  {
   "cell_type": "markdown",
   "id": "7e8e2c4d",
   "metadata": {},
   "source": [
    "## <<<<<  Thank You...... Have a nice Day  >>>>>>"
   ]
  }
 ],
 "metadata": {
  "kernelspec": {
   "display_name": "Python 3 (ipykernel)",
   "language": "python",
   "name": "python3"
  },
  "language_info": {
   "codemirror_mode": {
    "name": "ipython",
    "version": 3
   },
   "file_extension": ".py",
   "mimetype": "text/x-python",
   "name": "python",
   "nbconvert_exporter": "python",
   "pygments_lexer": "ipython3",
   "version": "3.9.12"
  }
 },
 "nbformat": 4,
 "nbformat_minor": 5
}
