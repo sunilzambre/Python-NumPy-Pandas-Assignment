{
 "cells": [
  {
   "cell_type": "markdown",
   "id": "b0a70985",
   "metadata": {},
   "source": [
    "# 1.Variable Case sensitivity"
   ]
  },
  {
   "cell_type": "code",
   "execution_count": 1,
   "id": "58470da6",
   "metadata": {},
   "outputs": [],
   "source": [
    "TEN = 10\n",
    "ten = 20\n",
    "# TEN and ten both are different in terms of lowercase and uppercase letter"
   ]
  },
  {
   "cell_type": "code",
   "execution_count": 2,
   "id": "fb416cde",
   "metadata": {},
   "outputs": [
    {
     "ename": "NameError",
     "evalue": "name 'Ten' is not defined",
     "output_type": "error",
     "traceback": [
      "\u001b[1;31m---------------------------------------------------------------------------\u001b[0m",
      "\u001b[1;31mNameError\u001b[0m                                 Traceback (most recent call last)",
      "Input \u001b[1;32mIn [2]\u001b[0m, in \u001b[0;36m<cell line: 1>\u001b[1;34m()\u001b[0m\n\u001b[1;32m----> 1\u001b[0m \u001b[38;5;28mprint\u001b[39m(\u001b[43mTen\u001b[49m)\n",
      "\u001b[1;31mNameError\u001b[0m: name 'Ten' is not defined"
     ]
    }
   ],
   "source": [
    " print(Ten)"
   ]
  },
  {
   "cell_type": "code",
   "execution_count": 3,
   "id": "cbe5c9f5",
   "metadata": {},
   "outputs": [
    {
     "ename": "NameError",
     "evalue": "name 'Ten' is not defined",
     "output_type": "error",
     "traceback": [
      "\u001b[1;31m---------------------------------------------------------------------------\u001b[0m",
      "\u001b[1;31mNameError\u001b[0m                                 Traceback (most recent call last)",
      "Input \u001b[1;32mIn [3]\u001b[0m, in \u001b[0;36m<cell line: 1>\u001b[1;34m()\u001b[0m\n\u001b[1;32m----> 1\u001b[0m \u001b[43mTen\u001b[49m\n",
      "\u001b[1;31mNameError\u001b[0m: name 'Ten' is not defined"
     ]
    }
   ],
   "source": [
    "Ten"
   ]
  },
  {
   "cell_type": "code",
   "execution_count": 4,
   "id": "d8e99228",
   "metadata": {},
   "outputs": [
    {
     "data": {
      "text/plain": [
       "10"
      ]
     },
     "execution_count": 4,
     "metadata": {},
     "output_type": "execute_result"
    }
   ],
   "source": [
    "TEN"
   ]
  },
  {
   "cell_type": "code",
   "execution_count": 5,
   "id": "0635e7c7",
   "metadata": {},
   "outputs": [
    {
     "data": {
      "text/plain": [
       "20"
      ]
     },
     "execution_count": 5,
     "metadata": {},
     "output_type": "execute_result"
    }
   ],
   "source": [
    "ten"
   ]
  },
  {
   "cell_type": "markdown",
   "id": "ba8dfae1",
   "metadata": {},
   "source": [
    "# 2.Reserved words in Python\n",
    "Reserved words in Python\n",
    "https://docs.python.org/2.5/ref/keywords.html"
   ]
  },
  {
   "cell_type": "markdown",
   "id": "14695005",
   "metadata": {},
   "source": [
    "1.We should not use reserved words as variable names. <br>\n",
    "2.Also python doesn't restrict the user to use reserved keywords as variable names"
   ]
  },
  {
   "cell_type": "code",
   "execution_count": 6,
   "id": "11e886de",
   "metadata": {},
   "outputs": [
    {
     "name": "stdout",
     "output_type": "stream",
     "text": [
      "Hello Sir.. How are you\n"
     ]
    }
   ],
   "source": [
    "print(\"Hello Sir.. How are you\")"
   ]
  },
  {
   "cell_type": "code",
   "execution_count": 7,
   "id": "6f243faa",
   "metadata": {},
   "outputs": [],
   "source": [
    "print = \"Hello Sir.. How are you\" #As a variable"
   ]
  },
  {
   "cell_type": "code",
   "execution_count": 8,
   "id": "5ba5e704",
   "metadata": {},
   "outputs": [
    {
     "data": {
      "text/plain": [
       "str"
      ]
     },
     "execution_count": 8,
     "metadata": {},
     "output_type": "execute_result"
    }
   ],
   "source": [
    "type(print)"
   ]
  },
  {
   "cell_type": "code",
   "execution_count": 9,
   "id": "c688376a",
   "metadata": {},
   "outputs": [
    {
     "ename": "TypeError",
     "evalue": "'str' object is not callable",
     "output_type": "error",
     "traceback": [
      "\u001b[1;31m---------------------------------------------------------------------------\u001b[0m",
      "\u001b[1;31mTypeError\u001b[0m                                 Traceback (most recent call last)",
      "Input \u001b[1;32mIn [9]\u001b[0m, in \u001b[0;36m<cell line: 1>\u001b[1;34m()\u001b[0m\n\u001b[1;32m----> 1\u001b[0m \u001b[38;5;28;43mprint\u001b[39;49m\u001b[43m(\u001b[49m\u001b[38;5;124;43m\"\u001b[39;49m\u001b[38;5;124;43mHello Sir.. How are you\u001b[39;49m\u001b[38;5;124;43m\"\u001b[39;49m\u001b[43m)\u001b[49m\n",
      "\u001b[1;31mTypeError\u001b[0m: 'str' object is not callable"
     ]
    }
   ],
   "source": [
    "print(\"Hello Sir.. How are you\")"
   ]
  },
  {
   "cell_type": "code",
   "execution_count": 10,
   "id": "b6e70b20",
   "metadata": {},
   "outputs": [
    {
     "data": {
      "text/plain": [
       "int"
      ]
     },
     "execution_count": 10,
     "metadata": {},
     "output_type": "execute_result"
    }
   ],
   "source": [
    "print = 12 # as a variable\n",
    "type(print)"
   ]
  },
  {
   "cell_type": "code",
   "execution_count": 11,
   "id": "70fe0738",
   "metadata": {},
   "outputs": [
    {
     "ename": "TypeError",
     "evalue": "'int' object is not callable",
     "output_type": "error",
     "traceback": [
      "\u001b[1;31m---------------------------------------------------------------------------\u001b[0m",
      "\u001b[1;31mTypeError\u001b[0m                                 Traceback (most recent call last)",
      "Input \u001b[1;32mIn [11]\u001b[0m, in \u001b[0;36m<cell line: 1>\u001b[1;34m()\u001b[0m\n\u001b[1;32m----> 1\u001b[0m \u001b[38;5;28;43mprint\u001b[39;49m\u001b[43m(\u001b[49m\u001b[38;5;124;43m\"\u001b[39;49m\u001b[38;5;124;43mHello Sir.. How are you\u001b[39;49m\u001b[38;5;124;43m\"\u001b[39;49m\u001b[43m)\u001b[49m\n",
      "\u001b[1;31mTypeError\u001b[0m: 'int' object is not callable"
     ]
    }
   ],
   "source": [
    "print(\"Hello Sir.. How are you\")"
   ]
  },
  {
   "cell_type": "code",
   "execution_count": 12,
   "id": "84848f74",
   "metadata": {},
   "outputs": [],
   "source": [
    "del print # delete the variable print"
   ]
  },
  {
   "cell_type": "code",
   "execution_count": 13,
   "id": "cbd8f655",
   "metadata": {},
   "outputs": [
    {
     "name": "stdout",
     "output_type": "stream",
     "text": [
      "Hello Sir.. How are you\n"
     ]
    }
   ],
   "source": [
    "print(\"Hello Sir.. How are you\")"
   ]
  },
  {
   "cell_type": "code",
   "execution_count": 14,
   "id": "e0e0290c",
   "metadata": {},
   "outputs": [
    {
     "data": {
      "text/plain": [
       "str"
      ]
     },
     "execution_count": 14,
     "metadata": {},
     "output_type": "execute_result"
    }
   ],
   "source": [
    "Print = \"Hi there\" # as a variable\n",
    "type(Print)"
   ]
  },
  {
   "cell_type": "code",
   "execution_count": 15,
   "id": "48f4f0eb",
   "metadata": {},
   "outputs": [
    {
     "name": "stdout",
     "output_type": "stream",
     "text": [
      "Hi there\n"
     ]
    }
   ],
   "source": [
    "print(\"Hi there\")"
   ]
  },
  {
   "cell_type": "code",
   "execution_count": 16,
   "id": "2ddf62b4",
   "metadata": {},
   "outputs": [],
   "source": [
    "print = 10"
   ]
  },
  {
   "cell_type": "code",
   "execution_count": 17,
   "id": "fc866f70",
   "metadata": {},
   "outputs": [
    {
     "data": {
      "text/plain": [
       "int"
      ]
     },
     "execution_count": 17,
     "metadata": {},
     "output_type": "execute_result"
    }
   ],
   "source": [
    "type(print)"
   ]
  },
  {
   "cell_type": "code",
   "execution_count": 18,
   "id": "eb519c91",
   "metadata": {},
   "outputs": [],
   "source": [
    "del print"
   ]
  },
  {
   "cell_type": "code",
   "execution_count": 19,
   "id": "9c2223c7",
   "metadata": {},
   "outputs": [
    {
     "name": "stdout",
     "output_type": "stream",
     "text": [
      "Sunil\n"
     ]
    }
   ],
   "source": [
    "print(\"Sunil\")"
   ]
  },
  {
   "cell_type": "markdown",
   "id": "5694a896",
   "metadata": {},
   "source": [
    "# 3.Multi assignment of variables"
   ]
  },
  {
   "cell_type": "code",
   "execution_count": 26,
   "id": "410bfdc7",
   "metadata": {},
   "outputs": [],
   "source": [
    "a, b, c, yes, no = 100, 200.5, \"Sunil\", True, False"
   ]
  },
  {
   "cell_type": "code",
   "execution_count": 27,
   "id": "c633b4b2",
   "metadata": {},
   "outputs": [
    {
     "data": {
      "text/plain": [
       "int"
      ]
     },
     "execution_count": 27,
     "metadata": {},
     "output_type": "execute_result"
    }
   ],
   "source": [
    "type(a)"
   ]
  },
  {
   "cell_type": "code",
   "execution_count": 28,
   "id": "c049eac2",
   "metadata": {},
   "outputs": [
    {
     "data": {
      "text/plain": [
       "float"
      ]
     },
     "execution_count": 28,
     "metadata": {},
     "output_type": "execute_result"
    }
   ],
   "source": [
    "type(b)"
   ]
  },
  {
   "cell_type": "code",
   "execution_count": 29,
   "id": "bbe520a4",
   "metadata": {},
   "outputs": [
    {
     "data": {
      "text/plain": [
       "str"
      ]
     },
     "execution_count": 29,
     "metadata": {},
     "output_type": "execute_result"
    }
   ],
   "source": [
    "type(c)"
   ]
  },
  {
   "cell_type": "code",
   "execution_count": 30,
   "id": "06557681",
   "metadata": {},
   "outputs": [
    {
     "data": {
      "text/plain": [
       "bool"
      ]
     },
     "execution_count": 30,
     "metadata": {},
     "output_type": "execute_result"
    }
   ],
   "source": [
    "type(yes)"
   ]
  },
  {
   "cell_type": "code",
   "execution_count": 31,
   "id": "d02845cf",
   "metadata": {},
   "outputs": [
    {
     "data": {
      "text/plain": [
       "bool"
      ]
     },
     "execution_count": 31,
     "metadata": {},
     "output_type": "execute_result"
    }
   ],
   "source": [
    "type(no)"
   ]
  },
  {
   "cell_type": "code",
   "execution_count": 32,
   "id": "e392b26d",
   "metadata": {},
   "outputs": [
    {
     "name": "stdout",
     "output_type": "stream",
     "text": [
      "<class 'int'>\n",
      "<class 'float'>\n",
      "<class 'str'>\n",
      "<class 'bool'>\n",
      "<class 'bool'>\n"
     ]
    }
   ],
   "source": [
    "print(type(a))\n",
    "print(type(b))\n",
    "print(type(c))\n",
    "print(type(yes))\n",
    "print(type(no))"
   ]
  },
  {
   "cell_type": "code",
   "execution_count": 33,
   "id": "45b33149",
   "metadata": {},
   "outputs": [],
   "source": [
    "# a,b,c = 10"
   ]
  },
  {
   "cell_type": "code",
   "execution_count": 34,
   "id": "d7d6cd04",
   "metadata": {},
   "outputs": [],
   "source": [
    "a,b,c = 10,10,10"
   ]
  },
  {
   "cell_type": "code",
   "execution_count": 35,
   "id": "09987014",
   "metadata": {},
   "outputs": [],
   "source": [
    "a, A, c, C = 10, 20.5, \"Sunil\", True"
   ]
  },
  {
   "cell_type": "code",
   "execution_count": 36,
   "id": "6aed160b",
   "metadata": {},
   "outputs": [
    {
     "name": "stdout",
     "output_type": "stream",
     "text": [
      "10 20.5 Sunil True\n"
     ]
    }
   ],
   "source": [
    "print(a, A, c, C)"
   ]
  },
  {
   "cell_type": "code",
   "execution_count": 37,
   "id": "6646d6c9",
   "metadata": {},
   "outputs": [],
   "source": [
    "a=b=c=10"
   ]
  },
  {
   "cell_type": "code",
   "execution_count": 38,
   "id": "f5e8cfce",
   "metadata": {},
   "outputs": [
    {
     "data": {
      "text/plain": [
       "(10, 10, 10)"
      ]
     },
     "execution_count": 38,
     "metadata": {},
     "output_type": "execute_result"
    }
   ],
   "source": [
    "a,b,c"
   ]
  },
  {
   "cell_type": "code",
   "execution_count": 39,
   "id": "8c1c3e7d",
   "metadata": {},
   "outputs": [],
   "source": [
    "firstName, middleName, sirName = \"Sunil\", \"Shahaji\", \"Zambare\""
   ]
  },
  {
   "cell_type": "code",
   "execution_count": 40,
   "id": "574e234e",
   "metadata": {},
   "outputs": [
    {
     "name": "stdout",
     "output_type": "stream",
     "text": [
      "Sunil.Zambare@gmail.com\n"
     ]
    }
   ],
   "source": [
    "print(f\"{firstName}.{sirName}@gmail.com\")"
   ]
  },
  {
   "cell_type": "code",
   "execution_count": 41,
   "id": "23227e21",
   "metadata": {},
   "outputs": [],
   "source": [
    "name, place, year_of_birth, weight = \"Sunil\", \"Tasgaon\", 1984, 85.90"
   ]
  },
  {
   "cell_type": "code",
   "execution_count": 42,
   "id": "9a4db5c2",
   "metadata": {},
   "outputs": [
    {
     "name": "stdout",
     "output_type": "stream",
     "text": [
      "\n",
      "My name is: Sunil\n",
      "I live at: Tasgaon\n",
      "I was born in: 1984\n",
      "My weight is: 85.9 in Kgs\n",
      "\n"
     ]
    }
   ],
   "source": [
    "print(f\"\"\"\n",
    "My name is: {name}\n",
    "I live at: {place}\n",
    "I was born in: {year_of_birth}\n",
    "My weight is: {weight} in Kgs\n",
    "\"\"\")"
   ]
  },
  {
   "cell_type": "markdown",
   "id": "56c7672d",
   "metadata": {},
   "source": [
    "# 4.User input"
   ]
  },
  {
   "cell_type": "code",
   "execution_count": 43,
   "id": "2c16ab29",
   "metadata": {},
   "outputs": [
    {
     "name": "stdout",
     "output_type": "stream",
     "text": [
      "Enter your Name: Sunil Zambare\n",
      "You have entered: Sunil Zambare\n"
     ]
    }
   ],
   "source": [
    "name = input(\"Enter your Name: \")\n",
    "\n",
    "print(f\"You have entered: {name}\")"
   ]
  },
  {
   "cell_type": "code",
   "execution_count": 44,
   "id": "81a992e3",
   "metadata": {},
   "outputs": [
    {
     "name": "stdout",
     "output_type": "stream",
     "text": [
      "Enter value of A: 400\n",
      "Enter value of B: 300\n",
      "Sum of A and B is: 400300\n"
     ]
    }
   ],
   "source": [
    "A = input(\"Enter value of A: \")\n",
    "B = input(\"Enter value of B: \")\n",
    "\n",
    "print(f\"Sum of A and B is: {A+B}\")"
   ]
  },
  {
   "cell_type": "code",
   "execution_count": 45,
   "id": "99d2b92b",
   "metadata": {},
   "outputs": [
    {
     "name": "stdout",
     "output_type": "stream",
     "text": [
      "Sum of A and B is: {A+B}\n"
     ]
    }
   ],
   "source": [
    "print(\"Sum of A and B is: {A+B}\")"
   ]
  },
  {
   "cell_type": "code",
   "execution_count": 46,
   "id": "d4f7f25b",
   "metadata": {},
   "outputs": [
    {
     "name": "stdout",
     "output_type": "stream",
     "text": [
      "Enter value of A: 10\n",
      "Enter value of B: 20\n",
      "<class 'str'> <class 'str'>\n"
     ]
    }
   ],
   "source": [
    "A = input(\"Enter value of A: \")\n",
    "B = input(\"Enter value of B: \")\n",
    "\n",
    "print(type(A), type(B))"
   ]
  },
  {
   "cell_type": "code",
   "execution_count": 47,
   "id": "a51ae380",
   "metadata": {},
   "outputs": [
    {
     "name": "stdout",
     "output_type": "stream",
     "text": [
      "Name: Sunil Zambare\n",
      "place: Dongarsoni Ayodhyanagar\n",
      "year_of_birth: 1984\n"
     ]
    }
   ],
   "source": [
    "name = input(\"Name: \")\n",
    "place = input(\"place: \")\n",
    "year_of_birth = input(\"year_of_birth: \")"
   ]
  },
  {
   "cell_type": "code",
   "execution_count": 48,
   "id": "b06c777c",
   "metadata": {},
   "outputs": [
    {
     "name": "stdout",
     "output_type": "stream",
     "text": [
      "\n",
      "My name is: Sunil Zambare\n",
      "I live at: Dongarsoni Ayodhyanagar\n",
      "I was born in: 1984\n",
      "\n"
     ]
    }
   ],
   "source": [
    "print(f\"\"\"\n",
    "My name is: {name}\n",
    "I live at: {place}\n",
    "I was born in: {year_of_birth}\n",
    "\"\"\")"
   ]
  },
  {
   "cell_type": "code",
   "execution_count": 49,
   "id": "62b0e4bf",
   "metadata": {},
   "outputs": [
    {
     "name": "stdout",
     "output_type": "stream",
     "text": [
      "Name: Sunil\n",
      "place: Dongarsoni\n",
      "year_of_birth: 1984\n"
     ]
    },
    {
     "ename": "TypeError",
     "evalue": "unsupported operand type(s) for -: 'int' and 'str'",
     "output_type": "error",
     "traceback": [
      "\u001b[1;31m---------------------------------------------------------------------------\u001b[0m",
      "\u001b[1;31mTypeError\u001b[0m                                 Traceback (most recent call last)",
      "Input \u001b[1;32mIn [49]\u001b[0m, in \u001b[0;36m<cell line: 7>\u001b[1;34m()\u001b[0m\n\u001b[0;32m      4\u001b[0m place \u001b[38;5;241m=\u001b[39m \u001b[38;5;28minput\u001b[39m(\u001b[38;5;124m\"\u001b[39m\u001b[38;5;124mplace: \u001b[39m\u001b[38;5;124m\"\u001b[39m)\n\u001b[0;32m      5\u001b[0m year_of_birth \u001b[38;5;241m=\u001b[39m \u001b[38;5;28minput\u001b[39m(\u001b[38;5;124m\"\u001b[39m\u001b[38;5;124myear_of_birth: \u001b[39m\u001b[38;5;124m\"\u001b[39m)\n\u001b[1;32m----> 7\u001b[0m age \u001b[38;5;241m=\u001b[39m \u001b[38;5;241;43m2022\u001b[39;49m\u001b[43m \u001b[49m\u001b[38;5;241;43m-\u001b[39;49m\u001b[43m \u001b[49m\u001b[43myear_of_birth\u001b[49m\n\u001b[0;32m      9\u001b[0m \u001b[38;5;28mprint\u001b[39m(\u001b[38;5;124mf\u001b[39m\u001b[38;5;124m\"\"\"\u001b[39m\n\u001b[0;32m     10\u001b[0m \u001b[38;5;124mMy name is: \u001b[39m\u001b[38;5;132;01m{\u001b[39;00mname\u001b[38;5;132;01m}\u001b[39;00m\n\u001b[0;32m     11\u001b[0m \u001b[38;5;124mI live at: \u001b[39m\u001b[38;5;132;01m{\u001b[39;00mplace\u001b[38;5;132;01m}\u001b[39;00m\n\u001b[0;32m     12\u001b[0m \u001b[38;5;132;01m{\u001b[39;00mname\u001b[38;5;132;01m}\u001b[39;00m\u001b[38;5;124m is of age: \u001b[39m\u001b[38;5;132;01m{\u001b[39;00mage\u001b[38;5;132;01m}\u001b[39;00m\n\u001b[0;32m     13\u001b[0m \u001b[38;5;124m\"\"\"\u001b[39m)\n",
      "\u001b[1;31mTypeError\u001b[0m: unsupported operand type(s) for -: 'int' and 'str'"
     ]
    }
   ],
   "source": [
    "# calcualte the age of the user\n",
    "\n",
    "name = input(\"Name: \") # always gives you string values\n",
    "place = input(\"place: \")\n",
    "year_of_birth = input(\"year_of_birth: \")\n",
    "\n",
    "age = 2022 - year_of_birth\n",
    "\n",
    "print(f\"\"\"\n",
    "My name is: {name}\n",
    "I live at: {place}\n",
    "{name} is of age: {age}\n",
    "\"\"\")"
   ]
  },
  {
   "cell_type": "code",
   "execution_count": 51,
   "id": "c861bc98",
   "metadata": {},
   "outputs": [
    {
     "name": "stdout",
     "output_type": "stream",
     "text": [
      "Name: Sunil Zambare\n",
      "place: Dongarsoni\n",
      "year_of_birth: 1984\n",
      "\n",
      "My name is: Sunil Zambare\n",
      "I live at: Dongarsoni\n",
      "Sunil Zambare is of age: 39\n",
      "\n"
     ]
    }
   ],
   "source": [
    "# calcualte the age of the user\n",
    "\n",
    "name = input(\"Name: \") # always gives you string values\n",
    "place = input(\"place: \")\n",
    "year_of_birth = int(input(\"year_of_birth: \")) # convert this into integer\n",
    "\n",
    "age = 2023 - year_of_birth\n",
    "\n",
    "print(f\"\"\"\n",
    "My name is: {name}\n",
    "I live at: {place}\n",
    "{name} is of age: {age}\n",
    "\"\"\")"
   ]
  },
  {
   "cell_type": "code",
   "execution_count": 52,
   "id": "1831f019",
   "metadata": {},
   "outputs": [
    {
     "name": "stdout",
     "output_type": "stream",
     "text": [
      "Name: Sunil Zambare\n",
      "place: Dongarsoni\n",
      "year_of_birth: 1984\n",
      "\n",
      "My name is: Sunil Zambare\n",
      "I live at: Dongarsoni\n",
      "Sunil Zambare is of age: 38\n",
      "\n"
     ]
    }
   ],
   "source": [
    "# calcualte the age of the user\n",
    "\n",
    "name = input(\"Name: \") # always gives you string values\n",
    "place = input(\"place: \")\n",
    "year_of_birth = input(\"year_of_birth: \") # convert this into integer\n",
    "\n",
    "age = 2022 - int(year_of_birth)\n",
    "\n",
    "print(f\"\"\"\n",
    "My name is: {name}\n",
    "I live at: {place}\n",
    "{name} is of age: {age}\n",
    "\"\"\")"
   ]
  },
  {
   "cell_type": "code",
   "execution_count": 54,
   "id": "6ab4ca74",
   "metadata": {},
   "outputs": [
    {
     "name": "stdout",
     "output_type": "stream",
     "text": [
      "Name: Sunil Zambare\n",
      "place: Dongarsoni\n",
      "year_of_birth: 1984\n",
      "current year: 2023\n",
      "\n",
      "My name is: Sunil Zambare\n",
      "I live at: Dongarsoni\n",
      "Sunil Zambare is of age: 39\n",
      "\n"
     ]
    }
   ],
   "source": [
    "# calcualte the age of the user\n",
    "\n",
    "name = input(\"Name: \") # always gives you string values\n",
    "place = input(\"place: \")\n",
    "year_of_birth = input(\"year_of_birth: \") # convert this into integer\n",
    "current_year = input(\"current year: \")\n",
    "age = int(current_year) - int(year_of_birth)\n",
    "\n",
    "print(f\"\"\"\n",
    "My name is: {name}\n",
    "I live at: {place}\n",
    "{name} is of age: {age}\n",
    "\"\"\")"
   ]
  },
  {
   "cell_type": "markdown",
   "id": "01b6948e",
   "metadata": {},
   "source": [
    "# 5.Type conversion\n",
    "We can convert the data type of one variable into another if it is allowed."
   ]
  },
  {
   "cell_type": "code",
   "execution_count": 55,
   "id": "25f60831",
   "metadata": {},
   "outputs": [
    {
     "name": "stdout",
     "output_type": "stream",
     "text": [
      "Enter value of A: 10\n",
      "Enter value of B: 20\n",
      "<class 'int'> <class 'int'>\n"
     ]
    }
   ],
   "source": [
    "A = int(input(\"Enter value of A: \"))\n",
    "B = int(input(\"Enter value of B: \"))\n",
    "\n",
    "print(type(A), type(B))"
   ]
  },
  {
   "cell_type": "code",
   "execution_count": 56,
   "id": "3e79373c",
   "metadata": {},
   "outputs": [
    {
     "name": "stdout",
     "output_type": "stream",
     "text": [
      "Sum of A and B is: 30\n"
     ]
    }
   ],
   "source": [
    "print(f\"Sum of A and B is: {A+B}\")"
   ]
  },
  {
   "cell_type": "code",
   "execution_count": 57,
   "id": "2ef9b950",
   "metadata": {},
   "outputs": [
    {
     "ename": "SyntaxError",
     "evalue": "invalid syntax (2077884358.py, line 1)",
     "output_type": "error",
     "traceback": [
      "\u001b[1;36m  Input \u001b[1;32mIn [57]\u001b[1;36m\u001b[0m\n\u001b[1;33m    int A\u001b[0m\n\u001b[1;37m        ^\u001b[0m\n\u001b[1;31mSyntaxError\u001b[0m\u001b[1;31m:\u001b[0m invalid syntax\n"
     ]
    }
   ],
   "source": [
    "int A"
   ]
  },
  {
   "cell_type": "code",
   "execution_count": 59,
   "id": "4525f12b",
   "metadata": {},
   "outputs": [
    {
     "name": "stdout",
     "output_type": "stream",
     "text": [
      "Enter value of A: 15.4\n",
      "Enter value of B: 12.3\n",
      "Sum of A and B is: 27.700000000000003\n"
     ]
    }
   ],
   "source": [
    "A = float(input(\"Enter value of A: \"))\n",
    "B = float(input(\"Enter value of B: \"))\n",
    "\n",
    "print(f\"Sum of A and B is: {A+B}\")"
   ]
  },
  {
   "cell_type": "code",
   "execution_count": 60,
   "id": "0cf03bd4",
   "metadata": {},
   "outputs": [
    {
     "name": "stdout",
     "output_type": "stream",
     "text": [
      "Enter value of A: 23.05\n",
      "Enter value of B: 10\n",
      "Sum of A and B is: 33.05\n"
     ]
    }
   ],
   "source": [
    "A = float(input(\"Enter value of A: \"))\n",
    "B = int(input(\"Enter value of B: \"))\n",
    "\n",
    "print(f\"Sum of A and B is: {A+B}\")"
   ]
  },
  {
   "cell_type": "code",
   "execution_count": 61,
   "id": "0d84542a",
   "metadata": {},
   "outputs": [
    {
     "name": "stdout",
     "output_type": "stream",
     "text": [
      "Enter value of A: 20.5\n",
      "Enter value of B: 20.5\n"
     ]
    },
    {
     "ename": "ValueError",
     "evalue": "invalid literal for int() with base 10: '20.5'",
     "output_type": "error",
     "traceback": [
      "\u001b[1;31m---------------------------------------------------------------------------\u001b[0m",
      "\u001b[1;31mValueError\u001b[0m                                Traceback (most recent call last)",
      "Input \u001b[1;32mIn [61]\u001b[0m, in \u001b[0;36m<cell line: 2>\u001b[1;34m()\u001b[0m\n\u001b[0;32m      1\u001b[0m A \u001b[38;5;241m=\u001b[39m \u001b[38;5;28mfloat\u001b[39m(\u001b[38;5;28minput\u001b[39m(\u001b[38;5;124m\"\u001b[39m\u001b[38;5;124mEnter value of A: \u001b[39m\u001b[38;5;124m\"\u001b[39m))\n\u001b[1;32m----> 2\u001b[0m B \u001b[38;5;241m=\u001b[39m \u001b[38;5;28;43mint\u001b[39;49m\u001b[43m(\u001b[49m\u001b[38;5;28;43minput\u001b[39;49m\u001b[43m(\u001b[49m\u001b[38;5;124;43m\"\u001b[39;49m\u001b[38;5;124;43mEnter value of B: \u001b[39;49m\u001b[38;5;124;43m\"\u001b[39;49m\u001b[43m)\u001b[49m\u001b[43m)\u001b[49m \u001b[38;5;66;03m# 20.5 is float but converting to int\u001b[39;00m\n\u001b[0;32m      4\u001b[0m \u001b[38;5;28mprint\u001b[39m(\u001b[38;5;124mf\u001b[39m\u001b[38;5;124m\"\u001b[39m\u001b[38;5;124mSum of A and B is: \u001b[39m\u001b[38;5;132;01m{\u001b[39;00mA\u001b[38;5;241m+\u001b[39mB\u001b[38;5;132;01m}\u001b[39;00m\u001b[38;5;124m\"\u001b[39m)\n",
      "\u001b[1;31mValueError\u001b[0m: invalid literal for int() with base 10: '20.5'"
     ]
    }
   ],
   "source": [
    "A = float(input(\"Enter value of A: \"))\n",
    "B = int(input(\"Enter value of B: \")) # 20.5 is float but converting to int\n",
    "\n",
    "print(f\"Sum of A and B is: {A+B}\")"
   ]
  },
  {
   "cell_type": "code",
   "execution_count": 62,
   "id": "51a9b03f",
   "metadata": {},
   "outputs": [
    {
     "name": "stdout",
     "output_type": "stream",
     "text": [
      "data type before: <class 'str'>, value of A: 50\n",
      "data type after: <class 'int'>, value of A: 50\n"
     ]
    }
   ],
   "source": [
    "# String to integer\n",
    "A = \"50\"\n",
    "print(f\"data type before: {type(A)}, value of A: {A}\")\n",
    "\n",
    "A = int(A)\n",
    "print(f\"data type after: {type(A)}, value of A: {A}\")"
   ]
  },
  {
   "cell_type": "code",
   "execution_count": 63,
   "id": "7d5a47cd",
   "metadata": {},
   "outputs": [
    {
     "name": "stdout",
     "output_type": "stream",
     "text": [
      "data type before: <class 'str'>, value of A: 50.22\n"
     ]
    },
    {
     "ename": "ValueError",
     "evalue": "invalid literal for int() with base 10: '50.22'",
     "output_type": "error",
     "traceback": [
      "\u001b[1;31m---------------------------------------------------------------------------\u001b[0m",
      "\u001b[1;31mValueError\u001b[0m                                Traceback (most recent call last)",
      "Input \u001b[1;32mIn [63]\u001b[0m, in \u001b[0;36m<cell line: 5>\u001b[1;34m()\u001b[0m\n\u001b[0;32m      2\u001b[0m A \u001b[38;5;241m=\u001b[39m \u001b[38;5;124m\"\u001b[39m\u001b[38;5;124m50.22\u001b[39m\u001b[38;5;124m\"\u001b[39m \u001b[38;5;66;03m# entering float\u001b[39;00m\n\u001b[0;32m      3\u001b[0m \u001b[38;5;28mprint\u001b[39m(\u001b[38;5;124mf\u001b[39m\u001b[38;5;124m\"\u001b[39m\u001b[38;5;124mdata type before: \u001b[39m\u001b[38;5;132;01m{\u001b[39;00m\u001b[38;5;28mtype\u001b[39m(A)\u001b[38;5;132;01m}\u001b[39;00m\u001b[38;5;124m, value of A: \u001b[39m\u001b[38;5;132;01m{\u001b[39;00mA\u001b[38;5;132;01m}\u001b[39;00m\u001b[38;5;124m\"\u001b[39m)\n\u001b[1;32m----> 5\u001b[0m A \u001b[38;5;241m=\u001b[39m \u001b[38;5;28;43mint\u001b[39;49m\u001b[43m(\u001b[49m\u001b[43mA\u001b[49m\u001b[43m)\u001b[49m \u001b[38;5;66;03m# trying to convert into integer\u001b[39;00m\n\u001b[0;32m      6\u001b[0m \u001b[38;5;28mprint\u001b[39m(\u001b[38;5;124mf\u001b[39m\u001b[38;5;124m\"\u001b[39m\u001b[38;5;124mdata type after: \u001b[39m\u001b[38;5;132;01m{\u001b[39;00m\u001b[38;5;28mtype\u001b[39m(A)\u001b[38;5;132;01m}\u001b[39;00m\u001b[38;5;124m, value of A: \u001b[39m\u001b[38;5;132;01m{\u001b[39;00mA\u001b[38;5;132;01m}\u001b[39;00m\u001b[38;5;124m\"\u001b[39m)\n",
      "\u001b[1;31mValueError\u001b[0m: invalid literal for int() with base 10: '50.22'"
     ]
    }
   ],
   "source": [
    "# String to integer\n",
    "A = \"50.22\" # entering float\n",
    "print(f\"data type before: {type(A)}, value of A: {A}\")\n",
    "\n",
    "A = int(A) # trying to convert into integer\n",
    "print(f\"data type after: {type(A)}, value of A: {A}\")"
   ]
  },
  {
   "cell_type": "code",
   "execution_count": 64,
   "id": "3dd5e7c4",
   "metadata": {},
   "outputs": [
    {
     "name": "stdout",
     "output_type": "stream",
     "text": [
      "data type before: <class 'float'>, value of A: 50.22\n",
      "data type after: <class 'int'>, value of A: 50\n"
     ]
    }
   ],
   "source": [
    "# float to integer\n",
    "A = 50.22\n",
    "print(f\"data type before: {type(A)}, value of A: {A}\")\n",
    "\n",
    "A = int(A)\n",
    "print(f\"data type after: {type(A)}, value of A: {A}\")"
   ]
  },
  {
   "cell_type": "code",
   "execution_count": 65,
   "id": "51ea9242",
   "metadata": {},
   "outputs": [
    {
     "name": "stdout",
     "output_type": "stream",
     "text": [
      "data type before: <class 'int'>, value of A: 50\n",
      "data type after: <class 'float'>, value of A: 50.0\n"
     ]
    }
   ],
   "source": [
    "# integer to float\n",
    "A = 50\n",
    "print(f\"data type before: {type(A)}, value of A: {A}\")\n",
    "\n",
    "A = float(A)\n",
    "print(f\"data type after: {type(A)}, value of A: {A}\")"
   ]
  },
  {
   "cell_type": "code",
   "execution_count": 66,
   "id": "de168f4a",
   "metadata": {},
   "outputs": [
    {
     "name": "stdout",
     "output_type": "stream",
     "text": [
      "data type before: <class 'int'>, value of A: 10\n",
      "data type after: <class 'bool'>, value of A: True\n"
     ]
    }
   ],
   "source": [
    "# integer to boolean\n",
    "A = 10\n",
    "print(f\"data type before: {type(A)}, value of A: {A}\")\n",
    "\n",
    "A = bool(A)\n",
    "print(f\"data type after: {type(A)}, value of A: {A}\")"
   ]
  },
  {
   "cell_type": "markdown",
   "id": "2f13f159",
   "metadata": {},
   "source": [
    "# True in binary - 1              False in binary - 0"
   ]
  },
  {
   "cell_type": "code",
   "execution_count": 67,
   "id": "bf91c411",
   "metadata": {},
   "outputs": [
    {
     "name": "stdout",
     "output_type": "stream",
     "text": [
      "data type before: <class 'int'>, value of A: 0\n",
      "data type after: <class 'bool'>, value of A: False\n"
     ]
    }
   ],
   "source": [
    "# integer to boolean\n",
    "A = 0\n",
    "print(f\"data type before: {type(A)}, value of A: {A}\")\n",
    "\n",
    "A = bool(A)\n",
    "print(f\"data type after: {type(A)}, value of A: {A}\")"
   ]
  },
  {
   "cell_type": "code",
   "execution_count": 68,
   "id": "331a2ed0",
   "metadata": {},
   "outputs": [
    {
     "name": "stdout",
     "output_type": "stream",
     "text": [
      "data type before: <class 'int'>, value of A: 1\n",
      "data type after: <class 'bool'>, value of A: True\n"
     ]
    }
   ],
   "source": [
    "# integer to boolean\n",
    "A = 1\n",
    "print(f\"data type before: {type(A)}, value of A: {A}\")\n",
    "\n",
    "A = bool(A)\n",
    "print(f\"data type after: {type(A)}, value of A: {A}\")"
   ]
  },
  {
   "cell_type": "raw",
   "id": "ba676d6f",
   "metadata": {},
   "source": [
    "NOTE: Converting any non zero number and string values into boolean will give True as an answer\n",
    "\n",
    "NOTE: Empty string \"\" will give False as an answer after converting from string to boolean"
   ]
  },
  {
   "cell_type": "code",
   "execution_count": 69,
   "id": "d60d371c",
   "metadata": {},
   "outputs": [
    {
     "name": "stdout",
     "output_type": "stream",
     "text": [
      "data type before: <class 'int'>, value of A: -5\n",
      "data type after: <class 'bool'>, value of A: True\n"
     ]
    }
   ],
   "source": [
    "# integer to boolean\n",
    "A = -5\n",
    "print(f\"data type before: {type(A)}, value of A: {A}\")\n",
    "\n",
    "A = bool(A)\n",
    "print(f\"data type after: {type(A)}, value of A: {A}\")"
   ]
  },
  {
   "cell_type": "code",
   "execution_count": 71,
   "id": "bda064c8",
   "metadata": {},
   "outputs": [
    {
     "name": "stdout",
     "output_type": "stream",
     "text": [
      "data type before: <class 'str'>, value of A: Sunil\n",
      "data type after: <class 'bool'>, value of A: True\n"
     ]
    }
   ],
   "source": [
    "# string to boolean\n",
    "A = \"Sunil\"\n",
    "print(f\"data type before: {type(A)}, value of A: {A}\")\n",
    "\n",
    "A = bool(A)\n",
    "print(f\"data type after: {type(A)}, value of A: {A}\")"
   ]
  },
  {
   "cell_type": "code",
   "execution_count": 72,
   "id": "958dae0f",
   "metadata": {},
   "outputs": [
    {
     "name": "stdout",
     "output_type": "stream",
     "text": [
      "data type before: <class 'str'>, value of A: True\n",
      "data type after: <class 'bool'>, value of A: True\n"
     ]
    }
   ],
   "source": [
    "# string to boolean\n",
    "A = \"True\"\n",
    "print(f\"data type before: {type(A)}, value of A: {A}\")\n",
    "\n",
    "A = bool(A)\n",
    "print(f\"data type after: {type(A)}, value of A: {A}\")"
   ]
  },
  {
   "cell_type": "code",
   "execution_count": 73,
   "id": "0f74681d",
   "metadata": {},
   "outputs": [
    {
     "name": "stdout",
     "output_type": "stream",
     "text": [
      "data type before: <class 'str'>, value of A: False\n",
      "data type after: <class 'bool'>, value of A: True\n"
     ]
    }
   ],
   "source": [
    "# string to boolean\n",
    "A = \"False\"\n",
    "print(f\"data type before: {type(A)}, value of A: {A}\")\n",
    "\n",
    "A = bool(A)\n",
    "print(f\"data type after: {type(A)}, value of A: {A}\")"
   ]
  },
  {
   "cell_type": "code",
   "execution_count": 74,
   "id": "8acbca79",
   "metadata": {},
   "outputs": [
    {
     "name": "stdout",
     "output_type": "stream",
     "text": [
      "data type before: <class 'str'>, value of A: \n",
      "data type after: <class 'bool'>, value of A: False\n"
     ]
    }
   ],
   "source": [
    "# empty string to boolean\n",
    "A = \"\"\n",
    "print(f\"data type before: {type(A)}, value of A: {A}\")\n",
    "\n",
    "A = bool(A)\n",
    "print(f\"data type after: {type(A)}, value of A: {A}\")"
   ]
  },
  {
   "cell_type": "code",
   "execution_count": 75,
   "id": "1bdd9310",
   "metadata": {},
   "outputs": [
    {
     "name": "stdout",
     "output_type": "stream",
     "text": [
      "data type before: <class 'str'>, value of A:  \n",
      "data type after: <class 'bool'>, value of A: True\n"
     ]
    }
   ],
   "source": [
    "# empty string to boolean\n",
    "A = \" \"\n",
    "print(f\"data type before: {type(A)}, value of A: {A}\")\n",
    "\n",
    "A = bool(A)\n",
    "print(f\"data type after: {type(A)}, value of A: {A}\")"
   ]
  },
  {
   "cell_type": "code",
   "execution_count": 76,
   "id": "f3e13837",
   "metadata": {},
   "outputs": [
    {
     "name": "stdout",
     "output_type": "stream",
     "text": [
      "data type before: <class 'str'>, value of A: \n"
     ]
    },
    {
     "ename": "ValueError",
     "evalue": "invalid literal for int() with base 10: ''",
     "output_type": "error",
     "traceback": [
      "\u001b[1;31m---------------------------------------------------------------------------\u001b[0m",
      "\u001b[1;31mValueError\u001b[0m                                Traceback (most recent call last)",
      "Input \u001b[1;32mIn [76]\u001b[0m, in \u001b[0;36m<cell line: 5>\u001b[1;34m()\u001b[0m\n\u001b[0;32m      2\u001b[0m A \u001b[38;5;241m=\u001b[39m \u001b[38;5;124m\"\u001b[39m\u001b[38;5;124m\"\u001b[39m\n\u001b[0;32m      3\u001b[0m \u001b[38;5;28mprint\u001b[39m(\u001b[38;5;124mf\u001b[39m\u001b[38;5;124m\"\u001b[39m\u001b[38;5;124mdata type before: \u001b[39m\u001b[38;5;132;01m{\u001b[39;00m\u001b[38;5;28mtype\u001b[39m(A)\u001b[38;5;132;01m}\u001b[39;00m\u001b[38;5;124m, value of A: \u001b[39m\u001b[38;5;132;01m{\u001b[39;00mA\u001b[38;5;132;01m}\u001b[39;00m\u001b[38;5;124m\"\u001b[39m)\n\u001b[1;32m----> 5\u001b[0m A \u001b[38;5;241m=\u001b[39m \u001b[38;5;28;43mint\u001b[39;49m\u001b[43m(\u001b[49m\u001b[43mA\u001b[49m\u001b[43m)\u001b[49m\n\u001b[0;32m      6\u001b[0m \u001b[38;5;28mprint\u001b[39m(\u001b[38;5;124mf\u001b[39m\u001b[38;5;124m\"\u001b[39m\u001b[38;5;124mdata type after: \u001b[39m\u001b[38;5;132;01m{\u001b[39;00m\u001b[38;5;28mtype\u001b[39m(A)\u001b[38;5;132;01m}\u001b[39;00m\u001b[38;5;124m, value of A: \u001b[39m\u001b[38;5;132;01m{\u001b[39;00mA\u001b[38;5;132;01m}\u001b[39;00m\u001b[38;5;124m\"\u001b[39m)\n",
      "\u001b[1;31mValueError\u001b[0m: invalid literal for int() with base 10: ''"
     ]
    }
   ],
   "source": [
    "# empty string to int\n",
    "A = \"\"\n",
    "print(f\"data type before: {type(A)}, value of A: {A}\")\n",
    "\n",
    "A = int(A)\n",
    "print(f\"data type after: {type(A)}, value of A: {A}\")"
   ]
  },
  {
   "cell_type": "markdown",
   "id": "5f9adec4",
   "metadata": {},
   "source": [
    "# 6.Memory block"
   ]
  },
  {
   "cell_type": "code",
   "execution_count": 77,
   "id": "64bab02d",
   "metadata": {},
   "outputs": [],
   "source": [
    "a = 45\n",
    "b = 70\n",
    "c = 100 "
   ]
  },
  {
   "cell_type": "code",
   "execution_count": 78,
   "id": "928fc86c",
   "metadata": {},
   "outputs": [
    {
     "data": {
      "text/plain": [
       "2426452602544"
      ]
     },
     "execution_count": 78,
     "metadata": {},
     "output_type": "execute_result"
    }
   ],
   "source": [
    "id(a) # memory address"
   ]
  },
  {
   "cell_type": "code",
   "execution_count": 79,
   "id": "8bd3eb3d",
   "metadata": {},
   "outputs": [
    {
     "data": {
      "text/plain": [
       "2426452791824"
      ]
     },
     "execution_count": 79,
     "metadata": {},
     "output_type": "execute_result"
    }
   ],
   "source": [
    "id(b)"
   ]
  },
  {
   "cell_type": "code",
   "execution_count": 80,
   "id": "1062da37",
   "metadata": {},
   "outputs": [
    {
     "data": {
      "text/plain": [
       "2426452792784"
      ]
     },
     "execution_count": 80,
     "metadata": {},
     "output_type": "execute_result"
    }
   ],
   "source": [
    "id(c)"
   ]
  },
  {
   "cell_type": "code",
   "execution_count": 81,
   "id": "e8011b1f",
   "metadata": {},
   "outputs": [],
   "source": [
    "c = 100 + b"
   ]
  },
  {
   "cell_type": "code",
   "execution_count": 82,
   "id": "ef5fc7c1",
   "metadata": {},
   "outputs": [
    {
     "data": {
      "text/plain": [
       "2426452795024"
      ]
     },
     "execution_count": 82,
     "metadata": {},
     "output_type": "execute_result"
    }
   ],
   "source": [
    "id(c)"
   ]
  },
  {
   "cell_type": "code",
   "execution_count": 83,
   "id": "805c1082",
   "metadata": {},
   "outputs": [
    {
     "data": {
      "text/plain": [
       "2426452602544"
      ]
     },
     "execution_count": 83,
     "metadata": {},
     "output_type": "execute_result"
    }
   ],
   "source": [
    "a = 45\n",
    "id(a)"
   ]
  },
  {
   "cell_type": "code",
   "execution_count": 84,
   "id": "3191cf2e",
   "metadata": {},
   "outputs": [
    {
     "data": {
      "text/plain": [
       "2426452792304"
      ]
     },
     "execution_count": 84,
     "metadata": {},
     "output_type": "execute_result"
    }
   ],
   "source": [
    "a = 85\n",
    "id(a)"
   ]
  },
  {
   "cell_type": "raw",
   "id": "aba4f352",
   "metadata": {},
   "source": [
    "Memory is assigned to the value of variable passed not the variable name"
   ]
  },
  {
   "cell_type": "code",
   "execution_count": 85,
   "id": "b8883bf5",
   "metadata": {},
   "outputs": [
    {
     "name": "stdout",
     "output_type": "stream",
     "text": [
      "2426452602544 2426452791824 2426452792784\n"
     ]
    }
   ],
   "source": [
    "a = 45\n",
    "b = 70\n",
    "c = 100 \n",
    "\n",
    "print(id(a), id(b), id(c))"
   ]
  },
  {
   "cell_type": "code",
   "execution_count": 86,
   "id": "a2d1ecb9",
   "metadata": {},
   "outputs": [
    {
     "name": "stdout",
     "output_type": "stream",
     "text": [
      "2426568044784 2426452602192 2426568351792\n"
     ]
    }
   ],
   "source": [
    "a = \"Sunil\"\n",
    "b = 34\n",
    "c = \"Zambare\"\n",
    "\n",
    "print(id(a), id(b), id(c))"
   ]
  },
  {
   "cell_type": "code",
   "execution_count": 89,
   "id": "f51262eb",
   "metadata": {},
   "outputs": [
    {
     "name": "stdout",
     "output_type": "stream",
     "text": [
      "2426453701872 2426452791824 2426462115696 2426453701872\n"
     ]
    }
   ],
   "source": [
    "a = \"S\"    #2426453701872\n",
    "b = 70\n",
    "c = \"Z\"\n",
    "d = \"S\"    #2426453701872\n",
    "\n",
    "print(id(a), id(b), id(c), id(d))"
   ]
  },
  {
   "cell_type": "code",
   "execution_count": 90,
   "id": "a44ab93a",
   "metadata": {},
   "outputs": [
    {
     "name": "stdout",
     "output_type": "stream",
     "text": [
      "2426452792784 2426452791824 2426568442608\n"
     ]
    }
   ],
   "source": [
    "a = 100\n",
    "b = 70\n",
    "c = 100.0 \n",
    "\n",
    "print(id(a), id(b), id(c))"
   ]
  },
  {
   "cell_type": "code",
   "execution_count": null,
   "id": "bbaeec24",
   "metadata": {},
   "outputs": [],
   "source": []
  }
 ],
 "metadata": {
  "kernelspec": {
   "display_name": "Python 3 (ipykernel)",
   "language": "python",
   "name": "python3"
  },
  "language_info": {
   "codemirror_mode": {
    "name": "ipython",
    "version": 3
   },
   "file_extension": ".py",
   "mimetype": "text/x-python",
   "name": "python",
   "nbconvert_exporter": "python",
   "pygments_lexer": "ipython3",
   "version": "3.9.12"
  }
 },
 "nbformat": 4,
 "nbformat_minor": 5
}
