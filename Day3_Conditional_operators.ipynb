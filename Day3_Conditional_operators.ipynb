{
 "cells": [
  {
   "cell_type": "markdown",
   "id": "5f5d4fb0",
   "metadata": {},
   "source": [
    "# Conditional statements \n",
    "if-else condtions <br>\n",
    "Operators :Logical, Equality, Comparision, Arthimatic"
   ]
  },
  {
   "cell_type": "code",
   "execution_count": 1,
   "id": "ec0a9198",
   "metadata": {},
   "outputs": [
    {
     "name": "stdout",
     "output_type": "stream",
     "text": [
      "Lets do work from home\n"
     ]
    }
   ],
   "source": [
    "#if its is raining then let's work from home else let's go to office\n",
    "raining = True\n",
    "\n",
    "if raining:  # TRUE CONDITION \n",
    "    print(\"Lets do work from home\") # This statement is  exectuted\n",
    "else:\n",
    "    print(\"Lets go to office\")"
   ]
  },
  {
   "cell_type": "code",
   "execution_count": 2,
   "id": "8d0949dc",
   "metadata": {},
   "outputs": [
    {
     "name": "stdout",
     "output_type": "stream",
     "text": [
      "Lets go to office\n"
     ]
    }
   ],
   "source": [
    "#if its is raining then let's work from home else let's go to office\n",
    "raining = False # its not raining\n",
    "\n",
    "if raining: # FALSE CONDITION\n",
    "    print(\"Lets do work from home\") \n",
    "else:\n",
    "    print(\"Lets go to office\") # This statement is exectuted"
   ]
  },
  {
   "cell_type": "markdown",
   "id": "e5a62cd4",
   "metadata": {},
   "source": [
    "# Use of indentation"
   ]
  },
  {
   "cell_type": "code",
   "execution_count": 3,
   "id": "781907a8",
   "metadata": {},
   "outputs": [
    {
     "ename": "IndentationError",
     "evalue": "expected an indented block (551150185.py, line 4)",
     "output_type": "error",
     "traceback": [
      "\u001b[1;36m  Input \u001b[1;32mIn [3]\u001b[1;36m\u001b[0m\n\u001b[1;33m    print(\"Lets do work from home\") # This statemen exectuted\u001b[0m\n\u001b[1;37m    ^\u001b[0m\n\u001b[1;31mIndentationError\u001b[0m\u001b[1;31m:\u001b[0m expected an indented block\n"
     ]
    }
   ],
   "source": [
    " raining = True\n",
    "\n",
    "if raining: # TRUE CONDITION \n",
    "print(\"Lets do work from home\") # This statemen exectuted\n",
    "else:\n",
    "    print(\"Lets go to office\")"
   ]
  },
  {
   "cell_type": "code",
   "execution_count": 4,
   "id": "3b459bf6",
   "metadata": {},
   "outputs": [
    {
     "name": "stdout",
     "output_type": "stream",
     "text": [
      "Since its raining...\n",
      "Lets do work from home\n"
     ]
    }
   ],
   "source": [
    "raining = True\n",
    "\n",
    "if raining: # TRUE CONDITION \n",
    "    print(\"Since its raining...\")\n",
    "    print(\"Lets do work from home\") # This statemen exectuted\n",
    "else:\n",
    "    print(\"Since its not raining...\")\n",
    "    print(\"Lets go to office\")"
   ]
  },
  {
   "cell_type": "code",
   "execution_count": 5,
   "id": "f1ea3e6c",
   "metadata": {},
   "outputs": [
    {
     "name": "stdout",
     "output_type": "stream",
     "text": [
      "Since its raining...\n",
      "Lets do work from home\n"
     ]
    }
   ],
   "source": [
    "#if it's NOT raining then let's let's go to office ELSE let's work from home\n",
    "raining = True\n",
    "\n",
    "if not raining: # False CONDITION \n",
    "    print(\"Since its not raining...\")\n",
    "    print(\"Lets go to office\")    \n",
    "else:\n",
    "    print(\"Since its raining...\")\n",
    "    print(\"Lets do work from home\") # This statement is exectuted"
   ]
  },
  {
   "cell_type": "code",
   "execution_count": 6,
   "id": "86cdf6b0",
   "metadata": {},
   "outputs": [
    {
     "name": "stdout",
     "output_type": "stream",
     "text": [
      "Since its not raining...\n",
      "Lets go to office\n"
     ]
    }
   ],
   "source": [
    "raining = False\n",
    "\n",
    "if not raining: # False CONDITION \n",
    "    print(\"Since its not raining...\")\n",
    "    print(\"Lets go to office\")    \n",
    "else:\n",
    "    print(\"Since its raining...\")\n",
    "    print(\"Lets do work from home\") # This statement is exectuted"
   ]
  },
  {
   "cell_type": "markdown",
   "id": "5b359d99",
   "metadata": {},
   "source": [
    "# Logical opertors: and or not"
   ]
  },
  {
   "cell_type": "code",
   "execution_count": 7,
   "id": "cd14e222",
   "metadata": {},
   "outputs": [
    {
     "name": "stdout",
     "output_type": "stream",
     "text": [
      "Since class started...\n",
      "Lets concentrate\n"
     ]
    }
   ],
   "source": [
    "#if class started then let's concentrate else revise the previous class\n",
    "class_started = True\n",
    "\n",
    "if class_started:\n",
    "    print(\"Since class started...\")\n",
    "    print(\"Lets concentrate\")\n",
    "else:\n",
    "    print(\"Since class is not started...\")\n",
    "    print(\"let's revise\")"
   ]
  },
  {
   "cell_type": "code",
   "execution_count": 8,
   "id": "47a469d7",
   "metadata": {},
   "outputs": [
    {
     "name": "stdout",
     "output_type": "stream",
     "text": [
      "Since class is not started...\n",
      "let's revise\n"
     ]
    }
   ],
   "source": [
    "class_started = False\n",
    "\n",
    "if class_started:\n",
    "    print(\"Since class started...\")\n",
    "    print(\"Lets concentrate\")\n",
    "else:\n",
    "    print(\"Since class is not started...\")\n",
    "    print(\"let's revise\")"
   ]
  },
  {
   "cell_type": "code",
   "execution_count": 9,
   "id": "942c8c52",
   "metadata": {},
   "outputs": [
    {
     "name": "stdout",
     "output_type": "stream",
     "text": [
      "Since class started...\n",
      "Lets concentrate\n"
     ]
    }
   ],
   "source": [
    "#if class NOT started then let's revise else let's concentrate class\n",
    "class_started = True\n",
    "\n",
    "if not class_started:\n",
    "    print(\"Since class is not started...\")\n",
    "    print(\"let's revise\")\n",
    "else:\n",
    "    print(\"Since class started...\")\n",
    "    print(\"Lets concentrate\")"
   ]
  },
  {
   "cell_type": "code",
   "execution_count": 10,
   "id": "a50cfbde",
   "metadata": {},
   "outputs": [
    {
     "name": "stdout",
     "output_type": "stream",
     "text": [
      "Since class is not started...\n",
      "let's revise\n"
     ]
    }
   ],
   "source": [
    "class_started = False\n",
    "\n",
    "if not class_started:\n",
    "    print(\"Since class is not started...\")\n",
    "    print(\"let's revise\")\n",
    "else:\n",
    "    print(\"Since class started...\")\n",
    "    print(\"Lets concentrate\")"
   ]
  },
  {
   "cell_type": "code",
   "execution_count": 12,
   "id": "7f5a594c",
   "metadata": {},
   "outputs": [
    {
     "ename": "IndentationError",
     "evalue": "expected an indented block (3237217977.py, line 5)",
     "output_type": "error",
     "traceback": [
      "\u001b[1;36m  Input \u001b[1;32mIn [12]\u001b[1;36m\u001b[0m\n\u001b[1;33m    print(\"Since class is not started...\")\u001b[0m\n\u001b[1;37m    ^\u001b[0m\n\u001b[1;31mIndentationError\u001b[0m\u001b[1;31m:\u001b[0m expected an indented block\n"
     ]
    }
   ],
   "source": [
    "# statements not alligned properly will give indentation error\n",
    "class_started = False\n",
    "\n",
    "if not class_started:\n",
    "print(\"Since class is not started...\")\n",
    "  print(\"let's revise\")\n",
    "else:\n",
    "print(\"Since class started...\")\n",
    "    print(\"Lets concentrate\")"
   ]
  },
  {
   "cell_type": "code",
   "execution_count": 13,
   "id": "d9b25cf4",
   "metadata": {},
   "outputs": [
    {
     "name": "stdout",
     "output_type": "stream",
     "text": [
      "Since class is not started...\n",
      "let's revise\n"
     ]
    }
   ],
   "source": [
    "# statements not alligned properly will give indentation error\n",
    "class_started = False\n",
    "\n",
    "if not class_started:\n",
    "    print(\"Since class is not started...\")\n",
    "    print(\"let's revise\")\n",
    "else:\n",
    "    print(\"Since class started...\")\n",
    "    print(\"Lets concentrate\")"
   ]
  },
  {
   "cell_type": "markdown",
   "id": "eae4d32d",
   "metadata": {},
   "source": [
    "# and - conditional AND"
   ]
  },
  {
   "cell_type": "code",
   "execution_count": 14,
   "id": "32b7aed4",
   "metadata": {},
   "outputs": [
    {
     "name": "stdout",
     "output_type": "stream",
     "text": [
      "Its a bad dish\n",
      "because vegetable present: False\n",
      "and salt present: False\n"
     ]
    }
   ],
   "source": [
    "vegetable_present = False\n",
    "salt_present = False\n",
    "\n",
    "if vegetable_present and salt_present:\n",
    "    print(\"Its a good dish\")\n",
    "else:\n",
    "    print(\"Its a bad dish\")\n",
    "    print(f\"because vegetable present: {vegetable_present}\")\n",
    "    print(f\"and salt present: {salt_present}\")"
   ]
  },
  {
   "cell_type": "code",
   "execution_count": 15,
   "id": "0f46c1a9",
   "metadata": {},
   "outputs": [
    {
     "name": "stdout",
     "output_type": "stream",
     "text": [
      "Its a bad dish\n",
      "because vegetable present: False\n",
      "and salt present: True\n"
     ]
    }
   ],
   "source": [
    "vegetable_present = False\n",
    "salt_present = True\n",
    "\n",
    "if vegetable_present and salt_present:\n",
    "    print(\"Its a good dish\")\n",
    "else:\n",
    "    print(\"Its a bad dish\")\n",
    "    print(f\"because vegetable present: {vegetable_present}\")\n",
    "    print(f\"and salt present: {salt_present}\")"
   ]
  },
  {
   "cell_type": "code",
   "execution_count": 16,
   "id": "99db69ca",
   "metadata": {},
   "outputs": [
    {
     "name": "stdout",
     "output_type": "stream",
     "text": [
      "Its a bad dish\n",
      "because vegetable present: True\n",
      "and salt present: False\n"
     ]
    }
   ],
   "source": [
    "vegetable_present = True\n",
    "salt_present = False\n",
    "\n",
    "if vegetable_present and salt_present:\n",
    "    print(\"Its a good dish\")\n",
    "else:\n",
    "    print(\"Its a bad dish\")\n",
    "    print(f\"because vegetable present: {vegetable_present}\")\n",
    "    print(f\"and salt present: {salt_present}\")"
   ]
  },
  {
   "cell_type": "code",
   "execution_count": 17,
   "id": "3aa4e908",
   "metadata": {},
   "outputs": [
    {
     "name": "stdout",
     "output_type": "stream",
     "text": [
      "Its a good dish\n"
     ]
    }
   ],
   "source": [
    "#if vegetable and salt both are present in my dish then only my dish is good.\n",
    "vegetable_present = True\n",
    "salt_present = True\n",
    "\n",
    "if vegetable_present and salt_present:         # this condition was true as both the sub conditions are true\n",
    "    print(\"Its a good dish\")\n",
    "else:\n",
    "    print(\"Its a bad dish\")\n",
    "    print(f\"because vegetable present: {vegetable_present}\")\n",
    "    print(f\"and salt present: {salt_present}\")"
   ]
  },
  {
   "cell_type": "code",
   "execution_count": 18,
   "id": "6ecee4db",
   "metadata": {},
   "outputs": [
    {
     "name": "stdout",
     "output_type": "stream",
     "text": [
      "Hello everyone my name is: Sunil\n"
     ]
    }
   ],
   "source": [
    "name = \"Sunil\"\n",
    "print(f\"Hello everyone my name is: {name}\")"
   ]
  },
  {
   "cell_type": "markdown",
   "id": "14b98630",
   "metadata": {},
   "source": [
    "# or conditional OR"
   ]
  },
  {
   "cell_type": "code",
   "execution_count": 19,
   "id": "ad6eaf4c",
   "metadata": {},
   "outputs": [
    {
     "name": "stdout",
     "output_type": "stream",
     "text": [
      "I am stuck as I don't have car or bike!\n"
     ]
    }
   ],
   "source": [
    "#if I have a car or bike then I can travel 100kms in a day\n",
    "own_car = False\n",
    "own_bike = False\n",
    "\n",
    "if own_car or own_bike:\n",
    "    print(\"I can travel 100 kms in a day!\")\n",
    "else:\n",
    "    print(\"I am stuck as I don't have car or bike!\")"
   ]
  },
  {
   "cell_type": "code",
   "execution_count": 20,
   "id": "a469b1c7",
   "metadata": {},
   "outputs": [
    {
     "name": "stdout",
     "output_type": "stream",
     "text": [
      "I can travel 100 kms in a day!\n"
     ]
    }
   ],
   "source": [
    "own_car = False\n",
    "own_bike = True\n",
    "\n",
    "if own_car or own_bike:\n",
    "    print(\"I can travel 100 kms in a day!\")\n",
    "else:\n",
    "    print(\"I am stuck as I don't have car or bike!\")"
   ]
  },
  {
   "cell_type": "code",
   "execution_count": 21,
   "id": "75431122",
   "metadata": {},
   "outputs": [
    {
     "name": "stdout",
     "output_type": "stream",
     "text": [
      "I can travel 100 kms in a day!\n"
     ]
    }
   ],
   "source": [
    "own_car = True\n",
    "own_bike = False\n",
    "\n",
    "if own_car or own_bike:\n",
    "    print(\"I can travel 100 kms in a day!\")\n",
    "else:\n",
    "    print(\"I am stuck as I don't have car or bike!\")"
   ]
  },
  {
   "cell_type": "markdown",
   "id": "558dee58",
   "metadata": {},
   "source": [
    "# Conclusion -\n",
    "use and operator when you want all the condition to be true   <br>\n",
    "use or operator if anyone of the condition you want to be true"
   ]
  },
  {
   "cell_type": "raw",
   "id": "d239b4da",
   "metadata": {},
   "source": [
    "Example-\n",
    "attendance >=75% assignment >=70% eligible_for_exam True"
   ]
  },
  {
   "cell_type": "code",
   "execution_count": 22,
   "id": "87e62088",
   "metadata": {},
   "outputs": [
    {
     "name": "stdout",
     "output_type": "stream",
     "text": [
      "attendence criteria met? : False\n",
      "assignment criteria met? : False\n",
      "The student is not eligible\n"
     ]
    }
   ],
   "source": [
    "attendance = 70\n",
    "assignment_submitted = 40\n",
    "\n",
    "print(f\"attendence criteria met? : {attendance >= 75}\")\n",
    "print(f\"assignment criteria met? : {assignment_submitted >= 70}\")\n",
    "\n",
    "if attendance >= 75 and assignment_submitted >= 70:\n",
    "    print(\"The student is eligible to appear in final exam\")\n",
    "else:\n",
    "    print(\"The student is not eligible\")"
   ]
  },
  {
   "cell_type": "code",
   "execution_count": 23,
   "id": "2cab302c",
   "metadata": {},
   "outputs": [
    {
     "name": "stdout",
     "output_type": "stream",
     "text": [
      "attendence criteria met? : True\n",
      "assignment criteria met? : False\n",
      "The student is not eligible\n"
     ]
    }
   ],
   "source": [
    "attendance = 90\n",
    "assignment_submitted = 40\n",
    "\n",
    "print(f\"attendence criteria met? : {attendance >= 75}\")\n",
    "print(f\"assignment criteria met? : {assignment_submitted >= 70}\")\n",
    "\n",
    "if attendance >= 75 and assignment_submitted >= 70:\n",
    "    print(\"The student is eligible to appear in final exam\")\n",
    "else:\n",
    "    print(\"The student is not eligible\")"
   ]
  },
  {
   "cell_type": "code",
   "execution_count": 24,
   "id": "98962173",
   "metadata": {},
   "outputs": [
    {
     "name": "stdout",
     "output_type": "stream",
     "text": [
      "attendence criteria met? : True\n",
      "assignment criteria met? : True\n",
      "The student is eligible to appear in final exam\n"
     ]
    }
   ],
   "source": [
    "attendance = 90\n",
    "assignment_submitted = 90\n",
    "\n",
    "print(f\"attendence criteria met? : {attendance >= 75}\")\n",
    "print(f\"assignment criteria met? : {assignment_submitted >= 70}\")\n",
    "\n",
    "if attendance >= 75 and assignment_submitted >= 70:\n",
    "    print(\"The student is eligible to appear in final exam\")\n",
    "else:\n",
    "    print(\"The student is not eligible\")"
   ]
  },
  {
   "cell_type": "code",
   "execution_count": 25,
   "id": "a9f1140c",
   "metadata": {},
   "outputs": [
    {
     "name": "stdout",
     "output_type": "stream",
     "text": [
      "Ask from a father for debit or credit card?\n",
      "cash on delivery?\n"
     ]
    }
   ],
   "source": [
    "#credit_card, debit_card, purchase_book_from_amazon(True --->True----->True)\n",
    "own_credit_card = False\n",
    "own_debit_card = False\n",
    "\n",
    "if own_credit_card or own_debit_card:\n",
    "    print(\"proceed further for payment\")\n",
    "else:\n",
    "    print(\"Ask from a father for debit or credit card?\")\n",
    "    print(\"cash on delivery?\")"
   ]
  },
  {
   "cell_type": "code",
   "execution_count": 26,
   "id": "4df43134",
   "metadata": {},
   "outputs": [
    {
     "name": "stdout",
     "output_type": "stream",
     "text": [
      "proceed further for payment\n"
     ]
    }
   ],
   "source": [
    "own_credit_card = False\n",
    "own_debit_card = True\n",
    "\n",
    "if own_credit_card or own_debit_card:\n",
    "    print(\"proceed further for payment\")\n",
    "else:\n",
    "    print(\"Ask from a dad for debit or credit card?\")\n",
    "    print(\"cash on delivery?\")"
   ]
  },
  {
   "cell_type": "code",
   "execution_count": 27,
   "id": "5edd64b7",
   "metadata": {},
   "outputs": [
    {
     "name": "stdout",
     "output_type": "stream",
     "text": [
      "proceed further for payment\n"
     ]
    }
   ],
   "source": [
    "own_credit_card = False\n",
    "own_debit_card = False\n",
    "Net_banking = True\n",
    "\n",
    "if own_credit_card or own_debit_card or Net_banking:\n",
    "    print(\"proceed further for payment\")\n",
    "else:\n",
    "    print(\"Ask from a dad for debit or credit card?\")\n",
    "    print(\"cash on delivery?\")"
   ]
  },
  {
   "cell_type": "code",
   "execution_count": 28,
   "id": "369c80f0",
   "metadata": {},
   "outputs": [
    {
     "name": "stdout",
     "output_type": "stream",
     "text": [
      "attendence criteria met? : False\n",
      "assignment criteria met? : False\n",
      "sports criteria met? : True\n",
      "The student is not eligible\n"
     ]
    }
   ],
   "source": [
    "#\n",
    "attendance = 70\n",
    "assignment_submitted = 40\n",
    "sports_player = True\n",
    "\n",
    "print(f\"attendence criteria met? : {attendance >= 75}\")\n",
    "print(f\"assignment criteria met? : {assignment_submitted >= 70}\")\n",
    "print(f\"sports criteria met? : {sports_player}\")\n",
    "\n",
    "if attendance >= 75 and assignment_submitted >= 70:\n",
    "    if sports_player:\n",
    "        print(\"The student is eligible to appear in final exam\")\n",
    "    else:\n",
    "        print(\"The student is eligible to appear in final exam\")\n",
    "else:\n",
    "    print(\"The student is not eligible\")"
   ]
  },
  {
   "cell_type": "raw",
   "id": "0d398c66",
   "metadata": {},
   "source": [
    "attendance\tassignment\tsports_player\teligible_for_exam\n",
    ">=75%\t       >=70%\t  False\t          True\n",
    ">=75%\t       >=70%\t  True\t          True"
   ]
  },
  {
   "cell_type": "code",
   "execution_count": 30,
   "id": "a31a1bbb",
   "metadata": {},
   "outputs": [
    {
     "name": "stdout",
     "output_type": "stream",
     "text": [
      "attendence criteria met? : False\n",
      "assignment criteria met? : False\n",
      "sports criteria met? : True\n",
      "The student is not eligible\n"
     ]
    }
   ],
   "source": [
    "attendance = 70\n",
    "assignment_submitted = 40\n",
    "sports_player = True\n",
    "\n",
    "print(f\"attendence criteria met? : {attendance >= 75}\")\n",
    "print(f\"assignment criteria met? : {assignment_submitted >= 70}\")\n",
    "print(f\"sports criteria met? : {sports_player}\")\n",
    "\n",
    "if attendance >= 75 and assignment_submitted >= 70:\n",
    "    if sports_player:\n",
    "        print(\"The student is eligible to appear in final exam\")\n",
    "    else:\n",
    "        print(\"The student is eligible to appear in final exam\")\n",
    "else:\n",
    "    print(\"The student is not eligible\")"
   ]
  },
  {
   "cell_type": "markdown",
   "id": "6df19e83",
   "metadata": {},
   "source": [
    "if attendence is more than 75% and assignment completed more than 70% OR the student is sports player then only the student is eligible for exam\n",
    "\n",
    "if you are sports player then you will get grace marks = +10"
   ]
  },
  {
   "cell_type": "code",
   "execution_count": 31,
   "id": "eff1f0a9",
   "metadata": {},
   "outputs": [
    {
     "name": "stdout",
     "output_type": "stream",
     "text": [
      "attendence criteria met? : True\n",
      "assignment criteria met? : True\n",
      "sports criteria met? : False\n",
      "The student is eligible to appear in final exam but not extra grace marks\n"
     ]
    }
   ],
   "source": [
    "# complex conditional casses as mentioned above -\n",
    "attendance = 90 # mendatory\n",
    "assignment_submitted = 75 # mendatory\n",
    "sports_player = False # not mendatory\n",
    "\n",
    "print(f\"attendence criteria met? : {attendance >= 75}\")\n",
    "print(f\"assignment criteria met? : {assignment_submitted >= 70}\")\n",
    "print(f\"sports criteria met? : {sports_player}\")\n",
    "\n",
    "if attendance >= 75 and assignment_submitted >= 70:\n",
    "    if sports_player:\n",
    "        print(\"The student is can get grace marks = +10\")\n",
    "    else:\n",
    "        print(\"The student is eligible to appear in final exam but not extra grace marks\")\n",
    "else:\n",
    "    print(\"The student is not eligible\")"
   ]
  },
  {
   "cell_type": "code",
   "execution_count": 32,
   "id": "2c372029",
   "metadata": {},
   "outputs": [
    {
     "name": "stdout",
     "output_type": "stream",
     "text": [
      "attendence criteria met? : True\n",
      "assignment criteria met? : True\n",
      "sports criteria met? : True\n",
      "The student can get grace marks = +10\n"
     ]
    }
   ],
   "source": [
    "# complex conditional casses as mentioned above -\n",
    "attendance = 90 # mendatory\n",
    "assignment_submitted = 75 # mendatory\n",
    "sports_player = True # not mendatory\n",
    "\n",
    "print(f\"attendence criteria met? : {attendance >= 75}\")\n",
    "print(f\"assignment criteria met? : {assignment_submitted >= 70}\")\n",
    "print(f\"sports criteria met? : {sports_player}\")\n",
    "\n",
    "if attendance >= 75 and assignment_submitted >= 70:\n",
    "    if sports_player:\n",
    "        print(\"The student can get grace marks = +10\")\n",
    "    else:\n",
    "        print(\"The student is eligible to appear in final exam but not extra grace marks\")\n",
    "else:\n",
    "    print(\"The student is not eligible\")"
   ]
  },
  {
   "cell_type": "code",
   "execution_count": 33,
   "id": "74a5c8cd",
   "metadata": {},
   "outputs": [
    {
     "name": "stdout",
     "output_type": "stream",
     "text": [
      "attendence criteria met? : True\n",
      "assignment criteria met? : False\n",
      "sports criteria met? : True\n",
      "The student is not eligible\n"
     ]
    }
   ],
   "source": [
    "# complex conditional casses as mentioned above -\n",
    "attendance = 90 # mendatory\n",
    "assignment_submitted = 40 # mendatory\n",
    "sports_player = True # not mendatory\n",
    "\n",
    "print(f\"attendence criteria met? : {attendance >= 75}\")\n",
    "print(f\"assignment criteria met? : {assignment_submitted >= 70}\")\n",
    "print(f\"sports criteria met? : {sports_player}\")\n",
    "\n",
    "if attendance >= 75 and assignment_submitted >= 70:\n",
    "    if sports_player:\n",
    "        print(\"The student can get grace marks = +10\")\n",
    "    else:\n",
    "        print(\"The student is eligible to appear in final exam but not extra grace marks\")\n",
    "else:\n",
    "    print(\"The student is not eligible\")"
   ]
  },
  {
   "cell_type": "markdown",
   "id": "c80a48ab",
   "metadata": {},
   "source": [
    "# Equality Operators\n",
    "\n",
    "When using is then we are also comparing memory location When using is not then we are also comparing memory location  <br>\n",
    "\n",
    "== and != is only checking value of the variables [Used more offently or frequently]"
   ]
  },
  {
   "cell_type": "code",
   "execution_count": 34,
   "id": "b457a85b",
   "metadata": {},
   "outputs": [
    {
     "name": "stdout",
     "output_type": "stream",
     "text": [
      "A and B are same\n"
     ]
    }
   ],
   "source": [
    "A = 1\n",
    "B = 1\n",
    "\n",
    "if A is B:\n",
    "    print(\"A and B are same\")\n",
    "else:\n",
    "    print(\"A and B are not same\")"
   ]
  },
  {
   "cell_type": "code",
   "execution_count": 35,
   "id": "986df68d",
   "metadata": {},
   "outputs": [
    {
     "data": {
      "text/plain": [
       "1785010022704"
      ]
     },
     "execution_count": 35,
     "metadata": {},
     "output_type": "execute_result"
    }
   ],
   "source": [
    "id(A)"
   ]
  },
  {
   "cell_type": "code",
   "execution_count": 36,
   "id": "6bf3ff0d",
   "metadata": {},
   "outputs": [
    {
     "data": {
      "text/plain": [
       "1785010022704"
      ]
     },
     "execution_count": 36,
     "metadata": {},
     "output_type": "execute_result"
    }
   ],
   "source": [
    "id(B)"
   ]
  },
  {
   "cell_type": "code",
   "execution_count": 37,
   "id": "e8075f10",
   "metadata": {},
   "outputs": [
    {
     "name": "stdout",
     "output_type": "stream",
     "text": [
      "A and B are not same\n"
     ]
    }
   ],
   "source": [
    "A = 1\n",
    "B = 2\n",
    "\n",
    "if A is B:\n",
    "    print(\"A and B are same\")\n",
    "else:\n",
    "    print(\"A and B are not same\")"
   ]
  },
  {
   "cell_type": "code",
   "execution_count": 38,
   "id": "741e2dac",
   "metadata": {},
   "outputs": [
    {
     "name": "stdout",
     "output_type": "stream",
     "text": [
      "A and B are not same\n"
     ]
    }
   ],
   "source": [
    "A = 1\n",
    "B = 2\n",
    "\n",
    "if A is not B:\n",
    "    print(\"A and B are not same\")\n",
    "else:\n",
    "    print(\"A and B are same\")"
   ]
  },
  {
   "cell_type": "code",
   "execution_count": 39,
   "id": "e99cb8d4",
   "metadata": {},
   "outputs": [
    {
     "name": "stdout",
     "output_type": "stream",
     "text": [
      "A and B are same\n"
     ]
    }
   ],
   "source": [
    "A = 1\n",
    "B = 1\n",
    "\n",
    "if A == B: # A and B are having same value\n",
    "    print(\"A and B are same\")\n",
    "else:\n",
    "    print(\"A and B are not same\")"
   ]
  },
  {
   "cell_type": "code",
   "execution_count": 40,
   "id": "f8133318",
   "metadata": {},
   "outputs": [
    {
     "name": "stdout",
     "output_type": "stream",
     "text": [
      "A and B are not same\n"
     ]
    }
   ],
   "source": [
    "A = 1\n",
    "B = 2\n",
    "\n",
    "if A != B:\n",
    "    print(\"A and B are not same\")\n",
    "else:\n",
    "    print(\"A and B are same\")"
   ]
  },
  {
   "cell_type": "code",
   "execution_count": 41,
   "id": "5140a0bb",
   "metadata": {},
   "outputs": [
    {
     "data": {
      "text/plain": [
       "True"
      ]
     },
     "execution_count": 41,
     "metadata": {},
     "output_type": "execute_result"
    }
   ],
   "source": [
    "A = \"Sunil\"\n",
    "B = \"Sunil\"\n",
    "\n",
    "A is B"
   ]
  },
  {
   "cell_type": "code",
   "execution_count": 42,
   "id": "ec9a8976",
   "metadata": {},
   "outputs": [
    {
     "data": {
      "text/plain": [
       "False"
      ]
     },
     "execution_count": 42,
     "metadata": {},
     "output_type": "execute_result"
    }
   ],
   "source": [
    "A = [\"Sunil\", \"Santosh\"]  # list data structure     # array in other language\n",
    "B = [\"Sunil\", \"Santosh\"]  # list data structure\n",
    "\n",
    "A is B"
   ]
  },
  {
   "cell_type": "code",
   "execution_count": 43,
   "id": "a89ec71d",
   "metadata": {},
   "outputs": [
    {
     "data": {
      "text/plain": [
       "True"
      ]
     },
     "execution_count": 43,
     "metadata": {},
     "output_type": "execute_result"
    }
   ],
   "source": [
    "A == B"
   ]
  },
  {
   "cell_type": "code",
   "execution_count": 44,
   "id": "6dabb538",
   "metadata": {},
   "outputs": [
    {
     "data": {
      "text/plain": [
       "True"
      ]
     },
     "execution_count": 44,
     "metadata": {},
     "output_type": "execute_result"
    }
   ],
   "source": [
    "A is not B"
   ]
  },
  {
   "cell_type": "code",
   "execution_count": 45,
   "id": "dc5b1a44",
   "metadata": {},
   "outputs": [
    {
     "data": {
      "text/plain": [
       "1785097330944"
      ]
     },
     "execution_count": 45,
     "metadata": {},
     "output_type": "execute_result"
    }
   ],
   "source": [
    "id(A)"
   ]
  },
  {
   "cell_type": "code",
   "execution_count": 46,
   "id": "42556f12",
   "metadata": {},
   "outputs": [
    {
     "data": {
      "text/plain": [
       "1785097331520"
      ]
     },
     "execution_count": 46,
     "metadata": {},
     "output_type": "execute_result"
    }
   ],
   "source": [
    "id(B)"
   ]
  },
  {
   "cell_type": "code",
   "execution_count": 47,
   "id": "04c09652",
   "metadata": {},
   "outputs": [
    {
     "name": "stdout",
     "output_type": "stream",
     "text": [
      "Enter the value of A: 1\n",
      "Enter the value of B: 1\n"
     ]
    },
    {
     "data": {
      "text/plain": [
       "True"
      ]
     },
     "execution_count": 47,
     "metadata": {},
     "output_type": "execute_result"
    }
   ],
   "source": [
    "A = int(input(\"Enter the value of A: \"))\n",
    "B = int(input(\"Enter the value of B: \"))\n",
    "\n",
    "A is B"
   ]
  },
  {
   "cell_type": "code",
   "execution_count": 48,
   "id": "e535674f",
   "metadata": {},
   "outputs": [
    {
     "name": "stdout",
     "output_type": "stream",
     "text": [
      "Enter the value of B: 1\n"
     ]
    },
    {
     "data": {
      "text/plain": [
       "True"
      ]
     },
     "execution_count": 48,
     "metadata": {},
     "output_type": "execute_result"
    }
   ],
   "source": [
    "A = 1\n",
    "B = int(input(\"Enter the value of B: \"))\n",
    "\n",
    "A is B"
   ]
  },
  {
   "cell_type": "code",
   "execution_count": 50,
   "id": "d15bedd4",
   "metadata": {},
   "outputs": [
    {
     "name": "stdout",
     "output_type": "stream",
     "text": [
      "Enter your name: Sunil Shahaji Zambare\n",
      "He is the mentor\n"
     ]
    }
   ],
   "source": [
    "name = input(\"Enter your name: \")\n",
    "\n",
    "if name == \"Sunil Shahaji Zambare\":\n",
    "    print(f\"He is the mentor\")\n",
    "else:\n",
    "    print(f\"Its possible that he/she is a student\")"
   ]
  },
  {
   "cell_type": "code",
   "execution_count": 51,
   "id": "6b29a4be",
   "metadata": {},
   "outputs": [
    {
     "name": "stdout",
     "output_type": "stream",
     "text": [
      "Enter your name: Rahul\n",
      "Its possible that he/she is a student\n"
     ]
    }
   ],
   "source": [
    "name = input(\"Enter your name: \")\n",
    "\n",
    "if name == \"Sunil Shahaji Zambare\":\n",
    "    print(f\"He is the mentor\")\n",
    "else:\n",
    "    print(f\"Its possible that he/she is a student\")"
   ]
  },
  {
   "cell_type": "code",
   "execution_count": 55,
   "id": "b186dff4",
   "metadata": {},
   "outputs": [
    {
     "name": "stdout",
     "output_type": "stream",
     "text": [
      "Enter your name: sunil shahaji zambare\n",
      "Its possible that he/she is a student\n"
     ]
    }
   ],
   "source": [
    "name = input(\"Enter your name: \")\n",
    "\n",
    "if name == \"Sunil Shahaji Zambare\":\n",
    "    print(\"He is the mentor\")\n",
    "else:\n",
    "    print(\"Its possible that he/she is a student\")"
   ]
  },
  {
   "cell_type": "code",
   "execution_count": 56,
   "id": "7ab5ef67",
   "metadata": {},
   "outputs": [
    {
     "name": "stdout",
     "output_type": "stream",
     "text": [
      "Enter your name: Sunil Zambare\n",
      "Its possible that he/she is a student\n"
     ]
    }
   ],
   "source": [
    "name = input(\"Enter your name: \")\n",
    "\n",
    "if name == \"Sunil Shahaji Zambare\":\n",
    "    print(f\"He is the mentor\")\n",
    "else:\n",
    "    print(f\"Its possible that he/she is a student\")"
   ]
  },
  {
   "cell_type": "markdown",
   "id": "b886bd6a",
   "metadata": {},
   "source": [
    "# Comparision"
   ]
  },
  {
   "cell_type": "code",
   "execution_count": 57,
   "id": "26039943",
   "metadata": {},
   "outputs": [
    {
     "name": "stdout",
     "output_type": "stream",
     "text": [
      "attendence criteria met? : True\n",
      "assignment criteria met? : True\n",
      "The student is eligible to appear in final exam\n"
     ]
    }
   ],
   "source": [
    "attendance = 75\n",
    "assignment_submitted = 70\n",
    "\n",
    "print(f\"attendence criteria met? : {attendance >= 75}\")\n",
    "print(f\"assignment criteria met? : {assignment_submitted >= 70}\")\n",
    "\n",
    "if attendance >= 75 and assignment_submitted >= 70:\n",
    "    print(\"The student is eligible to appear in final exam\")\n",
    "else:\n",
    "    print(\"The student is not eligible\")"
   ]
  },
  {
   "cell_type": "code",
   "execution_count": 58,
   "id": "e1a9dca8",
   "metadata": {},
   "outputs": [
    {
     "name": "stdout",
     "output_type": "stream",
     "text": [
      "Since you have scored: 40, you have passed the exams!\n"
     ]
    }
   ],
   "source": [
    "your_score = 40\n",
    "passing_marks = 33.33\n",
    "\n",
    "if your_score >= 33.33:\n",
    "    print(f\"Since you have scored: {your_score}, you have passed the exams!\")\n",
    "else:\n",
    "    print(\"Dad: You should have taken things seriously!\")"
   ]
  },
  {
   "cell_type": "code",
   "execution_count": 59,
   "id": "123a77ea",
   "metadata": {},
   "outputs": [
    {
     "name": "stdout",
     "output_type": "stream",
     "text": [
      "Father: You should have taken things seriously!\n"
     ]
    }
   ],
   "source": [
    "your_score = 30\n",
    "passing_marks = 33.33\n",
    "\n",
    "if your_score >= 33.33:\n",
    "    print(f\"Since you have scored: {your_score}, you have passed the exams!\")\n",
    "else:\n",
    "    print(\"Father: You should have taken things seriously!\")"
   ]
  },
  {
   "cell_type": "code",
   "execution_count": 60,
   "id": "e119d927",
   "metadata": {},
   "outputs": [
    {
     "name": "stdout",
     "output_type": "stream",
     "text": [
      "Father:You should have taken things seriously!\n"
     ]
    }
   ],
   "source": [
    "your_score = 33.33\n",
    "passing_marks = 33.33\n",
    "\n",
    "if your_score > 33.33: # strict case\n",
    "    print(f\"Since you have scored: {your_score}, you have passed the exams!\")\n",
    "else:\n",
    "    print(\"Father:You should have taken things seriously!\")"
   ]
  },
  {
   "cell_type": "code",
   "execution_count": 61,
   "id": "a96fbc9f",
   "metadata": {},
   "outputs": [
    {
     "name": "stdout",
     "output_type": "stream",
     "text": [
      "Since you have scored: 33.33, you have passed the exams!\n"
     ]
    }
   ],
   "source": [
    "your_score = 33.33\n",
    "passing_marks = 33.33\n",
    "distinction_marks = 75\n",
    "\n",
    "if your_score >= 33.33: # strict case\n",
    "    print(f\"Since you have scored: {your_score}, you have passed the exams!\")\n",
    "    if your_score > distinction_marks:\n",
    "        print(\"Dad: I will buy you a bike! Well Done!!\")\n",
    "else:\n",
    "    print(\"Father:  You should have taken things seriously!\")"
   ]
  },
  {
   "cell_type": "code",
   "execution_count": 63,
   "id": "c595e2ad",
   "metadata": {},
   "outputs": [
    {
     "name": "stdout",
     "output_type": "stream",
     "text": [
      "Since you have scored: 90, you have passed the exams!\n",
      "Father:  I will buy you a bike! Well Done!!\n"
     ]
    }
   ],
   "source": [
    "your_score = 90\n",
    "passing_marks = 33.33\n",
    "distinction_marks = 75\n",
    "\n",
    "if your_score > 33.33: # strict case\n",
    "    print(f\"Since you have scored: {your_score}, you have passed the exams!\")\n",
    "    if your_score > distinction_marks:\n",
    "        print(\"Father:  I will buy you a bike! Well Done!!\")\n",
    "else:\n",
    "    print(\"Father: You should have taken things seriously!\")"
   ]
  },
  {
   "cell_type": "code",
   "execution_count": 65,
   "id": "e26603a5",
   "metadata": {},
   "outputs": [
    {
     "name": "stdout",
     "output_type": "stream",
     "text": [
      "Since you have scored: 60, you have passed the exams!\n",
      "Father: Better luck next time!\n"
     ]
    }
   ],
   "source": [
    "your_score = 60\n",
    "passing_marks = 33.33\n",
    "distinction_marks = 75\n",
    "\n",
    "if your_score > 33.33: # strict case\n",
    "    print(f\"Since you have scored: {your_score}, you have passed the exams!\")\n",
    "    if your_score > distinction_marks:\n",
    "        print(\"Father: I will buy you a bike! Well Done!!\")\n",
    "    else:\n",
    "        print(\"Father: Better luck next time!\")\n",
    "else:\n",
    "    print(\"Father: You should have taken things seriously!\")"
   ]
  },
  {
   "cell_type": "code",
   "execution_count": null,
   "id": "c354218f",
   "metadata": {},
   "outputs": [],
   "source": []
  }
 ],
 "metadata": {
  "kernelspec": {
   "display_name": "Python 3 (ipykernel)",
   "language": "python",
   "name": "python3"
  },
  "language_info": {
   "codemirror_mode": {
    "name": "ipython",
    "version": 3
   },
   "file_extension": ".py",
   "mimetype": "text/x-python",
   "name": "python",
   "nbconvert_exporter": "python",
   "pygments_lexer": "ipython3",
   "version": "3.9.12"
  }
 },
 "nbformat": 4,
 "nbformat_minor": 5
}
