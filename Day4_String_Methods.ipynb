{
 "cells": [
  {
   "cell_type": "markdown",
   "id": "042102c4",
   "metadata": {},
   "source": [
    "## Arithmatic Operators addition(+),subtraction(-), multiplication(*), true division(precision) /, integer division(floor divion) //,the modulo operator %"
   ]
  },
  {
   "cell_type": "code",
   "execution_count": 1,
   "id": "bf8df687",
   "metadata": {},
   "outputs": [
    {
     "name": "stdout",
     "output_type": "stream",
     "text": [
      "integer division: 14 / 2 = 7\n"
     ]
    }
   ],
   "source": [
    "# Usecase or examples \n",
    "var_a = 2\n",
    "var_b = 14\n",
    "integer_division = var_b // var_a\n",
    "print(f\"integer division: {var_b} / {var_a} = {integer_division}\")"
   ]
  },
  {
   "cell_type": "code",
   "execution_count": 2,
   "id": "1cada81c",
   "metadata": {},
   "outputs": [
    {
     "name": "stdout",
     "output_type": "stream",
     "text": [
      "integer division: 26 / 3 = 8\n"
     ]
    }
   ],
   "source": [
    "var_a = 3\n",
    "var_b = 26\n",
    "integer_division = var_b // var_a\n",
    "print(f\"integer division: {var_b} / {var_a} = {integer_division}\")"
   ]
  },
  {
   "cell_type": "code",
   "execution_count": 3,
   "id": "dafb91ce",
   "metadata": {},
   "outputs": [
    {
     "name": "stdout",
     "output_type": "stream",
     "text": [
      "remainder: 14 / 2 is 0\n"
     ]
    }
   ],
   "source": [
    "var_a = 2\n",
    "var_b = 14\n",
    "remainder = var_b % var_a\n",
    "print(f\"remainder: {var_b} / {var_a} is {remainder}\")"
   ]
  },
  {
   "cell_type": "code",
   "execution_count": 4,
   "id": "6f44fe40",
   "metadata": {},
   "outputs": [
    {
     "name": "stdout",
     "output_type": "stream",
     "text": [
      "remainder: 26 / 3 is 2\n"
     ]
    }
   ],
   "source": [
    "var_a = 3\n",
    "var_b = 26\n",
    "remainder = var_b % var_a\n",
    "print(f\"remainder: {var_b} / {var_a} is {remainder}\")"
   ]
  },
  {
   "cell_type": "code",
   "execution_count": 5,
   "id": "712509a3",
   "metadata": {},
   "outputs": [
    {
     "data": {
      "text/plain": [
       "47"
      ]
     },
     "execution_count": 5,
     "metadata": {},
     "output_type": "execute_result"
    }
   ],
   "source": [
    "A = 23\n",
    "B = 24\n",
    "\n",
    "A + B"
   ]
  },
  {
   "cell_type": "code",
   "execution_count": 6,
   "id": "bd956005",
   "metadata": {},
   "outputs": [
    {
     "data": {
      "text/plain": [
       "-1"
      ]
     },
     "execution_count": 6,
     "metadata": {},
     "output_type": "execute_result"
    }
   ],
   "source": [
    "A - B"
   ]
  },
  {
   "cell_type": "code",
   "execution_count": 7,
   "id": "37338de3",
   "metadata": {},
   "outputs": [
    {
     "data": {
      "text/plain": [
       "0.9583333333333334"
      ]
     },
     "execution_count": 7,
     "metadata": {},
     "output_type": "execute_result"
    }
   ],
   "source": [
    "A / B"
   ]
  },
  {
   "cell_type": "code",
   "execution_count": 8,
   "id": "b9bcc1ec",
   "metadata": {},
   "outputs": [
    {
     "data": {
      "text/plain": [
       "0"
      ]
     },
     "execution_count": 8,
     "metadata": {},
     "output_type": "execute_result"
    }
   ],
   "source": [
    "A // B"
   ]
  },
  {
   "cell_type": "code",
   "execution_count": 9,
   "id": "7af214f7",
   "metadata": {},
   "outputs": [
    {
     "data": {
      "text/plain": [
       "2"
      ]
     },
     "execution_count": 9,
     "metadata": {},
     "output_type": "execute_result"
    }
   ],
   "source": [
    "A = 5\n",
    "B = 2\n",
    "\n",
    "A // B "
   ]
  },
  {
   "cell_type": "code",
   "execution_count": 10,
   "id": "dbb196b3",
   "metadata": {},
   "outputs": [
    {
     "data": {
      "text/plain": [
       "1"
      ]
     },
     "execution_count": 10,
     "metadata": {},
     "output_type": "execute_result"
    }
   ],
   "source": [
    "A % B"
   ]
  },
  {
   "cell_type": "code",
   "execution_count": 12,
   "id": "88994421",
   "metadata": {},
   "outputs": [
    {
     "data": {
      "text/plain": [
       "2"
      ]
     },
     "execution_count": 12,
     "metadata": {},
     "output_type": "execute_result"
    }
   ],
   "source": [
    "A % B"
   ]
  },
  {
   "cell_type": "code",
   "execution_count": 13,
   "id": "cb378845",
   "metadata": {},
   "outputs": [
    {
     "name": "stdout",
     "output_type": "stream",
     "text": [
      "A: 75 is NOT divisible by B: 2\n"
     ]
    }
   ],
   "source": [
    "A = 75\n",
    "B = 2 \n",
    "\n",
    "if A % B == 0:\n",
    "    print(f\"A: {A} is divisible by B: {B}\")\n",
    "else:\n",
    "    print(f\"A: {A} is NOT divisible by B: {B}\")"
   ]
  },
  {
   "cell_type": "code",
   "execution_count": 14,
   "id": "a5188f38",
   "metadata": {},
   "outputs": [
    {
     "name": "stdout",
     "output_type": "stream",
     "text": [
      "A: 74 is divisible by B: 2\n"
     ]
    }
   ],
   "source": [
    "A = 74\n",
    "B = 2 \n",
    "\n",
    "if A % B == 0:\n",
    "    print(f\"A: {A} is divisible by B: {B}\")\n",
    "else:\n",
    "    print(f\"A: {A} is NOT divisible by B: {B}\")"
   ]
  },
  {
   "cell_type": "code",
   "execution_count": 16,
   "id": "4030047c",
   "metadata": {},
   "outputs": [
    {
     "name": "stdout",
     "output_type": "stream",
     "text": [
      "A: 35 is NOT divisible by B: 3\n"
     ]
    }
   ],
   "source": [
    "A = 35\n",
    "B = 3 \n",
    "\n",
    "if A % B == 0:\n",
    "    print(f\"A: {A} is divisible by B: {B}\")\n",
    "else:\n",
    "    print(f\"A: {A} is NOT divisible by B: {B}\")"
   ]
  },
  {
   "cell_type": "code",
   "execution_count": 17,
   "id": "56a548a3",
   "metadata": {},
   "outputs": [
    {
     "data": {
      "text/plain": [
       "2.0"
      ]
     },
     "execution_count": 17,
     "metadata": {},
     "output_type": "execute_result"
    }
   ],
   "source": [
    "A = 4\n",
    "\n",
    "A**(1/2)"
   ]
  },
  {
   "cell_type": "markdown",
   "id": "c2fff99c",
   "metadata": {},
   "source": [
    "# String methods\n",
    "if N characters or elements are there in a string then\n",
    "\n",
    "the index range will vary from 0 to N-1 for example is \"Sunil\" N = 5 index value is ranging from 0 to 4\n",
    "\n",
    "to index in reverse order the index ranges from -1 to -N"
   ]
  },
  {
   "cell_type": "code",
   "execution_count": 18,
   "id": "38b1c760",
   "metadata": {},
   "outputs": [
    {
     "data": {
      "text/plain": [
       "'S'"
      ]
     },
     "execution_count": 18,
     "metadata": {},
     "output_type": "execute_result"
    }
   ],
   "source": [
    "# String indexing\n",
    "#        0 1 2 3 4\n",
    "#       -5-4-3-2-1\n",
    "name = \"Sunil\"\n",
    "\n",
    "name[0]"
   ]
  },
  {
   "cell_type": "code",
   "execution_count": 19,
   "id": "56a9bb26",
   "metadata": {},
   "outputs": [
    {
     "data": {
      "text/plain": [
       "'l'"
      ]
     },
     "execution_count": 19,
     "metadata": {},
     "output_type": "execute_result"
    }
   ],
   "source": [
    "name[4]"
   ]
  },
  {
   "cell_type": "code",
   "execution_count": 20,
   "id": "ff3df9b4",
   "metadata": {},
   "outputs": [
    {
     "data": {
      "text/plain": [
       "'l'"
      ]
     },
     "execution_count": 20,
     "metadata": {},
     "output_type": "execute_result"
    }
   ],
   "source": [
    "name[-1]"
   ]
  },
  {
   "cell_type": "code",
   "execution_count": 21,
   "id": "d826ff44",
   "metadata": {},
   "outputs": [
    {
     "data": {
      "text/plain": [
       "'S'"
      ]
     },
     "execution_count": 21,
     "metadata": {},
     "output_type": "execute_result"
    }
   ],
   "source": [
    "name[-5]"
   ]
  },
  {
   "cell_type": "code",
   "execution_count": 22,
   "id": "45e17ffe",
   "metadata": {},
   "outputs": [
    {
     "data": {
      "text/plain": [
       "'unil'"
      ]
     },
     "execution_count": 22,
     "metadata": {},
     "output_type": "execute_result"
    }
   ],
   "source": [
    "# String slicing \n",
    "#        0 1 2 3 4\n",
    "#       -5-4-3-2-1\n",
    "name = \"Sunil\"\n",
    "\n",
    "name[1:] # [starting : ending]"
   ]
  },
  {
   "cell_type": "code",
   "execution_count": 23,
   "id": "e1977150",
   "metadata": {},
   "outputs": [
    {
     "data": {
      "text/plain": [
       "'un'"
      ]
     },
     "execution_count": 23,
     "metadata": {},
     "output_type": "execute_result"
    }
   ],
   "source": [
    "name[1:3] # This means that ending is excluded"
   ]
  },
  {
   "cell_type": "code",
   "execution_count": 24,
   "id": "9eb3e62e",
   "metadata": {},
   "outputs": [
    {
     "data": {
      "text/plain": [
       "'uni'"
      ]
     },
     "execution_count": 24,
     "metadata": {},
     "output_type": "execute_result"
    }
   ],
   "source": [
    "name[1:4]"
   ]
  },
  {
   "cell_type": "code",
   "execution_count": 25,
   "id": "44e2e3ca",
   "metadata": {},
   "outputs": [
    {
     "data": {
      "text/plain": [
       "'unil'"
      ]
     },
     "execution_count": 25,
     "metadata": {},
     "output_type": "execute_result"
    }
   ],
   "source": [
    "name[1:5] # 5 is not included"
   ]
  },
  {
   "cell_type": "code",
   "execution_count": 26,
   "id": "924d6e8f",
   "metadata": {},
   "outputs": [
    {
     "data": {
      "text/plain": [
       "'uni'"
      ]
     },
     "execution_count": 26,
     "metadata": {},
     "output_type": "execute_result"
    }
   ],
   "source": [
    "name[-4:-1]"
   ]
  },
  {
   "cell_type": "code",
   "execution_count": 28,
   "id": "d18df301",
   "metadata": {},
   "outputs": [
    {
     "name": "stdout",
     "output_type": "stream",
     "text": [
      "its 06th of the month: 05 of the year: 2023\n"
     ]
    }
   ],
   "source": [
    "# index 0123456789\n",
    "date = \"06/05/2023\"\n",
    "\n",
    "# today's date, Month and year\n",
    "\n",
    "today_s_date = date[0:2]\n",
    "month = date[3:5]\n",
    "year = date[6:]\n",
    "\n",
    "print(f\"its {today_s_date}th of the month: {month} of the year: {year}\")"
   ]
  },
  {
   "cell_type": "code",
   "execution_count": 29,
   "id": "251a235f",
   "metadata": {},
   "outputs": [
    {
     "name": "stdout",
     "output_type": "stream",
     "text": [
      "enter date of birth in the format DD/MM/YYYY: 14/10/1986\n",
      "The user was born in the month of 10 in the year: 1986 on date: 14\n"
     ]
    }
   ],
   "source": [
    "# index 0123456789\n",
    "data = input(\"enter date of birth in the format DD/MM/YYYY: \")\n",
    "\n",
    "# today's date, Month and year\n",
    "\n",
    "date = data[0:2]\n",
    "month = data[3:5]\n",
    "year = data[6:]\n",
    "\n",
    "print(f\"The user was born in the month of {month} in the year: {year} on date: {date}\")"
   ]
  },
  {
   "cell_type": "code",
   "execution_count": 31,
   "id": "937b0efe",
   "metadata": {},
   "outputs": [
    {
     "name": "stdout",
     "output_type": "stream",
     "text": [
      "enter date of birth in the format DD/MMM/YYYY: 14/OCT/1986\n",
      "The user was born in the month of OCT in the year: 1986 on date: 14\n"
     ]
    }
   ],
   "source": [
    "# index 0123456789                              012345678\n",
    "data = input(\"enter date of birth in the format DD/MMM/YYYY: \")\n",
    "\n",
    "# today's date, Month and year\n",
    "\n",
    "date = data[0:2]\n",
    "month = data[3:6]\n",
    "year = data[7:]\n",
    "\n",
    "print(f\"The user was born in the month of {month} in the year: {year} on date: {date}\")"
   ]
  },
  {
   "cell_type": "code",
   "execution_count": 32,
   "id": "cb5536a7",
   "metadata": {},
   "outputs": [
    {
     "data": {
      "text/plain": [
       "'Snl'"
      ]
     },
     "execution_count": 32,
     "metadata": {},
     "output_type": "execute_result"
    }
   ],
   "source": [
    "name = \"Sunil\" # S_n_l\n",
    "\n",
    "name[0:5:2] # start: ending: step"
   ]
  },
  {
   "cell_type": "code",
   "execution_count": 33,
   "id": "64bc592f",
   "metadata": {},
   "outputs": [
    {
     "data": {
      "text/plain": [
       "'Snl'"
      ]
     },
     "execution_count": 33,
     "metadata": {},
     "output_type": "execute_result"
    }
   ],
   "source": [
    "name[0::2] # start: ending: step"
   ]
  },
  {
   "cell_type": "code",
   "execution_count": 34,
   "id": "e7134e21",
   "metadata": {},
   "outputs": [
    {
     "data": {
      "text/plain": [
       "'Si'"
      ]
     },
     "execution_count": 34,
     "metadata": {},
     "output_type": "execute_result"
    }
   ],
   "source": [
    "# step is 3 -> S__i_\n",
    "name[0:5:3] # start: ending: step"
   ]
  },
  {
   "cell_type": "code",
   "execution_count": 35,
   "id": "538a9411",
   "metadata": {},
   "outputs": [
    {
     "data": {
      "text/plain": [
       "'SnlSaaiZmae'"
      ]
     },
     "execution_count": 35,
     "metadata": {},
     "output_type": "execute_result"
    }
   ],
   "source": [
    "name = \"Sunil Shahaji Zambare\"\n",
    "\n",
    "name[0::2]"
   ]
  },
  {
   "cell_type": "code",
   "execution_count": 36,
   "id": "49270eb2",
   "metadata": {},
   "outputs": [
    {
     "data": {
      "text/plain": [
       "'SiShiaa'"
      ]
     },
     "execution_count": 36,
     "metadata": {},
     "output_type": "execute_result"
    }
   ],
   "source": [
    "name = \"Sunil Shahaji Zambare\"\n",
    "\n",
    "name[0::3]"
   ]
  },
  {
   "cell_type": "code",
   "execution_count": 37,
   "id": "cba882c7",
   "metadata": {},
   "outputs": [
    {
     "data": {
      "text/plain": [
       "'SnlSaaiZmae'"
      ]
     },
     "execution_count": 37,
     "metadata": {},
     "output_type": "execute_result"
    }
   ],
   "source": [
    "name = \"Sunil Shahaji Zambare\"\n",
    "\n",
    "name[::2]"
   ]
  },
  {
   "cell_type": "code",
   "execution_count": 38,
   "id": "4004f281",
   "metadata": {},
   "outputs": [
    {
     "data": {
      "text/plain": [
       "'SiShiaa'"
      ]
     },
     "execution_count": 38,
     "metadata": {},
     "output_type": "execute_result"
    }
   ],
   "source": [
    "name = \"Sunil Shahaji Zambare\"\n",
    "\n",
    "name[::3]"
   ]
  },
  {
   "cell_type": "code",
   "execution_count": 39,
   "id": "17f44fec",
   "metadata": {},
   "outputs": [
    {
     "data": {
      "text/plain": [
       "'erabmaZ ijahahS linuS'"
      ]
     },
     "execution_count": 39,
     "metadata": {},
     "output_type": "execute_result"
    }
   ],
   "source": [
    "name = \"Sunil Shahaji Zambare\"\n",
    "\n",
    "name[::-1]"
   ]
  },
  {
   "cell_type": "code",
   "execution_count": 40,
   "id": "66885df1",
   "metadata": {},
   "outputs": [
    {
     "data": {
      "text/plain": [
       "'eamZiaaSlnS'"
      ]
     },
     "execution_count": 40,
     "metadata": {},
     "output_type": "execute_result"
    }
   ],
   "source": [
    "name = \"Sunil Shahaji Zambare\"\n",
    "\n",
    "name[::-2]"
   ]
  },
  {
   "cell_type": "code",
   "execution_count": 41,
   "id": "432d5591",
   "metadata": {},
   "outputs": [
    {
     "name": "stdout",
     "output_type": "stream",
     "text": [
      "input a string: nitin\n",
      "nitin nitin\n"
     ]
    }
   ],
   "source": [
    "# Palindrome sequence \n",
    "# read from left or right it will be same\n",
    "#nitin, arora, malayalam, nayan, bob, radar, rotor, abba, anna, nursesrun \n",
    "\n",
    "data = input(\"input a string: \")\n",
    "reverse = data[::-1]     # start: end: step\n",
    "\n",
    "print(data, reverse)"
   ]
  },
  {
   "cell_type": "code",
   "execution_count": 42,
   "id": "b6e7ae5a",
   "metadata": {},
   "outputs": [
    {
     "name": "stdout",
     "output_type": "stream",
     "text": [
      "input a string: malayalam\n",
      "input string: malayalam is palindrome\n"
     ]
    }
   ],
   "source": [
    "data = input(\"input a string: \")\n",
    "reverse = data[::-1]       # start: end: step\n",
    "\n",
    "if data == reverse:\n",
    "    print(f\"input string: {data} is palindrome\")\n",
    "else:\n",
    "    print(f\"input string: {data} is NOT a palindrome\")  "
   ]
  },
  {
   "cell_type": "code",
   "execution_count": 43,
   "id": "a47c4e99",
   "metadata": {},
   "outputs": [
    {
     "name": "stdout",
     "output_type": "stream",
     "text": [
      "input a string: Sunil\n",
      "input string: Sunil is NOT a palindrome\n"
     ]
    }
   ],
   "source": [
    "data = input(\"input a string: \")\n",
    "reverse = data[::-1] # start: end: step\n",
    "\n",
    "if data == reverse:\n",
    "    print(f\"input string: {data} is palindrome\")\n",
    "else:\n",
    "    print(f\"input string: {data} is NOT a palindrome\")"
   ]
  },
  {
   "cell_type": "markdown",
   "id": "363a2197",
   "metadata": {},
   "source": [
    "# Mutability\n",
    "Mutable means subject to change or which can be changed"
   ]
  },
  {
   "cell_type": "code",
   "execution_count": 44,
   "id": "d9182515",
   "metadata": {},
   "outputs": [
    {
     "ename": "TypeError",
     "evalue": "'str' object does not support item assignment",
     "output_type": "error",
     "traceback": [
      "\u001b[1;31m---------------------------------------------------------------------------\u001b[0m",
      "\u001b[1;31mTypeError\u001b[0m                                 Traceback (most recent call last)",
      "Input \u001b[1;32mIn [44]\u001b[0m, in \u001b[0;36m<cell line: 5>\u001b[1;34m()\u001b[0m\n\u001b[0;32m      1\u001b[0m name \u001b[38;5;241m=\u001b[39m \u001b[38;5;124m\"\u001b[39m\u001b[38;5;124mSunil\u001b[39m\u001b[38;5;124m\"\u001b[39m\n\u001b[0;32m      3\u001b[0m \u001b[38;5;66;03m# Replace Su with A?\u001b[39;00m\n\u001b[1;32m----> 5\u001b[0m name[\u001b[38;5;241m0\u001b[39m] \u001b[38;5;241m=\u001b[39m \u001b[38;5;124m\"\u001b[39m\u001b[38;5;124mF\u001b[39m\u001b[38;5;124m\"\u001b[39m\n",
      "\u001b[1;31mTypeError\u001b[0m: 'str' object does not support item assignment"
     ]
    }
   ],
   "source": [
    "name = \"Sunil\"\n",
    "\n",
    "# Replace Su with A?\n",
    "\n",
    "name[0] = \"F\"       # immutablility  # String "
   ]
  },
  {
   "cell_type": "code",
   "execution_count": 45,
   "id": "442eef9d",
   "metadata": {},
   "outputs": [
    {
     "data": {
      "text/plain": [
       "'Aunil'"
      ]
     },
     "execution_count": 45,
     "metadata": {},
     "output_type": "execute_result"
    }
   ],
   "source": [
    "\"A\" + name[1:]"
   ]
  },
  {
   "cell_type": "code",
   "execution_count": 46,
   "id": "4d254ac4",
   "metadata": {},
   "outputs": [
    {
     "data": {
      "text/plain": [
       "'Aunil'"
      ]
     },
     "execution_count": 46,
     "metadata": {},
     "output_type": "execute_result"
    }
   ],
   "source": [
    "name = \"A\" + name[1:]\n",
    "\n",
    "name"
   ]
  },
  {
   "cell_type": "code",
   "execution_count": 47,
   "id": "cedcdb43",
   "metadata": {},
   "outputs": [
    {
     "data": {
      "text/plain": [
       "'AuniLLL'"
      ]
     },
     "execution_count": 47,
     "metadata": {},
     "output_type": "execute_result"
    }
   ],
   "source": [
    "name = name.replace(\"l\", \"LLL\")\n",
    "name"
   ]
  },
  {
   "cell_type": "code",
   "execution_count": 48,
   "id": "b5caa87b",
   "metadata": {},
   "outputs": [
    {
     "data": {
      "text/plain": [
       "'AuniLLL'"
      ]
     },
     "execution_count": 48,
     "metadata": {},
     "output_type": "execute_result"
    }
   ],
   "source": [
    "name"
   ]
  },
  {
   "cell_type": "code",
   "execution_count": 49,
   "id": "a5171614",
   "metadata": {},
   "outputs": [],
   "source": [
    "name = \"Sunil SHAHAJI ZAMBARE\"\n",
    "\n",
    "name = name.replace(\"Sunil\", \"SUNSUN\")"
   ]
  },
  {
   "cell_type": "code",
   "execution_count": 50,
   "id": "92e4ed45",
   "metadata": {},
   "outputs": [
    {
     "data": {
      "text/plain": [
       "'SUNSUN SHAHAJI ZAMBARE '"
      ]
     },
     "execution_count": 50,
     "metadata": {},
     "output_type": "execute_result"
    }
   ],
   "source": [
    "name"
   ]
  },
  {
   "cell_type": "code",
   "execution_count": 51,
   "id": "693badd2",
   "metadata": {},
   "outputs": [
    {
     "data": {
      "text/plain": [
       "'SuNIl SHAHAJI ZAMBARE'"
      ]
     },
     "execution_count": 51,
     "metadata": {},
     "output_type": "execute_result"
    }
   ],
   "source": [
    "name = \"Sunil SHAHAJI ZAMBARE\"\n",
    "\n",
    "name = name.replace(\"ni\", \"NI\")\n",
    "name"
   ]
  },
  {
   "cell_type": "markdown",
   "id": "8c6a2133",
   "metadata": {},
   "source": [
    "https://docs.python.org/3/library/string.html"
   ]
  },
  {
   "cell_type": "code",
   "execution_count": 52,
   "id": "23e03d0e",
   "metadata": {},
   "outputs": [
    {
     "data": {
      "text/plain": [
       "'Sunil_SHAHAJI_ZAMBARE'"
      ]
     },
     "execution_count": 52,
     "metadata": {},
     "output_type": "execute_result"
    }
   ],
   "source": [
    "name = \"Sunil SHAHAJI ZAMBARE\"\n",
    "\n",
    "name = name.replace(\" \", \"_\")\n",
    "name"
   ]
  },
  {
   "cell_type": "markdown",
   "id": "315b4aae",
   "metadata": {},
   "source": [
    "## length of the string"
   ]
  },
  {
   "cell_type": "code",
   "execution_count": 53,
   "id": "b32303eb",
   "metadata": {},
   "outputs": [
    {
     "data": {
      "text/plain": [
       "21"
      ]
     },
     "execution_count": 53,
     "metadata": {},
     "output_type": "execute_result"
    }
   ],
   "source": [
    "len(name)"
   ]
  },
  {
   "cell_type": "code",
   "execution_count": 54,
   "id": "3d1e52b2",
   "metadata": {},
   "outputs": [
    {
     "data": {
      "text/plain": [
       "5"
      ]
     },
     "execution_count": 54,
     "metadata": {},
     "output_type": "execute_result"
    }
   ],
   "source": [
    "len(\"Sunil\")"
   ]
  },
  {
   "cell_type": "code",
   "execution_count": 57,
   "id": "c75bddec",
   "metadata": {},
   "outputs": [
    {
     "data": {
      "text/plain": [
       "7"
      ]
     },
     "execution_count": 57,
     "metadata": {},
     "output_type": "execute_result"
    }
   ],
   "source": [
    "len(\"Sunil  \")"
   ]
  },
  {
   "cell_type": "code",
   "execution_count": 58,
   "id": "e109a843",
   "metadata": {},
   "outputs": [
    {
     "data": {
      "text/plain": [
       "5"
      ]
     },
     "execution_count": 58,
     "metadata": {},
     "output_type": "execute_result"
    }
   ],
   "source": [
    "name = \" Sunil   \"\n",
    "\n",
    "name = name.replace(\" \", \"\")\n",
    "len(name)"
   ]
  },
  {
   "cell_type": "raw",
   "id": "6340f31b",
   "metadata": {},
   "source": [
    "String indexing\n",
    "String slicing\n",
    "String skipping\n",
    "String reversal\n",
    "String replace method\n",
    "length of the string\n",
    "String is immutable because we cannot directly assign any value using indexing"
   ]
  },
  {
   "cell_type": "code",
   "execution_count": 59,
   "id": "6d0c949e",
   "metadata": {},
   "outputs": [
    {
     "data": {
      "text/plain": [
       "'l'"
      ]
     },
     "execution_count": 59,
     "metadata": {},
     "output_type": "execute_result"
    }
   ],
   "source": [
    "name = \"Sunil Shahaji Zambare\"\n",
    "name[4]"
   ]
  },
  {
   "cell_type": "code",
   "execution_count": 61,
   "id": "473645b3",
   "metadata": {},
   "outputs": [
    {
     "data": {
      "text/plain": [
       "'l Shahaji Zam'"
      ]
     },
     "execution_count": 61,
     "metadata": {},
     "output_type": "execute_result"
    }
   ],
   "source": [
    "name = \"Sunil Shahaji Zambare\"\n",
    "name[4:17]"
   ]
  },
  {
   "cell_type": "code",
   "execution_count": 62,
   "id": "d12e8df6",
   "metadata": {},
   "outputs": [
    {
     "data": {
      "text/plain": [
       "'SiShiaa'"
      ]
     },
     "execution_count": 62,
     "metadata": {},
     "output_type": "execute_result"
    }
   ],
   "source": [
    "name = \"Sunil Shahaji Zambare\"\n",
    "name[::3]"
   ]
  },
  {
   "cell_type": "code",
   "execution_count": 63,
   "id": "1c7ab54f",
   "metadata": {},
   "outputs": [
    {
     "data": {
      "text/plain": [
       "'erabmaZ ijahahS linuS'"
      ]
     },
     "execution_count": 63,
     "metadata": {},
     "output_type": "execute_result"
    }
   ],
   "source": [
    "name =  \"Sunil Shahaji Zambare\"\n",
    "name[::-1]"
   ]
  },
  {
   "cell_type": "code",
   "execution_count": 64,
   "id": "6f3d77e1",
   "metadata": {},
   "outputs": [
    {
     "data": {
      "text/plain": [
       "'Sunil=Shahaji=Zambare'"
      ]
     },
     "execution_count": 64,
     "metadata": {},
     "output_type": "execute_result"
    }
   ],
   "source": [
    "name.replace(\" \", \"=\")"
   ]
  },
  {
   "cell_type": "code",
   "execution_count": 65,
   "id": "3b564513",
   "metadata": {},
   "outputs": [
    {
     "data": {
      "text/plain": [
       "21"
      ]
     },
     "execution_count": 65,
     "metadata": {},
     "output_type": "execute_result"
    }
   ],
   "source": [
    "name = \"Sunil Shahaji Zambare\"\n",
    "len(name)"
   ]
  },
  {
   "cell_type": "code",
   "execution_count": 66,
   "id": "f41eead3",
   "metadata": {},
   "outputs": [
    {
     "ename": "TypeError",
     "evalue": "'str' object does not support item assignment",
     "output_type": "error",
     "traceback": [
      "\u001b[1;31m---------------------------------------------------------------------------\u001b[0m",
      "\u001b[1;31mTypeError\u001b[0m                                 Traceback (most recent call last)",
      "Input \u001b[1;32mIn [66]\u001b[0m, in \u001b[0;36m<cell line: 1>\u001b[1;34m()\u001b[0m\n\u001b[1;32m----> 1\u001b[0m name[\u001b[38;5;241m0\u001b[39m] \u001b[38;5;241m=\u001b[39m \u001b[38;5;124m\"\u001b[39m\u001b[38;5;124mA\u001b[39m\u001b[38;5;124m\"\u001b[39m\n",
      "\u001b[1;31mTypeError\u001b[0m: 'str' object does not support item assignment"
     ]
    }
   ],
   "source": [
    "name[0] = \"A\" # This is not allowed"
   ]
  },
  {
   "cell_type": "code",
   "execution_count": 67,
   "id": "3828ef9f",
   "metadata": {},
   "outputs": [
    {
     "data": {
      "text/plain": [
       "'eamZiaaSlnS'"
      ]
     },
     "execution_count": 67,
     "metadata": {},
     "output_type": "execute_result"
    }
   ],
   "source": [
    "name[::-2]"
   ]
  },
  {
   "cell_type": "code",
   "execution_count": 68,
   "id": "e49c929d",
   "metadata": {},
   "outputs": [
    {
     "data": {
      "text/plain": [
       "'lha m'"
      ]
     },
     "execution_count": 68,
     "metadata": {},
     "output_type": "execute_result"
    }
   ],
   "source": [
    "name[4:19:3]"
   ]
  },
  {
   "cell_type": "code",
   "execution_count": 69,
   "id": "f62b541b",
   "metadata": {},
   "outputs": [
    {
     "data": {
      "text/plain": [
       "''"
      ]
     },
     "execution_count": 69,
     "metadata": {},
     "output_type": "execute_result"
    }
   ],
   "source": [
    "name[-5:-5:]"
   ]
  },
  {
   "cell_type": "markdown",
   "id": "4ca88ba3",
   "metadata": {},
   "source": [
    "## Count specific characters in a string"
   ]
  },
  {
   "cell_type": "code",
   "execution_count": 71,
   "id": "9e485cf7",
   "metadata": {},
   "outputs": [
    {
     "data": {
      "text/plain": [
       "4"
      ]
     },
     "execution_count": 71,
     "metadata": {},
     "output_type": "execute_result"
    }
   ],
   "source": [
    "name = \"Sunil Shahaji Zambare\"\n",
    "\n",
    "name.count(\"a\")"
   ]
  },
  {
   "cell_type": "markdown",
   "id": "6382ed94",
   "metadata": {},
   "source": [
    "## Split operation"
   ]
  },
  {
   "cell_type": "code",
   "execution_count": 72,
   "id": "8a4502da",
   "metadata": {},
   "outputs": [
    {
     "data": {
      "text/plain": [
       "['Sunil', 'Shahaji', 'Zambare']"
      ]
     },
     "execution_count": 72,
     "metadata": {},
     "output_type": "execute_result"
    }
   ],
   "source": [
    "name = \"Sunil Shahaji Zambare\"\n",
    "name.split(\" \")"
   ]
  },
  {
   "cell_type": "code",
   "execution_count": 73,
   "id": "7a9a4644",
   "metadata": {},
   "outputs": [
    {
     "name": "stdout",
     "output_type": "stream",
     "text": [
      "\n",
      " First name: Sunil\n",
      "Middle name: Shahaji\n",
      "   Sir name: Zambare\n",
      "\n"
     ]
    }
   ],
   "source": [
    "first_name, middle_name, sir_name = name.split(\" \")\n",
    "\n",
    "print(f\"\"\"\n",
    " First name: {first_name}\n",
    "Middle name: {middle_name}\n",
    "   Sir name: {sir_name}\n",
    "\"\"\")"
   ]
  },
  {
   "cell_type": "code",
   "execution_count": 74,
   "id": "897d7385",
   "metadata": {},
   "outputs": [
    {
     "name": "stdout",
     "output_type": "stream",
     "text": [
      "enter date of birth in the format DD/MMM/YYYY: 14/OCT/1986\n",
      "The user was born in the month of OCT in the year: 1986 on date: 14\n"
     ]
    }
   ],
   "source": [
    "# index 0123456789                              012345678\n",
    "data = input(\"enter date of birth in the format DD/MMM/YYYY: \")\n",
    "\n",
    "# today's date, Month and year\n",
    "\n",
    "date, month, year = data.split(\"/\")\n",
    "\n",
    "print(f\"The user was born in the month of {month} in the year: {year} on date: {date}\")"
   ]
  },
  {
   "cell_type": "code",
   "execution_count": 76,
   "id": "4b378d51",
   "metadata": {},
   "outputs": [
    {
     "name": "stdout",
     "output_type": "stream",
     "text": [
      "Enter date of birth in the format DD/MMM/YYYY: 14/OCT/1986\n"
     ]
    },
    {
     "data": {
      "text/plain": [
       "['14', 'OCT', '1986']"
      ]
     },
     "execution_count": 76,
     "metadata": {},
     "output_type": "execute_result"
    }
   ],
   "source": [
    "data = input(\"Enter date of birth in the format DD/MMM/YYYY: \")\n",
    "data.split(\"/\")"
   ]
  },
  {
   "cell_type": "code",
   "execution_count": 77,
   "id": "ca542647",
   "metadata": {},
   "outputs": [
    {
     "data": {
      "text/plain": [
       "['Sunil', 'Shahaji', 'Zambare']"
      ]
     },
     "execution_count": 77,
     "metadata": {},
     "output_type": "execute_result"
    }
   ],
   "source": [
    "name = \"Sunil_Shahaji_Zambare\"\n",
    "\n",
    "name.split(\"_\")"
   ]
  },
  {
   "cell_type": "code",
   "execution_count": 78,
   "id": "98187141",
   "metadata": {},
   "outputs": [
    {
     "data": {
      "text/plain": [
       "['Sunil_Sh', 'h', 'ji_Z', 'mb', 're']"
      ]
     },
     "execution_count": 78,
     "metadata": {},
     "output_type": "execute_result"
    }
   ],
   "source": [
    "name.split(\"a\")"
   ]
  },
  {
   "cell_type": "code",
   "execution_count": 79,
   "id": "be00d03f",
   "metadata": {},
   "outputs": [
    {
     "data": {
      "text/plain": [
       "['Sunil_Shahaji_Zambare']"
      ]
     },
     "execution_count": 79,
     "metadata": {},
     "output_type": "execute_result"
    }
   ],
   "source": [
    "name.split(\".\")"
   ]
  },
  {
   "cell_type": "code",
   "execution_count": 80,
   "id": "eccc7633",
   "metadata": {},
   "outputs": [
    {
     "name": "stdout",
     "output_type": "stream",
     "text": [
      "Enter the date in DD/MM/YYYY: 14/October/1986\n"
     ]
    },
    {
     "data": {
      "text/plain": [
       "['14', 'October', '1986']"
      ]
     },
     "execution_count": 80,
     "metadata": {},
     "output_type": "execute_result"
    }
   ],
   "source": [
    "date = input(\"Enter the date in DD/MM/YYYY: \")\n",
    "date.split(\"/\")"
   ]
  },
  {
   "cell_type": "code",
   "execution_count": 81,
   "id": "8c062a37",
   "metadata": {},
   "outputs": [
    {
     "name": "stdout",
     "output_type": "stream",
     "text": [
      "14 October 1986\n"
     ]
    }
   ],
   "source": [
    "A,B,C = date.split(\"/\")\n",
    "\n",
    "print(A, B, C)"
   ]
  },
  {
   "cell_type": "code",
   "execution_count": 82,
   "id": "c10b17dc",
   "metadata": {},
   "outputs": [
    {
     "data": {
      "text/plain": [
       "['14', 'October', '1986']"
      ]
     },
     "execution_count": 82,
     "metadata": {},
     "output_type": "execute_result"
    }
   ],
   "source": [
    "A = date.split(\"/\")\n",
    "A"
   ]
  },
  {
   "cell_type": "code",
   "execution_count": 83,
   "id": "d1fc279a",
   "metadata": {},
   "outputs": [
    {
     "data": {
      "text/plain": [
       "'14'"
      ]
     },
     "execution_count": 83,
     "metadata": {},
     "output_type": "execute_result"
    }
   ],
   "source": [
    "A[0]"
   ]
  },
  {
   "cell_type": "code",
   "execution_count": 84,
   "id": "c5dbace6",
   "metadata": {},
   "outputs": [
    {
     "data": {
      "text/plain": [
       "'October'"
      ]
     },
     "execution_count": 84,
     "metadata": {},
     "output_type": "execute_result"
    }
   ],
   "source": [
    "A[1]"
   ]
  },
  {
   "cell_type": "code",
   "execution_count": 85,
   "id": "957b2ba4",
   "metadata": {},
   "outputs": [
    {
     "data": {
      "text/plain": [
       "3"
      ]
     },
     "execution_count": 85,
     "metadata": {},
     "output_type": "execute_result"
    }
   ],
   "source": [
    "len(A)"
   ]
  },
  {
   "cell_type": "markdown",
   "id": "08aff098",
   "metadata": {},
   "source": [
    "## lower upper, title case etc"
   ]
  },
  {
   "cell_type": "code",
   "execution_count": 86,
   "id": "fb287a29",
   "metadata": {},
   "outputs": [
    {
     "data": {
      "text/plain": [
       "'sunil mangal shahaji zambare'"
      ]
     },
     "execution_count": 86,
     "metadata": {},
     "output_type": "execute_result"
    }
   ],
   "source": [
    "name = \"Sunil Mangal Shahaji Zambare\"\n",
    "\n",
    "name.lower()"
   ]
  },
  {
   "cell_type": "code",
   "execution_count": 87,
   "id": "ddc9fda2",
   "metadata": {},
   "outputs": [
    {
     "data": {
      "text/plain": [
       "'SUNIL MANGAL SHAHAJI ZAMBARE'"
      ]
     },
     "execution_count": 87,
     "metadata": {},
     "output_type": "execute_result"
    }
   ],
   "source": [
    "name.upper()"
   ]
  },
  {
   "cell_type": "code",
   "execution_count": 90,
   "id": "f918a08d",
   "metadata": {},
   "outputs": [
    {
     "name": "stdout",
     "output_type": "stream",
     "text": [
      "Enter your name: kavERI\n",
      "User input: kavERI\n",
      "Name in upper case: KAVERI\n",
      "Name in lower case: kaveri\n",
      "Name in title case: Kaveri\n",
      "Name in capitalize case: Kaveri\n",
      "Name in swapcase case: KAVeri\n"
     ]
    }
   ],
   "source": [
    "name = input(\"Enter your name: \")\n",
    "\n",
    "print(f\"User input: {name}\")\n",
    "print(f\"Name in upper case: {name.upper()}\")\n",
    "print(f\"Name in lower case: {name.lower()}\")\n",
    "print(f\"Name in title case: {name.title()}\") \n",
    "print(f\"Name in capitalize case: {name.capitalize()}\")\n",
    "print(f\"Name in swapcase case: {name.swapcase()}\")"
   ]
  },
  {
   "cell_type": "code",
   "execution_count": 91,
   "id": "bfdbebbf",
   "metadata": {},
   "outputs": [
    {
     "name": "stdout",
     "output_type": "stream",
     "text": [
      "user input: Dont think about the RESULT because result put pressure on Us\n",
      "name in upper case: DONT THINK ABOUT THE RESULT BECAUSE RESULT PUT PRESSURE ON US\n",
      "name in lower case: dont think about the result because result put pressure on us\n",
      "name in title case: Dont Think About The Result Because Result Put Pressure On Us\n",
      "name in capitalize case: Dont think about the result because result put pressure on us\n",
      "name in swapcase case: dONT THINK ABOUT THE result BECAUSE RESULT PUT PRESSURE ON uS\n"
     ]
    }
   ],
   "source": [
    "name = \"Dont think about the RESULT because result put pressure on Us\"\n",
    "\n",
    "print(f\"user input: {name}\")\n",
    "print(f\"name in upper case: {name.upper()}\")\n",
    "print(f\"name in lower case: {name.lower()}\")\n",
    "print(f\"name in title case: {name.title()}\") # \n",
    "print(f\"name in capitalize case: {name.capitalize()}\")\n",
    "print(f\"name in swapcase case: {name.swapcase()}\")"
   ]
  },
  {
   "cell_type": "code",
   "execution_count": 92,
   "id": "ebaa021c",
   "metadata": {},
   "outputs": [
    {
     "data": {
      "text/plain": [
       "'N*e*v*e*r* *G*i*v*e* *U*p'"
      ]
     },
     "execution_count": 92,
     "metadata": {},
     "output_type": "execute_result"
    }
   ],
   "source": [
    "name = \"Never Give Up\"\n",
    "\n",
    "\"*\".join(name)"
   ]
  },
  {
   "cell_type": "code",
   "execution_count": 93,
   "id": "4b154c77",
   "metadata": {},
   "outputs": [
    {
     "data": {
      "text/plain": [
       "'I_f_ _Y_o_u_ _W_a_n_t_ _T_o_ _S_h_i_n_e_ _L_i_k_e_ _A_ _S_u_n_ _F_i_r_s_t_ _Y_o_u_ _B_u_r_n_ _L_i_k_e_ _S_u_n'"
      ]
     },
     "execution_count": 93,
     "metadata": {},
     "output_type": "execute_result"
    }
   ],
   "source": [
    "name = \"If You Want To Shine Like A Sun First You Burn Like Sun\"\n",
    "\n",
    "\"_\".join(name)"
   ]
  },
  {
   "cell_type": "code",
   "execution_count": 94,
   "id": "2f7d5b60",
   "metadata": {},
   "outputs": [
    {
     "data": {
      "text/plain": [
       "'S|u|n|i|l| |M|a|n|g|a|l| |S|h|a|h|a|j|i| |Z|a|m|b|a|r|e'"
      ]
     },
     "execution_count": 94,
     "metadata": {},
     "output_type": "execute_result"
    }
   ],
   "source": [
    "name = \"Sunil Mangal Shahaji Zambare\"\n",
    "\n",
    "\"|\".join(name)"
   ]
  },
  {
   "cell_type": "code",
   "execution_count": 95,
   "id": "34668a13",
   "metadata": {},
   "outputs": [
    {
     "data": {
      "text/plain": [
       "'S u n i l   M a n g a l   S h a h a j i   Z a m b a r e'"
      ]
     },
     "execution_count": 95,
     "metadata": {},
     "output_type": "execute_result"
    }
   ],
   "source": [
    "name = \"Sunil Mangal Shahaji Zambare\"\n",
    "\n",
    "\" \".join(name)"
   ]
  },
  {
   "cell_type": "code",
   "execution_count": 96,
   "id": "cdcdcb2d",
   "metadata": {},
   "outputs": [
    {
     "data": {
      "text/plain": [
       "'Sunil|Mangal|Shahaji|Zambare'"
      ]
     },
     "execution_count": 96,
     "metadata": {},
     "output_type": "execute_result"
    }
   ],
   "source": [
    "name = \"Sunil Mangal Shahaji Zambare\"\n",
    "\n",
    "name.replace(\" \", \"|\")"
   ]
  },
  {
   "cell_type": "code",
   "execution_count": 97,
   "id": "d5beac8c",
   "metadata": {},
   "outputs": [
    {
     "data": {
      "text/plain": [
       "'erabmaZ ijahahS lagnaM linuS'"
      ]
     },
     "execution_count": 97,
     "metadata": {},
     "output_type": "execute_result"
    }
   ],
   "source": [
    "\"\".join(reversed(name))"
   ]
  },
  {
   "cell_type": "code",
   "execution_count": 98,
   "id": "78744b59",
   "metadata": {},
   "outputs": [
    {
     "data": {
      "text/plain": [
       "'erabmaZ ijahahS lagnaM linuS'"
      ]
     },
     "execution_count": 98,
     "metadata": {},
     "output_type": "execute_result"
    }
   ],
   "source": [
    "name[::-1]"
   ]
  },
  {
   "cell_type": "markdown",
   "id": "e4ffa8b6",
   "metadata": {},
   "source": [
    "## Remove extra spaces front and back of the string."
   ]
  },
  {
   "cell_type": "code",
   "execution_count": 99,
   "id": "7e4373a2",
   "metadata": {},
   "outputs": [
    {
     "data": {
      "text/plain": [
       "'Sunil'"
      ]
     },
     "execution_count": 99,
     "metadata": {},
     "output_type": "execute_result"
    }
   ],
   "source": [
    "name = \"  Sunil  \"\n",
    "\n",
    "name.strip(\" \")"
   ]
  },
  {
   "cell_type": "code",
   "execution_count": 100,
   "id": "81656c90",
   "metadata": {},
   "outputs": [
    {
     "data": {
      "text/plain": [
       "'Sunil   '"
      ]
     },
     "execution_count": 100,
     "metadata": {},
     "output_type": "execute_result"
    }
   ],
   "source": [
    "name = \"  Sunil   \"\n",
    "\n",
    "name.lstrip(\" \")"
   ]
  },
  {
   "cell_type": "code",
   "execution_count": 101,
   "id": "8471b27b",
   "metadata": {},
   "outputs": [
    {
     "data": {
      "text/plain": [
       "'  Sunil'"
      ]
     },
     "execution_count": 101,
     "metadata": {},
     "output_type": "execute_result"
    }
   ],
   "source": [
    "name = \"  Sunil   \"\n",
    "\n",
    "name.rstrip(\" \")"
   ]
  },
  {
   "cell_type": "code",
   "execution_count": 102,
   "id": "b20edde4",
   "metadata": {},
   "outputs": [
    {
     "data": {
      "text/plain": [
       "'Sunil'"
      ]
     },
     "execution_count": 102,
     "metadata": {},
     "output_type": "execute_result"
    }
   ],
   "source": [
    "name = \"  Sunil   \"\n",
    "\n",
    "name.strip(\" \")"
   ]
  },
  {
   "cell_type": "code",
   "execution_count": 103,
   "id": "1f4165a1",
   "metadata": {},
   "outputs": [
    {
     "data": {
      "text/plain": [
       "'Sunil Shahaji Zambare'"
      ]
     },
     "execution_count": 103,
     "metadata": {},
     "output_type": "execute_result"
    }
   ],
   "source": [
    "name = \"==Sunil Shahaji Zambare====\"\n",
    "\n",
    "name.strip(\"=\")"
   ]
  },
  {
   "cell_type": "code",
   "execution_count": 104,
   "id": "7f740dfa",
   "metadata": {},
   "outputs": [
    {
     "data": {
      "text/plain": [
       "'SunilShahajiZambare'"
      ]
     },
     "execution_count": 104,
     "metadata": {},
     "output_type": "execute_result"
    }
   ],
   "source": [
    "name = \"  Sunil Shahaji Zambare  \"\n",
    "\n",
    "name.replace(\" \", \"\")"
   ]
  },
  {
   "cell_type": "markdown",
   "id": "7b7f7b4b",
   "metadata": {},
   "source": [
    "## Fromatting"
   ]
  },
  {
   "cell_type": "code",
   "execution_count": 105,
   "id": "c058e84e",
   "metadata": {},
   "outputs": [
    {
     "data": {
      "text/plain": [
       "'#######Sunil########'"
      ]
     },
     "execution_count": 105,
     "metadata": {},
     "output_type": "execute_result"
    }
   ],
   "source": [
    "name = \"Sunil\"\n",
    "\n",
    "name.center(20, \"#\")"
   ]
  },
  {
   "cell_type": "code",
   "execution_count": 106,
   "id": "23d9a31b",
   "metadata": {},
   "outputs": [
    {
     "data": {
      "text/plain": [
       "'##Sunil###'"
      ]
     },
     "execution_count": 106,
     "metadata": {},
     "output_type": "execute_result"
    }
   ],
   "source": [
    "name = \"Sunil\"\n",
    "\n",
    "name.center(10, \"#\")"
   ]
  },
  {
   "cell_type": "code",
   "execution_count": 107,
   "id": "7c3bcbe8",
   "metadata": {},
   "outputs": [
    {
     "data": {
      "text/plain": [
       "'****Lord Ganesh*****'"
      ]
     },
     "execution_count": 107,
     "metadata": {},
     "output_type": "execute_result"
    }
   ],
   "source": [
    "name = \"Lord Ganesh\"\n",
    "\n",
    "name.center(20, \"*\")"
   ]
  },
  {
   "cell_type": "markdown",
   "id": "e701396e",
   "metadata": {},
   "source": [
    "## Checking string cases [imp]"
   ]
  },
  {
   "cell_type": "code",
   "execution_count": 108,
   "id": "33f12368",
   "metadata": {},
   "outputs": [
    {
     "data": {
      "text/plain": [
       "True"
      ]
     },
     "execution_count": 108,
     "metadata": {},
     "output_type": "execute_result"
    }
   ],
   "source": [
    "name = \"SUNIL\"\n",
    "\n",
    "name.isupper()"
   ]
  },
  {
   "cell_type": "code",
   "execution_count": 109,
   "id": "9fcd29be",
   "metadata": {},
   "outputs": [
    {
     "data": {
      "text/plain": [
       "False"
      ]
     },
     "execution_count": 109,
     "metadata": {},
     "output_type": "execute_result"
    }
   ],
   "source": [
    "name = \"Sunil\"\n",
    "\n",
    "name.isupper()"
   ]
  },
  {
   "cell_type": "code",
   "execution_count": 111,
   "id": "7e171ffd",
   "metadata": {},
   "outputs": [
    {
     "data": {
      "text/plain": [
       "False"
      ]
     },
     "execution_count": 111,
     "metadata": {},
     "output_type": "execute_result"
    }
   ],
   "source": [
    "name = \"Sunil\"\n",
    "\n",
    "name.islower()"
   ]
  },
  {
   "cell_type": "code",
   "execution_count": 112,
   "id": "54af025f",
   "metadata": {},
   "outputs": [
    {
     "data": {
      "text/plain": [
       "True"
      ]
     },
     "execution_count": 112,
     "metadata": {},
     "output_type": "execute_result"
    }
   ],
   "source": [
    "name = \"sunil\"\n",
    "\n",
    "name.islower()"
   ]
  },
  {
   "cell_type": "code",
   "execution_count": 113,
   "id": "4cb08a3c",
   "metadata": {},
   "outputs": [
    {
     "data": {
      "text/plain": [
       "False"
      ]
     },
     "execution_count": 113,
     "metadata": {},
     "output_type": "execute_result"
    }
   ],
   "source": [
    "name = \"Sunil\"\n",
    "\n",
    "name.isspace()"
   ]
  },
  {
   "cell_type": "code",
   "execution_count": 114,
   "id": "2c211e4e",
   "metadata": {},
   "outputs": [
    {
     "data": {
      "text/plain": [
       "True"
      ]
     },
     "execution_count": 114,
     "metadata": {},
     "output_type": "execute_result"
    }
   ],
   "source": [
    "name = \"Sunil\"\n",
    "\n",
    "name.istitle()"
   ]
  },
  {
   "cell_type": "code",
   "execution_count": 115,
   "id": "e295132a",
   "metadata": {},
   "outputs": [
    {
     "data": {
      "text/plain": [
       "False"
      ]
     },
     "execution_count": 115,
     "metadata": {},
     "output_type": "execute_result"
    }
   ],
   "source": [
    "name = \"Sunil \"\n",
    "\n",
    "name.isspace()"
   ]
  },
  {
   "cell_type": "code",
   "execution_count": 116,
   "id": "1d015fa9",
   "metadata": {},
   "outputs": [
    {
     "data": {
      "text/plain": [
       "True"
      ]
     },
     "execution_count": 116,
     "metadata": {},
     "output_type": "execute_result"
    }
   ],
   "source": [
    "name = \"   \"\n",
    "\n",
    "name.isspace()"
   ]
  },
  {
   "cell_type": "code",
   "execution_count": 117,
   "id": "3b501fae",
   "metadata": {},
   "outputs": [
    {
     "name": "stdout",
     "output_type": "stream",
     "text": [
      "Enter your name: \n",
      "user input: \n",
      "wrong input we need to autocorrect it\n",
      "Correct output: \n"
     ]
    }
   ],
   "source": [
    "name = input(\"Enter your name: \")\n",
    "\n",
    "print(f\"user input: {name}\")\n",
    "\n",
    "if name.istitle():\n",
    "    print(f\"user has given correct input\")\n",
    "elif name.isspace():\n",
    "    print(f\"Wrong input please try again!!\")\n",
    "else:\n",
    "    print(f\"wrong input we need to autocorrect it\")\n",
    "    name = name.title()\n",
    "    print(f\"Correct output: {name}\")"
   ]
  },
  {
   "cell_type": "code",
   "execution_count": 120,
   "id": "46956c89",
   "metadata": {},
   "outputs": [
    {
     "name": "stdout",
     "output_type": "stream",
     "text": [
      "Enter your name: sunil shahaji zambare\n",
      "User input: sunil shahaji zambare\n",
      "Wrong input we need to autocorrect it\n",
      "Correct output: Sunil Shahaji Zambare\n"
     ]
    }
   ],
   "source": [
    "name = input(\"Enter your name: \")\n",
    "\n",
    "print(f\"User input: {name}\")\n",
    "\n",
    "if name.istitle():\n",
    "    print(f\"User has given correct input\")\n",
    "elif name.isspace():\n",
    "    print(f\"Wrong input please try again!!\")\n",
    "else:\n",
    "    print(f\"Wrong input we need to autocorrect it\")\n",
    "    name = name.title()\n",
    "    print(f\"Correct output: {name}\")"
   ]
  },
  {
   "cell_type": "code",
   "execution_count": 121,
   "id": "06339b5c",
   "metadata": {},
   "outputs": [
    {
     "name": "stdout",
     "output_type": "stream",
     "text": [
      "Enter your name: Sunil Zambare\n",
      "user input: Sunil Zambare\n",
      "user has given correct input\n"
     ]
    }
   ],
   "source": [
    "name = input(\"Enter your name: \")\n",
    "\n",
    "print(f\"user input: {name}\")\n",
    "\n",
    "if name.istitle():\n",
    "    print(f\"user has given correct input\")\n",
    "elif name.isspace():\n",
    "    print(f\"Wrong input please try again!!\")\n",
    "else:\n",
    "    print(f\"wrong input we need to autocorrect it\")\n",
    "    name = name.title()\n",
    "    print(f\"Correct output: {name}\")"
   ]
  },
  {
   "cell_type": "code",
   "execution_count": 122,
   "id": "0286ab33",
   "metadata": {},
   "outputs": [
    {
     "name": "stdout",
     "output_type": "stream",
     "text": [
      "Enter your name: suNIL SHAHaji zamBARE\n",
      "user input: suNIL SHAHaji zamBARE\n",
      "wrong input we need to autocorrect it\n",
      "Correct output: Sunil Shahaji Zambare\n"
     ]
    }
   ],
   "source": [
    "name = input(\"Enter your name: \")\n",
    "\n",
    "print(f\"user input: {name}\")\n",
    "\n",
    "if name.istitle():\n",
    "    print(f\"user has given correct input\")\n",
    "elif name.isspace():\n",
    "    print(f\"Wrong input please try again!!\")\n",
    "else:\n",
    "    print(f\"wrong input we need to autocorrect it\")\n",
    "    name = name.title()\n",
    "    print(f\"Correct output: {name}\")"
   ]
  },
  {
   "cell_type": "code",
   "execution_count": 124,
   "id": "1e73135f",
   "metadata": {},
   "outputs": [
    {
     "data": {
      "text/plain": [
       "True"
      ]
     },
     "execution_count": 124,
     "metadata": {},
     "output_type": "execute_result"
    }
   ],
   "source": [
    "phone_number = \"1987054301\"\n",
    "phone_number.isdigit()"
   ]
  },
  {
   "cell_type": "code",
   "execution_count": 125,
   "id": "c5a61d31",
   "metadata": {},
   "outputs": [
    {
     "data": {
      "text/plain": [
       "False"
      ]
     },
     "execution_count": 125,
     "metadata": {},
     "output_type": "execute_result"
    }
   ],
   "source": [
    "phone_number = \"1987054301techtech\"\n",
    "phone_number.isdigit()"
   ]
  },
  {
   "cell_type": "code",
   "execution_count": 126,
   "id": "65d484f2",
   "metadata": {},
   "outputs": [
    {
     "name": "stdout",
     "output_type": "stream",
     "text": [
      "Enter your phone no: 7654322109\n",
      "User input is correct\n"
     ]
    }
   ],
   "source": [
    "phone_number = input(\"Enter your phone no: \")\n",
    "\n",
    "if phone_number.isdigit() and len(phone_number) == 10:\n",
    "    print(f\"User input is correct\")\n",
    "else:\n",
    "    print(\"Invalid input\")"
   ]
  },
  {
   "cell_type": "code",
   "execution_count": 128,
   "id": "f52a2788",
   "metadata": {},
   "outputs": [
    {
     "name": "stdout",
     "output_type": "stream",
     "text": [
      "Enter your phone no: 876954 4561\n",
      "Invalid input\n"
     ]
    }
   ],
   "source": [
    "phone_number = input(\"Enter your phone no: \")\n",
    "\n",
    "if phone_number.isdigit() and len(phone_number) == 10:\n",
    "    print(f\"User input is correct\")\n",
    "else:\n",
    "    print(\"Invalid input\")"
   ]
  },
  {
   "cell_type": "code",
   "execution_count": 129,
   "id": "93b0330d",
   "metadata": {},
   "outputs": [
    {
     "name": "stdout",
     "output_type": "stream",
     "text": [
      "Enter your phone no: 76543218900012\n",
      "invalid input\n"
     ]
    }
   ],
   "source": [
    "phone_number = input(\"Enter your phone no: \")\n",
    "\n",
    "if phone_number.isdigit() and len(phone_number) == 10:\n",
    "    print(f\"user input is correct\")\n",
    "else:\n",
    "    print(\"invalid input\")"
   ]
  },
  {
   "cell_type": "code",
   "execution_count": 130,
   "id": "a2d9d9f7",
   "metadata": {},
   "outputs": [
    {
     "name": "stdout",
     "output_type": "stream",
     "text": [
      "Enter your phone no: 00000000000\n",
      "invalid input\n"
     ]
    }
   ],
   "source": [
    "phone_number = input(\"Enter your phone no: \")\n",
    "\n",
    "if phone_number.isdigit() and len(phone_number) == 10 and phone_number != \"0000000000\":\n",
    "    print(f\"user input is correct\")\n",
    "else:\n",
    "    print(\"invalid input\")"
   ]
  },
  {
   "cell_type": "code",
   "execution_count": 131,
   "id": "ebac2772",
   "metadata": {},
   "outputs": [
    {
     "data": {
      "text/plain": [
       "True"
      ]
     },
     "execution_count": 131,
     "metadata": {},
     "output_type": "execute_result"
    }
   ],
   "source": [
    "phone_number.startswith(\"0\")"
   ]
  },
  {
   "cell_type": "code",
   "execution_count": 132,
   "id": "f0d124b9",
   "metadata": {},
   "outputs": [
    {
     "data": {
      "text/plain": [
       "True"
      ]
     },
     "execution_count": 132,
     "metadata": {},
     "output_type": "execute_result"
    }
   ],
   "source": [
    "phone_number.endswith(\"0\")"
   ]
  },
  {
   "cell_type": "code",
   "execution_count": 133,
   "id": "3ac262af",
   "metadata": {},
   "outputs": [
    {
     "data": {
      "text/plain": [
       "True"
      ]
     },
     "execution_count": 133,
     "metadata": {},
     "output_type": "execute_result"
    }
   ],
   "source": [
    "phone_number = \"+919087897501\"\n",
    "\n",
    "phone_number.startswith(\"+91\")"
   ]
  },
  {
   "cell_type": "code",
   "execution_count": 134,
   "id": "17f1fd2d",
   "metadata": {},
   "outputs": [
    {
     "data": {
      "text/plain": [
       "'919087897501'"
      ]
     },
     "execution_count": 134,
     "metadata": {},
     "output_type": "execute_result"
    }
   ],
   "source": [
    "phone_number[1:]"
   ]
  },
  {
   "cell_type": "code",
   "execution_count": 135,
   "id": "c5dd4cdd",
   "metadata": {},
   "outputs": [
    {
     "data": {
      "text/plain": [
       "True"
      ]
     },
     "execution_count": 135,
     "metadata": {},
     "output_type": "execute_result"
    }
   ],
   "source": [
    "phone_number[1:].isdigit()"
   ]
  },
  {
   "cell_type": "code",
   "execution_count": 136,
   "id": "8d822008",
   "metadata": {},
   "outputs": [
    {
     "data": {
      "text/plain": [
       "True"
      ]
     },
     "execution_count": 136,
     "metadata": {},
     "output_type": "execute_result"
    }
   ],
   "source": [
    "len(phone_number)==13"
   ]
  },
  {
   "cell_type": "code",
   "execution_count": 137,
   "id": "a28d353d",
   "metadata": {},
   "outputs": [
    {
     "data": {
      "text/plain": [
       "10"
      ]
     },
     "execution_count": 137,
     "metadata": {},
     "output_type": "execute_result"
    }
   ],
   "source": [
    "phone_number = \"+910000000000\"\n",
    "\n",
    "phone_number.count(\"0\")"
   ]
  },
  {
   "cell_type": "code",
   "execution_count": 138,
   "id": "bab31a65",
   "metadata": {},
   "outputs": [
    {
     "name": "stdout",
     "output_type": "stream",
     "text": [
      "Enter your Indian phone no: +919899870651\n",
      "user input is correct\n"
     ]
    }
   ],
   "source": [
    "phone_number = input(\"Enter your Indian phone no: \")\n",
    "\n",
    "if phone_number.startswith(\"+91\") and phone_number[1:].isdigit() and len(phone_number)==13:\n",
    "    print(f\"user input is correct\")\n",
    "else:\n",
    "    print(\"invalid input\")"
   ]
  },
  {
   "cell_type": "code",
   "execution_count": 140,
   "id": "f1385c8a",
   "metadata": {},
   "outputs": [
    {
     "name": "stdout",
     "output_type": "stream",
     "text": [
      "Enter your Indian phone no: +959087896543\n",
      "invalid input\n"
     ]
    }
   ],
   "source": [
    "phone_number = input(\"Enter your Indian phone no: \")\n",
    "\n",
    "if phone_number.startswith(\"+91\") and phone_number[1:].isdigit() and len(phone_number)==13:\n",
    "    print(f\"user input is correct\")\n",
    "else:\n",
    "    print(\"invalid input\")"
   ]
  },
  {
   "cell_type": "code",
   "execution_count": 141,
   "id": "40ed0569",
   "metadata": {},
   "outputs": [
    {
     "name": "stdout",
     "output_type": "stream",
     "text": [
      "Enter your Indian phone no: 917876544302\n",
      "invalid input\n"
     ]
    }
   ],
   "source": [
    "phone_number = input(\"Enter your Indian phone no: \")\n",
    "\n",
    "if phone_number.startswith(\"+91\") and phone_number[1:].isdigit() and len(phone_number)==13:\n",
    "    print(f\"user input is correct\")\n",
    "else:\n",
    "    print(\"invalid input\")"
   ]
  },
  {
   "cell_type": "code",
   "execution_count": 142,
   "id": "c6f5d39a",
   "metadata": {},
   "outputs": [
    {
     "data": {
      "text/plain": [
       "True"
      ]
     },
     "execution_count": 142,
     "metadata": {},
     "output_type": "execute_result"
    }
   ],
   "source": [
    "PAN_NUMBERS = \"AYEPC5656X\"\n",
    "PAN_NUMBERS.isalnum() # Check for alpha numeric case"
   ]
  },
  {
   "cell_type": "code",
   "execution_count": 143,
   "id": "bdd934fd",
   "metadata": {},
   "outputs": [
    {
     "data": {
      "text/plain": [
       "True"
      ]
     },
     "execution_count": 143,
     "metadata": {},
     "output_type": "execute_result"
    }
   ],
   "source": [
    "PAN_NUMBERS = \"789789789\"\n",
    "PAN_NUMBERS.isalnum() # Check for alphabets or numeric case"
   ]
  },
  {
   "cell_type": "code",
   "execution_count": 145,
   "id": "855eb53b",
   "metadata": {},
   "outputs": [
    {
     "data": {
      "text/plain": [
       "True"
      ]
     },
     "execution_count": 145,
     "metadata": {},
     "output_type": "execute_result"
    }
   ],
   "source": [
    "PAN_NUMBERS = \"SUNIL\"\n",
    "PAN_NUMBERS.isalnum() # Check for alphabets or numeric case"
   ]
  },
  {
   "cell_type": "code",
   "execution_count": 146,
   "id": "1e04e484",
   "metadata": {},
   "outputs": [
    {
     "data": {
      "text/plain": [
       "False"
      ]
     },
     "execution_count": 146,
     "metadata": {},
     "output_type": "execute_result"
    }
   ],
   "source": [
    "PAN_NUMBERS = \"SUNIL ZAMBARE\"  # BECAUSE IT CONTAINS SPACES WHICH IS NOT ALPHABET\n",
    "PAN_NUMBERS.isalnum()  # Check for alphabets or numeric case"
   ]
  }
 ],
 "metadata": {
  "kernelspec": {
   "display_name": "Python 3 (ipykernel)",
   "language": "python",
   "name": "python3"
  },
  "language_info": {
   "codemirror_mode": {
    "name": "ipython",
    "version": 3
   },
   "file_extension": ".py",
   "mimetype": "text/x-python",
   "name": "python",
   "nbconvert_exporter": "python",
   "pygments_lexer": "ipython3",
   "version": "3.9.12"
  }
 },
 "nbformat": 4,
 "nbformat_minor": 5
}
