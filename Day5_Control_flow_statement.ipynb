{
 "cells": [
  {
   "cell_type": "markdown",
   "id": "8d4dbb02",
   "metadata": {},
   "source": [
    "# Control flow statements"
   ]
  },
  {
   "cell_type": "raw",
   "id": "17159f57",
   "metadata": {},
   "source": [
    "if else\n",
    "if elif else\n",
    "Nested if else\n",
    "Single line if else [Not recommended]\n",
    "\n",
    "Loops in python\n",
    "for\n",
    "while\n",
    "if else\n",
    "If elif\n",
    "\n",
    "Online Food orders - Zomato App, Swiggy, Uber Eats\n",
    "if you order more than Rs.499\n",
    "discount = 20%\n",
    "if you order more than Rs.999\n",
    "discount = 30%\n",
    "if you order more than 1499\n",
    "discount = 40%"
   ]
  },
  {
   "cell_type": "code",
   "execution_count": 1,
   "id": "a0b57346",
   "metadata": {},
   "outputs": [
    {
     "name": "stdout",
     "output_type": "stream",
     "text": [
      "cart total: 1290\n",
      "Pay amount: 903.0\n"
     ]
    }
   ],
   "source": [
    "total_amount = 90 + 100 + 100 + 1000\n",
    "\n",
    "print(f\"cart total: {total_amount}\")\n",
    "\n",
    "if total_amount > 999:\n",
    "    price_after_discount = total_amount * 70/100\n",
    "    print(f\"Pay amount: {price_after_discount}\")\n",
    "elif total_amount <= 999 and total_amount > 499:   #999 <= price < 499\n",
    "    price_after_discount = total_amount * 80/100\n",
    "    print(f\"Pay amount: {price_after_discount}\")\n",
    "else:\n",
    "    print(f\"Pay amount: {total_amount}\")"
   ]
  },
  {
   "cell_type": "code",
   "execution_count": 2,
   "id": "187243b8",
   "metadata": {},
   "outputs": [
    {
     "name": "stdout",
     "output_type": "stream",
     "text": [
      "cart total: 190\n",
      "Pay amount: 190\n"
     ]
    }
   ],
   "source": [
    "total_amount = 90 + 100      #+ 100 + 1000\n",
    "\n",
    "print(f\"cart total: {total_amount}\")\n",
    "\n",
    "if total_amount > 999:\n",
    "    price_after_discount = total_amount * 70/100\n",
    "    print(f\"Pay amount: {price_after_discount}\")\n",
    "elif total_amount <= 999 and total_amount > 499: #  999 <= price < 499\n",
    "    price_after_discount = total_amount * 80/100\n",
    "    print(f\"Pay amount: {price_after_discount}\")\n",
    "else:\n",
    "    print(f\"Pay amount: {total_amount}\")"
   ]
  },
  {
   "cell_type": "code",
   "execution_count": 3,
   "id": "9ad5ae3c",
   "metadata": {},
   "outputs": [
    {
     "name": "stdout",
     "output_type": "stream",
     "text": [
      "cart total: 690\n",
      "Pay amount: 552.0\n"
     ]
    }
   ],
   "source": [
    "total_amount = 90 + 100 + 500\n",
    "\n",
    "print(f\"cart total: {total_amount}\")\n",
    "\n",
    "if total_amount > 999:\n",
    "    price_after_discount = total_amount * 70/100\n",
    "    print(f\"Pay amount: {price_after_discount}\")\n",
    "elif total_amount <= 999 and total_amount > 499: #  999 <= price < 499\n",
    "    price_after_discount = total_amount * 80/100\n",
    "    print(f\"Pay amount: {price_after_discount}\")\n",
    "else:\n",
    "    print(f\"Pay amount: {total_amount}\")"
   ]
  },
  {
   "cell_type": "code",
   "execution_count": 4,
   "id": "b560e864",
   "metadata": {},
   "outputs": [
    {
     "name": "stdout",
     "output_type": "stream",
     "text": [
      "cart total: 690\n",
      "Pay amount: 552.0\n"
     ]
    }
   ],
   "source": [
    "total_amount = 90 + 100 + 500\n",
    "\n",
    "print(f\"cart total: {total_amount}\")\n",
    "\n",
    "if total_amount > 999:\n",
    "    price_after_discount = total_amount * 70/100\n",
    "    print(f\"Pay amount: {price_after_discount}\")\n",
    "elif  499 < total_amount <= 999: #  999 <= price < 499\n",
    "    price_after_discount = total_amount * 80/100\n",
    "    print(f\"Pay amount: {price_after_discount}\")\n",
    "else:\n",
    "    print(f\"Pay amount: {total_amount}\")"
   ]
  },
  {
   "cell_type": "code",
   "execution_count": 5,
   "id": "2d93775d",
   "metadata": {},
   "outputs": [
    {
     "name": "stdout",
     "output_type": "stream",
     "text": [
      "cart total: 690\n",
      "Pay amount: 552.0\n"
     ]
    }
   ],
   "source": [
    "total_amount = 90 + 100 + 500\n",
    "\n",
    "print(f\"cart total: {total_amount}\")\n",
    "\n",
    "if total_amount > 999:\n",
    "    price_after_discount = total_amount * 70/100\n",
    "    print(f\"Pay amount: {price_after_discount}\")\n",
    "if 499 < total_amount <= 999: #  999 <= price < 499\n",
    "    price_after_discount = total_amount * 80/100\n",
    "    print(f\"Pay amount: {price_after_discount}\")\n",
    "else:\n",
    "    print(f\"Pay amount: {total_amount}\")"
   ]
  },
  {
   "cell_type": "code",
   "execution_count": 6,
   "id": "0c0977e6",
   "metadata": {},
   "outputs": [
    {
     "name": "stdout",
     "output_type": "stream",
     "text": [
      "cart total: 1690\n",
      "Pay amount: 1014.0\n"
     ]
    }
   ],
   "source": [
    "total_amount = 90 + 100 + 500 + 1000\n",
    "\n",
    "print(f\"cart total: {total_amount}\")\n",
    "\n",
    "if total_amount > 1499:\n",
    "    price_after_discount = total_amount * 60/100\n",
    "    print(f\"Pay amount: {price_after_discount}\")\n",
    "elif 999 < total_amount <= 1499:\n",
    "    price_after_discount = total_amount * 70/100\n",
    "    print(f\"Pay amount: {price_after_discount}\")\n",
    "elif 499 < total_amount <= 999: #  999 <= price < 499\n",
    "    price_after_discount = total_amount * 80/100\n",
    "    print(f\"Pay amount: {price_after_discount}\")\n",
    "else:\n",
    "    print(f\"Pay amount: {total_amount}\")"
   ]
  },
  {
   "cell_type": "markdown",
   "id": "efb37817",
   "metadata": {},
   "source": [
    "# Nested if else\n",
    "print if the no is negative or positive"
   ]
  },
  {
   "cell_type": "code",
   "execution_count": 1,
   "id": "9b655ecc",
   "metadata": {},
   "outputs": [
    {
     "name": "stdout",
     "output_type": "stream",
     "text": [
      "Enter a nuber:10.3\n",
      "Its a positive no\n"
     ]
    }
   ],
   "source": [
    "val = float(input(\"Enter a nuber:\"))\n",
    "if val >= 0:\n",
    "    if val == 0:\n",
    "        print(\"Its zero\")\n",
    "    else:\n",
    "        print(\"Its a positive no\")\n",
    "else:\n",
    "    print(\"Negative number\")"
   ]
  },
  {
   "cell_type": "raw",
   "id": "662e881c",
   "metadata": {},
   "source": [
    "Single line if else\n",
    "NOTE: NOT RECOMMENDED FOR CODING IN PROJECTS OR PRODUCTION\n",
    "\n",
    "but good for competitive programming\n",
    "\n",
    "print YES of the no is greater than 99"
   ]
  },
  {
   "cell_type": "code",
   "execution_count": 2,
   "id": "a7ba5b13",
   "metadata": {},
   "outputs": [
    {
     "name": "stdout",
     "output_type": "stream",
     "text": [
      "Enter a number-5\n",
      "NO\n"
     ]
    }
   ],
   "source": [
    "# OK for competitive program\n",
    "# For production code or in a company its not recommended\n",
    "val = float(input(\"Enter a number\"))\n",
    "\n",
    "if val > 99: print(\"YES\")\n",
    "else: print(\"NO\")"
   ]
  },
  {
   "cell_type": "code",
   "execution_count": 3,
   "id": "e37e7dbb",
   "metadata": {},
   "outputs": [
    {
     "name": "stdout",
     "output_type": "stream",
     "text": [
      "Enter a number104\n",
      "YES\n"
     ]
    }
   ],
   "source": [
    "# Recommended approach\n",
    "# Its more readable and clean\n",
    "\n",
    "val = float(input(\"Enter a number\"))\n",
    "\n",
    "if val > 99:\n",
    "    print(\"YES\")\n",
    "else: \n",
    "    print(\"NO\")"
   ]
  },
  {
   "cell_type": "code",
   "execution_count": 4,
   "id": "d0581470",
   "metadata": {},
   "outputs": [
    {
     "name": "stdout",
     "output_type": "stream",
     "text": [
      "Enter a number: 20\n",
      "NO\n"
     ]
    }
   ],
   "source": [
    "# only good for competitive programming\n",
    "val = float(input(\"Enter a number: \"))\n",
    "\n",
    "print(\"YES\" if val > 99 else \"NO\")\n"
   ]
  },
  {
   "cell_type": "markdown",
   "id": "e81c2dab",
   "metadata": {},
   "source": [
    "# Loops\n",
    "While loop\n",
    "For loop   <br>\n",
    "\n",
    "* Loop control\n",
    "break\n",
    "continue\n",
    "pass\n",
    "Nested loop\n",
    "\n",
    "UPSC, IAS, Goverment exams, Board exams,\n",
    "Repetive attempts\n",
    "while I do not cross the cutoff I will keep on giving my exams\n",
    "\n",
    "while CONDTION is True: print()"
   ]
  },
  {
   "cell_type": "code",
   "execution_count": 5,
   "id": "6589951d",
   "metadata": {},
   "outputs": [
    {
     "name": "stdout",
     "output_type": "stream",
     "text": [
      "Your score is: 100, cutoff: 400\n",
      "I will attempt next year\n",
      "Your score is: 200, cutoff: 400\n",
      "I will attempt next year\n",
      "Your score is: 300, cutoff: 400\n",
      "I will attempt next year\n",
      "Your score is: 399, cutoff: 400\n",
      "I will attempt next year\n"
     ]
    }
   ],
   "source": [
    "cutoff = 400\n",
    "scores = [100, 200, 300, 399, 500]\n",
    "\n",
    "# I will keep on attempting until I succeed\n",
    "year = 0 # indexing in python starts with 0\n",
    "\n",
    "while scores[year] < cutoff:\n",
    "    print(f\"Your score is: {scores[year]}, cutoff: {cutoff}\")\n",
    "    print(\"I will attempt next year\")\n",
    "    year = year + 1    # I am adding 1 to current year"
   ]
  },
  {
   "cell_type": "markdown",
   "id": "219ded25",
   "metadata": {},
   "source": [
    "# Infinite loop\n",
    "if the CONDITION is always TRUE then you loop will keep on running..."
   ]
  },
  {
   "cell_type": "code",
   "execution_count": 6,
   "id": "0b1e88d5",
   "metadata": {},
   "outputs": [
    {
     "data": {
      "text/plain": [
       "500"
      ]
     },
     "execution_count": 6,
     "metadata": {},
     "output_type": "execute_result"
    }
   ],
   "source": [
    "year = 4\n",
    "scores[year]"
   ]
  },
  {
   "cell_type": "code",
   "execution_count": 7,
   "id": "0590016a",
   "metadata": {},
   "outputs": [
    {
     "name": "stdout",
     "output_type": "stream",
     "text": [
      "current sum: 10\n",
      "current sum: 20\n",
      "current sum: 30\n",
      "current sum: 40\n",
      "current sum: 50\n",
      "current sum: 60\n",
      "current sum: 70\n",
      "current sum: 80\n",
      "current sum: 90\n",
      "current sum: 100\n"
     ]
    }
   ],
   "source": [
    "\"\"\"\n",
    "Child is learning to counting 10 ruppes of note\n",
    "\"\"\"\n",
    "\n",
    "notes = 10\n",
    "i = 1 # 1st note\n",
    "\n",
    "while i <= notes:\n",
    "    print(f\"current sum: {i*10}\")\n",
    "    i = i + 1"
   ]
  },
  {
   "cell_type": "code",
   "execution_count": 8,
   "id": "418ee5fe",
   "metadata": {},
   "outputs": [
    {
     "name": "stdout",
     "output_type": "stream",
     "text": [
      "Current Station is: PUNE\n",
      "My destination is: DONGARSONI\n",
      "Continue the journey I have not reached the destination\n",
      "Next station is: SATARA\n",
      "------------------------------------------------------------\n",
      "Current Station is: SATARA\n",
      "My destination is: DONGARSONI\n",
      "Continue the journey I have not reached the destination\n",
      "Next station is: KARAD\n",
      "------------------------------------------------------------\n",
      "Current Station is: KARAD\n",
      "My destination is: DONGARSONI\n",
      "Continue the journey I have not reached the destination\n",
      "Next station is: TASGAON\n",
      "------------------------------------------------------------\n",
      "Current Station is: TASGAON\n",
      "My destination is: DONGARSONI\n",
      "Continue the journey I have not reached the destination\n",
      "Next station is: DONGARSONI\n",
      "------------------------------------------------------------\n"
     ]
    }
   ],
   "source": [
    "# MSRTC ST BUS journey \n",
    "bus_station = [\"PUNE\", \"SATARA\", \"KARAD\", \"TASGAON\", \"DONGARSONI\"]\n",
    "\n",
    "current_station = 0\n",
    "destination_station = \"DONGARSONI\"\n",
    "\n",
    "while bus_station[current_station] != destination_station:\n",
    "    print(f\"Current Station is: {bus_station[current_station]}\")\n",
    "    print(f\"My destination is: {destination_station}\")\n",
    "    print(\"Continue the journey I have not reached the destination\")\n",
    "    current_station = current_station + 1\n",
    "    print(f\"Next station is: {bus_station[current_station]}\")\n",
    "    print(\"--\"*30)"
   ]
  },
  {
   "cell_type": "code",
   "execution_count": 9,
   "id": "1ddf7c53",
   "metadata": {},
   "outputs": [
    {
     "name": "stdout",
     "output_type": "stream",
     "text": [
      "Current Station is: PUNE\n",
      "My destination is: DONGARSONI\n",
      "Continue the journey I have not reached the destination\n",
      "Next station is: SATARA\n",
      "------------------------------------------------------------\n",
      "Current Station is: SATARA\n",
      "My destination is: DONGARSONI\n",
      "Continue the journey I have not reached the destination\n",
      "Next station is: KARAD\n",
      "------------------------------------------------------------\n",
      "Current Station is: KARAD\n",
      "My destination is: DONGARSONI\n",
      "Continue the journey I have not reached the destination\n",
      "Next station is: TASGAON\n",
      "------------------------------------------------------------\n",
      "Current Station is: TASGAON\n",
      "My destination is: DONGARSONI\n",
      "Continue the journey I have not reached the destination\n",
      "Next station is: DONGARSONI\n",
      "------------------------------------------------------------\n",
      "I have arrived at: DONGARSONI\n"
     ]
    }
   ],
   "source": [
    "# MSRTC ST BUS journey \n",
    "bus_station = [\"PUNE\", \"SATARA\", \"KARAD\", \"TASGAON\", \"DONGARSONI\"]\n",
    "\n",
    "current_station = 0\n",
    "destination_station = \"DONGARSONI\"\n",
    "\n",
    "while bus_station[current_station] != destination_station:\n",
    "    print(f\"Current Station is: {bus_station[current_station]}\")\n",
    "    print(f\"My destination is: {destination_station}\")\n",
    "    print(\"Continue the journey I have not reached the destination\")\n",
    "    current_station = current_station + 1\n",
    "    print(f\"Next station is: {bus_station[current_station]}\")\n",
    "    print(\"--\"*30)\n",
    "else:\n",
    "    print(f\"I have arrived at: {bus_station[current_station]}\")"
   ]
  },
  {
   "cell_type": "raw",
   "id": "53ab6079",
   "metadata": {},
   "source": [
    "while CONDITION is True:\n",
    "    statement \n",
    "else:\n",
    "    statement"
   ]
  },
  {
   "cell_type": "code",
   "execution_count": 10,
   "id": "6400b4c3",
   "metadata": {},
   "outputs": [
    {
     "name": "stdout",
     "output_type": "stream",
     "text": [
      "CONDITION: True\n",
      "current sum: 10\n",
      "-----------------------------\n",
      "CONDITION: True\n",
      "current sum: 20\n",
      "-----------------------------\n",
      "CONDITION: True\n",
      "current sum: 30\n",
      "-----------------------------\n",
      "CONDITION: True\n",
      "current sum: 40\n",
      "-----------------------------\n",
      "CONDITION: True\n",
      "current sum: 50\n",
      "-----------------------------\n",
      "CONDITION: False\n",
      "No more 10 rupees notes left\n"
     ]
    }
   ],
   "source": [
    "\"\"\"\n",
    "Child is learning to counting 10 ruppes of note\n",
    "\"\"\"\n",
    "notes = 5\n",
    "i = 1 # 1st note\n",
    "\n",
    "while i <= notes:\n",
    "    print(f\"CONDITION: {i <= notes}\")\n",
    "    print(f\"current sum: {i*10}\")\n",
    "    i = i + 1\n",
    "    print(\"-----------------------------\")\n",
    "else:\n",
    "    print(f\"CONDITION: {i <= notes}\")\n",
    "    print(\"No more 10 rupees notes left\")"
   ]
  },
  {
   "cell_type": "markdown",
   "id": "7f30fb30",
   "metadata": {},
   "source": [
    "# for loop"
   ]
  },
  {
   "cell_type": "code",
   "execution_count": 11,
   "id": "3d8741b1",
   "metadata": {},
   "outputs": [
    {
     "name": "stdout",
     "output_type": "stream",
     "text": [
      "0 1 2 3 4 5 6 7 8 9 "
     ]
    }
   ],
   "source": [
    "for i in range(0, 10):\n",
    "    print(i, end=\" \")"
   ]
  },
  {
   "cell_type": "code",
   "execution_count": 12,
   "id": "b5390994",
   "metadata": {},
   "outputs": [
    {
     "name": "stdout",
     "output_type": "stream",
     "text": [
      "10 X 0 = 0\n",
      "10 X 1 = 10\n",
      "10 X 2 = 20\n",
      "10 X 3 = 30\n",
      "10 X 4 = 40\n",
      "10 X 5 = 50\n",
      "10 X 6 = 60\n",
      "10 X 7 = 70\n",
      "10 X 8 = 80\n",
      "10 X 9 = 90\n",
      "10 X 10 = 100\n"
     ]
    }
   ],
   "source": [
    "for i in range(0, 11):    # 11 here is out of bound\n",
    "    print(f\"10 X {i} = {10 * i}\")"
   ]
  },
  {
   "cell_type": "code",
   "execution_count": 13,
   "id": "e782b8ea",
   "metadata": {},
   "outputs": [
    {
     "name": "stdout",
     "output_type": "stream",
     "text": [
      "10 X 1 = 10\n",
      "10 X 2 = 20\n",
      "10 X 3 = 30\n",
      "10 X 4 = 40\n",
      "10 X 5 = 50\n",
      "10 X 6 = 60\n",
      "10 X 7 = 70\n",
      "10 X 8 = 80\n",
      "10 X 9 = 90\n",
      "10 X 10 = 100\n"
     ]
    }
   ],
   "source": [
    "for i in range(0, 10): # (10 here is out of bound)\n",
    "    print(f\"10 X {i + 1} = {10 * (i+1)}\")"
   ]
  },
  {
   "cell_type": "code",
   "execution_count": 14,
   "id": "4d206d6d",
   "metadata": {},
   "outputs": [
    {
     "data": {
      "text/plain": [
       "'SunilSunilSunilSunilSunilSunilSunilSunilSunilSunil'"
      ]
     },
     "execution_count": 14,
     "metadata": {},
     "output_type": "execute_result"
    }
   ],
   "source": [
    "\"Sunil\" * 10"
   ]
  },
  {
   "cell_type": "code",
   "execution_count": 15,
   "id": "92634fb9",
   "metadata": {},
   "outputs": [
    {
     "data": {
      "text/plain": [
       "'********************'"
      ]
     },
     "execution_count": 15,
     "metadata": {},
     "output_type": "execute_result"
    }
   ],
   "source": [
    "\"*\" * 20"
   ]
  },
  {
   "cell_type": "code",
   "execution_count": 16,
   "id": "bf83993a",
   "metadata": {},
   "outputs": [
    {
     "name": "stdout",
     "output_type": "stream",
     "text": [
      "*\n",
      "**\n",
      "***\n",
      "****\n",
      "*****\n",
      "******\n",
      "*******\n",
      "********\n",
      "*********\n",
      "**********\n"
     ]
    }
   ],
   "source": [
    "for i in range(1, 11): # (11 here is out of bound)\n",
    "    print(\"*\" * i)"
   ]
  },
  {
   "cell_type": "code",
   "execution_count": 17,
   "id": "ce81d4cf",
   "metadata": {},
   "outputs": [
    {
     "name": "stdout",
     "output_type": "stream",
     "text": [
      "*\n",
      "**\n",
      "***\n",
      "****\n",
      "*****\n",
      "******\n",
      "*******\n",
      "********\n",
      "*********\n",
      "**********\n"
     ]
    }
   ],
   "source": [
    "## i is not neccessary to use\n",
    "\n",
    "for sunil in range(1, 11): # (11 here is out of bound)\n",
    "    print(\"*\" * sunil)"
   ]
  },
  {
   "cell_type": "code",
   "execution_count": 18,
   "id": "78ddcf81",
   "metadata": {},
   "outputs": [
    {
     "name": "stdout",
     "output_type": "stream",
     "text": [
      "0 = 0 + 100\n",
      "After adding total sum = 100\n",
      "------------------------------\n",
      "100 = 100 + 200\n",
      "After adding total sum = 300\n",
      "------------------------------\n",
      "300 = 300 + 129\n",
      "After adding total sum = 429\n",
      "------------------------------\n",
      "429 = 429 + 456\n",
      "After adding total sum = 885\n",
      "------------------------------\n",
      "Total amount to be paid: 885\n"
     ]
    }
   ],
   "source": [
    "Cost_of_items = [100, 200, 129, 456]\n",
    "#                 0    1    2    3\n",
    "\n",
    "total_sum = 0\n",
    "\n",
    "for i in range(0, 4): # 0,1,2,3 \n",
    "    print(f\"{total_sum} = {total_sum} + {Cost_of_items[i]}\")\n",
    "    total_sum = total_sum + Cost_of_items[i]\n",
    "    print(f\"After adding total sum = {total_sum}\")\n",
    "    print(\"-\" * 30) #horizontal line printing\n",
    "print(f\"Total amount to be paid: {total_sum}\")"
   ]
  },
  {
   "cell_type": "code",
   "execution_count": 19,
   "id": "5882aeb0",
   "metadata": {},
   "outputs": [
    {
     "name": "stdout",
     "output_type": "stream",
     "text": [
      "0 = 0 + 100\n",
      "After adding total sum = 100\n",
      "------------------------------\n",
      "100 = 100 + 200\n",
      "After adding total sum = 300\n",
      "------------------------------\n",
      "300 = 300 + 129\n",
      "After adding total sum = 429\n",
      "------------------------------\n",
      "Total amount to be paid: 429\n"
     ]
    }
   ],
   "source": [
    "Cost_of_items = [100, 200, 129, 456]\n",
    "#                 0    1    2    3\n",
    "\n",
    "total_sum = 0\n",
    "\n",
    "for i in range(0, 3): # 0,1,2,3 \n",
    "    print(f\"{total_sum} = {total_sum} + {Cost_of_items[i]}\")\n",
    "    total_sum = total_sum + Cost_of_items[i]\n",
    "    print(f\"After adding total sum = {total_sum}\")\n",
    "    print(\"-\" * 30)\n",
    "print(f\"Total amount to be paid: {total_sum}\")"
   ]
  },
  {
   "cell_type": "code",
   "execution_count": 20,
   "id": "9d7a5d1f",
   "metadata": {},
   "outputs": [
    {
     "data": {
      "text/plain": [
       "4"
      ]
     },
     "execution_count": 20,
     "metadata": {},
     "output_type": "execute_result"
    }
   ],
   "source": [
    "len(Cost_of_items)"
   ]
  },
  {
   "cell_type": "code",
   "execution_count": 21,
   "id": "8f6717e9",
   "metadata": {},
   "outputs": [
    {
     "name": "stdout",
     "output_type": "stream",
     "text": [
      "0 = 0 + 100\n",
      "After adding total sum = 100\n",
      "------------------------------\n",
      "100 = 100 + 200\n",
      "After adding total sum = 300\n",
      "------------------------------\n",
      "300 = 300 + 129\n",
      "After adding total sum = 429\n",
      "------------------------------\n",
      "429 = 429 + 456\n",
      "After adding total sum = 885\n",
      "------------------------------\n",
      "885 = 885 + 1000\n",
      "After adding total sum = 1885\n",
      "------------------------------\n",
      "Total amount to be paid: 1885\n"
     ]
    }
   ],
   "source": [
    "Cost_of_items = [100, 200, 129, 456, 1000]\n",
    "#                 0    1    2    3\n",
    "\n",
    "total_sum = 0\n",
    "N = len(Cost_of_items)\n",
    "\n",
    "for i in range(0, N): # 0,1,2,3 \n",
    "    print(f\"{total_sum} = {total_sum} + {Cost_of_items[i]}\")\n",
    "    total_sum = total_sum + Cost_of_items[i]\n",
    "    print(f\"After adding total sum = {total_sum}\")\n",
    "    print(\"-\" * 30)\n",
    "print(f\"Total amount to be paid: {total_sum}\")"
   ]
  },
  {
   "cell_type": "code",
   "execution_count": 22,
   "id": "e992df52",
   "metadata": {},
   "outputs": [
    {
     "name": "stdout",
     "output_type": "stream",
     "text": [
      "100\n",
      "200\n",
      "129\n",
      "456\n",
      "1000\n"
     ]
    }
   ],
   "source": [
    "Cost_of_items = [100, 200, 129, 456, 1000]\n",
    "#                 0    1    2    3\n",
    "total_sum = 0\n",
    "for cost in Cost_of_items:\n",
    "    print(cost)"
   ]
  },
  {
   "cell_type": "code",
   "execution_count": 23,
   "id": "ae2f055b",
   "metadata": {},
   "outputs": [
    {
     "name": "stdout",
     "output_type": "stream",
     "text": [
      "100\n",
      "200\n",
      "129\n",
      "456\n",
      "1000\n"
     ]
    }
   ],
   "source": [
    "Cost_of_items = [100, 200, 129, 456, 1000]\n",
    "#                 0    1    2    3\n",
    "total_sum = 0\n",
    "N = len(Cost_of_items)\n",
    "for i in range(0, N): # 0,1,2,3 \n",
    "    print(Cost_of_items[i])"
   ]
  },
  {
   "cell_type": "code",
   "execution_count": 25,
   "id": "5a26303d",
   "metadata": {},
   "outputs": [
    {
     "name": "stdout",
     "output_type": "stream",
     "text": [
      "Current station is: PUNE\n",
      "Current station is: SATARA\n",
      "Current station is: KARAD\n",
      "Current station is: TASGAON\n",
      "Current station is: DONGARSONI\n"
     ]
    }
   ],
   "source": [
    "# MSRTC ST BUS journey \n",
    "bus_station = [\"PUNE\", \"SATARA\", \"KARAD\", \"TASGAON\", \"DONGARSONI\"]\n",
    "\n",
    "for current_station in bus_station:\n",
    "    print(f\"Current station is: {current_station}\")"
   ]
  },
  {
   "cell_type": "code",
   "execution_count": 27,
   "id": "dd0aa4bf",
   "metadata": {},
   "outputs": [
    {
     "name": "stdout",
     "output_type": "stream",
     "text": [
      "Current station is: PUNE\n",
      "Current station is: SATARA\n",
      "Current station is: KARAD\n",
      "Current station is: TASGAON\n",
      "Current station is: DONGARSONI\n"
     ]
    }
   ],
   "source": [
    "# MSRTC ST BUS journey \n",
    "bus_station = [\"PUNE\", \"SATARA\", \"KARAD\", \"TASGAON\", \"DONGARSONI\"]\n",
    "\n",
    "for sunil in bus_station:\n",
    "    print(f\"Current station is: {sunil}\")"
   ]
  },
  {
   "cell_type": "markdown",
   "id": "b023ce43",
   "metadata": {},
   "source": [
    "# break and continue"
   ]
  },
  {
   "cell_type": "code",
   "execution_count": 28,
   "id": "040d3081",
   "metadata": {},
   "outputs": [
    {
     "name": "stdout",
     "output_type": "stream",
     "text": [
      "Current total: 100\n",
      "Current total: 300\n",
      "Current total: 429\n",
      "Current total: 885\n",
      "Current total: 1885\n",
      "Current total: 2084\n",
      "since current total is more than my budget: 2000\n",
      "please remove the last item\n",
      "Total amount to be paid: 1885\n"
     ]
    }
   ],
   "source": [
    "cost_of_items = [100, 200, 129, 456, 1000, 199, 299]\n",
    "#                 0    1    2    3\n",
    "\n",
    "total_sum = 0\n",
    "budget = 2000\n",
    "\n",
    "for cost in cost_of_items:\n",
    "    total_sum = total_sum + cost\n",
    "    print(f\"Current total: {total_sum}\")\n",
    "    if total_sum > budget:\n",
    "        print(f\"since current total is more than my budget: {budget}\")\n",
    "        print(\"please remove the last item\")\n",
    "        total_sum = total_sum - cost\n",
    "        break\n",
    "\n",
    "print(f'Total amount to be paid: {total_sum}')"
   ]
  },
  {
   "cell_type": "code",
   "execution_count": 29,
   "id": "fae7dd5a",
   "metadata": {},
   "outputs": [
    {
     "name": "stdout",
     "output_type": "stream",
     "text": [
      "1 2 3 4 5 6 7 8 9 10 11 12 13 14 15 16 17 18 19 20 21 22 23 24 25 26 27 28 29 30 31 32 33 34 35 36 37 38 39 40 41 42 43 44 45 46 47 48 49 50 51 "
     ]
    }
   ],
   "source": [
    "for i in range(1, 100):\n",
    "    print(i,end=\" \")\n",
    "    if i > 50:\n",
    "        break"
   ]
  },
  {
   "cell_type": "code",
   "execution_count": 30,
   "id": "d2468c8a",
   "metadata": {},
   "outputs": [
    {
     "name": "stdout",
     "output_type": "stream",
     "text": [
      "1 2 3 4 5 6 7 8 9 10 "
     ]
    }
   ],
   "source": [
    "for i in range(1, 50):\n",
    "    print(i,end=\" \")\n",
    "    if i >= 10:\n",
    "        break"
   ]
  },
  {
   "cell_type": "code",
   "execution_count": 31,
   "id": "1beec98c",
   "metadata": {},
   "outputs": [
    {
     "name": "stdout",
     "output_type": "stream",
     "text": [
      "1 2 3 4 5 6 7 8 9 10 11 12 13 14 15 16 17 18 19 20 21 22 23 24 25 26 27 28 29 30 31 32 33 34 35 36 37 38 39 40 41 42 43 44 45 46 47 48 49 50 "
     ]
    }
   ],
   "source": [
    "for i in range(1, 100):\n",
    "    if i > 50:\n",
    "        break\n",
    "    print(i,end=\" \")"
   ]
  },
  {
   "cell_type": "code",
   "execution_count": 33,
   "id": "89238b68",
   "metadata": {},
   "outputs": [
    {
     "name": "stdout",
     "output_type": "stream",
     "text": [
      "1 3 5 7 9 11 13 15 17 19 "
     ]
    }
   ],
   "source": [
    "for i in range(1, 20):\n",
    "    if i%2==0: # if no is even then start the loop again \n",
    "        continue\n",
    "    print(i,end=\" \") "
   ]
  },
  {
   "cell_type": "code",
   "execution_count": 35,
   "id": "b5d993c6",
   "metadata": {},
   "outputs": [
    {
     "name": "stdout",
     "output_type": "stream",
     "text": [
      "1 "
     ]
    }
   ],
   "source": [
    "for i in range(1, 20):\n",
    "    if i % 2 == 0: # if no is even then start the loop again\n",
    "        break\n",
    "    print(i,end=\" \")"
   ]
  },
  {
   "cell_type": "code",
   "execution_count": 37,
   "id": "f7722e45",
   "metadata": {},
   "outputs": [
    {
     "name": "stdout",
     "output_type": "stream",
     "text": [
      "2 4 6 8 10 12 14 16 18 "
     ]
    }
   ],
   "source": [
    "for i in range(1, 20):\n",
    "    if i%2!=0:  # if no is odd then start the loop again\n",
    "        continue # Start the loop again\n",
    "    print(i,end=\" \")"
   ]
  },
  {
   "cell_type": "code",
   "execution_count": 39,
   "id": "fbca7759",
   "metadata": {},
   "outputs": [],
   "source": [
    "for i in range(1, 20):\n",
    "    if i%2!= 0: \n",
    "        break # STOP THE LOOP DON't proceed at all\n",
    "    print(i)"
   ]
  },
  {
   "cell_type": "code",
   "execution_count": 41,
   "id": "8f38f71e",
   "metadata": {},
   "outputs": [
    {
     "name": "stdout",
     "output_type": "stream",
     "text": [
      "Current station is: PUNE\n",
      "Current station is: MUMBAI\n",
      "Current station is: GUJRAT\n",
      "Current station is: DELHI\n",
      "Current station is: PUNJAB\n"
     ]
    }
   ],
   "source": [
    "# Train journey \n",
    "stations = [\"PUNE\", \"MUMBAI\", \"GUJRAT\", \"DELHI\", \"PUNJAB\",\"JAMMU KASHMIR\"]\n",
    "\n",
    "for current_station in stations:\n",
    "    print(f\"Current station is: {current_station}\")\n",
    "    if current_station == \"PUNJAB\":\n",
    "        break"
   ]
  },
  {
   "cell_type": "code",
   "execution_count": 42,
   "id": "63915d99",
   "metadata": {},
   "outputs": [
    {
     "name": "stdout",
     "output_type": "stream",
     "text": [
      "Current station is: PUNE\n",
      "Current station is: MUMBAI\n",
      "Current station is: GUJRAT\n",
      "Current station is: DELHI\n",
      "Current station is: JAMMU KASHMIR\n"
     ]
    }
   ],
   "source": [
    "# Train journey \n",
    "stations = [\"PUNE\", \"MUMBAI\", \"GUJRAT\", \"DELHI\", \"PUNJAB\",\"JAMMU KASHMIR\"]\n",
    "\n",
    "for current_station in stations:\n",
    "    if current_station == \"PUNJAB\":\n",
    "        continue\n",
    "    print(f\"Current station is: {current_station}\")"
   ]
  },
  {
   "cell_type": "markdown",
   "id": "84f4ee8f",
   "metadata": {},
   "source": [
    "* break: it completely stops the loop\n",
    "* continue: it skips the current loop or it skips all the statement after continue keyword"
   ]
  },
  {
   "cell_type": "code",
   "execution_count": 43,
   "id": "66e70be9",
   "metadata": {},
   "outputs": [],
   "source": [
    "for i in range(1, 10):\n",
    "    pass # I want to write code later"
   ]
  },
  {
   "cell_type": "markdown",
   "id": "2a631cd0",
   "metadata": {},
   "source": [
    "**pass Statement**\n",
    "* 1.The pass statement is used as place holder fo thr future code.\n",
    "* 2.when the pass statement is executed, nothing happens but you avoid getting an error when empty code is not allowed.\n",
    "* 3.Empty code is not allowed in loops ,function definitions,class definitions, or in if statements."
   ]
  },
  {
   "cell_type": "code",
   "execution_count": 44,
   "id": "1ced0c1c",
   "metadata": {},
   "outputs": [],
   "source": [
    "for x in [1,2,3]:\n",
    "    pass"
   ]
  },
  {
   "cell_type": "code",
   "execution_count": 45,
   "id": "06fe5751",
   "metadata": {},
   "outputs": [],
   "source": [
    "def add():\n",
    "    pass"
   ]
  },
  {
   "cell_type": "code",
   "execution_count": 46,
   "id": "10ca24cc",
   "metadata": {},
   "outputs": [],
   "source": [
    "class person:\n",
    "    pass"
   ]
  },
  {
   "cell_type": "code",
   "execution_count": 49,
   "id": "35aabb24",
   "metadata": {},
   "outputs": [
    {
     "name": "stdout",
     "output_type": "stream",
     "text": [
      "Current station is: PUNE\n",
      "Current station is: MUMBAI\n",
      "Current station is: GUJRAT\n",
      "Current station is: DELHI\n",
      "Current station is: PUNJAB\n",
      "Current station is: JAMMU KASHMIR\n"
     ]
    }
   ],
   "source": [
    "# Train journey \n",
    "stations = [\"PUNE\", \"MUMBAI\", \"GUJRAT\", \"DELHI\", \"PUNJAB\",\"JAMMU KASHMIR\"]\n",
    "\n",
    "for current_station in stations:\n",
    "    if current_station == \"MUMBAI\":\n",
    "        pass\n",
    "    print(f\"Current station is: {current_station}\")"
   ]
  }
 ],
 "metadata": {
  "kernelspec": {
   "display_name": "Python 3 (ipykernel)",
   "language": "python",
   "name": "python3"
  },
  "language_info": {
   "codemirror_mode": {
    "name": "ipython",
    "version": 3
   },
   "file_extension": ".py",
   "mimetype": "text/x-python",
   "name": "python",
   "nbconvert_exporter": "python",
   "pygments_lexer": "ipython3",
   "version": "3.9.12"
  }
 },
 "nbformat": 4,
 "nbformat_minor": 5
}
