{
 "cells": [
  {
   "cell_type": "markdown",
   "id": "eef83c12",
   "metadata": {},
   "source": [
    "## Tuples\n",
    "In Python, tuples are similar to lists but they are immutable i.e. they cannot be changed. You would use the tuples to present data that shouldn't be changed, such as days of week or dates on a calendar.\n",
    "\n",
    "In this section, we will get a brief overview of the following key topics:\n",
    "\n",
    "1) Constructing Tuples\n",
    "2) Basic Tuple Methods\n",
    "3) Immutability\n",
    "4) When to Use Tuples\n",
    "\n",
    "You'll have an intuition of how to use tuples based on what you've learned about lists. But, Tuples work very similar to lists but the major difference is tuples are immutable.\n",
    "\n",
    "Constructing Tuples\n",
    "The construction of tuples use () with elements separated by commas where in the arguments will be passed within brackets. For example:"
   ]
  },
  {
   "cell_type": "code",
   "execution_count": 1,
   "id": "92fc079e",
   "metadata": {},
   "outputs": [],
   "source": [
    "# Can create a tuple with mixed types\n",
    "t = (1,2,3)"
   ]
  },
  {
   "cell_type": "code",
   "execution_count": 2,
   "id": "ea0511e0",
   "metadata": {},
   "outputs": [
    {
     "data": {
      "text/plain": [
       "tuple"
      ]
     },
     "execution_count": 2,
     "metadata": {},
     "output_type": "execute_result"
    }
   ],
   "source": [
    "# Check type just like a list\n",
    "type(t)"
   ]
  },
  {
   "cell_type": "code",
   "execution_count": 3,
   "id": "6003692c",
   "metadata": {},
   "outputs": [],
   "source": [
    "# tuple with mixed data-type\n",
    "t = (1,2,3,\"AI\", \"ML\",\"DL\", True, 25.17)"
   ]
  },
  {
   "cell_type": "code",
   "execution_count": 4,
   "id": "4cb7cc20",
   "metadata": {},
   "outputs": [],
   "source": [
    "# empty tiple\n",
    "t = ()"
   ]
  },
  {
   "cell_type": "code",
   "execution_count": 5,
   "id": "357bb5f4",
   "metadata": {},
   "outputs": [
    {
     "data": {
      "text/plain": [
       "['sunil', 'sz']"
      ]
     },
     "execution_count": 5,
     "metadata": {},
     "output_type": "execute_result"
    }
   ],
   "source": [
    "# Can also mix object types\n",
    "t = ('one',2)\n",
    "\n",
    "# Show\n",
    "l = ['sunil','sz']\n",
    "l.sort()\n",
    "l"
   ]
  },
  {
   "cell_type": "markdown",
   "id": "f6557d71",
   "metadata": {},
   "source": [
    "## Accessing value in tuples."
   ]
  },
  {
   "cell_type": "code",
   "execution_count": 6,
   "id": "6e993e32",
   "metadata": {},
   "outputs": [
    {
     "data": {
      "text/plain": [
       "'one'"
      ]
     },
     "execution_count": 6,
     "metadata": {},
     "output_type": "execute_result"
    }
   ],
   "source": [
    "# Use indexing just like we did in lists\n",
    "t[0]"
   ]
  },
  {
   "cell_type": "code",
   "execution_count": 7,
   "id": "0534c0a0",
   "metadata": {},
   "outputs": [
    {
     "data": {
      "text/plain": [
       "2"
      ]
     },
     "execution_count": 7,
     "metadata": {},
     "output_type": "execute_result"
    }
   ],
   "source": [
    "t[-1]"
   ]
  },
  {
   "cell_type": "code",
   "execution_count": 8,
   "id": "610f08cc",
   "metadata": {},
   "outputs": [
    {
     "data": {
      "text/plain": [
       "(2,)"
      ]
     },
     "execution_count": 8,
     "metadata": {},
     "output_type": "execute_result"
    }
   ],
   "source": [
    "t[1:3]  #slicing like a list"
   ]
  },
  {
   "cell_type": "markdown",
   "id": "69a30a1a",
   "metadata": {},
   "source": [
    "# Updating elements in tuple\n",
    "Tuples are immutable so we cannot update or change the value of element in tuple.\n",
    "Instead we can take something from tuple and create new tuple out of it."
   ]
  },
  {
   "cell_type": "code",
   "execution_count": 9,
   "id": "7f624b16",
   "metadata": {},
   "outputs": [],
   "source": [
    "t1 = (10,20,2.5)\n",
    "t2 = (True,\"hello\")"
   ]
  },
  {
   "cell_type": "code",
   "execution_count": 10,
   "id": "4902cf25",
   "metadata": {},
   "outputs": [
    {
     "ename": "TypeError",
     "evalue": "'tuple' object does not support item assignment",
     "output_type": "error",
     "traceback": [
      "\u001b[1;31m---------------------------------------------------------------------------\u001b[0m",
      "\u001b[1;31mTypeError\u001b[0m                                 Traceback (most recent call last)",
      "Input \u001b[1;32mIn [10]\u001b[0m, in \u001b[0;36m<cell line: 2>\u001b[1;34m()\u001b[0m\n\u001b[0;32m      1\u001b[0m \u001b[38;5;66;03m# this opeation is not possible in tuple, however we can do this by converting to list\u001b[39;00m\n\u001b[1;32m----> 2\u001b[0m t1[\u001b[38;5;241m0\u001b[39m] \u001b[38;5;241m=\u001b[39m \u001b[38;5;241m1\u001b[39m\n",
      "\u001b[1;31mTypeError\u001b[0m: 'tuple' object does not support item assignment"
     ]
    }
   ],
   "source": [
    "# this opeation is not possible in tuple, however we can do this by converting to list\n",
    "t1[0] = 1"
   ]
  },
  {
   "cell_type": "code",
   "execution_count": 11,
   "id": "251c1d78",
   "metadata": {},
   "outputs": [
    {
     "data": {
      "text/plain": [
       "(10, 20, 2.5, True, 'hello')"
      ]
     },
     "execution_count": 11,
     "metadata": {},
     "output_type": "execute_result"
    }
   ],
   "source": [
    "# create new tuple from this 2 tuples\n",
    "t3 = t1 + t2 # Concatenation of tuple\n",
    "t3"
   ]
  },
  {
   "cell_type": "code",
   "execution_count": 12,
   "id": "c3ccc7ec",
   "metadata": {},
   "outputs": [
    {
     "data": {
      "text/plain": [
       "[1, 20, 2.5]"
      ]
     },
     "execution_count": 12,
     "metadata": {},
     "output_type": "execute_result"
    }
   ],
   "source": [
    "# We can convert to list and re assign\n",
    "t_list = list(t1)\n",
    "t_list[0] = 1\n",
    "t_list"
   ]
  },
  {
   "cell_type": "markdown",
   "id": "5173c69f",
   "metadata": {},
   "source": [
    "### Basic Tuple Methods\n",
    "Tuples have built-in methods, but not as many as lists do. Let's see spme samples of tuple built-in methods"
   ]
  },
  {
   "cell_type": "code",
   "execution_count": 13,
   "id": "625916f8",
   "metadata": {},
   "outputs": [
    {
     "data": {
      "text/plain": [
       "2"
      ]
     },
     "execution_count": 13,
     "metadata": {},
     "output_type": "execute_result"
    }
   ],
   "source": [
    "# Length of tuple\n",
    "len(t)"
   ]
  },
  {
   "cell_type": "code",
   "execution_count": 14,
   "id": "e9479bc2",
   "metadata": {},
   "outputs": [
    {
     "data": {
      "text/plain": [
       "('one', 2, 'one', 2)"
      ]
     },
     "execution_count": 14,
     "metadata": {},
     "output_type": "execute_result"
    }
   ],
   "source": [
    "# Repetition of tuple\n",
    "t * 2"
   ]
  },
  {
   "cell_type": "code",
   "execution_count": 15,
   "id": "f6f5915e",
   "metadata": {},
   "outputs": [
    {
     "data": {
      "text/plain": [
       "False"
      ]
     },
     "execution_count": 15,
     "metadata": {},
     "output_type": "execute_result"
    }
   ],
   "source": [
    "# Check if element is a member of a tuple\n",
    "3 in t"
   ]
  },
  {
   "cell_type": "code",
   "execution_count": 16,
   "id": "7b1aa903",
   "metadata": {},
   "outputs": [
    {
     "data": {
      "text/plain": [
       "89"
      ]
     },
     "execution_count": 16,
     "metadata": {},
     "output_type": "execute_result"
    }
   ],
   "source": [
    "# max eleemnt of a tuple\n",
    "t = (1,5,89,45,4)\n",
    "max(t)"
   ]
  },
  {
   "cell_type": "code",
   "execution_count": 17,
   "id": "f6299a94",
   "metadata": {},
   "outputs": [
    {
     "data": {
      "text/plain": [
       "'tasgaon'"
      ]
     },
     "execution_count": 17,
     "metadata": {},
     "output_type": "execute_result"
    }
   ],
   "source": [
    "t= (\"sunil\",\"DS\",\"tasgaon\")\n",
    "max(t)"
   ]
  },
  {
   "cell_type": "code",
   "execution_count": 18,
   "id": "b0727569",
   "metadata": {},
   "outputs": [
    {
     "ename": "TypeError",
     "evalue": "'>' not supported between instances of 'str' and 'int'",
     "output_type": "error",
     "traceback": [
      "\u001b[1;31m---------------------------------------------------------------------------\u001b[0m",
      "\u001b[1;31mTypeError\u001b[0m                                 Traceback (most recent call last)",
      "Input \u001b[1;32mIn [18]\u001b[0m, in \u001b[0;36m<cell line: 2>\u001b[1;34m()\u001b[0m\n\u001b[0;32m      1\u001b[0m t \u001b[38;5;241m=\u001b[39m (\u001b[38;5;241m1\u001b[39m,\u001b[38;5;241m2\u001b[39m,\u001b[38;5;124m\"\u001b[39m\u001b[38;5;124msunil\u001b[39m\u001b[38;5;124m\"\u001b[39m) \u001b[38;5;66;03m# max() not supported for different data types at a given tuple\u001b[39;00m\n\u001b[1;32m----> 2\u001b[0m \u001b[38;5;28;43mmax\u001b[39;49m\u001b[43m(\u001b[49m\u001b[43mt\u001b[49m\u001b[43m)\u001b[49m\n",
      "\u001b[1;31mTypeError\u001b[0m: '>' not supported between instances of 'str' and 'int'"
     ]
    }
   ],
   "source": [
    "t = (1,2,\"sunil\") # max() not supported for different data types at a given tuple\n",
    "max(t)"
   ]
  },
  {
   "cell_type": "code",
   "execution_count": 19,
   "id": "44dc3f2e",
   "metadata": {},
   "outputs": [
    {
     "data": {
      "text/plain": [
       "0"
      ]
     },
     "execution_count": 19,
     "metadata": {},
     "output_type": "execute_result"
    }
   ],
   "source": [
    "# Use .index to enter a value and return the index\n",
    "t.index(1)"
   ]
  },
  {
   "cell_type": "code",
   "execution_count": 20,
   "id": "060f4f74",
   "metadata": {},
   "outputs": [
    {
     "data": {
      "text/plain": [
       "0"
      ]
     },
     "execution_count": 20,
     "metadata": {},
     "output_type": "execute_result"
    }
   ],
   "source": [
    "# Use .count to count the number of times a value appears\n",
    "t.count('abc')"
   ]
  },
  {
   "cell_type": "markdown",
   "id": "ce13ee6f",
   "metadata": {},
   "source": [
    "## Immutability\n",
    "As tuples are immutable, it can't be stressed enough and add more into it. To drive that point home:"
   ]
  },
  {
   "cell_type": "code",
   "execution_count": 21,
   "id": "172c2d62",
   "metadata": {},
   "outputs": [
    {
     "ename": "TypeError",
     "evalue": "'tuple' object does not support item assignment",
     "output_type": "error",
     "traceback": [
      "\u001b[1;31m---------------------------------------------------------------------------\u001b[0m",
      "\u001b[1;31mTypeError\u001b[0m                                 Traceback (most recent call last)",
      "Input \u001b[1;32mIn [21]\u001b[0m, in \u001b[0;36m<cell line: 1>\u001b[1;34m()\u001b[0m\n\u001b[1;32m----> 1\u001b[0m t[\u001b[38;5;241m0\u001b[39m]\u001b[38;5;241m=\u001b[39m \u001b[38;5;124m'\u001b[39m\u001b[38;5;124mchange\u001b[39m\u001b[38;5;124m'\u001b[39m\n",
      "\u001b[1;31mTypeError\u001b[0m: 'tuple' object does not support item assignment"
     ]
    }
   ],
   "source": [
    "t[0]= 'change'"
   ]
  },
  {
   "cell_type": "markdown",
   "id": "17b53a8a",
   "metadata": {},
   "source": [
    "Because tuple being immutable they can't grow. Once a tuple is made we can not add to it."
   ]
  },
  {
   "cell_type": "code",
   "execution_count": 22,
   "id": "d1c386d2",
   "metadata": {},
   "outputs": [
    {
     "ename": "AttributeError",
     "evalue": "'tuple' object has no attribute 'append'",
     "output_type": "error",
     "traceback": [
      "\u001b[1;31m---------------------------------------------------------------------------\u001b[0m",
      "\u001b[1;31mAttributeError\u001b[0m                            Traceback (most recent call last)",
      "Input \u001b[1;32mIn [22]\u001b[0m, in \u001b[0;36m<cell line: 1>\u001b[1;34m()\u001b[0m\n\u001b[1;32m----> 1\u001b[0m \u001b[43mt\u001b[49m\u001b[38;5;241;43m.\u001b[39;49m\u001b[43mappend\u001b[49m(\u001b[38;5;124m'\u001b[39m\u001b[38;5;124mnope\u001b[39m\u001b[38;5;124m'\u001b[39m)\n",
      "\u001b[1;31mAttributeError\u001b[0m: 'tuple' object has no attribute 'append'"
     ]
    }
   ],
   "source": [
    "t.append('nope')"
   ]
  },
  {
   "cell_type": "code",
   "execution_count": 23,
   "id": "281b250e",
   "metadata": {},
   "outputs": [
    {
     "data": {
      "text/plain": [
       "1"
      ]
     },
     "execution_count": 23,
     "metadata": {},
     "output_type": "execute_result"
    }
   ],
   "source": [
    "# min() of a tuple\n",
    "t = (4,7,2,1)\n",
    "min(t)"
   ]
  },
  {
   "cell_type": "code",
   "execution_count": 24,
   "id": "11623e5b",
   "metadata": {},
   "outputs": [
    {
     "data": {
      "text/plain": [
       "'False'"
      ]
     },
     "execution_count": 24,
     "metadata": {},
     "output_type": "execute_result"
    }
   ],
   "source": [
    "# for min() all elements data type should be same in a tuple\n",
    "t = (\"True\",\"False\")\n",
    "min(t)"
   ]
  },
  {
   "cell_type": "code",
   "execution_count": 25,
   "id": "5b35555e",
   "metadata": {},
   "outputs": [],
   "source": [
    "# tuple() will be used to convert list object to tuple while list() will be used to convert list objects to tuple\n",
    "\n",
    "t = (1,2,3,4,5)\n",
    "\n",
    "t = list(t) # converting to list and can do every operation which we can do with list"
   ]
  },
  {
   "cell_type": "code",
   "execution_count": 26,
   "id": "0b20fa1b",
   "metadata": {},
   "outputs": [],
   "source": [
    "t[0] = 6"
   ]
  },
  {
   "cell_type": "code",
   "execution_count": 27,
   "id": "f6164d46",
   "metadata": {},
   "outputs": [
    {
     "data": {
      "text/plain": [
       "([6, 2, 3, 4, 5], list)"
      ]
     },
     "execution_count": 27,
     "metadata": {},
     "output_type": "execute_result"
    }
   ],
   "source": [
    "t , type(t)"
   ]
  },
  {
   "cell_type": "code",
   "execution_count": 28,
   "id": "b8844bc0",
   "metadata": {},
   "outputs": [
    {
     "data": {
      "text/plain": [
       "(6, 2, 3, 4, 5)"
      ]
     },
     "execution_count": 28,
     "metadata": {},
     "output_type": "execute_result"
    }
   ],
   "source": [
    "# Now convert back to tuple\n",
    "t = tuple(t)\n",
    "t"
   ]
  },
  {
   "cell_type": "markdown",
   "id": "829ab381",
   "metadata": {},
   "source": [
    "## When to use Tuples?\n",
    "\n",
    "Tuples are not used often as lists in programming but are used when immutability is necessary. \n",
    "While you are passing around an object and if you need to make sure that it does not get changed then tuple become your solution.\n",
    "It provides a convenient source of data integrity.\n",
    "\n",
    "You should now be able to create and use tuples in your programming as well as have a complete understanding of their immutability."
   ]
  },
  {
   "cell_type": "code",
   "execution_count": 29,
   "id": "a2e95f53",
   "metadata": {},
   "outputs": [
    {
     "name": "stdout",
     "output_type": "stream",
     "text": [
      "[('',), ('a', 'b'), ('a', 'b', 'c'), 'd']\n"
     ]
    }
   ],
   "source": [
    "# Remove an empty tuple(s) from a list of tuples.\n",
    "t = [(), (), ('',), ('a', 'b'), ('a', 'b', 'c'), ('d')]\n",
    "\n",
    "L = [i for i in t if i]\n",
    "\n",
    "print(L)"
   ]
  },
  {
   "cell_type": "code",
   "execution_count": 30,
   "id": "329c15e0",
   "metadata": {},
   "outputs": [
    {
     "data": {
      "text/plain": [
       "((1, 2), (3, 4))"
      ]
     },
     "execution_count": 30,
     "metadata": {},
     "output_type": "execute_result"
    }
   ],
   "source": [
    "# Nested tuples\n",
    "t1 = (1,2)\n",
    "t2 = (3,4)\n",
    "nested= (t1,t2)\n",
    "nested"
   ]
  },
  {
   "cell_type": "code",
   "execution_count": 31,
   "id": "56d77872",
   "metadata": {},
   "outputs": [
    {
     "ename": "NameError",
     "evalue": "name 't' is not defined",
     "output_type": "error",
     "traceback": [
      "\u001b[1;31m---------------------------------------------------------------------------\u001b[0m",
      "\u001b[1;31mNameError\u001b[0m                                 Traceback (most recent call last)",
      "Input \u001b[1;32mIn [31]\u001b[0m, in \u001b[0;36m<cell line: 3>\u001b[1;34m()\u001b[0m\n\u001b[0;32m      1\u001b[0m t \u001b[38;5;241m=\u001b[39m (\u001b[38;5;241m1\u001b[39m)\n\u001b[0;32m      2\u001b[0m \u001b[38;5;28;01mdel\u001b[39;00m(t) \u001b[38;5;66;03m# deleteing tuple\u001b[39;00m\n\u001b[1;32m----> 3\u001b[0m \u001b[43mt\u001b[49m\n",
      "\u001b[1;31mNameError\u001b[0m: name 't' is not defined"
     ]
    }
   ],
   "source": [
    "t = (1)\n",
    "del(t) # deleteing tuple\n",
    "t # already deleted"
   ]
  },
  {
   "cell_type": "code",
   "execution_count": 32,
   "id": "8f3c7d68",
   "metadata": {},
   "outputs": [
    {
     "name": "stdout",
     "output_type": "stream",
     "text": [
      "Not the same length\n"
     ]
    }
   ],
   "source": [
    "#Creating tuples in a if else \n",
    "  \n",
    "t1 = ('abc', 'def') \n",
    "t2 = ('abc', 'def',3) \n",
    "  \n",
    "if (len(t1) != len(t2)):\n",
    "    print('Not the same length') \n",
    "else: \n",
    "    print('Same length') "
   ]
  },
  {
   "cell_type": "code",
   "execution_count": 34,
   "id": "98fbe738",
   "metadata": {},
   "outputs": [
    {
     "name": "stdout",
     "output_type": "stream",
     "text": [
      "Enter your symptoms: cough\n",
      "There might be chances of COVID. Concern to doctor\n"
     ]
    }
   ],
   "source": [
    "covid_symptoms = (\"cold\",\"cough\",\"throat-problem\",\"BP\",\"DB\")\n",
    "\n",
    "sym = input(\"Enter your symptoms: \")\n",
    "if sym in covid_symptoms:\n",
    "    print(\"There might be chances of COVID. Concern to doctor\")\n",
    "else:\n",
    "    print(\"You are safe, but take precautions\")"
   ]
  },
  {
   "cell_type": "markdown",
   "id": "ff26f574",
   "metadata": {},
   "source": [
    "# Set\n",
    "Sets are an unordered collection of unique elements which can be constructed using the set() function."
   ]
  },
  {
   "cell_type": "code",
   "execution_count": 35,
   "id": "035367f3",
   "metadata": {},
   "outputs": [],
   "source": [
    "x = set()"
   ]
  },
  {
   "cell_type": "markdown",
   "id": "1bcaaa2d",
   "metadata": {},
   "source": [
    "## Sets operations"
   ]
  },
  {
   "cell_type": "code",
   "execution_count": 36,
   "id": "bfb468b0",
   "metadata": {},
   "outputs": [],
   "source": [
    "# We add to sets with the add() method\n",
    "x.add(3)"
   ]
  },
  {
   "cell_type": "code",
   "execution_count": 37,
   "id": "23d3754d",
   "metadata": {},
   "outputs": [
    {
     "data": {
      "text/plain": [
       "{3}"
      ]
     },
     "execution_count": 37,
     "metadata": {},
     "output_type": "execute_result"
    }
   ],
   "source": [
    "#Show or Execute\n",
    "x"
   ]
  },
  {
   "cell_type": "markdown",
   "id": "39ce2928",
   "metadata": {},
   "source": [
    "Note that the curly brackets do not indicate a dictionary! Using only keys, you can draw analogies as a set being a dictionary.\n",
    "\n",
    "We know that a set has an only unique entry. Now, let us see what happens when we try to add something more that is already present in a set?"
   ]
  },
  {
   "cell_type": "code",
   "execution_count": 38,
   "id": "c9dfa9ac",
   "metadata": {},
   "outputs": [],
   "source": [
    "# Add a different element\n",
    "x.add(2)"
   ]
  },
  {
   "cell_type": "code",
   "execution_count": 39,
   "id": "e118b975",
   "metadata": {},
   "outputs": [
    {
     "data": {
      "text/plain": [
       "{2, 3}"
      ]
     },
     "execution_count": 39,
     "metadata": {},
     "output_type": "execute_result"
    }
   ],
   "source": [
    "#Show\n",
    "x"
   ]
  },
  {
   "cell_type": "code",
   "execution_count": 40,
   "id": "ee839b09",
   "metadata": {},
   "outputs": [],
   "source": [
    "# Try to add the same element\n",
    "x.add(2)"
   ]
  },
  {
   "cell_type": "code",
   "execution_count": 41,
   "id": "52f379b2",
   "metadata": {},
   "outputs": [
    {
     "data": {
      "text/plain": [
       "{2, 3}"
      ]
     },
     "execution_count": 41,
     "metadata": {},
     "output_type": "execute_result"
    }
   ],
   "source": [
    "#Show\n",
    "x"
   ]
  },
  {
   "cell_type": "raw",
   "id": "4d09f892",
   "metadata": {},
   "source": [
    "Notice, how it won't place another 2 there as a set is only concerned with unique elements! However, We can cast a list with multiple repeat elements to a set to get the unique elements. For example:"
   ]
  },
  {
   "cell_type": "code",
   "execution_count": 42,
   "id": "9e44029e",
   "metadata": {},
   "outputs": [],
   "source": [
    "# Create a list with repeats\n",
    "l = [1,1,2,2,3,4,5,6,1,1]"
   ]
  },
  {
   "cell_type": "code",
   "execution_count": 43,
   "id": "d1b08b9c",
   "metadata": {},
   "outputs": [
    {
     "data": {
      "text/plain": [
       "{1, 2, 3, 4, 5, 6}"
      ]
     },
     "execution_count": 43,
     "metadata": {},
     "output_type": "execute_result"
    }
   ],
   "source": [
    "# Cast as set to get unique values\n",
    "l = set(l)\n",
    "l"
   ]
  },
  {
   "cell_type": "code",
   "execution_count": 44,
   "id": "5a3b1da0",
   "metadata": {},
   "outputs": [
    {
     "data": {
      "text/plain": [
       "{1, 2, 3, 4, 5}"
      ]
     },
     "execution_count": 44,
     "metadata": {},
     "output_type": "execute_result"
    }
   ],
   "source": [
    "# Remove element from set\n",
    "l.remove(6)\n",
    "l"
   ]
  },
  {
   "cell_type": "code",
   "execution_count": 45,
   "id": "d97df93d",
   "metadata": {},
   "outputs": [],
   "source": [
    "l.discard(6) # It will not givean error if element is not present"
   ]
  },
  {
   "cell_type": "code",
   "execution_count": 46,
   "id": "d33452f4",
   "metadata": {},
   "outputs": [
    {
     "data": {
      "text/plain": [
       "{1, 2, 3, 4, 5}"
      ]
     },
     "execution_count": 46,
     "metadata": {},
     "output_type": "execute_result"
    }
   ],
   "source": [
    "l"
   ]
  },
  {
   "cell_type": "code",
   "execution_count": 47,
   "id": "307cf246",
   "metadata": {},
   "outputs": [
    {
     "ename": "KeyError",
     "evalue": "6",
     "output_type": "error",
     "traceback": [
      "\u001b[1;31m---------------------------------------------------------------------------\u001b[0m",
      "\u001b[1;31mKeyError\u001b[0m                                  Traceback (most recent call last)",
      "Input \u001b[1;32mIn [47]\u001b[0m, in \u001b[0;36m<cell line: 1>\u001b[1;34m()\u001b[0m\n\u001b[1;32m----> 1\u001b[0m \u001b[43ml\u001b[49m\u001b[38;5;241;43m.\u001b[39;49m\u001b[43mremove\u001b[49m\u001b[43m(\u001b[49m\u001b[38;5;241;43m6\u001b[39;49m\u001b[43m)\u001b[49m\n",
      "\u001b[1;31mKeyError\u001b[0m: 6"
     ]
    }
   ],
   "source": [
    "l.remove(6) # It will give an error if element is notpresent"
   ]
  },
  {
   "cell_type": "code",
   "execution_count": 48,
   "id": "d093e625",
   "metadata": {},
   "outputs": [
    {
     "data": {
      "text/plain": [
       "set()"
      ]
     },
     "execution_count": 48,
     "metadata": {},
     "output_type": "execute_result"
    }
   ],
   "source": [
    "l.clear() # Clear all elements in a set/\n",
    "l"
   ]
  },
  {
   "cell_type": "code",
   "execution_count": 49,
   "id": "3f89adb6",
   "metadata": {},
   "outputs": [
    {
     "name": "stdout",
     "output_type": "stream",
     "text": [
      "{'AWS', 'Bigdata', 'Cloud'}\n",
      "{'Apache', 'Azure', 'pyspark'}\n"
     ]
    }
   ],
   "source": [
    "# Difference between two sets\n",
    "x = {\"AWS\", \"Cloud\", \"Bigdata\"}\n",
    "y = {\"Azure\", \"Apache\", \"pyspark\"}\n",
    "\n",
    "print(x.difference(y))\n",
    "print(y.difference(x))"
   ]
  },
  {
   "cell_type": "markdown",
   "id": "0b5148f9",
   "metadata": {},
   "source": [
    "## Update the first set with items that don’t exist in the second set"
   ]
  },
  {
   "cell_type": "code",
   "execution_count": 50,
   "id": "c61c9aec",
   "metadata": {},
   "outputs": [
    {
     "name": "stdout",
     "output_type": "stream",
     "text": [
      "{10, 30}\n"
     ]
    }
   ],
   "source": [
    "set1 = {10, 20, 30}\n",
    "set2 = {20, 40, 50}\n",
    "\n",
    "set1.difference_update(set2)\n",
    "print(set1)"
   ]
  },
  {
   "cell_type": "markdown",
   "id": "2bd3e3d5",
   "metadata": {},
   "source": [
    "## Write a Python program to remove items 10, 20, 30 from the following set at once."
   ]
  },
  {
   "cell_type": "code",
   "execution_count": 51,
   "id": "90709bd5",
   "metadata": {},
   "outputs": [
    {
     "name": "stdout",
     "output_type": "stream",
     "text": [
      "{50, 40}\n"
     ]
    }
   ],
   "source": [
    "set1 = {10, 20, 30, 40, 50}\n",
    "\n",
    "set1.difference_update({10, 20, 30})\n",
    "print(set1)"
   ]
  },
  {
   "cell_type": "markdown",
   "id": "a63fe8b6",
   "metadata": {},
   "source": [
    "## Check if two sets have any elements in common. If yes, display the common elements"
   ]
  },
  {
   "cell_type": "code",
   "execution_count": 52,
   "id": "454ddc16",
   "metadata": {},
   "outputs": [
    {
     "name": "stdout",
     "output_type": "stream",
     "text": [
      "Two sets have items in common\n",
      "{10}\n"
     ]
    }
   ],
   "source": [
    "set1 = {10, 20, 30, 40, 50}\n",
    "set2 = {60, 70, 80, 90, 10}\n",
    "\n",
    "if set1.isdisjoint(set2):\n",
    "    print(\"Two sets have no items in common\")\n",
    "else:\n",
    "    print(\"Two sets have items in common\")\n",
    "    print(set1.intersection(set2))"
   ]
  }
 ],
 "metadata": {
  "kernelspec": {
   "display_name": "Python 3 (ipykernel)",
   "language": "python",
   "name": "python3"
  },
  "language_info": {
   "codemirror_mode": {
    "name": "ipython",
    "version": 3
   },
   "file_extension": ".py",
   "mimetype": "text/x-python",
   "name": "python",
   "nbconvert_exporter": "python",
   "pygments_lexer": "ipython3",
   "version": "3.9.12"
  }
 },
 "nbformat": 4,
 "nbformat_minor": 5
}
