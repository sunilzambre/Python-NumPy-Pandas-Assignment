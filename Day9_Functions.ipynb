{
 "cells": [
  {
   "cell_type": "markdown",
   "id": "46aea6ad",
   "metadata": {},
   "source": [
    "## Functions"
   ]
  },
  {
   "cell_type": "markdown",
   "id": "b47085b0",
   "metadata": {},
   "source": [
    "* Functions are set of instructions to perform specifc task."
   ]
  },
  {
   "cell_type": "code",
   "execution_count": 1,
   "id": "b0711b47",
   "metadata": {},
   "outputs": [
    {
     "data": {
      "text/plain": [
       "5"
      ]
     },
     "execution_count": 1,
     "metadata": {},
     "output_type": "execute_result"
    }
   ],
   "source": [
    "len(\"Sunil\") #This  function which I used right now is predefined by some one."
   ]
  },
  {
   "cell_type": "code",
   "execution_count": 2,
   "id": "16374316",
   "metadata": {},
   "outputs": [
    {
     "name": "stdout",
     "output_type": "stream",
     "text": [
      "Sunil\n"
     ]
    }
   ],
   "source": [
    "print(\"Sunil\")"
   ]
  },
  {
   "cell_type": "markdown",
   "id": "310bd1a3",
   "metadata": {},
   "source": [
    "## Creating our own Function"
   ]
  },
  {
   "cell_type": "code",
   "execution_count": 3,
   "id": "4277fe25",
   "metadata": {},
   "outputs": [
    {
     "ename": "IndentationError",
     "evalue": "expected an indented block (3861551224.py, line 1)",
     "output_type": "error",
     "traceback": [
      "\u001b[1;36m  Input \u001b[1;32mIn [3]\u001b[1;36m\u001b[0m\n\u001b[1;33m    def test():\u001b[0m\n\u001b[1;37m               ^\u001b[0m\n\u001b[1;31mIndentationError\u001b[0m\u001b[1;31m:\u001b[0m expected an indented block\n"
     ]
    }
   ],
   "source": [
    "def test():"
   ]
  },
  {
   "cell_type": "code",
   "execution_count": 4,
   "id": "e950de40",
   "metadata": {},
   "outputs": [],
   "source": [
    "def test1():\n",
    "    print(\"This is my first function\")"
   ]
  },
  {
   "cell_type": "code",
   "execution_count": 5,
   "id": "c67cce05",
   "metadata": {},
   "outputs": [
    {
     "name": "stdout",
     "output_type": "stream",
     "text": [
      "This is my first function\n"
     ]
    }
   ],
   "source": [
    "test1()"
   ]
  },
  {
   "cell_type": "code",
   "execution_count": 6,
   "id": "8594bde0",
   "metadata": {},
   "outputs": [
    {
     "name": "stdout",
     "output_type": "stream",
     "text": [
      "This is my first function\n"
     ]
    }
   ],
   "source": [
    "test1() #We can this function any number of times "
   ]
  },
  {
   "cell_type": "code",
   "execution_count": 7,
   "id": "687c8170",
   "metadata": {},
   "outputs": [
    {
     "name": "stdout",
     "output_type": "stream",
     "text": [
      "This is my first function\n"
     ]
    }
   ],
   "source": [
    "a = test1()"
   ]
  },
  {
   "cell_type": "code",
   "execution_count": 8,
   "id": "32f5dac4",
   "metadata": {},
   "outputs": [
    {
     "ename": "TypeError",
     "evalue": "unsupported operand type(s) for +: 'NoneType' and 'str'",
     "output_type": "error",
     "traceback": [
      "\u001b[1;31m---------------------------------------------------------------------------\u001b[0m",
      "\u001b[1;31mTypeError\u001b[0m                                 Traceback (most recent call last)",
      "Input \u001b[1;32mIn [8]\u001b[0m, in \u001b[0;36m<cell line: 1>\u001b[1;34m()\u001b[0m\n\u001b[1;32m----> 1\u001b[0m \u001b[43ma\u001b[49m\u001b[43m \u001b[49m\u001b[38;5;241;43m+\u001b[39;49m\u001b[43m \u001b[49m\u001b[38;5;124;43m\"\u001b[39;49m\u001b[38;5;124;43mSunil\u001b[39;49m\u001b[38;5;124;43m\"\u001b[39;49m\n",
      "\u001b[1;31mTypeError\u001b[0m: unsupported operand type(s) for +: 'NoneType' and 'str'"
     ]
    }
   ],
   "source": [
    "a + \"Sunil\""
   ]
  },
  {
   "cell_type": "code",
   "execution_count": 9,
   "id": "c3723c78",
   "metadata": {},
   "outputs": [
    {
     "name": "stdout",
     "output_type": "stream",
     "text": [
      "This is my first function\n"
     ]
    },
    {
     "ename": "TypeError",
     "evalue": "unsupported operand type(s) for +: 'NoneType' and 'str'",
     "output_type": "error",
     "traceback": [
      "\u001b[1;31m---------------------------------------------------------------------------\u001b[0m",
      "\u001b[1;31mTypeError\u001b[0m                                 Traceback (most recent call last)",
      "Input \u001b[1;32mIn [9]\u001b[0m, in \u001b[0;36m<cell line: 1>\u001b[1;34m()\u001b[0m\n\u001b[1;32m----> 1\u001b[0m \u001b[43mtest1\u001b[49m\u001b[43m(\u001b[49m\u001b[43m)\u001b[49m\u001b[43m \u001b[49m\u001b[38;5;241;43m+\u001b[39;49m\u001b[43m \u001b[49m\u001b[38;5;124;43m\"\u001b[39;49m\u001b[38;5;124;43mSunil\u001b[39;49m\u001b[38;5;124;43m\"\u001b[39;49m\n",
      "\u001b[1;31mTypeError\u001b[0m: unsupported operand type(s) for +: 'NoneType' and 'str'"
     ]
    }
   ],
   "source": [
    "test1() + \"Sunil\""
   ]
  },
  {
   "cell_type": "code",
   "execution_count": 10,
   "id": "ef652f9a",
   "metadata": {},
   "outputs": [
    {
     "data": {
      "text/plain": [
       "NoneType"
      ]
     },
     "execution_count": 10,
     "metadata": {},
     "output_type": "execute_result"
    }
   ],
   "source": [
    "type(a)"
   ]
  },
  {
   "cell_type": "code",
   "execution_count": 11,
   "id": "433544e4",
   "metadata": {},
   "outputs": [
    {
     "data": {
      "text/plain": [
       "'None'"
      ]
     },
     "execution_count": 11,
     "metadata": {},
     "output_type": "execute_result"
    }
   ],
   "source": [
    "str(a)"
   ]
  },
  {
   "cell_type": "code",
   "execution_count": 14,
   "id": "57285670",
   "metadata": {},
   "outputs": [],
   "source": [
    "def test2():\n",
    "    return \"Sunil \""
   ]
  },
  {
   "cell_type": "code",
   "execution_count": 15,
   "id": "52607906",
   "metadata": {},
   "outputs": [
    {
     "data": {
      "text/plain": [
       "'Sunil Zambare'"
      ]
     },
     "execution_count": 15,
     "metadata": {},
     "output_type": "execute_result"
    }
   ],
   "source": [
    "test2() + \"Zambare\""
   ]
  },
  {
   "cell_type": "code",
   "execution_count": 16,
   "id": "3712236b",
   "metadata": {},
   "outputs": [],
   "source": [
    "def test3():\n",
    "    return 7007"
   ]
  },
  {
   "cell_type": "code",
   "execution_count": 17,
   "id": "76b5822e",
   "metadata": {},
   "outputs": [
    {
     "data": {
      "text/plain": [
       "7007"
      ]
     },
     "execution_count": 17,
     "metadata": {},
     "output_type": "execute_result"
    }
   ],
   "source": [
    "test3()"
   ]
  },
  {
   "cell_type": "code",
   "execution_count": 18,
   "id": "af6c8496",
   "metadata": {},
   "outputs": [
    {
     "data": {
      "text/plain": [
       "int"
      ]
     },
     "execution_count": 18,
     "metadata": {},
     "output_type": "execute_result"
    }
   ],
   "source": [
    "type(test3())"
   ]
  },
  {
   "cell_type": "code",
   "execution_count": 19,
   "id": "ebfc021e",
   "metadata": {},
   "outputs": [],
   "source": [
    "def test4():\n",
    "    return 1,'a',[1,2,3,4,5]"
   ]
  },
  {
   "cell_type": "code",
   "execution_count": 20,
   "id": "139c4a79",
   "metadata": {},
   "outputs": [
    {
     "data": {
      "text/plain": [
       "(1, 'a', [1, 2, 3, 4, 5])"
      ]
     },
     "execution_count": 20,
     "metadata": {},
     "output_type": "execute_result"
    }
   ],
   "source": [
    "test4() #returns tuple"
   ]
  },
  {
   "cell_type": "code",
   "execution_count": 21,
   "id": "18135c67",
   "metadata": {},
   "outputs": [],
   "source": [
    "b = test4()"
   ]
  },
  {
   "cell_type": "code",
   "execution_count": 22,
   "id": "8bf948ca",
   "metadata": {},
   "outputs": [
    {
     "data": {
      "text/plain": [
       "(1, 'a', [1, 2, 3, 4, 5])"
      ]
     },
     "execution_count": 22,
     "metadata": {},
     "output_type": "execute_result"
    }
   ],
   "source": [
    "b"
   ]
  },
  {
   "cell_type": "code",
   "execution_count": 23,
   "id": "6d5bdd63",
   "metadata": {},
   "outputs": [
    {
     "data": {
      "text/plain": [
       "[1, 2, 3, 4, 5]"
      ]
     },
     "execution_count": 23,
     "metadata": {},
     "output_type": "execute_result"
    }
   ],
   "source": [
    "b[2]"
   ]
  },
  {
   "cell_type": "code",
   "execution_count": 24,
   "id": "d4871641",
   "metadata": {},
   "outputs": [],
   "source": [
    "a = 1\n",
    "b = 5\n",
    "c = \"Sunil\"\n",
    "d = [11,12,13,14,15,16,17,18,23]"
   ]
  },
  {
   "cell_type": "code",
   "execution_count": 25,
   "id": "5ef42375",
   "metadata": {},
   "outputs": [],
   "source": [
    "a, b, c, d = 38, 23, \"Sunil\",\"Zambare\""
   ]
  },
  {
   "cell_type": "code",
   "execution_count": 26,
   "id": "42ccb151",
   "metadata": {},
   "outputs": [],
   "source": [
    "x, y, z = test4()"
   ]
  },
  {
   "cell_type": "code",
   "execution_count": 27,
   "id": "62af467f",
   "metadata": {},
   "outputs": [
    {
     "data": {
      "text/plain": [
       "1"
      ]
     },
     "execution_count": 27,
     "metadata": {},
     "output_type": "execute_result"
    }
   ],
   "source": [
    "x"
   ]
  },
  {
   "cell_type": "code",
   "execution_count": 28,
   "id": "c5c8f583",
   "metadata": {},
   "outputs": [
    {
     "data": {
      "text/plain": [
       "'a'"
      ]
     },
     "execution_count": 28,
     "metadata": {},
     "output_type": "execute_result"
    }
   ],
   "source": [
    "y"
   ]
  },
  {
   "cell_type": "code",
   "execution_count": 29,
   "id": "fe43472d",
   "metadata": {},
   "outputs": [
    {
     "data": {
      "text/plain": [
       "[1, 2, 3, 4, 5]"
      ]
     },
     "execution_count": 29,
     "metadata": {},
     "output_type": "execute_result"
    }
   ],
   "source": [
    "z"
   ]
  },
  {
   "cell_type": "code",
   "execution_count": 30,
   "id": "aceafcb8",
   "metadata": {},
   "outputs": [],
   "source": [
    "def test5():\n",
    "    a = 6 * 3 / 2\n",
    "    return a"
   ]
  },
  {
   "cell_type": "code",
   "execution_count": 31,
   "id": "0488f27b",
   "metadata": {},
   "outputs": [
    {
     "data": {
      "text/plain": [
       "9.0"
      ]
     },
     "execution_count": 31,
     "metadata": {},
     "output_type": "execute_result"
    }
   ],
   "source": [
    "test5()"
   ]
  },
  {
   "cell_type": "code",
   "execution_count": 32,
   "id": "1137c091",
   "metadata": {},
   "outputs": [
    {
     "data": {
      "text/plain": [
       "5"
      ]
     },
     "execution_count": 32,
     "metadata": {},
     "output_type": "execute_result"
    }
   ],
   "source": [
    "len(\"Sunil\")"
   ]
  },
  {
   "cell_type": "code",
   "execution_count": 33,
   "id": "4b37ed22",
   "metadata": {},
   "outputs": [],
   "source": [
    "l = [1, 2, 3,\"sunil\", 4, \"Santosh\", 5]"
   ]
  },
  {
   "cell_type": "code",
   "execution_count": 34,
   "id": "1337c7d6",
   "metadata": {},
   "outputs": [],
   "source": [
    "def test6(a):\n",
    "    n=[]\n",
    "    if type(a) == list:\n",
    "        for i in a:\n",
    "            if type(i) == int:\n",
    "                n.append(i)\n",
    "    return n"
   ]
  },
  {
   "cell_type": "code",
   "execution_count": 35,
   "id": "a934f95f",
   "metadata": {},
   "outputs": [
    {
     "ename": "TypeError",
     "evalue": "test6() missing 1 required positional argument: 'a'",
     "output_type": "error",
     "traceback": [
      "\u001b[1;31m---------------------------------------------------------------------------\u001b[0m",
      "\u001b[1;31mTypeError\u001b[0m                                 Traceback (most recent call last)",
      "Input \u001b[1;32mIn [35]\u001b[0m, in \u001b[0;36m<cell line: 1>\u001b[1;34m()\u001b[0m\n\u001b[1;32m----> 1\u001b[0m \u001b[43mtest6\u001b[49m\u001b[43m(\u001b[49m\u001b[43m)\u001b[49m\n",
      "\u001b[1;31mTypeError\u001b[0m: test6() missing 1 required positional argument: 'a'"
     ]
    }
   ],
   "source": [
    "test6()"
   ]
  },
  {
   "cell_type": "code",
   "execution_count": 36,
   "id": "9429252b",
   "metadata": {},
   "outputs": [
    {
     "data": {
      "text/plain": [
       "[1, 2, 3, 4, 5]"
      ]
     },
     "execution_count": 36,
     "metadata": {},
     "output_type": "execute_result"
    }
   ],
   "source": [
    "test6(l)"
   ]
  },
  {
   "cell_type": "code",
   "execution_count": 37,
   "id": "768e0210",
   "metadata": {},
   "outputs": [],
   "source": [
    "b = [2, 3+3j, \"Lion\"] #again using the test6() function with another list"
   ]
  },
  {
   "cell_type": "code",
   "execution_count": 38,
   "id": "eee7d18c",
   "metadata": {},
   "outputs": [
    {
     "data": {
      "text/plain": [
       "[2]"
      ]
     },
     "execution_count": 38,
     "metadata": {},
     "output_type": "execute_result"
    }
   ],
   "source": [
    "test6(b)"
   ]
  },
  {
   "cell_type": "code",
   "execution_count": 39,
   "id": "95844100",
   "metadata": {},
   "outputs": [],
   "source": [
    "def test7(c):\n",
    "    if type(c) == dict:\n",
    "        return c.keys()\n",
    "    else:\n",
    "        return \"you have not passed a dictionary\""
   ]
  },
  {
   "cell_type": "code",
   "execution_count": 40,
   "id": "a1dd0e9e",
   "metadata": {},
   "outputs": [
    {
     "data": {
      "text/plain": [
       "'you have not passed a dictionary'"
      ]
     },
     "execution_count": 40,
     "metadata": {},
     "output_type": "execute_result"
    }
   ],
   "source": [
    "test7(\"sunil\")"
   ]
  },
  {
   "cell_type": "code",
   "execution_count": 41,
   "id": "15793db6",
   "metadata": {},
   "outputs": [
    {
     "data": {
      "text/plain": [
       "dict_keys(['watch', 'bag', 'pen'])"
      ]
     },
     "execution_count": 41,
     "metadata": {},
     "output_type": "execute_result"
    }
   ],
   "source": [
    "test7({\"watch\":500, \"bag\":600, \"pen\":5})"
   ]
  },
  {
   "cell_type": "code",
   "execution_count": 42,
   "id": "32beee15",
   "metadata": {},
   "outputs": [],
   "source": [
    "def test8(a,b):\n",
    "    if type(a) == list and type(b) == list:\n",
    "        return a.extend(b)\n",
    "    else:\n",
    "        return \"Either of your data is not a list\""
   ]
  },
  {
   "cell_type": "code",
   "execution_count": 43,
   "id": "7177f619",
   "metadata": {},
   "outputs": [
    {
     "ename": "TypeError",
     "evalue": "test8() missing 1 required positional argument: 'b'",
     "output_type": "error",
     "traceback": [
      "\u001b[1;31m---------------------------------------------------------------------------\u001b[0m",
      "\u001b[1;31mTypeError\u001b[0m                                 Traceback (most recent call last)",
      "Input \u001b[1;32mIn [43]\u001b[0m, in \u001b[0;36m<cell line: 1>\u001b[1;34m()\u001b[0m\n\u001b[1;32m----> 1\u001b[0m \u001b[43mtest8\u001b[49m\u001b[43m(\u001b[49m\u001b[38;5;241;43m1\u001b[39;49m\u001b[43m)\u001b[49m\n",
      "\u001b[1;31mTypeError\u001b[0m: test8() missing 1 required positional argument: 'b'"
     ]
    }
   ],
   "source": [
    "test8(1)"
   ]
  },
  {
   "cell_type": "code",
   "execution_count": 44,
   "id": "4d5f2695",
   "metadata": {},
   "outputs": [
    {
     "ename": "TypeError",
     "evalue": "test8() missing 1 required positional argument: 'b'",
     "output_type": "error",
     "traceback": [
      "\u001b[1;31m---------------------------------------------------------------------------\u001b[0m",
      "\u001b[1;31mTypeError\u001b[0m                                 Traceback (most recent call last)",
      "Input \u001b[1;32mIn [44]\u001b[0m, in \u001b[0;36m<cell line: 1>\u001b[1;34m()\u001b[0m\n\u001b[1;32m----> 1\u001b[0m \u001b[43mtest8\u001b[49m\u001b[43m(\u001b[49m\u001b[43m[\u001b[49m\u001b[38;5;241;43m1\u001b[39;49m\u001b[43m,\u001b[49m\u001b[38;5;241;43m2\u001b[39;49m\u001b[43m,\u001b[49m\u001b[38;5;241;43m3\u001b[39;49m\u001b[43m]\u001b[49m\u001b[43m)\u001b[49m\n",
      "\u001b[1;31mTypeError\u001b[0m: test8() missing 1 required positional argument: 'b'"
     ]
    }
   ],
   "source": [
    "test8([1,2,3])"
   ]
  },
  {
   "cell_type": "code",
   "execution_count": 45,
   "id": "80e4c4e8",
   "metadata": {},
   "outputs": [],
   "source": [
    "a = [1,2,3]\n",
    "b = [3,4,5]\n",
    "test8(a,b)"
   ]
  },
  {
   "cell_type": "code",
   "execution_count": 46,
   "id": "a93f3389",
   "metadata": {},
   "outputs": [
    {
     "data": {
      "text/plain": [
       "[1, 2, 3, 3, 4, 5]"
      ]
     },
     "execution_count": 46,
     "metadata": {},
     "output_type": "execute_result"
    }
   ],
   "source": [
    "a"
   ]
  },
  {
   "cell_type": "code",
   "execution_count": 47,
   "id": "bdd76abe",
   "metadata": {},
   "outputs": [],
   "source": [
    "def test8(a,b):\n",
    "    if type(a) == list and type(b) == list:\n",
    "        a.extend(b)\n",
    "        return a\n",
    "    else:\n",
    "        return \"Either of your data is not a list\""
   ]
  },
  {
   "cell_type": "code",
   "execution_count": 48,
   "id": "4b98f32d",
   "metadata": {},
   "outputs": [
    {
     "data": {
      "text/plain": [
       "[1, 2, 3, 4]"
      ]
     },
     "execution_count": 48,
     "metadata": {},
     "output_type": "execute_result"
    }
   ],
   "source": [
    "test8([1,2],[3,4])"
   ]
  },
  {
   "cell_type": "code",
   "execution_count": 49,
   "id": "186db3bd",
   "metadata": {},
   "outputs": [],
   "source": [
    "def triangle(rows):\n",
    "    if type(rows) == int:\n",
    "        for i in range(1,rows):\n",
    "            for j in range(i):\n",
    "                print(\"*\", end=\" \")\n",
    "            print()"
   ]
  },
  {
   "cell_type": "code",
   "execution_count": 50,
   "id": "3b2e723a",
   "metadata": {},
   "outputs": [
    {
     "name": "stdout",
     "output_type": "stream",
     "text": [
      "* \n",
      "* * \n",
      "* * * \n",
      "* * * * \n",
      "* * * * * \n",
      "* * * * * * \n"
     ]
    }
   ],
   "source": [
    "triangle(7)"
   ]
  },
  {
   "cell_type": "code",
   "execution_count": 51,
   "id": "d5adbaa3",
   "metadata": {},
   "outputs": [
    {
     "name": "stdout",
     "output_type": "stream",
     "text": [
      "      *  \n",
      "     *  *  \n",
      "    *  *  *  \n",
      "   *  *  *  *  \n",
      "  *  *  *  *  *  \n",
      " *  *  *  *  *  *  \n",
      "*  *  *  *  *  *  *  \n"
     ]
    }
   ],
   "source": [
    "def create_triangle(row_num):\n",
    "    n = row_num\n",
    "    k = n-1\n",
    "    for i in range(0,n):\n",
    "        for j in range(0,k):\n",
    "            print(end=\" \")\n",
    "        k = k-1\n",
    "        for j in range(0,i+1):\n",
    "            print(\"* \",end=\" \")\n",
    "        print()\n",
    "create_triangle(7)"
   ]
  },
  {
   "cell_type": "code",
   "execution_count": 52,
   "id": "85cb77e7",
   "metadata": {},
   "outputs": [],
   "source": [
    "def triangle(n):\n",
    "    \"This function helps us to create a triangle pattern\"\n",
    "    for i in range(0,n):\n",
    "        for j in range(0,i+1):\n",
    "            print(\"*\",end=\" \")\n",
    "        print(\"\")"
   ]
  },
  {
   "cell_type": "code",
   "execution_count": 53,
   "id": "323cd57b",
   "metadata": {},
   "outputs": [
    {
     "name": "stdout",
     "output_type": "stream",
     "text": [
      "* \n",
      "* * \n",
      "* * * \n",
      "* * * * \n",
      "* * * * * \n",
      "* * * * * * \n",
      "* * * * * * * \n",
      "* * * * * * * * \n",
      "* * * * * * * * * \n",
      "* * * * * * * * * * \n"
     ]
    }
   ],
   "source": [
    "triangle(10)"
   ]
  },
  {
   "cell_type": "code",
   "execution_count": 54,
   "id": "75dfd5fa",
   "metadata": {},
   "outputs": [
    {
     "data": {
      "text/plain": [
       "'This function helps us to create a triangle pattern'"
      ]
     },
     "execution_count": 54,
     "metadata": {},
     "output_type": "execute_result"
    }
   ],
   "source": [
    "triangle.__doc__"
   ]
  },
  {
   "cell_type": "code",
   "execution_count": 55,
   "id": "0f3a5f01",
   "metadata": {},
   "outputs": [
    {
     "name": "stdout",
     "output_type": "stream",
     "text": [
      "* \n",
      "* * \n",
      "* * * \n",
      "* * * * \n",
      "* * * * * \n",
      "Help on NoneType object:\n",
      "\n",
      "class NoneType(object)\n",
      " |  Methods defined here:\n",
      " |  \n",
      " |  __bool__(self, /)\n",
      " |      True if self else False\n",
      " |  \n",
      " |  __repr__(self, /)\n",
      " |      Return repr(self).\n",
      " |  \n",
      " |  ----------------------------------------------------------------------\n",
      " |  Static methods defined here:\n",
      " |  \n",
      " |  __new__(*args, **kwargs) from builtins.type\n",
      " |      Create and return a new object.  See help(type) for accurate signature.\n",
      "\n"
     ]
    }
   ],
   "source": [
    "help(triangle(5))"
   ]
  },
  {
   "cell_type": "code",
   "execution_count": 56,
   "id": "461408e9",
   "metadata": {},
   "outputs": [
    {
     "name": "stdout",
     "output_type": "stream",
     "text": [
      "Help on function triangle in module __main__:\n",
      "\n",
      "triangle(n)\n",
      "    This function helps us to create a triangle pattern\n",
      "\n"
     ]
    }
   ],
   "source": [
    "help(triangle)"
   ]
  },
  {
   "cell_type": "markdown",
   "id": "d12268d4",
   "metadata": {},
   "source": [
    "## Types of arguments"
   ]
  },
  {
   "cell_type": "markdown",
   "id": "ce1dbb01",
   "metadata": {},
   "source": [
    "- Required arguments\n",
    "- Variable length arguments\n",
    "- Keyword arguments\n",
    "- Default arguments"
   ]
  },
  {
   "cell_type": "markdown",
   "id": "30c1f9ae",
   "metadata": {},
   "source": [
    "### variable length arguments"
   ]
  },
  {
   "cell_type": "code",
   "execution_count": 57,
   "id": "4524799c",
   "metadata": {},
   "outputs": [],
   "source": [
    "def test9(*args):\n",
    "    return args"
   ]
  },
  {
   "cell_type": "code",
   "execution_count": 58,
   "id": "70c6ae20",
   "metadata": {},
   "outputs": [
    {
     "data": {
      "text/plain": [
       "(1, 2, 3, 4, 5, 'sunil', [1, 2, 3, 4, 5, 6, 7])"
      ]
     },
     "execution_count": 58,
     "metadata": {},
     "output_type": "execute_result"
    }
   ],
   "source": [
    "test9(1,2,3,4,5,\"sunil\",[1,2,3,4,5,6,7])"
   ]
  },
  {
   "cell_type": "code",
   "execution_count": 59,
   "id": "c05b8532",
   "metadata": {},
   "outputs": [
    {
     "data": {
      "text/plain": [
       "tuple"
      ]
     },
     "execution_count": 59,
     "metadata": {},
     "output_type": "execute_result"
    }
   ],
   "source": [
    "type(test9(1,2,3,4))"
   ]
  },
  {
   "cell_type": "code",
   "execution_count": 60,
   "id": "92fddc95",
   "metadata": {},
   "outputs": [],
   "source": [
    "def test10(*args):\n",
    "    return list(args)"
   ]
  },
  {
   "cell_type": "code",
   "execution_count": 61,
   "id": "da2fbea4",
   "metadata": {},
   "outputs": [
    {
     "data": {
      "text/plain": [
       "[1, 2, 3, 4, 5]"
      ]
     },
     "execution_count": 61,
     "metadata": {},
     "output_type": "execute_result"
    }
   ],
   "source": [
    "test10(1,2,3,4,5)"
   ]
  },
  {
   "cell_type": "code",
   "execution_count": 62,
   "id": "8f695f93",
   "metadata": {},
   "outputs": [],
   "source": [
    "def test10(*args):\n",
    "    l=[]\n",
    "    for i in args:\n",
    "        l.append(i)\n",
    "    return l"
   ]
  },
  {
   "cell_type": "code",
   "execution_count": 63,
   "id": "cbd35d9c",
   "metadata": {},
   "outputs": [
    {
     "data": {
      "text/plain": [
       "[1, 2, 3, 4, 5]"
      ]
     },
     "execution_count": 63,
     "metadata": {},
     "output_type": "execute_result"
    }
   ],
   "source": [
    "test10(1,2,3,4,5)"
   ]
  },
  {
   "cell_type": "markdown",
   "id": "0bb70c3d",
   "metadata": {},
   "source": [
    "### Keyword arguments"
   ]
  },
  {
   "cell_type": "code",
   "execution_count": 64,
   "id": "31156dc8",
   "metadata": {},
   "outputs": [],
   "source": [
    "def test11(**kwargs):\n",
    "    return kwargs"
   ]
  },
  {
   "cell_type": "code",
   "execution_count": 65,
   "id": "e9eeb50d",
   "metadata": {},
   "outputs": [
    {
     "ename": "TypeError",
     "evalue": "test11() takes 0 positional arguments but 6 were given",
     "output_type": "error",
     "traceback": [
      "\u001b[1;31m---------------------------------------------------------------------------\u001b[0m",
      "\u001b[1;31mTypeError\u001b[0m                                 Traceback (most recent call last)",
      "Input \u001b[1;32mIn [65]\u001b[0m, in \u001b[0;36m<cell line: 1>\u001b[1;34m()\u001b[0m\n\u001b[1;32m----> 1\u001b[0m \u001b[43mtest11\u001b[49m\u001b[43m(\u001b[49m\u001b[38;5;241;43m4\u001b[39;49m\u001b[43m,\u001b[49m\u001b[38;5;241;43m5\u001b[39;49m\u001b[43m,\u001b[49m\u001b[38;5;241;43m6\u001b[39;49m\u001b[43m,\u001b[49m\u001b[38;5;241;43m7\u001b[39;49m\u001b[43m,\u001b[49m\u001b[38;5;241;43m8\u001b[39;49m\u001b[43m,\u001b[49m\u001b[38;5;241;43m9\u001b[39;49m\u001b[43m)\u001b[49m\n",
      "\u001b[1;31mTypeError\u001b[0m: test11() takes 0 positional arguments but 6 were given"
     ]
    }
   ],
   "source": [
    "test11(4,5,6,7,8,9)"
   ]
  },
  {
   "cell_type": "code",
   "execution_count": 66,
   "id": "c8667743",
   "metadata": {},
   "outputs": [
    {
     "data": {
      "text/plain": [
       "{'a': 1, 'b': 2, 'c': 'sunil', 'd': 'zambare', 'e': [1, 2, 3, 4, 5]}"
      ]
     },
     "execution_count": 66,
     "metadata": {},
     "output_type": "execute_result"
    }
   ],
   "source": [
    "test11(a=1,b=2,c=\"sunil\",d=\"zambare\",e=[1,2,3,4,5])"
   ]
  },
  {
   "cell_type": "markdown",
   "id": "3949e58b",
   "metadata": {},
   "source": [
    "### function inside function"
   ]
  },
  {
   "cell_type": "code",
   "execution_count": 67,
   "id": "7326d93e",
   "metadata": {},
   "outputs": [],
   "source": [
    "def test12(a):\n",
    "    return a\n",
    "def test13(b):\n",
    "    return b\n",
    "def test14(func):\n",
    "    return func(\"Sunil\")"
   ]
  },
  {
   "cell_type": "code",
   "execution_count": 68,
   "id": "01cff0a2",
   "metadata": {},
   "outputs": [
    {
     "data": {
      "text/plain": [
       "'Sunil'"
      ]
     },
     "execution_count": 68,
     "metadata": {},
     "output_type": "execute_result"
    }
   ],
   "source": [
    "test14(test12)"
   ]
  },
  {
   "cell_type": "code",
   "execution_count": 69,
   "id": "d1c93a80",
   "metadata": {},
   "outputs": [
    {
     "data": {
      "text/plain": [
       "'Sunil'"
      ]
     },
     "execution_count": 69,
     "metadata": {},
     "output_type": "execute_result"
    }
   ],
   "source": [
    "test14(test13)"
   ]
  },
  {
   "cell_type": "code",
   "execution_count": 70,
   "id": "1b4647b0",
   "metadata": {},
   "outputs": [],
   "source": [
    "def test12(a):\n",
    "    return a\n",
    "def test13(b):\n",
    "    return \"Zambare\"\n",
    "def test14(func):\n",
    "    return func(\"Sunil\")"
   ]
  },
  {
   "cell_type": "code",
   "execution_count": 71,
   "id": "bd298e0f",
   "metadata": {},
   "outputs": [
    {
     "data": {
      "text/plain": [
       "'Zambare'"
      ]
     },
     "execution_count": 71,
     "metadata": {},
     "output_type": "execute_result"
    }
   ],
   "source": [
    "test14(test13)"
   ]
  },
  {
   "cell_type": "code",
   "execution_count": 72,
   "id": "ae3f9e16",
   "metadata": {},
   "outputs": [
    {
     "data": {
      "text/plain": [
       "'Sunil'"
      ]
     },
     "execution_count": 72,
     "metadata": {},
     "output_type": "execute_result"
    }
   ],
   "source": [
    "test14(test12)"
   ]
  },
  {
   "cell_type": "code",
   "execution_count": 76,
   "id": "e4f8a81b",
   "metadata": {},
   "outputs": [],
   "source": [
    "def test15(a):\n",
    "    print(\"This is my test 15\")\n",
    "    def test16():\n",
    "        print(\"This is my test 16\")\n",
    "    def test17():\n",
    "        print(\"This is my test 17\")\n",
    "    \n",
    "    if a == \"Sunil\":\n",
    "        return test16()\n",
    "    elif a == \"Zambare\":\n",
    "        return test17()"
   ]
  },
  {
   "cell_type": "code",
   "execution_count": 77,
   "id": "c431b2a2",
   "metadata": {},
   "outputs": [
    {
     "name": "stdout",
     "output_type": "stream",
     "text": [
      "This is my test 15\n",
      "This is my test 16\n"
     ]
    }
   ],
   "source": [
    "test15(\"Sunil\")"
   ]
  },
  {
   "cell_type": "code",
   "execution_count": 78,
   "id": "5d2e88c5",
   "metadata": {},
   "outputs": [
    {
     "name": "stdout",
     "output_type": "stream",
     "text": [
      "This is my test 15\n",
      "This is my test 17\n"
     ]
    }
   ],
   "source": [
    "test15(\"Zambare\")"
   ]
  },
  {
   "cell_type": "code",
   "execution_count": 79,
   "id": "baf463ab",
   "metadata": {},
   "outputs": [],
   "source": [
    "def test13(*args):\n",
    "    print(\"This is a return of test13\")"
   ]
  },
  {
   "cell_type": "code",
   "execution_count": 80,
   "id": "941ee427",
   "metadata": {},
   "outputs": [],
   "source": [
    "def test18(func):\n",
    "    def test19():\n",
    "        print(\"I am inside test 19\")\n",
    "    return test19()"
   ]
  },
  {
   "cell_type": "code",
   "execution_count": 81,
   "id": "5eaaa691",
   "metadata": {},
   "outputs": [
    {
     "name": "stdout",
     "output_type": "stream",
     "text": [
      "I am inside test 19\n"
     ]
    }
   ],
   "source": [
    "test18(test13)"
   ]
  },
  {
   "cell_type": "code",
   "execution_count": 82,
   "id": "7352d78d",
   "metadata": {},
   "outputs": [],
   "source": [
    "def test18(func):\n",
    "    def test19():\n",
    "        print(\"I am inside test 19\")\n",
    "        func()\n",
    "    return test19()"
   ]
  },
  {
   "cell_type": "code",
   "execution_count": 83,
   "id": "a4d50ffb",
   "metadata": {},
   "outputs": [
    {
     "name": "stdout",
     "output_type": "stream",
     "text": [
      "I am inside test 19\n",
      "This is a return of test13\n"
     ]
    }
   ],
   "source": [
    "test18(test13)"
   ]
  },
  {
   "cell_type": "markdown",
   "id": "a0ce1c97",
   "metadata": {},
   "source": [
    "## Decorators"
   ]
  },
  {
   "cell_type": "code",
   "execution_count": 84,
   "id": "5431d181",
   "metadata": {},
   "outputs": [],
   "source": [
    "import os\n",
    "def test18(func):\n",
    "    def test19():\n",
    "        print(\"I am inside test19 and this will behave a decorator to any function that I am going to call\")\n",
    "        print(os.getcwd())\n",
    "        func()\n",
    "    return test19"
   ]
  },
  {
   "cell_type": "code",
   "execution_count": 87,
   "id": "fe2cdd06",
   "metadata": {},
   "outputs": [],
   "source": [
    "@test18\n",
    "def test20():\n",
    "    print(\"This is test20\")"
   ]
  },
  {
   "cell_type": "code",
   "execution_count": 88,
   "id": "cd35e074",
   "metadata": {},
   "outputs": [
    {
     "name": "stdout",
     "output_type": "stream",
     "text": [
      "I am inside test19 and this will behave a decorator to any function that I am going to call\n",
      "C:\\Users\\Admin\n",
      "This is test20\n"
     ]
    }
   ],
   "source": [
    "test20()"
   ]
  },
  {
   "cell_type": "code",
   "execution_count": 89,
   "id": "f4336faf",
   "metadata": {},
   "outputs": [
    {
     "data": {
      "text/plain": [
       "<function __main__.test18.<locals>.test19()>"
      ]
     },
     "execution_count": 89,
     "metadata": {},
     "output_type": "execute_result"
    }
   ],
   "source": [
    "test18(test20)"
   ]
  },
  {
   "cell_type": "code",
   "execution_count": 90,
   "id": "3f0e4499",
   "metadata": {},
   "outputs": [
    {
     "data": {
      "text/plain": [
       "'C:\\\\Users\\\\Admin'"
      ]
     },
     "execution_count": 90,
     "metadata": {},
     "output_type": "execute_result"
    }
   ],
   "source": [
    "pwd()"
   ]
  },
  {
   "cell_type": "code",
   "execution_count": 91,
   "id": "8c97ae11",
   "metadata": {},
   "outputs": [],
   "source": [
    "def test20(func):\n",
    "    def test21():\n",
    "        func()\n",
    "        print(os.getcwd())\n",
    "    return test21"
   ]
  },
  {
   "cell_type": "code",
   "execution_count": 92,
   "id": "621b8262",
   "metadata": {},
   "outputs": [],
   "source": [
    "@test18\n",
    "@test20\n",
    "def test22():\n",
    "    print(\"This will print inside test22\")"
   ]
  },
  {
   "cell_type": "code",
   "execution_count": 93,
   "id": "45100f84",
   "metadata": {},
   "outputs": [
    {
     "name": "stdout",
     "output_type": "stream",
     "text": [
      "I am inside test19 and this will behave a decorator to any function that I am going to call\n",
      "C:\\Users\\Admin\n",
      "This will print inside test22\n",
      "C:\\Users\\Admin\n"
     ]
    }
   ],
   "source": [
    "test22()"
   ]
  },
  {
   "cell_type": "code",
   "execution_count": 94,
   "id": "3e87c93c",
   "metadata": {},
   "outputs": [
    {
     "name": "stdout",
     "output_type": "stream",
     "text": [
      "hello\n",
      "0.0\n"
     ]
    }
   ],
   "source": [
    "import time\n",
    "start = time.time()\n",
    "print(\"hello\")\n",
    "end = time.time()\n",
    "print(end - start)"
   ]
  },
  {
   "cell_type": "code",
   "execution_count": 95,
   "id": "d090573a",
   "metadata": {},
   "outputs": [
    {
     "data": {
      "text/plain": [
       "1683821368.9128842"
      ]
     },
     "execution_count": 95,
     "metadata": {},
     "output_type": "execute_result"
    }
   ],
   "source": [
    "time.time()"
   ]
  },
  {
   "cell_type": "code",
   "execution_count": 98,
   "id": "2d4a4e6d",
   "metadata": {},
   "outputs": [],
   "source": [
    "def test25(func) : \n",
    "    def test26():\n",
    "        print(\"This wil give you executation time of a function \") \n",
    "        start = time.time()\n",
    "        func()\n",
    "        print(func())\n",
    "        end = time.time()\n",
    "        print(end -start)\n",
    "    return  test26\n",
    "\n",
    "@test25\n",
    "def test27():\n",
    "    \"\"\"\n",
    "    This is a functin whichi will take a decorator for calculating a executation timeing of a functioin \n",
    "    \"\"\"\n",
    "    l = [4,5,6,7,8,8]\n",
    "    l1 = []\n",
    "    for i in l :\n",
    "        if type(i) == int :\n",
    "            l1.append(i)\n",
    "    return l1"
   ]
  },
  {
   "cell_type": "code",
   "execution_count": 99,
   "id": "08122ea0",
   "metadata": {},
   "outputs": [
    {
     "name": "stdout",
     "output_type": "stream",
     "text": [
      "This wil give you executation time of a function \n",
      "[4, 5, 6, 7, 8, 8]\n",
      "0.0\n"
     ]
    }
   ],
   "source": [
    "test27()"
   ]
  },
  {
   "cell_type": "code",
   "execution_count": 100,
   "id": "94238b81",
   "metadata": {},
   "outputs": [],
   "source": [
    "def test3(*args,a):\n",
    "    return args,a"
   ]
  },
  {
   "cell_type": "code",
   "execution_count": 101,
   "id": "e4faab9d",
   "metadata": {},
   "outputs": [
    {
     "ename": "TypeError",
     "evalue": "test3() missing 1 required keyword-only argument: 'a'",
     "output_type": "error",
     "traceback": [
      "\u001b[1;31m---------------------------------------------------------------------------\u001b[0m",
      "\u001b[1;31mTypeError\u001b[0m                                 Traceback (most recent call last)",
      "Input \u001b[1;32mIn [101]\u001b[0m, in \u001b[0;36m<cell line: 1>\u001b[1;34m()\u001b[0m\n\u001b[1;32m----> 1\u001b[0m \u001b[43mtest3\u001b[49m\u001b[43m(\u001b[49m\u001b[38;5;241;43m1\u001b[39;49m\u001b[43m,\u001b[49m\u001b[38;5;241;43m2\u001b[39;49m\u001b[43m,\u001b[49m\u001b[38;5;241;43m3\u001b[39;49m\u001b[43m,\u001b[49m\u001b[38;5;241;43m4\u001b[39;49m\u001b[43m)\u001b[49m\n",
      "\u001b[1;31mTypeError\u001b[0m: test3() missing 1 required keyword-only argument: 'a'"
     ]
    }
   ],
   "source": [
    "test3(1,2,3,4)"
   ]
  },
  {
   "cell_type": "code",
   "execution_count": 102,
   "id": "382a4389",
   "metadata": {},
   "outputs": [
    {
     "data": {
      "text/plain": [
       "((1, 2, 3, 4), [1, 2, 3, 4])"
      ]
     },
     "execution_count": 102,
     "metadata": {},
     "output_type": "execute_result"
    }
   ],
   "source": [
    "test3(1,2,3,4,a=[1,2,3,4])"
   ]
  },
  {
   "cell_type": "code",
   "execution_count": 103,
   "id": "732eb45e",
   "metadata": {},
   "outputs": [],
   "source": [
    "def test3(*args,a,b,c):\n",
    "    return args,a,b,c"
   ]
  },
  {
   "cell_type": "code",
   "execution_count": 104,
   "id": "fb6930dc",
   "metadata": {},
   "outputs": [
    {
     "data": {
      "text/plain": [
       "((1, 2, 3, 4), [23, 4, 5], 'hello', (2+3j))"
      ]
     },
     "execution_count": 104,
     "metadata": {},
     "output_type": "execute_result"
    }
   ],
   "source": [
    "test3(1,2,3,4,a=[23,4,5],b=\"hello\",c=2+3j)"
   ]
  },
  {
   "cell_type": "code",
   "execution_count": 105,
   "id": "4b359315",
   "metadata": {},
   "outputs": [],
   "source": [
    "def test3(a,*args):\n",
    "    return a,args"
   ]
  },
  {
   "cell_type": "code",
   "execution_count": 106,
   "id": "e550627e",
   "metadata": {},
   "outputs": [
    {
     "ename": "TypeError",
     "evalue": "test3() got multiple values for argument 'a'",
     "output_type": "error",
     "traceback": [
      "\u001b[1;31m---------------------------------------------------------------------------\u001b[0m",
      "\u001b[1;31mTypeError\u001b[0m                                 Traceback (most recent call last)",
      "Input \u001b[1;32mIn [106]\u001b[0m, in \u001b[0;36m<cell line: 1>\u001b[1;34m()\u001b[0m\n\u001b[1;32m----> 1\u001b[0m \u001b[43mtest3\u001b[49m\u001b[43m(\u001b[49m\u001b[38;5;241;43m1\u001b[39;49m\u001b[43m,\u001b[49m\u001b[38;5;241;43m2\u001b[39;49m\u001b[43m,\u001b[49m\u001b[38;5;241;43m34\u001b[39;49m\u001b[43m,\u001b[49m\u001b[43ma\u001b[49m\u001b[38;5;241;43m=\u001b[39;49m\u001b[38;5;241;43m4\u001b[39;49m\u001b[43m)\u001b[49m\n",
      "\u001b[1;31mTypeError\u001b[0m: test3() got multiple values for argument 'a'"
     ]
    }
   ],
   "source": [
    "test3(1,2,34,a=4)"
   ]
  },
  {
   "cell_type": "code",
   "execution_count": 107,
   "id": "ccb56d8a",
   "metadata": {},
   "outputs": [
    {
     "data": {
      "text/plain": [
       "(2, (1, 2, 3, 4))"
      ]
     },
     "execution_count": 107,
     "metadata": {},
     "output_type": "execute_result"
    }
   ],
   "source": [
    "test3(2,1,2,3,4)"
   ]
  },
  {
   "cell_type": "code",
   "execution_count": 108,
   "id": "01bbc5ec",
   "metadata": {},
   "outputs": [],
   "source": [
    "def test4(a,*args,b,c):\n",
    "    return args,a,b,c"
   ]
  },
  {
   "cell_type": "code",
   "execution_count": 109,
   "id": "60c1fc97",
   "metadata": {},
   "outputs": [
    {
     "ename": "TypeError",
     "evalue": "test4() missing 2 required keyword-only arguments: 'b' and 'c'",
     "output_type": "error",
     "traceback": [
      "\u001b[1;31m---------------------------------------------------------------------------\u001b[0m",
      "\u001b[1;31mTypeError\u001b[0m                                 Traceback (most recent call last)",
      "Input \u001b[1;32mIn [109]\u001b[0m, in \u001b[0;36m<cell line: 1>\u001b[1;34m()\u001b[0m\n\u001b[1;32m----> 1\u001b[0m \u001b[43mtest4\u001b[49m\u001b[43m(\u001b[49m\u001b[38;5;124;43m\"\u001b[39;49m\u001b[38;5;124;43mSunil\u001b[39;49m\u001b[38;5;124;43m\"\u001b[39;49m\u001b[43m,\u001b[49m\u001b[38;5;241;43m1\u001b[39;49m\u001b[43m,\u001b[49m\u001b[38;5;241;43m2\u001b[39;49m\u001b[43m,\u001b[49m\u001b[38;5;241;43m3\u001b[39;49m\u001b[43m,\u001b[49m\u001b[38;5;241;43m4\u001b[39;49m\u001b[43m)\u001b[49m\n",
      "\u001b[1;31mTypeError\u001b[0m: test4() missing 2 required keyword-only arguments: 'b' and 'c'"
     ]
    }
   ],
   "source": [
    "test4(\"Sunil\",1,2,3,4)"
   ]
  },
  {
   "cell_type": "code",
   "execution_count": 110,
   "id": "67f1c15b",
   "metadata": {},
   "outputs": [
    {
     "data": {
      "text/plain": [
       "((1, 2, 3, 4, 5), 'Sunil', 6, 7)"
      ]
     },
     "execution_count": 110,
     "metadata": {},
     "output_type": "execute_result"
    }
   ],
   "source": [
    "test4(\"Sunil\",1,2,3,4,5,b=6,c=7)"
   ]
  },
  {
   "cell_type": "code",
   "execution_count": 111,
   "id": "de33de65",
   "metadata": {},
   "outputs": [],
   "source": [
    "def test6(*args):\n",
    "    for i in args:\n",
    "        if type(i)==list:\n",
    "            return i"
   ]
  },
  {
   "cell_type": "code",
   "execution_count": 112,
   "id": "ffa6e74b",
   "metadata": {},
   "outputs": [
    {
     "data": {
      "text/plain": [
       "[4, 5, 6, 7]"
      ]
     },
     "execution_count": 112,
     "metadata": {},
     "output_type": "execute_result"
    }
   ],
   "source": [
    "test6(1,2,3,[4,5,6,7],8,9,10)"
   ]
  },
  {
   "cell_type": "code",
   "execution_count": 113,
   "id": "7cdd76ac",
   "metadata": {},
   "outputs": [],
   "source": [
    "def test6(*args):\n",
    "    for i in args:\n",
    "        if type(i)==list:\n",
    "            return i"
   ]
  },
  {
   "cell_type": "code",
   "execution_count": 114,
   "id": "a74f678a",
   "metadata": {},
   "outputs": [
    {
     "data": {
      "text/plain": [
       "[4, 5, 6]"
      ]
     },
     "execution_count": 114,
     "metadata": {},
     "output_type": "execute_result"
    }
   ],
   "source": [
    "test6(1,2,3,[4,5,6],[5,4,3])"
   ]
  },
  {
   "cell_type": "code",
   "execution_count": 115,
   "id": "70181011",
   "metadata": {},
   "outputs": [],
   "source": [
    "def test6(*args):\n",
    "    l=[]\n",
    "    for i in args:\n",
    "        if type(i)==list:\n",
    "            l.append(i)\n",
    "    return l"
   ]
  },
  {
   "cell_type": "code",
   "execution_count": 116,
   "id": "f1fb00e4",
   "metadata": {},
   "outputs": [
    {
     "data": {
      "text/plain": [
       "[[23, 34, 24], [34, 65, 42]]"
      ]
     },
     "execution_count": 116,
     "metadata": {},
     "output_type": "execute_result"
    }
   ],
   "source": [
    "test6(1,2,3,4,[23,34,24],[34,65,42])"
   ]
  },
  {
   "cell_type": "code",
   "execution_count": 117,
   "id": "865ac163",
   "metadata": {},
   "outputs": [],
   "source": [
    "#keyword arguments\n",
    "def test7(**kwargs):\n",
    "    return kwargs"
   ]
  },
  {
   "cell_type": "code",
   "execution_count": 118,
   "id": "cb65490e",
   "metadata": {},
   "outputs": [
    {
     "data": {
      "text/plain": [
       "{'a': 1, 'b': 2, 'c': 3}"
      ]
     },
     "execution_count": 118,
     "metadata": {},
     "output_type": "execute_result"
    }
   ],
   "source": [
    "test7(a=1,b=2,c=3)"
   ]
  },
  {
   "cell_type": "code",
   "execution_count": 119,
   "id": "656e7ab5",
   "metadata": {},
   "outputs": [
    {
     "ename": "SyntaxError",
     "evalue": "expression cannot contain assignment, perhaps you meant \"==\"? (1487247482.py, line 1)",
     "output_type": "error",
     "traceback": [
      "\u001b[1;36m  Input \u001b[1;32mIn [119]\u001b[1;36m\u001b[0m\n\u001b[1;33m    test7(\"a\"=\"Sunil\")\u001b[0m\n\u001b[1;37m          ^\u001b[0m\n\u001b[1;31mSyntaxError\u001b[0m\u001b[1;31m:\u001b[0m expression cannot contain assignment, perhaps you meant \"==\"?\n"
     ]
    }
   ],
   "source": [
    "test7(\"a\"=\"Sunil\")"
   ]
  },
  {
   "cell_type": "code",
   "execution_count": 120,
   "id": "d4a58521",
   "metadata": {},
   "outputs": [
    {
     "data": {
      "text/plain": [
       "{'a': 'Sunil'}"
      ]
     },
     "execution_count": 120,
     "metadata": {},
     "output_type": "execute_result"
    }
   ],
   "source": [
    "test7(a=\"Sunil\")"
   ]
  },
  {
   "cell_type": "code",
   "execution_count": 121,
   "id": "3d5d45a9",
   "metadata": {},
   "outputs": [
    {
     "ename": "SyntaxError",
     "evalue": "expression cannot contain assignment, perhaps you meant \"==\"? (847194555.py, line 1)",
     "output_type": "error",
     "traceback": [
      "\u001b[1;36m  Input \u001b[1;32mIn [121]\u001b[1;36m\u001b[0m\n\u001b[1;33m    test7(4=\"Sunil\")\u001b[0m\n\u001b[1;37m          ^\u001b[0m\n\u001b[1;31mSyntaxError\u001b[0m\u001b[1;31m:\u001b[0m expression cannot contain assignment, perhaps you meant \"==\"?\n"
     ]
    }
   ],
   "source": [
    "test7(4=\"Sunil\")"
   ]
  },
  {
   "cell_type": "code",
   "execution_count": 122,
   "id": "08f82d03",
   "metadata": {},
   "outputs": [],
   "source": [
    "def test8(**Sunil):\n",
    "    return Sunil"
   ]
  },
  {
   "cell_type": "code",
   "execution_count": 125,
   "id": "72d25e6f",
   "metadata": {},
   "outputs": [
    {
     "data": {
      "text/plain": [
       "{'Name': 'Sunil',\n",
       " 'Age': 38,\n",
       " 'Phone_number': 9970575581,\n",
       " 'Address': 'At post-Ayodhyanagar,Dongarsoni,Taluka-Tasgaon,District-Sangli'}"
      ]
     },
     "execution_count": 125,
     "metadata": {},
     "output_type": "execute_result"
    }
   ],
   "source": [
    "test8(Name=\"Sunil\",Age=38,Phone_number=9970575581,Address=\"At post-Ayodhyanagar,Dongarsoni,Taluka-Tasgaon,District-Sangli\")"
   ]
  },
  {
   "cell_type": "code",
   "execution_count": 126,
   "id": "ea546584",
   "metadata": {},
   "outputs": [],
   "source": [
    "def test9(a,**Sunil):\n",
    "    return Sunil, a"
   ]
  },
  {
   "cell_type": "code",
   "execution_count": 127,
   "id": "de17b554",
   "metadata": {},
   "outputs": [
    {
     "data": {
      "text/plain": [
       "({'t': 23, 'b': 34, 'c': 7, 'd': 8, 'e': 32}, 23)"
      ]
     },
     "execution_count": 127,
     "metadata": {},
     "output_type": "execute_result"
    }
   ],
   "source": [
    "test9(23,t=23,b=34,c=7,d=8,e=32)"
   ]
  },
  {
   "cell_type": "code",
   "execution_count": 128,
   "id": "1d7ae4b7",
   "metadata": {},
   "outputs": [
    {
     "ename": "SyntaxError",
     "evalue": "invalid syntax (3560402617.py, line 1)",
     "output_type": "error",
     "traceback": [
      "\u001b[1;36m  Input \u001b[1;32mIn [128]\u001b[1;36m\u001b[0m\n\u001b[1;33m    def test10(a,**b,*args):\u001b[0m\n\u001b[1;37m                     ^\u001b[0m\n\u001b[1;31mSyntaxError\u001b[0m\u001b[1;31m:\u001b[0m invalid syntax\n"
     ]
    }
   ],
   "source": [
    "def test10(a,**b,*args):\n",
    "    return a,args,b"
   ]
  },
  {
   "cell_type": "code",
   "execution_count": 129,
   "id": "ddf52c39",
   "metadata": {},
   "outputs": [],
   "source": [
    "def test11(a,*args,**kwargs):\n",
    "    return a, args, kwargs"
   ]
  },
  {
   "cell_type": "code",
   "execution_count": 130,
   "id": "c6bddacb",
   "metadata": {},
   "outputs": [
    {
     "data": {
      "text/plain": [
       "(12, (13, 14, 15, 16), {'c': [1, 2, 3, 4], 'd': 'Sunil'})"
      ]
     },
     "execution_count": 130,
     "metadata": {},
     "output_type": "execute_result"
    }
   ],
   "source": [
    "test11(12,13,14,15,16,c=[1,2,3,4],d=\"Sunil\")"
   ]
  },
  {
   "cell_type": "code",
   "execution_count": 131,
   "id": "9fbe3e44",
   "metadata": {},
   "outputs": [],
   "source": [
    "def test12(a,b):\n",
    "    return a*b"
   ]
  },
  {
   "cell_type": "code",
   "execution_count": 132,
   "id": "c905f677",
   "metadata": {},
   "outputs": [
    {
     "data": {
      "text/plain": [
       "168"
      ]
     },
     "execution_count": 132,
     "metadata": {},
     "output_type": "execute_result"
    }
   ],
   "source": [
    "test12(12,14)"
   ]
  },
  {
   "cell_type": "code",
   "execution_count": 133,
   "id": "14290744",
   "metadata": {},
   "outputs": [],
   "source": [
    "multi = lambda a,b : a * b"
   ]
  },
  {
   "cell_type": "code",
   "execution_count": 134,
   "id": "2089c353",
   "metadata": {},
   "outputs": [
    {
     "data": {
      "text/plain": [
       "120"
      ]
     },
     "execution_count": 134,
     "metadata": {},
     "output_type": "execute_result"
    }
   ],
   "source": [
    "multi(10,12)"
   ]
  },
  {
   "cell_type": "code",
   "execution_count": 135,
   "id": "3e01075a",
   "metadata": {},
   "outputs": [],
   "source": [
    "def a1(func):\n",
    "    def a2():\n",
    "        print(\"I am inside test2\")\n",
    "        func()\n",
    "        print(func())\n",
    "        print(\"Function executed\")\n",
    "        return func()\n",
    "    return a2"
   ]
  },
  {
   "cell_type": "code",
   "execution_count": 136,
   "id": "e9f5b11c",
   "metadata": {},
   "outputs": [],
   "source": [
    "@a1\n",
    "def a3():\n",
    "    print(\"this is my test3\")"
   ]
  },
  {
   "cell_type": "code",
   "execution_count": 137,
   "id": "42c369c3",
   "metadata": {},
   "outputs": [
    {
     "name": "stdout",
     "output_type": "stream",
     "text": [
      "I am inside test2\n",
      "this is my test3\n",
      "this is my test3\n",
      "None\n",
      "Function executed\n",
      "this is my test3\n"
     ]
    }
   ],
   "source": [
    "a3()"
   ]
  },
  {
   "cell_type": "code",
   "execution_count": 138,
   "id": "9b2fef87",
   "metadata": {},
   "outputs": [],
   "source": [
    "def a4():\n",
    "    return 4+5"
   ]
  },
  {
   "cell_type": "code",
   "execution_count": 139,
   "id": "cf11c165",
   "metadata": {},
   "outputs": [
    {
     "data": {
      "text/plain": [
       "9"
      ]
     },
     "execution_count": 139,
     "metadata": {},
     "output_type": "execute_result"
    }
   ],
   "source": [
    "a4()"
   ]
  },
  {
   "cell_type": "code",
   "execution_count": 140,
   "id": "6a52fb90",
   "metadata": {},
   "outputs": [],
   "source": [
    "@a1\n",
    "def a4():\n",
    "    return 4+5"
   ]
  },
  {
   "cell_type": "code",
   "execution_count": 141,
   "id": "17616030",
   "metadata": {},
   "outputs": [
    {
     "name": "stdout",
     "output_type": "stream",
     "text": [
      "I am inside test2\n",
      "9\n",
      "Function executed\n"
     ]
    },
    {
     "data": {
      "text/plain": [
       "9"
      ]
     },
     "execution_count": 141,
     "metadata": {},
     "output_type": "execute_result"
    }
   ],
   "source": [
    "a4()"
   ]
  },
  {
   "cell_type": "code",
   "execution_count": 142,
   "id": "f856a073",
   "metadata": {},
   "outputs": [
    {
     "name": "stdout",
     "output_type": "stream",
     "text": [
      "I am inside test2\n",
      "9\n",
      "Function executed\n"
     ]
    }
   ],
   "source": [
    "a = a4()"
   ]
  },
  {
   "cell_type": "code",
   "execution_count": 143,
   "id": "51a2b6f6",
   "metadata": {},
   "outputs": [
    {
     "name": "stdout",
     "output_type": "stream",
     "text": [
      "9\n"
     ]
    }
   ],
   "source": [
    "print(a)"
   ]
  },
  {
   "cell_type": "code",
   "execution_count": 144,
   "id": "4ac9b5fa",
   "metadata": {},
   "outputs": [],
   "source": [
    "def a1(func):\n",
    "    def a2(c,d):\n",
    "        print(\"I am inside test2\")\n",
    "        func(c,d)\n",
    "        print(func(c,d))\n",
    "        print(\"Function executed\")\n",
    "        return func(c,d)\n",
    "    return a2"
   ]
  },
  {
   "cell_type": "code",
   "execution_count": 145,
   "id": "6faea2e0",
   "metadata": {},
   "outputs": [],
   "source": [
    "def a5(a,b):\n",
    "    return a+b"
   ]
  },
  {
   "cell_type": "code",
   "execution_count": 146,
   "id": "a8856f0e",
   "metadata": {},
   "outputs": [
    {
     "data": {
      "text/plain": [
       "22"
      ]
     },
     "execution_count": 146,
     "metadata": {},
     "output_type": "execute_result"
    }
   ],
   "source": [
    "a5(10,12)"
   ]
  },
  {
   "cell_type": "code",
   "execution_count": 147,
   "id": "7fa12686",
   "metadata": {},
   "outputs": [],
   "source": [
    "@a1\n",
    "def a5(a,b):\n",
    "    return a+b"
   ]
  },
  {
   "cell_type": "code",
   "execution_count": 148,
   "id": "398e6ae2",
   "metadata": {},
   "outputs": [
    {
     "name": "stdout",
     "output_type": "stream",
     "text": [
      "I am inside test2\n",
      "22\n",
      "Function executed\n"
     ]
    },
    {
     "data": {
      "text/plain": [
       "22"
      ]
     },
     "execution_count": 148,
     "metadata": {},
     "output_type": "execute_result"
    }
   ],
   "source": [
    "a5(10,12)"
   ]
  },
  {
   "cell_type": "code",
   "execution_count": 149,
   "id": "34a77fb3",
   "metadata": {},
   "outputs": [],
   "source": [
    "def a1(func):\n",
    "    def a2(*args):\n",
    "        print(\"I am inside test2\")\n",
    "        func(*args)\n",
    "        print(func(*args))\n",
    "        print(\"Function executed\")\n",
    "        return func(*args)\n",
    "    return a2"
   ]
  },
  {
   "cell_type": "code",
   "execution_count": 150,
   "id": "7cb95d76",
   "metadata": {},
   "outputs": [],
   "source": [
    "@a1\n",
    "def a6(a,b,c):\n",
    "    return a+b+c"
   ]
  },
  {
   "cell_type": "code",
   "execution_count": 151,
   "id": "8499f4e4",
   "metadata": {},
   "outputs": [],
   "source": [
    "def a1(func):\n",
    "    def a2(*args,**kwargs):\n",
    "        print(\"I am inside test2\")\n",
    "        func(*args,**kwargs)\n",
    "        print(func(*args,**kwargs))\n",
    "        print(\"Function executed\")\n",
    "        return func(*args,**kwargs)\n",
    "    return a2"
   ]
  },
  {
   "cell_type": "code",
   "execution_count": 152,
   "id": "4ba3d277",
   "metadata": {},
   "outputs": [],
   "source": [
    "@a1\n",
    "def a7(**kwargs):\n",
    "    return kwargs"
   ]
  },
  {
   "cell_type": "code",
   "execution_count": 153,
   "id": "8faafc29",
   "metadata": {},
   "outputs": [
    {
     "name": "stdout",
     "output_type": "stream",
     "text": [
      "I am inside test2\n",
      "{'e': 10, 'f': 20}\n",
      "Function executed\n"
     ]
    },
    {
     "data": {
      "text/plain": [
       "{'e': 10, 'f': 20}"
      ]
     },
     "execution_count": 153,
     "metadata": {},
     "output_type": "execute_result"
    }
   ],
   "source": [
    "a7(e=10,f=20)"
   ]
  },
  {
   "cell_type": "markdown",
   "id": "0f85d662",
   "metadata": {},
   "source": [
    "## Ananymous or Lambda function"
   ]
  },
  {
   "cell_type": "code",
   "execution_count": 154,
   "id": "858fe5de",
   "metadata": {},
   "outputs": [
    {
     "data": {
      "text/plain": [
       "<function __main__.<lambda>(a, b)>"
      ]
     },
     "execution_count": 154,
     "metadata": {},
     "output_type": "execute_result"
    }
   ],
   "source": [
    "lambda a,b: a+b"
   ]
  },
  {
   "cell_type": "code",
   "execution_count": 155,
   "id": "f9a985a7",
   "metadata": {},
   "outputs": [],
   "source": [
    "def b1(a,b):\n",
    "    return a+b"
   ]
  },
  {
   "cell_type": "code",
   "execution_count": 156,
   "id": "dda5be7c",
   "metadata": {},
   "outputs": [
    {
     "data": {
      "text/plain": [
       "26"
      ]
     },
     "execution_count": 156,
     "metadata": {},
     "output_type": "execute_result"
    }
   ],
   "source": [
    "b1(12,14)"
   ]
  },
  {
   "cell_type": "code",
   "execution_count": 157,
   "id": "94196903",
   "metadata": {},
   "outputs": [
    {
     "data": {
      "text/plain": [
       "<function __main__.<lambda>(a, b)>"
      ]
     },
     "execution_count": 157,
     "metadata": {},
     "output_type": "execute_result"
    }
   ],
   "source": [
    "lambda a,b: a+b"
   ]
  },
  {
   "cell_type": "code",
   "execution_count": 158,
   "id": "1518edf3",
   "metadata": {},
   "outputs": [
    {
     "data": {
      "text/plain": [
       "<function __main__.b1(a, b)>"
      ]
     },
     "execution_count": 158,
     "metadata": {},
     "output_type": "execute_result"
    }
   ],
   "source": [
    "b1"
   ]
  },
  {
   "cell_type": "code",
   "execution_count": 159,
   "id": "00c6a7c5",
   "metadata": {},
   "outputs": [],
   "source": [
    "c = lambda a,b : a + b"
   ]
  },
  {
   "cell_type": "code",
   "execution_count": 160,
   "id": "f653c227",
   "metadata": {},
   "outputs": [
    {
     "data": {
      "text/plain": [
       "30"
      ]
     },
     "execution_count": 160,
     "metadata": {},
     "output_type": "execute_result"
    }
   ],
   "source": [
    "c(10,20)"
   ]
  },
  {
   "cell_type": "code",
   "execution_count": 161,
   "id": "20c487ec",
   "metadata": {},
   "outputs": [
    {
     "data": {
      "text/plain": [
       "'Sunil Zambare'"
      ]
     },
     "execution_count": 161,
     "metadata": {},
     "output_type": "execute_result"
    }
   ],
   "source": [
    "c(\"Sunil \",\"Zambare\")"
   ]
  },
  {
   "cell_type": "code",
   "execution_count": 162,
   "id": "bfacc69f",
   "metadata": {},
   "outputs": [],
   "source": [
    "d = lambda a, b, c, d : a + b * c / d"
   ]
  },
  {
   "cell_type": "code",
   "execution_count": 163,
   "id": "4dd804a9",
   "metadata": {},
   "outputs": [
    {
     "data": {
      "text/plain": [
       "25.0"
      ]
     },
     "execution_count": 163,
     "metadata": {},
     "output_type": "execute_result"
    }
   ],
   "source": [
    "d(10,20,30,40)"
   ]
  },
  {
   "cell_type": "code",
   "execution_count": 164,
   "id": "361a7b50",
   "metadata": {},
   "outputs": [],
   "source": [
    "e = lambda * args : args"
   ]
  },
  {
   "cell_type": "code",
   "execution_count": 165,
   "id": "3c0d489d",
   "metadata": {},
   "outputs": [
    {
     "data": {
      "text/plain": [
       "(1, 2, 12, 13)"
      ]
     },
     "execution_count": 165,
     "metadata": {},
     "output_type": "execute_result"
    }
   ],
   "source": [
    "e(1,2,12,13)"
   ]
  },
  {
   "cell_type": "markdown",
   "id": "53adbf20",
   "metadata": {},
   "source": [
    "## map"
   ]
  },
  {
   "cell_type": "code",
   "execution_count": 166,
   "id": "6758b973",
   "metadata": {},
   "outputs": [],
   "source": [
    "l=[1,2,3,4,5,6]"
   ]
  },
  {
   "cell_type": "code",
   "execution_count": 167,
   "id": "1d7ef621",
   "metadata": {},
   "outputs": [],
   "source": [
    "# expected output l1=[11,12,13,14,15,16]\n",
    "l1=[]\n",
    "for i in l:\n",
    "    l1.append(i+10)"
   ]
  },
  {
   "cell_type": "code",
   "execution_count": 168,
   "id": "8288cb8c",
   "metadata": {},
   "outputs": [
    {
     "data": {
      "text/plain": [
       "[11, 12, 13, 14, 15, 16]"
      ]
     },
     "execution_count": 168,
     "metadata": {},
     "output_type": "execute_result"
    }
   ],
   "source": [
    "l1"
   ]
  },
  {
   "cell_type": "code",
   "execution_count": 169,
   "id": "a6b83b63",
   "metadata": {},
   "outputs": [],
   "source": [
    "def c1(a):\n",
    "    return a+10"
   ]
  },
  {
   "cell_type": "code",
   "execution_count": 170,
   "id": "f6612a62",
   "metadata": {},
   "outputs": [
    {
     "data": {
      "text/plain": [
       "<map at 0x1dfff66aa60>"
      ]
     },
     "execution_count": 170,
     "metadata": {},
     "output_type": "execute_result"
    }
   ],
   "source": [
    "map(c1,l)"
   ]
  },
  {
   "cell_type": "code",
   "execution_count": 171,
   "id": "7bf0b7d3",
   "metadata": {},
   "outputs": [
    {
     "data": {
      "text/plain": [
       "[11, 12, 13, 14, 15, 16]"
      ]
     },
     "execution_count": 171,
     "metadata": {},
     "output_type": "execute_result"
    }
   ],
   "source": [
    "list(map(c1,l))"
   ]
  },
  {
   "cell_type": "code",
   "execution_count": 172,
   "id": "e727d51d",
   "metadata": {},
   "outputs": [
    {
     "data": {
      "text/plain": [
       "[11, 12, 13, 14, 15, 16]"
      ]
     },
     "execution_count": 172,
     "metadata": {},
     "output_type": "execute_result"
    }
   ],
   "source": [
    "list(map((lambda a:a+10),l))"
   ]
  },
  {
   "cell_type": "code",
   "execution_count": 173,
   "id": "e63eba4b",
   "metadata": {},
   "outputs": [],
   "source": [
    "d=lambda a:a+10"
   ]
  },
  {
   "cell_type": "code",
   "execution_count": 174,
   "id": "d5f90749",
   "metadata": {},
   "outputs": [
    {
     "data": {
      "text/plain": [
       "[11, 12, 13, 14, 15, 16]"
      ]
     },
     "execution_count": 174,
     "metadata": {},
     "output_type": "execute_result"
    }
   ],
   "source": [
    "list(map(d,l))"
   ]
  },
  {
   "cell_type": "code",
   "execution_count": 175,
   "id": "b28d7688",
   "metadata": {},
   "outputs": [],
   "source": [
    "l=[\"sunil\",\"zambare\",\"tasgaon\"]"
   ]
  },
  {
   "cell_type": "code",
   "execution_count": 176,
   "id": "cc7fa577",
   "metadata": {},
   "outputs": [
    {
     "data": {
      "text/plain": [
       "['Sunil', 'Zambare', 'Tasgaon']"
      ]
     },
     "execution_count": 176,
     "metadata": {},
     "output_type": "execute_result"
    }
   ],
   "source": [
    "list(map(lambda a : a.capitalize(),l))"
   ]
  },
  {
   "cell_type": "code",
   "execution_count": 177,
   "id": "0ab4940d",
   "metadata": {},
   "outputs": [
    {
     "data": {
      "text/plain": [
       "['SUNIL', 'ZAMBARE', 'TASGAON']"
      ]
     },
     "execution_count": 177,
     "metadata": {},
     "output_type": "execute_result"
    }
   ],
   "source": [
    "list(map(lambda a:a.upper(),l))"
   ]
  },
  {
   "cell_type": "code",
   "execution_count": 178,
   "id": "f7d85cf9",
   "metadata": {},
   "outputs": [],
   "source": [
    "def upper_string(a):\n",
    "    return a.upper()"
   ]
  },
  {
   "cell_type": "code",
   "execution_count": 179,
   "id": "64535074",
   "metadata": {},
   "outputs": [
    {
     "data": {
      "text/plain": [
       "['SUNIL', 'ZAMBARE', 'TASGAON']"
      ]
     },
     "execution_count": 179,
     "metadata": {},
     "output_type": "execute_result"
    }
   ],
   "source": [
    "list(map(upper_string,l))"
   ]
  },
  {
   "cell_type": "code",
   "execution_count": 180,
   "id": "5e6e0cb3",
   "metadata": {},
   "outputs": [
    {
     "data": {
      "text/plain": [
       "[5, 7, 7]"
      ]
     },
     "execution_count": 180,
     "metadata": {},
     "output_type": "execute_result"
    }
   ],
   "source": [
    "list(map(len,l))"
   ]
  },
  {
   "cell_type": "code",
   "execution_count": 181,
   "id": "376c84b8",
   "metadata": {},
   "outputs": [],
   "source": [
    "def len_str(a):\n",
    "    return len(a)"
   ]
  },
  {
   "cell_type": "code",
   "execution_count": 182,
   "id": "518c8fe6",
   "metadata": {},
   "outputs": [
    {
     "data": {
      "text/plain": [
       "[5, 7, 7]"
      ]
     },
     "execution_count": 182,
     "metadata": {},
     "output_type": "execute_result"
    }
   ],
   "source": [
    "list(map(len_str,l))"
   ]
  },
  {
   "cell_type": "markdown",
   "id": "6dd146f7",
   "metadata": {},
   "source": [
    "## Filter Function"
   ]
  },
  {
   "cell_type": "code",
   "execution_count": 183,
   "id": "06acb6e4",
   "metadata": {},
   "outputs": [],
   "source": [
    "l=[1,2,3,4,5,6,7,8]"
   ]
  },
  {
   "cell_type": "code",
   "execution_count": 184,
   "id": "8d7c30a0",
   "metadata": {},
   "outputs": [
    {
     "data": {
      "text/plain": [
       "[2, 4, 6, 8]"
      ]
     },
     "execution_count": 184,
     "metadata": {},
     "output_type": "execute_result"
    }
   ],
   "source": [
    "[i for i in l if i%2==0] "
   ]
  },
  {
   "cell_type": "code",
   "execution_count": 185,
   "id": "0827cfa0",
   "metadata": {},
   "outputs": [],
   "source": [
    "def test(a):\n",
    "    l=[]\n",
    "    if type(a)==list:\n",
    "        for i in a:\n",
    "            if i%2==0:\n",
    "                l.append(i)\n",
    "        return l"
   ]
  },
  {
   "cell_type": "code",
   "execution_count": 186,
   "id": "da272091",
   "metadata": {},
   "outputs": [
    {
     "data": {
      "text/plain": [
       "[2, 4, 6, 8]"
      ]
     },
     "execution_count": 186,
     "metadata": {},
     "output_type": "execute_result"
    }
   ],
   "source": [
    "test(l)"
   ]
  },
  {
   "cell_type": "code",
   "execution_count": 187,
   "id": "cb5c86b7",
   "metadata": {},
   "outputs": [],
   "source": [
    "a=lambda a:a if a%2==0 else None"
   ]
  },
  {
   "cell_type": "code",
   "execution_count": 188,
   "id": "bb417fa6",
   "metadata": {},
   "outputs": [
    {
     "data": {
      "text/plain": [
       "[None, 2, None, 4, None, 6, None, 8]"
      ]
     },
     "execution_count": 188,
     "metadata": {},
     "output_type": "execute_result"
    }
   ],
   "source": [
    "list(map(a,l))"
   ]
  },
  {
   "cell_type": "code",
   "execution_count": 189,
   "id": "8f015e4a",
   "metadata": {},
   "outputs": [
    {
     "data": {
      "text/plain": [
       "[2, 4, 6, 8]"
      ]
     },
     "execution_count": 189,
     "metadata": {},
     "output_type": "execute_result"
    }
   ],
   "source": [
    "list(filter(a,l))"
   ]
  },
  {
   "cell_type": "code",
   "execution_count": 192,
   "id": "7cf9ab62",
   "metadata": {},
   "outputs": [],
   "source": [
    "def test24(a):\n",
    "    if a%2==0:\n",
    "        return True\n",
    "    else:\n",
    "        return False"
   ]
  },
  {
   "cell_type": "code",
   "execution_count": 193,
   "id": "b510adad",
   "metadata": {},
   "outputs": [
    {
     "data": {
      "text/plain": [
       "True"
      ]
     },
     "execution_count": 193,
     "metadata": {},
     "output_type": "execute_result"
    }
   ],
   "source": [
    "test24(32)"
   ]
  },
  {
   "cell_type": "code",
   "execution_count": 194,
   "id": "2b102b38",
   "metadata": {},
   "outputs": [
    {
     "data": {
      "text/plain": [
       "False"
      ]
     },
     "execution_count": 194,
     "metadata": {},
     "output_type": "execute_result"
    }
   ],
   "source": [
    "test24(43)"
   ]
  },
  {
   "cell_type": "code",
   "execution_count": 195,
   "id": "682238ce",
   "metadata": {},
   "outputs": [
    {
     "data": {
      "text/plain": [
       "[1, 2, 3, 4, 5, 6, 7, 8]"
      ]
     },
     "execution_count": 195,
     "metadata": {},
     "output_type": "execute_result"
    }
   ],
   "source": [
    "l"
   ]
  },
  {
   "cell_type": "code",
   "execution_count": 196,
   "id": "7d14696e",
   "metadata": {},
   "outputs": [
    {
     "data": {
      "text/plain": [
       "36"
      ]
     },
     "execution_count": 196,
     "metadata": {},
     "output_type": "execute_result"
    }
   ],
   "source": [
    "sum(l)"
   ]
  },
  {
   "cell_type": "markdown",
   "id": "8756f4d7",
   "metadata": {},
   "source": [
    "## reduce function"
   ]
  },
  {
   "cell_type": "code",
   "execution_count": 197,
   "id": "6f5ec48d",
   "metadata": {},
   "outputs": [],
   "source": [
    "l = [1,2,3,4,5]"
   ]
  },
  {
   "cell_type": "code",
   "execution_count": 198,
   "id": "1c371ea8",
   "metadata": {},
   "outputs": [],
   "source": [
    "from functools import reduce"
   ]
  },
  {
   "cell_type": "code",
   "execution_count": 199,
   "id": "3b57c1d2",
   "metadata": {},
   "outputs": [
    {
     "data": {
      "text/plain": [
       "120"
      ]
     },
     "execution_count": 199,
     "metadata": {},
     "output_type": "execute_result"
    }
   ],
   "source": [
    "reduce(lambda a, b : a * b, l) "
   ]
  },
  {
   "cell_type": "code",
   "execution_count": 200,
   "id": "e44b1336",
   "metadata": {},
   "outputs": [
    {
     "ename": "TypeError",
     "evalue": "<lambda>() missing 1 required positional argument: 'c'",
     "output_type": "error",
     "traceback": [
      "\u001b[1;31m---------------------------------------------------------------------------\u001b[0m",
      "\u001b[1;31mTypeError\u001b[0m                                 Traceback (most recent call last)",
      "Input \u001b[1;32mIn [200]\u001b[0m, in \u001b[0;36m<cell line: 1>\u001b[1;34m()\u001b[0m\n\u001b[1;32m----> 1\u001b[0m \u001b[43mreduce\u001b[49m\u001b[43m(\u001b[49m\u001b[38;5;28;43;01mlambda\u001b[39;49;00m\u001b[43m \u001b[49m\u001b[43ma\u001b[49m\u001b[43m,\u001b[49m\u001b[43m \u001b[49m\u001b[43mb\u001b[49m\u001b[43m,\u001b[49m\u001b[43m \u001b[49m\u001b[43mc\u001b[49m\u001b[43m \u001b[49m\u001b[43m:\u001b[49m\u001b[43m \u001b[49m\u001b[43ma\u001b[49m\u001b[38;5;241;43m*\u001b[39;49m\u001b[43mb\u001b[49m\u001b[38;5;241;43m*\u001b[39;49m\u001b[43mc\u001b[49m\u001b[43m,\u001b[49m\u001b[43m \u001b[49m\u001b[43ml\u001b[49m\u001b[43m)\u001b[49m\n",
      "\u001b[1;31mTypeError\u001b[0m: <lambda>() missing 1 required positional argument: 'c'"
     ]
    }
   ],
   "source": [
    "reduce(lambda a, b, c : a*b*c, l)"
   ]
  },
  {
   "cell_type": "code",
   "execution_count": 201,
   "id": "b998d1b8",
   "metadata": {},
   "outputs": [
    {
     "data": {
      "text/plain": [
       "3"
      ]
     },
     "execution_count": 201,
     "metadata": {},
     "output_type": "execute_result"
    }
   ],
   "source": [
    "l1=[3]\n",
    "reduce(lambda a,b:a*b,l1)"
   ]
  },
  {
   "cell_type": "code",
   "execution_count": 203,
   "id": "c20441f4",
   "metadata": {},
   "outputs": [],
   "source": [
    "def test1(a:int,b) ->int:\n",
    "    \"\"\"This is my doc string to give a hint to next programmer\"\"\"  # Dockstring\n",
    "    return a+b"
   ]
  },
  {
   "cell_type": "code",
   "execution_count": 204,
   "id": "522ec28c",
   "metadata": {},
   "outputs": [
    {
     "data": {
      "text/plain": [
       "30"
      ]
     },
     "execution_count": 204,
     "metadata": {},
     "output_type": "execute_result"
    }
   ],
   "source": [
    "test1(10,20)"
   ]
  },
  {
   "cell_type": "markdown",
   "id": "0002b5a3",
   "metadata": {},
   "source": [
    "## Default arguments"
   ]
  },
  {
   "cell_type": "code",
   "execution_count": 205,
   "id": "b5440264",
   "metadata": {},
   "outputs": [],
   "source": [
    "def test1(a:int,b:float,c:int=220) ->int:\n",
    "    \"\"\"This is my doc string to give a hint to next programmer\"\"\"\n",
    "    return a+b+c"
   ]
  },
  {
   "cell_type": "code",
   "execution_count": 206,
   "id": "e3c6217d",
   "metadata": {},
   "outputs": [
    {
     "data": {
      "text/plain": [
       "249"
      ]
     },
     "execution_count": 206,
     "metadata": {},
     "output_type": "execute_result"
    }
   ],
   "source": [
    "test1(12,17)"
   ]
  },
  {
   "cell_type": "code",
   "execution_count": 207,
   "id": "a86395c2",
   "metadata": {},
   "outputs": [
    {
     "data": {
      "text/plain": [
       "329"
      ]
     },
     "execution_count": 207,
     "metadata": {},
     "output_type": "execute_result"
    }
   ],
   "source": [
    "test1(12,17,300)"
   ]
  },
  {
   "cell_type": "markdown",
   "id": "23e33519",
   "metadata": {},
   "source": [
    "## Arguments passing in python"
   ]
  },
  {
   "cell_type": "markdown",
   "id": "1a531a9e",
   "metadata": {},
   "source": [
    "- In programming there are two ways in which arguments can be passed to functions:\n",
    "\n",
    "1. Pass by value\n",
    "2. Pass by reference\n",
    "- some languages use pass by reference and some pass by value.But some languages support both pass by value and pass by     reference.\n",
    "\n",
    "- In python we don't have to think about pass by value and pass by reference as it does that automatically for you .To emulate this using python we use the concept of mutability.If the argument passed is immutable then it follows pass by value, else if the argument passed is mutable then it follows pass by reference."
   ]
  },
  {
   "cell_type": "markdown",
   "id": "ce69d52b",
   "metadata": {},
   "source": [
    "## Pass by value"
   ]
  },
  {
   "cell_type": "code",
   "execution_count": 209,
   "id": "4d99ad15",
   "metadata": {},
   "outputs": [
    {
     "name": "stdout",
     "output_type": "stream",
     "text": [
      "Before function call = 10\n",
      "In function = 30\n",
      "After function call= 10\n"
     ]
    }
   ],
   "source": [
    "def f1(a):\n",
    "    a+=20\n",
    "    print(f'In function = {a}')\n",
    "\n",
    "num=10\n",
    "print(f\"Before function call = {num}\")     #both formal(a) and actual arguments(n) point to different variables\n",
    "                                      #Variables are immutables\n",
    "f1(num)\n",
    "print(f\"After function call= {num}\")"
   ]
  },
  {
   "cell_type": "markdown",
   "id": "6108b5a9",
   "metadata": {},
   "source": [
    "## Pass by reference"
   ]
  },
  {
   "cell_type": "code",
   "execution_count": 211,
   "id": "e32746ee",
   "metadata": {},
   "outputs": [
    {
     "name": "stdout",
     "output_type": "stream",
     "text": [
      "Before function call num = [10]\n",
      "In function num = [10, 20]\n",
      "After function call num = [10, 20]\n"
     ]
    }
   ],
   "source": [
    "def f2(arg):\n",
    "    arg += [20]\n",
    "    print(f\"In function num = {arg}\")\n",
    "n = [10]\n",
    "print(f\"Before function call num = {n}\")\n",
    "f2(n)\n",
    "print(f\"After function call num = {n}\")"
   ]
  }
 ],
 "metadata": {
  "kernelspec": {
   "display_name": "Python 3 (ipykernel)",
   "language": "python",
   "name": "python3"
  },
  "language_info": {
   "codemirror_mode": {
    "name": "ipython",
    "version": 3
   },
   "file_extension": ".py",
   "mimetype": "text/x-python",
   "name": "python",
   "nbconvert_exporter": "python",
   "pygments_lexer": "ipython3",
   "version": "3.9.12"
  }
 },
 "nbformat": 4,
 "nbformat_minor": 5
}
