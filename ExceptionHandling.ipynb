{
 "cells": [
  {
   "cell_type": "code",
   "execution_count": 1,
   "id": "3cbc72f8",
   "metadata": {},
   "outputs": [
    {
     "name": "stdout",
     "output_type": "stream",
     "text": [
      "Enter num1 12\n",
      "Enter num2 3\n",
      "4.0\n"
     ]
    }
   ],
   "source": [
    "num1 = int(input('Enter num1 '))\n",
    "num2 = int(input('Enter num2 '))\n",
    "try:\n",
    "    div = num1/num2\n",
    "    print(div)\n",
    "except Exception as e:\n",
    "    print('error :', e)"
   ]
  },
  {
   "cell_type": "code",
   "execution_count": 2,
   "id": "92efcb4f",
   "metadata": {},
   "outputs": [
    {
     "name": "stdout",
     "output_type": "stream",
     "text": [
      "Enter num1 1\n",
      "Enter num2 2\n",
      "0.5\n"
     ]
    }
   ],
   "source": [
    "# I can write like this also whenever ZeroDivisionError will come I 'except ZeroDivisionError:' this will run\n",
    "num1 = int(input('Enter num1 '))\n",
    "num2 = int(input('Enter num2 '))\n",
    "\n",
    "try:\n",
    "    div = num1/num2\n",
    "    print(div)\n",
    "except ZeroDivisionError:\n",
    "    print('hello this is ZeroDivivsionError')"
   ]
  },
  {
   "cell_type": "code",
   "execution_count": 3,
   "id": "4845af56",
   "metadata": {},
   "outputs": [
    {
     "name": "stdout",
     "output_type": "stream",
     "text": [
      "Enter num1 3\n",
      "Enter num2 3\n",
      "vairable name is wrong\n"
     ]
    }
   ],
   "source": [
    "# name error\n",
    "\n",
    "num1 = int(input('Enter num1 '))\n",
    "num2 = int(input('Enter num2 '))\n",
    "\n",
    "try:\n",
    "    div = num1/num2\n",
    "    print(di)\n",
    "except ZeroDivisionError:\n",
    "    print('hello this is ZeroDivivsionError')\n",
    "except NameError:\n",
    "    # whenever name error would come this will be executed this \n",
    "    print('vairable name is wrong')"
   ]
  },
  {
   "cell_type": "code",
   "execution_count": 4,
   "id": "a116965e",
   "metadata": {},
   "outputs": [
    {
     "name": "stdout",
     "output_type": "stream",
     "text": [
      "Enter num1 5\n",
      "Enter num2 2\n",
      "name 'di' is not defined\n"
     ]
    }
   ],
   "source": [
    "# name error with inbuilt execption\n",
    "num1 = int(input('Enter num1 '))\n",
    "num2 = int(input('Enter num2 '))\n",
    "\n",
    "try:\n",
    "    div = num1/num2\n",
    "    print(di)\n",
    "except ZeroDivisionError as ZeroDivError:\n",
    "    print(ZeroDivError)\n",
    "except NameError as Namror:\n",
    "    # whenever name error would come this will be executed this \n",
    "    print(Namror)"
   ]
  },
  {
   "cell_type": "code",
   "execution_count": 5,
   "id": "f5712858",
   "metadata": {},
   "outputs": [
    {
     "name": "stdout",
     "output_type": "stream",
     "text": [
      "Enter num1 1\n",
      "Enter num2 2\n",
      "0.5\n",
      "Error not occured\n"
     ]
    }
   ],
   "source": [
    "# Else \n",
    "\"\"\" Else is executed when no error occur\"\"\"\n",
    "\n",
    "num1 = int(input('Enter num1 '))\n",
    "num2 = int(input('Enter num2 '))\n",
    "\n",
    "try:\n",
    "    div = num1/num2\n",
    "    print(div)\n",
    "except ZeroDivisionError as ZeroDivError:\n",
    "    print(ZeroDivError)\n",
    "except NameError as Namror:\n",
    "    # whenever name error would come this will be executed this \n",
    "    print(Namror)\n",
    "else:\n",
    "    print('Error not occured') "
   ]
  },
  {
   "cell_type": "code",
   "execution_count": 6,
   "id": "2a7f320a",
   "metadata": {},
   "outputs": [
    {
     "name": "stdout",
     "output_type": "stream",
     "text": [
      "Enter num1 4\n",
      "Enter num2 4\n",
      "1.0\n",
      "Error not occured\n",
      "Code executed sucessfully...\n"
     ]
    }
   ],
   "source": [
    "# finally\n",
    "num1 = int(input('Enter num1 '))\n",
    "num2 = int(input('Enter num2 '))\n",
    "\n",
    "try:\n",
    "    div = num1/num2\n",
    "    print(div)\n",
    "except ZeroDivisionError as ZeroDivError:\n",
    "    print(ZeroDivError)\n",
    "except NameError as Namror:\n",
    "    # whenever name error would come this will be executed this \n",
    "    print(Namror)\n",
    "else:\n",
    "    print('Error not occured')\n",
    "finally:\n",
    "    print('Code executed sucessfully...')"
   ]
  },
  {
   "cell_type": "markdown",
   "id": "4e4fcff0",
   "metadata": {},
   "source": [
    "## Exception Key word"
   ]
  },
  {
   "cell_type": "code",
   "execution_count": 7,
   "id": "d9791689",
   "metadata": {},
   "outputs": [
    {
     "name": "stdout",
     "output_type": "stream",
     "text": [
      "Enter num1 10\n",
      "Enter num2 4\n",
      "2.5\n",
      "Error not occured\n",
      "Code executed...\n"
     ]
    }
   ],
   "source": [
    "num1 = int(input('Enter num1 '))\n",
    "num2 = int(input('Enter num2 '))\n",
    "\n",
    "try:\n",
    "    div = num1/num2\n",
    "    print(div)\n",
    "except Exception as e:\n",
    "    print('Error :' , e)\n",
    "else:\n",
    "    print('Error not occured')\n",
    "finally:\n",
    "    print('Code executed...')"
   ]
  },
  {
   "cell_type": "code",
   "execution_count": 8,
   "id": "4e2cff75",
   "metadata": {},
   "outputs": [
    {
     "name": "stdout",
     "output_type": "stream",
     "text": [
      "Enter num1 35\n",
      "Enter num2 7\n",
      "Error : name 'num' is not defined\n",
      "Code executed...\n"
     ]
    }
   ],
   "source": [
    "num1 = int(input('Enter num1 '))\n",
    "num2 = int(input('Enter num2 '))\n",
    "\n",
    "try:\n",
    "    div = num/num2\n",
    "    print(div)\n",
    "except Exception as e:\n",
    "    print('Error :' , e)\n",
    "else:\n",
    "    print('Error not occured')\n",
    "finally:\n",
    "    print('Code executed...')"
   ]
  },
  {
   "cell_type": "markdown",
   "id": "f4331cf7",
   "metadata": {},
   "source": [
    "## Sys module\n",
    "This module is for Execption and this is built for exception details"
   ]
  },
  {
   "cell_type": "code",
   "execution_count": 9,
   "id": "5a178a38",
   "metadata": {},
   "outputs": [
    {
     "name": "stdout",
     "output_type": "stream",
     "text": [
      "Enter num1 20\n",
      "Enter num2 30\n",
      "Error : name 'num' is not defined \n",
      " Sys Error : 1013\n",
      "Code executed.....\n"
     ]
    }
   ],
   "source": [
    "import sys\n",
    "\n",
    "num1 = int(input('Enter num1 '))\n",
    "num2 = int(input('Enter num2 '))\n",
    "\n",
    "try:\n",
    "    div = num/num2\n",
    "    print(div)\n",
    "except Exception as e:\n",
    "    print('Error :' , e, '\\n','Sys Error :',sys.api_version)\n",
    "else:\n",
    "    print('Error not occured')\n",
    "finally:\n",
    "    print('Code executed.....')"
   ]
  },
  {
   "cell_type": "code",
   "execution_count": 10,
   "id": "9b1b5ace",
   "metadata": {},
   "outputs": [
    {
     "name": "stdout",
     "output_type": "stream",
     "text": [
      "Enter num1 2\n",
      "Enter num2 4\n",
      "Sys Error : <class 'NameError'>\n",
      "Sys Error : name 'num' is not defined\n",
      "Sys Error : <traceback object at 0x00000194AD01BF80>\n",
      "Code executed.....\n"
     ]
    }
   ],
   "source": [
    "import sys\n",
    "\n",
    "num1 = int(input('Enter num1 '))\n",
    "num2 = int(input('Enter num2 '))\n",
    "\n",
    "try:\n",
    "    div = num/num2\n",
    "    print(div)\n",
    "except:\n",
    "    print('Sys Error :',sys.exc_info()[0])\n",
    "    print('Sys Error :',sys.exc_info()[1])\n",
    "    print('Sys Error :',sys.exc_info()[2])\n",
    "else:\n",
    "    print('Error not occured')\n",
    "finally:\n",
    "    print('Code executed.....')"
   ]
  },
  {
   "cell_type": "markdown",
   "id": "81c8162b",
   "metadata": {},
   "source": [
    "## Raise keyword\n",
    "this is used to forcefully raise user defined exception"
   ]
  },
  {
   "cell_type": "code",
   "execution_count": 11,
   "id": "c431e9f1",
   "metadata": {},
   "outputs": [
    {
     "name": "stdout",
     "output_type": "stream",
     "text": [
      "Enter your age:39\n",
      "your age is 39\n"
     ]
    }
   ],
   "source": [
    "age = int(input('Enter your age:'))\n",
    "\n",
    "try:\n",
    "    if age< 0 :\n",
    "        raise ValueError\n",
    "    print('your age is {}'.format(age))\n",
    "except ValueError:\n",
    "    print('invalid age')"
   ]
  },
  {
   "cell_type": "markdown",
   "id": "429e79d4",
   "metadata": {},
   "source": [
    "### User Defined Exception / Custom Exception\n",
    "making FiveDivisionError Exception"
   ]
  },
  {
   "cell_type": "code",
   "execution_count": 13,
   "id": "e859b910",
   "metadata": {},
   "outputs": [
    {
     "name": "stdout",
     "output_type": "stream",
     "text": [
      "Enter num1 1\n",
      "Enter num2 1\n",
      "1.0\n"
     ]
    }
   ],
   "source": [
    "# 1st Step\n",
    "class FiveDivisionError(Exception):\n",
    "    \"\"\"FiveDivisionError if anynumber is divided by five than this will come\"\"\"\n",
    "    pass\n",
    "\n",
    "num1 = int(input('Enter num1 '))\n",
    "num2 = int(input('Enter num2 '))\n",
    "\n",
    "#2nd step\n",
    "try:\n",
    "    if num2==5:\n",
    "        raise FiveDivisionError('connot divide by five')\n",
    "    else:\n",
    "        print(num1/num2)\n",
    "# 3rd step\n",
    "except (FiveDivisionError,Exception) as fdee:\n",
    "    print(fdee)"
   ]
  },
  {
   "cell_type": "code",
   "execution_count": 14,
   "id": "f248cc64",
   "metadata": {},
   "outputs": [
    {
     "name": "stdout",
     "output_type": "stream",
     "text": [
      "Enter num1 2\n",
      "Enter num2 3\n",
      "0.6666666666666666\n"
     ]
    }
   ],
   "source": [
    "# instead of giving message there I can give in my class\n",
    "# 1st Step\n",
    "class FiveDivisionError(Exception):\n",
    "    \"\"\"FiveDivisionError if anynumber is divided by five than this will come\"\"\"\n",
    "    def __init__(self) -> str:\n",
    "        print('connot divide by five')\n",
    "\n",
    "num1 = int(input('Enter num1 '))\n",
    "num2 = int(input('Enter num2 '))\n",
    "\n",
    "#2nd step\n",
    "try:\n",
    "    if num2==5:\n",
    "        raise FiveDivisionError\n",
    "    else:\n",
    "        print(num1/num2)\n",
    "# 3rd step\n",
    "except (FiveDivisionError,Exception) as fdee:\n",
    "    print(fdee)"
   ]
  },
  {
   "cell_type": "code",
   "execution_count": 17,
   "id": "0438c47b",
   "metadata": {},
   "outputs": [
    {
     "name": "stdout",
     "output_type": "stream",
     "text": [
      "Enter num1 2\n",
      "Enter num2 5\n",
      "connot divide by five\n",
      "\n"
     ]
    }
   ],
   "source": [
    "class FiveDivisionError(Exception):\n",
    "    \"\"\"FiveDivisionError if anynumber is divided by five than this will come\"\"\"\n",
    "    def __init__(self) -> str:\n",
    "        print('connot divide by five')\n",
    "\n",
    "num1 = int(input('Enter num1 '))\n",
    "num2 = int(input('Enter num2 '))\n",
    "\n",
    "#2nd step\n",
    "try:\n",
    "    if num2==5:\n",
    "        raise FiveDivisionError\n",
    "except Exception as e:\n",
    "    print(e)5\n",
    "    "
   ]
  },
  {
   "cell_type": "markdown",
   "id": "55b05e04",
   "metadata": {},
   "source": [
    "## sys.exc_info()"
   ]
  },
  {
   "cell_type": "code",
   "execution_count": 18,
   "id": "393b60b9",
   "metadata": {},
   "outputs": [
    {
     "data": {
      "text/plain": [
       "(None, None, None)"
      ]
     },
     "execution_count": 18,
     "metadata": {},
     "output_type": "execute_result"
    }
   ],
   "source": [
    "import sys\n",
    "sys.exc_info() "
   ]
  },
  {
   "cell_type": "code",
   "execution_count": 19,
   "id": "4f549686",
   "metadata": {},
   "outputs": [
    {
     "name": "stdout",
     "output_type": "stream",
     "text": [
      "exception 1 <class 'ZeroDivisionError'> , exception 2 division by zero,exception 3 <traceback object at 0x00000194AEB5E100>\n"
     ]
    }
   ],
   "source": [
    "try:\n",
    "    a = 1/0\n",
    "except Exception as e:\n",
    "    # exc_tuple = sys.exc_info()[0] ,  sys.exc_info()[1] ,  sys.exc_info()[2] , \n",
    "    print(f'exception 1 { sys.exc_info()[0]} , exception 2 { sys.exc_info()[1] },exception 3 { sys.exc_info()[2] }')"
   ]
  },
  {
   "cell_type": "code",
   "execution_count": 20,
   "id": "735c1942",
   "metadata": {},
   "outputs": [
    {
     "name": "stdout",
     "output_type": "stream",
     "text": [
      "2\n",
      "C:\\Users\\Admin\\AppData\\Local\\Temp\\ipykernel_8640\\1291832903.py\n"
     ]
    }
   ],
   "source": [
    "try:\n",
    "    a = 1/0\n",
    "except Exception as e:\n",
    "    _,_,exc_tb = sys.exc_info()\n",
    "    fileName = exc_tb.tb_frame.f_code.co_filename\n",
    "    print(exc_tb.tb_lineno)\n",
    "    print(fileName)"
   ]
  }
 ],
 "metadata": {
  "kernelspec": {
   "display_name": "Python 3 (ipykernel)",
   "language": "python",
   "name": "python3"
  },
  "language_info": {
   "codemirror_mode": {
    "name": "ipython",
    "version": 3
   },
   "file_extension": ".py",
   "mimetype": "text/x-python",
   "name": "python",
   "nbconvert_exporter": "python",
   "pygments_lexer": "ipython3",
   "version": "3.9.12"
  }
 },
 "nbformat": 4,
 "nbformat_minor": 5
}
