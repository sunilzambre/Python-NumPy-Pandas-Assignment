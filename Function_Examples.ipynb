{
 "cells": [
  {
   "cell_type": "markdown",
   "id": "8c2eb91b-a782-4871-9122-0b653889fbca",
   "metadata": {},
   "source": [
    "## 1]Check if a string is a plaindrome"
   ]
  },
  {
   "cell_type": "code",
   "execution_count": 5,
   "id": "21030465-b98a-4583-b755-7fce292323fb",
   "metadata": {},
   "outputs": [
    {
     "name": "stdout",
     "output_type": "stream",
     "text": [
      "False\n",
      "False\n",
      "True\n"
     ]
    }
   ],
   "source": [
    "def is_palindrome(s):\n",
    "    s=s.lower().replace(\"\",\"\")\n",
    "    return s==s[::-1]\n",
    "print(is_palindrome(\"a man a plan a canal panama\"))\n",
    "print(is_palindrome(\"Hello\"))\n",
    "print(is_palindrome(\"aba\"))\n"
   ]
  },
  {
   "cell_type": "markdown",
   "id": "cad35baa-c958-4cfe-9684-1a8c623d5169",
   "metadata": {},
   "source": [
    "## 2] Calculate the factorials of a number using recursion"
   ]
  },
  {
   "cell_type": "code",
   "execution_count": 2,
   "id": "b6ec531f-8f6f-415d-abcf-cc63aec6ebfe",
   "metadata": {},
   "outputs": [
    {
     "name": "stdout",
     "output_type": "stream",
     "text": [
      "720\n"
     ]
    }
   ],
   "source": [
    "def factorial(n):\n",
    "    if n==0:\n",
    "        return 1\n",
    "    else:\n",
    "        return n * factorial(n-1)\n",
    "print(factorial(6))"
   ]
  },
  {
   "cell_type": "markdown",
   "id": "24895723-19f2-4a65-a976-5166cf4d6531",
   "metadata": {},
   "source": [
    "## 3]A function to read a file and count the frequency of each word"
   ]
  },
  {
   "cell_type": "code",
   "execution_count": 4,
   "id": "edc530ca-4ad1-4d62-b8f8-8ce5ca643a9f",
   "metadata": {},
   "outputs": [
    {
     "name": "stdout",
     "output_type": "stream",
     "text": [
      "{'hello': 1, 'sunil': 2, 'how': 1, 'are': 3, 'you': 3, 'where': 1, 'what': 1, 'doing': 1, 'in': 1, 'pune': 1}\n"
     ]
    }
   ],
   "source": [
    "def count_word_frequency(file_path):\n",
    "    word_count={}\n",
    "    with open (file_path,'r') as file:\n",
    "        for line in file:\n",
    "            words=line.split()\n",
    "            for word in words:\n",
    "                word=word.lower().strip('.,!?;:\"\\'')\n",
    "                word_count[word]=word_count.get(word,0)+1\n",
    "    return word_count\n",
    "\n",
    "filepath='sample.txt'\n",
    "word_frquency=count_word_frequency(filepath)\n",
    "print(word_frquency)"
   ]
  }
 ],
 "metadata": {
  "kernelspec": {
   "display_name": "Python 3 (ipykernel)",
   "language": "python",
   "name": "python3"
  },
  "language_info": {
   "codemirror_mode": {
    "name": "ipython",
    "version": 3
   },
   "file_extension": ".py",
   "mimetype": "text/x-python",
   "name": "python",
   "nbconvert_exporter": "python",
   "pygments_lexer": "ipython3",
   "version": "3.12.7"
  }
 },
 "nbformat": 4,
 "nbformat_minor": 5
}
