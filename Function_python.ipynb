{
 "cells": [
  {
   "cell_type": "markdown",
   "id": "215f5924",
   "metadata": {},
   "source": [
    "# Functions\n",
    "- A function is a block of organized code written to carry out a specified task.\n",
    "- Functions help break our program into smaller and modular chunks for better readability.\n",
    "- Information can be passed into a function as arguments.\n",
    "- Parameters are specified after the function name inside the parentheses.\n",
    "**We can add as many parameters as we want. Parameters must be separated with a comma.**\n",
    "- A function may or may not return data.\n",
    "- In Python a function is defined using the def keyword\n",
    "### Parameter VS Argument\n",
    "- A parameter is the variable listed inside the parentheses in the function definition.\n",
    "- An argument is the value that is sent to the function when it is called."
   ]
  },
  {
   "cell_type": "markdown",
   "id": "5e3260bc",
   "metadata": {},
   "source": [
    "## Types of functions in python\n",
    "- **Built-in function :-** Python predefined functions that are readily available for use like min() ,\n",
    "  max() , sum() , print() etc.\n",
    "- **User-Defined Functions:-** Function that we define ourselves to perform a specific task.\n",
    "- **Anonymous functions :** Function that is defined without a name. Anonymous functions are\n",
    "  also called as lambda functions. They are not declared with the def keyword."
   ]
  },
  {
   "cell_type": "code",
   "execution_count": 1,
   "id": "03ab2048",
   "metadata": {},
   "outputs": [
    {
     "name": "stdout",
     "output_type": "stream",
     "text": [
      "Hello Everyone who want to learn Python \n"
     ]
    }
   ],
   "source": [
    "def myfunc():\n",
    "    print(\"Hello Everyone who want to learn Python \")\n",
    "myfunc()"
   ]
  },
  {
   "cell_type": "code",
   "execution_count": 2,
   "id": "2eeb3ff6",
   "metadata": {},
   "outputs": [
    {
     "name": "stdout",
     "output_type": "stream",
     "text": [
      "Name :-  Sunil\n",
      "User ID is :-  sunil1234\n",
      "Country :-  India\n"
     ]
    }
   ],
   "source": [
    "def details(name,userid,country):        # Function to print User details\n",
    "    print('Name :- ', name)\n",
    "    print('User ID is :- ', userid)\n",
    "    print('Country :- ',country)\n",
    "\n",
    "details('Sunil' , 'sunil1234' , 'India')"
   ]
  },
  {
   "cell_type": "code",
   "execution_count": 3,
   "id": "25fe3296",
   "metadata": {},
   "outputs": [
    {
     "data": {
      "text/plain": [
       "100"
      ]
     },
     "execution_count": 3,
     "metadata": {},
     "output_type": "execute_result"
    }
   ],
   "source": [
    "def square (n):       #function to find square of a number\n",
    "    n= n*n\n",
    "    return n\n",
    "square (10)"
   ]
  },
  {
   "cell_type": "code",
   "execution_count": 4,
   "id": "c21bea5b",
   "metadata": {},
   "outputs": [
    {
     "name": "stdout",
     "output_type": "stream",
     "text": [
      "3  is odd number\n",
      "4  is even number\n",
      " This function will check whether a number is even or odd\n"
     ]
    }
   ],
   "source": [
    "def even_odd (num): #Even odd test\n",
    "    \"\"\" This function will check whether a number is even or odd\"\"\"\n",
    "    if num % 2 ==0:\n",
    "        print (num, ' is even number')\n",
    "    else:\n",
    "        print (num, ' is odd number')\n",
    "even_odd(3)\n",
    "even_odd(4)\n",
    "print(even_odd.__doc__)         # Print function documentation string"
   ]
  },
  {
   "cell_type": "code",
   "execution_count": 5,
   "id": "b0b7d5b9",
   "metadata": {},
   "outputs": [
    {
     "name": "stdout",
     "output_type": "stream",
     "text": [
      "Sunil Shahaji Zambare\n"
     ]
    }
   ],
   "source": [
    "def fullname (firstname , middlename ,lastname):                     #Concatenate Strings\n",
    "    fullname = \"{} {} {}\".format(firstname,middlename,lastname)\n",
    "    print (fullname)\n",
    "\n",
    "fullname('Sunil' , 'Shahaji' , 'Zambare')"
   ]
  },
  {
   "cell_type": "code",
   "execution_count": 6,
   "id": "9800bb9b",
   "metadata": {},
   "outputs": [
    {
     "name": "stdout",
     "output_type": "stream",
     "text": [
      "Sunil Shahaji Zambare\n"
     ]
    }
   ],
   "source": [
    "def fullname (firstname , middlename ,lastname):   #Concatenate Strings\n",
    "    fullname = \"{} {} {}\".format(firstname,middlename,lastname)\n",
    "    print (fullname)\n",
    "fullname(lastname = 'Zambare' , middlename='Shahaji' , firstname='Sunil')  #keyword arguments"
   ]
  },
  {
   "cell_type": "code",
   "execution_count": 7,
   "id": "63ee5029",
   "metadata": {},
   "outputs": [
    {
     "ename": "TypeError",
     "evalue": "fullname() missing 2 required positional arguments: 'middlename' and 'lastname'",
     "output_type": "error",
     "traceback": [
      "\u001b[1;31m---------------------------------------------------------------------------\u001b[0m",
      "\u001b[1;31mTypeError\u001b[0m                                 Traceback (most recent call last)",
      "Cell \u001b[1;32mIn[7], line 1\u001b[0m\n\u001b[1;32m----> 1\u001b[0m \u001b[43mfullname\u001b[49m\u001b[43m \u001b[49m\u001b[43m(\u001b[49m\u001b[38;5;124;43m'\u001b[39;49m\u001b[38;5;124;43mSunil\u001b[39;49m\u001b[38;5;124;43m'\u001b[39;49m\u001b[43m)\u001b[49m\n",
      "\u001b[1;31mTypeError\u001b[0m: fullname() missing 2 required positional arguments: 'middlename' and 'lastname'"
     ]
    }
   ],
   "source": [
    "fullname ('Sunil') # This will throw error as function is expecting 3 arguments."
   ]
  },
  {
   "cell_type": "code",
   "execution_count": 8,
   "id": "13ab3e43",
   "metadata": {},
   "outputs": [
    {
     "name": "stdout",
     "output_type": "stream",
     "text": [
      "Coolest City :-  Pune\n"
     ]
    }
   ],
   "source": [
    "def myfunc(city = 'Pune'):\n",
    "    print('Coolest City :- ', city)\n",
    "\n",
    "myfunc() # When a function is called without an argument it will use default value"
   ]
  },
  {
   "cell_type": "code",
   "execution_count": 11,
   "id": "c7656784",
   "metadata": {},
   "outputs": [
    {
     "name": "stdout",
     "output_type": "stream",
     "text": [
      "100\n",
      "100\n"
     ]
    }
   ],
   "source": [
    "var1 = 100              # Variable with Global scope.\n",
    "def myfunc():\n",
    "    print(var1)          # Value 100 will be displayed due to global scope of var1\n",
    "myfunc()\n",
    "print(var1)"
   ]
  },
  {
   "cell_type": "code",
   "execution_count": 12,
   "id": "dcc72a44",
   "metadata": {},
   "outputs": [
    {
     "name": "stdout",
     "output_type": "stream",
     "text": [
      "10\n"
     ]
    },
    {
     "ename": "NameError",
     "evalue": "name 'var2' is not defined",
     "output_type": "error",
     "traceback": [
      "\u001b[1;31m---------------------------------------------------------------------------\u001b[0m",
      "\u001b[1;31mNameError\u001b[0m                                 Traceback (most recent call last)",
      "Cell \u001b[1;32mIn[12], line 7\u001b[0m\n\u001b[0;32m      5\u001b[0m     \u001b[38;5;28mprint\u001b[39m(var2) \u001b[38;5;66;03m# This will throw error because var2 has a local scope.\u001b[39;00m\n\u001b[0;32m      6\u001b[0m myfunc1()\n\u001b[1;32m----> 7\u001b[0m \u001b[43mmyfunc2\u001b[49m\u001b[43m(\u001b[49m\u001b[43m)\u001b[49m\n",
      "Cell \u001b[1;32mIn[12], line 5\u001b[0m, in \u001b[0;36mmyfunc2\u001b[1;34m()\u001b[0m\n\u001b[0;32m      4\u001b[0m \u001b[38;5;28;01mdef\u001b[39;00m \u001b[38;5;21mmyfunc2\u001b[39m():\n\u001b[1;32m----> 5\u001b[0m     \u001b[38;5;28mprint\u001b[39m(\u001b[43mvar2\u001b[49m)\n",
      "\u001b[1;31mNameError\u001b[0m: name 'var2' is not defined"
     ]
    }
   ],
   "source": [
    "def myfunc1():\n",
    "    var2 = 10 # Variable with Local scope\n",
    "    print(var2)\n",
    "def myfunc2():\n",
    "    print(var2) # This will throw error because var2 has a local scope.\n",
    "myfunc1()\n",
    "myfunc2()"
   ]
  },
  {
   "cell_type": "code",
   "execution_count": 13,
   "id": "a3f2e066",
   "metadata": {},
   "outputs": [
    {
     "name": "stdout",
     "output_type": "stream",
     "text": [
      "99\n",
      "100\n"
     ]
    }
   ],
   "source": [
    "var1 = 100 # Variable with Global scope.\n",
    "def myfunc():\n",
    "    var1 = 99 # Local scope\n",
    "    print(var1)\n",
    "\n",
    "myfunc() \n",
    "print(var1) # The original value of var1 (100) will be retained due to global scope"
   ]
  },
  {
   "cell_type": "code",
   "execution_count": 14,
   "id": "30517b05",
   "metadata": {},
   "outputs": [
    {
     "name": "stdout",
     "output_type": "stream",
     "text": [
      "\"List1\" before calling the function:-  [11, 22, 33, 44, 55]\n",
      "\"List1\" after calling the function:-  [22, 33, 44, 55]\n"
     ]
    }
   ],
   "source": [
    "list1 = [11,22,33,44,55]\n",
    "def myfunc(list1):\n",
    "    del list1[0]\n",
    "print('\"List1\" before calling the function:- ',list1)\n",
    "myfunc(list1) # Pass by reference (Any change in the parameter within the function)\n",
    "print('\"List1\" after calling the function:- ',list1)"
   ]
  },
  {
   "cell_type": "code",
   "execution_count": 15,
   "id": "8611f8eb",
   "metadata": {},
   "outputs": [
    {
     "name": "stdout",
     "output_type": "stream",
     "text": [
      "\"List1\" before calling the function:-  [11, 22, 33, 44, 55]\n",
      "\"List1\" after calling the function:-  [11, 22, 33, 44, 55, 100]\n"
     ]
    }
   ],
   "source": [
    "list1 = [11,22,33,44,55]\n",
    "def myfunc(list1):\n",
    "    list1.append(100)\n",
    "print('\"List1\" before calling the function:- ',list1)\n",
    "\n",
    "myfunc(list1) # Pass by reference (Any change in the parameter within the function)\n",
    "print('\"List1\" after calling the function:- ',list1)"
   ]
  },
  {
   "cell_type": "code",
   "execution_count": 16,
   "id": "44919655",
   "metadata": {},
   "outputs": [
    {
     "name": "stdout",
     "output_type": "stream",
     "text": [
      "\"List1\" before calling the function:-  [11, 22, 33, 44, 55]\n",
      "\"List1\" after calling the function:-  [11, 22, 33, 44, 55]\n"
     ]
    }
   ],
   "source": [
    "list1 = [11,22,33,44,55]\n",
    "def myfunc(list1):\n",
    "    list1 = [10,100,1000,10000] # link of 'list1' with previous object is broken \n",
    "print('\"List1\" before calling the function:- ',list1)\n",
    "\n",
    "myfunc(list1) # Pass by reference (Any change in the parameter within the function)\n",
    "print('\"List1\" after calling the function:- ',list1)"
   ]
  },
  {
   "cell_type": "code",
   "execution_count": 17,
   "id": "3e76ebaf",
   "metadata": {},
   "outputs": [
    {
     "data": {
      "text/plain": [
       "(10, 20)"
      ]
     },
     "execution_count": 17,
     "metadata": {},
     "output_type": "execute_result"
    }
   ],
   "source": [
    "def swap(a,b):\n",
    "    temp = a\n",
    "    a = b # link of 'a' with previous object is broken now as new object\n",
    "    b = temp # link of 'b' with previous object is broken now as new object\n",
    "a = 10\n",
    "b = 20\n",
    "swap(a,b)\n",
    "a,b"
   ]
  },
  {
   "cell_type": "code",
   "execution_count": 18,
   "id": "9ffe95bc",
   "metadata": {},
   "outputs": [
    {
     "data": {
      "text/plain": [
       "120"
      ]
     },
     "execution_count": 18,
     "metadata": {},
     "output_type": "execute_result"
    }
   ],
   "source": [
    "def factorial(num): # Calculate factorial of a number using recursive function\n",
    "    if num <=1 :\n",
    "        return 1\n",
    "    else:\n",
    "        return num * factorial(num-1)\n",
    "\n",
    "factorial(5)"
   ]
  },
  {
   "cell_type": "code",
   "execution_count": 19,
   "id": "fdf80f2d",
   "metadata": {},
   "outputs": [
    {
     "data": {
      "text/plain": [
       "15"
      ]
     },
     "execution_count": 19,
     "metadata": {},
     "output_type": "execute_result"
    }
   ],
   "source": [
    "def add(num):                        # Sum of first n natural numbers\n",
    "    if num == 0:\n",
    "        return 0\n",
    "    else:\n",
    "        return num + add(num-1)\n",
    "add(5)                               # Sum of first five natural numbers (1,2,3,4,5)"
   ]
  },
  {
   "cell_type": "code",
   "execution_count": 29,
   "id": "6cf2cb77",
   "metadata": {},
   "outputs": [
    {
     "name": "stdout",
     "output_type": "stream",
     "text": [
      "How many fibonacci numbers you want to generate:10\n",
      "0 1 1 2 3 5 8 13 21 34 "
     ]
    }
   ],
   "source": [
    "def fiboacci(num):\n",
    "    if num <= 1:\n",
    "        return num\n",
    "    if num == 2:\n",
    "        return 1\n",
    "    else: \n",
    "        return(fiboacci(num-1) + fiboacci(num-2)) \n",
    "\n",
    "num = int(input(\"How many fibonacci numbers you want to generate:\"))\n",
    "\n",
    "for i in range(num):\n",
    "          print(fiboacci(i),end=\" \") # Generate Fibonacci series"
   ]
  }
 ],
 "metadata": {
  "kernelspec": {
   "display_name": "Python 3 (ipykernel)",
   "language": "python",
   "name": "python3"
  },
  "language_info": {
   "codemirror_mode": {
    "name": "ipython",
    "version": 3
   },
   "file_extension": ".py",
   "mimetype": "text/x-python",
   "name": "python",
   "nbconvert_exporter": "python",
   "pygments_lexer": "ipython3",
   "version": "3.9.12"
  }
 },
 "nbformat": 4,
 "nbformat_minor": 5
}
