{
 "cells": [
  {
   "cell_type": "code",
   "execution_count": 1,
   "id": "213b4abc",
   "metadata": {},
   "outputs": [
    {
     "name": "stdout",
     "output_type": "stream",
     "text": [
      "Enter an integer: 5\n",
      "Weird\n"
     ]
    }
   ],
   "source": [
    "n = int(input(\"Enter an integer: \"))\n",
    "\n",
    "if n % 2 != 0:\n",
    "    print(\"Weird\")\n",
    "elif n >= 2 and n <= 5:\n",
    "    print(\"Not Weird\")\n",
    "elif n >= 6 and n <= 20:\n",
    "    print(\"Weird\")\n",
    "else:\n",
    "    print(\"Not Weird\")"
   ]
  },
  {
   "cell_type": "code",
   "execution_count": 2,
   "id": "a0cb794b",
   "metadata": {},
   "outputs": [
    {
     "name": "stdout",
     "output_type": "stream",
     "text": [
      "4\n",
      "Not Weird\n"
     ]
    }
   ],
   "source": [
    "import math\n",
    "import os\n",
    "import random\n",
    "import re\n",
    "import sys\n",
    "\n",
    "if __name__ == '__main__':\n",
    "    n = int(input().strip())\n",
    "\n",
    "    if n % 2 != 0:\n",
    "        print(\"Weird\")\n",
    "    elif n >= 2 and n <= 5:\n",
    "        print(\"Not Weird\")\n",
    "    elif n >= 6 and n <= 20:\n",
    "        print(\"Weird\")\n",
    "    else:\n",
    "        print(\"Not Weird\")"
   ]
  },
  {
   "cell_type": "code",
   "execution_count": 3,
   "id": "3b2d697a",
   "metadata": {},
   "outputs": [
    {
     "name": "stdout",
     "output_type": "stream",
     "text": [
      "3\n",
      "5\n",
      "8\n",
      "-2\n",
      "15\n"
     ]
    }
   ],
   "source": [
    "import math\n",
    "import os\n",
    "import random\n",
    "import re\n",
    "import sys\n",
    "\n",
    "if __name__ == '__main__':\n",
    "    a = int(input().strip())\n",
    "    b = int(input().strip())\n",
    "\n",
    "    # Calculate sum, difference, and product\n",
    "    sum = a + b\n",
    "    difference = a - b\n",
    "    product = a * b\n",
    "\n",
    "    # Print the results\n",
    "    print(sum)\n",
    "    print(difference)\n",
    "    print(product)"
   ]
  },
  {
   "cell_type": "code",
   "execution_count": 4,
   "id": "405b0432",
   "metadata": {},
   "outputs": [
    {
     "name": "stdout",
     "output_type": "stream",
     "text": [
      "5\n",
      "3\n",
      "1\n",
      "1.6666666666666667\n"
     ]
    }
   ],
   "source": [
    "import math\n",
    "import os\n",
    "import random\n",
    "import re\n",
    "import sys\n",
    "\n",
    "if __name__ == '__main__':\n",
    "    a = int(input())\n",
    "    b = int(input())\n",
    "\n",
    "    # Perform integer division and float division\n",
    "    integer_division = a // b\n",
    "    float_division = a / b\n",
    "\n",
    "    # Print the results\n",
    "    print(integer_division)\n",
    "    print(float_division)"
   ]
  },
  {
   "cell_type": "code",
   "execution_count": 5,
   "id": "dfffec26",
   "metadata": {},
   "outputs": [
    {
     "name": "stdout",
     "output_type": "stream",
     "text": [
      "5\n",
      "0\n",
      "1\n",
      "4\n",
      "9\n",
      "16\n"
     ]
    }
   ],
   "source": [
    "import math\n",
    "import os\n",
    "import random\n",
    "import re\n",
    "import sys\n",
    "\n",
    "if __name__ == '__main__':\n",
    "    n = int(input().strip())\n",
    "\n",
    "    # Print squares of non-negative integers less than n\n",
    "    for i in range(n):\n",
    "        print(i*i)"
   ]
  },
  {
   "cell_type": "code",
   "execution_count": 6,
   "id": "a8b2405a",
   "metadata": {},
   "outputs": [
    {
     "name": "stdout",
     "output_type": "stream",
     "text": [
      "2000\n",
      "True\n"
     ]
    }
   ],
   "source": [
    "def is_leap(year):\n",
    "    leap = False\n",
    "    \n",
    "    # Logic to check if it's a leap year\n",
    "    if year % 4 == 0:\n",
    "        if year % 100 != 0 or year % 400 == 0:\n",
    "            leap = True\n",
    "    \n",
    "    return leap\n",
    "\n",
    "year = int(input())\n",
    "\n",
    "# Call the is_leap function and print the result\n",
    "print(is_leap(year))"
   ]
  },
  {
   "cell_type": "code",
   "execution_count": 7,
   "id": "f1fcb211",
   "metadata": {},
   "outputs": [
    {
     "name": "stdout",
     "output_type": "stream",
     "text": [
      "5\n",
      "12345"
     ]
    }
   ],
   "source": [
    "if __name__ == '__main__':\n",
    "    n = int(input())\n",
    "\n",
    "    # Print consecutive numbers without using string methods\n",
    "    for i in range(1, n+1):\n",
    "        print(i, end=\"\")"
   ]
  },
  {
   "cell_type": "code",
   "execution_count": 9,
   "id": "bdf0d80a",
   "metadata": {},
   "outputs": [
    {
     "name": "stdout",
     "output_type": "stream",
     "text": [
      "5\n",
      "    S    \n",
      "   SSS   \n",
      "  SSSSS  \n",
      " SSSSSSS \n",
      "SSSSSSSSS\n",
      "  SSSSS               SSSSS             \n",
      "  SSSSS               SSSSS             \n",
      "  SSSSS               SSSSS             \n",
      "  SSSSS               SSSSS             \n",
      "  SSSSS               SSSSS             \n",
      "  SSSSS               SSSSS             \n",
      "  SSSSSSSSSSSSSSSSSSSSSSSSS   \n",
      "  SSSSSSSSSSSSSSSSSSSSSSSSS   \n",
      "  SSSSSSSSSSSSSSSSSSSSSSSSS   \n",
      "  SSSSS               SSSSS             \n",
      "  SSSSS               SSSSS             \n",
      "  SSSSS               SSSSS             \n",
      "  SSSSS               SSSSS             \n",
      "  SSSSS               SSSSS             \n",
      "  SSSSS               SSSSS             \n",
      "                    SSSSSSSSS \n",
      "                     SSSSSSS  \n",
      "                      SSSSS   \n",
      "                       SSS    \n",
      "                        S     \n"
     ]
    }
   ],
   "source": [
    "# Replace the blank (______) with rjust, ljust or center\n",
    "thickness = int(input().strip())\n",
    "c = 'S'\n",
    "\n",
    "# Top Cone\n",
    "for i in range(thickness):\n",
    "    print((c*i).rjust(thickness-1)+c+(c*i).ljust(thickness-1))\n",
    "\n",
    "# Top Pillars\n",
    "for i in range(thickness+1):\n",
    "    print((c*thickness).center(thickness*2)+(c*thickness).center(thickness*6))\n",
    "\n",
    "# Middle Belt\n",
    "for i in range((thickness+1)//2):\n",
    "    print((c*thickness*5).center(thickness*6))\n",
    "\n",
    "# Bottom Pillars\n",
    "for i in range(thickness+1):\n",
    "    print((c*thickness).center(thickness*2)+(c*thickness).center(thickness*6))\n",
    "\n",
    "# Bottom Cone\n",
    "for i in range(thickness):\n",
    "    print(((c*(thickness-i-1)).rjust(thickness)+c+(c*(thickness-i-1)).ljust(thickness)).rjust(thickness*6))"
   ]
  },
  {
   "cell_type": "code",
   "execution_count": 11,
   "id": "eb7769a3",
   "metadata": {},
   "outputs": [
    {
     "name": "stdout",
     "output_type": "stream",
     "text": [
      "sunil\n",
      "4\n",
      "suni\n",
      "l\n",
      "\n"
     ]
    }
   ],
   "source": [
    "def wrap(string, max_width):\n",
    "    wrapped_string = \"\"\n",
    "    for i in range(0, len(string), max_width):\n",
    "        wrapped_string += string[i:i+max_width] + '\\n'\n",
    "    return wrapped_string\n",
    "\n",
    "# Read input values\n",
    "string = input().strip()\n",
    "max_width = int(input().strip())\n",
    "\n",
    "# Call the wrap function and print the result\n",
    "result = wrap(string, max_width)\n",
    "print(result)"
   ]
  },
  {
   "cell_type": "code",
   "execution_count": 12,
   "id": "765daa4d",
   "metadata": {},
   "outputs": [
    {
     "name": "stdout",
     "output_type": "stream",
     "text": [
      "zambare\n",
      "4\n",
      "zamb\n",
      "are\n"
     ]
    }
   ],
   "source": [
    "import textwrap\n",
    "\n",
    "def wrap(string, max_width):\n",
    "    wrapped_string = textwrap.fill(string, max_width)\n",
    "    return wrapped_string\n",
    "\n",
    "if __name__ == '__main__':\n",
    "    string = input().strip()\n",
    "    max_width = int(input().strip())\n",
    "    result = wrap(string, max_width)\n",
    "    print(result)"
   ]
  },
  {
   "cell_type": "code",
   "execution_count": 16,
   "id": "a3f271eb",
   "metadata": {},
   "outputs": [
    {
     "name": "stdout",
     "output_type": "stream",
     "text": [
      "15 15\n",
      "------.|.------\n",
      "---.|..|..|.---\n",
      ".|..|..|..|..|.\n",
      ".|..|..|..|..|..|..|.\n",
      ".|..|..|..|..|..|..|..|..|.\n",
      ".|..|..|..|..|..|..|..|..|..|..|.\n",
      ".|..|..|..|..|..|..|..|..|..|..|..|..|.\n",
      "----WELCOME----\n",
      ".|..|..|..|..|..|..|..|..|..|..|..|..|.\n",
      ".|..|..|..|..|..|..|..|..|..|..|.\n",
      ".|..|..|..|..|..|..|..|..|.\n",
      ".|..|..|..|..|..|..|.\n",
      ".|..|..|..|..|.\n",
      "---.|..|..|.---\n",
      "------.|.------\n"
     ]
    }
   ],
   "source": [
    "def print_door_mat(n, m):\n",
    "    pattern = [('.|.'*(2*i + 1)).center(m, '-') for i in range(n//2)]\n",
    "    welcome = 'WELCOME'.center(m, '-')\n",
    "    door_mat = pattern + [welcome] + pattern[::-1]\n",
    "\n",
    "    for line in door_mat:\n",
    "        print(line)\n",
    "\n",
    "if __name__ == '__main__':\n",
    "    n, m = map(int, input().split())\n",
    "    print_door_mat(n, m)"
   ]
  },
  {
   "cell_type": "code",
   "execution_count": 18,
   "id": "549bc7f3",
   "metadata": {},
   "outputs": [
    {
     "name": "stdout",
     "output_type": "stream",
     "text": [
      "10\n",
      "   1    1    1    1\n",
      "   2    2    2   10\n",
      "   3    3    3   11\n",
      "   4    4    4  100\n",
      "   5    5    5  101\n",
      "   6    6    6  110\n",
      "   7    7    7  111\n",
      "   8   10    8 1000\n",
      "   9   11    9 1001\n",
      "  10   12    A 1010\n"
     ]
    }
   ],
   "source": [
    "def print_formatted(number):\n",
    "    width = len(bin(number)[2:])\n",
    "\n",
    "    for i in range(1, number+1):\n",
    "        decimal = str(i)\n",
    "        octal = oct(i)[2:]\n",
    "        hexadecimal = hex(i)[2:].upper()\n",
    "        binary = bin(i)[2:]\n",
    "\n",
    "        print(decimal.rjust(width), octal.rjust(width), hexadecimal.rjust(width), binary.rjust(width))\n",
    "\n",
    "if __name__ == '__main__':\n",
    "    number = int(input())\n",
    "    print_formatted(number)"
   ]
  },
  {
   "cell_type": "code",
   "execution_count": 19,
   "id": "47f4e91d",
   "metadata": {},
   "outputs": [
    {
     "name": "stdout",
     "output_type": "stream",
     "text": [
      "5\n",
      "--------ee-------\n",
      "-----e-ded-e-----\n",
      "--e-d-cd-ec-d-e--\n",
      "e-d-c-bc-d-eb-c-d-e\n",
      "e-d-c-b-ab-c-d-ea-b-c-d-e\n",
      "e-d-c-bc-d-eb-c-d-e\n",
      "--e-d-cd-ec-d-e--\n",
      "-----e-ded-e-----\n",
      "--------ee-------\n"
     ]
    }
   ],
   "source": [
    "def rangoli(size):\n",
    "    n = size\n",
    "    width = 4*n - 3\n",
    "    alphabet = 'abcdefghijklmnopqrstuvwxyz'\n",
    "\n",
    "    lines = []\n",
    "    for i in range(n):\n",
    "        left = '-'.join(alphabet[n-j-1] for j in range(i+1))\n",
    "        mid = '-'.join(alphabet[n-j-1] for j in range(i)[::-1])\n",
    "        line = left + mid + left[::-1]\n",
    "        lines.append(line.center(width, '-'))\n",
    "\n",
    "    result = '\\n'.join(lines + lines[::-1][1:])\n",
    "    return result\n",
    "\n",
    "if __name__ == '__main__':\n",
    "    size = int(input())\n",
    "    print(rangoli(size))"
   ]
  },
  {
   "cell_type": "code",
   "execution_count": 20,
   "id": "51d78688",
   "metadata": {},
   "outputs": [
    {
     "name": "stdout",
     "output_type": "stream",
     "text": [
      "Enter the size: 5\n",
      "--------e--------\n",
      "-------edee------\n",
      "----e-dcdee-d----\n",
      "--e-d-cbcdee-d-c-\n",
      "e-d-c-babcdee-d-c-b\n",
      "--e-d-cbcdee-d-c-\n",
      "----e-dcdee-d----\n",
      "-------edee------\n",
      "--------e--------\n"
     ]
    }
   ],
   "source": [
    "def print_rangoli(size):\n",
    "    n = size\n",
    "    width = 4 * n - 3\n",
    "    alphabet = 'abcdefghijklmnopqrstuvwxyz'\n",
    "\n",
    "    lines = []\n",
    "    for i in range(n):\n",
    "        letters = alphabet[n - i - 1:n]\n",
    "        left = '-'.join(reversed(letters[1:])) + letters\n",
    "        line = left + '-'.join(reversed(letters[1:]))\n",
    "        lines.append(line.center(width, '-'))\n",
    "\n",
    "    result = '\\n'.join(lines + lines[::-1][1:])\n",
    "    print(result)\n",
    "\n",
    "if __name__ == '__main__':\n",
    "    n = int(input(\"Enter the size: \"))\n",
    "    print_rangoli(n)"
   ]
  },
  {
   "cell_type": "code",
   "execution_count": 21,
   "id": "c920639b",
   "metadata": {},
   "outputs": [
    {
     "name": "stdout",
     "output_type": "stream",
     "text": [
      "1\n",
      "1\n",
      "2\n",
      "3\n",
      "[[0, 0, 0], [0, 0, 1], [0, 0, 2], [0, 1, 0], [0, 1, 1], [1, 0, 0], [1, 0, 1], [1, 1, 0], [1, 1, 2]]\n"
     ]
    }
   ],
   "source": [
    "if __name__ == '__main__':\n",
    "    x = int(input())\n",
    "    y = int(input())\n",
    "    z = int(input())\n",
    "    n = int(input())\n",
    "    \n",
    "    coordinates = [[i, j, k] for i in range(x + 1) for j in range(y + 1) for k in range(z + 1) if i + j + k != n]\n",
    "\n",
    "print(coordinates)"
   ]
  },
  {
   "cell_type": "code",
   "execution_count": 24,
   "id": "1a44e048",
   "metadata": {},
   "outputs": [
    {
     "name": "stdout",
     "output_type": "stream",
     "text": [
      "5\n",
      "2 3 6 6 5\n",
      "5\n"
     ]
    }
   ],
   "source": [
    "if __name__ == '__main__':\n",
    "    n = int(input())\n",
    "    arr = map(int, input().split())\n",
    "\n",
    "    # Convert the map object to a list and remove duplicates\n",
    "    scores = list(set(arr))\n",
    "\n",
    "    # Sort the scores in descending order\n",
    "    sorted_scores = sorted(scores, reverse=True)\n",
    "\n",
    "    # The runner-up score is the second highest score\n",
    "    runner_up_score = sorted_scores[1]\n",
    "\n",
    "    print(runner_up_score)"
   ]
  },
  {
   "cell_type": "code",
   "execution_count": 25,
   "id": "565b6cce",
   "metadata": {},
   "outputs": [
    {
     "name": "stdout",
     "output_type": "stream",
     "text": [
      "5\n",
      "sunil\n",
      "47.21\n",
      "ravi\n",
      "37.21\n",
      "sachin\n",
      "37.23\n",
      "rachna\n",
      "41\n",
      "harsh \n",
      "39\n",
      "sachin\n"
     ]
    }
   ],
   "source": [
    "if __name__ == '__main__':\n",
    "    students = []\n",
    "    for _ in range(int(input())):\n",
    "        name = input()\n",
    "        score = float(input())\n",
    "        students.append([name, score])\n",
    "\n",
    "    # Sort the students list based on scores in ascending order\n",
    "    sorted_students = sorted(students, key=lambda x: x[1])\n",
    "\n",
    "    # Find the second lowest score\n",
    "    second_lowest_score = sorted(set(student[1] for student in sorted_students))[1]\n",
    "\n",
    "    # Find students with the second lowest score\n",
    "    second_lowest_students = [student[0] for student in sorted_students if student[1] == second_lowest_score]\n",
    "\n",
    "    # Sort the second lowest students' names alphabetically\n",
    "    second_lowest_students.sort()\n",
    "\n",
    "    # Print the names of the second lowest students\n",
    "    for student in second_lowest_students:\n",
    "        print(student)"
   ]
  },
  {
   "cell_type": "code",
   "execution_count": 29,
   "id": "178b7915",
   "metadata": {},
   "outputs": [
    {
     "name": "stdout",
     "output_type": "stream",
     "text": [
      "3\n",
      "krishna 67 68 69\n",
      "arjun 70 98 63\n",
      "manoj 52 56 60\n",
      "\n"
     ]
    },
    {
     "ename": "KeyError",
     "evalue": "''",
     "output_type": "error",
     "traceback": [
      "\u001b[1;31m---------------------------------------------------------------------------\u001b[0m",
      "\u001b[1;31mKeyError\u001b[0m                                  Traceback (most recent call last)",
      "Cell \u001b[1;32mIn[29], line 11\u001b[0m\n\u001b[0;32m      8\u001b[0m query_name \u001b[38;5;241m=\u001b[39m \u001b[38;5;28minput\u001b[39m()\n\u001b[0;32m     10\u001b[0m \u001b[38;5;66;03m# Get the marks array for the query_name\u001b[39;00m\n\u001b[1;32m---> 11\u001b[0m marks \u001b[38;5;241m=\u001b[39m \u001b[43mstudent_marks\u001b[49m\u001b[43m[\u001b[49m\u001b[43mquery_name\u001b[49m\u001b[43m]\u001b[49m\n\u001b[0;32m     13\u001b[0m \u001b[38;5;66;03m# Calculate the average marks\u001b[39;00m\n\u001b[0;32m     14\u001b[0m average_marks \u001b[38;5;241m=\u001b[39m \u001b[38;5;28msum\u001b[39m(marks) \u001b[38;5;241m/\u001b[39m \u001b[38;5;28mlen\u001b[39m(marks)\n",
      "\u001b[1;31mKeyError\u001b[0m: ''"
     ]
    }
   ],
   "source": [
    "if __name__ == '__main__':\n",
    "    n = int(input())\n",
    "    student_marks = {}\n",
    "    for _ in range(n):\n",
    "        name, *line = input().split()\n",
    "        scores = list(map(float, line))\n",
    "        student_marks[name] = scores\n",
    "    query_name = input()\n",
    "\n",
    "    # Get the marks array for the query_name\n",
    "    marks = student_marks[query_name]\n",
    "\n",
    "    # Calculate the average marks\n",
    "    average_marks = sum(marks) / len(marks)\n",
    "\n",
    "    # Print the average marks with 2 decimal places\n",
    "    print('{:.2f}'.format(average_marks))           #expected 56.00"
   ]
  },
  {
   "cell_type": "code",
   "execution_count": 30,
   "id": "cca041d8",
   "metadata": {},
   "outputs": [
    {
     "name": "stdout",
     "output_type": "stream",
     "text": [
      "6\n",
      "append 1\n",
      "append 2\n",
      "append 3\n",
      "appendleft 4\n",
      "pop\n",
      "popleft\n",
      "1 2\n"
     ]
    }
   ],
   "source": [
    "from collections import deque\n",
    "\n",
    "if __name__ == '__main__':\n",
    "    n = int(input())\n",
    "    d = deque()\n",
    "\n",
    "    for _ in range(n):\n",
    "        operation, *values = input().split()\n",
    "\n",
    "        if operation == 'append':\n",
    "            d.append(int(values[0]))\n",
    "        elif operation == 'appendleft':\n",
    "            d.appendleft(int(values[0]))\n",
    "        elif operation == 'pop':\n",
    "            d.pop()\n",
    "        elif operation == 'popleft':\n",
    "            d.popleft()\n",
    "\n",
    "    print(*d)"
   ]
  },
  {
   "cell_type": "code",
   "execution_count": 31,
   "id": "0c13c2da",
   "metadata": {},
   "outputs": [
    {
     "name": "stdout",
     "output_type": "stream",
     "text": [
      "2\n",
      "6\n",
      "4 3 2 1 3 4\n",
      "Yes\n",
      "3 \n",
      "1 3 2\n",
      "No\n"
     ]
    }
   ],
   "source": [
    "from collections import deque\n",
    "\n",
    "def check_cube_stack(n, cubes):\n",
    "    stack = deque(cubes)  # Create a deque from the cubes list\n",
    "    \n",
    "    prev_cube = float('inf')  # Initialize previous cube size as infinity\n",
    "    \n",
    "    while stack:\n",
    "        leftmost_cube = stack[0]\n",
    "        rightmost_cube = stack[-1]\n",
    "        \n",
    "        if leftmost_cube >= rightmost_cube and leftmost_cube <= prev_cube:\n",
    "            prev_cube = stack.popleft()\n",
    "        elif rightmost_cube >= leftmost_cube and rightmost_cube <= prev_cube:\n",
    "            prev_cube = stack.pop()\n",
    "        else:\n",
    "            return \"No\"\n",
    "    \n",
    "    return \"Yes\"\n",
    "\n",
    "if __name__ == \"__main__\":\n",
    "    T = int(input())  # Number of test cases\n",
    "    \n",
    "    for _ in range(T):\n",
    "        n = int(input())  # Number of cubes\n",
    "        cubes = list(map(int, input().split()))  # Side lengths of cubes\n",
    "        \n",
    "        result = check_cube_stack(n, cubes)\n",
    "        print(result)"
   ]
  },
  {
   "cell_type": "code",
   "execution_count": 32,
   "id": "f25e9a1c",
   "metadata": {},
   "outputs": [
    {
     "name": "stdout",
     "output_type": "stream",
     "text": [
      "aabbbccde\n",
      "b 3\n",
      "a 2\n",
      "c 2\n"
     ]
    }
   ],
   "source": [
    "import math\n",
    "import os\n",
    "import random\n",
    "import re\n",
    "import sys\n",
    "from collections import Counter\n",
    "\n",
    "if __name__ == '__main__':\n",
    "    s = input()  # Input the string\n",
    "\n",
    "    counter = Counter(s)  # Create a Counter object from the string\n",
    "\n",
    "    # Get the three most common characters along with their occurrence count\n",
    "    common_chars = counter.most_common(3)\n",
    "\n",
    "    # Sort the common characters in descending order of occurrence count\n",
    "    # If the occurrence count is the same, sort the characters in alphabetical order\n",
    "    sorted_chars = sorted(common_chars, key=lambda x: (-x[1], x[0]))\n",
    "\n",
    "    # Print the sorted common characters and their occurrence count\n",
    "    for char, count in sorted_chars:\n",
    "        print(char, count)"
   ]
  },
  {
   "cell_type": "code",
   "execution_count": 33,
   "id": "8e2ff85a",
   "metadata": {},
   "outputs": [
    {
     "name": "stdout",
     "output_type": "stream",
     "text": [
      "12\n",
      "insert 0 5\n",
      "insert 1 10\n",
      "insert 0 6\n",
      "print\n",
      "[6, 5, 10]\n",
      "remove 6\n",
      "append 9\n",
      "append 1\n",
      "sort\n",
      "print\n",
      "[1, 5, 9, 10]\n",
      "pop\n",
      "reverse\n",
      "print\n",
      "[9, 5, 1]\n"
     ]
    }
   ],
   "source": [
    "if __name__ == '__main__':\n",
    "    N = int(input())  # Input the number of commands\n",
    "    arr = []  # Initialize an empty list\n",
    "\n",
    "    for _ in range(N):\n",
    "        command = input().split()  # Split the command into a list of strings\n",
    "\n",
    "        if command[0] == 'insert':\n",
    "            # Insert the element at the specified index\n",
    "            arr.insert(int(command[1]), int(command[2]))\n",
    "        elif command[0] == 'print':\n",
    "            # Print the list\n",
    "            print(arr)\n",
    "        elif command[0] == 'remove':\n",
    "            # Remove the first occurrence of the element from the list\n",
    "            arr.remove(int(command[1]))\n",
    "        elif command[0] == 'append':\n",
    "            # Append the element to the end of the list\n",
    "            arr.append(int(command[1]))\n",
    "        elif command[0] == 'sort':\n",
    "            # Sort the list\n",
    "            arr.sort()\n",
    "        elif command[0] == 'pop':\n",
    "            # Pop the last element from the list\n",
    "            arr.pop()\n",
    "        elif command[0] == 'reverse':\n",
    "            # Reverse the list\n",
    "            arr.reverse()"
   ]
  }
 ],
 "metadata": {
  "kernelspec": {
   "display_name": "Python 3 (ipykernel)",
   "language": "python",
   "name": "python3"
  },
  "language_info": {
   "codemirror_mode": {
    "name": "ipython",
    "version": 3
   },
   "file_extension": ".py",
   "mimetype": "text/x-python",
   "name": "python",
   "nbconvert_exporter": "python",
   "pygments_lexer": "ipython3",
   "version": "3.9.12"
  }
 },
 "nbformat": 4,
 "nbformat_minor": 5
}
