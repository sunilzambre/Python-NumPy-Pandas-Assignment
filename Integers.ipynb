{
 "cells": [
  {
   "cell_type": "markdown",
   "id": "2fcc44e4",
   "metadata": {},
   "source": [
    "### Integers are objects - instances of the int class."
   ]
  },
  {
   "cell_type": "code",
   "execution_count": 1,
   "id": "58bfe28e",
   "metadata": {},
   "outputs": [
    {
     "name": "stdout",
     "output_type": "stream",
     "text": [
      "<class 'int'>\n"
     ]
    }
   ],
   "source": [
    "print(type(100))"
   ]
  },
  {
   "cell_type": "markdown",
   "id": "d8804491",
   "metadata": {},
   "source": [
    "They are a variable length data type that can theoretically handle any integer magnitude. This will take up a variable amount of memory that depends on the particular size of the integer."
   ]
  },
  {
   "cell_type": "code",
   "execution_count": 2,
   "id": "a57cbc3b",
   "metadata": {},
   "outputs": [],
   "source": [
    "import sys"
   ]
  },
  {
   "cell_type": "markdown",
   "id": "da285253",
   "metadata": {},
   "source": [
    "### Creating an integer object requires an overhead of 24 bytes:"
   ]
  },
  {
   "cell_type": "code",
   "execution_count": 3,
   "id": "dcbe7547",
   "metadata": {},
   "outputs": [
    {
     "data": {
      "text/plain": [
       "24"
      ]
     },
     "execution_count": 3,
     "metadata": {},
     "output_type": "execute_result"
    }
   ],
   "source": [
    "sys.getsizeof(0)"
   ]
  },
  {
   "cell_type": "markdown",
   "id": "bc5d5dd4",
   "metadata": {},
   "source": [
    "### Here we see that to store the number 1 required 4 bytes (32 bits) on top of the 24 byte overhead."
   ]
  },
  {
   "cell_type": "code",
   "execution_count": 4,
   "id": "5b299861",
   "metadata": {},
   "outputs": [
    {
     "data": {
      "text/plain": [
       "28"
      ]
     },
     "execution_count": 4,
     "metadata": {},
     "output_type": "execute_result"
    }
   ],
   "source": [
    "sys.getsizeof(1)"
   ]
  },
  {
   "cell_type": "markdown",
   "id": "75a16990",
   "metadata": {},
   "source": [
    "Larger numbers will require more storage space."
   ]
  },
  {
   "cell_type": "code",
   "execution_count": 6,
   "id": "732d72fc",
   "metadata": {},
   "outputs": [
    {
     "data": {
      "text/plain": [
       "160"
      ]
     },
     "execution_count": 6,
     "metadata": {},
     "output_type": "execute_result"
    }
   ],
   "source": [
    "sys.getsizeof(2**1000)"
   ]
  },
  {
   "cell_type": "markdown",
   "id": "079cfe0f",
   "metadata": {},
   "source": [
    "### Larger integers will also slow down calculations."
   ]
  },
  {
   "cell_type": "code",
   "execution_count": 9,
   "id": "546f4497",
   "metadata": {},
   "outputs": [],
   "source": [
    "import time"
   ]
  },
  {
   "cell_type": "code",
   "execution_count": 10,
   "id": "4918c5d7",
   "metadata": {},
   "outputs": [],
   "source": [
    "def calc(a):\n",
    "    for i in range(10000000):\n",
    "        a * 2"
   ]
  },
  {
   "cell_type": "markdown",
   "id": "a3f02850",
   "metadata": {},
   "source": [
    "We start with a small integer value for a (10):"
   ]
  },
  {
   "cell_type": "code",
   "execution_count": 12,
   "id": "5bdc40d4",
   "metadata": {},
   "outputs": [
    {
     "name": "stdout",
     "output_type": "stream",
     "text": [
      "0.8892209999999636\n"
     ]
    }
   ],
   "source": [
    "start = time.perf_counter()\n",
    "calc(10)\n",
    "end = time.perf_counter()\n",
    "print(end - start)"
   ]
  },
  {
   "cell_type": "markdown",
   "id": "cf3ba121",
   "metadata": {},
   "source": [
    "### Now we set a to something larger (2^100)):"
   ]
  },
  {
   "cell_type": "code",
   "execution_count": 13,
   "id": "efd8a237",
   "metadata": {},
   "outputs": [
    {
     "name": "stdout",
     "output_type": "stream",
     "text": [
      "1.5697594000000095\n"
     ]
    }
   ],
   "source": [
    "start = time.perf_counter()\n",
    "calc(2**100)\n",
    "end = time.perf_counter()\n",
    "print(end - start)"
   ]
  },
  {
   "cell_type": "markdown",
   "id": "1eda1abc",
   "metadata": {},
   "source": [
    "### Finally we set a to some really large value (2^10,000)"
   ]
  },
  {
   "cell_type": "code",
   "execution_count": 14,
   "id": "5928ae07",
   "metadata": {},
   "outputs": [
    {
     "name": "stdout",
     "output_type": "stream",
     "text": [
      "8.066712399999972\n"
     ]
    }
   ],
   "source": [
    "start = time.perf_counter()\n",
    "calc(2**10000)\n",
    "end = time.perf_counter()\n",
    "print(end - start)"
   ]
  }
 ],
 "metadata": {
  "kernelspec": {
   "display_name": "Python 3 (ipykernel)",
   "language": "python",
   "name": "python3"
  },
  "language_info": {
   "codemirror_mode": {
    "name": "ipython",
    "version": 3
   },
   "file_extension": ".py",
   "mimetype": "text/x-python",
   "name": "python",
   "nbconvert_exporter": "python",
   "pygments_lexer": "ipython3",
   "version": "3.9.12"
  }
 },
 "nbformat": 4,
 "nbformat_minor": 5
}
