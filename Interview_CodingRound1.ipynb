{
 "cells": [
  {
   "cell_type": "markdown",
   "id": "64c3433d",
   "metadata": {},
   "source": [
    "### 1.Write a python function to return the result string which should not contain digits and duplicate characters."
   ]
  },
  {
   "cell_type": "code",
   "execution_count": 6,
   "id": "29b21fa2",
   "metadata": {},
   "outputs": [],
   "source": [
    "def remove_digit_duplicate(input_str):\n",
    "    result = \"\"\n",
    "    seen = set()\n",
    "    for char in input_str:\n",
    "        if char.isdigit():  # Skip digits\n",
    "            continue\n",
    "        if char not in seen:\n",
    "            seen.add(char)\n",
    "            result += char\n",
    "    return result\n",
    "\n",
    "# Test the function with an example input\n",
    "input_str = \"aabcc1233\""
   ]
  },
  {
   "cell_type": "code",
   "execution_count": 7,
   "id": "e7463107",
   "metadata": {},
   "outputs": [
    {
     "data": {
      "text/plain": [
       "'abc'"
      ]
     },
     "execution_count": 7,
     "metadata": {},
     "output_type": "execute_result"
    }
   ],
   "source": [
    "output = remove_digit_duplicate(input_str)\n",
    "output"
   ]
  },
  {
   "cell_type": "markdown",
   "id": "f95f19e4",
   "metadata": {},
   "source": [
    "### 2.Write a python function to rotate original array by k ( example 3 position to right)."
   ]
  },
  {
   "cell_type": "code",
   "execution_count": 8,
   "id": "7b14ad5f",
   "metadata": {},
   "outputs": [
    {
     "name": "stdout",
     "output_type": "stream",
     "text": [
      "[5, 6, 7, 1, 2, 3, 4]\n"
     ]
    }
   ],
   "source": [
    "def rotate_array(arr, k):\n",
    "    n = len(arr)\n",
    "    k = k % n    # k is within the array length\n",
    "    return arr[-k:] + arr[:-k]\n",
    "\n",
    "arr = [1, 2, 3, 4, 5, 6, 7]   # Example \n",
    "k = 3  #The original array rotated 3 positions to the right\n",
    "rotated_array = rotate_array(arr, k)\n",
    "print(rotated_array)  "
   ]
  },
  {
   "cell_type": "markdown",
   "id": "37a7b996",
   "metadata": {},
   "source": [
    "### 3.Write a python functon to find the length of the longest substring without repeating characters. "
   ]
  },
  {
   "cell_type": "code",
   "execution_count": 11,
   "id": "0a045d60",
   "metadata": {},
   "outputs": [],
   "source": [
    "def lon_uniq_substr(s):\n",
    "    start = 0\n",
    "    max_length = 0\n",
    "    used_char = {}\n",
    "    \n",
    "    for i, char in enumerate(s):\n",
    "        if char in used_char and start <= used_char[char]:\n",
    "            start = used_char[char] + 1\n",
    "        max_length = max(max_length, i - start + 1)\n",
    "        used_char[char] = i\n",
    "    \n",
    "    return max_length"
   ]
  },
  {
   "cell_type": "code",
   "execution_count": 12,
   "id": "e84ebc25",
   "metadata": {},
   "outputs": [
    {
     "name": "stdout",
     "output_type": "stream",
     "text": [
      "3\n"
     ]
    }
   ],
   "source": [
    "# Example\n",
    "s = \"abcabcbb\"\n",
    "result = lon_uniq_substr(s)\n",
    "print(result)"
   ]
  },
  {
   "cell_type": "markdown",
   "id": "44da07ce",
   "metadata": {},
   "source": [
    "### 4.Write a python program to get the length of the input strings and count each character occurence excluding space."
   ]
  },
  {
   "cell_type": "code",
   "execution_count": 13,
   "id": "db4d989c",
   "metadata": {},
   "outputs": [],
   "source": [
    "def string_length_char_count(s):\n",
    "    char_count = {}\n",
    "    length = 0\n",
    "    for char in s.replace(\" \", \"\"):\n",
    "        length = length + 1\n",
    "        char_count[char] = char_count.get(char,0) + 1\n",
    "    return length, char_count"
   ]
  },
  {
   "cell_type": "code",
   "execution_count": 14,
   "id": "c3a20a19",
   "metadata": {},
   "outputs": [
    {
     "data": {
      "text/plain": [
       "(10, {'h': 1, 'e': 1, 'l': 3, 'o': 2, 'w': 1, 'r': 1, 'd': 1})"
      ]
     },
     "execution_count": 14,
     "metadata": {},
     "output_type": "execute_result"
    }
   ],
   "source": [
    "s = \"hello world\"\n",
    "result = string_length_char_count(s)\n",
    "result"
   ]
  },
  {
   "cell_type": "markdown",
   "id": "86b0cad5",
   "metadata": {},
   "source": [
    "### 5.What is wrong in below code snippet?"
   ]
  },
  {
   "cell_type": "code",
   "execution_count": 15,
   "id": "acabce8b",
   "metadata": {},
   "outputs": [
    {
     "ename": "TypeError",
     "evalue": "can only concatenate str (not \"int\") to str",
     "output_type": "error",
     "traceback": [
      "\u001b[1;31m---------------------------------------------------------------------------\u001b[0m",
      "\u001b[1;31mTypeError\u001b[0m                                 Traceback (most recent call last)",
      "Cell \u001b[1;32mIn[15], line 3\u001b[0m\n\u001b[0;32m      1\u001b[0m \u001b[38;5;28;01mdef\u001b[39;00m \u001b[38;5;21mconcatenate_str\u001b[39m(str1, str2):\n\u001b[0;32m      2\u001b[0m     \u001b[38;5;28;01mreturn\u001b[39;00m str1 \u001b[38;5;241m+\u001b[39m \u001b[38;5;124m\"\u001b[39m\u001b[38;5;124m \u001b[39m\u001b[38;5;124m\"\u001b[39m \u001b[38;5;241m+\u001b[39m str2\n\u001b[1;32m----> 3\u001b[0m result \u001b[38;5;241m=\u001b[39m \u001b[43mconcatenate_str\u001b[49m\u001b[43m(\u001b[49m\u001b[38;5;124;43m\"\u001b[39;49m\u001b[38;5;124;43mTest\u001b[39;49m\u001b[38;5;124;43m\"\u001b[39;49m\u001b[43m,\u001b[49m\u001b[43m \u001b[49m\u001b[38;5;241;43m3\u001b[39;49m\u001b[43m)\u001b[49m\n\u001b[0;32m      4\u001b[0m \u001b[38;5;28mprint\u001b[39m(result)\n",
      "Cell \u001b[1;32mIn[15], line 2\u001b[0m, in \u001b[0;36mconcatenate_str\u001b[1;34m(str1, str2)\u001b[0m\n\u001b[0;32m      1\u001b[0m \u001b[38;5;28;01mdef\u001b[39;00m \u001b[38;5;21mconcatenate_str\u001b[39m(str1, str2):\n\u001b[1;32m----> 2\u001b[0m     \u001b[38;5;28;01mreturn\u001b[39;00m \u001b[43mstr1\u001b[49m\u001b[43m \u001b[49m\u001b[38;5;241;43m+\u001b[39;49m\u001b[43m \u001b[49m\u001b[38;5;124;43m\"\u001b[39;49m\u001b[38;5;124;43m \u001b[39;49m\u001b[38;5;124;43m\"\u001b[39;49m\u001b[43m \u001b[49m\u001b[38;5;241;43m+\u001b[39;49m\u001b[43m \u001b[49m\u001b[43mstr2\u001b[49m\n",
      "\u001b[1;31mTypeError\u001b[0m: can only concatenate str (not \"int\") to str"
     ]
    }
   ],
   "source": [
    "def concatenate_str(str1, str2):\n",
    "    return str1 + \" \" + str2\n",
    "result = concatenate_str(\"Test\", 3)\n",
    "print(result)    # .Answer is ...> The str2 argument is an integer and it needs to be converted to a string first."
   ]
  },
  {
   "cell_type": "markdown",
   "id": "599f41c6",
   "metadata": {},
   "source": [
    "### 6.What is the output of this code:"
   ]
  },
  {
   "cell_type": "code",
   "execution_count": 16,
   "id": "fad1bf7f",
   "metadata": {},
   "outputs": [],
   "source": [
    "var = 10\n",
    "var1 = 5\n",
    "var2 = 3\n",
    "\n",
    "result = var // var1 + var1 % var2"
   ]
  },
  {
   "cell_type": "code",
   "execution_count": 17,
   "id": "d56ec9c1",
   "metadata": {},
   "outputs": [
    {
     "name": "stdout",
     "output_type": "stream",
     "text": [
      "4\n"
     ]
    }
   ],
   "source": [
    "print(result)"
   ]
  },
  {
   "cell_type": "markdown",
   "id": "0a8e6ce3",
   "metadata": {},
   "source": [
    "### 7.Write a python program to print spatial numbers(numbers where digits are repeating like 444, 33 etc) from 1 to a given number n."
   ]
  },
  {
   "cell_type": "code",
   "execution_count": 20,
   "id": "1e89e7d6",
   "metadata": {},
   "outputs": [],
   "source": [
    "def spatial_number(n):\n",
    "    spatial_nums = [] \n",
    "    for num in range(1, n + 1):\n",
    "        num_str = str(num)\n",
    "        if all(d == num_str[0] for d in num_str):\n",
    "            spatial_nums.append(num)\n",
    "    return spatial_nums"
   ]
  },
  {
   "cell_type": "code",
   "execution_count": 22,
   "id": "42c060b5",
   "metadata": {},
   "outputs": [
    {
     "data": {
      "text/plain": [
       "[1, 2, 3, 4, 5, 6, 7, 8, 9, 11, 22, 33, 44, 55]"
      ]
     },
     "execution_count": 22,
     "metadata": {},
     "output_type": "execute_result"
    }
   ],
   "source": [
    "n = 60\n",
    "result = spatial_number(n)\n",
    "result"
   ]
  }
 ],
 "metadata": {
  "kernelspec": {
   "display_name": "Python 3 (ipykernel)",
   "language": "python",
   "name": "python3"
  },
  "language_info": {
   "codemirror_mode": {
    "name": "ipython",
    "version": 3
   },
   "file_extension": ".py",
   "mimetype": "text/x-python",
   "name": "python",
   "nbconvert_exporter": "python",
   "pygments_lexer": "ipython3",
   "version": "3.9.12"
  }
 },
 "nbformat": 4,
 "nbformat_minor": 5
}
