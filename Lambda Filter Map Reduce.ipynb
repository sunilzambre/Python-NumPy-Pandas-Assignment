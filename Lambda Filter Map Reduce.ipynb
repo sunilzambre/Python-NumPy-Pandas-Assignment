{
 "cells": [
  {
   "cell_type": "markdown",
   "id": "571b2bb2",
   "metadata": {},
   "source": [
    "# Lambda\n",
    "- A lambda function is an anonymous function (function without a name).\n",
    "- Lambda functions can have any number of arguments but only one expression. \n",
    "- The expression is evaluated and returned.\n",
    "- We use lambda functions when we require a nameless function for a short period of time."
   ]
  },
  {
   "cell_type": "markdown",
   "id": "d56e8b0b",
   "metadata": {},
   "source": [
    "# Filter\n",
    "- It is used to filter the iterables/sequence as per the conditions.\n",
    "- Filter function filters the original iterable and passes the items that returns True for the function\n",
    "  provided to filter.\n",
    "- It is normally used with Lambda functions to filter list, tuple, or sets.\n",
    "### **filter() method takes two parameters**\n",
    "- function - function tests if elements of an iterable returns true or false\n",
    "- iterable - Sequence which needs to be filtered, could be sets, lists, tuples, or any iterators"
   ]
  },
  {
   "cell_type": "markdown",
   "id": "dbee10c3",
   "metadata": {},
   "source": [
    "# Reduce\n",
    "- The reduce() function is defined in the functools python module.\n",
    "- The reduce() function receives two arguments, a function and an iterable. \n",
    "- However, it doesn't return another iterable, instead it returns a single value.\n",
    "#### Working:\n",
    "1) Apply a function to the first two items in an iterable and generate a partial result. <br>\n",
    "2) The function is then called again with the result obtained in step 1 and the next value in the sequence. \n",
    "   This process keeps on repeating until there are items in the sequence. <br>\n",
    "3) The final returned result is returned and printed on console."
   ]
  },
  {
   "cell_type": "markdown",
   "id": "1be4aafa",
   "metadata": {},
   "source": [
    "# Map\n",
    "- The map() function applies a given function to each item of an iterable (list, tuple etc.) \n",
    "- returns a list of the results.\n",
    "#### **map() function takes two Parameters :**\n",
    "- function : The function to execute for each item of given iterable.\n",
    "- iterable : It is a iterable which is to be mapped.\n",
    "- Returns : Returns a list of the results after applying the given function to each item of a given iterable (list, tuple)"
   ]
  },
  {
   "cell_type": "code",
   "execution_count": 1,
   "id": "9179656a",
   "metadata": {},
   "outputs": [
    {
     "name": "stdout",
     "output_type": "stream",
     "text": [
      "15\n"
     ]
    }
   ],
   "source": [
    "addition = lambda a : a + 10 # This lambda function adds value 10 to an argument\n",
    "print(addition(5))"
   ]
  },
  {
   "cell_type": "code",
   "execution_count": 2,
   "id": "c4fdba0b",
   "metadata": {},
   "outputs": [
    {
     "name": "stdout",
     "output_type": "stream",
     "text": [
      "30\n"
     ]
    }
   ],
   "source": [
    "product = lambda a, b : a * b #This lambda function takes two arguments (a,b)\n",
    "print(product(5, 6))"
   ]
  },
  {
   "cell_type": "code",
   "execution_count": 3,
   "id": "ca13521d",
   "metadata": {},
   "outputs": [
    {
     "name": "stdout",
     "output_type": "stream",
     "text": [
      "13\n"
     ]
    }
   ],
   "source": [
    "addition = lambda a, b, c : a + b + c   #This lambda function takes three argument\n",
    "print(addition(5, 6, 2))"
   ]
  },
  {
   "cell_type": "code",
   "execution_count": 4,
   "id": "6e95e8b2",
   "metadata": {},
   "outputs": [
    {
     "data": {
      "text/plain": [
       "(30, 100, 280)"
      ]
     },
     "execution_count": 4,
     "metadata": {},
     "output_type": "execute_result"
    }
   ],
   "source": [
    "res = (lambda *args: sum(args)) # This lambda function can take any number of argument\n",
    "res(10,20) , res(10,20,30,40) , res(10,20,30,40,50,60,70)"
   ]
  },
  {
   "cell_type": "code",
   "execution_count": 5,
   "id": "b880ceb6",
   "metadata": {},
   "outputs": [
    {
     "data": {
      "text/plain": [
       "(60, 150)"
      ]
     },
     "execution_count": 5,
     "metadata": {},
     "output_type": "execute_result"
    }
   ],
   "source": [
    "res1 = (lambda **kwargs: sum(kwargs.values()))\n",
    "res1(a = 10 , b= 20 , c = 30) , res1(a = 10 , b= 20 , c = 30, d = 40 , e = 50)"
   ]
  },
  {
   "cell_type": "code",
   "execution_count": 7,
   "id": "3c9351f5",
   "metadata": {},
   "outputs": [
    {
     "data": {
      "text/plain": [
       "(600, 150)"
      ]
     },
     "execution_count": 7,
     "metadata": {},
     "output_type": "execute_result"
    }
   ],
   "source": [
    "res1 = (lambda **kwargs: sum(kwargs.values()))\n",
    "res1(a = 100 , b= 200 , c = 300) , res1(a = 10 , b= 20 , c = 30, d = 40 , e = 50)"
   ]
  },
  {
   "cell_type": "code",
   "execution_count": 8,
   "id": "df653543",
   "metadata": {},
   "outputs": [
    {
     "data": {
      "text/plain": [
       "(6000, 12000000)"
      ]
     },
     "execution_count": 8,
     "metadata": {},
     "output_type": "execute_result"
    }
   ],
   "source": [
    "# User defined function to find product of numbers\n",
    "def product(nums):\n",
    "    total = 1\n",
    "    for i in nums:\n",
    "        total *= i \n",
    "    return total\n",
    "\n",
    "# This lambda function can take any number of arguments and return thier product.\n",
    "res1 = (lambda **kwargs: product(kwargs.values())) \n",
    "res1(a = 10 , b= 20 , c = 30) , res1(a = 10 , b= 20 , c = 30, d = 40 , e = 50)"
   ]
  },
  {
   "cell_type": "code",
   "execution_count": 9,
   "id": "251b7567",
   "metadata": {},
   "outputs": [
    {
     "name": "stdout",
     "output_type": "stream",
     "text": [
      "15\n",
      "25\n",
      "35\n"
     ]
    }
   ],
   "source": [
    "def myfunc(n):\n",
    "    return lambda a : a + n\n",
    "add10 = myfunc(10)\n",
    "add20 = myfunc(20)\n",
    "add30 = myfunc(30)\n",
    "print(add10(5))\n",
    "print(add20(5))\n",
    "print(add30(5))"
   ]
  },
  {
   "cell_type": "code",
   "execution_count": 10,
   "id": "4d68fa5b",
   "metadata": {},
   "outputs": [
    {
     "data": {
      "text/plain": [
       "[1, 3, 5, 7, 9]"
      ]
     },
     "execution_count": 10,
     "metadata": {},
     "output_type": "execute_result"
    }
   ],
   "source": [
    "list1 = [1,2,3,4,5,6,7,8,9]\n",
    "def odd(n):\n",
    "    if n%2 ==1: \n",
    "        return True\n",
    "    else:\n",
    "        return False\n",
    "\n",
    "odd_num = list(filter(odd,list1))  # This Filter function filters list1\n",
    "odd_num"
   ]
  },
  {
   "cell_type": "code",
   "execution_count": 11,
   "id": "1575dc9b",
   "metadata": {},
   "outputs": [
    {
     "data": {
      "text/plain": [
       "[1, 3, 5, 7, 9]"
      ]
     },
     "execution_count": 11,
     "metadata": {},
     "output_type": "execute_result"
    }
   ],
   "source": [
    "list1 = [1,2,3,4,5,6,7,8,9]\n",
    "# The below Filter function filters \"list1\" and passes all odd numbers using lambda\n",
    "odd_num = list(filter(lambda n: n%2 ==1 ,list1)) \n",
    "odd_num"
   ]
  },
  {
   "cell_type": "code",
   "execution_count": 12,
   "id": "978544e4",
   "metadata": {},
   "outputs": [
    {
     "data": {
      "text/plain": [
       "[2, 6, 10, 14, 18]"
      ]
     },
     "execution_count": 12,
     "metadata": {},
     "output_type": "execute_result"
    }
   ],
   "source": [
    "def twice(n):\n",
    "    return n*2\n",
    " \n",
    "doubles = list(map(twice,odd_num)) # The map function will apply user defined \"twice\"\n",
    "doubles"
   ]
  },
  {
   "cell_type": "code",
   "execution_count": 13,
   "id": "2038037a",
   "metadata": {},
   "outputs": [
    {
     "data": {
      "text/plain": [
       "[2, 6, 10, 14, 18]"
      ]
     },
     "execution_count": 13,
     "metadata": {},
     "output_type": "execute_result"
    }
   ],
   "source": [
    "doubles = list(map(lambda n:n*2,odd_num)) # This map function will double all iteration\n",
    "doubles"
   ]
  },
  {
   "cell_type": "code",
   "execution_count": 14,
   "id": "05e2ce35",
   "metadata": {},
   "outputs": [
    {
     "data": {
      "text/plain": [
       "50"
      ]
     },
     "execution_count": 14,
     "metadata": {},
     "output_type": "execute_result"
    }
   ],
   "source": [
    "from functools import reduce\n",
    "def add(a,b):\n",
    "    return a+b\n",
    " \n",
    "sum_all = reduce(add,doubles) # This reduce function will perform sum of all item\n",
    "sum_all"
   ]
  },
  {
   "cell_type": "code",
   "execution_count": 15,
   "id": "682d06cf",
   "metadata": {},
   "outputs": [
    {
     "data": {
      "text/plain": [
       "50"
      ]
     },
     "execution_count": 15,
     "metadata": {},
     "output_type": "execute_result"
    }
   ],
   "source": [
    "#The below reduce() function will perform sum of all items in the list using lambda\n",
    "sum_all = reduce(lambda a,b : a+b,doubles)\n",
    "sum_all"
   ]
  },
  {
   "cell_type": "code",
   "execution_count": 17,
   "id": "228f1a08",
   "metadata": {},
   "outputs": [],
   "source": [
    "#Putting all together \n",
    "sum_all = reduce(lambda a,b : a+b,list(map(lambda n:n*2,list(filter(lambda n: n%2==1,list1)))))"
   ]
  },
  {
   "cell_type": "code",
   "execution_count": 18,
   "id": "8ef970ee",
   "metadata": {},
   "outputs": [
    {
     "data": {
      "text/plain": [
       "50"
      ]
     },
     "execution_count": 18,
     "metadata": {},
     "output_type": "execute_result"
    }
   ],
   "source": [
    "sum_all"
   ]
  },
  {
   "cell_type": "code",
   "execution_count": 22,
   "id": "a106edbf",
   "metadata": {},
   "outputs": [
    {
     "name": "stdout",
     "output_type": "stream",
     "text": [
      "--------------------\n",
      "[2, 4, 6, 8, 10]\n",
      "[1, 3, 5, 7, 9]\n",
      "--------------------\n"
     ]
    }
   ],
   "source": [
    "# More examples on Map , Filter , Reduce\n",
    "list1 = [1,2,3,4,5,6,7,8,9,10]\n",
    "even = list(filter(lambda n: n%2 ==0 ,list1)) # Filter even numbers from the list\n",
    "odd = list(filter(lambda n: n%2 !=0 ,list1)) # Filter odd numbers from the list\n",
    "print('-'*20)\n",
    "print(even)\n",
    "print(odd)\n",
    "print('-'*20)"
   ]
  },
  {
   "cell_type": "code",
   "execution_count": 23,
   "id": "eaa6df29",
   "metadata": {},
   "outputs": [
    {
     "name": "stdout",
     "output_type": "stream",
     "text": [
      "['TWO', 'FOUR']\n",
      "['one', 'three']\n",
      "--------------------\n"
     ]
    }
   ],
   "source": [
    "list2 = ['one' , 'TWO' , 'three' , 'FOUR']\n",
    "upper = list(filter(lambda x: x.isupper() , list2)) # filter uppercase strings \n",
    "lower = list(filter(lambda x: x.islower() , list2)) # filter lowercase strings\n",
    "print(upper)\n",
    "print(lower)\n",
    "print('-'*20)"
   ]
  },
  {
   "cell_type": "code",
   "execution_count": 25,
   "id": "607f51fe",
   "metadata": {},
   "outputs": [
    {
     "name": "stdout",
     "output_type": "stream",
     "text": [
      "[]\n",
      "['84', '23', '2013']\n",
      "['one1', 'two2', 'three3', '84', '23', '2013']\n",
      "------------------------------------------------------------\n"
     ]
    }
   ],
   "source": [
    "list3 = ['one1' , 'two2' , 'three3' ,'84' , '23' , '2013']\n",
    "numeric = list(filter(lambda x:x.isnumeric(), list3)) # filter numbers from the \n",
    "alpha = list(filter(lambda x:x.isalpha(), list3)) # filter character strings\n",
    "alphanum = list(filter(lambda x:x.isalnum(), list3)) # filtr numbers & character \n",
    "print(alpha)\n",
    "print(numeric)\n",
    "print(alphanum)\n",
    "print('-'*60)"
   ]
  },
  {
   "cell_type": "code",
   "execution_count": 26,
   "id": "d50eeab4",
   "metadata": {},
   "outputs": [
    {
     "name": "stdout",
     "output_type": "stream",
     "text": [
      "---------------\n",
      "[2, 4, 6, 8]\n",
      "[6, 8, 10, 12]\n",
      "[1, 4, 9, 16]\n",
      "---------------\n",
      "[2, 4, 6, 8]\n",
      "[6, 8, 10, 12]\n",
      "[1, 4, 9, 16]\n",
      "---------------\n"
     ]
    }
   ],
   "source": [
    "list1 = [1,2,3,4]\n",
    "list2 = [5,6,7,8]\n",
    "def double(x):\n",
    "    return x+x\n",
    "def add(x,y):\n",
    "    return x+y\n",
    "def square(x):\n",
    "    return x*x\n",
    "print('---------------')\n",
    "print(list(map(double, list1))) # Double each number using map & User defined functions\n",
    "print(list(map(add, list1, list2))) # add two items using map & User defined functions\n",
    "print(list(map(square, list1))) #Square numbers using map & User defined function\n",
    "print('---------------')\n",
    "print(list(map(lambda x: x + x, list1))) # Double each number using map & lambda\n",
    "print(list(map(lambda x, y: x + y, list1, list2))) # add two items using map & lambda functions\n",
    "print(list(map(lambda x: x*x, list1))) #Square numbers using map & lambda functions\n",
    "print('---------------')"
   ]
  },
  {
   "cell_type": "code",
   "execution_count": 27,
   "id": "6760c328",
   "metadata": {},
   "outputs": [
    {
     "ename": "NameError",
     "evalue": "name 'operator' is not defined",
     "output_type": "error",
     "traceback": [
      "\u001b[1;31m---------------------------------------------------------------------------\u001b[0m",
      "\u001b[1;31mNameError\u001b[0m                                 Traceback (most recent call last)",
      "Cell \u001b[1;32mIn[27], line 2\u001b[0m\n\u001b[0;32m      1\u001b[0m list2 \u001b[38;5;241m=\u001b[39m [\u001b[38;5;241m1\u001b[39m,\u001b[38;5;241m2\u001b[39m,\u001b[38;5;241m3\u001b[39m,\u001b[38;5;241m4\u001b[39m]\n\u001b[1;32m----> 2\u001b[0m product \u001b[38;5;241m=\u001b[39m reduce (\u001b[43moperator\u001b[49m\u001b[38;5;241m.\u001b[39mmul,list2) \u001b[38;5;66;03m# Product of all numbers in a list\u001b[39;00m\n\u001b[0;32m      4\u001b[0m add \u001b[38;5;241m=\u001b[39m reduce(operator\u001b[38;5;241m.\u001b[39madd,list2) \u001b[38;5;66;03m# Add all numbers in the list\u001b[39;00m\n\u001b[0;32m      6\u001b[0m concat_str \u001b[38;5;241m=\u001b[39m reduce(operator\u001b[38;5;241m.\u001b[39madd , [\u001b[38;5;124m'\u001b[39m\u001b[38;5;124mPython\u001b[39m\u001b[38;5;124m'\u001b[39m , \u001b[38;5;124m'\u001b[39m\u001b[38;5;124m \u001b[39m\u001b[38;5;124m'\u001b[39m , \u001b[38;5;124m'\u001b[39m\u001b[38;5;124mRocks\u001b[39m\u001b[38;5;124m'\u001b[39m]) \u001b[38;5;66;03m# Concatenate strings\u001b[39;00m\n",
      "\u001b[1;31mNameError\u001b[0m: name 'operator' is not defined"
     ]
    }
   ],
   "source": [
    "list2 = [1,2,3,4]\n",
    "product = reduce (operator.mul,list2) # Product of all numbers in a list\n",
    "\n",
    "add = reduce(operator.add,list2) # Add all numbers in the list\n",
    "\n",
    "concat_str = reduce(operator.add , ['Python' , ' ' , 'Rocks']) # Concatenate strings\n",
    "prod = reduce(operator.mul,['Hello ' , 3]) #Repeat a string multiple times\n",
    "min_num = reduce(lambda a, b: a if a < b else b, list2) # Minimum number in the l\n",
    "max_num = reduce(lambda a, b: a if a > b else b, list2) # Maximum number in the l\n",
    "print(product)\n",
    "print(add)\n",
    "print(concat_str)\n",
    "print(prod)\n",
    "print(min_num)\n",
    "print(max_num)"
   ]
  },
  {
   "cell_type": "code",
   "execution_count": 28,
   "id": "5f307a98",
   "metadata": {},
   "outputs": [
    {
     "data": {
      "text/plain": [
       "(1, 4)"
      ]
     },
     "execution_count": 28,
     "metadata": {},
     "output_type": "execute_result"
    }
   ],
   "source": [
    "def min_func(a, b):\n",
    "    return a if a < b else b\n",
    "def max_func(a, b):\n",
    "    return a if a > b else b\n",
    "min_num = reduce(min_func, list2) # Minimum number in the list using reduce () \n",
    "max_num = reduce(max_func, list2) # Maximum number in the list using reduce () \n",
    "min_num , max_num"
   ]
  },
  {
   "cell_type": "code",
   "execution_count": 29,
   "id": "d7f175de",
   "metadata": {},
   "outputs": [
    {
     "name": "stdout",
     "output_type": "stream",
     "text": [
      "------\n",
      "False\n",
      "True\n",
      "False\n",
      "------\n",
      "False\n",
      "True\n",
      "True\n",
      "------\n"
     ]
    }
   ],
   "source": [
    "print('------')\n",
    "print(reduce(lambda a, b: bool(a and b), [0, 0, 1, 0, 0])) # Returns True if all \n",
    "print(reduce(lambda a, b: bool(a and b), [2, 3, 1, 5, 6])) # Returns True if all \n",
    "print(reduce(lambda a, b: bool(a and b), [8, 9, 1, 0, 9])) # Returns True if all \n",
    "print('------')\n",
    "print(reduce(lambda a, b: bool(a or b), [0, 0, 0, 0, 0])) # Returns True if any \n",
    "print(reduce(lambda a, b: bool(a or b), [2, 3, 1, 5, 6])) # Returns True if any \n",
    "print(reduce(lambda a, b: bool(a or b), [8, 9, 1, 0, 9])) # Returns True if any \n",
    "print('------')"
   ]
  }
 ],
 "metadata": {
  "kernelspec": {
   "display_name": "Python 3 (ipykernel)",
   "language": "python",
   "name": "python3"
  },
  "language_info": {
   "codemirror_mode": {
    "name": "ipython",
    "version": 3
   },
   "file_extension": ".py",
   "mimetype": "text/x-python",
   "name": "python",
   "nbconvert_exporter": "python",
   "pygments_lexer": "ipython3",
   "version": "3.9.12"
  }
 },
 "nbformat": 4,
 "nbformat_minor": 5
}
