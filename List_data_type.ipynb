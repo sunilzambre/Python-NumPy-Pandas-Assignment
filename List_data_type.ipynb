{
 "cells": [
  {
   "cell_type": "code",
   "execution_count": 1,
   "id": "5f415a44",
   "metadata": {},
   "outputs": [],
   "source": [
    "# create a list of integers\n",
    "my_list = [1, 2, 3, 4, 5]"
   ]
  },
  {
   "cell_type": "code",
   "execution_count": 2,
   "id": "65f31300",
   "metadata": {},
   "outputs": [
    {
     "name": "stdout",
     "output_type": "stream",
     "text": [
      "[1, 2, 3, 4, 5]\n"
     ]
    }
   ],
   "source": [
    "# print the list\n",
    "print(my_list)"
   ]
  },
  {
   "cell_type": "code",
   "execution_count": 3,
   "id": "bfc368b1",
   "metadata": {},
   "outputs": [
    {
     "name": "stdout",
     "output_type": "stream",
     "text": [
      "1\n"
     ]
    }
   ],
   "source": [
    "# access an element in the list\n",
    "print(my_list[0]) # prints 1"
   ]
  },
  {
   "cell_type": "code",
   "execution_count": 4,
   "id": "f0794d3d",
   "metadata": {},
   "outputs": [
    {
     "name": "stdout",
     "output_type": "stream",
     "text": [
      "[1, 6, 3, 4, 5]\n"
     ]
    }
   ],
   "source": [
    "# change an element in the list\n",
    "my_list[1] = 6\n",
    "print(my_list) # prints [1, 6, 3, 4, 5]"
   ]
  },
  {
   "cell_type": "code",
   "execution_count": 5,
   "id": "fe1ec520",
   "metadata": {},
   "outputs": [
    {
     "name": "stdout",
     "output_type": "stream",
     "text": [
      "[1, 6, 3, 4, 5, 6]\n"
     ]
    }
   ],
   "source": [
    "# add an element to the end of the list\n",
    "my_list.append(6)\n",
    "print(my_list) # prints [1, 6, 3, 4, 5, 6]"
   ]
  },
  {
   "cell_type": "code",
   "execution_count": 6,
   "id": "681f2fd8",
   "metadata": {},
   "outputs": [
    {
     "name": "stdout",
     "output_type": "stream",
     "text": [
      "[1, 6, 4, 5, 6]\n"
     ]
    }
   ],
   "source": [
    "# remove an element from the list\n",
    "my_list.remove(3)\n",
    "print(my_list) # prints [1, 6, 4, 5, 6]"
   ]
  },
  {
   "cell_type": "code",
   "execution_count": 7,
   "id": "bdf120bb",
   "metadata": {},
   "outputs": [
    {
     "name": "stdout",
     "output_type": "stream",
     "text": [
      "5\n"
     ]
    }
   ],
   "source": [
    "# get the length of the list\n",
    "print(len(my_list)) # prints 5"
   ]
  },
  {
   "cell_type": "code",
   "execution_count": 8,
   "id": "e74c822d",
   "metadata": {},
   "outputs": [],
   "source": [
    "# create a list of mixed data types\n",
    "mixed_list = [\"apple\", 1, \"banana\", 2]"
   ]
  },
  {
   "cell_type": "code",
   "execution_count": 9,
   "id": "fc6ed793",
   "metadata": {},
   "outputs": [
    {
     "name": "stdout",
     "output_type": "stream",
     "text": [
      "['apple', 1, 'banana', 2]\n"
     ]
    }
   ],
   "source": [
    "# print the list\n",
    "print(mixed_list) # prints [\"apple\", 1, \"banana\", 2]"
   ]
  },
  {
   "cell_type": "code",
   "execution_count": 10,
   "id": "35d8d2d2",
   "metadata": {},
   "outputs": [
    {
     "name": "stdout",
     "output_type": "stream",
     "text": [
      "apple\n"
     ]
    }
   ],
   "source": [
    "# access an element in the list\n",
    "print(mixed_list[0]) # prints \"apple\""
   ]
  },
  {
   "cell_type": "code",
   "execution_count": 11,
   "id": "32e03d22",
   "metadata": {},
   "outputs": [
    {
     "name": "stdout",
     "output_type": "stream",
     "text": [
      "['apple', 'orange', 'banana', 2]\n"
     ]
    }
   ],
   "source": [
    "# change an element in the list\n",
    "mixed_list[1] = \"orange\"\n",
    "print(mixed_list) # prints [\"apple\", \"orange\", \"banana\", 2]"
   ]
  },
  {
   "cell_type": "markdown",
   "id": "24e2e981",
   "metadata": {},
   "source": [
    "## Write a Python function that takes a list of integers as input and returns the sum of all the even numbers in the list."
   ]
  },
  {
   "cell_type": "code",
   "execution_count": 12,
   "id": "33974f61",
   "metadata": {},
   "outputs": [
    {
     "name": "stdout",
     "output_type": "stream",
     "text": [
      "The sum of all even number in a list:30\n"
     ]
    }
   ],
   "source": [
    "def sum_even_num(number):\n",
    "    sum = 0   # initialize a variable to hold the sum of even numbers   \n",
    "    \n",
    "    # iterate over the numbers in the list\n",
    "    for num in number:\n",
    "        # check if the number is even\n",
    "        if num % 2 == 0:\n",
    "            # add the even number to the sum\n",
    "            sum += num\n",
    "            \n",
    "    # return the sum of even numbers\n",
    "    return sum\n",
    "\n",
    "number = [1, 2, 3, 4, 5, 6, 7, 8, 9, 10]\n",
    "\n",
    "result = sum_even_num(number)\n",
    "\n",
    "print(f\"The sum of all even number in a list:{result}\")       # prints 30, which is the sum of 2 + 4 + 6 + 8 + 10"
   ]
  },
  {
   "cell_type": "markdown",
   "id": "a7e46446",
   "metadata": {},
   "source": [
    "## Write a python code for sum of all the even numbers in the list by using filter, lambda and reduce function."
   ]
  },
  {
   "cell_type": "code",
   "execution_count": 13,
   "id": "def0b891",
   "metadata": {},
   "outputs": [
    {
     "name": "stdout",
     "output_type": "stream",
     "text": [
      "The sum of all even number in a list:30\n"
     ]
    }
   ],
   "source": [
    "from functools import reduce\n",
    "\n",
    "number = [1, 2, 3, 4, 5, 6, 7, 8, 9, 10]\n",
    "\n",
    "even_numbers = filter(lambda x: x % 2 == 0, number) # use a lambda function to filter out even numbers from the list.\n",
    "\n",
    "sum_even_num = reduce(lambda x, y: x + y, even_numbers) # use a lambda function to find the sum of the filtered even numbers.\n",
    "\n",
    "print(f\"The sum of all even number in a list:{sum_even_num}\") # prints 30, which is the sum of 2 + 4 + 6 + 8 + 10"
   ]
  },
  {
   "cell_type": "markdown",
   "id": "a10e3112",
   "metadata": {},
   "source": [
    "## Write a python code for sum of all the even numbers in the list by using List Comprehension."
   ]
  },
  {
   "cell_type": "code",
   "execution_count": 14,
   "id": "799e6080",
   "metadata": {},
   "outputs": [
    {
     "name": "stdout",
     "output_type": "stream",
     "text": [
      "The sum of all even number in a list:30\n"
     ]
    }
   ],
   "source": [
    "number = [1, 2, 3, 4, 5, 6, 7, 8, 9, 10]\n",
    "\n",
    "even_numbers = [num for num in number if num % 2 == 0] # use list comprehension to filter out even numbers from the list\n",
    "\n",
    "sum_even_numbers = sum(even_numbers)     # use the built-in sum() function to calculate the sum of the filtered even numbers\n",
    "\n",
    "print(f\"The sum of all even number in a list:{sum_even_numbers}\") # prints 30, which is the sum of 2 + 4 + 6 + 8 + 10"
   ]
  },
  {
   "cell_type": "markdown",
   "id": "40276043",
   "metadata": {},
   "source": [
    "## Create a pickle file "
   ]
  },
  {
   "cell_type": "code",
   "execution_count": 15,
   "id": "9d26cfda",
   "metadata": {},
   "outputs": [],
   "source": [
    "import pickle\n",
    "# create a pickle file with the result\n",
    "with open('result.pickle', 'wb') as file:\n",
    "    pickle.dump(result, file)"
   ]
  },
  {
   "cell_type": "markdown",
   "id": "c66e8b62",
   "metadata": {},
   "source": [
    "* Finally, we create a pickle file named result.pickle to store the result of the function call.\n",
    "* We open the file in binary mode using the 'wb' mode flag, \n",
    "* We use the pickle.dump() function to write the result to the file."
   ]
  },
  {
   "cell_type": "code",
   "execution_count": 16,
   "id": "ba668092",
   "metadata": {},
   "outputs": [
    {
     "name": "stdout",
     "output_type": "stream",
     "text": [
      "30\n"
     ]
    }
   ],
   "source": [
    "# read the result from the pickle file\n",
    "with open('result.pickle', 'rb') as file:\n",
    "    result = pickle.load(file)\n",
    "\n",
    "print(result) # prints 30, which is the sum of 2 + 4 + 6 + 8 + 10"
   ]
  },
  {
   "cell_type": "markdown",
   "id": "4821b858",
   "metadata": {},
   "source": [
    "* We open the result.pickle file in binary mode using the 'rb' mode flag.\n",
    "* We use the pickle.load() function to read the result from the file. \n",
    "* The result is then printed, which should be the same as the result obtained from calling the sum_even_numbers function."
   ]
  }
 ],
 "metadata": {
  "kernelspec": {
   "display_name": "Python 3 (ipykernel)",
   "language": "python",
   "name": "python3"
  },
  "language_info": {
   "codemirror_mode": {
    "name": "ipython",
    "version": 3
   },
   "file_extension": ".py",
   "mimetype": "text/x-python",
   "name": "python",
   "nbconvert_exporter": "python",
   "pygments_lexer": "ipython3",
   "version": "3.9.12"
  }
 },
 "nbformat": 4,
 "nbformat_minor": 5
}
