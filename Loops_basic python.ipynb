{
 "cells": [
  {
   "cell_type": "markdown",
   "id": "6e652ebe",
   "metadata": {},
   "source": [
    "### Python does not allow to return anything from init"
   ]
  },
  {
   "cell_type": "code",
   "execution_count": 25,
   "id": "6fdfad3b",
   "metadata": {},
   "outputs": [
    {
     "data": {
      "text/plain": [
       "[1, 4, 9, 16, 25, 36]"
      ]
     },
     "execution_count": 25,
     "metadata": {},
     "output_type": "execute_result"
    }
   ],
   "source": [
    "i = [1,2,3,4,5,6]\n",
    "i1 = []\n",
    "for m in i:\n",
    "    i1.append(m**2)\n",
    "i1"
   ]
  },
  {
   "cell_type": "code",
   "execution_count": 26,
   "id": "91a6dc18",
   "metadata": {},
   "outputs": [
    {
     "name": "stdout",
     "output_type": "stream",
     "text": [
      "12 x 1 = 12\n",
      "12 x 2 = 24\n",
      "12 x 3 = 36\n",
      "12 x 4 = 48\n",
      "12 x 5 = 60\n",
      "12 x 6 = 72\n",
      "12 x 7 = 84\n",
      "12 x 8 = 96\n",
      "12 x 9 = 108\n",
      "12 x 10 = 120\n"
     ]
    }
   ],
   "source": [
    "# Multiplication table (from 1 to 10) in Python\n",
    "\n",
    "num = 12\n",
    "\n",
    "# To take input from the user\n",
    "# num = int(input(\"Display multiplication table of? \"))\n",
    "\n",
    "# Iterate 10 times from i = 1 to 10\n",
    "for i in range(1, 11):\n",
    "    print(num, 'x', i, '=', num*i)"
   ]
  },
  {
   "cell_type": "code",
   "execution_count": 27,
   "id": "d8f563e4",
   "metadata": {},
   "outputs": [
    {
     "name": "stdout",
     "output_type": "stream",
     "text": [
      "Enter the number of which the user wants to print the multiplication table: 17\n",
      "The Multiplication Table of:  17\n",
      "17 x 10 = 17\n",
      "17 x 10 = 34\n",
      "17 x 10 = 51\n",
      "17 x 10 = 68\n",
      "17 x 10 = 85\n",
      "17 x 10 = 102\n",
      "17 x 10 = 119\n",
      "17 x 10 = 136\n",
      "17 x 10 = 153\n",
      "17 x 10 = 170\n"
     ]
    }
   ],
   "source": [
    "number = int(input (\"Enter the number of which the user wants to print the multiplication table: \"))      \n",
    "count = 1    \n",
    "# we are using while loop for iterating the multiplication 10 times      \n",
    "print (\"The Multiplication Table of: \", number)    \n",
    "while count <= 10:    \n",
    "    number = number * 1    \n",
    "    print (number, 'x', i, '=', number * count)    \n",
    "    count += 1    "
   ]
  },
  {
   "cell_type": "code",
   "execution_count": 28,
   "id": "a32beba2",
   "metadata": {},
   "outputs": [
    {
     "name": "stdout",
     "output_type": "stream",
     "text": [
      "1\n",
      "2\n",
      "3\n",
      "4\n",
      "5\n",
      "6\n",
      "7\n",
      "8\n",
      "9\n",
      "10\n"
     ]
    }
   ],
   "source": [
    "i = 1\n",
    "while i<=10:\n",
    "    print(i)\n",
    "    i +=1"
   ]
  },
  {
   "cell_type": "code",
   "execution_count": 29,
   "id": "cea61c69",
   "metadata": {},
   "outputs": [
    {
     "name": "stdout",
     "output_type": "stream",
     "text": [
      "Enter a Num5\n",
      "6\n"
     ]
    }
   ],
   "source": [
    "user = int(input('Enter a Num'))\n",
    "i = 1\n",
    "starting = 0\n",
    "while i <= user:\n",
    "    starting = starting + i\n",
    "    i = i+ 1\n",
    "print(i)"
   ]
  },
  {
   "cell_type": "code",
   "execution_count": 30,
   "id": "4696ba05",
   "metadata": {},
   "outputs": [
    {
     "name": "stdout",
     "output_type": "stream",
     "text": [
      "Enter a number 4\n",
      "end 7\n",
      "4 x 1 = 4\n",
      "4 x 2 = 8\n",
      "4 x 3 = 12\n",
      "4 x 4 = 16\n",
      "4 x 5 = 20\n",
      "4 x 6 = 24\n",
      "4 x 7 = 28\n"
     ]
    }
   ],
   "source": [
    "num = int(input('Enter a number '))\n",
    "end = int(input('end '))\n",
    "i = 1\n",
    "while i <=end:\n",
    "    print(num,'x',i,'=',num*i)\n",
    "    i = i+1"
   ]
  },
  {
   "cell_type": "code",
   "execution_count": 34,
   "id": "445f9ccb",
   "metadata": {},
   "outputs": [
    {
     "name": "stdout",
     "output_type": "stream",
     "text": [
      "Enter a number 5\n",
      "end 5\n"
     ]
    }
   ],
   "source": [
    "num = int(input('Enter a number '))\n",
    "end = int(input('end '))\n",
    "i = 1\n",
    "def table(num,end):\n",
    "    while i <=end:\n",
    "        print(num,'x',i,'=',num*i)\n",
    "    i = i+1"
   ]
  },
  {
   "cell_type": "code",
   "execution_count": 35,
   "id": "9672163a",
   "metadata": {},
   "outputs": [
    {
     "name": "stdout",
     "output_type": "stream",
     "text": [
      "3\n"
     ]
    },
    {
     "data": {
      "text/plain": [
       "6"
      ]
     },
     "execution_count": 35,
     "metadata": {},
     "output_type": "execute_result"
    }
   ],
   "source": [
    "n = int(input(''))\n",
    "starting = 0\n",
    "counter = 1\n",
    "while counter <=n:\n",
    "    starting = starting + counter\n",
    "    counter = counter+1\n",
    "starting"
   ]
  },
  {
   "cell_type": "code",
   "execution_count": 36,
   "id": "bf2c8e4e",
   "metadata": {},
   "outputs": [
    {
     "name": "stdout",
     "output_type": "stream",
     "text": [
      "6\n"
     ]
    },
    {
     "data": {
      "text/plain": [
       "720"
      ]
     },
     "execution_count": 36,
     "metadata": {},
     "output_type": "execute_result"
    }
   ],
   "source": [
    "number = int(input())\n",
    "factorial = 1\n",
    "while number > 0:\n",
    "    factorial = factorial*number\n",
    "    number -=1\n",
    "factorial"
   ]
  },
  {
   "cell_type": "code",
   "execution_count": 37,
   "id": "3cb88c4d",
   "metadata": {},
   "outputs": [
    {
     "ename": "TypeError",
     "evalue": "unsupported operand type(s) for ** or pow(): 'list' and 'int'",
     "output_type": "error",
     "traceback": [
      "\u001b[1;31m---------------------------------------------------------------------------\u001b[0m",
      "\u001b[1;31mTypeError\u001b[0m                                 Traceback (most recent call last)",
      "Cell \u001b[1;32mIn[37], line 5\u001b[0m\n\u001b[0;32m      2\u001b[0m square \u001b[38;5;241m=\u001b[39m []\n\u001b[0;32m      4\u001b[0m \u001b[38;5;28;01mwhile\u001b[39;00m num:\n\u001b[1;32m----> 5\u001b[0m     square\u001b[38;5;241m.\u001b[39mappend(\u001b[43mnum\u001b[49m\u001b[38;5;241;43m*\u001b[39;49m\u001b[38;5;241;43m*\u001b[39;49m\u001b[38;5;241;43m2\u001b[39;49m)\n\u001b[0;32m      6\u001b[0m square\n",
      "\u001b[1;31mTypeError\u001b[0m: unsupported operand type(s) for ** or pow(): 'list' and 'int'"
     ]
    }
   ],
   "source": [
    "num = [1,2,3,4,5]\n",
    "square = []\n",
    "\n",
    "while num:\n",
    "    square.append(num**2)\n",
    "square"
   ]
  },
  {
   "cell_type": "code",
   "execution_count": 38,
   "id": "765afe83",
   "metadata": {},
   "outputs": [
    {
     "data": {
      "text/plain": [
       "[1, 4, 9, 2025, 36, 16, 64, 81]"
      ]
     },
     "execution_count": 38,
     "metadata": {},
     "output_type": "execute_result"
    }
   ],
   "source": [
    "list = [1,2,3,45,6,4,8,9,]\n",
    "[(i**2 ) for i in list]"
   ]
  },
  {
   "cell_type": "code",
   "execution_count": 39,
   "id": "8a29461c",
   "metadata": {},
   "outputs": [],
   "source": [
    "num = [1,2,3,4,5,6]"
   ]
  },
  {
   "cell_type": "code",
   "execution_count": 40,
   "id": "f9f2a9fa",
   "metadata": {},
   "outputs": [
    {
     "data": {
      "text/plain": [
       "[1, 4, 9, 16, 25, 36]"
      ]
     },
     "execution_count": 40,
     "metadata": {},
     "output_type": "execute_result"
    }
   ],
   "source": [
    "[i**2 for i in num]"
   ]
  },
  {
   "cell_type": "code",
   "execution_count": 41,
   "id": "914db1a4",
   "metadata": {},
   "outputs": [
    {
     "data": {
      "text/plain": [
       "[1, 3, 5]"
      ]
     },
     "execution_count": 41,
     "metadata": {},
     "output_type": "execute_result"
    }
   ],
   "source": [
    "[i for i in num if i%2 != 0]"
   ]
  },
  {
   "cell_type": "code",
   "execution_count": 42,
   "id": "f4fb1d2c",
   "metadata": {},
   "outputs": [],
   "source": [
    "ls = ['sunil','zambre','physics','NIT']"
   ]
  },
  {
   "cell_type": "code",
   "execution_count": 43,
   "id": "eb9be001",
   "metadata": {},
   "outputs": [
    {
     "data": {
      "text/plain": [
       "['SUNIL', 'ZAMBRE', 'PHYSICS', 'NIT']"
      ]
     },
     "execution_count": 43,
     "metadata": {},
     "output_type": "execute_result"
    }
   ],
   "source": [
    "[i.upper() for i in ls]"
   ]
  },
  {
   "cell_type": "code",
   "execution_count": 44,
   "id": "b982728a",
   "metadata": {},
   "outputs": [
    {
     "data": {
      "text/plain": [
       "['SUNIL', 'ZAMBRE', 'PHYSICS', 'NIT']"
      ]
     },
     "execution_count": 44,
     "metadata": {},
     "output_type": "execute_result"
    }
   ],
   "source": [
    "upper = []\n",
    "for i in ls:\n",
    "    upper.append(i.upper())\n",
    "upper"
   ]
  },
  {
   "cell_type": "code",
   "execution_count": 46,
   "id": "7a8d3734",
   "metadata": {},
   "outputs": [],
   "source": [
    "#Dictionary Comprehension\n",
    "dic = {'key1':1,'key2':2,'key3':3}"
   ]
  },
  {
   "cell_type": "code",
   "execution_count": 47,
   "id": "bad3d24c",
   "metadata": {},
   "outputs": [
    {
     "data": {
      "text/plain": [
       "dict_items([('key1', 1), ('key2', 2), ('key3', 3)])"
      ]
     },
     "execution_count": 47,
     "metadata": {},
     "output_type": "execute_result"
    }
   ],
   "source": [
    "dic.items()"
   ]
  },
  {
   "cell_type": "code",
   "execution_count": 48,
   "id": "d8ced92b",
   "metadata": {},
   "outputs": [
    {
     "data": {
      "text/plain": [
       "['key1', 1, 'key2', 4, 'key3', 9]"
      ]
     },
     "execution_count": 48,
     "metadata": {},
     "output_type": "execute_result"
    }
   ],
   "source": [
    "sq = []\n",
    "for k,v in dic.items():\n",
    "    sq.append(k)\n",
    "    sq.append(v**2)\n",
    "sq"
   ]
  },
  {
   "cell_type": "code",
   "execution_count": 49,
   "id": "98646a83",
   "metadata": {},
   "outputs": [
    {
     "data": {
      "text/plain": [
       "[('key1', 1), ('key2', 4), ('key3', 9)]"
      ]
     },
     "execution_count": 49,
     "metadata": {},
     "output_type": "execute_result"
    }
   ],
   "source": [
    "[(k,v**2) for k,v in dic.items()]"
   ]
  },
  {
   "cell_type": "code",
   "execution_count": 50,
   "id": "960c650f",
   "metadata": {},
   "outputs": [
    {
     "data": {
      "text/plain": [
       "<generator object <genexpr> at 0x000001D1A687A0B0>"
      ]
     },
     "execution_count": 50,
     "metadata": {},
     "output_type": "execute_result"
    }
   ],
   "source": [
    "((k,v**2) for k,v in dic.items())"
   ]
  },
  {
   "cell_type": "code",
   "execution_count": 51,
   "id": "4cdfd105",
   "metadata": {},
   "outputs": [
    {
     "data": {
      "text/plain": [
       "dict_items([('key1', 1), ('key2', 2), ('key3', 3)])"
      ]
     },
     "execution_count": 51,
     "metadata": {},
     "output_type": "execute_result"
    }
   ],
   "source": [
    "dic.items()"
   ]
  }
 ],
 "metadata": {
  "kernelspec": {
   "display_name": "Python 3 (ipykernel)",
   "language": "python",
   "name": "python3"
  },
  "language_info": {
   "codemirror_mode": {
    "name": "ipython",
    "version": 3
   },
   "file_extension": ".py",
   "mimetype": "text/x-python",
   "name": "python",
   "nbconvert_exporter": "python",
   "pygments_lexer": "ipython3",
   "version": "3.9.12"
  }
 },
 "nbformat": 4,
 "nbformat_minor": 5
}
