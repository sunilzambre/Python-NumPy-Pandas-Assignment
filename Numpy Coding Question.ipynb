{
 "cells": [
  {
   "cell_type": "markdown",
   "id": "79130c87",
   "metadata": {},
   "source": [
    "#### Write a program to convert a string element to uppercase, lowercase, capitalise the first letter, title-case and swapcase of a given NumPy array."
   ]
  },
  {
   "cell_type": "code",
   "execution_count": 1,
   "id": "9302fb9e",
   "metadata": {},
   "outputs": [],
   "source": [
    "import numpy as np"
   ]
  },
  {
   "cell_type": "code",
   "execution_count": 2,
   "id": "7bac1729",
   "metadata": {},
   "outputs": [
    {
     "name": "stdout",
     "output_type": "stream",
     "text": [
      "['I' 'AM' 'LEARNING' 'PYTHON' 'NUMPY' 'LIBRARY']\n",
      "['i' 'am' 'learning' 'python' 'numpy' 'library']\n",
      "['I' 'Am' 'Learning' 'Python' 'Numpy' 'Library']\n",
      "['i' 'AM' 'lEARNING' 'python' 'nUMpY' 'lIBRARY']\n",
      "['I' 'Am' 'Learning' 'Python' 'Numpy' 'Library']\n"
     ]
    }
   ],
   "source": [
    "arr=np.array(['I','am','Learning','PYTHON','NumPy','Library'],dtype=str)\n",
    "upper_case=np.char.upper(arr)\n",
    "lower_case=np.char.lower(arr)\n",
    "capital_case=np.char.capitalize(arr)\n",
    "swap_case=np.char.swapcase(arr)\n",
    "title_case=np.char.title(arr)\n",
    "print(upper_case)\n",
    "print(lower_case)\n",
    "print(capital_case)\n",
    "print(swap_case)\n",
    "print(title_case)"
   ]
  },
  {
   "cell_type": "markdown",
   "id": "6757c25f",
   "metadata": {},
   "source": [
    "#### Write a program to transform elements of a given string to a numeric string of 10 digits by making all the elements of a given string to a numeric string of 8 digits with zeros on the left."
   ]
  },
  {
   "cell_type": "code",
   "execution_count": 3,
   "id": "432ed39f",
   "metadata": {},
   "outputs": [
    {
     "name": "stdout",
     "output_type": "stream",
     "text": [
      "['00000023' '00000007' '00001234' '00000411' '00091432']\n"
     ]
    }
   ],
   "source": [
    "arr1=np.array(['23','7','1234','411','91432'],dtype=str)\n",
    "zero_fill=np.char.zfill(arr1,8)\n",
    "print(zero_fill)"
   ]
  },
  {
   "cell_type": "markdown",
   "id": "ced3c1d6",
   "metadata": {},
   "source": [
    "#### Write a program for inserting space between characters of all elements in a NumPy array."
   ]
  },
  {
   "cell_type": "code",
   "execution_count": 4,
   "id": "0114e044",
   "metadata": {},
   "outputs": [
    {
     "name": "stdout",
     "output_type": "stream",
     "text": [
      "['I' 'L e a r n' 'P y t h o n' 'A n d' 'N u m P y']\n"
     ]
    }
   ],
   "source": [
    "arr2=np.array(['I','Learn','Python','And',\"NumPy\"])\n",
    "insert_space=np.char.join(\" \",arr2)\n",
    "print(insert_space)"
   ]
  },
  {
   "cell_type": "markdown",
   "id": "d65c42c6",
   "metadata": {},
   "source": [
    "#### Write a program to repeat each of the elements five times for a given array."
   ]
  },
  {
   "cell_type": "code",
   "execution_count": 5,
   "id": "701a9698",
   "metadata": {},
   "outputs": [
    {
     "name": "stdout",
     "output_type": "stream",
     "text": [
      "['NumpyNumpyNumpyNumpyNumpy' 'LibraryLibraryLibraryLibraryLibrary'\n",
      " 'isisisisis' 'EasyEasyEasyEasyEasy']\n"
     ]
    }
   ],
   "source": [
    "arr3=np.array(['Numpy','Library','is','Easy'],dtype=str)\n",
    "repeat=np.char.multiply(arr3,5)\n",
    "print(repeat)"
   ]
  },
  {
   "cell_type": "markdown",
   "id": "e5473a7d",
   "metadata": {},
   "source": [
    "#### Write a program for creating an integer array with values belonging to the range 10 and 60"
   ]
  },
  {
   "cell_type": "code",
   "execution_count": 6,
   "id": "9ddb645b",
   "metadata": {},
   "outputs": [
    {
     "name": "stdout",
     "output_type": "stream",
     "text": [
      "[10 11 12 13 14 15 16 17 18 19 20 21 22 23 24 25 26 27 28 29 30 31 32 33\n",
      " 34 35 36 37 38 39 40 41 42 43 44 45 46 47 48 49 50 51 52 53 54 55 56 57\n",
      " 58 59]\n"
     ]
    }
   ],
   "source": [
    "arr4=np.arange(10,60)\n",
    "print(arr4)"
   ]
  },
  {
   "cell_type": "markdown",
   "id": "982c33cf",
   "metadata": {},
   "source": [
    "#### Write a program to add a border of zeros around the existing array."
   ]
  },
  {
   "cell_type": "code",
   "execution_count": 7,
   "id": "8630d7be",
   "metadata": {},
   "outputs": [
    {
     "name": "stdout",
     "output_type": "stream",
     "text": [
      "[[0. 0. 0. 0. 0. 0.]\n",
      " [0. 1. 1. 1. 1. 0.]\n",
      " [0. 1. 1. 1. 1. 0.]\n",
      " [0. 1. 1. 1. 1. 0.]\n",
      " [0. 1. 1. 1. 1. 0.]\n",
      " [0. 0. 0. 0. 0. 0.]]\n"
     ]
    }
   ],
   "source": [
    "import numpy as np\n",
    "one_arr=np.ones((4,4))\n",
    "\n",
    "z_round=np.pad(one_arr,pad_width=1,mode='constant', constant_values=0)\n",
    "  \n",
    "print(z_round)           "
   ]
  },
  {
   "cell_type": "markdown",
   "id": "4ecbb401",
   "metadata": {},
   "source": [
    "#### Write a program for changing the dimension of a NumPy array."
   ]
  },
  {
   "cell_type": "code",
   "execution_count": 8,
   "id": "10f30a06",
   "metadata": {},
   "outputs": [
    {
     "name": "stdout",
     "output_type": "stream",
     "text": [
      "original shape (9,)\n",
      "--------------------\n",
      "Transformed matrix \n",
      " [[1 2 3]\n",
      " [4 5 6]\n",
      " [7 8 9]]\n",
      "Change dimension (3, 3)\n"
     ]
    }
   ],
   "source": [
    "arr5=np.array([1,2,3,4,5,6,7,8,9])\n",
    "print(\"original shape\",arr5.shape)\n",
    "print(\"-\"*20)\n",
    "arr5.shape=(3,3)\n",
    "print(\"Transformed matrix \\n\",arr5)\n",
    "print(\"Change dimension\",arr5.shape)"
   ]
  },
  {
   "cell_type": "markdown",
   "id": "0306bfa2",
   "metadata": {},
   "source": [
    "#### Write a program for interchanging two axes of the NumPy array."
   ]
  },
  {
   "cell_type": "code",
   "execution_count": 9,
   "id": "b17736a0",
   "metadata": {},
   "outputs": [
    {
     "name": "stdout",
     "output_type": "stream",
     "text": [
      "Original array [[1 2 3]]\n",
      "After swapping\n",
      " [[1]\n",
      " [2]\n",
      " [3]]\n"
     ]
    }
   ],
   "source": [
    "arr6=np.array([[1,2,3]])\n",
    "print(\"Original array\",arr6)\n",
    "axis_swap=np.swapaxes(arr6,0,1)\n",
    "print(\"After swapping\\n\",axis_swap)"
   ]
  }
 ],
 "metadata": {
  "kernelspec": {
   "display_name": "Python 3 (ipykernel)",
   "language": "python",
   "name": "python3"
  },
  "language_info": {
   "codemirror_mode": {
    "name": "ipython",
    "version": 3
   },
   "file_extension": ".py",
   "mimetype": "text/x-python",
   "name": "python",
   "nbconvert_exporter": "python",
   "pygments_lexer": "ipython3",
   "version": "3.9.12"
  }
 },
 "nbformat": 4,
 "nbformat_minor": 5
}
