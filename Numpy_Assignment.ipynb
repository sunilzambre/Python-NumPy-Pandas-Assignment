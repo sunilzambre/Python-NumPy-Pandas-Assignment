{
 "cells": [
  {
   "cell_type": "markdown",
   "id": "4c5e3fce",
   "metadata": {},
   "source": [
    "# NumPy \n",
    "NumPy is a Python library used for scientific computing and data analysis. It provides a powerful array object that allows you to efficiently work with large, multi-dimensional arrays and matrices of numerical data. \n",
    "\n",
    "NumPy array object is much more efficient than Python's built-in list object when it comes to handling large datasets, as it is implemented in C and provides vectorized operations that can be executed on the entire array at once, rather than iterating over each element one by one. \n",
    "\n",
    "NumPy also provides a wide range of mathematical functions that can be applied to arrays, such as trigonometric, logarithmic, and exponential functions, as well as tools for linear algebra, Fourier analysis, and random number generation. \n",
    "\n",
    "NumPy is an essential library for data scientists and scientific computing professionals, as it enables fast and efficient computation on large datasets in Python."
   ]
  },
  {
   "cell_type": "markdown",
   "id": "c7770058",
   "metadata": {},
   "source": [
    "**(1) we can only represet 1D,2D and 3D array.** <br>\n",
    "**(2) To know dimentions of array we use array.ndim** <br>\n",
    "**(3) array.size gives the number of elements,size gives the number of rows and columns** <br>\n",
    "**(4) To produce numbers in floating values is not possible from range() function so we use np.arange()to do so** <br>\n",
    "**(5) I can easily do arithmetic operations with arrays slicing works like - array[row_start:row_end,column]** <br>\n",
    "**(6) To do matrix multipication we use @ like - array1@array2** <br>\n",
    "**(7) we cannot transpose single dimentional array** <br>\n",
    "**(8) To convert a two dimentional array into one dimentional array.flatten() function is used.** <br>\n",
    "**(9) To convert an one dimentional array into two dimentional array , np.expand_dims function is used** <br>\n",
    "**(10) In numpy for string there everything is available in np.char.any_function this function**"
   ]
  },
  {
   "cell_type": "code",
   "execution_count": 1,
   "id": "470e9ee6",
   "metadata": {},
   "outputs": [],
   "source": [
    "import numpy as np"
   ]
  },
  {
   "cell_type": "code",
   "execution_count": 2,
   "id": "4176ae09",
   "metadata": {},
   "outputs": [],
   "source": [
    "ar = [1,2,3,4,5]"
   ]
  },
  {
   "cell_type": "code",
   "execution_count": 3,
   "id": "988c6aa3",
   "metadata": {},
   "outputs": [
    {
     "data": {
      "text/plain": [
       "[1, 2, 3, 4, 5]"
      ]
     },
     "execution_count": 3,
     "metadata": {},
     "output_type": "execute_result"
    }
   ],
   "source": [
    "ar"
   ]
  },
  {
   "cell_type": "code",
   "execution_count": 4,
   "id": "0d724580",
   "metadata": {},
   "outputs": [
    {
     "data": {
      "text/plain": [
       "array([1, 2, 3, 4, 5])"
      ]
     },
     "execution_count": 4,
     "metadata": {},
     "output_type": "execute_result"
    }
   ],
   "source": [
    "#array Syntax : np.array()\n",
    "np.array(ar)"
   ]
  },
  {
   "cell_type": "code",
   "execution_count": 5,
   "id": "c92b22aa",
   "metadata": {},
   "outputs": [
    {
     "data": {
      "text/plain": [
       "array([[1, 2, 3, 4, 5],\n",
       "       [6, 7, 8, 4, 5]])"
      ]
     },
     "execution_count": 5,
     "metadata": {},
     "output_type": "execute_result"
    }
   ],
   "source": [
    "np.array([ar,[6,7,8,4,5]])"
   ]
  },
  {
   "cell_type": "code",
   "execution_count": 6,
   "id": "0210beb3",
   "metadata": {},
   "outputs": [
    {
     "name": "stdout",
     "output_type": "stream",
     "text": [
      "<class 'list'>\n"
     ]
    }
   ],
   "source": [
    "print(type(ar))"
   ]
  },
  {
   "cell_type": "code",
   "execution_count": 7,
   "id": "9da4cd1d",
   "metadata": {},
   "outputs": [
    {
     "name": "stdout",
     "output_type": "stream",
     "text": [
      "<class 'numpy.ndarray'>\n"
     ]
    }
   ],
   "source": [
    "# now we convert ar to array\n",
    "asarry = np.asanyarray(ar)\n",
    "print(type(asarry))"
   ]
  },
  {
   "cell_type": "markdown",
   "id": "6db65951",
   "metadata": {},
   "source": [
    "## matrix is a subset of array."
   ]
  },
  {
   "cell_type": "code",
   "execution_count": 8,
   "id": "9ec4d875",
   "metadata": {},
   "outputs": [
    {
     "data": {
      "text/plain": [
       "matrix([[1, 2, 3, 4, 5]])"
      ]
     },
     "execution_count": 8,
     "metadata": {},
     "output_type": "execute_result"
    }
   ],
   "source": [
    "matrix = np.matrix(ar)\n",
    "matrix                  # matrix is by default is two dimentional"
   ]
  },
  {
   "cell_type": "code",
   "execution_count": 9,
   "id": "fe694b50",
   "metadata": {},
   "outputs": [
    {
     "data": {
      "text/plain": [
       "matrix([[1, 2, 3, 4, 5]])"
      ]
     },
     "execution_count": 9,
     "metadata": {},
     "output_type": "execute_result"
    }
   ],
   "source": [
    "#Convert matrix to array\n",
    "np.asanyarray(matrix)      # this is not converted to array because matrix is already subset of array"
   ]
  },
  {
   "cell_type": "code",
   "execution_count": 10,
   "id": "e2204101",
   "metadata": {},
   "outputs": [
    {
     "name": "stdout",
     "output_type": "stream",
     "text": [
      "[[ True False False]\n",
      " [False  True False]\n",
      " [False False  True]]\n"
     ]
    },
    {
     "data": {
      "text/plain": [
       "array([[ 0,  1,  2,  3,  4],\n",
       "       [ 1,  2,  3,  4,  5],\n",
       "       [ 2,  3,  4,  5,  6],\n",
       "       [ 3,  4,  5,  6,  7],\n",
       "       [ 4,  5,  6,  7,  8],\n",
       "       [ 5,  6,  7,  8,  9],\n",
       "       [ 6,  7,  8,  9, 10],\n",
       "       [ 7,  8,  9, 10, 11],\n",
       "       [ 8,  9, 10, 11, 12],\n",
       "       [ 9, 10, 11, 12, 13]])"
      ]
     },
     "execution_count": 10,
     "metadata": {},
     "output_type": "execute_result"
    }
   ],
   "source": [
    "# to produce array we use some type of functions like....\n",
    "def fromfunction(i,j):\n",
    "    return i == j\n",
    "print(np.fromfunction(fromfunction,(3,3)))\n",
    "\n",
    "def fromfunction1(i,j):\n",
    "    return i+j\n",
    "np.fromfunction(fromfunction1,(10,5),dtype=int)\n"
   ]
  },
  {
   "cell_type": "code",
   "execution_count": 11,
   "id": "a3af0c9b",
   "metadata": {},
   "outputs": [
    {
     "data": {
      "text/plain": [
       "array([5., 6., 7., 8., 9.])"
      ]
     },
     "execution_count": 11,
     "metadata": {},
     "output_type": "execute_result"
    }
   ],
   "source": [
    "np.fromiter((i for i in range(5,10)),dtype=float)"
   ]
  },
  {
   "cell_type": "code",
   "execution_count": 12,
   "id": "2aec0b8e",
   "metadata": {},
   "outputs": [
    {
     "data": {
      "text/plain": [
       "array([  3.,   4.,   3., 445.,  65., 333.,  22.,  -1.])"
      ]
     },
     "execution_count": 12,
     "metadata": {},
     "output_type": "execute_result"
    }
   ],
   "source": [
    "np.fromstring('3,4,3,445,65,333,22, ',sep=',')"
   ]
  },
  {
   "cell_type": "markdown",
   "id": "7221ea22",
   "metadata": {},
   "source": [
    "# Data types"
   ]
  },
  {
   "cell_type": "code",
   "execution_count": 13,
   "id": "d1707e25",
   "metadata": {},
   "outputs": [
    {
     "name": "stdout",
     "output_type": "stream",
     "text": [
      "Dimension 1\n",
      "Size 5\n"
     ]
    },
    {
     "data": {
      "text/plain": [
       "array([1, 2, 3, 4, 5])"
      ]
     },
     "execution_count": 13,
     "metadata": {},
     "output_type": "execute_result"
    }
   ],
   "source": [
    "# this is one dimentional\n",
    "lst = [1,2,3,4,5]\n",
    "arr = np.array(lst)\n",
    "print(\"Dimension\",arr.ndim)\n",
    "print(\"Size\",arr.size)\n",
    "arr"
   ]
  },
  {
   "cell_type": "code",
   "execution_count": 14,
   "id": "5a9ae98f",
   "metadata": {},
   "outputs": [
    {
     "name": "stdout",
     "output_type": "stream",
     "text": [
      "2D Array Dimension: 2\n",
      "2D Array Size 10\n",
      "2D Array Shape: (2, 5)\n"
     ]
    },
    {
     "data": {
      "text/plain": [
       "array([[1, 2, 3, 4, 5],\n",
       "       [1, 2, 3, 4, 5]])"
      ]
     },
     "execution_count": 14,
     "metadata": {},
     "output_type": "execute_result"
    }
   ],
   "source": [
    "# this is two dimentional\n",
    "lst2D = [[1,2,3,4,5],[1,2,3,4,5]]\n",
    "arr2D = np.array(lst2D)\n",
    "print(\"2D Array Dimension:\",arr2D.ndim)\n",
    "print(\"2D Array Size\",arr2D.size)\n",
    "print(\"2D Array Shape:\",arr2D.shape)\n",
    "arr2D"
   ]
  },
  {
   "cell_type": "markdown",
   "id": "a78ae52a",
   "metadata": {},
   "source": [
    "### To produce numbers in floating values is not possible from range() function so we use np.arange to do so."
   ]
  },
  {
   "cell_type": "code",
   "execution_count": 15,
   "id": "82e485fa",
   "metadata": {},
   "outputs": [
    {
     "data": {
      "text/plain": [
       "array([0.3, 1.3, 2.3, 3.3, 4.3, 5.3, 6.3, 7.3, 8.3, 9.3])"
      ]
     },
     "execution_count": 15,
     "metadata": {},
     "output_type": "execute_result"
    }
   ],
   "source": [
    "(np.arange(0.3,9.6))"
   ]
  },
  {
   "cell_type": "code",
   "execution_count": 16,
   "id": "3923571e",
   "metadata": {},
   "outputs": [
    {
     "data": {
      "text/plain": [
       "array([0.5, 1.5, 2.5, 3.5, 4.5, 5.5, 6.5, 7.5, 8.5, 9.5])"
      ]
     },
     "execution_count": 16,
     "metadata": {},
     "output_type": "execute_result"
    }
   ],
   "source": [
    "(np.arange(0.5,10.5))"
   ]
  },
  {
   "cell_type": "code",
   "execution_count": 17,
   "id": "cc235f79",
   "metadata": {},
   "outputs": [
    {
     "data": {
      "text/plain": [
       "array([0.3, 0.7, 1.1, 1.5, 1.9, 2.3, 2.7, 3.1, 3.5, 3.9, 4.3, 4.7, 5.1,\n",
       "       5.5, 5.9, 6.3, 6.7, 7.1, 7.5, 7.9, 8.3, 8.7, 9.1, 9.5, 9.9])"
      ]
     },
     "execution_count": 17,
     "metadata": {},
     "output_type": "execute_result"
    }
   ],
   "source": [
    "# to jump \n",
    "np.arange(0.3,10.3,.4)"
   ]
  },
  {
   "cell_type": "code",
   "execution_count": 18,
   "id": "0ae896be",
   "metadata": {},
   "outputs": [
    {
     "data": {
      "text/plain": [
       "array([ 0.5,  0.7,  0.9,  1.1,  1.3,  1.5,  1.7,  1.9,  2.1,  2.3,  2.5,\n",
       "        2.7,  2.9,  3.1,  3.3,  3.5,  3.7,  3.9,  4.1,  4.3,  4.5,  4.7,\n",
       "        4.9,  5.1,  5.3,  5.5,  5.7,  5.9,  6.1,  6.3,  6.5,  6.7,  6.9,\n",
       "        7.1,  7.3,  7.5,  7.7,  7.9,  8.1,  8.3,  8.5,  8.7,  8.9,  9.1,\n",
       "        9.3,  9.5,  9.7,  9.9, 10.1, 10.3])"
      ]
     },
     "execution_count": 18,
     "metadata": {},
     "output_type": "execute_result"
    }
   ],
   "source": [
    "# to jump \n",
    "np.arange(0.5,10.5,.2)"
   ]
  },
  {
   "cell_type": "markdown",
   "id": "5babc5f5",
   "metadata": {},
   "source": [
    "## linSpace function"
   ]
  },
  {
   "cell_type": "code",
   "execution_count": 19,
   "id": "f970655b",
   "metadata": {},
   "outputs": [
    {
     "data": {
      "text/plain": [
       "array([ 1.        ,  1.19191919,  1.38383838,  1.57575758,  1.76767677,\n",
       "        1.95959596,  2.15151515,  2.34343434,  2.53535354,  2.72727273,\n",
       "        2.91919192,  3.11111111,  3.3030303 ,  3.49494949,  3.68686869,\n",
       "        3.87878788,  4.07070707,  4.26262626,  4.45454545,  4.64646465,\n",
       "        4.83838384,  5.03030303,  5.22222222,  5.41414141,  5.60606061,\n",
       "        5.7979798 ,  5.98989899,  6.18181818,  6.37373737,  6.56565657,\n",
       "        6.75757576,  6.94949495,  7.14141414,  7.33333333,  7.52525253,\n",
       "        7.71717172,  7.90909091,  8.1010101 ,  8.29292929,  8.48484848,\n",
       "        8.67676768,  8.86868687,  9.06060606,  9.25252525,  9.44444444,\n",
       "        9.63636364,  9.82828283, 10.02020202, 10.21212121, 10.4040404 ,\n",
       "       10.5959596 , 10.78787879, 10.97979798, 11.17171717, 11.36363636,\n",
       "       11.55555556, 11.74747475, 11.93939394, 12.13131313, 12.32323232,\n",
       "       12.51515152, 12.70707071, 12.8989899 , 13.09090909, 13.28282828,\n",
       "       13.47474747, 13.66666667, 13.85858586, 14.05050505, 14.24242424,\n",
       "       14.43434343, 14.62626263, 14.81818182, 15.01010101, 15.2020202 ,\n",
       "       15.39393939, 15.58585859, 15.77777778, 15.96969697, 16.16161616,\n",
       "       16.35353535, 16.54545455, 16.73737374, 16.92929293, 17.12121212,\n",
       "       17.31313131, 17.50505051, 17.6969697 , 17.88888889, 18.08080808,\n",
       "       18.27272727, 18.46464646, 18.65656566, 18.84848485, 19.04040404,\n",
       "       19.23232323, 19.42424242, 19.61616162, 19.80808081, 20.        ])"
      ]
     },
     "execution_count": 19,
     "metadata": {},
     "output_type": "execute_result"
    }
   ],
   "source": [
    "np.linspace(1,20,100)"
   ]
  },
  {
   "cell_type": "markdown",
   "id": "150dea2d",
   "metadata": {},
   "source": [
    "## zeros function"
   ]
  },
  {
   "cell_type": "code",
   "execution_count": 20,
   "id": "27422c34",
   "metadata": {},
   "outputs": [
    {
     "data": {
      "text/plain": [
       "array([0., 0., 0., 0., 0.])"
      ]
     },
     "execution_count": 20,
     "metadata": {},
     "output_type": "execute_result"
    }
   ],
   "source": [
    "np.zeros(5)"
   ]
  },
  {
   "cell_type": "code",
   "execution_count": 21,
   "id": "9233ff0a",
   "metadata": {},
   "outputs": [
    {
     "name": "stdout",
     "output_type": "stream",
     "text": [
      "(10, 30)\n"
     ]
    },
    {
     "data": {
      "text/plain": [
       "array([[0., 0., 0., 0., 0., 0., 0., 0., 0., 0., 0., 0., 0., 0., 0., 0.,\n",
       "        0., 0., 0., 0., 0., 0., 0., 0., 0., 0., 0., 0., 0., 0.],\n",
       "       [0., 0., 0., 0., 0., 0., 0., 0., 0., 0., 0., 0., 0., 0., 0., 0.,\n",
       "        0., 0., 0., 0., 0., 0., 0., 0., 0., 0., 0., 0., 0., 0.],\n",
       "       [0., 0., 0., 0., 0., 0., 0., 0., 0., 0., 0., 0., 0., 0., 0., 0.,\n",
       "        0., 0., 0., 0., 0., 0., 0., 0., 0., 0., 0., 0., 0., 0.],\n",
       "       [0., 0., 0., 0., 0., 0., 0., 0., 0., 0., 0., 0., 0., 0., 0., 0.,\n",
       "        0., 0., 0., 0., 0., 0., 0., 0., 0., 0., 0., 0., 0., 0.],\n",
       "       [0., 0., 0., 0., 0., 0., 0., 0., 0., 0., 0., 0., 0., 0., 0., 0.,\n",
       "        0., 0., 0., 0., 0., 0., 0., 0., 0., 0., 0., 0., 0., 0.],\n",
       "       [0., 0., 0., 0., 0., 0., 0., 0., 0., 0., 0., 0., 0., 0., 0., 0.,\n",
       "        0., 0., 0., 0., 0., 0., 0., 0., 0., 0., 0., 0., 0., 0.],\n",
       "       [0., 0., 0., 0., 0., 0., 0., 0., 0., 0., 0., 0., 0., 0., 0., 0.,\n",
       "        0., 0., 0., 0., 0., 0., 0., 0., 0., 0., 0., 0., 0., 0.],\n",
       "       [0., 0., 0., 0., 0., 0., 0., 0., 0., 0., 0., 0., 0., 0., 0., 0.,\n",
       "        0., 0., 0., 0., 0., 0., 0., 0., 0., 0., 0., 0., 0., 0.],\n",
       "       [0., 0., 0., 0., 0., 0., 0., 0., 0., 0., 0., 0., 0., 0., 0., 0.,\n",
       "        0., 0., 0., 0., 0., 0., 0., 0., 0., 0., 0., 0., 0., 0.],\n",
       "       [0., 0., 0., 0., 0., 0., 0., 0., 0., 0., 0., 0., 0., 0., 0., 0.,\n",
       "        0., 0., 0., 0., 0., 0., 0., 0., 0., 0., 0., 0., 0., 0.]])"
      ]
     },
     "execution_count": 21,
     "metadata": {},
     "output_type": "execute_result"
    }
   ],
   "source": [
    "zero= np.zeros((10,30))    # here are 10 rows and 30 columns\n",
    "print(zero.shape)\n",
    "zero"
   ]
  },
  {
   "cell_type": "code",
   "execution_count": 22,
   "id": "880c9e26",
   "metadata": {},
   "outputs": [
    {
     "name": "stdout",
     "output_type": "stream",
     "text": [
      "Shape: (10, 30)\n",
      "Dimension: 3\n"
     ]
    },
    {
     "data": {
      "text/plain": [
       "array([[[0., 0., 0., 0.],\n",
       "        [0., 0., 0., 0.],\n",
       "        [0., 0., 0., 0.]],\n",
       "\n",
       "       [[0., 0., 0., 0.],\n",
       "        [0., 0., 0., 0.],\n",
       "        [0., 0., 0., 0.]],\n",
       "\n",
       "       [[0., 0., 0., 0.],\n",
       "        [0., 0., 0., 0.],\n",
       "        [0., 0., 0., 0.]]])"
      ]
     },
     "execution_count": 22,
     "metadata": {},
     "output_type": "execute_result"
    }
   ],
   "source": [
    "zeros= np.zeros((3,3,4))   # here are 3 matrixs or arrays of 3 rows and 4 columns\n",
    "print(\"Shape:\",zero.shape)\n",
    "print(\"Dimension:\",zeros.ndim)\n",
    "zeros"
   ]
  },
  {
   "cell_type": "markdown",
   "id": "069fb772",
   "metadata": {},
   "source": [
    "## ones function"
   ]
  },
  {
   "cell_type": "code",
   "execution_count": 23,
   "id": "60165808",
   "metadata": {},
   "outputs": [
    {
     "data": {
      "text/plain": [
       "array([1., 1., 1., 1., 1.])"
      ]
     },
     "execution_count": 23,
     "metadata": {},
     "output_type": "execute_result"
    }
   ],
   "source": [
    "# one dimentional ones array or matrix\n",
    "np.ones(5)"
   ]
  },
  {
   "cell_type": "code",
   "execution_count": 24,
   "id": "59a8e929",
   "metadata": {},
   "outputs": [
    {
     "data": {
      "text/plain": [
       "array([[1., 1., 1.],\n",
       "       [1., 1., 1.]])"
      ]
     },
     "execution_count": 24,
     "metadata": {},
     "output_type": "execute_result"
    }
   ],
   "source": [
    "# two dimentional ones array or matrix\n",
    "np.ones((2,3))"
   ]
  },
  {
   "cell_type": "code",
   "execution_count": 25,
   "id": "2189c5dc",
   "metadata": {},
   "outputs": [
    {
     "data": {
      "text/plain": [
       "array([[[1., 1., 1., 1.],\n",
       "        [1., 1., 1., 1.],\n",
       "        [1., 1., 1., 1.]],\n",
       "\n",
       "       [[1., 1., 1., 1.],\n",
       "        [1., 1., 1., 1.],\n",
       "        [1., 1., 1., 1.]]])"
      ]
     },
     "execution_count": 25,
     "metadata": {},
     "output_type": "execute_result"
    }
   ],
   "source": [
    "# three dimentional ones array or matrix\n",
    "np.ones((2,3,4))"
   ]
  },
  {
   "cell_type": "code",
   "execution_count": 26,
   "id": "f8861faf",
   "metadata": {},
   "outputs": [
    {
     "data": {
      "text/plain": [
       "array([[[19., 19., 19., 19.],\n",
       "        [19., 19., 19., 19.],\n",
       "        [19., 19., 19., 19.],\n",
       "        [19., 19., 19., 19.]],\n",
       "\n",
       "       [[19., 19., 19., 19.],\n",
       "        [19., 19., 19., 19.],\n",
       "        [19., 19., 19., 19.],\n",
       "        [19., 19., 19., 19.]]])"
      ]
     },
     "execution_count": 26,
     "metadata": {},
     "output_type": "execute_result"
    }
   ],
   "source": [
    "# Wec can easily do arithmetic operations with arrays \n",
    "np.ones((2,4,4))* 3 + 32/2"
   ]
  },
  {
   "cell_type": "markdown",
   "id": "0b05f423",
   "metadata": {},
   "source": [
    "# empty function"
   ]
  },
  {
   "cell_type": "code",
   "execution_count": 27,
   "id": "303db1a5",
   "metadata": {},
   "outputs": [
    {
     "data": {
      "text/plain": [
       "array([[1.37051133e-311, 1.37047758e-311, 0.00000000e+000,\n",
       "        0.00000000e+000, 0.00000000e+000, 1.15998412e-028,\n",
       "        4.31603868e-080],\n",
       "       [1.94919985e-153, 1.35717430e+131, 6.96320218e-077,\n",
       "        2.90699771e-033, 1.05133185e-153, 4.56340414e-072,\n",
       "        6.76925730e-043],\n",
       "       [1.05249722e-153, 2.99067252e-067, 1.57629445e-052,\n",
       "        6.01347002e-154, 1.05220588e-153, 1.95996720e-062,\n",
       "        3.67057129e-062],\n",
       "       [1.05191454e-153, 1.95996719e-062, 8.54732020e-072,\n",
       "        1.05162320e-153, 1.28448408e-057, 6.01391519e-154,\n",
       "        2.90850235e-033],\n",
       "       [1.05133186e-153, 8.41799484e-053, 6.77276055e-043,\n",
       "        1.05249723e-153, 5.51681706e-048, 1.57711011e-052,\n",
       "        1.05220589e-153],\n",
       "       [1.81148477e-152, 3.61545994e-043, 3.67247041e-062,\n",
       "        1.05191455e-153, 3.61550131e-043, 8.55174191e-072,\n",
       "        1.05162321e-153],\n",
       "       [2.36945492e-038, 2.91000698e-033, 1.02455592e+136,\n",
       "        6.01347002e-154, 1.55284596e-033, 6.77626379e-043,\n",
       "        1.05249724e-153],\n",
       "       [1.47900210e-076, 1.06239598e-153, 3.98472821e+252,\n",
       "        1.06244660e-153, 9.78750380e+199, 6.97843734e+252,\n",
       "        6.70272993e-260]])"
      ]
     },
     "execution_count": 27,
     "metadata": {},
     "output_type": "execute_result"
    }
   ],
   "source": [
    "np.empty((8,7))   # these are less values"
   ]
  },
  {
   "cell_type": "markdown",
   "id": "9c00b93c",
   "metadata": {},
   "source": [
    "# eye function"
   ]
  },
  {
   "cell_type": "code",
   "execution_count": 28,
   "id": "cb563780",
   "metadata": {},
   "outputs": [
    {
     "data": {
      "text/plain": [
       "array([[1., 0., 0., 0., 0., 0., 0., 0., 0., 0.],\n",
       "       [0., 1., 0., 0., 0., 0., 0., 0., 0., 0.],\n",
       "       [0., 0., 1., 0., 0., 0., 0., 0., 0., 0.],\n",
       "       [0., 0., 0., 1., 0., 0., 0., 0., 0., 0.],\n",
       "       [0., 0., 0., 0., 1., 0., 0., 0., 0., 0.],\n",
       "       [0., 0., 0., 0., 0., 1., 0., 0., 0., 0.],\n",
       "       [0., 0., 0., 0., 0., 0., 1., 0., 0., 0.],\n",
       "       [0., 0., 0., 0., 0., 0., 0., 1., 0., 0.],\n",
       "       [0., 0., 0., 0., 0., 0., 0., 0., 1., 0.],\n",
       "       [0., 0., 0., 0., 0., 0., 0., 0., 0., 1.]])"
      ]
     },
     "execution_count": 28,
     "metadata": {},
     "output_type": "execute_result"
    }
   ],
   "source": [
    "np.eye(10)"
   ]
  },
  {
   "cell_type": "markdown",
   "id": "f7a915a7",
   "metadata": {},
   "source": [
    "## random function"
   ]
  },
  {
   "cell_type": "code",
   "execution_count": 29,
   "id": "5da60fbd",
   "metadata": {},
   "outputs": [
    {
     "data": {
      "text/plain": [
       "array([[ 0.86753092, -0.51840523, -2.0308927 , -2.45551997],\n",
       "       [ 0.95633179, -0.18029133,  0.80262622,  1.68991338],\n",
       "       [-0.09116482,  0.79913086,  0.25633353,  0.38722639]])"
      ]
     },
     "execution_count": 29,
     "metadata": {},
     "output_type": "execute_result"
    }
   ],
   "source": [
    "np.random.randn(3,4)  # this randn functions mean is always 0 and `std` is always 1"
   ]
  },
  {
   "cell_type": "code",
   "execution_count": 30,
   "id": "b23b42fd",
   "metadata": {},
   "outputs": [
    {
     "data": {
      "text/plain": [
       "array([[0.02432486, 0.31368692, 0.16537142],\n",
       "       [0.12831753, 0.10504874, 0.56712348]])"
      ]
     },
     "execution_count": 30,
     "metadata": {},
     "output_type": "execute_result"
    }
   ],
   "source": [
    "np.random.rand(2,3)   # this without anything produces the data"
   ]
  },
  {
   "cell_type": "code",
   "execution_count": 31,
   "id": "c9819790",
   "metadata": {},
   "outputs": [
    {
     "data": {
      "text/plain": [
       "array([10,  3, 10, 14, 14, 16, 12,  5, 18,  1, 13, 15, 18, 11, 19, 14,  4,\n",
       "       18, 11,  6])"
      ]
     },
     "execution_count": 31,
     "metadata": {},
     "output_type": "execute_result"
    }
   ],
   "source": [
    "np.random.randint(1,20,size=20)"
   ]
  },
  {
   "cell_type": "code",
   "execution_count": 32,
   "id": "6495435f",
   "metadata": {},
   "outputs": [],
   "source": [
    "arr_randint =np.random.randint(1,20,size=(10,20))"
   ]
  },
  {
   "cell_type": "code",
   "execution_count": 33,
   "id": "c2923e1a",
   "metadata": {},
   "outputs": [
    {
     "data": {
      "text/plain": [
       "array([[15, 19,  5,  3,  3,  1, 18,  1, 12,  5,  8,  1,  7, 10, 18,  6,\n",
       "        19,  3, 17,  6],\n",
       "       [ 9,  9,  4, 11,  3,  1,  9, 19,  3,  5, 13, 12,  5, 16, 17,  7,\n",
       "        12, 15, 12,  3],\n",
       "       [15, 11,  5, 11,  5, 13, 14, 12,  6, 16, 12, 19,  1,  7, 12, 11,\n",
       "        11,  5, 19,  7],\n",
       "       [19,  9,  4,  7,  6, 15,  6,  4, 14, 19, 13, 10, 17,  4, 10,  4,\n",
       "         5,  8,  7,  5],\n",
       "       [ 6,  8, 19,  1,  3, 18, 15,  9,  7,  1,  9, 15, 16, 11, 13, 16,\n",
       "         7,  7,  1,  5],\n",
       "       [16,  5, 12,  4, 13, 16,  2, 19, 17,  2,  1, 11, 17, 17, 11,  5,\n",
       "         5,  9, 14,  1],\n",
       "       [17,  6,  5, 10, 15, 18,  8,  2, 13,  1,  6, 19,  5, 18, 12, 15,\n",
       "         1, 13, 18,  7],\n",
       "       [ 2,  8,  6, 15, 11,  4, 18, 14,  9, 17,  2,  5,  7,  3, 17,  9,\n",
       "        13,  2,  9, 11],\n",
       "       [ 9, 11, 15, 13, 17, 16,  3, 17,  3, 19, 15, 15, 15,  3, 16, 15,\n",
       "        11, 15, 11, 16],\n",
       "       [ 3, 15, 15,  7,  2,  8,  9, 11, 14, 10, 17, 13, 10,  7,  3, 14,\n",
       "         9, 11, 18,  7]])"
      ]
     },
     "execution_count": 33,
     "metadata": {},
     "output_type": "execute_result"
    }
   ],
   "source": [
    "arr_randint"
   ]
  },
  {
   "cell_type": "code",
   "execution_count": 34,
   "id": "9d945295",
   "metadata": {},
   "outputs": [
    {
     "data": {
      "text/plain": [
       "array([[15, 19,  5,  3,  3,  1, 18,  1, 12,  5,  8,  1,  7, 10, 18,  6,\n",
       "        19,  3, 17,  6,  9,  9,  4, 11,  3,  1,  9, 19,  3,  5, 13, 12,\n",
       "         5, 16, 17,  7, 12, 15, 12,  3, 15, 11,  5, 11,  5, 13, 14, 12,\n",
       "         6, 16, 12, 19,  1,  7, 12, 11, 11,  5, 19,  7, 19,  9,  4,  7,\n",
       "         6, 15,  6,  4, 14, 19, 13, 10, 17,  4, 10,  4,  5,  8,  7,  5,\n",
       "         6,  8, 19,  1,  3, 18, 15,  9,  7,  1,  9, 15, 16, 11, 13, 16,\n",
       "         7,  7,  1,  5, 16,  5, 12,  4, 13, 16,  2, 19, 17,  2,  1, 11,\n",
       "        17, 17, 11,  5,  5,  9, 14,  1, 17,  6,  5, 10, 15, 18,  8,  2,\n",
       "        13,  1,  6, 19,  5, 18, 12, 15,  1, 13, 18,  7,  2,  8,  6, 15,\n",
       "        11,  4, 18, 14,  9, 17,  2,  5,  7,  3, 17,  9, 13,  2,  9, 11,\n",
       "         9, 11, 15, 13, 17, 16,  3, 17,  3, 19, 15, 15, 15,  3, 16, 15,\n",
       "        11, 15, 11, 16,  3, 15, 15,  7,  2,  8,  9, 11, 14, 10, 17, 13,\n",
       "        10,  7,  3, 14,  9, 11, 18,  7]])"
      ]
     },
     "execution_count": 34,
     "metadata": {},
     "output_type": "execute_result"
    }
   ],
   "source": [
    "# reshaping my data\n",
    "arr_randint.reshape(1,200)"
   ]
  },
  {
   "cell_type": "code",
   "execution_count": 35,
   "id": "b1f2948f",
   "metadata": {},
   "outputs": [
    {
     "data": {
      "text/plain": [
       "array([[69, 90, 38, 76],\n",
       "       [85, 78, 76, 30],\n",
       "       [12, 61, 72, 76],\n",
       "       [59,  2, 10, 12]])"
      ]
     },
     "execution_count": 35,
     "metadata": {},
     "output_type": "execute_result"
    }
   ],
   "source": [
    "arr1 = np.random.randint(1,100,size=(4,4))\n",
    "arr1"
   ]
  },
  {
   "cell_type": "markdown",
   "id": "9829382a",
   "metadata": {},
   "source": [
    "## indexing and slicing\n",
    "this works like - array[row_start:row_end,column]"
   ]
  },
  {
   "cell_type": "code",
   "execution_count": 36,
   "id": "c34a4d83",
   "metadata": {},
   "outputs": [
    {
     "name": "stdout",
     "output_type": "stream",
     "text": [
      "76\n"
     ]
    },
    {
     "data": {
      "text/plain": [
       "array([[69, 90, 38, 76],\n",
       "       [85, 78, 76, 30],\n",
       "       [12, 61, 72, 76],\n",
       "       [59,  2, 10, 12]])"
      ]
     },
     "execution_count": 36,
     "metadata": {},
     "output_type": "execute_result"
    }
   ],
   "source": [
    "# i wanna to get our 7 by indexing\n",
    "print(arr1[0][3])\n",
    "arr1"
   ]
  },
  {
   "cell_type": "code",
   "execution_count": 37,
   "id": "dc9a3ba9",
   "metadata": {},
   "outputs": [
    {
     "data": {
      "text/plain": [
       "array([76, 30, 76, 12])"
      ]
     },
     "execution_count": 37,
     "metadata": {},
     "output_type": "execute_result"
    }
   ],
   "source": [
    "arr1[:,3]"
   ]
  },
  {
   "cell_type": "code",
   "execution_count": 38,
   "id": "91ef8862",
   "metadata": {},
   "outputs": [
    {
     "data": {
      "text/plain": [
       "array([78, 61,  2])"
      ]
     },
     "execution_count": 38,
     "metadata": {},
     "output_type": "execute_result"
    }
   ],
   "source": [
    "#indexing\n",
    "arr1[1:,1]"
   ]
  },
  {
   "cell_type": "code",
   "execution_count": 39,
   "id": "254e1bfc",
   "metadata": {},
   "outputs": [
    {
     "data": {
      "text/plain": [
       "array([[122, 191,  29, 189, 116,  68],\n",
       "       [299, 201,  85, 155, 157, 281],\n",
       "       [287, 159, 110, 159,  47,  75],\n",
       "       [ 69, 193, 192, 269, 290, 228],\n",
       "       [ 39,  12, 167, 172, 252,  90]])"
      ]
     },
     "execution_count": 39,
     "metadata": {},
     "output_type": "execute_result"
    }
   ],
   "source": [
    "arr2 = np.random.randint(1,300,(5,6))\n",
    "arr2"
   ]
  },
  {
   "cell_type": "code",
   "execution_count": 40,
   "id": "1912f6e7",
   "metadata": {},
   "outputs": [],
   "source": [
    "arr3 = arr2 > 200"
   ]
  },
  {
   "cell_type": "code",
   "execution_count": 41,
   "id": "0fe34b23",
   "metadata": {},
   "outputs": [
    {
     "data": {
      "text/plain": [
       "array([[False, False, False, False, False, False],\n",
       "       [ True,  True, False, False, False,  True],\n",
       "       [ True, False, False, False, False, False],\n",
       "       [False, False, False,  True,  True,  True],\n",
       "       [False, False, False, False,  True, False]])"
      ]
     },
     "execution_count": 41,
     "metadata": {},
     "output_type": "execute_result"
    }
   ],
   "source": [
    "arr3"
   ]
  },
  {
   "cell_type": "code",
   "execution_count": 42,
   "id": "9f9d893f",
   "metadata": {},
   "outputs": [
    {
     "data": {
      "text/plain": [
       "array([ True,  True,  True,  True,  True,  True,  True,  True])"
      ]
     },
     "execution_count": 42,
     "metadata": {},
     "output_type": "execute_result"
    }
   ],
   "source": [
    "arr3[arr2 > 200]"
   ]
  },
  {
   "cell_type": "code",
   "execution_count": 43,
   "id": "62328bff",
   "metadata": {},
   "outputs": [
    {
     "data": {
      "text/plain": [
       "array([299, 201, 281, 287, 269, 290, 228, 252])"
      ]
     },
     "execution_count": 43,
     "metadata": {},
     "output_type": "execute_result"
    }
   ],
   "source": [
    "arr2[arr3]     # finnaly I brought data by my self which is greater than 200"
   ]
  },
  {
   "cell_type": "code",
   "execution_count": 44,
   "id": "35a2aec1",
   "metadata": {},
   "outputs": [],
   "source": [
    "# array for matrix multiplication\n",
    "arr_mul1 = np.random.randint(1,4,(3,3))\n",
    "arr_mul2 = np.random.randint(4,7,(3,4))"
   ]
  },
  {
   "cell_type": "code",
   "execution_count": 45,
   "id": "8601b4b1",
   "metadata": {},
   "outputs": [
    {
     "data": {
      "text/plain": [
       "array([[3, 3, 3],\n",
       "       [1, 2, 2],\n",
       "       [3, 2, 3]])"
      ]
     },
     "execution_count": 45,
     "metadata": {},
     "output_type": "execute_result"
    }
   ],
   "source": [
    "arr_mul1"
   ]
  },
  {
   "cell_type": "code",
   "execution_count": 46,
   "id": "03890373",
   "metadata": {},
   "outputs": [
    {
     "data": {
      "text/plain": [
       "array([[5, 4, 6, 5],\n",
       "       [5, 6, 6, 4],\n",
       "       [5, 5, 6, 4]])"
      ]
     },
     "execution_count": 46,
     "metadata": {},
     "output_type": "execute_result"
    }
   ],
   "source": [
    "arr_mul2"
   ]
  },
  {
   "cell_type": "code",
   "execution_count": 47,
   "id": "28bb2740",
   "metadata": {},
   "outputs": [
    {
     "data": {
      "text/plain": [
       "array([[45, 45, 54, 39],\n",
       "       [25, 26, 30, 21],\n",
       "       [40, 39, 48, 35]])"
      ]
     },
     "execution_count": 47,
     "metadata": {},
     "output_type": "execute_result"
    }
   ],
   "source": [
    "arr_mul1 @ arr_mul2"
   ]
  },
  {
   "cell_type": "markdown",
   "id": "9f1aa78c",
   "metadata": {},
   "source": [
    "# brodcasting\n",
    "In this method we do any operations with complete row or column"
   ]
  },
  {
   "cell_type": "code",
   "execution_count": 48,
   "id": "4c81b37b",
   "metadata": {},
   "outputs": [],
   "source": [
    "arr_brodcast = np.random.randint(1,10,(4,4))"
   ]
  },
  {
   "cell_type": "code",
   "execution_count": 49,
   "id": "c2620208",
   "metadata": {},
   "outputs": [
    {
     "data": {
      "text/plain": [
       "array([[1, 6, 3, 1],\n",
       "       [8, 5, 4, 5],\n",
       "       [1, 8, 6, 8],\n",
       "       [6, 3, 7, 9]])"
      ]
     },
     "execution_count": 49,
     "metadata": {},
     "output_type": "execute_result"
    }
   ],
   "source": [
    "arr_brodcast"
   ]
  },
  {
   "cell_type": "code",
   "execution_count": 50,
   "id": "78476e29",
   "metadata": {},
   "outputs": [],
   "source": [
    "arr_to_add = np.array([1,2,3,4])"
   ]
  },
  {
   "cell_type": "code",
   "execution_count": 51,
   "id": "33328d85",
   "metadata": {},
   "outputs": [
    {
     "data": {
      "text/plain": [
       "array([1, 2, 3, 4])"
      ]
     },
     "execution_count": 51,
     "metadata": {},
     "output_type": "execute_result"
    }
   ],
   "source": [
    "arr_to_add "
   ]
  },
  {
   "cell_type": "code",
   "execution_count": 52,
   "id": "9b965293",
   "metadata": {},
   "outputs": [
    {
     "data": {
      "text/plain": [
       "array([[ 2,  8,  6,  5],\n",
       "       [ 9,  7,  7,  9],\n",
       "       [ 2, 10,  9, 12],\n",
       "       [ 7,  5, 10, 13]])"
      ]
     },
     "execution_count": 52,
     "metadata": {},
     "output_type": "execute_result"
    }
   ],
   "source": [
    "arr_brodcast + arr_to_add"
   ]
  },
  {
   "cell_type": "code",
   "execution_count": 53,
   "id": "57de9373",
   "metadata": {},
   "outputs": [
    {
     "data": {
      "text/plain": [
       "array([[1],\n",
       "       [2],\n",
       "       [3],\n",
       "       [4]])"
      ]
     },
     "execution_count": 53,
     "metadata": {},
     "output_type": "execute_result"
    }
   ],
   "source": [
    "arr_to_add_col = np.array([[1,2,3,4]]).T  # transpose\n",
    "arr_to_add_col"
   ]
  },
  {
   "cell_type": "code",
   "execution_count": 54,
   "id": "7e5450ab",
   "metadata": {},
   "outputs": [
    {
     "data": {
      "text/plain": [
       "array([[ 2,  7,  4,  2],\n",
       "       [10,  7,  6,  7],\n",
       "       [ 4, 11,  9, 11],\n",
       "       [10,  7, 11, 13]])"
      ]
     },
     "execution_count": 54,
     "metadata": {},
     "output_type": "execute_result"
    }
   ],
   "source": [
    "arr_brodcast + arr_to_add_col"
   ]
  },
  {
   "cell_type": "markdown",
   "id": "c3d6ab3e",
   "metadata": {},
   "source": [
    "## other functions"
   ]
  },
  {
   "cell_type": "code",
   "execution_count": 55,
   "id": "eaf2db8c",
   "metadata": {},
   "outputs": [
    {
     "data": {
      "text/plain": [
       "array([[1, 7, 4, 5],\n",
       "       [6, 5, 4, 4],\n",
       "       [5, 9, 6, 5],\n",
       "       [8, 5, 4, 2]])"
      ]
     },
     "execution_count": 55,
     "metadata": {},
     "output_type": "execute_result"
    }
   ],
   "source": [
    "arr_other= np.random.randint(1,10,(4,4))\n",
    "arr_other"
   ]
  },
  {
   "cell_type": "code",
   "execution_count": 56,
   "id": "fb6b0d8f",
   "metadata": {},
   "outputs": [
    {
     "data": {
      "text/plain": [
       "array([[ 1, 49, 16, 25],\n",
       "       [36, 25, 16, 16],\n",
       "       [25, 81, 36, 25],\n",
       "       [64, 25, 16,  4]], dtype=int32)"
      ]
     },
     "execution_count": 56,
     "metadata": {},
     "output_type": "execute_result"
    }
   ],
   "source": [
    "np.square(arr_other)"
   ]
  },
  {
   "cell_type": "code",
   "execution_count": 57,
   "id": "0a102904",
   "metadata": {},
   "outputs": [
    {
     "data": {
      "text/plain": [
       "array([[1.        , 2.64575131, 2.        , 2.23606798],\n",
       "       [2.44948974, 2.23606798, 2.        , 2.        ],\n",
       "       [2.23606798, 3.        , 2.44948974, 2.23606798],\n",
       "       [2.82842712, 2.23606798, 2.        , 1.41421356]])"
      ]
     },
     "execution_count": 57,
     "metadata": {},
     "output_type": "execute_result"
    }
   ],
   "source": [
    "np.sqrt(arr_other)"
   ]
  },
  {
   "cell_type": "code",
   "execution_count": 58,
   "id": "796f0ce7",
   "metadata": {},
   "outputs": [
    {
     "data": {
      "text/plain": [
       "array([[  2., 128.,  16.,  32.],\n",
       "       [ 64.,  32.,  16.,  16.],\n",
       "       [ 32., 512.,  64.,  32.],\n",
       "       [256.,  32.,  16.,   4.]])"
      ]
     },
     "execution_count": 58,
     "metadata": {},
     "output_type": "execute_result"
    }
   ],
   "source": [
    "np.exp2(arr_other)"
   ]
  },
  {
   "cell_type": "code",
   "execution_count": 59,
   "id": "9ede22df",
   "metadata": {},
   "outputs": [
    {
     "data": {
      "text/plain": [
       "array([[2.71828183e+00, 1.09663316e+03, 5.45981500e+01, 1.48413159e+02],\n",
       "       [4.03428793e+02, 1.48413159e+02, 5.45981500e+01, 5.45981500e+01],\n",
       "       [1.48413159e+02, 8.10308393e+03, 4.03428793e+02, 1.48413159e+02],\n",
       "       [2.98095799e+03, 1.48413159e+02, 5.45981500e+01, 7.38905610e+00]])"
      ]
     },
     "execution_count": 59,
     "metadata": {},
     "output_type": "execute_result"
    }
   ],
   "source": [
    "np.exp(arr_other)"
   ]
  },
  {
   "cell_type": "code",
   "execution_count": 60,
   "id": "1c43a4ab",
   "metadata": {},
   "outputs": [
    {
     "data": {
      "text/plain": [
       "array([[0.        , 2.80735492, 2.        , 2.32192809],\n",
       "       [2.5849625 , 2.32192809, 2.        , 2.        ],\n",
       "       [2.32192809, 3.169925  , 2.5849625 , 2.32192809],\n",
       "       [3.        , 2.32192809, 2.        , 1.        ]])"
      ]
     },
     "execution_count": 60,
     "metadata": {},
     "output_type": "execute_result"
    }
   ],
   "source": [
    "np.log2(arr_other)"
   ]
  },
  {
   "cell_type": "code",
   "execution_count": 61,
   "id": "4fad4c65",
   "metadata": {},
   "outputs": [
    {
     "data": {
      "text/plain": [
       "array([[0.        , 0.84509804, 0.60205999, 0.69897   ],\n",
       "       [0.77815125, 0.69897   , 0.60205999, 0.60205999],\n",
       "       [0.69897   , 0.95424251, 0.77815125, 0.69897   ],\n",
       "       [0.90308999, 0.69897   , 0.60205999, 0.30103   ]])"
      ]
     },
     "execution_count": 61,
     "metadata": {},
     "output_type": "execute_result"
    }
   ],
   "source": [
    "np.log10(arr_other)"
   ]
  },
  {
   "cell_type": "markdown",
   "id": "8d8883af",
   "metadata": {},
   "source": [
    "# Array manipulation"
   ]
  },
  {
   "cell_type": "code",
   "execution_count": 62,
   "id": "4802c6bc",
   "metadata": {},
   "outputs": [
    {
     "data": {
      "text/plain": [
       "array([[6, 3, 4, 5],\n",
       "       [5, 9, 7, 5],\n",
       "       [2, 9, 7, 7]])"
      ]
     },
     "execution_count": 62,
     "metadata": {},
     "output_type": "execute_result"
    }
   ],
   "source": [
    "array = np.random.randint(1,10,(3,4))\n",
    "array"
   ]
  },
  {
   "cell_type": "code",
   "execution_count": 63,
   "id": "f9ccc9b2",
   "metadata": {},
   "outputs": [
    {
     "name": "stdout",
     "output_type": "stream",
     "text": [
      "[[6 3 4 5 5 9]\n",
      " [7 5 2 9 7 7]]\n",
      "another array  :  [[6 3 4 5 5 9 7 5 2 9 7 7]]\n",
      "another array2 :  [[6]\n",
      " [3]\n",
      " [4]\n",
      " [5]\n",
      " [5]\n",
      " [9]\n",
      " [7]\n",
      " [5]\n",
      " [2]\n",
      " [9]\n",
      " [7]\n",
      " [7]]\n",
      "another array3 :  [[6 3 4]\n",
      " [5 5 9]\n",
      " [7 5 2]\n",
      " [9 7 7]]\n",
      "another array4 :  [[6 3 4]\n",
      " [5 5 9]\n",
      " [7 5 2]\n",
      " [9 7 7]]\n"
     ]
    }
   ],
   "source": [
    "# changing number of rows and columns we can only reshape this of multiplication of 12\n",
    "print(array.reshape(2,6))\n",
    "print('another array  : ',array.reshape(1,12))\n",
    "print('another array2 : ',array.reshape(12,1))\n",
    "print('another array3 : ',array.reshape(4,3))\n",
    "print('another array4 : ',array.reshape(4,3))"
   ]
  },
  {
   "cell_type": "markdown",
   "id": "b52ffba8",
   "metadata": {},
   "source": [
    "# flatten function"
   ]
  },
  {
   "cell_type": "code",
   "execution_count": 64,
   "id": "5907e7a5",
   "metadata": {},
   "outputs": [
    {
     "data": {
      "text/plain": [
       "array([6, 3, 4, 5, 5, 9, 7, 5, 2, 9, 7, 7])"
      ]
     },
     "execution_count": 64,
     "metadata": {},
     "output_type": "execute_result"
    }
   ],
   "source": [
    "array.flatten()"
   ]
  },
  {
   "cell_type": "markdown",
   "id": "07d937eb",
   "metadata": {},
   "source": [
    "# expand_dims function"
   ]
  },
  {
   "cell_type": "code",
   "execution_count": 65,
   "id": "ee75a020",
   "metadata": {},
   "outputs": [
    {
     "data": {
      "text/plain": [
       "array([4, 2, 2, 8, 3, 7, 7, 8, 6, 4, 2, 2, 1, 5, 4, 1, 8, 9, 5, 4])"
      ]
     },
     "execution_count": 65,
     "metadata": {},
     "output_type": "execute_result"
    }
   ],
   "source": [
    "arr_expandDim = np.random.randint(1,10,20)\n",
    "arr_expandDim"
   ]
  },
  {
   "cell_type": "code",
   "execution_count": 66,
   "id": "b334e213",
   "metadata": {},
   "outputs": [
    {
     "data": {
      "text/plain": [
       "array([[4, 2, 2, 8, 3, 7, 7, 8, 6, 4, 2, 2, 1, 5, 4, 1, 8, 9, 5, 4]])"
      ]
     },
     "execution_count": 66,
     "metadata": {},
     "output_type": "execute_result"
    }
   ],
   "source": [
    "np.expand_dims(arr_expandDim, axis=0)"
   ]
  },
  {
   "cell_type": "code",
   "execution_count": 67,
   "id": "0406948e",
   "metadata": {},
   "outputs": [
    {
     "data": {
      "text/plain": [
       "array([[4],\n",
       "       [2],\n",
       "       [2],\n",
       "       [8],\n",
       "       [3],\n",
       "       [7],\n",
       "       [7],\n",
       "       [8],\n",
       "       [6],\n",
       "       [4],\n",
       "       [2],\n",
       "       [2],\n",
       "       [1],\n",
       "       [5],\n",
       "       [4],\n",
       "       [1],\n",
       "       [8],\n",
       "       [9],\n",
       "       [5],\n",
       "       [4]])"
      ]
     },
     "execution_count": 67,
     "metadata": {},
     "output_type": "execute_result"
    }
   ],
   "source": [
    "np.expand_dims(arr_expandDim, axis=1)"
   ]
  },
  {
   "cell_type": "markdown",
   "id": "9e8e5d46",
   "metadata": {},
   "source": [
    "## repeat function\n",
    "this repeats each element as the value we give"
   ]
  },
  {
   "cell_type": "code",
   "execution_count": 68,
   "id": "36b08989",
   "metadata": {},
   "outputs": [
    {
     "data": {
      "text/plain": [
       "array([3, 2, 7, 3, 2])"
      ]
     },
     "execution_count": 68,
     "metadata": {},
     "output_type": "execute_result"
    }
   ],
   "source": [
    "arr_repeat = np.random.randint(1,10,5)\n",
    "arr_repeat"
   ]
  },
  {
   "cell_type": "code",
   "execution_count": 69,
   "id": "ee714c50",
   "metadata": {},
   "outputs": [
    {
     "data": {
      "text/plain": [
       "array([3, 3, 3, 3, 2, 2, 2, 2, 7, 7, 7, 7, 3, 3, 3, 3, 2, 2, 2, 2])"
      ]
     },
     "execution_count": 69,
     "metadata": {},
     "output_type": "execute_result"
    }
   ],
   "source": [
    "np.repeat(arr_repeat,4)"
   ]
  },
  {
   "cell_type": "markdown",
   "id": "f343b464",
   "metadata": {},
   "source": [
    "# roll function\n",
    "this rolls the array as the value we give to shift"
   ]
  },
  {
   "cell_type": "code",
   "execution_count": 70,
   "id": "4e99de9d",
   "metadata": {},
   "outputs": [
    {
     "data": {
      "text/plain": [
       "array([4, 1, 5, 2, 1, 9])"
      ]
     },
     "execution_count": 70,
     "metadata": {},
     "output_type": "execute_result"
    }
   ],
   "source": [
    "arr_roll = np.random.randint(1,10,6)\n",
    "arr_roll\n"
   ]
  },
  {
   "cell_type": "code",
   "execution_count": 71,
   "id": "bc727d8f",
   "metadata": {},
   "outputs": [
    {
     "data": {
      "text/plain": [
       "array([1, 9, 4, 1, 5, 2])"
      ]
     },
     "execution_count": 71,
     "metadata": {},
     "output_type": "execute_result"
    }
   ],
   "source": [
    "np.roll(a=arr_roll,shift=2)"
   ]
  },
  {
   "cell_type": "markdown",
   "id": "7e79f2ad",
   "metadata": {},
   "source": [
    "# diag function\n",
    "In this we gives a single dimentional array and this make 2D array and that arrays value assign to dialgonal"
   ]
  },
  {
   "cell_type": "code",
   "execution_count": 72,
   "id": "cafdf0c1",
   "metadata": {},
   "outputs": [
    {
     "data": {
      "text/plain": [
       "array([3, 6, 9, 8, 4, 8])"
      ]
     },
     "execution_count": 72,
     "metadata": {},
     "output_type": "execute_result"
    }
   ],
   "source": [
    "arr_diag = np.random.randint(1,10,6)\n",
    "arr_diag"
   ]
  },
  {
   "cell_type": "markdown",
   "id": "d5f7a626",
   "metadata": {},
   "source": [
    "# String Functions"
   ]
  },
  {
   "cell_type": "code",
   "execution_count": 73,
   "id": "4f08b81f",
   "metadata": {},
   "outputs": [
    {
     "data": {
      "text/plain": [
       "array([['sunil', 'mangal', 'shahaji', 'zambare']], dtype='<U7')"
      ]
     },
     "execution_count": 73,
     "metadata": {},
     "output_type": "execute_result"
    }
   ],
   "source": [
    "arr_str = np.array([['sunil','mangal','shahaji','zambare']])\n",
    "arr_str"
   ]
  },
  {
   "cell_type": "code",
   "execution_count": 74,
   "id": "0e4a8515",
   "metadata": {},
   "outputs": [
    {
     "data": {
      "text/plain": [
       "array([[b'sunil', b'mangal', b'shahaji', b'zambare']], dtype='|S7')"
      ]
     },
     "execution_count": 74,
     "metadata": {},
     "output_type": "execute_result"
    }
   ],
   "source": [
    "np.char.encode(arr_str)"
   ]
  },
  {
   "cell_type": "code",
   "execution_count": 75,
   "id": "1fefc6c5",
   "metadata": {},
   "outputs": [
    {
     "data": {
      "text/plain": [
       "array(['sunil'], dtype='<U7')"
      ]
     },
     "execution_count": 75,
     "metadata": {},
     "output_type": "execute_result"
    }
   ],
   "source": [
    "end=np.char.endswith(arr_str,'sunil')\n",
    "arr_str[end]"
   ]
  },
  {
   "cell_type": "code",
   "execution_count": 76,
   "id": "8d598bb0",
   "metadata": {},
   "outputs": [
    {
     "data": {
      "text/plain": [
       "array([['SUNIL', 'MANGAL', 'SHAHAJI', 'ZAMBARE']], dtype='<U7')"
      ]
     },
     "execution_count": 76,
     "metadata": {},
     "output_type": "execute_result"
    }
   ],
   "source": [
    "np.char.upper(arr_str)"
   ]
  },
  {
   "cell_type": "code",
   "execution_count": 77,
   "id": "32cd2edb",
   "metadata": {},
   "outputs": [
    {
     "data": {
      "text/plain": [
       "array([['Sunil', 'Mangal', 'Shahaji', 'Zambare']], dtype='<U7')"
      ]
     },
     "execution_count": 77,
     "metadata": {},
     "output_type": "execute_result"
    }
   ],
   "source": [
    "np.char.capitalize(arr_str)"
   ]
  },
  {
   "cell_type": "markdown",
   "id": "baf8cdcb",
   "metadata": {},
   "source": [
    "# Mathematical functions"
   ]
  },
  {
   "cell_type": "code",
   "execution_count": 78,
   "id": "c2376bd8",
   "metadata": {},
   "outputs": [
    {
     "data": {
      "text/plain": [
       "array([[8, 9, 1],\n",
       "       [6, 5, 9],\n",
       "       [5, 7, 8]])"
      ]
     },
     "execution_count": 78,
     "metadata": {},
     "output_type": "execute_result"
    }
   ],
   "source": [
    "arr_maths = np.random.randint(1,10,(3,3))\n",
    "arr_maths"
   ]
  },
  {
   "cell_type": "code",
   "execution_count": 79,
   "id": "77914d9c",
   "metadata": {},
   "outputs": [
    {
     "data": {
      "text/plain": [
       "array([[ 0.98935825,  0.41211849,  0.84147098],\n",
       "       [-0.2794155 , -0.95892427,  0.41211849],\n",
       "       [-0.95892427,  0.6569866 ,  0.98935825]])"
      ]
     },
     "execution_count": 79,
     "metadata": {},
     "output_type": "execute_result"
    }
   ],
   "source": [
    "np.sin(arr_maths)"
   ]
  },
  {
   "cell_type": "code",
   "execution_count": 80,
   "id": "7a0c7c53",
   "metadata": {},
   "outputs": [
    {
     "data": {
      "text/plain": [
       "array([[-0.14550003, -0.91113026,  0.54030231],\n",
       "       [ 0.96017029,  0.28366219, -0.91113026],\n",
       "       [ 0.28366219,  0.75390225, -0.14550003]])"
      ]
     },
     "execution_count": 80,
     "metadata": {},
     "output_type": "execute_result"
    }
   ],
   "source": [
    "np.cos(arr_maths)"
   ]
  },
  {
   "cell_type": "code",
   "execution_count": 81,
   "id": "beba1146",
   "metadata": {},
   "outputs": [
    {
     "data": {
      "text/plain": [
       "array([[64, 81,  1],\n",
       "       [36, 25, 81],\n",
       "       [25, 49, 64]], dtype=int32)"
      ]
     },
     "execution_count": 81,
     "metadata": {},
     "output_type": "execute_result"
    }
   ],
   "source": [
    "np.power(arr_maths,2)"
   ]
  },
  {
   "cell_type": "code",
   "execution_count": 82,
   "id": "87dd5cc9",
   "metadata": {},
   "outputs": [
    {
     "data": {
      "text/plain": [
       "6.444444444444445"
      ]
     },
     "execution_count": 82,
     "metadata": {},
     "output_type": "execute_result"
    }
   ],
   "source": [
    "np.mean(arr_maths)"
   ]
  },
  {
   "cell_type": "code",
   "execution_count": 83,
   "id": "31990d2b",
   "metadata": {},
   "outputs": [
    {
     "data": {
      "text/plain": [
       "7.0"
      ]
     },
     "execution_count": 83,
     "metadata": {},
     "output_type": "execute_result"
    }
   ],
   "source": [
    "np.median(arr_maths)"
   ]
  },
  {
   "cell_type": "code",
   "execution_count": 84,
   "id": "42ba4338",
   "metadata": {},
   "outputs": [
    {
     "data": {
      "text/plain": [
       "5.802469135802469"
      ]
     },
     "execution_count": 84,
     "metadata": {},
     "output_type": "execute_result"
    }
   ],
   "source": [
    "np.var(arr_maths)"
   ]
  },
  {
   "cell_type": "code",
   "execution_count": 85,
   "id": "ad8f9d2c",
   "metadata": {},
   "outputs": [
    {
     "data": {
      "text/plain": [
       "2.4088314876309775"
      ]
     },
     "execution_count": 85,
     "metadata": {},
     "output_type": "execute_result"
    }
   ],
   "source": [
    "np.std(arr_maths)"
   ]
  },
  {
   "cell_type": "code",
   "execution_count": 86,
   "id": "5c87a917",
   "metadata": {},
   "outputs": [
    {
     "data": {
      "text/plain": [
       "1"
      ]
     },
     "execution_count": 86,
     "metadata": {},
     "output_type": "execute_result"
    }
   ],
   "source": [
    "np.min(arr_maths)"
   ]
  },
  {
   "cell_type": "code",
   "execution_count": 87,
   "id": "34a015cb",
   "metadata": {},
   "outputs": [
    {
     "data": {
      "text/plain": [
       "9"
      ]
     },
     "execution_count": 87,
     "metadata": {},
     "output_type": "execute_result"
    }
   ],
   "source": [
    "np.max(arr_maths)"
   ]
  },
  {
   "cell_type": "markdown",
   "id": "29d41f56",
   "metadata": {},
   "source": [
    "# sort, search and count function"
   ]
  },
  {
   "cell_type": "code",
   "execution_count": 88,
   "id": "c4d9d0ef",
   "metadata": {},
   "outputs": [
    {
     "data": {
      "text/plain": [
       "array([ 2,  4, 10,  2,  8, 12, 14, 12,  6, 16,  6,  5])"
      ]
     },
     "execution_count": 88,
     "metadata": {},
     "output_type": "execute_result"
    }
   ],
   "source": [
    "arr_sort_search_count = np.array(np.random.randint(1,20,12))\n",
    "arr_sort_search_count"
   ]
  },
  {
   "cell_type": "code",
   "execution_count": 89,
   "id": "b48c5f0b",
   "metadata": {},
   "outputs": [
    {
     "data": {
      "text/plain": [
       "array([ 2,  2,  4,  5,  6,  6,  8, 10, 12, 12, 14, 16])"
      ]
     },
     "execution_count": 89,
     "metadata": {},
     "output_type": "execute_result"
    }
   ],
   "source": [
    "np.sort(arr_sort_search_count)"
   ]
  },
  {
   "cell_type": "code",
   "execution_count": 90,
   "id": "36995760",
   "metadata": {},
   "outputs": [
    {
     "data": {
      "text/plain": [
       "(12,)"
      ]
     },
     "execution_count": 90,
     "metadata": {},
     "output_type": "execute_result"
    }
   ],
   "source": [
    "arr_sort_search_count.shape"
   ]
  },
  {
   "cell_type": "code",
   "execution_count": 91,
   "id": "3450f647",
   "metadata": {},
   "outputs": [
    {
     "data": {
      "text/plain": [
       "12"
      ]
     },
     "execution_count": 91,
     "metadata": {},
     "output_type": "execute_result"
    }
   ],
   "source": [
    "np.searchsorted(arr_sort_search_count,3444)   #because I have 12 elements and these are in 0-11 index"
   ]
  },
  {
   "cell_type": "markdown",
   "id": "e2e23bf3",
   "metadata": {},
   "source": [
    "# count nonzero fuction\n",
    "this counts how many non zero values are in my data"
   ]
  },
  {
   "cell_type": "code",
   "execution_count": 92,
   "id": "000267e9",
   "metadata": {},
   "outputs": [
    {
     "data": {
      "text/plain": [
       "array([   1,    2,  343,    0,    6,    0,    0,    0, 3434,    0,  767])"
      ]
     },
     "execution_count": 92,
     "metadata": {},
     "output_type": "execute_result"
    }
   ],
   "source": [
    "arr_countNonZero = np.array([1,2,343,0,6,0,0,0,3434,0,767])\n",
    "arr_countNonZero"
   ]
  },
  {
   "cell_type": "code",
   "execution_count": 93,
   "id": "f55f3a11",
   "metadata": {},
   "outputs": [
    {
     "data": {
      "text/plain": [
       "6"
      ]
     },
     "execution_count": 93,
     "metadata": {},
     "output_type": "execute_result"
    }
   ],
   "source": [
    "np.count_nonzero(arr_countNonZero)"
   ]
  },
  {
   "cell_type": "markdown",
   "id": "9715acdf",
   "metadata": {},
   "source": [
    "# where function\n",
    "this function returns value with position(index)"
   ]
  },
  {
   "cell_type": "code",
   "execution_count": 94,
   "id": "80c45036",
   "metadata": {},
   "outputs": [
    {
     "data": {
      "text/plain": [
       "(array([3, 5, 6, 7, 9], dtype=int64),)"
      ]
     },
     "execution_count": 94,
     "metadata": {},
     "output_type": "execute_result"
    }
   ],
   "source": [
    "arr_where = np.array([1,2,343,0,6,0,0,0,3434,0,767])\n",
    "np.where(arr_where== 0)"
   ]
  },
  {
   "cell_type": "markdown",
   "id": "bf3acae3",
   "metadata": {},
   "source": [
    "# extract function\n",
    "this extracts Or take out as per given condition"
   ]
  },
  {
   "cell_type": "code",
   "execution_count": 95,
   "id": "df2aabac",
   "metadata": {},
   "outputs": [
    {
     "data": {
      "text/plain": [
       "array([   1,    2,  343,    6, 3434,  767])"
      ]
     },
     "execution_count": 95,
     "metadata": {},
     "output_type": "execute_result"
    }
   ],
   "source": [
    "arr_extract = np.array([1,2,343,0,6,0,0,0,3434,0,767])\n",
    "np.extract(arr_extract > 0, arr_extract)"
   ]
  },
  {
   "cell_type": "markdown",
   "id": "56dfc878",
   "metadata": {},
   "source": [
    "# matrix library"
   ]
  },
  {
   "cell_type": "code",
   "execution_count": 96,
   "id": "8ca03aea",
   "metadata": {},
   "outputs": [],
   "source": [
    "import numpy.matlib as npm"
   ]
  },
  {
   "cell_type": "code",
   "execution_count": 97,
   "id": "0cf9b879",
   "metadata": {},
   "outputs": [
    {
     "data": {
      "text/plain": [
       "matrix([[0., 0., 0., 0., 0., 0., 0.]])"
      ]
     },
     "execution_count": 97,
     "metadata": {},
     "output_type": "execute_result"
    }
   ],
   "source": [
    "npm.zeros(7)"
   ]
  },
  {
   "cell_type": "code",
   "execution_count": 98,
   "id": "6df35928",
   "metadata": {},
   "outputs": [
    {
     "data": {
      "text/plain": [
       "matrix([[1., 1., 1., 1.],\n",
       "        [1., 1., 1., 1.],\n",
       "        [1., 1., 1., 1.]])"
      ]
     },
     "execution_count": 98,
     "metadata": {},
     "output_type": "execute_result"
    }
   ],
   "source": [
    "npm.ones((3,4))"
   ]
  },
  {
   "cell_type": "code",
   "execution_count": 99,
   "id": "2e962769",
   "metadata": {},
   "outputs": [
    {
     "data": {
      "text/plain": [
       "matrix([[1., 0., 0., 0., 0.],\n",
       "        [0., 1., 0., 0., 0.],\n",
       "        [0., 0., 1., 0., 0.],\n",
       "        [0., 0., 0., 1., 0.],\n",
       "        [0., 0., 0., 0., 1.]])"
      ]
     },
     "execution_count": 99,
     "metadata": {},
     "output_type": "execute_result"
    }
   ],
   "source": [
    "npm.eye(5)"
   ]
  },
  {
   "cell_type": "markdown",
   "id": "f16d948c",
   "metadata": {},
   "source": [
    "# Linear Algebra"
   ]
  },
  {
   "cell_type": "code",
   "execution_count": 100,
   "id": "368fbcc5",
   "metadata": {},
   "outputs": [
    {
     "data": {
      "text/plain": [
       "array([[6, 5],\n",
       "       [8, 3]])"
      ]
     },
     "execution_count": 100,
     "metadata": {},
     "output_type": "execute_result"
    }
   ],
   "source": [
    "linear_arr1 =np.random.randint(2,10,(2,2))\n",
    "linear_arr2 =np.random.randint(2,10,(2,2))\n",
    "linear_arr1"
   ]
  },
  {
   "cell_type": "code",
   "execution_count": 101,
   "id": "884bd2bc",
   "metadata": {},
   "outputs": [
    {
     "data": {
      "text/plain": [
       "array([[2, 8],\n",
       "       [7, 5]])"
      ]
     },
     "execution_count": 101,
     "metadata": {},
     "output_type": "execute_result"
    }
   ],
   "source": [
    "linear_arr2"
   ]
  },
  {
   "cell_type": "code",
   "execution_count": 102,
   "id": "dfcf1d99",
   "metadata": {},
   "outputs": [
    {
     "data": {
      "text/plain": [
       "array([[47, 73],\n",
       "       [37, 79]])"
      ]
     },
     "execution_count": 102,
     "metadata": {},
     "output_type": "execute_result"
    }
   ],
   "source": [
    "np.dot(linear_arr1,linear_arr2)"
   ]
  },
  {
   "cell_type": "code",
   "execution_count": null,
   "id": "a199e6ea",
   "metadata": {},
   "outputs": [],
   "source": []
  }
 ],
 "metadata": {
  "kernelspec": {
   "display_name": "Python 3 (ipykernel)",
   "language": "python",
   "name": "python3"
  },
  "language_info": {
   "codemirror_mode": {
    "name": "ipython",
    "version": 3
   },
   "file_extension": ".py",
   "mimetype": "text/x-python",
   "name": "python",
   "nbconvert_exporter": "python",
   "pygments_lexer": "ipython3",
   "version": "3.9.12"
  }
 },
 "nbformat": 4,
 "nbformat_minor": 5
}
