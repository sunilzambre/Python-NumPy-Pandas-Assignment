{
 "cells": [
  {
   "cell_type": "markdown",
   "id": "faff1ddd",
   "metadata": {},
   "source": [
    "# Numpy Library"
   ]
  },
  {
   "cell_type": "code",
   "execution_count": 1,
   "id": "3ea8f7ea",
   "metadata": {},
   "outputs": [],
   "source": [
    "#import numpy with alias np\n",
    "import numpy as np"
   ]
  },
  {
   "cell_type": "code",
   "execution_count": 2,
   "id": "647d1805",
   "metadata": {},
   "outputs": [],
   "source": [
    "#Create an array using numpy\n",
    "arr=np.array([1,2,3,4,5])"
   ]
  },
  {
   "cell_type": "code",
   "execution_count": 3,
   "id": "e8d84c76",
   "metadata": {},
   "outputs": [
    {
     "data": {
      "text/plain": [
       "array([1, 2, 3, 4, 5])"
      ]
     },
     "execution_count": 3,
     "metadata": {},
     "output_type": "execute_result"
    }
   ],
   "source": [
    "#Dispaly the array\n",
    "arr"
   ]
  },
  {
   "cell_type": "code",
   "execution_count": 4,
   "id": "891004a7",
   "metadata": {},
   "outputs": [
    {
     "data": {
      "text/plain": [
       "array([50, 67, 63, 22, 69, 68, 54, 92, 77, 59])"
      ]
     },
     "execution_count": 4,
     "metadata": {},
     "output_type": "execute_result"
    }
   ],
   "source": [
    "#Create an array of 10 random integers?\n",
    "arr1=np.random.randint(1,100,10)\n",
    "arr1"
   ]
  },
  {
   "cell_type": "code",
   "execution_count": 5,
   "id": "83cff173",
   "metadata": {},
   "outputs": [
    {
     "data": {
      "text/plain": [
       "array([10, 11, 12, 13, 14, 15, 16, 17, 18, 19, 20])"
      ]
     },
     "execution_count": 5,
     "metadata": {},
     "output_type": "execute_result"
    }
   ],
   "source": [
    "#Craete an array of element from 10-20\n",
    "arr2=np.arange(10,21)\n",
    "arr2"
   ]
  },
  {
   "cell_type": "code",
   "execution_count": 6,
   "id": "0fd36336",
   "metadata": {},
   "outputs": [],
   "source": [
    "#Create an array which contains 5,10 times\n",
    "arr3=np.ones(10)*5"
   ]
  },
  {
   "cell_type": "code",
   "execution_count": 7,
   "id": "ffd4d9b7",
   "metadata": {},
   "outputs": [
    {
     "data": {
      "text/plain": [
       "array([5., 5., 5., 5., 5., 5., 5., 5., 5., 5.])"
      ]
     },
     "execution_count": 7,
     "metadata": {},
     "output_type": "execute_result"
    }
   ],
   "source": [
    "arr3"
   ]
  },
  {
   "cell_type": "code",
   "execution_count": 8,
   "id": "57ea33ea",
   "metadata": {},
   "outputs": [
    {
     "data": {
      "text/plain": [
       "array([[1, 2, 3],\n",
       "       [4, 5, 6],\n",
       "       [7, 8, 9]])"
      ]
     },
     "execution_count": 8,
     "metadata": {},
     "output_type": "execute_result"
    }
   ],
   "source": [
    "#create a one dimenstional array  and convert that into 3*3 matrix\n",
    "arr4=np.arange(1,10).reshape(3,3)\n",
    "arr4"
   ]
  },
  {
   "cell_type": "code",
   "execution_count": 9,
   "id": "32ea1ee1",
   "metadata": {},
   "outputs": [
    {
     "data": {
      "text/plain": [
       "array([1, 0, 3, 0, 5, 0, 7, 0, 9, 0])"
      ]
     },
     "execution_count": 9,
     "metadata": {},
     "output_type": "execute_result"
    }
   ],
   "source": [
    "#Create an array and then convert all the even numbers with 0\n",
    "ar=np.arange(1,11)\n",
    "ar[ar%2==0]=0\n",
    "ar"
   ]
  },
  {
   "cell_type": "code",
   "execution_count": 10,
   "id": "4109f0af",
   "metadata": {},
   "outputs": [
    {
     "data": {
      "text/plain": [
       "array([[0.37673363, 0.67114038, 0.62679891],\n",
       "       [0.14841499, 0.7888637 , 0.5997537 ],\n",
       "       [0.97210309, 0.5367316 , 0.75435823]])"
      ]
     },
     "execution_count": 10,
     "metadata": {},
     "output_type": "execute_result"
    }
   ],
   "source": [
    "#Create a 2d array 3*3 size but all the elements should be between 0 and 1\n",
    "arr6=np.random.rand(9).reshape(3,3)\n",
    "arr6"
   ]
  },
  {
   "cell_type": "code",
   "execution_count": 11,
   "id": "b89ff0fa",
   "metadata": {},
   "outputs": [
    {
     "data": {
      "text/plain": [
       "array([[ 6,  7],\n",
       "       [10, 11],\n",
       "       [14, 15]])"
      ]
     },
     "execution_count": 11,
     "metadata": {},
     "output_type": "execute_result"
    }
   ],
   "source": [
    "#perform the slicing on given matrix 4*4\n",
    "arr7=np.arange(1,17).reshape(4,4)\n",
    "arr=arr7[1:,1:3]\n",
    "arr"
   ]
  },
  {
   "cell_type": "code",
   "execution_count": 12,
   "id": "0c79f908",
   "metadata": {},
   "outputs": [
    {
     "data": {
      "text/plain": [
       "array([[ 1,  2,  3, 10, 11, 12],\n",
       "       [ 4,  5,  6, 13, 14, 15],\n",
       "       [ 7,  8,  9, 16, 17, 18]])"
      ]
     },
     "execution_count": 12,
     "metadata": {},
     "output_type": "execute_result"
    }
   ],
   "source": [
    "#concatenate 2D array horizontal stack\n",
    "arr1=np.arange(1,10).reshape(3,3)\n",
    "arr2=np.arange(10,19).reshape(3,3)\n",
    "np.hstack((arr1,arr2))"
   ]
  },
  {
   "cell_type": "code",
   "execution_count": 13,
   "id": "c026ccb8",
   "metadata": {},
   "outputs": [
    {
     "data": {
      "text/plain": [
       "array([[ 1,  2,  3],\n",
       "       [ 4,  5,  6],\n",
       "       [ 7,  8,  9],\n",
       "       [10, 11, 12],\n",
       "       [13, 14, 15],\n",
       "       [16, 17, 18]])"
      ]
     },
     "execution_count": 13,
     "metadata": {},
     "output_type": "execute_result"
    }
   ],
   "source": [
    "#concatenate 2D array vertical stack\n",
    "np.vstack((arr1,arr2))"
   ]
  },
  {
   "cell_type": "code",
   "execution_count": 14,
   "id": "a8a801c5",
   "metadata": {},
   "outputs": [
    {
     "data": {
      "text/plain": [
       "array([0., 0., 0., 0., 0., 0., 0., 0., 0., 0.])"
      ]
     },
     "execution_count": 14,
     "metadata": {},
     "output_type": "execute_result"
    }
   ],
   "source": [
    "#Create an array of 10 zeros\n",
    "np.zeros(10)"
   ]
  },
  {
   "cell_type": "code",
   "execution_count": 15,
   "id": "26a716e1",
   "metadata": {},
   "outputs": [
    {
     "data": {
      "text/plain": [
       "array([1., 1., 1., 1., 1., 1., 1., 1., 1., 1.])"
      ]
     },
     "execution_count": 15,
     "metadata": {},
     "output_type": "execute_result"
    }
   ],
   "source": [
    "#Create an array of 10\n",
    "np.ones(10)"
   ]
  },
  {
   "cell_type": "code",
   "execution_count": 16,
   "id": "d5564a46",
   "metadata": {},
   "outputs": [
    {
     "data": {
      "text/plain": [
       "array([10, 11, 12, 13, 14, 15, 16, 17, 18, 19, 20, 21, 22, 23, 24, 25, 26,\n",
       "       27, 28, 29, 30, 31, 32, 33, 34, 35, 36, 37, 38, 39, 40, 41, 42, 43,\n",
       "       44, 45, 46, 47, 48, 49, 50, 51])"
      ]
     },
     "execution_count": 16,
     "metadata": {},
     "output_type": "execute_result"
    }
   ],
   "source": [
    "#Create an array of integer 10 to 50\n",
    "np.arange(10,52)"
   ]
  },
  {
   "cell_type": "code",
   "execution_count": 17,
   "id": "b10607c8",
   "metadata": {},
   "outputs": [
    {
     "data": {
      "text/plain": [
       "array([10, 12, 14, 16, 18, 20, 22, 24, 26, 28, 30, 32, 34, 36, 38, 40, 42,\n",
       "       44, 46, 48, 50])"
      ]
     },
     "execution_count": 17,
     "metadata": {},
     "output_type": "execute_result"
    }
   ],
   "source": [
    "#Create an array of even integer from 10 to 50\n",
    "np.arange(10,51,2)"
   ]
  },
  {
   "cell_type": "code",
   "execution_count": 18,
   "id": "c3ec97a8",
   "metadata": {},
   "outputs": [
    {
     "data": {
      "text/plain": [
       "array([[0, 1, 2],\n",
       "       [3, 4, 5],\n",
       "       [6, 7, 8]])"
      ]
     },
     "execution_count": 18,
     "metadata": {},
     "output_type": "execute_result"
    }
   ],
   "source": [
    "#create a 3*3 matrix with values ranging from 0 to 8\n",
    "np.arange(0,9).reshape(3,3)"
   ]
  },
  {
   "cell_type": "code",
   "execution_count": 19,
   "id": "4ee99f76",
   "metadata": {},
   "outputs": [
    {
     "data": {
      "text/plain": [
       "array([[1., 0., 0.],\n",
       "       [0., 1., 0.],\n",
       "       [0., 0., 1.]])"
      ]
     },
     "execution_count": 19,
     "metadata": {},
     "output_type": "execute_result"
    }
   ],
   "source": [
    "#create a 3*3 identity matrix\n",
    "np.identity(3)"
   ]
  },
  {
   "cell_type": "code",
   "execution_count": 20,
   "id": "5ee1581f",
   "metadata": {},
   "outputs": [
    {
     "data": {
      "text/plain": [
       "0.11069797366669054"
      ]
     },
     "execution_count": 20,
     "metadata": {},
     "output_type": "execute_result"
    }
   ],
   "source": [
    "#Use numpy to generate a random number between 0 and 1\n",
    "np.random.rand()"
   ]
  },
  {
   "cell_type": "code",
   "execution_count": 21,
   "id": "c9e95dc5",
   "metadata": {},
   "outputs": [
    {
     "data": {
      "text/plain": [
       "array([-0.10555996,  0.9221574 ,  1.64240396,  0.60940691,  0.29563807,\n",
       "        1.35176386, -1.52986688,  1.3741346 ,  0.81744704,  1.22844861,\n",
       "       -2.37269391,  0.00531337, -1.75221971, -0.75133064, -0.71611617,\n",
       "        1.03574656, -0.26201833, -0.17242331, -0.10104181, -1.12543709,\n",
       "       -0.28950074, -0.70750091, -1.15377263,  0.75726387,  0.2272189 ])"
      ]
     },
     "execution_count": 21,
     "metadata": {},
     "output_type": "execute_result"
    }
   ],
   "source": [
    "#Use numpy to generate an array of 25 random numbers sample from a standered normal distribution \n",
    "np.random.randn(25)"
   ]
  },
  {
   "cell_type": "code",
   "execution_count": 22,
   "id": "0101d563",
   "metadata": {},
   "outputs": [
    {
     "data": {
      "text/plain": [
       "array(10)"
      ]
     },
     "execution_count": 22,
     "metadata": {},
     "output_type": "execute_result"
    }
   ],
   "source": [
    "#Create a following matrix\n",
    "np.array(10)"
   ]
  },
  {
   "cell_type": "code",
   "execution_count": 23,
   "id": "9ae88601",
   "metadata": {},
   "outputs": [
    {
     "data": {
      "text/plain": [
       "array([0.        , 0.05263158, 0.10526316, 0.15789474, 0.21052632,\n",
       "       0.26315789, 0.31578947, 0.36842105, 0.42105263, 0.47368421,\n",
       "       0.52631579, 0.57894737, 0.63157895, 0.68421053, 0.73684211,\n",
       "       0.78947368, 0.84210526, 0.89473684, 0.94736842, 1.        ])"
      ]
     },
     "execution_count": 23,
     "metadata": {},
     "output_type": "execute_result"
    }
   ],
   "source": [
    "#Create an array of 20linearly spaced points between 0 and 1\n",
    "np.linspace(0,1,20)"
   ]
  },
  {
   "cell_type": "markdown",
   "id": "ae712061",
   "metadata": {},
   "source": [
    "# Numpy Indexing and Selection\n",
    "Practice on given matrix and replace the resulting matrix output."
   ]
  },
  {
   "cell_type": "code",
   "execution_count": 24,
   "id": "221247bc",
   "metadata": {},
   "outputs": [
    {
     "data": {
      "text/plain": [
       "array([[ 1,  2,  3,  4,  5],\n",
       "       [ 6,  7,  8,  9, 10],\n",
       "       [11, 12, 13, 14, 15],\n",
       "       [16, 17, 18, 19, 20],\n",
       "       [21, 22, 23, 24, 25]])"
      ]
     },
     "execution_count": 24,
     "metadata": {},
     "output_type": "execute_result"
    }
   ],
   "source": [
    "matrix=np.arange(1,26).reshape(5,5)\n",
    "matrix"
   ]
  },
  {
   "cell_type": "code",
   "execution_count": 25,
   "id": "a1ddda30",
   "metadata": {},
   "outputs": [
    {
     "data": {
      "text/plain": [
       "array([[12, 13, 14, 15],\n",
       "       [17, 18, 19, 20],\n",
       "       [22, 23, 24, 25]])"
      ]
     },
     "execution_count": 25,
     "metadata": {},
     "output_type": "execute_result"
    }
   ],
   "source": [
    "#Indexing \n",
    "matrix[2:,1:]"
   ]
  },
  {
   "cell_type": "code",
   "execution_count": 26,
   "id": "df81fb24",
   "metadata": {},
   "outputs": [
    {
     "data": {
      "text/plain": [
       "20"
      ]
     },
     "execution_count": 26,
     "metadata": {},
     "output_type": "execute_result"
    }
   ],
   "source": [
    "matrix[3,4]"
   ]
  },
  {
   "cell_type": "code",
   "execution_count": 27,
   "id": "adf65560",
   "metadata": {},
   "outputs": [
    {
     "data": {
      "text/plain": [
       "array([ 2,  7, 12])"
      ]
     },
     "execution_count": 27,
     "metadata": {},
     "output_type": "execute_result"
    }
   ],
   "source": [
    "matrix[0:3,1]"
   ]
  },
  {
   "cell_type": "code",
   "execution_count": 28,
   "id": "2775a24d",
   "metadata": {},
   "outputs": [
    {
     "data": {
      "text/plain": [
       "array([[ 2],\n",
       "       [ 7],\n",
       "       [12]])"
      ]
     },
     "execution_count": 28,
     "metadata": {},
     "output_type": "execute_result"
    }
   ],
   "source": [
    "matrix[0:3,1].reshape(3,1)"
   ]
  },
  {
   "cell_type": "code",
   "execution_count": 29,
   "id": "ae0dce41",
   "metadata": {},
   "outputs": [
    {
     "data": {
      "text/plain": [
       "array([21, 22, 23, 24, 25])"
      ]
     },
     "execution_count": 29,
     "metadata": {},
     "output_type": "execute_result"
    }
   ],
   "source": [
    "matrix[4,:]"
   ]
  },
  {
   "cell_type": "code",
   "execution_count": 30,
   "id": "f2274ada",
   "metadata": {},
   "outputs": [
    {
     "data": {
      "text/plain": [
       "array([[16, 17, 18, 19, 20],\n",
       "       [21, 22, 23, 24, 25]])"
      ]
     },
     "execution_count": 30,
     "metadata": {},
     "output_type": "execute_result"
    }
   ],
   "source": [
    "matrix[3:5,:]"
   ]
  },
  {
   "cell_type": "code",
   "execution_count": 31,
   "id": "d5600510",
   "metadata": {},
   "outputs": [
    {
     "data": {
      "text/plain": [
       "7.211102550927978"
      ]
     },
     "execution_count": 31,
     "metadata": {},
     "output_type": "execute_result"
    }
   ],
   "source": [
    "#Get the standered deviation of the values in matrix\n",
    "matrix.std()"
   ]
  },
  {
   "cell_type": "code",
   "execution_count": 32,
   "id": "7897d9a0",
   "metadata": {},
   "outputs": [
    {
     "data": {
      "text/plain": [
       "325"
      ]
     },
     "execution_count": 32,
     "metadata": {},
     "output_type": "execute_result"
    }
   ],
   "source": [
    "#Get the sum of all values in matrix\n",
    "matrix.sum()"
   ]
  },
  {
   "cell_type": "code",
   "execution_count": 33,
   "id": "4265334b",
   "metadata": {},
   "outputs": [
    {
     "data": {
      "text/plain": [
       "array([ 15,  40,  65,  90, 115])"
      ]
     },
     "execution_count": 33,
     "metadata": {},
     "output_type": "execute_result"
    }
   ],
   "source": [
    "#Get the sum of all columns in matrix\n",
    "matrix.sum(axis=1)"
   ]
  },
  {
   "cell_type": "code",
   "execution_count": 34,
   "id": "ff8a6897",
   "metadata": {},
   "outputs": [
    {
     "data": {
      "text/plain": [
       "array([0, 1, 2, 3, 4, 5, 6, 7, 8, 9])"
      ]
     },
     "execution_count": 34,
     "metadata": {},
     "output_type": "execute_result"
    }
   ],
   "source": [
    "from matplotlib import pyplot as plt \n",
    "x=np.arange(0,10,1)\n",
    "x"
   ]
  },
  {
   "cell_type": "code",
   "execution_count": 35,
   "id": "483247f9",
   "metadata": {},
   "outputs": [
    {
     "data": {
      "text/plain": [
       "array([0, 1, 2, 3, 4, 5, 6, 7, 8, 9])"
      ]
     },
     "execution_count": 35,
     "metadata": {},
     "output_type": "execute_result"
    }
   ],
   "source": [
    "y=np.arange(0,10,1)\n",
    "y"
   ]
  },
  {
   "cell_type": "code",
   "execution_count": 36,
   "id": "684d982f",
   "metadata": {},
   "outputs": [
    {
     "data": {
      "text/plain": [
       "[]"
      ]
     },
     "execution_count": 36,
     "metadata": {},
     "output_type": "execute_result"
    },
    {
     "data": {
      "image/png": "[encoded data removed]",
      "text/plain": [
       "<Figure size 432x288 with 1 Axes>"
      ]
     },
     "metadata": {
      "needs_background": "light"
     },
     "output_type": "display_data"
    }
   ],
   "source": [
    "plt.plot()"
   ]
  },
  {
   "cell_type": "code",
   "execution_count": 37,
   "id": "2c7cda3f",
   "metadata": {},
   "outputs": [
    {
     "data": {
      "text/plain": [
       "[<matplotlib.lines.Line2D at 0x2001e6d61f0>]"
      ]
     },
     "execution_count": 37,
     "metadata": {},
     "output_type": "execute_result"
    },
    {
     "data": {
      "image/png": "[encoded data removed]",
      "text/plain": [
       "<Figure size 432x288 with 1 Axes>"
      ]
     },
     "metadata": {
      "needs_background": "light"
     },
     "output_type": "display_data"
    }
   ],
   "source": [
    "plt.plot(x,y)"
   ]
  },
  {
   "cell_type": "code",
   "execution_count": 38,
   "id": "b8fb4862",
   "metadata": {},
   "outputs": [
    {
     "data": {
      "text/plain": [
       "Text(0.5, 1.0, 'Title X Versus Y ')"
      ]
     },
     "execution_count": 38,
     "metadata": {},
     "output_type": "execute_result"
    },
    {
     "data": {
      "image/png": "[encoded data removed]",
      "text/plain": [
       "<Figure size 432x288 with 1 Axes>"
      ]
     },
     "metadata": {
      "needs_background": "light"
     },
     "output_type": "display_data"
    }
   ],
   "source": [
    "plt.plot(x,y)\n",
    "plt.xlabel(\" X----->Axis \")\n",
    "plt.ylabel(\" Y------>Axis \")\n",
    "plt.title(\"Title X Versus Y \")"
   ]
  },
  {
   "cell_type": "code",
   "execution_count": 39,
   "id": "05982ff3",
   "metadata": {},
   "outputs": [
    {
     "data": {
      "text/plain": [
       "<BarContainer object of 3 artists>"
      ]
     },
     "execution_count": 39,
     "metadata": {},
     "output_type": "execute_result"
    },
    {
     "data": {
      "image/png": "[encoded data removed]",
      "text/plain": [
       "<Figure size 432x288 with 1 Axes>"
      ]
     },
     "metadata": {
      "needs_background": "light"
     },
     "output_type": "display_data"
    }
   ],
   "source": [
    "from matplotlib import pyplot as plt\n",
    "data={\"apple\":50,\"banana\":20,\"orange\":30}\n",
    "names=list(data.keys())\n",
    "values=list(data.values())\n",
    "#for key, value in data.items():\n",
    "    #print(\"{}: {}\".format(key, value))\n",
    "plt.bar(names,values)"
   ]
  },
  {
   "cell_type": "code",
   "execution_count": 40,
   "id": "505da618",
   "metadata": {},
   "outputs": [
    {
     "data": {
      "image/png": "[encoded data removed]",
      "text/plain": [
       "<Figure size 432x288 with 1 Axes>"
      ]
     },
     "metadata": {
      "needs_background": "light"
     },
     "output_type": "display_data"
    }
   ],
   "source": [
    "x=[1, 2, 3]\n",
    "y=[1, 4, 9]\n",
    "z=[10, 5, 0]\n",
    "plt.plot(x,y)\n",
    "plt.title(\"Test Plot\")\n",
    "plt.xlabel(\" X - Axis \")\n",
    "plt.ylabel(\" Y - Axis \")\n",
    "plt.show()"
   ]
  },
  {
   "cell_type": "code",
   "execution_count": 41,
   "id": "7be71196",
   "metadata": {},
   "outputs": [
    {
     "data": {
      "text/plain": [
       "array([0, 1, 2, 3, 4, 5, 6, 7, 8, 9])"
      ]
     },
     "execution_count": 41,
     "metadata": {},
     "output_type": "execute_result"
    }
   ],
   "source": [
    "#Replace all the odd numbers in the numpy array to -1\n",
    "ar=np.arange(0,10)\n",
    "ar"
   ]
  },
  {
   "cell_type": "code",
   "execution_count": 42,
   "id": "e544b862",
   "metadata": {},
   "outputs": [
    {
     "data": {
      "text/plain": [
       "array([ 0, -1,  2, -1,  4, -1,  6, -1,  8, -1])"
      ]
     },
     "execution_count": 42,
     "metadata": {},
     "output_type": "execute_result"
    }
   ],
   "source": [
    "ar[ar%2==1]=-1\n",
    "ar"
   ]
  },
  {
   "cell_type": "code",
   "execution_count": 43,
   "id": "71aad67d",
   "metadata": {},
   "outputs": [
    {
     "data": {
      "text/plain": [
       "array([2, 4])"
      ]
     },
     "execution_count": 43,
     "metadata": {},
     "output_type": "execute_result"
    }
   ],
   "source": [
    "#To get common items between two numpy array\n",
    "a=np.array([1,2,3,2,3,3,4,4,5,6])\n",
    "b=np.array([7,2,10,2,7,4,9,4,9,8])\n",
    "np.intersect1d(a,b)"
   ]
  }
 ],
 "metadata": {
  "kernelspec": {
   "display_name": "Python 3 (ipykernel)",
   "language": "python",
   "name": "python3"
  },
  "language_info": {
   "codemirror_mode": {
    "name": "ipython",
    "version": 3
   },
   "file_extension": ".py",
   "mimetype": "text/x-python",
   "name": "python",
   "nbconvert_exporter": "python",
   "pygments_lexer": "ipython3",
   "version": "3.9.12"
  }
 },
 "nbformat": 4,
 "nbformat_minor": 5
}
