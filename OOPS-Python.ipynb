{
 "cells": [
  {
   "cell_type": "markdown",
   "id": "34562270",
   "metadata": {},
   "source": [
    "# Classes & Objects\n",
    "- A Class is an object constructor or a \"blueprint\" for creating objects.<br>\n",
    "- Objects are nothing but an encapsulation of variables and functions into a single entity.<br>\n",
    "- Objects get their variables and functions from classes.<br>\n",
    "- To create a class we use the keyword class.<br>\n",
    "- The first string inside the class is called docstring which gives the brief description about the\n",
    "  class.<br>\n",
    "- All classes have a function called which is always executed when the class is being initiated.<br>\n",
    "- We can use function to assign values to object properties or other operations that are necessary to perform when the       object is being created<br>\n",
    "- The self parameter is a reference to the current instance of the class and is used to access\n",
    "  class variables.<br>\n",
    "- self must be the first parameter of any function in the class<br>\n",
    "- The super() builtin function returns a temporary object of the superclass that allows us to access methods of the base     class.<br>\n",
    "- super() allows us to avoid using the base class name explicitly and to enable multiple inheritance."
   ]
  },
  {
   "cell_type": "code",
   "execution_count": 1,
   "id": "8492620c",
   "metadata": {},
   "outputs": [
    {
     "name": "stdout",
     "output_type": "stream",
     "text": [
      "10\n"
     ]
    }
   ],
   "source": [
    "# Create a class with property \"var1\"\n",
    "class myclass:\n",
    "    var1 = 10\n",
    "\n",
    "obj1 = myclass() # Create an object of class \"myclass()\"\n",
    "print(obj1.var1)"
   ]
  },
  {
   "cell_type": "code",
   "execution_count": 2,
   "id": "cafb7464",
   "metadata": {},
   "outputs": [
    {
     "name": "stdout",
     "output_type": "stream",
     "text": [
      "Name :-  Sunil\n",
      "Employee ID :-  942194\n",
      "Thanks for joining Neosoft Company Sunil!!\n"
     ]
    }
   ],
   "source": [
    "#Create an employee class\n",
    "class Employee:\n",
    "    def __init__(self, name, empid): # __init__() function is used to assign values\n",
    "        self.name = name\n",
    "        self.empid = empid\n",
    "    def greet(self): # Class Method\n",
    "        print(\"Thanks for joining Neosoft Company {}!!\".format(self.name))\n",
    "emp1 = Employee(\"Sunil\", 942194) # Create an employee object\n",
    "print('Name :- ',emp1.name)\n",
    "print('Employee ID :- ',emp1.empid)\n",
    "emp1.greet()"
   ]
  },
  {
   "cell_type": "code",
   "execution_count": 3,
   "id": "3a23246e",
   "metadata": {},
   "outputs": [
    {
     "data": {
      "text/plain": [
       "'Rohit'"
      ]
     },
     "execution_count": 3,
     "metadata": {},
     "output_type": "execute_result"
    }
   ],
   "source": [
    "emp1.name = 'Rohit' # Modify Object Properties\n",
    "emp1.name"
   ]
  },
  {
   "cell_type": "code",
   "execution_count": 4,
   "id": "2b08a434",
   "metadata": {},
   "outputs": [
    {
     "ename": "AttributeError",
     "evalue": "'Employee' object has no attribute 'empid'",
     "output_type": "error",
     "traceback": [
      "\u001b[1;31m---------------------------------------------------------------------------\u001b[0m",
      "\u001b[1;31mAttributeError\u001b[0m                            Traceback (most recent call last)",
      "Cell \u001b[1;32mIn[4], line 2\u001b[0m\n\u001b[0;32m      1\u001b[0m \u001b[38;5;28;01mdel\u001b[39;00m emp1\u001b[38;5;241m.\u001b[39mempid \u001b[38;5;66;03m# Delete Object Properties\u001b[39;00m\n\u001b[1;32m----> 2\u001b[0m \u001b[43memp1\u001b[49m\u001b[38;5;241;43m.\u001b[39;49m\u001b[43mempid\u001b[49m\n",
      "\u001b[1;31mAttributeError\u001b[0m: 'Employee' object has no attribute 'empid'"
     ]
    }
   ],
   "source": [
    "del emp1.empid # Delete Object Properties\n",
    "emp1.empid"
   ]
  },
  {
   "cell_type": "code",
   "execution_count": 5,
   "id": "f0ef5fac",
   "metadata": {},
   "outputs": [
    {
     "ename": "NameError",
     "evalue": "name 'emp1' is not defined",
     "output_type": "error",
     "traceback": [
      "\u001b[1;31m---------------------------------------------------------------------------\u001b[0m",
      "\u001b[1;31mNameError\u001b[0m                                 Traceback (most recent call last)",
      "Cell \u001b[1;32mIn[5], line 2\u001b[0m\n\u001b[0;32m      1\u001b[0m \u001b[38;5;28;01mdel\u001b[39;00m emp1 \u001b[38;5;66;03m# Delete the object\u001b[39;00m\n\u001b[1;32m----> 2\u001b[0m \u001b[43memp1\u001b[49m\n",
      "\u001b[1;31mNameError\u001b[0m: name 'emp1' is not defined"
     ]
    }
   ],
   "source": [
    "del emp1 # Delete the object\n",
    "emp1"
   ]
  },
  {
   "cell_type": "code",
   "execution_count": 6,
   "id": "88c319b1",
   "metadata": {},
   "outputs": [
    {
     "name": "stdout",
     "output_type": "stream",
     "text": [
      "Name :-  Kartik\n",
      "Employee ID :-  9970\n",
      "Thanks for joining Neosoft Company Kartik!!\n"
     ]
    }
   ],
   "source": [
    "emp2 = Employee(\"Kartik\", 9970) # Create an employee object\n",
    "print('Name :- ',emp2.name)\n",
    "print('Employee ID :- ',emp2.empid)\n",
    "emp2.greet()"
   ]
  },
  {
   "cell_type": "code",
   "execution_count": 7,
   "id": "24d83028",
   "metadata": {},
   "outputs": [
    {
     "data": {
      "text/plain": [
       "'India'"
      ]
     },
     "execution_count": 7,
     "metadata": {},
     "output_type": "execute_result"
    }
   ],
   "source": [
    "emp2.country = 'India' #instance variable can be created manually\n",
    "emp2.country"
   ]
  },
  {
   "cell_type": "markdown",
   "id": "7b8759b8",
   "metadata": {},
   "source": [
    "# Inheritance\n",
    "- Inheritance is a powerful feature in object oriented programming.\n",
    "- Inheritance provides code reusability in the program because we can use an existing class\n",
    "- (Super Class/ Parent Class / Base Class) to create a new class (Sub Class / Child Class /Derived Class) \n",
    "  instead of creating it from scratch.\n",
    "- The child class inherits data definitions and methods from the parent class which facilitates the reuse of features         already available. The child class can add few more definitions or redefine a base class method.\n",
    "- Inheritance comes into picture when a new class possesses the 'IS A' relationship with an existing class. \n",
    "- E.g Student is a person. Hence person is the base class and student is derived class"
   ]
  },
  {
   "cell_type": "code",
   "execution_count": 13,
   "id": "ae97e23d",
   "metadata": {},
   "outputs": [
    {
     "name": "stdout",
     "output_type": "stream",
     "text": [
      "Student Details\n",
      "---------------\n",
      "Name :- Sunil\n",
      "Age :- 40\n",
      "Gender :- Male\n",
      "Student ID :- 12345\n",
      "Fees :- 25000\n",
      "\n",
      "Employee Details\n",
      "---------------\n",
      "Name :- Albert\n",
      "Age :- 45\n",
      "Gender :- Male\n",
      "Employee ID :- 6789\n",
      "Salary :- 75000\n"
     ]
    }
   ],
   "source": [
    "class person: # Parent Class\n",
    "    def __init__(self, name , age , gender):\n",
    "        self.name = name\n",
    "        self.age = age\n",
    "        self.gender = gender\n",
    "    def PersonInfo(self):\n",
    "        print('Name :- {}'.format(self.name))\n",
    "        print('Age :- {}'.format(self.age))\n",
    "        print('Gender :- {}'.format(self.gender))\n",
    "\n",
    "class student(person): # Child Class\n",
    "    def __init__(self,name,age,gender,studentid,fees):\n",
    "        person.__init__(self,name,age,gender)\n",
    "        self.studentid = studentid\n",
    "        self.fees = fees\n",
    "    \n",
    "    def StudentInfo(self):\n",
    "        print('Student ID :- {}'.format(self.studentid))\n",
    "        print('Fees :- {}'.format(self.fees))\n",
    "\n",
    "class teacher(person): # Child Class\n",
    "    def __init__(self,name,age,gender,empid,salary):\n",
    "        person.__init__(self,name,age,gender)\n",
    "        self.empid = empid\n",
    "        self.salary = salary\n",
    "    def TeacherInfo(self):\n",
    "        print('Employee ID :- {}'.format(self.empid))\n",
    "        print('Salary :- {}'.format(self.salary))\n",
    "\n",
    "stud1 = student('Sunil' , 40 , 'Male' , 12345 , 25000)\n",
    "print('Student Details')\n",
    "print('---------------')\n",
    "stud1.PersonInfo()      # PersonInfo() method presnt in Parent Class will be access\n",
    "stud1.StudentInfo()\n",
    "print()\n",
    "teacher1 = teacher('Albert' , 45 , 'Male' , 6789 , 75000)\n",
    "print('Employee Details')\n",
    "print('---------------')\n",
    "teacher1.PersonInfo()     # PersonInfo() method presnt in Parent Class will be acc\n",
    "teacher1.TeacherInfo()"
   ]
  },
  {
   "cell_type": "code",
   "execution_count": 14,
   "id": "558f40ae",
   "metadata": {},
   "outputs": [
    {
     "name": "stdout",
     "output_type": "stream",
     "text": [
      "Contractual Employee Details\n",
      "****************************\n"
     ]
    },
    {
     "ename": "NameError",
     "evalue": "name 'contractual' is not defined",
     "output_type": "error",
     "traceback": [
      "\u001b[1;31m---------------------------------------------------------------------------\u001b[0m",
      "\u001b[1;31mNameError\u001b[0m                                 Traceback (most recent call last)",
      "Cell \u001b[1;32mIn[14], line 28\u001b[0m\n\u001b[0;32m     26\u001b[0m \u001b[38;5;28mprint\u001b[39m(\u001b[38;5;124m'\u001b[39m\u001b[38;5;124mContractual Employee Details\u001b[39m\u001b[38;5;124m'\u001b[39m)\n\u001b[0;32m     27\u001b[0m \u001b[38;5;28mprint\u001b[39m(\u001b[38;5;124m'\u001b[39m\u001b[38;5;124m****************************\u001b[39m\u001b[38;5;124m'\u001b[39m)\n\u001b[1;32m---> 28\u001b[0m contract1 \u001b[38;5;241m=\u001b[39m \u001b[43mcontractual\u001b[49m(\u001b[38;5;124m'\u001b[39m\u001b[38;5;124mDilip\u001b[39m\u001b[38;5;124m'\u001b[39m , \u001b[38;5;241m36\u001b[39m , \u001b[38;5;124m'\u001b[39m\u001b[38;5;124mMale\u001b[39m\u001b[38;5;124m'\u001b[39m , \u001b[38;5;241m4507\u001b[39m , \u001b[38;5;241m65000\u001b[39m,\u001b[38;5;124m'\u001b[39m\u001b[38;5;124m21-12-2024\u001b[39m\u001b[38;5;124m'\u001b[39m)\n\u001b[0;32m     29\u001b[0m contract1\u001b[38;5;241m.\u001b[39mPersonInfo()\n\u001b[0;32m     30\u001b[0m contract1\u001b[38;5;241m.\u001b[39memployeeInfo()\n",
      "\u001b[1;31mNameError\u001b[0m: name 'contractual' is not defined"
     ]
    }
   ],
   "source": [
    "class person: # Parent Class\n",
    "    def __init__(self, name , age , gender):\n",
    "        self.name = name\n",
    "        self.age = age\n",
    "        self.gender = gender\n",
    "    def PersonInfo(self):\n",
    "        print('Name :- {}'.format(self.name))\n",
    "        print('Age :- {}'.format(self.age))\n",
    "        print('Gender :- {}'.format(self.gender))\n",
    "\n",
    "class employee(person): # Child Class\n",
    "    def __init__(self,name,age,gender,empid,salary):\n",
    "        person.__init__(self,name,age,gender)\n",
    "        self.empid = empid\n",
    "        self.salary = salary\n",
    "    def employeeInfo(self):\n",
    "        print('Employee ID :- {}'.format(self.empid))\n",
    "        print('Salary :- {}'.format(self.salary))\n",
    "\n",
    "class fulltime(employee): # Grand Child Class\n",
    "    def __init__(self,name,age,gender,empid,salary,WorkExperience):\n",
    "        employee.__init__(self,name,age,gender,empid,salary)\n",
    "        self.WorkExperience = WorkExperience\n",
    "    def FulltimeInfo(self):\n",
    "        print('Work Experience :- {}'.format(self.WorkExperience))\n",
    "print('Contractual Employee Details')\n",
    "print('****************************')\n",
    "contract1 = contractual('Dilip' , 36 , 'Male' , 4507 , 65000,'21-12-2024')\n",
    "contract1.PersonInfo()\n",
    "contract1.employeeInfo()\n",
    "contract1.ContractInfo()\n",
    "print('\\n \\n')\n",
    "\n",
    "rint('Fulltime Employee Details')\n",
    "print('****************************')\n",
    "fulltim1= fulltime('Sunil' , 40 , 'Male' , 7021 , 75000, 12)\n",
    "fulltim1.PersonInfo()\n",
    "fulltim1.employeeInfo()\n",
    "fulltim1.FulltimeInfo()"
   ]
  }
 ],
 "metadata": {
  "kernelspec": {
   "display_name": "Python 3 (ipykernel)",
   "language": "python",
   "name": "python3"
  },
  "language_info": {
   "codemirror_mode": {
    "name": "ipython",
    "version": 3
   },
   "file_extension": ".py",
   "mimetype": "text/x-python",
   "name": "python",
   "nbconvert_exporter": "python",
   "pygments_lexer": "ipython3",
   "version": "3.9.12"
  }
 },
 "nbformat": 4,
 "nbformat_minor": 5
}
