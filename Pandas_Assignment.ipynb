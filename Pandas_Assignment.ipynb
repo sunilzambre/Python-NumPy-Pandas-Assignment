{
 "cells": [
  {
   "cell_type": "markdown",
   "id": "096955b4",
   "metadata": {},
   "source": [
    "# Pandas"
   ]
  },
  {
   "cell_type": "markdown",
   "id": "ee28b1d2",
   "metadata": {},
   "source": [
    "**(1) Pandas is an open-source data manipulation and analysis library for the Python programming language.**  <br> \n",
    "\n",
    "**(2) It provides data structures for efficiently storing and manipulating large datasets  and tools for working with tabular and time-series data.**<br>\n",
    "\n",
    "**(3) The primary data structures in Pandas are the Series and DataFrame.**  <br>\n",
    "\n",
    "**(4) A Series is a one-dimensional array-like object that can hold any data type, while a DataFrame is a two-dimensional table-like data structure with columns of potentially different data types.**<br>\n",
    "\n",
    "**(5) Pandas provides a wide range of functionalities for data manipulation and analysis, including reading and writing data from various file formats (CSV, Excel, SQL databases, etc.)**<br>\n",
    "\n",
    "**(6) Data cleaning and preprocessing, data filtering and selection, grouping and aggregation, merging and joining, reshaping and pivoting, time-series analysis, and more.**<br>\n",
    "\n",
    "**(7) Pandas is widely used in data analysis, machine learning, and scientific computing, and is a fundamental tool in the Python data science ecosystem.**"
   ]
  },
  {
   "cell_type": "code",
   "execution_count": 1,
   "id": "26a4dee6",
   "metadata": {},
   "outputs": [],
   "source": [
    "import numpy as np\n",
    "import pandas as pd\n",
    "import matplotlib.pyplot as plt"
   ]
  },
  {
   "cell_type": "markdown",
   "id": "1b98e9c1",
   "metadata": {},
   "source": [
    "## Object Creation"
   ]
  },
  {
   "cell_type": "code",
   "execution_count": 2,
   "id": "b7479c17",
   "metadata": {},
   "outputs": [],
   "source": [
    "#Creating a Series by passing a list of values, letting pandas create a default integer index.\n",
    "s = pd.Series([1,3,5,np.nan,6,8,np.nan])"
   ]
  },
  {
   "cell_type": "code",
   "execution_count": 3,
   "id": "af8f6243",
   "metadata": {},
   "outputs": [
    {
     "data": {
      "text/plain": [
       "0    1.0\n",
       "1    3.0\n",
       "2    5.0\n",
       "3    NaN\n",
       "4    6.0\n",
       "5    8.0\n",
       "6    NaN\n",
       "dtype: float64"
      ]
     },
     "execution_count": 3,
     "metadata": {},
     "output_type": "execute_result"
    }
   ],
   "source": [
    "s"
   ]
  },
  {
   "cell_type": "code",
   "execution_count": 4,
   "id": "553d3331",
   "metadata": {},
   "outputs": [],
   "source": [
    "#Creating a DataFrameby passing a numpy array, with a datetime index and labeled columns.\n",
    "dates = pd.date_range('20230505', periods=6)"
   ]
  },
  {
   "cell_type": "code",
   "execution_count": 5,
   "id": "c3a511f5",
   "metadata": {},
   "outputs": [
    {
     "data": {
      "text/plain": [
       "DatetimeIndex(['2023-05-05', '2023-05-06', '2023-05-07', '2023-05-08',\n",
       "               '2023-05-09', '2023-05-10'],\n",
       "              dtype='datetime64[ns]', freq='D')"
      ]
     },
     "execution_count": 5,
     "metadata": {},
     "output_type": "execute_result"
    }
   ],
   "source": [
    "dates"
   ]
  },
  {
   "cell_type": "code",
   "execution_count": 6,
   "id": "25871e15",
   "metadata": {},
   "outputs": [
    {
     "name": "stdout",
     "output_type": "stream",
     "text": [
      "DatetimeIndex(['2023-05-01 00:00:00', '2023-05-01 01:00:00',\n",
      "               '2023-05-01 02:00:00', '2023-05-01 03:00:00',\n",
      "               '2023-05-01 04:00:00', '2023-05-01 05:00:00',\n",
      "               '2023-05-01 06:00:00', '2023-05-01 07:00:00',\n",
      "               '2023-05-01 08:00:00', '2023-05-01 09:00:00',\n",
      "               '2023-05-01 10:00:00', '2023-05-01 11:00:00',\n",
      "               '2023-05-01 12:00:00', '2023-05-01 13:00:00',\n",
      "               '2023-05-01 14:00:00', '2023-05-01 15:00:00',\n",
      "               '2023-05-01 16:00:00', '2023-05-01 17:00:00',\n",
      "               '2023-05-01 18:00:00', '2023-05-01 19:00:00',\n",
      "               '2023-05-01 20:00:00', '2023-05-01 21:00:00',\n",
      "               '2023-05-01 22:00:00', '2023-05-01 23:00:00',\n",
      "               '2023-05-02 00:00:00', '2023-05-02 01:00:00',\n",
      "               '2023-05-02 02:00:00', '2023-05-02 03:00:00',\n",
      "               '2023-05-02 04:00:00', '2023-05-02 05:00:00',\n",
      "               '2023-05-02 06:00:00', '2023-05-02 07:00:00',\n",
      "               '2023-05-02 08:00:00', '2023-05-02 09:00:00',\n",
      "               '2023-05-02 10:00:00', '2023-05-02 11:00:00',\n",
      "               '2023-05-02 12:00:00', '2023-05-02 13:00:00',\n",
      "               '2023-05-02 14:00:00', '2023-05-02 15:00:00',\n",
      "               '2023-05-02 16:00:00', '2023-05-02 17:00:00',\n",
      "               '2023-05-02 18:00:00', '2023-05-02 19:00:00',\n",
      "               '2023-05-02 20:00:00', '2023-05-02 21:00:00',\n",
      "               '2023-05-02 22:00:00', '2023-05-02 23:00:00',\n",
      "               '2023-05-03 00:00:00', '2023-05-03 01:00:00',\n",
      "               '2023-05-03 02:00:00', '2023-05-03 03:00:00',\n",
      "               '2023-05-03 04:00:00', '2023-05-03 05:00:00',\n",
      "               '2023-05-03 06:00:00', '2023-05-03 07:00:00',\n",
      "               '2023-05-03 08:00:00', '2023-05-03 09:00:00',\n",
      "               '2023-05-03 10:00:00', '2023-05-03 11:00:00',\n",
      "               '2023-05-03 12:00:00', '2023-05-03 13:00:00',\n",
      "               '2023-05-03 14:00:00', '2023-05-03 15:00:00',\n",
      "               '2023-05-03 16:00:00', '2023-05-03 17:00:00',\n",
      "               '2023-05-03 18:00:00', '2023-05-03 19:00:00',\n",
      "               '2023-05-03 20:00:00', '2023-05-03 21:00:00',\n",
      "               '2023-05-03 22:00:00', '2023-05-03 23:00:00',\n",
      "               '2023-05-04 00:00:00', '2023-05-04 01:00:00',\n",
      "               '2023-05-04 02:00:00', '2023-05-04 03:00:00',\n",
      "               '2023-05-04 04:00:00', '2023-05-04 05:00:00',\n",
      "               '2023-05-04 06:00:00', '2023-05-04 07:00:00',\n",
      "               '2023-05-04 08:00:00', '2023-05-04 09:00:00',\n",
      "               '2023-05-04 10:00:00', '2023-05-04 11:00:00',\n",
      "               '2023-05-04 12:00:00', '2023-05-04 13:00:00',\n",
      "               '2023-05-04 14:00:00', '2023-05-04 15:00:00',\n",
      "               '2023-05-04 16:00:00', '2023-05-04 17:00:00',\n",
      "               '2023-05-04 18:00:00', '2023-05-04 19:00:00',\n",
      "               '2023-05-04 20:00:00', '2023-05-04 21:00:00',\n",
      "               '2023-05-04 22:00:00', '2023-05-04 23:00:00',\n",
      "               '2023-05-05 00:00:00'],\n",
      "              dtype='datetime64[ns]', freq='H')\n"
     ]
    }
   ],
   "source": [
    "start_date = '2023-05-01 00:00:00'\n",
    "end_date = '2023-05-05 00:00:00'\n",
    "\n",
    "dt_index = pd.date_range(start=start_date, end=end_date, freq='H')\n",
    "\n",
    "print(dt_index)"
   ]
  },
  {
   "cell_type": "code",
   "execution_count": 7,
   "id": "bd076635",
   "metadata": {},
   "outputs": [],
   "source": [
    "df = pd.DataFrame(np.random.randn(6,4), index=dates, columns=list('ABCD'))"
   ]
  },
  {
   "cell_type": "code",
   "execution_count": 8,
   "id": "b9c12e49",
   "metadata": {},
   "outputs": [
    {
     "data": {
      "text/html": [
       "<div>\n",
       "<style scoped>\n",
       "    .dataframe tbody tr th:only-of-type {\n",
       "        vertical-align: middle;\n",
       "    }\n",
       "\n",
       "    .dataframe tbody tr th {\n",
       "        vertical-align: top;\n",
       "    }\n",
       "\n",
       "    .dataframe thead th {\n",
       "        text-align: right;\n",
       "    }\n",
       "</style>\n",
       "<table border=\"1\" class=\"dataframe\">\n",
       "  <thead>\n",
       "    <tr style=\"text-align: right;\">\n",
       "      <th></th>\n",
       "      <th>A</th>\n",
       "      <th>B</th>\n",
       "      <th>C</th>\n",
       "      <th>D</th>\n",
       "    </tr>\n",
       "  </thead>\n",
       "  <tbody>\n",
       "    <tr>\n",
       "      <th>2023-05-05</th>\n",
       "      <td>0.021659</td>\n",
       "      <td>1.221645</td>\n",
       "      <td>-0.738822</td>\n",
       "      <td>-1.059832</td>\n",
       "    </tr>\n",
       "    <tr>\n",
       "      <th>2023-05-06</th>\n",
       "      <td>0.437865</td>\n",
       "      <td>-1.232005</td>\n",
       "      <td>0.797895</td>\n",
       "      <td>-1.294381</td>\n",
       "    </tr>\n",
       "    <tr>\n",
       "      <th>2023-05-07</th>\n",
       "      <td>1.700886</td>\n",
       "      <td>-0.049315</td>\n",
       "      <td>-0.354543</td>\n",
       "      <td>-0.134706</td>\n",
       "    </tr>\n",
       "    <tr>\n",
       "      <th>2023-05-08</th>\n",
       "      <td>0.175529</td>\n",
       "      <td>-0.911489</td>\n",
       "      <td>-0.531176</td>\n",
       "      <td>1.762255</td>\n",
       "    </tr>\n",
       "    <tr>\n",
       "      <th>2023-05-09</th>\n",
       "      <td>-0.990478</td>\n",
       "      <td>-0.267235</td>\n",
       "      <td>0.939321</td>\n",
       "      <td>0.513438</td>\n",
       "    </tr>\n",
       "    <tr>\n",
       "      <th>2023-05-10</th>\n",
       "      <td>-0.255577</td>\n",
       "      <td>0.291297</td>\n",
       "      <td>-0.227027</td>\n",
       "      <td>0.206399</td>\n",
       "    </tr>\n",
       "  </tbody>\n",
       "</table>\n",
       "</div>"
      ],
      "text/plain": [
       "                   A         B         C         D\n",
       "2023-05-05  0.021659  1.221645 -0.738822 -1.059832\n",
       "2023-05-06  0.437865 -1.232005  0.797895 -1.294381\n",
       "2023-05-07  1.700886 -0.049315 -0.354543 -0.134706\n",
       "2023-05-08  0.175529 -0.911489 -0.531176  1.762255\n",
       "2023-05-09 -0.990478 -0.267235  0.939321  0.513438\n",
       "2023-05-10 -0.255577  0.291297 -0.227027  0.206399"
      ]
     },
     "execution_count": 8,
     "metadata": {},
     "output_type": "execute_result"
    }
   ],
   "source": [
    "df"
   ]
  },
  {
   "cell_type": "code",
   "execution_count": 9,
   "id": "14d0bdf7",
   "metadata": {},
   "outputs": [
    {
     "name": "stdout",
     "output_type": "stream",
     "text": [
      "     A          B    C  D      E      F\n",
      "0  1.0 2023-05-05  1.0  3   test  Model\n",
      "1  1.0 2023-05-05  2.0  3  train  Model\n",
      "2  1.0 2023-05-05  3.0  3   test  Model\n",
      "3  1.0 2023-05-05  4.0  3  train  Model\n"
     ]
    }
   ],
   "source": [
    "#Creating a DataFrameby passing a dict of objects that can be converted to series - like\n",
    "\n",
    "df2 = pd.DataFrame({\n",
    "    'A': 1.0,\n",
    "    'B': pd.Timestamp('20230505'),\n",
    "    'C': pd.Series([1.0, 2.0, 3.0, 4.0], index=list(range(4)), dtype='float32'),\n",
    "    'D': np.array([3] * 4, dtype='int32'),\n",
    "    'E': pd.Categorical([\"test\",\"train\",\"test\",\"train\"]),\n",
    "    'F': 'Model'\n",
    "})\n",
    "\n",
    "print(df2)"
   ]
  },
  {
   "cell_type": "code",
   "execution_count": 10,
   "id": "5b632072",
   "metadata": {},
   "outputs": [
    {
     "data": {
      "text/plain": [
       "A           float64\n",
       "B    datetime64[ns]\n",
       "C           float32\n",
       "D             int32\n",
       "E          category\n",
       "F            object\n",
       "dtype: object"
      ]
     },
     "execution_count": 10,
     "metadata": {},
     "output_type": "execute_result"
    }
   ],
   "source": [
    "#specific dtypes\n",
    "df2.dtypes"
   ]
  },
  {
   "cell_type": "code",
   "execution_count": 11,
   "id": "3c24197f",
   "metadata": {},
   "outputs": [
    {
     "data": {
      "text/plain": [
       "0    1.0\n",
       "1    1.0\n",
       "2    1.0\n",
       "3    1.0\n",
       "Name: A, dtype: float64"
      ]
     },
     "execution_count": 11,
     "metadata": {},
     "output_type": "execute_result"
    }
   ],
   "source": [
    "df2.A #It returns a Pandas Series object containing all the values in the \"A\" column."
   ]
  },
  {
   "cell_type": "code",
   "execution_count": 12,
   "id": "8b88f299",
   "metadata": {},
   "outputs": [
    {
     "data": {
      "text/plain": [
       "<bound method NDFrame.abs of      A          B    C  D      E      F\n",
       "0  1.0 2023-05-05  1.0  3   test  Model\n",
       "1  1.0 2023-05-05  2.0  3  train  Model\n",
       "2  1.0 2023-05-05  3.0  3   test  Model\n",
       "3  1.0 2023-05-05  4.0  3  train  Model>"
      ]
     },
     "execution_count": 12,
     "metadata": {},
     "output_type": "execute_result"
    }
   ],
   "source": [
    "df2.abs"
   ]
  },
  {
   "cell_type": "code",
   "execution_count": 13,
   "id": "32ca6942",
   "metadata": {},
   "outputs": [
    {
     "data": {
      "text/plain": [
       "<bound method DataFrame.corr of      A          B    C  D      E      F\n",
       "0  1.0 2023-05-05  1.0  3   test  Model\n",
       "1  1.0 2023-05-05  2.0  3  train  Model\n",
       "2  1.0 2023-05-05  3.0  3   test  Model\n",
       "3  1.0 2023-05-05  4.0  3  train  Model>"
      ]
     },
     "execution_count": 13,
     "metadata": {},
     "output_type": "execute_result"
    }
   ],
   "source": [
    "df2.corr"
   ]
  },
  {
   "cell_type": "code",
   "execution_count": 14,
   "id": "a9f2d1aa",
   "metadata": {},
   "outputs": [
    {
     "data": {
      "text/html": [
       "<div>\n",
       "<style scoped>\n",
       "    .dataframe tbody tr th:only-of-type {\n",
       "        vertical-align: middle;\n",
       "    }\n",
       "\n",
       "    .dataframe tbody tr th {\n",
       "        vertical-align: top;\n",
       "    }\n",
       "\n",
       "    .dataframe thead th {\n",
       "        text-align: right;\n",
       "    }\n",
       "</style>\n",
       "<table border=\"1\" class=\"dataframe\">\n",
       "  <thead>\n",
       "    <tr style=\"text-align: right;\">\n",
       "      <th></th>\n",
       "      <th>A</th>\n",
       "      <th>C</th>\n",
       "      <th>D</th>\n",
       "    </tr>\n",
       "  </thead>\n",
       "  <tbody>\n",
       "    <tr>\n",
       "      <th>A</th>\n",
       "      <td>NaN</td>\n",
       "      <td>NaN</td>\n",
       "      <td>NaN</td>\n",
       "    </tr>\n",
       "    <tr>\n",
       "      <th>C</th>\n",
       "      <td>NaN</td>\n",
       "      <td>1.0</td>\n",
       "      <td>NaN</td>\n",
       "    </tr>\n",
       "    <tr>\n",
       "      <th>D</th>\n",
       "      <td>NaN</td>\n",
       "      <td>NaN</td>\n",
       "      <td>NaN</td>\n",
       "    </tr>\n",
       "  </tbody>\n",
       "</table>\n",
       "</div>"
      ],
      "text/plain": [
       "    A    C   D\n",
       "A NaN  NaN NaN\n",
       "C NaN  1.0 NaN\n",
       "D NaN  NaN NaN"
      ]
     },
     "execution_count": 14,
     "metadata": {},
     "output_type": "execute_result"
    }
   ],
   "source": [
    "df2.corr()"
   ]
  },
  {
   "cell_type": "code",
   "execution_count": 15,
   "id": "1e6dea70",
   "metadata": {},
   "outputs": [
    {
     "name": "stdout",
     "output_type": "stream",
     "text": [
      "<class 'pandas.core.frame.DataFrame'>\n",
      "Int64Index: 4 entries, 0 to 3\n",
      "Data columns (total 6 columns):\n",
      " #   Column  Non-Null Count  Dtype         \n",
      "---  ------  --------------  -----         \n",
      " 0   A       4 non-null      float64       \n",
      " 1   B       4 non-null      datetime64[ns]\n",
      " 2   C       4 non-null      float32       \n",
      " 3   D       4 non-null      int32         \n",
      " 4   E       4 non-null      category      \n",
      " 5   F       4 non-null      object        \n",
      "dtypes: category(1), datetime64[ns](1), float32(1), float64(1), int32(1), object(1)\n",
      "memory usage: 288.0+ bytes\n"
     ]
    }
   ],
   "source": [
    "df2.info()"
   ]
  },
  {
   "cell_type": "markdown",
   "id": "da13c106",
   "metadata": {},
   "source": [
    "# Viewing Data"
   ]
  },
  {
   "cell_type": "code",
   "execution_count": 16,
   "id": "fb4565f1",
   "metadata": {},
   "outputs": [
    {
     "data": {
      "text/html": [
       "<div>\n",
       "<style scoped>\n",
       "    .dataframe tbody tr th:only-of-type {\n",
       "        vertical-align: middle;\n",
       "    }\n",
       "\n",
       "    .dataframe tbody tr th {\n",
       "        vertical-align: top;\n",
       "    }\n",
       "\n",
       "    .dataframe thead th {\n",
       "        text-align: right;\n",
       "    }\n",
       "</style>\n",
       "<table border=\"1\" class=\"dataframe\">\n",
       "  <thead>\n",
       "    <tr style=\"text-align: right;\">\n",
       "      <th></th>\n",
       "      <th>A</th>\n",
       "      <th>B</th>\n",
       "      <th>C</th>\n",
       "      <th>D</th>\n",
       "      <th>E</th>\n",
       "      <th>F</th>\n",
       "    </tr>\n",
       "  </thead>\n",
       "  <tbody>\n",
       "    <tr>\n",
       "      <th>0</th>\n",
       "      <td>1.0</td>\n",
       "      <td>2023-05-05</td>\n",
       "      <td>1.0</td>\n",
       "      <td>3</td>\n",
       "      <td>test</td>\n",
       "      <td>Model</td>\n",
       "    </tr>\n",
       "    <tr>\n",
       "      <th>1</th>\n",
       "      <td>1.0</td>\n",
       "      <td>2023-05-05</td>\n",
       "      <td>2.0</td>\n",
       "      <td>3</td>\n",
       "      <td>train</td>\n",
       "      <td>Model</td>\n",
       "    </tr>\n",
       "    <tr>\n",
       "      <th>2</th>\n",
       "      <td>1.0</td>\n",
       "      <td>2023-05-05</td>\n",
       "      <td>3.0</td>\n",
       "      <td>3</td>\n",
       "      <td>test</td>\n",
       "      <td>Model</td>\n",
       "    </tr>\n",
       "    <tr>\n",
       "      <th>3</th>\n",
       "      <td>1.0</td>\n",
       "      <td>2023-05-05</td>\n",
       "      <td>4.0</td>\n",
       "      <td>3</td>\n",
       "      <td>train</td>\n",
       "      <td>Model</td>\n",
       "    </tr>\n",
       "  </tbody>\n",
       "</table>\n",
       "</div>"
      ],
      "text/plain": [
       "     A          B    C  D      E      F\n",
       "0  1.0 2023-05-05  1.0  3   test  Model\n",
       "1  1.0 2023-05-05  2.0  3  train  Model\n",
       "2  1.0 2023-05-05  3.0  3   test  Model\n",
       "3  1.0 2023-05-05  4.0  3  train  Model"
      ]
     },
     "execution_count": 16,
     "metadata": {},
     "output_type": "execute_result"
    }
   ],
   "source": [
    "#See the top & bottom rows of the frame\n",
    "df2.head()"
   ]
  },
  {
   "cell_type": "code",
   "execution_count": 17,
   "id": "d5a88fe9",
   "metadata": {},
   "outputs": [
    {
     "data": {
      "text/html": [
       "<div>\n",
       "<style scoped>\n",
       "    .dataframe tbody tr th:only-of-type {\n",
       "        vertical-align: middle;\n",
       "    }\n",
       "\n",
       "    .dataframe tbody tr th {\n",
       "        vertical-align: top;\n",
       "    }\n",
       "\n",
       "    .dataframe thead th {\n",
       "        text-align: right;\n",
       "    }\n",
       "</style>\n",
       "<table border=\"1\" class=\"dataframe\">\n",
       "  <thead>\n",
       "    <tr style=\"text-align: right;\">\n",
       "      <th></th>\n",
       "      <th>A</th>\n",
       "      <th>B</th>\n",
       "      <th>C</th>\n",
       "      <th>D</th>\n",
       "      <th>E</th>\n",
       "      <th>F</th>\n",
       "    </tr>\n",
       "  </thead>\n",
       "  <tbody>\n",
       "    <tr>\n",
       "      <th>0</th>\n",
       "      <td>1.0</td>\n",
       "      <td>2023-05-05</td>\n",
       "      <td>1.0</td>\n",
       "      <td>3</td>\n",
       "      <td>test</td>\n",
       "      <td>Model</td>\n",
       "    </tr>\n",
       "    <tr>\n",
       "      <th>1</th>\n",
       "      <td>1.0</td>\n",
       "      <td>2023-05-05</td>\n",
       "      <td>2.0</td>\n",
       "      <td>3</td>\n",
       "      <td>train</td>\n",
       "      <td>Model</td>\n",
       "    </tr>\n",
       "    <tr>\n",
       "      <th>2</th>\n",
       "      <td>1.0</td>\n",
       "      <td>2023-05-05</td>\n",
       "      <td>3.0</td>\n",
       "      <td>3</td>\n",
       "      <td>test</td>\n",
       "      <td>Model</td>\n",
       "    </tr>\n",
       "    <tr>\n",
       "      <th>3</th>\n",
       "      <td>1.0</td>\n",
       "      <td>2023-05-05</td>\n",
       "      <td>4.0</td>\n",
       "      <td>3</td>\n",
       "      <td>train</td>\n",
       "      <td>Model</td>\n",
       "    </tr>\n",
       "  </tbody>\n",
       "</table>\n",
       "</div>"
      ],
      "text/plain": [
       "     A          B    C  D      E      F\n",
       "0  1.0 2023-05-05  1.0  3   test  Model\n",
       "1  1.0 2023-05-05  2.0  3  train  Model\n",
       "2  1.0 2023-05-05  3.0  3   test  Model\n",
       "3  1.0 2023-05-05  4.0  3  train  Model"
      ]
     },
     "execution_count": 17,
     "metadata": {},
     "output_type": "execute_result"
    }
   ],
   "source": [
    "df2.tail()"
   ]
  },
  {
   "cell_type": "code",
   "execution_count": 18,
   "id": "d338d2f8",
   "metadata": {},
   "outputs": [
    {
     "data": {
      "text/html": [
       "<div>\n",
       "<style scoped>\n",
       "    .dataframe tbody tr th:only-of-type {\n",
       "        vertical-align: middle;\n",
       "    }\n",
       "\n",
       "    .dataframe tbody tr th {\n",
       "        vertical-align: top;\n",
       "    }\n",
       "\n",
       "    .dataframe thead th {\n",
       "        text-align: right;\n",
       "    }\n",
       "</style>\n",
       "<table border=\"1\" class=\"dataframe\">\n",
       "  <thead>\n",
       "    <tr style=\"text-align: right;\">\n",
       "      <th></th>\n",
       "      <th>A</th>\n",
       "      <th>B</th>\n",
       "      <th>C</th>\n",
       "      <th>D</th>\n",
       "    </tr>\n",
       "  </thead>\n",
       "  <tbody>\n",
       "    <tr>\n",
       "      <th>2023-05-05</th>\n",
       "      <td>0.021659</td>\n",
       "      <td>1.221645</td>\n",
       "      <td>-0.738822</td>\n",
       "      <td>-1.059832</td>\n",
       "    </tr>\n",
       "    <tr>\n",
       "      <th>2023-05-06</th>\n",
       "      <td>0.437865</td>\n",
       "      <td>-1.232005</td>\n",
       "      <td>0.797895</td>\n",
       "      <td>-1.294381</td>\n",
       "    </tr>\n",
       "    <tr>\n",
       "      <th>2023-05-07</th>\n",
       "      <td>1.700886</td>\n",
       "      <td>-0.049315</td>\n",
       "      <td>-0.354543</td>\n",
       "      <td>-0.134706</td>\n",
       "    </tr>\n",
       "  </tbody>\n",
       "</table>\n",
       "</div>"
      ],
      "text/plain": [
       "                   A         B         C         D\n",
       "2023-05-05  0.021659  1.221645 -0.738822 -1.059832\n",
       "2023-05-06  0.437865 -1.232005  0.797895 -1.294381\n",
       "2023-05-07  1.700886 -0.049315 -0.354543 -0.134706"
      ]
     },
     "execution_count": 18,
     "metadata": {},
     "output_type": "execute_result"
    }
   ],
   "source": [
    "df.head(3)"
   ]
  },
  {
   "cell_type": "code",
   "execution_count": 19,
   "id": "9555a158",
   "metadata": {},
   "outputs": [
    {
     "data": {
      "text/html": [
       "<div>\n",
       "<style scoped>\n",
       "    .dataframe tbody tr th:only-of-type {\n",
       "        vertical-align: middle;\n",
       "    }\n",
       "\n",
       "    .dataframe tbody tr th {\n",
       "        vertical-align: top;\n",
       "    }\n",
       "\n",
       "    .dataframe thead th {\n",
       "        text-align: right;\n",
       "    }\n",
       "</style>\n",
       "<table border=\"1\" class=\"dataframe\">\n",
       "  <thead>\n",
       "    <tr style=\"text-align: right;\">\n",
       "      <th></th>\n",
       "      <th>A</th>\n",
       "      <th>B</th>\n",
       "      <th>C</th>\n",
       "      <th>D</th>\n",
       "    </tr>\n",
       "  </thead>\n",
       "  <tbody>\n",
       "    <tr>\n",
       "      <th>2023-05-08</th>\n",
       "      <td>0.175529</td>\n",
       "      <td>-0.911489</td>\n",
       "      <td>-0.531176</td>\n",
       "      <td>1.762255</td>\n",
       "    </tr>\n",
       "    <tr>\n",
       "      <th>2023-05-09</th>\n",
       "      <td>-0.990478</td>\n",
       "      <td>-0.267235</td>\n",
       "      <td>0.939321</td>\n",
       "      <td>0.513438</td>\n",
       "    </tr>\n",
       "    <tr>\n",
       "      <th>2023-05-10</th>\n",
       "      <td>-0.255577</td>\n",
       "      <td>0.291297</td>\n",
       "      <td>-0.227027</td>\n",
       "      <td>0.206399</td>\n",
       "    </tr>\n",
       "  </tbody>\n",
       "</table>\n",
       "</div>"
      ],
      "text/plain": [
       "                   A         B         C         D\n",
       "2023-05-08  0.175529 -0.911489 -0.531176  1.762255\n",
       "2023-05-09 -0.990478 -0.267235  0.939321  0.513438\n",
       "2023-05-10 -0.255577  0.291297 -0.227027  0.206399"
      ]
     },
     "execution_count": 19,
     "metadata": {},
     "output_type": "execute_result"
    }
   ],
   "source": [
    "df.tail(3)"
   ]
  },
  {
   "cell_type": "markdown",
   "id": "33e4d5ce",
   "metadata": {},
   "source": [
    "# Display the index, columns, and the underlying numpy data"
   ]
  },
  {
   "cell_type": "code",
   "execution_count": 20,
   "id": "672bdd96",
   "metadata": {},
   "outputs": [
    {
     "data": {
      "text/plain": [
       "Int64Index([0, 1, 2, 3], dtype='int64')"
      ]
     },
     "execution_count": 20,
     "metadata": {},
     "output_type": "execute_result"
    }
   ],
   "source": [
    "df2.index"
   ]
  },
  {
   "cell_type": "code",
   "execution_count": 21,
   "id": "16ee42e0",
   "metadata": {},
   "outputs": [
    {
     "data": {
      "text/plain": [
       "Index(['A', 'B', 'C', 'D', 'E', 'F'], dtype='object')"
      ]
     },
     "execution_count": 21,
     "metadata": {},
     "output_type": "execute_result"
    }
   ],
   "source": [
    "df2.columns"
   ]
  },
  {
   "cell_type": "code",
   "execution_count": 22,
   "id": "dcb708e3",
   "metadata": {},
   "outputs": [
    {
     "data": {
      "text/plain": [
       "array([[1.0, Timestamp('2023-05-05 00:00:00'), 1.0, 3, 'test', 'Model'],\n",
       "       [1.0, Timestamp('2023-05-05 00:00:00'), 2.0, 3, 'train', 'Model'],\n",
       "       [1.0, Timestamp('2023-05-05 00:00:00'), 3.0, 3, 'test', 'Model'],\n",
       "       [1.0, Timestamp('2023-05-05 00:00:00'), 4.0, 3, 'train', 'Model']],\n",
       "      dtype=object)"
      ]
     },
     "execution_count": 22,
     "metadata": {},
     "output_type": "execute_result"
    }
   ],
   "source": [
    "df2.values"
   ]
  },
  {
   "cell_type": "markdown",
   "id": "c32696b8",
   "metadata": {},
   "source": [
    "# Describe shows a quick statistic summary of your data"
   ]
  },
  {
   "cell_type": "code",
   "execution_count": 23,
   "id": "ca0e40b6",
   "metadata": {},
   "outputs": [
    {
     "data": {
      "text/html": [
       "<div>\n",
       "<style scoped>\n",
       "    .dataframe tbody tr th:only-of-type {\n",
       "        vertical-align: middle;\n",
       "    }\n",
       "\n",
       "    .dataframe tbody tr th {\n",
       "        vertical-align: top;\n",
       "    }\n",
       "\n",
       "    .dataframe thead th {\n",
       "        text-align: right;\n",
       "    }\n",
       "</style>\n",
       "<table border=\"1\" class=\"dataframe\">\n",
       "  <thead>\n",
       "    <tr style=\"text-align: right;\">\n",
       "      <th></th>\n",
       "      <th>A</th>\n",
       "      <th>C</th>\n",
       "      <th>D</th>\n",
       "    </tr>\n",
       "  </thead>\n",
       "  <tbody>\n",
       "    <tr>\n",
       "      <th>count</th>\n",
       "      <td>4.0</td>\n",
       "      <td>4.000000</td>\n",
       "      <td>4.0</td>\n",
       "    </tr>\n",
       "    <tr>\n",
       "      <th>mean</th>\n",
       "      <td>1.0</td>\n",
       "      <td>2.500000</td>\n",
       "      <td>3.0</td>\n",
       "    </tr>\n",
       "    <tr>\n",
       "      <th>std</th>\n",
       "      <td>0.0</td>\n",
       "      <td>1.290994</td>\n",
       "      <td>0.0</td>\n",
       "    </tr>\n",
       "    <tr>\n",
       "      <th>min</th>\n",
       "      <td>1.0</td>\n",
       "      <td>1.000000</td>\n",
       "      <td>3.0</td>\n",
       "    </tr>\n",
       "    <tr>\n",
       "      <th>25%</th>\n",
       "      <td>1.0</td>\n",
       "      <td>1.750000</td>\n",
       "      <td>3.0</td>\n",
       "    </tr>\n",
       "    <tr>\n",
       "      <th>50%</th>\n",
       "      <td>1.0</td>\n",
       "      <td>2.500000</td>\n",
       "      <td>3.0</td>\n",
       "    </tr>\n",
       "    <tr>\n",
       "      <th>75%</th>\n",
       "      <td>1.0</td>\n",
       "      <td>3.250000</td>\n",
       "      <td>3.0</td>\n",
       "    </tr>\n",
       "    <tr>\n",
       "      <th>max</th>\n",
       "      <td>1.0</td>\n",
       "      <td>4.000000</td>\n",
       "      <td>3.0</td>\n",
       "    </tr>\n",
       "  </tbody>\n",
       "</table>\n",
       "</div>"
      ],
      "text/plain": [
       "         A         C    D\n",
       "count  4.0  4.000000  4.0\n",
       "mean   1.0  2.500000  3.0\n",
       "std    0.0  1.290994  0.0\n",
       "min    1.0  1.000000  3.0\n",
       "25%    1.0  1.750000  3.0\n",
       "50%    1.0  2.500000  3.0\n",
       "75%    1.0  3.250000  3.0\n",
       "max    1.0  4.000000  3.0"
      ]
     },
     "execution_count": 23,
     "metadata": {},
     "output_type": "execute_result"
    }
   ],
   "source": [
    "df2.describe()"
   ]
  },
  {
   "cell_type": "markdown",
   "id": "aa6c50b3",
   "metadata": {},
   "source": [
    "# Transposing your data"
   ]
  },
  {
   "cell_type": "code",
   "execution_count": 24,
   "id": "23e995ed",
   "metadata": {},
   "outputs": [
    {
     "data": {
      "text/html": [
       "<div>\n",
       "<style scoped>\n",
       "    .dataframe tbody tr th:only-of-type {\n",
       "        vertical-align: middle;\n",
       "    }\n",
       "\n",
       "    .dataframe tbody tr th {\n",
       "        vertical-align: top;\n",
       "    }\n",
       "\n",
       "    .dataframe thead th {\n",
       "        text-align: right;\n",
       "    }\n",
       "</style>\n",
       "<table border=\"1\" class=\"dataframe\">\n",
       "  <thead>\n",
       "    <tr style=\"text-align: right;\">\n",
       "      <th></th>\n",
       "      <th>0</th>\n",
       "      <th>1</th>\n",
       "      <th>2</th>\n",
       "      <th>3</th>\n",
       "    </tr>\n",
       "  </thead>\n",
       "  <tbody>\n",
       "    <tr>\n",
       "      <th>A</th>\n",
       "      <td>1.0</td>\n",
       "      <td>1.0</td>\n",
       "      <td>1.0</td>\n",
       "      <td>1.0</td>\n",
       "    </tr>\n",
       "    <tr>\n",
       "      <th>B</th>\n",
       "      <td>2023-05-05 00:00:00</td>\n",
       "      <td>2023-05-05 00:00:00</td>\n",
       "      <td>2023-05-05 00:00:00</td>\n",
       "      <td>2023-05-05 00:00:00</td>\n",
       "    </tr>\n",
       "    <tr>\n",
       "      <th>C</th>\n",
       "      <td>1.0</td>\n",
       "      <td>2.0</td>\n",
       "      <td>3.0</td>\n",
       "      <td>4.0</td>\n",
       "    </tr>\n",
       "    <tr>\n",
       "      <th>D</th>\n",
       "      <td>3</td>\n",
       "      <td>3</td>\n",
       "      <td>3</td>\n",
       "      <td>3</td>\n",
       "    </tr>\n",
       "    <tr>\n",
       "      <th>E</th>\n",
       "      <td>test</td>\n",
       "      <td>train</td>\n",
       "      <td>test</td>\n",
       "      <td>train</td>\n",
       "    </tr>\n",
       "    <tr>\n",
       "      <th>F</th>\n",
       "      <td>Model</td>\n",
       "      <td>Model</td>\n",
       "      <td>Model</td>\n",
       "      <td>Model</td>\n",
       "    </tr>\n",
       "  </tbody>\n",
       "</table>\n",
       "</div>"
      ],
      "text/plain": [
       "                     0                    1                    2  \\\n",
       "A                  1.0                  1.0                  1.0   \n",
       "B  2023-05-05 00:00:00  2023-05-05 00:00:00  2023-05-05 00:00:00   \n",
       "C                  1.0                  2.0                  3.0   \n",
       "D                    3                    3                    3   \n",
       "E                 test                train                 test   \n",
       "F                Model                Model                Model   \n",
       "\n",
       "                     3  \n",
       "A                  1.0  \n",
       "B  2023-05-05 00:00:00  \n",
       "C                  4.0  \n",
       "D                    3  \n",
       "E                train  \n",
       "F                Model  "
      ]
     },
     "execution_count": 24,
     "metadata": {},
     "output_type": "execute_result"
    }
   ],
   "source": [
    "df2.T"
   ]
  },
  {
   "cell_type": "markdown",
   "id": "e4ee2e7f",
   "metadata": {},
   "source": [
    "# Sorting by an axis"
   ]
  },
  {
   "cell_type": "code",
   "execution_count": 25,
   "id": "6a9e339d",
   "metadata": {},
   "outputs": [
    {
     "data": {
      "text/html": [
       "<div>\n",
       "<style scoped>\n",
       "    .dataframe tbody tr th:only-of-type {\n",
       "        vertical-align: middle;\n",
       "    }\n",
       "\n",
       "    .dataframe tbody tr th {\n",
       "        vertical-align: top;\n",
       "    }\n",
       "\n",
       "    .dataframe thead th {\n",
       "        text-align: right;\n",
       "    }\n",
       "</style>\n",
       "<table border=\"1\" class=\"dataframe\">\n",
       "  <thead>\n",
       "    <tr style=\"text-align: right;\">\n",
       "      <th></th>\n",
       "      <th>F</th>\n",
       "      <th>E</th>\n",
       "      <th>D</th>\n",
       "      <th>C</th>\n",
       "      <th>B</th>\n",
       "      <th>A</th>\n",
       "    </tr>\n",
       "  </thead>\n",
       "  <tbody>\n",
       "    <tr>\n",
       "      <th>0</th>\n",
       "      <td>Model</td>\n",
       "      <td>test</td>\n",
       "      <td>3</td>\n",
       "      <td>1.0</td>\n",
       "      <td>2023-05-05</td>\n",
       "      <td>1.0</td>\n",
       "    </tr>\n",
       "    <tr>\n",
       "      <th>1</th>\n",
       "      <td>Model</td>\n",
       "      <td>train</td>\n",
       "      <td>3</td>\n",
       "      <td>2.0</td>\n",
       "      <td>2023-05-05</td>\n",
       "      <td>1.0</td>\n",
       "    </tr>\n",
       "    <tr>\n",
       "      <th>2</th>\n",
       "      <td>Model</td>\n",
       "      <td>test</td>\n",
       "      <td>3</td>\n",
       "      <td>3.0</td>\n",
       "      <td>2023-05-05</td>\n",
       "      <td>1.0</td>\n",
       "    </tr>\n",
       "    <tr>\n",
       "      <th>3</th>\n",
       "      <td>Model</td>\n",
       "      <td>train</td>\n",
       "      <td>3</td>\n",
       "      <td>4.0</td>\n",
       "      <td>2023-05-05</td>\n",
       "      <td>1.0</td>\n",
       "    </tr>\n",
       "  </tbody>\n",
       "</table>\n",
       "</div>"
      ],
      "text/plain": [
       "       F      E  D    C          B    A\n",
       "0  Model   test  3  1.0 2023-05-05  1.0\n",
       "1  Model  train  3  2.0 2023-05-05  1.0\n",
       "2  Model   test  3  3.0 2023-05-05  1.0\n",
       "3  Model  train  3  4.0 2023-05-05  1.0"
      ]
     },
     "execution_count": 25,
     "metadata": {},
     "output_type": "execute_result"
    }
   ],
   "source": [
    "df2.sort_index(axis=1, ascending=False)"
   ]
  },
  {
   "cell_type": "markdown",
   "id": "0e578b8e",
   "metadata": {},
   "source": [
    "# Sorting by values"
   ]
  },
  {
   "cell_type": "code",
   "execution_count": 26,
   "id": "da6f5dfb",
   "metadata": {},
   "outputs": [
    {
     "data": {
      "text/html": [
       "<div>\n",
       "<style scoped>\n",
       "    .dataframe tbody tr th:only-of-type {\n",
       "        vertical-align: middle;\n",
       "    }\n",
       "\n",
       "    .dataframe tbody tr th {\n",
       "        vertical-align: top;\n",
       "    }\n",
       "\n",
       "    .dataframe thead th {\n",
       "        text-align: right;\n",
       "    }\n",
       "</style>\n",
       "<table border=\"1\" class=\"dataframe\">\n",
       "  <thead>\n",
       "    <tr style=\"text-align: right;\">\n",
       "      <th></th>\n",
       "      <th>A</th>\n",
       "      <th>B</th>\n",
       "      <th>C</th>\n",
       "      <th>D</th>\n",
       "    </tr>\n",
       "  </thead>\n",
       "  <tbody>\n",
       "    <tr>\n",
       "      <th>2023-05-06</th>\n",
       "      <td>0.437865</td>\n",
       "      <td>-1.232005</td>\n",
       "      <td>0.797895</td>\n",
       "      <td>-1.294381</td>\n",
       "    </tr>\n",
       "    <tr>\n",
       "      <th>2023-05-08</th>\n",
       "      <td>0.175529</td>\n",
       "      <td>-0.911489</td>\n",
       "      <td>-0.531176</td>\n",
       "      <td>1.762255</td>\n",
       "    </tr>\n",
       "    <tr>\n",
       "      <th>2023-05-09</th>\n",
       "      <td>-0.990478</td>\n",
       "      <td>-0.267235</td>\n",
       "      <td>0.939321</td>\n",
       "      <td>0.513438</td>\n",
       "    </tr>\n",
       "    <tr>\n",
       "      <th>2023-05-07</th>\n",
       "      <td>1.700886</td>\n",
       "      <td>-0.049315</td>\n",
       "      <td>-0.354543</td>\n",
       "      <td>-0.134706</td>\n",
       "    </tr>\n",
       "    <tr>\n",
       "      <th>2023-05-10</th>\n",
       "      <td>-0.255577</td>\n",
       "      <td>0.291297</td>\n",
       "      <td>-0.227027</td>\n",
       "      <td>0.206399</td>\n",
       "    </tr>\n",
       "    <tr>\n",
       "      <th>2023-05-05</th>\n",
       "      <td>0.021659</td>\n",
       "      <td>1.221645</td>\n",
       "      <td>-0.738822</td>\n",
       "      <td>-1.059832</td>\n",
       "    </tr>\n",
       "  </tbody>\n",
       "</table>\n",
       "</div>"
      ],
      "text/plain": [
       "                   A         B         C         D\n",
       "2023-05-06  0.437865 -1.232005  0.797895 -1.294381\n",
       "2023-05-08  0.175529 -0.911489 -0.531176  1.762255\n",
       "2023-05-09 -0.990478 -0.267235  0.939321  0.513438\n",
       "2023-05-07  1.700886 -0.049315 -0.354543 -0.134706\n",
       "2023-05-10 -0.255577  0.291297 -0.227027  0.206399\n",
       "2023-05-05  0.021659  1.221645 -0.738822 -1.059832"
      ]
     },
     "execution_count": 26,
     "metadata": {},
     "output_type": "execute_result"
    }
   ],
   "source": [
    " df.sort_values(by='B')"
   ]
  },
  {
   "cell_type": "code",
   "execution_count": 27,
   "id": "c8482592",
   "metadata": {},
   "outputs": [
    {
     "data": {
      "text/html": [
       "<div>\n",
       "<style scoped>\n",
       "    .dataframe tbody tr th:only-of-type {\n",
       "        vertical-align: middle;\n",
       "    }\n",
       "\n",
       "    .dataframe tbody tr th {\n",
       "        vertical-align: top;\n",
       "    }\n",
       "\n",
       "    .dataframe thead th {\n",
       "        text-align: right;\n",
       "    }\n",
       "</style>\n",
       "<table border=\"1\" class=\"dataframe\">\n",
       "  <thead>\n",
       "    <tr style=\"text-align: right;\">\n",
       "      <th></th>\n",
       "      <th>A</th>\n",
       "      <th>B</th>\n",
       "      <th>C</th>\n",
       "      <th>D</th>\n",
       "      <th>E</th>\n",
       "      <th>F</th>\n",
       "    </tr>\n",
       "  </thead>\n",
       "  <tbody>\n",
       "    <tr>\n",
       "      <th>0</th>\n",
       "      <td>1.0</td>\n",
       "      <td>2023-05-05</td>\n",
       "      <td>1.0</td>\n",
       "      <td>3</td>\n",
       "      <td>test</td>\n",
       "      <td>Model</td>\n",
       "    </tr>\n",
       "    <tr>\n",
       "      <th>1</th>\n",
       "      <td>1.0</td>\n",
       "      <td>2023-05-05</td>\n",
       "      <td>2.0</td>\n",
       "      <td>3</td>\n",
       "      <td>train</td>\n",
       "      <td>Model</td>\n",
       "    </tr>\n",
       "    <tr>\n",
       "      <th>2</th>\n",
       "      <td>1.0</td>\n",
       "      <td>2023-05-05</td>\n",
       "      <td>3.0</td>\n",
       "      <td>3</td>\n",
       "      <td>test</td>\n",
       "      <td>Model</td>\n",
       "    </tr>\n",
       "    <tr>\n",
       "      <th>3</th>\n",
       "      <td>1.0</td>\n",
       "      <td>2023-05-05</td>\n",
       "      <td>4.0</td>\n",
       "      <td>3</td>\n",
       "      <td>train</td>\n",
       "      <td>Model</td>\n",
       "    </tr>\n",
       "  </tbody>\n",
       "</table>\n",
       "</div>"
      ],
      "text/plain": [
       "     A          B    C  D      E      F\n",
       "0  1.0 2023-05-05  1.0  3   test  Model\n",
       "1  1.0 2023-05-05  2.0  3  train  Model\n",
       "2  1.0 2023-05-05  3.0  3   test  Model\n",
       "3  1.0 2023-05-05  4.0  3  train  Model"
      ]
     },
     "execution_count": 27,
     "metadata": {},
     "output_type": "execute_result"
    }
   ],
   "source": [
    " df2.sort_values(by='B')"
   ]
  },
  {
   "cell_type": "markdown",
   "id": "07dfb80d",
   "metadata": {},
   "source": [
    "# Getting\n",
    "Selecting a single column, which yields a Series, equivalent to df.A"
   ]
  },
  {
   "cell_type": "code",
   "execution_count": 28,
   "id": "36d6ec3b",
   "metadata": {},
   "outputs": [
    {
     "data": {
      "text/plain": [
       "2023-05-05    0.021659\n",
       "2023-05-06    0.437865\n",
       "2023-05-07    1.700886\n",
       "2023-05-08    0.175529\n",
       "2023-05-09   -0.990478\n",
       "2023-05-10   -0.255577\n",
       "Freq: D, Name: A, dtype: float64"
      ]
     },
     "execution_count": 28,
     "metadata": {},
     "output_type": "execute_result"
    }
   ],
   "source": [
    "df['A']"
   ]
  },
  {
   "cell_type": "code",
   "execution_count": 29,
   "id": "2cf1dc57",
   "metadata": {},
   "outputs": [
    {
     "data": {
      "text/html": [
       "<div>\n",
       "<style scoped>\n",
       "    .dataframe tbody tr th:only-of-type {\n",
       "        vertical-align: middle;\n",
       "    }\n",
       "\n",
       "    .dataframe tbody tr th {\n",
       "        vertical-align: top;\n",
       "    }\n",
       "\n",
       "    .dataframe thead th {\n",
       "        text-align: right;\n",
       "    }\n",
       "</style>\n",
       "<table border=\"1\" class=\"dataframe\">\n",
       "  <thead>\n",
       "    <tr style=\"text-align: right;\">\n",
       "      <th></th>\n",
       "      <th>A</th>\n",
       "      <th>B</th>\n",
       "      <th>C</th>\n",
       "      <th>D</th>\n",
       "    </tr>\n",
       "  </thead>\n",
       "  <tbody>\n",
       "    <tr>\n",
       "      <th>2023-05-05</th>\n",
       "      <td>0.021659</td>\n",
       "      <td>1.221645</td>\n",
       "      <td>-0.738822</td>\n",
       "      <td>-1.059832</td>\n",
       "    </tr>\n",
       "    <tr>\n",
       "      <th>2023-05-06</th>\n",
       "      <td>0.437865</td>\n",
       "      <td>-1.232005</td>\n",
       "      <td>0.797895</td>\n",
       "      <td>-1.294381</td>\n",
       "    </tr>\n",
       "    <tr>\n",
       "      <th>2023-05-07</th>\n",
       "      <td>1.700886</td>\n",
       "      <td>-0.049315</td>\n",
       "      <td>-0.354543</td>\n",
       "      <td>-0.134706</td>\n",
       "    </tr>\n",
       "  </tbody>\n",
       "</table>\n",
       "</div>"
      ],
      "text/plain": [
       "                   A         B         C         D\n",
       "2023-05-05  0.021659  1.221645 -0.738822 -1.059832\n",
       "2023-05-06  0.437865 -1.232005  0.797895 -1.294381\n",
       "2023-05-07  1.700886 -0.049315 -0.354543 -0.134706"
      ]
     },
     "execution_count": 29,
     "metadata": {},
     "output_type": "execute_result"
    }
   ],
   "source": [
    "#Selecting via [], which slices the rows\n",
    "\n",
    "df[0:3]"
   ]
  },
  {
   "cell_type": "code",
   "execution_count": 30,
   "id": "b5b3d979",
   "metadata": {},
   "outputs": [
    {
     "data": {
      "text/html": [
       "<div>\n",
       "<style scoped>\n",
       "    .dataframe tbody tr th:only-of-type {\n",
       "        vertical-align: middle;\n",
       "    }\n",
       "\n",
       "    .dataframe tbody tr th {\n",
       "        vertical-align: top;\n",
       "    }\n",
       "\n",
       "    .dataframe thead th {\n",
       "        text-align: right;\n",
       "    }\n",
       "</style>\n",
       "<table border=\"1\" class=\"dataframe\">\n",
       "  <thead>\n",
       "    <tr style=\"text-align: right;\">\n",
       "      <th></th>\n",
       "      <th>A</th>\n",
       "      <th>B</th>\n",
       "      <th>C</th>\n",
       "      <th>D</th>\n",
       "      <th>E</th>\n",
       "      <th>F</th>\n",
       "    </tr>\n",
       "  </thead>\n",
       "  <tbody>\n",
       "    <tr>\n",
       "      <th>0</th>\n",
       "      <td>1.0</td>\n",
       "      <td>2023-05-05</td>\n",
       "      <td>1.0</td>\n",
       "      <td>3</td>\n",
       "      <td>test</td>\n",
       "      <td>Model</td>\n",
       "    </tr>\n",
       "    <tr>\n",
       "      <th>1</th>\n",
       "      <td>1.0</td>\n",
       "      <td>2023-05-05</td>\n",
       "      <td>2.0</td>\n",
       "      <td>3</td>\n",
       "      <td>train</td>\n",
       "      <td>Model</td>\n",
       "    </tr>\n",
       "    <tr>\n",
       "      <th>2</th>\n",
       "      <td>1.0</td>\n",
       "      <td>2023-05-05</td>\n",
       "      <td>3.0</td>\n",
       "      <td>3</td>\n",
       "      <td>test</td>\n",
       "      <td>Model</td>\n",
       "    </tr>\n",
       "  </tbody>\n",
       "</table>\n",
       "</div>"
      ],
      "text/plain": [
       "     A          B    C  D      E      F\n",
       "0  1.0 2023-05-05  1.0  3   test  Model\n",
       "1  1.0 2023-05-05  2.0  3  train  Model\n",
       "2  1.0 2023-05-05  3.0  3   test  Model"
      ]
     },
     "execution_count": 30,
     "metadata": {},
     "output_type": "execute_result"
    }
   ],
   "source": [
    "df2[0:3]"
   ]
  },
  {
   "cell_type": "code",
   "execution_count": 31,
   "id": "4d15cd3b",
   "metadata": {},
   "outputs": [
    {
     "data": {
      "text/html": [
       "<div>\n",
       "<style scoped>\n",
       "    .dataframe tbody tr th:only-of-type {\n",
       "        vertical-align: middle;\n",
       "    }\n",
       "\n",
       "    .dataframe tbody tr th {\n",
       "        vertical-align: top;\n",
       "    }\n",
       "\n",
       "    .dataframe thead th {\n",
       "        text-align: right;\n",
       "    }\n",
       "</style>\n",
       "<table border=\"1\" class=\"dataframe\">\n",
       "  <thead>\n",
       "    <tr style=\"text-align: right;\">\n",
       "      <th></th>\n",
       "      <th>A</th>\n",
       "      <th>B</th>\n",
       "      <th>C</th>\n",
       "      <th>D</th>\n",
       "    </tr>\n",
       "  </thead>\n",
       "  <tbody>\n",
       "    <tr>\n",
       "      <th>2023-05-05</th>\n",
       "      <td>0.021659</td>\n",
       "      <td>1.221645</td>\n",
       "      <td>-0.738822</td>\n",
       "      <td>-1.059832</td>\n",
       "    </tr>\n",
       "    <tr>\n",
       "      <th>2023-05-06</th>\n",
       "      <td>0.437865</td>\n",
       "      <td>-1.232005</td>\n",
       "      <td>0.797895</td>\n",
       "      <td>-1.294381</td>\n",
       "    </tr>\n",
       "    <tr>\n",
       "      <th>2023-05-07</th>\n",
       "      <td>1.700886</td>\n",
       "      <td>-0.049315</td>\n",
       "      <td>-0.354543</td>\n",
       "      <td>-0.134706</td>\n",
       "    </tr>\n",
       "    <tr>\n",
       "      <th>2023-05-08</th>\n",
       "      <td>0.175529</td>\n",
       "      <td>-0.911489</td>\n",
       "      <td>-0.531176</td>\n",
       "      <td>1.762255</td>\n",
       "    </tr>\n",
       "    <tr>\n",
       "      <th>2023-05-09</th>\n",
       "      <td>-0.990478</td>\n",
       "      <td>-0.267235</td>\n",
       "      <td>0.939321</td>\n",
       "      <td>0.513438</td>\n",
       "    </tr>\n",
       "  </tbody>\n",
       "</table>\n",
       "</div>"
      ],
      "text/plain": [
       "                   A         B         C         D\n",
       "2023-05-05  0.021659  1.221645 -0.738822 -1.059832\n",
       "2023-05-06  0.437865 -1.232005  0.797895 -1.294381\n",
       "2023-05-07  1.700886 -0.049315 -0.354543 -0.134706\n",
       "2023-05-08  0.175529 -0.911489 -0.531176  1.762255\n",
       "2023-05-09 -0.990478 -0.267235  0.939321  0.513438"
      ]
     },
     "execution_count": 31,
     "metadata": {},
     "output_type": "execute_result"
    }
   ],
   "source": [
    " df['20230505':'20230509']"
   ]
  },
  {
   "cell_type": "markdown",
   "id": "66a89718",
   "metadata": {},
   "source": [
    "# Selection by Label\n",
    "See more in Selection by Label\n",
    "For getting a cross section using a label"
   ]
  },
  {
   "cell_type": "code",
   "execution_count": 32,
   "id": "fd31907a",
   "metadata": {},
   "outputs": [
    {
     "data": {
      "text/plain": [
       "A    0.021659\n",
       "B    1.221645\n",
       "C   -0.738822\n",
       "D   -1.059832\n",
       "Name: 2023-05-05 00:00:00, dtype: float64"
      ]
     },
     "execution_count": 32,
     "metadata": {},
     "output_type": "execute_result"
    }
   ],
   "source": [
    "df.loc[dates[0]]"
   ]
  },
  {
   "cell_type": "markdown",
   "id": "36475a44",
   "metadata": {},
   "source": [
    "# Selecting on a multi- axis by label"
   ]
  },
  {
   "cell_type": "code",
   "execution_count": 33,
   "id": "5b950262",
   "metadata": {},
   "outputs": [
    {
     "data": {
      "text/html": [
       "<div>\n",
       "<style scoped>\n",
       "    .dataframe tbody tr th:only-of-type {\n",
       "        vertical-align: middle;\n",
       "    }\n",
       "\n",
       "    .dataframe tbody tr th {\n",
       "        vertical-align: top;\n",
       "    }\n",
       "\n",
       "    .dataframe thead th {\n",
       "        text-align: right;\n",
       "    }\n",
       "</style>\n",
       "<table border=\"1\" class=\"dataframe\">\n",
       "  <thead>\n",
       "    <tr style=\"text-align: right;\">\n",
       "      <th></th>\n",
       "      <th>A</th>\n",
       "      <th>B</th>\n",
       "    </tr>\n",
       "  </thead>\n",
       "  <tbody>\n",
       "    <tr>\n",
       "      <th>2023-05-05</th>\n",
       "      <td>0.021659</td>\n",
       "      <td>1.221645</td>\n",
       "    </tr>\n",
       "    <tr>\n",
       "      <th>2023-05-06</th>\n",
       "      <td>0.437865</td>\n",
       "      <td>-1.232005</td>\n",
       "    </tr>\n",
       "    <tr>\n",
       "      <th>2023-05-07</th>\n",
       "      <td>1.700886</td>\n",
       "      <td>-0.049315</td>\n",
       "    </tr>\n",
       "    <tr>\n",
       "      <th>2023-05-08</th>\n",
       "      <td>0.175529</td>\n",
       "      <td>-0.911489</td>\n",
       "    </tr>\n",
       "    <tr>\n",
       "      <th>2023-05-09</th>\n",
       "      <td>-0.990478</td>\n",
       "      <td>-0.267235</td>\n",
       "    </tr>\n",
       "    <tr>\n",
       "      <th>2023-05-10</th>\n",
       "      <td>-0.255577</td>\n",
       "      <td>0.291297</td>\n",
       "    </tr>\n",
       "  </tbody>\n",
       "</table>\n",
       "</div>"
      ],
      "text/plain": [
       "                   A         B\n",
       "2023-05-05  0.021659  1.221645\n",
       "2023-05-06  0.437865 -1.232005\n",
       "2023-05-07  1.700886 -0.049315\n",
       "2023-05-08  0.175529 -0.911489\n",
       "2023-05-09 -0.990478 -0.267235\n",
       "2023-05-10 -0.255577  0.291297"
      ]
     },
     "execution_count": 33,
     "metadata": {},
     "output_type": "execute_result"
    }
   ],
   "source": [
    "df.loc[:,['A','B']]"
   ]
  },
  {
   "cell_type": "code",
   "execution_count": 34,
   "id": "5893b31c",
   "metadata": {},
   "outputs": [
    {
     "data": {
      "text/html": [
       "<div>\n",
       "<style scoped>\n",
       "    .dataframe tbody tr th:only-of-type {\n",
       "        vertical-align: middle;\n",
       "    }\n",
       "\n",
       "    .dataframe tbody tr th {\n",
       "        vertical-align: top;\n",
       "    }\n",
       "\n",
       "    .dataframe thead th {\n",
       "        text-align: right;\n",
       "    }\n",
       "</style>\n",
       "<table border=\"1\" class=\"dataframe\">\n",
       "  <thead>\n",
       "    <tr style=\"text-align: right;\">\n",
       "      <th></th>\n",
       "      <th>A</th>\n",
       "      <th>B</th>\n",
       "    </tr>\n",
       "  </thead>\n",
       "  <tbody>\n",
       "    <tr>\n",
       "      <th>2023-05-05</th>\n",
       "      <td>0.021659</td>\n",
       "      <td>1.221645</td>\n",
       "    </tr>\n",
       "    <tr>\n",
       "      <th>2023-05-06</th>\n",
       "      <td>0.437865</td>\n",
       "      <td>-1.232005</td>\n",
       "    </tr>\n",
       "    <tr>\n",
       "      <th>2023-05-07</th>\n",
       "      <td>1.700886</td>\n",
       "      <td>-0.049315</td>\n",
       "    </tr>\n",
       "    <tr>\n",
       "      <th>2023-05-08</th>\n",
       "      <td>0.175529</td>\n",
       "      <td>-0.911489</td>\n",
       "    </tr>\n",
       "    <tr>\n",
       "      <th>2023-05-09</th>\n",
       "      <td>-0.990478</td>\n",
       "      <td>-0.267235</td>\n",
       "    </tr>\n",
       "  </tbody>\n",
       "</table>\n",
       "</div>"
      ],
      "text/plain": [
       "                   A         B\n",
       "2023-05-05  0.021659  1.221645\n",
       "2023-05-06  0.437865 -1.232005\n",
       "2023-05-07  1.700886 -0.049315\n",
       "2023-05-08  0.175529 -0.911489\n",
       "2023-05-09 -0.990478 -0.267235"
      ]
     },
     "execution_count": 34,
     "metadata": {},
     "output_type": "execute_result"
    }
   ],
   "source": [
    "#Showing label slicing, both endpoints are included\n",
    "df.loc['20230505':'20230509',['A','B']]"
   ]
  },
  {
   "cell_type": "code",
   "execution_count": 35,
   "id": "22836b98",
   "metadata": {},
   "outputs": [
    {
     "data": {
      "text/plain": [
       "A    0.021659\n",
       "B    1.221645\n",
       "Name: 2023-05-05 00:00:00, dtype: float64"
      ]
     },
     "execution_count": 35,
     "metadata": {},
     "output_type": "execute_result"
    }
   ],
   "source": [
    "#Reduction in the dimensions of the returned object\n",
    "df.loc['20230505',['A','B']]"
   ]
  },
  {
   "cell_type": "code",
   "execution_count": 36,
   "id": "d543286c",
   "metadata": {},
   "outputs": [
    {
     "data": {
      "text/plain": [
       "0.021658634319909404"
      ]
     },
     "execution_count": 36,
     "metadata": {},
     "output_type": "execute_result"
    }
   ],
   "source": [
    "#For getting a scalar value\n",
    "df.loc[dates[0],'A']"
   ]
  },
  {
   "cell_type": "code",
   "execution_count": 37,
   "id": "b2e8ba36",
   "metadata": {},
   "outputs": [
    {
     "data": {
      "text/plain": [
       "0.021658634319909404"
      ]
     },
     "execution_count": 37,
     "metadata": {},
     "output_type": "execute_result"
    }
   ],
   "source": [
    "#For getting fast access to a scalar (equiv to the prior method)\n",
    "df.at[dates[0],'A']"
   ]
  },
  {
   "cell_type": "markdown",
   "id": "2b8a3bf5",
   "metadata": {},
   "source": [
    "# Selection by Position\n",
    "Select via the position of the passed integers"
   ]
  },
  {
   "cell_type": "code",
   "execution_count": 38,
   "id": "c1d149c5",
   "metadata": {},
   "outputs": [
    {
     "data": {
      "text/plain": [
       "A    0.175529\n",
       "B   -0.911489\n",
       "C   -0.531176\n",
       "D    1.762255\n",
       "Name: 2023-05-08 00:00:00, dtype: float64"
      ]
     },
     "execution_count": 38,
     "metadata": {},
     "output_type": "execute_result"
    }
   ],
   "source": [
    "df.iloc[3]"
   ]
  },
  {
   "cell_type": "code",
   "execution_count": 39,
   "id": "6f95cd5b",
   "metadata": {},
   "outputs": [
    {
     "data": {
      "text/html": [
       "<div>\n",
       "<style scoped>\n",
       "    .dataframe tbody tr th:only-of-type {\n",
       "        vertical-align: middle;\n",
       "    }\n",
       "\n",
       "    .dataframe tbody tr th {\n",
       "        vertical-align: top;\n",
       "    }\n",
       "\n",
       "    .dataframe thead th {\n",
       "        text-align: right;\n",
       "    }\n",
       "</style>\n",
       "<table border=\"1\" class=\"dataframe\">\n",
       "  <thead>\n",
       "    <tr style=\"text-align: right;\">\n",
       "      <th></th>\n",
       "      <th>A</th>\n",
       "      <th>B</th>\n",
       "    </tr>\n",
       "  </thead>\n",
       "  <tbody>\n",
       "    <tr>\n",
       "      <th>2023-05-08</th>\n",
       "      <td>0.175529</td>\n",
       "      <td>-0.911489</td>\n",
       "    </tr>\n",
       "    <tr>\n",
       "      <th>2023-05-09</th>\n",
       "      <td>-0.990478</td>\n",
       "      <td>-0.267235</td>\n",
       "    </tr>\n",
       "  </tbody>\n",
       "</table>\n",
       "</div>"
      ],
      "text/plain": [
       "                   A         B\n",
       "2023-05-08  0.175529 -0.911489\n",
       "2023-05-09 -0.990478 -0.267235"
      ]
     },
     "execution_count": 39,
     "metadata": {},
     "output_type": "execute_result"
    }
   ],
   "source": [
    "df.iloc[3:5,0:2]"
   ]
  },
  {
   "cell_type": "code",
   "execution_count": 40,
   "id": "51652276",
   "metadata": {},
   "outputs": [
    {
     "data": {
      "text/html": [
       "<div>\n",
       "<style scoped>\n",
       "    .dataframe tbody tr th:only-of-type {\n",
       "        vertical-align: middle;\n",
       "    }\n",
       "\n",
       "    .dataframe tbody tr th {\n",
       "        vertical-align: top;\n",
       "    }\n",
       "\n",
       "    .dataframe thead th {\n",
       "        text-align: right;\n",
       "    }\n",
       "</style>\n",
       "<table border=\"1\" class=\"dataframe\">\n",
       "  <thead>\n",
       "    <tr style=\"text-align: right;\">\n",
       "      <th></th>\n",
       "      <th>A</th>\n",
       "      <th>C</th>\n",
       "    </tr>\n",
       "  </thead>\n",
       "  <tbody>\n",
       "    <tr>\n",
       "      <th>2023-05-06</th>\n",
       "      <td>0.437865</td>\n",
       "      <td>0.797895</td>\n",
       "    </tr>\n",
       "    <tr>\n",
       "      <th>2023-05-07</th>\n",
       "      <td>1.700886</td>\n",
       "      <td>-0.354543</td>\n",
       "    </tr>\n",
       "    <tr>\n",
       "      <th>2023-05-09</th>\n",
       "      <td>-0.990478</td>\n",
       "      <td>0.939321</td>\n",
       "    </tr>\n",
       "  </tbody>\n",
       "</table>\n",
       "</div>"
      ],
      "text/plain": [
       "                   A         C\n",
       "2023-05-06  0.437865  0.797895\n",
       "2023-05-07  1.700886 -0.354543\n",
       "2023-05-09 -0.990478  0.939321"
      ]
     },
     "execution_count": 40,
     "metadata": {},
     "output_type": "execute_result"
    }
   ],
   "source": [
    "#By lists of integer position locations, similar to the numpy/python style\n",
    "df.iloc[[1,2,4],[0,2]]"
   ]
  },
  {
   "cell_type": "code",
   "execution_count": 41,
   "id": "d292c238",
   "metadata": {},
   "outputs": [
    {
     "data": {
      "text/html": [
       "<div>\n",
       "<style scoped>\n",
       "    .dataframe tbody tr th:only-of-type {\n",
       "        vertical-align: middle;\n",
       "    }\n",
       "\n",
       "    .dataframe tbody tr th {\n",
       "        vertical-align: top;\n",
       "    }\n",
       "\n",
       "    .dataframe thead th {\n",
       "        text-align: right;\n",
       "    }\n",
       "</style>\n",
       "<table border=\"1\" class=\"dataframe\">\n",
       "  <thead>\n",
       "    <tr style=\"text-align: right;\">\n",
       "      <th></th>\n",
       "      <th>A</th>\n",
       "      <th>B</th>\n",
       "      <th>C</th>\n",
       "      <th>D</th>\n",
       "    </tr>\n",
       "  </thead>\n",
       "  <tbody>\n",
       "    <tr>\n",
       "      <th>2023-05-06</th>\n",
       "      <td>0.437865</td>\n",
       "      <td>-1.232005</td>\n",
       "      <td>0.797895</td>\n",
       "      <td>-1.294381</td>\n",
       "    </tr>\n",
       "    <tr>\n",
       "      <th>2023-05-07</th>\n",
       "      <td>1.700886</td>\n",
       "      <td>-0.049315</td>\n",
       "      <td>-0.354543</td>\n",
       "      <td>-0.134706</td>\n",
       "    </tr>\n",
       "  </tbody>\n",
       "</table>\n",
       "</div>"
      ],
      "text/plain": [
       "                   A         B         C         D\n",
       "2023-05-06  0.437865 -1.232005  0.797895 -1.294381\n",
       "2023-05-07  1.700886 -0.049315 -0.354543 -0.134706"
      ]
     },
     "execution_count": 41,
     "metadata": {},
     "output_type": "execute_result"
    }
   ],
   "source": [
    "#For slicing rows explicitly\n",
    "df.iloc[1:3,:]"
   ]
  },
  {
   "cell_type": "code",
   "execution_count": 42,
   "id": "4e0f4f23",
   "metadata": {},
   "outputs": [
    {
     "data": {
      "text/html": [
       "<div>\n",
       "<style scoped>\n",
       "    .dataframe tbody tr th:only-of-type {\n",
       "        vertical-align: middle;\n",
       "    }\n",
       "\n",
       "    .dataframe tbody tr th {\n",
       "        vertical-align: top;\n",
       "    }\n",
       "\n",
       "    .dataframe thead th {\n",
       "        text-align: right;\n",
       "    }\n",
       "</style>\n",
       "<table border=\"1\" class=\"dataframe\">\n",
       "  <thead>\n",
       "    <tr style=\"text-align: right;\">\n",
       "      <th></th>\n",
       "      <th>B</th>\n",
       "      <th>C</th>\n",
       "    </tr>\n",
       "  </thead>\n",
       "  <tbody>\n",
       "    <tr>\n",
       "      <th>2023-05-05</th>\n",
       "      <td>1.221645</td>\n",
       "      <td>-0.738822</td>\n",
       "    </tr>\n",
       "    <tr>\n",
       "      <th>2023-05-06</th>\n",
       "      <td>-1.232005</td>\n",
       "      <td>0.797895</td>\n",
       "    </tr>\n",
       "    <tr>\n",
       "      <th>2023-05-07</th>\n",
       "      <td>-0.049315</td>\n",
       "      <td>-0.354543</td>\n",
       "    </tr>\n",
       "    <tr>\n",
       "      <th>2023-05-08</th>\n",
       "      <td>-0.911489</td>\n",
       "      <td>-0.531176</td>\n",
       "    </tr>\n",
       "    <tr>\n",
       "      <th>2023-05-09</th>\n",
       "      <td>-0.267235</td>\n",
       "      <td>0.939321</td>\n",
       "    </tr>\n",
       "    <tr>\n",
       "      <th>2023-05-10</th>\n",
       "      <td>0.291297</td>\n",
       "      <td>-0.227027</td>\n",
       "    </tr>\n",
       "  </tbody>\n",
       "</table>\n",
       "</div>"
      ],
      "text/plain": [
       "                   B         C\n",
       "2023-05-05  1.221645 -0.738822\n",
       "2023-05-06 -1.232005  0.797895\n",
       "2023-05-07 -0.049315 -0.354543\n",
       "2023-05-08 -0.911489 -0.531176\n",
       "2023-05-09 -0.267235  0.939321\n",
       "2023-05-10  0.291297 -0.227027"
      ]
     },
     "execution_count": 42,
     "metadata": {},
     "output_type": "execute_result"
    }
   ],
   "source": [
    "#For slicing columns explicitly\n",
    "df.iloc[:,1:3]"
   ]
  },
  {
   "cell_type": "code",
   "execution_count": 43,
   "id": "9d8d3bab",
   "metadata": {},
   "outputs": [
    {
     "data": {
      "text/plain": [
       "-1.2320046009561973"
      ]
     },
     "execution_count": 43,
     "metadata": {},
     "output_type": "execute_result"
    }
   ],
   "source": [
    "#For getting a value explicitly\n",
    "df.iloc[1,1]"
   ]
  },
  {
   "cell_type": "code",
   "execution_count": 44,
   "id": "664d6be3",
   "metadata": {},
   "outputs": [
    {
     "data": {
      "text/plain": [
       "-1.2320046009561973"
      ]
     },
     "execution_count": 44,
     "metadata": {},
     "output_type": "execute_result"
    }
   ],
   "source": [
    "#For getting fast access to a scalar (equiv to the prior method)\n",
    "df.iat[1,1]"
   ]
  },
  {
   "cell_type": "markdown",
   "id": "9c682377",
   "metadata": {},
   "source": [
    "# Boolean Indexing\n",
    "Using a single column’s values to select data"
   ]
  },
  {
   "cell_type": "code",
   "execution_count": 45,
   "id": "4c9d0c69",
   "metadata": {},
   "outputs": [
    {
     "data": {
      "text/html": [
       "<div>\n",
       "<style scoped>\n",
       "    .dataframe tbody tr th:only-of-type {\n",
       "        vertical-align: middle;\n",
       "    }\n",
       "\n",
       "    .dataframe tbody tr th {\n",
       "        vertical-align: top;\n",
       "    }\n",
       "\n",
       "    .dataframe thead th {\n",
       "        text-align: right;\n",
       "    }\n",
       "</style>\n",
       "<table border=\"1\" class=\"dataframe\">\n",
       "  <thead>\n",
       "    <tr style=\"text-align: right;\">\n",
       "      <th></th>\n",
       "      <th>A</th>\n",
       "      <th>B</th>\n",
       "      <th>C</th>\n",
       "      <th>D</th>\n",
       "    </tr>\n",
       "  </thead>\n",
       "  <tbody>\n",
       "    <tr>\n",
       "      <th>2023-05-05</th>\n",
       "      <td>0.021659</td>\n",
       "      <td>1.221645</td>\n",
       "      <td>-0.738822</td>\n",
       "      <td>-1.059832</td>\n",
       "    </tr>\n",
       "    <tr>\n",
       "      <th>2023-05-06</th>\n",
       "      <td>0.437865</td>\n",
       "      <td>-1.232005</td>\n",
       "      <td>0.797895</td>\n",
       "      <td>-1.294381</td>\n",
       "    </tr>\n",
       "    <tr>\n",
       "      <th>2023-05-07</th>\n",
       "      <td>1.700886</td>\n",
       "      <td>-0.049315</td>\n",
       "      <td>-0.354543</td>\n",
       "      <td>-0.134706</td>\n",
       "    </tr>\n",
       "    <tr>\n",
       "      <th>2023-05-08</th>\n",
       "      <td>0.175529</td>\n",
       "      <td>-0.911489</td>\n",
       "      <td>-0.531176</td>\n",
       "      <td>1.762255</td>\n",
       "    </tr>\n",
       "  </tbody>\n",
       "</table>\n",
       "</div>"
      ],
      "text/plain": [
       "                   A         B         C         D\n",
       "2023-05-05  0.021659  1.221645 -0.738822 -1.059832\n",
       "2023-05-06  0.437865 -1.232005  0.797895 -1.294381\n",
       "2023-05-07  1.700886 -0.049315 -0.354543 -0.134706\n",
       "2023-05-08  0.175529 -0.911489 -0.531176  1.762255"
      ]
     },
     "execution_count": 45,
     "metadata": {},
     "output_type": "execute_result"
    }
   ],
   "source": [
    " df[df.A > 0]"
   ]
  },
  {
   "cell_type": "code",
   "execution_count": 46,
   "id": "fa0442de",
   "metadata": {},
   "outputs": [
    {
     "data": {
      "text/html": [
       "<div>\n",
       "<style scoped>\n",
       "    .dataframe tbody tr th:only-of-type {\n",
       "        vertical-align: middle;\n",
       "    }\n",
       "\n",
       "    .dataframe tbody tr th {\n",
       "        vertical-align: top;\n",
       "    }\n",
       "\n",
       "    .dataframe thead th {\n",
       "        text-align: right;\n",
       "    }\n",
       "</style>\n",
       "<table border=\"1\" class=\"dataframe\">\n",
       "  <thead>\n",
       "    <tr style=\"text-align: right;\">\n",
       "      <th></th>\n",
       "      <th>A</th>\n",
       "      <th>B</th>\n",
       "      <th>C</th>\n",
       "      <th>D</th>\n",
       "    </tr>\n",
       "  </thead>\n",
       "  <tbody>\n",
       "    <tr>\n",
       "      <th>2023-05-05</th>\n",
       "      <td>0.021659</td>\n",
       "      <td>1.221645</td>\n",
       "      <td>NaN</td>\n",
       "      <td>NaN</td>\n",
       "    </tr>\n",
       "    <tr>\n",
       "      <th>2023-05-06</th>\n",
       "      <td>0.437865</td>\n",
       "      <td>NaN</td>\n",
       "      <td>0.797895</td>\n",
       "      <td>NaN</td>\n",
       "    </tr>\n",
       "    <tr>\n",
       "      <th>2023-05-07</th>\n",
       "      <td>1.700886</td>\n",
       "      <td>NaN</td>\n",
       "      <td>NaN</td>\n",
       "      <td>NaN</td>\n",
       "    </tr>\n",
       "    <tr>\n",
       "      <th>2023-05-08</th>\n",
       "      <td>0.175529</td>\n",
       "      <td>NaN</td>\n",
       "      <td>NaN</td>\n",
       "      <td>1.762255</td>\n",
       "    </tr>\n",
       "    <tr>\n",
       "      <th>2023-05-09</th>\n",
       "      <td>NaN</td>\n",
       "      <td>NaN</td>\n",
       "      <td>0.939321</td>\n",
       "      <td>0.513438</td>\n",
       "    </tr>\n",
       "    <tr>\n",
       "      <th>2023-05-10</th>\n",
       "      <td>NaN</td>\n",
       "      <td>0.291297</td>\n",
       "      <td>NaN</td>\n",
       "      <td>0.206399</td>\n",
       "    </tr>\n",
       "  </tbody>\n",
       "</table>\n",
       "</div>"
      ],
      "text/plain": [
       "                   A         B         C         D\n",
       "2023-05-05  0.021659  1.221645       NaN       NaN\n",
       "2023-05-06  0.437865       NaN  0.797895       NaN\n",
       "2023-05-07  1.700886       NaN       NaN       NaN\n",
       "2023-05-08  0.175529       NaN       NaN  1.762255\n",
       "2023-05-09       NaN       NaN  0.939321  0.513438\n",
       "2023-05-10       NaN  0.291297       NaN  0.206399"
      ]
     },
     "execution_count": 46,
     "metadata": {},
     "output_type": "execute_result"
    }
   ],
   "source": [
    "#A where operation for getting.\n",
    "df[df > 0]"
   ]
  },
  {
   "cell_type": "code",
   "execution_count": 47,
   "id": "e711fa32",
   "metadata": {},
   "outputs": [],
   "source": [
    "#method for filtering\n",
    "df_copy = df.copy()"
   ]
  },
  {
   "cell_type": "code",
   "execution_count": 48,
   "id": "ef12acfc",
   "metadata": {},
   "outputs": [
    {
     "data": {
      "text/html": [
       "<div>\n",
       "<style scoped>\n",
       "    .dataframe tbody tr th:only-of-type {\n",
       "        vertical-align: middle;\n",
       "    }\n",
       "\n",
       "    .dataframe tbody tr th {\n",
       "        vertical-align: top;\n",
       "    }\n",
       "\n",
       "    .dataframe thead th {\n",
       "        text-align: right;\n",
       "    }\n",
       "</style>\n",
       "<table border=\"1\" class=\"dataframe\">\n",
       "  <thead>\n",
       "    <tr style=\"text-align: right;\">\n",
       "      <th></th>\n",
       "      <th>A</th>\n",
       "      <th>B</th>\n",
       "      <th>C</th>\n",
       "      <th>D</th>\n",
       "    </tr>\n",
       "  </thead>\n",
       "  <tbody>\n",
       "    <tr>\n",
       "      <th>2023-05-05</th>\n",
       "      <td>0.021659</td>\n",
       "      <td>1.221645</td>\n",
       "      <td>-0.738822</td>\n",
       "      <td>-1.059832</td>\n",
       "    </tr>\n",
       "    <tr>\n",
       "      <th>2023-05-06</th>\n",
       "      <td>0.437865</td>\n",
       "      <td>-1.232005</td>\n",
       "      <td>0.797895</td>\n",
       "      <td>-1.294381</td>\n",
       "    </tr>\n",
       "    <tr>\n",
       "      <th>2023-05-07</th>\n",
       "      <td>1.700886</td>\n",
       "      <td>-0.049315</td>\n",
       "      <td>-0.354543</td>\n",
       "      <td>-0.134706</td>\n",
       "    </tr>\n",
       "    <tr>\n",
       "      <th>2023-05-08</th>\n",
       "      <td>0.175529</td>\n",
       "      <td>-0.911489</td>\n",
       "      <td>-0.531176</td>\n",
       "      <td>1.762255</td>\n",
       "    </tr>\n",
       "    <tr>\n",
       "      <th>2023-05-09</th>\n",
       "      <td>-0.990478</td>\n",
       "      <td>-0.267235</td>\n",
       "      <td>0.939321</td>\n",
       "      <td>0.513438</td>\n",
       "    </tr>\n",
       "    <tr>\n",
       "      <th>2023-05-10</th>\n",
       "      <td>-0.255577</td>\n",
       "      <td>0.291297</td>\n",
       "      <td>-0.227027</td>\n",
       "      <td>0.206399</td>\n",
       "    </tr>\n",
       "  </tbody>\n",
       "</table>\n",
       "</div>"
      ],
      "text/plain": [
       "                   A         B         C         D\n",
       "2023-05-05  0.021659  1.221645 -0.738822 -1.059832\n",
       "2023-05-06  0.437865 -1.232005  0.797895 -1.294381\n",
       "2023-05-07  1.700886 -0.049315 -0.354543 -0.134706\n",
       "2023-05-08  0.175529 -0.911489 -0.531176  1.762255\n",
       "2023-05-09 -0.990478 -0.267235  0.939321  0.513438\n",
       "2023-05-10 -0.255577  0.291297 -0.227027  0.206399"
      ]
     },
     "execution_count": 48,
     "metadata": {},
     "output_type": "execute_result"
    }
   ],
   "source": [
    "df_copy"
   ]
  },
  {
   "cell_type": "code",
   "execution_count": 49,
   "id": "ae7f0c58",
   "metadata": {},
   "outputs": [],
   "source": [
    "df_copy['E'] = ['one', 'one','two','three','four','three']"
   ]
  },
  {
   "cell_type": "code",
   "execution_count": 50,
   "id": "1173b834",
   "metadata": {},
   "outputs": [
    {
     "data": {
      "text/html": [
       "<div>\n",
       "<style scoped>\n",
       "    .dataframe tbody tr th:only-of-type {\n",
       "        vertical-align: middle;\n",
       "    }\n",
       "\n",
       "    .dataframe tbody tr th {\n",
       "        vertical-align: top;\n",
       "    }\n",
       "\n",
       "    .dataframe thead th {\n",
       "        text-align: right;\n",
       "    }\n",
       "</style>\n",
       "<table border=\"1\" class=\"dataframe\">\n",
       "  <thead>\n",
       "    <tr style=\"text-align: right;\">\n",
       "      <th></th>\n",
       "      <th>A</th>\n",
       "      <th>B</th>\n",
       "      <th>C</th>\n",
       "      <th>D</th>\n",
       "      <th>E</th>\n",
       "    </tr>\n",
       "  </thead>\n",
       "  <tbody>\n",
       "    <tr>\n",
       "      <th>2023-05-05</th>\n",
       "      <td>0.021659</td>\n",
       "      <td>1.221645</td>\n",
       "      <td>-0.738822</td>\n",
       "      <td>-1.059832</td>\n",
       "      <td>one</td>\n",
       "    </tr>\n",
       "    <tr>\n",
       "      <th>2023-05-06</th>\n",
       "      <td>0.437865</td>\n",
       "      <td>-1.232005</td>\n",
       "      <td>0.797895</td>\n",
       "      <td>-1.294381</td>\n",
       "      <td>one</td>\n",
       "    </tr>\n",
       "    <tr>\n",
       "      <th>2023-05-07</th>\n",
       "      <td>1.700886</td>\n",
       "      <td>-0.049315</td>\n",
       "      <td>-0.354543</td>\n",
       "      <td>-0.134706</td>\n",
       "      <td>two</td>\n",
       "    </tr>\n",
       "    <tr>\n",
       "      <th>2023-05-08</th>\n",
       "      <td>0.175529</td>\n",
       "      <td>-0.911489</td>\n",
       "      <td>-0.531176</td>\n",
       "      <td>1.762255</td>\n",
       "      <td>three</td>\n",
       "    </tr>\n",
       "    <tr>\n",
       "      <th>2023-05-09</th>\n",
       "      <td>-0.990478</td>\n",
       "      <td>-0.267235</td>\n",
       "      <td>0.939321</td>\n",
       "      <td>0.513438</td>\n",
       "      <td>four</td>\n",
       "    </tr>\n",
       "    <tr>\n",
       "      <th>2023-05-10</th>\n",
       "      <td>-0.255577</td>\n",
       "      <td>0.291297</td>\n",
       "      <td>-0.227027</td>\n",
       "      <td>0.206399</td>\n",
       "      <td>three</td>\n",
       "    </tr>\n",
       "  </tbody>\n",
       "</table>\n",
       "</div>"
      ],
      "text/plain": [
       "                   A         B         C         D      E\n",
       "2023-05-05  0.021659  1.221645 -0.738822 -1.059832    one\n",
       "2023-05-06  0.437865 -1.232005  0.797895 -1.294381    one\n",
       "2023-05-07  1.700886 -0.049315 -0.354543 -0.134706    two\n",
       "2023-05-08  0.175529 -0.911489 -0.531176  1.762255  three\n",
       "2023-05-09 -0.990478 -0.267235  0.939321  0.513438   four\n",
       "2023-05-10 -0.255577  0.291297 -0.227027  0.206399  three"
      ]
     },
     "execution_count": 50,
     "metadata": {},
     "output_type": "execute_result"
    }
   ],
   "source": [
    "df_copy"
   ]
  },
  {
   "cell_type": "code",
   "execution_count": 51,
   "id": "bf4385e3",
   "metadata": {},
   "outputs": [
    {
     "data": {
      "text/html": [
       "<div>\n",
       "<style scoped>\n",
       "    .dataframe tbody tr th:only-of-type {\n",
       "        vertical-align: middle;\n",
       "    }\n",
       "\n",
       "    .dataframe tbody tr th {\n",
       "        vertical-align: top;\n",
       "    }\n",
       "\n",
       "    .dataframe thead th {\n",
       "        text-align: right;\n",
       "    }\n",
       "</style>\n",
       "<table border=\"1\" class=\"dataframe\">\n",
       "  <thead>\n",
       "    <tr style=\"text-align: right;\">\n",
       "      <th></th>\n",
       "      <th>A</th>\n",
       "      <th>B</th>\n",
       "      <th>C</th>\n",
       "      <th>D</th>\n",
       "      <th>E</th>\n",
       "    </tr>\n",
       "  </thead>\n",
       "  <tbody>\n",
       "    <tr>\n",
       "      <th>2023-05-07</th>\n",
       "      <td>1.700886</td>\n",
       "      <td>-0.049315</td>\n",
       "      <td>-0.354543</td>\n",
       "      <td>-0.134706</td>\n",
       "      <td>two</td>\n",
       "    </tr>\n",
       "    <tr>\n",
       "      <th>2023-05-09</th>\n",
       "      <td>-0.990478</td>\n",
       "      <td>-0.267235</td>\n",
       "      <td>0.939321</td>\n",
       "      <td>0.513438</td>\n",
       "      <td>four</td>\n",
       "    </tr>\n",
       "  </tbody>\n",
       "</table>\n",
       "</div>"
      ],
      "text/plain": [
       "                   A         B         C         D     E\n",
       "2023-05-07  1.700886 -0.049315 -0.354543 -0.134706   two\n",
       "2023-05-09 -0.990478 -0.267235  0.939321  0.513438  four"
      ]
     },
     "execution_count": 51,
     "metadata": {},
     "output_type": "execute_result"
    }
   ],
   "source": [
    "df_copy[df_copy['E'].isin(['two','four'])]"
   ]
  },
  {
   "cell_type": "markdown",
   "id": "2ed60fe2",
   "metadata": {},
   "source": [
    "# Setting\n",
    "Setting a new column automatically aligns the data by the indexes"
   ]
  },
  {
   "cell_type": "code",
   "execution_count": 52,
   "id": "6cbbbbdd",
   "metadata": {},
   "outputs": [],
   "source": [
    "s1 = pd.Series([1,2,3,4,5,6], index=pd.date_range('20230507', periods=6))"
   ]
  },
  {
   "cell_type": "code",
   "execution_count": 53,
   "id": "689ecb1c",
   "metadata": {},
   "outputs": [
    {
     "data": {
      "text/plain": [
       "2023-05-07    1\n",
       "2023-05-08    2\n",
       "2023-05-09    3\n",
       "2023-05-10    4\n",
       "2023-05-11    5\n",
       "2023-05-12    6\n",
       "Freq: D, dtype: int64"
      ]
     },
     "execution_count": 53,
     "metadata": {},
     "output_type": "execute_result"
    }
   ],
   "source": [
    "s1"
   ]
  },
  {
   "cell_type": "code",
   "execution_count": 54,
   "id": "bcf655d1",
   "metadata": {},
   "outputs": [],
   "source": [
    "df['F'] = s"
   ]
  },
  {
   "cell_type": "code",
   "execution_count": 55,
   "id": "c68c0f9c",
   "metadata": {},
   "outputs": [],
   "source": [
    "#Setting values by label\n",
    "df.at[dates[0],'A'] = 0"
   ]
  },
  {
   "cell_type": "code",
   "execution_count": 56,
   "id": "7416f93f",
   "metadata": {},
   "outputs": [],
   "source": [
    "#Setting values by position\n",
    "df.iat[0,1] = 0"
   ]
  },
  {
   "cell_type": "code",
   "execution_count": 57,
   "id": "242929dc",
   "metadata": {},
   "outputs": [],
   "source": [
    "#Setting by assigning with a numpy array\n",
    "df.loc[:,'D'] = np.array([5] * len(df))"
   ]
  },
  {
   "cell_type": "code",
   "execution_count": 58,
   "id": "bcaaf9f2",
   "metadata": {},
   "outputs": [
    {
     "data": {
      "text/html": [
       "<div>\n",
       "<style scoped>\n",
       "    .dataframe tbody tr th:only-of-type {\n",
       "        vertical-align: middle;\n",
       "    }\n",
       "\n",
       "    .dataframe tbody tr th {\n",
       "        vertical-align: top;\n",
       "    }\n",
       "\n",
       "    .dataframe thead th {\n",
       "        text-align: right;\n",
       "    }\n",
       "</style>\n",
       "<table border=\"1\" class=\"dataframe\">\n",
       "  <thead>\n",
       "    <tr style=\"text-align: right;\">\n",
       "      <th></th>\n",
       "      <th>A</th>\n",
       "      <th>B</th>\n",
       "      <th>C</th>\n",
       "      <th>D</th>\n",
       "      <th>F</th>\n",
       "    </tr>\n",
       "  </thead>\n",
       "  <tbody>\n",
       "    <tr>\n",
       "      <th>2023-05-05</th>\n",
       "      <td>0.000000</td>\n",
       "      <td>0.000000</td>\n",
       "      <td>-0.738822</td>\n",
       "      <td>5</td>\n",
       "      <td>NaN</td>\n",
       "    </tr>\n",
       "    <tr>\n",
       "      <th>2023-05-06</th>\n",
       "      <td>0.437865</td>\n",
       "      <td>-1.232005</td>\n",
       "      <td>0.797895</td>\n",
       "      <td>5</td>\n",
       "      <td>NaN</td>\n",
       "    </tr>\n",
       "    <tr>\n",
       "      <th>2023-05-07</th>\n",
       "      <td>1.700886</td>\n",
       "      <td>-0.049315</td>\n",
       "      <td>-0.354543</td>\n",
       "      <td>5</td>\n",
       "      <td>NaN</td>\n",
       "    </tr>\n",
       "    <tr>\n",
       "      <th>2023-05-08</th>\n",
       "      <td>0.175529</td>\n",
       "      <td>-0.911489</td>\n",
       "      <td>-0.531176</td>\n",
       "      <td>5</td>\n",
       "      <td>NaN</td>\n",
       "    </tr>\n",
       "    <tr>\n",
       "      <th>2023-05-09</th>\n",
       "      <td>-0.990478</td>\n",
       "      <td>-0.267235</td>\n",
       "      <td>0.939321</td>\n",
       "      <td>5</td>\n",
       "      <td>NaN</td>\n",
       "    </tr>\n",
       "    <tr>\n",
       "      <th>2023-05-10</th>\n",
       "      <td>-0.255577</td>\n",
       "      <td>0.291297</td>\n",
       "      <td>-0.227027</td>\n",
       "      <td>5</td>\n",
       "      <td>NaN</td>\n",
       "    </tr>\n",
       "  </tbody>\n",
       "</table>\n",
       "</div>"
      ],
      "text/plain": [
       "                   A         B         C  D   F\n",
       "2023-05-05  0.000000  0.000000 -0.738822  5 NaN\n",
       "2023-05-06  0.437865 -1.232005  0.797895  5 NaN\n",
       "2023-05-07  1.700886 -0.049315 -0.354543  5 NaN\n",
       "2023-05-08  0.175529 -0.911489 -0.531176  5 NaN\n",
       "2023-05-09 -0.990478 -0.267235  0.939321  5 NaN\n",
       "2023-05-10 -0.255577  0.291297 -0.227027  5 NaN"
      ]
     },
     "execution_count": 58,
     "metadata": {},
     "output_type": "execute_result"
    }
   ],
   "source": [
    "#The result of the prior setting operations\n",
    "df"
   ]
  },
  {
   "cell_type": "code",
   "execution_count": 59,
   "id": "e906f7e7",
   "metadata": {},
   "outputs": [],
   "source": [
    "df_copy = df.copy()"
   ]
  },
  {
   "cell_type": "code",
   "execution_count": 60,
   "id": "4019a020",
   "metadata": {},
   "outputs": [
    {
     "data": {
      "text/html": [
       "<div>\n",
       "<style scoped>\n",
       "    .dataframe tbody tr th:only-of-type {\n",
       "        vertical-align: middle;\n",
       "    }\n",
       "\n",
       "    .dataframe tbody tr th {\n",
       "        vertical-align: top;\n",
       "    }\n",
       "\n",
       "    .dataframe thead th {\n",
       "        text-align: right;\n",
       "    }\n",
       "</style>\n",
       "<table border=\"1\" class=\"dataframe\">\n",
       "  <thead>\n",
       "    <tr style=\"text-align: right;\">\n",
       "      <th></th>\n",
       "      <th>A</th>\n",
       "      <th>B</th>\n",
       "      <th>C</th>\n",
       "      <th>D</th>\n",
       "      <th>F</th>\n",
       "    </tr>\n",
       "  </thead>\n",
       "  <tbody>\n",
       "    <tr>\n",
       "      <th>2023-05-05</th>\n",
       "      <td>0.000000</td>\n",
       "      <td>0.000000</td>\n",
       "      <td>-0.738822</td>\n",
       "      <td>5</td>\n",
       "      <td>NaN</td>\n",
       "    </tr>\n",
       "    <tr>\n",
       "      <th>2023-05-06</th>\n",
       "      <td>0.437865</td>\n",
       "      <td>-1.232005</td>\n",
       "      <td>0.797895</td>\n",
       "      <td>5</td>\n",
       "      <td>NaN</td>\n",
       "    </tr>\n",
       "    <tr>\n",
       "      <th>2023-05-07</th>\n",
       "      <td>1.700886</td>\n",
       "      <td>-0.049315</td>\n",
       "      <td>-0.354543</td>\n",
       "      <td>5</td>\n",
       "      <td>NaN</td>\n",
       "    </tr>\n",
       "    <tr>\n",
       "      <th>2023-05-08</th>\n",
       "      <td>0.175529</td>\n",
       "      <td>-0.911489</td>\n",
       "      <td>-0.531176</td>\n",
       "      <td>5</td>\n",
       "      <td>NaN</td>\n",
       "    </tr>\n",
       "    <tr>\n",
       "      <th>2023-05-09</th>\n",
       "      <td>-0.990478</td>\n",
       "      <td>-0.267235</td>\n",
       "      <td>0.939321</td>\n",
       "      <td>5</td>\n",
       "      <td>NaN</td>\n",
       "    </tr>\n",
       "    <tr>\n",
       "      <th>2023-05-10</th>\n",
       "      <td>-0.255577</td>\n",
       "      <td>0.291297</td>\n",
       "      <td>-0.227027</td>\n",
       "      <td>5</td>\n",
       "      <td>NaN</td>\n",
       "    </tr>\n",
       "  </tbody>\n",
       "</table>\n",
       "</div>"
      ],
      "text/plain": [
       "                   A         B         C  D   F\n",
       "2023-05-05  0.000000  0.000000 -0.738822  5 NaN\n",
       "2023-05-06  0.437865 -1.232005  0.797895  5 NaN\n",
       "2023-05-07  1.700886 -0.049315 -0.354543  5 NaN\n",
       "2023-05-08  0.175529 -0.911489 -0.531176  5 NaN\n",
       "2023-05-09 -0.990478 -0.267235  0.939321  5 NaN\n",
       "2023-05-10 -0.255577  0.291297 -0.227027  5 NaN"
      ]
     },
     "execution_count": 60,
     "metadata": {},
     "output_type": "execute_result"
    }
   ],
   "source": [
    "df_copy"
   ]
  },
  {
   "cell_type": "markdown",
   "id": "3dd987f9",
   "metadata": {},
   "source": [
    "# Missing Data\n",
    "pandas primarily uses the value np.nan to represent missing data. \n",
    "It is by default not included in computations. \n",
    "Reindexing allows you to change/add/delete the index on a specified axis. \n",
    "This returns a copy of the data."
   ]
  },
  {
   "cell_type": "code",
   "execution_count": 61,
   "id": "6264b5bd",
   "metadata": {},
   "outputs": [],
   "source": [
    "df1 = df.reindex(index=dates[0:4], columns=list(df.columns) + ['E'])"
   ]
  },
  {
   "cell_type": "code",
   "execution_count": 62,
   "id": "fdefa2cb",
   "metadata": {},
   "outputs": [],
   "source": [
    "df1.loc[dates[0]:dates[1],'E'] = 1"
   ]
  },
  {
   "cell_type": "code",
   "execution_count": 63,
   "id": "e36b1c99",
   "metadata": {},
   "outputs": [
    {
     "data": {
      "text/html": [
       "<div>\n",
       "<style scoped>\n",
       "    .dataframe tbody tr th:only-of-type {\n",
       "        vertical-align: middle;\n",
       "    }\n",
       "\n",
       "    .dataframe tbody tr th {\n",
       "        vertical-align: top;\n",
       "    }\n",
       "\n",
       "    .dataframe thead th {\n",
       "        text-align: right;\n",
       "    }\n",
       "</style>\n",
       "<table border=\"1\" class=\"dataframe\">\n",
       "  <thead>\n",
       "    <tr style=\"text-align: right;\">\n",
       "      <th></th>\n",
       "      <th>A</th>\n",
       "      <th>B</th>\n",
       "      <th>C</th>\n",
       "      <th>D</th>\n",
       "      <th>F</th>\n",
       "      <th>E</th>\n",
       "    </tr>\n",
       "  </thead>\n",
       "  <tbody>\n",
       "    <tr>\n",
       "      <th>2023-05-05</th>\n",
       "      <td>0.000000</td>\n",
       "      <td>0.000000</td>\n",
       "      <td>-0.738822</td>\n",
       "      <td>5</td>\n",
       "      <td>NaN</td>\n",
       "      <td>1.0</td>\n",
       "    </tr>\n",
       "    <tr>\n",
       "      <th>2023-05-06</th>\n",
       "      <td>0.437865</td>\n",
       "      <td>-1.232005</td>\n",
       "      <td>0.797895</td>\n",
       "      <td>5</td>\n",
       "      <td>NaN</td>\n",
       "      <td>1.0</td>\n",
       "    </tr>\n",
       "    <tr>\n",
       "      <th>2023-05-07</th>\n",
       "      <td>1.700886</td>\n",
       "      <td>-0.049315</td>\n",
       "      <td>-0.354543</td>\n",
       "      <td>5</td>\n",
       "      <td>NaN</td>\n",
       "      <td>NaN</td>\n",
       "    </tr>\n",
       "    <tr>\n",
       "      <th>2023-05-08</th>\n",
       "      <td>0.175529</td>\n",
       "      <td>-0.911489</td>\n",
       "      <td>-0.531176</td>\n",
       "      <td>5</td>\n",
       "      <td>NaN</td>\n",
       "      <td>NaN</td>\n",
       "    </tr>\n",
       "  </tbody>\n",
       "</table>\n",
       "</div>"
      ],
      "text/plain": [
       "                   A         B         C  D   F    E\n",
       "2023-05-05  0.000000  0.000000 -0.738822  5 NaN  1.0\n",
       "2023-05-06  0.437865 -1.232005  0.797895  5 NaN  1.0\n",
       "2023-05-07  1.700886 -0.049315 -0.354543  5 NaN  NaN\n",
       "2023-05-08  0.175529 -0.911489 -0.531176  5 NaN  NaN"
      ]
     },
     "execution_count": 63,
     "metadata": {},
     "output_type": "execute_result"
    }
   ],
   "source": [
    "df1   "
   ]
  },
  {
   "cell_type": "code",
   "execution_count": 64,
   "id": "ac29ec1b",
   "metadata": {},
   "outputs": [
    {
     "data": {
      "text/html": [
       "<div>\n",
       "<style scoped>\n",
       "    .dataframe tbody tr th:only-of-type {\n",
       "        vertical-align: middle;\n",
       "    }\n",
       "\n",
       "    .dataframe tbody tr th {\n",
       "        vertical-align: top;\n",
       "    }\n",
       "\n",
       "    .dataframe thead th {\n",
       "        text-align: right;\n",
       "    }\n",
       "</style>\n",
       "<table border=\"1\" class=\"dataframe\">\n",
       "  <thead>\n",
       "    <tr style=\"text-align: right;\">\n",
       "      <th></th>\n",
       "      <th>A</th>\n",
       "      <th>B</th>\n",
       "      <th>C</th>\n",
       "      <th>D</th>\n",
       "      <th>F</th>\n",
       "      <th>E</th>\n",
       "    </tr>\n",
       "  </thead>\n",
       "  <tbody>\n",
       "  </tbody>\n",
       "</table>\n",
       "</div>"
      ],
      "text/plain": [
       "Empty DataFrame\n",
       "Columns: [A, B, C, D, F, E]\n",
       "Index: []"
      ]
     },
     "execution_count": 64,
     "metadata": {},
     "output_type": "execute_result"
    }
   ],
   "source": [
    "#To drop any rows that have missing data.\n",
    "df1.dropna(how='any')"
   ]
  },
  {
   "cell_type": "code",
   "execution_count": 65,
   "id": "dde965cd",
   "metadata": {},
   "outputs": [
    {
     "data": {
      "text/html": [
       "<div>\n",
       "<style scoped>\n",
       "    .dataframe tbody tr th:only-of-type {\n",
       "        vertical-align: middle;\n",
       "    }\n",
       "\n",
       "    .dataframe tbody tr th {\n",
       "        vertical-align: top;\n",
       "    }\n",
       "\n",
       "    .dataframe thead th {\n",
       "        text-align: right;\n",
       "    }\n",
       "</style>\n",
       "<table border=\"1\" class=\"dataframe\">\n",
       "  <thead>\n",
       "    <tr style=\"text-align: right;\">\n",
       "      <th></th>\n",
       "      <th>A</th>\n",
       "      <th>B</th>\n",
       "      <th>C</th>\n",
       "      <th>D</th>\n",
       "      <th>F</th>\n",
       "      <th>E</th>\n",
       "    </tr>\n",
       "  </thead>\n",
       "  <tbody>\n",
       "    <tr>\n",
       "      <th>2023-05-05</th>\n",
       "      <td>0.000000</td>\n",
       "      <td>0.000000</td>\n",
       "      <td>-0.738822</td>\n",
       "      <td>5</td>\n",
       "      <td>5.0</td>\n",
       "      <td>1.0</td>\n",
       "    </tr>\n",
       "    <tr>\n",
       "      <th>2023-05-06</th>\n",
       "      <td>0.437865</td>\n",
       "      <td>-1.232005</td>\n",
       "      <td>0.797895</td>\n",
       "      <td>5</td>\n",
       "      <td>5.0</td>\n",
       "      <td>1.0</td>\n",
       "    </tr>\n",
       "    <tr>\n",
       "      <th>2023-05-07</th>\n",
       "      <td>1.700886</td>\n",
       "      <td>-0.049315</td>\n",
       "      <td>-0.354543</td>\n",
       "      <td>5</td>\n",
       "      <td>5.0</td>\n",
       "      <td>5.0</td>\n",
       "    </tr>\n",
       "    <tr>\n",
       "      <th>2023-05-08</th>\n",
       "      <td>0.175529</td>\n",
       "      <td>-0.911489</td>\n",
       "      <td>-0.531176</td>\n",
       "      <td>5</td>\n",
       "      <td>5.0</td>\n",
       "      <td>5.0</td>\n",
       "    </tr>\n",
       "  </tbody>\n",
       "</table>\n",
       "</div>"
      ],
      "text/plain": [
       "                   A         B         C  D    F    E\n",
       "2023-05-05  0.000000  0.000000 -0.738822  5  5.0  1.0\n",
       "2023-05-06  0.437865 -1.232005  0.797895  5  5.0  1.0\n",
       "2023-05-07  1.700886 -0.049315 -0.354543  5  5.0  5.0\n",
       "2023-05-08  0.175529 -0.911489 -0.531176  5  5.0  5.0"
      ]
     },
     "execution_count": 65,
     "metadata": {},
     "output_type": "execute_result"
    }
   ],
   "source": [
    "df1.fillna(value=5)"
   ]
  },
  {
   "cell_type": "code",
   "execution_count": 66,
   "id": "84cb318b",
   "metadata": {},
   "outputs": [
    {
     "data": {
      "text/html": [
       "<div>\n",
       "<style scoped>\n",
       "    .dataframe tbody tr th:only-of-type {\n",
       "        vertical-align: middle;\n",
       "    }\n",
       "\n",
       "    .dataframe tbody tr th {\n",
       "        vertical-align: top;\n",
       "    }\n",
       "\n",
       "    .dataframe thead th {\n",
       "        text-align: right;\n",
       "    }\n",
       "</style>\n",
       "<table border=\"1\" class=\"dataframe\">\n",
       "  <thead>\n",
       "    <tr style=\"text-align: right;\">\n",
       "      <th></th>\n",
       "      <th>A</th>\n",
       "      <th>B</th>\n",
       "      <th>C</th>\n",
       "      <th>D</th>\n",
       "      <th>F</th>\n",
       "      <th>E</th>\n",
       "    </tr>\n",
       "  </thead>\n",
       "  <tbody>\n",
       "    <tr>\n",
       "      <th>2023-05-05</th>\n",
       "      <td>False</td>\n",
       "      <td>False</td>\n",
       "      <td>False</td>\n",
       "      <td>False</td>\n",
       "      <td>True</td>\n",
       "      <td>False</td>\n",
       "    </tr>\n",
       "    <tr>\n",
       "      <th>2023-05-06</th>\n",
       "      <td>False</td>\n",
       "      <td>False</td>\n",
       "      <td>False</td>\n",
       "      <td>False</td>\n",
       "      <td>True</td>\n",
       "      <td>False</td>\n",
       "    </tr>\n",
       "    <tr>\n",
       "      <th>2023-05-07</th>\n",
       "      <td>False</td>\n",
       "      <td>False</td>\n",
       "      <td>False</td>\n",
       "      <td>False</td>\n",
       "      <td>True</td>\n",
       "      <td>True</td>\n",
       "    </tr>\n",
       "    <tr>\n",
       "      <th>2023-05-08</th>\n",
       "      <td>False</td>\n",
       "      <td>False</td>\n",
       "      <td>False</td>\n",
       "      <td>False</td>\n",
       "      <td>True</td>\n",
       "      <td>True</td>\n",
       "    </tr>\n",
       "  </tbody>\n",
       "</table>\n",
       "</div>"
      ],
      "text/plain": [
       "                A      B      C      D     F      E\n",
       "2023-05-05  False  False  False  False  True  False\n",
       "2023-05-06  False  False  False  False  True  False\n",
       "2023-05-07  False  False  False  False  True   True\n",
       "2023-05-08  False  False  False  False  True   True"
      ]
     },
     "execution_count": 66,
     "metadata": {},
     "output_type": "execute_result"
    }
   ],
   "source": [
    "#To get the boolean mask where values are nan\n",
    "pd.isnull(df1)"
   ]
  },
  {
   "cell_type": "markdown",
   "id": "205553bf",
   "metadata": {},
   "source": [
    "# Operations\n",
    "Operations in general exclude missing data.<br>\n",
    "Performing a descriptive statistics"
   ]
  },
  {
   "cell_type": "code",
   "execution_count": 67,
   "id": "d5773542",
   "metadata": {},
   "outputs": [
    {
     "data": {
      "text/plain": [
       "A    0.178037\n",
       "B   -0.361458\n",
       "C   -0.019059\n",
       "D    5.000000\n",
       "F         NaN\n",
       "dtype: float64"
      ]
     },
     "execution_count": 67,
     "metadata": {},
     "output_type": "execute_result"
    }
   ],
   "source": [
    "df.mean()"
   ]
  },
  {
   "cell_type": "code",
   "execution_count": 68,
   "id": "cc3075e2",
   "metadata": {},
   "outputs": [
    {
     "data": {
      "text/plain": [
       "A    0.178037\n",
       "B   -0.361458\n",
       "C   -0.019059\n",
       "D    5.000000\n",
       "F         NaN\n",
       "dtype: float64"
      ]
     },
     "execution_count": 68,
     "metadata": {},
     "output_type": "execute_result"
    }
   ],
   "source": [
    "#Same operation on the other axis\n",
    "df.mean()"
   ]
  },
  {
   "cell_type": "code",
   "execution_count": 69,
   "id": "3b5feb91",
   "metadata": {},
   "outputs": [],
   "source": [
    "#Operating with objects that have different dimensionality and need alignment. \n",
    "#In addition, pandas automatically broadcasts along the specified dimension\n",
    "s = pd.Series([1,3,5,np.nan,6,8], index=dates).shift(2)"
   ]
  },
  {
   "cell_type": "code",
   "execution_count": 70,
   "id": "1adac868",
   "metadata": {},
   "outputs": [
    {
     "data": {
      "text/plain": [
       "2023-05-05    NaN\n",
       "2023-05-06    NaN\n",
       "2023-05-07    1.0\n",
       "2023-05-08    3.0\n",
       "2023-05-09    5.0\n",
       "2023-05-10    NaN\n",
       "Freq: D, dtype: float64"
      ]
     },
     "execution_count": 70,
     "metadata": {},
     "output_type": "execute_result"
    }
   ],
   "source": [
    "s"
   ]
  },
  {
   "cell_type": "code",
   "execution_count": 71,
   "id": "ad03b651",
   "metadata": {},
   "outputs": [
    {
     "data": {
      "text/html": [
       "<div>\n",
       "<style scoped>\n",
       "    .dataframe tbody tr th:only-of-type {\n",
       "        vertical-align: middle;\n",
       "    }\n",
       "\n",
       "    .dataframe tbody tr th {\n",
       "        vertical-align: top;\n",
       "    }\n",
       "\n",
       "    .dataframe thead th {\n",
       "        text-align: right;\n",
       "    }\n",
       "</style>\n",
       "<table border=\"1\" class=\"dataframe\">\n",
       "  <thead>\n",
       "    <tr style=\"text-align: right;\">\n",
       "      <th></th>\n",
       "      <th>A</th>\n",
       "      <th>B</th>\n",
       "      <th>C</th>\n",
       "      <th>D</th>\n",
       "      <th>F</th>\n",
       "    </tr>\n",
       "  </thead>\n",
       "  <tbody>\n",
       "    <tr>\n",
       "      <th>2023-05-05</th>\n",
       "      <td>0.000000</td>\n",
       "      <td>0.000000</td>\n",
       "      <td>-0.738822</td>\n",
       "      <td>5</td>\n",
       "      <td>NaN</td>\n",
       "    </tr>\n",
       "    <tr>\n",
       "      <th>2023-05-06</th>\n",
       "      <td>0.437865</td>\n",
       "      <td>-1.232005</td>\n",
       "      <td>0.059073</td>\n",
       "      <td>10</td>\n",
       "      <td>NaN</td>\n",
       "    </tr>\n",
       "    <tr>\n",
       "      <th>2023-05-07</th>\n",
       "      <td>2.138751</td>\n",
       "      <td>-1.281320</td>\n",
       "      <td>-0.295470</td>\n",
       "      <td>15</td>\n",
       "      <td>NaN</td>\n",
       "    </tr>\n",
       "    <tr>\n",
       "      <th>2023-05-08</th>\n",
       "      <td>2.314280</td>\n",
       "      <td>-2.192808</td>\n",
       "      <td>-0.826647</td>\n",
       "      <td>20</td>\n",
       "      <td>NaN</td>\n",
       "    </tr>\n",
       "    <tr>\n",
       "      <th>2023-05-09</th>\n",
       "      <td>1.323801</td>\n",
       "      <td>-2.460044</td>\n",
       "      <td>0.112674</td>\n",
       "      <td>25</td>\n",
       "      <td>NaN</td>\n",
       "    </tr>\n",
       "    <tr>\n",
       "      <th>2023-05-10</th>\n",
       "      <td>1.068224</td>\n",
       "      <td>-2.168747</td>\n",
       "      <td>-0.114353</td>\n",
       "      <td>30</td>\n",
       "      <td>NaN</td>\n",
       "    </tr>\n",
       "  </tbody>\n",
       "</table>\n",
       "</div>"
      ],
      "text/plain": [
       "                   A         B         C   D   F\n",
       "2023-05-05  0.000000  0.000000 -0.738822   5 NaN\n",
       "2023-05-06  0.437865 -1.232005  0.059073  10 NaN\n",
       "2023-05-07  2.138751 -1.281320 -0.295470  15 NaN\n",
       "2023-05-08  2.314280 -2.192808 -0.826647  20 NaN\n",
       "2023-05-09  1.323801 -2.460044  0.112674  25 NaN\n",
       "2023-05-10  1.068224 -2.168747 -0.114353  30 NaN"
      ]
     },
     "execution_count": 71,
     "metadata": {},
     "output_type": "execute_result"
    }
   ],
   "source": [
    "#Apply Applying functions to the data\n",
    "df.apply(np.cumsum)"
   ]
  },
  {
   "cell_type": "code",
   "execution_count": 72,
   "id": "d1c1ea14",
   "metadata": {},
   "outputs": [
    {
     "data": {
      "text/plain": [
       "A    2.691364\n",
       "B    1.523301\n",
       "C    1.678142\n",
       "D    0.000000\n",
       "F         NaN\n",
       "dtype: float64"
      ]
     },
     "execution_count": 72,
     "metadata": {},
     "output_type": "execute_result"
    }
   ],
   "source": [
    "df.apply(lambda x: x.max() - x.min())"
   ]
  },
  {
   "cell_type": "markdown",
   "id": "a44862db",
   "metadata": {},
   "source": [
    "## Histogramming and Discretization"
   ]
  },
  {
   "cell_type": "code",
   "execution_count": 73,
   "id": "d1346a20",
   "metadata": {},
   "outputs": [],
   "source": [
    "s = pd.Series(np.random.randint(0, 7, size=10))"
   ]
  },
  {
   "cell_type": "code",
   "execution_count": 74,
   "id": "9c364c00",
   "metadata": {},
   "outputs": [
    {
     "data": {
      "text/plain": [
       "0    6\n",
       "1    6\n",
       "2    5\n",
       "3    0\n",
       "4    0\n",
       "5    2\n",
       "6    0\n",
       "7    6\n",
       "8    4\n",
       "9    1\n",
       "dtype: int32"
      ]
     },
     "execution_count": 74,
     "metadata": {},
     "output_type": "execute_result"
    }
   ],
   "source": [
    "s"
   ]
  },
  {
   "cell_type": "code",
   "execution_count": 75,
   "id": "1f2b257f",
   "metadata": {},
   "outputs": [
    {
     "data": {
      "text/plain": [
       "6    3\n",
       "0    3\n",
       "5    1\n",
       "2    1\n",
       "4    1\n",
       "1    1\n",
       "dtype: int64"
      ]
     },
     "execution_count": 75,
     "metadata": {},
     "output_type": "execute_result"
    }
   ],
   "source": [
    "s.value_counts()"
   ]
  },
  {
   "cell_type": "code",
   "execution_count": 76,
   "id": "3495f4c4",
   "metadata": {},
   "outputs": [],
   "source": [
    "#String Methods\n",
    "s = pd.Series(['A', 'B', 'C', 'Aaba', 'Baca', np.nan, 'CABA', 'dog', 'cat'])"
   ]
  },
  {
   "cell_type": "code",
   "execution_count": 77,
   "id": "7443aba8",
   "metadata": {},
   "outputs": [
    {
     "data": {
      "text/plain": [
       "0       A\n",
       "1       B\n",
       "2       C\n",
       "3    Aaba\n",
       "4    Baca\n",
       "5     NaN\n",
       "6    CABA\n",
       "7     dog\n",
       "8     cat\n",
       "dtype: object"
      ]
     },
     "execution_count": 77,
     "metadata": {},
     "output_type": "execute_result"
    }
   ],
   "source": [
    "s"
   ]
  },
  {
   "cell_type": "code",
   "execution_count": 78,
   "id": "205338fc",
   "metadata": {},
   "outputs": [
    {
     "data": {
      "text/plain": [
       "0       a\n",
       "1       b\n",
       "2       c\n",
       "3    aaba\n",
       "4    baca\n",
       "5     NaN\n",
       "6    caba\n",
       "7     dog\n",
       "8     cat\n",
       "dtype: object"
      ]
     },
     "execution_count": 78,
     "metadata": {},
     "output_type": "execute_result"
    }
   ],
   "source": [
    "s.str.lower()"
   ]
  },
  {
   "cell_type": "markdown",
   "id": "12cf4828",
   "metadata": {},
   "source": [
    "# Merge\n",
    "Concat pandas provides various facilities for easily combining together Series, DataFrame, and Panel\n",
    "objects with various kinds of set logic for the indexes and relational algebra functionality in the case\n",
    "of join / merge - type operations."
   ]
  },
  {
   "cell_type": "code",
   "execution_count": 79,
   "id": "1ce94e99",
   "metadata": {},
   "outputs": [],
   "source": [
    "df = pd.DataFrame(np.random.randn(10, 4))"
   ]
  },
  {
   "cell_type": "code",
   "execution_count": 80,
   "id": "a6a61000",
   "metadata": {},
   "outputs": [
    {
     "data": {
      "text/html": [
       "<div>\n",
       "<style scoped>\n",
       "    .dataframe tbody tr th:only-of-type {\n",
       "        vertical-align: middle;\n",
       "    }\n",
       "\n",
       "    .dataframe tbody tr th {\n",
       "        vertical-align: top;\n",
       "    }\n",
       "\n",
       "    .dataframe thead th {\n",
       "        text-align: right;\n",
       "    }\n",
       "</style>\n",
       "<table border=\"1\" class=\"dataframe\">\n",
       "  <thead>\n",
       "    <tr style=\"text-align: right;\">\n",
       "      <th></th>\n",
       "      <th>0</th>\n",
       "      <th>1</th>\n",
       "      <th>2</th>\n",
       "      <th>3</th>\n",
       "    </tr>\n",
       "  </thead>\n",
       "  <tbody>\n",
       "    <tr>\n",
       "      <th>0</th>\n",
       "      <td>1.193990</td>\n",
       "      <td>-1.554871</td>\n",
       "      <td>1.427580</td>\n",
       "      <td>-2.039391</td>\n",
       "    </tr>\n",
       "    <tr>\n",
       "      <th>1</th>\n",
       "      <td>-0.750653</td>\n",
       "      <td>-2.641225</td>\n",
       "      <td>-1.780337</td>\n",
       "      <td>-0.181015</td>\n",
       "    </tr>\n",
       "    <tr>\n",
       "      <th>2</th>\n",
       "      <td>-0.269861</td>\n",
       "      <td>0.924073</td>\n",
       "      <td>-1.219922</td>\n",
       "      <td>-0.305188</td>\n",
       "    </tr>\n",
       "    <tr>\n",
       "      <th>3</th>\n",
       "      <td>-0.256986</td>\n",
       "      <td>-0.250177</td>\n",
       "      <td>1.150469</td>\n",
       "      <td>0.059663</td>\n",
       "    </tr>\n",
       "    <tr>\n",
       "      <th>4</th>\n",
       "      <td>-0.319048</td>\n",
       "      <td>0.479679</td>\n",
       "      <td>0.073869</td>\n",
       "      <td>-0.616349</td>\n",
       "    </tr>\n",
       "    <tr>\n",
       "      <th>5</th>\n",
       "      <td>-0.369572</td>\n",
       "      <td>1.230688</td>\n",
       "      <td>-0.165730</td>\n",
       "      <td>2.142065</td>\n",
       "    </tr>\n",
       "    <tr>\n",
       "      <th>6</th>\n",
       "      <td>0.148123</td>\n",
       "      <td>1.017972</td>\n",
       "      <td>0.145149</td>\n",
       "      <td>1.177582</td>\n",
       "    </tr>\n",
       "    <tr>\n",
       "      <th>7</th>\n",
       "      <td>-1.948903</td>\n",
       "      <td>0.486573</td>\n",
       "      <td>-0.546881</td>\n",
       "      <td>1.883717</td>\n",
       "    </tr>\n",
       "    <tr>\n",
       "      <th>8</th>\n",
       "      <td>-1.680163</td>\n",
       "      <td>0.833985</td>\n",
       "      <td>1.004954</td>\n",
       "      <td>1.900439</td>\n",
       "    </tr>\n",
       "    <tr>\n",
       "      <th>9</th>\n",
       "      <td>0.129814</td>\n",
       "      <td>2.036160</td>\n",
       "      <td>-1.355539</td>\n",
       "      <td>0.957651</td>\n",
       "    </tr>\n",
       "  </tbody>\n",
       "</table>\n",
       "</div>"
      ],
      "text/plain": [
       "          0         1         2         3\n",
       "0  1.193990 -1.554871  1.427580 -2.039391\n",
       "1 -0.750653 -2.641225 -1.780337 -0.181015\n",
       "2 -0.269861  0.924073 -1.219922 -0.305188\n",
       "3 -0.256986 -0.250177  1.150469  0.059663\n",
       "4 -0.319048  0.479679  0.073869 -0.616349\n",
       "5 -0.369572  1.230688 -0.165730  2.142065\n",
       "6  0.148123  1.017972  0.145149  1.177582\n",
       "7 -1.948903  0.486573 -0.546881  1.883717\n",
       "8 -1.680163  0.833985  1.004954  1.900439\n",
       "9  0.129814  2.036160 -1.355539  0.957651"
      ]
     },
     "execution_count": 80,
     "metadata": {},
     "output_type": "execute_result"
    }
   ],
   "source": [
    "df"
   ]
  },
  {
   "cell_type": "code",
   "execution_count": 81,
   "id": "51612a2f",
   "metadata": {},
   "outputs": [],
   "source": [
    "# break it into pieces\n",
    "pieces = [df[:3], df[3:7], df[7:]]"
   ]
  },
  {
   "cell_type": "code",
   "execution_count": 82,
   "id": "fb242c61",
   "metadata": {},
   "outputs": [
    {
     "data": {
      "text/plain": [
       "[          0         1         2         3\n",
       " 0  1.193990 -1.554871  1.427580 -2.039391\n",
       " 1 -0.750653 -2.641225 -1.780337 -0.181015\n",
       " 2 -0.269861  0.924073 -1.219922 -0.305188,\n",
       "           0         1         2         3\n",
       " 3 -0.256986 -0.250177  1.150469  0.059663\n",
       " 4 -0.319048  0.479679  0.073869 -0.616349\n",
       " 5 -0.369572  1.230688 -0.165730  2.142065\n",
       " 6  0.148123  1.017972  0.145149  1.177582,\n",
       "           0         1         2         3\n",
       " 7 -1.948903  0.486573 -0.546881  1.883717\n",
       " 8 -1.680163  0.833985  1.004954  1.900439\n",
       " 9  0.129814  2.036160 -1.355539  0.957651]"
      ]
     },
     "execution_count": 82,
     "metadata": {},
     "output_type": "execute_result"
    }
   ],
   "source": [
    "pieces"
   ]
  },
  {
   "cell_type": "code",
   "execution_count": 83,
   "id": "96d5e18d",
   "metadata": {},
   "outputs": [
    {
     "data": {
      "text/html": [
       "<div>\n",
       "<style scoped>\n",
       "    .dataframe tbody tr th:only-of-type {\n",
       "        vertical-align: middle;\n",
       "    }\n",
       "\n",
       "    .dataframe tbody tr th {\n",
       "        vertical-align: top;\n",
       "    }\n",
       "\n",
       "    .dataframe thead th {\n",
       "        text-align: right;\n",
       "    }\n",
       "</style>\n",
       "<table border=\"1\" class=\"dataframe\">\n",
       "  <thead>\n",
       "    <tr style=\"text-align: right;\">\n",
       "      <th></th>\n",
       "      <th>0</th>\n",
       "      <th>1</th>\n",
       "      <th>2</th>\n",
       "      <th>3</th>\n",
       "    </tr>\n",
       "  </thead>\n",
       "  <tbody>\n",
       "    <tr>\n",
       "      <th>0</th>\n",
       "      <td>1.193990</td>\n",
       "      <td>-1.554871</td>\n",
       "      <td>1.427580</td>\n",
       "      <td>-2.039391</td>\n",
       "    </tr>\n",
       "    <tr>\n",
       "      <th>1</th>\n",
       "      <td>-0.750653</td>\n",
       "      <td>-2.641225</td>\n",
       "      <td>-1.780337</td>\n",
       "      <td>-0.181015</td>\n",
       "    </tr>\n",
       "    <tr>\n",
       "      <th>2</th>\n",
       "      <td>-0.269861</td>\n",
       "      <td>0.924073</td>\n",
       "      <td>-1.219922</td>\n",
       "      <td>-0.305188</td>\n",
       "    </tr>\n",
       "    <tr>\n",
       "      <th>3</th>\n",
       "      <td>-0.256986</td>\n",
       "      <td>-0.250177</td>\n",
       "      <td>1.150469</td>\n",
       "      <td>0.059663</td>\n",
       "    </tr>\n",
       "    <tr>\n",
       "      <th>4</th>\n",
       "      <td>-0.319048</td>\n",
       "      <td>0.479679</td>\n",
       "      <td>0.073869</td>\n",
       "      <td>-0.616349</td>\n",
       "    </tr>\n",
       "    <tr>\n",
       "      <th>5</th>\n",
       "      <td>-0.369572</td>\n",
       "      <td>1.230688</td>\n",
       "      <td>-0.165730</td>\n",
       "      <td>2.142065</td>\n",
       "    </tr>\n",
       "    <tr>\n",
       "      <th>6</th>\n",
       "      <td>0.148123</td>\n",
       "      <td>1.017972</td>\n",
       "      <td>0.145149</td>\n",
       "      <td>1.177582</td>\n",
       "    </tr>\n",
       "    <tr>\n",
       "      <th>7</th>\n",
       "      <td>-1.948903</td>\n",
       "      <td>0.486573</td>\n",
       "      <td>-0.546881</td>\n",
       "      <td>1.883717</td>\n",
       "    </tr>\n",
       "    <tr>\n",
       "      <th>8</th>\n",
       "      <td>-1.680163</td>\n",
       "      <td>0.833985</td>\n",
       "      <td>1.004954</td>\n",
       "      <td>1.900439</td>\n",
       "    </tr>\n",
       "    <tr>\n",
       "      <th>9</th>\n",
       "      <td>0.129814</td>\n",
       "      <td>2.036160</td>\n",
       "      <td>-1.355539</td>\n",
       "      <td>0.957651</td>\n",
       "    </tr>\n",
       "  </tbody>\n",
       "</table>\n",
       "</div>"
      ],
      "text/plain": [
       "          0         1         2         3\n",
       "0  1.193990 -1.554871  1.427580 -2.039391\n",
       "1 -0.750653 -2.641225 -1.780337 -0.181015\n",
       "2 -0.269861  0.924073 -1.219922 -0.305188\n",
       "3 -0.256986 -0.250177  1.150469  0.059663\n",
       "4 -0.319048  0.479679  0.073869 -0.616349\n",
       "5 -0.369572  1.230688 -0.165730  2.142065\n",
       "6  0.148123  1.017972  0.145149  1.177582\n",
       "7 -1.948903  0.486573 -0.546881  1.883717\n",
       "8 -1.680163  0.833985  1.004954  1.900439\n",
       "9  0.129814  2.036160 -1.355539  0.957651"
      ]
     },
     "execution_count": 83,
     "metadata": {},
     "output_type": "execute_result"
    }
   ],
   "source": [
    "pd.concat(pieces)"
   ]
  },
  {
   "cell_type": "markdown",
   "id": "df7c0c00",
   "metadata": {},
   "source": [
    "# Join\n",
    "SQL style merges."
   ]
  },
  {
   "cell_type": "code",
   "execution_count": 84,
   "id": "f102d411",
   "metadata": {},
   "outputs": [],
   "source": [
    "left = pd.DataFrame({'key': ['Sunil', 'Sunil'], 'leftval': [1, 2]})"
   ]
  },
  {
   "cell_type": "code",
   "execution_count": 85,
   "id": "e9b3ca12",
   "metadata": {},
   "outputs": [],
   "source": [
    "right = pd.DataFrame({'key': ['Sunil', 'Sunil'], 'rightval': [4, 5]})"
   ]
  },
  {
   "cell_type": "code",
   "execution_count": 86,
   "id": "d0619ead",
   "metadata": {},
   "outputs": [
    {
     "data": {
      "text/html": [
       "<div>\n",
       "<style scoped>\n",
       "    .dataframe tbody tr th:only-of-type {\n",
       "        vertical-align: middle;\n",
       "    }\n",
       "\n",
       "    .dataframe tbody tr th {\n",
       "        vertical-align: top;\n",
       "    }\n",
       "\n",
       "    .dataframe thead th {\n",
       "        text-align: right;\n",
       "    }\n",
       "</style>\n",
       "<table border=\"1\" class=\"dataframe\">\n",
       "  <thead>\n",
       "    <tr style=\"text-align: right;\">\n",
       "      <th></th>\n",
       "      <th>key</th>\n",
       "      <th>leftval</th>\n",
       "    </tr>\n",
       "  </thead>\n",
       "  <tbody>\n",
       "    <tr>\n",
       "      <th>0</th>\n",
       "      <td>Sunil</td>\n",
       "      <td>1</td>\n",
       "    </tr>\n",
       "    <tr>\n",
       "      <th>1</th>\n",
       "      <td>Sunil</td>\n",
       "      <td>2</td>\n",
       "    </tr>\n",
       "  </tbody>\n",
       "</table>\n",
       "</div>"
      ],
      "text/plain": [
       "     key  leftval\n",
       "0  Sunil        1\n",
       "1  Sunil        2"
      ]
     },
     "execution_count": 86,
     "metadata": {},
     "output_type": "execute_result"
    }
   ],
   "source": [
    "left"
   ]
  },
  {
   "cell_type": "code",
   "execution_count": 87,
   "id": "cf0511e4",
   "metadata": {},
   "outputs": [
    {
     "data": {
      "text/html": [
       "<div>\n",
       "<style scoped>\n",
       "    .dataframe tbody tr th:only-of-type {\n",
       "        vertical-align: middle;\n",
       "    }\n",
       "\n",
       "    .dataframe tbody tr th {\n",
       "        vertical-align: top;\n",
       "    }\n",
       "\n",
       "    .dataframe thead th {\n",
       "        text-align: right;\n",
       "    }\n",
       "</style>\n",
       "<table border=\"1\" class=\"dataframe\">\n",
       "  <thead>\n",
       "    <tr style=\"text-align: right;\">\n",
       "      <th></th>\n",
       "      <th>key</th>\n",
       "      <th>rightval</th>\n",
       "    </tr>\n",
       "  </thead>\n",
       "  <tbody>\n",
       "    <tr>\n",
       "      <th>0</th>\n",
       "      <td>Sunil</td>\n",
       "      <td>4</td>\n",
       "    </tr>\n",
       "    <tr>\n",
       "      <th>1</th>\n",
       "      <td>Sunil</td>\n",
       "      <td>5</td>\n",
       "    </tr>\n",
       "  </tbody>\n",
       "</table>\n",
       "</div>"
      ],
      "text/plain": [
       "     key  rightval\n",
       "0  Sunil         4\n",
       "1  Sunil         5"
      ]
     },
     "execution_count": 87,
     "metadata": {},
     "output_type": "execute_result"
    }
   ],
   "source": [
    "right"
   ]
  },
  {
   "cell_type": "code",
   "execution_count": 88,
   "id": "089ba6a6",
   "metadata": {},
   "outputs": [
    {
     "data": {
      "text/html": [
       "<div>\n",
       "<style scoped>\n",
       "    .dataframe tbody tr th:only-of-type {\n",
       "        vertical-align: middle;\n",
       "    }\n",
       "\n",
       "    .dataframe tbody tr th {\n",
       "        vertical-align: top;\n",
       "    }\n",
       "\n",
       "    .dataframe thead th {\n",
       "        text-align: right;\n",
       "    }\n",
       "</style>\n",
       "<table border=\"1\" class=\"dataframe\">\n",
       "  <thead>\n",
       "    <tr style=\"text-align: right;\">\n",
       "      <th></th>\n",
       "      <th>key</th>\n",
       "      <th>leftval</th>\n",
       "      <th>rightval</th>\n",
       "    </tr>\n",
       "  </thead>\n",
       "  <tbody>\n",
       "    <tr>\n",
       "      <th>0</th>\n",
       "      <td>Sunil</td>\n",
       "      <td>1</td>\n",
       "      <td>4</td>\n",
       "    </tr>\n",
       "    <tr>\n",
       "      <th>1</th>\n",
       "      <td>Sunil</td>\n",
       "      <td>1</td>\n",
       "      <td>5</td>\n",
       "    </tr>\n",
       "    <tr>\n",
       "      <th>2</th>\n",
       "      <td>Sunil</td>\n",
       "      <td>2</td>\n",
       "      <td>4</td>\n",
       "    </tr>\n",
       "    <tr>\n",
       "      <th>3</th>\n",
       "      <td>Sunil</td>\n",
       "      <td>2</td>\n",
       "      <td>5</td>\n",
       "    </tr>\n",
       "  </tbody>\n",
       "</table>\n",
       "</div>"
      ],
      "text/plain": [
       "     key  leftval  rightval\n",
       "0  Sunil        1         4\n",
       "1  Sunil        1         5\n",
       "2  Sunil        2         4\n",
       "3  Sunil        2         5"
      ]
     },
     "execution_count": 88,
     "metadata": {},
     "output_type": "execute_result"
    }
   ],
   "source": [
    "pd.merge(left, right, on='key')"
   ]
  },
  {
   "cell_type": "markdown",
   "id": "56e4e35e",
   "metadata": {},
   "source": [
    "# Append\n",
    "Append rows to a dataframe."
   ]
  },
  {
   "cell_type": "code",
   "execution_count": 89,
   "id": "519d6cff",
   "metadata": {},
   "outputs": [],
   "source": [
    "df = pd.DataFrame(np.random.randn(8, 4), columns=['A','B','C','D'])"
   ]
  },
  {
   "cell_type": "code",
   "execution_count": 90,
   "id": "8916c6f9",
   "metadata": {},
   "outputs": [
    {
     "data": {
      "text/html": [
       "<div>\n",
       "<style scoped>\n",
       "    .dataframe tbody tr th:only-of-type {\n",
       "        vertical-align: middle;\n",
       "    }\n",
       "\n",
       "    .dataframe tbody tr th {\n",
       "        vertical-align: top;\n",
       "    }\n",
       "\n",
       "    .dataframe thead th {\n",
       "        text-align: right;\n",
       "    }\n",
       "</style>\n",
       "<table border=\"1\" class=\"dataframe\">\n",
       "  <thead>\n",
       "    <tr style=\"text-align: right;\">\n",
       "      <th></th>\n",
       "      <th>A</th>\n",
       "      <th>B</th>\n",
       "      <th>C</th>\n",
       "      <th>D</th>\n",
       "    </tr>\n",
       "  </thead>\n",
       "  <tbody>\n",
       "    <tr>\n",
       "      <th>0</th>\n",
       "      <td>0.785358</td>\n",
       "      <td>-1.022416</td>\n",
       "      <td>-0.273822</td>\n",
       "      <td>-1.347935</td>\n",
       "    </tr>\n",
       "    <tr>\n",
       "      <th>1</th>\n",
       "      <td>-0.166068</td>\n",
       "      <td>-0.705203</td>\n",
       "      <td>-1.091386</td>\n",
       "      <td>-0.967488</td>\n",
       "    </tr>\n",
       "    <tr>\n",
       "      <th>2</th>\n",
       "      <td>0.751212</td>\n",
       "      <td>-0.088651</td>\n",
       "      <td>0.689955</td>\n",
       "      <td>-0.873440</td>\n",
       "    </tr>\n",
       "    <tr>\n",
       "      <th>3</th>\n",
       "      <td>0.273496</td>\n",
       "      <td>-0.346546</td>\n",
       "      <td>-0.535401</td>\n",
       "      <td>-2.144910</td>\n",
       "    </tr>\n",
       "    <tr>\n",
       "      <th>4</th>\n",
       "      <td>1.401862</td>\n",
       "      <td>0.751662</td>\n",
       "      <td>0.170407</td>\n",
       "      <td>1.357429</td>\n",
       "    </tr>\n",
       "    <tr>\n",
       "      <th>5</th>\n",
       "      <td>0.287059</td>\n",
       "      <td>-1.338169</td>\n",
       "      <td>-0.584550</td>\n",
       "      <td>0.049731</td>\n",
       "    </tr>\n",
       "    <tr>\n",
       "      <th>6</th>\n",
       "      <td>0.264467</td>\n",
       "      <td>-0.253378</td>\n",
       "      <td>-0.332302</td>\n",
       "      <td>0.221343</td>\n",
       "    </tr>\n",
       "    <tr>\n",
       "      <th>7</th>\n",
       "      <td>-0.250742</td>\n",
       "      <td>-0.230552</td>\n",
       "      <td>-1.275301</td>\n",
       "      <td>1.400346</td>\n",
       "    </tr>\n",
       "  </tbody>\n",
       "</table>\n",
       "</div>"
      ],
      "text/plain": [
       "          A         B         C         D\n",
       "0  0.785358 -1.022416 -0.273822 -1.347935\n",
       "1 -0.166068 -0.705203 -1.091386 -0.967488\n",
       "2  0.751212 -0.088651  0.689955 -0.873440\n",
       "3  0.273496 -0.346546 -0.535401 -2.144910\n",
       "4  1.401862  0.751662  0.170407  1.357429\n",
       "5  0.287059 -1.338169 -0.584550  0.049731\n",
       "6  0.264467 -0.253378 -0.332302  0.221343\n",
       "7 -0.250742 -0.230552 -1.275301  1.400346"
      ]
     },
     "execution_count": 90,
     "metadata": {},
     "output_type": "execute_result"
    }
   ],
   "source": [
    "df"
   ]
  },
  {
   "cell_type": "code",
   "execution_count": 91,
   "id": "d09d4d10",
   "metadata": {},
   "outputs": [],
   "source": [
    "s = df.iloc[3]"
   ]
  },
  {
   "cell_type": "code",
   "execution_count": 92,
   "id": "6e288fb8",
   "metadata": {},
   "outputs": [
    {
     "data": {
      "text/plain": [
       "A    0.273496\n",
       "B   -0.346546\n",
       "C   -0.535401\n",
       "D   -2.144910\n",
       "Name: 3, dtype: float64"
      ]
     },
     "execution_count": 92,
     "metadata": {},
     "output_type": "execute_result"
    }
   ],
   "source": [
    "s"
   ]
  },
  {
   "cell_type": "code",
   "execution_count": 93,
   "id": "6c01caac",
   "metadata": {},
   "outputs": [
    {
     "name": "stderr",
     "output_type": "stream",
     "text": [
      "C:\\Users\\Admin\\AppData\\Local\\Temp\\ipykernel_968\\4011806271.py:1: FutureWarning: The frame.append method is deprecated and will be removed from pandas in a future version. Use pandas.concat instead.\n",
      "  df.append(s, ignore_index=True)\n"
     ]
    },
    {
     "data": {
      "text/html": [
       "<div>\n",
       "<style scoped>\n",
       "    .dataframe tbody tr th:only-of-type {\n",
       "        vertical-align: middle;\n",
       "    }\n",
       "\n",
       "    .dataframe tbody tr th {\n",
       "        vertical-align: top;\n",
       "    }\n",
       "\n",
       "    .dataframe thead th {\n",
       "        text-align: right;\n",
       "    }\n",
       "</style>\n",
       "<table border=\"1\" class=\"dataframe\">\n",
       "  <thead>\n",
       "    <tr style=\"text-align: right;\">\n",
       "      <th></th>\n",
       "      <th>A</th>\n",
       "      <th>B</th>\n",
       "      <th>C</th>\n",
       "      <th>D</th>\n",
       "    </tr>\n",
       "  </thead>\n",
       "  <tbody>\n",
       "    <tr>\n",
       "      <th>0</th>\n",
       "      <td>0.785358</td>\n",
       "      <td>-1.022416</td>\n",
       "      <td>-0.273822</td>\n",
       "      <td>-1.347935</td>\n",
       "    </tr>\n",
       "    <tr>\n",
       "      <th>1</th>\n",
       "      <td>-0.166068</td>\n",
       "      <td>-0.705203</td>\n",
       "      <td>-1.091386</td>\n",
       "      <td>-0.967488</td>\n",
       "    </tr>\n",
       "    <tr>\n",
       "      <th>2</th>\n",
       "      <td>0.751212</td>\n",
       "      <td>-0.088651</td>\n",
       "      <td>0.689955</td>\n",
       "      <td>-0.873440</td>\n",
       "    </tr>\n",
       "    <tr>\n",
       "      <th>3</th>\n",
       "      <td>0.273496</td>\n",
       "      <td>-0.346546</td>\n",
       "      <td>-0.535401</td>\n",
       "      <td>-2.144910</td>\n",
       "    </tr>\n",
       "    <tr>\n",
       "      <th>4</th>\n",
       "      <td>1.401862</td>\n",
       "      <td>0.751662</td>\n",
       "      <td>0.170407</td>\n",
       "      <td>1.357429</td>\n",
       "    </tr>\n",
       "    <tr>\n",
       "      <th>5</th>\n",
       "      <td>0.287059</td>\n",
       "      <td>-1.338169</td>\n",
       "      <td>-0.584550</td>\n",
       "      <td>0.049731</td>\n",
       "    </tr>\n",
       "    <tr>\n",
       "      <th>6</th>\n",
       "      <td>0.264467</td>\n",
       "      <td>-0.253378</td>\n",
       "      <td>-0.332302</td>\n",
       "      <td>0.221343</td>\n",
       "    </tr>\n",
       "    <tr>\n",
       "      <th>7</th>\n",
       "      <td>-0.250742</td>\n",
       "      <td>-0.230552</td>\n",
       "      <td>-1.275301</td>\n",
       "      <td>1.400346</td>\n",
       "    </tr>\n",
       "    <tr>\n",
       "      <th>8</th>\n",
       "      <td>0.273496</td>\n",
       "      <td>-0.346546</td>\n",
       "      <td>-0.535401</td>\n",
       "      <td>-2.144910</td>\n",
       "    </tr>\n",
       "  </tbody>\n",
       "</table>\n",
       "</div>"
      ],
      "text/plain": [
       "          A         B         C         D\n",
       "0  0.785358 -1.022416 -0.273822 -1.347935\n",
       "1 -0.166068 -0.705203 -1.091386 -0.967488\n",
       "2  0.751212 -0.088651  0.689955 -0.873440\n",
       "3  0.273496 -0.346546 -0.535401 -2.144910\n",
       "4  1.401862  0.751662  0.170407  1.357429\n",
       "5  0.287059 -1.338169 -0.584550  0.049731\n",
       "6  0.264467 -0.253378 -0.332302  0.221343\n",
       "7 -0.250742 -0.230552 -1.275301  1.400346\n",
       "8  0.273496 -0.346546 -0.535401 -2.144910"
      ]
     },
     "execution_count": 93,
     "metadata": {},
     "output_type": "execute_result"
    }
   ],
   "source": [
    "df.append(s, ignore_index=True)"
   ]
  },
  {
   "cell_type": "markdown",
   "id": "c1ff1892",
   "metadata": {},
   "source": [
    "# Grouping\n",
    "By “group by” we are referring to a process involving one or more of the following steps. <br>\n",
    "(1) Splitting the data into groups based on some criteria.  <br>\n",
    "(2) Applying a function to each group independently.   <br>\n",
    "(3) Combining the results into a data structure.    <br>"
   ]
  },
  {
   "cell_type": "code",
   "execution_count": 94,
   "id": "89e7d7f1",
   "metadata": {},
   "outputs": [],
   "source": [
    "df = pd.DataFrame({'A' : ['Hi', 'Hello', 'Hi', 'Hello','Hi', 'Hello', 'Hi', 'Hello'],\n",
    "                   'B' : ['one', 'one', 'two', 'three','two', 'two', 'one', 'three'],\n",
    "                   'C' : np.random.randn(8),\n",
    "                   'D' : np.random.randn(8)\n",
    "                   })"
   ]
  },
  {
   "cell_type": "code",
   "execution_count": 95,
   "id": "2bec9cbf",
   "metadata": {},
   "outputs": [
    {
     "data": {
      "text/html": [
       "<div>\n",
       "<style scoped>\n",
       "    .dataframe tbody tr th:only-of-type {\n",
       "        vertical-align: middle;\n",
       "    }\n",
       "\n",
       "    .dataframe tbody tr th {\n",
       "        vertical-align: top;\n",
       "    }\n",
       "\n",
       "    .dataframe thead th {\n",
       "        text-align: right;\n",
       "    }\n",
       "</style>\n",
       "<table border=\"1\" class=\"dataframe\">\n",
       "  <thead>\n",
       "    <tr style=\"text-align: right;\">\n",
       "      <th></th>\n",
       "      <th>A</th>\n",
       "      <th>B</th>\n",
       "      <th>C</th>\n",
       "      <th>D</th>\n",
       "    </tr>\n",
       "  </thead>\n",
       "  <tbody>\n",
       "    <tr>\n",
       "      <th>0</th>\n",
       "      <td>Hi</td>\n",
       "      <td>one</td>\n",
       "      <td>2.655964</td>\n",
       "      <td>0.428871</td>\n",
       "    </tr>\n",
       "    <tr>\n",
       "      <th>1</th>\n",
       "      <td>Hello</td>\n",
       "      <td>one</td>\n",
       "      <td>0.548192</td>\n",
       "      <td>0.465907</td>\n",
       "    </tr>\n",
       "    <tr>\n",
       "      <th>2</th>\n",
       "      <td>Hi</td>\n",
       "      <td>two</td>\n",
       "      <td>-0.752363</td>\n",
       "      <td>1.543295</td>\n",
       "    </tr>\n",
       "    <tr>\n",
       "      <th>3</th>\n",
       "      <td>Hello</td>\n",
       "      <td>three</td>\n",
       "      <td>0.238858</td>\n",
       "      <td>-0.168279</td>\n",
       "    </tr>\n",
       "    <tr>\n",
       "      <th>4</th>\n",
       "      <td>Hi</td>\n",
       "      <td>two</td>\n",
       "      <td>-0.074277</td>\n",
       "      <td>-0.810782</td>\n",
       "    </tr>\n",
       "    <tr>\n",
       "      <th>5</th>\n",
       "      <td>Hello</td>\n",
       "      <td>two</td>\n",
       "      <td>0.238048</td>\n",
       "      <td>0.086790</td>\n",
       "    </tr>\n",
       "    <tr>\n",
       "      <th>6</th>\n",
       "      <td>Hi</td>\n",
       "      <td>one</td>\n",
       "      <td>0.146984</td>\n",
       "      <td>-0.647388</td>\n",
       "    </tr>\n",
       "    <tr>\n",
       "      <th>7</th>\n",
       "      <td>Hello</td>\n",
       "      <td>three</td>\n",
       "      <td>-0.053981</td>\n",
       "      <td>-0.787331</td>\n",
       "    </tr>\n",
       "  </tbody>\n",
       "</table>\n",
       "</div>"
      ],
      "text/plain": [
       "       A      B         C         D\n",
       "0     Hi    one  2.655964  0.428871\n",
       "1  Hello    one  0.548192  0.465907\n",
       "2     Hi    two -0.752363  1.543295\n",
       "3  Hello  three  0.238858 -0.168279\n",
       "4     Hi    two -0.074277 -0.810782\n",
       "5  Hello    two  0.238048  0.086790\n",
       "6     Hi    one  0.146984 -0.647388\n",
       "7  Hello  three -0.053981 -0.787331"
      ]
     },
     "execution_count": 95,
     "metadata": {},
     "output_type": "execute_result"
    }
   ],
   "source": [
    "df"
   ]
  },
  {
   "cell_type": "code",
   "execution_count": 96,
   "id": "c8fe7a57",
   "metadata": {},
   "outputs": [
    {
     "data": {
      "text/html": [
       "<div>\n",
       "<style scoped>\n",
       "    .dataframe tbody tr th:only-of-type {\n",
       "        vertical-align: middle;\n",
       "    }\n",
       "\n",
       "    .dataframe tbody tr th {\n",
       "        vertical-align: top;\n",
       "    }\n",
       "\n",
       "    .dataframe thead th {\n",
       "        text-align: right;\n",
       "    }\n",
       "</style>\n",
       "<table border=\"1\" class=\"dataframe\">\n",
       "  <thead>\n",
       "    <tr style=\"text-align: right;\">\n",
       "      <th></th>\n",
       "      <th>C</th>\n",
       "      <th>D</th>\n",
       "    </tr>\n",
       "    <tr>\n",
       "      <th>A</th>\n",
       "      <th></th>\n",
       "      <th></th>\n",
       "    </tr>\n",
       "  </thead>\n",
       "  <tbody>\n",
       "    <tr>\n",
       "      <th>Hello</th>\n",
       "      <td>0.971117</td>\n",
       "      <td>-0.402913</td>\n",
       "    </tr>\n",
       "    <tr>\n",
       "      <th>Hi</th>\n",
       "      <td>1.976308</td>\n",
       "      <td>0.513996</td>\n",
       "    </tr>\n",
       "  </tbody>\n",
       "</table>\n",
       "</div>"
      ],
      "text/plain": [
       "              C         D\n",
       "A                        \n",
       "Hello  0.971117 -0.402913\n",
       "Hi     1.976308  0.513996"
      ]
     },
     "execution_count": 96,
     "metadata": {},
     "output_type": "execute_result"
    }
   ],
   "source": [
    "#Grouping and then applying a function sumto the resulting groups.\n",
    "df.groupby('A').sum()"
   ]
  },
  {
   "cell_type": "code",
   "execution_count": 97,
   "id": "5418e6cc",
   "metadata": {},
   "outputs": [
    {
     "data": {
      "text/html": [
       "<div>\n",
       "<style scoped>\n",
       "    .dataframe tbody tr th:only-of-type {\n",
       "        vertical-align: middle;\n",
       "    }\n",
       "\n",
       "    .dataframe tbody tr th {\n",
       "        vertical-align: top;\n",
       "    }\n",
       "\n",
       "    .dataframe thead th {\n",
       "        text-align: right;\n",
       "    }\n",
       "</style>\n",
       "<table border=\"1\" class=\"dataframe\">\n",
       "  <thead>\n",
       "    <tr style=\"text-align: right;\">\n",
       "      <th></th>\n",
       "      <th></th>\n",
       "      <th>C</th>\n",
       "      <th>D</th>\n",
       "    </tr>\n",
       "    <tr>\n",
       "      <th>A</th>\n",
       "      <th>B</th>\n",
       "      <th></th>\n",
       "      <th></th>\n",
       "    </tr>\n",
       "  </thead>\n",
       "  <tbody>\n",
       "    <tr>\n",
       "      <th rowspan=\"3\" valign=\"top\">Hello</th>\n",
       "      <th>one</th>\n",
       "      <td>0.548192</td>\n",
       "      <td>0.465907</td>\n",
       "    </tr>\n",
       "    <tr>\n",
       "      <th>three</th>\n",
       "      <td>0.184877</td>\n",
       "      <td>-0.955610</td>\n",
       "    </tr>\n",
       "    <tr>\n",
       "      <th>two</th>\n",
       "      <td>0.238048</td>\n",
       "      <td>0.086790</td>\n",
       "    </tr>\n",
       "    <tr>\n",
       "      <th rowspan=\"2\" valign=\"top\">Hi</th>\n",
       "      <th>one</th>\n",
       "      <td>2.802948</td>\n",
       "      <td>-0.218517</td>\n",
       "    </tr>\n",
       "    <tr>\n",
       "      <th>two</th>\n",
       "      <td>-0.826640</td>\n",
       "      <td>0.732513</td>\n",
       "    </tr>\n",
       "  </tbody>\n",
       "</table>\n",
       "</div>"
      ],
      "text/plain": [
       "                    C         D\n",
       "A     B                        \n",
       "Hello one    0.548192  0.465907\n",
       "      three  0.184877 -0.955610\n",
       "      two    0.238048  0.086790\n",
       "Hi    one    2.802948 -0.218517\n",
       "      two   -0.826640  0.732513"
      ]
     },
     "execution_count": 97,
     "metadata": {},
     "output_type": "execute_result"
    }
   ],
   "source": [
    "#Grouping by multiple columns forms a hierarchical index, which we then apply the function.\n",
    "df.groupby(['A','B']).sum()"
   ]
  },
  {
   "cell_type": "markdown",
   "id": "80576d0d",
   "metadata": {},
   "source": [
    "# Reshaping\n",
    " Hierarchical Indexing and Reshaping."
   ]
  },
  {
   "cell_type": "code",
   "execution_count": 98,
   "id": "0b857a37",
   "metadata": {},
   "outputs": [],
   "source": [
    "#Stack\n",
    "tuples = list(zip(*[['mauli', 'mauli', 'park', 'park','swim', 'swim', 'pool', 'pool'],\n",
    "                    ['one', 'two', 'one', 'two',\n",
    "                    'one', 'two', 'one', 'two']]))"
   ]
  },
  {
   "cell_type": "code",
   "execution_count": 99,
   "id": "95d2e57c",
   "metadata": {},
   "outputs": [],
   "source": [
    "index = pd.MultiIndex.from_tuples(tuples, names=['first', 'second'])"
   ]
  },
  {
   "cell_type": "code",
   "execution_count": 100,
   "id": "fe4415ff",
   "metadata": {},
   "outputs": [],
   "source": [
    "df = pd.DataFrame(np.random.randn(8, 2), index=index, columns=['A', 'B'])"
   ]
  },
  {
   "cell_type": "code",
   "execution_count": 101,
   "id": "60e34744",
   "metadata": {},
   "outputs": [],
   "source": [
    " df_new = df[:4]"
   ]
  },
  {
   "cell_type": "code",
   "execution_count": 102,
   "id": "6f3a2876",
   "metadata": {},
   "outputs": [
    {
     "data": {
      "text/html": [
       "<div>\n",
       "<style scoped>\n",
       "    .dataframe tbody tr th:only-of-type {\n",
       "        vertical-align: middle;\n",
       "    }\n",
       "\n",
       "    .dataframe tbody tr th {\n",
       "        vertical-align: top;\n",
       "    }\n",
       "\n",
       "    .dataframe thead th {\n",
       "        text-align: right;\n",
       "    }\n",
       "</style>\n",
       "<table border=\"1\" class=\"dataframe\">\n",
       "  <thead>\n",
       "    <tr style=\"text-align: right;\">\n",
       "      <th></th>\n",
       "      <th></th>\n",
       "      <th>A</th>\n",
       "      <th>B</th>\n",
       "    </tr>\n",
       "    <tr>\n",
       "      <th>first</th>\n",
       "      <th>second</th>\n",
       "      <th></th>\n",
       "      <th></th>\n",
       "    </tr>\n",
       "  </thead>\n",
       "  <tbody>\n",
       "    <tr>\n",
       "      <th rowspan=\"2\" valign=\"top\">mauli</th>\n",
       "      <th>one</th>\n",
       "      <td>-1.550175</td>\n",
       "      <td>0.098215</td>\n",
       "    </tr>\n",
       "    <tr>\n",
       "      <th>two</th>\n",
       "      <td>-0.421431</td>\n",
       "      <td>1.806112</td>\n",
       "    </tr>\n",
       "    <tr>\n",
       "      <th rowspan=\"2\" valign=\"top\">park</th>\n",
       "      <th>one</th>\n",
       "      <td>-0.284297</td>\n",
       "      <td>1.496987</td>\n",
       "    </tr>\n",
       "    <tr>\n",
       "      <th>two</th>\n",
       "      <td>0.168016</td>\n",
       "      <td>-1.452315</td>\n",
       "    </tr>\n",
       "  </tbody>\n",
       "</table>\n",
       "</div>"
      ],
      "text/plain": [
       "                     A         B\n",
       "first second                    \n",
       "mauli one    -1.550175  0.098215\n",
       "      two    -0.421431  1.806112\n",
       "park  one    -0.284297  1.496987\n",
       "      two     0.168016 -1.452315"
      ]
     },
     "execution_count": 102,
     "metadata": {},
     "output_type": "execute_result"
    }
   ],
   "source": [
    "df_new"
   ]
  },
  {
   "cell_type": "code",
   "execution_count": 103,
   "id": "c271eca1",
   "metadata": {},
   "outputs": [],
   "source": [
    "#The stack()method “compresses” a level in the DataFrame’s column\n",
    "stacked = df_new.stack()"
   ]
  },
  {
   "cell_type": "code",
   "execution_count": 104,
   "id": "04a9af11",
   "metadata": {},
   "outputs": [
    {
     "data": {
      "text/plain": [
       "first  second   \n",
       "mauli  one     A   -1.550175\n",
       "               B    0.098215\n",
       "       two     A   -0.421431\n",
       "               B    1.806112\n",
       "park   one     A   -0.284297\n",
       "               B    1.496987\n",
       "       two     A    0.168016\n",
       "               B   -1.452315\n",
       "dtype: float64"
      ]
     },
     "execution_count": 104,
     "metadata": {},
     "output_type": "execute_result"
    }
   ],
   "source": [
    "stacked"
   ]
  },
  {
   "cell_type": "markdown",
   "id": "1ce51b6b",
   "metadata": {},
   "source": [
    "### With a “stacked” DataFrame or Series (having a MultiIndexas the index) <br>\n",
    "the inverse operation of stack()is unstack(), which by default unstacks the last level"
   ]
  },
  {
   "cell_type": "code",
   "execution_count": 105,
   "id": "ea8068b6",
   "metadata": {},
   "outputs": [
    {
     "data": {
      "text/html": [
       "<div>\n",
       "<style scoped>\n",
       "    .dataframe tbody tr th:only-of-type {\n",
       "        vertical-align: middle;\n",
       "    }\n",
       "\n",
       "    .dataframe tbody tr th {\n",
       "        vertical-align: top;\n",
       "    }\n",
       "\n",
       "    .dataframe thead th {\n",
       "        text-align: right;\n",
       "    }\n",
       "</style>\n",
       "<table border=\"1\" class=\"dataframe\">\n",
       "  <thead>\n",
       "    <tr style=\"text-align: right;\">\n",
       "      <th></th>\n",
       "      <th></th>\n",
       "      <th>A</th>\n",
       "      <th>B</th>\n",
       "    </tr>\n",
       "    <tr>\n",
       "      <th>first</th>\n",
       "      <th>second</th>\n",
       "      <th></th>\n",
       "      <th></th>\n",
       "    </tr>\n",
       "  </thead>\n",
       "  <tbody>\n",
       "    <tr>\n",
       "      <th rowspan=\"2\" valign=\"top\">mauli</th>\n",
       "      <th>one</th>\n",
       "      <td>-1.550175</td>\n",
       "      <td>0.098215</td>\n",
       "    </tr>\n",
       "    <tr>\n",
       "      <th>two</th>\n",
       "      <td>-0.421431</td>\n",
       "      <td>1.806112</td>\n",
       "    </tr>\n",
       "    <tr>\n",
       "      <th rowspan=\"2\" valign=\"top\">park</th>\n",
       "      <th>one</th>\n",
       "      <td>-0.284297</td>\n",
       "      <td>1.496987</td>\n",
       "    </tr>\n",
       "    <tr>\n",
       "      <th>two</th>\n",
       "      <td>0.168016</td>\n",
       "      <td>-1.452315</td>\n",
       "    </tr>\n",
       "  </tbody>\n",
       "</table>\n",
       "</div>"
      ],
      "text/plain": [
       "                     A         B\n",
       "first second                    \n",
       "mauli one    -1.550175  0.098215\n",
       "      two    -0.421431  1.806112\n",
       "park  one    -0.284297  1.496987\n",
       "      two     0.168016 -1.452315"
      ]
     },
     "execution_count": 105,
     "metadata": {},
     "output_type": "execute_result"
    }
   ],
   "source": [
    "stacked.unstack()"
   ]
  },
  {
   "cell_type": "code",
   "execution_count": 106,
   "id": "b3aae180",
   "metadata": {},
   "outputs": [
    {
     "data": {
      "text/html": [
       "<div>\n",
       "<style scoped>\n",
       "    .dataframe tbody tr th:only-of-type {\n",
       "        vertical-align: middle;\n",
       "    }\n",
       "\n",
       "    .dataframe tbody tr th {\n",
       "        vertical-align: top;\n",
       "    }\n",
       "\n",
       "    .dataframe thead th {\n",
       "        text-align: right;\n",
       "    }\n",
       "</style>\n",
       "<table border=\"1\" class=\"dataframe\">\n",
       "  <thead>\n",
       "    <tr style=\"text-align: right;\">\n",
       "      <th></th>\n",
       "      <th>second</th>\n",
       "      <th>one</th>\n",
       "      <th>two</th>\n",
       "    </tr>\n",
       "    <tr>\n",
       "      <th>first</th>\n",
       "      <th></th>\n",
       "      <th></th>\n",
       "      <th></th>\n",
       "    </tr>\n",
       "  </thead>\n",
       "  <tbody>\n",
       "    <tr>\n",
       "      <th rowspan=\"2\" valign=\"top\">mauli</th>\n",
       "      <th>A</th>\n",
       "      <td>-1.550175</td>\n",
       "      <td>-0.421431</td>\n",
       "    </tr>\n",
       "    <tr>\n",
       "      <th>B</th>\n",
       "      <td>0.098215</td>\n",
       "      <td>1.806112</td>\n",
       "    </tr>\n",
       "    <tr>\n",
       "      <th rowspan=\"2\" valign=\"top\">park</th>\n",
       "      <th>A</th>\n",
       "      <td>-0.284297</td>\n",
       "      <td>0.168016</td>\n",
       "    </tr>\n",
       "    <tr>\n",
       "      <th>B</th>\n",
       "      <td>1.496987</td>\n",
       "      <td>-1.452315</td>\n",
       "    </tr>\n",
       "  </tbody>\n",
       "</table>\n",
       "</div>"
      ],
      "text/plain": [
       "second        one       two\n",
       "first                      \n",
       "mauli A -1.550175 -0.421431\n",
       "      B  0.098215  1.806112\n",
       "park  A -0.284297  0.168016\n",
       "      B  1.496987 -1.452315"
      ]
     },
     "execution_count": 106,
     "metadata": {},
     "output_type": "execute_result"
    }
   ],
   "source": [
    "stacked.unstack(1)"
   ]
  },
  {
   "cell_type": "code",
   "execution_count": 107,
   "id": "c7c8ac3b",
   "metadata": {},
   "outputs": [
    {
     "data": {
      "text/html": [
       "<div>\n",
       "<style scoped>\n",
       "    .dataframe tbody tr th:only-of-type {\n",
       "        vertical-align: middle;\n",
       "    }\n",
       "\n",
       "    .dataframe tbody tr th {\n",
       "        vertical-align: top;\n",
       "    }\n",
       "\n",
       "    .dataframe thead th {\n",
       "        text-align: right;\n",
       "    }\n",
       "</style>\n",
       "<table border=\"1\" class=\"dataframe\">\n",
       "  <thead>\n",
       "    <tr style=\"text-align: right;\">\n",
       "      <th></th>\n",
       "      <th>first</th>\n",
       "      <th>mauli</th>\n",
       "      <th>park</th>\n",
       "    </tr>\n",
       "    <tr>\n",
       "      <th>second</th>\n",
       "      <th></th>\n",
       "      <th></th>\n",
       "      <th></th>\n",
       "    </tr>\n",
       "  </thead>\n",
       "  <tbody>\n",
       "    <tr>\n",
       "      <th rowspan=\"2\" valign=\"top\">one</th>\n",
       "      <th>A</th>\n",
       "      <td>-1.550175</td>\n",
       "      <td>-0.284297</td>\n",
       "    </tr>\n",
       "    <tr>\n",
       "      <th>B</th>\n",
       "      <td>0.098215</td>\n",
       "      <td>1.496987</td>\n",
       "    </tr>\n",
       "    <tr>\n",
       "      <th rowspan=\"2\" valign=\"top\">two</th>\n",
       "      <th>A</th>\n",
       "      <td>-0.421431</td>\n",
       "      <td>0.168016</td>\n",
       "    </tr>\n",
       "    <tr>\n",
       "      <th>B</th>\n",
       "      <td>1.806112</td>\n",
       "      <td>-1.452315</td>\n",
       "    </tr>\n",
       "  </tbody>\n",
       "</table>\n",
       "</div>"
      ],
      "text/plain": [
       "first        mauli      park\n",
       "second                      \n",
       "one    A -1.550175 -0.284297\n",
       "       B  0.098215  1.496987\n",
       "two    A -0.421431  0.168016\n",
       "       B  1.806112 -1.452315"
      ]
     },
     "execution_count": 107,
     "metadata": {},
     "output_type": "execute_result"
    }
   ],
   "source": [
    "stacked.unstack(0)"
   ]
  },
  {
   "cell_type": "markdown",
   "id": "2d7959e5",
   "metadata": {},
   "source": [
    "## Pivot Tables"
   ]
  },
  {
   "cell_type": "code",
   "execution_count": 108,
   "id": "b0e9114d",
   "metadata": {},
   "outputs": [],
   "source": [
    "pivot_df = pd.DataFrame({'A' : ['one', 'one', 'two', 'three'] * 3,\n",
    "                    'B' : ['A', 'B', 'C'] * 4,\n",
    "                    'C' : ['STAR', 'STAR', 'STAR', 'KING', 'KING', 'KING'] * 2,\n",
    "                    'D' : np.random.randn(12),\n",
    "                    'E' : np.random.randn(12)})"
   ]
  },
  {
   "cell_type": "code",
   "execution_count": 109,
   "id": "363b5383",
   "metadata": {},
   "outputs": [
    {
     "data": {
      "text/html": [
       "<div>\n",
       "<style scoped>\n",
       "    .dataframe tbody tr th:only-of-type {\n",
       "        vertical-align: middle;\n",
       "    }\n",
       "\n",
       "    .dataframe tbody tr th {\n",
       "        vertical-align: top;\n",
       "    }\n",
       "\n",
       "    .dataframe thead th {\n",
       "        text-align: right;\n",
       "    }\n",
       "</style>\n",
       "<table border=\"1\" class=\"dataframe\">\n",
       "  <thead>\n",
       "    <tr style=\"text-align: right;\">\n",
       "      <th></th>\n",
       "      <th>A</th>\n",
       "      <th>B</th>\n",
       "      <th>C</th>\n",
       "      <th>D</th>\n",
       "      <th>E</th>\n",
       "    </tr>\n",
       "  </thead>\n",
       "  <tbody>\n",
       "    <tr>\n",
       "      <th>0</th>\n",
       "      <td>one</td>\n",
       "      <td>A</td>\n",
       "      <td>STAR</td>\n",
       "      <td>-0.253179</td>\n",
       "      <td>-0.075943</td>\n",
       "    </tr>\n",
       "    <tr>\n",
       "      <th>1</th>\n",
       "      <td>one</td>\n",
       "      <td>B</td>\n",
       "      <td>STAR</td>\n",
       "      <td>0.506546</td>\n",
       "      <td>1.988150</td>\n",
       "    </tr>\n",
       "    <tr>\n",
       "      <th>2</th>\n",
       "      <td>two</td>\n",
       "      <td>C</td>\n",
       "      <td>STAR</td>\n",
       "      <td>1.957050</td>\n",
       "      <td>-0.207209</td>\n",
       "    </tr>\n",
       "    <tr>\n",
       "      <th>3</th>\n",
       "      <td>three</td>\n",
       "      <td>A</td>\n",
       "      <td>KING</td>\n",
       "      <td>1.070022</td>\n",
       "      <td>1.165413</td>\n",
       "    </tr>\n",
       "    <tr>\n",
       "      <th>4</th>\n",
       "      <td>one</td>\n",
       "      <td>B</td>\n",
       "      <td>KING</td>\n",
       "      <td>0.186055</td>\n",
       "      <td>-0.663038</td>\n",
       "    </tr>\n",
       "    <tr>\n",
       "      <th>5</th>\n",
       "      <td>one</td>\n",
       "      <td>C</td>\n",
       "      <td>KING</td>\n",
       "      <td>0.103291</td>\n",
       "      <td>-1.612187</td>\n",
       "    </tr>\n",
       "    <tr>\n",
       "      <th>6</th>\n",
       "      <td>two</td>\n",
       "      <td>A</td>\n",
       "      <td>STAR</td>\n",
       "      <td>0.652340</td>\n",
       "      <td>0.516555</td>\n",
       "    </tr>\n",
       "    <tr>\n",
       "      <th>7</th>\n",
       "      <td>three</td>\n",
       "      <td>B</td>\n",
       "      <td>STAR</td>\n",
       "      <td>0.198624</td>\n",
       "      <td>-1.095633</td>\n",
       "    </tr>\n",
       "    <tr>\n",
       "      <th>8</th>\n",
       "      <td>one</td>\n",
       "      <td>C</td>\n",
       "      <td>STAR</td>\n",
       "      <td>0.855725</td>\n",
       "      <td>0.399702</td>\n",
       "    </tr>\n",
       "    <tr>\n",
       "      <th>9</th>\n",
       "      <td>one</td>\n",
       "      <td>A</td>\n",
       "      <td>KING</td>\n",
       "      <td>-0.206795</td>\n",
       "      <td>-0.377313</td>\n",
       "    </tr>\n",
       "    <tr>\n",
       "      <th>10</th>\n",
       "      <td>two</td>\n",
       "      <td>B</td>\n",
       "      <td>KING</td>\n",
       "      <td>0.443684</td>\n",
       "      <td>0.085850</td>\n",
       "    </tr>\n",
       "    <tr>\n",
       "      <th>11</th>\n",
       "      <td>three</td>\n",
       "      <td>C</td>\n",
       "      <td>KING</td>\n",
       "      <td>0.461363</td>\n",
       "      <td>-2.979671</td>\n",
       "    </tr>\n",
       "  </tbody>\n",
       "</table>\n",
       "</div>"
      ],
      "text/plain": [
       "        A  B     C         D         E\n",
       "0     one  A  STAR -0.253179 -0.075943\n",
       "1     one  B  STAR  0.506546  1.988150\n",
       "2     two  C  STAR  1.957050 -0.207209\n",
       "3   three  A  KING  1.070022  1.165413\n",
       "4     one  B  KING  0.186055 -0.663038\n",
       "5     one  C  KING  0.103291 -1.612187\n",
       "6     two  A  STAR  0.652340  0.516555\n",
       "7   three  B  STAR  0.198624 -1.095633\n",
       "8     one  C  STAR  0.855725  0.399702\n",
       "9     one  A  KING -0.206795 -0.377313\n",
       "10    two  B  KING  0.443684  0.085850\n",
       "11  three  C  KING  0.461363 -2.979671"
      ]
     },
     "execution_count": 109,
     "metadata": {},
     "output_type": "execute_result"
    }
   ],
   "source": [
    "pivot_df"
   ]
  },
  {
   "cell_type": "code",
   "execution_count": 110,
   "id": "b88126ed",
   "metadata": {},
   "outputs": [
    {
     "data": {
      "text/html": [
       "<div>\n",
       "<style scoped>\n",
       "    .dataframe tbody tr th:only-of-type {\n",
       "        vertical-align: middle;\n",
       "    }\n",
       "\n",
       "    .dataframe tbody tr th {\n",
       "        vertical-align: top;\n",
       "    }\n",
       "\n",
       "    .dataframe thead th {\n",
       "        text-align: right;\n",
       "    }\n",
       "</style>\n",
       "<table border=\"1\" class=\"dataframe\">\n",
       "  <thead>\n",
       "    <tr style=\"text-align: right;\">\n",
       "      <th></th>\n",
       "      <th>C</th>\n",
       "      <th>KING</th>\n",
       "      <th>STAR</th>\n",
       "    </tr>\n",
       "    <tr>\n",
       "      <th>A</th>\n",
       "      <th>B</th>\n",
       "      <th></th>\n",
       "      <th></th>\n",
       "    </tr>\n",
       "  </thead>\n",
       "  <tbody>\n",
       "    <tr>\n",
       "      <th rowspan=\"3\" valign=\"top\">one</th>\n",
       "      <th>A</th>\n",
       "      <td>-0.206795</td>\n",
       "      <td>-0.253179</td>\n",
       "    </tr>\n",
       "    <tr>\n",
       "      <th>B</th>\n",
       "      <td>0.186055</td>\n",
       "      <td>0.506546</td>\n",
       "    </tr>\n",
       "    <tr>\n",
       "      <th>C</th>\n",
       "      <td>0.103291</td>\n",
       "      <td>0.855725</td>\n",
       "    </tr>\n",
       "    <tr>\n",
       "      <th rowspan=\"3\" valign=\"top\">three</th>\n",
       "      <th>A</th>\n",
       "      <td>1.070022</td>\n",
       "      <td>NaN</td>\n",
       "    </tr>\n",
       "    <tr>\n",
       "      <th>B</th>\n",
       "      <td>NaN</td>\n",
       "      <td>0.198624</td>\n",
       "    </tr>\n",
       "    <tr>\n",
       "      <th>C</th>\n",
       "      <td>0.461363</td>\n",
       "      <td>NaN</td>\n",
       "    </tr>\n",
       "    <tr>\n",
       "      <th rowspan=\"3\" valign=\"top\">two</th>\n",
       "      <th>A</th>\n",
       "      <td>NaN</td>\n",
       "      <td>0.652340</td>\n",
       "    </tr>\n",
       "    <tr>\n",
       "      <th>B</th>\n",
       "      <td>0.443684</td>\n",
       "      <td>NaN</td>\n",
       "    </tr>\n",
       "    <tr>\n",
       "      <th>C</th>\n",
       "      <td>NaN</td>\n",
       "      <td>1.957050</td>\n",
       "    </tr>\n",
       "  </tbody>\n",
       "</table>\n",
       "</div>"
      ],
      "text/plain": [
       "C            KING      STAR\n",
       "A     B                    \n",
       "one   A -0.206795 -0.253179\n",
       "      B  0.186055  0.506546\n",
       "      C  0.103291  0.855725\n",
       "three A  1.070022       NaN\n",
       "      B       NaN  0.198624\n",
       "      C  0.461363       NaN\n",
       "two   A       NaN  0.652340\n",
       "      B  0.443684       NaN\n",
       "      C       NaN  1.957050"
      ]
     },
     "execution_count": 110,
     "metadata": {},
     "output_type": "execute_result"
    }
   ],
   "source": [
    "#We can produce pivot tables from this data very easily.\n",
    "pd.pivot_table(pivot_df, values='D', index=['A', 'B'], columns=['C'])"
   ]
  },
  {
   "cell_type": "markdown",
   "id": "a161d4b9",
   "metadata": {},
   "source": [
    "# Time Series\n",
    "(1) pandas has simple, powerful, and efficient functionality for performing resampling operations during frequency conversion  <br>   (e.g., converting secondly data into 5 - minutely data). <br>\n",
    "\n",
    "(3) This is extremely common in, but not limited to, financial applications. "
   ]
  },
  {
   "cell_type": "code",
   "execution_count": 111,
   "id": "90fbfb53",
   "metadata": {},
   "outputs": [],
   "source": [
    "rng = pd.date_range('1/1/2023', periods=100, freq='S')"
   ]
  },
  {
   "cell_type": "code",
   "execution_count": 112,
   "id": "2e386a04",
   "metadata": {},
   "outputs": [],
   "source": [
    "ts = pd.Series(np.random.randint(0, 500, len(rng)), index=rng)"
   ]
  },
  {
   "cell_type": "code",
   "execution_count": 113,
   "id": "73d093f7",
   "metadata": {},
   "outputs": [
    {
     "data": {
      "text/plain": [
       "2023-01-01    24645\n",
       "Freq: 5T, dtype: int32"
      ]
     },
     "execution_count": 113,
     "metadata": {},
     "output_type": "execute_result"
    }
   ],
   "source": [
    "ts.resample('5Min').agg('sum')"
   ]
  },
  {
   "cell_type": "markdown",
   "id": "b47622b6",
   "metadata": {},
   "source": [
    "# Time zone representation"
   ]
  },
  {
   "cell_type": "code",
   "execution_count": 114,
   "id": "7b38f20e",
   "metadata": {},
   "outputs": [],
   "source": [
    "rng = pd.date_range('3/7/2023 00:00', periods=5, freq='D')"
   ]
  },
  {
   "cell_type": "code",
   "execution_count": 115,
   "id": "89e61f4d",
   "metadata": {},
   "outputs": [],
   "source": [
    "ts = pd.Series(np.random.randn(len(rng)), rng)"
   ]
  },
  {
   "cell_type": "code",
   "execution_count": 116,
   "id": "73ed53e9",
   "metadata": {},
   "outputs": [
    {
     "data": {
      "text/plain": [
       "2023-03-07    0.452972\n",
       "2023-03-08    0.528044\n",
       "2023-03-09    1.080072\n",
       "2023-03-10    0.552160\n",
       "2023-03-11    1.899242\n",
       "Freq: D, dtype: float64"
      ]
     },
     "execution_count": 116,
     "metadata": {},
     "output_type": "execute_result"
    }
   ],
   "source": [
    "ts"
   ]
  },
  {
   "cell_type": "code",
   "execution_count": 117,
   "id": "428ef8c5",
   "metadata": {},
   "outputs": [],
   "source": [
    "ts_utc = ts.tz_localize('UTC')"
   ]
  },
  {
   "cell_type": "code",
   "execution_count": 118,
   "id": "e19fb2f4",
   "metadata": {},
   "outputs": [
    {
     "data": {
      "text/plain": [
       "2023-03-07 00:00:00+00:00    0.452972\n",
       "2023-03-08 00:00:00+00:00    0.528044\n",
       "2023-03-09 00:00:00+00:00    1.080072\n",
       "2023-03-10 00:00:00+00:00    0.552160\n",
       "2023-03-11 00:00:00+00:00    1.899242\n",
       "Freq: D, dtype: float64"
      ]
     },
     "execution_count": 118,
     "metadata": {},
     "output_type": "execute_result"
    }
   ],
   "source": [
    "ts_utc"
   ]
  },
  {
   "cell_type": "code",
   "execution_count": 119,
   "id": "c7bcdd61",
   "metadata": {},
   "outputs": [
    {
     "data": {
      "text/plain": [
       "2023-03-06 19:00:00-05:00    0.452972\n",
       "2023-03-07 19:00:00-05:00    0.528044\n",
       "2023-03-08 19:00:00-05:00    1.080072\n",
       "2023-03-09 19:00:00-05:00    0.552160\n",
       "2023-03-10 19:00:00-05:00    1.899242\n",
       "Freq: D, dtype: float64"
      ]
     },
     "execution_count": 119,
     "metadata": {},
     "output_type": "execute_result"
    }
   ],
   "source": [
    "#Convert to another time zone\n",
    "ts_utc.tz_convert('US/Eastern')"
   ]
  },
  {
   "cell_type": "code",
   "execution_count": 120,
   "id": "89e101ad",
   "metadata": {},
   "outputs": [
    {
     "data": {
      "text/plain": [
       "2023-01-31    0.681253\n",
       "2023-02-28   -1.022761\n",
       "2023-03-31    0.304254\n",
       "2023-04-30    1.097809\n",
       "2023-05-31    2.425828\n",
       "Freq: M, dtype: float64"
      ]
     },
     "execution_count": 120,
     "metadata": {},
     "output_type": "execute_result"
    }
   ],
   "source": [
    "#Converting between time span representations\n",
    "rng = pd.date_range('1/1/2023', periods=5, freq='M')\n",
    "ts = pd.Series(np.random.randn(len(rng)), index=rng)\n",
    "ts"
   ]
  },
  {
   "cell_type": "code",
   "execution_count": 121,
   "id": "90641b1d",
   "metadata": {},
   "outputs": [],
   "source": [
    "ps = ts.to_period()"
   ]
  },
  {
   "cell_type": "code",
   "execution_count": 122,
   "id": "f5d83389",
   "metadata": {},
   "outputs": [
    {
     "data": {
      "text/plain": [
       "2023-01    0.681253\n",
       "2023-02   -1.022761\n",
       "2023-03    0.304254\n",
       "2023-04    1.097809\n",
       "2023-05    2.425828\n",
       "Freq: M, dtype: float64"
      ]
     },
     "execution_count": 122,
     "metadata": {},
     "output_type": "execute_result"
    }
   ],
   "source": [
    "ps"
   ]
  },
  {
   "cell_type": "code",
   "execution_count": 123,
   "id": "aa46dc5b",
   "metadata": {},
   "outputs": [
    {
     "data": {
      "text/plain": [
       "2023-01-01    0.681253\n",
       "2023-02-01   -1.022761\n",
       "2023-03-01    0.304254\n",
       "2023-04-01    1.097809\n",
       "2023-05-01    2.425828\n",
       "Freq: MS, dtype: float64"
      ]
     },
     "execution_count": 123,
     "metadata": {},
     "output_type": "execute_result"
    }
   ],
   "source": [
    "ps.to_timestamp()"
   ]
  },
  {
   "cell_type": "raw",
   "id": "5bf93747",
   "metadata": {},
   "source": [
    "Converting between period and timestamp enables some convenient arithmetic functions to be\n",
    "used. In the following example, we convert a quarterly frequency with year ending in November to\n",
    "9am of the end of the month following the quarter end"
   ]
  },
  {
   "cell_type": "code",
   "execution_count": 124,
   "id": "d279d27a",
   "metadata": {},
   "outputs": [],
   "source": [
    "prng = pd.period_range('2022Q1', '2023Q4', freq='Q-JAN')"
   ]
  },
  {
   "cell_type": "code",
   "execution_count": 125,
   "id": "61d69f3c",
   "metadata": {},
   "outputs": [],
   "source": [
    "ts = pd.Series(np.random.randn(len(prng)), prng)"
   ]
  },
  {
   "cell_type": "code",
   "execution_count": 126,
   "id": "a118d7c5",
   "metadata": {},
   "outputs": [],
   "source": [
    "ts.index = (prng.asfreq('M', 'e') + 1).asfreq('H', 's') + 9"
   ]
  },
  {
   "cell_type": "code",
   "execution_count": 127,
   "id": "c9cb7b86",
   "metadata": {},
   "outputs": [
    {
     "data": {
      "text/plain": [
       "2021-05-01 09:00    0.274298\n",
       "2021-08-01 09:00   -0.268887\n",
       "2021-11-01 09:00    0.559366\n",
       "2022-02-01 09:00    1.479643\n",
       "2022-05-01 09:00    1.127179\n",
       "Freq: H, dtype: float64"
      ]
     },
     "execution_count": 127,
     "metadata": {},
     "output_type": "execute_result"
    }
   ],
   "source": [
    "ts.head()"
   ]
  },
  {
   "cell_type": "markdown",
   "id": "2d6b8c89",
   "metadata": {},
   "source": [
    "# Categoricals\n",
    "pandas can include categorical data in a DataFrame. "
   ]
  },
  {
   "cell_type": "code",
   "execution_count": 128,
   "id": "61bfe7da",
   "metadata": {},
   "outputs": [],
   "source": [
    "category_df = pd.DataFrame({\"id\": [1, 2, 3, 4, 5, 6], \"raw_grade\": ['a', 'b', 'b', 'a', 'a', 'e']})"
   ]
  },
  {
   "cell_type": "code",
   "execution_count": 129,
   "id": "e2974571",
   "metadata": {},
   "outputs": [],
   "source": [
    "#Convert the raw grades to a categorical data type.\n",
    "\n",
    "category_df[\"grade\"] = category_df[\"raw_grade\"].astype(\"category\")"
   ]
  },
  {
   "cell_type": "code",
   "execution_count": 130,
   "id": "9d67c9b0",
   "metadata": {},
   "outputs": [
    {
     "data": {
      "text/plain": [
       "0    a\n",
       "1    b\n",
       "2    b\n",
       "3    a\n",
       "4    a\n",
       "5    e\n",
       "Name: grade, dtype: category\n",
       "Categories (3, object): ['a', 'b', 'e']"
      ]
     },
     "execution_count": 130,
     "metadata": {},
     "output_type": "execute_result"
    }
   ],
   "source": [
    "category_df[\"grade\"]"
   ]
  },
  {
   "cell_type": "markdown",
   "id": "2cd7542e",
   "metadata": {},
   "source": [
    "# Rename the categories to more meaningful names (assigning to Series.cat.categories is inplace!)"
   ]
  },
  {
   "cell_type": "code",
   "execution_count": 131,
   "id": "506f24f5",
   "metadata": {},
   "outputs": [],
   "source": [
    "category_df[\"grade\"].cat.categories = [\"very good\", \"good\", \"very bad\"]"
   ]
  },
  {
   "cell_type": "code",
   "execution_count": 132,
   "id": "7c352c66",
   "metadata": {},
   "outputs": [
    {
     "data": {
      "text/html": [
       "<div>\n",
       "<style scoped>\n",
       "    .dataframe tbody tr th:only-of-type {\n",
       "        vertical-align: middle;\n",
       "    }\n",
       "\n",
       "    .dataframe tbody tr th {\n",
       "        vertical-align: top;\n",
       "    }\n",
       "\n",
       "    .dataframe thead th {\n",
       "        text-align: right;\n",
       "    }\n",
       "</style>\n",
       "<table border=\"1\" class=\"dataframe\">\n",
       "  <thead>\n",
       "    <tr style=\"text-align: right;\">\n",
       "      <th></th>\n",
       "      <th>id</th>\n",
       "      <th>raw_grade</th>\n",
       "      <th>grade</th>\n",
       "    </tr>\n",
       "  </thead>\n",
       "  <tbody>\n",
       "    <tr>\n",
       "      <th>0</th>\n",
       "      <td>1</td>\n",
       "      <td>a</td>\n",
       "      <td>very good</td>\n",
       "    </tr>\n",
       "    <tr>\n",
       "      <th>1</th>\n",
       "      <td>2</td>\n",
       "      <td>b</td>\n",
       "      <td>good</td>\n",
       "    </tr>\n",
       "    <tr>\n",
       "      <th>2</th>\n",
       "      <td>3</td>\n",
       "      <td>b</td>\n",
       "      <td>good</td>\n",
       "    </tr>\n",
       "    <tr>\n",
       "      <th>3</th>\n",
       "      <td>4</td>\n",
       "      <td>a</td>\n",
       "      <td>very good</td>\n",
       "    </tr>\n",
       "    <tr>\n",
       "      <th>4</th>\n",
       "      <td>5</td>\n",
       "      <td>a</td>\n",
       "      <td>very good</td>\n",
       "    </tr>\n",
       "    <tr>\n",
       "      <th>5</th>\n",
       "      <td>6</td>\n",
       "      <td>e</td>\n",
       "      <td>very bad</td>\n",
       "    </tr>\n",
       "  </tbody>\n",
       "</table>\n",
       "</div>"
      ],
      "text/plain": [
       "   id raw_grade      grade\n",
       "0   1         a  very good\n",
       "1   2         b       good\n",
       "2   3         b       good\n",
       "3   4         a  very good\n",
       "4   5         a  very good\n",
       "5   6         e   very bad"
      ]
     },
     "execution_count": 132,
     "metadata": {},
     "output_type": "execute_result"
    }
   ],
   "source": [
    "category_df"
   ]
  },
  {
   "cell_type": "code",
   "execution_count": 133,
   "id": "018897ad",
   "metadata": {},
   "outputs": [],
   "source": [
    "#Reorder the categories and simultaneously add the missing categories (methods under Serie .catreturn a new Seriesper default)\n",
    "category_df[\"grade\"] = category_df[\"grade\"].cat.set_categories([\"very bad\", \"bad\", \"medium\",\"good\",\"very good\"])"
   ]
  },
  {
   "cell_type": "code",
   "execution_count": 134,
   "id": "2bb4bd6b",
   "metadata": {},
   "outputs": [
    {
     "data": {
      "text/plain": [
       "0    very good\n",
       "1         good\n",
       "2         good\n",
       "3    very good\n",
       "4    very good\n",
       "5     very bad\n",
       "Name: grade, dtype: category\n",
       "Categories (5, object): ['very bad', 'bad', 'medium', 'good', 'very good']"
      ]
     },
     "execution_count": 134,
     "metadata": {},
     "output_type": "execute_result"
    }
   ],
   "source": [
    "category_df[\"grade\"]"
   ]
  },
  {
   "cell_type": "code",
   "execution_count": 135,
   "id": "3e3340ec",
   "metadata": {},
   "outputs": [
    {
     "data": {
      "text/html": [
       "<div>\n",
       "<style scoped>\n",
       "    .dataframe tbody tr th:only-of-type {\n",
       "        vertical-align: middle;\n",
       "    }\n",
       "\n",
       "    .dataframe tbody tr th {\n",
       "        vertical-align: top;\n",
       "    }\n",
       "\n",
       "    .dataframe thead th {\n",
       "        text-align: right;\n",
       "    }\n",
       "</style>\n",
       "<table border=\"1\" class=\"dataframe\">\n",
       "  <thead>\n",
       "    <tr style=\"text-align: right;\">\n",
       "      <th></th>\n",
       "      <th>id</th>\n",
       "      <th>raw_grade</th>\n",
       "      <th>grade</th>\n",
       "    </tr>\n",
       "  </thead>\n",
       "  <tbody>\n",
       "    <tr>\n",
       "      <th>5</th>\n",
       "      <td>6</td>\n",
       "      <td>e</td>\n",
       "      <td>very bad</td>\n",
       "    </tr>\n",
       "    <tr>\n",
       "      <th>1</th>\n",
       "      <td>2</td>\n",
       "      <td>b</td>\n",
       "      <td>good</td>\n",
       "    </tr>\n",
       "    <tr>\n",
       "      <th>2</th>\n",
       "      <td>3</td>\n",
       "      <td>b</td>\n",
       "      <td>good</td>\n",
       "    </tr>\n",
       "    <tr>\n",
       "      <th>0</th>\n",
       "      <td>1</td>\n",
       "      <td>a</td>\n",
       "      <td>very good</td>\n",
       "    </tr>\n",
       "    <tr>\n",
       "      <th>3</th>\n",
       "      <td>4</td>\n",
       "      <td>a</td>\n",
       "      <td>very good</td>\n",
       "    </tr>\n",
       "    <tr>\n",
       "      <th>4</th>\n",
       "      <td>5</td>\n",
       "      <td>a</td>\n",
       "      <td>very good</td>\n",
       "    </tr>\n",
       "  </tbody>\n",
       "</table>\n",
       "</div>"
      ],
      "text/plain": [
       "   id raw_grade      grade\n",
       "5   6         e   very bad\n",
       "1   2         b       good\n",
       "2   3         b       good\n",
       "0   1         a  very good\n",
       "3   4         a  very good\n",
       "4   5         a  very good"
      ]
     },
     "execution_count": 135,
     "metadata": {},
     "output_type": "execute_result"
    }
   ],
   "source": [
    "#Sorting is per order in the categories, not lexical order\n",
    "category_df.sort_values(by=\"grade\")"
   ]
  },
  {
   "cell_type": "code",
   "execution_count": 136,
   "id": "89bddb1d",
   "metadata": {},
   "outputs": [
    {
     "data": {
      "text/plain": [
       "grade\n",
       "very bad     1\n",
       "bad          0\n",
       "medium       0\n",
       "good         2\n",
       "very good    3\n",
       "dtype: int64"
      ]
     },
     "execution_count": 136,
     "metadata": {},
     "output_type": "execute_result"
    }
   ],
   "source": [
    "#Grouping by a categorical column shows also empty categories.\n",
    "category_df.groupby(\"grade\").size()"
   ]
  },
  {
   "cell_type": "markdown",
   "id": "31919b32",
   "metadata": {},
   "source": [
    "# Plotting"
   ]
  },
  {
   "cell_type": "code",
   "execution_count": 137,
   "id": "d2161f34",
   "metadata": {},
   "outputs": [],
   "source": [
    "ts = pd.Series(np.random.randn(1000), index=pd.date_range('1/1/2023', periods=1000, freq='D'))"
   ]
  },
  {
   "cell_type": "code",
   "execution_count": 138,
   "id": "e9cb50a7",
   "metadata": {},
   "outputs": [],
   "source": [
    "ts = ts.cumsum()"
   ]
  },
  {
   "cell_type": "code",
   "execution_count": 139,
   "id": "20f78b29",
   "metadata": {},
   "outputs": [
    {
     "data": {
      "text/plain": [
       "2023-01-01    -0.068376\n",
       "2023-01-02    -0.054217\n",
       "2023-01-03    -0.568168\n",
       "2023-01-04    -0.836887\n",
       "2023-01-05    -0.350484\n",
       "                ...    \n",
       "2025-09-22   -17.880179\n",
       "2025-09-23   -18.330892\n",
       "2025-09-24   -17.954026\n",
       "2025-09-25   -16.775649\n",
       "2025-09-26   -16.016613\n",
       "Freq: D, Length: 1000, dtype: float64"
      ]
     },
     "execution_count": 139,
     "metadata": {},
     "output_type": "execute_result"
    }
   ],
   "source": [
    "ts"
   ]
  },
  {
   "cell_type": "code",
   "execution_count": 140,
   "id": "71134297",
   "metadata": {},
   "outputs": [
    {
     "data": {
      "text/plain": [
       "<AxesSubplot:>"
      ]
     },
     "execution_count": 140,
     "metadata": {},
     "output_type": "execute_result"
    },
    {
     "data": {
      "image/png": "[encoded data removed]",
      "text/plain": [
       "<Figure size 432x288 with 1 Axes>"
      ]
     },
     "metadata": {
      "needs_background": "light"
     },
     "output_type": "display_data"
    }
   ],
   "source": [
    "ts.plot()  #On DataFrame, plot()is a convenience to plot all of the columns with labels"
   ]
  },
  {
   "cell_type": "code",
   "execution_count": 141,
   "id": "779701b4",
   "metadata": {},
   "outputs": [],
   "source": [
    "plot_df = pd.DataFrame(np.random.randn(1000, 4), index=ts.index, columns=['A', 'B', 'C', 'D'])"
   ]
  },
  {
   "cell_type": "code",
   "execution_count": 142,
   "id": "b77997ec",
   "metadata": {},
   "outputs": [],
   "source": [
    "plot_df = plot_df.cumsum()"
   ]
  },
  {
   "cell_type": "code",
   "execution_count": 143,
   "id": "958606e8",
   "metadata": {},
   "outputs": [
    {
     "data": {
      "text/plain": [
       "<matplotlib.legend.Legend at 0x173ef20ca00>"
      ]
     },
     "execution_count": 143,
     "metadata": {},
     "output_type": "execute_result"
    },
    {
     "data": {
      "text/plain": [
       "<Figure size 432x288 with 0 Axes>"
      ]
     },
     "metadata": {},
     "output_type": "display_data"
    },
    {
     "data": {
      "image/png": "[encoded data removed]",
      "text/plain": [
       "<Figure size 432x288 with 1 Axes>"
      ]
     },
     "metadata": {
      "needs_background": "light"
     },
     "output_type": "display_data"
    }
   ],
   "source": [
    "plt.figure()\n",
    "plot_df.plot() \n",
    "plt.legend(loc='best')"
   ]
  },
  {
   "cell_type": "markdown",
   "id": "7dc757a6",
   "metadata": {},
   "source": [
    "# Getting Data In/Out: CSV"
   ]
  },
  {
   "cell_type": "code",
   "execution_count": 144,
   "id": "5a217d3f",
   "metadata": {},
   "outputs": [],
   "source": [
    "#Writing to a csv file.\n",
    "plot_df.to_csv('New_Data.csv')"
   ]
  },
  {
   "cell_type": "code",
   "execution_count": 145,
   "id": "1f46ae99",
   "metadata": {},
   "outputs": [
    {
     "data": {
      "text/html": [
       "<div>\n",
       "<style scoped>\n",
       "    .dataframe tbody tr th:only-of-type {\n",
       "        vertical-align: middle;\n",
       "    }\n",
       "\n",
       "    .dataframe tbody tr th {\n",
       "        vertical-align: top;\n",
       "    }\n",
       "\n",
       "    .dataframe thead th {\n",
       "        text-align: right;\n",
       "    }\n",
       "</style>\n",
       "<table border=\"1\" class=\"dataframe\">\n",
       "  <thead>\n",
       "    <tr style=\"text-align: right;\">\n",
       "      <th></th>\n",
       "      <th>Unnamed: 0</th>\n",
       "      <th>A</th>\n",
       "      <th>B</th>\n",
       "      <th>C</th>\n",
       "      <th>D</th>\n",
       "    </tr>\n",
       "  </thead>\n",
       "  <tbody>\n",
       "    <tr>\n",
       "      <th>0</th>\n",
       "      <td>2023-01-01</td>\n",
       "      <td>0.304299</td>\n",
       "      <td>1.246543</td>\n",
       "      <td>-0.085260</td>\n",
       "      <td>0.968542</td>\n",
       "    </tr>\n",
       "    <tr>\n",
       "      <th>1</th>\n",
       "      <td>2023-01-02</td>\n",
       "      <td>-0.921433</td>\n",
       "      <td>1.504435</td>\n",
       "      <td>0.621647</td>\n",
       "      <td>0.894797</td>\n",
       "    </tr>\n",
       "    <tr>\n",
       "      <th>2</th>\n",
       "      <td>2023-01-03</td>\n",
       "      <td>-1.162947</td>\n",
       "      <td>0.649803</td>\n",
       "      <td>-0.079873</td>\n",
       "      <td>-0.095645</td>\n",
       "    </tr>\n",
       "    <tr>\n",
       "      <th>3</th>\n",
       "      <td>2023-01-04</td>\n",
       "      <td>-1.868398</td>\n",
       "      <td>0.307316</td>\n",
       "      <td>1.066301</td>\n",
       "      <td>1.287405</td>\n",
       "    </tr>\n",
       "    <tr>\n",
       "      <th>4</th>\n",
       "      <td>2023-01-05</td>\n",
       "      <td>-1.034676</td>\n",
       "      <td>-0.410444</td>\n",
       "      <td>-0.313771</td>\n",
       "      <td>1.724278</td>\n",
       "    </tr>\n",
       "    <tr>\n",
       "      <th>...</th>\n",
       "      <td>...</td>\n",
       "      <td>...</td>\n",
       "      <td>...</td>\n",
       "      <td>...</td>\n",
       "      <td>...</td>\n",
       "    </tr>\n",
       "    <tr>\n",
       "      <th>995</th>\n",
       "      <td>2025-09-22</td>\n",
       "      <td>6.867733</td>\n",
       "      <td>1.968755</td>\n",
       "      <td>9.268937</td>\n",
       "      <td>19.321785</td>\n",
       "    </tr>\n",
       "    <tr>\n",
       "      <th>996</th>\n",
       "      <td>2025-09-23</td>\n",
       "      <td>6.054979</td>\n",
       "      <td>0.039699</td>\n",
       "      <td>9.441625</td>\n",
       "      <td>18.862116</td>\n",
       "    </tr>\n",
       "    <tr>\n",
       "      <th>997</th>\n",
       "      <td>2025-09-24</td>\n",
       "      <td>6.915599</td>\n",
       "      <td>0.107572</td>\n",
       "      <td>7.263364</td>\n",
       "      <td>17.719212</td>\n",
       "    </tr>\n",
       "    <tr>\n",
       "      <th>998</th>\n",
       "      <td>2025-09-25</td>\n",
       "      <td>4.212077</td>\n",
       "      <td>-0.896671</td>\n",
       "      <td>7.938503</td>\n",
       "      <td>19.056387</td>\n",
       "    </tr>\n",
       "    <tr>\n",
       "      <th>999</th>\n",
       "      <td>2025-09-26</td>\n",
       "      <td>5.010304</td>\n",
       "      <td>-1.498347</td>\n",
       "      <td>7.000411</td>\n",
       "      <td>17.646944</td>\n",
       "    </tr>\n",
       "  </tbody>\n",
       "</table>\n",
       "<p>1000 rows × 5 columns</p>\n",
       "</div>"
      ],
      "text/plain": [
       "     Unnamed: 0         A         B         C          D\n",
       "0    2023-01-01  0.304299  1.246543 -0.085260   0.968542\n",
       "1    2023-01-02 -0.921433  1.504435  0.621647   0.894797\n",
       "2    2023-01-03 -1.162947  0.649803 -0.079873  -0.095645\n",
       "3    2023-01-04 -1.868398  0.307316  1.066301   1.287405\n",
       "4    2023-01-05 -1.034676 -0.410444 -0.313771   1.724278\n",
       "..          ...       ...       ...       ...        ...\n",
       "995  2025-09-22  6.867733  1.968755  9.268937  19.321785\n",
       "996  2025-09-23  6.054979  0.039699  9.441625  18.862116\n",
       "997  2025-09-24  6.915599  0.107572  7.263364  17.719212\n",
       "998  2025-09-25  4.212077 -0.896671  7.938503  19.056387\n",
       "999  2025-09-26  5.010304 -1.498347  7.000411  17.646944\n",
       "\n",
       "[1000 rows x 5 columns]"
      ]
     },
     "execution_count": 145,
     "metadata": {},
     "output_type": "execute_result"
    }
   ],
   "source": [
    "# Reading from a csv file\n",
    "pd.read_csv('New_Data.csv')"
   ]
  },
  {
   "cell_type": "markdown",
   "id": "0873ff44",
   "metadata": {},
   "source": [
    "## HDF5 Reading and writing to HDF Stores Writing to a HDF5 Store"
   ]
  },
  {
   "cell_type": "code",
   "execution_count": 146,
   "id": "1a93d63b",
   "metadata": {},
   "outputs": [],
   "source": [
    "plot_df.to_hdf('Write.h5','plot_df')"
   ]
  },
  {
   "cell_type": "code",
   "execution_count": 147,
   "id": "0c497bc3",
   "metadata": {},
   "outputs": [
    {
     "data": {
      "text/html": [
       "<div>\n",
       "<style scoped>\n",
       "    .dataframe tbody tr th:only-of-type {\n",
       "        vertical-align: middle;\n",
       "    }\n",
       "\n",
       "    .dataframe tbody tr th {\n",
       "        vertical-align: top;\n",
       "    }\n",
       "\n",
       "    .dataframe thead th {\n",
       "        text-align: right;\n",
       "    }\n",
       "</style>\n",
       "<table border=\"1\" class=\"dataframe\">\n",
       "  <thead>\n",
       "    <tr style=\"text-align: right;\">\n",
       "      <th></th>\n",
       "      <th>A</th>\n",
       "      <th>B</th>\n",
       "      <th>C</th>\n",
       "      <th>D</th>\n",
       "    </tr>\n",
       "  </thead>\n",
       "  <tbody>\n",
       "    <tr>\n",
       "      <th>2023-01-01</th>\n",
       "      <td>0.304299</td>\n",
       "      <td>1.246543</td>\n",
       "      <td>-0.085260</td>\n",
       "      <td>0.968542</td>\n",
       "    </tr>\n",
       "    <tr>\n",
       "      <th>2023-01-02</th>\n",
       "      <td>-0.921433</td>\n",
       "      <td>1.504435</td>\n",
       "      <td>0.621647</td>\n",
       "      <td>0.894797</td>\n",
       "    </tr>\n",
       "    <tr>\n",
       "      <th>2023-01-03</th>\n",
       "      <td>-1.162947</td>\n",
       "      <td>0.649803</td>\n",
       "      <td>-0.079873</td>\n",
       "      <td>-0.095645</td>\n",
       "    </tr>\n",
       "    <tr>\n",
       "      <th>2023-01-04</th>\n",
       "      <td>-1.868398</td>\n",
       "      <td>0.307316</td>\n",
       "      <td>1.066301</td>\n",
       "      <td>1.287405</td>\n",
       "    </tr>\n",
       "    <tr>\n",
       "      <th>2023-01-05</th>\n",
       "      <td>-1.034676</td>\n",
       "      <td>-0.410444</td>\n",
       "      <td>-0.313771</td>\n",
       "      <td>1.724278</td>\n",
       "    </tr>\n",
       "    <tr>\n",
       "      <th>...</th>\n",
       "      <td>...</td>\n",
       "      <td>...</td>\n",
       "      <td>...</td>\n",
       "      <td>...</td>\n",
       "    </tr>\n",
       "    <tr>\n",
       "      <th>2025-09-22</th>\n",
       "      <td>6.867733</td>\n",
       "      <td>1.968755</td>\n",
       "      <td>9.268937</td>\n",
       "      <td>19.321785</td>\n",
       "    </tr>\n",
       "    <tr>\n",
       "      <th>2025-09-23</th>\n",
       "      <td>6.054979</td>\n",
       "      <td>0.039699</td>\n",
       "      <td>9.441625</td>\n",
       "      <td>18.862116</td>\n",
       "    </tr>\n",
       "    <tr>\n",
       "      <th>2025-09-24</th>\n",
       "      <td>6.915599</td>\n",
       "      <td>0.107572</td>\n",
       "      <td>7.263364</td>\n",
       "      <td>17.719212</td>\n",
       "    </tr>\n",
       "    <tr>\n",
       "      <th>2025-09-25</th>\n",
       "      <td>4.212077</td>\n",
       "      <td>-0.896671</td>\n",
       "      <td>7.938503</td>\n",
       "      <td>19.056387</td>\n",
       "    </tr>\n",
       "    <tr>\n",
       "      <th>2025-09-26</th>\n",
       "      <td>5.010304</td>\n",
       "      <td>-1.498347</td>\n",
       "      <td>7.000411</td>\n",
       "      <td>17.646944</td>\n",
       "    </tr>\n",
       "  </tbody>\n",
       "</table>\n",
       "<p>1000 rows × 4 columns</p>\n",
       "</div>"
      ],
      "text/plain": [
       "                   A         B         C          D\n",
       "2023-01-01  0.304299  1.246543 -0.085260   0.968542\n",
       "2023-01-02 -0.921433  1.504435  0.621647   0.894797\n",
       "2023-01-03 -1.162947  0.649803 -0.079873  -0.095645\n",
       "2023-01-04 -1.868398  0.307316  1.066301   1.287405\n",
       "2023-01-05 -1.034676 -0.410444 -0.313771   1.724278\n",
       "...              ...       ...       ...        ...\n",
       "2025-09-22  6.867733  1.968755  9.268937  19.321785\n",
       "2025-09-23  6.054979  0.039699  9.441625  18.862116\n",
       "2025-09-24  6.915599  0.107572  7.263364  17.719212\n",
       "2025-09-25  4.212077 -0.896671  7.938503  19.056387\n",
       "2025-09-26  5.010304 -1.498347  7.000411  17.646944\n",
       "\n",
       "[1000 rows x 4 columns]"
      ]
     },
     "execution_count": 147,
     "metadata": {},
     "output_type": "execute_result"
    }
   ],
   "source": [
    "#Reading from a HDF5 Store\n",
    "pd.read_hdf('Write.h5','plot_df')"
   ]
  },
  {
   "cell_type": "markdown",
   "id": "c2ec0d71",
   "metadata": {},
   "source": [
    "## Excel Reading and writing to MS Excel and Writing to an excel file"
   ]
  },
  {
   "cell_type": "code",
   "execution_count": 148,
   "id": "c3297857",
   "metadata": {},
   "outputs": [],
   "source": [
    "plot_df.to_excel('New_Excel.xlsx', sheet_name='Excel_Sheet1')"
   ]
  },
  {
   "cell_type": "code",
   "execution_count": 149,
   "id": "c6075d27",
   "metadata": {},
   "outputs": [
    {
     "data": {
      "text/html": [
       "<div>\n",
       "<style scoped>\n",
       "    .dataframe tbody tr th:only-of-type {\n",
       "        vertical-align: middle;\n",
       "    }\n",
       "\n",
       "    .dataframe tbody tr th {\n",
       "        vertical-align: top;\n",
       "    }\n",
       "\n",
       "    .dataframe thead th {\n",
       "        text-align: right;\n",
       "    }\n",
       "</style>\n",
       "<table border=\"1\" class=\"dataframe\">\n",
       "  <thead>\n",
       "    <tr style=\"text-align: right;\">\n",
       "      <th></th>\n",
       "      <th>Unnamed: 0</th>\n",
       "      <th>A</th>\n",
       "      <th>B</th>\n",
       "      <th>C</th>\n",
       "      <th>D</th>\n",
       "    </tr>\n",
       "  </thead>\n",
       "  <tbody>\n",
       "    <tr>\n",
       "      <th>0</th>\n",
       "      <td>2023-01-01</td>\n",
       "      <td>0.304299</td>\n",
       "      <td>1.246543</td>\n",
       "      <td>-0.085260</td>\n",
       "      <td>0.968542</td>\n",
       "    </tr>\n",
       "    <tr>\n",
       "      <th>1</th>\n",
       "      <td>2023-01-02</td>\n",
       "      <td>-0.921433</td>\n",
       "      <td>1.504435</td>\n",
       "      <td>0.621647</td>\n",
       "      <td>0.894797</td>\n",
       "    </tr>\n",
       "    <tr>\n",
       "      <th>2</th>\n",
       "      <td>2023-01-03</td>\n",
       "      <td>-1.162947</td>\n",
       "      <td>0.649803</td>\n",
       "      <td>-0.079873</td>\n",
       "      <td>-0.095645</td>\n",
       "    </tr>\n",
       "    <tr>\n",
       "      <th>3</th>\n",
       "      <td>2023-01-04</td>\n",
       "      <td>-1.868398</td>\n",
       "      <td>0.307316</td>\n",
       "      <td>1.066301</td>\n",
       "      <td>1.287405</td>\n",
       "    </tr>\n",
       "    <tr>\n",
       "      <th>4</th>\n",
       "      <td>2023-01-05</td>\n",
       "      <td>-1.034676</td>\n",
       "      <td>-0.410444</td>\n",
       "      <td>-0.313771</td>\n",
       "      <td>1.724278</td>\n",
       "    </tr>\n",
       "    <tr>\n",
       "      <th>...</th>\n",
       "      <td>...</td>\n",
       "      <td>...</td>\n",
       "      <td>...</td>\n",
       "      <td>...</td>\n",
       "      <td>...</td>\n",
       "    </tr>\n",
       "    <tr>\n",
       "      <th>995</th>\n",
       "      <td>2025-09-22</td>\n",
       "      <td>6.867733</td>\n",
       "      <td>1.968755</td>\n",
       "      <td>9.268937</td>\n",
       "      <td>19.321785</td>\n",
       "    </tr>\n",
       "    <tr>\n",
       "      <th>996</th>\n",
       "      <td>2025-09-23</td>\n",
       "      <td>6.054979</td>\n",
       "      <td>0.039699</td>\n",
       "      <td>9.441625</td>\n",
       "      <td>18.862116</td>\n",
       "    </tr>\n",
       "    <tr>\n",
       "      <th>997</th>\n",
       "      <td>2025-09-24</td>\n",
       "      <td>6.915599</td>\n",
       "      <td>0.107572</td>\n",
       "      <td>7.263364</td>\n",
       "      <td>17.719212</td>\n",
       "    </tr>\n",
       "    <tr>\n",
       "      <th>998</th>\n",
       "      <td>2025-09-25</td>\n",
       "      <td>4.212077</td>\n",
       "      <td>-0.896671</td>\n",
       "      <td>7.938503</td>\n",
       "      <td>19.056387</td>\n",
       "    </tr>\n",
       "    <tr>\n",
       "      <th>999</th>\n",
       "      <td>2025-09-26</td>\n",
       "      <td>5.010304</td>\n",
       "      <td>-1.498347</td>\n",
       "      <td>7.000411</td>\n",
       "      <td>17.646944</td>\n",
       "    </tr>\n",
       "  </tbody>\n",
       "</table>\n",
       "<p>1000 rows × 5 columns</p>\n",
       "</div>"
      ],
      "text/plain": [
       "    Unnamed: 0         A         B         C          D\n",
       "0   2023-01-01  0.304299  1.246543 -0.085260   0.968542\n",
       "1   2023-01-02 -0.921433  1.504435  0.621647   0.894797\n",
       "2   2023-01-03 -1.162947  0.649803 -0.079873  -0.095645\n",
       "3   2023-01-04 -1.868398  0.307316  1.066301   1.287405\n",
       "4   2023-01-05 -1.034676 -0.410444 -0.313771   1.724278\n",
       "..         ...       ...       ...       ...        ...\n",
       "995 2025-09-22  6.867733  1.968755  9.268937  19.321785\n",
       "996 2025-09-23  6.054979  0.039699  9.441625  18.862116\n",
       "997 2025-09-24  6.915599  0.107572  7.263364  17.719212\n",
       "998 2025-09-25  4.212077 -0.896671  7.938503  19.056387\n",
       "999 2025-09-26  5.010304 -1.498347  7.000411  17.646944\n",
       "\n",
       "[1000 rows x 5 columns]"
      ]
     },
     "execution_count": 149,
     "metadata": {},
     "output_type": "execute_result"
    }
   ],
   "source": [
    "#Reading from an excel file\n",
    "pd.read_excel('New_Excel.xlsx', 'Excel_Sheet1', index_col=None, na_values=['NA'])"
   ]
  },
  {
   "cell_type": "markdown",
   "id": "3fa34380",
   "metadata": {},
   "source": [
    "## Gotchas : If you are trying an operation and you see an exception like.\n",
    "\"gotchas\" are issues or pitfalls that can easily trap a programmer who is not aware of them.<br>\n",
    " Here are some common gotchas in Pandas <br>\n",
    " (1) Beware of chained indexing <br>\n",
    " (2) NaN values can cause unexpected behavior <br>\n",
    " (3) Be careful when modifying data in place <br>\n",
    " (4) Watch out for data types <br>\n",
    " (5) Groupby can be confusing: The groupby method can be powerful for data aggregation and analysis, but it can also be <br>confusing to use, especially for beginners. Make sure to read the documentation carefully and test your code thoroughly to <br>ensure that your results are accurate<br>\n",
    " (6) you can avoid many common mistakes when working with Pandas."
   ]
  },
  {
   "cell_type": "code",
   "execution_count": 150,
   "id": "80a53e3e",
   "metadata": {},
   "outputs": [
    {
     "ename": "ValueError",
     "evalue": "The truth value of a Series is ambiguous. Use a.empty, a.bool(), a.item(), a.any() or a.all().",
     "output_type": "error",
     "traceback": [
      "\u001b[1;31m---------------------------------------------------------------------------\u001b[0m",
      "\u001b[1;31mValueError\u001b[0m                                Traceback (most recent call last)",
      "Input \u001b[1;32mIn [150]\u001b[0m, in \u001b[0;36m<cell line: 1>\u001b[1;34m()\u001b[0m\n\u001b[1;32m----> 1\u001b[0m \u001b[38;5;28;01mif\u001b[39;00m pd\u001b[38;5;241m.\u001b[39mSeries([\u001b[38;5;28;01mFalse\u001b[39;00m, \u001b[38;5;28;01mTrue\u001b[39;00m, \u001b[38;5;28;01mFalse\u001b[39;00m]):\n\u001b[0;32m      2\u001b[0m     \u001b[38;5;28mprint\u001b[39m(\u001b[38;5;124m\"\u001b[39m\u001b[38;5;124mIs it true\u001b[39m\u001b[38;5;124m\"\u001b[39m)\n",
      "File \u001b[1;32m~\\anaconda3\\lib\\site-packages\\pandas\\core\\generic.py:1527\u001b[0m, in \u001b[0;36mNDFrame.__nonzero__\u001b[1;34m(self)\u001b[0m\n\u001b[0;32m   1525\u001b[0m \u001b[38;5;129m@final\u001b[39m\n\u001b[0;32m   1526\u001b[0m \u001b[38;5;28;01mdef\u001b[39;00m \u001b[38;5;21m__nonzero__\u001b[39m(\u001b[38;5;28mself\u001b[39m):\n\u001b[1;32m-> 1527\u001b[0m     \u001b[38;5;28;01mraise\u001b[39;00m \u001b[38;5;167;01mValueError\u001b[39;00m(\n\u001b[0;32m   1528\u001b[0m         \u001b[38;5;124mf\u001b[39m\u001b[38;5;124m\"\u001b[39m\u001b[38;5;124mThe truth value of a \u001b[39m\u001b[38;5;132;01m{\u001b[39;00m\u001b[38;5;28mtype\u001b[39m(\u001b[38;5;28mself\u001b[39m)\u001b[38;5;241m.\u001b[39m\u001b[38;5;18m__name__\u001b[39m\u001b[38;5;132;01m}\u001b[39;00m\u001b[38;5;124m is ambiguous. \u001b[39m\u001b[38;5;124m\"\u001b[39m\n\u001b[0;32m   1529\u001b[0m         \u001b[38;5;124m\"\u001b[39m\u001b[38;5;124mUse a.empty, a.bool(), a.item(), a.any() or a.all().\u001b[39m\u001b[38;5;124m\"\u001b[39m\n\u001b[0;32m   1530\u001b[0m     )\n",
      "\u001b[1;31mValueError\u001b[0m: The truth value of a Series is ambiguous. Use a.empty, a.bool(), a.item(), a.any() or a.all()."
     ]
    }
   ],
   "source": [
    "if pd.Series([False, True, False]):\n",
    "    print(\"Is it true\")"
   ]
  },
  {
   "cell_type": "code",
   "execution_count": null,
   "id": "791e9a7f",
   "metadata": {},
   "outputs": [],
   "source": []
  }
 ],
 "metadata": {
  "kernelspec": {
   "display_name": "Python 3 (ipykernel)",
   "language": "python",
   "name": "python3"
  },
  "language_info": {
   "codemirror_mode": {
    "name": "ipython",
    "version": 3
   },
   "file_extension": ".py",
   "mimetype": "text/x-python",
   "name": "python",
   "nbconvert_exporter": "python",
   "pygments_lexer": "ipython3",
   "version": "3.9.12"
  }
 },
 "nbformat": 4,
 "nbformat_minor": 5
}
