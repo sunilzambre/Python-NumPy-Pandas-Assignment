{
 "cells": [
  {
   "cell_type": "code",
   "execution_count": 1,
   "id": "97c81fc6",
   "metadata": {},
   "outputs": [],
   "source": [
    "from functools import partial"
   ]
  },
  {
   "cell_type": "code",
   "execution_count": 2,
   "id": "96618c81",
   "metadata": {},
   "outputs": [],
   "source": [
    "def my_func(a, b, c):\n",
    "    print(a, b, c)"
   ]
  },
  {
   "cell_type": "code",
   "execution_count": 3,
   "id": "0fc9093b",
   "metadata": {},
   "outputs": [],
   "source": [
    "f = partial(my_func, 10)"
   ]
  },
  {
   "cell_type": "code",
   "execution_count": 4,
   "id": "c1fe62eb",
   "metadata": {},
   "outputs": [
    {
     "name": "stdout",
     "output_type": "stream",
     "text": [
      "10 20 30\n"
     ]
    }
   ],
   "source": [
    "f(20, 30)"
   ]
  },
  {
   "cell_type": "markdown",
   "id": "d203e3a3",
   "metadata": {},
   "source": [
    "We could have done this using another function (or a lambda) as well:"
   ]
  },
  {
   "cell_type": "code",
   "execution_count": 5,
   "id": "d43b0539",
   "metadata": {},
   "outputs": [],
   "source": [
    "def partial_func(b, c):\n",
    "    return my_func(10, b, c)"
   ]
  },
  {
   "cell_type": "code",
   "execution_count": 6,
   "id": "3d6f42ec",
   "metadata": {},
   "outputs": [
    {
     "name": "stdout",
     "output_type": "stream",
     "text": [
      "10 20 30\n"
     ]
    }
   ],
   "source": [
    "partial_func(20, 30)"
   ]
  },
  {
   "cell_type": "code",
   "execution_count": 7,
   "id": "a341000e",
   "metadata": {},
   "outputs": [],
   "source": [
    "fn = lambda b, c: my_func(10, b, c)"
   ]
  },
  {
   "cell_type": "code",
   "execution_count": 8,
   "id": "e15628ea",
   "metadata": {},
   "outputs": [
    {
     "name": "stdout",
     "output_type": "stream",
     "text": [
      "10 20 30\n"
     ]
    }
   ],
   "source": [
    "fn(20, 30)"
   ]
  },
  {
   "cell_type": "markdown",
   "id": "22dae256",
   "metadata": {},
   "source": [
    "Any of these ways is fine, but sometimes partial is just a cleaner more consise way to do it.\n",
    "\n",
    "Also, it is quite flexible with parameters"
   ]
  },
  {
   "cell_type": "code",
   "execution_count": 9,
   "id": "00e02d07",
   "metadata": {},
   "outputs": [],
   "source": [
    "def my_func(a, b, *args, k1, k2, **kwargs):\n",
    "    print(a, b, args, k1, k2, kwargs)"
   ]
  },
  {
   "cell_type": "code",
   "execution_count": 10,
   "id": "61a202b0",
   "metadata": {},
   "outputs": [],
   "source": [
    "f = partial(my_func, 10, k1='a')"
   ]
  },
  {
   "cell_type": "code",
   "execution_count": 11,
   "id": "4c6d41fb",
   "metadata": {},
   "outputs": [
    {
     "name": "stdout",
     "output_type": "stream",
     "text": [
      "10 20 (30, 40) a b {'k3': 'c'}\n"
     ]
    }
   ],
   "source": [
    "f(20, 30, 40, k2='b', k3='c')"
   ]
  },
  {
   "cell_type": "markdown",
   "id": "a971ebd1",
   "metadata": {},
   "source": [
    "We can of course do the same thing using a regular function too"
   ]
  },
  {
   "cell_type": "code",
   "execution_count": 13,
   "id": "b43417bf",
   "metadata": {},
   "outputs": [],
   "source": [
    "def f(b, *args, k2, **kwargs):\n",
    "    return my_func(10, b, *args, k1='a', k2=k2, **kwargs)"
   ]
  },
  {
   "cell_type": "code",
   "execution_count": 14,
   "id": "7b8a334c",
   "metadata": {},
   "outputs": [
    {
     "name": "stdout",
     "output_type": "stream",
     "text": [
      "10 20 (30, 40) a b {'k3': 'c'}\n"
     ]
    }
   ],
   "source": [
    "f(20, 30, 40, k2='b', k3='c')"
   ]
  },
  {
   "cell_type": "markdown",
   "id": "1842c042",
   "metadata": {},
   "source": [
    "As you can see in this case, using partial seems a lot simpler.\n",
    "\n",
    "Also, you are not stuck having to specify the first argument in your partial"
   ]
  },
  {
   "cell_type": "code",
   "execution_count": 16,
   "id": "e32a5866",
   "metadata": {},
   "outputs": [],
   "source": [
    "def power(base, exponent):\n",
    "    return base ** exponent"
   ]
  },
  {
   "cell_type": "code",
   "execution_count": 17,
   "id": "07e4604d",
   "metadata": {},
   "outputs": [
    {
     "data": {
      "text/plain": [
       "8"
      ]
     },
     "execution_count": 17,
     "metadata": {},
     "output_type": "execute_result"
    }
   ],
   "source": [
    "power(2, 3)"
   ]
  },
  {
   "cell_type": "code",
   "execution_count": 18,
   "id": "1f0dedf3",
   "metadata": {},
   "outputs": [],
   "source": [
    "square = partial(power, exponent=2)"
   ]
  },
  {
   "cell_type": "code",
   "execution_count": 19,
   "id": "df12a6ed",
   "metadata": {},
   "outputs": [
    {
     "data": {
      "text/plain": [
       "16"
      ]
     },
     "execution_count": 19,
     "metadata": {},
     "output_type": "execute_result"
    }
   ],
   "source": [
    "square(4)"
   ]
  },
  {
   "cell_type": "code",
   "execution_count": 20,
   "id": "038b9260",
   "metadata": {},
   "outputs": [],
   "source": [
    "cube = partial(power, exponent=3)"
   ]
  },
  {
   "cell_type": "code",
   "execution_count": 21,
   "id": "61d3c589",
   "metadata": {},
   "outputs": [
    {
     "data": {
      "text/plain": [
       "8"
      ]
     },
     "execution_count": 21,
     "metadata": {},
     "output_type": "execute_result"
    }
   ],
   "source": [
    "cube(2)"
   ]
  },
  {
   "cell_type": "code",
   "execution_count": 22,
   "id": "91b2d760",
   "metadata": {},
   "outputs": [
    {
     "data": {
      "text/plain": [
       "27"
      ]
     },
     "execution_count": 22,
     "metadata": {},
     "output_type": "execute_result"
    }
   ],
   "source": [
    "cube(base=3)"
   ]
  },
  {
   "cell_type": "markdown",
   "id": "a0778652",
   "metadata": {},
   "source": [
    "## Caveat\n",
    "We can certainly use variables instead of literals when creating partials, but we have to be careful."
   ]
  },
  {
   "cell_type": "code",
   "execution_count": 23,
   "id": "420ca0f5",
   "metadata": {},
   "outputs": [],
   "source": [
    "def my_func(a, b, c):\n",
    "    print(a, b, c)"
   ]
  },
  {
   "cell_type": "code",
   "execution_count": 24,
   "id": "8af8ad59",
   "metadata": {},
   "outputs": [],
   "source": [
    "a = 10\n",
    "f = partial(my_func, a)"
   ]
  },
  {
   "cell_type": "code",
   "execution_count": 25,
   "id": "ec2574c5",
   "metadata": {},
   "outputs": [
    {
     "name": "stdout",
     "output_type": "stream",
     "text": [
      "10 20 30\n"
     ]
    }
   ],
   "source": [
    "f(20, 30)"
   ]
  },
  {
   "cell_type": "markdown",
   "id": "cd36098e",
   "metadata": {},
   "source": [
    "Now let's change the value of the variable a and see what happens"
   ]
  },
  {
   "cell_type": "code",
   "execution_count": 26,
   "id": "14bf9302",
   "metadata": {},
   "outputs": [],
   "source": [
    "a = 100"
   ]
  },
  {
   "cell_type": "code",
   "execution_count": 27,
   "id": "7a9b2584",
   "metadata": {},
   "outputs": [
    {
     "name": "stdout",
     "output_type": "stream",
     "text": [
      "10 20 30\n"
     ]
    }
   ],
   "source": [
    "f(20, 30)"
   ]
  },
  {
   "cell_type": "markdown",
   "id": "3f5a9a86",
   "metadata": {},
   "source": [
    "As you can see, the value for a is fixed once the partial has been created.\n",
    "\n",
    "In fact, the memory address of a is baked in to the partial, and a is immutable.\n",
    "\n",
    "If we use a mutable object, things are different"
   ]
  },
  {
   "cell_type": "code",
   "execution_count": 28,
   "id": "af89480c",
   "metadata": {},
   "outputs": [],
   "source": [
    "a = [10, 20]\n",
    "f = partial(my_func, a)"
   ]
  },
  {
   "cell_type": "code",
   "execution_count": 29,
   "id": "aef4332a",
   "metadata": {},
   "outputs": [
    {
     "name": "stdout",
     "output_type": "stream",
     "text": [
      "[10, 20] 100 200\n"
     ]
    }
   ],
   "source": [
    "f(100, 200)"
   ]
  },
  {
   "cell_type": "code",
   "execution_count": 30,
   "id": "87c31172",
   "metadata": {},
   "outputs": [],
   "source": [
    "a.append(30)"
   ]
  },
  {
   "cell_type": "code",
   "execution_count": 31,
   "id": "c2ee812a",
   "metadata": {},
   "outputs": [
    {
     "name": "stdout",
     "output_type": "stream",
     "text": [
      "[10, 20, 30] 100 200\n"
     ]
    }
   ],
   "source": [
    "f(100, 200)"
   ]
  },
  {
   "cell_type": "markdown",
   "id": "d12359a8",
   "metadata": {},
   "source": [
    "### Use Cases\n",
    "We tend to use partials in situation where we need to call a function that actually requires more parameters than we can supply.\n",
    "\n",
    "Often this is because we are working with exiting libraries or code, and we have a special case.\n",
    "\n",
    "For example, suppose we have points (represented as tuples), and we want to sort them based on the distance of the point from some other fixed point"
   ]
  },
  {
   "cell_type": "code",
   "execution_count": 32,
   "id": "06b21b44",
   "metadata": {},
   "outputs": [],
   "source": [
    "origin = (0, 0)"
   ]
  },
  {
   "cell_type": "code",
   "execution_count": 33,
   "id": "7eff4585",
   "metadata": {},
   "outputs": [],
   "source": [
    "l = [(1,1), (0, 2), (-3, 2), (0,0), (10, 10)]"
   ]
  },
  {
   "cell_type": "code",
   "execution_count": 34,
   "id": "f13d0068",
   "metadata": {},
   "outputs": [],
   "source": [
    "dist2 = lambda x, y: (x[0]-y[0])**2 + (x[1]-y[1])**2"
   ]
  },
  {
   "cell_type": "code",
   "execution_count": 35,
   "id": "59ec827a",
   "metadata": {},
   "outputs": [
    {
     "data": {
      "text/plain": [
       "2"
      ]
     },
     "execution_count": 35,
     "metadata": {},
     "output_type": "execute_result"
    }
   ],
   "source": [
    "dist2((0,0), (1,1))"
   ]
  },
  {
   "cell_type": "code",
   "execution_count": 36,
   "id": "c90ff80f",
   "metadata": {},
   "outputs": [
    {
     "data": {
      "text/plain": [
       "[(0, 0), (1, 1), (0, 2), (-3, 2), (10, 10)]"
      ]
     },
     "execution_count": 36,
     "metadata": {},
     "output_type": "execute_result"
    }
   ],
   "source": [
    "sorted(l, key = lambda x: dist2((0,0), x))"
   ]
  },
  {
   "cell_type": "code",
   "execution_count": 37,
   "id": "8233740e",
   "metadata": {},
   "outputs": [
    {
     "data": {
      "text/plain": [
       "[(0, 0), (1, 1), (0, 2), (-3, 2), (10, 10)]"
      ]
     },
     "execution_count": 37,
     "metadata": {},
     "output_type": "execute_result"
    }
   ],
   "source": [
    "sorted(l, key=partial(dist2, (0,0)))"
   ]
  },
  {
   "cell_type": "markdown",
   "id": "24542394",
   "metadata": {},
   "source": [
    "Another use case is when using callback functions. Usually these are used when running asynchronous operations, and you provide a callable to another callable which will be called when the first callable completes its execution.\n",
    "\n",
    "Very often, the asynchronous callable will specify the number of variables that the callback function must have - this may not be what we want, maybe we want to add some additional info.\n",
    "\n",
    "We'll look at asynchronous processing later in this course.\n",
    "\n",
    "Often we can also use partial functions to make our life a bit easier.\n",
    "\n",
    "Consider a situation where we have some generic email() function that can be used to notify someone when various things happen in our application. But depending on what is happening we may want to notify different people. Let's see how we may do this"
   ]
  },
  {
   "cell_type": "code",
   "execution_count": 38,
   "id": "8e1ed079",
   "metadata": {},
   "outputs": [],
   "source": [
    "def sendmail(to, subject, body):\n",
    "    # code to send email\n",
    "    print('To:{0}, Subject:{1}, Body:{2}'.format(to, subject, body))"
   ]
  },
  {
   "cell_type": "markdown",
   "id": "64e3b7c5",
   "metadata": {},
   "source": [
    "Now, we may haver different email adresses we want to send notifications to, maybe defined in a config file in our app. Here, I'll just use hardcoded variables"
   ]
  },
  {
   "cell_type": "code",
   "execution_count": 39,
   "id": "3941bf0c",
   "metadata": {},
   "outputs": [],
   "source": [
    "email_admin = 'sunilzambre@python.edu'\n",
    "email_devteam = 'idle@python.edu;cleese@python.edu'"
   ]
  },
  {
   "cell_type": "markdown",
   "id": "1054877b",
   "metadata": {},
   "source": [
    "Now when we want to send emails we would have to write things like"
   ]
  },
  {
   "cell_type": "code",
   "execution_count": 43,
   "id": "c7093240",
   "metadata": {},
   "outputs": [
    {
     "name": "stdout",
     "output_type": "stream",
     "text": [
      "To:sunilzambre@python.edu, Subject:My App Notification, Body:the parrot is dead.\n",
      "To:sunilzambre@python.edu;idle@python.edu;cleese@python.edu, Subject:My App Notification, Body:the ministry is closed until further notice\n"
     ]
    }
   ],
   "source": [
    "sendmail(email_admin, 'My App Notification', 'the parrot is dead.')\n",
    "sendmail(';'.join((email_admin, email_devteam)), 'My App Notification', 'the ministry is closed until further notice')"
   ]
  },
  {
   "cell_type": "markdown",
   "id": "8e9e926d",
   "metadata": {},
   "source": [
    "We could simply our life a little using partials this way"
   ]
  },
  {
   "cell_type": "code",
   "execution_count": 45,
   "id": "012dcb24",
   "metadata": {},
   "outputs": [],
   "source": [
    "send_admin = partial(sendmail, email_admin, 'For you eyes only')\n",
    "send_dev = partial(sendmail, email_devteam, 'Dear IT:')\n",
    "send_all = partial(sendmail, ';'.join((email_admin, email_devteam)), 'Loyal Subjects')"
   ]
  },
  {
   "cell_type": "code",
   "execution_count": 46,
   "id": "6e5f74bd",
   "metadata": {},
   "outputs": [
    {
     "name": "stdout",
     "output_type": "stream",
     "text": [
      "To:sunilzambre@python.edu, Subject:For you eyes only, Body:the parrot is dead.\n",
      "To:sunilzambre@python.edu;idle@python.edu;cleese@python.edu, Subject:Loyal Subjects, Body:the ministry is closed until further notice.\n"
     ]
    }
   ],
   "source": [
    "send_admin('the parrot is dead.')\n",
    "send_all('the ministry is closed until further notice.')"
   ]
  },
  {
   "cell_type": "markdown",
   "id": "f9d86f04",
   "metadata": {},
   "source": [
    "Finally, let's make this a little more complex, with a mixture of positional and keyword-only arguments"
   ]
  },
  {
   "cell_type": "code",
   "execution_count": 47,
   "id": "d924a391",
   "metadata": {},
   "outputs": [],
   "source": [
    "def sendmail(to, subject, body, *, cc=None, bcc=email_devteam):\n",
    "    # code to send email\n",
    "    print('To:{0}, Subject:{1}, Body:{2}, CC:{3}, BCC:{4}'.format(to, \n",
    "                                                                  subject, \n",
    "                                                                  body, \n",
    "                                                                  cc, \n",
    "                                                                  bcc))"
   ]
  },
  {
   "cell_type": "code",
   "execution_count": 48,
   "id": "2d3990fc",
   "metadata": {},
   "outputs": [],
   "source": [
    "send_admin = partial(sendmail, email_admin, 'General Admin')\n",
    "send_admin_secret = partial(sendmail, email_admin, 'For your eyes only', cc=None, bcc=None)"
   ]
  },
  {
   "cell_type": "code",
   "execution_count": 49,
   "id": "866e3ba4",
   "metadata": {},
   "outputs": [
    {
     "name": "stdout",
     "output_type": "stream",
     "text": [
      "To:sunilzambre@python.edu, Subject:General Admin, Body:and now for something completely different, CC:None, BCC:idle@python.edu;cleese@python.edu\n"
     ]
    }
   ],
   "source": [
    "send_admin('and now for something completely different')"
   ]
  },
  {
   "cell_type": "code",
   "execution_count": 50,
   "id": "9ef7b606",
   "metadata": {},
   "outputs": [
    {
     "name": "stdout",
     "output_type": "stream",
     "text": [
      "To:sunilzambre@python.edu, Subject:For your eyes only, Body:the parrot is dead!, CC:None, BCC:None\n"
     ]
    }
   ],
   "source": [
    "send_admin_secret('the parrot is dead!')"
   ]
  },
  {
   "cell_type": "code",
   "execution_count": 51,
   "id": "53464328",
   "metadata": {},
   "outputs": [
    {
     "name": "stdout",
     "output_type": "stream",
     "text": [
      "To:sunilzambre@python.edu, Subject:For your eyes only, Body:the parrot is no more!, CC:None, BCC:idle@python.edu;cleese@python.edu\n"
     ]
    }
   ],
   "source": [
    "send_admin_secret('the parrot is no more!', bcc=email_devteam)"
   ]
  },
  {
   "cell_type": "code",
   "execution_count": 52,
   "id": "6be3b0cc",
   "metadata": {},
   "outputs": [
    {
     "ename": "NameError",
     "evalue": "name 'end_admin_secret' is not defined",
     "output_type": "error",
     "traceback": [
      "\u001b[1;31m---------------------------------------------------------------------------\u001b[0m",
      "\u001b[1;31mNameError\u001b[0m                                 Traceback (most recent call last)",
      "Cell \u001b[1;32mIn[52], line 1\u001b[0m\n\u001b[1;32m----> 1\u001b[0m \u001b[43mend_admin_secret\u001b[49m(\u001b[38;5;124m'\u001b[39m\u001b[38;5;124mthe parrot is no more!\u001b[39m\u001b[38;5;124m'\u001b[39m, bcc\u001b[38;5;241m=\u001b[39memail_devteam)\n",
      "\u001b[1;31mNameError\u001b[0m: name 'end_admin_secret' is not defined"
     ]
    }
   ],
   "source": [
    "end_admin_secret('the parrot is no more!', bcc=email_devteam)"
   ]
  },
  {
   "cell_type": "code",
   "execution_count": 53,
   "id": "ae7a8de3",
   "metadata": {},
   "outputs": [],
   "source": [
    "def pow(base, exponent):\n",
    "    return base ** exponent"
   ]
  },
  {
   "cell_type": "code",
   "execution_count": 54,
   "id": "7b6af13c",
   "metadata": {},
   "outputs": [],
   "source": [
    "cube = partial(pow, exponent=3)"
   ]
  },
  {
   "cell_type": "code",
   "execution_count": 55,
   "id": "ec553471",
   "metadata": {},
   "outputs": [
    {
     "data": {
      "text/plain": [
       "8"
      ]
     },
     "execution_count": 55,
     "metadata": {},
     "output_type": "execute_result"
    }
   ],
   "source": [
    "cube(2)"
   ]
  },
  {
   "cell_type": "code",
   "execution_count": 56,
   "id": "dfcdfa91",
   "metadata": {},
   "outputs": [
    {
     "ename": "TypeError",
     "evalue": "pow() got multiple values for argument 'exponent'",
     "output_type": "error",
     "traceback": [
      "\u001b[1;31m---------------------------------------------------------------------------\u001b[0m",
      "\u001b[1;31mTypeError\u001b[0m                                 Traceback (most recent call last)",
      "Cell \u001b[1;32mIn[56], line 1\u001b[0m\n\u001b[1;32m----> 1\u001b[0m \u001b[43mcube\u001b[49m\u001b[43m(\u001b[49m\u001b[38;5;241;43m2\u001b[39;49m\u001b[43m,\u001b[49m\u001b[43m \u001b[49m\u001b[38;5;241;43m4\u001b[39;49m\u001b[43m)\u001b[49m\n",
      "\u001b[1;31mTypeError\u001b[0m: pow() got multiple values for argument 'exponent'"
     ]
    }
   ],
   "source": [
    "cube(2, 4)"
   ]
  },
  {
   "cell_type": "code",
   "execution_count": 57,
   "id": "5a0acf4c",
   "metadata": {},
   "outputs": [
    {
     "data": {
      "text/plain": [
       "16"
      ]
     },
     "execution_count": 57,
     "metadata": {},
     "output_type": "execute_result"
    }
   ],
   "source": [
    "cube(2, exponent=4)"
   ]
  }
 ],
 "metadata": {
  "kernelspec": {
   "display_name": "Python 3 (ipykernel)",
   "language": "python",
   "name": "python3"
  },
  "language_info": {
   "codemirror_mode": {
    "name": "ipython",
    "version": 3
   },
   "file_extension": ".py",
   "mimetype": "text/x-python",
   "name": "python",
   "nbconvert_exporter": "python",
   "pygments_lexer": "ipython3",
   "version": "3.9.12"
  }
 },
 "nbformat": 4,
 "nbformat_minor": 5
}
