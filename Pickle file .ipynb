{
 "cells": [
  {
   "cell_type": "code",
   "execution_count": 1,
   "id": "d35d44db",
   "metadata": {},
   "outputs": [
    {
     "name": "stdout",
     "output_type": "stream",
     "text": [
      "Pickle file created successfully.\n"
     ]
    }
   ],
   "source": [
    "import pickle\n",
    "\n",
    "# my_info Data to be pickled\n",
    "my_info = {\n",
    "    \"name\": \"Sunil\",\n",
    "    \"age\": 30,\n",
    "    \"city\": \"Tasgaon\",\n",
    "    \"profession\":\"Data Scientist\"\n",
    "}\n",
    "\n",
    "# Specify the file path for the pickle file\n",
    "file_path = \"my_info.pickle\"\n",
    "\n",
    "# Open the file in binary mode and pickle the my_info data\n",
    "with open(file_path, \"wb\") as file:\n",
    "    pickle.dump(my_info, file)\n",
    "\n",
    "print(\"Pickle file created successfully.\")"
   ]
  },
  {
   "cell_type": "code",
   "execution_count": 2,
   "id": "9e4f3482",
   "metadata": {},
   "outputs": [
    {
     "name": "stdout",
     "output_type": "stream",
     "text": [
      "Pickle file exists.\n"
     ]
    }
   ],
   "source": [
    "import os\n",
    "\n",
    "file_path = \"my_info.pickle\"\n",
    "\n",
    "# Check if the file exists\n",
    "if os.path.exists(file_path):\n",
    "    print(\"Pickle file exists.\")\n",
    "else:\n",
    "    print(\"Pickle file does not exist.\")"
   ]
  },
  {
   "cell_type": "code",
   "execution_count": 3,
   "id": "8475c009",
   "metadata": {},
   "outputs": [
    {
     "name": "stdout",
     "output_type": "stream",
     "text": [
      "{'name': 'Sunil', 'age': 30, 'city': 'Tasgaon', 'profession': 'Data Scientist'}\n"
     ]
    }
   ],
   "source": [
    "import pickle\n",
    "\n",
    "file_path = \"my_info.pickle\"\n",
    "\n",
    "# Open the pickle file in binary mode and unpickle the data\n",
    "with open(file_path, \"rb\") as file:\n",
    "    data = pickle.load(file)\n",
    "\n",
    "# Print the unpickled data\n",
    "print(my_info)"
   ]
  },
  {
   "cell_type": "code",
   "execution_count": 4,
   "id": "98107078",
   "metadata": {},
   "outputs": [
    {
     "name": "stdout",
     "output_type": "stream",
     "text": [
      "Pickle file created successfully.\n"
     ]
    }
   ],
   "source": [
    "import pickle\n",
    "\n",
    "# Data to be pickled\n",
    "data_info = {\n",
    "    \"name\": \"Sunil\",\n",
    "    \"age\": 30,\n",
    "    \"city\": \"Tasgaon\"\n",
    "}\n",
    "\n",
    "# Specify the file path for the pickle file\n",
    "file_path = \"data_info.pickle\"\n",
    "\n",
    "try:\n",
    "    # Open the file in binary mode\n",
    "    with open(file_path, \"wb\") as file:\n",
    "        # Pickle the data\n",
    "        pickle.dump(data_info, file)\n",
    "        print(\"Pickle file created successfully.\")\n",
    "except IOError as e:\n",
    "    print(f\"Error occurred while creating pickle file: {e}\")"
   ]
  },
  {
   "cell_type": "code",
   "execution_count": 5,
   "id": "413fddfb",
   "metadata": {},
   "outputs": [
    {
     "name": "stdout",
     "output_type": "stream",
     "text": [
      "Data unpickled successfully.\n",
      "{'name': 'Sunil', 'age': 30, 'city': 'Tasgaon'}\n"
     ]
    }
   ],
   "source": [
    "import pickle\n",
    "\n",
    "# Specify the file path of the pickle file\n",
    "file_path = \"data_info.pickle\"\n",
    "\n",
    "try:\n",
    "    # Open the file in binary mode\n",
    "    with open(file_path, \"rb\") as file:\n",
    "        # Unpickle the data\n",
    "        unpickled_data = pickle.load(file)\n",
    "        print(\"Data unpickled successfully.\")\n",
    "        print(unpickled_data)\n",
    "except IOError as e:\n",
    "    print(f\"Error occurred while unpickling data: {e}\")"
   ]
  },
  {
   "cell_type": "code",
   "execution_count": 6,
   "id": "98b8c6e8",
   "metadata": {},
   "outputs": [
    {
     "name": "stdout",
     "output_type": "stream",
     "text": [
      "    0: \\x80 PROTO      4\n",
      "    2: \\x95 FRAME      45\n",
      "   11: }    EMPTY_DICT\n",
      "   12: \\x94 MEMOIZE    (as 0)\n",
      "   13: (    MARK\n",
      "   14: \\x8c     SHORT_BINUNICODE 'name'\n",
      "   20: \\x94     MEMOIZE    (as 1)\n",
      "   21: \\x8c     SHORT_BINUNICODE 'Sunil'\n",
      "   28: \\x94     MEMOIZE    (as 2)\n",
      "   29: \\x8c     SHORT_BINUNICODE 'age'\n",
      "   34: \\x94     MEMOIZE    (as 3)\n",
      "   35: K        BININT1    30\n",
      "   37: \\x8c     SHORT_BINUNICODE 'city'\n",
      "   43: \\x94     MEMOIZE    (as 4)\n",
      "   44: \\x8c     SHORT_BINUNICODE 'Tasgaon'\n",
      "   53: \\x94     MEMOIZE    (as 5)\n",
      "   54: u        SETITEMS   (MARK at 13)\n",
      "   55: .    STOP\n",
      "highest protocol among opcodes = 4\n"
     ]
    }
   ],
   "source": [
    "import pickle\n",
    "import pickletools\n",
    "\n",
    "# Specify the file path of the pickle file\n",
    "file_path = \"data_info.pickle\"\n",
    "\n",
    "try:\n",
    "    # Open the file in binary mode\n",
    "    with open(file_path, \"rb\") as file:\n",
    "        # Read the pickle data\n",
    "        pickle_data = file.read()\n",
    "        \n",
    "        # Get the pickle file's format and display it\n",
    "        pickletools.dis(pickle_data)\n",
    "except IOError as e:\n",
    "    print(f\"Error occurred while checking pickle file: {e}\")"
   ]
  },
  {
   "cell_type": "code",
   "execution_count": 7,
   "id": "3affe801",
   "metadata": {},
   "outputs": [
    {
     "name": "stdout",
     "output_type": "stream",
     "text": [
      "Contents of the pickle file:\n",
      "{'name': 'Sunil', 'age': 30, 'city': 'Tasgaon'}\n"
     ]
    }
   ],
   "source": [
    "#To display the content of a pickle file, you need to unpickle the data and print it.\n",
    "import pickle\n",
    "\n",
    "# Specify the file path of the pickle file\n",
    "file_path = \"data_info.pickle\"\n",
    "\n",
    "try:\n",
    "    # Open the file in binary mode\n",
    "    with open(file_path, \"rb\") as file:\n",
    "        # Unpickle the data\n",
    "        unpickled_data = pickle.load(file)\n",
    "        print(\"Contents of the pickle file:\")\n",
    "        print(unpickled_data)\n",
    "except IOError as e:\n",
    "    print(f\"Error occurred while reading pickle file: {e}\")"
   ]
  }
 ],
 "metadata": {
  "kernelspec": {
   "display_name": "Python 3 (ipykernel)",
   "language": "python",
   "name": "python3"
  },
  "language_info": {
   "codemirror_mode": {
    "name": "ipython",
    "version": 3
   },
   "file_extension": ".py",
   "mimetype": "text/x-python",
   "name": "python",
   "nbconvert_exporter": "python",
   "pygments_lexer": "ipython3",
   "version": "3.9.12"
  }
 },
 "nbformat": 4,
 "nbformat_minor": 5
}
