{
 "cells": [
  {
   "cell_type": "markdown",
   "id": "f01e9e4f-4560-4d19-9beb-99c03640d0a5",
   "metadata": {},
   "source": [
    "## 1.Write a Python program to print the documents syntax, description etc. of Python built-in function(s)."
   ]
  },
  {
   "cell_type": "code",
   "execution_count": 1,
   "id": "91c909b1-83e4-43f8-9301-79c6bbf86fca",
   "metadata": {},
   "outputs": [
    {
     "name": "stdout",
     "output_type": "stream",
     "text": [
      "Return the absolute value of the argument.\n"
     ]
    }
   ],
   "source": [
    "print(abs.__doc__)"
   ]
  },
  {
   "cell_type": "raw",
   "id": "6c743a63-8147-4299-9ab7-3bf99d0dec54",
   "metadata": {},
   "source": [
    "Docstring Note:\n",
    "A docstring is a string literal that occurs as the first statement in a module, function, class, or method definition.\n",
    "\n",
    "Such a docstring becomes the doc special attribute of that object.\n",
    "\n",
    "All modules should normally have docstrings, and all functions and classes exported by a module should also have docstrings.\n",
    "\n",
    "Public methods (including the init constructor) should also have docstrings."
   ]
  },
  {
   "cell_type": "markdown",
   "id": "91ae8ecc-3158-44cb-8d13-bd452c5aa2bb",
   "metadata": {},
   "source": [
    "## 2. Write a Python program to print the calendar of a given month and year."
   ]
  },
  {
   "cell_type": "code",
   "execution_count": 2,
   "id": "eb2b6fa7-a2e0-43a0-aeb3-173aaed5e9df",
   "metadata": {},
   "outputs": [],
   "source": [
    "import calendar"
   ]
  },
  {
   "cell_type": "code",
   "execution_count": 3,
   "id": "a2ac430c-8c47-4a08-a702-a3afc659c9ff",
   "metadata": {},
   "outputs": [
    {
     "name": "stdin",
     "output_type": "stream",
     "text": [
      "Enter a year:  2025\n"
     ]
    }
   ],
   "source": [
    "y = int(input(f'Enter a year: '))"
   ]
  },
  {
   "cell_type": "code",
   "execution_count": 4,
   "id": "31ec35d0-5e69-4f23-b628-28fb8d636dc8",
   "metadata": {},
   "outputs": [
    {
     "name": "stdin",
     "output_type": "stream",
     "text": [
      "Enter a month:  10\n"
     ]
    }
   ],
   "source": [
    "m = int(input(f'Enter a month: '))"
   ]
  },
  {
   "cell_type": "code",
   "execution_count": 5,
   "id": "6974d13b-1937-4cb9-b629-6c635876ac99",
   "metadata": {},
   "outputs": [
    {
     "name": "stdout",
     "output_type": "stream",
     "text": [
      "\n",
      "Calendar for month 10 of year2025\n"
     ]
    }
   ],
   "source": [
    "print('\\nCalendar for month {} of year{}'.format(m,y))"
   ]
  },
  {
   "cell_type": "code",
   "execution_count": 6,
   "id": "6417ab58-337e-456a-93a3-01bbb1a4a278",
   "metadata": {},
   "outputs": [
    {
     "name": "stdout",
     "output_type": "stream",
     "text": [
      "    October 2025\n",
      "Mo Tu We Th Fr Sa Su\n",
      "       1  2  3  4  5\n",
      " 6  7  8  9 10 11 12\n",
      "13 14 15 16 17 18 19\n",
      "20 21 22 23 24 25 26\n",
      "27 28 29 30 31\n",
      "\n"
     ]
    }
   ],
   "source": [
    "print(calendar.month(theyear = y, themonth = m))"
   ]
  },
  {
   "cell_type": "markdown",
   "id": "906496d7-07a6-4524-9770-0c40062c4307",
   "metadata": {},
   "source": [
    "## 3.Write a Python program to print the following."
   ]
  },
  {
   "cell_type": "raw",
   "id": "b6c0ead1-58ad-4d7c-a92f-c5420d627684",
   "metadata": {},
   "source": [
    "Sample string:\n",
    "a string that you \"don't\" have to escape\n",
    "This\n",
    "is a ....... multi-line\n",
    "heredoc string --------> example"
   ]
  },
  {
   "cell_type": "code",
   "execution_count": 7,
   "id": "d2e09352-948d-4d67-9b8f-838f994a8605",
   "metadata": {},
   "outputs": [
    {
     "name": "stdout",
     "output_type": "stream",
     "text": [
      "\n",
      "a string that you \"don't\" have to escape\n",
      "This\n",
      "is a ....... multi-line\n",
      "heredoc string -------> example\n",
      "\n"
     ]
    }
   ],
   "source": [
    "print(\"\"\"\n",
    "a string that you \"don't\" have to escape\n",
    "This\n",
    "is a ....... multi-line\n",
    "heredoc string -------> example\n",
    "\"\"\")"
   ]
  },
  {
   "cell_type": "markdown",
   "id": "8091581c-2647-47ff-9765-dd7ac28de1e4",
   "metadata": {},
   "source": [
    "## 4.Write a Python program to calculate number of days between two dates."
   ]
  },
  {
   "cell_type": "raw",
   "id": "83b10f86-d6f9-4143-8daf-f829a1ea3a45",
   "metadata": {},
   "source": [
    "Sample dates : (2025, 7, 2), (2025, 7, 11)\n",
    "Expected output : 9 days"
   ]
  },
  {
   "cell_type": "code",
   "execution_count": 8,
   "id": "8d8b3106-82ba-4b48-96ab-9c2932ad2cc3",
   "metadata": {},
   "outputs": [],
   "source": [
    "import datetime"
   ]
  },
  {
   "cell_type": "code",
   "execution_count": 9,
   "id": "fa4863a8-d147-4df0-8ccc-7d2390063224",
   "metadata": {},
   "outputs": [],
   "source": [
    "date1 =datetime.date(2025, 7, 2)"
   ]
  },
  {
   "cell_type": "code",
   "execution_count": 10,
   "id": "4cf05425-4703-4f28-8e29-35f92d9af028",
   "metadata": {},
   "outputs": [],
   "source": [
    "date2 =datetime.date(2025, 7, 11)"
   ]
  },
  {
   "cell_type": "code",
   "execution_count": 11,
   "id": "1dda53d7-e36a-40ad-b61d-55d7dfdaa623",
   "metadata": {},
   "outputs": [],
   "source": [
    "diff = date2 - date1"
   ]
  },
  {
   "cell_type": "code",
   "execution_count": 12,
   "id": "d2e7cf0d-b7c1-4a3e-a0c0-be1f06e629fe",
   "metadata": {},
   "outputs": [
    {
     "data": {
      "text/plain": [
       "datetime.timedelta(days=9)"
      ]
     },
     "execution_count": 12,
     "metadata": {},
     "output_type": "execute_result"
    }
   ],
   "source": [
    "diff"
   ]
  },
  {
   "cell_type": "code",
   "execution_count": 13,
   "id": "68d72c2d-9555-463c-a27f-fdea19d8d9f8",
   "metadata": {},
   "outputs": [
    {
     "name": "stdout",
     "output_type": "stream",
     "text": [
      "9 days\n"
     ]
    }
   ],
   "source": [
    "print(diff.days,'days')"
   ]
  },
  {
   "cell_type": "markdown",
   "id": "d6538130-ecc0-4650-8d4a-41d84825cef5",
   "metadata": {},
   "source": [
    "## 5. Write a Python program to get the volume of a sphere with radius 7"
   ]
  },
  {
   "cell_type": "code",
   "execution_count": 14,
   "id": "3a39d1b2-c26a-45a9-bda9-71b4f3071989",
   "metadata": {},
   "outputs": [],
   "source": [
    "from math import pi"
   ]
  },
  {
   "cell_type": "code",
   "execution_count": 15,
   "id": "3bc1a864-08c1-4a65-81f2-be98d83a3db4",
   "metadata": {},
   "outputs": [],
   "source": [
    "radius = 7"
   ]
  },
  {
   "cell_type": "code",
   "execution_count": 16,
   "id": "009541d8-ba35-463a-9271-e0731e266fd2",
   "metadata": {},
   "outputs": [],
   "source": [
    "volume = ( 4 * pi * radius ** 3 ) / 3"
   ]
  },
  {
   "cell_type": "code",
   "execution_count": 17,
   "id": "2c92e6ab-36d7-41b0-9da4-374ed3cccb0e",
   "metadata": {},
   "outputs": [
    {
     "name": "stdout",
     "output_type": "stream",
     "text": [
      "Volume of Sphere: 1436.755040241732\n"
     ]
    }
   ],
   "source": [
    "print(f'Volume of Sphere: {volume}')"
   ]
  },
  {
   "cell_type": "markdown",
   "id": "e357adae-ff24-4345-b459-3456c99d5c35",
   "metadata": {},
   "source": [
    "### 6.Write a Python program to get the difference between a given number and 17, if the number is greater than 17 return double the absolute difference."
   ]
  },
  {
   "cell_type": "code",
   "execution_count": 19,
   "id": "d5329e2c-7cd5-484d-94ed-5a804f950d59",
   "metadata": {},
   "outputs": [
    {
     "name": "stdin",
     "output_type": "stream",
     "text": [
      "Enter a number:  20\n"
     ]
    }
   ],
   "source": [
    "num = int(input(f'Enter a number: '))"
   ]
  },
  {
   "cell_type": "code",
   "execution_count": 20,
   "id": "5beeccb7-3657-46c6-8d7d-140df9794554",
   "metadata": {},
   "outputs": [
    {
     "data": {
      "text/plain": [
       "6"
      ]
     },
     "execution_count": 20,
     "metadata": {},
     "output_type": "execute_result"
    }
   ],
   "source": [
    "diff = abs(num - 17) \n",
    "def diff_print():\n",
    "    if num > 17:\n",
    "        return 2*diff\n",
    "    else:\n",
    "        return diff\n",
    "diff_print()"
   ]
  },
  {
   "cell_type": "markdown",
   "id": "a383a1d4-e06d-4986-b577-6f7c972a0955",
   "metadata": {},
   "source": [
    "## 7.Write a Python program to test whether a number is within 100 of 1000 or 2000."
   ]
  },
  {
   "cell_type": "code",
   "execution_count": 21,
   "id": "e5adcc54-15cd-41d2-9046-fbb3867f26f0",
   "metadata": {},
   "outputs": [
    {
     "name": "stdout",
     "output_type": "stream",
     "text": [
      "True\n"
     ]
    }
   ],
   "source": [
    "def near_thousand(n):\n",
    "    return (abs(1000 - n) <=100) or (abs(2000 - n) <=100)  # this single line to evaluate to either TRUE/FALSE \n",
    "print(near_thousand(1100))"
   ]
  },
  {
   "cell_type": "code",
   "execution_count": 22,
   "id": "32c92778-19dc-4ba6-ba31-275066c80e32",
   "metadata": {},
   "outputs": [
    {
     "name": "stdout",
     "output_type": "stream",
     "text": [
      "True\n"
     ]
    }
   ],
   "source": [
    "print(near_thousand(1000))"
   ]
  },
  {
   "cell_type": "code",
   "execution_count": 23,
   "id": "7a8dcf2f-57ee-416d-a224-a27e82394663",
   "metadata": {},
   "outputs": [
    {
     "name": "stdout",
     "output_type": "stream",
     "text": [
      "True\n"
     ]
    }
   ],
   "source": [
    "print(near_thousand(1900))"
   ]
  },
  {
   "cell_type": "code",
   "execution_count": 24,
   "id": "effd1439-d065-46cb-af8c-1ccfd8a8b268",
   "metadata": {},
   "outputs": [
    {
     "name": "stdout",
     "output_type": "stream",
     "text": [
      "True\n"
     ]
    }
   ],
   "source": [
    "print(near_thousand(2100))"
   ]
  },
  {
   "cell_type": "code",
   "execution_count": 25,
   "id": "392f2757-a3ff-497b-a1fa-f50127fff689",
   "metadata": {},
   "outputs": [
    {
     "name": "stdout",
     "output_type": "stream",
     "text": [
      "False\n"
     ]
    }
   ],
   "source": [
    "print(near_thousand(1577))"
   ]
  },
  {
   "cell_type": "code",
   "execution_count": 26,
   "id": "9eba8b65-3e60-4218-8020-3cb78195c2fe",
   "metadata": {},
   "outputs": [
    {
     "name": "stdout",
     "output_type": "stream",
     "text": [
      "False\n"
     ]
    }
   ],
   "source": [
    "print(near_thousand(599))"
   ]
  },
  {
   "cell_type": "markdown",
   "id": "1d9fe3b9-23fb-49c5-866d-35b7cb4bb408",
   "metadata": {},
   "source": [
    "### 8.Write a Python program to calculate the sum of three given numbers, if the values are equal then return three times of their sum."
   ]
  },
  {
   "cell_type": "code",
   "execution_count": 29,
   "id": "715c64af-f0ef-4db7-b67b-67d89d62193c",
   "metadata": {},
   "outputs": [
    {
     "name": "stdin",
     "output_type": "stream",
     "text": [
      "First Number:  1\n",
      "Second Number:  2\n",
      "Third Number:  3\n"
     ]
    },
    {
     "ename": "TypeError",
     "evalue": "sum_calc() missing 3 required positional arguments: 'n1', 'n2', and 'n3'",
     "output_type": "error",
     "traceback": [
      "\u001b[1;31m---------------------------------------------------------------------------\u001b[0m",
      "\u001b[1;31mTypeError\u001b[0m                                 Traceback (most recent call last)",
      "Cell \u001b[1;32mIn[29], line 11\u001b[0m\n\u001b[0;32m      8\u001b[0m     \u001b[38;5;28;01melse\u001b[39;00m:\n\u001b[0;32m      9\u001b[0m         \u001b[38;5;28;01mreturn\u001b[39;00m n1 \u001b[38;5;241m+\u001b[39m n2 \u001b[38;5;241m+\u001b[39m n3 \n\u001b[1;32m---> 11\u001b[0m \u001b[43msum_calc\u001b[49m\u001b[43m(\u001b[49m\u001b[43m)\u001b[49m\n",
      "\u001b[1;31mTypeError\u001b[0m: sum_calc() missing 3 required positional arguments: 'n1', 'n2', and 'n3'"
     ]
    }
   ],
   "source": [
    "n1 = int(input(f'First Number: '))\n",
    "n2 = int(input(f'Second Number: '))\n",
    "n3 = int(input(f'Third Number: '))\n",
    "\n",
    "def sum_calc(n1, n2, n3): #TypeError: sum_calc() missing 3 required positional arguments: 'n1', 'n2', and 'n3'\n",
    "    if (n1 == n2 == n3):\n",
    "        return 3*(n1 + n2 + n3)\n",
    "    else:\n",
    "        return n1 + n2 + n3 \n",
    "        \n",
    "sum_calc()"
   ]
  },
  {
   "cell_type": "code",
   "execution_count": 30,
   "id": "be90e8ad-c0bd-449f-b7c3-306eda2cfc35",
   "metadata": {},
   "outputs": [
    {
     "name": "stdin",
     "output_type": "stream",
     "text": [
      "First Number:  1\n",
      "Second Number:  2\n",
      "Third Number:  3\n"
     ]
    },
    {
     "data": {
      "text/plain": [
       "6"
      ]
     },
     "execution_count": 30,
     "metadata": {},
     "output_type": "execute_result"
    }
   ],
   "source": [
    "n1 = int(input('First Number: '))\n",
    "n2 = int(input('Second Number: '))\n",
    "n3 = int(input('Third Number: '))\n",
    "\n",
    "def sum_calc():\n",
    "    if (n1 == n2 == n3):\n",
    "        return 3*(n1 + n2 + n3)\n",
    "    else:\n",
    "        return n1 + n2 + n3\n",
    "\n",
    "sum_calc()"
   ]
  },
  {
   "cell_type": "code",
   "execution_count": 31,
   "id": "bf8e3793-2c3f-4e97-9ea1-89a4048e4c98",
   "metadata": {},
   "outputs": [
    {
     "name": "stdin",
     "output_type": "stream",
     "text": [
      "First Number:  4\n",
      "Second Number:  4\n",
      "Third Number:  4\n"
     ]
    },
    {
     "data": {
      "text/plain": [
       "36"
      ]
     },
     "execution_count": 31,
     "metadata": {},
     "output_type": "execute_result"
    }
   ],
   "source": [
    "def sum_calc(n1, n2, n3):\n",
    "    if (n1 == n2 == n3):\n",
    "        return 3*(n1 + n2 + n3)\n",
    "    else:\n",
    "        return n1 + n2 + n3\n",
    "\n",
    "n1 = int(input('First Number: '))\n",
    "n2 = int(input('Second Number: '))\n",
    "n3 = int(input('Third Number: '))\n",
    "sum_calc(n1, n2, n3)"
   ]
  },
  {
   "cell_type": "markdown",
   "id": "74f7983f-7d33-46a2-8f72-ee9cf2d916e4",
   "metadata": {},
   "source": [
    "### 9.Write a Python program to get a new string from a given string where \"Is\" has been added to the front. If the given string already begins with \"Is\" then return the string unchanged."
   ]
  },
  {
   "cell_type": "code",
   "execution_count": 32,
   "id": "6f772d18-e5d4-48da-b877-319677c661f5",
   "metadata": {},
   "outputs": [
    {
     "name": "stdin",
     "output_type": "stream",
     "text": [
      "Enter a string: Good Day\n"
     ]
    },
    {
     "name": "stdout",
     "output_type": "stream",
     "text": [
      "Is Good Day\n"
     ]
    }
   ],
   "source": [
    "s =input('Enter a string:')\n",
    "\n",
    "if len(s) >= 2 and s[:2] == 'Is':\n",
    "    print(s) \n",
    "else:\n",
    "    print('Is '+s)"
   ]
  },
  {
   "cell_type": "code",
   "execution_count": 33,
   "id": "a2f681e6-b6c8-4a9b-924f-30da2278bf18",
   "metadata": {},
   "outputs": [
    {
     "name": "stdout",
     "output_type": "stream",
     "text": [
      "Is\n",
      "Is I\n",
      "IsIt\n",
      "Is Great\n"
     ]
    }
   ],
   "source": [
    "def new_string(s):\n",
    "    if len(s) >= 2 and s[:2] == 'Is':\n",
    "        return s\n",
    "    return 'Is ' + s\n",
    "\n",
    "print(new_string('Is'))\n",
    "print(new_string('I'))\n",
    "print(new_string('IsIt'))\n",
    "print(new_string('Great'))"
   ]
  },
  {
   "cell_type": "markdown",
   "id": "4fc8e1ac-4878-413b-80e7-cac630c23d76",
   "metadata": {},
   "source": [
    "### 10.Write a Python program to get a string which is n (non-negative integer) copies of a given string."
   ]
  },
  {
   "cell_type": "code",
   "execution_count": 34,
   "id": "f235e427-583f-4b82-8073-8ec84043facb",
   "metadata": {},
   "outputs": [
    {
     "name": "stdin",
     "output_type": "stream",
     "text": [
      "Enter a string:  Hello\n",
      "Enter the number of copies you want: 5\n"
     ]
    },
    {
     "name": "stdout",
     "output_type": "stream",
     "text": [
      "HelloHelloHelloHelloHello\n"
     ]
    }
   ],
   "source": [
    "string =input('Enter a string: ')\n",
    "n = int(input(\"Enter the number of copies you want:\"))\n",
    "\n",
    "print(string * n)"
   ]
  }
 ],
 "metadata": {
  "kernelspec": {
   "display_name": "Python 3 (ipykernel)",
   "language": "python",
   "name": "python3"
  },
  "language_info": {
   "codemirror_mode": {
    "name": "ipython",
    "version": 3
   },
   "file_extension": ".py",
   "mimetype": "text/x-python",
   "name": "python",
   "nbconvert_exporter": "python",
   "pygments_lexer": "ipython3",
   "version": "3.12.6"
  }
 },
 "nbformat": 4,
 "nbformat_minor": 5
}
