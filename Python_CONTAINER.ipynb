{
 "cells": [
  {
   "cell_type": "markdown",
   "id": "edee0761",
   "metadata": {},
   "source": [
    "### In python programming, \n",
    "- Containers are data structures that can hold multiple elements or values (data)\n",
    "- They provide a way to organize and manage data and they come with various methods or operations \n",
    "   for manipulating the stored values.\n",
    "- Container\n",
    "- Containers are data structures that hold data values.\n",
    "- They support membership tests which means we can check whether a value exists in the container or not.\n",
    "- Generally containers provide a way to access the contained objects and to iterate over them.\n",
    "- **Examples of containers include tuple, list, set, dict, str**"
   ]
  },
  {
   "cell_type": "markdown",
   "id": "83965a9f",
   "metadata": {},
   "source": [
    "### 1.Tuple: An ordered and immutable container that can store multiple elements. Elements can be of different data types."
   ]
  },
  {
   "cell_type": "code",
   "execution_count": 1,
   "id": "f7ff27c4",
   "metadata": {},
   "outputs": [],
   "source": [
    "my_tuple = (1, 2, 3, 'a', 'b')"
   ]
  },
  {
   "cell_type": "code",
   "execution_count": 2,
   "id": "fb030439",
   "metadata": {},
   "outputs": [
    {
     "name": "stdout",
     "output_type": "stream",
     "text": [
      "(1, 2, 3, 'a', 'b')\n"
     ]
    }
   ],
   "source": [
    "print(my_tuple)"
   ]
  },
  {
   "cell_type": "code",
   "execution_count": 3,
   "id": "c5cd4aef",
   "metadata": {},
   "outputs": [
    {
     "data": {
      "text/plain": [
       "True"
      ]
     },
     "execution_count": 3,
     "metadata": {},
     "output_type": "execute_result"
    }
   ],
   "source": [
    "list1 = ['SUNIL','RAHUL','SANTOSH','ANIL','TUSHAR']\n",
    "'SUNIL' in list1 # Membership check using 'in' operator"
   ]
  },
  {
   "cell_type": "code",
   "execution_count": 4,
   "id": "3e0393b8",
   "metadata": {},
   "outputs": [],
   "source": [
    "assert 'RAHUL' in list1 # If the condition returns true the program does nothing. "
   ]
  },
  {
   "cell_type": "code",
   "execution_count": 5,
   "id": "be2ba18d",
   "metadata": {},
   "outputs": [
    {
     "ename": "AssertionError",
     "evalue": "",
     "output_type": "error",
     "traceback": [
      "\u001b[1;31m---------------------------------------------------------------------------\u001b[0m",
      "\u001b[1;31mAssertionError\u001b[0m                            Traceback (most recent call last)",
      "Cell \u001b[1;32mIn[5], line 1\u001b[0m\n\u001b[1;32m----> 1\u001b[0m \u001b[38;5;28;01massert\u001b[39;00m \u001b[38;5;124m'\u001b[39m\u001b[38;5;124mRAHUL1\u001b[39m\u001b[38;5;124m'\u001b[39m \u001b[38;5;129;01min\u001b[39;00m list1\n",
      "\u001b[1;31mAssertionError\u001b[0m: "
     ]
    }
   ],
   "source": [
    "assert 'RAHUL1' in list1 # If the condition returns false, Assert will stop the program"
   ]
  },
  {
   "cell_type": "markdown",
   "id": "28201aa1",
   "metadata": {},
   "source": [
    "## 2.Dictionary (dict): An unordered collection of key-value pairs. Each key must be unique within the dictionary."
   ]
  },
  {
   "cell_type": "code",
   "execution_count": 6,
   "id": "3b1255c9",
   "metadata": {},
   "outputs": [
    {
     "data": {
      "text/plain": [
       "{'Name': 'Sunil', 'ID': 12345, 'DOB': 1984, 'Address': 'Bhor Pune'}"
      ]
     },
     "execution_count": 6,
     "metadata": {},
     "output_type": "execute_result"
    }
   ],
   "source": [
    "mydict = {'Name':'Sunil' , 'ID': 12345 , 'DOB': 1984 , 'Address' : 'Bhor Pune'}\n",
    "mydict"
   ]
  },
  {
   "cell_type": "code",
   "execution_count": 7,
   "id": "157f3efe",
   "metadata": {},
   "outputs": [
    {
     "data": {
      "text/plain": [
       "False"
      ]
     },
     "execution_count": 7,
     "metadata": {},
     "output_type": "execute_result"
    }
   ],
   "source": [
    "'Sunil' in mydict # Dictionary membership will always check the keys"
   ]
  },
  {
   "cell_type": "code",
   "execution_count": 8,
   "id": "8f0fe891",
   "metadata": {},
   "outputs": [
    {
     "data": {
      "text/plain": [
       "True"
      ]
     },
     "execution_count": 8,
     "metadata": {},
     "output_type": "execute_result"
    }
   ],
   "source": [
    "'Name' in mydict # Dictionary membership will always check the keys"
   ]
  },
  {
   "cell_type": "code",
   "execution_count": 9,
   "id": "fd2a74f9",
   "metadata": {},
   "outputs": [
    {
     "data": {
      "text/plain": [
       "True"
      ]
     },
     "execution_count": 9,
     "metadata": {},
     "output_type": "execute_result"
    }
   ],
   "source": [
    "'DOB' in mydict"
   ]
  },
  {
   "cell_type": "code",
   "execution_count": 10,
   "id": "8d5840c5",
   "metadata": {},
   "outputs": [
    {
     "data": {
      "text/plain": [
       "True"
      ]
     },
     "execution_count": 10,
     "metadata": {},
     "output_type": "execute_result"
    }
   ],
   "source": [
    "mystr = 'sunilzambre'\n",
    "'nil' in mystr # Check if substring is present"
   ]
  },
  {
   "cell_type": "markdown",
   "id": "ccd0730b",
   "metadata": {},
   "source": [
    "## Example 1: Creating a Dictionary"
   ]
  },
  {
   "cell_type": "code",
   "execution_count": null,
   "id": "7d98a884",
   "metadata": {},
   "outputs": [],
   "source": [
    "student['age'] = 42\n",
    "student['grade'] = 'B'\n",
    "\n",
    "# Adding a new key-value pair\n",
    "student['gender'] = 'Male'\n",
    "\n",
    "print(\"Modified Student:\")\n",
    "print(student)"
   ]
  },
  {
   "cell_type": "markdown",
   "id": "d5849c43",
   "metadata": {},
   "source": [
    "## Example 2:Modifying values in the dictionary"
   ]
  },
  {
   "cell_type": "code",
   "execution_count": 13,
   "id": "8033a231",
   "metadata": {},
   "outputs": [
    {
     "name": "stdout",
     "output_type": "stream",
     "text": [
      "Student Name: Sunil Zambre\n",
      "Age: 40\n",
      "Courses: ['AI', 'ML', 'Python']\n"
     ]
    }
   ],
   "source": [
    "# Creating a dictionary\n",
    "student = {\n",
    "    'name': 'Sunil Zambre',\n",
    "    'age': 40,\n",
    "    'grade': 'A',\n",
    "    'courses': ['AI', 'ML', 'Python']\n",
    "}\n",
    "\n",
    "# Accessing values in the dictionary\n",
    "print(\"Student Name:\", student['name'])\n",
    "print(\"Age:\", student['age'])\n",
    "print(\"Courses:\", student['courses'])"
   ]
  },
  {
   "cell_type": "markdown",
   "id": "49c2ebee",
   "metadata": {},
   "source": [
    "## Example 3: Iterating Through Dictionary"
   ]
  },
  {
   "cell_type": "code",
   "execution_count": 14,
   "id": "1b056c74",
   "metadata": {},
   "outputs": [
    {
     "name": "stdout",
     "output_type": "stream",
     "text": [
      "name : Sunil Zambre\n",
      "age : 40\n",
      "grade : A\n",
      "courses : ['AI', 'ML', 'Python']\n"
     ]
    }
   ],
   "source": [
    "# Iterating through key-value pairs\n",
    "for key, value in student.items():\n",
    "    print(key, \":\", value)"
   ]
  },
  {
   "cell_type": "markdown",
   "id": "ad27e9b3",
   "metadata": {},
   "source": [
    "## Example 4: Checking Membership"
   ]
  },
  {
   "cell_type": "code",
   "execution_count": 15,
   "id": "a34600f6",
   "metadata": {},
   "outputs": [
    {
     "name": "stdout",
     "output_type": "stream",
     "text": [
      "Grade is available: A\n"
     ]
    }
   ],
   "source": [
    "# Checking if a key is in the dictionary\n",
    "if 'grade' in student:\n",
    "    print(\"Grade is available:\", student['grade'])\n",
    "else:\n",
    "    print(\"Grade not available.\")"
   ]
  },
  {
   "cell_type": "markdown",
   "id": "ce5f440f",
   "metadata": {},
   "source": [
    "## Example 5: Dictionary Comprehension"
   ]
  },
  {
   "cell_type": "code",
   "execution_count": 16,
   "id": "e603ffe8",
   "metadata": {},
   "outputs": [
    {
     "name": "stdout",
     "output_type": "stream",
     "text": [
      "Squared Numbers:\n",
      "{1: 1, 2: 4, 3: 9, 4: 16, 5: 25}\n"
     ]
    }
   ],
   "source": [
    "# Dictionary comprehension to create a new dictionary\n",
    "squared_numbers = {x: x**2 for x in range(1, 6)}\n",
    "\n",
    "print(\"Squared Numbers:\")\n",
    "print(squared_numbers)"
   ]
  },
  {
   "cell_type": "markdown",
   "id": "df034077",
   "metadata": {},
   "source": [
    "## 3.Set: An unordered collection of unique elements. Sets do not allow duplicate values."
   ]
  },
  {
   "cell_type": "code",
   "execution_count": 11,
   "id": "d6064bbd",
   "metadata": {},
   "outputs": [],
   "source": [
    "my_set = {1, 2, 3, 'a', 'b'}"
   ]
  },
  {
   "cell_type": "code",
   "execution_count": 12,
   "id": "4dba434e",
   "metadata": {},
   "outputs": [
    {
     "data": {
      "text/plain": [
       "{1, 2, 3, 'a', 'b'}"
      ]
     },
     "execution_count": 12,
     "metadata": {},
     "output_type": "execute_result"
    }
   ],
   "source": [
    "my_set"
   ]
  }
 ],
 "metadata": {
  "kernelspec": {
   "display_name": "Python 3 (ipykernel)",
   "language": "python",
   "name": "python3"
  },
  "language_info": {
   "codemirror_mode": {
    "name": "ipython",
    "version": 3
   },
   "file_extension": ".py",
   "mimetype": "text/x-python",
   "name": "python",
   "nbconvert_exporter": "python",
   "pygments_lexer": "ipython3",
   "version": "3.9.12"
  }
 },
 "nbformat": 4,
 "nbformat_minor": 5
}
