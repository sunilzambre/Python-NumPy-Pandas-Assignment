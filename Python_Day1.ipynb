{
 "cells": [
  {
   "cell_type": "code",
   "execution_count": 1,
   "id": "d666778e-0a40-40e2-969a-ebacf4f3ef67",
   "metadata": {},
   "outputs": [],
   "source": [
    "#1. Write a Python program to print the following string in a specific format."
   ]
  },
  {
   "cell_type": "code",
   "execution_count": 2,
   "id": "15fcd1e7-8315-4f92-837d-9d13d3465847",
   "metadata": {},
   "outputs": [],
   "source": [
    "## Sample String: \"Twinkle, twinkle, little star, How I wonder what you are! Up above the world so high, Like a diamond in the sky. Twinkle, twinkle, little star, How I wonder what you are\""
   ]
  },
  {
   "cell_type": "code",
   "execution_count": 3,
   "id": "e1160277-24e8-45e5-a0af-62befe855527",
   "metadata": {},
   "outputs": [
    {
     "name": "stdout",
     "output_type": "stream",
     "text": [
      "Twinkle, twinkle, little star,\n",
      "\tHow I wonder what you are!\n",
      "\t\tUp above the world so high,\n",
      "\t\tLike a diamond in the sky.\n",
      "Twinkle, twinkle, little star,\n",
      "\tHow I wonder what you are\n"
     ]
    }
   ],
   "source": [
    "print('Twinkle, twinkle, little star,\\n\\tHow I wonder what you are!\\n\\t\\tUp above the world so high,\\n\\t\\tLike a diamond in the sky.\\nTwinkle, twinkle, little star,\\n\\tHow I wonder what you are')"
   ]
  },
  {
   "cell_type": "code",
   "execution_count": 5,
   "id": "49f41ebd-848b-4ff6-a2fa-9442274b3cfd",
   "metadata": {},
   "outputs": [],
   "source": [
    "#2. Write a Python program to get the Python version you are using."
   ]
  },
  {
   "cell_type": "code",
   "execution_count": 6,
   "id": "44591ff2-b38d-4c69-9124-39c5e23ae61d",
   "metadata": {},
   "outputs": [],
   "source": [
    "import sys"
   ]
  },
  {
   "cell_type": "code",
   "execution_count": 7,
   "id": "de1f7581-0acc-4da1-ab27-485ebd65d76c",
   "metadata": {},
   "outputs": [
    {
     "name": "stdout",
     "output_type": "stream",
     "text": [
      "Python Version:  3.12.6 (tags/v3.12.6:a4a2d2b, Sep  6 2024, 20:11:23) [MSC v.1940 64 bit (AMD64)]\n"
     ]
    }
   ],
   "source": [
    "print('Python Version: ',sys.version)"
   ]
  },
  {
   "cell_type": "code",
   "execution_count": 8,
   "id": "1f277687-9108-4246-a0c0-08fd66443057",
   "metadata": {},
   "outputs": [
    {
     "name": "stdout",
     "output_type": "stream",
     "text": [
      "\n"
     ]
    }
   ],
   "source": [
    "print()"
   ]
  },
  {
   "cell_type": "code",
   "execution_count": 9,
   "id": "0ea43e05-c191-4e1e-86a9-36372dc81f95",
   "metadata": {},
   "outputs": [
    {
     "name": "stdout",
     "output_type": "stream",
     "text": [
      "Python Version:  3.12.6 (tags/v3.12.6:a4a2d2b, Sep  6 2024, 20:11:23) [MSC v.1940 64 bit (AMD64)]\n",
      "\n"
     ]
    }
   ],
   "source": [
    "print('Python Version: ',sys.version)\n",
    "print()"
   ]
  },
  {
   "cell_type": "code",
   "execution_count": 10,
   "id": "b598ade0-cdfb-48be-a269-7fd18b254f6b",
   "metadata": {},
   "outputs": [
    {
     "name": "stdout",
     "output_type": "stream",
     "text": [
      "Versions Info:  sys.version_info(major=3, minor=12, micro=6, releaselevel='final', serial=0)\n"
     ]
    }
   ],
   "source": [
    "print('Versions Info: ', sys.version_info)"
   ]
  },
  {
   "cell_type": "code",
   "execution_count": 11,
   "id": "495c6aa1-04b6-40ca-a377-20005687ef6d",
   "metadata": {},
   "outputs": [],
   "source": [
    "#3. Write a Python program to display the current date and time."
   ]
  },
  {
   "cell_type": "code",
   "execution_count": 12,
   "id": "2eb32bf5-7f38-4643-b691-dd598b4531ff",
   "metadata": {},
   "outputs": [],
   "source": [
    "import datetime"
   ]
  },
  {
   "cell_type": "code",
   "execution_count": 13,
   "id": "69527e89-1360-4b8c-b01b-5e5cc7dfce9b",
   "metadata": {},
   "outputs": [],
   "source": [
    "now = datetime.datetime.now()"
   ]
  },
  {
   "cell_type": "code",
   "execution_count": 14,
   "id": "461b297b-2a60-43ca-bfef-eee686f52cff",
   "metadata": {},
   "outputs": [
    {
     "data": {
      "text/plain": [
       "'2025-01-25 21:17:55'"
      ]
     },
     "execution_count": 14,
     "metadata": {},
     "output_type": "execute_result"
    }
   ],
   "source": [
    "now.strftime('%Y-%m-%d %H:%M:%S')"
   ]
  },
  {
   "cell_type": "code",
   "execution_count": 15,
   "id": "dc96cfcc-df0f-44bc-9801-c09b7f5f140b",
   "metadata": {},
   "outputs": [],
   "source": [
    "#4. Write a Python program which accepts the radius of a circle from the user and compute the area."
   ]
  },
  {
   "cell_type": "code",
   "execution_count": 16,
   "id": "9d2edde8-0044-4fb6-9688-a2ac9fa2f191",
   "metadata": {},
   "outputs": [],
   "source": [
    "from math import pi"
   ]
  },
  {
   "cell_type": "code",
   "execution_count": 17,
   "id": "8e9568d1-5904-404f-8602-765e235b5ee3",
   "metadata": {},
   "outputs": [
    {
     "name": "stdin",
     "output_type": "stream",
     "text": [
      "Enter the radius of circle:  2.5\n"
     ]
    },
    {
     "name": "stdout",
     "output_type": "stream",
     "text": [
      "\n",
      " Area of circle : 19.634954084936208\n"
     ]
    }
   ],
   "source": [
    "radius = float(input('Enter the radius of circle: '))\n",
    "area = pi * radius * radius\n",
    "print(f'\\n Area of circle : {area}')"
   ]
  },
  {
   "cell_type": "code",
   "execution_count": 18,
   "id": "2e57109e-8007-4560-a499-edeb303d3e00",
   "metadata": {},
   "outputs": [],
   "source": [
    "#5. Write a Python program which accepts the user's first and last name and print them in reverse order with a space between them."
   ]
  },
  {
   "cell_type": "code",
   "execution_count": 19,
   "id": "662e55fa-0988-4ccc-8413-263cded3ddd5",
   "metadata": {},
   "outputs": [
    {
     "name": "stdin",
     "output_type": "stream",
     "text": [
      "Enter your first name: Sunil\n",
      "Enter your last name: Zambare\n"
     ]
    }
   ],
   "source": [
    "first_name =input(\"Enter your first name:\")\n",
    "last_name =input(\"Enter your last name:\")"
   ]
  },
  {
   "cell_type": "code",
   "execution_count": 21,
   "id": "ad4cc0cf-8142-45b1-b80e-f88619235b15",
   "metadata": {},
   "outputs": [
    {
     "name": "stdout",
     "output_type": "stream",
     "text": [
      "Hello Sunil + Zambare\n"
     ]
    }
   ],
   "source": [
    "print(f'Hello {first_name} + {last_name}')"
   ]
  },
  {
   "cell_type": "code",
   "execution_count": 22,
   "id": "09b9d090-17b1-407d-908b-9f9166f53431",
   "metadata": {},
   "outputs": [
    {
     "name": "stdout",
     "output_type": "stream",
     "text": [
      "HelloZambare Sunil\n"
     ]
    }
   ],
   "source": [
    "print('Hello' + last_name + ' ' + first_name)"
   ]
  },
  {
   "cell_type": "code",
   "execution_count": 23,
   "id": "22e84469-4d15-4d3a-88f7-636bd1161a03",
   "metadata": {},
   "outputs": [
    {
     "name": "stdout",
     "output_type": "stream",
     "text": [
      "Hello Sunil Zambare\n"
     ]
    }
   ],
   "source": [
    "print(f'Hello {first_name} {last_name}')"
   ]
  },
  {
   "cell_type": "code",
   "execution_count": 24,
   "id": "70cc4aed-b88b-4390-acab-58131beb0905",
   "metadata": {},
   "outputs": [],
   "source": [
    "#6. Write a Python program which accepts a sequence of comma-separated numbers from user and generate a list and \n",
    "# a tuple with those numbers.Sample data : 1, 3, 5, 7, 23, 25"
   ]
  },
  {
   "cell_type": "code",
   "execution_count": 25,
   "id": "82e659f8-d954-4798-810e-ed42c48dfeed",
   "metadata": {},
   "outputs": [
    {
     "name": "stdin",
     "output_type": "stream",
     "text": [
      " 1, 3, 5, 7, 23, 25\n"
     ]
    }
   ],
   "source": [
    "data =input().split(',')"
   ]
  },
  {
   "cell_type": "code",
   "execution_count": 26,
   "id": "94627267-209c-4313-aa3f-154fba10a687",
   "metadata": {},
   "outputs": [
    {
     "name": "stdout",
     "output_type": "stream",
     "text": [
      "List:  ['1', ' 3', ' 5', ' 7', ' 23', ' 25']\n"
     ]
    }
   ],
   "source": [
    "print('List: ',list(data))"
   ]
  },
  {
   "cell_type": "code",
   "execution_count": 27,
   "id": "5aea4929-91a5-496c-831e-6f641923ac53",
   "metadata": {},
   "outputs": [
    {
     "name": "stdout",
     "output_type": "stream",
     "text": [
      "Tuple:  ('1', ' 3', ' 5', ' 7', ' 23', ' 25')\n"
     ]
    }
   ],
   "source": [
    "print('Tuple: ',tuple(data))"
   ]
  },
  {
   "cell_type": "code",
   "execution_count": 28,
   "id": "d2ee756f-5c85-4524-ae70-8a7a114b3f2d",
   "metadata": {},
   "outputs": [],
   "source": [
    "#7. Write a Python program to accept a filename from the user and print the extension of that."
   ]
  },
  {
   "cell_type": "code",
   "execution_count": 32,
   "id": "10f8c35b-9fea-4146-a1ed-760717bbed9a",
   "metadata": {},
   "outputs": [
    {
     "name": "stdin",
     "output_type": "stream",
     "text": [
      "Enter file name with extension:  123.txt\n"
     ]
    },
    {
     "name": "stdout",
     "output_type": "stream",
     "text": [
      "\n",
      "File Extension: txt\n"
     ]
    }
   ],
   "source": [
    "file_name = input('Enter file name with extension: ')\n",
    "\n",
    "print('\\nFile Extension:', file_name.split('.')[-1])"
   ]
  },
  {
   "cell_type": "code",
   "execution_count": 33,
   "id": "4c1931ad-0226-4d72-94fd-1945684e1e05",
   "metadata": {},
   "outputs": [],
   "source": [
    "#8. Write a Python program to display the first and last colors from the following list.\n",
    "color_list = [\"Red\",\"White\", \"Green\"]"
   ]
  },
  {
   "cell_type": "code",
   "execution_count": 34,
   "id": "489c8b32-0e8e-4f48-bbd5-7864b4bdacaa",
   "metadata": {},
   "outputs": [
    {
     "name": "stdout",
     "output_type": "stream",
     "text": [
      "First color:  Red\n"
     ]
    }
   ],
   "source": [
    "print('First color: ',color_list[0])"
   ]
  },
  {
   "cell_type": "code",
   "execution_count": 35,
   "id": "8b168cfc-2605-4535-bc0e-ec7353e9f571",
   "metadata": {},
   "outputs": [
    {
     "name": "stdout",
     "output_type": "stream",
     "text": [
      "Second color:  White\n"
     ]
    }
   ],
   "source": [
    "print('Second color: ',color_list[1])"
   ]
  },
  {
   "cell_type": "code",
   "execution_count": 36,
   "id": "342c2592-6505-4f87-b553-c1178a2d0b4f",
   "metadata": {},
   "outputs": [
    {
     "name": "stdout",
     "output_type": "stream",
     "text": [
      "Last color:  Green\n"
     ]
    }
   ],
   "source": [
    "print('Last color: ',color_list[-1])"
   ]
  },
  {
   "cell_type": "code",
   "execution_count": 38,
   "id": "e0b070e1-3131-437a-b0d1-3748c9951d56",
   "metadata": {},
   "outputs": [],
   "source": [
    "#9. Write a Python program to display the examination schedule. (extract the date from exam_st_date).\n",
    "exam_st_date = (10, 2, 2025)"
   ]
  },
  {
   "cell_type": "code",
   "execution_count": 46,
   "id": "4b16e58a-160f-48c8-a615-ba277a86fc1c",
   "metadata": {},
   "outputs": [
    {
     "name": "stdout",
     "output_type": "stream",
     "text": [
      "The examination will start from:  10 / 2 / 2025 \n"
     ]
    }
   ],
   "source": [
    "print('The examination will start from:  %i / %i / %i ' % exam_st_date)"
   ]
  },
  {
   "cell_type": "code",
   "execution_count": 47,
   "id": "c69122ac-2075-40a1-8c27-69fc09efca2d",
   "metadata": {},
   "outputs": [],
   "source": [
    "#10. Write a Python program that accepts an integer (n) and computes the value of n+nn+nnn."
   ]
  },
  {
   "cell_type": "code",
   "execution_count": 48,
   "id": "3426a383-e639-438f-b9d6-660333ea4268",
   "metadata": {},
   "outputs": [
    {
     "name": "stdin",
     "output_type": "stream",
     "text": [
      "Sample values of n is: 5\n"
     ]
    }
   ],
   "source": [
    "n = input('Sample values of n is:')"
   ]
  },
  {
   "cell_type": "code",
   "execution_count": 49,
   "id": "64a43960-1c6e-493b-a058-f3c175ff2d84",
   "metadata": {},
   "outputs": [],
   "source": [
    "n1 = int('%s ' % n)"
   ]
  },
  {
   "cell_type": "code",
   "execution_count": 50,
   "id": "189c7824-8847-488f-94cd-7a2692396012",
   "metadata": {},
   "outputs": [
    {
     "data": {
      "text/plain": [
       "5"
      ]
     },
     "execution_count": 50,
     "metadata": {},
     "output_type": "execute_result"
    }
   ],
   "source": [
    "n1"
   ]
  },
  {
   "cell_type": "code",
   "execution_count": 52,
   "id": "bc847346-14a9-44cd-918a-e8a1a3ef1c6f",
   "metadata": {},
   "outputs": [],
   "source": [
    "n2 = int('%s%s' % (n,n))"
   ]
  },
  {
   "cell_type": "code",
   "execution_count": 53,
   "id": "421db039-7fd5-427d-810a-8247174d4306",
   "metadata": {},
   "outputs": [
    {
     "data": {
      "text/plain": [
       "55"
      ]
     },
     "execution_count": 53,
     "metadata": {},
     "output_type": "execute_result"
    }
   ],
   "source": [
    "n2"
   ]
  },
  {
   "cell_type": "code",
   "execution_count": 54,
   "id": "317e5a7e-df81-41cc-9e35-a408ed722818",
   "metadata": {},
   "outputs": [],
   "source": [
    "n3 = int('%s%s%s' % (n, n, n))"
   ]
  },
  {
   "cell_type": "code",
   "execution_count": 55,
   "id": "b92a1e5d-d1e6-4f74-b415-0e1e031ed63d",
   "metadata": {},
   "outputs": [
    {
     "data": {
      "text/plain": [
       "555"
      ]
     },
     "execution_count": 55,
     "metadata": {},
     "output_type": "execute_result"
    }
   ],
   "source": [
    "n3"
   ]
  },
  {
   "cell_type": "code",
   "execution_count": 57,
   "id": "ef762ef3-7d03-452d-97e9-13be5ce1a888",
   "metadata": {},
   "outputs": [
    {
     "name": "stdout",
     "output_type": "stream",
     "text": [
      "Expected Result: 615\n"
     ]
    }
   ],
   "source": [
    "result = n1 + n2 + n3\n",
    "print(f\"Expected Result: {result}\")"
   ]
  }
 ],
 "metadata": {
  "kernelspec": {
   "display_name": "Python 3 (ipykernel)",
   "language": "python",
   "name": "python3"
  },
  "language_info": {
   "codemirror_mode": {
    "name": "ipython",
    "version": 3
   },
   "file_extension": ".py",
   "mimetype": "text/x-python",
   "name": "python",
   "nbconvert_exporter": "python",
   "pygments_lexer": "ipython3",
   "version": "3.12.6"
  }
 },
 "nbformat": 4,
 "nbformat_minor": 5
}
