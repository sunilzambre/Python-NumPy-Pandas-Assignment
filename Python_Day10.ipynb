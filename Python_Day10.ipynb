{
 "cells": [
  {
   "cell_type": "markdown",
   "id": "0b66136e-994d-451f-8ff3-66aec6241fd3",
   "metadata": {},
   "source": [
    "#### 1.Write a Python program to swap two variables."
   ]
  },
  {
   "cell_type": "code",
   "execution_count": 2,
   "id": "4b3c484e-3ff3-4832-9703-967ffcea65a6",
   "metadata": {},
   "outputs": [
    {
     "name": "stdout",
     "output_type": "stream",
     "text": [
      "Original input: a=5, b=25\n",
      "After swap: a=25, b=5\n"
     ]
    }
   ],
   "source": [
    "a, b = 5, 25\n",
    "print('Original input: a={}, b={}'.format(a,b))\n",
    "\n",
    "a, b = b, a\n",
    "print('After swap: a={}, b={}'.format(a, b))"
   ]
  },
  {
   "cell_type": "markdown",
   "id": "d9b9b2d1-060c-4ab0-8bd6-b4b73bddd6d9",
   "metadata": {},
   "source": [
    "#### 2.Write a Python program to define a string containing special characters in various forms."
   ]
  },
  {
   "cell_type": "code",
   "execution_count": 3,
   "id": "dc1b8977-9138-4d0b-b783-39681f04f6bf",
   "metadata": {},
   "outputs": [
    {
     "name": "stdout",
     "output_type": "stream",
     "text": [
      "\\#{'}${\"}@/\n",
      "\\#{'}${\"}@/\n",
      "\\#{'}${\"}@/\n",
      "\\#{'}${\"}@/\n",
      "\\#{'}${\"}@/\n",
      "\\#{'}${\"}@/\n"
     ]
    },
    {
     "name": "stderr",
     "output_type": "stream",
     "text": [
      "<>:1: SyntaxWarning: invalid escape sequence '\\#'\n",
      "<>:2: SyntaxWarning: invalid escape sequence '\\#'\n",
      "<>:4: SyntaxWarning: invalid escape sequence '\\#'\n",
      "<>:5: SyntaxWarning: invalid escape sequence '\\#'\n",
      "<>:1: SyntaxWarning: invalid escape sequence '\\#'\n",
      "<>:2: SyntaxWarning: invalid escape sequence '\\#'\n",
      "<>:4: SyntaxWarning: invalid escape sequence '\\#'\n",
      "<>:5: SyntaxWarning: invalid escape sequence '\\#'\n",
      "C:\\Users\\Sunil Zambare\\AppData\\Local\\Temp\\ipykernel_13608\\3104457540.py:1: SyntaxWarning: invalid escape sequence '\\#'\n",
      "  print(\"\\#{'}${\\\"}@/\")\n",
      "C:\\Users\\Sunil Zambare\\AppData\\Local\\Temp\\ipykernel_13608\\3104457540.py:2: SyntaxWarning: invalid escape sequence '\\#'\n",
      "  print(\"\\#{'}${\"'\"'\"}@/\")      #change from first print: {\"'\"'\"}\n",
      "C:\\Users\\Sunil Zambare\\AppData\\Local\\Temp\\ipykernel_13608\\3104457540.py:4: SyntaxWarning: invalid escape sequence '\\#'\n",
      "  print('\\#{\\'}${\"}@/')         #change from first print: used single quote instead of double quote\n",
      "C:\\Users\\Sunil Zambare\\AppData\\Local\\Temp\\ipykernel_13608\\3104457540.py:5: SyntaxWarning: invalid escape sequence '\\#'\n",
      "  print('\\#{'\"'\"'}${\"}@/')      #\n"
     ]
    }
   ],
   "source": [
    "print(\"\\#{'}${\\\"}@/\")\n",
    "print(\"\\#{'}${\"'\"'\"}@/\")      #change from first print: {\"'\"'\"}\n",
    "print(r\"\"\"\\#{'}${\"}@/\"\"\")     #change from string to print: r\"\"\"string to print\"\"\"\n",
    "print('\\#{\\'}${\"}@/')         #change from first print: used single quote instead of double quote\n",
    "print('\\#{'\"'\"'}${\"}@/')      #\n",
    "print(r'''\\#{'}${\"}@/''')     #change from string to print: r'''string to print'''"
   ]
  },
  {
   "cell_type": "markdown",
   "id": "66b94ae9-264f-4fb6-81a9-d637c0d6db2b",
   "metadata": {},
   "source": [
    "#### 3.Write a Python program to get the identity of an object."
   ]
  },
  {
   "cell_type": "code",
   "execution_count": 4,
   "id": "15077639-327e-4b87-9850-42cb2746067e",
   "metadata": {},
   "outputs": [
    {
     "name": "stdout",
     "output_type": "stream",
     "text": [
      "obj1 address: 2950753096864\n"
     ]
    }
   ],
   "source": [
    "obj1 = object()\n",
    "identity = id(obj1)\n",
    "print('obj1 address:', identity)"
   ]
  },
  {
   "cell_type": "markdown",
   "id": "05368e9f-c6f0-4002-838b-015ac008e4b8",
   "metadata": {},
   "source": [
    "Python id() function returns the “identity” of the object. The identity of an object is an integer, which is guaranteed to be unique and constant for this object during its lifetime. Two objects with non-overlapping lifetimes may have the same id() value."
   ]
  },
  {
   "cell_type": "markdown",
   "id": "4c546368-6959-47c0-a949-50847ae887c5",
   "metadata": {},
   "source": [
    "#### 5.Write a Python program to convert a byte string to a list of integers."
   ]
  },
  {
   "cell_type": "code",
   "execution_count": 5,
   "id": "4e4435eb-7d90-4d4d-8b2c-e53499db68da",
   "metadata": {},
   "outputs": [
    {
     "name": "stdout",
     "output_type": "stream",
     "text": [
      "[65, 98, 99]\n"
     ]
    }
   ],
   "source": [
    "b = b'Abc'\n",
    "print(list(b))     # ASCII conversion"
   ]
  },
  {
   "cell_type": "markdown",
   "id": "e8d1dd9b-43e9-465f-a411-c322a091d46f",
   "metadata": {},
   "source": [
    "#### 6.Write a Python program to check if a string is numeric."
   ]
  },
  {
   "cell_type": "code",
   "execution_count": 6,
   "id": "30ab7fcf-c126-4832-8c93-8cfa6a36c47d",
   "metadata": {},
   "outputs": [
    {
     "name": "stdout",
     "output_type": "stream",
     "text": [
      "Not numeric\n"
     ]
    }
   ],
   "source": [
    "s = 'a12345'\n",
    "\n",
    "try:\n",
    "    float(s)\n",
    "    print('The given string is numeric.')\n",
    "except (ValueError, TypeError):\n",
    "    print('Not numeric')"
   ]
  },
  {
   "cell_type": "markdown",
   "id": "6d471783-8cfd-4ee3-af88-38dc4ae74081",
   "metadata": {},
   "source": [
    "#### 7.Write a Python program to print the current call stack."
   ]
  },
  {
   "cell_type": "code",
   "execution_count": 7,
   "id": "45a9812d-5042-4dbf-ab7c-240a0a44b0dd",
   "metadata": {},
   "outputs": [
    {
     "name": "stderr",
     "output_type": "stream",
     "text": [
      "  File \"<frozen runpy>\", line 198, in _run_module_as_main\n",
      "  File \"<frozen runpy>\", line 88, in _run_code\n",
      "  File \"C:\\Users\\Sunil Zambare\\AppData\\Local\\Programs\\Python\\Python312\\Lib\\site-packages\\ipykernel_launcher.py\", line 18, in <module>\n",
      "    app.launch_new_instance()\n",
      "  File \"C:\\Users\\Sunil Zambare\\AppData\\Local\\Programs\\Python\\Python312\\Lib\\site-packages\\traitlets\\config\\application.py\", line 1075, in launch_instance\n",
      "    app.start()\n",
      "  File \"C:\\Users\\Sunil Zambare\\AppData\\Local\\Programs\\Python\\Python312\\Lib\\site-packages\\ipykernel\\kernelapp.py\", line 739, in start\n",
      "    self.io_loop.start()\n",
      "  File \"C:\\Users\\Sunil Zambare\\AppData\\Local\\Programs\\Python\\Python312\\Lib\\site-packages\\tornado\\platform\\asyncio.py\", line 205, in start\n",
      "    self.asyncio_loop.run_forever()\n",
      "  File \"C:\\Users\\Sunil Zambare\\AppData\\Local\\Programs\\Python\\Python312\\Lib\\asyncio\\base_events.py\", line 641, in run_forever\n",
      "    self._run_once()\n",
      "  File \"C:\\Users\\Sunil Zambare\\AppData\\Local\\Programs\\Python\\Python312\\Lib\\asyncio\\base_events.py\", line 1986, in _run_once\n",
      "    handle._run()\n",
      "  File \"C:\\Users\\Sunil Zambare\\AppData\\Local\\Programs\\Python\\Python312\\Lib\\asyncio\\events.py\", line 88, in _run\n",
      "    self._context.run(self._callback, *self._args)\n",
      "  File \"C:\\Users\\Sunil Zambare\\AppData\\Local\\Programs\\Python\\Python312\\Lib\\site-packages\\ipykernel\\kernelbase.py\", line 545, in dispatch_queue\n",
      "    await self.process_one()\n",
      "  File \"C:\\Users\\Sunil Zambare\\AppData\\Local\\Programs\\Python\\Python312\\Lib\\site-packages\\ipykernel\\kernelbase.py\", line 534, in process_one\n",
      "    await dispatch(*args)\n",
      "  File \"C:\\Users\\Sunil Zambare\\AppData\\Local\\Programs\\Python\\Python312\\Lib\\site-packages\\ipykernel\\kernelbase.py\", line 437, in dispatch_shell\n",
      "    await result\n",
      "  File \"C:\\Users\\Sunil Zambare\\AppData\\Local\\Programs\\Python\\Python312\\Lib\\site-packages\\ipykernel\\ipkernel.py\", line 362, in execute_request\n",
      "    await super().execute_request(stream, ident, parent)\n",
      "  File \"C:\\Users\\Sunil Zambare\\AppData\\Local\\Programs\\Python\\Python312\\Lib\\site-packages\\ipykernel\\kernelbase.py\", line 778, in execute_request\n",
      "    reply_content = await reply_content\n",
      "  File \"C:\\Users\\Sunil Zambare\\AppData\\Local\\Programs\\Python\\Python312\\Lib\\site-packages\\ipykernel\\ipkernel.py\", line 449, in do_execute\n",
      "    res = shell.run_cell(\n",
      "  File \"C:\\Users\\Sunil Zambare\\AppData\\Local\\Programs\\Python\\Python312\\Lib\\site-packages\\ipykernel\\zmqshell.py\", line 549, in run_cell\n",
      "    return super().run_cell(*args, **kwargs)\n",
      "  File \"C:\\Users\\Sunil Zambare\\AppData\\Local\\Programs\\Python\\Python312\\Lib\\site-packages\\IPython\\core\\interactiveshell.py\", line 3075, in run_cell\n",
      "    result = self._run_cell(\n",
      "  File \"C:\\Users\\Sunil Zambare\\AppData\\Local\\Programs\\Python\\Python312\\Lib\\site-packages\\IPython\\core\\interactiveshell.py\", line 3130, in _run_cell\n",
      "    result = runner(coro)\n",
      "  File \"C:\\Users\\Sunil Zambare\\AppData\\Local\\Programs\\Python\\Python312\\Lib\\site-packages\\IPython\\core\\async_helpers.py\", line 128, in _pseudo_sync_runner\n",
      "    coro.send(None)\n",
      "  File \"C:\\Users\\Sunil Zambare\\AppData\\Local\\Programs\\Python\\Python312\\Lib\\site-packages\\IPython\\core\\interactiveshell.py\", line 3334, in run_cell_async\n",
      "    has_raised = await self.run_ast_nodes(code_ast.body, cell_name,\n",
      "  File \"C:\\Users\\Sunil Zambare\\AppData\\Local\\Programs\\Python\\Python312\\Lib\\site-packages\\IPython\\core\\interactiveshell.py\", line 3517, in run_ast_nodes\n",
      "    if await self.run_code(code, result, async_=asy):\n",
      "  File \"C:\\Users\\Sunil Zambare\\AppData\\Local\\Programs\\Python\\Python312\\Lib\\site-packages\\IPython\\core\\interactiveshell.py\", line 3577, in run_code\n",
      "    exec(code_obj, self.user_global_ns, self.user_ns)\n",
      "  File \"C:\\Users\\Sunil Zambare\\AppData\\Local\\Temp\\ipykernel_13608\\2566297461.py\", line 8, in <module>\n",
      "    f1()\n",
      "  File \"C:\\Users\\Sunil Zambare\\AppData\\Local\\Temp\\ipykernel_13608\\2566297461.py\", line 4, in f1\n",
      "    return abc()\n",
      "  File \"C:\\Users\\Sunil Zambare\\AppData\\Local\\Temp\\ipykernel_13608\\2566297461.py\", line 6, in abc\n",
      "    traceback.print_stack()\n"
     ]
    }
   ],
   "source": [
    "import traceback\n",
    "\n",
    "def f1():\n",
    "    return abc()\n",
    "def abc():\n",
    "    traceback.print_stack()\n",
    "    \n",
    "f1()"
   ]
  },
  {
   "cell_type": "markdown",
   "id": "8eb3c67f-d167-49f9-8613-5169931bfa7b",
   "metadata": {},
   "source": [
    "#### 8. Write a Python program to list the special variables used within the language."
   ]
  },
  {
   "cell_type": "code",
   "execution_count": 8,
   "id": "6e28c99c-3b04-4584-b991-32666ff372aa",
   "metadata": {},
   "outputs": [
    {
     "name": "stdout",
     "output_type": "stream",
     "text": [
      "\n",
      "ArithmeticError AssertionError AttributeError BaseException BaseExceptionGroup BlockingIOError BrokenPipeError BufferError\n",
      "BytesWarning ChildProcessError ConnectionAbortedError ConnectionError ConnectionRefusedError ConnectionResetError DeprecationWarning EOFError\n",
      "Ellipsis EncodingWarning EnvironmentError Exception ExceptionGroup False FileExistsError FileNotFoundError\n",
      "FloatingPointError FutureWarning GeneratorExit IOError ImportError ImportWarning In IndentationError\n",
      "IndexError InterruptedError IsADirectoryError KeyError KeyboardInterrupt LookupError MemoryError ModuleNotFoundError\n",
      "NameError None NotADirectoryError NotImplemented NotImplementedError OSError Out OverflowError\n",
      "PendingDeprecationWarning PermissionError ProcessLookupError RecursionError ReferenceError ResourceWarning RuntimeError RuntimeWarning\n",
      "StopAsyncIteration StopIteration SyntaxError SyntaxWarning SystemError SystemExit TabError TimeoutError\n",
      "True TypeError UnboundLocalError UnicodeDecodeError UnicodeEncodeError UnicodeError UnicodeTranslateError UnicodeWarning\n",
      "UserWarning ValueError Warning WindowsError ZeroDivisionError __ __IPYTHON__ ___\n",
      "__build_class__ __builtin__ __builtins__ __debug__ __doc__ __import__ __loader__ __name__\n",
      "__package__ __session__ __spec__ _dh _i _i1 _i2 _i3\n",
      "_i4 _i5 _i6 _i7 _i8 _ih _ii _iii\n",
      "_oh a abc abs aiter all anext any\n",
      "ascii b bin bool breakpoint bytearray bytes callable\n",
      "chr classmethod compile complex copyright credits delattr dict\n",
      "dir display divmod enumerate eval exec execfile exit\n",
      "f1 filter float format frozenset get_ipython getattr globals\n",
      "hasattr hash help hex id identity input int\n",
      "isinstance issubclass iter len license list locals map\n",
      "max memoryview min next obj1 object oct open\n",
      "ord pow print property quit range repr reversed\n",
      "round runfile s set setattr slice sorted staticmethod\n",
      "str sum super traceback tuple type vars zip\n",
      "\n"
     ]
    }
   ],
   "source": [
    "# List of special variables (code copied form official solution):\n",
    "\n",
    "s_var_names = sorted((set(globals().keys()) | set(__builtins__.__dict__.keys())) - set('_ names i'.split()))\n",
    "print()\n",
    "print( '\\n'.join(' '.join(s_var_names[i:i+8]) for i in range(0, len(s_var_names), 8)) )\n",
    "print()"
   ]
  },
  {
   "cell_type": "markdown",
   "id": "9eb14271-e4cb-468f-be23-ddcb5341fd59",
   "metadata": {},
   "source": [
    "#### 9.Write a Python program to get the system time."
   ]
  },
  {
   "cell_type": "code",
   "execution_count": 9,
   "id": "4a65e771-1e5e-4cf8-9ba5-4a2fe4159f49",
   "metadata": {},
   "outputs": [
    {
     "data": {
      "text/plain": [
       "'Wed Feb  5 22:49:52 2025'"
      ]
     },
     "execution_count": 9,
     "metadata": {},
     "output_type": "execute_result"
    }
   ],
   "source": [
    "import time\n",
    "time.ctime()"
   ]
  },
  {
   "cell_type": "markdown",
   "id": "7f9c7195-b04f-478e-b725-b41aceeb7ae8",
   "metadata": {},
   "source": [
    "#### 10.Write a Python program to clear the screen or terminal."
   ]
  },
  {
   "cell_type": "code",
   "execution_count": 12,
   "id": "824eaf84-1ec4-4a90-8c14-c6f042fcbe5d",
   "metadata": {},
   "outputs": [
    {
     "data": {
      "text/plain": [
       "0"
      ]
     },
     "execution_count": 12,
     "metadata": {},
     "output_type": "execute_result"
    }
   ],
   "source": [
    "import os, time\n",
    "\n",
    "os.system('ls')\n",
    "time.sleep(2)\n",
    "#os.system('clear')     #for linux\n",
    "os.system('cls')     #for windows"
   ]
  }
 ],
 "metadata": {
  "kernelspec": {
   "display_name": "Python 3 (ipykernel)",
   "language": "python",
   "name": "python3"
  },
  "language_info": {
   "codemirror_mode": {
    "name": "ipython",
    "version": 3
   },
   "file_extension": ".py",
   "mimetype": "text/x-python",
   "name": "python",
   "nbconvert_exporter": "python",
   "pygments_lexer": "ipython3",
   "version": "3.12.6"
  }
 },
 "nbformat": 4,
 "nbformat_minor": 5
}
