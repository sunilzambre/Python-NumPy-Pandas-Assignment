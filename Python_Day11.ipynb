{
 "cells": [
  {
   "cell_type": "markdown",
   "id": "8536ddb7-c144-46b7-9000-ec27936bf5f0",
   "metadata": {},
   "source": [
    "##### 1.Write a Python program to get the name of the host on which the routine is running."
   ]
  },
  {
   "cell_type": "code",
   "execution_count": 1,
   "id": "22c1cc92-1a87-4f20-8fd1-265d7bebde41",
   "metadata": {},
   "outputs": [
    {
     "data": {
      "text/plain": [
       "'DELL-Inspiron-Sunil24'"
      ]
     },
     "execution_count": 1,
     "metadata": {},
     "output_type": "execute_result"
    }
   ],
   "source": [
    "import socket\n",
    "socket.gethostname()"
   ]
  },
  {
   "cell_type": "markdown",
   "id": "666d8cf6-1350-4ae4-b23f-7d25143c8843",
   "metadata": {},
   "source": [
    "#### 2.Write a Python program to access and print a URL's content to the console"
   ]
  },
  {
   "cell_type": "code",
   "execution_count": 3,
   "id": "8cb43811-2392-4b6a-a64a-e6965e8a9bb7",
   "metadata": {},
   "outputs": [
    {
     "ename": "gaierror",
     "evalue": "[Errno 11001] getaddrinfo failed",
     "output_type": "error",
     "traceback": [
      "\u001b[1;31m---------------------------------------------------------------------------\u001b[0m",
      "\u001b[1;31mgaierror\u001b[0m                                  Traceback (most recent call last)",
      "Cell \u001b[1;32mIn[3], line 3\u001b[0m\n\u001b[0;32m      1\u001b[0m \u001b[38;5;28;01mfrom\u001b[39;00m \u001b[38;5;21;01mhttp\u001b[39;00m\u001b[38;5;21;01m.\u001b[39;00m\u001b[38;5;21;01mclient\u001b[39;00m \u001b[38;5;28;01mimport\u001b[39;00m HTTPConnection\n\u001b[0;32m      2\u001b[0m conn \u001b[38;5;241m=\u001b[39m HTTPConnection(\u001b[38;5;124m\"\u001b[39m\u001b[38;5;124mdrive.google.com/\u001b[39m\u001b[38;5;124m\"\u001b[39m)\n\u001b[1;32m----> 3\u001b[0m \u001b[43mconn\u001b[49m\u001b[38;5;241;43m.\u001b[39;49m\u001b[43mrequest\u001b[49m\u001b[43m(\u001b[49m\u001b[38;5;124;43m\"\u001b[39;49m\u001b[38;5;124;43mGET\u001b[39;49m\u001b[38;5;124;43m\"\u001b[39;49m\u001b[43m,\u001b[49m\u001b[43m \u001b[49m\u001b[38;5;124;43m\"\u001b[39;49m\u001b[38;5;124;43m/\u001b[39;49m\u001b[38;5;124;43m\"\u001b[39;49m\u001b[43m)\u001b[49m  \n\u001b[0;32m      4\u001b[0m result \u001b[38;5;241m=\u001b[39m conn\u001b[38;5;241m.\u001b[39mgetresponse()\n\u001b[0;32m      5\u001b[0m \u001b[38;5;66;03m# retrieves the entire contents.  \u001b[39;00m\n",
      "File \u001b[1;32m~\\AppData\\Local\\Programs\\Python\\Python312\\Lib\\http\\client.py:1336\u001b[0m, in \u001b[0;36mHTTPConnection.request\u001b[1;34m(self, method, url, body, headers, encode_chunked)\u001b[0m\n\u001b[0;32m   1333\u001b[0m \u001b[38;5;28;01mdef\u001b[39;00m \u001b[38;5;21mrequest\u001b[39m(\u001b[38;5;28mself\u001b[39m, method, url, body\u001b[38;5;241m=\u001b[39m\u001b[38;5;28;01mNone\u001b[39;00m, headers\u001b[38;5;241m=\u001b[39m{}, \u001b[38;5;241m*\u001b[39m,\n\u001b[0;32m   1334\u001b[0m             encode_chunked\u001b[38;5;241m=\u001b[39m\u001b[38;5;28;01mFalse\u001b[39;00m):\n\u001b[0;32m   1335\u001b[0m \u001b[38;5;250m    \u001b[39m\u001b[38;5;124;03m\"\"\"Send a complete request to the server.\"\"\"\u001b[39;00m\n\u001b[1;32m-> 1336\u001b[0m     \u001b[38;5;28;43mself\u001b[39;49m\u001b[38;5;241;43m.\u001b[39;49m\u001b[43m_send_request\u001b[49m\u001b[43m(\u001b[49m\u001b[43mmethod\u001b[49m\u001b[43m,\u001b[49m\u001b[43m \u001b[49m\u001b[43murl\u001b[49m\u001b[43m,\u001b[49m\u001b[43m \u001b[49m\u001b[43mbody\u001b[49m\u001b[43m,\u001b[49m\u001b[43m \u001b[49m\u001b[43mheaders\u001b[49m\u001b[43m,\u001b[49m\u001b[43m \u001b[49m\u001b[43mencode_chunked\u001b[49m\u001b[43m)\u001b[49m\n",
      "File \u001b[1;32m~\\AppData\\Local\\Programs\\Python\\Python312\\Lib\\http\\client.py:1382\u001b[0m, in \u001b[0;36mHTTPConnection._send_request\u001b[1;34m(self, method, url, body, headers, encode_chunked)\u001b[0m\n\u001b[0;32m   1378\u001b[0m \u001b[38;5;28;01mif\u001b[39;00m \u001b[38;5;28misinstance\u001b[39m(body, \u001b[38;5;28mstr\u001b[39m):\n\u001b[0;32m   1379\u001b[0m     \u001b[38;5;66;03m# RFC 2616 Section 3.7.1 says that text default has a\u001b[39;00m\n\u001b[0;32m   1380\u001b[0m     \u001b[38;5;66;03m# default charset of iso-8859-1.\u001b[39;00m\n\u001b[0;32m   1381\u001b[0m     body \u001b[38;5;241m=\u001b[39m _encode(body, \u001b[38;5;124m'\u001b[39m\u001b[38;5;124mbody\u001b[39m\u001b[38;5;124m'\u001b[39m)\n\u001b[1;32m-> 1382\u001b[0m \u001b[38;5;28;43mself\u001b[39;49m\u001b[38;5;241;43m.\u001b[39;49m\u001b[43mendheaders\u001b[49m\u001b[43m(\u001b[49m\u001b[43mbody\u001b[49m\u001b[43m,\u001b[49m\u001b[43m \u001b[49m\u001b[43mencode_chunked\u001b[49m\u001b[38;5;241;43m=\u001b[39;49m\u001b[43mencode_chunked\u001b[49m\u001b[43m)\u001b[49m\n",
      "File \u001b[1;32m~\\AppData\\Local\\Programs\\Python\\Python312\\Lib\\http\\client.py:1331\u001b[0m, in \u001b[0;36mHTTPConnection.endheaders\u001b[1;34m(self, message_body, encode_chunked)\u001b[0m\n\u001b[0;32m   1329\u001b[0m \u001b[38;5;28;01melse\u001b[39;00m:\n\u001b[0;32m   1330\u001b[0m     \u001b[38;5;28;01mraise\u001b[39;00m CannotSendHeader()\n\u001b[1;32m-> 1331\u001b[0m \u001b[38;5;28;43mself\u001b[39;49m\u001b[38;5;241;43m.\u001b[39;49m\u001b[43m_send_output\u001b[49m\u001b[43m(\u001b[49m\u001b[43mmessage_body\u001b[49m\u001b[43m,\u001b[49m\u001b[43m \u001b[49m\u001b[43mencode_chunked\u001b[49m\u001b[38;5;241;43m=\u001b[39;49m\u001b[43mencode_chunked\u001b[49m\u001b[43m)\u001b[49m\n",
      "File \u001b[1;32m~\\AppData\\Local\\Programs\\Python\\Python312\\Lib\\http\\client.py:1091\u001b[0m, in \u001b[0;36mHTTPConnection._send_output\u001b[1;34m(self, message_body, encode_chunked)\u001b[0m\n\u001b[0;32m   1089\u001b[0m msg \u001b[38;5;241m=\u001b[39m \u001b[38;5;124mb\u001b[39m\u001b[38;5;124m\"\u001b[39m\u001b[38;5;130;01m\\r\u001b[39;00m\u001b[38;5;130;01m\\n\u001b[39;00m\u001b[38;5;124m\"\u001b[39m\u001b[38;5;241m.\u001b[39mjoin(\u001b[38;5;28mself\u001b[39m\u001b[38;5;241m.\u001b[39m_buffer)\n\u001b[0;32m   1090\u001b[0m \u001b[38;5;28;01mdel\u001b[39;00m \u001b[38;5;28mself\u001b[39m\u001b[38;5;241m.\u001b[39m_buffer[:]\n\u001b[1;32m-> 1091\u001b[0m \u001b[38;5;28;43mself\u001b[39;49m\u001b[38;5;241;43m.\u001b[39;49m\u001b[43msend\u001b[49m\u001b[43m(\u001b[49m\u001b[43mmsg\u001b[49m\u001b[43m)\u001b[49m\n\u001b[0;32m   1093\u001b[0m \u001b[38;5;28;01mif\u001b[39;00m message_body \u001b[38;5;129;01mis\u001b[39;00m \u001b[38;5;129;01mnot\u001b[39;00m \u001b[38;5;28;01mNone\u001b[39;00m:\n\u001b[0;32m   1094\u001b[0m \n\u001b[0;32m   1095\u001b[0m     \u001b[38;5;66;03m# create a consistent interface to message_body\u001b[39;00m\n\u001b[0;32m   1096\u001b[0m     \u001b[38;5;28;01mif\u001b[39;00m \u001b[38;5;28mhasattr\u001b[39m(message_body, \u001b[38;5;124m'\u001b[39m\u001b[38;5;124mread\u001b[39m\u001b[38;5;124m'\u001b[39m):\n\u001b[0;32m   1097\u001b[0m         \u001b[38;5;66;03m# Let file-like take precedence over byte-like.  This\u001b[39;00m\n\u001b[0;32m   1098\u001b[0m         \u001b[38;5;66;03m# is needed to allow the current position of mmap'ed\u001b[39;00m\n\u001b[0;32m   1099\u001b[0m         \u001b[38;5;66;03m# files to be taken into account.\u001b[39;00m\n",
      "File \u001b[1;32m~\\AppData\\Local\\Programs\\Python\\Python312\\Lib\\http\\client.py:1035\u001b[0m, in \u001b[0;36mHTTPConnection.send\u001b[1;34m(self, data)\u001b[0m\n\u001b[0;32m   1033\u001b[0m \u001b[38;5;28;01mif\u001b[39;00m \u001b[38;5;28mself\u001b[39m\u001b[38;5;241m.\u001b[39msock \u001b[38;5;129;01mis\u001b[39;00m \u001b[38;5;28;01mNone\u001b[39;00m:\n\u001b[0;32m   1034\u001b[0m     \u001b[38;5;28;01mif\u001b[39;00m \u001b[38;5;28mself\u001b[39m\u001b[38;5;241m.\u001b[39mauto_open:\n\u001b[1;32m-> 1035\u001b[0m         \u001b[38;5;28;43mself\u001b[39;49m\u001b[38;5;241;43m.\u001b[39;49m\u001b[43mconnect\u001b[49m\u001b[43m(\u001b[49m\u001b[43m)\u001b[49m\n\u001b[0;32m   1036\u001b[0m     \u001b[38;5;28;01melse\u001b[39;00m:\n\u001b[0;32m   1037\u001b[0m         \u001b[38;5;28;01mraise\u001b[39;00m NotConnected()\n",
      "File \u001b[1;32m~\\AppData\\Local\\Programs\\Python\\Python312\\Lib\\http\\client.py:1001\u001b[0m, in \u001b[0;36mHTTPConnection.connect\u001b[1;34m(self)\u001b[0m\n\u001b[0;32m    999\u001b[0m \u001b[38;5;250m\u001b[39m\u001b[38;5;124;03m\"\"\"Connect to the host and port specified in __init__.\"\"\"\u001b[39;00m\n\u001b[0;32m   1000\u001b[0m sys\u001b[38;5;241m.\u001b[39maudit(\u001b[38;5;124m\"\u001b[39m\u001b[38;5;124mhttp.client.connect\u001b[39m\u001b[38;5;124m\"\u001b[39m, \u001b[38;5;28mself\u001b[39m, \u001b[38;5;28mself\u001b[39m\u001b[38;5;241m.\u001b[39mhost, \u001b[38;5;28mself\u001b[39m\u001b[38;5;241m.\u001b[39mport)\n\u001b[1;32m-> 1001\u001b[0m \u001b[38;5;28mself\u001b[39m\u001b[38;5;241m.\u001b[39msock \u001b[38;5;241m=\u001b[39m \u001b[38;5;28;43mself\u001b[39;49m\u001b[38;5;241;43m.\u001b[39;49m\u001b[43m_create_connection\u001b[49m\u001b[43m(\u001b[49m\n\u001b[0;32m   1002\u001b[0m \u001b[43m    \u001b[49m\u001b[43m(\u001b[49m\u001b[38;5;28;43mself\u001b[39;49m\u001b[38;5;241;43m.\u001b[39;49m\u001b[43mhost\u001b[49m\u001b[43m,\u001b[49m\u001b[38;5;28;43mself\u001b[39;49m\u001b[38;5;241;43m.\u001b[39;49m\u001b[43mport\u001b[49m\u001b[43m)\u001b[49m\u001b[43m,\u001b[49m\u001b[43m \u001b[49m\u001b[38;5;28;43mself\u001b[39;49m\u001b[38;5;241;43m.\u001b[39;49m\u001b[43mtimeout\u001b[49m\u001b[43m,\u001b[49m\u001b[43m \u001b[49m\u001b[38;5;28;43mself\u001b[39;49m\u001b[38;5;241;43m.\u001b[39;49m\u001b[43msource_address\u001b[49m\u001b[43m)\u001b[49m\n\u001b[0;32m   1003\u001b[0m \u001b[38;5;66;03m# Might fail in OSs that don't implement TCP_NODELAY\u001b[39;00m\n\u001b[0;32m   1004\u001b[0m \u001b[38;5;28;01mtry\u001b[39;00m:\n",
      "File \u001b[1;32m~\\AppData\\Local\\Programs\\Python\\Python312\\Lib\\socket.py:841\u001b[0m, in \u001b[0;36mcreate_connection\u001b[1;34m(address, timeout, source_address, all_errors)\u001b[0m\n\u001b[0;32m    839\u001b[0m host, port \u001b[38;5;241m=\u001b[39m address\n\u001b[0;32m    840\u001b[0m exceptions \u001b[38;5;241m=\u001b[39m []\n\u001b[1;32m--> 841\u001b[0m \u001b[38;5;28;01mfor\u001b[39;00m res \u001b[38;5;129;01min\u001b[39;00m \u001b[43mgetaddrinfo\u001b[49m\u001b[43m(\u001b[49m\u001b[43mhost\u001b[49m\u001b[43m,\u001b[49m\u001b[43m \u001b[49m\u001b[43mport\u001b[49m\u001b[43m,\u001b[49m\u001b[43m \u001b[49m\u001b[38;5;241;43m0\u001b[39;49m\u001b[43m,\u001b[49m\u001b[43m \u001b[49m\u001b[43mSOCK_STREAM\u001b[49m\u001b[43m)\u001b[49m:\n\u001b[0;32m    842\u001b[0m     af, socktype, proto, canonname, sa \u001b[38;5;241m=\u001b[39m res\n\u001b[0;32m    843\u001b[0m     sock \u001b[38;5;241m=\u001b[39m \u001b[38;5;28;01mNone\u001b[39;00m\n",
      "File \u001b[1;32m~\\AppData\\Local\\Programs\\Python\\Python312\\Lib\\socket.py:976\u001b[0m, in \u001b[0;36mgetaddrinfo\u001b[1;34m(host, port, family, type, proto, flags)\u001b[0m\n\u001b[0;32m    973\u001b[0m \u001b[38;5;66;03m# We override this function since we want to translate the numeric family\u001b[39;00m\n\u001b[0;32m    974\u001b[0m \u001b[38;5;66;03m# and socket type values to enum constants.\u001b[39;00m\n\u001b[0;32m    975\u001b[0m addrlist \u001b[38;5;241m=\u001b[39m []\n\u001b[1;32m--> 976\u001b[0m \u001b[38;5;28;01mfor\u001b[39;00m res \u001b[38;5;129;01min\u001b[39;00m \u001b[43m_socket\u001b[49m\u001b[38;5;241;43m.\u001b[39;49m\u001b[43mgetaddrinfo\u001b[49m\u001b[43m(\u001b[49m\u001b[43mhost\u001b[49m\u001b[43m,\u001b[49m\u001b[43m \u001b[49m\u001b[43mport\u001b[49m\u001b[43m,\u001b[49m\u001b[43m \u001b[49m\u001b[43mfamily\u001b[49m\u001b[43m,\u001b[49m\u001b[43m \u001b[49m\u001b[38;5;28;43mtype\u001b[39;49m\u001b[43m,\u001b[49m\u001b[43m \u001b[49m\u001b[43mproto\u001b[49m\u001b[43m,\u001b[49m\u001b[43m \u001b[49m\u001b[43mflags\u001b[49m\u001b[43m)\u001b[49m:\n\u001b[0;32m    977\u001b[0m     af, socktype, proto, canonname, sa \u001b[38;5;241m=\u001b[39m res\n\u001b[0;32m    978\u001b[0m     addrlist\u001b[38;5;241m.\u001b[39mappend((_intenum_converter(af, AddressFamily),\n\u001b[0;32m    979\u001b[0m                      _intenum_converter(socktype, SocketKind),\n\u001b[0;32m    980\u001b[0m                      proto, canonname, sa))\n",
      "\u001b[1;31mgaierror\u001b[0m: [Errno 11001] getaddrinfo failed"
     ]
    }
   ],
   "source": [
    "from http.client import HTTPConnection\n",
    "conn = HTTPConnection(\"drive.google.com/\")\n",
    "conn.request(\"GET\", \"/\")  \n",
    "result = conn.getresponse()\n",
    "# retrieves the entire contents.  \n",
    "contents = result.read() \n",
    "print(contents)"
   ]
  },
  {
   "cell_type": "markdown",
   "id": "a5e0eb33-9bd0-4e1a-9607-d96bead84d6d",
   "metadata": {},
   "source": [
    "#### 3.Write a Python program to get system command output."
   ]
  },
  {
   "cell_type": "code",
   "execution_count": 4,
   "id": "4b75cec6-556d-445c-918f-4b852e1fb30b",
   "metadata": {},
   "outputs": [
    {
     "name": "stdout",
     "output_type": "stream",
     "text": [
      "Dir command to list file and directory: \n",
      "\n",
      " Volume in drive D is New Volume\n",
      " Volume Serial Number is 3ED3-387A\n",
      "\n",
      " Directory of D:\\Jupyter_Notebook\n",
      "\n",
      "06-02-2025  22:36    <DIR>          .\n",
      "06-02-2025  22:33    <DIR>          .ipynb_checkpoints\n",
      "06-10-2024  16:00            34,462 Churn_Customer-checkpoint.ipynb\n",
      "06-10-2024  15:57           167,169 Churn_Customers.ipynb\n",
      "06-10-2024  15:53           262,766 Churn_Customer_Oredoo.ipynb\n",
      "06-10-2024  16:11           124,822 customer_churn.ipynb\n",
      "30-01-2025  23:18                 0 file1.txt\n",
      "06-10-2024  16:00           172,904 Mammography_checkpoint.ipynb\n",
      "06-10-2024  15:56           172,334 Mammography_end.ipynb\n",
      "25-01-2025  22:00            14,315 Python_Day1.ipynb\n",
      "05-02-2025  22:51            15,433 Python_Day10.ipynb\n",
      "06-02-2025  22:36            13,141 Python_Day11.ipynb\n",
      "26-01-2025  15:52            16,844 Python_Day2.ipynb\n",
      "28-01-2025  21:07            10,073 Python_Day3.ipynb\n",
      "29-01-2025  20:56             9,425 Python_Day4.ipynb\n",
      "30-01-2025  23:35             8,313 Python_Day5.ipynb\n",
      "31-01-2025  23:46            15,372 Python_Day6.ipynb\n",
      "01-02-2025  14:38             9,572 Python_Day7.ipynb\n",
      "02-02-2025  08:27            10,798 Python_Day8.ipynb\n",
      "04-02-2025  23:23             8,454 Python_Day9.ipynb\n",
      "06-10-2024  16:15               408 README.md\n",
      "06-10-2024  16:18           615,989 telecom_customer_churn_prediction.ipynb\n",
      "06-10-2024  16:19        33,889,743 telecom_customer_segmentation.ipynb\n",
      "              21 File(s)     35,572,337 bytes\n",
      "               2 Dir(s)  264,109,547,520 bytes free\n",
      "\n"
     ]
    }
   ],
   "source": [
    "import subprocess\n",
    "\n",
    "# file and directory listing\n",
    "returned_text = subprocess.check_output(\"dir\", shell = True, universal_newlines = True)\n",
    "print(\"Dir command to list file and directory: \\n\")\n",
    "print(returned_text)"
   ]
  },
  {
   "cell_type": "markdown",
   "id": "810efa24-71d4-41e7-9b20-246f11d7edce",
   "metadata": {},
   "source": [
    "#### 4.Write a Python program to extract the filename from a given path."
   ]
  },
  {
   "cell_type": "code",
   "execution_count": 6,
   "id": "d9e7604e-70b4-4c4a-93e8-736d75c76140",
   "metadata": {},
   "outputs": [
    {
     "data": {
      "text/plain": [
       "'file1.txt'"
      ]
     },
     "execution_count": 6,
     "metadata": {},
     "output_type": "execute_result"
    }
   ],
   "source": [
    "import os\n",
    "\n",
    "os.path.basename('file1.txt')"
   ]
  },
  {
   "cell_type": "markdown",
   "id": "4bd0bf05-2b6e-4449-b413-54a9b976cbb9",
   "metadata": {},
   "source": [
    "#### 5.Write a Python program to get the effective group id, effective user id, real group id, a list of supplemental group ids associated with the current process."
   ]
  },
  {
   "cell_type": "code",
   "execution_count": 7,
   "id": "4943395d-b3b2-4215-9dd1-09dd095eb111",
   "metadata": {},
   "outputs": [
    {
     "ename": "AttributeError",
     "evalue": "module 'os' has no attribute 'getegid'",
     "output_type": "error",
     "traceback": [
      "\u001b[1;31m---------------------------------------------------------------------------\u001b[0m",
      "\u001b[1;31mAttributeError\u001b[0m                            Traceback (most recent call last)",
      "Cell \u001b[1;32mIn[7], line 3\u001b[0m\n\u001b[0;32m      1\u001b[0m \u001b[38;5;28;01mimport\u001b[39;00m \u001b[38;5;21;01mos\u001b[39;00m\n\u001b[1;32m----> 3\u001b[0m \u001b[38;5;28mprint\u001b[39m(\u001b[38;5;124m\"\u001b[39m\u001b[38;5;124mEffective group id: \u001b[39m\u001b[38;5;124m\"\u001b[39m,\u001b[43mos\u001b[49m\u001b[38;5;241;43m.\u001b[39;49m\u001b[43mgetegid\u001b[49m())\n\u001b[0;32m      4\u001b[0m \u001b[38;5;28mprint\u001b[39m(\u001b[38;5;124m\"\u001b[39m\u001b[38;5;124mEffective user id: \u001b[39m\u001b[38;5;124m\"\u001b[39m,os\u001b[38;5;241m.\u001b[39mgeteuid())\n\u001b[0;32m      5\u001b[0m \u001b[38;5;28mprint\u001b[39m(\u001b[38;5;124m\"\u001b[39m\u001b[38;5;124mReal group id: \u001b[39m\u001b[38;5;124m\"\u001b[39m,os\u001b[38;5;241m.\u001b[39mgetgid())\n",
      "\u001b[1;31mAttributeError\u001b[0m: module 'os' has no attribute 'getegid'"
     ]
    }
   ],
   "source": [
    "import os\n",
    "\n",
    "print(\"Effective group id: \",os.getegid())\n",
    "print(\"Effective user id: \",os.geteuid())\n",
    "print(\"Real group id: \",os.getgid())\n",
    "print(\"List of supplemental group ids: \",os.getgroups())\n"
   ]
  },
  {
   "cell_type": "markdown",
   "id": "d78ef076-17e0-42c6-b719-16fd19b36238",
   "metadata": {},
   "source": [
    "#### 6.Write a Python program to get the users environment."
   ]
  },
  {
   "cell_type": "code",
   "execution_count": 8,
   "id": "7ee4c518-2396-4b95-b3b8-a2de951815cd",
   "metadata": {},
   "outputs": [
    {
     "name": "stdout",
     "output_type": "stream",
     "text": [
      "environ({'ALLUSERSPROFILE': 'C:\\\\ProgramData', 'APPDATA': 'C:\\\\Users\\\\Sunil Zambare\\\\AppData\\\\Roaming', 'COMMONPROGRAMFILES': 'C:\\\\Program Files\\\\Common Files', 'COMMONPROGRAMFILES(X86)': 'C:\\\\Program Files (x86)\\\\Common Files', 'COMMONPROGRAMW6432': 'C:\\\\Program Files\\\\Common Files', 'COMPUTERNAME': 'DELL-INSPIRON-S', 'COMSPEC': 'C:\\\\Windows\\\\system32\\\\cmd.exe', 'DRIVERDATA': 'C:\\\\Windows\\\\System32\\\\Drivers\\\\DriverData', 'EFC_20704': '1', 'HOMEDRIVE': 'C:', 'HOMEPATH': '\\\\Users\\\\Sunil Zambare', 'IPY_INTERRUPT_EVENT': '2892', 'JPY_INTERRUPT_EVENT': '2892', 'JPY_PARENT_PID': '2980', 'JPY_SESSION_NAME': 'D:\\\\Jupyter_Notebook\\\\Untitled.ipynb', 'LOCALAPPDATA': 'C:\\\\Users\\\\Sunil Zambare\\\\AppData\\\\Local', 'LOGONSERVER': '\\\\\\\\DELL-INSPIRON-S', 'NUMBER_OF_PROCESSORS': '8', 'ONEDRIVE': 'C:\\\\Users\\\\Sunil Zambare\\\\OneDrive', 'ONEDRIVECONSUMER': 'C:\\\\Users\\\\Sunil Zambare\\\\OneDrive', 'OS': 'Windows_NT', 'PATH': 'C:\\\\Windows\\\\system32;C:\\\\Windows;C:\\\\Windows\\\\System32\\\\Wbem;C:\\\\Windows\\\\System32\\\\WindowsPowerShell\\\\v1.0\\\\;C:\\\\Windows\\\\System32\\\\OpenSSH\\\\;C:\\\\Program Files\\\\dotnet\\\\;C:\\\\Users\\\\Sunil Zambare\\\\AppData\\\\Local\\\\Programs\\\\Python\\\\Python312\\\\Scripts\\\\;C:\\\\Users\\\\Sunil Zambare\\\\AppData\\\\Local\\\\Programs\\\\Python\\\\Python312\\\\;C:\\\\Users\\\\Sunil Zambare\\\\AppData\\\\Local\\\\Microsoft\\\\WindowsApps;', 'PATHEXT': '.COM;.EXE;.BAT;.CMD;.VBS;.VBE;.JS;.JSE;.WSF;.WSH;.MSC', 'PROCESSOR_ARCHITECTURE': 'AMD64', 'PROCESSOR_IDENTIFIER': 'AMD64 Family 23 Model 160 Stepping 0, AuthenticAMD', 'PROCESSOR_LEVEL': '23', 'PROCESSOR_REVISION': 'a000', 'PROGRAMDATA': 'C:\\\\ProgramData', 'PROGRAMFILES': 'C:\\\\Program Files', 'PROGRAMFILES(X86)': 'C:\\\\Program Files (x86)', 'PROGRAMW6432': 'C:\\\\Program Files', 'PROMPT': '$P$G', 'PSMODULEPATH': 'C:\\\\Program Files\\\\WindowsPowerShell\\\\Modules;C:\\\\Windows\\\\system32\\\\WindowsPowerShell\\\\v1.0\\\\Modules', 'PUBLIC': 'C:\\\\Users\\\\Public', 'SESSIONNAME': 'Console', 'SYSTEMDRIVE': 'C:', 'SYSTEMROOT': 'C:\\\\Windows', 'TEMP': 'C:\\\\Users\\\\SUNILZ~1\\\\AppData\\\\Local\\\\Temp', 'TMP': 'C:\\\\Users\\\\SUNILZ~1\\\\AppData\\\\Local\\\\Temp', 'USERDOMAIN': 'DELL-INSPIRON-S', 'USERDOMAIN_ROAMINGPROFILE': 'DELL-INSPIRON-S', 'USERNAME': 'Sunil Zambare', 'USERPROFILE': 'C:\\\\Users\\\\Sunil Zambare', 'WINDIR': 'C:\\\\Windows', 'PYDEVD_USE_FRAME_EVAL': 'NO', 'TERM': 'xterm-color', 'CLICOLOR': '1', 'FORCE_COLOR': '1', 'CLICOLOR_FORCE': '1', 'PAGER': 'cat', 'GIT_PAGER': 'cat', 'MPLBACKEND': 'module://matplotlib_inline.backend_inline'})\n"
     ]
    }
   ],
   "source": [
    "import os\n",
    "\n",
    "print(os.environ)"
   ]
  },
  {
   "cell_type": "markdown",
   "id": "13e60063-fc7b-4428-ac92-b127918cdb04",
   "metadata": {},
   "source": [
    "#### 7.Write a Python program to divide a path on the extension separator."
   ]
  },
  {
   "cell_type": "code",
   "execution_count": 9,
   "id": "941219e3-fcdc-4a41-a32f-accda67bdc24",
   "metadata": {},
   "outputs": [
    {
     "name": "stdout",
     "output_type": "stream",
     "text": [
      "\"abc.txt\" : ('abc', '.txt')\n",
      "\"filename\" : ('filename', '')\n",
      "\"/user/system/test.txt\" : ('/user/system/test', '.txt')\n",
      "\"/\" : ('/', '')\n",
      "\"\" : ('', '')\n"
     ]
    }
   ],
   "source": [
    "import os.path\n",
    "\n",
    "for path in [ 'abc.txt', 'filename', '/user/system/test.txt', '/', '' ]:\n",
    "    print('\"%s\" :' % path, os.path.splitext(path))"
   ]
  },
  {
   "cell_type": "markdown",
   "id": "905be85a-74a3-4a2c-a978-0fae65e4624b",
   "metadata": {},
   "source": [
    "#### 8. Write a Python program to retrieve file properties."
   ]
  },
  {
   "cell_type": "code",
   "execution_count": 10,
   "id": "15f99267-c7ca-430e-8108-362ee35c62be",
   "metadata": {},
   "outputs": [
    {
     "ename": "NameError",
     "evalue": "name '__file__' is not defined",
     "output_type": "error",
     "traceback": [
      "\u001b[1;31m---------------------------------------------------------------------------\u001b[0m",
      "\u001b[1;31mNameError\u001b[0m                                 Traceback (most recent call last)",
      "Cell \u001b[1;32mIn[10], line 4\u001b[0m\n\u001b[0;32m      1\u001b[0m \u001b[38;5;28;01mimport\u001b[39;00m \u001b[38;5;21;01mos\u001b[39;00m\u001b[38;5;21;01m.\u001b[39;00m\u001b[38;5;21;01mpath\u001b[39;00m\n\u001b[0;32m      2\u001b[0m \u001b[38;5;28;01mimport\u001b[39;00m \u001b[38;5;21;01mtime\u001b[39;00m\n\u001b[1;32m----> 4\u001b[0m \u001b[38;5;28mprint\u001b[39m(\u001b[38;5;124m'\u001b[39m\u001b[38;5;124mFile         :\u001b[39m\u001b[38;5;124m'\u001b[39m, \u001b[38;5;18;43m__file__\u001b[39;49m)\n\u001b[0;32m      5\u001b[0m \u001b[38;5;28mprint\u001b[39m(\u001b[38;5;124m'\u001b[39m\u001b[38;5;124mAccess time  :\u001b[39m\u001b[38;5;124m'\u001b[39m, time\u001b[38;5;241m.\u001b[39mctime(os\u001b[38;5;241m.\u001b[39mpath\u001b[38;5;241m.\u001b[39mgetatime(\u001b[38;5;18m__file__\u001b[39m)))\n\u001b[0;32m      6\u001b[0m \u001b[38;5;28mprint\u001b[39m(\u001b[38;5;124m'\u001b[39m\u001b[38;5;124mModified time:\u001b[39m\u001b[38;5;124m'\u001b[39m, time\u001b[38;5;241m.\u001b[39mctime(os\u001b[38;5;241m.\u001b[39mpath\u001b[38;5;241m.\u001b[39mgetmtime(\u001b[38;5;18m__file__\u001b[39m)))\n",
      "\u001b[1;31mNameError\u001b[0m: name '__file__' is not defined"
     ]
    }
   ],
   "source": [
    "import os.path\n",
    "import time\n",
    "\n",
    "print('File         :', __file__)\n",
    "print('Access time  :', time.ctime(os.path.getatime(__file__)))\n",
    "print('Modified time:', time.ctime(os.path.getmtime(__file__)))\n",
    "print('Change time  :', time.ctime(os.path.getctime(__file__)))\n",
    "print('Size         :', os.path.getsize(__file__))"
   ]
  },
  {
   "cell_type": "markdown",
   "id": "0d8ac103-c388-4569-820f-c5b5ad6be8c6",
   "metadata": {},
   "source": [
    "#### 9.Write a Python program to find path refers to a file or directory when you encounter a path name."
   ]
  },
  {
   "cell_type": "code",
   "execution_count": 11,
   "id": "14f1acb4-be0a-4af2-8b36-751b971d89e4",
   "metadata": {},
   "outputs": [
    {
     "ename": "NameError",
     "evalue": "name '__file__' is not defined",
     "output_type": "error",
     "traceback": [
      "\u001b[1;31m---------------------------------------------------------------------------\u001b[0m",
      "\u001b[1;31mNameError\u001b[0m                                 Traceback (most recent call last)",
      "Cell \u001b[1;32mIn[11], line 3\u001b[0m\n\u001b[0;32m      1\u001b[0m \u001b[38;5;28;01mimport\u001b[39;00m \u001b[38;5;21;01mos\u001b[39;00m\u001b[38;5;21;01m.\u001b[39;00m\u001b[38;5;21;01mpath\u001b[39;00m\n\u001b[1;32m----> 3\u001b[0m \u001b[38;5;28;01mfor\u001b[39;00m file \u001b[38;5;129;01min\u001b[39;00m [ \u001b[38;5;18;43m__file__\u001b[39;49m, os\u001b[38;5;241m.\u001b[39mpath\u001b[38;5;241m.\u001b[39mdirname(\u001b[38;5;18m__file__\u001b[39m), \u001b[38;5;124m'\u001b[39m\u001b[38;5;124m/\u001b[39m\u001b[38;5;124m'\u001b[39m, \u001b[38;5;124m'\u001b[39m\u001b[38;5;124m./broken_link\u001b[39m\u001b[38;5;124m'\u001b[39m]:\n\u001b[0;32m      4\u001b[0m     \u001b[38;5;28mprint\u001b[39m(\u001b[38;5;124m'\u001b[39m\u001b[38;5;124mFile        :\u001b[39m\u001b[38;5;124m'\u001b[39m, file)\n\u001b[0;32m      5\u001b[0m     \u001b[38;5;28mprint\u001b[39m(\u001b[38;5;124m'\u001b[39m\u001b[38;5;124mAbsolute    :\u001b[39m\u001b[38;5;124m'\u001b[39m, os\u001b[38;5;241m.\u001b[39mpath\u001b[38;5;241m.\u001b[39misabs(file))\n",
      "\u001b[1;31mNameError\u001b[0m: name '__file__' is not defined"
     ]
    }
   ],
   "source": [
    "import os.path\n",
    "\n",
    "for file in [ __file__, os.path.dirname(__file__), '/', './broken_link']:\n",
    "    print('File        :', file)\n",
    "    print('Absolute    :', os.path.isabs(file))\n",
    "    print('Is File?    :', os.path.isfile(file))\n",
    "    print('Is Dir?     :', os.path.isdir(file))\n",
    "    print('Is Link?    :', os.path.islink(file))\n",
    "    print('Exists?     :', os.path.exists(file))\n",
    "    print('Link Exists?:', os.path.lexists(file))"
   ]
  },
  {
   "cell_type": "markdown",
   "id": "c5104d57-221b-4546-925d-9a214fe8243e",
   "metadata": {},
   "source": [
    "#### 10.Write a Python program to check if a number is positive, negative or zero."
   ]
  },
  {
   "cell_type": "code",
   "execution_count": 12,
   "id": "6fff991c-d6ce-43e3-984b-41e394dbbf62",
   "metadata": {},
   "outputs": [
    {
     "data": {
      "text/plain": [
       "'Positive'"
      ]
     },
     "execution_count": 12,
     "metadata": {},
     "output_type": "execute_result"
    }
   ],
   "source": [
    "def check_number(n):\n",
    "    if n > 0:\n",
    "        return 'Positive'\n",
    "    elif n < 0:\n",
    "        return 'Negative'\n",
    "    else:\n",
    "        return 'Zero'\n",
    "    \n",
    "check_number(4)"
   ]
  },
  {
   "cell_type": "markdown",
   "id": "d2b6ca72-e517-4a03-9c78-7feea774547d",
   "metadata": {},
   "source": [
    "#### 11.Write a Python program to get numbers divisible by fifteen from a list using an anonymous function."
   ]
  },
  {
   "cell_type": "code",
   "execution_count": 13,
   "id": "8529adf7-905a-48c2-a5d6-18bddf73b98e",
   "metadata": {},
   "outputs": [
    {
     "data": {
      "text/plain": [
       "[45, 60, 105]"
      ]
     },
     "execution_count": 13,
     "metadata": {},
     "output_type": "execute_result"
    }
   ],
   "source": [
    "num_list = [45, 55, 60, 37, 100, 105, 220]\n",
    "\n",
    "list(filter(lambda x: (x % 15 == 0), num_list))"
   ]
  },
  {
   "cell_type": "markdown",
   "id": "64b44d75-e0aa-47fc-a89c-e45b3c48d479",
   "metadata": {},
   "source": [
    "#### 12.Write a Python program to make file lists from current directory using a wildcard."
   ]
  },
  {
   "cell_type": "code",
   "execution_count": 14,
   "id": "ad7498c9-cc36-4588-b3fc-1a5033ea2dc3",
   "metadata": {},
   "outputs": [
    {
     "data": {
      "text/plain": [
       "['Churn_Customer-checkpoint.ipynb',\n",
       " 'Churn_Customers.ipynb',\n",
       " 'Churn_Customer_Oredoo.ipynb',\n",
       " 'customer_churn.ipynb',\n",
       " 'file1.txt',\n",
       " 'Mammography_checkpoint.ipynb',\n",
       " 'Mammography_end.ipynb',\n",
       " 'Python_Day1.ipynb',\n",
       " 'Python_Day10.ipynb',\n",
       " 'Python_Day11.ipynb',\n",
       " 'Python_Day2.ipynb',\n",
       " 'Python_Day3.ipynb',\n",
       " 'Python_Day4.ipynb',\n",
       " 'Python_Day5.ipynb',\n",
       " 'Python_Day6.ipynb',\n",
       " 'Python_Day7.ipynb',\n",
       " 'Python_Day8.ipynb',\n",
       " 'Python_Day9.ipynb',\n",
       " 'README.md',\n",
       " 'telecom_customer_churn_prediction.ipynb',\n",
       " 'telecom_customer_segmentation.ipynb']"
      ]
     },
     "execution_count": 14,
     "metadata": {},
     "output_type": "execute_result"
    }
   ],
   "source": [
    "import glob\n",
    "\n",
    "file_lists = glob.glob('*.*')\n",
    "file_lists"
   ]
  },
  {
   "cell_type": "markdown",
   "id": "9289d12e-37eb-48e5-884c-bde9d49d6c21",
   "metadata": {},
   "source": [
    "#### 13.Write a Python program to remove the first item from a specified list."
   ]
  },
  {
   "cell_type": "code",
   "execution_count": 15,
   "id": "fc74eee9-2206-425a-8cec-ad183bf2989a",
   "metadata": {},
   "outputs": [
    {
     "data": {
      "text/plain": [
       "[2, 3, 4, 5, 6]"
      ]
     },
     "execution_count": 15,
     "metadata": {},
     "output_type": "execute_result"
    }
   ],
   "source": [
    "\n",
    "list1 = [ 1, 2, 3, 4, 5, 6 ] \n",
    "\n",
    "list1.pop(0)    # pop() removes and returns last value from the list or the given index value.\n",
    "list1"
   ]
  },
  {
   "cell_type": "code",
   "execution_count": 16,
   "id": "4a305e5b-581f-4df7-96e5-a83a2ba50c8e",
   "metadata": {},
   "outputs": [
    {
     "data": {
      "text/plain": [
       "[2, 3, 4, 5, 6]"
      ]
     },
     "execution_count": 16,
     "metadata": {},
     "output_type": "execute_result"
    }
   ],
   "source": [
    "list1 = [ 1, 2, 3, 4, 5, 6 ] \n",
    "del list1[0]\n",
    "list1"
   ]
  },
  {
   "cell_type": "markdown",
   "id": "c16feb82-2437-4f00-a7d5-d63a09796cde",
   "metadata": {},
   "source": [
    "#### 14.Write a Python program to input a number, if it is not a number generate an error message."
   ]
  },
  {
   "cell_type": "code",
   "execution_count": 17,
   "id": "eb7f62f4-5376-41ae-9560-771b135fed6e",
   "metadata": {},
   "outputs": [
    {
     "name": "stdin",
     "output_type": "stream",
     "text": [
      "Enter a number:  45\n"
     ]
    },
    {
     "name": "stdout",
     "output_type": "stream",
     "text": [
      "Input number is: 45.0\n"
     ]
    }
   ],
   "source": [
    "while True:\n",
    "    try:  \n",
    "        a = float(input('Enter a number: '))\n",
    "        print('Input number is:', a)\n",
    "        break\n",
    "    except ValueError:\n",
    "        print('Provided input is not a number. Please try again!')"
   ]
  },
  {
   "cell_type": "markdown",
   "id": "d7117f73-6d20-4aeb-be69-b4dc44ddbecb",
   "metadata": {},
   "source": [
    "#### 15.Write a Python program to filter the positive numbers from a list."
   ]
  },
  {
   "cell_type": "code",
   "execution_count": 18,
   "id": "f735dcf3-53d1-43d0-a9ff-e81c580e5d82",
   "metadata": {},
   "outputs": [
    {
     "name": "stdout",
     "output_type": "stream",
     "text": [
      "Extracted positive numbers: [34, 1]\n"
     ]
    }
   ],
   "source": [
    "list1 = [34, 1, 0, -23]\n",
    "\n",
    "positive_num = [l for l in list1 if l > 0]\n",
    "print('Extracted positive numbers:', positive_num)"
   ]
  },
  {
   "cell_type": "markdown",
   "id": "ef032c18-122f-45c4-adc6-b2ce4818506a",
   "metadata": {},
   "source": [
    "#### 16.Write a Python program to compute the product of a list of integers (without using for loop)."
   ]
  },
  {
   "cell_type": "code",
   "execution_count": 19,
   "id": "ec2a0187-7138-4b9e-84ab-4a9e6b638316",
   "metadata": {},
   "outputs": [
    {
     "data": {
      "text/plain": [
       "6000"
      ]
     },
     "execution_count": 19,
     "metadata": {},
     "output_type": "execute_result"
    }
   ],
   "source": [
    "from functools import reduce\n",
    "\n",
    "nums = [10, 20, 30]\n",
    "product = lambda a, b: a * b\n",
    "reduce(product, nums)        "
   ]
  },
  {
   "cell_type": "markdown",
   "id": "525a2c19-1d43-4e93-9f71-5193902add7d",
   "metadata": {},
   "source": [
    "The reduce() function accepts a function and a sequence and returns a single value calculated as follows:\n",
    "\n",
    "Initially, the function is called with the first two items from the sequence and the result is returned.\n",
    "The function is then called again with the result obtained in step 1 and the next value in the sequence. This process keeps repeating until there are items in the sequence.\n",
    "reduce(function, sequence[, initial]) -> value"
   ]
  },
  {
   "cell_type": "markdown",
   "id": "d896f94f-0cfb-4e27-b3fe-9d366d4ce9de",
   "metadata": {},
   "source": [
    "#### 17.Write a Python program to print Unicode characters."
   ]
  },
  {
   "cell_type": "code",
   "execution_count": 20,
   "id": "6c77fade-1b9e-43d5-b932-17c61117ea62",
   "metadata": {},
   "outputs": [
    {
     "name": "stdout",
     "output_type": "stream",
     "text": [
      "Python Exercises - w3resource\n"
     ]
    }
   ],
   "source": [
    "unicode = u'\\u0050\\u0079\\u0074\\u0068\\u006f\\u006e \\u0045\\u0078\\u0065\\u0072\\u0063\\u0069\\u0073\\u0065\\u0073 \\u002d \\u0077\\u0033\\u0072\\u0065\\u0073\\u006f\\u0075\\u0072\\u0063\\u0065'\n",
    "print(unicode)"
   ]
  },
  {
   "cell_type": "markdown",
   "id": "f1210b3e-d30e-474c-b1fa-685dac4b78cf",
   "metadata": {},
   "source": [
    "#### 18. Write a Python program to prove that two string variables of same value point same memory location."
   ]
  },
  {
   "cell_type": "code",
   "execution_count": 21,
   "id": "91207c5b-66eb-46cb-8540-7b48dd92b78a",
   "metadata": {},
   "outputs": [
    {
     "name": "stdout",
     "output_type": "stream",
     "text": [
      "Memory location of str1: 0x7fffffb11110\n",
      "Memory location of str2: 0x7fffffb11110\n"
     ]
    }
   ],
   "source": [
    "str1 = 'Python'\n",
    "str2 = 'Python'\n",
    "\n",
    "print('Memory location of str1:', hex(id(str1)))\n",
    "print('Memory location of str2:', hex(id(str2)))"
   ]
  },
  {
   "cell_type": "markdown",
   "id": "0c802ec3-6b69-47ea-8499-f9af2d8b432c",
   "metadata": {},
   "source": [
    "#### 19.Write a Python program to create a bytearray from a list."
   ]
  },
  {
   "cell_type": "code",
   "execution_count": 22,
   "id": "2129d42c-a9f6-4cf9-ba92-16cdc7062945",
   "metadata": {},
   "outputs": [
    {
     "data": {
      "text/plain": [
       "bytearray(b'\\n\\x148#\\x11c')"
      ]
     },
     "execution_count": 22,
     "metadata": {},
     "output_type": "execute_result"
    }
   ],
   "source": [
    "nums = [10, 20, 56, 35, 17, 99]\n",
    "\n",
    "b = bytearray(nums)\n",
    "b\n",
    "# for x in b:\n",
    "#     print(x)"
   ]
  },
  {
   "cell_type": "markdown",
   "id": "956190bc-4354-4ba1-a351-e1d6abccbf21",
   "metadata": {},
   "source": [
    "##### 20.Write a Python program to display a floating number in specified numbers."
   ]
  },
  {
   "cell_type": "code",
   "execution_count": 23,
   "id": "6b0243f7-0818-4d40-a497-6094f5ad0f70",
   "metadata": {},
   "outputs": [
    {
     "name": "stdout",
     "output_type": "stream",
     "text": [
      "3\n",
      "3.1\n",
      "3.14\n"
     ]
    }
   ],
   "source": [
    "pi = 3.1416\n",
    "\n",
    "print('%.0f' %pi)\n",
    "print('%.1f' %pi)\n",
    "print('%.2f' %pi)"
   ]
  },
  {
   "cell_type": "code",
   "execution_count": null,
   "id": "a1c9bbf9-39f2-45d7-bd51-2c631c24b42a",
   "metadata": {},
   "outputs": [],
   "source": []
  }
 ],
 "metadata": {
  "kernelspec": {
   "display_name": "Python 3 (ipykernel)",
   "language": "python",
   "name": "python3"
  },
  "language_info": {
   "codemirror_mode": {
    "name": "ipython",
    "version": 3
   },
   "file_extension": ".py",
   "mimetype": "text/x-python",
   "name": "python",
   "nbconvert_exporter": "python",
   "pygments_lexer": "ipython3",
   "version": "3.12.6"
  }
 },
 "nbformat": 4,
 "nbformat_minor": 5
}
