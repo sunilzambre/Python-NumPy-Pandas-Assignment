{
 "cells": [
  {
   "cell_type": "markdown",
   "id": "19f18a64-9e98-4822-9c04-9359aca0bb02",
   "metadata": {},
   "source": [
    "#### 1.Write a Python program to format a specified string to limit the number of characters to 6."
   ]
  },
  {
   "cell_type": "code",
   "execution_count": 1,
   "id": "e5482a8b-8813-4164-93c1-25c861157423",
   "metadata": {},
   "outputs": [],
   "source": [
    "string1='Little Wonder School'"
   ]
  },
  {
   "cell_type": "code",
   "execution_count": 2,
   "id": "d321a821-35cf-4ebf-bb2d-a0390710596a",
   "metadata": {},
   "outputs": [
    {
     "data": {
      "text/plain": [
       "'Little Wonder School'"
      ]
     },
     "execution_count": 2,
     "metadata": {},
     "output_type": "execute_result"
    }
   ],
   "source": [
    "string1"
   ]
  },
  {
   "cell_type": "code",
   "execution_count": 4,
   "id": "1a67fa78-f734-41f6-865b-471eea3a478c",
   "metadata": {},
   "outputs": [
    {
     "name": "stdout",
     "output_type": "stream",
     "text": [
      "Little\n"
     ]
    }
   ],
   "source": [
    "print(string1[:6])"
   ]
  },
  {
   "cell_type": "code",
   "execution_count": 5,
   "id": "2fde9ed7-1134-4a56-af0c-21c09285cb42",
   "metadata": {},
   "outputs": [],
   "source": [
    "string2='123456789'"
   ]
  },
  {
   "cell_type": "code",
   "execution_count": 6,
   "id": "c91b948f-f575-4a4c-b9f9-7a445ceaac68",
   "metadata": {},
   "outputs": [
    {
     "name": "stdout",
     "output_type": "stream",
     "text": [
      "123456\n"
     ]
    }
   ],
   "source": [
    "print('%.6s' % string2)"
   ]
  },
  {
   "cell_type": "code",
   "execution_count": 8,
   "id": "ec7bc600-3a8a-4059-8afb-9a8a49ba37f4",
   "metadata": {},
   "outputs": [
    {
     "name": "stdout",
     "output_type": "stream",
     "text": [
      "1234567\n"
     ]
    }
   ],
   "source": [
    "print('%.7s' % string2)"
   ]
  },
  {
   "cell_type": "markdown",
   "id": "6b4bf746-ee49-483d-acf4-d95438ab1585",
   "metadata": {},
   "source": [
    "#### 2.Write a Python program to determine if variable is defined or not."
   ]
  },
  {
   "cell_type": "code",
   "execution_count": 9,
   "id": "57d01b33-1e7e-4abb-a508-3bdfe2da2900",
   "metadata": {},
   "outputs": [
    {
     "name": "stdout",
     "output_type": "stream",
     "text": [
      "Variable is defined.\n",
      "Variable is not defined.\n"
     ]
    }
   ],
   "source": [
    "try:\n",
    "    x = 1\n",
    "except NameError:\n",
    "    print('Variable is not defined.')\n",
    "else:\n",
    "    print('Variable is defined.')\n",
    "    \n",
    "try:\n",
    "    y\n",
    "except NameError:\n",
    "    print('Variable is not defined.')\n",
    "else:\n",
    "    print('Variable is defined.')"
   ]
  },
  {
   "cell_type": "markdown",
   "id": "9a1b91f0-285e-481c-9130-37f342c02125",
   "metadata": {},
   "source": [
    "#### 3.Write a Python program to empty a variable without destroying it."
   ]
  },
  {
   "cell_type": "code",
   "execution_count": 12,
   "id": "5914f269-d15e-4a7e-a463-f68a13b2693c",
   "metadata": {},
   "outputs": [
    {
     "name": "stdout",
     "output_type": "stream",
     "text": [
      "0\n",
      "{}\n",
      "[]\n",
      "()\n"
     ]
    }
   ],
   "source": [
    "n = 40                            \n",
    "d = {\"x\" : 700}\n",
    "l = [1, 3, 5, 7]\n",
    "t= (5, 7, 8)\n",
    "\n",
    "print(type(n)())\n",
    "print(type(d)())\n",
    "print(type(l)())\n",
    "print(type(t)()) "
   ]
  },
  {
   "cell_type": "markdown",
   "id": "d9093622-8290-440d-9881-8e83f832a693",
   "metadata": {},
   "source": [
    "#### 4.Write a Python program to determine the largest and smallest integers, longs, floats."
   ]
  },
  {
   "cell_type": "code",
   "execution_count": 13,
   "id": "df65d62a-d39d-41fa-916a-1b2722496565",
   "metadata": {},
   "outputs": [
    {
     "name": "stdout",
     "output_type": "stream",
     "text": [
      "Float value information: sys.float_info(max=1.7976931348623157e+308, max_exp=1024, max_10_exp=308, min=2.2250738585072014e-308, min_exp=-1021, min_10_exp=-307, dig=15, mant_dig=53, epsilon=2.220446049250313e-16, radix=2, rounds=1)\n",
      "\n",
      "Integer value information: sys.int_info(bits_per_digit=30, sizeof_digit=4, default_max_str_digits=4300, str_digits_check_threshold=640)\n",
      "\n",
      "Maximum size of an integer: 9223372036854775807\n"
     ]
    }
   ],
   "source": [
    "import sys\n",
    "\n",
    "print(\"Float value information:\", sys.float_info)\n",
    "print(\"\\nInteger value information:\", sys.int_info)\n",
    "print(\"\\nMaximum size of an integer:\", sys.maxsize) "
   ]
  },
  {
   "cell_type": "markdown",
   "id": "d30a20e3-f217-4406-8ebe-60f0889b72f1",
   "metadata": {},
   "source": [
    "#### 5.Write a Python program to check if multiple variables have the same value."
   ]
  },
  {
   "cell_type": "code",
   "execution_count": 14,
   "id": "52546391-995f-495b-a717-cb7aee03c21d",
   "metadata": {},
   "outputs": [
    {
     "name": "stdout",
     "output_type": "stream",
     "text": [
      "All variables have same value.\n"
     ]
    }
   ],
   "source": [
    "x = 10\n",
    "y = 10\n",
    "z = 10\n",
    "\n",
    "if x == y == z:\n",
    "    print('All variables have same value.')\n",
    "else:\n",
    "    print('All variables do not have same vlaue.')"
   ]
  },
  {
   "cell_type": "markdown",
   "id": "59b123e1-4893-46a3-9d39-0ec63c87fb9b",
   "metadata": {},
   "source": [
    "#### 6.Write a Python program to sum of all counts in a collections?"
   ]
  },
  {
   "cell_type": "code",
   "execution_count": 15,
   "id": "8db92377-6438-4da5-86e5-8da6ce766255",
   "metadata": {},
   "outputs": [
    {
     "data": {
      "text/plain": [
       "dict_values([2, 2, 3, 1, 1])"
      ]
     },
     "execution_count": 15,
     "metadata": {},
     "output_type": "execute_result"
    }
   ],
   "source": [
    "import collections\n",
    "\n",
    "num = [2, 2, 4, 6, 6, 8, 6, 10, 4]\n",
    "collections.Counter(num).values()"
   ]
  },
  {
   "cell_type": "markdown",
   "id": "df0697e1-9dd6-4942-8944-447f0bf84b36",
   "metadata": {},
   "source": [
    "#### 7.Write a Python program to get the actual module object for a given object."
   ]
  },
  {
   "cell_type": "code",
   "execution_count": 16,
   "id": "5d250a62-e1a5-49e2-b28c-d0368978b111",
   "metadata": {},
   "outputs": [
    {
     "name": "stdout",
     "output_type": "stream",
     "text": [
      "<module 'math' (built-in)>\n"
     ]
    }
   ],
   "source": [
    "from inspect import getmodule\n",
    "from math import sqrt\n",
    "\n",
    "print(getmodule(sqrt))"
   ]
  },
  {
   "cell_type": "markdown",
   "id": "f4c5ac28-5415-43b5-8039-b4c293867816",
   "metadata": {},
   "source": [
    "#### 8.Write a Python program to check if an integer fits in 64 bits."
   ]
  },
  {
   "cell_type": "code",
   "execution_count": 17,
   "id": "7c335f73-5ec4-404d-82bd-bae125bb9b29",
   "metadata": {},
   "outputs": [
    {
     "name": "stdout",
     "output_type": "stream",
     "text": [
      "64\n",
      "64\n"
     ]
    }
   ],
   "source": [
    "int_val = 30\n",
    "if int_val.bit_length() <= 63:\n",
    "    print((-2 ** 63).bit_length())\n",
    "    print((2 ** 63).bit_length())"
   ]
  },
  {
   "cell_type": "markdown",
   "id": "d9b6f1ed-39e9-4291-8003-9c3853d97493",
   "metadata": {},
   "source": [
    "#### 9.Write a Python program to check if lowercase letters exist in a string."
   ]
  },
  {
   "cell_type": "code",
   "execution_count": 18,
   "id": "050e1c0b-1ede-4da1-b702-4aa63589e77e",
   "metadata": {},
   "outputs": [
    {
     "data": {
      "text/plain": [
       "True"
      ]
     },
     "execution_count": 18,
     "metadata": {},
     "output_type": "execute_result"
    }
   ],
   "source": [
    "str1 = 'PreciusEVENT'              \n",
    "\n",
    "any(c.islower() for c in str1)      # Return True if bool(c) is True for any c in the iterable."
   ]
  },
  {
   "cell_type": "markdown",
   "id": "54f1e330-5ff7-4c8e-b710-d0c976437541",
   "metadata": {},
   "source": [
    "#### 10.Write a Python program to add leading zeroes to a string."
   ]
  },
  {
   "cell_type": "code",
   "execution_count": 19,
   "id": "fda19636-7bff-42a1-bdac-f98eb11b4f34",
   "metadata": {},
   "outputs": [
    {
     "name": "stdout",
     "output_type": "stream",
     "text": [
      "144.44000\n",
      "000144.44\n"
     ]
    }
   ],
   "source": [
    "str1 = '144.44'\n",
    "\n",
    "print(str1.ljust(9, '0'))\n",
    "print(str1.rjust(9, '0'))"
   ]
  },
  {
   "cell_type": "markdown",
   "id": "aab07c78-a558-4b24-8502-33a3c036325b",
   "metadata": {},
   "source": [
    "#### 11.Write a Python program to use double quotes to display strings."
   ]
  },
  {
   "cell_type": "code",
   "execution_count": 20,
   "id": "8d220f58-4bd1-46ad-8429-fa3604332051",
   "metadata": {},
   "outputs": [
    {
     "name": "stdout",
     "output_type": "stream",
     "text": [
      "\"Using double quotes to display string.\"\n"
     ]
    }
   ],
   "source": [
    "print('\"Using double quotes to display string.\"')"
   ]
  },
  {
   "cell_type": "code",
   "execution_count": 21,
   "id": "ffbedb00-8a07-424b-929a-d5e3fdb17795",
   "metadata": {},
   "outputs": [
    {
     "data": {
      "text/plain": [
       "'{\"Rahul\": 1, \"Santosh\": 3, \"Sunil\": 2}'"
      ]
     },
     "execution_count": 21,
     "metadata": {},
     "output_type": "execute_result"
    }
   ],
   "source": [
    "import json\n",
    "json.dumps({'Rahul': 1, 'Santosh': 3, 'Sunil': 2})"
   ]
  }
 ],
 "metadata": {
  "kernelspec": {
   "display_name": "Python 3 (ipykernel)",
   "language": "python",
   "name": "python3"
  },
  "language_info": {
   "codemirror_mode": {
    "name": "ipython",
    "version": 3
   },
   "file_extension": ".py",
   "mimetype": "text/x-python",
   "name": "python",
   "nbconvert_exporter": "python",
   "pygments_lexer": "ipython3",
   "version": "3.12.6"
  }
 },
 "nbformat": 4,
 "nbformat_minor": 5
}
