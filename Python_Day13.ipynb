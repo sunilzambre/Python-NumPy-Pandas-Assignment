{
 "cells": [
  {
   "cell_type": "markdown",
   "id": "4ab4f68e-5488-447a-9cef-c9b753aa76c3",
   "metadata": {},
   "source": [
    "#### 1.Write a Python program to split a variable length string into variables."
   ]
  },
  {
   "cell_type": "code",
   "execution_count": 1,
   "id": "101aa52e-c138-4b40-a8b4-29fdd35bb0f2",
   "metadata": {},
   "outputs": [],
   "source": [
    "var_list =['N', 'G', 'I']"
   ]
  },
  {
   "cell_type": "code",
   "execution_count": 2,
   "id": "2225515d-52f9-4ba4-99ea-c3bb9950ffe3",
   "metadata": {},
   "outputs": [],
   "source": [
    "x, y, z = var_list"
   ]
  },
  {
   "cell_type": "code",
   "execution_count": 3,
   "id": "cabfefa3-6247-4ef4-bc1c-4c3631ad17bd",
   "metadata": {},
   "outputs": [
    {
     "name": "stdout",
     "output_type": "stream",
     "text": [
      "N G I\n"
     ]
    }
   ],
   "source": [
    "print(x,y,z)"
   ]
  },
  {
   "cell_type": "code",
   "execution_count": 4,
   "id": "8dc61eab-8336-4106-ba67-00c158744b7a",
   "metadata": {},
   "outputs": [],
   "source": [
    "var_list = ['P', 'O', 'L', 'Y']"
   ]
  },
  {
   "cell_type": "code",
   "execution_count": 5,
   "id": "dcbf491b-a150-4159-bbbe-093f0e49d6b8",
   "metadata": {},
   "outputs": [],
   "source": [
    "w, x, y, z =(var_list + [None] * 4 )[:4] "
   ]
  },
  {
   "cell_type": "code",
   "execution_count": 6,
   "id": "07d146ef-1883-4434-b8b4-06140f52a9a0",
   "metadata": {},
   "outputs": [
    {
     "name": "stdout",
     "output_type": "stream",
     "text": [
      "P O L Y\n"
     ]
    }
   ],
   "source": [
    "print(w, x, y, z)"
   ]
  },
  {
   "cell_type": "markdown",
   "id": "aa01e592-0c93-4443-8ad5-8cef33b1cf07",
   "metadata": {},
   "source": [
    "#### 2.Write a Python program to list home directory without absolute path."
   ]
  },
  {
   "cell_type": "code",
   "execution_count": 7,
   "id": "8c42bc91-8187-4a5c-853c-bf48af305928",
   "metadata": {},
   "outputs": [],
   "source": [
    "import os.path"
   ]
  },
  {
   "cell_type": "code",
   "execution_count": 8,
   "id": "3ad7372d-d754-4779-acfa-c44a26673659",
   "metadata": {},
   "outputs": [
    {
     "data": {
      "text/plain": [
       "'C:\\\\Users\\\\Sunil Zambare'"
      ]
     },
     "execution_count": 8,
     "metadata": {},
     "output_type": "execute_result"
    }
   ],
   "source": [
    "os.path.expanduser('~')"
   ]
  },
  {
   "cell_type": "markdown",
   "id": "1bbf01b9-3ef8-4b2a-b894-1be43c59ade1",
   "metadata": {},
   "source": [
    "#### 3.Write a Python program to calculate the time runs (difference between start and current time) of a program."
   ]
  },
  {
   "cell_type": "code",
   "execution_count": 9,
   "id": "064e948a-5387-4ec1-a211-f7a83684642d",
   "metadata": {},
   "outputs": [],
   "source": [
    "from timeit import default_timer"
   ]
  },
  {
   "cell_type": "code",
   "execution_count": 10,
   "id": "2828b7e9-e8db-493e-b33c-bf2b7d8bf637",
   "metadata": {},
   "outputs": [
    {
     "name": "stdout",
     "output_type": "stream",
     "text": [
      "Sum: 10\n",
      "Run times: 0.001028499798849225\n"
     ]
    }
   ],
   "source": [
    "def timer(n):\n",
    "    s = 0\n",
    "    start = default_timer()\n",
    "    for i in range(1, n):\n",
    "        s += i\n",
    "    print('Sum:', s)\n",
    "    \n",
    "    print('Run times:', default_timer() - start)\n",
    "\n",
    "timer(5)"
   ]
  },
  {
   "cell_type": "markdown",
   "id": "fd33cc79-4023-44bd-b607-93d0a2fdb9dc",
   "metadata": {},
   "source": [
    "#### 4.Write a Python program to input two integers in a single line."
   ]
  },
  {
   "cell_type": "code",
   "execution_count": 11,
   "id": "9ca8ea59-d438-4f8d-a22a-ba696b9b2c05",
   "metadata": {},
   "outputs": [
    {
     "name": "stdin",
     "output_type": "stream",
     "text": [
      " 10 25\n"
     ]
    }
   ],
   "source": [
    "x, y =map(int, input().split())"
   ]
  },
  {
   "cell_type": "code",
   "execution_count": 12,
   "id": "2d4d471d-fcd6-4c0f-9dc5-a8914fc75e8e",
   "metadata": {},
   "outputs": [
    {
     "name": "stdout",
     "output_type": "stream",
     "text": [
      "x=10\n",
      "y=25\n"
     ]
    }
   ],
   "source": [
    "print('x={}\\ny={}'.format(x,y))"
   ]
  },
  {
   "cell_type": "markdown",
   "id": "772cf0f4-95a9-43c7-a820-f82ec9cec9ef",
   "metadata": {},
   "source": [
    "#### 5.Write a Python program to print a variable without spaces between values."
   ]
  },
  {
   "cell_type": "code",
   "execution_count": 13,
   "id": "5cd159c1-a2cb-465f-8d2f-c9cff55b29b1",
   "metadata": {},
   "outputs": [],
   "source": [
    "x = 40"
   ]
  },
  {
   "cell_type": "code",
   "execution_count": 14,
   "id": "3bef4c68-f5a9-41c4-a8b0-f52f400f83a2",
   "metadata": {},
   "outputs": [
    {
     "name": "stdout",
     "output_type": "stream",
     "text": [
      "Value of  x is : 40\n"
     ]
    }
   ],
   "source": [
    "print('Value of  x is : {}'.format(x))"
   ]
  },
  {
   "cell_type": "markdown",
   "id": "cdcbddd1-6dd6-4ec1-9357-d59c84a6cf4e",
   "metadata": {},
   "source": [
    "#### 6. Write a Python program to find files and skip directories of a given directory."
   ]
  },
  {
   "cell_type": "code",
   "execution_count": 15,
   "id": "e64cc561-b374-43ec-a576-7da2e72ae179",
   "metadata": {},
   "outputs": [
    {
     "name": "stdout",
     "output_type": "stream",
     "text": [
      "['Churn_Customer-checkpoint.ipynb', 'Churn_Customers.ipynb', 'Churn_Customer_Oredoo.ipynb', 'customer_churn.ipynb', 'file1.txt', 'Mammography_checkpoint.ipynb', 'Mammography_end.ipynb', 'Python_Day1.ipynb', 'Python_Day10.ipynb', 'Python_Day11.ipynb', 'Python_Day12.ipynb', 'Python_Day13.ipynb', 'Python_Day2.ipynb', 'Python_Day3.ipynb', 'Python_Day4.ipynb', 'Python_Day5.ipynb', 'Python_Day6.ipynb', 'Python_Day7.ipynb', 'Python_Day8.ipynb', 'Python_Day9.ipynb', 'README.md', 'telecom_customer_churn_prediction.ipynb', 'telecom_customer_segmentation.ipynb']\n"
     ]
    }
   ],
   "source": [
    "import os\n",
    "\n",
    "print([f for f in os.listdir('D:') if os.path.isfile(os.path.join('D:', f))])"
   ]
  },
  {
   "cell_type": "markdown",
   "id": "48bfc740-8683-4ec0-bf5e-9f3976f63236",
   "metadata": {},
   "source": [
    "#### 7.Write a Python program to extract single key-value pair of a dictionary in variables"
   ]
  },
  {
   "cell_type": "code",
   "execution_count": 16,
   "id": "b4126db7-66a5-41e8-880a-d979c6388def",
   "metadata": {},
   "outputs": [],
   "source": [
    "k = {'Orange' : 'Red'}"
   ]
  },
  {
   "cell_type": "code",
   "execution_count": 18,
   "id": "3f873035-41a8-48db-9d45-b8ce1084dc2b",
   "metadata": {},
   "outputs": [],
   "source": [
    "(c1, c2), = k.items()"
   ]
  },
  {
   "cell_type": "code",
   "execution_count": 19,
   "id": "468aa3aa-08e2-4f79-bb7f-788a6f4d815a",
   "metadata": {},
   "outputs": [
    {
     "name": "stdout",
     "output_type": "stream",
     "text": [
      "Orange\n",
      "Red\n"
     ]
    }
   ],
   "source": [
    "print(c1)\n",
    "print(c2)"
   ]
  },
  {
   "cell_type": "markdown",
   "id": "eba75b19-082d-4249-ae67-722a9489bfd6",
   "metadata": {},
   "source": [
    "#### 8. Write a Python program to convert true to 1 and false to 0."
   ]
  },
  {
   "cell_type": "code",
   "execution_count": 20,
   "id": "891803e8-79fc-49bb-b618-5d59ec86e120",
   "metadata": {},
   "outputs": [
    {
     "name": "stdout",
     "output_type": "stream",
     "text": [
      "1\n",
      "0\n"
     ]
    }
   ],
   "source": [
    "def converter(input_value):\n",
    "    if input_value == 'true':\n",
    "        return 1\n",
    "    else:\n",
    "        return 0\n",
    "    \n",
    "print(converter('true'))\n",
    "print(converter('false'))"
   ]
  },
  {
   "cell_type": "markdown",
   "id": "7e6f7001-0219-43ef-ba71-48c28cc3b8f2",
   "metadata": {},
   "source": [
    "#### 9.Write a Python program to valid a IP address."
   ]
  },
  {
   "cell_type": "code",
   "execution_count": 21,
   "id": "e92cf206-f582-4ca0-9f89-d2ac76ba4770",
   "metadata": {},
   "outputs": [
    {
     "name": "stdout",
     "output_type": "stream",
     "text": [
      "Valid IP address.\n"
     ]
    }
   ],
   "source": [
    "import socket\n",
    "\n",
    "addr = '192.168.156.16'\n",
    "try:\n",
    "    socket.inet_aton(addr)         # inet_aton(string) -> bytes giving packed 32-bit IP representation\n",
    "                                   # Convert an IP address in string format (192.168.156.1) to the 32-bit packed binary format \n",
    "                                   # used in low-level network functions.\n",
    "    print('Valid IP address.')\n",
    "except socket.error:\n",
    "    print('Invalid IP')"
   ]
  },
  {
   "cell_type": "markdown",
   "id": "1bf9f8a3-59a8-475d-a0d8-4f4ad0f9dd53",
   "metadata": {},
   "source": [
    "#### 10.Write a Python program to convert an integer to binary keep leading zeros."
   ]
  },
  {
   "cell_type": "code",
   "execution_count": 22,
   "id": "67fcc70b-37cc-45ce-8fef-b565435b6c19",
   "metadata": {},
   "outputs": [
    {
     "name": "stdout",
     "output_type": "stream",
     "text": [
      "000001100\n",
      "000000001100\n"
     ]
    }
   ],
   "source": [
    "x = 12\n",
    "       # converted integer into binary having total length of 8. Unused left digits will be filled with 0\n",
    "print(format(x, '09b'))      \n",
    "print(format(x, '012b'))"
   ]
  },
  {
   "cell_type": "markdown",
   "id": "e3e22fc1-2a60-4f81-8623-f6594b978259",
   "metadata": {},
   "source": [
    "### 11.Write a python program to convert decimal to hexadecimal."
   ]
  },
  {
   "cell_type": "code",
   "execution_count": 23,
   "id": "1a1be9db-bdd4-4618-82aa-b3b92c4e8377",
   "metadata": {},
   "outputs": [
    {
     "name": "stdout",
     "output_type": "stream",
     "text": [
      "1e\n",
      "4e8\n",
      "04\n"
     ]
    }
   ],
   "source": [
    "def decimal_to_hex(n):\n",
    "    return format(n, '02x')\n",
    "\n",
    "print(decimal_to_hex(30))\n",
    "print(decimal_to_hex(1256))\n",
    "print(decimal_to_hex(4))"
   ]
  },
  {
   "cell_type": "markdown",
   "id": "e8101e2e-0365-4b5b-aff3-a572c4073749",
   "metadata": {},
   "source": [
    "#### 12.Write a Python program to find the operating system name, platform and platform release date."
   ]
  },
  {
   "cell_type": "code",
   "execution_count": 24,
   "id": "476328c4-7772-4849-a7d0-e44d6fd08ec1",
   "metadata": {},
   "outputs": [
    {
     "name": "stdout",
     "output_type": "stream",
     "text": [
      "Operating system name:\t\t   nt\n",
      "Operating system platform name:\t   Windows\n",
      "Operating system platform release: 11\n"
     ]
    }
   ],
   "source": [
    "import os, platform\n",
    "\n",
    "print('Operating system name:\\t\\t  ', os.name)\n",
    "print('Operating system platform name:\\t  ',platform.system())\n",
    "print('Operating system platform release:',platform.release())"
   ]
  },
  {
   "cell_type": "markdown",
   "id": "53f4083b-ce53-466a-86b8-1b0c669cbe22",
   "metadata": {},
   "source": [
    "#### 13.Write a Python program to determine if the python shell is executing in 32bit or 64bit mode on operating system."
   ]
  },
  {
   "cell_type": "code",
   "execution_count": 26,
   "id": "8845070b-8403-423c-bdd6-be4c951f339e",
   "metadata": {},
   "outputs": [
    {
     "data": {
      "text/plain": [
       "64"
      ]
     },
     "execution_count": 26,
     "metadata": {},
     "output_type": "execute_result"
    }
   ],
   "source": [
    "import struct\n",
    "\n",
    "struct.calcsize('P' * 8)"
   ]
  },
  {
   "cell_type": "markdown",
   "id": "d73866b4-d9fb-4fc5-81a0-b41b8aeef3fd",
   "metadata": {},
   "source": [
    "#### 14.Write a Python program to check if variable is of integer or string."
   ]
  },
  {
   "cell_type": "code",
   "execution_count": 27,
   "id": "a9311760-7fa1-460d-a80e-96411d17e6b4",
   "metadata": {},
   "outputs": [
    {
     "name": "stdout",
     "output_type": "stream",
     "text": [
      "True\n"
     ]
    }
   ],
   "source": [
    "print(isinstance(144, int) or isinstance(144, str))\n",
    "# print(isinstance([25],int) or isinstance([25],str))\n",
    "# print(isinstance(\"25\",int) or isinstance(\"25\",str))"
   ]
  },
  {
   "cell_type": "markdown",
   "id": "231d51f6-9ee5-4694-b3c8-c9b819feb146",
   "metadata": {},
   "source": [
    "### 15.Write a Python program to test if a variable is a list or tuple or a set."
   ]
  },
  {
   "cell_type": "code",
   "execution_count": 28,
   "id": "8fc27ea6-a91b-4a1c-84e3-0ba47f4e9f78",
   "metadata": {},
   "outputs": [
    {
     "name": "stdout",
     "output_type": "stream",
     "text": [
      "Variable x is of set format.\n"
     ]
    }
   ],
   "source": [
    "x = {1, True, 'v'}\n",
    "\n",
    "if type(x) == list:\n",
    "    print('Variable x is of list format.')\n",
    "elif type(x) == tuple:\n",
    "    print('Variable x is of tuple format.')\n",
    "elif type(x) == set:\n",
    "    print('Variable x is of set format.')\n",
    "else:\n",
    "    print('The variable x is of some other format.')"
   ]
  },
  {
   "cell_type": "markdown",
   "id": "a94c6bc6-6cef-4635-bf32-87b6355f8f93",
   "metadata": {},
   "source": [
    "### 16.Write a Python program to find the location of Python module sources."
   ]
  },
  {
   "cell_type": "code",
   "execution_count": 29,
   "id": "4b708f4a-912f-44f3-91b6-700a3ca7ce52",
   "metadata": {},
   "outputs": [
    {
     "name": "stdout",
     "output_type": "stream",
     "text": [
      "List of directories in sys module:\n",
      "\n",
      "['C:\\\\Users\\\\Sunil Zambare\\\\AppData\\\\Local\\\\Programs\\\\Python\\\\Python312\\\\python312.zip', 'C:\\\\Users\\\\Sunil Zambare\\\\AppData\\\\Local\\\\Programs\\\\Python\\\\Python312\\\\DLLs', 'C:\\\\Users\\\\Sunil Zambare\\\\AppData\\\\Local\\\\Programs\\\\Python\\\\Python312\\\\Lib', 'C:\\\\Users\\\\Sunil Zambare\\\\AppData\\\\Local\\\\Programs\\\\Python\\\\Python312', '', 'C:\\\\Users\\\\Sunil Zambare\\\\AppData\\\\Local\\\\Programs\\\\Python\\\\Python312\\\\Lib\\\\site-packages', 'C:\\\\Users\\\\Sunil Zambare\\\\AppData\\\\Local\\\\Programs\\\\Python\\\\Python312\\\\Lib\\\\site-packages\\\\win32', 'C:\\\\Users\\\\Sunil Zambare\\\\AppData\\\\Local\\\\Programs\\\\Python\\\\Python312\\\\Lib\\\\site-packages\\\\win32\\\\lib', 'C:\\\\Users\\\\Sunil Zambare\\\\AppData\\\\Local\\\\Programs\\\\Python\\\\Python312\\\\Lib\\\\site-packages\\\\Pythonwin']\n",
      "\n",
      "List of directories in os module:\n",
      "\n",
      "<module 'ntpath' (frozen)>\n"
     ]
    }
   ],
   "source": [
    "import sys\n",
    "\n",
    "print('List of directories in sys module:\\n')\n",
    "print(sys.path)\n",
    "\n",
    "print('\\nList of directories in os module:\\n')\n",
    "print(os.path)"
   ]
  },
  {
   "cell_type": "markdown",
   "id": "4479b3ee-5c1f-4cf0-a502-75871ef24c05",
   "metadata": {},
   "source": [
    "#### 17.Write a Python function to check whether a number is divisible by another number. Accept two integers values form the user."
   ]
  },
  {
   "cell_type": "code",
   "execution_count": 30,
   "id": "62191e4a-f9a4-426d-8b24-ee1e94ab2585",
   "metadata": {},
   "outputs": [
    {
     "name": "stdout",
     "output_type": "stream",
     "text": [
      "True\n",
      "False\n"
     ]
    }
   ],
   "source": [
    "def divisible_check(a, b):\n",
    "    if (a % b) == 0:\n",
    "        return True\n",
    "    else:\n",
    "        return False\n",
    "        \n",
    "print(divisible_check(20, 5))\n",
    "print(divisible_check(7, 2))"
   ]
  },
  {
   "cell_type": "markdown",
   "id": "30042453-1af9-4ac2-805d-53ffa9625a48",
   "metadata": {},
   "source": [
    "#### 18.Write a Python function to find the maximum and minimum numbers from a sequence of numbers."
   ]
  },
  {
   "cell_type": "code",
   "execution_count": 31,
   "id": "28a78003-3bd7-40f7-8fc1-51c59855eafb",
   "metadata": {},
   "outputs": [
    {
     "data": {
      "text/plain": [
       "(92, -5)"
      ]
     },
     "execution_count": 31,
     "metadata": {},
     "output_type": "execute_result"
    }
   ],
   "source": [
    "def max_min(data):\n",
    "    largest = data[0]\n",
    "    smallest = data[0]\n",
    "    \n",
    "    for num in data:\n",
    "        if num > largest:\n",
    "            largest = num\n",
    "        elif num < smallest:\n",
    "            smallest = num\n",
    "    return largest, smallest\n",
    "\n",
    "max_min([0, 10, 15, 40, -5, 92, 19, 28, 75])"
   ]
  },
  {
   "cell_type": "markdown",
   "id": "2c0bdbfa-e303-467a-9fd8-e8b66ab1cb58",
   "metadata": {},
   "source": [
    "#### 19.Write a Python function that takes a positive integer and returns the sum of the cube of all the positive integers smaller than the specified number."
   ]
  },
  {
   "cell_type": "code",
   "execution_count": 32,
   "id": "5f2be655-4f61-41f9-a1e0-2ea28193ca81",
   "metadata": {},
   "outputs": [
    {
     "data": {
      "text/plain": [
       "1296.0"
      ]
     },
     "execution_count": 32,
     "metadata": {},
     "output_type": "execute_result"
    }
   ],
   "source": [
    "def cube_sum(n):\n",
    "    n = n - 1\n",
    "    return ((n * (n + 1))/2)**2\n",
    "\n",
    "cube_sum(9)"
   ]
  },
  {
   "cell_type": "code",
   "execution_count": 33,
   "id": "ef293d48-fbaa-4cfb-8dff-e9da0db8f7a7",
   "metadata": {},
   "outputs": [
    {
     "name": "stdout",
     "output_type": "stream",
     "text": [
      "Sum of cubes: 1296\n"
     ]
    }
   ],
   "source": [
    "def sum_of_cubes(n):\n",
    "  n = n - 1\n",
    "  total = 0\n",
    "  while n > 0:\n",
    "    total += n * n * n\n",
    "    n -= 1\n",
    "  return total\n",
    "print(\"Sum of cubes:\", sum_of_cubes(9))"
   ]
  },
  {
   "cell_type": "markdown",
   "id": "9080d235-aebf-4da6-88af-69a10606ea6a",
   "metadata": {},
   "source": [
    "#### 20. Write a Python function to find a distinct pair of numbers whose product is odd from a sequence of integer values."
   ]
  },
  {
   "cell_type": "code",
   "execution_count": 34,
   "id": "2d28de3b-c0a6-4472-8317-3557996f2d6b",
   "metadata": {},
   "outputs": [
    {
     "name": "stdout",
     "output_type": "stream",
     "text": [
      "[2, 4, 6, 8] None\n",
      "[1, 6, 4, 7, 8] True\n"
     ]
    }
   ],
   "source": [
    "def odd_product(nums):\n",
    "  for i in range(len(nums)):\n",
    "    for j in range(len(nums)):\n",
    "      if  i != j:                    # since we will not multiply the same position (value) of the list\n",
    "        product = nums[i] * nums[j]\n",
    "        if product & 1:\n",
    "          return True\n",
    "          return False\n",
    "          \n",
    "dt1 = [2, 4, 6, 8]\n",
    "dt2 = [1, 6, 4, 7, 8]\n",
    "\n",
    "print(dt1, odd_product(dt1))\n",
    "print(dt2, odd_product(dt2))"
   ]
  },
  {
   "cell_type": "code",
   "execution_count": null,
   "id": "633ee259-c9d4-4e58-8ab4-65c1bf40ab5a",
   "metadata": {},
   "outputs": [],
   "source": []
  }
 ],
 "metadata": {
  "kernelspec": {
   "display_name": "Python 3 (ipykernel)",
   "language": "python",
   "name": "python3"
  },
  "language_info": {
   "codemirror_mode": {
    "name": "ipython",
    "version": 3
   },
   "file_extension": ".py",
   "mimetype": "text/x-python",
   "name": "python",
   "nbconvert_exporter": "python",
   "pygments_lexer": "ipython3",
   "version": "3.12.6"
  }
 },
 "nbformat": 4,
 "nbformat_minor": 5
}
