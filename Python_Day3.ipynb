{
 "cells": [
  {
   "cell_type": "markdown",
   "id": "2816e77f-95cc-44aa-98ea-dbf776f708b7",
   "metadata": {},
   "source": [
    "#### 1.Write a Python program to find whether a given number (accept from the user) is even or odd, print out an appropriate message to the user."
   ]
  },
  {
   "cell_type": "code",
   "execution_count": 1,
   "id": "f59f454a-e96c-4afd-96c0-ac690bb6c954",
   "metadata": {},
   "outputs": [
    {
     "name": "stdin",
     "output_type": "stream",
     "text": [
      "Enter a number:  15\n"
     ]
    },
    {
     "name": "stdout",
     "output_type": "stream",
     "text": [
      "The entered number is odd\n"
     ]
    }
   ],
   "source": [
    "num =int(input(\"Enter a number: \"))\n",
    "if num % 2 == 0:\n",
    "    print(\"The entered number is even\")\n",
    "else:\n",
    "    print(\"The entered number is odd\")"
   ]
  },
  {
   "cell_type": "markdown",
   "id": "03e0a052-f4b4-489d-b735-3e0989999ad6",
   "metadata": {},
   "source": [
    "#### 2. Write a Python program to count the number 4 in a given list."
   ]
  },
  {
   "cell_type": "code",
   "execution_count": 2,
   "id": "f04f8c6b-1d67-490d-951b-1f94bd7b48df",
   "metadata": {},
   "outputs": [
    {
     "name": "stdout",
     "output_type": "stream",
     "text": [
      "4\n"
     ]
    }
   ],
   "source": [
    "lst =[1, 4, 6, 7, 4, 4, 9, 8, 4]\n",
    "count = 0\n",
    "for i in lst:\n",
    "    if i == 4:\n",
    "        count +=1\n",
    "print(count)"
   ]
  },
  {
   "cell_type": "markdown",
   "id": "9db7c767-ae90-470e-b75d-ab732ec9395b",
   "metadata": {},
   "source": [
    "#### 3.Write a Python program to get the n (non-negative integer) copies of the first 2 characters of a given string. Return the n copies of the whole string if the length is less than 2."
   ]
  },
  {
   "cell_type": "code",
   "execution_count": 7,
   "id": "82c55324-a2fa-4c2e-a749-cbd55bbe63cd",
   "metadata": {},
   "outputs": [
    {
     "name": "stdout",
     "output_type": "stream",
     "text": [
      "SSS\n"
     ]
    }
   ],
   "source": [
    "def nncopy(s,n):\n",
    "    if len(s) < 2:\n",
    "        return s*n\n",
    "    else:\n",
    "        substr = s[:2]\n",
    "        return substr * 2\n",
    "print(nncopy('S',3))"
   ]
  },
  {
   "cell_type": "code",
   "execution_count": 11,
   "id": "39f30f0e-32d2-4132-b745-6e54586e3b64",
   "metadata": {},
   "outputs": [
    {
     "name": "stdout",
     "output_type": "stream",
     "text": [
      "HeHe\n"
     ]
    }
   ],
   "source": [
    "print(nncopy('Hello',3))"
   ]
  },
  {
   "cell_type": "code",
   "execution_count": 12,
   "id": "925eb197-cc78-4aa0-8d59-1cdab7e7f6ad",
   "metadata": {},
   "outputs": [
    {
     "name": "stdout",
     "output_type": "stream",
     "text": [
      "abab\n"
     ]
    }
   ],
   "source": [
    "print(nncopy('abcde',2))"
   ]
  },
  {
   "cell_type": "markdown",
   "id": "2a2312e9-019b-49ec-b0d7-4c3290395c85",
   "metadata": {},
   "source": [
    "### 4. Write a Python program to test whether a passed letter is a vowel or not."
   ]
  },
  {
   "cell_type": "code",
   "execution_count": 14,
   "id": "ef50cad1-927b-4185-85d0-f9e04791104d",
   "metadata": {},
   "outputs": [
    {
     "name": "stdout",
     "output_type": "stream",
     "text": [
      "True\n"
     ]
    }
   ],
   "source": [
    "def is_vowel(letter):\n",
    "    if letter in 'aeiouAEIOU':\n",
    "        return True\n",
    "    else:\n",
    "        return False\n",
    "print(is_vowel('O'))"
   ]
  },
  {
   "cell_type": "code",
   "execution_count": 16,
   "id": "7c160419-138e-46c7-9ccd-0bbc4f03bfad",
   "metadata": {},
   "outputs": [
    {
     "name": "stdout",
     "output_type": "stream",
     "text": [
      "False\n"
     ]
    }
   ],
   "source": [
    "print(is_vowel('S'))"
   ]
  },
  {
   "cell_type": "code",
   "execution_count": 17,
   "id": "21aebc06-d8d2-4462-9b65-a4fe0d9d8eeb",
   "metadata": {},
   "outputs": [
    {
     "name": "stdout",
     "output_type": "stream",
     "text": [
      "True\n"
     ]
    }
   ],
   "source": [
    "print(is_vowel('U'))"
   ]
  },
  {
   "cell_type": "markdown",
   "id": "1dc88431-d3d0-4055-a9ba-dd3b3424fe80",
   "metadata": {},
   "source": [
    "### 5. Write a Python program to check whether a specified value is contained in a group of values."
   ]
  },
  {
   "cell_type": "code",
   "execution_count": 18,
   "id": "01c0c057-f172-4e04-956f-4d83f63cc99f",
   "metadata": {},
   "outputs": [
    {
     "name": "stdout",
     "output_type": "stream",
     "text": [
      "True\n"
     ]
    }
   ],
   "source": [
    "def check(values, number):\n",
    "    if number in values :\n",
    "        return True\n",
    "    return False\n",
    "print(check([1, 2, 3, 4, 5],2))"
   ]
  },
  {
   "cell_type": "code",
   "execution_count": 20,
   "id": "be28d51a-6161-4ce2-9a67-f55c186c182c",
   "metadata": {},
   "outputs": [
    {
     "data": {
      "text/plain": [
       "False"
      ]
     },
     "execution_count": 20,
     "metadata": {},
     "output_type": "execute_result"
    }
   ],
   "source": [
    "check([12, 31, 45, 67, 90, 100],-12)"
   ]
  },
  {
   "cell_type": "markdown",
   "id": "dd4b821b-f340-4c69-8e0d-2172b9b32eb6",
   "metadata": {},
   "source": [
    "#### 6.Write a Python program to create a histogram from a given list of integers."
   ]
  },
  {
   "cell_type": "code",
   "execution_count": 21,
   "id": "d9b1daf4-a3f8-4a0f-b281-06d93c2f2382",
   "metadata": {},
   "outputs": [
    {
     "name": "stdout",
     "output_type": "stream",
     "text": [
      "**\n",
      "***\n",
      "******\n",
      "*****\n"
     ]
    }
   ],
   "source": [
    "def hist(new):\n",
    "    char ='*'\n",
    "    for i in new:\n",
    "        print(char * i)\n",
    "hist([2, 3, 6, 5])"
   ]
  },
  {
   "cell_type": "code",
   "execution_count": 22,
   "id": "7113426b-7ec1-4979-96b6-f50dadce2736",
   "metadata": {},
   "outputs": [
    {
     "name": "stdout",
     "output_type": "stream",
     "text": [
      "*\n",
      "**\n",
      "***\n",
      "****\n",
      "*****\n"
     ]
    }
   ],
   "source": [
    "hist([1, 2, 3, 4, 5])"
   ]
  },
  {
   "cell_type": "markdown",
   "id": "42ad0118-e2d4-4919-b899-1979c29f26c1",
   "metadata": {},
   "source": [
    "### 7.Write a Python program to concatenate all elements in a list into a string and return it."
   ]
  },
  {
   "cell_type": "code",
   "execution_count": 24,
   "id": "41bcb1c0-1a65-4a8b-b5da-7bbb6ca68179",
   "metadata": {},
   "outputs": [
    {
     "data": {
      "text/plain": [
       "'14102319'"
      ]
     },
     "execution_count": 24,
     "metadata": {},
     "output_type": "execute_result"
    }
   ],
   "source": [
    "def list_str(lst):\n",
    "    st =''\n",
    "    for i in lst:\n",
    "        st += str(i)\n",
    "    return  st\n",
    "list_str([14, 10, 23, 19])"
   ]
  },
  {
   "cell_type": "markdown",
   "id": "9edf49e4-d984-40d1-80b8-5d4fb470ac68",
   "metadata": {},
   "source": [
    "#### 8.Write a Python program to print all even numbers from a given numbers list in the same order and stop the printing if any numbers that come after 237 in the sequence."
   ]
  },
  {
   "cell_type": "code",
   "execution_count": 25,
   "id": "284fd258-ae9b-404f-aec9-627ce8af5fd0",
   "metadata": {},
   "outputs": [
    {
     "name": "stdout",
     "output_type": "stream",
     "text": [
      "286\n",
      "462\n",
      "418\n",
      "344\n",
      "236\n",
      "566\n",
      "978\n",
      "328\n",
      "162\n",
      "758\n",
      "918\n",
      "237\n"
     ]
    }
   ],
   "source": [
    "numbers = [    \n",
    "    286, 462, 47, 418, 907, 344, 236, 375, 823, 566, 597, 978, 328, 615, 953, 345, \n",
    "    399, 162, 758, 219, 918, 237, 412, 566, 826, 248, 866, 957, 626, 949, 687, 217, \n",
    "    815, 67, 104, 58, 512, 24, 892, 894, 767, 553, 81, 379, 843, 831, 445, 742, 717, \n",
    "    958,743, 527\n",
    "    ]\n",
    "for i in numbers:\n",
    "    if i == 237: \n",
    "        print(i)\n",
    "        break\n",
    "    elif i % 2 == 0:\n",
    "        print(i)"
   ]
  },
  {
   "cell_type": "markdown",
   "id": "087fb8e7-95b8-4fd5-ad82-9e43d9c5d8fe",
   "metadata": {},
   "source": [
    "#### 9.Write a Python program to print out a set containing all the colors from color_list_1 which are not present in color_list_2"
   ]
  },
  {
   "cell_type": "code",
   "execution_count": 26,
   "id": "2f1fe7ae-b0df-4ec9-9609-bbb714b04a7f",
   "metadata": {},
   "outputs": [
    {
     "data": {
      "text/plain": [
       "{'Black', 'White'}"
      ]
     },
     "execution_count": 26,
     "metadata": {},
     "output_type": "execute_result"
    }
   ],
   "source": [
    "color_lst_1 = set([\"White\", \"Black\", \"Red\"])\n",
    "color_lst_2 = set([\"Red\", \"Green\"])\n",
    "\n",
    "color_lst_1.difference(color_lst_2)"
   ]
  },
  {
   "cell_type": "markdown",
   "id": "6e29a1b7-d43e-440d-b578-328678f25e33",
   "metadata": {},
   "source": [
    "#### 10.Write a Python program that will accept the base and height of a triangle and compute the area."
   ]
  },
  {
   "cell_type": "code",
   "execution_count": 27,
   "id": "2c6c7917-676c-4bc9-9164-8b31834efc23",
   "metadata": {},
   "outputs": [
    {
     "name": "stdout",
     "output_type": "stream",
     "text": [
      "Area of traingle is 400.0\n"
     ]
    }
   ],
   "source": [
    "def tri_area(base, height):\n",
    "    return (0.5 * base * height)\n",
    "\n",
    "print(f'Area of traingle is { tri_area(20, 40)}')"
   ]
  }
 ],
 "metadata": {
  "kernelspec": {
   "display_name": "Python 3 (ipykernel)",
   "language": "python",
   "name": "python3"
  },
  "language_info": {
   "codemirror_mode": {
    "name": "ipython",
    "version": 3
   },
   "file_extension": ".py",
   "mimetype": "text/x-python",
   "name": "python",
   "nbconvert_exporter": "python",
   "pygments_lexer": "ipython3",
   "version": "3.12.6"
  }
 },
 "nbformat": 4,
 "nbformat_minor": 5
}
