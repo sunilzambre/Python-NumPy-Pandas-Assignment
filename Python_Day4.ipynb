{
 "cells": [
  {
   "cell_type": "markdown",
   "id": "3f25ad6d-cf8b-4073-8eea-3b234f1bac5e",
   "metadata": {},
   "source": [
    "#### 1.Write a Python program to compute the greatest common divisor (GCD) of two positive integers."
   ]
  },
  {
   "cell_type": "code",
   "execution_count": 1,
   "id": "95df7766-ba41-49bc-98ee-cdb2427d8904",
   "metadata": {},
   "outputs": [
    {
     "name": "stdout",
     "output_type": "stream",
     "text": [
      "1\n",
      "2\n"
     ]
    }
   ],
   "source": [
    "def gcd(x, y):\n",
    "    gcd = 1\n",
    "    \n",
    "    if x % y == 0:\n",
    "        return y\n",
    "    \n",
    "    for k in range(int(y/2), 0, -1):\n",
    "        if x % k == 0 and y % k == 0:\n",
    "            gcd = k\n",
    "            break\n",
    "    return gcd\n",
    "\n",
    "print(gcd(16, 21))\n",
    "print(gcd(6, 8))"
   ]
  },
  {
   "cell_type": "markdown",
   "id": "8365156e-a02a-4d72-9156-97017b9a7d21",
   "metadata": {},
   "source": [
    "#### 2.Write a Python program to get the least common multiple (LCM) of two positive integers."
   ]
  },
  {
   "cell_type": "code",
   "execution_count": 2,
   "id": "a2dea8f2-957a-49de-adba-a343c3253f55",
   "metadata": {},
   "outputs": [
    {
     "name": "stdout",
     "output_type": "stream",
     "text": [
      "12\n",
      "255\n"
     ]
    }
   ],
   "source": [
    "def lcm(x, y):\n",
    "    if x > y:\n",
    "        z = x\n",
    "    else:\n",
    "        z = y\n",
    "        \n",
    "    while(True):\n",
    "        if z % x == 0 and z % y == 0:\n",
    "            lcm = z\n",
    "            break\n",
    "        z += 1\n",
    "    return lcm    \n",
    "\n",
    "print(lcm(4, 6))\n",
    "print(lcm(15, 17))"
   ]
  },
  {
   "cell_type": "code",
   "execution_count": 3,
   "id": "585270bf-6abd-42aa-947d-0586284c3734",
   "metadata": {},
   "outputs": [
    {
     "name": "stdout",
     "output_type": "stream",
     "text": [
      "336\n",
      "24\n"
     ]
    }
   ],
   "source": [
    "print(lcm(16, 21))\n",
    "print(lcm(6, 8))"
   ]
  },
  {
   "cell_type": "markdown",
   "id": "a7ea0568-c846-424c-b072-e6cd1e3e1a17",
   "metadata": {},
   "source": [
    "#### 3.Write a Python program to sum of three given integers. However, if two values are equal sum will be zero."
   ]
  },
  {
   "cell_type": "code",
   "execution_count": 4,
   "id": "c934c561-abb5-425a-8bb7-fa5af3fef6a9",
   "metadata": {},
   "outputs": [
    {
     "name": "stdout",
     "output_type": "stream",
     "text": [
      "0\n",
      "0\n",
      "0\n",
      "6\n"
     ]
    }
   ],
   "source": [
    "def sum_(x, y, z):\n",
    "    sum = 0\n",
    "    if x == y or y == z or z == x:\n",
    "        return sum\n",
    "    \n",
    "    else:\n",
    "        sum = x + y + z\n",
    "        return sum\n",
    "    \n",
    "print(sum_(2, 1, 2))\n",
    "print(sum_(3, 2, 2))\n",
    "print(sum_(2, 2, 2))\n",
    "print(sum_(1, 2, 3))"
   ]
  },
  {
   "cell_type": "markdown",
   "id": "1b339858-3adb-43dd-aa46-f660351a2d23",
   "metadata": {},
   "source": [
    "#### 4.Write a Python program to sum of two given integers. However, if the sum is between 15 to 20 it will return 20."
   ]
  },
  {
   "cell_type": "code",
   "execution_count": 5,
   "id": "f0219079-a267-443c-b5f4-5eabfc519781",
   "metadata": {},
   "outputs": [
    {
     "name": "stdout",
     "output_type": "stream",
     "text": [
      "20\n",
      "22\n",
      "12\n"
     ]
    }
   ],
   "source": [
    "def sum_t(a, b):\n",
    "    sum = a + b\n",
    "    \n",
    "    if sum >= 15 and sum <= 20:\n",
    "        sum = 20\n",
    "        return sum\n",
    "    \n",
    "    else:\n",
    "        return sum\n",
    "    \n",
    "print(sum_t(10, 6))\n",
    "print(sum_t(10, 12))\n",
    "print(sum_t(10, 2))"
   ]
  },
  {
   "cell_type": "markdown",
   "id": "52164fd4-20ec-46b8-94ce-a97ca0896b24",
   "metadata": {},
   "source": [
    "##### 5.Write a Python program that will return true if the two given integer values are equal or their sum or difference is 5."
   ]
  },
  {
   "cell_type": "code",
   "execution_count": 6,
   "id": "dc576aa8-26f9-4e2d-89aa-465ac4927119",
   "metadata": {},
   "outputs": [
    {
     "name": "stdout",
     "output_type": "stream",
     "text": [
      "True\n",
      "True\n",
      "True\n",
      "False\n"
     ]
    }
   ],
   "source": [
    "def test(a, b):\n",
    "    if (a == b) or (a + b == 5) or (abs(a - b) == 5):\n",
    "        return True\n",
    "    return False\n",
    "\n",
    "print(test(7, 2))\n",
    "print(test(3, 2))\n",
    "print(test(2, 2))\n",
    "print(test(3, 4))"
   ]
  },
  {
   "cell_type": "markdown",
   "id": "05b318e2-7d3c-4c74-be60-93f655916111",
   "metadata": {},
   "source": [
    "#### 6.Write a Python program to add two objects if both objects are an integer type."
   ]
  },
  {
   "cell_type": "code",
   "execution_count": 7,
   "id": "15df8c73-2789-48f2-8806-695b51bfb5a1",
   "metadata": {},
   "outputs": [
    {
     "name": "stdout",
     "output_type": "stream",
     "text": [
      "13\n"
     ]
    }
   ],
   "source": [
    "def int_add(a, b):\n",
    "    try:\n",
    "        if type(a) == int and type(b) == int:\n",
    "            sum = a + b\n",
    "            print(sum)\n",
    "    except:\n",
    "        raise TypeError(\"Inputs must be integers\")\n",
    "        \n",
    "int_add(6, 7)"
   ]
  },
  {
   "cell_type": "code",
   "execution_count": 8,
   "id": "6cca4d8f-9674-4273-92e4-c23771fdf0db",
   "metadata": {},
   "outputs": [
    {
     "data": {
      "text/plain": [
       "9"
      ]
     },
     "execution_count": 8,
     "metadata": {},
     "output_type": "execute_result"
    }
   ],
   "source": [
    "def int_add2(a, b):\n",
    "    if isinstance(a, int) and isinstance(b, int):\n",
    "        return a + b\n",
    "    else:\n",
    "        raise TypeError('Inputs must be of integer type')\n",
    "        \n",
    "int_add2(4, 5)"
   ]
  },
  {
   "cell_type": "markdown",
   "id": "b43f49d9-4b0b-410d-ab01-9c8ec6cc0831",
   "metadata": {},
   "source": [
    "#### 7.Write a Python program to display your details like name, age, address in three different lines."
   ]
  },
  {
   "cell_type": "code",
   "execution_count": 9,
   "id": "fc9510ef-76aa-4918-909c-596af0aa203f",
   "metadata": {},
   "outputs": [
    {
     "name": "stdout",
     "output_type": "stream",
     "text": [
      "My name is SUNIL ZAMBRE.\n",
      "I am 41 years old.\n",
      "I live in TASGAON.\n"
     ]
    }
   ],
   "source": [
    "def personal_detail(name, age, address):\n",
    "    print('My name is {}.\\nI am {} years old.\\nI live in {}.'.format(name, age, address))\n",
    "    \n",
    "personal_detail('SUNIL ZAMBRE', 41, 'TASGAON')"
   ]
  },
  {
   "cell_type": "markdown",
   "id": "822d21fa-14b0-4845-8d2f-b322978aeb74",
   "metadata": {},
   "source": [
    "#### 8.Write a Python program to solve (x + y) * (x + y)."
   ]
  },
  {
   "cell_type": "code",
   "execution_count": 10,
   "id": "15e54d20-a0bc-4aa3-a7b1-1c0a7034ac23",
   "metadata": {},
   "outputs": [
    {
     "name": "stdout",
     "output_type": "stream",
     "text": [
      "(9 + 8 = 289)\n"
     ]
    }
   ],
   "source": [
    "x, y = 9, 8\n",
    "def solve(x, y):\n",
    "    return (x + y) * (x + y)\n",
    "\n",
    "print('({} + {} = {})'.format(x, y, solve(x, y)))"
   ]
  },
  {
   "cell_type": "markdown",
   "id": "377272cd-93ab-4724-8f5f-d1a8982aff45",
   "metadata": {},
   "source": [
    "#### 9.Write a Python program to compute the future value of a specified principal amount, rate of interest and a number of years."
   ]
  },
  {
   "cell_type": "code",
   "execution_count": 11,
   "id": "981fa950-d1dc-4665-bd83-1ffcbbe12d93",
   "metadata": {},
   "outputs": [
    {
     "data": {
      "text/plain": [
       "15539.87"
      ]
     },
     "execution_count": 11,
     "metadata": {},
     "output_type": "execute_result"
    }
   ],
   "source": [
    "def future_amount(p, r, n):\n",
    "    return p * (1 + r/100)**n\n",
    "\n",
    "round(future_amount(10000, 6.5, 7), 2)"
   ]
  },
  {
   "cell_type": "markdown",
   "id": "620ef004-0c31-4fd0-8163-402deab932c5",
   "metadata": {},
   "source": [
    "#### 10.Write a Python program to compute the distance between the points (x1, y1) and (x2, y2)."
   ]
  },
  {
   "cell_type": "code",
   "execution_count": 12,
   "id": "c375126a-add7-4a38-88de-059ef0fcfef4",
   "metadata": {},
   "outputs": [
    {
     "data": {
      "text/plain": [
       "9.219544457292887"
      ]
     },
     "execution_count": 12,
     "metadata": {},
     "output_type": "execute_result"
    }
   ],
   "source": [
    "import math\n",
    "p1 = [7, 0]\n",
    "p2 = [9, 9]\n",
    "\n",
    "def distance(p1, p2):\n",
    "    return math.sqrt((p1[0] - p2[0])**2 + (p1[1] - p2[1])**2)\n",
    "    \n",
    "distance(p1, p2)"
   ]
  }
 ],
 "metadata": {
  "kernelspec": {
   "display_name": "Python 3 (ipykernel)",
   "language": "python",
   "name": "python3"
  },
  "language_info": {
   "codemirror_mode": {
    "name": "ipython",
    "version": 3
   },
   "file_extension": ".py",
   "mimetype": "text/x-python",
   "name": "python",
   "nbconvert_exporter": "python",
   "pygments_lexer": "ipython3",
   "version": "3.12.6"
  }
 },
 "nbformat": 4,
 "nbformat_minor": 5
}
