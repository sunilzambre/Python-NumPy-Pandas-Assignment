{
 "cells": [
  {
   "cell_type": "markdown",
   "id": "cd90bbdc-17b0-4816-a994-b6c557629f31",
   "metadata": {},
   "source": [
    "#### 1.Write a Python program to check whether a file exists."
   ]
  },
  {
   "cell_type": "code",
   "execution_count": 1,
   "id": "b7c17718-3ab6-4c07-9724-6dd40358baae",
   "metadata": {},
   "outputs": [
    {
     "data": {
      "text/plain": [
       "True"
      ]
     },
     "execution_count": 1,
     "metadata": {},
     "output_type": "execute_result"
    }
   ],
   "source": [
    "import os.path\n",
    "open('file1.txt','w')\n",
    "os.path.isfile('file1.txt')"
   ]
  },
  {
   "cell_type": "markdown",
   "id": "a0b0c783-504e-4ff6-969f-f8fcb7c4f17a",
   "metadata": {},
   "source": [
    "#### 2.Write a Python program to determine if a Python shell is executing in 32bit or 64bit mode on OS."
   ]
  },
  {
   "cell_type": "code",
   "execution_count": 2,
   "id": "46a67718-5d4b-4e7e-990e-fedf50d03b20",
   "metadata": {},
   "outputs": [
    {
     "data": {
      "text/plain": [
       "64"
      ]
     },
     "execution_count": 2,
     "metadata": {},
     "output_type": "execute_result"
    }
   ],
   "source": [
    "import struct\n",
    "struct.calcsize('P') * 8"
   ]
  },
  {
   "cell_type": "markdown",
   "id": "741413a7-dd62-4fe2-b57e-e37aa501a307",
   "metadata": {},
   "source": [
    "Why char 'P'?\n",
    "struct is a module for packing and unpacking data to and from C representations. P represents void * (a generic pointer). On 32-bit systems a pointer is 4 bytes, and on a 64-bit system a pointer requires 8 bytes.\n",
    "\n",
    "struct.calcsize('P') calculates the number of bytes required to store a single pointer --> returning 4 on a 32-bit system and 8 on a 64-bit system."
   ]
  },
  {
   "cell_type": "markdown",
   "id": "3049631b-f209-4153-99ae-a3a7070b203c",
   "metadata": {},
   "source": [
    "#### 3.Write a Python program to get OS name, platform and release information."
   ]
  },
  {
   "cell_type": "code",
   "execution_count": 3,
   "id": "063eb65f-87f4-4e65-ba8f-b35ba11d6909",
   "metadata": {},
   "outputs": [
    {
     "name": "stdout",
     "output_type": "stream",
     "text": [
      "nt\n",
      "Windows\n",
      "11\n"
     ]
    }
   ],
   "source": [
    "import os, platform\n",
    "\n",
    "print(os.name)\n",
    "print(platform.system())\n",
    "print(platform.release())"
   ]
  },
  {
   "cell_type": "markdown",
   "id": "43174ef8-ee86-41cd-8f2a-577174f3dab6",
   "metadata": {},
   "source": [
    "### 4. Write a Python program to locate Python site-packages."
   ]
  },
  {
   "cell_type": "code",
   "execution_count": 4,
   "id": "ffd96848-0ee9-4051-a1a4-d9177a5f4b09",
   "metadata": {},
   "outputs": [
    {
     "data": {
      "text/plain": [
       "['C:\\\\Users\\\\Sunil Zambare\\\\AppData\\\\Local\\\\Programs\\\\Python\\\\Python312',\n",
       " 'C:\\\\Users\\\\Sunil Zambare\\\\AppData\\\\Local\\\\Programs\\\\Python\\\\Python312\\\\Lib\\\\site-packages']"
      ]
     },
     "execution_count": 4,
     "metadata": {},
     "output_type": "execute_result"
    }
   ],
   "source": [
    "import site\n",
    "\n",
    "site.getsitepackages()"
   ]
  },
  {
   "cell_type": "markdown",
   "id": "29921156-283b-4940-aead-dcb1d83cf541",
   "metadata": {},
   "source": [
    "### 5. Write a python program to call an external command in Python."
   ]
  },
  {
   "cell_type": "code",
   "execution_count": 6,
   "id": "5e9c740f-14bf-44ca-bed9-915fc04a7749",
   "metadata": {},
   "outputs": [],
   "source": [
    "##from subprocess import call\n",
    "\n",
    "##call(['ls', '-l'])"
   ]
  },
  {
   "cell_type": "markdown",
   "id": "d094371a-3180-428f-8b0d-ef9ecb66b3c3",
   "metadata": {},
   "source": [
    "#### 6.Write a python program to get the path and name of the file that is currently executing."
   ]
  },
  {
   "cell_type": "code",
   "execution_count": 7,
   "id": "920e9845-11d2-46a1-a529-e3d7ac28b826",
   "metadata": {},
   "outputs": [
    {
     "data": {
      "text/plain": [
       "'D:\\\\Jupyter_Notebook\\\\file1.txt'"
      ]
     },
     "execution_count": 7,
     "metadata": {},
     "output_type": "execute_result"
    }
   ],
   "source": [
    "import os\n",
    "\n",
    "os.path.realpath('file1.txt')"
   ]
  },
  {
   "cell_type": "markdown",
   "id": "689ff7c0-a1ee-429e-877b-6f91d24159ee",
   "metadata": {},
   "source": [
    "#### 7. Write a Python program to find out the number of CPUs using."
   ]
  },
  {
   "cell_type": "code",
   "execution_count": 8,
   "id": "9fec5944-e6e4-49ba-8ec5-7fd769a58a34",
   "metadata": {},
   "outputs": [
    {
     "data": {
      "text/plain": [
       "8"
      ]
     },
     "execution_count": 8,
     "metadata": {},
     "output_type": "execute_result"
    }
   ],
   "source": [
    "import multiprocessing\n",
    "\n",
    "multiprocessing.cpu_count()"
   ]
  },
  {
   "cell_type": "markdown",
   "id": "b386e284-ae8c-4e4d-a5b7-ad5be45b705c",
   "metadata": {},
   "source": [
    "#### 8. Write a Python program to parse a string to Float or Integer."
   ]
  },
  {
   "cell_type": "code",
   "execution_count": 9,
   "id": "94657ded-1ac3-4d04-9ec1-b9af349b615f",
   "metadata": {},
   "outputs": [
    {
     "name": "stdout",
     "output_type": "stream",
     "text": [
      "<class 'float'>\n",
      "<class 'int'>\n"
     ]
    }
   ],
   "source": [
    "s = '3.14'\n",
    "\n",
    "str_to_float = float(s)\n",
    "# str_to_int = int(s)      # We need to convert the string into float first. Otherwise it will raise 'ValueError'\n",
    "str_to_int = int(float(s))\n",
    "\n",
    "print(type(str_to_float))\n",
    "print(type(str_to_int))"
   ]
  },
  {
   "cell_type": "markdown",
   "id": "5b245949-c085-4901-8134-2e335f5726ce",
   "metadata": {},
   "source": [
    "#### 9. Write a Python program to list all files in a directory in Python."
   ]
  },
  {
   "cell_type": "code",
   "execution_count": 10,
   "id": "7aecdc4b-c57d-4ca4-8787-bd0211cd8841",
   "metadata": {},
   "outputs": [
    {
     "name": "stderr",
     "output_type": "stream",
     "text": [
      "<>:4: SyntaxWarning: invalid escape sequence '\\J'\n",
      "<>:4: SyntaxWarning: invalid escape sequence '\\J'\n",
      "C:\\Users\\Sunil Zambare\\AppData\\Local\\Temp\\ipykernel_6436\\77662623.py:4: SyntaxWarning: invalid escape sequence '\\J'\n",
      "  files_list = [f for f in listdir('D:\\Jupyter_Notebook\\') if isfile(join('D:\\Jupyter_Notebook\\', f))]\n"
     ]
    },
    {
     "ename": "SyntaxError",
     "evalue": "invalid syntax. Perhaps you forgot a comma? (77662623.py, line 4)",
     "output_type": "error",
     "traceback": [
      "\u001b[1;36m  Cell \u001b[1;32mIn[10], line 4\u001b[1;36m\u001b[0m\n\u001b[1;33m    files_list = [f for f in listdir('D:\\Jupyter_Notebook\\') if isfile(join('D:\\Jupyter_Notebook\\', f))]\u001b[0m\n\u001b[1;37m                                     ^\u001b[0m\n\u001b[1;31mSyntaxError\u001b[0m\u001b[1;31m:\u001b[0m invalid syntax. Perhaps you forgot a comma?\n"
     ]
    }
   ],
   "source": [
    "from os import listdir\n",
    "from os.path import isfile, join\n",
    "\n",
    "files_list = [f for f in listdir('D:\\Jupyter_Notebook\\') if isfile(join('D:\\Jupyter_Notebook\\', f))]\n",
    "print(files_list)"
   ]
  },
  {
   "cell_type": "markdown",
   "id": "5597a932-c89c-472d-b1fa-12217a4f114e",
   "metadata": {},
   "source": [
    "#### 10.Write a Python program to print without newline or space."
   ]
  },
  {
   "cell_type": "code",
   "execution_count": 12,
   "id": "75b5cf02-c941-4169-8863-85b98748fc62",
   "metadata": {},
   "outputs": [
    {
     "name": "stdout",
     "output_type": "stream",
     "text": [
      "# # # # # # # # # # "
     ]
    }
   ],
   "source": [
    "for i in range(10):\n",
    "    print('#', end= ' ')"
   ]
  }
 ],
 "metadata": {
  "kernelspec": {
   "display_name": "Python 3 (ipykernel)",
   "language": "python",
   "name": "python3"
  },
  "language_info": {
   "codemirror_mode": {
    "name": "ipython",
    "version": 3
   },
   "file_extension": ".py",
   "mimetype": "text/x-python",
   "name": "python",
   "nbconvert_exporter": "python",
   "pygments_lexer": "ipython3",
   "version": "3.12.6"
  }
 },
 "nbformat": 4,
 "nbformat_minor": 5
}
