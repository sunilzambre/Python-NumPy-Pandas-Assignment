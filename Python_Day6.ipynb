{
 "cells": [
  {
   "cell_type": "markdown",
   "id": "48b7894b-59c9-48aa-9155-d2bd04b320b4",
   "metadata": {},
   "source": [
    "#### 1. Write a Python program to determine profiling of Python programs."
   ]
  },
  {
   "cell_type": "code",
   "execution_count": 1,
   "id": "c28e225a-e3c6-47bf-a140-91d5d8c712b0",
   "metadata": {},
   "outputs": [
    {
     "name": "stdout",
     "output_type": "stream",
     "text": [
      "3\n",
      "         41 function calls in 0.000 seconds\n",
      "\n",
      "   Ordered by: standard name\n",
      "\n",
      "   ncalls  tottime  percall  cumtime  percall filename:lineno(function)\n",
      "        1    0.000    0.000    0.000    0.000 base_events.py:2004(get_debug)\n",
      "        1    0.000    0.000    0.000    0.000 iostream.py:138(_event_pipe)\n",
      "        1    0.000    0.000    0.000    0.000 iostream.py:259(schedule)\n",
      "        2    0.000    0.000    0.000    0.000 iostream.py:505(parent_header)\n",
      "        2    0.000    0.000    0.000    0.000 iostream.py:550(_is_master_process)\n",
      "        2    0.000    0.000    0.000    0.000 iostream.py:577(_schedule_flush)\n",
      "        2    0.000    0.000    0.000    0.000 iostream.py:655(write)\n",
      "        1    0.000    0.000    0.000    0.000 queues.py:173(qsize)\n",
      "        1    0.000    0.000    0.000    0.000 queues.py:225(get)\n",
      "        1    0.000    0.000    0.000    0.000 queues.py:256(get_nowait)\n",
      "        1    0.000    0.000    0.000    0.000 queues.py:322(_consume_expired)\n",
      "        1    0.000    0.000    0.000    0.000 queues.py:59(_set_timeout)\n",
      "        1    0.000    0.000    0.000    0.000 socket.py:626(send)\n",
      "        1    0.000    0.000    0.000    0.000 threading.py:1155(_wait_for_tstate_lock)\n",
      "        1    0.000    0.000    0.000    0.000 threading.py:1222(is_alive)\n",
      "        1    0.000    0.000    0.000    0.000 threading.py:601(is_set)\n",
      "        1    0.000    0.000    0.000    0.000 tz.py:74(utcoffset)\n",
      "        2    0.000    0.000    0.000    0.000 {built-in method builtins.isinstance}\n",
      "        4    0.000    0.000    0.000    0.000 {built-in method builtins.len}\n",
      "        2    0.000    0.000    0.000    0.000 {built-in method nt.getpid}\n",
      "        2    0.000    0.000    0.000    0.000 {method '__exit__' of '_thread.RLock' objects}\n",
      "        1    0.000    0.000    0.000    0.000 {method 'acquire' of '_thread.lock' objects}\n",
      "        2    0.000    0.000    0.000    0.000 {method 'append' of 'collections.deque' objects}\n",
      "        1    0.000    0.000    0.000    0.000 {method 'disable' of '_lsprof.Profiler' objects}\n",
      "        2    0.000    0.000    0.000    0.000 {method 'get' of '_contextvars.ContextVar' objects}\n",
      "        2    0.000    0.000    0.000    0.000 {method 'items' of 'dict' objects}\n",
      "        2    0.000    0.000    0.000    0.000 {method 'write' of '_io.StringIO' objects}\n",
      "\n",
      "\n"
     ]
    }
   ],
   "source": [
    "import cProfile\n",
    "\n",
    "def sum():\n",
    "    print(1 + 2)\n",
    "    \n",
    "cProfile.run('sum()')"
   ]
  },
  {
   "cell_type": "markdown",
   "id": "86cf0185-9ab1-4182-9c25-26e20a48ce0b",
   "metadata": {},
   "source": [
    "A profile is a set of statistics that describes how often and for how long various parts of the program executed.\n",
    "\n",
    "These statistics can be formatted into reports via the pstats module."
   ]
  },
  {
   "cell_type": "markdown",
   "id": "ce36c376-86ab-4a84-a3ae-6f7f4e00fddd",
   "metadata": {},
   "source": [
    "#### 2.Write a Python program to print to stderr."
   ]
  },
  {
   "cell_type": "code",
   "execution_count": 2,
   "id": "95057ab7-6274-4760-aabd-0478a5cd6aec",
   "metadata": {},
   "outputs": [
    {
     "name": "stderr",
     "output_type": "stream",
     "text": [
      "abc--efg--xyz\n"
     ]
    }
   ],
   "source": [
    "from __future__ import print_function\n",
    "import sys\n",
    "\n",
    "def eprint(*args, **kwargs):\n",
    "    print(*args, file = sys.stderr, **kwargs)\n",
    "    \n",
    "eprint('abc', 'efg', 'xyz', sep = '--')"
   ]
  },
  {
   "cell_type": "markdown",
   "id": "e8de4f80-1759-4133-acc4-3417bcabd9b4",
   "metadata": {},
   "source": [
    "File objects used by the interpreter for standard input, output and errors:\n",
    "\n",
    "sys.stdin\n",
    "sys.stdout\n",
    "sys.stderr\n",
    "\n",
    "stdin is used for all interactive input (including calls to input());\n",
    "\n",
    "stdout is used for the output of print() and expression statements and for the prompts of input();\n",
    "\n",
    "The interpreter’s own prompts and its error messages go to stderr."
   ]
  },
  {
   "cell_type": "markdown",
   "id": "d768021b-8c40-4284-96d4-e7c1abd9228e",
   "metadata": {},
   "source": [
    "#### 3.Write a python program to access environment variables."
   ]
  },
  {
   "cell_type": "code",
   "execution_count": 3,
   "id": "61efe21d-b74c-4c31-8fad-e0c4c2421575",
   "metadata": {},
   "outputs": [
    {
     "name": "stdout",
     "output_type": "stream",
     "text": [
      "*-----------------------------------------------------------------*\n",
      "environ({'ALLUSERSPROFILE': 'C:\\\\ProgramData', 'APPDATA': 'C:\\\\Users\\\\Sunil Zambare\\\\AppData\\\\Roaming', 'COMMONPROGRAMFILES': 'C:\\\\Program Files\\\\Common Files', 'COMMONPROGRAMFILES(X86)': 'C:\\\\Program Files (x86)\\\\Common Files', 'COMMONPROGRAMW6432': 'C:\\\\Program Files\\\\Common Files', 'COMPUTERNAME': 'DELL-INSPIRON-S', 'COMSPEC': 'C:\\\\Windows\\\\system32\\\\cmd.exe', 'DRIVERDATA': 'C:\\\\Windows\\\\System32\\\\Drivers\\\\DriverData', 'EFC_10676': '1', 'HOMEDRIVE': 'C:', 'HOMEPATH': '\\\\Users\\\\Sunil Zambare', 'IPY_INTERRUPT_EVENT': '2900', 'JPY_INTERRUPT_EVENT': '2900', 'JPY_PARENT_PID': '2892', 'JPY_SESSION_NAME': 'D:\\\\Jupyter_Notebook\\\\Untitled.ipynb', 'LOCALAPPDATA': 'C:\\\\Users\\\\Sunil Zambare\\\\AppData\\\\Local', 'LOGONSERVER': '\\\\\\\\DELL-INSPIRON-S', 'NUMBER_OF_PROCESSORS': '8', 'ONEDRIVE': 'C:\\\\Users\\\\Sunil Zambare\\\\OneDrive', 'ONEDRIVECONSUMER': 'C:\\\\Users\\\\Sunil Zambare\\\\OneDrive', 'OS': 'Windows_NT', 'PATH': 'C:\\\\Windows\\\\system32;C:\\\\Windows;C:\\\\Windows\\\\System32\\\\Wbem;C:\\\\Windows\\\\System32\\\\WindowsPowerShell\\\\v1.0\\\\;C:\\\\Windows\\\\System32\\\\OpenSSH\\\\;C:\\\\Program Files\\\\dotnet\\\\;C:\\\\Users\\\\Sunil Zambare\\\\AppData\\\\Local\\\\Programs\\\\Python\\\\Python312\\\\Scripts\\\\;C:\\\\Users\\\\Sunil Zambare\\\\AppData\\\\Local\\\\Programs\\\\Python\\\\Python312\\\\;C:\\\\Users\\\\Sunil Zambare\\\\AppData\\\\Local\\\\Microsoft\\\\WindowsApps;', 'PATHEXT': '.COM;.EXE;.BAT;.CMD;.VBS;.VBE;.JS;.JSE;.WSF;.WSH;.MSC', 'PROCESSOR_ARCHITECTURE': 'AMD64', 'PROCESSOR_IDENTIFIER': 'AMD64 Family 23 Model 160 Stepping 0, AuthenticAMD', 'PROCESSOR_LEVEL': '23', 'PROCESSOR_REVISION': 'a000', 'PROGRAMDATA': 'C:\\\\ProgramData', 'PROGRAMFILES': 'C:\\\\Program Files', 'PROGRAMFILES(X86)': 'C:\\\\Program Files (x86)', 'PROGRAMW6432': 'C:\\\\Program Files', 'PROMPT': '$P$G', 'PSMODULEPATH': 'C:\\\\Program Files\\\\WindowsPowerShell\\\\Modules;C:\\\\Windows\\\\system32\\\\WindowsPowerShell\\\\v1.0\\\\Modules', 'PUBLIC': 'C:\\\\Users\\\\Public', 'SESSIONNAME': 'Console', 'SYSTEMDRIVE': 'C:', 'SYSTEMROOT': 'C:\\\\Windows', 'TEMP': 'C:\\\\Users\\\\SUNILZ~1\\\\AppData\\\\Local\\\\Temp', 'TMP': 'C:\\\\Users\\\\SUNILZ~1\\\\AppData\\\\Local\\\\Temp', 'USERDOMAIN': 'DELL-INSPIRON-S', 'USERDOMAIN_ROAMINGPROFILE': 'DELL-INSPIRON-S', 'USERNAME': 'Sunil Zambare', 'USERPROFILE': 'C:\\\\Users\\\\Sunil Zambare', 'WINDIR': 'C:\\\\Windows', 'PYDEVD_USE_FRAME_EVAL': 'NO', 'TERM': 'xterm-color', 'CLICOLOR': '1', 'FORCE_COLOR': '1', 'CLICOLOR_FORCE': '1', 'PAGER': 'cat', 'GIT_PAGER': 'cat', 'MPLBACKEND': 'module://matplotlib_inline.backend_inline'})\n",
      "*-----------------------------------------------------------------*\n"
     ]
    },
    {
     "ename": "KeyError",
     "evalue": "'HOME'",
     "output_type": "error",
     "traceback": [
      "\u001b[1;31m---------------------------------------------------------------------------\u001b[0m",
      "\u001b[1;31mKeyError\u001b[0m                                  Traceback (most recent call last)",
      "Cell \u001b[1;32mIn[3], line 9\u001b[0m\n\u001b[0;32m      6\u001b[0m \u001b[38;5;28mprint\u001b[39m(\u001b[38;5;124m'\u001b[39m\u001b[38;5;124m*-----------------------------------------------------------------*\u001b[39m\u001b[38;5;124m'\u001b[39m)\n\u001b[0;32m      8\u001b[0m \u001b[38;5;66;03m# Access a particular environment variable \u001b[39;00m\n\u001b[1;32m----> 9\u001b[0m \u001b[38;5;28mprint\u001b[39m(\u001b[43mos\u001b[49m\u001b[38;5;241;43m.\u001b[39;49m\u001b[43menviron\u001b[49m\u001b[43m[\u001b[49m\u001b[38;5;124;43m'\u001b[39;49m\u001b[38;5;124;43mHOME\u001b[39;49m\u001b[38;5;124;43m'\u001b[39;49m\u001b[43m]\u001b[49m)\n\u001b[0;32m     10\u001b[0m \u001b[38;5;28mprint\u001b[39m(\u001b[38;5;124m'\u001b[39m\u001b[38;5;124m*-----------------------------------------------------------------*\u001b[39m\u001b[38;5;124m'\u001b[39m)\n\u001b[0;32m     11\u001b[0m \u001b[38;5;28mprint\u001b[39m(os\u001b[38;5;241m.\u001b[39menviron[\u001b[38;5;124m'\u001b[39m\u001b[38;5;124mPATH\u001b[39m\u001b[38;5;124m'\u001b[39m])\n",
      "File \u001b[1;32m<frozen os>:714\u001b[0m, in \u001b[0;36m__getitem__\u001b[1;34m(self, key)\u001b[0m\n",
      "\u001b[1;31mKeyError\u001b[0m: 'HOME'"
     ]
    }
   ],
   "source": [
    "import os\n",
    "\n",
    "# Access all environment variables \n",
    "print('*-----------------------------------------------------------------*')\n",
    "print(os.environ)\n",
    "print('*-----------------------------------------------------------------*')\n",
    "\n",
    "# Access a particular environment variable \n",
    "print(os.environ['HOME'])\n",
    "print('*-----------------------------------------------------------------*')\n",
    "print(os.environ['PATH'])\n",
    "print('*-----------------------------------------------------------------*')"
   ]
  },
  {
   "cell_type": "markdown",
   "id": "0f44c27c-b78d-43d7-995b-49be3309c991",
   "metadata": {},
   "source": [
    "#### 4.Write a Python program to get the current username."
   ]
  },
  {
   "cell_type": "code",
   "execution_count": 4,
   "id": "31d07dfc-83ea-4e95-9a08-1affe7c1e163",
   "metadata": {},
   "outputs": [
    {
     "data": {
      "text/plain": [
       "'Sunil Zambare'"
      ]
     },
     "execution_count": 4,
     "metadata": {},
     "output_type": "execute_result"
    }
   ],
   "source": [
    "import getpass\n",
    "\n",
    "getpass.getuser()"
   ]
  },
  {
   "cell_type": "markdown",
   "id": "684fda33-3786-433e-84bf-1231004f7cce",
   "metadata": {},
   "source": [
    "#### 5. Write a Python to find local IP addresses using Python's stdlib"
   ]
  },
  {
   "cell_type": "code",
   "execution_count": 6,
   "id": "0f83580d-916b-4f0d-94fd-70bf13ab4cfd",
   "metadata": {},
   "outputs": [
    {
     "name": "stdout",
     "output_type": "stream",
     "text": [
      "192.168.153.234\n"
     ]
    }
   ],
   "source": [
    "import socket\n",
    "\n",
    "print([l for l in ([ip for ip in socket.gethostbyname_ex(socket.gethostname())[2] \n",
    "if not ip.startswith(\"127.\")][:1], [[(s.connect(('8.8.8.8', 53)), \n",
    "s.getsockname()[0], s.close()) for s in [socket.socket(socket.AF_INET, socket.SOCK_DGRAM)]][0][1]]) if l][0][0])"
   ]
  },
  {
   "cell_type": "markdown",
   "id": "0a836397-ca04-4648-a95c-91a61c9f7709",
   "metadata": {},
   "source": [
    "### 6.Write a Python program to get height and width of the console window.[NOT SOLVED]"
   ]
  },
  {
   "cell_type": "markdown",
   "id": "846bf879-ed2e-4897-bb3d-6535aca0a99f",
   "metadata": {},
   "source": [
    "#### 7. Write a program to get execution time for a Python method."
   ]
  },
  {
   "cell_type": "code",
   "execution_count": 7,
   "id": "be0bbc4a-4a38-471d-b3a6-8a31fe8696e5",
   "metadata": {},
   "outputs": [
    {
     "name": "stdout",
     "output_type": "stream",
     "text": [
      "(Result, Time) of sum 1 to 5 is: (15, 0.0)\n"
     ]
    }
   ],
   "source": [
    "import time\n",
    "\n",
    "def sum_of_n_numbers(n):\n",
    "    start_time = time.time()\n",
    "    s = 0\n",
    "    for i in range(1, n+1):\n",
    "        s += i\n",
    "    end_time = time.time()\n",
    "    return s, end_time - start_time\n",
    "\n",
    "n = 5\n",
    "print('(Result, Time) of sum 1 to {} is: {}'.format(n, sum_of_n_numbers(n)))"
   ]
  },
  {
   "cell_type": "markdown",
   "id": "ebaf7fcb-4d05-4284-ac61-75d4ef366401",
   "metadata": {},
   "source": [
    "#### 8.Write a python program to sum of the first n positive integers."
   ]
  },
  {
   "cell_type": "code",
   "execution_count": 8,
   "id": "09ba95fe-cfb3-4654-bb3f-653d487de611",
   "metadata": {},
   "outputs": [
    {
     "data": {
      "text/plain": [
       "120.0"
      ]
     },
     "execution_count": 8,
     "metadata": {},
     "output_type": "execute_result"
    }
   ],
   "source": [
    "def sum_of_firstn(n):\n",
    "    return ((n * (n + 1)) / 2)\n",
    "            \n",
    "sum_of_firstn(15)"
   ]
  },
  {
   "cell_type": "markdown",
   "id": "ecfcfdd1-90a6-4a80-9fc6-7959b2e73023",
   "metadata": {},
   "source": [
    "#### 9.Write a Python program to convert height (in feet and inches) to centimeters."
   ]
  },
  {
   "cell_type": "code",
   "execution_count": 9,
   "id": "002337de-0995-4520-b89e-4a662f47bedd",
   "metadata": {},
   "outputs": [
    {
     "name": "stdout",
     "output_type": "stream",
     "text": [
      "Your height in centimeters is: 160\n"
     ]
    }
   ],
   "source": [
    "def feet_to_cm(ft, inch):\n",
    "    ft_to_inch = ft * 12            # 1 foot = 12 inch\n",
    "    total_inch = ft_to_inch + inch\n",
    "    return round(total_inch * 2.54)        # 1 inch = 2.54 cm\n",
    "\n",
    "print('Your height in centimeters is: {}'.format(feet_to_cm(5, 3)))"
   ]
  },
  {
   "cell_type": "markdown",
   "id": "6e401a8b-1ffe-47a3-89df-b39867a87f0d",
   "metadata": {},
   "source": [
    "#### 10.Write a Python program to calculate the hypotenuse of a right angled triangle."
   ]
  },
  {
   "cell_type": "code",
   "execution_count": 10,
   "id": "d236dd81-bd9f-4916-939a-6620382b6d90",
   "metadata": {},
   "outputs": [
    {
     "name": "stdout",
     "output_type": "stream",
     "text": [
      "The hypotenuse of right angle triangle is: 5.0\n"
     ]
    }
   ],
   "source": [
    "import math\n",
    "\n",
    "def hypotenuse_calc(b, h):\n",
    "    return math.sqrt(b**2 + h**2)\n",
    "\n",
    "print('The hypotenuse of right angle triangle is: {}'.format(hypotenuse_calc(3, 4)))"
   ]
  }
 ],
 "metadata": {
  "kernelspec": {
   "display_name": "Python 3 (ipykernel)",
   "language": "python",
   "name": "python3"
  },
  "language_info": {
   "codemirror_mode": {
    "name": "ipython",
    "version": 3
   },
   "file_extension": ".py",
   "mimetype": "text/x-python",
   "name": "python",
   "nbconvert_exporter": "python",
   "pygments_lexer": "ipython3",
   "version": "3.12.6"
  }
 },
 "nbformat": 4,
 "nbformat_minor": 5
}
