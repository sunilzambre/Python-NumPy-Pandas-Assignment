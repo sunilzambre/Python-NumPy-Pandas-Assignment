{
 "cells": [
  {
   "cell_type": "markdown",
   "id": "b4a06900-34c6-4557-9c03-f50b5be347c4",
   "metadata": {},
   "source": [
    "#### 1.Write a Python program to convert the distance (in feet) to inches, yards, and miles."
   ]
  },
  {
   "cell_type": "code",
   "execution_count": 1,
   "id": "6a360e14-e3c0-4354-ba30-a5aa00d548a7",
   "metadata": {},
   "outputs": [
    {
     "name": "stdout",
     "output_type": "stream",
     "text": [
      "Converted 100 feet distance into:\n",
      "\n",
      "Inch:1200\n",
      "Yards:33.33\n",
      "miles:0.02\n"
     ]
    }
   ],
   "source": [
    "def distance_converter(feet):\n",
    "    inch = feet * 12\n",
    "    yards = feet / 3\n",
    "    miles = feet / 5280\n",
    "    return round(inch, 2), round(yards, 2), round(miles, 2)\n",
    "\n",
    "print('Converted 100 feet distance into:\\n\\nInch:{}\\nYards:{}\\nmiles:{}'.format(distance_converter(100)[0], \n",
    "                                                    distance_converter(100)[1],distance_converter(100)[2]))"
   ]
  },
  {
   "cell_type": "markdown",
   "id": "02ef6e45-5e83-4c0a-bace-125f3d8a7662",
   "metadata": {},
   "source": [
    "#### 2.Write a Python program to convert all units of time into seconds."
   ]
  },
  {
   "cell_type": "code",
   "execution_count": 2,
   "id": "31ec1051-a3d0-43ae-8f37-54b0eadbd3c9",
   "metadata": {},
   "outputs": [
    {
     "name": "stdout",
     "output_type": "stream",
     "text": [
      "Total time converted into seconds: 364810\n"
     ]
    }
   ],
   "source": [
    "def time_convert(days, hours, minutes, seconds):\n",
    "    days = days * 24 * 60 * 60\n",
    "    hours = hours * 60 * 60\n",
    "    minutes = minutes * 60\n",
    "    seconds = seconds\n",
    "    \n",
    "    total_seconds = days + hours + minutes + seconds\n",
    "    return total_seconds\n",
    "\n",
    "print('Total time converted into seconds: {}'.format(time_convert(4, 5, 20, 10)))"
   ]
  },
  {
   "cell_type": "markdown",
   "id": "31093e27-4d0e-4aac-95e8-992a7a85d816",
   "metadata": {},
   "source": [
    "#### 3.Write a Python program to get an absolute file path."
   ]
  },
  {
   "cell_type": "code",
   "execution_count": 3,
   "id": "519d46eb-43f9-4cbb-9151-ececf734c287",
   "metadata": {},
   "outputs": [
    {
     "data": {
      "text/plain": [
       "'D:\\\\Jupyter_Notebook\\\\file_41.txt'"
      ]
     },
     "execution_count": 3,
     "metadata": {},
     "output_type": "execute_result"
    }
   ],
   "source": [
    "def abs_file_path(file_name):\n",
    "    from os import path\n",
    "    return path.abspath('file_41.txt')\n",
    "\n",
    "abs_file_path('file1.txt')"
   ]
  },
  {
   "cell_type": "markdown",
   "id": "973fe314-1f58-41d7-8462-85fd90635e54",
   "metadata": {},
   "source": [
    "#### 4.Write a Python program to get file creation and modification date/times."
   ]
  },
  {
   "cell_type": "code",
   "execution_count": 4,
   "id": "6ec4f1fc-3fdb-48c3-980c-1aa23394b15e",
   "metadata": {},
   "outputs": [
    {
     "name": "stdout",
     "output_type": "stream",
     "text": [
      "Last modified:\n",
      "Thu Jan 30 23:18:43 2025\n",
      "\n",
      "Time Created:\n",
      "Thu Jan 30 23:17:03 2025\n"
     ]
    }
   ],
   "source": [
    "import os.path, time\n",
    "\n",
    "print('Last modified:')\n",
    "print(time.ctime(os.path.getmtime('file1.txt')))\n",
    "\n",
    "print('\\nTime Created:')\n",
    "print(time.ctime(os.path.getctime('file1.txt')))"
   ]
  },
  {
   "cell_type": "markdown",
   "id": "cf40fdbe-d7e1-4168-b900-283f21965506",
   "metadata": {},
   "source": [
    "#### 5.Write a Python program to convert seconds to day, hour, minutes and seconds."
   ]
  },
  {
   "cell_type": "code",
   "execution_count": 6,
   "id": "d3ae46f7-2948-4a33-a86d-3e19f28befdc",
   "metadata": {},
   "outputs": [
    {
     "name": "stdout",
     "output_type": "stream",
     "text": [
      "Input second: 123456789\n",
      "\n",
      "Output in =\n",
      "Day: 1428\n",
      "Hour: 21\n",
      "Minutes: 33\n",
      "Seconds: 9\n"
     ]
    }
   ],
   "source": [
    "def second_converter(sec):\n",
    "    day = sec // (24 * 60 * 60)\n",
    "    remaining_sec_after_day_conversion = sec % (24 * 60 * 60)\n",
    "    hour = remaining_sec_after_day_conversion // 3600\n",
    "    \n",
    "    remaining_sec_after_hour_conversion = sec % 3600\n",
    "    minute = remaining_sec_after_hour_conversion // 60\n",
    "    \n",
    "    second = sec % 60\n",
    "    \n",
    "    return day, hour, minute, second\n",
    "sec = 123456789\n",
    "print('Input second: {}'.format(sec))\n",
    "day = second_converter(sec)[0]\n",
    "hour = second_converter(sec)[1]\n",
    "minutes = second_converter(sec)[2]\n",
    "second = second_converter(sec)[3]\n",
    "\n",
    "print('\\nOutput in =\\nDay: {}\\nHour: {}\\nMinutes: {}\\nSeconds: {}'.format(day, hour, minutes, second))"
   ]
  },
  {
   "cell_type": "markdown",
   "id": "acddf7bc-97f1-4f88-9aea-04bd8699d173",
   "metadata": {},
   "source": [
    "#### 6.Write a Python program to calculate body mass index."
   ]
  },
  {
   "cell_type": "code",
   "execution_count": 7,
   "id": "362703b4-07d8-4b99-b1f1-ae32a278b4a8",
   "metadata": {},
   "outputs": [
    {
     "data": {
      "text/plain": [
       "2.83"
      ]
     },
     "execution_count": 7,
     "metadata": {},
     "output_type": "execute_result"
    }
   ],
   "source": [
    "def BMI(weight, height_in_meter):\n",
    "    return round(weight / (height_in_meter**2), 2)    # weight/(height_in_meter)^2\n",
    "\n",
    "BMI(92, 5.7)"
   ]
  },
  {
   "cell_type": "markdown",
   "id": "d01b8da5-1a4a-49c7-b1e4-2a991c6a85b7",
   "metadata": {},
   "source": [
    "#### 7.Write a Python program to convert pressure in kilopascals to pounds per square inch, a millimeter of mercury (mmHg) and atmosphere pressure."
   ]
  },
  {
   "cell_type": "code",
   "execution_count": 8,
   "id": "fd469345-01e4-43cd-b474-6f1e25ed90a1",
   "metadata": {},
   "outputs": [
    {
     "name": "stdout",
     "output_type": "stream",
     "text": [
      "Pressure in pounds per square inch: 1.79\n",
      "Pressure in millimeter of mercury (mmHg): 92.64\n",
      "Pressure in atm: 0.12\n"
     ]
    }
   ],
   "source": [
    "def pressure_converter(kpa):\n",
    "    ppsi = kpa / 6.89475729     #pounds per square inch.     1 kpa = pressure in kpa / 6.895\n",
    "    mmhg = kpa * 7.501          # 1 mmhg = kpa * 7.501\n",
    "    atm = kpa / 101.325         # 1 atm = kpa / 101.325\n",
    "    \n",
    "    print('Pressure in pounds per square inch: %.2f' %(ppsi))   \n",
    "    print('Pressure in millimeter of mercury (mmHg): %.2f' %(mmhg))\n",
    "    print('Pressure in atm: %.2f' %(atm))\n",
    "    \n",
    "pressure_converter(12.35)"
   ]
  },
  {
   "cell_type": "markdown",
   "id": "81ae46ae-9aff-49be-96cd-b1c366f6dc32",
   "metadata": {},
   "source": [
    "### 8.Write a Python program to calculate the sum of the digits in an integer."
   ]
  },
  {
   "cell_type": "code",
   "execution_count": 9,
   "id": "2edda33d-19e9-461f-9455-d9e5dbd6e6c7",
   "metadata": {},
   "outputs": [
    {
     "data": {
      "text/plain": [
       "15"
      ]
     },
     "execution_count": 9,
     "metadata": {},
     "output_type": "execute_result"
    }
   ],
   "source": [
    "def sum_of_digits(n):\n",
    "    s = 0\n",
    "    while(n != 0):\n",
    "        rem = n % 10\n",
    "        s = s + rem\n",
    "        n = n // 10\n",
    "    return s\n",
    "    \n",
    "sum_of_digits(12345)"
   ]
  },
  {
   "cell_type": "markdown",
   "id": "78c9b714-10f2-45f4-8ace-8f2fb2236635",
   "metadata": {},
   "source": [
    "#### 9. Write a Python program to sort three integers without using conditional statements and loops."
   ]
  },
  {
   "cell_type": "code",
   "execution_count": 10,
   "id": "a93554d5-819a-4aaa-8b04-583535a0e425",
   "metadata": {},
   "outputs": [
    {
     "name": "stdout",
     "output_type": "stream",
     "text": [
      "Integers after sorting in ascending order: (2, 5, 9)\n"
     ]
    }
   ],
   "source": [
    "def sort_three_integer(a, b, c):\n",
    "    maximum = max(a, b, c)\n",
    "    minimum = min(a, b, c)\n",
    "    middle = (a + b + c) - (maximum + minimum)\n",
    "    return minimum, middle, maximum\n",
    "\n",
    "print('Integers after sorting in ascending order:', sort_three_integer(5, 2, 9))"
   ]
  },
  {
   "cell_type": "markdown",
   "id": "71a641db-897a-45b8-b7ef-374c63b6108c",
   "metadata": {},
   "source": [
    "#### 10.Write a Python program to sort files by date."
   ]
  },
  {
   "cell_type": "code",
   "execution_count": 11,
   "id": "408e05f4-c7e2-4be5-b0bc-ec9ff9c5f813",
   "metadata": {},
   "outputs": [
    {
     "name": "stdout",
     "output_type": "stream",
     "text": [
      "file1.txt\n"
     ]
    }
   ],
   "source": [
    "import glob\n",
    "import os\n",
    "\n",
    "files = glob.glob(\"*.txt\")\n",
    "files.sort(key=os.path.getmtime)\n",
    "print(\"\\n\".join(files))"
   ]
  },
  {
   "cell_type": "code",
   "execution_count": null,
   "id": "1ca5e5a3-0285-4eae-b33a-573bf4397960",
   "metadata": {},
   "outputs": [],
   "source": []
  }
 ],
 "metadata": {
  "kernelspec": {
   "display_name": "Python 3 (ipykernel)",
   "language": "python",
   "name": "python3"
  },
  "language_info": {
   "codemirror_mode": {
    "name": "ipython",
    "version": 3
   },
   "file_extension": ".py",
   "mimetype": "text/x-python",
   "name": "python",
   "nbconvert_exporter": "python",
   "pygments_lexer": "ipython3",
   "version": "3.12.6"
  }
 },
 "nbformat": 4,
 "nbformat_minor": 5
}
