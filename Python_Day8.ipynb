{
 "cells": [
  {
   "cell_type": "markdown",
   "id": "4b263262-1678-443f-8cb7-0d9c4fd35f4c",
   "metadata": {},
   "source": [
    "#### 1.Write a Python program to get the details of math module."
   ]
  },
  {
   "cell_type": "code",
   "execution_count": 1,
   "id": "99606483-93cb-4a10-a99b-d29dccbe312d",
   "metadata": {},
   "outputs": [
    {
     "name": "stdout",
     "output_type": "stream",
     "text": [
      "['__doc__', '__loader__', '__name__', '__package__', '__spec__', 'acos', 'acosh', 'asin', 'asinh', 'atan', 'atan2', 'atanh', 'cbrt', 'ceil', 'comb', 'copysign', 'cos', 'cosh', 'degrees', 'dist', 'e', 'erf', 'erfc', 'exp', 'exp2', 'expm1', 'fabs', 'factorial', 'floor', 'fmod', 'frexp', 'fsum', 'gamma', 'gcd', 'hypot', 'inf', 'isclose', 'isfinite', 'isinf', 'isnan', 'isqrt', 'lcm', 'ldexp', 'lgamma', 'log', 'log10', 'log1p', 'log2', 'modf', 'nan', 'nextafter', 'perm', 'pi', 'pow', 'prod', 'radians', 'remainder', 'sin', 'sinh', 'sqrt', 'sumprod', 'tan', 'tanh', 'tau', 'trunc', 'ulp']\n"
     ]
    }
   ],
   "source": [
    "import math\n",
    "print(dir(math))"
   ]
  },
  {
   "cell_type": "markdown",
   "id": "a026e79b-d2b6-4f6e-a74c-f3fb3d01d62d",
   "metadata": {},
   "source": [
    "#### 2.Write a Python program to calculate midpoints of a line."
   ]
  },
  {
   "cell_type": "code",
   "execution_count": 2,
   "id": "13c7239f-1e42-4dc0-b327-c192007ffc66",
   "metadata": {},
   "outputs": [
    {
     "name": "stdout",
     "output_type": "stream",
     "text": [
      "Midpoints: (x,y)=(3.5,2.0)\n"
     ]
    }
   ],
   "source": [
    "x1, y1, x2, y2 = 3, -2, 4, 6\n",
    "\n",
    "x_mid = (x1 + x2)/2\n",
    "y_mid = (y1 + y2)/2\n",
    "\n",
    "print('Midpoints: (x,y)=({},{})'.format(x_mid, y_mid))"
   ]
  },
  {
   "cell_type": "markdown",
   "id": "2bdaef9d-c976-4ff6-8506-2790de1a6db9",
   "metadata": {},
   "source": [
    "#### 3.Write a Python program to get a directory listing, sorted by creation date."
   ]
  },
  {
   "cell_type": "code",
   "execution_count": 4,
   "id": "c2960b6d-7e64-4442-95d7-f04c96770dcb",
   "metadata": {},
   "outputs": [
    {
     "name": "stdout",
     "output_type": "stream",
     "text": [
      "Sun Oct  6 15:53:11 2024 Churn_Customer_Oredoo.ipynb\n",
      "Sun Oct  6 15:55:24 2024 Mammography_end.ipynb\n",
      "Sun Oct  6 15:57:30 2024 Churn_Customers.ipynb\n",
      "Sun Oct  6 16:00:19 2024 Churn_Customer-checkpoint.ipynb\n",
      "Sun Oct  6 16:00:19 2024 Mammography_checkpoint.ipynb\n",
      "Sun Oct  6 16:11:02 2024 customer_churn.ipynb\n",
      "Sun Oct  6 16:15:28 2024 README.md\n",
      "Sun Oct  6 16:16:51 2024 telecom_customer_churn_prediction.ipynb\n",
      "Sun Oct  6 16:16:59 2024 telecom_customer_segmentation.ipynb\n",
      "Sat Jan 25 20:41:04 2025 Python_Day1.ipynb\n",
      "Sun Jan 26 14:09:34 2025 Python_Day2.ipynb\n",
      "Tue Jan 28 20:15:39 2025 Python_Day3.ipynb\n",
      "Wed Jan 29 20:37:41 2025 Python_Day4.ipynb\n",
      "Thu Jan 30 23:12:44 2025 Python_Day5.ipynb\n",
      "Thu Jan 30 23:17:03 2025 file1.txt\n",
      "Fri Jan 31 23:27:49 2025 Python_Day6.ipynb\n",
      "Sat Feb  1 14:21:20 2025 Python_Day7.ipynb\n",
      "Sun Feb  2 08:13:48 2025 Python_Day8.ipynb\n"
     ]
    }
   ],
   "source": [
    "from stat import S_ISREG, ST_CTIME, ST_MODE\n",
    "import os, sys, time\n",
    "\n",
    "#Relative or absolute path to the directory\n",
    "dir_path = sys.argv[1] if len(sys.argv) == 2 else r'.'\n",
    "\n",
    "#all entries in the directory w/ stats\n",
    "data = (os.path.join(dir_path, fn) for fn in os.listdir(dir_path))\n",
    "data = ((os.stat(path), path) for path in data)\n",
    "\n",
    "# regular files, insert creation date\n",
    "data = ((stat[ST_CTIME], path)\n",
    "           for stat, path in data if S_ISREG(stat[ST_MODE]))\n",
    "\n",
    "for cdate, path in sorted(data):\n",
    "    print(time.ctime(cdate), os.path.basename(path))"
   ]
  },
  {
   "cell_type": "markdown",
   "id": "0ed7f476-210b-4611-aab5-e7631483861a",
   "metadata": {},
   "source": [
    "#### 4.Write a Python program to hash a word."
   ]
  },
  {
   "cell_type": "code",
   "execution_count": 5,
   "id": "46b24937-9a8e-4114-8f1e-fbddc64bca73",
   "metadata": {},
   "outputs": [
    {
     "name": "stdout",
     "output_type": "stream",
     "text": [
      "The coded word is: W02\n"
     ]
    }
   ],
   "source": [
    "# Understood the code but don't why the code the word using this logic. \n",
    "# ord() function returns the number representing the unicode code of a specified character.\n",
    "\n",
    "soundx = [0, 1, 2, 3, 0, 1, 2, 0, 0, 2, 2, 4, 5, 5, 0, 1, 2, 6, 2, 3, 0, 1, 0, 2, 0, 2]  #26 English words customcode\n",
    "\n",
    "word = 'w3r'\n",
    "word = word.upper()                # W3R\n",
    "\n",
    "coded = word[0]                    # coded = 'W'\n",
    "for a in word[1: len(word)]:       # possible values for a: 3, R\n",
    "    i = 65 - ord(a)                # possible values of i: 14, -17\n",
    "    coded = coded + str(soundx[i]) # possible values of coded: W0, W02\n",
    "print('The coded word is:', coded)"
   ]
  },
  {
   "cell_type": "markdown",
   "id": "d438f17a-305a-4225-a6a9-8b94cf727d6e",
   "metadata": {},
   "source": [
    "#### 6.Write a Python program to get the copyright information."
   ]
  },
  {
   "cell_type": "code",
   "execution_count": 6,
   "id": "41d56d5f-9b10-4cf6-aa26-47679613137b",
   "metadata": {},
   "outputs": [
    {
     "name": "stdout",
     "output_type": "stream",
     "text": [
      "Copyright (c) 2001-2023 Python Software Foundation.\n",
      "All Rights Reserved.\n",
      "\n",
      "Copyright (c) 2000 BeOpen.com.\n",
      "All Rights Reserved.\n",
      "\n",
      "Copyright (c) 1995-2001 Corporation for National Research Initiatives.\n",
      "All Rights Reserved.\n",
      "\n",
      "Copyright (c) 1991-1995 Stichting Mathematisch Centrum, Amsterdam.\n",
      "All Rights Reserved.\n",
      "\n"
     ]
    }
   ],
   "source": [
    "import sys\n",
    "print(sys.copyright)\n",
    "print()"
   ]
  },
  {
   "cell_type": "markdown",
   "id": "be3c480a-0893-4db4-bc86-39d960596488",
   "metadata": {},
   "source": [
    "#### 7.Write a Python program to get the command-line arguments (name of the script, the number of arguments, arguments) passed to a script."
   ]
  },
  {
   "cell_type": "code",
   "execution_count": 7,
   "id": "2cc5b008-a582-461d-abb9-65ef060e3be9",
   "metadata": {},
   "outputs": [
    {
     "name": "stdout",
     "output_type": "stream",
     "text": [
      "Name/Path of the script: C:\\Users\\Sunil Zambare\\AppData\\Local\\Programs\\Python\\Python312\\Lib\\site-packages\\ipykernel_launcher.py\n",
      "Number of arguments: 3\n",
      "\n",
      "Argument list: ['C:\\\\Users\\\\Sunil Zambare\\\\AppData\\\\Local\\\\Programs\\\\Python\\\\Python312\\\\Lib\\\\site-packages\\\\ipykernel_launcher.py', '-f', 'C:\\\\Users\\\\Sunil Zambare\\\\AppData\\\\Roaming\\\\jupyter\\\\runtime\\\\kernel-453b27a0-94d4-464c-a21e-138eb1601d4f.json']\n"
     ]
    }
   ],
   "source": [
    "import sys\n",
    "\n",
    "print('Name/Path of the script:', sys.argv[0])\n",
    "print('Number of arguments:', len(sys.argv))\n",
    "print()\n",
    "print('Argument list:', list(sys.argv))"
   ]
  },
  {
   "cell_type": "markdown",
   "id": "3d97dc5c-644f-49ce-af13-93c33c102b49",
   "metadata": {},
   "source": [
    "#### 8.Write a Python program to test whether the system is a big-endian platform or little-endian platform."
   ]
  },
  {
   "cell_type": "code",
   "execution_count": 8,
   "id": "a657efdf-99a1-4983-b60f-7a3936aca8da",
   "metadata": {},
   "outputs": [
    {
     "name": "stdout",
     "output_type": "stream",
     "text": [
      "little-endian platform\n"
     ]
    }
   ],
   "source": [
    "import sys\n",
    "\n",
    "if sys.byteorder == 'little':         #intel, alpha\n",
    "    print('little-endian platform')\n",
    "else:                                 #motorola, sparc\n",
    "    print('big-endian platform')"
   ]
  },
  {
   "cell_type": "markdown",
   "id": "dd4e6967-473d-40ed-9c9a-bee34a64c33d",
   "metadata": {},
   "source": [
    "#### 9.Write a Python program to find the available built-in modules."
   ]
  },
  {
   "cell_type": "code",
   "execution_count": 9,
   "id": "6850b5f6-475a-4503-a31d-a7bf97c6e0b0",
   "metadata": {},
   "outputs": [
    {
     "name": "stdout",
     "output_type": "stream",
     "text": [
      "('_abc', '_ast', '_bisect', '_blake2', '_codecs', '_codecs_cn', '_codecs_hk', '_codecs_iso2022', '_codecs_jp', '_codecs_kr', '_codecs_tw', '_collections', '_contextvars', '_csv', '_datetime', '_functools', '_heapq', '_imp', '_io', '_json', '_locale', '_lsprof', '_md5', '_multibytecodec', '_opcode', '_operator', '_pickle', '_random', '_sha1', '_sha2', '_sha3', '_signal', '_sre', '_stat', '_statistics', '_string', '_struct', '_symtable', '_thread', '_tokenize', '_tracemalloc', '_typing', '_warnings', '_weakref', '_winapi', '_xxinterpchannels', '_xxsubinterpreters', 'array', 'atexit', 'audioop', 'binascii', 'builtins', 'cmath', 'errno', 'faulthandler', 'gc', 'itertools', 'marshal', 'math', 'mmap', 'msvcrt', 'nt', 'sys', 'time', 'winreg', 'xxsubtype', 'zlib')\n"
     ]
    }
   ],
   "source": [
    "import sys\n",
    "import textwrap\n",
    "print(sys.builtin_module_names)"
   ]
  },
  {
   "cell_type": "markdown",
   "id": "ce6fb97d-64c1-4226-8b8b-9c5ba6d8b98e",
   "metadata": {},
   "source": [
    "#### 10.Write a Python program to get the size of an object in bytes."
   ]
  },
  {
   "cell_type": "code",
   "execution_count": 10,
   "id": "187e3c55-3cbb-44da-96d0-9479ee596195",
   "metadata": {},
   "outputs": [
    {
     "name": "stdout",
     "output_type": "stream",
     "text": [
      "Size of str1=Mauli is: 46 bytes.\n",
      "Size of str2=Park is: 45 bytes.\n",
      "Size of num1=602 is: 28 bytes.\n"
     ]
    }
   ],
   "source": [
    "import sys\n",
    "\n",
    "str1 = 'Mauli'\n",
    "str2 = 'Park'\n",
    "num1 = 602\n",
    "\n",
    "print('Size of str1={} is: {} bytes.'.format(str1, sys.getsizeof(str1)))\n",
    "print('Size of str2={} is: {} bytes.'.format(str2, sys.getsizeof(str2)))\n",
    "print('Size of num1={} is: {} bytes.'.format(num1, sys.getsizeof(num1)))"
   ]
  }
 ],
 "metadata": {
  "kernelspec": {
   "display_name": "Python 3 (ipykernel)",
   "language": "python",
   "name": "python3"
  },
  "language_info": {
   "codemirror_mode": {
    "name": "ipython",
    "version": 3
   },
   "file_extension": ".py",
   "mimetype": "text/x-python",
   "name": "python",
   "nbconvert_exporter": "python",
   "pygments_lexer": "ipython3",
   "version": "3.12.6"
  }
 },
 "nbformat": 4,
 "nbformat_minor": 5
}
