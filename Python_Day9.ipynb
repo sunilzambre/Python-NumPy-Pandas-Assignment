{
 "cells": [
  {
   "cell_type": "markdown",
   "id": "4e682048-94a4-4366-93c2-2443e0494705",
   "metadata": {},
   "source": [
    "#### 1.Write a Python program to get the current value of the recursion limit."
   ]
  },
  {
   "cell_type": "code",
   "execution_count": 1,
   "id": "b0a664b1-1a4b-4b3e-952e-1772814674ee",
   "metadata": {},
   "outputs": [
    {
     "name": "stdout",
     "output_type": "stream",
     "text": [
      "Current value of recursion limit: 3000\n"
     ]
    }
   ],
   "source": [
    "import sys\n",
    "\n",
    "print('Current value of recursion limit:', sys.getrecursionlimit())"
   ]
  },
  {
   "cell_type": "markdown",
   "id": "a216380c-39e0-4643-b9e6-8e79e88e1719",
   "metadata": {},
   "source": [
    "#### 2.Write a Python program to concatenate N strings."
   ]
  },
  {
   "cell_type": "code",
   "execution_count": 2,
   "id": "5b196cdd-5f62-4cbb-8ef0-514e3c11e6e2",
   "metadata": {},
   "outputs": [
    {
     "name": "stdout",
     "output_type": "stream",
     "text": [
      "Concatenated string of colors:\t Red Green Blue Yellow Cyan\n"
     ]
    }
   ],
   "source": [
    "list_of_color = ['Red', 'Green', 'Blue', 'Yellow', 'Cyan']\n",
    "all_colors = ' '.join(list_of_color)\n",
    "print('Concatenated string of colors:\\t', all_colors)"
   ]
  },
  {
   "cell_type": "markdown",
   "id": "3a0fa20d-a508-4981-9c18-6c215a448777",
   "metadata": {},
   "source": [
    "#### 3.Write a Python program to calculate the sum over a container."
   ]
  },
  {
   "cell_type": "code",
   "execution_count": 3,
   "id": "a2c9cad6-7622-4db5-a148-c184a8ae6c1a",
   "metadata": {},
   "outputs": [
    {
     "name": "stdout",
     "output_type": "stream",
     "text": [
      "Sum over a list container: 150\n"
     ]
    }
   ],
   "source": [
    "lst = [10, 20, 30, 40, 50]\n",
    "sum = 0\n",
    "\n",
    "for i in lst:\n",
    "    sum = sum + i\n",
    "print('Sum over a list container:', sum)"
   ]
  },
  {
   "cell_type": "markdown",
   "id": "7720a4b1-8be9-4d7b-9353-63152aa6399a",
   "metadata": {},
   "source": [
    "#### 4.Write a Python program to test whether all numbers of a list is greater than a certain number."
   ]
  },
  {
   "cell_type": "code",
   "execution_count": 4,
   "id": "6259e881-0364-4fc8-8b72-333a25960285",
   "metadata": {},
   "outputs": [
    {
     "name": "stdout",
     "output_type": "stream",
     "text": [
      "True\n",
      "False\n"
     ]
    }
   ],
   "source": [
    "# Return True if bool(x) is True for all values x in the iterable.\n",
    "\n",
    "num = [2, 3, 4]\n",
    "print(all(x > 1 for x in num))\n",
    "print(all(x > 5 for x in num))"
   ]
  },
  {
   "cell_type": "markdown",
   "id": "835d1085-635b-401e-ad39-2c44afac3fe9",
   "metadata": {},
   "source": [
    "#### 5.Write a Python program to count the number occurrence of a specific character in a string."
   ]
  },
  {
   "cell_type": "code",
   "execution_count": 5,
   "id": "39830d9e-a940-4f1f-a4e3-68a7e2ab4ecc",
   "metadata": {},
   "outputs": [
    {
     "name": "stdout",
     "output_type": "stream",
     "text": [
      "3\n"
     ]
    }
   ],
   "source": [
    "string = 'character occurance'\n",
    "\n",
    "char = 'r'\n",
    "count = 0\n",
    "for i in string:\n",
    "    if i == char:\n",
    "        count += 1\n",
    "print(count)"
   ]
  },
  {
   "cell_type": "markdown",
   "id": "1ae55931-0442-4750-8aab-5dce082dbe80",
   "metadata": {},
   "source": [
    "#### 6.Write a Python program to check if a file path is a file or a directory."
   ]
  },
  {
   "cell_type": "code",
   "execution_count": 6,
   "id": "100517f4-feef-4a90-9383-896dbb25aad9",
   "metadata": {},
   "outputs": [
    {
     "name": "stdout",
     "output_type": "stream",
     "text": [
      "This is a file path.\n"
     ]
    },
    {
     "name": "stderr",
     "output_type": "stream",
     "text": [
      "<>:9: SyntaxWarning: invalid escape sequence '\\('\n",
      "<>:9: SyntaxWarning: invalid escape sequence '\\('\n",
      "C:\\Users\\Sunil Zambare\\AppData\\Local\\Temp\\ipykernel_26416\\930569650.py:9: SyntaxWarning: invalid escape sequence '\\('\n",
      "  print('This is something else \\(socket, FIFO, device file)')\n"
     ]
    }
   ],
   "source": [
    "import os\n",
    "\n",
    "path = 'file1.txt'\n",
    "if os.path.isdir(path):\n",
    "    print('This is a directory path.')\n",
    "elif os.path.isfile(path):\n",
    "    print('This is a file path.')\n",
    "else:\n",
    "    print('This is something else \\(socket, FIFO, device file)')"
   ]
  },
  {
   "cell_type": "markdown",
   "id": "aa3919ec-c3b9-44d4-94d0-0bdc67b032a2",
   "metadata": {},
   "source": [
    "#### 7.Write a Python program to get the ASCII value of a character."
   ]
  },
  {
   "cell_type": "code",
   "execution_count": 7,
   "id": "a77405ea-e046-46ac-981f-aa4148069b1e",
   "metadata": {},
   "outputs": [
    {
     "name": "stdout",
     "output_type": "stream",
     "text": [
      "ASCII value of f is: 102\n"
     ]
    }
   ],
   "source": [
    "char = 'f'\n",
    "print('ASCII value of {} is: {}'.format(char, ord(char)))"
   ]
  },
  {
   "cell_type": "markdown",
   "id": "d11bb2ca-3afe-4528-a34b-2fe1e7c9f0df",
   "metadata": {},
   "source": [
    "#### 8.Write a Python program to get the size of a file."
   ]
  },
  {
   "cell_type": "code",
   "execution_count": 8,
   "id": "1de82f76-dd47-4ec4-bba8-6b6014b955ad",
   "metadata": {},
   "outputs": [
    {
     "name": "stdout",
     "output_type": "stream",
     "text": [
      "0 bytes\n"
     ]
    }
   ],
   "source": [
    "import os\n",
    "\n",
    "print(os.path.getsize('file1.txt'), end = '')\n",
    "print(' bytes')"
   ]
  },
  {
   "cell_type": "markdown",
   "id": "a87b4c7e-b766-423d-8e3f-20ac45e3653d",
   "metadata": {},
   "source": [
    "#### 9.Given variables x=30 and y=20, write a Python program to print \"30+20=50\"."
   ]
  },
  {
   "cell_type": "code",
   "execution_count": 9,
   "id": "6fdb319a-920f-43c8-8575-d56a7ad08728",
   "metadata": {},
   "outputs": [
    {
     "name": "stdout",
     "output_type": "stream",
     "text": [
      "30+20=50\n"
     ]
    }
   ],
   "source": [
    "x = 30\n",
    "y = 20\n",
    "\n",
    "print('{}+{}={}'.format(x, y, x+y))"
   ]
  },
  {
   "cell_type": "markdown",
   "id": "9157ae9d-d2df-4c56-a524-ecba55262bf3",
   "metadata": {},
   "source": [
    "#### 10.Write a Python program to perform an action if a condition is true."
   ]
  },
  {
   "cell_type": "code",
   "execution_count": 10,
   "id": "2c4323fd-4135-4d7b-90b1-c038a50fc288",
   "metadata": {},
   "outputs": [
    {
     "name": "stdout",
     "output_type": "stream",
     "text": [
      "First day of a Month!\n"
     ]
    }
   ],
   "source": [
    "def check_condition(value):\n",
    "    if value == 1:\n",
    "        print('First day of a Month!')\n",
    "    pass\n",
    "    \n",
    "check_condition(1)"
   ]
  },
  {
   "cell_type": "markdown",
   "id": "959790ab-3b4c-4034-9d8f-cffdbc4cb19f",
   "metadata": {},
   "source": [
    "#### 11.Write a Python program to create a copy of its own source code."
   ]
  },
  {
   "cell_type": "code",
   "execution_count": 11,
   "id": "823b4509-e2c0-4145-82ff-44e2ee6ae2e6",
   "metadata": {},
   "outputs": [
    {
     "name": "stdout",
     "output_type": "stream",
     "text": [
      "print(lambda str='print(lambda str=%r: (str %% str))()': (str % str))()\n"
     ]
    }
   ],
   "source": [
    "print((lambda str='print(lambda str=%r: (str %% str))()': (str % str))())"
   ]
  },
  {
   "cell_type": "raw",
   "id": "6b936494-261f-4bcd-a722-d01d625a58c6",
   "metadata": {},
   "source": [
    "Quine Programming: A quine is a computer program which takes no input and produces a copy of its own source code as its only output."
   ]
  },
  {
   "cell_type": "code",
   "execution_count": null,
   "id": "4c1059b9-7571-4bcd-84bc-064046d228aa",
   "metadata": {},
   "outputs": [],
   "source": []
  }
 ],
 "metadata": {
  "kernelspec": {
   "display_name": "Python 3 (ipykernel)",
   "language": "python",
   "name": "python3"
  },
  "language_info": {
   "codemirror_mode": {
    "name": "ipython",
    "version": 3
   },
   "file_extension": ".py",
   "mimetype": "text/x-python",
   "name": "python",
   "nbconvert_exporter": "python",
   "pygments_lexer": "ipython3",
   "version": "3.12.6"
  }
 },
 "nbformat": 4,
 "nbformat_minor": 5
}
