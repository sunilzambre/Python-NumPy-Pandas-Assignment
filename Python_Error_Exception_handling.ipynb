{
 "cells": [
  {
   "cell_type": "markdown",
   "id": "e1067e48",
   "metadata": {},
   "source": [
    "# Error & Exception Handling\n",
    "- Python has many built-in exceptions (ArithmeticError, ZeroDivisionError, EOFError, IndexError, KeyError, SyntaxError,       IndentationError, FileNotFoundError etc) that are raised when your program encounters an error.\n",
    "- When the exception occurs Python interpreter stops the current process and passes it to the calling process until it is     handled. If exception is not handled the program will crash.\n",
    "- Exceptions in python can be handled using a try statement. The try block lets you test a block of code for errors.\n",
    "- The block of code which can raise an exception is placed inside the try clause. The code that will handle the exceptions   is written in the except clause.\n",
    "- The finally code block will execute regardless of the result of the try and except blocks.\n",
    "- We can also use the else keyword to define a block of code to be executed if no exceptions were raised.\n",
    "- Python also allows us to create our own exceptions that can be raised from the program using the raise keyword and caught   using the except clause. We can define what kind of error to raise, and the text to print to the user"
   ]
  },
  {
   "cell_type": "code",
   "execution_count": 1,
   "id": "790afe85",
   "metadata": {},
   "outputs": [
    {
     "name": "stdout",
     "output_type": "stream",
     "text": [
      "division by zero Exception occurred\n",
      "Run this block of code always\n"
     ]
    }
   ],
   "source": [
    "import sys  # Import the sys module for sys.exc_info()\n",
    "\n",
    "try:\n",
    "    print(100 / 0)  # ZeroDivisionError will be encountered here. So the control will move to the except block.\n",
    "\n",
    "except ZeroDivisionError:  # Specify the exception type to catch\n",
    "    print(sys.exc_info()[1], 'Exception occurred')  # This statement will be executed with details about the exception.\n",
    "\n",
    "else:\n",
    "    print('No exception occurred')  # This will be skipped as code block inside the try has an exception.\n",
    "\n",
    "finally:\n",
    "    print('Run this block of code always')  # This will always be executed regardless of whether there was an exception \n",
    "                                             #or not."
   ]
  },
  {
   "cell_type": "code",
   "execution_count": 2,
   "id": "a409d36d",
   "metadata": {},
   "outputs": [
    {
     "name": "stdout",
     "output_type": "stream",
     "text": [
      "Variable x is not defined\n"
     ]
    }
   ],
   "source": [
    "try:\n",
    "    print(x)  # NameError exception will be encountered as variable x is not defined\n",
    "except NameError:  # Specify the exception type to catch\n",
    "    print('Variable x is not defined')  # This statement will be executed with details about the exception."
   ]
  },
  {
   "cell_type": "code",
   "execution_count": 3,
   "id": "8679ed79",
   "metadata": {},
   "outputs": [
    {
     "name": "stdout",
     "output_type": "stream",
     "text": [
      "BELOW EXCEPTION OCCURRED\n",
      "[WinError 2] The system cannot find the file specified: 'test3.txt'\n",
      "\n",
      "Run this block of code always\n"
     ]
    }
   ],
   "source": [
    "import os  # Import the os module for os.remove\n",
    "import sys  # Import the sys module for sys.exc_info()\n",
    "\n",
    "try:\n",
    "    os.remove(\"test3.txt\")  # FileNotFoundError will be encountered as \"test3.txt\" may not exist.\n",
    "\n",
    "except FileNotFoundError:  # Specify the exception type to catch\n",
    "    print(\"BELOW EXCEPTION OCCURRED\")\n",
    "    print(sys.exc_info()[1])  # This statement will be executed with details about the exception.\n",
    "\n",
    "else:\n",
    "    print('\\nNo exception occurred')  # This will be skipped if an exception occurs.\n",
    "\n",
    "finally:\n",
    "    print('\\nRun this block of code always')  # This will always be executed regardless of whether there was an exception \n",
    "                                              # or not."
   ]
  },
  {
   "cell_type": "code",
   "execution_count": 4,
   "id": "99715009",
   "metadata": {},
   "outputs": [
    {
     "name": "stdout",
     "output_type": "stream",
     "text": [
      "Enter first number: 12\n",
      "Enter second number: 13\n",
      "0.9230769230769231\n",
      "FileNotFoundError exception occurred\n"
     ]
    }
   ],
   "source": [
    "import os  # Import the os module for os.remove\n",
    "\n",
    "try:\n",
    "    # Prompt the user to enter the first number and convert it to an integer\n",
    "    x = int(input('Enter first number: '))\n",
    "    \n",
    "    # Prompt the user to enter the second number and convert it to an integer\n",
    "    y = int(input('Enter second number: '))  # If the input entered is non-zero, the division will be performed.\n",
    "\n",
    "    # Perform the division and print the result\n",
    "    print(x / y)\n",
    "\n",
    "    # Try to remove a file (\"test3.txt\") that may or may not exist\n",
    "    os.remove(\"test3.txt\")\n",
    "\n",
    "# Handle the NameError exception\n",
    "except NameError:\n",
    "    print('NameError exception occurred')\n",
    "\n",
    "# Handle the FileNotFoundError exception\n",
    "except FileNotFoundError:\n",
    "    print('FileNotFoundError exception occurred')\n",
    "\n",
    "# Handle the ZeroDivisionError exception\n",
    "except ZeroDivisionError:\n",
    "    print('ZeroDivisionError exception occurred')"
   ]
  },
  {
   "cell_type": "code",
   "execution_count": 1,
   "id": "1a397f19",
   "metadata": {},
   "outputs": [
    {
     "name": "stdout",
     "output_type": "stream",
     "text": [
      "Enter first number: 10\n",
      "Enter second number: 0\n",
      "ZeroDivisionError exception occurred\n"
     ]
    }
   ],
   "source": [
    "try:\n",
    "    # Prompt the user to enter the first number and convert it to an integer\n",
    "    x = int(input('Enter first number: '))\n",
    "    \n",
    "    # Prompt the user to enter the second number and convert it to an integer\n",
    "    y = int(input('Enter second number: '))  # If the input entered is zero, the division will result in a ZeroDivisionError.\n",
    "\n",
    "    # Perform the division and print the result\n",
    "    print(x / y)\n",
    "\n",
    "    # Try to remove a file (\"test3.txt\") that may or may not exist\n",
    "    os.remove(\"test3.txt\")\n",
    "\n",
    "# Handle the NameError exception\n",
    "except NameError:\n",
    "    print('NameError exception occurred')\n",
    "\n",
    "# Handle the FileNotFoundError exception\n",
    "except FileNotFoundError:\n",
    "    print('FileNotFoundError exception occurred')\n",
    "\n",
    "# Handle the ZeroDivisionError exception\n",
    "except ZeroDivisionError:\n",
    "    print('ZeroDivisionError exception occurred')"
   ]
  },
  {
   "cell_type": "code",
   "execution_count": 2,
   "id": "731fc69a",
   "metadata": {},
   "outputs": [
    {
     "name": "stdout",
     "output_type": "stream",
     "text": [
      "Enter first number: 100\n",
      "<class 'ValueError'>\n"
     ]
    }
   ],
   "source": [
    "import sys  # Import the sys module for sys.exc_info()\n",
    "\n",
    "try:\n",
    "    # Prompt the user to enter the first number and convert it to an integer\n",
    "    x = int(input('Enter first number: '))\n",
    "    \n",
    "    # Check if the entered value is greater than 50\n",
    "    if x > 50:\n",
    "        # Raise a ValueError with the value of x\n",
    "        raise ValueError(x)  # If the value of x is greater than 50, a ValueError exception is raised.\n",
    "\n",
    "except:\n",
    "    # Catch any exception and print the type of the exception\n",
    "    print(sys.exc_info()[0])  # Print the type of the exception that occurred."
   ]
  },
  {
   "cell_type": "markdown",
   "id": "733621df",
   "metadata": {},
   "source": [
    "# Built-in Exceptions"
   ]
  },
  {
   "cell_type": "code",
   "execution_count": 3,
   "id": "29cd141c",
   "metadata": {},
   "outputs": [
    {
     "name": "stdout",
     "output_type": "stream",
     "text": [
      "OverflowError occurred: (<class 'OverflowError'>, OverflowError('math range error'), <traceback object at 0x000001AFAF72C480>)\n"
     ]
    }
   ],
   "source": [
    "import sys  # Import the sys module for sys.exc_info()\n",
    "import math  # Import the math module for mathematical functions\n",
    "\n",
    "try:\n",
    "    # Attempt to calculate the exponential of 1000\n",
    "    result = math.exp(1000)\n",
    "\n",
    "except OverflowError:\n",
    "    # Handle the OverflowError exception and print details about the exception\n",
    "    print(\"OverflowError occurred:\", sys.exc_info())\n",
    "\n",
    "else:\n",
    "    # This block will be executed if no exception occurs\n",
    "    print(\"Success, no error!\")"
   ]
  },
  {
   "cell_type": "code",
   "execution_count": 4,
   "id": "ddbd7bf6",
   "metadata": {},
   "outputs": [
    {
     "name": "stdout",
     "output_type": "stream",
     "text": [
      "Enter first number: 100\n",
      "Enter second number: 0\n",
      "ZeroDivisionError exception occurred\n"
     ]
    }
   ],
   "source": [
    "try:\n",
    "    # Prompt the user to enter the first number and convert it to an integer\n",
    "    x = int(input('Enter first number: '))\n",
    "    \n",
    "    # Prompt the user to enter the second number and convert it to an integer\n",
    "    y = int(input('Enter second number: '))\n",
    "\n",
    "    # Attempt to perform division and print the result\n",
    "    print(x / y)\n",
    "\n",
    "except ZeroDivisionError:\n",
    "    # Handle the ZeroDivisionError exception and print a message\n",
    "    print('ZeroDivisionError exception occurred')"
   ]
  },
  {
   "cell_type": "code",
   "execution_count": 5,
   "id": "2a1a24ce",
   "metadata": {},
   "outputs": [
    {
     "name": "stdout",
     "output_type": "stream",
     "text": [
      "NameError exception occurred\n"
     ]
    }
   ],
   "source": [
    "try:\n",
    "    # Attempt to print the value of the variable x1\n",
    "    print(x1)\n",
    "\n",
    "except NameError:\n",
    "    # Handle the NameError exception and print a message\n",
    "    print('NameError exception occurred')"
   ]
  },
  {
   "cell_type": "code",
   "execution_count": 6,
   "id": "ac2116c0",
   "metadata": {},
   "outputs": [
    {
     "name": "stdout",
     "output_type": "stream",
     "text": [
      "Assertion Exception Raised.\n"
     ]
    }
   ],
   "source": [
    "try:\n",
    "    # Define variables\n",
    "    a = 50\n",
    "    b = \"Sunil\"\n",
    "    \n",
    "    # Use an assert statement to check if a is equal to b\n",
    "    assert a == b\n",
    "\n",
    "except AssertionError:\n",
    "    # Handle the AssertionError exception and print a message\n",
    "    print(\"Assertion Exception Raised.\")"
   ]
  },
  {
   "cell_type": "code",
   "execution_count": 7,
   "id": "5699ec8c",
   "metadata": {},
   "outputs": [
    {
     "name": "stdout",
     "output_type": "stream",
     "text": [
      "ModuleNotFoundError Exception Raised.\n"
     ]
    }
   ],
   "source": [
    "# ModuleNotFoundError - This exception is raised when an imported module does not\n",
    "try:\n",
    "    import MyModule\n",
    "except ModuleNotFoundError:\n",
    "    print (\"ModuleNotFoundError Exception Raised.\")"
   ]
  },
  {
   "cell_type": "code",
   "execution_count": 8,
   "id": "d27c5d55",
   "metadata": {},
   "outputs": [
    {
     "name": "stdout",
     "output_type": "stream",
     "text": [
      "KeyError Exception Raised.\n"
     ]
    }
   ],
   "source": [
    "# KeyError - This exception is raised when key does not exist in a dictionary\n",
    "try:\n",
    "    mydict = {1:'Sunil', 2:'Rahul', 3:'Santosh'}\n",
    "    print (mydict[4])\n",
    "except KeyError:\n",
    "    print (\"KeyError Exception Raised.\")"
   ]
  },
  {
   "cell_type": "code",
   "execution_count": 9,
   "id": "9499a810",
   "metadata": {},
   "outputs": [
    {
     "name": "stdout",
     "output_type": "stream",
     "text": [
      "IndexError Exception Raised.\n"
     ]
    }
   ],
   "source": [
    "# IndexError - This exception is raised when an index of a sequence does not exis\n",
    "try:\n",
    "    mylist = [1,2,3,4,5,6]\n",
    "    print (mylist[10])\n",
    "except IndexError:\n",
    "    print (\"IndexError Exception Raised.\")"
   ]
  },
  {
   "cell_type": "code",
   "execution_count": 10,
   "id": "0d6b6e57",
   "metadata": {},
   "outputs": [
    {
     "name": "stdout",
     "output_type": "stream",
     "text": [
      "TypeError Exception Raised.\n"
     ]
    }
   ],
   "source": [
    "# TypeError - This exception is raised when two different datatypes are combined\n",
    "try: \n",
    "    a = 50\n",
    "    b = \"Sunil Zambare\"\n",
    "    c = a/b\n",
    "except TypeError:\n",
    "    print(\"TypeError Exception Raised.\")"
   ]
  },
  {
   "cell_type": "code",
   "execution_count": 11,
   "id": "ecb587be",
   "metadata": {},
   "outputs": [
    {
     "name": "stdout",
     "output_type": "stream",
     "text": [
      "AttributeError Exception Raised.\n"
     ]
    }
   ],
   "source": [
    "# AttributeError: - This exception is raised when attribute reference or assignment\n",
    "try: \n",
    "    a = 10\n",
    "    b = a.upper()\n",
    "    print(b)\n",
    "except AttributeError:\n",
    "    print(\"AttributeError Exception Raised.\")"
   ]
  },
  {
   "cell_type": "code",
   "execution_count": 13,
   "id": "8eb0c442",
   "metadata": {},
   "outputs": [
    {
     "name": "stdout",
     "output_type": "stream",
     "text": [
      "Enter first number :- 0\n"
     ]
    }
   ],
   "source": [
    "try:\n",
    "    x = input('Enter first number :- ')\n",
    "    \n",
    "except:\n",
    "    print('ZeroDivisionError exception occurred')"
   ]
  }
 ],
 "metadata": {
  "kernelspec": {
   "display_name": "Python 3 (ipykernel)",
   "language": "python",
   "name": "python3"
  },
  "language_info": {
   "codemirror_mode": {
    "name": "ipython",
    "version": 3
   },
   "file_extension": ".py",
   "mimetype": "text/x-python",
   "name": "python",
   "nbconvert_exporter": "python",
   "pygments_lexer": "ipython3",
   "version": "3.9.12"
  }
 },
 "nbformat": 4,
 "nbformat_minor": 5
}
