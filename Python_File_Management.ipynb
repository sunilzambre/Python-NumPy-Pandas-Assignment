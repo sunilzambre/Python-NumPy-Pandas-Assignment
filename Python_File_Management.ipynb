{
 "cells": [
  {
   "cell_type": "markdown",
   "id": "874c378e",
   "metadata": {},
   "source": [
    "#### Python has several built-in modules and functions for creating,reading, updating and deleting files."
   ]
  },
  {
   "cell_type": "markdown",
   "id": "7de861ed",
   "metadata": {},
   "source": [
    "# Open File\n",
    "#### Open file in read/text mode"
   ]
  },
  {
   "cell_type": "code",
   "execution_count": 1,
   "id": "df20651e",
   "metadata": {},
   "outputs": [],
   "source": [
    "fileobj = open('test1.txt') # Open file in read/text mode"
   ]
  },
  {
   "cell_type": "code",
   "execution_count": 2,
   "id": "855a24a9",
   "metadata": {},
   "outputs": [],
   "source": [
    "fileobj = open('test1.txt', 'r') # Open file in read mode"
   ]
  },
  {
   "cell_type": "code",
   "execution_count": 3,
   "id": "a874b49f",
   "metadata": {},
   "outputs": [],
   "source": [
    "fileobj = open('test1.txt', 'w') # Open file in write mode"
   ]
  },
  {
   "cell_type": "code",
   "execution_count": 4,
   "id": "daf7ca7e",
   "metadata": {},
   "outputs": [],
   "source": [
    "fileobj = open('test1.txt', 'a') # Open file in append mode"
   ]
  },
  {
   "cell_type": "markdown",
   "id": "f8c3b6ea",
   "metadata": {},
   "source": [
    "# Close File"
   ]
  },
  {
   "cell_type": "code",
   "execution_count": 5,
   "id": "4f81dcb6",
   "metadata": {},
   "outputs": [],
   "source": [
    "fileobj.close()"
   ]
  },
  {
   "cell_type": "markdown",
   "id": "934ea9a6",
   "metadata": {},
   "source": [
    "# Read File"
   ]
  },
  {
   "cell_type": "code",
   "execution_count": 6,
   "id": "4b421131",
   "metadata": {},
   "outputs": [],
   "source": [
    "fileobj = open('test1.txt')"
   ]
  },
  {
   "cell_type": "code",
   "execution_count": 8,
   "id": "d486f59d",
   "metadata": {},
   "outputs": [
    {
     "data": {
      "text/plain": [
       "\"In simple words, \\nPython is a popular programming language that is easy to learn and widely used for various purposes. It's known for its readability and versatility, making it suitable for beginners and experienced developers alike. Python is used in web development, data analysis, artificial intelligence, automation, and many other areas. Its syntax is designed to be clear and concise, making it easier for programmers to write and understand code.\""
      ]
     },
     "execution_count": 8,
     "metadata": {},
     "output_type": "execute_result"
    }
   ],
   "source": [
    "fileobj.read() #Read whole file"
   ]
  },
  {
   "cell_type": "code",
   "execution_count": 9,
   "id": "537b258a",
   "metadata": {},
   "outputs": [
    {
     "data": {
      "text/plain": [
       "\"In simple words, \\nPython is a popular programming language that is easy to learn and widely used for various purposes. It's known for its readability and versatility, making it suitable for beginners and experienced developers alike. Python is used in web development, data analysis, artificial intelligence, automation, and many other areas. Its syntax is designed to be clear and concise, making it easier for programmers to write and understand code.\""
      ]
     },
     "execution_count": 9,
     "metadata": {},
     "output_type": "execute_result"
    }
   ],
   "source": [
    "fileobj.seek(0) # Bring file cursor to initial position.\n",
    "fileobj.read()"
   ]
  },
  {
   "cell_type": "code",
   "execution_count": 10,
   "id": "2f510a52",
   "metadata": {},
   "outputs": [
    {
     "data": {
      "text/plain": [
       "\"le words, \\nPython is a popular programming language that is easy to learn and widely used for various purposes. It's known for its readability and versatility, making it suitable for beginners and experienced developers alike. Python is used in web development, data analysis, artificial intelligence, automation, and many other areas. Its syntax is designed to be clear and concise, making it easier for programmers to write and understand code.\""
      ]
     },
     "execution_count": 10,
     "metadata": {},
     "output_type": "execute_result"
    }
   ],
   "source": [
    "fileobj.seek(7) # place file cursor at loc 7\n",
    "fileobj.read()"
   ]
  },
  {
   "cell_type": "code",
   "execution_count": 11,
   "id": "c6128f73",
   "metadata": {},
   "outputs": [
    {
     "data": {
      "text/plain": [
       "'In simple words,'"
      ]
     },
     "execution_count": 11,
     "metadata": {},
     "output_type": "execute_result"
    }
   ],
   "source": [
    "fileobj.seek(0)\n",
    "fileobj.read(16) # Return the first 16 characters of the file"
   ]
  },
  {
   "cell_type": "code",
   "execution_count": 12,
   "id": "b29b29c3",
   "metadata": {},
   "outputs": [
    {
     "data": {
      "text/plain": [
       "16"
      ]
     },
     "execution_count": 12,
     "metadata": {},
     "output_type": "execute_result"
    }
   ],
   "source": [
    "fileobj.tell() # Get the file cursor position"
   ]
  },
  {
   "cell_type": "code",
   "execution_count": 13,
   "id": "423134c1",
   "metadata": {},
   "outputs": [
    {
     "name": "stdout",
     "output_type": "stream",
     "text": [
      "In simple words, \n",
      "\n",
      "Python is a popular programming language that is easy to learn and widely used for various purposes. It's known for its readability and versatility, making it suitable for beginners and experienced developers alike. Python is used in web development, data analysis, artificial intelligence, automation, and many other areas. Its syntax is designed to be clear and concise, making it easier for programmers to write and understand code.\n",
      "\n"
     ]
    }
   ],
   "source": [
    "fileobj.seek(0)\n",
    "print(fileobj.readline()) # Read first line of a file.\n",
    "print(fileobj.readline()) # Read second line of a file.\n",
    "print(fileobj.readline()) # Read third line of a file."
   ]
  },
  {
   "cell_type": "code",
   "execution_count": 14,
   "id": "d39aaebb",
   "metadata": {},
   "outputs": [
    {
     "data": {
      "text/plain": [
       "['In simple words, \\n',\n",
       " \"Python is a popular programming language that is easy to learn and widely used for various purposes. It's known for its readability and versatility, making it suitable for beginners and experienced developers alike. Python is used in web development, data analysis, artificial intelligence, automation, and many other areas. Its syntax is designed to be clear and concise, making it easier for programmers to write and understand code.\"]"
      ]
     },
     "execution_count": 14,
     "metadata": {},
     "output_type": "execute_result"
    }
   ],
   "source": [
    "fileobj.seek(0)\n",
    "fileobj.readlines() # Read all lines of a file."
   ]
  },
  {
   "cell_type": "code",
   "execution_count": 15,
   "id": "9e3365ad",
   "metadata": {},
   "outputs": [
    {
     "name": "stdout",
     "output_type": "stream",
     "text": [
      "In simple words, \n",
      "\n",
      "Python is a popular programming language that is easy to learn and widely used for various purposes. It's known for its readability and versatility, making it suitable for beginners and experienced developers alike. Python is used in web development, data analysis, artificial intelligence, automation, and many other areas. Its syntax is designed to be clear and concise, making it easier for programmers to write and understand code.\n",
      "\n",
      "\n",
      "\n"
     ]
    }
   ],
   "source": [
    "# Read first 5 lines of a file using readline()\n",
    "fileobj.seek(0)\n",
    "count = 0\n",
    "for i in range(5):\n",
    "    if (count < 5):\n",
    "        print(fileobj.readline())\n",
    "    else:\n",
    "        break\n",
    "    count+=1"
   ]
  },
  {
   "cell_type": "markdown",
   "id": "e08fe03a",
   "metadata": {},
   "source": [
    "# Write File"
   ]
  },
  {
   "cell_type": "code",
   "execution_count": 16,
   "id": "a404cee2",
   "metadata": {},
   "outputs": [
    {
     "data": {
      "text/plain": [
       "\"In simple words, \\nPython is a popular programming language that is easy to learn and widely used for various purposes. It's known for its readability and versatility, making it suitable for beginners and experienced developers alike. Python is used in web development, data analysis, artificial intelligence, automation, and many other areas. Its syntax is designed to be clear and concise, making it easier for programmers to write and understand code.THIS IS THE NEW CONTENT APPENDED IN THE FILE\""
      ]
     },
     "execution_count": 16,
     "metadata": {},
     "output_type": "execute_result"
    }
   ],
   "source": [
    "fileobj = open('test1.txt', 'a')\n",
    "fileobj.write('THIS IS THE NEW CONTENT APPENDED IN THE FILE') # Append content to the file\n",
    "fileobj.close()\n",
    "fileobj = open('test1.txt')\n",
    "fileobj.read()"
   ]
  },
  {
   "cell_type": "code",
   "execution_count": 17,
   "id": "4e7993d4",
   "metadata": {},
   "outputs": [
    {
     "data": {
      "text/plain": [
       "'NEW CONTENT ADDED IN THE FILE. PREVIOUS CONTENT HAS BEEN OVERWRITE'"
      ]
     },
     "execution_count": 17,
     "metadata": {},
     "output_type": "execute_result"
    }
   ],
   "source": [
    "fileobj = open(\"test1.txt\", \"w\")\n",
    "fileobj.write(\"NEW CONTENT ADDED IN THE FILE. PREVIOUS CONTENT HAS BEEN OVERWRITE\")\n",
    "fileobj.close()\n",
    "fileobj = open('test1.txt')\n",
    "fileobj.read()"
   ]
  },
  {
   "cell_type": "code",
   "execution_count": 18,
   "id": "17d57b80",
   "metadata": {},
   "outputs": [
    {
     "data": {
      "text/plain": [
       "['First Line\\n',\n",
       " 'Second Line\\n',\n",
       " 'Third Line\\n',\n",
       " 'Fourth Line\\n',\n",
       " 'Fifth Line\\n']"
      ]
     },
     "execution_count": 18,
     "metadata": {},
     "output_type": "execute_result"
    }
   ],
   "source": [
    "fileobj = open(\"test2.txt\", \"w\") # Create a new file\n",
    "fileobj.write(\"First Line\\n\") \n",
    "fileobj.write(\"Second Line\\n\")\n",
    "fileobj.write(\"Third Line\\n\") \n",
    "fileobj.write(\"Fourth Line\\n\")\n",
    "fileobj.write(\"Fifth Line\\n\")\n",
    "fileobj.close()\n",
    "fileobj = open('test2.txt')\n",
    "fileobj.readlines()"
   ]
  },
  {
   "cell_type": "markdown",
   "id": "cfc045f1",
   "metadata": {},
   "source": [
    "# Delete file"
   ]
  },
  {
   "cell_type": "code",
   "execution_count": 19,
   "id": "079d6e89",
   "metadata": {},
   "outputs": [
    {
     "ename": "NameError",
     "evalue": "name 'os' is not defined",
     "output_type": "error",
     "traceback": [
      "\u001b[1;31m---------------------------------------------------------------------------\u001b[0m",
      "\u001b[1;31mNameError\u001b[0m                                 Traceback (most recent call last)",
      "Cell \u001b[1;32mIn[19], line 1\u001b[0m\n\u001b[1;32m----> 1\u001b[0m \u001b[43mos\u001b[49m\u001b[38;5;241m.\u001b[39mremove(\u001b[38;5;124m\"\u001b[39m\u001b[38;5;124mtest3.txt\u001b[39m\u001b[38;5;124m\"\u001b[39m)\n",
      "\u001b[1;31mNameError\u001b[0m: name 'os' is not defined"
     ]
    }
   ],
   "source": [
    "os.remove(\"test3.txt\") # Delete file"
   ]
  },
  {
   "cell_type": "code",
   "execution_count": 20,
   "id": "db0bbccf",
   "metadata": {},
   "outputs": [
    {
     "ename": "NameError",
     "evalue": "name 'os' is not defined",
     "output_type": "error",
     "traceback": [
      "\u001b[1;31m---------------------------------------------------------------------------\u001b[0m",
      "\u001b[1;31mNameError\u001b[0m                                 Traceback (most recent call last)",
      "Cell \u001b[1;32mIn[20], line 1\u001b[0m\n\u001b[1;32m----> 1\u001b[0m \u001b[43mos\u001b[49m\u001b[38;5;241m.\u001b[39mremove(\u001b[38;5;124m\"\u001b[39m\u001b[38;5;124mtest3.txt\u001b[39m\u001b[38;5;124m\"\u001b[39m)\n",
      "\u001b[1;31mNameError\u001b[0m: name 'os' is not defined"
     ]
    }
   ],
   "source": [
    "os.remove(\"test3.txt\")"
   ]
  },
  {
   "cell_type": "code",
   "execution_count": 21,
   "id": "87ec1228",
   "metadata": {},
   "outputs": [
    {
     "ename": "NameError",
     "evalue": "name 'os' is not defined",
     "output_type": "error",
     "traceback": [
      "\u001b[1;31m---------------------------------------------------------------------------\u001b[0m",
      "\u001b[1;31mNameError\u001b[0m                                 Traceback (most recent call last)",
      "Cell \u001b[1;32mIn[21], line 1\u001b[0m\n\u001b[1;32m----> 1\u001b[0m \u001b[43mos\u001b[49m\u001b[38;5;241m.\u001b[39mrmdir(\u001b[38;5;124m'\u001b[39m\u001b[38;5;124mfolder1/\u001b[39m\u001b[38;5;124m'\u001b[39m)\n",
      "\u001b[1;31mNameError\u001b[0m: name 'os' is not defined"
     ]
    }
   ],
   "source": [
    "os.rmdir('folder1/') # Delete folder"
   ]
  },
  {
   "cell_type": "code",
   "execution_count": 22,
   "id": "3e2e4419",
   "metadata": {},
   "outputs": [
    {
     "ename": "NameError",
     "evalue": "name 'os' is not defined",
     "output_type": "error",
     "traceback": [
      "\u001b[1;31m---------------------------------------------------------------------------\u001b[0m",
      "\u001b[1;31mNameError\u001b[0m                                 Traceback (most recent call last)",
      "Cell \u001b[1;32mIn[22], line 1\u001b[0m\n\u001b[1;32m----> 1\u001b[0m \u001b[43mos\u001b[49m\u001b[38;5;241m.\u001b[39mrmdir(\u001b[38;5;124m'\u001b[39m\u001b[38;5;124mfolder1/\u001b[39m\u001b[38;5;124m'\u001b[39m)\n",
      "\u001b[1;31mNameError\u001b[0m: name 'os' is not defined"
     ]
    }
   ],
   "source": [
    "os.rmdir('folder1/')"
   ]
  }
 ],
 "metadata": {
  "kernelspec": {
   "display_name": "Python 3 (ipykernel)",
   "language": "python",
   "name": "python3"
  },
  "language_info": {
   "codemirror_mode": {
    "name": "ipython",
    "version": 3
   },
   "file_extension": ".py",
   "mimetype": "text/x-python",
   "name": "python",
   "nbconvert_exporter": "python",
   "pygments_lexer": "ipython3",
   "version": "3.9.12"
  }
 },
 "nbformat": 4,
 "nbformat_minor": 5
}
