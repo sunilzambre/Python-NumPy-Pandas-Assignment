{
 "cells": [
  {
   "cell_type": "markdown",
   "id": "2b962aa7",
   "metadata": {},
   "source": [
    "## Importing Numpy library with alias name np"
   ]
  },
  {
   "cell_type": "code",
   "execution_count": 1,
   "id": "36e3c25b",
   "metadata": {},
   "outputs": [],
   "source": [
    "import numpy as np"
   ]
  },
  {
   "cell_type": "markdown",
   "id": "409fd04f",
   "metadata": {},
   "source": [
    "## 1.Create zero dimensional array"
   ]
  },
  {
   "cell_type": "code",
   "execution_count": 2,
   "id": "2e0aa8ed",
   "metadata": {},
   "outputs": [],
   "source": [
    "zero_dimensional_array = np.array(42)"
   ]
  },
  {
   "cell_type": "code",
   "execution_count": 3,
   "id": "5e222f4e",
   "metadata": {},
   "outputs": [
    {
     "name": "stdout",
     "output_type": "stream",
     "text": [
      "42\n"
     ]
    }
   ],
   "source": [
    "print(zero_dimensional_array)"
   ]
  },
  {
   "cell_type": "markdown",
   "id": "51665bc0",
   "metadata": {},
   "source": [
    "## 2.Create one dimensional array"
   ]
  },
  {
   "cell_type": "code",
   "execution_count": 4,
   "id": "f4b4f56b",
   "metadata": {},
   "outputs": [],
   "source": [
    "one_dimensional_array = np.array([1, 2, 3])"
   ]
  },
  {
   "cell_type": "code",
   "execution_count": 5,
   "id": "846f637f",
   "metadata": {},
   "outputs": [
    {
     "name": "stdout",
     "output_type": "stream",
     "text": [
      "[1 2 3]\n"
     ]
    }
   ],
   "source": [
    "print(one_dimensional_array)"
   ]
  },
  {
   "cell_type": "markdown",
   "id": "9907e2c7",
   "metadata": {},
   "source": [
    "## 3.Create two-dimensional array"
   ]
  },
  {
   "cell_type": "code",
   "execution_count": 6,
   "id": "6559211b",
   "metadata": {},
   "outputs": [],
   "source": [
    "two_dim_array = np.array([[1, 2],[3,4]])"
   ]
  },
  {
   "cell_type": "code",
   "execution_count": 7,
   "id": "a7a53b19",
   "metadata": {},
   "outputs": [
    {
     "data": {
      "text/plain": [
       "array([[1, 2],\n",
       "       [3, 4]])"
      ]
     },
     "execution_count": 7,
     "metadata": {},
     "output_type": "execute_result"
    }
   ],
   "source": [
    "two_dim_array"
   ]
  },
  {
   "cell_type": "markdown",
   "id": "2c2db9f0",
   "metadata": {},
   "source": [
    "## 4.Create three-dimensional array:"
   ]
  },
  {
   "cell_type": "code",
   "execution_count": 8,
   "id": "57d0e380",
   "metadata": {},
   "outputs": [],
   "source": [
    "three_dim_array = np.array([[[1,2],[3,4]], [[5,6],[7,8]]])"
   ]
  },
  {
   "cell_type": "code",
   "execution_count": 9,
   "id": "23b4b827",
   "metadata": {},
   "outputs": [
    {
     "data": {
      "text/plain": [
       "array([[[1, 2],\n",
       "        [3, 4]],\n",
       "\n",
       "       [[5, 6],\n",
       "        [7, 8]]])"
      ]
     },
     "execution_count": 9,
     "metadata": {},
     "output_type": "execute_result"
    }
   ],
   "source": [
    "three_dim_array"
   ]
  },
  {
   "cell_type": "markdown",
   "id": "4bcc3c17",
   "metadata": {},
   "source": [
    "## 5.Check Number of dimensions ?"
   ]
  },
  {
   "cell_type": "code",
   "execution_count": 10,
   "id": "1d6e17d1",
   "metadata": {},
   "outputs": [
    {
     "name": "stdout",
     "output_type": "stream",
     "text": [
      "0\n",
      "1\n",
      "2\n",
      "3\n"
     ]
    }
   ],
   "source": [
    "a = np.array(42)\n",
    "b = np.array([1, 2, 3, 4, 5])\n",
    "c = np.array([[1, 2, 3], [4, 5, 6]])\n",
    "d = np.array([[[1, 2, 3], [4, 5, 6]], [[1, 2, 3], [4, 5, 6]]])\n",
    "\n",
    "print(a.ndim)\n",
    "print(b.ndim)\n",
    "print(c.ndim)\n",
    "print(d.ndim)"
   ]
  },
  {
   "cell_type": "markdown",
   "id": "9078fc1b",
   "metadata": {},
   "source": [
    "## 6.Uninitialized"
   ]
  },
  {
   "cell_type": "code",
   "execution_count": 13,
   "id": "ed2d4677",
   "metadata": {},
   "outputs": [],
   "source": [
    "ar = np.empty([5, 3], dtype = int)"
   ]
  },
  {
   "cell_type": "code",
   "execution_count": 14,
   "id": "6895ccb8",
   "metadata": {},
   "outputs": [
    {
     "data": {
      "text/plain": [
       "array([[      0,       0,       0],\n",
       "       [      0,       0,       0],\n",
       "       [      0,       0,       0],\n",
       "       [      0,    1400,       0],\n",
       "       [      0, 4980828,       0]])"
      ]
     },
     "execution_count": 14,
     "metadata": {},
     "output_type": "execute_result"
    }
   ],
   "source": [
    "ar"
   ]
  },
  {
   "cell_type": "code",
   "execution_count": 15,
   "id": "c8c31fb4",
   "metadata": {},
   "outputs": [
    {
     "name": "stdout",
     "output_type": "stream",
     "text": [
      "[[      0       0       0]\n",
      " [      0       0       0]\n",
      " [      0       0       0]\n",
      " [      0    1400       0]\n",
      " [      0 4980828       0]]\n"
     ]
    }
   ],
   "source": [
    "print(ar)"
   ]
  },
  {
   "cell_type": "markdown",
   "id": "c67a40ee",
   "metadata": {},
   "source": [
    "## 7.Initialized with zeros"
   ]
  },
  {
   "cell_type": "code",
   "execution_count": 16,
   "id": "ae00dee8",
   "metadata": {},
   "outputs": [],
   "source": [
    "a = np.zeros([3, 3]) #default dtype float"
   ]
  },
  {
   "cell_type": "code",
   "execution_count": 17,
   "id": "e07fe93d",
   "metadata": {},
   "outputs": [
    {
     "name": "stdout",
     "output_type": "stream",
     "text": [
      "[[0. 0. 0.]\n",
      " [0. 0. 0.]\n",
      " [0. 0. 0.]]\n"
     ]
    }
   ],
   "source": [
    "print(a)"
   ]
  },
  {
   "cell_type": "markdown",
   "id": "9690aebd",
   "metadata": {},
   "source": [
    "# 8.Initialized with ones"
   ]
  },
  {
   "cell_type": "code",
   "execution_count": 19,
   "id": "9c994909",
   "metadata": {},
   "outputs": [],
   "source": [
    "maximum_list = np.ones(5)"
   ]
  },
  {
   "cell_type": "code",
   "execution_count": 20,
   "id": "ac2a33d9",
   "metadata": {},
   "outputs": [
    {
     "data": {
      "text/plain": [
       "array([1., 1., 1., 1., 1.])"
      ]
     },
     "execution_count": 20,
     "metadata": {},
     "output_type": "execute_result"
    }
   ],
   "source": [
    "maximum_list"
   ]
  },
  {
   "cell_type": "markdown",
   "id": "c573b8ec",
   "metadata": {},
   "source": [
    "## 9.To create ones 2d Dimensional Array"
   ]
  },
  {
   "cell_type": "code",
   "execution_count": 21,
   "id": "43dc303f",
   "metadata": {},
   "outputs": [],
   "source": [
    "max_lst = np.ones((3,4))"
   ]
  },
  {
   "cell_type": "code",
   "execution_count": 22,
   "id": "03011d1c",
   "metadata": {},
   "outputs": [
    {
     "data": {
      "text/plain": [
       "array([[1., 1., 1., 1.],\n",
       "       [1., 1., 1., 1.],\n",
       "       [1., 1., 1., 1.]])"
      ]
     },
     "execution_count": 22,
     "metadata": {},
     "output_type": "execute_result"
    }
   ],
   "source": [
    "max_lst"
   ]
  },
  {
   "cell_type": "markdown",
   "id": "648bca20",
   "metadata": {},
   "source": [
    "## 10.Array from specified numbers"
   ]
  },
  {
   "cell_type": "code",
   "execution_count": 23,
   "id": "ee3a9af1",
   "metadata": {},
   "outputs": [],
   "source": [
    "a1 = np.full([3, 3],30)"
   ]
  },
  {
   "cell_type": "code",
   "execution_count": 24,
   "id": "1534a9c8",
   "metadata": {},
   "outputs": [
    {
     "name": "stdout",
     "output_type": "stream",
     "text": [
      "[[30 30 30]\n",
      " [30 30 30]\n",
      " [30 30 30]]\n"
     ]
    }
   ],
   "source": [
    "print(a1)"
   ]
  },
  {
   "cell_type": "markdown",
   "id": "fc79a4d2",
   "metadata": {},
   "source": [
    "## 11.To create an identity matrix."
   ]
  },
  {
   "cell_type": "code",
   "execution_count": 25,
   "id": "8521f744",
   "metadata": {},
   "outputs": [],
   "source": [
    "a2 = np.identity(3)"
   ]
  },
  {
   "cell_type": "code",
   "execution_count": 26,
   "id": "f150c03f",
   "metadata": {},
   "outputs": [
    {
     "data": {
      "text/plain": [
       "array([[1., 0., 0.],\n",
       "       [0., 1., 0.],\n",
       "       [0., 0., 1.]])"
      ]
     },
     "execution_count": 26,
     "metadata": {},
     "output_type": "execute_result"
    }
   ],
   "source": [
    "a2"
   ]
  },
  {
   "cell_type": "markdown",
   "id": "7933aacd",
   "metadata": {},
   "source": [
    "## 12.Creating ndarray with existing data(list to ndarray)"
   ]
  },
  {
   "cell_type": "code",
   "execution_count": 27,
   "id": "00a69742",
   "metadata": {},
   "outputs": [],
   "source": [
    "list1 = [1, 2, 3, 4, 5]"
   ]
  },
  {
   "cell_type": "code",
   "execution_count": 28,
   "id": "90a916ab",
   "metadata": {},
   "outputs": [],
   "source": [
    "ar = np.asarray(list1)"
   ]
  },
  {
   "cell_type": "code",
   "execution_count": 29,
   "id": "a163280b",
   "metadata": {},
   "outputs": [
    {
     "name": "stdout",
     "output_type": "stream",
     "text": [
      "[1 2 3 4 5]\n"
     ]
    }
   ],
   "source": [
    "print(ar)"
   ]
  },
  {
   "cell_type": "markdown",
   "id": "bc6d98cd",
   "metadata": {},
   "source": [
    "## 13.Tuple to Ndarray"
   ]
  },
  {
   "cell_type": "code",
   "execution_count": 30,
   "id": "eff3c38d",
   "metadata": {},
   "outputs": [],
   "source": [
    "tuple1 =(1, 2, 3, 4, 5)"
   ]
  },
  {
   "cell_type": "code",
   "execution_count": 31,
   "id": "47b2d512",
   "metadata": {},
   "outputs": [],
   "source": [
    "ar1 = np.asarray(tuple1)"
   ]
  },
  {
   "cell_type": "code",
   "execution_count": 32,
   "id": "e59fd470",
   "metadata": {},
   "outputs": [
    {
     "data": {
      "text/plain": [
       "array([1, 2, 3, 4, 5])"
      ]
     },
     "execution_count": 32,
     "metadata": {},
     "output_type": "execute_result"
    }
   ],
   "source": [
    "ar1"
   ]
  },
  {
   "cell_type": "markdown",
   "id": "b158a96b",
   "metadata": {},
   "source": [
    "## 14.Array from numerical ranges"
   ]
  },
  {
   "cell_type": "code",
   "execution_count": 34,
   "id": "f76274e1",
   "metadata": {},
   "outputs": [],
   "source": [
    "array_arrange = np.arange(5)"
   ]
  },
  {
   "cell_type": "code",
   "execution_count": 35,
   "id": "14735267",
   "metadata": {},
   "outputs": [
    {
     "data": {
      "text/plain": [
       "array([0, 1, 2, 3, 4])"
      ]
     },
     "execution_count": 35,
     "metadata": {},
     "output_type": "execute_result"
    }
   ],
   "source": [
    "array_arrange"
   ]
  },
  {
   "cell_type": "code",
   "execution_count": 36,
   "id": "d18d5053",
   "metadata": {},
   "outputs": [],
   "source": [
    "another_array = np.arange(10,20,2)"
   ]
  },
  {
   "cell_type": "code",
   "execution_count": 37,
   "id": "ed5e8c3e",
   "metadata": {},
   "outputs": [
    {
     "data": {
      "text/plain": [
       "array([10, 12, 14, 16, 18])"
      ]
     },
     "execution_count": 37,
     "metadata": {},
     "output_type": "execute_result"
    }
   ],
   "source": [
    "another_array"
   ]
  },
  {
   "cell_type": "markdown",
   "id": "afead279",
   "metadata": {},
   "source": [
    "## 15.To change the type"
   ]
  },
  {
   "cell_type": "code",
   "execution_count": 38,
   "id": "cab27966",
   "metadata": {},
   "outputs": [],
   "source": [
    "max_list = np.ones([3, 4], dtype = int)"
   ]
  },
  {
   "cell_type": "code",
   "execution_count": 39,
   "id": "fd930393",
   "metadata": {},
   "outputs": [
    {
     "data": {
      "text/plain": [
       "array([[1, 1, 1, 1],\n",
       "       [1, 1, 1, 1],\n",
       "       [1, 1, 1, 1]])"
      ]
     },
     "execution_count": 39,
     "metadata": {},
     "output_type": "execute_result"
    }
   ],
   "source": [
    "max_list"
   ]
  },
  {
   "cell_type": "code",
   "execution_count": 40,
   "id": "e759fc73",
   "metadata": {},
   "outputs": [],
   "source": [
    "max_list1 = np.ones([3, 4], dtype = bool)"
   ]
  },
  {
   "cell_type": "code",
   "execution_count": 41,
   "id": "be405a3b",
   "metadata": {},
   "outputs": [
    {
     "data": {
      "text/plain": [
       "array([[ True,  True,  True,  True],\n",
       "       [ True,  True,  True,  True],\n",
       "       [ True,  True,  True,  True]])"
      ]
     },
     "execution_count": 41,
     "metadata": {},
     "output_type": "execute_result"
    }
   ],
   "source": [
    "max_list1"
   ]
  },
  {
   "cell_type": "markdown",
   "id": "2e42d8e5",
   "metadata": {},
   "source": [
    "## 16.Access 1-D Arrays : Get the first element from the array"
   ]
  },
  {
   "cell_type": "code",
   "execution_count": 42,
   "id": "dbc9e6b2",
   "metadata": {},
   "outputs": [],
   "source": [
    "arr = np.array([1, 2, 3, 4, 5])"
   ]
  },
  {
   "cell_type": "code",
   "execution_count": 43,
   "id": "469b8d7d",
   "metadata": {},
   "outputs": [
    {
     "data": {
      "text/plain": [
       "array([1, 2, 3, 4, 5])"
      ]
     },
     "execution_count": 43,
     "metadata": {},
     "output_type": "execute_result"
    }
   ],
   "source": [
    "arr"
   ]
  },
  {
   "cell_type": "code",
   "execution_count": 44,
   "id": "961a7592",
   "metadata": {},
   "outputs": [
    {
     "name": "stdout",
     "output_type": "stream",
     "text": [
      "1\n"
     ]
    }
   ],
   "source": [
    "print(arr[0])"
   ]
  },
  {
   "cell_type": "code",
   "execution_count": 45,
   "id": "e3cbcdeb",
   "metadata": {},
   "outputs": [
    {
     "name": "stdout",
     "output_type": "stream",
     "text": [
      "2\n"
     ]
    }
   ],
   "source": [
    "#Get the second element from the array\n",
    "print(arr[1])"
   ]
  },
  {
   "cell_type": "code",
   "execution_count": 46,
   "id": "2d1c102c",
   "metadata": {},
   "outputs": [
    {
     "name": "stdout",
     "output_type": "stream",
     "text": [
      "7\n"
     ]
    }
   ],
   "source": [
    "#Get the third and fourth element from the array\n",
    "print(arr[2] + arr[3])"
   ]
  },
  {
   "cell_type": "markdown",
   "id": "35712016",
   "metadata": {},
   "source": [
    "## 17.Access 2-D Arrays"
   ]
  },
  {
   "cell_type": "code",
   "execution_count": 48,
   "id": "f7b2e0ed",
   "metadata": {},
   "outputs": [],
   "source": [
    "arr1 = np.array([[1, 2, 3, 4, 5],[6, 7, 8, 9, 10]])"
   ]
  },
  {
   "cell_type": "code",
   "execution_count": 49,
   "id": "b2552e66",
   "metadata": {},
   "outputs": [
    {
     "data": {
      "text/plain": [
       "array([[ 1,  2,  3,  4,  5],\n",
       "       [ 6,  7,  8,  9, 10]])"
      ]
     },
     "execution_count": 49,
     "metadata": {},
     "output_type": "execute_result"
    }
   ],
   "source": [
    "arr1"
   ]
  },
  {
   "cell_type": "code",
   "execution_count": 53,
   "id": "ca5b8580",
   "metadata": {},
   "outputs": [
    {
     "name": "stdout",
     "output_type": "stream",
     "text": [
      "Second element on fist dimension: 2\n"
     ]
    }
   ],
   "source": [
    "print(f\"Second element on fist dimension: {arr1[0, 1]}\")"
   ]
  },
  {
   "cell_type": "code",
   "execution_count": 55,
   "id": "c6002333",
   "metadata": {},
   "outputs": [],
   "source": [
    "#Access the 5th element on 1st dimension\n",
    "arr2 = np.array([[1, 2, 5, 7, 9],[11, 24, 35, 45, 95]])"
   ]
  },
  {
   "cell_type": "code",
   "execution_count": 56,
   "id": "b163347a",
   "metadata": {},
   "outputs": [
    {
     "data": {
      "text/plain": [
       "array([[ 1,  2,  5,  7,  9],\n",
       "       [11, 24, 35, 45, 95]])"
      ]
     },
     "execution_count": 56,
     "metadata": {},
     "output_type": "execute_result"
    }
   ],
   "source": [
    "arr2"
   ]
  },
  {
   "cell_type": "code",
   "execution_count": 58,
   "id": "d9ed98ff",
   "metadata": {},
   "outputs": [
    {
     "name": "stdout",
     "output_type": "stream",
     "text": [
      "5th element on 2nd dimension: 95\n"
     ]
    }
   ],
   "source": [
    "print(f'5th element on 2nd dimension: {arr2[1, 4]}')"
   ]
  },
  {
   "cell_type": "markdown",
   "id": "fa81bdb3",
   "metadata": {},
   "source": [
    "## 18.Access 3-D Arrays\n",
    "### Access the third element of the second array of the first array"
   ]
  },
  {
   "cell_type": "code",
   "execution_count": 60,
   "id": "01d1dcee",
   "metadata": {},
   "outputs": [],
   "source": [
    "arr3 = np.array([[[1, 2, 3],[4, 5, 6]],[[7, 8, 9],[10, 11, 12]]])"
   ]
  },
  {
   "cell_type": "code",
   "execution_count": 61,
   "id": "678de8b9",
   "metadata": {},
   "outputs": [
    {
     "data": {
      "text/plain": [
       "array([[[ 1,  2,  3],\n",
       "        [ 4,  5,  6]],\n",
       "\n",
       "       [[ 7,  8,  9],\n",
       "        [10, 11, 12]]])"
      ]
     },
     "execution_count": 61,
     "metadata": {},
     "output_type": "execute_result"
    }
   ],
   "source": [
    "arr3"
   ]
  },
  {
   "cell_type": "code",
   "execution_count": 62,
   "id": "716e47a7",
   "metadata": {},
   "outputs": [
    {
     "name": "stdout",
     "output_type": "stream",
     "text": [
      "6\n"
     ]
    }
   ],
   "source": [
    "print(arr3[0, 1, 2])"
   ]
  },
  {
   "cell_type": "markdown",
   "id": "cfd0a827",
   "metadata": {},
   "source": [
    "# 19.Negative Indexing:\n",
    "### Use negative indexing to access an array from the end."
   ]
  },
  {
   "cell_type": "code",
   "execution_count": 63,
   "id": "7216d4b8",
   "metadata": {},
   "outputs": [],
   "source": [
    "new_arr = np.array([[1, 2, 3, 4, 5],[6, 7, 8, 9, 10]])"
   ]
  },
  {
   "cell_type": "code",
   "execution_count": 64,
   "id": "9763d14b",
   "metadata": {},
   "outputs": [
    {
     "data": {
      "text/plain": [
       "array([[ 1,  2,  3,  4,  5],\n",
       "       [ 6,  7,  8,  9, 10]])"
      ]
     },
     "execution_count": 64,
     "metadata": {},
     "output_type": "execute_result"
    }
   ],
   "source": [
    "new_arr"
   ]
  },
  {
   "cell_type": "code",
   "execution_count": 66,
   "id": "a7a7e555",
   "metadata": {},
   "outputs": [
    {
     "name": "stdout",
     "output_type": "stream",
     "text": [
      "Last element from 2nd dim: 10\n"
     ]
    }
   ],
   "source": [
    "print(f'Last element from 2nd dim: {new_arr[1, -1]}')"
   ]
  },
  {
   "cell_type": "markdown",
   "id": "e8c0cf32",
   "metadata": {},
   "source": [
    "## 20.Slicing in python means taking elements from one given index to another given                   index"
   ]
  },
  {
   "cell_type": "code",
   "execution_count": 67,
   "id": "b8e0a12b",
   "metadata": {},
   "outputs": [],
   "source": [
    "max_slicing =np.arange(1, 101).reshape(10,10)"
   ]
  },
  {
   "cell_type": "code",
   "execution_count": 68,
   "id": "d0916dbf",
   "metadata": {},
   "outputs": [
    {
     "data": {
      "text/plain": [
       "array([[  1,   2,   3,   4,   5,   6,   7,   8,   9,  10],\n",
       "       [ 11,  12,  13,  14,  15,  16,  17,  18,  19,  20],\n",
       "       [ 21,  22,  23,  24,  25,  26,  27,  28,  29,  30],\n",
       "       [ 31,  32,  33,  34,  35,  36,  37,  38,  39,  40],\n",
       "       [ 41,  42,  43,  44,  45,  46,  47,  48,  49,  50],\n",
       "       [ 51,  52,  53,  54,  55,  56,  57,  58,  59,  60],\n",
       "       [ 61,  62,  63,  64,  65,  66,  67,  68,  69,  70],\n",
       "       [ 71,  72,  73,  74,  75,  76,  77,  78,  79,  80],\n",
       "       [ 81,  82,  83,  84,  85,  86,  87,  88,  89,  90],\n",
       "       [ 91,  92,  93,  94,  95,  96,  97,  98,  99, 100]])"
      ]
     },
     "execution_count": 68,
     "metadata": {},
     "output_type": "execute_result"
    }
   ],
   "source": [
    "max_slicing"
   ]
  },
  {
   "cell_type": "code",
   "execution_count": 69,
   "id": "ffc28c0d",
   "metadata": {},
   "outputs": [],
   "source": [
    "#Access the Element\n",
    "acess_ele = max_slicing[2, 6]"
   ]
  },
  {
   "cell_type": "code",
   "execution_count": 70,
   "id": "0c8d5a76",
   "metadata": {},
   "outputs": [
    {
     "data": {
      "text/plain": [
       "27"
      ]
     },
     "execution_count": 70,
     "metadata": {},
     "output_type": "execute_result"
    }
   ],
   "source": [
    "acess_ele"
   ]
  },
  {
   "cell_type": "code",
   "execution_count": 72,
   "id": "bb84acf4",
   "metadata": {},
   "outputs": [],
   "source": [
    "#Access the whole Row\n",
    "acess_e1 = max_slicing[2]"
   ]
  },
  {
   "cell_type": "code",
   "execution_count": 73,
   "id": "7490c5a1",
   "metadata": {},
   "outputs": [
    {
     "data": {
      "text/plain": [
       "array([21, 22, 23, 24, 25, 26, 27, 28, 29, 30])"
      ]
     },
     "execution_count": 73,
     "metadata": {},
     "output_type": "execute_result"
    }
   ],
   "source": [
    "acess_e1"
   ]
  },
  {
   "cell_type": "code",
   "execution_count": 74,
   "id": "8204e479",
   "metadata": {},
   "outputs": [
    {
     "name": "stdout",
     "output_type": "stream",
     "text": [
      "[ 1 11 21 31 41 51 61 71 81 91]\n"
     ]
    }
   ],
   "source": [
    "#Access the column (But in row format)\n",
    "acess_e2 = max_slicing[:,0]\n",
    "print(acess_e2)"
   ]
  },
  {
   "cell_type": "code",
   "execution_count": 76,
   "id": "25b6fb11",
   "metadata": {},
   "outputs": [],
   "source": [
    "#Access the columns\n",
    "acess_e3 = max_slicing[:,0 : 2]"
   ]
  },
  {
   "cell_type": "code",
   "execution_count": 77,
   "id": "0e428856",
   "metadata": {},
   "outputs": [
    {
     "data": {
      "text/plain": [
       "array([[ 1,  2],\n",
       "       [11, 12],\n",
       "       [21, 22],\n",
       "       [31, 32],\n",
       "       [41, 42],\n",
       "       [51, 52],\n",
       "       [61, 62],\n",
       "       [71, 72],\n",
       "       [81, 82],\n",
       "       [91, 92]])"
      ]
     },
     "execution_count": 77,
     "metadata": {},
     "output_type": "execute_result"
    }
   ],
   "source": [
    "acess_e3"
   ]
  },
  {
   "cell_type": "code",
   "execution_count": 79,
   "id": "1074eae2",
   "metadata": {},
   "outputs": [],
   "source": [
    "#Slice some part of an array\n",
    "acess_e4 = max_slicing[1:4, 1:4]"
   ]
  },
  {
   "cell_type": "code",
   "execution_count": 80,
   "id": "7ddfaa85",
   "metadata": {},
   "outputs": [
    {
     "data": {
      "text/plain": [
       "array([[12, 13, 14],\n",
       "       [22, 23, 24],\n",
       "       [32, 33, 34]])"
      ]
     },
     "execution_count": 80,
     "metadata": {},
     "output_type": "execute_result"
    }
   ],
   "source": [
    "acess_e4"
   ]
  },
  {
   "cell_type": "code",
   "execution_count": 82,
   "id": "fca05ab9",
   "metadata": {},
   "outputs": [
    {
     "name": "stdout",
     "output_type": "stream",
     "text": [
      "[[  1   2   3   4   5   6   7   8   9  10]\n",
      " [ 11  12  13  14  15  16  17  18  19  20]\n",
      " [ 21  22  23  24  25  26  27  28  29  30]\n",
      " [ 31  32  33  34  35  36  37  38  39  40]\n",
      " [ 41  42  43  44  45  46  47  48  49  50]\n",
      " [ 51  52  53  54  55  56  57  58  59  60]\n",
      " [ 61  62  63  64  65  66  67  68  69  70]\n",
      " [ 71  72  73  74  75  76  77  78  79  80]\n",
      " [ 81  82  83  84  85  86  87  88  89  90]\n",
      " [ 91  92  93  94  95  96  97  98  99 100]]\n"
     ]
    }
   ],
   "source": [
    "#Access the whole matrix:\n",
    "# There are three ways to access the print the whole matrix\n",
    "acess_new = max_slicing[:]\n",
    "print(acess_new)"
   ]
  },
  {
   "cell_type": "code",
   "execution_count": 83,
   "id": "504c5a69",
   "metadata": {},
   "outputs": [
    {
     "name": "stdout",
     "output_type": "stream",
     "text": [
      "[[  1   2   3   4   5   6   7   8   9  10]\n",
      " [ 11  12  13  14  15  16  17  18  19  20]\n",
      " [ 21  22  23  24  25  26  27  28  29  30]\n",
      " [ 31  32  33  34  35  36  37  38  39  40]\n",
      " [ 41  42  43  44  45  46  47  48  49  50]\n",
      " [ 51  52  53  54  55  56  57  58  59  60]\n",
      " [ 61  62  63  64  65  66  67  68  69  70]\n",
      " [ 71  72  73  74  75  76  77  78  79  80]\n",
      " [ 81  82  83  84  85  86  87  88  89  90]\n",
      " [ 91  92  93  94  95  96  97  98  99 100]]\n"
     ]
    }
   ],
   "source": [
    "acess_new1 = max_slicing[::]\n",
    "print(acess_new1)"
   ]
  },
  {
   "cell_type": "code",
   "execution_count": 84,
   "id": "f8b47371",
   "metadata": {},
   "outputs": [
    {
     "name": "stdout",
     "output_type": "stream",
     "text": [
      "[[  1   2   3   4   5   6   7   8   9  10]\n",
      " [ 11  12  13  14  15  16  17  18  19  20]\n",
      " [ 21  22  23  24  25  26  27  28  29  30]\n",
      " [ 31  32  33  34  35  36  37  38  39  40]\n",
      " [ 41  42  43  44  45  46  47  48  49  50]\n",
      " [ 51  52  53  54  55  56  57  58  59  60]\n",
      " [ 61  62  63  64  65  66  67  68  69  70]\n",
      " [ 71  72  73  74  75  76  77  78  79  80]\n",
      " [ 81  82  83  84  85  86  87  88  89  90]\n",
      " [ 91  92  93  94  95  96  97  98  99 100]]\n"
     ]
    }
   ],
   "source": [
    "acess_new2 = max_slicing[:,:]\n",
    "print(acess_new2)"
   ]
  },
  {
   "cell_type": "markdown",
   "id": "1346cb53",
   "metadata": {},
   "source": [
    "# 21.Concatenate: Create an two array to concatenate them."
   ]
  },
  {
   "cell_type": "code",
   "execution_count": 86,
   "id": "d40c2d52",
   "metadata": {},
   "outputs": [],
   "source": [
    "concat_1 = np.arange(1, 17).reshape(4, 4)\n",
    "concat_2 = np.arange(17,33).reshape(4, 4)"
   ]
  },
  {
   "cell_type": "code",
   "execution_count": 87,
   "id": "ffa0c4e3",
   "metadata": {},
   "outputs": [
    {
     "name": "stdout",
     "output_type": "stream",
     "text": [
      "[[ 1  2  3  4]\n",
      " [ 5  6  7  8]\n",
      " [ 9 10 11 12]\n",
      " [13 14 15 16]]\n"
     ]
    }
   ],
   "source": [
    "print(concat_1)"
   ]
  },
  {
   "cell_type": "code",
   "execution_count": 88,
   "id": "636976c9",
   "metadata": {},
   "outputs": [
    {
     "name": "stdout",
     "output_type": "stream",
     "text": [
      "[[17 18 19 20]\n",
      " [21 22 23 24]\n",
      " [25 26 27 28]\n",
      " [29 30 31 32]]\n"
     ]
    }
   ],
   "source": [
    "print(concat_2)"
   ]
  },
  {
   "cell_type": "code",
   "execution_count": 90,
   "id": "a3bbb525",
   "metadata": {},
   "outputs": [],
   "source": [
    "#Concatenate Columnwise\n",
    "concat_col = np.concatenate((concat_1,concat_2))"
   ]
  },
  {
   "cell_type": "code",
   "execution_count": 91,
   "id": "a2858e03",
   "metadata": {},
   "outputs": [
    {
     "name": "stdout",
     "output_type": "stream",
     "text": [
      "[[ 1  2  3  4]\n",
      " [ 5  6  7  8]\n",
      " [ 9 10 11 12]\n",
      " [13 14 15 16]\n",
      " [17 18 19 20]\n",
      " [21 22 23 24]\n",
      " [25 26 27 28]\n",
      " [29 30 31 32]]\n"
     ]
    }
   ],
   "source": [
    "print(concat_col)"
   ]
  },
  {
   "cell_type": "code",
   "execution_count": 92,
   "id": "3fb4fcb4",
   "metadata": {},
   "outputs": [
    {
     "name": "stdout",
     "output_type": "stream",
     "text": [
      "[[ 1  2  3  4]\n",
      " [ 5  6  7  8]\n",
      " [ 9 10 11 12]\n",
      " [13 14 15 16]\n",
      " [17 18 19 20]\n",
      " [21 22 23 24]\n",
      " [25 26 27 28]\n",
      " [29 30 31 32]]\n"
     ]
    }
   ],
   "source": [
    "concat_1 = np.vstack((concat_1, concat_2))\n",
    "print(concat_1)"
   ]
  },
  {
   "cell_type": "code",
   "execution_count": 94,
   "id": "a9ed721c",
   "metadata": {},
   "outputs": [
    {
     "name": "stdout",
     "output_type": "stream",
     "text": [
      "[[ 1  2  3  4]\n",
      " [ 5  6  7  8]\n",
      " [ 9 10 11 12]\n",
      " [13 14 15 16]\n",
      " [17 18 19 20]\n",
      " [21 22 23 24]\n",
      " [25 26 27 28]\n",
      " [29 30 31 32]\n",
      " [17 18 19 20]\n",
      " [21 22 23 24]\n",
      " [25 26 27 28]\n",
      " [29 30 31 32]]\n"
     ]
    }
   ],
   "source": [
    "#Concatenate Row wise\n",
    "concat_ = np.concatenate((concat_1,concat_2), axis=0)\n",
    "print(concat_)"
   ]
  },
  {
   "cell_type": "markdown",
   "id": "33d0cbcd",
   "metadata": {},
   "source": [
    "## 22.Checking the Data Type of an Array"
   ]
  },
  {
   "cell_type": "code",
   "execution_count": 101,
   "id": "a9b48cac",
   "metadata": {},
   "outputs": [],
   "source": [
    "data_type = np.array([1, 2, 3, 4, 5])"
   ]
  },
  {
   "cell_type": "code",
   "execution_count": 102,
   "id": "092e4bc7",
   "metadata": {},
   "outputs": [
    {
     "name": "stdout",
     "output_type": "stream",
     "text": [
      "[1 2 3 4 5]\n"
     ]
    }
   ],
   "source": [
    "print(data_type)"
   ]
  },
  {
   "cell_type": "code",
   "execution_count": 103,
   "id": "65c636e6",
   "metadata": {},
   "outputs": [
    {
     "name": "stdout",
     "output_type": "stream",
     "text": [
      "int32\n"
     ]
    }
   ],
   "source": [
    "print(data_type.dtype)"
   ]
  },
  {
   "cell_type": "markdown",
   "id": "941e8fc9",
   "metadata": {},
   "source": [
    "## 23.Creating Arrays with a Defined Data Type"
   ]
  },
  {
   "cell_type": "code",
   "execution_count": 104,
   "id": "58ac2f36",
   "metadata": {},
   "outputs": [
    {
     "name": "stdout",
     "output_type": "stream",
     "text": [
      "[b'1' b'2' b'3' b'4']\n",
      "|S1\n"
     ]
    }
   ],
   "source": [
    "arr = np.array([1, 2, 3, 4], dtype='S')\n",
    "print(arr)\n",
    "print(arr.dtype)"
   ]
  },
  {
   "cell_type": "markdown",
   "id": "70cb73b6",
   "metadata": {},
   "source": [
    "## 24.Converting Data Type on Existing Arrays"
   ]
  },
  {
   "cell_type": "code",
   "execution_count": 105,
   "id": "2ce4fac2",
   "metadata": {},
   "outputs": [
    {
     "name": "stdout",
     "output_type": "stream",
     "text": [
      "[1 2 3]\n",
      "int32\n"
     ]
    }
   ],
   "source": [
    "arr = np.array([1.1, 2.1, 3.1])\n",
    "new_arr = arr.astype('i')\n",
    "print(new_arr)\n",
    "print(new_arr.dtype)"
   ]
  },
  {
   "cell_type": "markdown",
   "id": "8a977f64",
   "metadata": {},
   "source": [
    "## 25.COPY: Make a copy, change the original array, and display both arrays"
   ]
  },
  {
   "cell_type": "code",
   "execution_count": 106,
   "id": "0cab98af",
   "metadata": {},
   "outputs": [],
   "source": [
    "disp_arr = np.array([1, 2, 3, 4, 5])"
   ]
  },
  {
   "cell_type": "code",
   "execution_count": 107,
   "id": "17ac88a8",
   "metadata": {},
   "outputs": [],
   "source": [
    "copy_arr = disp_arr.copy()"
   ]
  },
  {
   "cell_type": "code",
   "execution_count": 108,
   "id": "b877ac2d",
   "metadata": {},
   "outputs": [],
   "source": [
    "disp_arr[0] = 99"
   ]
  },
  {
   "cell_type": "code",
   "execution_count": 110,
   "id": "2aee4545",
   "metadata": {},
   "outputs": [
    {
     "name": "stdout",
     "output_type": "stream",
     "text": [
      "[99  2  3  4  5]\n"
     ]
    }
   ],
   "source": [
    "print(disp_arr)"
   ]
  },
  {
   "cell_type": "code",
   "execution_count": 111,
   "id": "9689df36",
   "metadata": {},
   "outputs": [
    {
     "name": "stdout",
     "output_type": "stream",
     "text": [
      "[1 2 3 4 5]\n"
     ]
    }
   ],
   "source": [
    "print(copy_arr)"
   ]
  },
  {
   "cell_type": "markdown",
   "id": "ce4d9a16",
   "metadata": {},
   "source": [
    "## 26.VIEW: Make a view, change the original array, and display both arrays"
   ]
  },
  {
   "cell_type": "code",
   "execution_count": 113,
   "id": "914e5073",
   "metadata": {},
   "outputs": [
    {
     "name": "stdout",
     "output_type": "stream",
     "text": [
      "[75 20 30 40 50]\n",
      "[75 20 30 40 50]\n"
     ]
    }
   ],
   "source": [
    "original_arr = np.array([10, 20, 30, 40, 50])\n",
    "view_array = original_arr.view()\n",
    "original_arr[0] = 75\n",
    "print(original_arr)\n",
    "print(view_array)"
   ]
  },
  {
   "cell_type": "code",
   "execution_count": 114,
   "id": "c23edb1c",
   "metadata": {},
   "outputs": [
    {
     "name": "stdout",
     "output_type": "stream",
     "text": [
      "[100  20  30  40  50]\n",
      "[100  20  30  40  50]\n"
     ]
    }
   ],
   "source": [
    "#Make Changes in the VIEW\n",
    "new_arr = np.array([10, 20, 30, 40, 50])\n",
    "view_arr = new_arr.view()\n",
    "new_arr[0] = 100\n",
    "print(new_arr)\n",
    "print(view_arr)"
   ]
  },
  {
   "cell_type": "markdown",
   "id": "b5caa249",
   "metadata": {},
   "source": [
    "## 27.NumPy Array Shape"
   ]
  },
  {
   "cell_type": "code",
   "execution_count": 115,
   "id": "0d78aab1",
   "metadata": {},
   "outputs": [
    {
     "name": "stdout",
     "output_type": "stream",
     "text": [
      "(2, 4)\n"
     ]
    }
   ],
   "source": [
    "arr_ele = np.array([[1, 2, 3, 4], [5, 6, 7, 8]])\n",
    "print(arr_ele.shape)"
   ]
  },
  {
   "cell_type": "markdown",
   "id": "e4a592cd",
   "metadata": {},
   "source": [
    "## 28.NumPy Array Reshaping"
   ]
  },
  {
   "cell_type": "markdown",
   "id": "f4903652",
   "metadata": {},
   "source": [
    "#### Reshape From 1-D to 2-D: Reshaping Converting the following 1-D array with 12 elements into a 2-D  array.\n",
    "#### The outermost dimension will have 4 arrays, each with 3 elements"
   ]
  },
  {
   "cell_type": "code",
   "execution_count": 116,
   "id": "6d33c800",
   "metadata": {},
   "outputs": [
    {
     "name": "stdout",
     "output_type": "stream",
     "text": [
      "[[ 1  2  3]\n",
      " [ 4  5  6]\n",
      " [ 7  8  9]\n",
      " [10 11 12]]\n"
     ]
    }
   ],
   "source": [
    "arr1 = np.array([1, 2, 3, 4, 5, 6, 7, 8, 9, 10, 11, 12])\n",
    "newarr = arr1.reshape(4, 3)\n",
    "print(newarr)"
   ]
  },
  {
   "cell_type": "markdown",
   "id": "471db802",
   "metadata": {},
   "source": [
    "### 29.Reshape From 1-D to 3-D:Convert the following 1-D array with 12 elements into a 3-D array.\n",
    "#### The outermost dimension will have 2 arrays that contains 3 arrays, each with 2 elements"
   ]
  },
  {
   "cell_type": "code",
   "execution_count": 117,
   "id": "33032a49",
   "metadata": {},
   "outputs": [
    {
     "name": "stdout",
     "output_type": "stream",
     "text": [
      "[[[ 1  2]\n",
      "  [ 3  4]\n",
      "  [ 5  6]]\n",
      "\n",
      " [[ 7  8]\n",
      "  [ 9 10]\n",
      "  [11 12]]]\n"
     ]
    }
   ],
   "source": [
    "arr = np.array([1, 2, 3, 4, 5, 6, 7, 8, 9, 10, 11, 12])\n",
    "newarr = arr.reshape(2, 3, 2)\n",
    "print(newarr)"
   ]
  },
  {
   "cell_type": "markdown",
   "id": "30677c29",
   "metadata": {},
   "source": [
    "## 30.Unknown Dimension"
   ]
  },
  {
   "cell_type": "code",
   "execution_count": 118,
   "id": "c73d015e",
   "metadata": {},
   "outputs": [
    {
     "name": "stdout",
     "output_type": "stream",
     "text": [
      "[[[1 2]\n",
      "  [3 4]]\n",
      "\n",
      " [[5 6]\n",
      "  [7 8]]]\n"
     ]
    }
   ],
   "source": [
    "arr = np.array([1, 2, 3, 4, 5, 6, 7, 8])\n",
    "newarr = arr.reshape(2, 2, -1)\n",
    "print(newarr)"
   ]
  },
  {
   "cell_type": "markdown",
   "id": "3772d9a0",
   "metadata": {},
   "source": [
    "# 31.Flattening the arrays:\n",
    "#### Flattening array means converting a multidimensional array into a 1D array.We can use reshape(-1) to do this. \n",
    "#### Convert the array into a 1D array"
   ]
  },
  {
   "cell_type": "code",
   "execution_count": 119,
   "id": "1354bd26",
   "metadata": {},
   "outputs": [
    {
     "name": "stdout",
     "output_type": "stream",
     "text": [
      "[1 2 3 4 5 6]\n"
     ]
    }
   ],
   "source": [
    "arr = np.array([[1, 2, 3], [4, 5, 6]])\n",
    "newarr = arr.reshape(-1)\n",
    "print(newarr)"
   ]
  },
  {
   "cell_type": "markdown",
   "id": "4ddf7004",
   "metadata": {},
   "source": [
    "## 32.NumPy transpose Array"
   ]
  },
  {
   "cell_type": "code",
   "execution_count": 120,
   "id": "628d02f4",
   "metadata": {},
   "outputs": [
    {
     "name": "stdout",
     "output_type": "stream",
     "text": [
      "The defined array is \n",
      "[[33 14]\n",
      " [27 30]\n",
      " [30 25]\n",
      " [26 11]\n",
      " [20 33]\n",
      " [15 14]\n",
      " [28 39]\n",
      " [44 28]]\n",
      " \n",
      " The shape of the array is (8, 2)\n"
     ]
    }
   ],
   "source": [
    "# Create a 2 D Array\n",
    "simple_array = np.array(np.random.randint(10,45,(8,2)))\n",
    "print(f\"The defined array is \\n{simple_array}\")\n",
    "print(f\" \\n The shape of the array is {simple_array.shape}\")"
   ]
  },
  {
   "cell_type": "markdown",
   "id": "dc8cdf0d",
   "metadata": {},
   "source": [
    "## 33.Storing the transpose in another matrix object"
   ]
  },
  {
   "cell_type": "code",
   "execution_count": 121,
   "id": "0f552230",
   "metadata": {},
   "outputs": [
    {
     "name": "stdout",
     "output_type": "stream",
     "text": [
      " The transpose of the array is \n",
      "[[24 42 43 36 35 32 31 42]\n",
      " [11 39 40 41 40 34 38 15]]\n",
      " \n",
      " The shape of the array is (2, 8)\n"
     ]
    }
   ],
   "source": [
    "simple_array = np.array(np.random.randint(10,45,(8,2)))\n",
    "transpose_array =np.transpose(simple_array)\n",
    "print(f\" The transpose of the array is \\n{transpose_array}\")\n",
    "print(f\" \\n The shape of the array is {transpose_array.shape}\")"
   ]
  },
  {
   "cell_type": "markdown",
   "id": "5aad58c4",
   "metadata": {},
   "source": [
    "## 34.NumPy Joining Array"
   ]
  },
  {
   "cell_type": "code",
   "execution_count": 122,
   "id": "30798abb",
   "metadata": {},
   "outputs": [
    {
     "name": "stdout",
     "output_type": "stream",
     "text": [
      "[1 2 3 4 5 6 7 8 9]\n"
     ]
    }
   ],
   "source": [
    "arr1 = np.array([1, 2, 3])\n",
    "arr2 = np.array([4, 5, 6])\n",
    "arr3 = np.array([7, 8, 9])\n",
    "arr = np.concatenate((arr1, arr2, arr3))\n",
    "print(arr)"
   ]
  },
  {
   "cell_type": "markdown",
   "id": "4f7c7d84",
   "metadata": {},
   "source": [
    "## 35.Join two 2-D arrays along rows (axis = 1)"
   ]
  },
  {
   "cell_type": "code",
   "execution_count": 123,
   "id": "0dac3b4d",
   "metadata": {},
   "outputs": [
    {
     "name": "stdout",
     "output_type": "stream",
     "text": [
      "[[1 2 5 6]\n",
      " [3 4 7 8]]\n"
     ]
    }
   ],
   "source": [
    "arr1 = np.array([[1, 2], [3, 4]])\n",
    "arr2 = np.array([[5, 6], [7, 8]])\n",
    "arr = np.concatenate((arr1, arr2), axis=1)\n",
    "print(arr)"
   ]
  },
  {
   "cell_type": "markdown",
   "id": "81a910f7",
   "metadata": {},
   "source": [
    "## 36.Joining Arrays Using Stack Functions"
   ]
  },
  {
   "cell_type": "code",
   "execution_count": 124,
   "id": "c031b9f2",
   "metadata": {},
   "outputs": [
    {
     "name": "stdout",
     "output_type": "stream",
     "text": [
      "[[1 4]\n",
      " [2 5]\n",
      " [3 6]]\n"
     ]
    }
   ],
   "source": [
    "arr1 = np.array([1, 2, 3])\n",
    "arr2 = np.array([4, 5, 6])\n",
    "arr = np.stack((arr1, arr2), axis=1)\n",
    "print(arr)"
   ]
  },
  {
   "cell_type": "markdown",
   "id": "3a2f9ec4",
   "metadata": {},
   "source": [
    "## 37.NumPy Splitting Array\n",
    "#### Splitting 1-D Arrays:Split the array in 3 parts"
   ]
  },
  {
   "cell_type": "code",
   "execution_count": 125,
   "id": "b9e80e5f",
   "metadata": {},
   "outputs": [
    {
     "name": "stdout",
     "output_type": "stream",
     "text": [
      "[array([1, 2]), array([3, 4]), array([5, 6])]\n"
     ]
    }
   ],
   "source": [
    "arr = np.array([1, 2, 3, 4, 5, 6])\n",
    "newarr = np.array_split(arr, 3)\n",
    "print(newarr)"
   ]
  },
  {
   "cell_type": "code",
   "execution_count": 126,
   "id": "b3c82352",
   "metadata": {},
   "outputs": [
    {
     "name": "stdout",
     "output_type": "stream",
     "text": [
      "[array([1, 2]), array([3, 4]), array([5]), array([6])]\n"
     ]
    }
   ],
   "source": [
    "#Split the array in 4 parts\n",
    "newarr = np.array_split(arr, 4)\n",
    "print(newarr)"
   ]
  },
  {
   "cell_type": "markdown",
   "id": "5943e1d4",
   "metadata": {},
   "source": [
    "## 38.Access the splitted arrays"
   ]
  },
  {
   "cell_type": "code",
   "execution_count": 128,
   "id": "e323b644",
   "metadata": {},
   "outputs": [
    {
     "name": "stdout",
     "output_type": "stream",
     "text": [
      "[1 2]\n",
      "[3 4]\n",
      "[5 6]\n"
     ]
    }
   ],
   "source": [
    "newarr = np.array_split(arr, 3)\n",
    "print(newarr[0])\n",
    "print(newarr[1])\n",
    "print(newarr[2])"
   ]
  },
  {
   "cell_type": "code",
   "execution_count": 129,
   "id": "534dbf90",
   "metadata": {},
   "outputs": [
    {
     "name": "stdout",
     "output_type": "stream",
     "text": [
      "[array([[1, 2],\n",
      "       [3, 4]]), array([[5, 6],\n",
      "       [7, 8]]), array([[ 9, 10],\n",
      "       [11, 12]])]\n"
     ]
    }
   ],
   "source": [
    "#Split the 2-D array into three 2-D arrays.\n",
    "arr = np.array([[1, 2], [3, 4], [5, 6], [7, 8], [9, 10], [11, 12]])\n",
    "newarr = np.array_split(arr, 3)\n",
    "print(newarr)"
   ]
  },
  {
   "cell_type": "markdown",
   "id": "12f81d89",
   "metadata": {},
   "source": [
    "## 39.NumPy Searching Arrays:Find the indexes where the value is 4"
   ]
  },
  {
   "cell_type": "code",
   "execution_count": 130,
   "id": "80645e00",
   "metadata": {},
   "outputs": [
    {
     "name": "stdout",
     "output_type": "stream",
     "text": [
      "(array([3, 5, 6], dtype=int64),)\n"
     ]
    }
   ],
   "source": [
    "arr = np.array([1, 2, 3, 4, 5, 4, 4])\n",
    "x = np.where(arr == 4)\n",
    "print(x)"
   ]
  },
  {
   "cell_type": "code",
   "execution_count": 131,
   "id": "e92cb2eb",
   "metadata": {},
   "outputs": [
    {
     "name": "stdout",
     "output_type": "stream",
     "text": [
      "(array([1, 3, 5, 7], dtype=int64),)\n"
     ]
    }
   ],
   "source": [
    "#Find the indexes where the values are even\n",
    "arr = np.array([1, 2, 3, 4, 5, 6, 7, 8])\n",
    "x = np.where(arr % 2 == 0)\n",
    "print(x)"
   ]
  },
  {
   "cell_type": "markdown",
   "id": "bab0c421",
   "metadata": {},
   "source": [
    "# 40.NumPy Sorting Arrays"
   ]
  },
  {
   "cell_type": "code",
   "execution_count": 132,
   "id": "f10026c7",
   "metadata": {},
   "outputs": [
    {
     "name": "stdout",
     "output_type": "stream",
     "text": [
      "[0 1 2 3]\n"
     ]
    }
   ],
   "source": [
    "arr = np.array([3, 2, 0, 1])\n",
    "print(np.sort(arr))"
   ]
  },
  {
   "cell_type": "code",
   "execution_count": 133,
   "id": "ddfe08d9",
   "metadata": {},
   "outputs": [
    {
     "name": "stdout",
     "output_type": "stream",
     "text": [
      "['apple' 'banana' 'cherry' 'dgragon fruit' 'kivi' 'pineaapple'\n",
      " 'strawberry']\n"
     ]
    }
   ],
   "source": [
    "#sort arrays of strings, or any other data type\n",
    "arr = np.array(['banana', 'cherry', 'apple','pineaapple','kivi','strawberry','dgragon fruit'])\n",
    "print(np.sort(arr))"
   ]
  },
  {
   "cell_type": "markdown",
   "id": "e2ae4cc8",
   "metadata": {},
   "source": [
    "## 41.Random Numbers in Numpy"
   ]
  },
  {
   "cell_type": "code",
   "execution_count": 134,
   "id": "e68da248",
   "metadata": {},
   "outputs": [
    {
     "name": "stdout",
     "output_type": "stream",
     "text": [
      "64\n"
     ]
    }
   ],
   "source": [
    "# Generate a random integer from 0 to 100:\n",
    "from numpy import random\n",
    "x = random.randint(100)\n",
    "print(x)"
   ]
  },
  {
   "cell_type": "code",
   "execution_count": 135,
   "id": "205e453e",
   "metadata": {},
   "outputs": [
    {
     "name": "stdout",
     "output_type": "stream",
     "text": [
      "0.3151457659597129\n"
     ]
    }
   ],
   "source": [
    "#Generate a random float from 0 to 1\n",
    "from numpy import random\n",
    "x = random.rand()\n",
    "print(x)"
   ]
  },
  {
   "cell_type": "markdown",
   "id": "fdb4c230",
   "metadata": {},
   "source": [
    "### 42.Generate a 1-D array containing 5 random integers from 0 to 100:"
   ]
  },
  {
   "cell_type": "code",
   "execution_count": 136,
   "id": "e6713d34",
   "metadata": {},
   "outputs": [
    {
     "name": "stdout",
     "output_type": "stream",
     "text": [
      "[ 4  2 50 22 95]\n"
     ]
    }
   ],
   "source": [
    "from numpy import random\n",
    "x=random.randint(100, size=(5))\n",
    "print(x)"
   ]
  },
  {
   "cell_type": "markdown",
   "id": "ec5c8bd3",
   "metadata": {},
   "source": [
    "### 43.Generate a 2-D array with 3 rows, each row containing 5 random integers from 0 to 100"
   ]
  },
  {
   "cell_type": "code",
   "execution_count": 137,
   "id": "1cc37076",
   "metadata": {},
   "outputs": [
    {
     "name": "stdout",
     "output_type": "stream",
     "text": [
      "[[ 5 10 65 74 52]\n",
      " [84 17  0 41 17]\n",
      " [44 28 30 48 57]]\n"
     ]
    }
   ],
   "source": [
    "from numpy import random\n",
    "x = random.randint(100, size=(3, 5))\n",
    "print(x)"
   ]
  },
  {
   "cell_type": "markdown",
   "id": "1d29b2be",
   "metadata": {},
   "source": [
    "### 44.Generate a 1-D array containing 5 random floats"
   ]
  },
  {
   "cell_type": "code",
   "execution_count": 138,
   "id": "7dbed82a",
   "metadata": {},
   "outputs": [
    {
     "name": "stdout",
     "output_type": "stream",
     "text": [
      "[0.31564773 0.2547086  0.15097067 0.78500535 0.02254881]\n"
     ]
    }
   ],
   "source": [
    "from numpy import random\n",
    "x = random.rand(5)\n",
    "print(x)"
   ]
  },
  {
   "cell_type": "markdown",
   "id": "e2c88549",
   "metadata": {},
   "source": [
    "### 45.Generate a 2-D array with 3 rows, each row containing 5 random numbers"
   ]
  },
  {
   "cell_type": "code",
   "execution_count": 139,
   "id": "b72e410a",
   "metadata": {},
   "outputs": [
    {
     "name": "stdout",
     "output_type": "stream",
     "text": [
      "[[0.21829869 0.61208228 0.05962958 0.88456292 0.9288773 ]\n",
      " [0.27300915 0.93103491 0.0080123  0.26649639 0.08642834]\n",
      " [0.03486469 0.37145705 0.17996353 0.09757602 0.23184347]]\n"
     ]
    }
   ],
   "source": [
    "from numpy import random\n",
    "x = random.rand(3, 5)\n",
    "print(x)"
   ]
  },
  {
   "cell_type": "markdown",
   "id": "c69d35be",
   "metadata": {},
   "source": [
    "## 46.Generate Random Number From Array using choice method"
   ]
  },
  {
   "cell_type": "code",
   "execution_count": 140,
   "id": "e1511a4e",
   "metadata": {},
   "outputs": [
    {
     "name": "stdout",
     "output_type": "stream",
     "text": [
      "7\n"
     ]
    }
   ],
   "source": [
    "#Return one of the values in an array:\n",
    "from numpy import random\n",
    "x = random.choice([3, 5, 7, 9])\n",
    "print(x)"
   ]
  },
  {
   "cell_type": "markdown",
   "id": "7f14f662",
   "metadata": {},
   "source": [
    "### 47.Generate a 2-D array that consists of the values in the array parameter (3, 5, 7, and 9)"
   ]
  },
  {
   "cell_type": "code",
   "execution_count": 141,
   "id": "6197824a",
   "metadata": {},
   "outputs": [
    {
     "name": "stdout",
     "output_type": "stream",
     "text": [
      "[[3 5 3 3 7]\n",
      " [9 5 7 7 7]\n",
      " [7 7 9 5 9]]\n"
     ]
    }
   ],
   "source": [
    "from numpy import random\n",
    "x = random.choice([3, 5, 7, 9], size=(3, 5))\n",
    "print(x)"
   ]
  },
  {
   "cell_type": "markdown",
   "id": "bea2a5ef",
   "metadata": {},
   "source": [
    "## 48.Simple Arithmetic"
   ]
  },
  {
   "cell_type": "code",
   "execution_count": 142,
   "id": "9321e782",
   "metadata": {},
   "outputs": [
    {
     "name": "stdout",
     "output_type": "stream",
     "text": [
      "[[1 2 3]\n",
      " [4 5 6]\n",
      " [7 8 9]]\n",
      "[[1 2 3]\n",
      " [4 5 6]\n",
      " [7 8 9]]\n"
     ]
    }
   ],
   "source": [
    "arr_1 = np.arange(1,10).reshape(3,3)\n",
    "arr_2 = np.arange(1,10).reshape(3,3)\n",
    "print(arr_1)\n",
    "print(arr_2)"
   ]
  },
  {
   "cell_type": "markdown",
   "id": "ab98ca64",
   "metadata": {},
   "source": [
    "## Method 1:Addition"
   ]
  },
  {
   "cell_type": "code",
   "execution_count": 143,
   "id": "f57d4e23",
   "metadata": {},
   "outputs": [
    {
     "name": "stdout",
     "output_type": "stream",
     "text": [
      "[[ 2  4  6]\n",
      " [ 8 10 12]\n",
      " [14 16 18]]\n"
     ]
    }
   ],
   "source": [
    "add_1 = arr_1 + arr_2\n",
    "print(add_1)"
   ]
  },
  {
   "cell_type": "markdown",
   "id": "c24a4107",
   "metadata": {},
   "source": [
    "## Method 2:Addition"
   ]
  },
  {
   "cell_type": "code",
   "execution_count": 144,
   "id": "c62bdc9c",
   "metadata": {},
   "outputs": [
    {
     "name": "stdout",
     "output_type": "stream",
     "text": [
      "[[ 2  4  6]\n",
      " [ 8 10 12]\n",
      " [14 16 18]]\n"
     ]
    }
   ],
   "source": [
    "add_2 = np.add(arr_1,arr_2)\n",
    "print(add_2)"
   ]
  },
  {
   "cell_type": "markdown",
   "id": "90c5eece",
   "metadata": {},
   "source": [
    "## Subtraction:Method1"
   ]
  },
  {
   "cell_type": "code",
   "execution_count": 145,
   "id": "667b9e93",
   "metadata": {},
   "outputs": [
    {
     "name": "stdout",
     "output_type": "stream",
     "text": [
      "[[0 0 0]\n",
      " [0 0 0]\n",
      " [0 0 0]]\n"
     ]
    }
   ],
   "source": [
    "sub_1 = arr_1 - arr_2\n",
    "print(sub_1)"
   ]
  },
  {
   "cell_type": "markdown",
   "id": "47c214b9",
   "metadata": {},
   "source": [
    "## Subtraction:Method2"
   ]
  },
  {
   "cell_type": "code",
   "execution_count": 147,
   "id": "0fc09167",
   "metadata": {},
   "outputs": [
    {
     "name": "stdout",
     "output_type": "stream",
     "text": [
      "[[0 0 0]\n",
      " [0 0 0]\n",
      " [0 0 0]]\n"
     ]
    }
   ],
   "source": [
    "sub_2 = np.subtract(arr_1,arr_2)\n",
    "print(sub_2)"
   ]
  },
  {
   "cell_type": "markdown",
   "id": "652043e4",
   "metadata": {},
   "source": [
    "## Division:Method1"
   ]
  },
  {
   "cell_type": "code",
   "execution_count": 148,
   "id": "ce4a3daa",
   "metadata": {},
   "outputs": [
    {
     "name": "stdout",
     "output_type": "stream",
     "text": [
      "[[1. 1. 1.]\n",
      " [1. 1. 1.]\n",
      " [1. 1. 1.]]\n"
     ]
    }
   ],
   "source": [
    "div_1 = arr_1 / arr_2\n",
    "print(div_1)"
   ]
  },
  {
   "cell_type": "markdown",
   "id": "a274e918",
   "metadata": {},
   "source": [
    "## Division:Method2"
   ]
  },
  {
   "cell_type": "code",
   "execution_count": 150,
   "id": "0bd2be38",
   "metadata": {},
   "outputs": [
    {
     "name": "stdout",
     "output_type": "stream",
     "text": [
      "[[1. 1. 1.]\n",
      " [1. 1. 1.]\n",
      " [1. 1. 1.]]\n"
     ]
    }
   ],
   "source": [
    "div_2 = np.divide(arr_1,arr_2)\n",
    "print(div_2)"
   ]
  },
  {
   "cell_type": "markdown",
   "id": "aff64892",
   "metadata": {},
   "source": [
    "## Multiplication:Method1"
   ]
  },
  {
   "cell_type": "code",
   "execution_count": 151,
   "id": "edfcc0f0",
   "metadata": {},
   "outputs": [
    {
     "name": "stdout",
     "output_type": "stream",
     "text": [
      "[[ 1  4  9]\n",
      " [16 25 36]\n",
      " [49 64 81]]\n"
     ]
    }
   ],
   "source": [
    "multi_1 = arr_1 * arr_2\n",
    "print(multi_1)"
   ]
  },
  {
   "cell_type": "markdown",
   "id": "60feb8f5",
   "metadata": {},
   "source": [
    "## Multiplication:Method2"
   ]
  },
  {
   "cell_type": "code",
   "execution_count": 152,
   "id": "ade76652",
   "metadata": {},
   "outputs": [
    {
     "name": "stdout",
     "output_type": "stream",
     "text": [
      "[[ 1  4  9]\n",
      " [16 25 36]\n",
      " [49 64 81]]\n"
     ]
    }
   ],
   "source": [
    "multi_2 = np.multiply(arr_1, arr_2)\n",
    "print(multi_2)"
   ]
  },
  {
   "cell_type": "markdown",
   "id": "b5f19433",
   "metadata": {},
   "source": [
    "## Product:Method1"
   ]
  },
  {
   "cell_type": "code",
   "execution_count": 154,
   "id": "aa8fc49a",
   "metadata": {},
   "outputs": [
    {
     "name": "stdout",
     "output_type": "stream",
     "text": [
      "[[ 30  36  42]\n",
      " [ 66  81  96]\n",
      " [102 126 150]]\n"
     ]
    }
   ],
   "source": [
    "prod = arr_1 @ arr_2\n",
    "print(prod)"
   ]
  },
  {
   "cell_type": "markdown",
   "id": "33c806f2",
   "metadata": {},
   "source": [
    "## Product:Method2"
   ]
  },
  {
   "cell_type": "code",
   "execution_count": 155,
   "id": "85e2ea56",
   "metadata": {},
   "outputs": [
    {
     "name": "stdout",
     "output_type": "stream",
     "text": [
      "[[ 30  36  42]\n",
      " [ 66  81  96]\n",
      " [102 126 150]]\n"
     ]
    }
   ],
   "source": [
    "prod_2 = arr_1.dot(arr_2)\n",
    "print(prod_2)"
   ]
  },
  {
   "cell_type": "markdown",
   "id": "928ea6d3",
   "metadata": {},
   "source": [
    "## 49.Power:Raise the values in arr1 to the power of values in arr2"
   ]
  },
  {
   "cell_type": "code",
   "execution_count": 157,
   "id": "55617e6b",
   "metadata": {},
   "outputs": [
    {
     "name": "stdout",
     "output_type": "stream",
     "text": [
      "[      1000    3200000  729000000 -520093696       2500          0]\n"
     ]
    }
   ],
   "source": [
    "arr1 = np.array([10, 20, 30, 40, 50, 60])\n",
    "arr2 = np.array([3, 5, 6, 8, 2, 33])\n",
    "newarr = np.power(arr1, arr2)\n",
    "print(newarr)"
   ]
  },
  {
   "cell_type": "markdown",
   "id": "3b8849c7",
   "metadata": {},
   "source": [
    "### 50.Remainder: mod() and the remainder() functions return the remainder of the  values in the first array                  corresponding to the values in the second array, and  return the results in a new array"
   ]
  },
  {
   "cell_type": "code",
   "execution_count": 158,
   "id": "8633d552",
   "metadata": {},
   "outputs": [
    {
     "name": "stdout",
     "output_type": "stream",
     "text": [
      "[ 1  6  3  0  0 27]\n"
     ]
    }
   ],
   "source": [
    "arr1 = np.array([10, 20, 30, 40, 50, 60])\n",
    "arr2 = np.array([3, 7, 9, 8, 2, 33])\n",
    "newarr = np.mod(arr1, arr2)\n",
    "print(newarr)"
   ]
  },
  {
   "cell_type": "code",
   "execution_count": 159,
   "id": "903a2087",
   "metadata": {},
   "outputs": [
    {
     "name": "stdout",
     "output_type": "stream",
     "text": [
      "[ 1  6  3  0  0 27]\n"
     ]
    }
   ],
   "source": [
    "newarr = np.remainder(arr1, arr2)\n",
    "print(newarr)"
   ]
  },
  {
   "cell_type": "code",
   "execution_count": 160,
   "id": "db4d85d4",
   "metadata": {},
   "outputs": [
    {
     "name": "stdout",
     "output_type": "stream",
     "text": [
      "(array([ 3,  2,  3,  5, 25,  1], dtype=int32), array([ 1,  6,  3,  0,  0, 27], dtype=int32))\n"
     ]
    }
   ],
   "source": [
    "#Quotient and Mod\n",
    "arr1 = np.array([10, 20, 30, 40, 50, 60])\n",
    "arr2 = np.array([3, 7, 9, 8, 2, 33])\n",
    "newarr = np.divmod(arr1, arr2)\n",
    "print(newarr)"
   ]
  },
  {
   "cell_type": "markdown",
   "id": "02df18f6",
   "metadata": {},
   "source": [
    "## 51.Rounding Decimals"
   ]
  },
  {
   "cell_type": "code",
   "execution_count": 161,
   "id": "2897ccc0",
   "metadata": {},
   "outputs": [
    {
     "name": "stdout",
     "output_type": "stream",
     "text": [
      "[-3.  3.]\n"
     ]
    }
   ],
   "source": [
    "#Truncate elements of following array\n",
    "arr = np.trunc([-3.1666, 3.6667])\n",
    "print(arr)"
   ]
  },
  {
   "cell_type": "code",
   "execution_count": 162,
   "id": "3eac8166",
   "metadata": {},
   "outputs": [
    {
     "name": "stdout",
     "output_type": "stream",
     "text": [
      "[-3.  3.]\n"
     ]
    }
   ],
   "source": [
    "arr = np.fix([-3.1666, 3.6667])\n",
    "print(arr)"
   ]
  },
  {
   "cell_type": "code",
   "execution_count": 163,
   "id": "89fdc535",
   "metadata": {},
   "outputs": [
    {
     "name": "stdout",
     "output_type": "stream",
     "text": [
      "3.17\n"
     ]
    }
   ],
   "source": [
    "#Rounding:Round off 3.1666 to 2 decimal places.\n",
    "arr = np.around(3.1666, 2)\n",
    "print(arr)"
   ]
  },
  {
   "cell_type": "code",
   "execution_count": 164,
   "id": "a3b48011",
   "metadata": {},
   "outputs": [
    {
     "name": "stdout",
     "output_type": "stream",
     "text": [
      "[-4.  3.]\n"
     ]
    }
   ],
   "source": [
    "#Floor:The floor() function rounds off decimal to nearest lower integer\n",
    "arr = np.floor([-3.1666, 3.6667])\n",
    "print(arr)"
   ]
  },
  {
   "cell_type": "code",
   "execution_count": 165,
   "id": "cbf33258",
   "metadata": {},
   "outputs": [
    {
     "name": "stdout",
     "output_type": "stream",
     "text": [
      "[-3.  4.]\n"
     ]
    }
   ],
   "source": [
    "#Ceil:The ceil() function rounds off decimal to nearest upper integer\n",
    "arr = np.ceil([-3.1666, 3.6667])\n",
    "print(arr)"
   ]
  }
 ],
 "metadata": {
  "kernelspec": {
   "display_name": "Python 3 (ipykernel)",
   "language": "python",
   "name": "python3"
  },
  "language_info": {
   "codemirror_mode": {
    "name": "ipython",
    "version": 3
   },
   "file_extension": ".py",
   "mimetype": "text/x-python",
   "name": "python",
   "nbconvert_exporter": "python",
   "pygments_lexer": "ipython3",
   "version": "3.9.12"
  }
 },
 "nbformat": 4,
 "nbformat_minor": 5
}
