{
 "cells": [
  {
   "cell_type": "markdown",
   "id": "b8ccf198",
   "metadata": {},
   "source": [
    "## Classes:\n",
    "- 1.Clasees logical entity\n",
    "- 2.Classes is a Blue print\n",
    "- 3.it contains Name, Attributes and Functions/Methods\n",
    "- Example:\n",
    " - **1.Name : CAR ( classes name)**\n",
    " - **2.Car properties / Atttribute**\n",
    "    - 1.Brand\n",
    "    - 2.Color\n",
    " - **3.Car function / Behaviour:**\n",
    " - 1.Moving()\n",
    " - 2.reverse()"
   ]
  },
  {
   "cell_type": "markdown",
   "id": "cccab077",
   "metadata": {},
   "source": [
    "# Object\n",
    "- 1.Object is a Physical entity \n",
    "- 2.Object follows class (blue print) so object is instance of classes\n",
    "- 3.access class member then we create the object to access the class members\n",
    "- Example:\n",
    "  **|Class | ---->    Acess** <br>\n",
    "  **|Attributes |      /|\\**  <br>\n",
    "    |Methods | -----> Object ----> Attributes ,Methods"
   ]
  },
  {
   "cell_type": "markdown",
   "id": "d97ff90c",
   "metadata": {},
   "source": [
    "# Example:\n",
    " - **Logical entity Object**\n",
    " - ^ ^\n",
    "-  | |\n",
    "-  [Human] [ Ram ]\n",
    "-  [height, color] | <------ [170cm, black]\n",
    "- [walk(), run()] [walk(), run(),sit() ]\n",
    "- 1.We donot acess direct to class thats way we are created the object to access.\n",
    "- 2.Self parameter refer paticular element. "
   ]
  },
  {
   "cell_type": "markdown",
   "id": "3f729ba2",
   "metadata": {},
   "source": [
    "## Class and object creating"
   ]
  },
  {
   "cell_type": "code",
   "execution_count": 2,
   "id": "f9ce4cd5",
   "metadata": {},
   "outputs": [
    {
     "name": "stdout",
     "output_type": "stream",
     "text": [
      "Color Attribute : white\n",
      "Height Attribute : 5.6\n",
      "running.....\n",
      "Method : None\n",
      "walking.....\n",
      "Method : None\n",
      " \n",
      "Color Attribute : white\n",
      "Height Attribute : 5.6\n",
      "running.....\n",
      "Method : None\n",
      "walking.....\n",
      "Method : None\n"
     ]
    }
   ],
   "source": [
    "class human: #class\n",
    "    color = \"white\"\n",
    "    height = 5.6\n",
    "    def run(self):\n",
    "        print(\"running.....\")\n",
    "    def walk(self):\n",
    "        print(\"walking.....\")\n",
    "\n",
    "        \n",
    "obj1 =human() #object1\n",
    "ram = human() # object2\n",
    "print(\"Color Attribute :\",obj1.color)\n",
    "print(\"Height Attribute :\",obj1.height)\n",
    "print(\"Method :\",obj1.run())\n",
    "print(\"Method :\",obj1.walk())\n",
    "print(\" \")\n",
    "print(\"Color Attribute :\",ram.color)\n",
    "print(\"Height Attribute :\",ram.height)\n",
    "print(\"Method :\",ram.run())\n",
    "print(\"Method :\",ram.walk())"
   ]
  },
  {
   "cell_type": "markdown",
   "id": "b4eea5e4",
   "metadata": {},
   "source": [
    "# Constructor:\n",
    "- Constructor using for object intialization\n",
    "- when we create object constructor is called object intialization<br>\n",
    "    **__init__(self):**"
   ]
  },
  {
   "cell_type": "code",
   "execution_count": 3,
   "id": "27bde29b",
   "metadata": {},
   "outputs": [
    {
     "name": "stdout",
     "output_type": "stream",
     "text": [
      "white 5.6\n",
      "black 6.8\n",
      "RAM running.....\n",
      "SUNIL walking.....\n"
     ]
    }
   ],
   "source": [
    "class human: #class\n",
    "    color = \"white\"\n",
    "    height = 5.6\n",
    "    def __init__(self,c,h):\n",
    "        self.color=c\n",
    "        self.height=h\n",
    "    def run(self,n):\n",
    "        print(n, \"running.....\")\n",
    "    def walk(self,m):\n",
    "        print(m, \"walking.....\")\n",
    "        \n",
    "RAM =human(\"yellow\",5.7)     #object\n",
    "print(ram.color,ram.height)\n",
    "\n",
    "SUNIL = human(\"black\",6.8)\n",
    "print(SUNIL.color,SUNIL.height)\n",
    "RAM.run('RAM')\n",
    "SUNIL.walk('SUNIL')"
   ]
  },
  {
   "cell_type": "markdown",
   "id": "92eba2df",
   "metadata": {},
   "source": [
    "# Inheritance:-\n",
    "- 1.parent - child relationship\n",
    "- 2.Base class (Parent class)\n",
    "- 3.Derived class (Child class)\n",
    "- 4.Child class aquaring the properties of parent class\n",
    "- 5.Only create derived class object donot create base class object\n",
    "      - Single Inheritance:-\n",
    "      - Child class aquaring the properties of parent class\n",
    "- single inheritance\n",
    "-       - base class <br>\n",
    "            |   \n",
    "           \\|/ \n",
    "       - derived class"
   ]
  },
  {
   "cell_type": "code",
   "execution_count": 2,
   "id": "7a1f12a5",
   "metadata": {},
   "outputs": [
    {
     "name": "stdout",
     "output_type": "stream",
     "text": [
      "10 100 20 200\n",
      "base class\n",
      "derived class\n"
     ]
    }
   ],
   "source": [
    "class baseclass: #parent class\n",
    "    a=10\n",
    "    b=100\n",
    "    def display(self):\n",
    "        print(\"base class\")\n",
    "class derivedclass(baseclass): #child class\n",
    "    c=20\n",
    "    d=200\n",
    "    def show(self):\n",
    "        print(\"derived class\")\n",
    "\n",
    "obj = derivedclass()\n",
    "print(obj.a,obj.b,obj.c,obj.d)\n",
    "obj.display()\n",
    "obj.show()"
   ]
  },
  {
   "cell_type": "markdown",
   "id": "f9fd81cd",
   "metadata": {},
   "source": [
    "# Multilevel Inheritance:-\n",
    "- Child class aquaring the properties from both parent and gand parents<br>\n",
    "- multilevel inheritance<br>\n",
    "- base class   #grand parent<br>\n",
    "    |\n",
    "   \\|/\n",
    "- derived class  # parent<br>\n",
    "   |\n",
    "  \\|/\n",
    "- derived class  # child"
   ]
  },
  {
   "cell_type": "code",
   "execution_count": 4,
   "id": "74703ae3",
   "metadata": {},
   "outputs": [
    {
     "name": "stdout",
     "output_type": "stream",
     "text": [
      "grandparent\n",
      "parent method\n",
      "child display\n"
     ]
    }
   ],
   "source": [
    "class gp:\n",
    "    def gpdisplay(self):\n",
    "        print(\"grandparent\")\n",
    "class parent(gp):\n",
    "    def display(self):\n",
    "        print(\"parent method\")\n",
    "class child(parent):\n",
    "    def cdisplay(self):\n",
    "        print(\"child display\")\n",
    "c=child()\n",
    "c.gpdisplay()\n",
    "c.display()\n",
    "c.cdisplay()"
   ]
  },
  {
   "cell_type": "markdown",
   "id": "c8622aa2",
   "metadata": {},
   "source": [
    "# Hierarchical Inheritance:-\n",
    "1.One base class different derived class <br>\n",
    "2.two different derived classes aquaring the properties from the same parent calss<br>\n",
    "-  base class   #parent class<br>\n",
    "   ______|______\n",
    "  |            |                      #2child calss <br>\n",
    "derived1   derived2\n"
   ]
  },
  {
   "cell_type": "code",
   "execution_count": 5,
   "id": "231490df",
   "metadata": {},
   "outputs": [
    {
     "name": "stdout",
     "output_type": "stream",
     "text": [
      "parent class\n",
      "son class\n",
      "daughter class\n",
      "parent class\n"
     ]
    }
   ],
   "source": [
    "class parent: # parent\n",
    "    def pdis(self):\n",
    "        print(\"parent class\")\n",
    "class son(parent): #child1\n",
    "    def sdis(self):\n",
    "        print(\"son class\")\n",
    "class daughter(parent): #child2\n",
    "    def ddis(self):\n",
    "        print(\"daughter class\")\n",
    "s=son()\n",
    "s.pdis()\n",
    "s.sdis()\n",
    "\n",
    "d=daughter()\n",
    "d.ddis()\n",
    "d.pdis()"
   ]
  },
  {
   "cell_type": "markdown",
   "id": "dcf3e626",
   "metadata": {},
   "source": [
    "# Multiple Inheritance:-\n",
    "- 1.A child aquaring the properties from both father calss and mother class\n",
    "- 2.Multiple base calss to one derived class\n",
    "- Father class Mother class (#parent class)<br>\n",
    "    |                        |\n",
    "    |________________________| \n",
    "              |\n",
    "             \\|/\n",
    " Son class (#child class)"
   ]
  },
  {
   "cell_type": "code",
   "execution_count": 6,
   "id": "2c3e6b43",
   "metadata": {},
   "outputs": [
    {
     "name": "stdout",
     "output_type": "stream",
     "text": [
      "father\n",
      "mother\n",
      "child class\n"
     ]
    }
   ],
   "source": [
    "class father:\n",
    "    def fdis(self):\n",
    "        print(\"father\")\n",
    "class mother:\n",
    "    def mdis(self):\n",
    "        print(\"mother\")\n",
    "class child(father,mother):\n",
    "    def chidis(self):\n",
    "        print(\"child class\")\n",
    "c=child()\n",
    "c.fdis()\n",
    "c.mdis()\n",
    "c.chidis()"
   ]
  },
  {
   "cell_type": "markdown",
   "id": "90d44806",
   "metadata": {},
   "source": [
    "# Polymarphism:-\n",
    "- 1.implementing same thing in different ways\n",
    "- 2 types of polymarphism:\n",
    "\n",
    "**1.Compile time (method overloding)**\n",
    " - 1.python not support \n",
    " - 2.but default parameter to support\n",
    "\n",
    "**2.Runtime (method overriding)**\n",
    " - 1.same method name override \n",
    " - 2.parent method overriding in child class like cycle to bike.\n",
    "### Method overloding"
   ]
  },
  {
   "cell_type": "code",
   "execution_count": 7,
   "id": "b77f0be6",
   "metadata": {},
   "outputs": [
    {
     "name": "stdout",
     "output_type": "stream",
     "text": [
      "64\n",
      "174\n",
      "120\n"
     ]
    }
   ],
   "source": [
    "# method overloding\n",
    "class demo:\n",
    "    def add(self,a,b=10,c=44):\n",
    "        print(a+b+c)\n",
    "a=demo()\n",
    "a.add(10)\n",
    "a.add(100,30)\n",
    "a.add(20,40,60)"
   ]
  },
  {
   "cell_type": "markdown",
   "id": "ce65c475",
   "metadata": {},
   "source": [
    "# Method overriding"
   ]
  },
  {
   "cell_type": "code",
   "execution_count": 8,
   "id": "5972fe19",
   "metadata": {},
   "outputs": [
    {
     "name": "stdout",
     "output_type": "stream",
     "text": [
      "bike\n"
     ]
    }
   ],
   "source": [
    "# method overriding\n",
    "class parent:\n",
    "    def transport(self):\n",
    "        print(\"cycle\")\n",
    "class child(parent):\n",
    "    def transport(self):\n",
    "        print(\"bike\")\n",
    "c=child()\n",
    "c.transport()"
   ]
  },
  {
   "cell_type": "markdown",
   "id": "9cb49e24",
   "metadata": {},
   "source": [
    "# Abstraction:-\n",
    "- Abstraction in python is defined as a process of handling complexity by hiding unnecessary information from the user."
   ]
  },
  {
   "cell_type": "code",
   "execution_count": 10,
   "id": "d9b721d3",
   "metadata": {},
   "outputs": [
    {
     "name": "stdout",
     "output_type": "stream",
     "text": [
      "housing 33\n"
     ]
    }
   ],
   "source": [
    "from abc import ABC,abstractmethod\n",
    "class abstractdemo(ABC):\n",
    "    @abstractmethod\n",
    "    def housinginterest(self):\n",
    "        None\n",
    "    @abstractmethod\n",
    "    def vehicleinterest(self):\n",
    "        None\n",
    "class sbi(abstractdemo):\n",
    "    def housinginterest(self):\n",
    "        print(\"housing 33\")\n",
    "    def vehicleinterest(self):\n",
    "        print(\"3.3 ins\")\n",
    "\n",
    "o=sbi()\n",
    "o.housinginterest()"
   ]
  },
  {
   "cell_type": "markdown",
   "id": "dbdbb57c",
   "metadata": {},
   "source": [
    "# Encapsulation:-\n",
    "- 1.wraping of data and methods.\n",
    "- 2.we are storing the data of class,variable and method in a single class is called encapsulation.\n",
    "- 3.Data hiding --- Security\n",
    "   - 1.public --> with in class and out side class\n",
    "   - 2.private --> within class only"
   ]
  },
  {
   "cell_type": "code",
   "execution_count": 11,
   "id": "ebaeb43f",
   "metadata": {},
   "outputs": [
    {
     "name": "stdout",
     "output_type": "stream",
     "text": [
      "10\n",
      "display method in demo class\n"
     ]
    }
   ],
   "source": [
    "class encap:\n",
    "    __a=10\n",
    "    b=100\n",
    "    def __display(self):\n",
    "        print(self.__a)\n",
    "        print(\"display method in demo class\")\n",
    "    def show(self):\n",
    "        self.__display()\n",
    "obj=encap()\n",
    "obj.show()"
   ]
  }
 ],
 "metadata": {
  "kernelspec": {
   "display_name": "Python 3 (ipykernel)",
   "language": "python",
   "name": "python3"
  },
  "language_info": {
   "codemirror_mode": {
    "name": "ipython",
    "version": 3
   },
   "file_extension": ".py",
   "mimetype": "text/x-python",
   "name": "python",
   "nbconvert_exporter": "python",
   "pygments_lexer": "ipython3",
   "version": "3.9.12"
  }
 },
 "nbformat": 4,
 "nbformat_minor": 5
}
