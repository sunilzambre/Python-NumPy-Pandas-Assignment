{
 "cells": [
  {
   "cell_type": "markdown",
   "id": "f83fc309",
   "metadata": {},
   "source": [
    "# Program 91\n",
    "#### Create a function that takes an angle in radians and returns the corresponding angle in degrees rounded to one decimal place.\n",
    "##### Examples\n",
    " - radians_to_degrees(1) ➞ 57.3\n",
    "- radians_to_degrees(20) ➞ 1145.9\n",
    "- radians_to_degrees(50) ➞ 2864.8"
   ]
  },
  {
   "cell_type": "code",
   "execution_count": 1,
   "id": "b0918efc",
   "metadata": {},
   "outputs": [
    {
     "name": "stdout",
     "output_type": "stream",
     "text": [
      "57.3\n",
      "1145.9\n",
      "2864.8\n"
     ]
    }
   ],
   "source": [
    "import math\n",
    "\n",
    "def radians_to_degrees(radians):\n",
    "    degrees = math.degrees(radians)\n",
    "    rounded_degrees = round(degrees, 1)\n",
    "    return rounded_degrees\n",
    "\n",
    "# Examples\n",
    "print(radians_to_degrees(1))   # Output: 57.3\n",
    "print(radians_to_degrees(20))  # Output: 1145.9\n",
    "print(radians_to_degrees(50))  # Output: 2864.8"
   ]
  },
  {
   "cell_type": "markdown",
   "id": "dba043da",
   "metadata": {},
   "source": [
    "# Program 92\n",
    "#### In this challenge, establish if a given integer num is a Curzon number. If 1 plus 2 elevated to num is exactly divisible by 1 plus 2 multiplied by num, then num is a Curzon number.\n",
    "- Given a non-negative integer num, implement a function that returns True if num is a\n",
    "- Curzon number, or False otherwise.\n",
    "  - Example\n",
    "   - is_curzon(5) ➞ True\n",
    "### 2 ** 5 + 1 = 33\n",
    "### 2 * 5 + 1 = 11\n",
    "### 33 is a multiple of 11\n",
    "- is_curzon(10) ➞ False\n",
    "### 2 ** 10 + 1 = 1025\n",
    "### 2 * 10 + 1 = 21\n",
    "### 1025 is not a multiple of 21\n",
    "   - is_curzon(14) ➞ True\n",
    "### 2 ** 14 + 1 = 16385\n",
    "###  2 * 14 + 1 = 29\n",
    "### 16385 is a multiple of 29\n",
    "### Curzon Number:\n",
    "#### It is defined based on a specific mathematical relationship involving powers of 2. An integer 'n' is considered a Curzon                   number if it satisfies the following condition:\n",
    "    - If (2^n + 1) is divisible by (2n + 1), then 'n' is a Curzon number.\n",
    "    - For example:\n",
    "     - If n = 5: 2^5 + 1 = 33, and 2*5 + 1 = 11. Since 33 is divisible by 11 (33 % 11 = 0), 5 is a\n",
    "**Curzon number**\n",
    "If n = 10: 2^10 + 1 = 1025, and 2*10 + 1 = 21. 1025 is not divisible by 21, so 10 is not a\n",
    "Curzon number.\n",
    "Curzon numbers are a specific subset of integers with this unique mathematical property."
   ]
  },
  {
   "cell_type": "code",
   "execution_count": 2,
   "id": "9fcddbb2",
   "metadata": {},
   "outputs": [],
   "source": [
    "def is_curzon(num):\n",
    "    numerator = 2 ** num + 1\n",
    "    denominator = 2 * num + 1\n",
    "    return numerator % denominator == 0"
   ]
  },
  {
   "cell_type": "code",
   "execution_count": 3,
   "id": "f5364776",
   "metadata": {},
   "outputs": [
    {
     "name": "stdout",
     "output_type": "stream",
     "text": [
      "True\n",
      "False\n",
      "True\n"
     ]
    }
   ],
   "source": [
    "# Test cases\n",
    "print(is_curzon(5)) \n",
    "print(is_curzon(10)) \n",
    "print(is_curzon(14)) "
   ]
  },
  {
   "cell_type": "markdown",
   "id": "d68b13bf",
   "metadata": {},
   "source": [
    "# Program 93\n",
    "- Given the side length x find the area of a hexagon.\n",
    "- Examples\n",
    "  - area_of_hexagon(1) ➞ 2.6\n",
    "  - area_of_hexagon(2) ➞ 10.4\n",
    "  - area_of_hexagon(3) ➞ 23.4"
   ]
  },
  {
   "cell_type": "code",
   "execution_count": 5,
   "id": "84853353",
   "metadata": {},
   "outputs": [
    {
     "name": "stdout",
     "output_type": "stream",
     "text": [
      "2.6\n",
      "10.4\n",
      "23.4\n"
     ]
    }
   ],
   "source": [
    "import math\n",
    "def area_of_hexagon(x):\n",
    "    area = (3 * math.sqrt(3) * x**2) / 2\n",
    "    return round(area, 1)\n",
    "# Example usage:\n",
    "print(area_of_hexagon(1)) \n",
    "print(area_of_hexagon(2)) \n",
    "print(area_of_hexagon(3)) "
   ]
  },
  {
   "cell_type": "markdown",
   "id": "583adfec",
   "metadata": {},
   "source": [
    "# Program 94\n",
    "### Create a function that returns a base-2 (binary) representation of a base-10 (decimal) string number. To convert is simple: ((2) means base-2 and (10) means base-10) 010101001(2) = 1 + 8 + 32 + 128. Going from right to left, the value of the most right bit is 1, now from that every bit to the left will be x2 the value, value of an 8 bit binary numbers are (256, 128, 64, 32, 16, 8, 4, 2, 1).\n",
    "- Examples\n",
    " - binary(1) ➞ \"1\"\n",
    "### 1*1 = 1\n",
    "- binary(5) ➞ \"101\"\n",
    "### 1*1 + 1*4 = 5\n",
    "- binary(10) ➞ 1010\n",
    "### 1*2 + 1*8 = 10"
   ]
  },
  {
   "cell_type": "code",
   "execution_count": 6,
   "id": "0ae19786",
   "metadata": {},
   "outputs": [
    {
     "name": "stdout",
     "output_type": "stream",
     "text": [
      "1\n",
      "101\n",
      "1010\n"
     ]
    }
   ],
   "source": [
    "def binary(decimal):\n",
    "    binary_str = \"\"\n",
    "    while decimal > 0:\n",
    "        remainder = decimal % 2\n",
    "        binary_str = str(remainder) + binary_str\n",
    "        decimal = decimal // 2\n",
    "    return binary_str if binary_str else \"0\"\n",
    "print(binary(1))\n",
    "print(binary(5)) \n",
    "print(binary(10)) "
   ]
  },
  {
   "cell_type": "markdown",
   "id": "ba8f85db",
   "metadata": {},
   "source": [
    "# Program 95\n",
    "#### Create a function that takes three arguments a, b, c and returns the sum of the numbers that are evenly divided by c from the range a, b inclusive.\n",
    "- Examples evenly_divisible(1, 10, 20) ➞ 0\n",
    "### No number between 1 and 10 can be evenly divided by 20.\n",
    " - evenly_divisible(1, 10, 2) ➞ 30\n",
    "### 2 + 4 + 6 + 8 + 10 = 30\n",
    "- evenly_divisible(1, 10, 3) ➞ 18\n",
    "### 3 + 6 + 9 = 18"
   ]
  },
  {
   "cell_type": "code",
   "execution_count": 7,
   "id": "f9b523b8",
   "metadata": {},
   "outputs": [
    {
     "name": "stdout",
     "output_type": "stream",
     "text": [
      "0\n",
      "30\n",
      "18\n"
     ]
    }
   ],
   "source": [
    "def evenly_divisible(a, b, c):\n",
    "    total = 0\n",
    "    for num in range(a, b + 1):\n",
    "        if num % c == 0:\n",
    "            total += num\n",
    "    return total\n",
    "print(evenly_divisible(1, 10, 20))\n",
    "print(evenly_divisible(1, 10, 2))\n",
    "print(evenly_divisible(1, 10, 3))"
   ]
  },
  {
   "cell_type": "markdown",
   "id": "1a6550a7",
   "metadata": {},
   "source": [
    "# Program 96\n",
    "#### cCreate a function that returns True if a given inequality expression is correct and False otherwise.\n",
    "- Examples\n",
    "- correct_signs(\"3 < 7 < 11\") ➞ True\n",
    "- correct_signs(\"13 > 44 > 33 <1\") ➞ False\n",
    "- correct_signs(\"1 < 2 < 6 < 9 > 3\") ➞ True"
   ]
  },
  {
   "cell_type": "code",
   "execution_count": 8,
   "id": "9425f4d9",
   "metadata": {},
   "outputs": [],
   "source": [
    "def correct_signs(expression):\n",
    "    try:\n",
    "        return eval(expression)\n",
    "    except:\n",
    "        return False"
   ]
  },
  {
   "cell_type": "code",
   "execution_count": 9,
   "id": "2c5d3f6a",
   "metadata": {},
   "outputs": [
    {
     "name": "stdout",
     "output_type": "stream",
     "text": [
      "True\n",
      "False\n",
      "True\n"
     ]
    }
   ],
   "source": [
    "print(correct_signs(\"3 < 7 < 11\"))\n",
    "print(correct_signs(\"13 > 44 > 33 < 1\"))\n",
    "print(correct_signs(\"1 < 2 < 6 < 9 > 3\"))"
   ]
  },
  {
   "cell_type": "markdown",
   "id": "d68c655a",
   "metadata": {},
   "source": [
    "# Program 97\n",
    "#### Create a function that replaces all the vowels in a string with a specified character.\n",
    "- Examples\n",
    "- replace_vowels(\"the aardvark\", \"#\") ➞ \"th# ##rdv#rk\"\n",
    "- replace_vowels(\"minnie mouse\", \"?\") ➞ \"m?nn?? m??s?\"\n",
    "- replace_vowels(\"shakespeare\", \"*\") ➞ \"shkspr*\""
   ]
  },
  {
   "cell_type": "code",
   "execution_count": 12,
   "id": "03442675",
   "metadata": {},
   "outputs": [],
   "source": [
    "def replace_vowels(string, char):\n",
    "    vowels = \"AEIOUaeiou\" # List of vowels to be replaced\n",
    "    for vowel in vowels:\n",
    "        string = string.replace(vowel, char) # Replace each vowel with special character\n",
    "    return string"
   ]
  },
  {
   "cell_type": "code",
   "execution_count": 13,
   "id": "b7da6867",
   "metadata": {},
   "outputs": [
    {
     "name": "stdout",
     "output_type": "stream",
     "text": [
      "th# ##rdv#rk\n",
      "m?nn?? m??s?\n",
      "sh*k*sp**r*\n"
     ]
    }
   ],
   "source": [
    "print(replace_vowels(\"the aardvark\", \"#\"))\n",
    "print(replace_vowels(\"minnie mouse\", \"?\"))\n",
    "print(replace_vowels(\"shakespeare\", \"*\"))"
   ]
  },
  {
   "cell_type": "markdown",
   "id": "5de180ad",
   "metadata": {},
   "source": [
    "# Program 98\n",
    "### Write a function that calculates the factorial of a number recursively.\n",
    "- Examples\n",
    "- factorial(5) ➞ 120\n",
    "- factorial(3) ➞ 6\n",
    "- factorial(1) ➞ 1\n",
    "- factorial(0) ➞ 1"
   ]
  },
  {
   "cell_type": "code",
   "execution_count": 14,
   "id": "325abd42",
   "metadata": {},
   "outputs": [],
   "source": [
    "def factorial(n):\n",
    "    if n == 0:\n",
    "        return 1 # Base case: factorial of 0 is 1\n",
    "    else:\n",
    "        return n * factorial(n - 1) # Recursive case: n! = n * (n-1)!"
   ]
  },
  {
   "cell_type": "code",
   "execution_count": 15,
   "id": "b30f3406",
   "metadata": {},
   "outputs": [
    {
     "name": "stdout",
     "output_type": "stream",
     "text": [
      "120\n",
      "6\n",
      "1\n",
      "1\n"
     ]
    }
   ],
   "source": [
    "print(factorial(5))\n",
    "print(factorial(3))\n",
    "print(factorial(1)) \n",
    "print(factorial(0))"
   ]
  },
  {
   "cell_type": "markdown",
   "id": "200663ec",
   "metadata": {},
   "source": [
    "# Program 99\n",
    "#### Hamming distance is the number of characters that differ between two strings.\n",
    "- To illustrate:\n",
    "- String1: \"abcbba\"\n",
    "- String2: \"abcbda\"\n",
    "- Hamming Distance: 1 - \"b\" vs. \"d\" is the only difference.\n",
    "- Create a function that computes the hamming distance between two strings.\n",
    "- Examples\n",
    "- hamming_distance(\"abcde\", \"bcdef\") ➞ 5\n",
    "- hamming_distance(\"abcde\", \"abcde\") ➞ 0\n",
    "- hamming_distance(\"strong\", \"strung\") ➞ 1"
   ]
  },
  {
   "cell_type": "code",
   "execution_count": 19,
   "id": "8569e447",
   "metadata": {},
   "outputs": [],
   "source": [
    "def hamming_distance(str1, str2):\n",
    " # Check if the strings have the same length\n",
    "    if len(str1) != len(str2):\n",
    "        raise ValueError(\"Input strings must have the same length\")\n",
    "        # Initialize a counter to keep track of differences\n",
    "    distance = 0\n",
    "    # Iterate through the characters of both strings\n",
    "    for i in range(len(str1)):\n",
    "        if str1[i] != str2[i]:\n",
    "            distance += 1 # Increment the counter for differences\n",
    "    return distance"
   ]
  },
  {
   "cell_type": "code",
   "execution_count": 20,
   "id": "e4cd39a2",
   "metadata": {},
   "outputs": [
    {
     "name": "stdout",
     "output_type": "stream",
     "text": [
      "5\n",
      "0\n",
      "1\n"
     ]
    }
   ],
   "source": [
    "print(hamming_distance(\"abcde\", \"bcdef\"))\n",
    "print(hamming_distance(\"abcde\", \"abcde\"))\n",
    "print(hamming_distance(\"strong\", \"strung\"))"
   ]
  },
  {
   "cell_type": "markdown",
   "id": "b9cb4945",
   "metadata": {},
   "source": [
    "# Program 100\n",
    "- Create a function that takes a list of non-negative integers and strings and return a new list without the strings.\n",
    "- Examples\n",
    "- filter_list([1, 2, \"a\", \"b\"]) ➞ [1, 2]\n",
    "- filter_list([1, \"a\", \"b\", 0, 15]) ➞ [1, 0, 15]\n",
    "- filter_list([1, 2, \"aasf\", \"1\", \"123\", 123]) ➞ [1, 2, 123]"
   ]
  },
  {
   "cell_type": "code",
   "execution_count": 23,
   "id": "b6db9ea4",
   "metadata": {},
   "outputs": [],
   "source": [
    "def filter_list(lst):\n",
    "    # Initialize an empty list to store non-string elements\n",
    "    result = []\n",
    "    # Iterate through the elements in the input list\n",
    "    for element in lst:\n",
    "    # Check if the element is a non-negative integer (not a string)\n",
    "        if isinstance(element, int) and element >= 0:\n",
    "            result.append(element)\n",
    "    return result"
   ]
  },
  {
   "cell_type": "code",
   "execution_count": 25,
   "id": "069ce4c0",
   "metadata": {},
   "outputs": [
    {
     "data": {
      "text/plain": [
       "[1, 2]"
      ]
     },
     "execution_count": 25,
     "metadata": {},
     "output_type": "execute_result"
    }
   ],
   "source": [
    "filter_list([1, 2, \"a\", \"b\"]) "
   ]
  },
  {
   "cell_type": "code",
   "execution_count": 26,
   "id": "b2260ef1",
   "metadata": {},
   "outputs": [
    {
     "data": {
      "text/plain": [
       "[1, 0, 15]"
      ]
     },
     "execution_count": 26,
     "metadata": {},
     "output_type": "execute_result"
    }
   ],
   "source": [
    "filter_list([1, \"a\", \"b\", 0, 15])"
   ]
  },
  {
   "cell_type": "code",
   "execution_count": 27,
   "id": "f8348f7f",
   "metadata": {},
   "outputs": [
    {
     "data": {
      "text/plain": [
       "[1, 2, 123]"
      ]
     },
     "execution_count": 27,
     "metadata": {},
     "output_type": "execute_result"
    }
   ],
   "source": [
    "filter_list([1, 2, \"sunil\", \"1\", \"123\", 123])"
   ]
  }
 ],
 "metadata": {
  "kernelspec": {
   "display_name": "Python 3 (ipykernel)",
   "language": "python",
   "name": "python3"
  },
  "language_info": {
   "codemirror_mode": {
    "name": "ipython",
    "version": 3
   },
   "file_extension": ".py",
   "mimetype": "text/x-python",
   "name": "python",
   "nbconvert_exporter": "python",
   "pygments_lexer": "ipython3",
   "version": "3.9.12"
  }
 },
 "nbformat": 4,
 "nbformat_minor": 5
}
