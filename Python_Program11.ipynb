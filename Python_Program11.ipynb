{
 "cells": [
  {
   "cell_type": "markdown",
   "id": "85bd4e19",
   "metadata": {},
   "source": [
    "# Program 101\n",
    "#### The \"Reverser\" takes a string as input and returns that string in reverse order, with the opposite case.\n",
    "- Examples\n",
    "- reverse(\"Hello World\") ➞ \"DLROw OLLEh\"\n",
    "- reverse(\"ReVeRsE\") ➞ \"eSrEvEr\"\n",
    "- reverse(\"Radar\") ➞ \"RADAr\""
   ]
  },
  {
   "cell_type": "code",
   "execution_count": 2,
   "id": "b85555d6",
   "metadata": {},
   "outputs": [],
   "source": [
    "def reverse(input_str):\n",
    "    # Reverse the string and swap the case of characters\n",
    "    reversed_str = input_str[::-1].swapcase()\n",
    "    return reversed_str"
   ]
  },
  {
   "cell_type": "code",
   "execution_count": 3,
   "id": "bc444f0f",
   "metadata": {},
   "outputs": [
    {
     "data": {
      "text/plain": [
       "'DLROw OLLEh'"
      ]
     },
     "execution_count": 3,
     "metadata": {},
     "output_type": "execute_result"
    }
   ],
   "source": [
    "reverse(\"Hello World\")"
   ]
  },
  {
   "cell_type": "code",
   "execution_count": 4,
   "id": "369863c9",
   "metadata": {},
   "outputs": [
    {
     "data": {
      "text/plain": [
       "'eSrEvEr'"
      ]
     },
     "execution_count": 4,
     "metadata": {},
     "output_type": "execute_result"
    }
   ],
   "source": [
    "reverse(\"ReVeRsE\")"
   ]
  },
  {
   "cell_type": "code",
   "execution_count": 5,
   "id": "ce07da1c",
   "metadata": {},
   "outputs": [
    {
     "data": {
      "text/plain": [
       "'RADAr'"
      ]
     },
     "execution_count": 5,
     "metadata": {},
     "output_type": "execute_result"
    }
   ],
   "source": [
    "reverse(\"Radar\") "
   ]
  },
  {
   "cell_type": "markdown",
   "id": "c5c9d17b",
   "metadata": {},
   "source": [
    "# Program 102\n",
    "#### You can assign variables from lists like this:\n",
    "- lst = [1, 2, 3, 4, 5, 6]\n",
    "- first = lst[0]\n",
    "- middle = lst[1:-1]\n",
    "- last = lst[-1]\n",
    "- print(first) ➞ outputs 1\n",
    "- print(middle) ➞ outputs [2, 3, 4, 5]\n",
    "- print(last) ➞ outputs 6\n",
    "- With Python 3, you can assign variables from lists in a much more succinct way.\n",
    "- Create variables first, middle and last from the given list using destructuring assignment (check the Resources tab for     some examples), where: \n",
    "  - first ➞ 1\n",
    "  - middle ➞ [2, 3, 4, 5]\n",
    "  - last ➞ 6"
   ]
  },
  {
   "cell_type": "code",
   "execution_count": 6,
   "id": "5d673bd9",
   "metadata": {},
   "outputs": [],
   "source": [
    "writeyourcodehere = [1, 2, 3, 4, 5, 6]\n",
    "# Unpack the list into variables\n",
    "first, *middle, last = writeyourcodehere"
   ]
  },
  {
   "cell_type": "code",
   "execution_count": 7,
   "id": "86fe8b30",
   "metadata": {},
   "outputs": [
    {
     "data": {
      "text/plain": [
       "1"
      ]
     },
     "execution_count": 7,
     "metadata": {},
     "output_type": "execute_result"
    }
   ],
   "source": [
    "first"
   ]
  },
  {
   "cell_type": "code",
   "execution_count": 8,
   "id": "564cd965",
   "metadata": {},
   "outputs": [
    {
     "data": {
      "text/plain": [
       "[2, 3, 4, 5]"
      ]
     },
     "execution_count": 8,
     "metadata": {},
     "output_type": "execute_result"
    }
   ],
   "source": [
    "middle"
   ]
  },
  {
   "cell_type": "code",
   "execution_count": 9,
   "id": "c41babc2",
   "metadata": {},
   "outputs": [
    {
     "data": {
      "text/plain": [
       "6"
      ]
     },
     "execution_count": 9,
     "metadata": {},
     "output_type": "execute_result"
    }
   ],
   "source": [
    "last"
   ]
  },
  {
   "cell_type": "markdown",
   "id": "22f1a1cc",
   "metadata": {},
   "source": [
    "# Program 103\n",
    "#### Write a function that calculates the factorial of a number recursively.\n",
    "- Examples\n",
    "- factorial(5) ➞ 120\n",
    "- factorial(3) ➞ 6\n",
    "- factorial(1) ➞ 1\n",
    "- factorial(0) ➞ 1"
   ]
  },
  {
   "cell_type": "code",
   "execution_count": 10,
   "id": "cc6c59d8",
   "metadata": {},
   "outputs": [],
   "source": [
    "def factorial(n):\n",
    "    if n == 0:\n",
    "        return 1 # Base case: factorial of 0 is 1\n",
    "    else:\n",
    "        return n * factorial(n - 1) # Recursive case: n! = n * (n-1)!"
   ]
  },
  {
   "cell_type": "code",
   "execution_count": 11,
   "id": "5c3e4250",
   "metadata": {},
   "outputs": [
    {
     "data": {
      "text/plain": [
       "120"
      ]
     },
     "execution_count": 11,
     "metadata": {},
     "output_type": "execute_result"
    }
   ],
   "source": [
    "factorial(5) "
   ]
  },
  {
   "cell_type": "code",
   "execution_count": 12,
   "id": "a34bcbf1",
   "metadata": {},
   "outputs": [
    {
     "data": {
      "text/plain": [
       "6"
      ]
     },
     "execution_count": 12,
     "metadata": {},
     "output_type": "execute_result"
    }
   ],
   "source": [
    "factorial(3)"
   ]
  },
  {
   "cell_type": "code",
   "execution_count": 13,
   "id": "71a59723",
   "metadata": {},
   "outputs": [
    {
     "data": {
      "text/plain": [
       "1"
      ]
     },
     "execution_count": 13,
     "metadata": {},
     "output_type": "execute_result"
    }
   ],
   "source": [
    "factorial(1)"
   ]
  },
  {
   "cell_type": "code",
   "execution_count": 14,
   "id": "8c93993c",
   "metadata": {},
   "outputs": [
    {
     "data": {
      "text/plain": [
       "1"
      ]
     },
     "execution_count": 14,
     "metadata": {},
     "output_type": "execute_result"
    }
   ],
   "source": [
    "factorial(0)"
   ]
  },
  {
   "cell_type": "markdown",
   "id": "a523bb58",
   "metadata": {},
   "source": [
    "# Program 104\n",
    "#### Write a function that moves all elements of one type to the end of the list.\n",
    "- Examples\n",
    "- move_to_end([1, 3, 2, 4, 4, 1], 1) ➞ [3, 2, 4, 4, 1, 1]\n",
    "- Move all the 1s to the end of the array.\n",
    "- move_to_end([7, 8, 9, 1, 2, 3, 4], 9) ➞ [7, 8, 1, 2, 3, 4, 9]\n",
    "- move_to_end([\"a\", \"a\", \"a\", \"b\"], \"a\") ➞ [\"b\", \"a\", \"a\", \"a\"]"
   ]
  },
  {
   "cell_type": "code",
   "execution_count": 15,
   "id": "5826c0ce",
   "metadata": {},
   "outputs": [],
   "source": [
    "def move_to_end(lst, element):\n",
    "    # Initialize a count for the specified element\n",
    "    count = lst.count(element)\n",
    " \n",
    "    # Remove all occurrences of the element from the list\n",
    "    lst = [x for x in lst if x != element]\n",
    " \n",
    "    # Append the element to the end of the list count times\n",
    "    lst.extend([element] * count)\n",
    " \n",
    "    return lst"
   ]
  },
  {
   "cell_type": "code",
   "execution_count": 16,
   "id": "de74fc10",
   "metadata": {},
   "outputs": [
    {
     "data": {
      "text/plain": [
       "[3, 2, 4, 4, 1, 1]"
      ]
     },
     "execution_count": 16,
     "metadata": {},
     "output_type": "execute_result"
    }
   ],
   "source": [
    "move_to_end([1, 3, 2, 4, 4, 1], 1)"
   ]
  },
  {
   "cell_type": "code",
   "execution_count": 17,
   "id": "868e2a1b",
   "metadata": {},
   "outputs": [
    {
     "data": {
      "text/plain": [
       "[7, 8, 1, 2, 3, 4, 9]"
      ]
     },
     "execution_count": 17,
     "metadata": {},
     "output_type": "execute_result"
    }
   ],
   "source": [
    "move_to_end([7, 8, 9, 1, 2, 3, 4], 9)"
   ]
  },
  {
   "cell_type": "code",
   "execution_count": 18,
   "id": "330c7873",
   "metadata": {},
   "outputs": [
    {
     "data": {
      "text/plain": [
       "['b', 'a', 'a', 'a']"
      ]
     },
     "execution_count": 18,
     "metadata": {},
     "output_type": "execute_result"
    }
   ],
   "source": [
    "move_to_end([\"a\", \"a\", \"a\", \"b\"], \"a\") "
   ]
  },
  {
   "cell_type": "markdown",
   "id": "c306f960",
   "metadata": {},
   "source": [
    "# Program 105\n",
    "#### Create a function that takes a string and returns a string in which each character is repeated once.\n",
    "- Examples\n",
    "- double_char(\"String\") ➞ \"SSttrriinngg\"\n",
    "- double_char(\"Hello World!\") ➞ \"HHeelllloo WWoorrlldd!!\"\n",
    "- double char(\"1234! \") ➞ \"11223344!! \""
   ]
  },
  {
   "cell_type": "code",
   "execution_count": 19,
   "id": "0217a12c",
   "metadata": {},
   "outputs": [],
   "source": [
    "def double_char(input_str):\n",
    "    doubled_str = \"\"\n",
    "    for char in input_str:\n",
    "        doubled_str += char * 2\n",
    "    return doubled_str"
   ]
  },
  {
   "cell_type": "code",
   "execution_count": 20,
   "id": "7cdfc6f4",
   "metadata": {},
   "outputs": [
    {
     "data": {
      "text/plain": [
       "'SSttrriinngg'"
      ]
     },
     "execution_count": 20,
     "metadata": {},
     "output_type": "execute_result"
    }
   ],
   "source": [
    "double_char(\"String\")"
   ]
  },
  {
   "cell_type": "code",
   "execution_count": 21,
   "id": "6bd21c2e",
   "metadata": {},
   "outputs": [
    {
     "data": {
      "text/plain": [
       "'HHeelllloo  WWoorrlldd!!'"
      ]
     },
     "execution_count": 21,
     "metadata": {},
     "output_type": "execute_result"
    }
   ],
   "source": [
    "double_char(\"Hello World!\")"
   ]
  },
  {
   "cell_type": "code",
   "execution_count": 22,
   "id": "de31d6d8",
   "metadata": {},
   "outputs": [
    {
     "data": {
      "text/plain": [
       "'11223344!!__  '"
      ]
     },
     "execution_count": 22,
     "metadata": {},
     "output_type": "execute_result"
    }
   ],
   "source": [
    "double_char(\"1234!_ \")"
   ]
  },
  {
   "cell_type": "markdown",
   "id": "ea04bbd7",
   "metadata": {},
   "source": [
    "# Program 106\n",
    "- Create a function that reverses a boolean value and returns the string \"boolean expected\" if another variable type is       given.\n",
    "- Examples\n",
    "- reverse(True) ➞ False\n",
    "- reverse(False) ➞ True\n",
    "- reverse(0) ➞ \"boolean expected\"\n",
    "- reverse(None) ➞ \"boolean expected\""
   ]
  },
  {
   "cell_type": "code",
   "execution_count": 23,
   "id": "4f3b10f5",
   "metadata": {},
   "outputs": [],
   "source": [
    "def reverse(value):\n",
    "    if isinstance(value, bool):\n",
    "        return not value\n",
    "    else:\n",
    "        return \"boolean expected\""
   ]
  },
  {
   "cell_type": "code",
   "execution_count": 24,
   "id": "071d3dc2",
   "metadata": {},
   "outputs": [
    {
     "data": {
      "text/plain": [
       "False"
      ]
     },
     "execution_count": 24,
     "metadata": {},
     "output_type": "execute_result"
    }
   ],
   "source": [
    "reverse(True) "
   ]
  },
  {
   "cell_type": "markdown",
   "id": "d895d406",
   "metadata": {},
   "source": [
    "reverse(False) "
   ]
  },
  {
   "cell_type": "code",
   "execution_count": 26,
   "id": "1e276c29",
   "metadata": {},
   "outputs": [
    {
     "data": {
      "text/plain": [
       "'boolean expected'"
      ]
     },
     "execution_count": 26,
     "metadata": {},
     "output_type": "execute_result"
    }
   ],
   "source": [
    "reverse(0) "
   ]
  },
  {
   "cell_type": "code",
   "execution_count": 27,
   "id": "ed836ef0",
   "metadata": {},
   "outputs": [
    {
     "data": {
      "text/plain": [
       "'boolean expected'"
      ]
     },
     "execution_count": 27,
     "metadata": {},
     "output_type": "execute_result"
    }
   ],
   "source": [
    "reverse(None)"
   ]
  },
  {
   "cell_type": "markdown",
   "id": "b8722586",
   "metadata": {},
   "source": [
    "# Program 107\n",
    "### Create a function that returns the thickness (in meters) of a piece of paper after folding it n number of                 times. The paper starts off with a thickness of 0.5mm.\n",
    "     - Examples\n",
    "        - num_layers(1) ➞ \"0.001m\"\n",
    "- Paper folded once is 1mm (equal to 0.001m)\n",
    "num_layers(4) ➞ \"0.008m\"\n",
    "- Paper folded 4 times is 8mm (equal to 0.008m)\n",
    "num_layers(21) ➞ \"1048.576m\"\n",
    "- Paper folded 21 times is 1048576mm (equal to 1048.576m)"
   ]
  },
  {
   "cell_type": "code",
   "execution_count": 28,
   "id": "1d2649ef",
   "metadata": {},
   "outputs": [],
   "source": [
    "def num_layers(n):\n",
    "    initial_thickness_mm = 0.5 # Initial thickness in millimeters\n",
    "    final_thickness_mm = initial_thickness_mm * (2 ** n)\n",
    "    final_thickness_m = final_thickness_mm / 1000 # Convert millimeter\n",
    "    return f\"{final_thickness_m:.3f}m\""
   ]
  },
  {
   "cell_type": "code",
   "execution_count": 29,
   "id": "d5810f42",
   "metadata": {},
   "outputs": [
    {
     "data": {
      "text/plain": [
       "'0.001m'"
      ]
     },
     "execution_count": 29,
     "metadata": {},
     "output_type": "execute_result"
    }
   ],
   "source": [
    "num_layers(1)"
   ]
  },
  {
   "cell_type": "code",
   "execution_count": 30,
   "id": "27c1e409",
   "metadata": {},
   "outputs": [
    {
     "data": {
      "text/plain": [
       "'0.008m'"
      ]
     },
     "execution_count": 30,
     "metadata": {},
     "output_type": "execute_result"
    }
   ],
   "source": [
    "num_layers(4)"
   ]
  },
  {
   "cell_type": "code",
   "execution_count": 31,
   "id": "c016ac91",
   "metadata": {},
   "outputs": [
    {
     "data": {
      "text/plain": [
       "'1048.576m'"
      ]
     },
     "execution_count": 31,
     "metadata": {},
     "output_type": "execute_result"
    }
   ],
   "source": [
    "num_layers(21)"
   ]
  },
  {
   "cell_type": "markdown",
   "id": "a40b6b64",
   "metadata": {},
   "source": [
    "# Program 108\n",
    "#### Create a function that takes a single string as argument and returns an ordered list containing the indices of all capital letters in the string.\n",
    "- Examples\n",
    "- index_of_caps(\"eDaBiT\") ➞ [1, 3, 5]\n",
    "- index_of_caps(\"eQuINoX\") ➞ [1, 3, 4, 6]\n",
    "- index_of_caps(\"determine\") ➞ []\n",
    "- index_of_caps(\"STRIKE\") ➞ [0, 1, 2, 3, 4, 5]\n",
    "- index_of_caps(\"sUn\") ➞ [1]"
   ]
  },
  {
   "cell_type": "code",
   "execution_count": 32,
   "id": "be951022",
   "metadata": {},
   "outputs": [],
   "source": [
    "def index_of_caps(word):\n",
    " # Use list comprehension to find indices of capital letters\n",
    " return [i for i, char in enumerate(word) if char.isupper()]"
   ]
  },
  {
   "cell_type": "code",
   "execution_count": 33,
   "id": "813b2cb9",
   "metadata": {},
   "outputs": [
    {
     "data": {
      "text/plain": [
       "[1, 3, 5]"
      ]
     },
     "execution_count": 33,
     "metadata": {},
     "output_type": "execute_result"
    }
   ],
   "source": [
    "index_of_caps(\"aNoKiT\")"
   ]
  },
  {
   "cell_type": "code",
   "execution_count": 34,
   "id": "f6b772a9",
   "metadata": {},
   "outputs": [
    {
     "data": {
      "text/plain": [
       "[1, 3, 4, 6]"
      ]
     },
     "execution_count": 34,
     "metadata": {},
     "output_type": "execute_result"
    }
   ],
   "source": [
    "index_of_caps(\"eQuINoX\") "
   ]
  },
  {
   "cell_type": "code",
   "execution_count": 35,
   "id": "7b6d06f9",
   "metadata": {},
   "outputs": [
    {
     "data": {
      "text/plain": [
       "[]"
      ]
     },
     "execution_count": 35,
     "metadata": {},
     "output_type": "execute_result"
    }
   ],
   "source": [
    "index_of_caps(\"determine\")"
   ]
  },
  {
   "cell_type": "code",
   "execution_count": 36,
   "id": "32dda6ec",
   "metadata": {},
   "outputs": [
    {
     "data": {
      "text/plain": [
       "[0, 1, 2, 3, 4, 5]"
      ]
     },
     "execution_count": 36,
     "metadata": {},
     "output_type": "execute_result"
    }
   ],
   "source": [
    "index_of_caps(\"STRIKE\")"
   ]
  },
  {
   "cell_type": "code",
   "execution_count": 37,
   "id": "b569229f",
   "metadata": {},
   "outputs": [
    {
     "data": {
      "text/plain": [
       "[1]"
      ]
     },
     "execution_count": 37,
     "metadata": {},
     "output_type": "execute_result"
    }
   ],
   "source": [
    "index_of_caps(\"sUn\")"
   ]
  },
  {
   "cell_type": "markdown",
   "id": "b8a5700f",
   "metadata": {},
   "source": [
    "# Program 109\n",
    "#### Using list comprehensions, create a function that finds all even numbers from 1 to the given number.\n",
    "- Examples\n",
    "- find_even_nums(8) ➞ [2, 4, 6, 8]\n",
    "- find_even_nums(4) ➞ [2, 4]\n",
    "- find_even_nums(2) ➞ [2]"
   ]
  },
  {
   "cell_type": "code",
   "execution_count": 38,
   "id": "e1cde4d4",
   "metadata": {},
   "outputs": [],
   "source": [
    "def find_even_nums(num):\n",
    " # Use a list comprehension to generate even numbers from 1 to nums\n",
    " return [x for x in range(1, num + 1) if x % 2 == 0]"
   ]
  },
  {
   "cell_type": "code",
   "execution_count": 39,
   "id": "37105823",
   "metadata": {},
   "outputs": [
    {
     "data": {
      "text/plain": [
       "[2, 4, 6, 8]"
      ]
     },
     "execution_count": 39,
     "metadata": {},
     "output_type": "execute_result"
    }
   ],
   "source": [
    "find_even_nums(8)"
   ]
  },
  {
   "cell_type": "code",
   "execution_count": 40,
   "id": "1ee136d1",
   "metadata": {},
   "outputs": [
    {
     "data": {
      "text/plain": [
       "[2, 4]"
      ]
     },
     "execution_count": 40,
     "metadata": {},
     "output_type": "execute_result"
    }
   ],
   "source": [
    "find_even_nums(4)"
   ]
  },
  {
   "cell_type": "code",
   "execution_count": 41,
   "id": "458aabde",
   "metadata": {},
   "outputs": [
    {
     "data": {
      "text/plain": [
       "[2]"
      ]
     },
     "execution_count": 41,
     "metadata": {},
     "output_type": "execute_result"
    }
   ],
   "source": [
    "find_even_nums(2)"
   ]
  },
  {
   "cell_type": "markdown",
   "id": "c2bbad7b",
   "metadata": {},
   "source": [
    "# Program 110\n",
    "#### Create a function that takes a list of strings and integers, and filters out the list so hat it returns a list of integers only.\n",
    "- Examples\n",
    "- filter_list([1, 2, 3, \"a\", \"b\", 4]) ➞ [1, 2, 3, 4]\n",
    "- filter_list([\"A\", 0, \"Edabit\", 1729, \"Python\", 1729]) ➞ [0, 1729]\n",
    "- filter_list([\"Nothing\", \"here\"]) ➞ []"
   ]
  },
  {
   "cell_type": "code",
   "execution_count": 42,
   "id": "a28c072e",
   "metadata": {},
   "outputs": [],
   "source": [
    "def filter_list(lst):\n",
    " # Use a list comprehension to filter out integers\n",
    " return [x for x in lst if isinstance(x, int)]"
   ]
  },
  {
   "cell_type": "code",
   "execution_count": 43,
   "id": "9977e68f",
   "metadata": {},
   "outputs": [
    {
     "data": {
      "text/plain": [
       "[1, 2, 3, 4]"
      ]
     },
     "execution_count": 43,
     "metadata": {},
     "output_type": "execute_result"
    }
   ],
   "source": [
    "filter_list([1, 2, 3, \"a\", \"b\", 4]) "
   ]
  },
  {
   "cell_type": "code",
   "execution_count": 44,
   "id": "5416083a",
   "metadata": {},
   "outputs": [
    {
     "data": {
      "text/plain": [
       "[0, 1729, 1729]"
      ]
     },
     "execution_count": 44,
     "metadata": {},
     "output_type": "execute_result"
    }
   ],
   "source": [
    "filter_list([\"A\", 0, \"Learn \", 1729, \"Python\", 1729])"
   ]
  },
  {
   "cell_type": "code",
   "execution_count": 45,
   "id": "5b42097c",
   "metadata": {},
   "outputs": [
    {
     "data": {
      "text/plain": [
       "[0, 1729, 1729]"
      ]
     },
     "execution_count": 45,
     "metadata": {},
     "output_type": "execute_result"
    }
   ],
   "source": [
    "filter_list([\"A\", 0, \"Edabit\", 1729, \"Python\", 1729])"
   ]
  },
  {
   "cell_type": "code",
   "execution_count": 46,
   "id": "6dec83ef",
   "metadata": {},
   "outputs": [
    {
     "data": {
      "text/plain": [
       "[]"
      ]
     },
     "execution_count": 46,
     "metadata": {},
     "output_type": "execute_result"
    }
   ],
   "source": [
    "filter_list([\"Nothing\", \"here\"])"
   ]
  }
 ],
 "metadata": {
  "kernelspec": {
   "display_name": "Python 3 (ipykernel)",
   "language": "python",
   "name": "python3"
  },
  "language_info": {
   "codemirror_mode": {
    "name": "ipython",
    "version": 3
   },
   "file_extension": ".py",
   "mimetype": "text/x-python",
   "name": "python",
   "nbconvert_exporter": "python",
   "pygments_lexer": "ipython3",
   "version": "3.9.12"
  }
 },
 "nbformat": 4,
 "nbformat_minor": 5
}
