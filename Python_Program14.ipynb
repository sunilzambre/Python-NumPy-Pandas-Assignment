{
 "cells": [
  {
   "cell_type": "markdown",
   "id": "d3be9923",
   "metadata": {},
   "source": [
    "# Program 131\n",
    "#### Create a function that takes a list of numbers and return the number that's unique.\n",
    "     - Examples\n",
    "     - unique([3, 3, 3, 7, 3, 3]) ➞ 7\n",
    "     - unique([0, 0, 0.77, 0, 0]) ➞ 0.77\n",
    "     - unique([0, 1, 1, 1, 1, 1, 1, 1]) ➞ 0\n",
    "     - Notes Test cases will always have exactly one unique number while all others are the same."
   ]
  },
  {
   "cell_type": "code",
   "execution_count": 1,
   "id": "2c9a5de8",
   "metadata": {},
   "outputs": [],
   "source": [
    "def unique(numbers):\n",
    "    # Use a dictionary to count occurrences of each number\n",
    "    count_dict = {}\n",
    " \n",
    "    # Count occurrences of each number in the list\n",
    "    for num in numbers:\n",
    "        if num in count_dict:\n",
    "            count_dict[num] += 1\n",
    "        else:\n",
    "            count_dict[num] = 1\n",
    " \n",
    "    # Find the unique number (occurs only once)\n",
    "    for num, count in count_dict.items():\n",
    "        if count == 1:\n",
    "            return num"
   ]
  },
  {
   "cell_type": "code",
   "execution_count": 2,
   "id": "2b9f5d29",
   "metadata": {},
   "outputs": [
    {
     "data": {
      "text/plain": [
       "7"
      ]
     },
     "execution_count": 2,
     "metadata": {},
     "output_type": "execute_result"
    }
   ],
   "source": [
    "unique([3, 3, 3, 7, 3, 3])"
   ]
  },
  {
   "cell_type": "code",
   "execution_count": 3,
   "id": "e0ad7d93",
   "metadata": {},
   "outputs": [
    {
     "data": {
      "text/plain": [
       "0.77"
      ]
     },
     "execution_count": 3,
     "metadata": {},
     "output_type": "execute_result"
    }
   ],
   "source": [
    "unique([0, 0, 0.77, 0, 0]) "
   ]
  },
  {
   "cell_type": "code",
   "execution_count": 4,
   "id": "f709e633",
   "metadata": {},
   "outputs": [
    {
     "data": {
      "text/plain": [
       "0"
      ]
     },
     "execution_count": 4,
     "metadata": {},
     "output_type": "execute_result"
    }
   ],
   "source": [
    "unique([0, 1, 1, 1, 1, 1, 1, 1])"
   ]
  },
  {
   "cell_type": "markdown",
   "id": "949914e0",
   "metadata": {},
   "source": [
    "# Program 132\n",
    "##### Your task is to create a Circle constructor that creates a circle with a radius provided by an argument. The circles constructed must have two getters getArea() (PIr^2) and getPerimeter() (2PI*r) which give both respective areas and perimeter (circumference). For help with this class, I have provided you with a  Rectangle constructor which you can use as a base example.\n",
    "- Examples\n",
    "  - circy = Circle(11)\n",
    "  - circy.getArea()\n",
    "    - Should return 380.132711084365\n",
    "     - circy = Circle(4.44)\n",
    "     - circy.getPerimeter()\n",
    "    - Should return 27.897342763877365\n",
    "- Notes\n",
    "   - Round results up to the nearest integer."
   ]
  },
  {
   "cell_type": "code",
   "execution_count": 5,
   "id": "e20ae197",
   "metadata": {},
   "outputs": [],
   "source": [
    "import math\n",
    "class Circle:\n",
    "    def __init__(self, radius):\n",
    "        self.radius = radius\n",
    " \n",
    "    def getArea(self):\n",
    "    # Calculate and return the area of the circle\n",
    "        return round(math.pi * self.radius**2)\n",
    " \n",
    "    def getPerimeter(self):\n",
    "        # Calculate and return the perimeter (circumference) of the circle\n",
    "        return round(2 * math.pi * self.radius)"
   ]
  },
  {
   "cell_type": "code",
   "execution_count": 6,
   "id": "2f257e6d",
   "metadata": {},
   "outputs": [
    {
     "name": "stdout",
     "output_type": "stream",
     "text": [
      "380\n",
      "69\n"
     ]
    }
   ],
   "source": [
    "# Test cases\n",
    "circy = Circle(11)\n",
    "print(circy.getArea()) \n",
    "print(circy.getPerimeter())"
   ]
  },
  {
   "cell_type": "code",
   "execution_count": 7,
   "id": "48af6620",
   "metadata": {},
   "outputs": [
    {
     "name": "stdout",
     "output_type": "stream",
     "text": [
      "62\n",
      "28\n"
     ]
    }
   ],
   "source": [
    "circy = Circle(4.44)\n",
    "print(circy.getArea()) \n",
    "print(circy.getPerimeter())"
   ]
  },
  {
   "cell_type": "markdown",
   "id": "f5cde7c1",
   "metadata": {},
   "source": [
    "# Program 133\n",
    "#### Create a function that takes a list of strings and return a list, sorted from shortest to longest.\n",
    "- Examples\n",
    "  - sort_by_length([\"Google\", \"Apple\", \"Microsoft\"]) ➞ [\"Apple\", \"Google\", \"Microsoft\"]\n",
    "   - sort_by_length([\"Leonardo\", \"Michelangelo\", \"Raphael\", \"Donatello\"]) ➞ [\"Raphael\",\n",
    "\"Leonardo\", \"Donatello\", \"Michelangelo\"]\n",
    "sort_by_length([\"Turing\", \"Einstein\", \"Jung\"]) ➞ [\"Jung\", \"Turing\", \"Einstein\"]\n",
    "Notes\n",
    "All test cases contain lists with strings of different lengths"
   ]
  },
  {
   "cell_type": "code",
   "execution_count": 8,
   "id": "67f03c71",
   "metadata": {},
   "outputs": [],
   "source": [
    "def sort_by_length(lst):\n",
    "    return sorted(lst, key=len) "
   ]
  },
  {
   "cell_type": "code",
   "execution_count": 9,
   "id": "8ecd6fd0",
   "metadata": {},
   "outputs": [
    {
     "data": {
      "text/plain": [
       "['Apple', 'Google', 'Microsoft']"
      ]
     },
     "execution_count": 9,
     "metadata": {},
     "output_type": "execute_result"
    }
   ],
   "source": [
    "sort_by_length([\"Google\", \"Apple\", \"Microsoft\"])"
   ]
  },
  {
   "cell_type": "code",
   "execution_count": 10,
   "id": "fbc08080",
   "metadata": {},
   "outputs": [
    {
     "data": {
      "text/plain": [
       "['Raphael', 'Leonardo', 'Donatello', 'Michelangelo']"
      ]
     },
     "execution_count": 10,
     "metadata": {},
     "output_type": "execute_result"
    }
   ],
   "source": [
    "sort_by_length([\"Leonardo\", \"Michelangelo\", \"Raphael\", \"Donatello\"])"
   ]
  },
  {
   "cell_type": "code",
   "execution_count": 11,
   "id": "cb410cfc",
   "metadata": {},
   "outputs": [
    {
     "data": {
      "text/plain": [
       "['Jung', 'Turing', 'Einstein']"
      ]
     },
     "execution_count": 11,
     "metadata": {},
     "output_type": "execute_result"
    }
   ],
   "source": [
    "sort_by_length([\"Turing\", \"Einstein\", \"Jung\"])"
   ]
  },
  {
   "cell_type": "markdown",
   "id": "a028fc1c",
   "metadata": {},
   "source": [
    "# Program 134\n",
    "#### Create a function that validates whether three given integers form a Pythagorean triplet. The sum of the squares of the two smallest integers must equal the square of the largest number to be validated.\n",
    "- Examples\n",
    " - is_triplet(3, 4, 5) ➞ True\n",
    "  - 3² + 4² = 25\n",
    "  - 5² = 25\n",
    " - is_triplet(13, 5, 12) ➞ True\n",
    "   - 5² + 12² = 169\n",
    "   - 13² = 169\n",
    " - is_triplet(1, 2, 3) ➞ False\n",
    "   - 1² + 2² = 5\n",
    "   - 3² = 9\n",
    "- Notes\n",
    "  - Numbers may not be given in a sorted order."
   ]
  },
  {
   "cell_type": "code",
   "execution_count": 12,
   "id": "639d72bb",
   "metadata": {},
   "outputs": [],
   "source": [
    "def is_triplet(a, b, c):\n",
    "    # Sort the numbers in ascending order\n",
    "    sorted_numbers = sorted([a, b, c])\n",
    "    # Check if the sum of squares of the two smaller numbers equals the square of the largest number\n",
    "    return sorted_numbers[0] ** 2 + sorted_numbers[1] ** 2 == sorted_numbers[2] ** 2"
   ]
  },
  {
   "cell_type": "code",
   "execution_count": 13,
   "id": "92b3a5df",
   "metadata": {},
   "outputs": [
    {
     "data": {
      "text/plain": [
       "True"
      ]
     },
     "execution_count": 13,
     "metadata": {},
     "output_type": "execute_result"
    }
   ],
   "source": [
    "is_triplet(3, 4, 5)"
   ]
  },
  {
   "cell_type": "code",
   "execution_count": 14,
   "id": "e8f7f90d",
   "metadata": {},
   "outputs": [
    {
     "data": {
      "text/plain": [
       "True"
      ]
     },
     "execution_count": 14,
     "metadata": {},
     "output_type": "execute_result"
    }
   ],
   "source": [
    "is_triplet(13, 5, 12) "
   ]
  },
  {
   "cell_type": "code",
   "execution_count": 15,
   "id": "e67c041f",
   "metadata": {},
   "outputs": [
    {
     "data": {
      "text/plain": [
       "False"
      ]
     },
     "execution_count": 15,
     "metadata": {},
     "output_type": "execute_result"
    }
   ],
   "source": [
    "is_triplet(1, 2, 3)"
   ]
  },
  {
   "cell_type": "markdown",
   "id": "ec3b9814",
   "metadata": {},
   "source": [
    "# Program 135\n",
    "#### Create a function that takes three integer arguments (a, b, c) and returns the amount of integers which are of equal value.\n",
    "- Examples\n",
    "  - equal(3, 4, 3) ➞ 2\n",
    "  - equal(1, 1, 1) ➞ 3\n",
    "  - equal(3, 4, 1) ➞ 0\n",
    "-Notes\n",
    " - Your function must return 0, 2 or 3."
   ]
  },
  {
   "cell_type": "code",
   "execution_count": 16,
   "id": "fd70f33c",
   "metadata": {},
   "outputs": [],
   "source": [
    "def equal(a, b, c):\n",
    "    if a == b == c:\n",
    "        return 3\n",
    "    elif a == b or b == c or a == c:\n",
    "        return 2\n",
    "    else:\n",
    "        return 0"
   ]
  },
  {
   "cell_type": "code",
   "execution_count": 17,
   "id": "bfff3d1a",
   "metadata": {},
   "outputs": [
    {
     "data": {
      "text/plain": [
       "2"
      ]
     },
     "execution_count": 17,
     "metadata": {},
     "output_type": "execute_result"
    }
   ],
   "source": [
    "equal(3, 4, 3)"
   ]
  },
  {
   "cell_type": "code",
   "execution_count": 18,
   "id": "b2fd3399",
   "metadata": {},
   "outputs": [
    {
     "data": {
      "text/plain": [
       "3"
      ]
     },
     "execution_count": 18,
     "metadata": {},
     "output_type": "execute_result"
    }
   ],
   "source": [
    "equal(1, 1, 1) "
   ]
  },
  {
   "cell_type": "code",
   "execution_count": 19,
   "id": "6470d64f",
   "metadata": {},
   "outputs": [
    {
     "data": {
      "text/plain": [
       "0"
      ]
     },
     "execution_count": 19,
     "metadata": {},
     "output_type": "execute_result"
    }
   ],
   "source": [
    "equal(3, 4, 1)"
   ]
  },
  {
   "cell_type": "markdown",
   "id": "69b69d08",
   "metadata": {},
   "source": [
    "# Program 136\n",
    "#### Write a function that converts a dictionary into a list of keys-values tuples.\n",
    "- Examples\n",
    "  - dict_to_list({\"D\": 1,\"B\": 2 \"C\": 3}) ➞ [(\"B\", 2), (\"C\", 3), (\"D\", 1)]\n",
    "  - dict_to_list({\"likes\": 2,\"dislikes\": 3,\"followers\": 10}) ➞ [(\"dislikes\", 3), (\"followers\", 10), (\"likes\", 2)]\n",
    "- Notes\n",
    "  - Return the elements in the list in alphabetical order."
   ]
  },
  {
   "cell_type": "code",
   "execution_count": 20,
   "id": "704c1991",
   "metadata": {},
   "outputs": [
    {
     "name": "stdout",
     "output_type": "stream",
     "text": [
      "[('B', 2), ('C', 3), ('D', 1)]\n"
     ]
    }
   ],
   "source": [
    "def dict_to_list(input_dict):\n",
    "    # Sort the dictionary by keys in alphabetical order\n",
    "    sorted_dict = sorted(input_dict.items())\n",
    " \n",
    "    # Convert the sorted dictionary to a list of tuples\n",
    "    result = [(key, value) for key, value in sorted_dict]\n",
    " \n",
    "    return result\n",
    "# Example usage\n",
    "result_list = dict_to_list({\"D\": 1, \"B\": 2, \"C\": 3})\n",
    "print(result_list)"
   ]
  },
  {
   "cell_type": "code",
   "execution_count": 21,
   "id": "161bb239",
   "metadata": {},
   "outputs": [
    {
     "data": {
      "text/plain": [
       "[('dislikes', 3), ('followers', 10), ('likes', 2)]"
      ]
     },
     "execution_count": 21,
     "metadata": {},
     "output_type": "execute_result"
    }
   ],
   "source": [
    "dict_to_list({\"likes\": 2, \"dislikes\": 3, \"followers\": 10})"
   ]
  },
  {
   "cell_type": "markdown",
   "id": "823871d9",
   "metadata": {},
   "source": [
    "# Program 137\n",
    "#### Write a function that creates a dictionary with each (key, value) pair being the (lower case, upper case) \n",
    "#### versions of a letter, respectively.\n",
    "- Examples\n",
    "  - mapping([\"p\", \"s\"]) ➞ { \"p\": \"P\", \"s\": \"S\" }\n",
    "  - mapping([\"a\", \"b\", \"c\"]) ➞ { \"a\": \"A\", \"b\": \"B\", \"c\": \"C\" }\n",
    "  - mapping([\"a\", \"v\", \"y\", \"z\"]) ➞ { \"a\": \"A\", \"v\": \"V\", \"y\": \"Y\", \"z\": \"Z\" }\n",
    "- Notes\n",
    "    - All of the letters in the input list will always be lowercase."
   ]
  },
  {
   "cell_type": "code",
   "execution_count": 22,
   "id": "09fcf6e8",
   "metadata": {},
   "outputs": [],
   "source": [
    "def mapping(letters):\n",
    "    result = {}\n",
    "    for letter in letters:\n",
    "        result[letter] = letter.upper()\n",
    "    return result"
   ]
  },
  {
   "cell_type": "code",
   "execution_count": 23,
   "id": "fc16f950",
   "metadata": {},
   "outputs": [
    {
     "data": {
      "text/plain": [
       "{'p': 'P', 's': 'S'}"
      ]
     },
     "execution_count": 23,
     "metadata": {},
     "output_type": "execute_result"
    }
   ],
   "source": [
    "mapping([\"p\", \"s\"]) "
   ]
  },
  {
   "cell_type": "code",
   "execution_count": 24,
   "id": "3f48378e",
   "metadata": {},
   "outputs": [
    {
     "data": {
      "text/plain": [
       "{'a': 'A', 'b': 'B', 'c': 'C'}"
      ]
     },
     "execution_count": 24,
     "metadata": {},
     "output_type": "execute_result"
    }
   ],
   "source": [
    "mapping([\"a\", \"b\", \"c\"]) "
   ]
  },
  {
   "cell_type": "code",
   "execution_count": 25,
   "id": "a9fd8744",
   "metadata": {},
   "outputs": [
    {
     "data": {
      "text/plain": [
       "{'a': 'A', 'v': 'V', 'y': 'Y', 'z': 'Z'}"
      ]
     },
     "execution_count": 25,
     "metadata": {},
     "output_type": "execute_result"
    }
   ],
   "source": [
    "mapping([\"a\", \"v\", \"y\", \"z\"]) "
   ]
  },
  {
   "cell_type": "markdown",
   "id": "78113d97",
   "metadata": {},
   "source": [
    "# Program 138\n",
    "#### Write a function, that replaces all vowels in a string with a specified vowel.\n",
    "- Examples\n",
    "  - vow_replace(\"apples and bananas\", \"u\") ➞ \"upplus und bununus\"\n",
    "  - vow_replace(\"cheese casserole\", \"o\") ➞ \"chooso cossorolo\"\n",
    "  - vow_replace(\"stuffed jalapeno poppers\", \"e\") ➞ \"steffed jelepene peppers\"\n",
    "- Notes\n",
    "   - All words will be lowercase. Y is not considered a vowel."
   ]
  },
  {
   "cell_type": "code",
   "execution_count": 26,
   "id": "80e16be3",
   "metadata": {},
   "outputs": [],
   "source": [
    "def vow_replace(string, vowel):\n",
    "    vowels = \"aeiou\"\n",
    "    result = \"\"\n",
    " \n",
    "    for char in string:\n",
    "        if char in vowels:\n",
    "            result += vowel\n",
    "        else:\n",
    "            result += char\n",
    "    return result"
   ]
  },
  {
   "cell_type": "code",
   "execution_count": 27,
   "id": "fb9bdf12",
   "metadata": {},
   "outputs": [
    {
     "data": {
      "text/plain": [
       "'upplus und bununus'"
      ]
     },
     "execution_count": 27,
     "metadata": {},
     "output_type": "execute_result"
    }
   ],
   "source": [
    "vow_replace(\"apples and bananas\", \"u\")"
   ]
  },
  {
   "cell_type": "code",
   "execution_count": 28,
   "id": "9550c68b",
   "metadata": {},
   "outputs": [
    {
     "data": {
      "text/plain": [
       "'chooso cossorolo'"
      ]
     },
     "execution_count": 28,
     "metadata": {},
     "output_type": "execute_result"
    }
   ],
   "source": [
    "vow_replace(\"cheese casserole\", \"o\")"
   ]
  },
  {
   "cell_type": "code",
   "execution_count": 29,
   "id": "b3afcd55",
   "metadata": {},
   "outputs": [
    {
     "data": {
      "text/plain": [
       "'steffed jelepene peppers'"
      ]
     },
     "execution_count": 29,
     "metadata": {},
     "output_type": "execute_result"
    }
   ],
   "source": [
    "vow_replace(\"stuffed jalapeno poppers\", \"e\") "
   ]
  },
  {
   "cell_type": "markdown",
   "id": "03eba3b2",
   "metadata": {},
   "source": [
    "# Program 139\n",
    "#### Create a function that takes a string as input and capitalizes a letter if its ASCII code is even and returns its lower case                    version if its ASCII code is odd.\n",
    "- Examples\n",
    "  - ascii_capitalize(\"to be or not to be!\") ➞ \"To Be oR NoT To Be!\"\n",
    "  - ascii_capitalize(\"THE LITTLE MERMAID\") ➞ \"THe LiTTLe meRmaiD\"\n",
    "  - ascii_capitalize(\"Oh what a beautiful morning.\") ➞ \"oH wHaT a BeauTiFuL moRNiNg.\""
   ]
  },
  {
   "cell_type": "code",
   "execution_count": 30,
   "id": "9031c885",
   "metadata": {},
   "outputs": [],
   "source": [
    "def ascii_capitalize(input_str):\n",
    "    result = \"\"\n",
    " \n",
    "    for char in input_str:\n",
    "        if ord(char) % 2 == 0:\n",
    "            result += char.upper()\n",
    "        else:\n",
    "            result += char.lower()\n",
    "    return result"
   ]
  },
  {
   "cell_type": "code",
   "execution_count": 31,
   "id": "9b9fb270",
   "metadata": {},
   "outputs": [
    {
     "data": {
      "text/plain": [
       "'To Be oR NoT To Be!'"
      ]
     },
     "execution_count": 31,
     "metadata": {},
     "output_type": "execute_result"
    }
   ],
   "source": [
    "ascii_capitalize(\"to be or not to be!\")"
   ]
  },
  {
   "cell_type": "code",
   "execution_count": 32,
   "id": "cadb8b91",
   "metadata": {},
   "outputs": [
    {
     "data": {
      "text/plain": [
       "'THe LiTTLe meRmaiD'"
      ]
     },
     "execution_count": 32,
     "metadata": {},
     "output_type": "execute_result"
    }
   ],
   "source": [
    "ascii_capitalize(\"THE LITTLE MERMAID\") "
   ]
  },
  {
   "cell_type": "code",
   "execution_count": 33,
   "id": "8c4059eb",
   "metadata": {},
   "outputs": [
    {
     "data": {
      "text/plain": [
       "'oH wHaT a BeauTiFuL moRNiNg.'"
      ]
     },
     "execution_count": 33,
     "metadata": {},
     "output_type": "execute_result"
    }
   ],
   "source": [
    "ascii_capitalize(\"Oh what a beautiful morning.\") "
   ]
  },
  {
   "cell_type": "code",
   "execution_count": 34,
   "id": "ff422aff",
   "metadata": {},
   "outputs": [
    {
     "name": "stdout",
     "output_type": "stream",
     "text": [
      "HeLLo123\n"
     ]
    }
   ],
   "source": [
    "def manipulate_string(input_str):\n",
    "    result = ''.join(char.upper() if ord(char) % 2 == 0 else char.lower() for char in input_str)\n",
    "    return result\n",
    "\n",
    "# Example usage\n",
    "input_string = \"Hello123\"\n",
    "result_string = manipulate_string(input_string)\n",
    "print(result_string)"
   ]
  },
  {
   "cell_type": "code",
   "execution_count": 35,
   "id": "30b27973",
   "metadata": {},
   "outputs": [
    {
     "name": "stdout",
     "output_type": "stream",
     "text": [
      "Enter a string: Sunil@123 Zambare\n",
      "Manipulated String: suNiL@123 ZamBaRe\n"
     ]
    }
   ],
   "source": [
    "def manipulate_string(input_str):\n",
    "    return ''.join(char.upper() if ord(char) % 2 == 0 else char.lower() for char in input_str)\n",
    "\n",
    "# Take user input\n",
    "user_input = input(\"Enter a string: \")\n",
    "\n",
    "# Call the function with user input\n",
    "result_string = manipulate_string(user_input)\n",
    "\n",
    "# Display the result\n",
    "print(\"Manipulated String:\", result_string)"
   ]
  }
 ],
 "metadata": {
  "kernelspec": {
   "display_name": "Python 3 (ipykernel)",
   "language": "python",
   "name": "python3"
  },
  "language_info": {
   "codemirror_mode": {
    "name": "ipython",
    "version": 3
   },
   "file_extension": ".py",
   "mimetype": "text/x-python",
   "name": "python",
   "nbconvert_exporter": "python",
   "pygments_lexer": "ipython3",
   "version": "3.9.12"
  }
 },
 "nbformat": 4,
 "nbformat_minor": 5
}
