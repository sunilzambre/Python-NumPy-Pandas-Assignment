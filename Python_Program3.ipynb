{
 "cells": [
  {
   "cell_type": "markdown",
   "id": "a703f605",
   "metadata": {},
   "source": [
    "# Program 21\n",
    "- Write a Python Program to Find the Sum of Natural Numbers.\n",
    "- Natural numbers are a set of positive integers that are used to count and order objects.\n",
    "- They are the numbers that typically start from 1 and continue indefinitely, including all the whole numbers greater than   0. In mathematical notation, the set of natural numbers is often denoted as \"N\" and can be expressed as:\n",
    "   - 𝑁 = 1, 2, 3, 4, 5, 6, 7, 8, . . ."
   ]
  },
  {
   "cell_type": "code",
   "execution_count": 2,
   "id": "4590dd9c",
   "metadata": {},
   "outputs": [
    {
     "name": "stdout",
     "output_type": "stream",
     "text": [
      "Enter the limit: 10\n",
      "The sum of natural numbers up to 10 is: 55\n"
     ]
    }
   ],
   "source": [
    "limit = int(input(\"Enter the limit: \"))\n",
    "# Initialize the sum\n",
    "sum = 0\n",
    "# Use a for loop to calculate the sum of natural numbers\n",
    "for i in range(1, limit + 1):\n",
    "    sum += i\n",
    "# Print the sum\n",
    "print(\"The sum of natural numbers up to\", limit, \"is:\", sum)"
   ]
  },
  {
   "cell_type": "markdown",
   "id": "91341a76",
   "metadata": {},
   "source": [
    "# Program 22\n",
    "- Write a Python Program to Find LCM.\n",
    "- Least Common Multiple (LCM):\n",
    "- LCM, or Least Common Multiple, is the smallest multiple that is exactly divisible by two or more numbers.\n",
    "- Formula:\n",
    "  - For two numbers a and b, the LCM can be found using the formula.\n",
    "  - For more than two numbers, you can find the LCM step by step, taking the LCM of pairs of numbers at a time until you       reach the last pair.\n",
    "- Note: GCD stands for Greatest Common Divisor."
   ]
  },
  {
   "cell_type": "code",
   "execution_count": 5,
   "id": "0c72fdb3",
   "metadata": {},
   "outputs": [
    {
     "name": "stdout",
     "output_type": "stream",
     "text": [
      "Enter the number: 54\n",
      "Enter the number: 24\n",
      "The L.C.M. is 216\n"
     ]
    }
   ],
   "source": [
    "# Python Program to find the L.C.M. of two input number\n",
    "def compute_lcm(x, y):\n",
    "    if x > y: # choose the greater number\n",
    "        greater = x\n",
    "    else:\n",
    "        greater = y\n",
    "    while(True):\n",
    "        if((greater % x == 0) and (greater % y == 0)):\n",
    "            lcm = greater\n",
    "            break\n",
    "        greater += 1\n",
    "    return lcm\n",
    "num1 = int(input('Enter the number: '))\n",
    "num2 = int(input('Enter the number: '))\n",
    "print(\"The L.C.M. is\", compute_lcm(num1, num2))"
   ]
  },
  {
   "cell_type": "markdown",
   "id": "c9f84a54",
   "metadata": {},
   "source": [
    "# Program 23\n",
    "- Write a Python Program to Find HCF.\n",
    "- Highest Common Factor(HCF): HCF, or Highest Common Factor, is the largest positive integer that divides two or more         numbers without leaving a remainder.\n",
    "- For two numbers a and b, the HCF can be found using the formula:\n",
    "- For more than two numbers, you can find the HCF by taking the GCD of pairs of numbers at a time until you reach the last   pair.\n",
    "- Note: GCD stands for Greatest Common Divisor."
   ]
  },
  {
   "cell_type": "code",
   "execution_count": 6,
   "id": "b8788de5",
   "metadata": {},
   "outputs": [
    {
     "name": "stdout",
     "output_type": "stream",
     "text": [
      "Enter the number: 54\n",
      "Enter the number: 24\n",
      "The H.C.F. is 6\n"
     ]
    }
   ],
   "source": [
    "# Python program to find H.C.F of two numbers\n",
    "# define a function\n",
    "def compute_hcf(x, y):\n",
    "# choose the smaller number\n",
    "    if x > y:\n",
    "        smaller = y\n",
    "    else:\n",
    "        smaller = x\n",
    "    for i in range(1, smaller+1):\n",
    "        if((x % i == 0) and (y % i == 0)):\n",
    "                hcf = i\n",
    "    return hcf\n",
    "num1 = int(input('Enter the number: '))\n",
    "num2 = int(input('Enter the number: '))\n",
    "print(\"The H.C.F. is\", compute_hcf(num1, num2))"
   ]
  },
  {
   "cell_type": "markdown",
   "id": "7c7c9024",
   "metadata": {},
   "source": [
    "# Program 24\n",
    "#### Write a Python Program to Convert Decimal to Binary, Octal and Hexadecimal.\n",
    "- How can we manually convert a decimal number to binary, octal and hexadecimal?\n",
    "- Converting a decimal number to binary, octal, and hexadecimal involves dividing the decimal number by the base repeatedly   and noting the remainders at each step. Here's a\n",
    "  simple example:\n",
    "- Let's convert the decimal number 27 to binary, octal, and hexadecimal.\n",
    "  -1. Binary:\n",
    "    -  Divide 27 by 2. Quotient is 13, remainder is 1. Note the remainder.\n",
    "        -Divide 13 by 2. Quotient is 6, remainder is 1. Note the remainder.\n",
    "            - Divide 6 by 2. Quotient is 3, remainder is 0. Note the remainder.\n",
    "                -Divide 3 by 2. Quotient is 1, remainder is 1. Note the remainder.\n",
    "                    -Divide 1 by 2. Quotient is 0, remainder is 1. Note the remainder.\n",
    "                    -Reading the remainders from bottom to top, the binary representation of 27 is 11011.\n",
    "- 2. Octal:\n",
    "   -  Divide 27 by 8. Quotient is 3, remainder is 3. Note the remainder.\n",
    "        -Divide 3 by 8. Quotient is 0, remainder is 3. Note the remainder.\n",
    "            -Reading the remainders from bottom to top, the octal representation of 27 is 33.\n",
    "- 3. Hexadecimal:\n",
    "    - Divide 27 by 16. Quotient is 1, remainder is 11 (B in hexadecimal). Note the remainder.\n",
    "        -Reading the remainders, the hexadecimal representation of 27 is 1B.\n",
    "            -So, in summary:\n",
    "                --Binary: 27 in decimal is 11011 in binary.\n",
    "                    -Octal: 27 in decimal is 33 in octal.\n",
    "                        -Hexadecimal: 27 in decimal is 1B in hexadecimal"
   ]
  },
  {
   "cell_type": "code",
   "execution_count": 7,
   "id": "96ba81d4",
   "metadata": {},
   "outputs": [
    {
     "name": "stdout",
     "output_type": "stream",
     "text": [
      "Enter a decimal number: 27\n",
      "The decimal value of 27 is:\n",
      "0b11011 in binary.\n",
      "0o33 in octal.\n",
      "0x1b in hexadecimal.\n"
     ]
    }
   ],
   "source": [
    "dec_num = int(input('Enter a decimal number: '))\n",
    "print(\"The decimal value of\", dec_num, \"is:\")\n",
    "print(bin(dec_num), \"in binary.\")\n",
    "print(oct(dec_num), \"in octal.\")\n",
    "print(hex(dec_num), \"in hexadecimal.\")"
   ]
  },
  {
   "cell_type": "markdown",
   "id": "c17cf600",
   "metadata": {},
   "source": [
    "# Program 25\n",
    "#### Write a Python Program To Find ASCII value of a character.\n",
    "- ASCII value:\n",
    "- ASCII, or American Standard Code for Information Interchange, is a character encoding standard that uses numeric values     to represent characters. Each ASCII character is assigned a unique 7-bit or 8-bit binary number, allowing computers to     exchange information and display text in a consistent way. The ASCII values range from 0 to 127 (for 7-bit ASCII) or 0 to   255 (for 8-bit ASCII), with each value corresponding to a specific character, such as letters, digits, punctuation marks,   and control characters."
   ]
  },
  {
   "cell_type": "code",
   "execution_count": 9,
   "id": "9b7280fc",
   "metadata": {},
   "outputs": [
    {
     "name": "stdout",
     "output_type": "stream",
     "text": [
      "Enter the character: S\n",
      "The ASCII value of 'S' is 83\n"
     ]
    }
   ],
   "source": [
    "char = str(input(\"Enter the character: \"))\n",
    "print(\"The ASCII value of '\" + char + \"' is\", ord(char))"
   ]
  },
  {
   "cell_type": "markdown",
   "id": "658c793a",
   "metadata": {},
   "source": [
    "# Program 26\n",
    "### Write a Python Program to Make a Simple Calculator with 4 basic mathematical operations."
   ]
  },
  {
   "cell_type": "code",
   "execution_count": 14,
   "id": "837ec492",
   "metadata": {},
   "outputs": [
    {
     "name": "stdout",
     "output_type": "stream",
     "text": [
      "Select operation.\n",
      "1.Add\n",
      "2.Subtract\n",
      "3.Multiply\n",
      "4.Divide\n",
      "Enter choice(1/2/3/4): 1\n",
      "Enter first number: 7\n",
      "Enter second number: 2\n",
      "7.0 + 2.0 = 9.0\n",
      "Let's do next calculation? (yes/no): yes\n",
      "Enter choice(1/2/3/4): 2\n",
      "Enter first number: 12\n",
      "Enter second number: 5\n",
      "12.0 - 5.0 = 7.0\n",
      "Let's do next calculation? (yes/no): yes\n",
      "Enter choice(1/2/3/4): 3\n",
      "Enter first number: 20\n",
      "Enter second number: 3\n",
      "20.0 * 3.0 = 60.0\n",
      "Let's do next calculation? (yes/no): yes\n",
      "Enter choice(1/2/3/4): 4\n",
      "Enter first number: 400\n",
      "Enter second number: 20\n",
      "400.0 / 20.0 = 20.0\n",
      "Let's do next calculation? (yes/no): no\n"
     ]
    }
   ],
   "source": [
    "# This function adds two numbers\n",
    "def add(x, y):\n",
    "    return x + y\n",
    "# This function subtracts two numbers\n",
    "def subtract(x, y):\n",
    "    return x - y\n",
    "# This function multiplies two numbers\n",
    "def multiply(x, y):\n",
    "    return x * y\n",
    "# This function divides two numbers\n",
    "def divide(x, y):\n",
    "    return x / y\n",
    "print(\"Select operation.\")\n",
    "print(\"1.Add\")\n",
    "print(\"2.Subtract\")\n",
    "print(\"3.Multiply\")\n",
    "print(\"4.Divide\")\n",
    "while True:\n",
    " # take input from the user\n",
    "    choice = input(\"Enter choice(1/2/3/4): \")\n",
    " # check if choice is one of the four options\n",
    "    if choice in ('1', '2', '3', '4'):\n",
    "        try:\n",
    "            num1 = float(input(\"Enter first number: \"))\n",
    "            num2 = float(input(\"Enter second number: \"))\n",
    "        except ValueError:\n",
    "            print(\"Invalid input. Please enter a number.\")\n",
    "            continue\n",
    "        if choice == '1':\n",
    "            print(num1, \"+\", num2, \"=\", add(num1, num2))\n",
    "        elif choice == '2':\n",
    "            print(num1, \"-\", num2, \"=\", subtract(num1, num2))\n",
    "        elif choice == '3':\n",
    "            print(num1, \"*\", num2, \"=\", multiply(num1, num2))\n",
    "        elif choice == '4':\n",
    "            print(num1, \"/\", num2, \"=\", divide(num1, num2))\n",
    " \n",
    " # check if user wants another calculation\n",
    " # break the while loop if answer is no\n",
    "        next_calculation = input(\"Let's do next calculation? (yes/no): \")\n",
    "        if next_calculation == \"no\":\n",
    "            break\n",
    "    else:\n",
    "        print(\"Invalid Input\")"
   ]
  },
  {
   "cell_type": "markdown",
   "id": "353d729a",
   "metadata": {},
   "source": [
    "# Program 27\n",
    "#### Write a Python Program to Display Fibonacci Sequence Using Recursion.\n",
    "- **Fibonacci sequence:** The Fibonacci sequence is a series of numbers in which each number is the sum of the two\n",
    "  preceding ones, usually starting with 0 and 1. In mathematical terms, it is defined by the recurrence relation \n",
    "  ( F(n) = F(n-1) + F(n-2) ), with initial conditions ( F(0) = 0 ) and ( F(1) = 1). \n",
    "  - The sequence begins: 0, 1, 1, 2, 3, 5, 8, 13, 21, and so on. The Fibonacci sequence has widespread applications in          mathematics, computer science, nature, and art."
   ]
  },
  {
   "cell_type": "code",
   "execution_count": 16,
   "id": "964bb2df",
   "metadata": {},
   "outputs": [
    {
     "name": "stdout",
     "output_type": "stream",
     "text": [
      "Enter the number of terms (greater than 0): 10\n",
      "Fibonacci sequence:\n",
      "0 1 1 2 3 5 8 13 21 34 "
     ]
    }
   ],
   "source": [
    "# Python program to display the Fibonacci sequence\n",
    "def recur_fibo(n):\n",
    "    if n <= 1:\n",
    "        return n\n",
    "    else:\n",
    "        return(recur_fibo(n-1) + recur_fibo(n-2))\n",
    "nterms = int(input(\"Enter the number of terms (greater than 0): \"))\n",
    "# check if the number of terms is valid\n",
    "if nterms <= 0:\n",
    "    print(\"Plese enter a positive integer\")\n",
    "else:\n",
    "    print(\"Fibonacci sequence:\")\n",
    "    for i in range(nterms):\n",
    "        print(recur_fibo(i),end=\" \")"
   ]
  },
  {
   "cell_type": "markdown",
   "id": "4888b45e",
   "metadata": {},
   "source": [
    "# Program 28\n",
    "#### Write a Python Program to Find Factorial of Number Using Recursion.\n",
    "- The factorial of a non-negative integer ( n ) is the product of all positive integers less than or equal to ( n ). \n",
    "- It is denoted by ( n! ) \n",
    "- For example:\n",
    " -  0! is defined to be 1.\n",
    "   - Factorials are commonly used in mathematics, especially in combinatorics and probability, to count the number of ways      a set of elements can be arranged or selected.\n",
    "     -  𝑛! = 𝑛 × (𝑛 − 1) × (𝑛 − 2) × … × 3 × 2 × 1\n",
    "     - 5! = 5 × 4 × 3 × 2 × 1 = 120\n",
    "- Factorials are commonly used in mathematics, especially in combinatorics and probability, to count the number of ways a     set of elements can be arranged or selected."
   ]
  },
  {
   "cell_type": "code",
   "execution_count": 17,
   "id": "8df2424d",
   "metadata": {},
   "outputs": [
    {
     "name": "stdout",
     "output_type": "stream",
     "text": [
      "Enter the number: 7\n",
      "The factorial of 7 is 5040\n"
     ]
    }
   ],
   "source": [
    "# Factorial of a number using recursion\n",
    "def recur_factorial(n):\n",
    "    if n == 1:\n",
    "        return n\n",
    "    else:\n",
    "        return n*recur_factorial(n-1)\n",
    "num = int(input(\"Enter the number: \"))\n",
    "# check if the number is negative\n",
    "if num < 0:\n",
    "    print(\"Sorry, factorial does not exist for negative numbers\")\n",
    "elif num == 0:\n",
    "    print(\"The factorial of 0 is 1\")\n",
    "else:\n",
    "    print(\"The factorial of\", num, \"is\", recur_factorial(num))"
   ]
  },
  {
   "cell_type": "markdown",
   "id": "59f46dfa",
   "metadata": {},
   "source": [
    "# Program 29\n",
    "#### Write a Python Program to calculate your Body Mass Index.\n",
    "- Body Mass Index (BMI) is a measure of body fat based on an individual's weight and height. \n",
    "- It is commonly used as a screening tool to categorize individuals into different weight status categories, such as         underweight, normal weight, overweight, and obesity.\n",
    "- The BMI is calculated using the following formula:BMS = weight in kg /height in sq.m\n",
    "- Alternatively, in the imperial system:weight in lbs /height in sq.in *703\n",
    "- BMI provides a general indication of body fatness but does not directly measure body fat or distribution. \n",
    "- It is widely used in public health and clinical settings as a quick and simple tool to assess potential health risks       associated with weight. Different BMI ranges are associated with different health categories, but it's important to note   that BMI has limitations and does not account for factors such as muscle mass or distribution of fat."
   ]
  },
  {
   "cell_type": "code",
   "execution_count": 18,
   "id": "51b18105",
   "metadata": {},
   "outputs": [
    {
     "name": "stdout",
     "output_type": "stream",
     "text": [
      "Enter your height in meters: 1.8\n",
      "Enter your weight in kg: 70\n",
      "Welcome to the BMI calculator.\n",
      "Your BMI is:  21.6\n",
      "Your weight is normal.\n"
     ]
    }
   ],
   "source": [
    "def bodymassindex(height, weight):\n",
    "    return round((weight / height**2),2)\n",
    "h = float(input(\"Enter your height in meters: \"))\n",
    "w = float(input(\"Enter your weight in kg: \"))\n",
    "print(\"Welcome to the BMI calculator.\")\n",
    "bmi = bodymassindex(h, w)\n",
    "print(\"Your BMI is: \", bmi)\n",
    "if bmi <= 18.5:\n",
    "    print(\"You are underweight.\")\n",
    "elif 18.5 < bmi <= 24.9:\n",
    "    print(\"Your weight is normal.\")\n",
    "elif 25 < bmi <= 29.29:\n",
    "    print(\"You are overweight.\")\n",
    "else:\n",
    "    print(\"You are obese.\")"
   ]
  },
  {
   "cell_type": "markdown",
   "id": "2182e1f6",
   "metadata": {},
   "source": [
    "# Program 30\n",
    "#### Write a Python Program to calculate the natural logarithm of any number.\n",
    "- The natural logarithm, often denoted as , is a mathematical function that represents the logarithm to the base , where is   the mathematical constant approximately equal to\n",
    "- In other words, for a positive number , the natural logarithm of is the exponent that satisfies the equation .\n",
    "- Mathematically, the natural logarithm is expressed as:\n",
    "- It is commonly used in various branches of mathematics, especially in calculus and mathematical analysis, as well as in     fields such as physics, economics, and engineering.\n",
    "- The natural logarithm has properties that make it particularly useful in situations involving exponential growth or          decay."
   ]
  },
  {
   "cell_type": "code",
   "execution_count": 19,
   "id": "36f0f9de",
   "metadata": {},
   "outputs": [
    {
     "name": "stdout",
     "output_type": "stream",
     "text": [
      "Enter a number: 1.4\n",
      "The natural logarithm of 1.4 is: 0.3364722366212129\n"
     ]
    }
   ],
   "source": [
    "import math\n",
    "num = float(input(\"Enter a number: \"))\n",
    "if num <= 0:\n",
    "    print(\"Please enter a positive number.\")\n",
    "else:\n",
    " # Calculate the natural logarithm (base e) of the number\n",
    "    result = math.log(num)\n",
    "    print(f\"The natural logarithm of {num} is: {result}\")"
   ]
  }
 ],
 "metadata": {
  "kernelspec": {
   "display_name": "Python 3 (ipykernel)",
   "language": "python",
   "name": "python3"
  },
  "language_info": {
   "codemirror_mode": {
    "name": "ipython",
    "version": 3
   },
   "file_extension": ".py",
   "mimetype": "text/x-python",
   "name": "python",
   "nbconvert_exporter": "python",
   "pygments_lexer": "ipython3",
   "version": "3.9.12"
  }
 },
 "nbformat": 4,
 "nbformat_minor": 5
}
