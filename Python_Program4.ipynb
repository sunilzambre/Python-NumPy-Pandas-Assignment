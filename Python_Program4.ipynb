{
 "cells": [
  {
   "cell_type": "raw",
   "id": "35b264a5",
   "metadata": {},
   "source": [
    "###### def cube_sum_of_natural_numbers(n):\n",
    "    if n <= 0:\n",
    "        return 0\n",
    "    else:\n",
    "        total = sum([i**3 for i in range(1, n + 1)])\n",
    "        return total\n",
    "# Input the number of natural numbers\n",
    "n = int(input(\"Enter the value of n: \"))\n",
    "if n <= 0:\n",
    "    print(\"Please enter a positive integer.\")\n",
    "else:\n",
    "    result = cube_sum_of_natural_numbers(n)\n",
    "    print(f\"The cube sum of the first {n} natural numbers is: {result}\")"
   ]
  },
  {
   "cell_type": "raw",
   "id": "ad91ceeb",
   "metadata": {},
   "source": [
    "# Function to add two matrices\n",
    "def add_matrices(mat1, mat2):\n",
    "    # Check if the matrices have the same dimensions\n",
    "    if len(mat1) != len(mat2) or len(mat1[0]) != len(mat2[0]):\n",
    "        return \"Matrices must have the same dimensions for addition\"\n",
    "   # Initialize an empty result matrix with the same dimensions\n",
    "        result = []\n",
    "    for i in range(len(mat1)):\n",
    "        row = []\n",
    "        for j in range(len(mat1[0])):\n",
    "            row.append(mat1[i][j] + mat2[i][j])\n",
    "        result.append(row)\n",
    "    return result\n",
    "# Input matrices\n",
    "matrix1 = [\n",
    " [1, 2, 3],\n",
    " [4, 5, 6],\n",
    " [7, 8, 9]\n",
    "]\n",
    "matrix2 = [\n",
    " [9, 8, 7],\n",
    " [6, 5, 4],\n",
    " [3, 2, 1]\n",
    "]\n",
    "# Call the add_matrices function\n",
    "result_matrix = add_matrices(matrix1, matrix2)\n",
    "# Display the result\n",
    "if isinstance(result_matrix, str):\n",
    " print(result_matrix)\n",
    "else:\n",
    " print(\"Sum of matrices:\")\n",
    " for row in result_matrix:\n",
    " print(row)"
   ]
  },
  {
   "cell_type": "markdown",
   "id": "aebd5646",
   "metadata": {},
   "source": [
    "### Program 32\n",
    "### Write a Python Program to find sum of array.\n",
    "- In Python, an array is a data structure used to store a collection of elements, each identified by an index or a key. - -- Unlike some other programming languages, Python does not have a built-in array type. Instead, the most commonly used       array-like data structure is the list.\n",
    "- A list in Python is a dynamic array, meaning it can change in size during runtime. Elements in a list can be of different   data types, and you can perform various operations such as adding, removing, or modifying elements. Lists are defined       using square brackets [] and can be indexed and sliced to access specific elements or sublists.\n",
    "    - Example of a simple list in Python:\n",
    "    - my_list = [1, 2, 3, 4, 5]\n",
    "- This list can be accessed and manipulated using various built-in functions and methods in Python."
   ]
  },
  {
   "cell_type": "code",
   "execution_count": 5,
   "id": "85bc323a",
   "metadata": {},
   "outputs": [
    {
     "name": "stdout",
     "output_type": "stream",
     "text": [
      "Sum of the array is  10\n"
     ]
    }
   ],
   "source": [
    "# Finding Sum of Array Using sum()\n",
    "arr = [1,2,3,4]\n",
    "ans = sum(arr)\n",
    "print('Sum of the array is ', ans)"
   ]
  },
  {
   "cell_type": "code",
   "execution_count": 6,
   "id": "e5198cd5",
   "metadata": {},
   "outputs": [
    {
     "name": "stdout",
     "output_type": "stream",
     "text": [
      "Sum of the array: 10\n"
     ]
    }
   ],
   "source": [
    "# Function to find the sum of elements in an array\n",
    "def sum_of_array(arr):\n",
    "    total = 0 # Initialize a variable to store the sum\n",
    "    for element in arr:\n",
    "        total += element # Add each element to the total\n",
    "    return total\n",
    "# Example usage:\n",
    "array = [1, 2, 3, 4]\n",
    "result = sum_of_array(array)\n",
    "print(\"Sum of the array:\", result)"
   ]
  },
  {
   "cell_type": "markdown",
   "id": "c579af27",
   "metadata": {},
   "source": [
    "## Program 33\n",
    "### Write a Python Program to find largest element in an array."
   ]
  },
  {
   "cell_type": "code",
   "execution_count": 9,
   "id": "9ebfe788",
   "metadata": {},
   "outputs": [
    {
     "name": "stdout",
     "output_type": "stream",
     "text": [
      "The largest element in the array is: 114\n"
     ]
    }
   ],
   "source": [
    "def find_largest_element(arr):\n",
    "    if not arr:\n",
    "        return \"Array is empty\"\n",
    "    # Initialize the first element as the largest\n",
    "    largest_element = arr[0]\n",
    "    # Iterate through the array to find the largest element\n",
    "    for element in arr:\n",
    "        if element > largest_element:\n",
    "            largest_element = element\n",
    "    return largest_element\n",
    "# Example usage:\n",
    "my_array = [10, 20, 30, 99,1,89,109,114,104]\n",
    "result = find_largest_element(my_array)\n",
    "print(f\"The largest element in the array is: {result}\")"
   ]
  },
  {
   "cell_type": "markdown",
   "id": "85f322a3",
   "metadata": {},
   "source": [
    "# Program 34\n",
    "### Write a Python Program for array rotation"
   ]
  },
  {
   "cell_type": "code",
   "execution_count": 10,
   "id": "de3d25bd",
   "metadata": {},
   "outputs": [
    {
     "name": "stdout",
     "output_type": "stream",
     "text": [
      "Original Array: [1, 2, 3, 4, 5]\n",
      "Rotated Array: [3, 4, 5, 1, 2]\n"
     ]
    }
   ],
   "source": [
    "def rotate_array(arr, d):\n",
    "    n = len(arr)\n",
    "    # Check if 'd' is valid, it should be within the range of array length\n",
    "    if d < 0 or d >= n:\n",
    "        return \"Invalid rotation value\"\n",
    "    # Create a new array to store the rotated elements.\n",
    "    rotated_arr = [0] * n\n",
    " \n",
    " # Perform the rotation.\n",
    "    for i in range(n):\n",
    "        rotated_arr[i] = arr[(i + d) % n]\n",
    " \n",
    "    return rotated_arr\n",
    "# Input array\n",
    "arr = [1, 2, 3, 4, 5]\n",
    "# Number of positions to rotate\n",
    "d = 2\n",
    "# Call the rotate_array function\n",
    "result = rotate_array(arr, d)\n",
    "# Print the rotated array\n",
    "print(\"Original Array:\", arr)\n",
    "print(\"Rotated Array:\", result)\n"
   ]
  },
  {
   "cell_type": "markdown",
   "id": "ba812018",
   "metadata": {},
   "source": [
    "## Program 35\n",
    "#### Write a Python Program to Split the array and add the first part to the end?"
   ]
  },
  {
   "cell_type": "code",
   "execution_count": 11,
   "id": "cd7be562",
   "metadata": {},
   "outputs": [
    {
     "name": "stdout",
     "output_type": "stream",
     "text": [
      "Original Array: [1, 2, 3, 4, 5]\n",
      "Array after splitting and adding: [4, 5, 1, 2, 3]\n"
     ]
    }
   ],
   "source": [
    "def split_and_add(arr, k):\n",
    "    if k <= 0 or k >= len(arr):\n",
    "        return arr \n",
    "    # Split the array into two parts\n",
    "    first_part = arr[:k]\n",
    "    second_part = arr[k:]\n",
    "    # Add the first part to the end of the second part\n",
    "    result = second_part + first_part\n",
    "    return result\n",
    "# Test the function\n",
    "arr = [1, 2, 3, 4, 5]\n",
    "k = 3\n",
    "result = split_and_add(arr, k)\n",
    "print(\"Original Array:\", arr)\n",
    "print(\"Array after splitting and adding:\", result)"
   ]
  },
  {
   "cell_type": "markdown",
   "id": "2b0cbd3f",
   "metadata": {},
   "source": [
    "## Program 36\n",
    "#### Write a Python Program to check if given array is Monotonic.\n",
    "    - A monotonic array is one that is entirely non-increasing or non-decreasing."
   ]
  },
  {
   "cell_type": "code",
   "execution_count": 12,
   "id": "413c5ea7",
   "metadata": {},
   "outputs": [
    {
     "name": "stdout",
     "output_type": "stream",
     "text": [
      "arr1 is monotonic: True\n",
      "arr2 is monotonic: True\n",
      "arr3 is monotonic: False\n"
     ]
    }
   ],
   "source": [
    "def is_monotonic(arr):\n",
    "    increasing = decreasing = True\n",
    "    for i in range(1, len(arr)):\n",
    "        if arr[i] > arr[i - 1]:\n",
    "            decreasing = False\n",
    "        elif arr[i] < arr[i - 1]:\n",
    "            increasing = False\n",
    "    return increasing or decreasing\n",
    "\n",
    "# Test the function\n",
    "arr1 = [1, 2, 2, 3] # Monotonic (non-decreasing)\n",
    "arr2 = [3, 2, 1] # Monotonic (non-increasing)\n",
    "arr3 = [1, 3, 2, 4] # Not monotonic\n",
    "\n",
    "print(\"arr1 is monotonic:\", is_monotonic(arr1))\n",
    "print(\"arr2 is monotonic:\", is_monotonic(arr2))\n",
    "print(\"arr3 is monotonic:\", is_monotonic(arr3))"
   ]
  },
  {
   "cell_type": "markdown",
   "id": "0189581a",
   "metadata": {},
   "source": [
    "## Program 37\n",
    "#### Write a Python Program to Add Two Matrices."
   ]
  },
  {
   "cell_type": "code",
   "execution_count": 18,
   "id": "06559ac8",
   "metadata": {},
   "outputs": [
    {
     "name": "stdout",
     "output_type": "stream",
     "text": [
      "Sum of matrices:\n",
      "[10, 10, 10]\n",
      "[10, 10, 10]\n",
      "[10, 10, 10]\n"
     ]
    }
   ],
   "source": [
    "# Function to add two matrices\n",
    "def add_matrices(mat1, mat2):\n",
    "    # Check if the matrices have the same dimensions\n",
    "    if len(mat1) != len(mat2) or len(mat1[0]) != len(mat2[0]):\n",
    "        return \"Matrices must have the same dimensions for addition\"\n",
    " \n",
    "     # Initialize an empty result matrix with the same dimensions\n",
    "    result = []\n",
    "    for i in range(len(mat1)):\n",
    "        row = []\n",
    "        for j in range(len(mat1[0])):\n",
    "                row.append(mat1[i][j] + mat2[i][j])\n",
    "        result.append(row)\n",
    "    return result\n",
    "# Input matrices\n",
    "matrix1 = [[1, 2, 3],\n",
    "           [4, 5, 6],\n",
    "           [7, 8, 9] ]\n",
    "matrix2 = [ [9, 8, 7],\n",
    "            [6, 5, 4],\n",
    "            [3, 2, 1] ]\n",
    "# Call the add_matrices function\n",
    "result_matrix = add_matrices(matrix1, matrix2)\n",
    "# Display the result\n",
    "if isinstance(result_matrix, str):\n",
    "    print(result_matrix)\n",
    "else:\n",
    "    print(\"Sum of matrices:\")\n",
    "    for row in result_matrix:\n",
    "        print(row)"
   ]
  },
  {
   "cell_type": "markdown",
   "id": "ac9d73e0",
   "metadata": {},
   "source": [
    "# Program 38\n",
    "#### Write a Python Program to Multiply Two Matrices."
   ]
  },
  {
   "cell_type": "code",
   "execution_count": 25,
   "id": "92918c52",
   "metadata": {},
   "outputs": [
    {
     "name": "stdout",
     "output_type": "stream",
     "text": [
      "Result of matrix multiplication:\n",
      "[58, 64]\n",
      "[139, 154]\n"
     ]
    }
   ],
   "source": [
    "# Function to multiply two matrices\n",
    "def multiply_matrices(mat1, mat2):\n",
    " # Determine the dimensions of the input matrices\n",
    "    rows1 = len(mat1)\n",
    "    cols1 = len(mat1[0])\n",
    "    rows2 = len(mat2)\n",
    "    cols2 = len(mat2[0])\n",
    "   # Check if multiplication is possible\n",
    "    if cols1 != rows2:\n",
    "        return \"Matrix multiplication is not possible. Number of column\"\n",
    " # Initialize the result matrix with zeros\n",
    "    result = [[0 for _ in range(cols2)] for _ in range(rows1)]\n",
    " # Perform matrix multiplication\n",
    "    for i in range(rows1):\n",
    "        for j in range(cols2):\n",
    "            for k in range(cols1):\n",
    "                result[i][j] += mat1[i][k] * mat2[k][j]\n",
    "    return result\n",
    "# Example matrices\n",
    "matrix1 = [[1, 2, 3],\n",
    "           [4, 5, 6]]\n",
    "matrix2 = [[7, 8],\n",
    "           [9, 10],\n",
    "           [11, 12]]\n",
    "# Multiply the matrices\n",
    "result_matrix = multiply_matrices(matrix1, matrix2)\n",
    "# Display the result\n",
    "if isinstance(result_matrix, str):\n",
    "    print(result_matrix)\n",
    "else:\n",
    "    print(\"Result of matrix multiplication:\")\n",
    "    for row in result_matrix:\n",
    "        print(row)"
   ]
  },
  {
   "cell_type": "markdown",
   "id": "fea2739f",
   "metadata": {},
   "source": [
    "## Program 39\n",
    "#### Write a Python Program to Transpose a Matrix."
   ]
  },
  {
   "cell_type": "code",
   "execution_count": 26,
   "id": "0bd08cf5",
   "metadata": {},
   "outputs": [
    {
     "name": "stdout",
     "output_type": "stream",
     "text": [
      "[1, 4]\n",
      "[2, 5]\n",
      "[3, 6]\n"
     ]
    }
   ],
   "source": [
    "# Function to transpose a matrix\n",
    "def transpose_matrix(matrix):\n",
    "    rows, cols = len(matrix), len(matrix[0])\n",
    "    # Create an empty matrix to store the transposed data\n",
    "    result = [[0 for _ in range(rows)] for _ in range(cols)]\n",
    "    for i in range(rows):\n",
    "        for j in range(cols):\n",
    "            result[j][i] = matrix[i][j]\n",
    "    return result\n",
    "# Input matrix\n",
    "matrix = [[1, 2, 3],\n",
    "          [4, 5, 6]]\n",
    "# Transpose the matrix\n",
    "transposed_matrix = transpose_matrix(matrix)\n",
    "# Print the transposed matrix\n",
    "for row in transposed_matrix:\n",
    "    print(row)"
   ]
  },
  {
   "cell_type": "markdown",
   "id": "76caead9",
   "metadata": {},
   "source": [
    "## Program 40\n",
    "#### Write a Python Program to Sort Words in Alphabetic Order."
   ]
  },
  {
   "cell_type": "code",
   "execution_count": 27,
   "id": "05895573",
   "metadata": {},
   "outputs": [
    {
     "name": "stdout",
     "output_type": "stream",
     "text": [
      "Enter a string: Sunil Anil Sachin Dipak Sharvil Swaraj Swara Kavya Tanvi\n",
      "The sorted words are:\n",
      "Anil\n",
      "Dipak\n",
      "Kavya\n",
      "Sachin\n",
      "Sharvil\n",
      "Sunil\n",
      "Swara\n",
      "Swaraj\n",
      "Tanvi\n"
     ]
    }
   ],
   "source": [
    "# Program to sort alphabetically the words form a string provided by th\n",
    "my_str = input(\"Enter a string: \")\n",
    "# breakdown the string into a list of words\n",
    "words = [word.capitalize() for word in my_str.split()]\n",
    "# sort the list\n",
    "words.sort()\n",
    "# display the sorted words\n",
    "print(\"The sorted words are:\")\n",
    "for word in words:\n",
    "    print(word)"
   ]
  },
  {
   "cell_type": "code",
   "execution_count": null,
   "id": "4bc69e65",
   "metadata": {},
   "outputs": [],
   "source": []
  }
 ],
 "metadata": {
  "kernelspec": {
   "display_name": "Python 3 (ipykernel)",
   "language": "python",
   "name": "python3"
  },
  "language_info": {
   "codemirror_mode": {
    "name": "ipython",
    "version": 3
   },
   "file_extension": ".py",
   "mimetype": "text/x-python",
   "name": "python",
   "nbconvert_exporter": "python",
   "pygments_lexer": "ipython3",
   "version": "3.9.12"
  }
 },
 "nbformat": 4,
 "nbformat_minor": 5
}
