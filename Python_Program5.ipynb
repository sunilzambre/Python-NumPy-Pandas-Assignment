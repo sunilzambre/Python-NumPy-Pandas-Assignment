{
 "cells": [
  {
   "cell_type": "markdown",
   "id": "5cb1e747",
   "metadata": {},
   "source": [
    "# Program 41\n",
    "#### Write a Python Program to Remove Punctuation From a String."
   ]
  },
  {
   "cell_type": "code",
   "execution_count": 1,
   "id": "7573c80d",
   "metadata": {},
   "outputs": [
    {
     "name": "stdout",
     "output_type": "stream",
     "text": [
      "Enter a string: Hello Sunil !@#$% **** .... How are you.?\n",
      "Hello Sunil    How are you\n"
     ]
    }
   ],
   "source": [
    "# define punctuation\n",
    "punctuations = '''!()-[]{};:'\"\\,<>./?@#$%^&*_~'''\n",
    "# To take input from the user\n",
    "my_str = input(\"Enter a string: \")\n",
    "# remove punctuation from the string\n",
    "no_punct = \"\"\n",
    "for char in my_str:\n",
    "    if char not in punctuations:\n",
    "        no_punct = no_punct + char\n",
    "# display the unpunctuated string\n",
    "print(no_punct)"
   ]
  },
  {
   "cell_type": "markdown",
   "id": "42a59070",
   "metadata": {},
   "source": [
    "# Program 42\n",
    "### Write a Python program to check if the given number is a Disarium Number.\n",
    "- A Disarium number is a number that is equal to the sum of its digits each raised to the power of its respective position.<br>  - For example, 89 is a Disarium number because\n",
    "- 8^1 + 9^2 = 8 + 81 = 89"
   ]
  },
  {
   "cell_type": "code",
   "execution_count": 3,
   "id": "1c58235b",
   "metadata": {},
   "outputs": [
    {
     "name": "stdout",
     "output_type": "stream",
     "text": [
      "Enter a number: 89\n",
      "89 is a Disarium number.\n"
     ]
    }
   ],
   "source": [
    "def is_disarium(number):\n",
    "    num_str = str(number)  # Convert the number to a string to iterate over its digits\n",
    "    # Calculate the sum of digits raised to their respective positions\n",
    "    digit_sum = sum(int(digit) ** (index + 1) for index, digit in enumerate(num_str))\n",
    "    # Check if the sum is equal to the original number\n",
    "    return digit_sum == number\n",
    "\n",
    "# Input a number from the user\n",
    "try:\n",
    "    num = int(input(\"Enter a number: \"))\n",
    "    # Check if it's a Disarium number\n",
    "    if is_disarium(num):\n",
    "        print(f\"{num} is a Disarium number.\")\n",
    "    else:\n",
    "        print(f\"{num} is not a Disarium number.\")\n",
    "except ValueError:\n",
    "    print(\"Invalid input. Please enter a valid number.\")"
   ]
  },
  {
   "cell_type": "markdown",
   "id": "8b9c6a9c",
   "metadata": {},
   "source": [
    "# Program 43\n",
    "#### Write a Python program to print all disarium numbers between 1 to 100."
   ]
  },
  {
   "cell_type": "code",
   "execution_count": 4,
   "id": "c544df70",
   "metadata": {},
   "outputs": [
    {
     "name": "stdout",
     "output_type": "stream",
     "text": [
      "Disarium numbers between 1 and 100:\n",
      "1 | 2 | 3 | 4 | 5 | 6 | 7 | 8 | 9 | 89 | "
     ]
    }
   ],
   "source": [
    "def is_disarium(num):\n",
    "    num_str = str(num)\n",
    "    digit_sum = sum(int(i) ** (index + 1) for index, i in enumerate(num_str))\n",
    "    return num == digit_sum\n",
    "\n",
    "disarium_numbers = [num for num in range(1, 101) if is_disarium(num)]\n",
    "\n",
    "print(\"Disarium numbers between 1 and 100:\")\n",
    "for num in disarium_numbers:\n",
    "    print(num, end=\" | \")"
   ]
  },
  {
   "cell_type": "markdown",
   "id": "f24b5730",
   "metadata": {},
   "source": [
    "# Program 44\n",
    "#### Write a Python program to check if the given number is Happy Number.\n",
    "- Happy Number: A Happy Number is a positive integer that, when you repeatedly replace the number by the sum of the squares   of its digits and continue the process, eventually reaches 1. If the process never reaches 1 but instead loops endlessly   in a cycle, the number is not a Happy Number.\n",
    "  -  For example:\n",
    "  -  19 is a Happy Number because: The process reaches 1, so 19 is a Happy Number."
   ]
  },
  {
   "cell_type": "code",
   "execution_count": 5,
   "id": "29c73662",
   "metadata": {},
   "outputs": [
    {
     "name": "stdout",
     "output_type": "stream",
     "text": [
      "Enter a number: 23\n",
      "23 is a Happy Number\n"
     ]
    }
   ],
   "source": [
    "def is_happy_number(num):\n",
    "    seen = set() # To store previously seen numbers\n",
    " \n",
    "    while num != 1 and num not in seen:\n",
    "        seen.add(num)\n",
    "        num = sum(int(i) ** 2 for i in str(num))\n",
    "    return num == 1\n",
    "# Test the function with a number\n",
    "num = int(input(\"Enter a number: \"))\n",
    "if is_happy_number(num):\n",
    "    print(f\"{num} is a Happy Number\")\n",
    "else:\n",
    "    print(f\"{num} is not a Happy Number\")"
   ]
  },
  {
   "cell_type": "markdown",
   "id": "7ab16657",
   "metadata": {},
   "source": [
    "# Program 45\n",
    "#### Write a Python program to print all happy numbers between 1 and 100."
   ]
  },
  {
   "cell_type": "code",
   "execution_count": 6,
   "id": "835ec327",
   "metadata": {},
   "outputs": [
    {
     "name": "stdout",
     "output_type": "stream",
     "text": [
      "Happy Numbers between 1 and 100:\n",
      "[1, 7, 10, 13, 19, 23, 28, 31, 32, 44, 49, 68, 70, 79, 82, 86, 91, 94, 97, 100]\n"
     ]
    }
   ],
   "source": [
    "def is_happy_number(num):\n",
    "    seen = set()\n",
    "\n",
    "    while num != 1 and num not in seen:\n",
    "        seen.add(num)\n",
    "        num = sum(int(i) ** 2 for i in str(num))\n",
    "    return num == 1\n",
    "\n",
    "happy_numbers = [num for num in range(1, 101) if is_happy_number(num)]\n",
    "\n",
    "print(\"Happy Numbers between 1 and 100:\")\n",
    "print(happy_numbers)"
   ]
  },
  {
   "cell_type": "markdown",
   "id": "c502481a",
   "metadata": {},
   "source": [
    "# Program 46\n",
    "#### Write a Python program to determine whether the given number is a Harshad Number.\n",
    "- A Harshad number (or Niven number) is an integer that is divisible by the sum of its digits.\n",
    "- In other words, a number is considered a Harshad number if it can be evenly divided by the\n",
    "- sum of its own digits.\n",
    "  - For example:\n",
    "  - 18 is a Harshad number because , and 18 is divisible by 9\n",
    "  - 42 is not a Harshad number because , and 42 is not divisible by 6."
   ]
  },
  {
   "cell_type": "code",
   "execution_count": 7,
   "id": "8bfc3e97",
   "metadata": {},
   "outputs": [
    {
     "name": "stdout",
     "output_type": "stream",
     "text": [
      "Enter a number: 18\n",
      "18 is a Harshad Number.\n"
     ]
    }
   ],
   "source": [
    "def is_harshad_number(num):\n",
    "    # Calculate the sum of the digits of the number\n",
    "    digit_sum = sum(int(i) for i in str(num))\n",
    "    # Check if the number is divisible by the sum of its digits\n",
    "    return num % digit_sum == 0\n",
    "\n",
    "# Input a number with error handling\n",
    "try:\n",
    "    num = int(input(\"Enter a number: \"))\n",
    "    # Check if it's a Harshad Number\n",
    "    if is_harshad_number(num):\n",
    "        print(f\"{num} is a Harshad Number.\")\n",
    "    else:\n",
    "        print(f\"{num} is not a Harshad Number.\")\n",
    "except ValueError:\n",
    "    print(\"Invalid input. Please enter a valid number.\")"
   ]
  },
  {
   "cell_type": "markdown",
   "id": "0db36784",
   "metadata": {},
   "source": [
    "# Program 47\n",
    "#### Write a Python program to print all pronic numbers between 1 and 100.\n",
    "- A pronic number, also known as an oblong number or rectangular number, is a type of figurate number that represents a       rectangle. It is the product of two consecutive integers, n and (n + 1). Mathematically, a pronic number can be expressed   as: For example, the first few pronic numbers are: <br>\n",
    "  𝑃 = 𝑛 ∗ (𝑛 + 1) 𝑛 <br>\n",
    "  𝑃1 = 1 ∗ (1 + 1) = 2 <br>\n",
    "  𝑃2 = 2 ∗ (2 + 1) = 6 <br>\n",
    "  𝑃3 = 3 ∗ (3 + 1) = 12 <br>\n",
    "  𝑃4 = 4 ∗ (4 + 1) = 20 <br>"
   ]
  },
  {
   "cell_type": "code",
   "execution_count": 8,
   "id": "1e72364b",
   "metadata": {},
   "outputs": [
    {
     "name": "stdout",
     "output_type": "stream",
     "text": [
      "Pronic numbers between 1 and 100 are:\n",
      "2 | 6 | 12 | 20 | 30 | 42 | 56 | 72 | 90 | \n"
     ]
    }
   ],
   "source": [
    "def is_pronic_number(num):\n",
    "    for n in range(1, int(num**0.5) + 1):\n",
    "        if n * (n + 1) == num:\n",
    "            return True\n",
    "    return False\n",
    "\n",
    "print(\"Pronic numbers between 1 and 100 are:\")\n",
    "for i in range(1, 101):\n",
    "    if is_pronic_number(i):\n",
    "        print(i, end=\" | \")\n",
    "\n",
    "# Add a newline for better output readability\n",
    "print()"
   ]
  },
  {
   "cell_type": "markdown",
   "id": "840be013",
   "metadata": {},
   "source": [
    "# Program 48\n",
    "#### Write a Python program to find sum of elements in list"
   ]
  },
  {
   "cell_type": "code",
   "execution_count": 9,
   "id": "f4b2574e",
   "metadata": {},
   "outputs": [
    {
     "name": "stdout",
     "output_type": "stream",
     "text": [
      "Sum of elements in the list: 150\n"
     ]
    }
   ],
   "source": [
    "# Sample list of numbers\n",
    "numbers = [10, 20, 30, 40, 50]\n",
    "# Initialize a variable to store the sum\n",
    "sum_of_numbers = 0\n",
    "# Iterate through the list and accumulate the sum\n",
    "for i in numbers:\n",
    "    sum_of_numbers += i\n",
    "# Print the sum\n",
    "print(\"Sum of elements in the list:\", sum_of_numbers)"
   ]
  },
  {
   "cell_type": "markdown",
   "id": "bc34cc91",
   "metadata": {},
   "source": [
    "# Program 49\n",
    "#### Write a Python program to Multiply all numbers in the list."
   ]
  },
  {
   "cell_type": "code",
   "execution_count": 10,
   "id": "0cfbe48b",
   "metadata": {},
   "outputs": [
    {
     "name": "stdout",
     "output_type": "stream",
     "text": [
      "Product of elements in the list: 12000000\n"
     ]
    }
   ],
   "source": [
    "# Sample list of numbers\n",
    "numbers = [10, 20, 30, 40, 50]\n",
    "# Initialize a variable to store the product\n",
    "product_of_numbers = 1\n",
    "# Iterate through the list and accumulate the product\n",
    "for i in numbers:\n",
    "    product_of_numbers *= i\n",
    "# Print the product\n",
    "print(\"Product of elements in the list:\", product_of_numbers)"
   ]
  },
  {
   "cell_type": "markdown",
   "id": "748fc3a9",
   "metadata": {},
   "source": [
    "# Program 50\n",
    "#### Write a Python program to find smallest number in a list."
   ]
  },
  {
   "cell_type": "code",
   "execution_count": 11,
   "id": "83e62c06",
   "metadata": {},
   "outputs": [
    {
     "name": "stdout",
     "output_type": "stream",
     "text": [
      "The smallest number in the list is: -45\n"
     ]
    }
   ],
   "source": [
    "# Sample list of numbers\n",
    "numbers = [30, 10, -45, 5, 20]\n",
    "# Initialize a variable to store the minimum value, initially set to the first element\n",
    "minimum = numbers[0]\n",
    "# Iterate through the list and update the minimum value if a smaller number is found\n",
    "for i in numbers:\n",
    "    if i < minimum:\n",
    "        minimum = i\n",
    "# Print the minimum value\n",
    "print(\"The smallest number in the list is:\", minimum)"
   ]
  }
 ],
 "metadata": {
  "kernelspec": {
   "display_name": "Python 3 (ipykernel)",
   "language": "python",
   "name": "python3"
  },
  "language_info": {
   "codemirror_mode": {
    "name": "ipython",
    "version": 3
   },
   "file_extension": ".py",
   "mimetype": "text/x-python",
   "name": "python",
   "nbconvert_exporter": "python",
   "pygments_lexer": "ipython3",
   "version": "3.9.12"
  }
 },
 "nbformat": 4,
 "nbformat_minor": 5
}
