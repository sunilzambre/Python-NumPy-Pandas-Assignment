{
 "cells": [
  {
   "cell_type": "markdown",
   "id": "8e63270e",
   "metadata": {},
   "source": [
    "# Program 51\n",
    "#### Write a Python program to find largest number in a list."
   ]
  },
  {
   "cell_type": "code",
   "execution_count": 2,
   "id": "061ca9b5",
   "metadata": {},
   "outputs": [
    {
     "name": "stdout",
     "output_type": "stream",
     "text": [
      "The largest number in the list is: 30\n"
     ]
    }
   ],
   "source": [
    "# Sample list of numbers\n",
    "numbers = [30, 10, -45, 5, 20,-2,-37]\n",
    "# Initialize a variable to store the minimum value.\n",
    "minimum = numbers[0]\n",
    "# Iterate through the list and update the minimum value if a smaller number\n",
    "for i in numbers:\n",
    "    if i > minimum:\n",
    "        minimum = i\n",
    "# Print the minimum value\n",
    "print(\"The largest number in the list is:\", minimum)"
   ]
  },
  {
   "cell_type": "markdown",
   "id": "dce03d86",
   "metadata": {},
   "source": [
    "# Program 52\n",
    "#### Write a Python program to find second largest number in a list."
   ]
  },
  {
   "cell_type": "code",
   "execution_count": 3,
   "id": "43ac4e88",
   "metadata": {},
   "outputs": [
    {
     "name": "stdout",
     "output_type": "stream",
     "text": [
      "The second largest number in the list is: 30\n"
     ]
    }
   ],
   "source": [
    "# Sample list of numbers\n",
    "numbers = [30, 10, 45, 5, 20]\n",
    "# Sort the list in descending order\n",
    "numbers.sort(reverse=True)\n",
    "# Check if there are at least two elements in the list\n",
    "if len(numbers) >= 2:\n",
    "    second_largest = numbers[1]\n",
    "    print(\"The second largest number in the list is:\", second_largest)\n",
    "else:\n",
    "    print(\"The list does not contain a second largest number.\")"
   ]
  },
  {
   "cell_type": "markdown",
   "id": "d42826e2",
   "metadata": {},
   "source": [
    "# Program 53\n",
    "#### Write a Python program to find N largest elements from a list."
   ]
  },
  {
   "cell_type": "code",
   "execution_count": 4,
   "id": "e75d0e2f",
   "metadata": {},
   "outputs": [
    {
     "name": "stdout",
     "output_type": "stream",
     "text": [
      "N = 3\n",
      "The 3 largest elements in the list are: [345, 101, 100]\n"
     ]
    }
   ],
   "source": [
    "def find_n_largest_elements(lst, n):\n",
    "    # Sort the list in descending order\n",
    "    sorted_lst = sorted(lst, reverse=True)\n",
    " \n",
    "     # Get the first N elements\n",
    "    largest_elements = sorted_lst[:n]\n",
    " \n",
    "    return largest_elements\n",
    "# Sample list of numbers\n",
    "numbers = [30, 10, 45, 5, 20, 50, 15, 3, 345, 54, 67, 87, 98, 100, 34, 101]\n",
    "# Number of largest elements to find\n",
    "N = int(input(\"N = \" ))\n",
    "# Find the N largest elements from the list\n",
    "result = find_n_largest_elements(numbers, N)\n",
    "# Print the N largest elements\n",
    "print(f\"The {N} largest elements in the list are:\", result)"
   ]
  },
  {
   "cell_type": "markdown",
   "id": "539ed1f1",
   "metadata": {},
   "source": [
    "# Program 54\n",
    "#### Write a Python program to print even numbers in a list by using a list comprehension to filter even numbers"
   ]
  },
  {
   "cell_type": "code",
   "execution_count": 5,
   "id": "d5e1e9e7",
   "metadata": {},
   "outputs": [
    {
     "name": "stdout",
     "output_type": "stream",
     "text": [
      "Even numbers in the list: [2, 4, 6, 8, 10]\n"
     ]
    }
   ],
   "source": [
    "# Sample list of numbers\n",
    "numbers = [1, 2, 3, 4, 5, 6, 7, 8, 9, 10]\n",
    "even_numbers = [num for num in numbers if num % 2 == 0]\n",
    "# Print the even numbers\n",
    "print(\"Even numbers in the list:\", even_numbers)"
   ]
  },
  {
   "cell_type": "markdown",
   "id": "1b958a30",
   "metadata": {},
   "source": [
    "# Program 55\n",
    "#### Write a Python program to print odd numbers in a List  by using a list comprehension to filter even numbers"
   ]
  },
  {
   "cell_type": "code",
   "execution_count": 6,
   "id": "a5f33768",
   "metadata": {},
   "outputs": [
    {
     "name": "stdout",
     "output_type": "stream",
     "text": [
      "Odd numbers in the list: [1, 3, 5, 7, 9]\n"
     ]
    }
   ],
   "source": [
    "# Sample list of numbers\n",
    "numbers = [1, 2, 3, 4, 5, 6, 7, 8, 9, 10]\n",
    "even_numbers = [num for num in numbers if num % 2 != 0]\n",
    "# Print the even numbers\n",
    "print(\"Odd numbers in the list:\", even_numbers)"
   ]
  },
  {
   "cell_type": "markdown",
   "id": "7e75926b",
   "metadata": {},
   "source": [
    "# Program 56\n",
    "#### Write a Python program to Remove empty List from List by using a list comprehension to remove empty lists."
   ]
  },
  {
   "cell_type": "code",
   "execution_count": 7,
   "id": "027bf691",
   "metadata": {},
   "outputs": [
    {
     "name": "stdout",
     "output_type": "stream",
     "text": [
      "List after removing empty lists: [[1, 2, 3], [4, 5], [6, 7, 8]]\n"
     ]
    }
   ],
   "source": [
    "# Sample list containing lists\n",
    "list_of_lists = [[1, 2, 3], [], [4, 5], [], [6, 7, 8], []]\n",
    "filtered_list = [i for i in list_of_lists if i]\n",
    "# Print the filtered list\n",
    "print(\"List after removing empty lists:\", filtered_list)"
   ]
  },
  {
   "cell_type": "markdown",
   "id": "11aec633",
   "metadata": {},
   "source": [
    "# Program 57\n",
    "#### Write a Python program to Cloning or Copying a list using slice operator."
   ]
  },
  {
   "cell_type": "code",
   "execution_count": 8,
   "id": "76899dc0",
   "metadata": {},
   "outputs": [
    {
     "name": "stdout",
     "output_type": "stream",
     "text": [
      "[1, 2, 3, 4, 5]\n"
     ]
    }
   ],
   "source": [
    "original_list = [1, 2, 3, 4, 5]\n",
    "cloned_list = original_list[:]\n",
    "print(cloned_list)"
   ]
  },
  {
   "cell_type": "markdown",
   "id": "5d80740a",
   "metadata": {},
   "source": [
    "# Program 58\n",
    "#### Write a Python program to Cloning or Copying a list using slice operator using the list() constructor."
   ]
  },
  {
   "cell_type": "code",
   "execution_count": 10,
   "id": "afae7f44",
   "metadata": {},
   "outputs": [
    {
     "name": "stdout",
     "output_type": "stream",
     "text": [
      "[1, 2, 3, 4, 5]\n"
     ]
    }
   ],
   "source": [
    "original_list = [1, 2, 3, 4, 5]\n",
    "cloned_list = list(original_list)\n",
    "print(cloned_list)"
   ]
  },
  {
   "cell_type": "markdown",
   "id": "e1774db0",
   "metadata": {},
   "source": [
    "# Program 59\n",
    "#### Write a Python program to Count occurrences of an element in a list."
   ]
  },
  {
   "cell_type": "code",
   "execution_count": 12,
   "id": "57b57b55",
   "metadata": {},
   "outputs": [
    {
     "name": "stdout",
     "output_type": "stream",
     "text": [
      "The element 2 appears 3 times in the list.\n"
     ]
    }
   ],
   "source": [
    "def count_occurrences(l, element):\n",
    "    count = l.count(element)\n",
    "    return count\n",
    "# Example usage:\n",
    "my_list = [1, 2, 3, 4, 2, 5, 2, 3, 4, 6, 5]\n",
    "element_to_count = 2\n",
    "occurrences = count_occurrences(my_list, element_to_count)\n",
    "print(f\"The element {element_to_count} appears {occurrences} times in the list.\")"
   ]
  },
  {
   "cell_type": "markdown",
   "id": "7af553d1",
   "metadata": {},
   "source": [
    "# Program 60\n",
    "#### Write a Python program to find words which are greater than given length k."
   ]
  },
  {
   "cell_type": "code",
   "execution_count": 13,
   "id": "aca5a836",
   "metadata": {},
   "outputs": [
    {
     "name": "stdout",
     "output_type": "stream",
     "text": [
      "Words longer than 5 characters: ['banana', 'cherry', 'elderberry', 'dragon fruit']\n"
     ]
    }
   ],
   "source": [
    "def find_words(words, k):\n",
    "    # Create an empty list to store words greater than k\n",
    "    result = []\n",
    "    # Iterate through each word in the list\n",
    "    for i in words:\n",
    "    # Check if the length of the i is greater than k\n",
    "        if len(i) > k:\n",
    "        # If yes, append it to the result list\n",
    "            result.append(i)\n",
    "    return result\n",
    "# Example usage\n",
    "word_list = [\"apple\", \"banana\", \"cherry\", \"date\", \"elderberry\", \"dragon fruit\"]\n",
    "k = 5\n",
    "long_words = find_words(word_list, k)\n",
    "print(f\"Words longer than {k} characters: {long_words}\")"
   ]
  }
 ],
 "metadata": {
  "kernelspec": {
   "display_name": "Python 3 (ipykernel)",
   "language": "python",
   "name": "python3"
  },
  "language_info": {
   "codemirror_mode": {
    "name": "ipython",
    "version": 3
   },
   "file_extension": ".py",
   "mimetype": "text/x-python",
   "name": "python",
   "nbconvert_exporter": "python",
   "pygments_lexer": "ipython3",
   "version": "3.9.12"
  }
 },
 "nbformat": 4,
 "nbformat_minor": 5
}
