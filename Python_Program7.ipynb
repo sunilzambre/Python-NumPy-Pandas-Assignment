{
 "cells": [
  {
   "cell_type": "markdown",
   "id": "247b3689",
   "metadata": {},
   "source": [
    "# Program 61\n",
    "#### Write a Python program for removing 𝑖 character from a string"
   ]
  },
  {
   "cell_type": "code",
   "execution_count": 1,
   "id": "9d1d1aca",
   "metadata": {},
   "outputs": [
    {
     "name": "stdout",
     "output_type": "stream",
     "text": [
      "Original String: Hello, wWorld!\n",
      "String after removing 7th character : Hello, World!\n"
     ]
    }
   ],
   "source": [
    "def remove_char(input_str, i):\n",
    " # Check if i is a valid index\n",
    "    if i < 0 or i >= len(input_str):\n",
    "        print(f\"Invalid index {i}. The string remains unchanged.\")\n",
    "        return input_str\n",
    "    # Remove the i-th character using slicing\n",
    "    result_str = input_str[:i] + input_str[i + 1:]\n",
    "    return result_str\n",
    "# Input string\n",
    "input_str = \"Hello, wWorld!\"\n",
    "i = 7 # Index of the character to remove\n",
    "# Remove the i-th character\n",
    "new_str = remove_char(input_str, i)\n",
    "print(f\"Original String: {input_str}\")\n",
    "print(f\"String after removing {i}th character : {new_str}\")"
   ]
  },
  {
   "cell_type": "markdown",
   "id": "9516b854",
   "metadata": {},
   "source": [
    "# Program 62\n",
    "#### Write a Python program to split and join a string."
   ]
  },
  {
   "cell_type": "code",
   "execution_count": 2,
   "id": "755d3cd3",
   "metadata": {},
   "outputs": [
    {
     "name": "stdout",
     "output_type": "stream",
     "text": [
      "Original String: Python program to split and join a string\n",
      "List of split Words: ['Python', 'program', 'to', 'split', 'and', 'join', 'a', 'string']\n",
      "Joined String: Python program to split and join a string\n"
     ]
    }
   ],
   "source": [
    "# Split a string into a list of words\n",
    "input_str = \"Python program to split and join a string\"\n",
    "word_list = input_str.split() # By default, split on whitespace\n",
    "# Join the list of words into a string\n",
    "separator = \" \" # specify the separator between words\n",
    "output_str = separator.join(word_list)\n",
    "# Print the results\n",
    "print(\"Original String:\", input_str)\n",
    "print(\"List of split Words:\", word_list)\n",
    "print(\"Joined String:\", output_str)"
   ]
  },
  {
   "cell_type": "markdown",
   "id": "5761d974",
   "metadata": {},
   "source": [
    "# Program 63\n",
    "#### Write a Python program to check if a given string is binary string or not."
   ]
  },
  {
   "cell_type": "code",
   "execution_count": 3,
   "id": "48522c58",
   "metadata": {},
   "outputs": [
    {
     "name": "stdout",
     "output_type": "stream",
     "text": [
      "'1001110' is a binary string.\n"
     ]
    }
   ],
   "source": [
    "def is_binary_str(input_str):\n",
    "     # Iterate through each character in the input string\n",
    "    for i in input_str:\n",
    "        # Check if the i is not '0' or '1'\n",
    "        if i not in '01':\n",
    "            return False # If any character is not '0' or '1'\n",
    "    return True # If all characters are '0' or '1', it's a binary string\n",
    "# Input string to check\n",
    "input_str = \"1001110\"\n",
    "# Check if the input string is a binary string\n",
    "if is_binary_str(input_str):\n",
    "    print(f\"'{input_str}' is a binary string.\")\n",
    "else:\n",
    "    print(f\"'{input_str}' is not a binary string.\")"
   ]
  },
  {
   "cell_type": "markdown",
   "id": "887dede2",
   "metadata": {},
   "source": [
    "# Program 64\n",
    "#### Write a Python program to find uncommon words from two Strings."
   ]
  },
  {
   "cell_type": "code",
   "execution_count": 5,
   "id": "d7d31821",
   "metadata": {},
   "outputs": [
    {
     "name": "stdout",
     "output_type": "stream",
     "text": [
      "Uncommon words: ['second', 'first']\n"
     ]
    }
   ],
   "source": [
    "def uncommon_words(str1, str2):\n",
    "    # Split the strings into words and convert them to sets\n",
    "    words1 = set(str1.split())\n",
    "    words2 = set(str2.split())\n",
    " \n",
    "     # Find uncommon words by taking the set difference\n",
    "    uncommon_words_set = words1.symmetric_difference(words2)\n",
    " \n",
    "     # Convert the set of uncommon words back to a list\n",
    "    uncommon_words_list = list(uncommon_words_set)\n",
    " \n",
    "    return uncommon_words_list\n",
    "# Input two strings\n",
    "string1 = \"This is the first string\"\n",
    "string2 = \"This is the second string\"\n",
    "# Find uncommon words between the two strings\n",
    "uncommon = uncommon_words(string1, string2)\n",
    "# Print the uncommon words\n",
    "print(\"Uncommon words:\", uncommon)"
   ]
  },
  {
   "cell_type": "markdown",
   "id": "a5671f53",
   "metadata": {},
   "source": [
    "# Program 65\n",
    "#### Write a Python program to find all duplicate characters in string."
   ]
  },
  {
   "cell_type": "code",
   "execution_count": 12,
   "id": "10d9e431",
   "metadata": {},
   "outputs": [
    {
     "name": "stdout",
     "output_type": "stream",
     "text": [
      "Duplicate characters: ['a']\n"
     ]
    }
   ],
   "source": [
    "def find_duplicates(input_str):\n",
    "    # Create an empty dictionary to store character counts\n",
    "    char_count = {}\n",
    "    # Initialize a list to store duplicate characters\n",
    "    duplicates = []\n",
    "    # Iterate through each character in the input string\n",
    "    for i in input_str:\n",
    "    # If the character is already in the dictionary, increment its \n",
    "        if i in char_count:\n",
    "            char_count[i] += 1\n",
    "        else:\n",
    "            char_count[i] = 1\n",
    "     # Iterate through the dictionary and add characters with count > 1 \n",
    "    for i, count in char_count.items():\n",
    "        if count > 1:\n",
    "            duplicates.append(i)\n",
    "    return duplicates\n",
    "# Input a string\n",
    "input_string = \"Sunil Zambare\"\n",
    "# Find duplicate characters in the string\n",
    "duplicate_chars = find_duplicates(input_string)\n",
    "# Print the list of duplicate characters\n",
    "print(\"Duplicate characters:\", duplicate_chars)"
   ]
  },
  {
   "cell_type": "markdown",
   "id": "5c846ddd",
   "metadata": {},
   "source": [
    "# Program 66\n",
    "#### Write a Python Program to check if a string contains any special character."
   ]
  },
  {
   "cell_type": "code",
   "execution_count": 13,
   "id": "25c622a9",
   "metadata": {},
   "outputs": [
    {
     "name": "stdout",
     "output_type": "stream",
     "text": [
      "Enter a string: \"Hello, World!\"\n",
      "The string contains special characters.\n"
     ]
    }
   ],
   "source": [
    "import re\n",
    "def check_special_char(in_str):\n",
    "    # Define a regular expression pattern to match special characters\n",
    "    pattern = r'[!@#$%^&*()_+{}\\[\\]:;<>,.?~\\\\\\/\\'\"\\-=]'\n",
    "    # Use re.search to find a match in the input string\n",
    "    if re.search(pattern, in_str):\n",
    "        return True\n",
    "    else:\n",
    "        return False\n",
    "# Input a string\n",
    "input_string = str(input(\"Enter a string: \"))\n",
    "# Check if the string contains any special characters\n",
    "contains_special = check_special_char(input_string)\n",
    "# Print the result\n",
    "if contains_special:\n",
    "    print(\"The string contains special characters.\")\n",
    "else:\n",
    "    print(\"The string does not contain special characters.\")"
   ]
  },
  {
   "cell_type": "markdown",
   "id": "891c55c6",
   "metadata": {},
   "source": [
    "# Program 67\n",
    "#### Write a Python program to Extract Unique dictionary values."
   ]
  },
  {
   "cell_type": "code",
   "execution_count": 15,
   "id": "2d5badb1",
   "metadata": {},
   "outputs": [
    {
     "name": "stdout",
     "output_type": "stream",
     "text": [
      "Unique values in the dictionary: [10, 20, 30]\n"
     ]
    }
   ],
   "source": [
    "# Sample dictionary\n",
    "my_dict = {\n",
    " 'a': 10,\n",
    " 'b': 20,\n",
    " 'c': 10,\n",
    " 'd': 30,\n",
    " 'e': 20\n",
    "}\n",
    "# Initialize an empty set to store unique values\n",
    "uni_val = set()\n",
    "# Iterate through the values of the dictionary\n",
    "for i in my_dict.values():\n",
    "     # Add each value to the set\n",
    "    uni_val.add(i)\n",
    "# Convert the set of unique values back to a list (if needed)\n",
    "unique_values_list = list(uni_val)\n",
    "# Print the unique values\n",
    "print(\"Unique values in the dictionary:\", unique_values_list)"
   ]
  },
  {
   "cell_type": "markdown",
   "id": "68633937",
   "metadata": {},
   "source": [
    "# Program 68\n",
    "#### Write a Python program to find the sum of all items in a dictionary."
   ]
  },
  {
   "cell_type": "code",
   "execution_count": 16,
   "id": "f8c43825",
   "metadata": {},
   "outputs": [
    {
     "name": "stdout",
     "output_type": "stream",
     "text": [
      "Sum of all items in the dictionary: 150\n"
     ]
    }
   ],
   "source": [
    "# Sample dictionary\n",
    "my_dict = {\n",
    " 'a': 10,\n",
    " 'b': 20,\n",
    " 'c': 30,\n",
    " 'd': 40,\n",
    " 'e': 50\n",
    "}\n",
    "# Initialize a variable to store the sum\n",
    "total_sum = 0\n",
    "# Iterate through the values of the dictionary and add them to the tota\n",
    "for i in my_dict.values():\n",
    "    total_sum += i\n",
    "# Print the sum of all items in the dictionary\n",
    "print(\"Sum of all items in the dictionary:\", total_sum)"
   ]
  },
  {
   "cell_type": "markdown",
   "id": "302f95c0",
   "metadata": {},
   "source": [
    "# Program 69\n",
    "#### Write a Python program to Merging two Dictionaries."
   ]
  },
  {
   "cell_type": "code",
   "execution_count": 17,
   "id": "3dd9163a",
   "metadata": {},
   "outputs": [
    {
     "name": "stdout",
     "output_type": "stream",
     "text": [
      "Merged Dictionary (using update()): {'a': 1, 'b': 2, 'c': 3, 'd': 4}\n"
     ]
    }
   ],
   "source": [
    "# 1. Using the update() method:\n",
    "dict1 = {'a': 1, 'b': 2}\n",
    "dict2 = {'c': 3, 'd': 4}\n",
    "dict1.update(dict2)\n",
    "# The merged dictionary is now in dict1\n",
    "print(\"Merged Dictionary (using update()):\", dict1)"
   ]
  },
  {
   "cell_type": "code",
   "execution_count": 18,
   "id": "d92011b3",
   "metadata": {},
   "outputs": [
    {
     "name": "stdout",
     "output_type": "stream",
     "text": [
      "Merged Dictionary (using dictionary unpacking): {'a': 1, 'b': 2, 'c': 3, 'd': 4}\n"
     ]
    }
   ],
   "source": [
    "# 2. Using dictionary unpacking\n",
    "dict1 = {'a': 1, 'b': 2}\n",
    "dict2 = {'c': 3, 'd': 4}\n",
    "# Merge dict2 into dict1 using dictionary unpacking\n",
    "merged_dict = {**dict1, **dict2}\n",
    "# The merged dictionary is now in merged_dict\n",
    "print(\"Merged Dictionary (using dictionary unpacking):\", merged_dict)"
   ]
  },
  {
   "cell_type": "markdown",
   "id": "1540eb7f",
   "metadata": {},
   "source": [
    "# Program 70\n",
    "#### Write a Python program to convert key-values list to flat dictionary."
   ]
  },
  {
   "cell_type": "code",
   "execution_count": 19,
   "id": "de01fd8c",
   "metadata": {},
   "outputs": [
    {
     "name": "stdout",
     "output_type": "stream",
     "text": [
      "Flat Dictionary: {'a': 1, 'b': 2, 'c': 3, 'd': 4}\n"
     ]
    }
   ],
   "source": [
    "key_values_list = [('a', 1), ('b', 2), ('c', 3), ('d', 4)]\n",
    "# Initialize an empty dictionary\n",
    "flat_dict = {}\n",
    "# Iterate through the list and add key-value pairs to the dictionary\n",
    "for key, value in key_values_list:\n",
    "    flat_dict[key] = value\n",
    "# Print the resulting flat dictionary\n",
    "print(\"Flat Dictionary:\", flat_dict)"
   ]
  },
  {
   "cell_type": "code",
   "execution_count": null,
   "id": "634f88da",
   "metadata": {},
   "outputs": [],
   "source": []
  }
 ],
 "metadata": {
  "kernelspec": {
   "display_name": "Python 3 (ipykernel)",
   "language": "python",
   "name": "python3"
  },
  "language_info": {
   "codemirror_mode": {
    "name": "ipython",
    "version": 3
   },
   "file_extension": ".py",
   "mimetype": "text/x-python",
   "name": "python",
   "nbconvert_exporter": "python",
   "pygments_lexer": "ipython3",
   "version": "3.9.12"
  }
 },
 "nbformat": 4,
 "nbformat_minor": 5
}
