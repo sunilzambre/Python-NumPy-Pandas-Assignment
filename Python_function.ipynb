{
 "cells": [
  {
   "cell_type": "code",
   "execution_count": 1,
   "id": "c8190fa5",
   "metadata": {},
   "outputs": [
    {
     "name": "stdout",
     "output_type": "stream",
     "text": [
      "The recursive value is:\n"
     ]
    },
    {
     "data": {
      "text/plain": [
       "15"
      ]
     },
     "execution_count": 1,
     "metadata": {},
     "output_type": "execute_result"
    }
   ],
   "source": [
    "def counter(c):\n",
    "    if c>=0:\n",
    "        return c\n",
    "    else :\n",
    "        c+counter(c-1)\n",
    "print(\"The recursive value is:\")\n",
    "counter(15)\n",
    "#counter(3)"
   ]
  },
  {
   "cell_type": "code",
   "execution_count": 2,
   "id": "b4e0ecbb",
   "metadata": {},
   "outputs": [
    {
     "data": {
      "text/plain": [
       "5040"
      ]
     },
     "execution_count": 2,
     "metadata": {},
     "output_type": "execute_result"
    }
   ],
   "source": [
    "def fact(n):\n",
    "        if n==0:\n",
    "            return 1\n",
    "        else:\n",
    "            return n*fact(n-1)\n",
    "#print('The factorial of 4 is:',fact(0))\n",
    "#print('The factorrial of 5 is:',fact(5))\n",
    "fact(7)"
   ]
  },
  {
   "cell_type": "code",
   "execution_count": 3,
   "id": "f588faf1",
   "metadata": {},
   "outputs": [
    {
     "name": "stdout",
     "output_type": "stream",
     "text": [
      "The sum is: 30.5\n"
     ]
    }
   ],
   "source": [
    "sum=lambda var1,var2,var3:var1+var2+var3\n",
    "print(\"The sum is:\",sum(10,20,0.5))"
   ]
  },
  {
   "cell_type": "code",
   "execution_count": 4,
   "id": "434212cb",
   "metadata": {},
   "outputs": [
    {
     "name": "stdout",
     "output_type": "stream",
     "text": [
      "2\n",
      "4\n",
      "6\n",
      "8\n",
      "10\n"
     ]
    }
   ],
   "source": [
    "for x in range(1,11):\n",
    "    if x%2==0:\n",
    "        print(x)"
   ]
  },
  {
   "cell_type": "code",
   "execution_count": 5,
   "id": "3015e1ed",
   "metadata": {},
   "outputs": [
    {
     "data": {
      "text/plain": [
       "<filter at 0x116747c71c0>"
      ]
     },
     "execution_count": 5,
     "metadata": {},
     "output_type": "execute_result"
    }
   ],
   "source": [
    "filter(lambda x:x%2==0,range(1,11))"
   ]
  },
  {
   "cell_type": "code",
   "execution_count": 6,
   "id": "97f0a3e6",
   "metadata": {},
   "outputs": [
    {
     "data": {
      "text/plain": [
       "{2, 4, 6, 8, 10}"
      ]
     },
     "execution_count": 6,
     "metadata": {},
     "output_type": "execute_result"
    }
   ],
   "source": [
    "list(filter(lambda x:x%2==0,range(1,11)))   #list form\n",
    "tuple(filter(lambda x:x%2==0,range(1,11)))  #tuple form\n",
    "set(filter(lambda x:x%2==0,range(1,11)))    #set form"
   ]
  },
  {
   "cell_type": "code",
   "execution_count": 7,
   "id": "03589c26",
   "metadata": {},
   "outputs": [
    {
     "data": {
      "text/plain": [
       "15"
      ]
     },
     "execution_count": 7,
     "metadata": {},
     "output_type": "execute_result"
    }
   ],
   "source": [
    "import functools\n",
    "num=[1,2,3,4,5]\n",
    "functools.reduce(lambda x,y:x+y,num)"
   ]
  },
  {
   "cell_type": "code",
   "execution_count": 8,
   "id": "5fe4e186",
   "metadata": {},
   "outputs": [
    {
     "data": {
      "text/plain": [
       "{1, 4, 9, 16, 25, 36, 49, 64, 81, 100}"
      ]
     },
     "execution_count": 8,
     "metadata": {},
     "output_type": "execute_result"
    }
   ],
   "source": [
    "a=[1,2,3,4,5,6,7,8,9,10]\n",
    "def square(x):\n",
    "    return x*x\n",
    "map(square,a)\n",
    "list(map(square,a))\n",
    "tuple(map(square,a))\n",
    "set(map(square,a))"
   ]
  },
  {
   "cell_type": "code",
   "execution_count": 9,
   "id": "f08dad30",
   "metadata": {},
   "outputs": [
    {
     "data": {
      "text/plain": [
       "[1, 4, 9, 16, 25]"
      ]
     },
     "execution_count": 9,
     "metadata": {},
     "output_type": "execute_result"
    }
   ],
   "source": [
    "a=[1,2,3,4,5]\n",
    "list(map(lambda x:x*x,a))"
   ]
  },
  {
   "cell_type": "code",
   "execution_count": 10,
   "id": "e8042bb6",
   "metadata": {},
   "outputs": [
    {
     "data": {
      "text/plain": [
       "(11, 21, 31, 41, 51)"
      ]
     },
     "execution_count": 10,
     "metadata": {},
     "output_type": "execute_result"
    }
   ],
   "source": [
    "k=[10,20,30,40,50]\n",
    "m=[1,1,1,1,1]\n",
    "tuple(map(lambda x,y:x+y,k,m))"
   ]
  },
  {
   "cell_type": "code",
   "execution_count": 12,
   "id": "573711ff",
   "metadata": {},
   "outputs": [
    {
     "name": "stdout",
     "output_type": "stream",
     "text": [
      "{1, 2, 3, 4, 5, 6, 7, 8, 12, 'samir', 23}\n",
      "{'run machine', 'superman', 'hitman', 'iron man'}\n"
     ]
    },
    {
     "data": {
      "text/plain": [
       "set"
      ]
     },
     "execution_count": 12,
     "metadata": {},
     "output_type": "execute_result"
    }
   ],
   "source": [
    "print(set({1,2,3,4,5,6,6,7,8,7,7,'samir',12,23,'samir'}))\n",
    "setele={'run machine','hitman','superman','iron man'}\n",
    "print(setele)\n",
    "type(setele)"
   ]
  },
  {
   "cell_type": "code",
   "execution_count": 13,
   "id": "b8b9b29a",
   "metadata": {},
   "outputs": [
    {
     "data": {
      "text/plain": [
       "4"
      ]
     },
     "execution_count": 13,
     "metadata": {},
     "output_type": "execute_result"
    }
   ],
   "source": [
    "lst=[1,2,3,4,5]\n",
    "lst[3]   "
   ]
  },
  {
   "cell_type": "code",
   "execution_count": 14,
   "id": "d0e6c10f",
   "metadata": {},
   "outputs": [
    {
     "name": "stdout",
     "output_type": "stream",
     "text": [
      "run machine\n",
      "superman\n",
      "hitman\n",
      "iron man\n"
     ]
    }
   ],
   "source": [
    "for i in setele:\n",
    "    print(i)"
   ]
  },
  {
   "cell_type": "code",
   "execution_count": 15,
   "id": "6d9750f5",
   "metadata": {},
   "outputs": [
    {
     "name": "stdout",
     "output_type": "stream",
     "text": [
      "{'SKY', 'iron man', 'run machine', 'hitman', 'superman'}\n"
     ]
    }
   ],
   "source": [
    "setele.add('SKY')\n",
    "print(setele)"
   ]
  },
  {
   "cell_type": "code",
   "execution_count": 16,
   "id": "41cfcd8d",
   "metadata": {},
   "outputs": [
    {
     "name": "stdout",
     "output_type": "stream",
     "text": [
      "{1, 2, 3, 4, 6, 7, 8, 10}\n"
     ]
    }
   ],
   "source": [
    "set1=set([4,6,1,10,7,3,8,2])\n",
    "print(set1)"
   ]
  },
  {
   "cell_type": "code",
   "execution_count": 17,
   "id": "3b97aa1d",
   "metadata": {},
   "outputs": [
    {
     "name": "stdout",
     "output_type": "stream",
     "text": [
      "{0, 1, 2, 3, 4, 6, 7, 8, 9, 10}\n"
     ]
    }
   ],
   "source": [
    "set1.add(0)\n",
    "set1.add(9)\n",
    "print(set1)"
   ]
  },
  {
   "cell_type": "code",
   "execution_count": 18,
   "id": "2fdd4681",
   "metadata": {},
   "outputs": [
    {
     "data": {
      "text/plain": [
       "{'Avenger', 'Hitman', 'Hulk2', 'Ironman', 'king'}"
      ]
     },
     "execution_count": 18,
     "metadata": {},
     "output_type": "execute_result"
    }
   ],
   "source": [
    "set1={'Avenger','Ironman','Hitman'}\n",
    "set2={'Avenger','Ironman','Hitman','Hulk2','king'}\n",
    "set2.intersection(set1)\n",
    "set2.union(set1)"
   ]
  },
  {
   "cell_type": "code",
   "execution_count": 19,
   "id": "ac64fe32",
   "metadata": {},
   "outputs": [
    {
     "data": {
      "text/plain": [
       "{'Avenger', 'Hitman', 'Hulk2', 'Ironman', 'king'}"
      ]
     },
     "execution_count": 19,
     "metadata": {},
     "output_type": "execute_result"
    }
   ],
   "source": [
    "set1\n",
    "set2"
   ]
  },
  {
   "cell_type": "code",
   "execution_count": 20,
   "id": "02c038c7",
   "metadata": {},
   "outputs": [
    {
     "data": {
      "text/plain": [
       "{'Hulk2', 'king'}"
      ]
     },
     "execution_count": 20,
     "metadata": {},
     "output_type": "execute_result"
    }
   ],
   "source": [
    "set2.difference(set1)"
   ]
  },
  {
   "cell_type": "code",
   "execution_count": 21,
   "id": "65332ec9",
   "metadata": {},
   "outputs": [
    {
     "data": {
      "text/plain": [
       "True"
      ]
     },
     "execution_count": 21,
     "metadata": {},
     "output_type": "execute_result"
    }
   ],
   "source": [
    "set2.issuperset(set1)"
   ]
  },
  {
   "cell_type": "code",
   "execution_count": 22,
   "id": "df0b05c2",
   "metadata": {},
   "outputs": [
    {
     "data": {
      "text/plain": [
       "False"
      ]
     },
     "execution_count": 22,
     "metadata": {},
     "output_type": "execute_result"
    }
   ],
   "source": [
    "set1.issuperset(set2)"
   ]
  },
  {
   "cell_type": "code",
   "execution_count": 23,
   "id": "fafe1720",
   "metadata": {},
   "outputs": [
    {
     "data": {
      "text/plain": [
       "True"
      ]
     },
     "execution_count": 23,
     "metadata": {},
     "output_type": "execute_result"
    }
   ],
   "source": [
    "set1.issubset(set2)"
   ]
  },
  {
   "cell_type": "code",
   "execution_count": 24,
   "id": "23a3e999",
   "metadata": {},
   "outputs": [
    {
     "data": {
      "text/plain": [
       "False"
      ]
     },
     "execution_count": 24,
     "metadata": {},
     "output_type": "execute_result"
    }
   ],
   "source": [
    "set2.issubset(set1)"
   ]
  },
  {
   "cell_type": "code",
   "execution_count": 25,
   "id": "a92fdd44",
   "metadata": {},
   "outputs": [
    {
     "name": "stdout",
     "output_type": "stream",
     "text": [
      "set()\n"
     ]
    }
   ],
   "source": [
    "set1.clear()\n",
    "print(set1)"
   ]
  },
  {
   "cell_type": "code",
   "execution_count": 26,
   "id": "d37be8d2",
   "metadata": {},
   "outputs": [
    {
     "data": {
      "text/plain": [
       "True"
      ]
     },
     "execution_count": 26,
     "metadata": {},
     "output_type": "execute_result"
    }
   ],
   "source": [
    "set1.issubset(set2)"
   ]
  },
  {
   "cell_type": "code",
   "execution_count": 27,
   "id": "8082c84b",
   "metadata": {},
   "outputs": [
    {
     "data": {
      "text/plain": [
       "dict"
      ]
     },
     "execution_count": 27,
     "metadata": {},
     "output_type": "execute_result"
    }
   ],
   "source": [
    "dict()\n",
    "type(dict())"
   ]
  },
  {
   "cell_type": "code",
   "execution_count": 28,
   "id": "18470272",
   "metadata": {},
   "outputs": [
    {
     "name": "stdout",
     "output_type": "stream",
     "text": [
      "{'car1': 'Audi', 'car2': 'Tata Nexon', 'car3': 'Honda City'}\n",
      "('car1', 'Audi')\n",
      "('car2', 'Tata Nexon')\n",
      "('car3', 'Honda City')\n"
     ]
    }
   ],
   "source": [
    "mydict={'car1':'Audi','car2':'Tata Nexon','car3':'Honda City'}\n",
    "print(mydict)\n",
    "mydict['car3']\n",
    "mydict['car2']\n",
    "mydict.items()\n",
    "mydict.keys()\n",
    "mydict.values()\n",
    "for x in mydict.items():\n",
    "    print(x)"
   ]
  },
  {
   "cell_type": "code",
   "execution_count": 29,
   "id": "64f8f9a7",
   "metadata": {},
   "outputs": [
    {
     "name": "stdout",
     "output_type": "stream",
     "text": [
      "{'car1': 'Audi', 'car2': 'Tata Nexon', 'car3': 'Honda City', 'car4': 'Vitara breeza'}\n",
      "('car1', 'Audi')\n",
      "('car2', 'Tata Nexon')\n",
      "('car3', 'Honda City')\n",
      "('car4', 'Vitara breeza')\n",
      "car1\n",
      "car2\n",
      "car3\n",
      "car4\n",
      "Audi\n",
      "Tata Nexon\n",
      "Honda City\n",
      "Vitara breeza\n"
     ]
    }
   ],
   "source": [
    "mydict[\"car4\"]='Vitara breeza'\n",
    "print(mydict)\n",
    "for i in mydict.items():\n",
    "    print(i)\n",
    "for j in mydict.keys():\n",
    "    print(j)\n",
    "for k in mydict.values():\n",
    "    print(k)    "
   ]
  },
  {
   "cell_type": "code",
   "execution_count": 30,
   "id": "ca91a458",
   "metadata": {},
   "outputs": [
    {
     "name": "stdout",
     "output_type": "stream",
     "text": [
      "{'car1': {'Audi': 1960}, 'car2': {'Tata Nexon': 2021}, 'car3': {'Honda City': 2009}, 'car4': {'Honda City': 2009}}\n"
     ]
    }
   ],
   "source": [
    "carmodel1={'Audi':1960}\n",
    "carmodel2={'Tata Nexon':2021}\n",
    "carmodel3={'Honda City':2009}\n",
    "carmodel4={'Vitara breeza':2011}\n",
    "cartype={'car1':carmodel1,'car2':carmodel2,'car3':carmodel3,'car4':carmodel3}\n",
    "print(cartype)"
   ]
  },
  {
   "cell_type": "code",
   "execution_count": 31,
   "id": "7a8a4120",
   "metadata": {},
   "outputs": [
    {
     "data": {
      "text/plain": [
       "1960"
      ]
     },
     "execution_count": 31,
     "metadata": {},
     "output_type": "execute_result"
    }
   ],
   "source": [
    "cartype['car1'] | cartype['car2'] | cartype['car2']\n",
    "cartype['car1']['Audi']"
   ]
  },
  {
   "cell_type": "code",
   "execution_count": 32,
   "id": "4724e6b1",
   "metadata": {},
   "outputs": [
    {
     "name": "stdout",
     "output_type": "stream",
     "text": [
      "('santosh', 'rahul', 'anil', 'tushar', 'sunil')\n",
      "<class 'tuple'>\n"
     ]
    },
    {
     "data": {
      "text/plain": [
       "2"
      ]
     },
     "execution_count": 32,
     "metadata": {},
     "output_type": "execute_result"
    }
   ],
   "source": [
    "mytuple=('santosh','rahul','anil','tushar','sunil')\n",
    "print(mytuple)\n",
    "print(type(mytuple))\n",
    "mytuple.count('rohit')\n",
    "mytuple.index('anil')\n",
    "#mytuple.index[1]='rahul'"
   ]
  },
  {
   "cell_type": "code",
   "execution_count": 34,
   "id": "86b7ab6d",
   "metadata": {},
   "outputs": [
    {
     "name": "stdout",
     "output_type": "stream",
     "text": [
      "Enter the number:12\n",
      "The number is less than 100\n"
     ]
    }
   ],
   "source": [
    "val=input('Enter the number:')\n",
    "valfloat=float(val)\n",
    "#print(valfloat)\n",
    "if(valfloat >=100):\n",
    "    print(\"The number is graeter than 100\")\n",
    "else:\n",
    "    print(\"The number is less than 100\")"
   ]
  },
  {
   "cell_type": "code",
   "execution_count": 35,
   "id": "46cf15e7",
   "metadata": {},
   "outputs": [
    {
     "name": "stdout",
     "output_type": "stream",
     "text": [
      "Enter the number:30.45\n",
      "The number is Odd\n"
     ]
    }
   ],
   "source": [
    "val=input('Enter the number:')\n",
    "valfloat=float(val)\n",
    "#print(valfloat)\n",
    "if(valfloat%2==0):\n",
    "    print(\"The number is Even\")\n",
    "else:\n",
    "    print(\"The number is Odd\")"
   ]
  },
  {
   "cell_type": "code",
   "execution_count": 36,
   "id": "2cae2e2b",
   "metadata": {},
   "outputs": [
    {
     "name": "stdout",
     "output_type": "stream",
     "text": [
      "Enter your age:45\n",
      "Senior Citizen\n"
     ]
    }
   ],
   "source": [
    "age=float(input('Enter your age:'))\n",
    "if age<18:\n",
    "    print(\"Minor age\")\n",
    "    if(age<15):\n",
    "        print(\"You are in school\")\n",
    "    else:\n",
    "        print(\"You are in college\")\n",
    "elif(age>=18 and age<=35):\n",
    "    print(\"Mid age\")\n",
    "elif(age>45 and age<=50):\n",
    "    print(\"Senior mid age\")\n",
    "else:\n",
    "    print(\"Senior Citizen\")"
   ]
  },
  {
   "cell_type": "code",
   "execution_count": 37,
   "id": "799ae96e",
   "metadata": {},
   "outputs": [
    {
     "name": "stdout",
     "output_type": "stream",
     "text": [
      "The iteration is given below:\n",
      "\t\t\t\t 55\n"
     ]
    }
   ],
   "source": [
    "lst=[1,2,3,4,5,6,7,8,9,10]\n",
    "print('The iteration is given below:')\n",
    "sum1=0\n",
    "for i in lst:\n",
    "    sum1=sum1+i\n",
    "print(\"\\t\\t\\t\\t\",sum1)"
   ]
  },
  {
   "cell_type": "code",
   "execution_count": 38,
   "id": "53a82a5a",
   "metadata": {},
   "outputs": [
    {
     "name": "stdout",
     "output_type": "stream",
     "text": [
      "Even sum is=30\n",
      "Odd sum is=25\n"
     ]
    }
   ],
   "source": [
    "lst=[1,2,3,4,5,6,7,8,9,10]\n",
    "esum=0\n",
    "osum=0\n",
    "for i in lst:\n",
    "    if(i%2==0):\n",
    "        esum=esum+i\n",
    "    else:\n",
    "        osum=osum+i\n",
    "print(\"Even sum is={}\".format(esum))\n",
    "print(\"Odd sum is={}\".format(osum))"
   ]
  },
  {
   "cell_type": "code",
   "execution_count": 39,
   "id": "bf9c87fe",
   "metadata": {},
   "outputs": [
    {
     "name": "stdout",
     "output_type": "stream",
     "text": [
      "1\n",
      "3\n",
      "5\n",
      "7\n",
      "9\n",
      "30 25\n"
     ]
    }
   ],
   "source": [
    "i=0\n",
    "esum=0\n",
    "osum=0\n",
    "while(i<=10): \n",
    "    if(i%2==0):\n",
    "        esum=esum+i\n",
    "    else:\n",
    "        osum=osum+i\n",
    "        print(i)\n",
    "    i=i+1\n",
    "print(esum,osum)"
   ]
  },
  {
   "cell_type": "code",
   "execution_count": 40,
   "id": "58e9f284",
   "metadata": {},
   "outputs": [
    {
     "name": "stdout",
     "output_type": "stream",
     "text": [
      "1\n",
      "2\n",
      "3\n",
      "4\n",
      "5\n"
     ]
    }
   ],
   "source": [
    "x=1\n",
    "while(x<10):\n",
    "    print(x)\n",
    "    if(x==5):\n",
    "        break\n",
    "    x=x+1"
   ]
  },
  {
   "cell_type": "code",
   "execution_count": 41,
   "id": "77a358f7",
   "metadata": {},
   "outputs": [
    {
     "name": "stdout",
     "output_type": "stream",
     "text": [
      "1\n",
      "2\n",
      "3\n",
      "5\n",
      "6\n",
      "7\n",
      "8\n",
      "9\n",
      "10\n"
     ]
    }
   ],
   "source": [
    "x=0\n",
    "while x<10:\n",
    "    x=x+1\n",
    "    if x==4:\n",
    "        continue\n",
    "    print(x)"
   ]
  },
  {
   "cell_type": "code",
   "execution_count": 42,
   "id": "f9526f9c",
   "metadata": {},
   "outputs": [
    {
     "data": {
      "text/plain": [
       "bool"
      ]
     },
     "execution_count": 42,
     "metadata": {},
     "output_type": "execute_result"
    }
   ],
   "source": [
    "type(True)"
   ]
  },
  {
   "cell_type": "code",
   "execution_count": 43,
   "id": "96a3fd88",
   "metadata": {},
   "outputs": [
    {
     "data": {
      "text/plain": [
       "bool"
      ]
     },
     "execution_count": 43,
     "metadata": {},
     "output_type": "execute_result"
    }
   ],
   "source": [
    "type(False)"
   ]
  },
  {
   "cell_type": "code",
   "execution_count": 44,
   "id": "67337460",
   "metadata": {},
   "outputs": [
    {
     "data": {
      "text/plain": [
       "False"
      ]
     },
     "execution_count": 44,
     "metadata": {},
     "output_type": "execute_result"
    }
   ],
   "source": [
    "True and False"
   ]
  },
  {
   "cell_type": "code",
   "execution_count": 45,
   "id": "d64e0cb4",
   "metadata": {},
   "outputs": [
    {
     "data": {
      "text/plain": [
       "True"
      ]
     },
     "execution_count": 45,
     "metadata": {},
     "output_type": "execute_result"
    }
   ],
   "source": [
    "True or False"
   ]
  },
  {
   "cell_type": "code",
   "execution_count": 46,
   "id": "efb40101",
   "metadata": {},
   "outputs": [
    {
     "data": {
      "text/plain": [
       "True"
      ]
     },
     "execution_count": 46,
     "metadata": {},
     "output_type": "execute_result"
    }
   ],
   "source": [
    "bool(1)"
   ]
  },
  {
   "cell_type": "code",
   "execution_count": 47,
   "id": "e5c39a4c",
   "metadata": {},
   "outputs": [
    {
     "data": {
      "text/plain": [
       "False"
      ]
     },
     "execution_count": 47,
     "metadata": {},
     "output_type": "execute_result"
    }
   ],
   "source": [
    "bool(0)"
   ]
  },
  {
   "cell_type": "code",
   "execution_count": 48,
   "id": "ef6b5ced",
   "metadata": {},
   "outputs": [
    {
     "data": {
      "text/plain": [
       "False"
      ]
     },
     "execution_count": 48,
     "metadata": {},
     "output_type": "execute_result"
    }
   ],
   "source": [
    "not True"
   ]
  },
  {
   "cell_type": "code",
   "execution_count": 49,
   "id": "d5576ed9",
   "metadata": {},
   "outputs": [
    {
     "name": "stdout",
     "output_type": "stream",
     "text": [
      "Enter the age:39\n",
      "Sucessful execution\n"
     ]
    }
   ],
   "source": [
    "age=int(input(\"Enter the age:\"))\n",
    "if age<18 or age>=35:\n",
    "    print(\"Sucessful execution\")"
   ]
  },
  {
   "cell_type": "code",
   "execution_count": 50,
   "id": "9d8976be",
   "metadata": {},
   "outputs": [
    {
     "data": {
      "text/plain": [
       "False"
      ]
     },
     "execution_count": 50,
     "metadata": {},
     "output_type": "execute_result"
    }
   ],
   "source": [
    "a=\"sunil\"\n",
    "b=\"sunil2\"\n",
    "a==b"
   ]
  },
  {
   "cell_type": "code",
   "execution_count": 52,
   "id": "58ba15e7",
   "metadata": {},
   "outputs": [
    {
     "name": "stdout",
     "output_type": "stream",
     "text": [
      "Enter the age:38\n",
      "You are adult\n"
     ]
    }
   ],
   "source": [
    "age=int(input('Enter the age:'))\n",
    "if age==18:\n",
    "    print(\"You are teenager\")\n",
    "else:\n",
    "    print(\"You are adult\")"
   ]
  },
  {
   "cell_type": "code",
   "execution_count": 53,
   "id": "a64e5746",
   "metadata": {},
   "outputs": [
    {
     "name": "stdout",
     "output_type": "stream",
     "text": [
      "1195955107632\n",
      "1195955107632\n"
     ]
    },
    {
     "data": {
      "text/plain": [
       "True"
      ]
     },
     "execution_count": 53,
     "metadata": {},
     "output_type": "execute_result"
    }
   ],
   "source": [
    "a=\"santosh\"\n",
    "b=\"santosh\"\n",
    "print(id(a))\n",
    "print(id(b))\n",
    "a is b"
   ]
  },
  {
   "cell_type": "code",
   "execution_count": 54,
   "id": "ca91a8bb",
   "metadata": {},
   "outputs": [
    {
     "name": "stdout",
     "output_type": "stream",
     "text": [
      "1195966633984\n",
      "1195938444032\n"
     ]
    },
    {
     "data": {
      "text/plain": [
       "True"
      ]
     },
     "execution_count": 54,
     "metadata": {},
     "output_type": "execute_result"
    }
   ],
   "source": [
    "lst1=[1,2,3,4,5]\n",
    "lst2=[1,2,3,4,5]\n",
    "print(id(lst1))\n",
    "print(id(lst2))\n",
    "lst1==lst2\n",
    "lst1 is lst2\n",
    "lst1 is not lst2"
   ]
  },
  {
   "cell_type": "code",
   "execution_count": 55,
   "id": "ef82f4c4",
   "metadata": {},
   "outputs": [
    {
     "data": {
      "text/plain": [
       "True"
      ]
     },
     "execution_count": 55,
     "metadata": {},
     "output_type": "execute_result"
    }
   ],
   "source": [
    "\"sunil\"!=\"sunil1\""
   ]
  },
  {
   "cell_type": "code",
   "execution_count": 56,
   "id": "6ac1e873",
   "metadata": {},
   "outputs": [
    {
     "name": "stdout",
     "output_type": "stream",
     "text": [
      "sunilzambare\n"
     ]
    },
    {
     "data": {
      "text/plain": [
       "\"<class 'str'>\""
      ]
     },
     "execution_count": 56,
     "metadata": {},
     "output_type": "execute_result"
    }
   ],
   "source": [
    "str1=\"sunil\"\n",
    "str2=\"zambare\"\n",
    "print(str1+str2)\n",
    "str(len(str1))\n",
    "str(type(str1))"
   ]
  }
 ],
 "metadata": {
  "kernelspec": {
   "display_name": "Python 3 (ipykernel)",
   "language": "python",
   "name": "python3"
  },
  "language_info": {
   "codemirror_mode": {
    "name": "ipython",
    "version": 3
   },
   "file_extension": ".py",
   "mimetype": "text/x-python",
   "name": "python",
   "nbconvert_exporter": "python",
   "pygments_lexer": "ipython3",
   "version": "3.9.12"
  }
 },
 "nbformat": 4,
 "nbformat_minor": 5
}
