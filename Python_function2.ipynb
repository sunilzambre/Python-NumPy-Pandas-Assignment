{
 "cells": [
  {
   "cell_type": "code",
   "execution_count": 1,
   "id": "ae571cb6",
   "metadata": {},
   "outputs": [
    {
     "name": "stdout",
     "output_type": "stream",
     "text": [
      "Outer function started \n",
      "Inner fuction executed\n"
     ]
    }
   ],
   "source": [
    "def outer():\n",
    "    print('Outer function started ')\n",
    "    def inner():\n",
    "        print(\"Inner fuction executed\")\n",
    "    return inner()\n",
    "outer()"
   ]
  },
  {
   "cell_type": "code",
   "execution_count": 2,
   "id": "a7014657",
   "metadata": {},
   "outputs": [
    {
     "name": "stdout",
     "output_type": "stream",
     "text": [
      "His last name is zambre\n",
      "I am from Tasgaon\n",
      "I am from Dongarsoni\n",
      "I am from Maharashtra\n",
      "I am from Ayodhyanagar\n"
     ]
    }
   ],
   "source": [
    "def myf(**kid):\n",
    "    print(\"His last name is \" + kid[\"lname\"])\n",
    "\n",
    "myf(fname = \"kavya\", lname = \"zambre\")\n",
    "\n",
    "def my_function(state = \"Maharashtra\"):\n",
    "    print(\"I am from \" + state)\n",
    "\n",
    "my_function(\"Tasgaon\")\n",
    "my_function(\"Dongarsoni\")\n",
    "my_function()\n",
    "my_function(\"Ayodhyanagar\")"
   ]
  },
  {
   "cell_type": "code",
   "execution_count": 3,
   "id": "f27d4ca2",
   "metadata": {},
   "outputs": [
    {
     "name": "stdout",
     "output_type": "stream",
     "text": [
      "apple\n",
      "banana\n",
      "cherry\n",
      "straberry\n",
      "kivi\n"
     ]
    }
   ],
   "source": [
    "def f1(food):\n",
    "    for x in food:\n",
    "        print(x)\n",
    "fruits = [\"apple\", \"banana\", \"cherry\",\"straberry\",\"kivi\"]\n",
    "f1(fruits)"
   ]
  },
  {
   "cell_type": "code",
   "execution_count": 4,
   "id": "92daeff9",
   "metadata": {},
   "outputs": [
    {
     "name": "stdout",
     "output_type": "stream",
     "text": [
      "20\n",
      "25\n",
      "45\n"
     ]
    }
   ],
   "source": [
    "def my_function(x):\n",
    "    return 5 * x\n",
    "\n",
    "print(my_function(4))\n",
    "print(my_function(5))\n",
    "print(my_function(9))"
   ]
  },
  {
   "cell_type": "code",
   "execution_count": 5,
   "id": "1dbc15df",
   "metadata": {},
   "outputs": [
    {
     "name": "stdout",
     "output_type": "stream",
     "text": [
      "15\n",
      "2541462708576\n",
      "<class 'function'>\n",
      "<function <lambda> at 0x0000024FBAFB6160>\n"
     ]
    }
   ],
   "source": [
    "x = lambda a : a + 10\n",
    "print(x(5))\n",
    "print(id(x))\n",
    "print(type(x))\n",
    "print(x)"
   ]
  },
  {
   "cell_type": "code",
   "execution_count": 6,
   "id": "520a9f78",
   "metadata": {},
   "outputs": [
    {
     "name": "stdout",
     "output_type": "stream",
     "text": [
      "30\n"
     ]
    }
   ],
   "source": [
    "x = lambda a, b : a * b\n",
    "print(x(5, 6))"
   ]
  },
  {
   "cell_type": "code",
   "execution_count": 7,
   "id": "8d897062",
   "metadata": {},
   "outputs": [
    {
     "name": "stdout",
     "output_type": "stream",
     "text": [
      "The result of lamda function is 28\n"
     ]
    }
   ],
   "source": [
    "x = lambda a, b, c, d, e : a + b + c + d + e\n",
    "print(\"The result of lamda function is\",x(5, 6, 2,5,10))"
   ]
  },
  {
   "cell_type": "code",
   "execution_count": 8,
   "id": "407099fb",
   "metadata": {},
   "outputs": [
    {
     "name": "stdout",
     "output_type": "stream",
     "text": [
      "22\n",
      "33\n"
     ]
    }
   ],
   "source": [
    "def myfunc(n):\n",
    "    return lambda a : a * n\n",
    "\n",
    "mydoubler = myfunc(2)\n",
    "mytripler = myfunc(3)\n",
    "\n",
    "print(mydoubler(11))\n",
    "print(mytripler(11))"
   ]
  },
  {
   "cell_type": "code",
   "execution_count": 9,
   "id": "c93606b7",
   "metadata": {},
   "outputs": [
    {
     "name": "stdout",
     "output_type": "stream",
     "text": [
      "The sum is  30\n",
      "The difference is  10\n",
      "The product is  200\n",
      "-------------------------\n",
      "The sum is  300\n",
      "The difference is  100\n",
      "The product is  20000\n",
      "-------------------------\n",
      "The sum is  3000\n",
      "The difference is  1000\n",
      "The product is  2000000\n",
      "-------------------------\n"
     ]
    }
   ],
   "source": [
    "def calculate(a,b):\n",
    "    print(\"The sum is \",a+b)\n",
    "    print(\"The difference is \",a-b)\n",
    "    print(\"The product is \",a*b)\n",
    "    print(\"-------------------------\")\n",
    "calculate(20,10)\n",
    "calculate(200,100)\n",
    "calculate(2000,1000)"
   ]
  },
  {
   "cell_type": "code",
   "execution_count": 10,
   "id": "db480576",
   "metadata": {},
   "outputs": [
    {
     "name": "stdout",
     "output_type": "stream",
     "text": [
      "20\n",
      "10\n"
     ]
    }
   ],
   "source": [
    "a=10 #global varaible\n",
    "def f1():\n",
    "    #global a\n",
    "    a=20    # local varaible\n",
    "    print(a)\n",
    "def f2():\n",
    "    print(a)\n",
    "f1()\n",
    "f2()"
   ]
  },
  {
   "cell_type": "code",
   "execution_count": 11,
   "id": "7263869d",
   "metadata": {},
   "outputs": [
    {
     "name": "stdout",
     "output_type": "stream",
     "text": [
      "The square of 1 is 1\n",
      "The square of 2 is 4\n",
      "The square of 3 is 9\n",
      "The square of 4 is 16\n",
      "The square of 5 is 25\n",
      "The square of 6 is 36\n",
      "The square of 7 is 49\n",
      "The square of 8 is 64\n",
      "The square of 9 is 81\n",
      "The square of 10 is 100\n"
     ]
    }
   ],
   "source": [
    "s=lambda n:n*n \n",
    "for i in range(1,11):\n",
    "    print(\"The square of {} is {}\".format(i,s(i)))"
   ]
  },
  {
   "cell_type": "code",
   "execution_count": 12,
   "id": "7b6595bd",
   "metadata": {},
   "outputs": [
    {
     "name": "stdout",
     "output_type": "stream",
     "text": [
      "The addition of 0 is 0\n",
      "The addition of 1 is 2\n",
      "The addition of 2 is 4\n",
      "The addition of 3 is 6\n",
      "The addition of 4 is 8\n",
      "The addition of 5 is 10\n",
      "The addition of 6 is 12\n",
      "The addition of 7 is 14\n",
      "The addition of 8 is 16\n",
      "The addition of 9 is 18\n"
     ]
    }
   ],
   "source": [
    "s1=lambda a,b:a+b\n",
    "for i in range(10):\n",
    "    print(\"The addition of {} is {}\".format(i,s1(i,i)))"
   ]
  },
  {
   "cell_type": "code",
   "execution_count": 13,
   "id": "0ff20538",
   "metadata": {},
   "outputs": [
    {
     "name": "stdout",
     "output_type": "stream",
     "text": [
      "Enter the values125\n",
      "<class 'str'>\n",
      "2541445872560\n"
     ]
    }
   ],
   "source": [
    "x=input('Enter the values')\n",
    "print(type(x))\n",
    "print(id(x))"
   ]
  },
  {
   "cell_type": "code",
   "execution_count": 14,
   "id": "394b1304",
   "metadata": {},
   "outputs": [
    {
     "name": "stdout",
     "output_type": "stream",
     "text": [
      "[65, 76, 58, 78, 98, 91]\n",
      "<class 'list'>\n"
     ]
    }
   ],
   "source": [
    "a=[10,65,76,25,30,4,8,2,37,58,78,98,91]\n",
    "def marks(n):\n",
    "    if n>=40 or n>=90:\n",
    "        return True\n",
    "result=list(filter(marks,a))\n",
    "print(result)\n",
    "print(type(result))\n",
    "#for i in result:\n",
    "    #print(i)"
   ]
  },
  {
   "cell_type": "code",
   "execution_count": 15,
   "id": "68e4c2ea",
   "metadata": {},
   "outputs": [
    {
     "name": "stdout",
     "output_type": "stream",
     "text": [
      "[0, 10, 20, 30]\n",
      "[0, 10, 20, 30]\n",
      "[5, 15, 25]\n"
     ]
    }
   ],
   "source": [
    "def iseven(x):\n",
    "    if x%2==0:\n",
    "        return True\n",
    "    else:\n",
    "        return False\n",
    "l=[0,5,10,15,20,25,30]\n",
    "l=list(filter(iseven,l))\n",
    "print(l)\n",
    "\n",
    "l=[0,5,10,15,20,25,30]\n",
    "l1=list(filter(lambda x:x%2==0,l))\n",
    "print(l1)\n",
    "l2=list(filter(lambda x:x%2!=0,l))\n",
    "print(l2)"
   ]
  },
  {
   "cell_type": "code",
   "execution_count": 16,
   "id": "90b377b5",
   "metadata": {},
   "outputs": [
    {
     "name": "stdout",
     "output_type": "stream",
     "text": [
      "[2, 4, 6, 8, 10, 12, 14]\n",
      "[2, 4, 6, 8, 10, 12, 14]\n"
     ]
    }
   ],
   "source": [
    "l=[1,2,3,4,5,6,7]\n",
    "def doubleit(x):\n",
    "    return 2*x\n",
    "l1=list(map(doubleit,l))\n",
    "print(l1)\n",
    "\n",
    "l1=list(map(lambda x:x*2,l))\n",
    "print(l1)"
   ]
  },
  {
   "cell_type": "code",
   "execution_count": 17,
   "id": "ebbc9a1d",
   "metadata": {},
   "outputs": [
    {
     "name": "stdout",
     "output_type": "stream",
     "text": [
      "[2, 6, 12, 20]\n"
     ]
    }
   ],
   "source": [
    "l1=[1,2,3,4]\n",
    "l2=[2,3,4,5]\n",
    "l3=list(map(lambda x,y:x*y,l1,l2))\n",
    "print(l3)"
   ]
  },
  {
   "cell_type": "code",
   "execution_count": 18,
   "id": "a2d88056",
   "metadata": {},
   "outputs": [
    {
     "name": "stdout",
     "output_type": "stream",
     "text": [
      "150\n",
      "5050\n"
     ]
    }
   ],
   "source": [
    "from functools import*\n",
    "l=[10,20,30,40,50]\n",
    "result=reduce(lambda x,y:x+y,l)\n",
    "print(result)\n",
    "\n",
    "result=reduce(lambda x,y:x+y,range(101))\n",
    "print(result)"
   ]
  },
  {
   "cell_type": "code",
   "execution_count": 19,
   "id": "6964d7fa",
   "metadata": {},
   "outputs": [
    {
     "name": "stdout",
     "output_type": "stream",
     "text": [
      "2541462732864\n",
      "2541462732864\n",
      "Good Afternoon: sunil\n",
      "Good Afternoon: sunil\n",
      "Good Afternoon: santosh\n"
     ]
    }
   ],
   "source": [
    "def wish(name):\n",
    "    print(\"Good Afternoon:\",name)\n",
    "greeting=wish\n",
    "print(id(wish))\n",
    "print(id(greeting))\n",
    "\n",
    "greeting(\"sunil\")\n",
    "wish(\"sunil\")\n",
    "\n",
    "del wish\n",
    "greeting(\"santosh\")\n",
    "#wish('sunil')"
   ]
  },
  {
   "cell_type": "code",
   "execution_count": 20,
   "id": "5ddc0ac4",
   "metadata": {},
   "outputs": [
    {
     "name": "stdout",
     "output_type": "stream",
     "text": [
      "outer function started \n",
      "outer function returning inner function\n",
      "inner function execution\n",
      "inner function execution\n",
      "inner function execution\n"
     ]
    }
   ],
   "source": [
    "def outer():\n",
    "    print(\"outer function started \")\n",
    "    def inner():\n",
    "        print(\"inner function execution\")\n",
    "    print(\"outer function returning inner function\")\n",
    "    return inner\n",
    "f1=outer()\n",
    "f1()\n",
    "f1()\n",
    "f1()"
   ]
  },
  {
   "cell_type": "code",
   "execution_count": 21,
   "id": "e5862a0d",
   "metadata": {},
   "outputs": [
    {
     "name": "stdout",
     "output_type": "stream",
     "text": [
      "The are of circle is 28.278\n",
      "The cicumference of the circle 18.852\n",
      "The are of circle is 78.55\n",
      "The cicumference of the circle 31.419999999999998\n"
     ]
    }
   ],
   "source": [
    "pie=3.142\n",
    "def radii(r):\n",
    "    print(\"The are of circle is\",pie*r*r)\n",
    "    print(\"The cicumference of the circle\",2*pie*r)\n",
    "radii(3)\n",
    "radii(5)"
   ]
  },
  {
   "cell_type": "code",
   "execution_count": 22,
   "id": "df9de00b",
   "metadata": {},
   "outputs": [
    {
     "name": "stdout",
     "output_type": "stream",
     "text": [
      " 12.56\n"
     ]
    }
   ],
   "source": [
    "area=lambda pie,r1,r2:pie*r1*r2\n",
    "print(\"\",area(3.14,2,2))"
   ]
  }
 ],
 "metadata": {
  "kernelspec": {
   "display_name": "Python 3 (ipykernel)",
   "language": "python",
   "name": "python3"
  },
  "language_info": {
   "codemirror_mode": {
    "name": "ipython",
    "version": 3
   },
   "file_extension": ".py",
   "mimetype": "text/x-python",
   "name": "python",
   "nbconvert_exporter": "python",
   "pygments_lexer": "ipython3",
   "version": "3.9.12"
  }
 },
 "nbformat": 4,
 "nbformat_minor": 5
}
