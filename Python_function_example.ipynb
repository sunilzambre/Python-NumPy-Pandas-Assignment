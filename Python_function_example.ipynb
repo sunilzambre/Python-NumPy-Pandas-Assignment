{
 "cells": [
  {
   "cell_type": "markdown",
   "id": "fb6dc1a9-7995-4322-8546-599e5f1b5118",
   "metadata": {},
   "source": [
    "### 1] Temperature conversion"
   ]
  },
  {
   "cell_type": "code",
   "execution_count": 1,
   "id": "4b026316-b6a9-4e6d-bf29-ae13d5c4ea4c",
   "metadata": {},
   "outputs": [
    {
     "name": "stdout",
     "output_type": "stream",
     "text": [
      "77.0\n",
      "25.0\n"
     ]
    }
   ],
   "source": [
    "def convert_temperature(temp,unit):\n",
    "    \"\"\"This function converts temperature between celsius and Fahrenheit\"\"\"\n",
    "    if unit=='C':\n",
    "        return temp * 9/5 + 32   ##Celsius to farhenheit\n",
    "    elif unit=='F':\n",
    "        return (temp-32) *5/9   ##Fahrenheit to Celcius\n",
    "    else:\n",
    "        return None \n",
    "\n",
    "print(convert_temperature(25,'C'))\n",
    "print(convert_temperature(77,'F'))"
   ]
  },
  {
   "cell_type": "markdown",
   "id": "61756843-06f6-4684-bd7c-589c9fb6af4a",
   "metadata": {},
   "source": [
    "### 2] Password Stgength checker"
   ]
  },
  {
   "cell_type": "code",
   "execution_count": 2,
   "id": "06f883fa-22a3-4544-8b01-1dbf6ff4172f",
   "metadata": {},
   "outputs": [],
   "source": [
    "def strong_pwd(password):\n",
    "    \"\"\"This function checks if the password is strong or not\"\"\"\n",
    "    if len(password)<8:\n",
    "        return False\n",
    "    if not any (char.isdigit() for char in password):\n",
    "        return False\n",
    "    if not any (char.islower() for char in password):\n",
    "        return False\n",
    "    if not any (char.isupper()  for char in password):\n",
    "        return False\n",
    "    if not any (char in '!@#$%^&*()_+' for char in password):\n",
    "        return False\n",
    "    return True"
   ]
  },
  {
   "cell_type": "code",
   "execution_count": 3,
   "id": "489082e9-148b-4482-aefc-7a056c140773",
   "metadata": {},
   "outputs": [
    {
     "name": "stdout",
     "output_type": "stream",
     "text": [
      "False\n",
      "True\n"
     ]
    }
   ],
   "source": [
    "## Calling the function\n",
    "print(strong_pwd(\"Weak Password\"))\n",
    "print(strong_pwd(\"Str0ng Password!\"))"
   ]
  },
  {
   "cell_type": "markdown",
   "id": "d3d594eb-5768-4928-a1a5-32d90f5002f8",
   "metadata": {},
   "source": [
    "### 3] Calculate the total cost of items in a shopping cart"
   ]
  },
  {
   "cell_type": "code",
   "execution_count": 4,
   "id": "f4c2d7b5-a802-4472-9b4f-7bb80b219561",
   "metadata": {},
   "outputs": [
    {
     "name": "stdout",
     "output_type": "stream",
     "text": [
      "2.0999999999999996\n"
     ]
    }
   ],
   "source": [
    "def total_cost_cart(cart):\n",
    "    total_cost=0\n",
    "    for item in cart:\n",
    "        total_cost =item['price'] * item['quantity']\n",
    "    return total_cost   \n",
    "## Example of cart data\n",
    "\n",
    "cart =[{'name':'Apple','price':0.5,'quantity':4},\n",
    "       {'name':'Banana','price':0.3,'quantity':6},\n",
    "       {'name':'Orange','price':0.7,'quantity':3}\n",
    "       ]\n",
    "\n",
    "## calling the function \n",
    "total_cost =total_cost_cart(cart)\n",
    "print(total_cost)"
   ]
  }
 ],
 "metadata": {
  "kernelspec": {
   "display_name": "Python 3 (ipykernel)",
   "language": "python",
   "name": "python3"
  },
  "language_info": {
   "codemirror_mode": {
    "name": "ipython",
    "version": 3
   },
   "file_extension": ".py",
   "mimetype": "text/x-python",
   "name": "python",
   "nbconvert_exporter": "python",
   "pygments_lexer": "ipython3",
   "version": "3.12.7"
  }
 },
 "nbformat": 4,
 "nbformat_minor": 5
}
