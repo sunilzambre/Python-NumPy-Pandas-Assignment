{
 "cells": [
  {
   "cell_type": "markdown",
   "id": "66d942f5-5d00-4899-a89a-90987ca4844a",
   "metadata": {},
   "source": [
    "### Exception try, except block"
   ]
  },
  {
   "cell_type": "code",
   "execution_count": 1,
   "id": "9d7364f6-4fb2-41b1-8acd-ee9ca32146d1",
   "metadata": {},
   "outputs": [
    {
     "name": "stdout",
     "output_type": "stream",
     "text": [
      "The variable has not been assigned\n"
     ]
    }
   ],
   "source": [
    "try:\n",
    "    a = b\n",
    "except:\n",
    "    print(\"The variable has not been assigned\")"
   ]
  },
  {
   "cell_type": "code",
   "execution_count": 2,
   "id": "39ff4c5a-8a54-49fc-988d-e6cb820e50d0",
   "metadata": {},
   "outputs": [
    {
     "name": "stdout",
     "output_type": "stream",
     "text": [
      "name 'b' is not defined\n"
     ]
    }
   ],
   "source": [
    "try:\n",
    "    a=b\n",
    "except NameError as excp:\n",
    "    print(excp)           #we can print same message during NameError:name 'b' is not defined"
   ]
  },
  {
   "cell_type": "code",
   "execution_count": 3,
   "id": "109abdf8-ecf1-4623-a184-9fad4b4e423b",
   "metadata": {},
   "outputs": [
    {
     "name": "stdout",
     "output_type": "stream",
     "text": [
      "division by zero\n",
      "Please enter the denominator greater than 0\n"
     ]
    }
   ],
   "source": [
    "try:\n",
    "    result=1/0\n",
    "except ZeroDivisionError as exp:\n",
    "    print(exp)\n",
    "    print(\"Please enter the denominator greater than 0\")"
   ]
  },
  {
   "cell_type": "code",
   "execution_count": 4,
   "id": "4f29fb46-d6a2-421c-aae7-22fd9b2f6a3a",
   "metadata": {},
   "outputs": [
    {
     "name": "stdout",
     "output_type": "stream",
     "text": [
      "name 'b' is not defined\n",
      "main exception got caught here\n"
     ]
    }
   ],
   "source": [
    "try:\n",
    "    result=1/2\n",
    "    a=b\n",
    "except ZeroDivisionError as exc:\n",
    "    print(exc)\n",
    "    print(\"please enter the denominator greater than zero\")\n",
    "except Exception as ex1:\n",
    "    print(ex1)\n",
    "    print(\"main exception got caught here\")"
   ]
  },
  {
   "cell_type": "code",
   "execution_count": 5,
   "id": "c483866d-c842-439f-a256-c2d6a2bff516",
   "metadata": {},
   "outputs": [
    {
     "name": "stdin",
     "output_type": "stream",
     "text": [
      "Enter a number: 2\n"
     ]
    }
   ],
   "source": [
    "try:\n",
    "    num=int(input(\"Enter a number:\"))\n",
    "    result=10/num\n",
    "except ValueError:\n",
    "    print(\"This is not a valid number\")\n",
    "except ZeroDivisionError:\n",
    "    print(\"enter denominator greater than 0\")"
   ]
  },
  {
   "cell_type": "code",
   "execution_count": 6,
   "id": "77bcc85d-a5ab-4af4-91d8-faaedfc98845",
   "metadata": {},
   "outputs": [
    {
     "name": "stdin",
     "output_type": "stream",
     "text": [
      "Enter a number: 12\n"
     ]
    },
    {
     "name": "stdout",
     "output_type": "stream",
     "text": [
      "The result is 0.8333333333333334\n",
      "Execution of the program is completed.......\n"
     ]
    }
   ],
   "source": [
    "## try, except and finally\n",
    "try:\n",
    "    num=int(input(\"Enter a number:\"))\n",
    "    result=10/num\n",
    "except ValueError:\n",
    "    print(\"Thats not a valid number!\")\n",
    "except ZeroDivisionError:\n",
    "    print(\"You can't divide by zero!\")\n",
    "except Exception as ex:\n",
    "    print(ex)\n",
    "else:\n",
    "    print(f\"The result is {result}\")\n",
    "finally:\n",
    "    print(\"Execution of the program is completed.......\")"
   ]
  },
  {
   "cell_type": "code",
   "execution_count": null,
   "id": "232c589a-99f6-419c-9644-fd48a07a9af2",
   "metadata": {},
   "outputs": [],
   "source": []
  }
 ],
 "metadata": {
  "kernelspec": {
   "display_name": "Python 3 (ipykernel)",
   "language": "python",
   "name": "python3"
  },
  "language_info": {
   "codemirror_mode": {
    "name": "ipython",
    "version": 3
   },
   "file_extension": ".py",
   "mimetype": "text/x-python",
   "name": "python",
   "nbconvert_exporter": "python",
   "pygments_lexer": "ipython3",
   "version": "3.12.7"
  }
 },
 "nbformat": 4,
 "nbformat_minor": 5
}
