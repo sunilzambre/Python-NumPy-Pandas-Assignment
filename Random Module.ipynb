{
 "cells": [
  {
   "cell_type": "markdown",
   "id": "bc7e0098",
   "metadata": {},
   "source": [
    "# Random Modeule"
   ]
  },
  {
   "cell_type": "code",
   "execution_count": 1,
   "id": "cf9d8bc5",
   "metadata": {},
   "outputs": [],
   "source": [
    "#import random module\n",
    "import random"
   ]
  },
  {
   "cell_type": "markdown",
   "id": "4b2acff1",
   "metadata": {},
   "source": [
    "## 1.random.random()"
   ]
  },
  {
   "cell_type": "code",
   "execution_count": 2,
   "id": "b40864de",
   "metadata": {},
   "outputs": [
    {
     "data": {
      "text/plain": [
       "0.0722839318569769"
      ]
     },
     "execution_count": 2,
     "metadata": {},
     "output_type": "execute_result"
    }
   ],
   "source": [
    "#generate a random number between 0.0 and 1.0 random float value\n",
    "random.random()"
   ]
  },
  {
   "cell_type": "markdown",
   "id": "223b10d1",
   "metadata": {},
   "source": [
    "# 2.random.randint(start,end)"
   ]
  },
  {
   "cell_type": "code",
   "execution_count": 3,
   "id": "9383d16c",
   "metadata": {},
   "outputs": [
    {
     "data": {
      "text/plain": [
       "6"
      ]
     },
     "execution_count": 3,
     "metadata": {},
     "output_type": "execute_result"
    }
   ],
   "source": [
    "#generate a random integer value & generate a random number between the specified number and also specific value\n",
    "random.randint(1,10)"
   ]
  },
  {
   "cell_type": "markdown",
   "id": "45b5eeb4",
   "metadata": {},
   "source": [
    "# 3.random.randrange(start,end,step)"
   ]
  },
  {
   "cell_type": "code",
   "execution_count": 4,
   "id": "399221f8",
   "metadata": {},
   "outputs": [
    {
     "data": {
      "text/plain": [
       "10"
      ]
     },
     "execution_count": 4,
     "metadata": {},
     "output_type": "execute_result"
    }
   ],
   "source": [
    "#generate a random value but not include last number\n",
    "random.randrange(1,12)"
   ]
  },
  {
   "cell_type": "code",
   "execution_count": 5,
   "id": "15dc35b8",
   "metadata": {},
   "outputs": [
    {
     "data": {
      "text/plain": [
       "5"
      ]
     },
     "execution_count": 5,
     "metadata": {},
     "output_type": "execute_result"
    }
   ],
   "source": [
    "random.randrange(1,7)"
   ]
  },
  {
   "cell_type": "code",
   "execution_count": 6,
   "id": "ced2865c",
   "metadata": {},
   "outputs": [
    {
     "data": {
      "text/plain": [
       "28"
      ]
     },
     "execution_count": 6,
     "metadata": {},
     "output_type": "execute_result"
    }
   ],
   "source": [
    "random.randrange(1,99)& "
   ]
  },
  {
   "cell_type": "markdown",
   "id": "56f1dd28",
   "metadata": {},
   "source": [
    "# 4.random.choice()"
   ]
  },
  {
   "cell_type": "code",
   "execution_count": 7,
   "id": "97586e2b",
   "metadata": {},
   "outputs": [
    {
     "data": {
      "text/plain": [
       "'santosh'"
      ]
     },
     "execution_count": 7,
     "metadata": {},
     "output_type": "execute_result"
    }
   ],
   "source": [
    "#it will pickup a random element from a iterable sequential object like list, tuple & string\n",
    "obj = ['ram','ravi','santosh','rahul','sunil']\n",
    "random.choice(obj)"
   ]
  },
  {
   "cell_type": "code",
   "execution_count": 9,
   "id": "761b4ecb",
   "metadata": {},
   "outputs": [
    {
     "data": {
      "text/plain": [
       "'l'"
      ]
     },
     "execution_count": 9,
     "metadata": {},
     "output_type": "execute_result"
    }
   ],
   "source": [
    "obj1 = 'Hellowelcometomyworld'\n",
    "random.choice(obj1)"
   ]
  },
  {
   "cell_type": "markdown",
   "id": "7faa8e5e",
   "metadata": {},
   "source": [
    "# 5.random.shuffle()"
   ]
  },
  {
   "cell_type": "code",
   "execution_count": 10,
   "id": "0c9150ee",
   "metadata": {},
   "outputs": [
    {
     "name": "stdout",
     "output_type": "stream",
     "text": [
      "['f', 'b', 'a', 'g', 'd', 'h', 'c', 'i', 'e']\n"
     ]
    }
   ],
   "source": [
    "#This method is used to shuffle a sequence(list) shuffling means changing a position of elements of the sequence\n",
    "list1 = ['a','b','c','d','e','f','g','h','i']\n",
    "random.shuffle(list1)\n",
    "print(list1)"
   ]
  },
  {
   "cell_type": "code",
   "execution_count": 11,
   "id": "968474db",
   "metadata": {},
   "outputs": [
    {
     "name": "stdout",
     "output_type": "stream",
     "text": [
      "['sachin', 'atul', 'ram', 'sunil', 'rahul', 'anil']\n"
     ]
    }
   ],
   "source": [
    "list2 = ['sunil','rahul','atul','sachin','anil','ram']\n",
    "random.shuffle(list2)\n",
    "print(list2)"
   ]
  },
  {
   "cell_type": "code",
   "execution_count": null,
   "id": "8ed931dd",
   "metadata": {},
   "outputs": [],
   "source": []
  }
 ],
 "metadata": {
  "kernelspec": {
   "display_name": "Python 3 (ipykernel)",
   "language": "python",
   "name": "python3"
  },
  "language_info": {
   "codemirror_mode": {
    "name": "ipython",
    "version": 3
   },
   "file_extension": ".py",
   "mimetype": "text/x-python",
   "name": "python",
   "nbconvert_exporter": "python",
   "pygments_lexer": "ipython3",
   "version": "3.9.12"
  }
 },
 "nbformat": 4,
 "nbformat_minor": 5
}
