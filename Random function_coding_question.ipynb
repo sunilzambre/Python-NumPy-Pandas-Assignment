{
 "cells": [
  {
   "cell_type": "markdown",
   "id": "e2276806",
   "metadata": {},
   "source": [
    "## 1.Write a python generate a random number between 1 and 10."
   ]
  },
  {
   "cell_type": "code",
   "execution_count": 1,
   "id": "6150b99f",
   "metadata": {},
   "outputs": [
    {
     "name": "stdout",
     "output_type": "stream",
     "text": [
      "The random number is: 1\n"
     ]
    }
   ],
   "source": [
    "import random\n",
    "\n",
    "random_number = random.randint(1, 10)\n",
    "print(\"The random number is:\", random_number)"
   ]
  },
  {
   "cell_type": "markdown",
   "id": "dfd8e493",
   "metadata": {},
   "source": [
    "## 2.Write a python code to generate a random number between 1 and 6 (inclusive), simulating the roll of a six-sided die."
   ]
  },
  {
   "cell_type": "code",
   "execution_count": 2,
   "id": "a583464b",
   "metadata": {},
   "outputs": [
    {
     "name": "stdout",
     "output_type": "stream",
     "text": [
      "You rolled a 4\n"
     ]
    }
   ],
   "source": [
    "import random\n",
    "\n",
    "roll = random.randint(1, 6)\n",
    "print(\"You rolled a\", roll)"
   ]
  },
  {
   "cell_type": "markdown",
   "id": "8ed8910c",
   "metadata": {},
   "source": [
    "## 3.Write a python code to generate a random float between 0 and 1, using the uniform() function."
   ]
  },
  {
   "cell_type": "code",
   "execution_count": 3,
   "id": "643caf9b",
   "metadata": {},
   "outputs": [
    {
     "name": "stdout",
     "output_type": "stream",
     "text": [
      "The random float is: 0.38710117692491564\n"
     ]
    }
   ],
   "source": [
    "import random\n",
    "\n",
    "rand_float = random.uniform(0, 1)\n",
    "print(\"The random float is:\", rand_float)"
   ]
  },
  {
   "cell_type": "markdown",
   "id": "60b229d9",
   "metadata": {},
   "source": [
    "## 4.Write a code to generate a random integer between 0 and 9 (inclusive), using the randrange() function."
   ]
  },
  {
   "cell_type": "code",
   "execution_count": 4,
   "id": "c5d3ab3f",
   "metadata": {},
   "outputs": [
    {
     "name": "stdout",
     "output_type": "stream",
     "text": [
      "The random integer is: 0\n"
     ]
    }
   ],
   "source": [
    "import random\n",
    "\n",
    "rand_int = random.randrange(10)\n",
    "print(\"The random integer is:\", rand_int)"
   ]
  },
  {
   "cell_type": "markdown",
   "id": "341db6a0",
   "metadata": {},
   "source": [
    "## 5. Write a code for randomly select an item from a list of friend using the choice() function."
   ]
  },
  {
   "cell_type": "code",
   "execution_count": 5,
   "id": "3a126428",
   "metadata": {},
   "outputs": [
    {
     "name": "stdout",
     "output_type": "stream",
     "text": [
      "The randomly selected friend is: Santosh\n"
     ]
    }
   ],
   "source": [
    "import random\n",
    "\n",
    "friend = [\"Sunil\", \"Rahul\", \"Santosh\", \"Tushar\", \"Anil\"]\n",
    "rand_frn = random.choice(friend)\n",
    "print(\"The randomly selected friend is:\", rand_frn)"
   ]
  }
 ],
 "metadata": {
  "kernelspec": {
   "display_name": "Python 3 (ipykernel)",
   "language": "python",
   "name": "python3"
  },
  "language_info": {
   "codemirror_mode": {
    "name": "ipython",
    "version": 3
   },
   "file_extension": ".py",
   "mimetype": "text/x-python",
   "name": "python",
   "nbconvert_exporter": "python",
   "pygments_lexer": "ipython3",
   "version": "3.9.12"
  }
 },
 "nbformat": 4,
 "nbformat_minor": 5
}
