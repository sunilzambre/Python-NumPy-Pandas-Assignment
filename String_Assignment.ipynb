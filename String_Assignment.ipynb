{
 "cells": [
  {
   "cell_type": "code",
   "execution_count": 1,
   "id": "69670f9e",
   "metadata": {},
   "outputs": [],
   "source": [
    "name =\"Sunil Zambare\""
   ]
  },
  {
   "cell_type": "code",
   "execution_count": 2,
   "id": "d0f19492",
   "metadata": {},
   "outputs": [
    {
     "data": {
      "text/plain": [
       "'sUNIL zAMBARE'"
      ]
     },
     "execution_count": 2,
     "metadata": {},
     "output_type": "execute_result"
    }
   ],
   "source": [
    "name.swapcase()"
   ]
  },
  {
   "cell_type": "code",
   "execution_count": 3,
   "id": "7506a10e",
   "metadata": {},
   "outputs": [
    {
     "data": {
      "text/plain": [
       "'Sunil Zambare'"
      ]
     },
     "execution_count": 3,
     "metadata": {},
     "output_type": "execute_result"
    }
   ],
   "source": [
    "name.title()"
   ]
  },
  {
   "cell_type": "code",
   "execution_count": 4,
   "id": "62e18914",
   "metadata": {},
   "outputs": [
    {
     "data": {
      "text/plain": [
       "'Sunil zambare'"
      ]
     },
     "execution_count": 4,
     "metadata": {},
     "output_type": "execute_result"
    }
   ],
   "source": [
    "name.capitalize()"
   ]
  },
  {
   "cell_type": "code",
   "execution_count": 5,
   "id": "1e46de0b",
   "metadata": {},
   "outputs": [
    {
     "data": {
      "text/plain": [
       "'erabmaZ linuS'"
      ]
     },
     "execution_count": 5,
     "metadata": {},
     "output_type": "execute_result"
    }
   ],
   "source": [
    "#Reversing String\n",
    "name[::-1]"
   ]
  },
  {
   "cell_type": "code",
   "execution_count": 6,
   "id": "0b4ef237",
   "metadata": {},
   "outputs": [
    {
     "data": {
      "text/plain": [
       "<reversed at 0x1aced3ae370>"
      ]
     },
     "execution_count": 6,
     "metadata": {},
     "output_type": "execute_result"
    }
   ],
   "source": [
    "reversed(name)"
   ]
  },
  {
   "cell_type": "code",
   "execution_count": 7,
   "id": "33e12b10",
   "metadata": {},
   "outputs": [
    {
     "data": {
      "text/plain": [
       "'e r a b m a Z   l i n u S'"
      ]
     },
     "execution_count": 7,
     "metadata": {},
     "output_type": "execute_result"
    }
   ],
   "source": [
    " \" \".join(reversed(name))"
   ]
  },
  {
   "cell_type": "code",
   "execution_count": 8,
   "id": "4206c714",
   "metadata": {},
   "outputs": [
    {
     "data": {
      "text/plain": [
       "'KSuniluSunilmSunilaSunilr'"
      ]
     },
     "execution_count": 8,
     "metadata": {},
     "output_type": "execute_result"
    }
   ],
   "source": [
    "\"Sunil\".join(\"Kumar\")"
   ]
  },
  {
   "cell_type": "code",
   "execution_count": 9,
   "id": "e6e828b2",
   "metadata": {},
   "outputs": [
    {
     "data": {
      "text/plain": [
       "'a b c d'"
      ]
     },
     "execution_count": 9,
     "metadata": {},
     "output_type": "execute_result"
    }
   ],
   "source": [
    "\" \".join(\"abcd\")"
   ]
  },
  {
   "cell_type": "code",
   "execution_count": 10,
   "id": "afc952bc",
   "metadata": {},
   "outputs": [
    {
     "data": {
      "text/plain": [
       "'n o a g s a t'"
      ]
     },
     "execution_count": 10,
     "metadata": {},
     "output_type": "execute_result"
    }
   ],
   "source": [
    "\" \".join(reversed(\"tasgaon\"))"
   ]
  },
  {
   "cell_type": "code",
   "execution_count": 11,
   "id": "4fa280de",
   "metadata": {},
   "outputs": [
    {
     "data": {
      "text/plain": [
       "'N Data Science U Data Science S'"
      ]
     },
     "execution_count": 11,
     "metadata": {},
     "output_type": "execute_result"
    }
   ],
   "source": [
    "\" Data Science \".join(reversed(\"SUN\"))"
   ]
  },
  {
   "cell_type": "code",
   "execution_count": 12,
   "id": "40983f5d",
   "metadata": {},
   "outputs": [
    {
     "data": {
      "text/plain": [
       "'<reversed object at 0x000001ACED4181F0>'"
      ]
     },
     "execution_count": 12,
     "metadata": {},
     "output_type": "execute_result"
    }
   ],
   "source": [
    "str(reversed(\"and\"))"
   ]
  },
  {
   "cell_type": "code",
   "execution_count": 13,
   "id": "53a97d60",
   "metadata": {},
   "outputs": [
    {
     "data": {
      "text/plain": [
       "['s', 'g', 'n', 'i', 'k']"
      ]
     },
     "execution_count": 13,
     "metadata": {},
     "output_type": "execute_result"
    }
   ],
   "source": [
    "## typecasting\n",
    "list(reversed(\"kings\"))"
   ]
  },
  {
   "cell_type": "code",
   "execution_count": 14,
   "id": "da995de8",
   "metadata": {},
   "outputs": [],
   "source": [
    "str1=\"Thala Kings\""
   ]
  },
  {
   "cell_type": "code",
   "execution_count": 15,
   "id": "64373d86",
   "metadata": {},
   "outputs": [
    {
     "data": {
      "text/plain": [
       "'Thala Kings'"
      ]
     },
     "execution_count": 15,
     "metadata": {},
     "output_type": "execute_result"
    }
   ],
   "source": [
    "str1"
   ]
  },
  {
   "cell_type": "code",
   "execution_count": 16,
   "id": "08eae12d",
   "metadata": {},
   "outputs": [
    {
     "data": {
      "text/plain": [
       "'TSuperhSuperaSuperlSuperaSuper SuperKSuperiSupernSupergSupers'"
      ]
     },
     "execution_count": 16,
     "metadata": {},
     "output_type": "execute_result"
    }
   ],
   "source": [
    "\"Super\".join(str1)"
   ]
  },
  {
   "cell_type": "code",
   "execution_count": 17,
   "id": "73ea1f42",
   "metadata": {},
   "outputs": [],
   "source": [
    "#Renovung character from the end of thr string\n",
    "string_a=\" Python is Easy \""
   ]
  },
  {
   "cell_type": "code",
   "execution_count": 18,
   "id": "90e722c4",
   "metadata": {},
   "outputs": [
    {
     "data": {
      "text/plain": [
       "'Python is Easy'"
      ]
     },
     "execution_count": 18,
     "metadata": {},
     "output_type": "execute_result"
    }
   ],
   "source": [
    "string_a.strip(\" \")"
   ]
  },
  {
   "cell_type": "code",
   "execution_count": 19,
   "id": "00668302",
   "metadata": {},
   "outputs": [
    {
     "data": {
      "text/plain": [
       "'Python is Easy '"
      ]
     },
     "execution_count": 19,
     "metadata": {},
     "output_type": "execute_result"
    }
   ],
   "source": [
    "string_a.lstrip(\" \")"
   ]
  },
  {
   "cell_type": "code",
   "execution_count": 20,
   "id": "1b6047b6",
   "metadata": {},
   "outputs": [
    {
     "data": {
      "text/plain": [
       "' Python is Easy'"
      ]
     },
     "execution_count": 20,
     "metadata": {},
     "output_type": "execute_result"
    }
   ],
   "source": [
    "string_a.rstrip(\" \")"
   ]
  },
  {
   "cell_type": "code",
   "execution_count": 21,
   "id": "f316a5af",
   "metadata": {},
   "outputs": [
    {
     "data": {
      "text/plain": [
       "'Greeting from Ayodhya Super kings '"
      ]
     },
     "execution_count": 21,
     "metadata": {},
     "output_type": "execute_result"
    }
   ],
   "source": [
    "string_n =\"Greeting to Ayodhya Super kings \"\n",
    "string_n.replace(\"to\",\"from\")"
   ]
  },
  {
   "cell_type": "code",
   "execution_count": 22,
   "id": "beb35271",
   "metadata": {},
   "outputs": [
    {
     "data": {
      "text/plain": [
       "'Treeting to Royal challengers'"
      ]
     },
     "execution_count": 22,
     "metadata": {},
     "output_type": "execute_result"
    }
   ],
   "source": [
    "string_n =\"Greeting to Royal challengers\"\n",
    "string_n.replace(\"G\",\"T\")"
   ]
  },
  {
   "cell_type": "code",
   "execution_count": 23,
   "id": "d5e67b3f",
   "metadata": {},
   "outputs": [
    {
     "name": "stdout",
     "output_type": "stream",
     "text": [
      "1842226524928\n",
      "1842226515520\n"
     ]
    }
   ],
   "source": [
    "string_n =\"Greeting to Royal challengers\"\n",
    "var_a=string_n.replace(\"G\",\"T\")\n",
    "print(id(string_n))\n",
    "print(id(var_a))"
   ]
  },
  {
   "cell_type": "code",
   "execution_count": 24,
   "id": "9e68a1ee",
   "metadata": {},
   "outputs": [
    {
     "data": {
      "text/plain": [
       "'Hello Maharashtra'"
      ]
     },
     "execution_count": 24,
     "metadata": {},
     "output_type": "execute_result"
    }
   ],
   "source": [
    "\"Hello Maharashtra\""
   ]
  },
  {
   "cell_type": "code",
   "execution_count": 25,
   "id": "b7a572ba",
   "metadata": {},
   "outputs": [],
   "source": [
    "string_n=\"superkings@gmail.com\""
   ]
  },
  {
   "cell_type": "code",
   "execution_count": 26,
   "id": "50a0b0af",
   "metadata": {},
   "outputs": [
    {
     "data": {
      "text/plain": [
       "'superkings gmail.com'"
      ]
     },
     "execution_count": 26,
     "metadata": {},
     "output_type": "execute_result"
    }
   ],
   "source": [
    "var_a = string_n.replace(\"@\",\" \")\n",
    "var_a"
   ]
  },
  {
   "cell_type": "code",
   "execution_count": 27,
   "id": "a268ec0c",
   "metadata": {},
   "outputs": [
    {
     "data": {
      "text/plain": [
       "'hello    Maharashtra'"
      ]
     },
     "execution_count": 27,
     "metadata": {},
     "output_type": "execute_result"
    }
   ],
   "source": [
    "'hello \\t Maharashtra'.expandtabs()"
   ]
  },
  {
   "cell_type": "code",
   "execution_count": 28,
   "id": "46e5841e",
   "metadata": {},
   "outputs": [],
   "source": [
    "str1 = \"Welcome to Tasgaon.Welcome to Gra ity \""
   ]
  },
  {
   "cell_type": "code",
   "execution_count": 29,
   "id": "a6bcd25b",
   "metadata": {},
   "outputs": [
    {
     "data": {
      "text/plain": [
       "'Welcome to Tasgaon.Welcome to Grape City '"
      ]
     },
     "execution_count": 29,
     "metadata": {},
     "output_type": "execute_result"
    }
   ],
   "source": [
    "var_a = str1.replace(\"Gra\",\"Grape\" ).replace(\"ity\",\"City\" )\n",
    "var_a"
   ]
  },
  {
   "cell_type": "code",
   "execution_count": 30,
   "id": "c53234ea",
   "metadata": {},
   "outputs": [
    {
     "data": {
      "text/plain": [
       "False"
      ]
     },
     "execution_count": 30,
     "metadata": {},
     "output_type": "execute_result"
    }
   ],
   "source": [
    "str1.isupper()"
   ]
  },
  {
   "cell_type": "code",
   "execution_count": 31,
   "id": "f8da4daa",
   "metadata": {},
   "outputs": [
    {
     "data": {
      "text/plain": [
       "True"
      ]
     },
     "execution_count": 31,
     "metadata": {},
     "output_type": "execute_result"
    }
   ],
   "source": [
    "str1 = \"SUNIL\"\n",
    "str1.isupper()"
   ]
  },
  {
   "cell_type": "code",
   "execution_count": 32,
   "id": "c69df709",
   "metadata": {},
   "outputs": [
    {
     "data": {
      "text/plain": [
       "False"
      ]
     },
     "execution_count": 32,
     "metadata": {},
     "output_type": "execute_result"
    }
   ],
   "source": [
    "str1.islower()"
   ]
  },
  {
   "cell_type": "code",
   "execution_count": 33,
   "id": "19e34c48",
   "metadata": {},
   "outputs": [
    {
     "data": {
      "text/plain": [
       "False"
      ]
     },
     "execution_count": 33,
     "metadata": {},
     "output_type": "execute_result"
    }
   ],
   "source": [
    "str1.isspace()"
   ]
  },
  {
   "cell_type": "code",
   "execution_count": 34,
   "id": "a7fb4058",
   "metadata": {},
   "outputs": [
    {
     "data": {
      "text/plain": [
       "True"
      ]
     },
     "execution_count": 34,
     "metadata": {},
     "output_type": "execute_result"
    }
   ],
   "source": [
    "' '.isspace()"
   ]
  },
  {
   "cell_type": "code",
   "execution_count": 35,
   "id": "8a44f97d",
   "metadata": {},
   "outputs": [
    {
     "name": "stdout",
     "output_type": "stream",
     "text": [
      "Hello\n"
     ]
    }
   ],
   "source": [
    "if \" \".isspace():\n",
    "    print(\"Hello\")"
   ]
  },
  {
   "cell_type": "code",
   "execution_count": 36,
   "id": "3c326e3b",
   "metadata": {},
   "outputs": [
    {
     "data": {
      "text/plain": [
       "True"
      ]
     },
     "execution_count": 36,
     "metadata": {},
     "output_type": "execute_result"
    }
   ],
   "source": [
    "str2 = \"Technical Skills\"\n",
    "str2.endswith(\"s\")"
   ]
  },
  {
   "cell_type": "code",
   "execution_count": 37,
   "id": "574dfaca",
   "metadata": {},
   "outputs": [
    {
     "data": {
      "text/plain": [
       "True"
      ]
     },
     "execution_count": 37,
     "metadata": {},
     "output_type": "execute_result"
    }
   ],
   "source": [
    "str2.startswith(\"T\")"
   ]
  },
  {
   "cell_type": "code",
   "execution_count": 38,
   "id": "0b2572da",
   "metadata": {},
   "outputs": [
    {
     "data": {
      "text/plain": [
       "False"
      ]
     },
     "execution_count": 38,
     "metadata": {},
     "output_type": "execute_result"
    }
   ],
   "source": [
    " #check if all the character in string are alphanumeric\n",
    "a =\"abcd1234\"\n",
    "a.isnumeric()"
   ]
  },
  {
   "cell_type": "code",
   "execution_count": 39,
   "id": "9792d384",
   "metadata": {},
   "outputs": [
    {
     "data": {
      "text/plain": [
       "True"
      ]
     },
     "execution_count": 39,
     "metadata": {},
     "output_type": "execute_result"
    }
   ],
   "source": [
    "a=\"abcd1234\"\n",
    "a.isalnum()"
   ]
  },
  {
   "cell_type": "code",
   "execution_count": 40,
   "id": "70016796",
   "metadata": {},
   "outputs": [
    {
     "name": "stdout",
     "output_type": "stream",
     "text": [
      "16\n"
     ]
    }
   ],
   "source": [
    "#to count the number of character in the string\n",
    "count=0\n",
    "for i in str2:\n",
    "    count = count+1\n",
    "print(count)"
   ]
  },
  {
   "cell_type": "code",
   "execution_count": 41,
   "id": "305854b7",
   "metadata": {},
   "outputs": [
    {
     "data": {
      "text/plain": [
       "16"
      ]
     },
     "execution_count": 41,
     "metadata": {},
     "output_type": "execute_result"
    }
   ],
   "source": [
    "len(str2)"
   ]
  },
  {
   "cell_type": "code",
   "execution_count": 42,
   "id": "eb8a8ce8",
   "metadata": {},
   "outputs": [
    {
     "data": {
      "text/plain": [
       "1"
      ]
     },
     "execution_count": 42,
     "metadata": {},
     "output_type": "execute_result"
    }
   ],
   "source": [
    "str2.count(\"k\")"
   ]
  },
  {
   "cell_type": "code",
   "execution_count": 43,
   "id": "5874d18a",
   "metadata": {},
   "outputs": [
    {
     "data": {
      "text/plain": [
       "'Technical Skills'"
      ]
     },
     "execution_count": 43,
     "metadata": {},
     "output_type": "execute_result"
    }
   ],
   "source": [
    "str2"
   ]
  },
  {
   "cell_type": "code",
   "execution_count": 44,
   "id": "c986cad0",
   "metadata": {},
   "outputs": [
    {
     "name": "stdout",
     "output_type": "stream",
     "text": [
      "T e c h n i c a l   S k i l l s "
     ]
    }
   ],
   "source": [
    "for i in str2:\n",
    "    print(i,end=\" \")"
   ]
  },
  {
   "cell_type": "code",
   "execution_count": 45,
   "id": "e4b9c59e",
   "metadata": {},
   "outputs": [
    {
     "name": "stdout",
     "output_type": "stream",
     "text": [
      "T e c h n i c a l   S k i l l s "
     ]
    }
   ],
   "source": [
    "for i in range(len(str2)):\n",
    "    print(str2[i],end=\" \")"
   ]
  },
  {
   "cell_type": "code",
   "execution_count": 46,
   "id": "d698a69a",
   "metadata": {},
   "outputs": [
    {
     "data": {
      "text/plain": [
       "range(0, 16)"
      ]
     },
     "execution_count": 46,
     "metadata": {},
     "output_type": "execute_result"
    }
   ],
   "source": [
    "range(len(str2))"
   ]
  },
  {
   "cell_type": "code",
   "execution_count": 47,
   "id": "34c49529",
   "metadata": {},
   "outputs": [
    {
     "name": "stdout",
     "output_type": "stream",
     "text": [
      "0 = T\n",
      "1 = e\n",
      "2 = c\n",
      "3 = h\n",
      "4 = n\n",
      "5 = i\n",
      "6 = c\n",
      "7 = a\n",
      "8 = l\n",
      "9 =  \n",
      "10 = S\n",
      "11 = k\n",
      "12 = i\n",
      "13 = l\n",
      "14 = l\n",
      "15 = s\n"
     ]
    }
   ],
   "source": [
    "for i in range(len(str2)):\n",
    "    print(i,\"=\",str2[i])"
   ]
  },
  {
   "cell_type": "code",
   "execution_count": 48,
   "id": "f01f3006",
   "metadata": {},
   "outputs": [
    {
     "name": "stdout",
     "output_type": "stream",
     "text": [
      "s l l i k S   l a c i n h c e T "
     ]
    }
   ],
   "source": [
    "#We can use index to iterate string reverse direction\n",
    "for i in range(len(str2)-1,-1,-1):\n",
    "    print(str2[i],end=\" \")"
   ]
  },
  {
   "cell_type": "code",
   "execution_count": 49,
   "id": "f6da0288",
   "metadata": {},
   "outputs": [
    {
     "data": {
      "text/plain": [
       "15"
      ]
     },
     "execution_count": 49,
     "metadata": {},
     "output_type": "execute_result"
    }
   ],
   "source": [
    "#breakdow of above line\n",
    "len(str2)-1"
   ]
  },
  {
   "cell_type": "code",
   "execution_count": 50,
   "id": "af50e505",
   "metadata": {},
   "outputs": [
    {
     "data": {
      "text/plain": [
       "(15, -1)"
      ]
     },
     "execution_count": 50,
     "metadata": {},
     "output_type": "execute_result"
    }
   ],
   "source": [
    "len(str2)-1,-1"
   ]
  },
  {
   "cell_type": "code",
   "execution_count": 51,
   "id": "9d8b546a",
   "metadata": {},
   "outputs": [
    {
     "data": {
      "text/plain": [
       "(15, -1, -1)"
      ]
     },
     "execution_count": 51,
     "metadata": {},
     "output_type": "execute_result"
    }
   ],
   "source": [
    "len(str2)-1,-1,-1"
   ]
  },
  {
   "cell_type": "code",
   "execution_count": 52,
   "id": "6460b940",
   "metadata": {},
   "outputs": [
    {
     "name": "stdout",
     "output_type": "stream",
     "text": [
      "s l l i k S   l a c i n h c e T "
     ]
    }
   ],
   "source": [
    "for i in range(len(str2)-1,-1,-1):\n",
    "    print(str2[i],end=\" \")"
   ]
  },
  {
   "cell_type": "code",
   "execution_count": 53,
   "id": "682fe872",
   "metadata": {},
   "outputs": [
    {
     "name": "stdout",
     "output_type": "stream",
     "text": [
      "t s i t n e i c S   a t a D "
     ]
    }
   ],
   "source": [
    "string=\"Data Scientist\"\n",
    "ch=len(string)-1\n",
    "while ch>=0:\n",
    "    print(string[ch],end=\" \")\n",
    "    ch=ch-1"
   ]
  },
  {
   "cell_type": "code",
   "execution_count": 54,
   "id": "daa48500",
   "metadata": {},
   "outputs": [],
   "source": [
    "string = \"This is Last phase of my career\""
   ]
  },
  {
   "cell_type": "code",
   "execution_count": 55,
   "id": "4c2762b7",
   "metadata": {},
   "outputs": [],
   "source": [
    "ch = len(string)-1"
   ]
  },
  {
   "cell_type": "code",
   "execution_count": 56,
   "id": "0d1ec37b",
   "metadata": {},
   "outputs": [
    {
     "data": {
      "text/plain": [
       "30"
      ]
     },
     "execution_count": 56,
     "metadata": {},
     "output_type": "execute_result"
    }
   ],
   "source": [
    "ch"
   ]
  },
  {
   "cell_type": "code",
   "execution_count": 57,
   "id": "03d4b3d8",
   "metadata": {},
   "outputs": [
    {
     "data": {
      "text/plain": [
       "(' ', 's', 'i', ' ')"
      ]
     },
     "execution_count": 57,
     "metadata": {},
     "output_type": "execute_result"
    }
   ],
   "source": [
    "string[7],string[6],string[5],string[4]"
   ]
  },
  {
   "cell_type": "code",
   "execution_count": 58,
   "id": "3107b078",
   "metadata": {},
   "outputs": [
    {
     "name": "stdout",
     "output_type": "stream",
     "text": [
      "r\n",
      "e\n",
      "e\n",
      "r\n",
      "a\n",
      "c\n",
      " \n",
      "y\n",
      "m\n",
      " \n",
      "f\n",
      "o\n",
      " \n",
      "e\n",
      "s\n",
      "a\n",
      "h\n",
      "p\n",
      " \n",
      "t\n",
      "s\n",
      "a\n",
      "L\n",
      " \n",
      "s\n",
      "i\n",
      " \n",
      "s\n",
      "i\n",
      "h\n",
      "T\n"
     ]
    }
   ],
   "source": [
    "while ch>=0:\n",
    "    print(string[ch])\n",
    "    ch = ch - 1"
   ]
  },
  {
   "cell_type": "code",
   "execution_count": 59,
   "id": "e983b416",
   "metadata": {},
   "outputs": [
    {
     "data": {
      "text/plain": [
       "-1"
      ]
     },
     "execution_count": 59,
     "metadata": {},
     "output_type": "execute_result"
    }
   ],
   "source": [
    "ch"
   ]
  },
  {
   "cell_type": "code",
   "execution_count": 60,
   "id": "0d2b5b62",
   "metadata": {},
   "outputs": [
    {
     "name": "stdout",
     "output_type": "stream",
     "text": [
      "reerac ym fo esahp tsaL si sihT"
     ]
    }
   ],
   "source": [
    "#Best solution\n",
    "for i in range(len(string)):\n",
    "    print(string[len(string) - (i+1)],end=\"\")"
   ]
  },
  {
   "cell_type": "code",
   "execution_count": 61,
   "id": "476c1241",
   "metadata": {},
   "outputs": [],
   "source": [
    "#now in this tell me how check these 2 and Whether,is character is vowels or Not ?\n",
    "Name = \"Machine Learning\"\n",
    "vowels = \"AaEeIiOoUu\""
   ]
  },
  {
   "cell_type": "code",
   "execution_count": 62,
   "id": "72f2653f",
   "metadata": {},
   "outputs": [
    {
     "name": "stdout",
     "output_type": "stream",
     "text": [
      "M is not a vowel\n",
      "a is a vowel\n",
      "c is not a vowel\n",
      "h is not a vowel\n",
      "i is a vowel\n",
      "n is not a vowel\n",
      "e is a vowel\n",
      "  is not a vowel\n",
      "L is not a vowel\n",
      "e is a vowel\n",
      "a is a vowel\n",
      "r is not a vowel\n",
      "n is not a vowel\n",
      "i is a vowel\n",
      "n is not a vowel\n",
      "g is not a vowel\n"
     ]
    }
   ],
   "source": [
    "for ch in Name:\n",
    "    if ch in vowels:\n",
    "        print(\"{} is a vowel\".format(ch))\n",
    "    else:\n",
    "        print(\"{} is not a vowel\".format(ch))"
   ]
  },
  {
   "cell_type": "markdown",
   "id": "0d9f176e",
   "metadata": {},
   "source": [
    "## List"
   ]
  },
  {
   "cell_type": "code",
   "execution_count": 63,
   "id": "75f07284",
   "metadata": {},
   "outputs": [
    {
     "data": {
      "text/plain": [
       "list"
      ]
     },
     "execution_count": 63,
     "metadata": {},
     "output_type": "execute_result"
    }
   ],
   "source": [
    "type([])"
   ]
  },
  {
   "cell_type": "code",
   "execution_count": 64,
   "id": "f0c87114",
   "metadata": {},
   "outputs": [
    {
     "data": {
      "text/plain": [
       "['sunil', 'zambare', 'AI developer', 38]"
      ]
     },
     "execution_count": 64,
     "metadata": {},
     "output_type": "execute_result"
    }
   ],
   "source": [
    "[\"sunil\",\"zambare\",\"AI developer\",38]"
   ]
  },
  {
   "cell_type": "code",
   "execution_count": 65,
   "id": "e0ec16e2",
   "metadata": {},
   "outputs": [
    {
     "data": {
      "text/plain": [
       "[1, 2, 3, 4, 5]"
      ]
     },
     "execution_count": 65,
     "metadata": {},
     "output_type": "execute_result"
    }
   ],
   "source": [
    "list([1,2,3,4,5])"
   ]
  },
  {
   "cell_type": "code",
   "execution_count": 66,
   "id": "32e0137e",
   "metadata": {},
   "outputs": [
    {
     "data": {
      "text/plain": [
       "'Technical Skills'"
      ]
     },
     "execution_count": 66,
     "metadata": {},
     "output_type": "execute_result"
    }
   ],
   "source": [
    "str2"
   ]
  },
  {
   "cell_type": "code",
   "execution_count": 67,
   "id": "0be54855",
   "metadata": {},
   "outputs": [
    {
     "data": {
      "text/plain": [
       "['T',\n",
       " 'e',\n",
       " 'c',\n",
       " 'h',\n",
       " 'n',\n",
       " 'i',\n",
       " 'c',\n",
       " 'a',\n",
       " 'l',\n",
       " ' ',\n",
       " 'S',\n",
       " 'k',\n",
       " 'i',\n",
       " 'l',\n",
       " 'l',\n",
       " 's']"
      ]
     },
     "execution_count": 67,
     "metadata": {},
     "output_type": "execute_result"
    }
   ],
   "source": [
    "list(str2)"
   ]
  },
  {
   "cell_type": "code",
   "execution_count": 68,
   "id": "eec48fb9",
   "metadata": {},
   "outputs": [],
   "source": [
    "str1 = \"technical skill is important\""
   ]
  },
  {
   "cell_type": "code",
   "execution_count": 69,
   "id": "7abafd15",
   "metadata": {},
   "outputs": [
    {
     "data": {
      "text/plain": [
       "['technical', 'skill', 'is', 'important']"
      ]
     },
     "execution_count": 69,
     "metadata": {},
     "output_type": "execute_result"
    }
   ],
   "source": [
    "list(str1.split(\" \"))"
   ]
  },
  {
   "cell_type": "code",
   "execution_count": 70,
   "id": "e90d4fc2",
   "metadata": {},
   "outputs": [
    {
     "data": {
      "text/plain": [
       "['technical', 'skill', 'is', 'important']"
      ]
     },
     "execution_count": 70,
     "metadata": {},
     "output_type": "execute_result"
    }
   ],
   "source": [
    "str1.split(\" \")"
   ]
  },
  {
   "cell_type": "code",
   "execution_count": 71,
   "id": "4b2c00cb",
   "metadata": {},
   "outputs": [],
   "source": [
    "lst1=str1.split(\" \")"
   ]
  },
  {
   "cell_type": "code",
   "execution_count": 72,
   "id": "2d413378",
   "metadata": {},
   "outputs": [
    {
     "data": {
      "text/plain": [
       "['skill', 'is', 'important']"
      ]
     },
     "execution_count": 72,
     "metadata": {},
     "output_type": "execute_result"
    }
   ],
   "source": [
    "lst1[1:]"
   ]
  },
  {
   "cell_type": "code",
   "execution_count": 73,
   "id": "b55c4196",
   "metadata": {},
   "outputs": [
    {
     "data": {
      "text/plain": [
       "'technical'"
      ]
     },
     "execution_count": 73,
     "metadata": {},
     "output_type": "execute_result"
    }
   ],
   "source": [
    "lst1[0]"
   ]
  },
  {
   "cell_type": "code",
   "execution_count": 74,
   "id": "3110d21b",
   "metadata": {},
   "outputs": [
    {
     "data": {
      "text/plain": [
       "['technical', 'skills', 'is', 'important']"
      ]
     },
     "execution_count": 74,
     "metadata": {},
     "output_type": "execute_result"
    }
   ],
   "source": [
    "lst1[1] = \"skills\"\n",
    "lst1"
   ]
  },
  {
   "cell_type": "code",
   "execution_count": 75,
   "id": "013feaea",
   "metadata": {},
   "outputs": [
    {
     "data": {
      "text/plain": [
       "['important', 'skills']"
      ]
     },
     "execution_count": 75,
     "metadata": {},
     "output_type": "execute_result"
    }
   ],
   "source": [
    "lst1[::-2]"
   ]
  },
  {
   "cell_type": "code",
   "execution_count": 76,
   "id": "dbcd026e",
   "metadata": {},
   "outputs": [
    {
     "data": {
      "text/plain": [
       "['technical']"
      ]
     },
     "execution_count": 76,
     "metadata": {},
     "output_type": "execute_result"
    }
   ],
   "source": [
    "lst1[-4::-2]"
   ]
  },
  {
   "cell_type": "code",
   "execution_count": 77,
   "id": "f8e5763e",
   "metadata": {},
   "outputs": [
    {
     "data": {
      "text/plain": [
       "['technical', 'skills', 'is', 'important', 'new element', 3]"
      ]
     },
     "execution_count": 77,
     "metadata": {},
     "output_type": "execute_result"
    }
   ],
   "source": [
    "#concatination operation\n",
    "lst1 + [\"new element\",3]"
   ]
  },
  {
   "cell_type": "code",
   "execution_count": 78,
   "id": "fea16265",
   "metadata": {},
   "outputs": [
    {
     "data": {
      "text/plain": [
       "['technical', 'skills', 'is', 'important', ['Nested new element', 3]]"
      ]
     },
     "execution_count": 78,
     "metadata": {},
     "output_type": "execute_result"
    }
   ],
   "source": [
    "# multi nested list\n",
    "lst1 + [[\"Nested new element\",3]]"
   ]
  },
  {
   "cell_type": "code",
   "execution_count": 79,
   "id": "c58bff4c",
   "metadata": {},
   "outputs": [
    {
     "data": {
      "text/plain": [
       "['technical', 'skills', 'is', 'important', ['new element', 3]]"
      ]
     },
     "execution_count": 79,
     "metadata": {},
     "output_type": "execute_result"
    }
   ],
   "source": [
    "lst2 = lst1 + [[\"new element\",3]]\n",
    "lst2"
   ]
  },
  {
   "cell_type": "code",
   "execution_count": 80,
   "id": "3d3a6543",
   "metadata": {},
   "outputs": [
    {
     "data": {
      "text/plain": [
       "['new element', 3]"
      ]
     },
     "execution_count": 80,
     "metadata": {},
     "output_type": "execute_result"
    }
   ],
   "source": [
    "lst2[-1]"
   ]
  },
  {
   "cell_type": "code",
   "execution_count": 81,
   "id": "939b48ec",
   "metadata": {},
   "outputs": [
    {
     "data": {
      "text/plain": [
       "'new element'"
      ]
     },
     "execution_count": 81,
     "metadata": {},
     "output_type": "execute_result"
    }
   ],
   "source": [
    "lst2[-1][0]"
   ]
  },
  {
   "cell_type": "code",
   "execution_count": 82,
   "id": "042faac2",
   "metadata": {},
   "outputs": [
    {
     "data": {
      "text/plain": [
       "['technical',\n",
       " 'skills',\n",
       " 'is',\n",
       " 'important',\n",
       " 'technical',\n",
       " 'skills',\n",
       " 'is',\n",
       " 'important']"
      ]
     },
     "execution_count": 82,
     "metadata": {},
     "output_type": "execute_result"
    }
   ],
   "source": [
    "lst1 * 2"
   ]
  },
  {
   "cell_type": "code",
   "execution_count": 83,
   "id": "8a46a4c7",
   "metadata": {},
   "outputs": [
    {
     "data": {
      "text/plain": [
       "['technical', 'skills', 'is', 'important']"
      ]
     },
     "execution_count": 83,
     "metadata": {},
     "output_type": "execute_result"
    }
   ],
   "source": [
    "lst1"
   ]
  },
  {
   "cell_type": "code",
   "execution_count": 84,
   "id": "1fd97aab",
   "metadata": {},
   "outputs": [
    {
     "name": "stdout",
     "output_type": "stream",
     "text": [
      "present\n"
     ]
    }
   ],
   "source": [
    "if \"important\" in lst1:\n",
    "    print(\"present\")"
   ]
  },
  {
   "cell_type": "code",
   "execution_count": 85,
   "id": "0c1f0df0",
   "metadata": {},
   "outputs": [
    {
     "name": "stdout",
     "output_type": "stream",
     "text": [
      "skills\n"
     ]
    }
   ],
   "source": [
    "for elements in lst1:\n",
    "    if elements ==\"skills\":\n",
    "        print(elements)\n",
    "        break"
   ]
  },
  {
   "cell_type": "code",
   "execution_count": 86,
   "id": "7ac054d0",
   "metadata": {},
   "outputs": [
    {
     "data": {
      "text/plain": [
       "True"
      ]
     },
     "execution_count": 86,
     "metadata": {},
     "output_type": "execute_result"
    }
   ],
   "source": [
    "#check elements inside a list\n",
    "lst = [1,2,3,4]\n",
    "4 in lst"
   ]
  },
  {
   "cell_type": "code",
   "execution_count": 87,
   "id": "d6f5bb92",
   "metadata": {},
   "outputs": [
    {
     "name": "stdout",
     "output_type": "stream",
     "text": [
      "Zebra\n"
     ]
    }
   ],
   "source": [
    "lst1 = [\"Zebra\",\"Monkey\",\"Donkey\",\"Lion\"]\n",
    "lst2 = [5,6,2,9,5,8,6]\n",
    "print(max(lst1))"
   ]
  },
  {
   "cell_type": "code",
   "execution_count": 88,
   "id": "b8f42f73",
   "metadata": {},
   "outputs": [
    {
     "data": {
      "text/plain": [
       "9"
      ]
     },
     "execution_count": 88,
     "metadata": {},
     "output_type": "execute_result"
    }
   ],
   "source": [
    "max(lst2)"
   ]
  },
  {
   "cell_type": "code",
   "execution_count": 89,
   "id": "8b5a7755",
   "metadata": {},
   "outputs": [
    {
     "data": {
      "text/plain": [
       "2"
      ]
     },
     "execution_count": 89,
     "metadata": {},
     "output_type": "execute_result"
    }
   ],
   "source": [
    "min(lst2)"
   ]
  },
  {
   "cell_type": "code",
   "execution_count": 90,
   "id": "7b7ee9b1",
   "metadata": {},
   "outputs": [],
   "source": [
    "#Append\n",
    "lst = [1,2,3,4,5,6]"
   ]
  },
  {
   "cell_type": "code",
   "execution_count": 91,
   "id": "a1644556",
   "metadata": {},
   "outputs": [
    {
     "data": {
      "text/plain": [
       "[1, 2, 3, 4, 5, 6, 'python and statistics']"
      ]
     },
     "execution_count": 91,
     "metadata": {},
     "output_type": "execute_result"
    }
   ],
   "source": [
    "lst.append(\"python and statistics\")\n",
    "lst"
   ]
  },
  {
   "cell_type": "code",
   "execution_count": 92,
   "id": "77a07351",
   "metadata": {},
   "outputs": [
    {
     "data": {
      "text/plain": [
       "[1,\n",
       " 2,\n",
       " 3,\n",
       " 4,\n",
       " 5,\n",
       " 6,\n",
       " 'python and statistics',\n",
       " ['data', 'science', 'machine learning', 'algorithm']]"
      ]
     },
     "execution_count": 92,
     "metadata": {},
     "output_type": "execute_result"
    }
   ],
   "source": [
    "lst.append(['data','science','machine learning','algorithm'])\n",
    "lst"
   ]
  },
  {
   "cell_type": "code",
   "execution_count": 93,
   "id": "aca865b6",
   "metadata": {},
   "outputs": [
    {
     "data": {
      "text/plain": [
       "'Lion'"
      ]
     },
     "execution_count": 93,
     "metadata": {},
     "output_type": "execute_result"
    }
   ],
   "source": [
    "lst1 = [\"Zebra\",\"Monkey\",\"Donkey\",\"Lion\"]\n",
    "lst1.pop()"
   ]
  },
  {
   "cell_type": "code",
   "execution_count": 94,
   "id": "ed76ae41",
   "metadata": {},
   "outputs": [
    {
     "data": {
      "text/plain": [
       "['Zebra', 'Monkey', 'Donkey']"
      ]
     },
     "execution_count": 94,
     "metadata": {},
     "output_type": "execute_result"
    }
   ],
   "source": [
    "lst1"
   ]
  },
  {
   "cell_type": "code",
   "execution_count": 95,
   "id": "0314d110",
   "metadata": {},
   "outputs": [
    {
     "data": {
      "text/plain": [
       "'Donkey'"
      ]
     },
     "execution_count": 95,
     "metadata": {},
     "output_type": "execute_result"
    }
   ],
   "source": [
    "lst1.pop(2)"
   ]
  },
  {
   "cell_type": "code",
   "execution_count": 96,
   "id": "739a2e43",
   "metadata": {},
   "outputs": [
    {
     "data": {
      "text/plain": [
       "['Zebra', 'Monkey']"
      ]
     },
     "execution_count": 96,
     "metadata": {},
     "output_type": "execute_result"
    }
   ],
   "source": [
    "lst1"
   ]
  },
  {
   "cell_type": "code",
   "execution_count": 97,
   "id": "09417d3c",
   "metadata": {},
   "outputs": [],
   "source": [
    "lst1 = [\"CSK\",\"GT\",\"MI\",\"SRH\"]"
   ]
  },
  {
   "cell_type": "code",
   "execution_count": 98,
   "id": "462b5da8",
   "metadata": {},
   "outputs": [
    {
     "data": {
      "text/plain": [
       "['CSK', 'GT', 'MI', 'SRH']"
      ]
     },
     "execution_count": 98,
     "metadata": {},
     "output_type": "execute_result"
    }
   ],
   "source": [
    "lst1"
   ]
  },
  {
   "cell_type": "code",
   "execution_count": 99,
   "id": "31a7ef18",
   "metadata": {},
   "outputs": [],
   "source": [
    "removed_element = lst1.pop(0)"
   ]
  },
  {
   "cell_type": "code",
   "execution_count": 100,
   "id": "18e8ea74",
   "metadata": {},
   "outputs": [
    {
     "data": {
      "text/plain": [
       "'CSK'"
      ]
     },
     "execution_count": 100,
     "metadata": {},
     "output_type": "execute_result"
    }
   ],
   "source": [
    "removed_element"
   ]
  },
  {
   "cell_type": "code",
   "execution_count": 101,
   "id": "d0b47e97",
   "metadata": {},
   "outputs": [
    {
     "ename": "IndexError",
     "evalue": "list index out of range",
     "output_type": "error",
     "traceback": [
      "\u001b[1;31m---------------------------------------------------------------------------\u001b[0m",
      "\u001b[1;31mIndexError\u001b[0m                                Traceback (most recent call last)",
      "Input \u001b[1;32mIn [101]\u001b[0m, in \u001b[0;36m<cell line: 1>\u001b[1;34m()\u001b[0m\n\u001b[1;32m----> 1\u001b[0m \u001b[43mlst1\u001b[49m\u001b[43m[\u001b[49m\u001b[38;5;241;43m100\u001b[39;49m\u001b[43m]\u001b[49m\n",
      "\u001b[1;31mIndexError\u001b[0m: list index out of range"
     ]
    }
   ],
   "source": [
    "lst1[100]"
   ]
  },
  {
   "cell_type": "code",
   "execution_count": 102,
   "id": "ad36b5ea",
   "metadata": {},
   "outputs": [
    {
     "data": {
      "text/plain": [
       "['q', 'e', 'f', 's', 't', 'u']"
      ]
     },
     "execution_count": 102,
     "metadata": {},
     "output_type": "execute_result"
    }
   ],
   "source": [
    "#Sorting and Reverse methodin list\n",
    "new_list=['q','e','f','s','t','u']\n",
    "new_list"
   ]
  },
  {
   "cell_type": "code",
   "execution_count": 103,
   "id": "6824f636",
   "metadata": {},
   "outputs": [
    {
     "data": {
      "text/plain": [
       "['u', 't', 's', 'f', 'e', 'q']"
      ]
     },
     "execution_count": 103,
     "metadata": {},
     "output_type": "execute_result"
    }
   ],
   "source": [
    "new_list[::-1]"
   ]
  },
  {
   "cell_type": "code",
   "execution_count": 104,
   "id": "632b86cb",
   "metadata": {},
   "outputs": [],
   "source": [
    "new_list.reverse()"
   ]
  },
  {
   "cell_type": "code",
   "execution_count": 105,
   "id": "0db049a5",
   "metadata": {},
   "outputs": [
    {
     "data": {
      "text/plain": [
       "['u', 't', 's', 'f', 'e', 'q']"
      ]
     },
     "execution_count": 105,
     "metadata": {},
     "output_type": "execute_result"
    }
   ],
   "source": [
    "new_list"
   ]
  },
  {
   "cell_type": "code",
   "execution_count": 106,
   "id": "1ae06162",
   "metadata": {},
   "outputs": [
    {
     "data": {
      "text/plain": [
       "['e', 'f', 'q', 's', 't', 'u']"
      ]
     },
     "execution_count": 106,
     "metadata": {},
     "output_type": "execute_result"
    }
   ],
   "source": [
    "new_list.sort()\n",
    "new_list"
   ]
  },
  {
   "cell_type": "code",
   "execution_count": 107,
   "id": "f2fa4b52",
   "metadata": {},
   "outputs": [
    {
     "data": {
      "text/plain": [
       "[1, 2, 3, 4, 5, 6, 10]"
      ]
     },
     "execution_count": 107,
     "metadata": {},
     "output_type": "execute_result"
    }
   ],
   "source": [
    "lst = [1,2,3,4,5,6]\n",
    "lst.append(10)\n",
    "lst"
   ]
  },
  {
   "cell_type": "code",
   "execution_count": 108,
   "id": "244be549",
   "metadata": {},
   "outputs": [
    {
     "data": {
      "text/plain": [
       "[1, 2, 3, 4, 5, 6, 10, ['Data Science', 'Emerging field in IT']]"
      ]
     },
     "execution_count": 108,
     "metadata": {},
     "output_type": "execute_result"
    }
   ],
   "source": [
    "lst.append([\"Data Science\", \"Emerging field in IT\"])\n",
    "lst"
   ]
  },
  {
   "cell_type": "markdown",
   "id": "0801c2c3",
   "metadata": {},
   "source": [
    "## Nested list"
   ]
  },
  {
   "cell_type": "code",
   "execution_count": 109,
   "id": "2755733a",
   "metadata": {},
   "outputs": [],
   "source": [
    "# Let's make three lists\n",
    "lst_1=[1,2,3]\n",
    "lst_2=[4,5,6]\n",
    "lst_3=[7,8,9]"
   ]
  },
  {
   "cell_type": "code",
   "execution_count": 110,
   "id": "682d7c46",
   "metadata": {},
   "outputs": [],
   "source": [
    "# Make a list of lists to form a matrix\n",
    "matrix = [lst_1,lst_2,lst_3]"
   ]
  },
  {
   "cell_type": "code",
   "execution_count": 111,
   "id": "255e4445",
   "metadata": {},
   "outputs": [
    {
     "data": {
      "text/plain": [
       "[4, 5, 6]"
      ]
     },
     "execution_count": 111,
     "metadata": {},
     "output_type": "execute_result"
    }
   ],
   "source": [
    "matrix[1]"
   ]
  },
  {
   "cell_type": "code",
   "execution_count": 112,
   "id": "48489262",
   "metadata": {},
   "outputs": [
    {
     "data": {
      "text/plain": [
       "6"
      ]
     },
     "execution_count": 112,
     "metadata": {},
     "output_type": "execute_result"
    }
   ],
   "source": [
    "matrix[1][2]"
   ]
  },
  {
   "cell_type": "code",
   "execution_count": 113,
   "id": "e2257bbe",
   "metadata": {},
   "outputs": [
    {
     "data": {
      "text/plain": [
       "[8, 9]"
      ]
     },
     "execution_count": 113,
     "metadata": {},
     "output_type": "execute_result"
    }
   ],
   "source": [
    "matrix[2][1:]"
   ]
  },
  {
   "cell_type": "code",
   "execution_count": 114,
   "id": "17c6a145",
   "metadata": {},
   "outputs": [
    {
     "data": {
      "text/plain": [
       "[[1, 2, 3], [4, 5, 6], [7, 8, 9]]"
      ]
     },
     "execution_count": 114,
     "metadata": {},
     "output_type": "execute_result"
    }
   ],
   "source": [
    "matrix"
   ]
  },
  {
   "cell_type": "markdown",
   "id": "9ad8f49e",
   "metadata": {},
   "source": [
    "## list comprehension"
   ]
  },
  {
   "cell_type": "code",
   "execution_count": 115,
   "id": "ee612436",
   "metadata": {},
   "outputs": [
    {
     "data": {
      "text/plain": [
       "[0, 1, 2, 3, 4, 5, 6, 7, 8, 9, 10, 11, 12, 13, 14, 15, 16, 17, 18, 19]"
      ]
     },
     "execution_count": 115,
     "metadata": {},
     "output_type": "execute_result"
    }
   ],
   "source": [
    "[i for i in range(20)]"
   ]
  },
  {
   "cell_type": "code",
   "execution_count": 116,
   "id": "c494d1a1",
   "metadata": {},
   "outputs": [
    {
     "data": {
      "text/plain": [
       "[0, 1, 2, 3, 4, 5, 6, 7, 8, 9, 10, 11, 12, 13, 14, 15, 16, 17, 18, 19]"
      ]
     },
     "execution_count": 116,
     "metadata": {},
     "output_type": "execute_result"
    }
   ],
   "source": [
    "#using list comprehension print Even numbers\n",
    "[i for i in range(20)]"
   ]
  },
  {
   "cell_type": "code",
   "execution_count": 117,
   "id": "c675ca2c",
   "metadata": {},
   "outputs": [
    {
     "data": {
      "text/plain": [
       "[True,\n",
       " False,\n",
       " True,\n",
       " False,\n",
       " True,\n",
       " False,\n",
       " True,\n",
       " False,\n",
       " True,\n",
       " False,\n",
       " True,\n",
       " False,\n",
       " True,\n",
       " False,\n",
       " True,\n",
       " False,\n",
       " True,\n",
       " False,\n",
       " True,\n",
       " False]"
      ]
     },
     "execution_count": 117,
     "metadata": {},
     "output_type": "execute_result"
    }
   ],
   "source": [
    " [i%2==0 for i in range(20)]"
   ]
  },
  {
   "cell_type": "code",
   "execution_count": 118,
   "id": "c8dae0ae",
   "metadata": {},
   "outputs": [
    {
     "data": {
      "text/plain": [
       "[0,\n",
       " 'OOD',\n",
       " 2,\n",
       " 'OOD',\n",
       " 4,\n",
       " 'OOD',\n",
       " 6,\n",
       " 'OOD',\n",
       " 8,\n",
       " 'OOD',\n",
       " 10,\n",
       " 'OOD',\n",
       " 12,\n",
       " 'OOD',\n",
       " 14,\n",
       " 'OOD',\n",
       " 16,\n",
       " 'OOD',\n",
       " 18,\n",
       " 'OOD']"
      ]
     },
     "execution_count": 118,
     "metadata": {},
     "output_type": "execute_result"
    }
   ],
   "source": [
    "[i if i%2==0 else \"OOD\" for i in range(20)]"
   ]
  },
  {
   "cell_type": "code",
   "execution_count": 119,
   "id": "c3593430",
   "metadata": {},
   "outputs": [],
   "source": [
    "#Sum of even numbers and odd numbers\n",
    "lst=[1,2,3,4,5,6,7,8]"
   ]
  },
  {
   "cell_type": "code",
   "execution_count": 120,
   "id": "e9c7ba71",
   "metadata": {},
   "outputs": [
    {
     "name": "stdout",
     "output_type": "stream",
     "text": [
      "Sum of even number:20\n",
      "Sum of odd number:16\n"
     ]
    }
   ],
   "source": [
    "lst = [1,2,3,4,5,6,7,8]\n",
    "even_sum = 0\n",
    "odd_sum = 0\n",
    "for i in lst:\n",
    "    if i % 2 ==0:\n",
    "        even_sum += i\n",
    "    else:\n",
    "        odd_sum += i\n",
    "print(f\"Sum of even number:{even_sum}\")\n",
    "print(f\"Sum of odd number:{odd_sum}\")"
   ]
  },
  {
   "cell_type": "code",
   "execution_count": 121,
   "id": "c1e37733",
   "metadata": {},
   "outputs": [
    {
     "data": {
      "text/plain": [
       "20"
      ]
     },
     "execution_count": 121,
     "metadata": {},
     "output_type": "execute_result"
    }
   ],
   "source": [
    "even_sum =sum([ num for num in lst if num%2==0])\n",
    "even_sum"
   ]
  },
  {
   "cell_type": "code",
   "execution_count": 122,
   "id": "e973f6b8",
   "metadata": {},
   "outputs": [
    {
     "data": {
      "text/plain": [
       "16"
      ]
     },
     "execution_count": 122,
     "metadata": {},
     "output_type": "execute_result"
    }
   ],
   "source": [
    "odd_sum=sum([ num for num in lst if num%2!=0])\n",
    "odd_sum"
   ]
  },
  {
   "cell_type": "code",
   "execution_count": 123,
   "id": "621b3809",
   "metadata": {},
   "outputs": [
    {
     "data": {
      "text/plain": [
       "[1, 4, 9, 16, 25, 36, 49, 64, 81, 100]"
      ]
     },
     "execution_count": 123,
     "metadata": {},
     "output_type": "execute_result"
    }
   ],
   "source": [
    "lst=[1,2,3,4,5,6,7,8,9,10]\n",
    "[num ** 2 for num in lst]"
   ]
  },
  {
   "cell_type": "code",
   "execution_count": 124,
   "id": "793290ac",
   "metadata": {},
   "outputs": [
    {
     "data": {
      "text/plain": [
       "[1, 2, 3, 4]"
      ]
     },
     "execution_count": 124,
     "metadata": {},
     "output_type": "execute_result"
    }
   ],
   "source": [
    "#Create a list of only the positive numbers from a given list\n",
    "numbers = [-2, -1, 0, 1, 2, 3, 4]\n",
    "[num for num in numbers if num > 0]"
   ]
  },
  {
   "cell_type": "code",
   "execution_count": 125,
   "id": "d335a17f",
   "metadata": {},
   "outputs": [
    {
     "data": {
      "text/plain": [
       "['a', 'b', 'c', 'd']"
      ]
     },
     "execution_count": 125,
     "metadata": {},
     "output_type": "execute_result"
    }
   ],
   "source": [
    "#Create a list of only the first letters of words in a list\n",
    "words = ['apple', 'banana', 'cherry', 'date']\n",
    "[word[0] for word in words]"
   ]
  },
  {
   "cell_type": "code",
   "execution_count": 126,
   "id": "af106fdb",
   "metadata": {},
   "outputs": [
    {
     "ename": "NameError",
     "evalue": "name 'temp' is not defined",
     "output_type": "error",
     "traceback": [
      "\u001b[1;31m---------------------------------------------------------------------------\u001b[0m",
      "\u001b[1;31mNameError\u001b[0m                                 Traceback (most recent call last)",
      "Input \u001b[1;32mIn [126]\u001b[0m, in \u001b[0;36m<cell line: 1>\u001b[1;34m()\u001b[0m\n\u001b[1;32m----> 1\u001b[0m (\u001b[38;5;241m9\u001b[39m\u001b[38;5;241m/\u001b[39m\u001b[38;5;241m5\u001b[39m) \u001b[38;5;241m*\u001b[39m \u001b[43mtemp\u001b[49m \u001b[38;5;241m+\u001b[39m \u001b[38;5;241m32\u001b[39m\n",
      "\u001b[1;31mNameError\u001b[0m: name 'temp' is not defined"
     ]
    }
   ],
   "source": [
    "(9/5) * temp + 32"
   ]
  },
  {
   "cell_type": "code",
   "execution_count": 127,
   "id": "0e8a6eb8",
   "metadata": {},
   "outputs": [],
   "source": [
    "#Convert a list of temperatures from Celsius to Fahrenheit uing list comprehesnion\n",
    "celsius_temperatures = [0, 10, 20, 30, 40, 50]"
   ]
  },
  {
   "cell_type": "code",
   "execution_count": 128,
   "id": "95fadc34",
   "metadata": {},
   "outputs": [
    {
     "data": {
      "text/plain": [
       "[32.0, 50.0, 68.0, 86.0, 104.0, 122.0]"
      ]
     },
     "execution_count": 128,
     "metadata": {},
     "output_type": "execute_result"
    }
   ],
   "source": [
    "[(9/5) * temp + 32 for temp in celsius_temperatures]"
   ]
  },
  {
   "cell_type": "code",
   "execution_count": 129,
   "id": "8f652f4d",
   "metadata": {},
   "outputs": [],
   "source": [
    "#Flatten a list of lists into a single list\n",
    "lists = [[1, 2, 3], [4, 5, 6], [7, 8, 9]]"
   ]
  },
  {
   "cell_type": "code",
   "execution_count": 130,
   "id": "cc3c5e82",
   "metadata": {},
   "outputs": [
    {
     "data": {
      "text/plain": [
       "[1, 2, 3, 4, 5, 6, 7, 8, 9]"
      ]
     },
     "execution_count": 130,
     "metadata": {},
     "output_type": "execute_result"
    }
   ],
   "source": [
    "[ num for sublist in lists for num in sublist]"
   ]
  },
  {
   "cell_type": "code",
   "execution_count": 131,
   "id": "d9e6c264",
   "metadata": {},
   "outputs": [],
   "source": [
    "#Create a list of only the prime numbers from a given list code and list comprehesnion\n",
    "numbers = [1, 2, 3, 4, 5, 6, 7, 8, 9, 10]"
   ]
  },
  {
   "cell_type": "code",
   "execution_count": 132,
   "id": "2abee47f",
   "metadata": {},
   "outputs": [],
   "source": [
    "#Create a list of all the possible combinations of 2 elements from a list.\n",
    "numbers = [1, 2, 3, 4, 5]"
   ]
  },
  {
   "cell_type": "code",
   "execution_count": null,
   "id": "e765c825",
   "metadata": {},
   "outputs": [],
   "source": []
  }
 ],
 "metadata": {
  "kernelspec": {
   "display_name": "Python 3 (ipykernel)",
   "language": "python",
   "name": "python3"
  },
  "language_info": {
   "codemirror_mode": {
    "name": "ipython",
    "version": 3
   },
   "file_extension": ".py",
   "mimetype": "text/x-python",
   "name": "python",
   "nbconvert_exporter": "python",
   "pygments_lexer": "ipython3",
   "version": "3.9.12"
  }
 },
 "nbformat": 4,
 "nbformat_minor": 5
}
