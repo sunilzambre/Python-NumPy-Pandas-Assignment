{
 "cells": [
  {
   "cell_type": "code",
   "execution_count": 1,
   "id": "0517612a",
   "metadata": {},
   "outputs": [
    {
     "name": "stdout",
     "output_type": "stream",
     "text": [
      "function\n"
     ]
    }
   ],
   "source": [
    "print('function')"
   ]
  },
  {
   "cell_type": "code",
   "execution_count": 2,
   "id": "ee4abe52",
   "metadata": {},
   "outputs": [],
   "source": [
    "def func():\n",
    "    print('hello this is my first function')"
   ]
  },
  {
   "cell_type": "code",
   "execution_count": 3,
   "id": "07e2a51b",
   "metadata": {},
   "outputs": [
    {
     "name": "stdout",
     "output_type": "stream",
     "text": [
      "hello this is my first function\n"
     ]
    },
    {
     "data": {
      "text/plain": [
       "NoneType"
      ]
     },
     "execution_count": 3,
     "metadata": {},
     "output_type": "execute_result"
    }
   ],
   "source": [
    "type(func())"
   ]
  },
  {
   "cell_type": "code",
   "execution_count": 4,
   "id": "9ffb6222",
   "metadata": {},
   "outputs": [],
   "source": [
    "# func() + str('Yes')"
   ]
  },
  {
   "cell_type": "code",
   "execution_count": 5,
   "id": "941a4a8d",
   "metadata": {},
   "outputs": [],
   "source": [
    "def func1():\n",
    "    return 'hello this is my first return'"
   ]
  },
  {
   "cell_type": "code",
   "execution_count": 6,
   "id": "0996b2b3",
   "metadata": {},
   "outputs": [
    {
     "data": {
      "text/plain": [
       "str"
      ]
     },
     "execution_count": 6,
     "metadata": {},
     "output_type": "execute_result"
    }
   ],
   "source": [
    "type(func1())"
   ]
  },
  {
   "cell_type": "code",
   "execution_count": 7,
   "id": "8a9fbc5d",
   "metadata": {},
   "outputs": [],
   "source": [
    "def func2():\n",
    "    return 34"
   ]
  },
  {
   "cell_type": "code",
   "execution_count": 8,
   "id": "a8430d8d",
   "metadata": {},
   "outputs": [
    {
     "data": {
      "text/plain": [
       "int"
      ]
     },
     "execution_count": 8,
     "metadata": {},
     "output_type": "execute_result"
    }
   ],
   "source": [
    "type(func2())"
   ]
  },
  {
   "cell_type": "code",
   "execution_count": 9,
   "id": "8dbc40d0",
   "metadata": {},
   "outputs": [
    {
     "data": {
      "text/plain": [
       "38"
      ]
     },
     "execution_count": 9,
     "metadata": {},
     "output_type": "execute_result"
    }
   ],
   "source": [
    "func2() +4"
   ]
  },
  {
   "cell_type": "code",
   "execution_count": 10,
   "id": "b35c65e5",
   "metadata": {},
   "outputs": [],
   "source": [
    "def matrix(a,b):\n",
    "    return set(a+b)"
   ]
  },
  {
   "cell_type": "code",
   "execution_count": 11,
   "id": "0f0cac8b",
   "metadata": {},
   "outputs": [
    {
     "data": {
      "text/plain": [
       "{1, 2, 3, 4, 5, 6}"
      ]
     },
     "execution_count": 11,
     "metadata": {},
     "output_type": "execute_result"
    }
   ],
   "source": [
    "matrix([1,2,3],[4,5,6])"
   ]
  },
  {
   "cell_type": "code",
   "execution_count": 12,
   "id": "fda8d83a",
   "metadata": {},
   "outputs": [],
   "source": [
    "def int_value(ls):\n",
    "    lss = []\n",
    "    for i in ls:\n",
    "        if type(i) == int:\n",
    "            lss.append(i)\n",
    "    return lss"
   ]
  },
  {
   "cell_type": "code",
   "execution_count": 13,
   "id": "c03219d7",
   "metadata": {},
   "outputs": [],
   "source": [
    "l1 = [2,3,4,'34','hello',[1,2,3,4,523,23,43]]"
   ]
  },
  {
   "cell_type": "code",
   "execution_count": 14,
   "id": "81d5e065",
   "metadata": {},
   "outputs": [
    {
     "data": {
      "text/plain": [
       "[2, 3, 4]"
      ]
     },
     "execution_count": 14,
     "metadata": {},
     "output_type": "execute_result"
    }
   ],
   "source": [
    "int_value(l1)"
   ]
  },
  {
   "cell_type": "code",
   "execution_count": 15,
   "id": "3dcaff73",
   "metadata": {},
   "outputs": [],
   "source": [
    "# this does not return same values...\n",
    "\n",
    "def list_underlist(a):\n",
    "    lst = []\n",
    "    for i in a:\n",
    "        if type(i) == list:\n",
    "            for j in i:\n",
    "                lst.append(j)\n",
    "            else:\n",
    "                if type(i) == int :\n",
    "                    lst.append(i)\n",
    "    return lst"
   ]
  },
  {
   "cell_type": "code",
   "execution_count": 16,
   "id": "23762a2c",
   "metadata": {},
   "outputs": [
    {
     "data": {
      "text/plain": [
       "[1, 2, 3, 4, 523, 23, 43]"
      ]
     },
     "execution_count": 16,
     "metadata": {},
     "output_type": "execute_result"
    }
   ],
   "source": [
    "list_underlist(l1)"
   ]
  },
  {
   "cell_type": "code",
   "execution_count": 17,
   "id": "ac6e7d10",
   "metadata": {},
   "outputs": [],
   "source": [
    "# this does return same values...\n",
    "\n",
    "def list_underlist_same(a):\n",
    "    lst = []\n",
    "    for i in a:\n",
    "        if type(i) == list:\n",
    "            for j in i:\n",
    "                lst.append(j)\n",
    "        else:\n",
    "            if type(i) == int :\n",
    "                lst.append(i)\n",
    "    return lst"
   ]
  },
  {
   "cell_type": "code",
   "execution_count": 18,
   "id": "e1ea52f0",
   "metadata": {},
   "outputs": [
    {
     "data": {
      "text/plain": [
       "[2, 3, 4, 1, 2, 3, 4, 523, 23, 43]"
      ]
     },
     "execution_count": 18,
     "metadata": {},
     "output_type": "execute_result"
    }
   ],
   "source": [
    "list_underlist_same(l1)"
   ]
  },
  {
   "cell_type": "markdown",
   "id": "f0ce9b48",
   "metadata": {},
   "source": [
    "# For docString we use \"\"\"\" write something \"\"\""
   ]
  },
  {
   "cell_type": "code",
   "execution_count": 20,
   "id": "2c7072cb",
   "metadata": {},
   "outputs": [],
   "source": [
    "def list_underlist_same(a):\n",
    "    \"\"\" this does return same values... \"\"\"\n",
    "    lst = []\n",
    "    for i in a:\n",
    "        if type(i) == list:\n",
    "            for j in i:\n",
    "                lst.append(j)\n",
    "        else:\n",
    "            if type(i) == int :\n",
    "                lst.append(i)\n",
    "    return lst"
   ]
  },
  {
   "cell_type": "code",
   "execution_count": 21,
   "id": "ef8e7cfb",
   "metadata": {},
   "outputs": [
    {
     "ename": "TypeError",
     "evalue": "list_underlist_same() missing 1 required positional argument: 'a'",
     "output_type": "error",
     "traceback": [
      "\u001b[1;31m---------------------------------------------------------------------------\u001b[0m",
      "\u001b[1;31mTypeError\u001b[0m                                 Traceback (most recent call last)",
      "Cell \u001b[1;32mIn[21], line 1\u001b[0m\n\u001b[1;32m----> 1\u001b[0m \u001b[43mlist_underlist_same\u001b[49m\u001b[43m(\u001b[49m\u001b[43m)\u001b[49m\n",
      "\u001b[1;31mTypeError\u001b[0m: list_underlist_same() missing 1 required positional argument: 'a'"
     ]
    }
   ],
   "source": [
    "list_underlist_same()"
   ]
  },
  {
   "cell_type": "markdown",
   "id": "7f609280",
   "metadata": {},
   "source": [
    "## TO Pass n number of arguments we write like this"
   ]
  },
  {
   "cell_type": "code",
   "execution_count": 22,
   "id": "e8490641",
   "metadata": {},
   "outputs": [],
   "source": [
    "def n_Number(*args,a):\n",
    "    return args+a  "
   ]
  },
  {
   "cell_type": "code",
   "execution_count": 23,
   "id": "0cf905b2",
   "metadata": {},
   "outputs": [
    {
     "ename": "TypeError",
     "evalue": "can only concatenate tuple (not \"int\") to tuple",
     "output_type": "error",
     "traceback": [
      "\u001b[1;31m---------------------------------------------------------------------------\u001b[0m",
      "\u001b[1;31mTypeError\u001b[0m                                 Traceback (most recent call last)",
      "Cell \u001b[1;32mIn[23], line 1\u001b[0m\n\u001b[1;32m----> 1\u001b[0m \u001b[43mn_Number\u001b[49m\u001b[43m(\u001b[49m\u001b[38;5;241;43m1\u001b[39;49m\u001b[43m,\u001b[49m\u001b[43ma\u001b[49m\u001b[43m \u001b[49m\u001b[38;5;241;43m=\u001b[39;49m\u001b[43m \u001b[49m\u001b[38;5;241;43m3\u001b[39;49m\u001b[43m)\u001b[49m\n",
      "Cell \u001b[1;32mIn[22], line 2\u001b[0m, in \u001b[0;36mn_Number\u001b[1;34m(a, *args)\u001b[0m\n\u001b[0;32m      1\u001b[0m \u001b[38;5;28;01mdef\u001b[39;00m \u001b[38;5;21mn_Number\u001b[39m(\u001b[38;5;241m*\u001b[39margs,a):\n\u001b[1;32m----> 2\u001b[0m     \u001b[38;5;28;01mreturn\u001b[39;00m \u001b[43margs\u001b[49m\u001b[38;5;241;43m+\u001b[39;49m\u001b[43ma\u001b[49m\n",
      "\u001b[1;31mTypeError\u001b[0m: can only concatenate tuple (not \"int\") to tuple"
     ]
    }
   ],
   "source": [
    "n_Number(1,a = 3)"
   ]
  },
  {
   "cell_type": "code",
   "execution_count": 24,
   "id": "cc30b846",
   "metadata": {},
   "outputs": [
    {
     "ename": "TypeError",
     "evalue": "'int' object is not iterable",
     "output_type": "error",
     "traceback": [
      "\u001b[1;31m---------------------------------------------------------------------------\u001b[0m",
      "\u001b[1;31mTypeError\u001b[0m                                 Traceback (most recent call last)",
      "Cell \u001b[1;32mIn[24], line 1\u001b[0m\n\u001b[1;32m----> 1\u001b[0m \u001b[38;5;28;01mfor\u001b[39;00m i \u001b[38;5;129;01min\u001b[39;00m \u001b[38;5;241m10\u001b[39m:\n\u001b[0;32m      2\u001b[0m     \u001b[38;5;28mprint\u001b[39m()\n",
      "\u001b[1;31mTypeError\u001b[0m: 'int' object is not iterable"
     ]
    }
   ],
   "source": [
    "for i in 10:\n",
    "    print()"
   ]
  },
  {
   "cell_type": "code",
   "execution_count": 25,
   "id": "aa3b2478",
   "metadata": {},
   "outputs": [],
   "source": [
    "# num = int(input())\n",
    "def table(num,start,end):\n",
    "    for i in range(start,end):\n",
    "        print(num,'x',i,'=',num*i)"
   ]
  },
  {
   "cell_type": "code",
   "execution_count": 26,
   "id": "a3265f44",
   "metadata": {},
   "outputs": [],
   "source": [
    "i = 1\n",
    "def table_while(num,end):\n",
    "    while i <= end:\n",
    "        print(num,'x',i,'=',num*1)\n",
    "        i += 1"
   ]
  },
  {
   "cell_type": "code",
   "execution_count": 27,
   "id": "368aa2af",
   "metadata": {},
   "outputs": [
    {
     "ename": "UnboundLocalError",
     "evalue": "local variable 'i' referenced before assignment",
     "output_type": "error",
     "traceback": [
      "\u001b[1;31m---------------------------------------------------------------------------\u001b[0m",
      "\u001b[1;31mUnboundLocalError\u001b[0m                         Traceback (most recent call last)",
      "Cell \u001b[1;32mIn[27], line 1\u001b[0m\n\u001b[1;32m----> 1\u001b[0m \u001b[43mtable_while\u001b[49m\u001b[43m(\u001b[49m\u001b[38;5;241;43m1\u001b[39;49m\u001b[43m,\u001b[49m\u001b[38;5;241;43m3\u001b[39;49m\u001b[43m)\u001b[49m\n",
      "Cell \u001b[1;32mIn[26], line 3\u001b[0m, in \u001b[0;36mtable_while\u001b[1;34m(num, end)\u001b[0m\n\u001b[0;32m      2\u001b[0m \u001b[38;5;28;01mdef\u001b[39;00m \u001b[38;5;21mtable_while\u001b[39m(num,end):\n\u001b[1;32m----> 3\u001b[0m     \u001b[38;5;28;01mwhile\u001b[39;00m \u001b[43mi\u001b[49m \u001b[38;5;241m<\u001b[39m\u001b[38;5;241m=\u001b[39m end:\n\u001b[0;32m      4\u001b[0m         \u001b[38;5;28mprint\u001b[39m(num,\u001b[38;5;124m'\u001b[39m\u001b[38;5;124mx\u001b[39m\u001b[38;5;124m'\u001b[39m,i,\u001b[38;5;124m'\u001b[39m\u001b[38;5;124m=\u001b[39m\u001b[38;5;124m'\u001b[39m,num\u001b[38;5;241m*\u001b[39m\u001b[38;5;241m1\u001b[39m)\n\u001b[0;32m      5\u001b[0m         i \u001b[38;5;241m+\u001b[39m\u001b[38;5;241m=\u001b[39m \u001b[38;5;241m1\u001b[39m\n",
      "\u001b[1;31mUnboundLocalError\u001b[0m: local variable 'i' referenced before assignment"
     ]
    }
   ],
   "source": [
    "table_while(1,3)"
   ]
  },
  {
   "cell_type": "code",
   "execution_count": 28,
   "id": "5dc864c4",
   "metadata": {},
   "outputs": [
    {
     "name": "stdout",
     "output_type": "stream",
     "text": [
      "4 x 1 = 4\n",
      "4 x 2 = 8\n",
      "4 x 3 = 12\n",
      "4 x 4 = 16\n",
      "4 x 5 = 20\n",
      "4 x 6 = 24\n",
      "4 x 7 = 28\n",
      "4 x 8 = 32\n",
      "4 x 9 = 36\n",
      "4 x 10 = 40\n",
      "4 x 11 = 44\n",
      "4 x 12 = 48\n",
      "4 x 13 = 52\n",
      "4 x 14 = 56\n",
      "4 x 15 = 60\n",
      "4 x 16 = 64\n",
      "4 x 17 = 68\n",
      "4 x 18 = 72\n",
      "4 x 19 = 76\n"
     ]
    }
   ],
   "source": [
    "table(4,1,20)"
   ]
  },
  {
   "cell_type": "code",
   "execution_count": 29,
   "id": "c69e7c1b",
   "metadata": {},
   "outputs": [
    {
     "name": "stdout",
     "output_type": "stream",
     "text": [
      "2 x 1 = 2\n",
      "2 x 2 = 4\n",
      "2 x 3 = 6\n",
      "2 x 4 = 8\n",
      "2 x 5 = 10\n",
      "2 x 6 = 12\n",
      "2 x 7 = 14\n",
      "2 x 8 = 16\n",
      "2 x 9 = 18\n",
      "2 x 10 = 20\n",
      "2 x 11 = 22\n",
      "2 x 12 = 24\n",
      "2 x 13 = 26\n",
      "2 x 14 = 28\n",
      "2 x 15 = 30\n",
      "2 x 16 = 32\n",
      "2 x 17 = 34\n",
      "2 x 18 = 36\n",
      "2 x 19 = 38\n",
      "2 x 20 = 40\n",
      "2 x 21 = 42\n",
      "2 x 22 = 44\n",
      "2 x 23 = 46\n",
      "2 x 24 = 48\n",
      "2 x 25 = 50\n",
      "2 x 26 = 52\n",
      "2 x 27 = 54\n",
      "2 x 28 = 56\n",
      "2 x 29 = 58\n",
      "2 x 30 = 60\n"
     ]
    }
   ],
   "source": [
    "table(2,1,31)"
   ]
  },
  {
   "cell_type": "code",
   "execution_count": 30,
   "id": "b2f32a83",
   "metadata": {},
   "outputs": [
    {
     "ename": "SyntaxError",
     "evalue": "invalid syntax (3077782314.py, line 1)",
     "output_type": "error",
     "traceback": [
      "\u001b[1;36m  Cell \u001b[1;32mIn[30], line 1\u001b[1;36m\u001b[0m\n\u001b[1;33m    2 x 1 = 2\u001b[0m\n\u001b[1;37m      ^\u001b[0m\n\u001b[1;31mSyntaxError\u001b[0m\u001b[1;31m:\u001b[0m invalid syntax\n"
     ]
    }
   ],
   "source": [
    "2 x 1 = 2"
   ]
  },
  {
   "cell_type": "markdown",
   "id": "d9dee427",
   "metadata": {},
   "source": [
    "## Generator Function"
   ]
  },
  {
   "cell_type": "markdown",
   "id": "645cbc10",
   "metadata": {},
   "source": [
    "### In Generator function we must have to have a for loop to print that statement otherwise our statement will not be printed"
   ]
  },
  {
   "cell_type": "code",
   "execution_count": 32,
   "id": "17b403d1",
   "metadata": {},
   "outputs": [],
   "source": [
    "def tables(num,start,end):\n",
    "    for i in range(start,end):\n",
    "        yield num,'x',i,'=',num*i"
   ]
  },
  {
   "cell_type": "code",
   "execution_count": 33,
   "id": "1d2370fe",
   "metadata": {},
   "outputs": [
    {
     "name": "stdout",
     "output_type": "stream",
     "text": [
      "(2, 'x', 1, '=', 2)\n",
      "(2, 'x', 2, '=', 4)\n",
      "(2, 'x', 3, '=', 6)\n",
      "(2, 'x', 4, '=', 8)\n",
      "(2, 'x', 5, '=', 10)\n",
      "(2, 'x', 6, '=', 12)\n",
      "(2, 'x', 7, '=', 14)\n",
      "(2, 'x', 8, '=', 16)\n",
      "(2, 'x', 9, '=', 18)\n",
      "(2, 'x', 10, '=', 20)\n"
     ]
    }
   ],
   "source": [
    "for i in tables(2,1,11):\n",
    "    print(i)"
   ]
  },
  {
   "cell_type": "code",
   "execution_count": 34,
   "id": "81e95c72",
   "metadata": {},
   "outputs": [],
   "source": [
    "def fib(n):\n",
    "    a,b = 0,1\n",
    "    for i in range(n):\n",
    "        yield a\n",
    "        a,b = b, a+b"
   ]
  },
  {
   "cell_type": "code",
   "execution_count": 35,
   "id": "9d16a315",
   "metadata": {},
   "outputs": [
    {
     "name": "stdout",
     "output_type": "stream",
     "text": [
      "0\n",
      "1\n",
      "1\n",
      "2\n",
      "3\n",
      "5\n",
      "8\n",
      "13\n",
      "21\n",
      "34\n"
     ]
    }
   ],
   "source": [
    "for i in fib(10):\n",
    "    print(i)"
   ]
  },
  {
   "cell_type": "code",
   "execution_count": 36,
   "id": "843c06bb",
   "metadata": {},
   "outputs": [],
   "source": [
    "def table(a):\n",
    "    for i in range(1,11):\n",
    "        print"
   ]
  },
  {
   "cell_type": "code",
   "execution_count": 37,
   "id": "1bda6b6f",
   "metadata": {},
   "outputs": [
    {
     "data": {
      "text/plain": [
       "generator"
      ]
     },
     "execution_count": 37,
     "metadata": {},
     "output_type": "execute_result"
    }
   ],
   "source": [
    "type(fib(3))"
   ]
  },
  {
   "cell_type": "markdown",
   "id": "4f3c797a",
   "metadata": {},
   "source": [
    "Iterable and iterator string is iterable int is not iterable jo iterable hai usi ko iterator me convert kr skte h\n",
    "\n",
    "So hm string ko hii iterator me convert kr skte h.\n",
    "\n",
    "iter() function is used to make string iterable"
   ]
  },
  {
   "cell_type": "markdown",
   "id": "1322224a",
   "metadata": {},
   "source": [
    "## Lambda function"
   ]
  },
  {
   "cell_type": "code",
   "execution_count": 38,
   "id": "6770f793",
   "metadata": {},
   "outputs": [],
   "source": [
    "def square(num,power):\n",
    "    return num**power"
   ]
  },
  {
   "cell_type": "code",
   "execution_count": 39,
   "id": "1b369774",
   "metadata": {},
   "outputs": [
    {
     "data": {
      "text/plain": [
       "16"
      ]
     },
     "execution_count": 39,
     "metadata": {},
     "output_type": "execute_result"
    }
   ],
   "source": [
    "square(2,4)"
   ]
  },
  {
   "cell_type": "markdown",
   "id": "ba9abaaa",
   "metadata": {},
   "source": [
    "## square function using lambda function"
   ]
  },
  {
   "cell_type": "code",
   "execution_count": 40,
   "id": "24ec8138",
   "metadata": {},
   "outputs": [],
   "source": [
    "square_lambda = lambda num,power : num**power"
   ]
  },
  {
   "cell_type": "code",
   "execution_count": 41,
   "id": "6b6911b2",
   "metadata": {},
   "outputs": [
    {
     "data": {
      "text/plain": [
       "16"
      ]
     },
     "execution_count": 41,
     "metadata": {},
     "output_type": "execute_result"
    }
   ],
   "source": [
    "square_lambda(2,4)"
   ]
  },
  {
   "cell_type": "code",
   "execution_count": 42,
   "id": "ae47c2ac",
   "metadata": {},
   "outputs": [],
   "source": [
    "def finding_max(x,y):\n",
    "    if x > y:\n",
    "        print(x)\n",
    "    else: print(y)"
   ]
  },
  {
   "cell_type": "code",
   "execution_count": 43,
   "id": "be3e4ff3",
   "metadata": {},
   "outputs": [
    {
     "name": "stdout",
     "output_type": "stream",
     "text": [
      "5\n"
     ]
    }
   ],
   "source": [
    "finding_max(5,3)"
   ]
  },
  {
   "cell_type": "code",
   "execution_count": 45,
   "id": "dd5f03af",
   "metadata": {},
   "outputs": [],
   "source": [
    "finding_maxlambda = lambda x,y:x if x>y else print(y)"
   ]
  },
  {
   "cell_type": "code",
   "execution_count": 46,
   "id": "c7094aab",
   "metadata": {},
   "outputs": [
    {
     "data": {
      "text/plain": [
       "<function __main__.<lambda>(x, y)>"
      ]
     },
     "execution_count": 46,
     "metadata": {},
     "output_type": "execute_result"
    }
   ],
   "source": [
    "finding_maxlambda"
   ]
  },
  {
   "cell_type": "code",
   "execution_count": 47,
   "id": "ef6eedff",
   "metadata": {},
   "outputs": [],
   "source": [
    "def finding_max(x,y):\n",
    "    if x > y:\n",
    "        print(x)\n",
    "    else: print(y)"
   ]
  },
  {
   "cell_type": "code",
   "execution_count": 48,
   "id": "1f247bf4",
   "metadata": {},
   "outputs": [
    {
     "name": "stdout",
     "output_type": "stream",
     "text": [
      "5\n"
     ]
    }
   ],
   "source": [
    "finding_max(5,3)"
   ]
  },
  {
   "cell_type": "code",
   "execution_count": 49,
   "id": "f59cac43",
   "metadata": {},
   "outputs": [],
   "source": [
    "finding_maxlambda = lambda x,y:x if x>y else print(y)"
   ]
  },
  {
   "cell_type": "code",
   "execution_count": 50,
   "id": "b83b5cff",
   "metadata": {},
   "outputs": [
    {
     "name": "stdout",
     "output_type": "stream",
     "text": [
      "65\n"
     ]
    }
   ],
   "source": [
    "finding_maxlambda(34,65)"
   ]
  },
  {
   "cell_type": "code",
   "execution_count": 51,
   "id": "b10a8c73",
   "metadata": {},
   "outputs": [],
   "source": [
    "ls = [1,2,3,4,5,6,7,8,9,10]"
   ]
  },
  {
   "cell_type": "code",
   "execution_count": 52,
   "id": "0e5ac2f4",
   "metadata": {},
   "outputs": [],
   "source": [
    "def sqr(a):\n",
    "    ls1 = []\n",
    "    for i in a:\n",
    "        ls1.append(i**2)\n",
    "    return ls1"
   ]
  },
  {
   "cell_type": "code",
   "execution_count": 53,
   "id": "405e9934",
   "metadata": {},
   "outputs": [
    {
     "data": {
      "text/plain": [
       "[1, 4, 9, 16, 25, 36, 49, 64, 81, 100]"
      ]
     },
     "execution_count": 53,
     "metadata": {},
     "output_type": "execute_result"
    }
   ],
   "source": [
    "sqr(ls)"
   ]
  },
  {
   "cell_type": "code",
   "execution_count": 54,
   "id": "15bafd0a",
   "metadata": {},
   "outputs": [],
   "source": [
    "def sqr(a):\n",
    "    ls1 = []\n",
    "    for i in a:\n",
    "        ls1.append(i**2)\n",
    "    return ls1"
   ]
  },
  {
   "cell_type": "code",
   "execution_count": 55,
   "id": "98564bf5",
   "metadata": {},
   "outputs": [
    {
     "data": {
      "text/plain": [
       "[1, 4, 9, 16, 25, 36, 49, 64, 81, 100]"
      ]
     },
     "execution_count": 55,
     "metadata": {},
     "output_type": "execute_result"
    }
   ],
   "source": [
    "sqr(ls)"
   ]
  },
  {
   "cell_type": "code",
   "execution_count": 56,
   "id": "ffeb73a7",
   "metadata": {},
   "outputs": [
    {
     "data": {
      "text/plain": [
       "[1, 4, 9, 16, 25, 36, 49, 64, 81, 100]"
      ]
     },
     "execution_count": 56,
     "metadata": {},
     "output_type": "execute_result"
    }
   ],
   "source": [
    "sqr(ls)"
   ]
  },
  {
   "cell_type": "code",
   "execution_count": 57,
   "id": "344329a6",
   "metadata": {},
   "outputs": [],
   "source": [
    "def sqr_map(b):\n",
    "    return b**2"
   ]
  },
  {
   "cell_type": "code",
   "execution_count": 58,
   "id": "ad8e1b8b",
   "metadata": {},
   "outputs": [
    {
     "data": {
      "text/plain": [
       "[1, 4, 9, 16, 25, 36, 49, 64, 81, 100]"
      ]
     },
     "execution_count": 58,
     "metadata": {},
     "output_type": "execute_result"
    }
   ],
   "source": [
    "list(map(sqr_map,ls))"
   ]
  },
  {
   "cell_type": "code",
   "execution_count": 59,
   "id": "d116fa62",
   "metadata": {},
   "outputs": [],
   "source": [
    "l1 = [1,2,3,4,5]\n",
    "l2 = [6,7,8,9,10]"
   ]
  },
  {
   "cell_type": "code",
   "execution_count": 60,
   "id": "ee9d311b",
   "metadata": {},
   "outputs": [],
   "source": [
    "def sum_list(list1,list2):\n",
    "    return (list1+list2)"
   ]
  },
  {
   "cell_type": "code",
   "execution_count": 61,
   "id": "093ea51b",
   "metadata": {},
   "outputs": [
    {
     "data": {
      "text/plain": [
       "[7, 9, 11, 13, 15]"
      ]
     },
     "execution_count": 61,
     "metadata": {},
     "output_type": "execute_result"
    }
   ],
   "source": [
    "list(map(sum_list,l1,l2))"
   ]
  },
  {
   "cell_type": "markdown",
   "id": "2957b8bf",
   "metadata": {},
   "source": [
    "## Reduce function"
   ]
  },
  {
   "cell_type": "markdown",
   "id": "1edb39c4",
   "metadata": {},
   "source": [
    "reduce function reduces the complete list and give a single entity"
   ]
  },
  {
   "cell_type": "code",
   "execution_count": 64,
   "id": "6585f559",
   "metadata": {},
   "outputs": [],
   "source": [
    "from functools import reduce"
   ]
  },
  {
   "cell_type": "code",
   "execution_count": 65,
   "id": "b613584b",
   "metadata": {},
   "outputs": [],
   "source": [
    "def sums(ls3,ls4):\n",
    "    return ls3+ls4"
   ]
  },
  {
   "cell_type": "code",
   "execution_count": 66,
   "id": "7111f755",
   "metadata": {},
   "outputs": [
    {
     "data": {
      "text/plain": [
       "55"
      ]
     },
     "execution_count": 66,
     "metadata": {},
     "output_type": "execute_result"
    }
   ],
   "source": [
    "reduce(sums,ls)"
   ]
  },
  {
   "cell_type": "code",
   "execution_count": 67,
   "id": "c91282b9",
   "metadata": {},
   "outputs": [
    {
     "data": {
      "text/plain": [
       "[1, 4, 9, 16, 25, 36, 49, 64, 81, 100]"
      ]
     },
     "execution_count": 67,
     "metadata": {},
     "output_type": "execute_result"
    }
   ],
   "source": [
    "ls = [1,2,3,4,5,6,7,8,9,10]\n",
    "def sqares(a):\n",
    "    return a**2\n",
    "list(map(sqares,ls))"
   ]
  },
  {
   "cell_type": "code",
   "execution_count": 68,
   "id": "be161983",
   "metadata": {},
   "outputs": [
    {
     "name": "stdout",
     "output_type": "stream",
     "text": [
      "120\n"
     ]
    }
   ],
   "source": [
    "nums = [1,2,3,4,5]\n",
    "product = reduce(lambda x,y:x*y,nums)\n",
    "print(product)"
   ]
  }
 ],
 "metadata": {
  "kernelspec": {
   "display_name": "Python 3 (ipykernel)",
   "language": "python",
   "name": "python3"
  },
  "language_info": {
   "codemirror_mode": {
    "name": "ipython",
    "version": 3
   },
   "file_extension": ".py",
   "mimetype": "text/x-python",
   "name": "python",
   "nbconvert_exporter": "python",
   "pygments_lexer": "ipython3",
   "version": "3.9.12"
  }
 },
 "nbformat": 4,
 "nbformat_minor": 5
}
