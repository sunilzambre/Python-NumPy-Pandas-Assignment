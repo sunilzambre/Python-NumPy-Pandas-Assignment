{
 "cells": [
  {
   "cell_type": "markdown",
   "id": "7934a87e",
   "metadata": {},
   "source": [
    "# args & kwargs\n",
    "## *args\n",
    "When we are not sure about the number of arguments being passed to a function then we can\n",
    "use *args as function parameter.\n",
    "*args allow us to pass the variable number of Non Keyword Arguments to function.\n",
    "We can simply use an asterisk * before the parameter name to pass variable length\n",
    "arguments.\n",
    "The arguments are always passed as a tuple.\n",
    "We can rename it to anything as long as it is preceded by a single asterisk (*). It's best\n",
    "practice to keep naming it args to make it immediately recognizable.\n",
    "## **kwargs\n",
    "**kwargs allows us to pass the variable number of Keyword Arguments to the function.\n",
    "We can simply use an double asterisk ** before the parameter name to pass variable length\n",
    "arguments.\n",
    "The arguments are passed as a dictionary.\n",
    "We can rename it to anything as long as it is preceded by a double asterisk (**). It's best\n",
    "practice to keep naming it kwargs to make it immediately recognizable"
   ]
  },
  {
   "cell_type": "code",
   "execution_count": 1,
   "id": "c8abaf21",
   "metadata": {},
   "outputs": [
    {
     "name": "stdout",
     "output_type": "stream",
     "text": [
      "60\n"
     ]
    }
   ],
   "source": [
    "def add(a,b,c):\n",
    "    return a+b+c\n",
    " \n",
    "print(add(10,20,30)) # Sum of two numbers"
   ]
  },
  {
   "cell_type": "code",
   "execution_count": 2,
   "id": "2161cf58",
   "metadata": {},
   "outputs": [
    {
     "ename": "TypeError",
     "evalue": "add() takes 3 positional arguments but 4 were given",
     "output_type": "error",
     "traceback": [
      "\u001b[1;31m---------------------------------------------------------------------------\u001b[0m",
      "\u001b[1;31mTypeError\u001b[0m                                 Traceback (most recent call last)",
      "Cell \u001b[1;32mIn[2], line 1\u001b[0m\n\u001b[1;32m----> 1\u001b[0m \u001b[38;5;28mprint\u001b[39m(\u001b[43madd\u001b[49m\u001b[43m(\u001b[49m\u001b[38;5;241;43m1\u001b[39;49m\u001b[43m,\u001b[49m\u001b[38;5;241;43m2\u001b[39;49m\u001b[43m,\u001b[49m\u001b[38;5;241;43m3\u001b[39;49m\u001b[43m,\u001b[49m\u001b[38;5;241;43m4\u001b[39;49m\u001b[43m)\u001b[49m) \n\u001b[0;32m      2\u001b[0m \u001b[38;5;124;03m'''This will throw below error as this function will only take\u001b[39;00m\n\u001b[0;32m      3\u001b[0m \u001b[38;5;124;03mIf we want to make argument list dynamic then *args wil come in picture'''\u001b[39;00m\n",
      "\u001b[1;31mTypeError\u001b[0m: add() takes 3 positional arguments but 4 were given"
     ]
    }
   ],
   "source": [
    "print(add(1,2,3,4)) \n",
    "'''This will throw below error as this function will only take\n",
    "If we want to make argument list dynamic then *args wil come in picture'''"
   ]
  },
  {
   "cell_type": "code",
   "execution_count": 4,
   "id": "810bc714",
   "metadata": {},
   "outputs": [
    {
     "name": "stdout",
     "output_type": "stream",
     "text": [
      "arg_1: 1\n",
      "arg_2: 2\n",
      "arg_3: 3\n"
     ]
    }
   ],
   "source": [
    "def some_args(arg_1, arg_2, arg_3):\n",
    "    print(\"arg_1:\", arg_1)\n",
    "    print(\"arg_2:\", arg_2)\n",
    "    print(\"arg_3:\", arg_3)\n",
    "\n",
    "my_list = [2, 3]\n",
    "some_args(1, *my_list)"
   ]
  },
  {
   "cell_type": "code",
   "execution_count": 7,
   "id": "2570a490",
   "metadata": {},
   "outputs": [
    {
     "name": "stdout",
     "output_type": "stream",
     "text": [
      "6\n",
      "10\n",
      "15\n",
      "21\n",
      "28\n"
     ]
    }
   ],
   "source": [
    "def add1(*args):\n",
    "    return sum(args)\n",
    "print(add1(1,2,3))\n",
    "print(add1(1,2,3,4)) # *args will take dynamic argument list.\n",
    "print(add1(1,2,3,4,5))\n",
    "print(add1(1,2,3,4,5,6))\n",
    "print(add1(1,2,3,4,5,6,7))"
   ]
  },
  {
   "cell_type": "code",
   "execution_count": 8,
   "id": "f252e4d4",
   "metadata": {},
   "outputs": [
    {
     "data": {
      "text/plain": [
       "(28, 28)"
      ]
     },
     "execution_count": 8,
     "metadata": {},
     "output_type": "execute_result"
    }
   ],
   "source": [
    "list1 = [1,2,3,4,5,6,7]\n",
    "tuple1 = (1,2,3,4,5,6,7)\n",
    "add1(*list1) , add1(*tuple1) #tuple & list items will be passed as argument list"
   ]
  },
  {
   "cell_type": "code",
   "execution_count": 9,
   "id": "7c35418f",
   "metadata": {},
   "outputs": [
    {
     "data": {
      "text/plain": [
       "112"
      ]
     },
     "execution_count": 9,
     "metadata": {},
     "output_type": "execute_result"
    }
   ],
   "source": [
    "list1 = [1,2,3,4,5,6,7]\n",
    "list2 = [1,2,3,4,5,6,7]\n",
    "list3 = [1,2,3,4,5,6,7]\n",
    "list4 = [1,2,3,4,5,6,7]\n",
    "add1(*list1 , *list2 , *list3 , *list4 )"
   ]
  },
  {
   "cell_type": "code",
   "execution_count": 10,
   "id": "64728bc9",
   "metadata": {},
   "outputs": [
    {
     "name": "stdout",
     "output_type": "stream",
     "text": [
      "('Sunil', 9421, 416311, 39, 'India', 'Maharashtra', 'Marathi')\n"
     ]
    },
    {
     "data": {
      "text/plain": [
       "' For the above example we have no idea about the parameters passed e.g 9421 , \\n In such cases we can take help of Keyworded arguments (**kwargs) '"
      ]
     },
     "execution_count": 10,
     "metadata": {},
     "output_type": "execute_result"
    }
   ],
   "source": [
    "def UserDetails(*args):\n",
    "    print(args)\n",
    "UserDetails('Sunil' , 9421 , 416311 , 39 , 'India' , 'Maharashtra', 'Marathi')\n",
    "''' For the above example we have no idea about the parameters passed e.g 9421 , \n",
    " In such cases we can take help of Keyworded arguments (**kwargs) '''"
   ]
  },
  {
   "cell_type": "code",
   "execution_count": 11,
   "id": "ea95f11f",
   "metadata": {},
   "outputs": [
    {
     "name": "stdout",
     "output_type": "stream",
     "text": [
      "Name :- Sunil\n",
      "ID :- 9421\n",
      "Pincode :- 416311\n",
      "Age :- 39\n",
      "Country :- India\n",
      "State :- Maharashtra\n",
      "Language :- Marathi\n"
     ]
    }
   ],
   "source": [
    "def UserDetails(**kwargs):\n",
    "    for key,val in kwargs.items():\n",
    "        print(\"{} :- {}\".format(key,val))\n",
    "UserDetails(Name='Sunil' , ID=9421 , Pincode=416311 , Age= 39 , \n",
    "            Country= 'India', State='Maharashtra',Language='Marathi')"
   ]
  },
  {
   "cell_type": "code",
   "execution_count": 12,
   "id": "a75a3496",
   "metadata": {},
   "outputs": [],
   "source": [
    "mydict = {'Name': 'Sunil', 'ID': 9970, 'Pincode': 412213, 'Age': 40, \n",
    "          'Country': 'India', 'State' :'Maharashtra','Language':'Marathi'}"
   ]
  },
  {
   "cell_type": "code",
   "execution_count": 13,
   "id": "b7cc3f83",
   "metadata": {},
   "outputs": [
    {
     "name": "stdout",
     "output_type": "stream",
     "text": [
      "Name :- Sunil\n",
      "ID :- 9970\n",
      "Pincode :- 412213\n",
      "Age :- 40\n",
      "Country :- India\n",
      "State :- Maharashtra\n",
      "Language :- Marathi\n"
     ]
    }
   ],
   "source": [
    "UserDetails(**mydict)"
   ]
  },
  {
   "cell_type": "code",
   "execution_count": 20,
   "id": "0dfcd883",
   "metadata": {},
   "outputs": [
    {
     "name": "stdout",
     "output_type": "stream",
     "text": [
      "License No :-  MH-10\n",
      "Full Name :- Sunil Zambare Dongarsoni\n",
      "Phone Number:-  12345678910\n",
      "Name :- Sunil\n",
      "ID :- 9970\n",
      "Pincode :- 416311\n",
      "Age :- 40\n",
      "Village :- Ayodhyanagar\n",
      "State :- Maharashtra\n",
      "Country :- India\n"
     ]
    }
   ],
   "source": [
    "def UserDetails(licenseNo, *args , phoneNo=0 , **kwargs): # Using all four argum\n",
    "    print('License No :- ', licenseNo)\n",
    "    j=''\n",
    "    for i in args:\n",
    "        j = j+i\n",
    "    print('Full Name :-',j)\n",
    "    print('Phone Number:- ',phoneNo)\n",
    "    for key,val in kwargs.items():\n",
    "        print(\"{} :- {}\".format(key,val))\n",
    "\n",
    "name = ['Sunil' , ' ' , 'Zambare' , ' ','Dongarsoni']\n",
    "mydict = {'Name': 'Sunil', 'ID': 9970, 'Pincode': 416311, 'Age': 40, \n",
    "          'Village' :'Ayodhyanagar','State' :'Maharashtra', 'Country': 'India'}\n",
    "UserDetails('MH-10' , *name , phoneNo=12345678910,**mydict )"
   ]
  },
  {
   "cell_type": "code",
   "execution_count": 21,
   "id": "8d58bd2e",
   "metadata": {},
   "outputs": [],
   "source": [
    "def UserDetails(licenseNo, *args , phoneNo=0, **kwargs): # Using all four arguments\n",
    "    print('Nothing')"
   ]
  },
  {
   "cell_type": "code",
   "execution_count": 22,
   "id": "2e7734e4",
   "metadata": {},
   "outputs": [
    {
     "ename": "SyntaxError",
     "evalue": "invalid syntax (3335583366.py, line 1)",
     "output_type": "error",
     "traceback": [
      "\u001b[1;36m  Cell \u001b[1;32mIn[22], line 1\u001b[1;36m\u001b[0m\n\u001b[1;33m    def UserDetails(licenseNo, **kwargs , *args): # This will fail.\u001b[0m\n\u001b[1;37m                                          ^\u001b[0m\n\u001b[1;31mSyntaxError\u001b[0m\u001b[1;31m:\u001b[0m invalid syntax\n"
     ]
    }
   ],
   "source": [
    "def UserDetails(licenseNo, **kwargs , *args): # This will fail.\n",
    "    print('Nothing')"
   ]
  },
  {
   "cell_type": "code",
   "execution_count": null,
   "id": "03b621a6",
   "metadata": {},
   "outputs": [],
   "source": []
  }
 ],
 "metadata": {
  "kernelspec": {
   "display_name": "Python 3 (ipykernel)",
   "language": "python",
   "name": "python3"
  },
  "language_info": {
   "codemirror_mode": {
    "name": "ipython",
    "version": 3
   },
   "file_extension": ".py",
   "mimetype": "text/x-python",
   "name": "python",
   "nbconvert_exporter": "python",
   "pygments_lexer": "ipython3",
   "version": "3.9.12"
  }
 },
 "nbformat": 4,
 "nbformat_minor": 5
}
