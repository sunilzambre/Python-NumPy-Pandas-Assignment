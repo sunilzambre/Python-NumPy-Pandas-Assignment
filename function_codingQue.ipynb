{
 "cells": [
  {
   "cell_type": "code",
   "execution_count": 1,
   "id": "a170fb5d",
   "metadata": {},
   "outputs": [
    {
     "name": "stdout",
     "output_type": "stream",
     "text": [
      "Enter first string: new year\n",
      "Enter first string: car\n",
      "{'a', 'r'}\n"
     ]
    }
   ],
   "source": [
    "#find common letter between two string\n",
    "def com_let():\n",
    "    str1=input(\"Enter first string: \")\n",
    "    str2=input(\"Enter first string: \")\n",
    "    s1=set(str1)\n",
    "    s2=set(str2)\n",
    "    lst=s1 & s2\n",
    "    print(lst)\n",
    "com_let()"
   ]
  },
  {
   "cell_type": "code",
   "execution_count": 2,
   "id": "0f463ee4",
   "metadata": {},
   "outputs": [
    {
     "name": "stdout",
     "output_type": "stream",
     "text": [
      "Enter a string: india is my country.all indians are my brothers and sister.i love my country\n",
      "{'india': 1, 'is': 1, 'my': 3, 'country.all': 1, 'indians': 1, 'are': 1, 'brothers': 1, 'and': 1, 'sister.i': 1, 'love': 1, 'country': 1}\n"
     ]
    }
   ],
   "source": [
    "#count the frequency of words appearing in a string\n",
    "def freq_words():\n",
    "    str=input(\"Enter a string: \")\n",
    "    li=str.split()\n",
    "    d={}\n",
    "    \n",
    "    for i in li:\n",
    "        if i not in d.keys():\n",
    "            d[i]=0\n",
    "        d[i]=d[i]+1\n",
    "    print(d)\n",
    "freq_words()"
   ]
  },
  {
   "cell_type": "code",
   "execution_count": 3,
   "id": "3dc35e0a",
   "metadata": {},
   "outputs": [
    {
     "name": "stdout",
     "output_type": "stream",
     "text": [
      "{1: 'one', 2: 'two', 3: 'three', 4: 'four'}\n"
     ]
    }
   ],
   "source": [
    "#python program to convert two list into a dictionary\n",
    "def list_to_dict():\n",
    "    keys=[1,2,3,4]\n",
    "    values=[\"one\",\"two\",\"three\",\"four\"]\n",
    "    result=dict(zip(keys,values))\n",
    "    print(result)\n",
    "list_to_dict()"
   ]
  },
  {
   "cell_type": "code",
   "execution_count": 4,
   "id": "5662d513",
   "metadata": {},
   "outputs": [
    {
     "name": "stdout",
     "output_type": "stream",
     "text": [
      "(1, 'one')\n",
      "(2, 'two')\n",
      "(3, 'three')\n"
     ]
    }
   ],
   "source": [
    "#convert dictionary to tuple\n",
    "def dict_tuple():\n",
    "    x={1:'one',2:'two',3:'three'}\n",
    "    for i in x.items():\n",
    "        print(i)\n",
    "dict_tuple()"
   ]
  },
  {
   "cell_type": "code",
   "execution_count": 5,
   "id": "32cebdd8",
   "metadata": {},
   "outputs": [
    {
     "name": "stdout",
     "output_type": "stream",
     "text": [
      "4\n"
     ]
    }
   ],
   "source": [
    "#find missing number in an array by summation operation\n",
    "def get_msv(a):\n",
    "    n=a[-1]\n",
    "    total=n*(n+1)//2\n",
    "    sum1=0\n",
    "    sum1=sum(a)\n",
    "    print(total-sum1)\n",
    "a=[1,2,3,5,6,7]\n",
    "get_msv(a)"
   ]
  },
  {
   "cell_type": "code",
   "execution_count": 6,
   "id": "c675d039",
   "metadata": {},
   "outputs": [
    {
     "name": "stdout",
     "output_type": "stream",
     "text": [
      "ysae si nohtyp\n"
     ]
    }
   ],
   "source": [
    "#reverse words in a string\n",
    "def reverse(str_r):\n",
    "    str_r=str_r[::-1]\n",
    "    return str_r\n",
    "str_r=\"python is easy\"\n",
    "print(reverse(str_r))"
   ]
  }
 ],
 "metadata": {
  "kernelspec": {
   "display_name": "Python 3 (ipykernel)",
   "language": "python",
   "name": "python3"
  },
  "language_info": {
   "codemirror_mode": {
    "name": "ipython",
    "version": 3
   },
   "file_extension": ".py",
   "mimetype": "text/x-python",
   "name": "python",
   "nbconvert_exporter": "python",
   "pygments_lexer": "ipython3",
   "version": "3.9.12"
  }
 },
 "nbformat": 4,
 "nbformat_minor": 5
}
