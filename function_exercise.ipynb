{
 "cells": [
  {
   "cell_type": "code",
   "execution_count": 1,
   "id": "3c1f7893-37e6-405b-8476-324a0befe5f0",
   "metadata": {},
   "outputs": [],
   "source": [
    "## filter() function construct an iterator from elements of an iterable for which a function returns true.\n",
    "## it is used to filter out items from a list(or any other iterable) based on a condition.\n",
    "def even(num):\n",
    "    if num%2==0:\n",
    "        return True"
   ]
  },
  {
   "cell_type": "code",
   "execution_count": 2,
   "id": "0ad00a0c-5e63-4818-918d-6b2c3731ecb6",
   "metadata": {},
   "outputs": [
    {
     "data": {
      "text/plain": [
       "True"
      ]
     },
     "execution_count": 2,
     "metadata": {},
     "output_type": "execute_result"
    }
   ],
   "source": [
    "even(28)"
   ]
  },
  {
   "cell_type": "code",
   "execution_count": 3,
   "id": "5a541e47-3d9a-427f-bee4-4ad3e741f1a4",
   "metadata": {},
   "outputs": [
    {
     "data": {
      "text/plain": [
       "[2, 4, 6, 8, 10]"
      ]
     },
     "execution_count": 3,
     "metadata": {},
     "output_type": "execute_result"
    }
   ],
   "source": [
    "lst=[1,2,3,4,5,6,7,8,9,10]\n",
    "list(filter(even,lst))"
   ]
  },
  {
   "cell_type": "code",
   "execution_count": 4,
   "id": "904646b4-ae5f-4cf5-aac5-5f554ccba103",
   "metadata": {},
   "outputs": [
    {
     "name": "stdout",
     "output_type": "stream",
     "text": [
      "[7, 8, 9, 10]\n"
     ]
    }
   ],
   "source": [
    "## filter with lambda function \n",
    "num =[1,2,3,4,5,7,8,9,10]\n",
    "greater_than_five =list(filter(lambda x : x >5,num))\n",
    "print(greater_than_five)"
   ]
  },
  {
   "cell_type": "code",
   "execution_count": 5,
   "id": "4c926ed6-523a-4ccb-b0fa-856dbad653eb",
   "metadata": {},
   "outputs": [
    {
     "name": "stdout",
     "output_type": "stream",
     "text": [
      "[6, 8, 10]\n"
     ]
    }
   ],
   "source": [
    "## filter with lambda function and multiple conditions\n",
    "number=[1,2,3,4,5,6,7,8,9,10]\n",
    "even_greater_than_five=list(filter(lambda x : x >5 and x%2==0, number))\n",
    "print(even_greater_than_five)"
   ]
  },
  {
   "cell_type": "code",
   "execution_count": 6,
   "id": "6e77166b-992f-4677-8a80-8e6c52d0ee75",
   "metadata": {},
   "outputs": [
    {
     "data": {
      "text/plain": [
       "[{'name': 'sunil', 'age': 41}, {'name': 'rahul', 'age': 35}]"
      ]
     },
     "execution_count": 6,
     "metadata": {},
     "output_type": "execute_result"
    }
   ],
   "source": [
    "## filter to check if the age is greater than 25 in dictionaries\n",
    "people =[\n",
    "       {'name':'sunil','age':41},\n",
    "       {'name':'rahul','age':35},\n",
    "       {'name':'santosh','age':25}      \n",
    "       ]\n",
    "\n",
    "def age_greater_than_25(person):\n",
    "    return person['age'] > 25\n",
    "list(filter(age_greater_than_25,people))"
   ]
  },
  {
   "cell_type": "code",
   "execution_count": null,
   "id": "317b519c-3bad-4acb-a671-3d7a96fd66fa",
   "metadata": {},
   "outputs": [],
   "source": []
  }
 ],
 "metadata": {
  "kernelspec": {
   "display_name": "Python 3 (ipykernel)",
   "language": "python",
   "name": "python3"
  },
  "language_info": {
   "codemirror_mode": {
    "name": "ipython",
    "version": 3
   },
   "file_extension": ".py",
   "mimetype": "text/x-python",
   "name": "python",
   "nbconvert_exporter": "python",
   "pygments_lexer": "ipython3",
   "version": "3.12.7"
  }
 },
 "nbformat": 4,
 "nbformat_minor": 5
}
