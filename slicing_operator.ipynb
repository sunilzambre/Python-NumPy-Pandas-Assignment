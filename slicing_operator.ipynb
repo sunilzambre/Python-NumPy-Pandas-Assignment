{
 "cells": [
  {
   "cell_type": "code",
   "execution_count": 1,
   "id": "4b3e716a",
   "metadata": {},
   "outputs": [],
   "source": [
    "s = \"welcome\""
   ]
  },
  {
   "cell_type": "code",
   "execution_count": 2,
   "id": "e372483a",
   "metadata": {},
   "outputs": [
    {
     "name": "stdout",
     "output_type": "stream",
     "text": [
      "com\n"
     ]
    }
   ],
   "source": [
    "print(s[-4:-1])"
   ]
  },
  {
   "cell_type": "code",
   "execution_count": 3,
   "id": "384efa69",
   "metadata": {},
   "outputs": [
    {
     "name": "stdout",
     "output_type": "stream",
     "text": [
      "\n"
     ]
    }
   ],
   "source": [
    "print(s[-1:-4])"
   ]
  },
  {
   "cell_type": "code",
   "execution_count": 4,
   "id": "070c62fc",
   "metadata": {},
   "outputs": [],
   "source": [
    "a = \"My name is sunil\""
   ]
  },
  {
   "cell_type": "code",
   "execution_count": 5,
   "id": "404f3261",
   "metadata": {},
   "outputs": [
    {
     "data": {
      "text/plain": [
       "'My name is '"
      ]
     },
     "execution_count": 5,
     "metadata": {},
     "output_type": "execute_result"
    }
   ],
   "source": [
    "a[0:11]"
   ]
  },
  {
   "cell_type": "code",
   "execution_count": 6,
   "id": "055b7082",
   "metadata": {},
   "outputs": [
    {
     "data": {
      "text/plain": [
       "'My name is '"
      ]
     },
     "execution_count": 6,
     "metadata": {},
     "output_type": "execute_result"
    }
   ],
   "source": [
    "a[0:11]"
   ]
  },
  {
   "cell_type": "code",
   "execution_count": 7,
   "id": "596ad13c",
   "metadata": {},
   "outputs": [
    {
     "data": {
      "text/plain": [
       "'sunil'"
      ]
     },
     "execution_count": 7,
     "metadata": {},
     "output_type": "execute_result"
    }
   ],
   "source": [
    "a[11:16]"
   ]
  },
  {
   "cell_type": "code",
   "execution_count": 8,
   "id": "52a1b8b5",
   "metadata": {},
   "outputs": [
    {
     "data": {
      "text/plain": [
       "'sunil'"
      ]
     },
     "execution_count": 8,
     "metadata": {},
     "output_type": "execute_result"
    }
   ],
   "source": [
    "a[-5:]"
   ]
  },
  {
   "cell_type": "code",
   "execution_count": 9,
   "id": "7040575c",
   "metadata": {},
   "outputs": [
    {
     "data": {
      "text/plain": [
       "15"
      ]
     },
     "execution_count": 9,
     "metadata": {},
     "output_type": "execute_result"
    }
   ],
   "source": [
    "len(a)-1"
   ]
  },
  {
   "cell_type": "code",
   "execution_count": 10,
   "id": "1aa4d375",
   "metadata": {},
   "outputs": [
    {
     "data": {
      "text/plain": [
       "'M aei ui'"
      ]
     },
     "execution_count": 10,
     "metadata": {},
     "output_type": "execute_result"
    }
   ],
   "source": [
    "a[0:16:2]"
   ]
  },
  {
   "cell_type": "code",
   "execution_count": 11,
   "id": "290c8c2b",
   "metadata": {},
   "outputs": [],
   "source": [
    "word = \"sunilzambre\""
   ]
  },
  {
   "cell_type": "code",
   "execution_count": 12,
   "id": "525271b1",
   "metadata": {},
   "outputs": [
    {
     "data": {
      "text/plain": [
       "11"
      ]
     },
     "execution_count": 12,
     "metadata": {},
     "output_type": "execute_result"
    }
   ],
   "source": [
    "len(word)"
   ]
  },
  {
   "cell_type": "code",
   "execution_count": 13,
   "id": "a97a746c",
   "metadata": {},
   "outputs": [
    {
     "data": {
      "text/plain": [
       "'sunilzambre'"
      ]
     },
     "execution_count": 13,
     "metadata": {},
     "output_type": "execute_result"
    }
   ],
   "source": [
    "word[0:11]"
   ]
  },
  {
   "cell_type": "code",
   "execution_count": 14,
   "id": "162a59c9",
   "metadata": {},
   "outputs": [
    {
     "data": {
      "text/plain": [
       "'snlabe'"
      ]
     },
     "execution_count": 14,
     "metadata": {},
     "output_type": "execute_result"
    }
   ],
   "source": [
    "word[0:11:2]"
   ]
  },
  {
   "cell_type": "code",
   "execution_count": 15,
   "id": "d22c1e4e",
   "metadata": {},
   "outputs": [
    {
     "data": {
      "text/plain": [
       "'siar'"
      ]
     },
     "execution_count": 15,
     "metadata": {},
     "output_type": "execute_result"
    }
   ],
   "source": [
    "word[0:11:3]"
   ]
  },
  {
   "cell_type": "code",
   "execution_count": 16,
   "id": "5875809e",
   "metadata": {},
   "outputs": [
    {
     "data": {
      "text/plain": [
       "'sunilzambre'"
      ]
     },
     "execution_count": 16,
     "metadata": {},
     "output_type": "execute_result"
    }
   ],
   "source": [
    "word[0:11:1]"
   ]
  },
  {
   "cell_type": "code",
   "execution_count": 17,
   "id": "c916fe2b",
   "metadata": {},
   "outputs": [
    {
     "ename": "ValueError",
     "evalue": "slice step cannot be zero",
     "output_type": "error",
     "traceback": [
      "\u001b[1;31m---------------------------------------------------------------------------\u001b[0m",
      "\u001b[1;31mValueError\u001b[0m                                Traceback (most recent call last)",
      "Cell \u001b[1;32mIn[17], line 1\u001b[0m\n\u001b[1;32m----> 1\u001b[0m \u001b[43mword\u001b[49m\u001b[43m[\u001b[49m\u001b[38;5;241;43m0\u001b[39;49m\u001b[43m:\u001b[49m\u001b[38;5;241;43m11\u001b[39;49m\u001b[43m:\u001b[49m\u001b[38;5;241;43m0\u001b[39;49m\u001b[43m]\u001b[49m\n",
      "\u001b[1;31mValueError\u001b[0m: slice step cannot be zero"
     ]
    }
   ],
   "source": [
    "word[0:11:0]"
   ]
  },
  {
   "cell_type": "code",
   "execution_count": 18,
   "id": "46a7d076",
   "metadata": {},
   "outputs": [],
   "source": [
    "word = \"sunil\""
   ]
  },
  {
   "cell_type": "code",
   "execution_count": 19,
   "id": "414e73bf",
   "metadata": {},
   "outputs": [
    {
     "data": {
      "text/plain": [
       "''"
      ]
     },
     "execution_count": 19,
     "metadata": {},
     "output_type": "execute_result"
    }
   ],
   "source": [
    "word[-1:-4]"
   ]
  },
  {
   "cell_type": "code",
   "execution_count": 20,
   "id": "20b048cd",
   "metadata": {},
   "outputs": [
    {
     "data": {
      "text/plain": [
       "'uni'"
      ]
     },
     "execution_count": 20,
     "metadata": {},
     "output_type": "execute_result"
    }
   ],
   "source": [
    "word[-4:-1]"
   ]
  },
  {
   "cell_type": "code",
   "execution_count": 21,
   "id": "1363d201",
   "metadata": {},
   "outputs": [
    {
     "data": {
      "text/plain": [
       "'lin'"
      ]
     },
     "execution_count": 21,
     "metadata": {},
     "output_type": "execute_result"
    }
   ],
   "source": [
    "word[-1:-4:-1]"
   ]
  },
  {
   "cell_type": "code",
   "execution_count": 22,
   "id": "33accbbb",
   "metadata": {},
   "outputs": [],
   "source": [
    "slice_op=  \"SUNIL\""
   ]
  },
  {
   "cell_type": "code",
   "execution_count": 23,
   "id": "262e84cf",
   "metadata": {},
   "outputs": [
    {
     "data": {
      "text/plain": [
       "'LINUS'"
      ]
     },
     "execution_count": 23,
     "metadata": {},
     "output_type": "execute_result"
    }
   ],
   "source": [
    "slice_op[::-1]"
   ]
  },
  {
   "cell_type": "code",
   "execution_count": 24,
   "id": "03dc0f19",
   "metadata": {},
   "outputs": [],
   "source": [
    "a = \"we wre here for learning data science\""
   ]
  },
  {
   "cell_type": "code",
   "execution_count": 25,
   "id": "33693826",
   "metadata": {},
   "outputs": [
    {
     "data": {
      "text/plain": [
       "37"
      ]
     },
     "execution_count": 25,
     "metadata": {},
     "output_type": "execute_result"
    }
   ],
   "source": [
    "len(a)"
   ]
  },
  {
   "cell_type": "code",
   "execution_count": 29,
   "id": "5dfbd074",
   "metadata": {},
   "outputs": [],
   "source": [
    "a1='learning data science' #reverse"
   ]
  },
  {
   "cell_type": "code",
   "execution_count": 30,
   "id": "9a26b92a",
   "metadata": {},
   "outputs": [
    {
     "data": {
      "text/plain": [
       "'ecneics atad gninrael'"
      ]
     },
     "execution_count": 30,
     "metadata": {},
     "output_type": "execute_result"
    }
   ],
   "source": [
    "a1[::-1]"
   ]
  },
  {
   "cell_type": "code",
   "execution_count": 31,
   "id": "321ce1b4",
   "metadata": {},
   "outputs": [
    {
     "data": {
      "text/plain": [
       "'ics atad gninrael'"
      ]
     },
     "execution_count": 31,
     "metadata": {},
     "output_type": "execute_result"
    }
   ],
   "source": [
    "a1[16::-1]"
   ]
  },
  {
   "cell_type": "code",
   "execution_count": 32,
   "id": "b6e71581",
   "metadata": {},
   "outputs": [
    {
     "data": {
      "text/plain": [
       "''"
      ]
     },
     "execution_count": 32,
     "metadata": {},
     "output_type": "execute_result"
    }
   ],
   "source": [
    "a1[-1:21:-1]"
   ]
  },
  {
   "cell_type": "code",
   "execution_count": 33,
   "id": "bd9a80c6",
   "metadata": {},
   "outputs": [
    {
     "data": {
      "text/plain": [
       "'learning data scienc'"
      ]
     },
     "execution_count": 33,
     "metadata": {},
     "output_type": "execute_result"
    }
   ],
   "source": [
    "a1[-22:-1:1]"
   ]
  },
  {
   "cell_type": "code",
   "execution_count": 34,
   "id": "b689f12e",
   "metadata": {},
   "outputs": [
    {
     "data": {
      "text/plain": [
       "''"
      ]
     },
     "execution_count": 34,
     "metadata": {},
     "output_type": "execute_result"
    }
   ],
   "source": [
    "a1[37:15:1]"
   ]
  },
  {
   "cell_type": "code",
   "execution_count": 35,
   "id": "a1873217",
   "metadata": {},
   "outputs": [],
   "source": [
    "x = 14\n",
    "y = 10"
   ]
  },
  {
   "cell_type": "code",
   "execution_count": 36,
   "id": "4fdf55c5",
   "metadata": {},
   "outputs": [
    {
     "name": "stdout",
     "output_type": "stream",
     "text": [
      "24\n",
      "4\n",
      "140\n",
      "1.4\n"
     ]
    }
   ],
   "source": [
    "print(x + y)\n",
    "print(x - y)\n",
    "print(x * y)\n",
    "print(x/y)"
   ]
  },
  {
   "cell_type": "code",
   "execution_count": 37,
   "id": "b1336643",
   "metadata": {},
   "outputs": [
    {
     "name": "stdout",
     "output_type": "stream",
     "text": [
      "4\n"
     ]
    }
   ],
   "source": [
    "print(x%y) #It's used to get the remainder of a division problem"
   ]
  },
  {
   "cell_type": "code",
   "execution_count": 38,
   "id": "8bcfd66a",
   "metadata": {},
   "outputs": [
    {
     "name": "stdout",
     "output_type": "stream",
     "text": [
      "289254654976\n"
     ]
    }
   ],
   "source": [
    "print(x**y)"
   ]
  },
  {
   "cell_type": "code",
   "execution_count": 39,
   "id": "3a2f9a16",
   "metadata": {},
   "outputs": [
    {
     "name": "stdout",
     "output_type": "stream",
     "text": [
      "1\n"
     ]
    }
   ],
   "source": [
    "print(x//y) #the floor division // rounds the result down to the nearest whole number"
   ]
  },
  {
   "cell_type": "code",
   "execution_count": 40,
   "id": "5ed16e92",
   "metadata": {},
   "outputs": [],
   "source": [
    "x = 14\n",
    "z = 23"
   ]
  },
  {
   "cell_type": "code",
   "execution_count": 41,
   "id": "61d540c6",
   "metadata": {},
   "outputs": [
    {
     "name": "stdout",
     "output_type": "stream",
     "text": [
      "1\n"
     ]
    }
   ],
   "source": [
    "print(x//y)"
   ]
  },
  {
   "cell_type": "code",
   "execution_count": 42,
   "id": "bef70662",
   "metadata": {},
   "outputs": [],
   "source": [
    "a=10\n",
    "b=4"
   ]
  },
  {
   "cell_type": "code",
   "execution_count": 43,
   "id": "f138ca25",
   "metadata": {},
   "outputs": [
    {
     "name": "stdout",
     "output_type": "stream",
     "text": [
      "a= 10 b= 4\n"
     ]
    }
   ],
   "source": [
    "print(\"a=\",a,\"b=\",b)"
   ]
  },
  {
   "cell_type": "code",
   "execution_count": 44,
   "id": "b4991bda",
   "metadata": {},
   "outputs": [
    {
     "name": "stdout",
     "output_type": "stream",
     "text": [
      "a > b True\n"
     ]
    }
   ],
   "source": [
    "print(\"a > b\",a>b)"
   ]
  },
  {
   "cell_type": "code",
   "execution_count": 45,
   "id": "17de084b",
   "metadata": {},
   "outputs": [
    {
     "name": "stdout",
     "output_type": "stream",
     "text": [
      "a < b False\n"
     ]
    }
   ],
   "source": [
    "print(\"a < b\",a<b)"
   ]
  },
  {
   "cell_type": "code",
   "execution_count": 46,
   "id": "eb4faa62",
   "metadata": {},
   "outputs": [
    {
     "name": "stdout",
     "output_type": "stream",
     "text": [
      "a==b False\n"
     ]
    }
   ],
   "source": [
    "print(\"a==b\",a==b)"
   ]
  },
  {
   "cell_type": "code",
   "execution_count": 47,
   "id": "54fb0df0",
   "metadata": {},
   "outputs": [
    {
     "name": "stdout",
     "output_type": "stream",
     "text": [
      "a!=b True\n"
     ]
    }
   ],
   "source": [
    "print(\"a!=b\",a!=b)"
   ]
  },
  {
   "cell_type": "code",
   "execution_count": 48,
   "id": "9e6f0b44",
   "metadata": {},
   "outputs": [
    {
     "name": "stdout",
     "output_type": "stream",
     "text": [
      "a>=b True\n"
     ]
    }
   ],
   "source": [
    "print(\"a>=b\",a>=b)"
   ]
  },
  {
   "cell_type": "code",
   "execution_count": 49,
   "id": "1fb4bb1f",
   "metadata": {},
   "outputs": [
    {
     "name": "stdout",
     "output_type": "stream",
     "text": [
      "a<=b False\n"
     ]
    }
   ],
   "source": [
    "print(\"a<=b\",a<=b)"
   ]
  },
  {
   "cell_type": "code",
   "execution_count": 50,
   "id": "70b1f5c7",
   "metadata": {},
   "outputs": [],
   "source": [
    "a=\"s\""
   ]
  },
  {
   "cell_type": "code",
   "execution_count": 51,
   "id": "eb8789ea",
   "metadata": {},
   "outputs": [
    {
     "data": {
      "text/plain": [
       "115"
      ]
     },
     "execution_count": 51,
     "metadata": {},
     "output_type": "execute_result"
    }
   ],
   "source": [
    "ord(a)"
   ]
  },
  {
   "cell_type": "code",
   "execution_count": 52,
   "id": "e8b25d1c",
   "metadata": {},
   "outputs": [
    {
     "data": {
      "text/plain": [
       "83"
      ]
     },
     "execution_count": 52,
     "metadata": {},
     "output_type": "execute_result"
    }
   ],
   "source": [
    "ord(\"S\")"
   ]
  },
  {
   "cell_type": "code",
   "execution_count": 53,
   "id": "b1b321ab",
   "metadata": {},
   "outputs": [
    {
     "data": {
      "text/plain": [
       "97"
      ]
     },
     "execution_count": 53,
     "metadata": {},
     "output_type": "execute_result"
    }
   ],
   "source": [
    "ord(\"a\")"
   ]
  },
  {
   "cell_type": "code",
   "execution_count": 54,
   "id": "d914a9c8",
   "metadata": {},
   "outputs": [
    {
     "data": {
      "text/plain": [
       "True"
      ]
     },
     "execution_count": 54,
     "metadata": {},
     "output_type": "execute_result"
    }
   ],
   "source": [
    "6>5"
   ]
  },
  {
   "cell_type": "code",
   "execution_count": 55,
   "id": "bd86b543",
   "metadata": {},
   "outputs": [
    {
     "data": {
      "text/plain": [
       "False"
      ]
     },
     "execution_count": 55,
     "metadata": {},
     "output_type": "execute_result"
    }
   ],
   "source": [
    "-1>True"
   ]
  },
  {
   "cell_type": "code",
   "execution_count": 56,
   "id": "b9358e14",
   "metadata": {},
   "outputs": [
    {
     "name": "stdout",
     "output_type": "stream",
     "text": [
      "False\n"
     ]
    }
   ],
   "source": [
    "print(-1>6>5)"
   ]
  },
  {
   "cell_type": "code",
   "execution_count": 57,
   "id": "06032c7c",
   "metadata": {},
   "outputs": [
    {
     "data": {
      "text/plain": [
       "False"
      ]
     },
     "execution_count": 57,
     "metadata": {},
     "output_type": "execute_result"
    }
   ],
   "source": [
    "True and False"
   ]
  },
  {
   "cell_type": "code",
   "execution_count": 58,
   "id": "844e091b",
   "metadata": {},
   "outputs": [
    {
     "data": {
      "text/plain": [
       "True"
      ]
     },
     "execution_count": 58,
     "metadata": {},
     "output_type": "execute_result"
    }
   ],
   "source": [
    "True and True"
   ]
  },
  {
   "cell_type": "code",
   "execution_count": 59,
   "id": "c1fb19b9",
   "metadata": {},
   "outputs": [],
   "source": [
    "x=y=z=10"
   ]
  },
  {
   "cell_type": "code",
   "execution_count": 60,
   "id": "f08ee8f4",
   "metadata": {},
   "outputs": [
    {
     "data": {
      "text/plain": [
       "10"
      ]
     },
     "execution_count": 60,
     "metadata": {},
     "output_type": "execute_result"
    }
   ],
   "source": [
    "z"
   ]
  },
  {
   "cell_type": "code",
   "execution_count": 61,
   "id": "709447ae",
   "metadata": {},
   "outputs": [
    {
     "data": {
      "text/plain": [
       "10"
      ]
     },
     "execution_count": 61,
     "metadata": {},
     "output_type": "execute_result"
    }
   ],
   "source": [
    "x"
   ]
  },
  {
   "cell_type": "code",
   "execution_count": 62,
   "id": "3a5296c0",
   "metadata": {},
   "outputs": [
    {
     "data": {
      "text/plain": [
       "10"
      ]
     },
     "execution_count": 62,
     "metadata": {},
     "output_type": "execute_result"
    }
   ],
   "source": [
    "y"
   ]
  },
  {
   "cell_type": "code",
   "execution_count": 63,
   "id": "b05228b8",
   "metadata": {},
   "outputs": [],
   "source": [
    "x,y,z=10,20,30"
   ]
  },
  {
   "cell_type": "code",
   "execution_count": 64,
   "id": "398b67a0",
   "metadata": {},
   "outputs": [
    {
     "data": {
      "text/plain": [
       "10"
      ]
     },
     "execution_count": 64,
     "metadata": {},
     "output_type": "execute_result"
    }
   ],
   "source": [
    "x"
   ]
  },
  {
   "cell_type": "code",
   "execution_count": 65,
   "id": "cada6aa1",
   "metadata": {},
   "outputs": [
    {
     "data": {
      "text/plain": [
       "20"
      ]
     },
     "execution_count": 65,
     "metadata": {},
     "output_type": "execute_result"
    }
   ],
   "source": [
    "y"
   ]
  },
  {
   "cell_type": "code",
   "execution_count": 66,
   "id": "4551f2e2",
   "metadata": {},
   "outputs": [
    {
     "data": {
      "text/plain": [
       "30"
      ]
     },
     "execution_count": 66,
     "metadata": {},
     "output_type": "execute_result"
    }
   ],
   "source": [
    "z"
   ]
  },
  {
   "cell_type": "code",
   "execution_count": 67,
   "id": "b51211f1",
   "metadata": {},
   "outputs": [],
   "source": [
    "X=50"
   ]
  },
  {
   "cell_type": "code",
   "execution_count": 68,
   "id": "061f3856",
   "metadata": {},
   "outputs": [
    {
     "data": {
      "text/plain": [
       "60"
      ]
     },
     "execution_count": 68,
     "metadata": {},
     "output_type": "execute_result"
    }
   ],
   "source": [
    "X+10"
   ]
  },
  {
   "cell_type": "code",
   "execution_count": 69,
   "id": "92bbe2a2",
   "metadata": {},
   "outputs": [
    {
     "data": {
      "text/plain": [
       "100"
      ]
     },
     "execution_count": 69,
     "metadata": {},
     "output_type": "execute_result"
    }
   ],
   "source": [
    "X+X"
   ]
  },
  {
   "cell_type": "code",
   "execution_count": 70,
   "id": "743ff535",
   "metadata": {},
   "outputs": [],
   "source": [
    "X=X+1"
   ]
  },
  {
   "cell_type": "code",
   "execution_count": 71,
   "id": "83d250f1",
   "metadata": {},
   "outputs": [
    {
     "data": {
      "text/plain": [
       "51"
      ]
     },
     "execution_count": 71,
     "metadata": {},
     "output_type": "execute_result"
    }
   ],
   "source": [
    "X"
   ]
  },
  {
   "cell_type": "code",
   "execution_count": 72,
   "id": "3324f1db",
   "metadata": {},
   "outputs": [],
   "source": [
    "X+=1# X=X+1"
   ]
  },
  {
   "cell_type": "code",
   "execution_count": 73,
   "id": "73ac1c3a",
   "metadata": {},
   "outputs": [
    {
     "data": {
      "text/plain": [
       "52"
      ]
     },
     "execution_count": 73,
     "metadata": {},
     "output_type": "execute_result"
    }
   ],
   "source": [
    "X"
   ]
  },
  {
   "cell_type": "code",
   "execution_count": 74,
   "id": "cc04dbe7",
   "metadata": {},
   "outputs": [],
   "source": [
    "X=X^5"
   ]
  },
  {
   "cell_type": "code",
   "execution_count": 75,
   "id": "326426fd",
   "metadata": {},
   "outputs": [
    {
     "data": {
      "text/plain": [
       "49"
      ]
     },
     "execution_count": 75,
     "metadata": {},
     "output_type": "execute_result"
    }
   ],
   "source": [
    "X"
   ]
  },
  {
   "cell_type": "code",
   "execution_count": 76,
   "id": "7d034a6b",
   "metadata": {},
   "outputs": [],
   "source": [
    "X=10"
   ]
  },
  {
   "cell_type": "code",
   "execution_count": 77,
   "id": "317054af",
   "metadata": {},
   "outputs": [],
   "source": [
    "X=X**5"
   ]
  },
  {
   "cell_type": "code",
   "execution_count": 78,
   "id": "98625b1f",
   "metadata": {},
   "outputs": [
    {
     "data": {
      "text/plain": [
       "100000"
      ]
     },
     "execution_count": 78,
     "metadata": {},
     "output_type": "execute_result"
    }
   ],
   "source": [
    "X"
   ]
  },
  {
   "cell_type": "code",
   "execution_count": 79,
   "id": "8f806113",
   "metadata": {},
   "outputs": [],
   "source": [
    "a=10"
   ]
  },
  {
   "cell_type": "code",
   "execution_count": 80,
   "id": "677a7ac7",
   "metadata": {},
   "outputs": [],
   "source": [
    "b=20"
   ]
  },
  {
   "cell_type": "code",
   "execution_count": 81,
   "id": "563bc942",
   "metadata": {},
   "outputs": [
    {
     "data": {
      "text/plain": [
       "1957825112976"
      ]
     },
     "execution_count": 81,
     "metadata": {},
     "output_type": "execute_result"
    }
   ],
   "source": [
    "id(b)"
   ]
  },
  {
   "cell_type": "code",
   "execution_count": 82,
   "id": "ab0a3d94",
   "metadata": {},
   "outputs": [
    {
     "data": {
      "text/plain": [
       "False"
      ]
     },
     "execution_count": 82,
     "metadata": {},
     "output_type": "execute_result"
    }
   ],
   "source": [
    "a is b"
   ]
  },
  {
   "cell_type": "code",
   "execution_count": 83,
   "id": "73ed4eec",
   "metadata": {},
   "outputs": [
    {
     "data": {
      "text/plain": [
       "True"
      ]
     },
     "execution_count": 83,
     "metadata": {},
     "output_type": "execute_result"
    }
   ],
   "source": [
    "a is not b"
   ]
  },
  {
   "cell_type": "code",
   "execution_count": 86,
   "id": "ac5e1736",
   "metadata": {},
   "outputs": [],
   "source": [
    "X = 50"
   ]
  },
  {
   "cell_type": "code",
   "execution_count": 87,
   "id": "99bf3df2",
   "metadata": {},
   "outputs": [],
   "source": [
    "Y = 50"
   ]
  },
  {
   "cell_type": "code",
   "execution_count": 88,
   "id": "d8f1f856",
   "metadata": {},
   "outputs": [
    {
     "data": {
      "text/plain": [
       "True"
      ]
     },
     "execution_count": 88,
     "metadata": {},
     "output_type": "execute_result"
    }
   ],
   "source": [
    "X is Y"
   ]
  },
  {
   "cell_type": "code",
   "execution_count": 89,
   "id": "cf4b19c2",
   "metadata": {},
   "outputs": [
    {
     "data": {
      "text/plain": [
       "1957825113936"
      ]
     },
     "execution_count": 89,
     "metadata": {},
     "output_type": "execute_result"
    }
   ],
   "source": [
    "id(X)"
   ]
  },
  {
   "cell_type": "code",
   "execution_count": 90,
   "id": "c2b95c31",
   "metadata": {},
   "outputs": [
    {
     "data": {
      "text/plain": [
       "1957825113936"
      ]
     },
     "execution_count": 90,
     "metadata": {},
     "output_type": "execute_result"
    }
   ],
   "source": [
    "id(Y)"
   ]
  },
  {
   "cell_type": "code",
   "execution_count": 91,
   "id": "02caaab7",
   "metadata": {},
   "outputs": [],
   "source": [
    "X = 5.9"
   ]
  },
  {
   "cell_type": "code",
   "execution_count": 92,
   "id": "489b2710",
   "metadata": {},
   "outputs": [
    {
     "data": {
      "text/plain": [
       "1957909444784"
      ]
     },
     "execution_count": 92,
     "metadata": {},
     "output_type": "execute_result"
    }
   ],
   "source": [
    "id(X)"
   ]
  },
  {
   "cell_type": "code",
   "execution_count": 93,
   "id": "9d754db1",
   "metadata": {},
   "outputs": [],
   "source": [
    "Y = 5.9 "
   ]
  },
  {
   "cell_type": "code",
   "execution_count": 94,
   "id": "db5813f4",
   "metadata": {},
   "outputs": [
    {
     "data": {
      "text/plain": [
       "1957937597360"
      ]
     },
     "execution_count": 94,
     "metadata": {},
     "output_type": "execute_result"
    }
   ],
   "source": [
    "id(Y)"
   ]
  },
  {
   "cell_type": "code",
   "execution_count": 95,
   "id": "12ff305c",
   "metadata": {},
   "outputs": [
    {
     "data": {
      "text/plain": [
       "False"
      ]
     },
     "execution_count": 95,
     "metadata": {},
     "output_type": "execute_result"
    }
   ],
   "source": [
    "X is Y"
   ]
  },
  {
   "cell_type": "code",
   "execution_count": 96,
   "id": "44a325cb",
   "metadata": {},
   "outputs": [],
   "source": [
    "a = \"sunil\""
   ]
  },
  {
   "cell_type": "code",
   "execution_count": 98,
   "id": "b0d6b610",
   "metadata": {},
   "outputs": [
    {
     "data": {
      "text/plain": [
       "False"
      ]
     },
     "execution_count": 98,
     "metadata": {},
     "output_type": "execute_result"
    }
   ],
   "source": [
    "\"s\" not in \"sunil\""
   ]
  },
  {
   "cell_type": "code",
   "execution_count": 99,
   "id": "95b6a745",
   "metadata": {},
   "outputs": [
    {
     "data": {
      "text/plain": [
       "True"
      ]
     },
     "execution_count": 99,
     "metadata": {},
     "output_type": "execute_result"
    }
   ],
   "source": [
    "\"s\" in \"sunil\""
   ]
  },
  {
   "cell_type": "code",
   "execution_count": 100,
   "id": "eaae4113",
   "metadata": {},
   "outputs": [
    {
     "data": {
      "text/plain": [
       "False"
      ]
     },
     "execution_count": 100,
     "metadata": {},
     "output_type": "execute_result"
    }
   ],
   "source": [
    "\"u\" not in \"sunil\""
   ]
  },
  {
   "cell_type": "code",
   "execution_count": 102,
   "id": "fe61b938",
   "metadata": {},
   "outputs": [
    {
     "name": "stdout",
     "output_type": "stream",
     "text": [
      "enter name: sunil\n",
      "enter age: 39\n",
      "name is : sunil and year : 2084\n"
     ]
    }
   ],
   "source": [
    "a = str(input(\"enter name: \"))\n",
    "b = int(input(\"enter age: \"))\n",
    "c = (2023-b)+ 100\n",
    "print(\"name is :\", a,\"and year :\", c)"
   ]
  },
  {
   "cell_type": "code",
   "execution_count": 103,
   "id": "210e2d3d",
   "metadata": {},
   "outputs": [
    {
     "name": "stdout",
     "output_type": "stream",
     "text": [
      "Enter your namesunil\n",
      "Enter your age39\n",
      "sunil 2083\n"
     ]
    }
   ],
   "source": [
    "name = input(\"Enter your name\")\n",
    "age = int(input(\"Enter your age\"))\n",
    "numberOfYearNeed = 100 - age\n",
    "currentYear = 2022\n",
    "YearNeeded = currentYear + numberOfYearNeed\n",
    "\n",
    "print(name, YearNeeded)"
   ]
  },
  {
   "cell_type": "code",
   "execution_count": 104,
   "id": "bea9d2ef",
   "metadata": {},
   "outputs": [
    {
     "name": "stdout",
     "output_type": "stream",
     "text": [
      "Enter your namesunil\n",
      "Enter your age39\n",
      "sunil\n",
      "2083\n"
     ]
    }
   ],
   "source": [
    "name=input(\"Enter your name\")\n",
    "age=int(input(\"Enter your age\"))\n",
    "Birthyear=int(2022-age)\n",
    "thyear=Birthyear+100\n",
    "print(name)\n",
    "print(thyear)"
   ]
  },
  {
   "cell_type": "markdown",
   "id": "c1a0b45e",
   "metadata": {},
   "source": [
    "### Write a Python program which accepts the user's first and last name and print them in reverse order with a space between them"
   ]
  },
  {
   "cell_type": "code",
   "execution_count": 105,
   "id": "2c51823e",
   "metadata": {},
   "outputs": [
    {
     "name": "stdout",
     "output_type": "stream",
     "text": [
      "Input your First Name : sunil\n",
      "Input your Last Name : zambare\n",
      "Hello zambare sunil\n"
     ]
    }
   ],
   "source": [
    "fname = input(\"Input your First Name : \") \n",
    "lname = input(\"Input your Last Name : \") \n",
    "print (\"Hello \" + lname + \" \" + fname)"
   ]
  },
  {
   "cell_type": "code",
   "execution_count": 106,
   "id": "9f042555",
   "metadata": {},
   "outputs": [
    {
     "name": "stdout",
     "output_type": "stream",
     "text": [
      "enter the first name: sunil\n",
      "enter the last name :zambare\n",
      "erabmaz linus\n"
     ]
    }
   ],
   "source": [
    "first_name = input(\"enter the first name: \")\n",
    "last_name = input(\"enter the last name :\")\n",
    "\n",
    "rev1 = first_name[::-1]\n",
    "rev2 = last_name[::-1]\n",
    "\n",
    "print(f\"{rev2} {rev1}\")"
   ]
  },
  {
   "cell_type": "code",
   "execution_count": 107,
   "id": "2f6420e5",
   "metadata": {},
   "outputs": [
    {
     "name": "stdout",
     "output_type": "stream",
     "text": [
      "Enter First Namesunil\n",
      "Enter Last Namezambare\n"
     ]
    },
    {
     "data": {
      "text/plain": [
       "'erabmaz linus'"
      ]
     },
     "execution_count": 107,
     "metadata": {},
     "output_type": "execute_result"
    }
   ],
   "source": [
    "a=input('Enter First Name')\n",
    "b=input('Enter Last Name')\n",
    "c=a+' '+b\n",
    "c[::-1]"
   ]
  },
  {
   "cell_type": "code",
   "execution_count": 108,
   "id": "a35df579",
   "metadata": {},
   "outputs": [
    {
     "name": "stdout",
     "output_type": "stream",
     "text": [
      "enter first namesunil\n",
      "enter last namezambare\n",
      "erabmaz linus\n"
     ]
    }
   ],
   "source": [
    "a = input(\"enter first name\")\n",
    "b = input(\"enter last name\")\n",
    "print(b[::-1]+\" \"+a[::-1])"
   ]
  },
  {
   "cell_type": "code",
   "execution_count": 109,
   "id": "2ceb8d32",
   "metadata": {},
   "outputs": [
    {
     "name": "stdout",
     "output_type": "stream",
     "text": [
      "enter fname:-sunil\n",
      "Enter lname:-zambare\n"
     ]
    },
    {
     "ename": "AttributeError",
     "evalue": "'str' object has no attribute 'reverse'",
     "output_type": "error",
     "traceback": [
      "\u001b[1;31m---------------------------------------------------------------------------\u001b[0m",
      "\u001b[1;31mAttributeError\u001b[0m                            Traceback (most recent call last)",
      "Cell \u001b[1;32mIn[109], line 4\u001b[0m\n\u001b[0;32m      1\u001b[0m fname\u001b[38;5;241m=\u001b[39m \u001b[38;5;28minput\u001b[39m(\u001b[38;5;124m\"\u001b[39m\u001b[38;5;124menter fname:-\u001b[39m\u001b[38;5;124m\"\u001b[39m)\n\u001b[0;32m      2\u001b[0m lname\u001b[38;5;241m=\u001b[39m \u001b[38;5;28minput\u001b[39m(\u001b[38;5;124m\"\u001b[39m\u001b[38;5;124mEnter lname:-\u001b[39m\u001b[38;5;124m\"\u001b[39m)\n\u001b[1;32m----> 4\u001b[0m rev_fname\u001b[38;5;241m=\u001b[39m \u001b[43mfname\u001b[49m\u001b[38;5;241;43m.\u001b[39;49m\u001b[43mreverse\u001b[49m\n\u001b[0;32m      5\u001b[0m rev_lname\u001b[38;5;241m=\u001b[39mlname\u001b[38;5;241m.\u001b[39mreverse\n\u001b[0;32m      7\u001b[0m fullname\u001b[38;5;241m=\u001b[39m rev_fname \u001b[38;5;241m+\u001b[39m\u001b[38;5;124m'\u001b[39m\u001b[38;5;124m \u001b[39m\u001b[38;5;124m'\u001b[39m\u001b[38;5;241m+\u001b[39m rev_lname\n",
      "\u001b[1;31mAttributeError\u001b[0m: 'str' object has no attribute 'reverse'"
     ]
    }
   ],
   "source": [
    "fname= input(\"enter fname:-\")\n",
    "lname= input(\"Enter lname:-\")\n",
    "\n",
    "rev_fname= fname.reverse\n",
    "rev_lname=lname.reverse\n",
    "\n",
    "fullname= rev_fname +' '+ rev_lname\n",
    "print(fullname)"
   ]
  },
  {
   "cell_type": "code",
   "execution_count": 110,
   "id": "47cd53f9",
   "metadata": {},
   "outputs": [
    {
     "name": "stdout",
     "output_type": "stream",
     "text": [
      "enter fname:-sunil\n",
      "Enter lname:-zambare\n"
     ]
    },
    {
     "ename": "NameError",
     "evalue": "name 'reverse' is not defined",
     "output_type": "error",
     "traceback": [
      "\u001b[1;31m---------------------------------------------------------------------------\u001b[0m",
      "\u001b[1;31mNameError\u001b[0m                                 Traceback (most recent call last)",
      "Cell \u001b[1;32mIn[110], line 4\u001b[0m\n\u001b[0;32m      1\u001b[0m fname\u001b[38;5;241m=\u001b[39m \u001b[38;5;28minput\u001b[39m(\u001b[38;5;124m\"\u001b[39m\u001b[38;5;124menter fname:-\u001b[39m\u001b[38;5;124m\"\u001b[39m)\n\u001b[0;32m      2\u001b[0m lname\u001b[38;5;241m=\u001b[39m \u001b[38;5;28minput\u001b[39m(\u001b[38;5;124m\"\u001b[39m\u001b[38;5;124mEnter lname:-\u001b[39m\u001b[38;5;124m\"\u001b[39m)\n\u001b[1;32m----> 4\u001b[0m rev_fname\u001b[38;5;241m=\u001b[39m \u001b[43mreverse\u001b[49m(fname)\n\u001b[0;32m      5\u001b[0m rev_lname\u001b[38;5;241m=\u001b[39mreverse(lname)\n\u001b[0;32m      7\u001b[0m fullname\u001b[38;5;241m=\u001b[39m rev_fname \u001b[38;5;241m+\u001b[39m\u001b[38;5;124m'\u001b[39m\u001b[38;5;124m \u001b[39m\u001b[38;5;124m'\u001b[39m\u001b[38;5;241m+\u001b[39m rev_lname\n",
      "\u001b[1;31mNameError\u001b[0m: name 'reverse' is not defined"
     ]
    }
   ],
   "source": [
    "fname= input(\"enter fname:-\")\n",
    "lname= input(\"Enter lname:-\")\n",
    "\n",
    "rev_fname= reverse(fname)\n",
    "rev_lname=reverse(lname)\n",
    "\n",
    "fullname= rev_fname +' '+ rev_lname\n",
    "print(fullname)"
   ]
  },
  {
   "cell_type": "code",
   "execution_count": 111,
   "id": "91bd925e",
   "metadata": {},
   "outputs": [],
   "source": [
    "a = \"sunil zambare\""
   ]
  },
  {
   "cell_type": "code",
   "execution_count": 112,
   "id": "bea6bab7",
   "metadata": {},
   "outputs": [
    {
     "data": {
      "text/plain": [
       "'erabmaz linus'"
      ]
     },
     "execution_count": 112,
     "metadata": {},
     "output_type": "execute_result"
    }
   ],
   "source": [
    "\"\".join(list(reversed(a)))"
   ]
  },
  {
   "cell_type": "code",
   "execution_count": 114,
   "id": "19c9ee2f",
   "metadata": {},
   "outputs": [],
   "source": [
    "my_age= 39\n",
    "current_year=2023"
   ]
  },
  {
   "cell_type": "code",
   "execution_count": 115,
   "id": "4e3a0693",
   "metadata": {},
   "outputs": [],
   "source": [
    "birth_year=2023- 39"
   ]
  },
  {
   "cell_type": "code",
   "execution_count": 116,
   "id": "18cd394c",
   "metadata": {},
   "outputs": [
    {
     "data": {
      "text/plain": [
       "1984"
      ]
     },
     "execution_count": 116,
     "metadata": {},
     "output_type": "execute_result"
    }
   ],
   "source": [
    "birth_year"
   ]
  },
  {
   "cell_type": "code",
   "execution_count": 117,
   "id": "209ff250",
   "metadata": {},
   "outputs": [],
   "source": [
    "year=birth_year+100"
   ]
  },
  {
   "cell_type": "code",
   "execution_count": 118,
   "id": "7073585c",
   "metadata": {},
   "outputs": [
    {
     "data": {
      "text/plain": [
       "2084"
      ]
     },
     "execution_count": 118,
     "metadata": {},
     "output_type": "execute_result"
    }
   ],
   "source": [
    "year"
   ]
  },
  {
   "cell_type": "code",
   "execution_count": 119,
   "id": "72830a15",
   "metadata": {},
   "outputs": [],
   "source": [
    "word = \"sunil\""
   ]
  },
  {
   "cell_type": "code",
   "execution_count": 120,
   "id": "4d31a203",
   "metadata": {},
   "outputs": [
    {
     "data": {
      "text/plain": [
       "'linus'"
      ]
     },
     "execution_count": 120,
     "metadata": {},
     "output_type": "execute_result"
    }
   ],
   "source": [
    "\"linus\""
   ]
  },
  {
   "cell_type": "code",
   "execution_count": 121,
   "id": "31855318",
   "metadata": {},
   "outputs": [
    {
     "data": {
      "text/plain": [
       "'linus'"
      ]
     },
     "execution_count": 121,
     "metadata": {},
     "output_type": "execute_result"
    }
   ],
   "source": [
    "word[::-1]"
   ]
  },
  {
   "cell_type": "code",
   "execution_count": 122,
   "id": "75af44f4",
   "metadata": {},
   "outputs": [
    {
     "name": "stdout",
     "output_type": "stream",
     "text": [
      "enter your first namesunil\n",
      "enter your last namezambre\n",
      "erbmaz linus\n"
     ]
    }
   ],
   "source": [
    "a=str(input(\"enter your first name\"))\n",
    "b=str(input(\"enter your last name\"))\n",
    "print( b[-1::-1] ,a[-1::-1])"
   ]
  }
 ],
 "metadata": {
  "kernelspec": {
   "display_name": "Python 3 (ipykernel)",
   "language": "python",
   "name": "python3"
  },
  "language_info": {
   "codemirror_mode": {
    "name": "ipython",
    "version": 3
   },
   "file_extension": ".py",
   "mimetype": "text/x-python",
   "name": "python",
   "nbconvert_exporter": "python",
   "pygments_lexer": "ipython3",
   "version": "3.9.12"
  }
 },
 "nbformat": 4,
 "nbformat_minor": 5
}
